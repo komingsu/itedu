{
 "cells": [
  {
   "cell_type": "markdown",
   "metadata": {
    "id": "nLnUQASYQKZc"
   },
   "source": [
    "#  Wave Net\n",
    "\n",
    "\n",
    "- `학습 내용`\n",
    "    - Audio data에 대해 이해한다.\n",
    "    - 머신러닝 방법으로 접근하여 문제를 해결해 본다.\n",
    "    - 딥러닝 네트워크를 이용해 문제를 해결한다.\n",
    "    - waveNet, yamNet 등 딥러닝 알고리즘을 적용한다.\n"
   ]
  },
  {
   "cell_type": "code",
   "execution_count": 41,
   "metadata": {
    "ExecuteTime": {
     "end_time": "2022-08-25T07:18:56.179058Z",
     "start_time": "2022-08-25T07:18:56.074981Z"
    },
    "id": "mBluYfrhYyi5"
   },
   "outputs": [],
   "source": [
    "import os\n",
    "import tqdm\n",
    "import shutil\n",
    "import zipfile\n",
    "import kaggle\n",
    "\n",
    "import numpy as np\n",
    "import pandas as pd\n",
    "\n",
    "import seaborn as sns\n",
    "from termcolor import colored\n",
    "import set_matplotlib_hangul\n",
    "import matplotlib.pyplot as plt\n",
    "\n",
    "import tensorflow as tf\n",
    "from tensorflow import keras\n",
    "from keras.layers import Dense\n",
    "import tensorflow_addons as tfa\n",
    "from keras.models import Sequential\n",
    "\n",
    "from pycaret.classification import *\n",
    "from xgboost import XGBRFClassifier\n",
    "\n",
    "from sklearn import preprocessing\n",
    "from sklearn.model_selection import train_test_split as tts\n",
    "from sklearn.metrics import confusion_matrix, accuracy_score, classification_report"
   ]
  },
  {
   "cell_type": "markdown",
   "metadata": {},
   "source": [
    "# 준비"
   ]
  },
  {
   "cell_type": "markdown",
   "metadata": {
    "id": "hxIvHXTQQ2gq"
   },
   "source": [
    "## 데이터셋 - Kaggle GTZAN Dataset \n",
    "---\n",
    "\n",
    "https://www.kaggle.com/datasets/andradaolteanu/gtzan-dataset-music-genre-classification\n",
    "\n"
   ]
  },
  {
   "cell_type": "markdown",
   "metadata": {},
   "source": [
    "* api 파일을 받아옴 (.json)\n",
    "* user 의 .kaggle 폴더에 넣음"
   ]
  },
  {
   "cell_type": "markdown",
   "metadata": {},
   "source": [
    "### 데이터셋 다운로드"
   ]
  },
  {
   "cell_type": "code",
   "execution_count": 61,
   "metadata": {
    "ExecuteTime": {
     "end_time": "2022-08-25T07:25:24.006605Z",
     "start_time": "2022-08-25T07:25:23.986520Z"
    },
    "id": "-aL8n9q0LfCB"
   },
   "outputs": [],
   "source": [
    "# ! kaggle datasets download andradaolteanu/gtzan-dataset-music-genre-classification -"
   ]
  },
  {
   "cell_type": "markdown",
   "metadata": {},
   "source": [
    "### 데이터 폴더로 이동"
   ]
  },
  {
   "cell_type": "code",
   "execution_count": 62,
   "metadata": {
    "ExecuteTime": {
     "end_time": "2022-08-25T07:25:26.614968Z",
     "start_time": "2022-08-25T07:25:26.603965Z"
    }
   },
   "outputs": [],
   "source": [
    "# shutil.move(\"gtzan-dataset-music-genre-classification.zip\", \"D:/Dataset/dataset/Kaggle/\")"
   ]
  },
  {
   "cell_type": "markdown",
   "metadata": {},
   "source": [
    "### 압축해제"
   ]
  },
  {
   "cell_type": "code",
   "execution_count": 63,
   "metadata": {
    "ExecuteTime": {
     "end_time": "2022-08-25T07:25:29.145375Z",
     "start_time": "2022-08-25T07:25:29.132635Z"
    }
   },
   "outputs": [],
   "source": [
    "# with zipfile.ZipFile(\"D:/Dataset/dataset/Kaggle/gtzan-dataset-music-genre-classification.zip\",\"r\") as zip_ref:\n",
    "#     zip_ref.extractall(\"D:/Dataset/dataset/Kaggle/gtzan-dataset-music-genre-classification\")"
   ]
  },
  {
   "cell_type": "markdown",
   "metadata": {},
   "source": [
    "### 압축파일 제거"
   ]
  },
  {
   "cell_type": "code",
   "execution_count": 64,
   "metadata": {
    "ExecuteTime": {
     "end_time": "2022-08-25T07:25:32.135519Z",
     "start_time": "2022-08-25T07:25:32.131577Z"
    }
   },
   "outputs": [],
   "source": [
    "# if os.path.isfile(\"D:/Dataset/dataset/Kaggle/gtzan-dataset-music-genre-classification.zip\"):\n",
    "#     os.remove(\"D:/Dataset/dataset/Kaggle/gtzan-dataset-music-genre-classification.zip\")\n",
    "#     print(\"File has been deleted\")\n",
    "# else:\n",
    "#     print(\"File does not exist\")"
   ]
  },
  {
   "cell_type": "markdown",
   "metadata": {
    "id": "k_sMsWczLaQk"
   },
   "source": [
    "## **| EDA**"
   ]
  },
  {
   "cell_type": "code",
   "execution_count": 24,
   "metadata": {
    "ExecuteTime": {
     "end_time": "2022-08-25T07:15:22.354489Z",
     "start_time": "2022-08-25T07:15:22.324120Z"
    },
    "id": "KweV9aufLlKS"
   },
   "outputs": [
    {
     "data": {
      "text/html": [
       "<div>\n",
       "<style scoped>\n",
       "    .dataframe tbody tr th:only-of-type {\n",
       "        vertical-align: middle;\n",
       "    }\n",
       "\n",
       "    .dataframe tbody tr th {\n",
       "        vertical-align: top;\n",
       "    }\n",
       "\n",
       "    .dataframe thead th {\n",
       "        text-align: right;\n",
       "    }\n",
       "</style>\n",
       "<table border=\"1\" class=\"dataframe\">\n",
       "  <thead>\n",
       "    <tr style=\"text-align: right;\">\n",
       "      <th></th>\n",
       "      <th>filename</th>\n",
       "      <th>length</th>\n",
       "      <th>chroma_stft_mean</th>\n",
       "      <th>chroma_stft_var</th>\n",
       "      <th>rms_mean</th>\n",
       "      <th>rms_var</th>\n",
       "      <th>spectral_centroid_mean</th>\n",
       "      <th>spectral_centroid_var</th>\n",
       "      <th>spectral_bandwidth_mean</th>\n",
       "      <th>spectral_bandwidth_var</th>\n",
       "      <th>...</th>\n",
       "      <th>mfcc16_var</th>\n",
       "      <th>mfcc17_mean</th>\n",
       "      <th>mfcc17_var</th>\n",
       "      <th>mfcc18_mean</th>\n",
       "      <th>mfcc18_var</th>\n",
       "      <th>mfcc19_mean</th>\n",
       "      <th>mfcc19_var</th>\n",
       "      <th>mfcc20_mean</th>\n",
       "      <th>mfcc20_var</th>\n",
       "      <th>label</th>\n",
       "    </tr>\n",
       "  </thead>\n",
       "  <tbody>\n",
       "    <tr>\n",
       "      <th>0</th>\n",
       "      <td>blues.00000.wav</td>\n",
       "      <td>661794</td>\n",
       "      <td>0.350088</td>\n",
       "      <td>0.088757</td>\n",
       "      <td>0.130228</td>\n",
       "      <td>0.002827</td>\n",
       "      <td>1784.165850</td>\n",
       "      <td>129774.064525</td>\n",
       "      <td>2002.449060</td>\n",
       "      <td>85882.761315</td>\n",
       "      <td>...</td>\n",
       "      <td>52.420910</td>\n",
       "      <td>-1.690215</td>\n",
       "      <td>36.524071</td>\n",
       "      <td>-0.408979</td>\n",
       "      <td>41.597103</td>\n",
       "      <td>-2.303523</td>\n",
       "      <td>55.062923</td>\n",
       "      <td>1.221291</td>\n",
       "      <td>46.936035</td>\n",
       "      <td>blues</td>\n",
       "    </tr>\n",
       "    <tr>\n",
       "      <th>1</th>\n",
       "      <td>blues.00001.wav</td>\n",
       "      <td>661794</td>\n",
       "      <td>0.340914</td>\n",
       "      <td>0.094980</td>\n",
       "      <td>0.095948</td>\n",
       "      <td>0.002373</td>\n",
       "      <td>1530.176679</td>\n",
       "      <td>375850.073649</td>\n",
       "      <td>2039.036516</td>\n",
       "      <td>213843.755497</td>\n",
       "      <td>...</td>\n",
       "      <td>55.356403</td>\n",
       "      <td>-0.731125</td>\n",
       "      <td>60.314529</td>\n",
       "      <td>0.295073</td>\n",
       "      <td>48.120598</td>\n",
       "      <td>-0.283518</td>\n",
       "      <td>51.106190</td>\n",
       "      <td>0.531217</td>\n",
       "      <td>45.786282</td>\n",
       "      <td>blues</td>\n",
       "    </tr>\n",
       "    <tr>\n",
       "      <th>2</th>\n",
       "      <td>blues.00002.wav</td>\n",
       "      <td>661794</td>\n",
       "      <td>0.363637</td>\n",
       "      <td>0.085275</td>\n",
       "      <td>0.175570</td>\n",
       "      <td>0.002746</td>\n",
       "      <td>1552.811865</td>\n",
       "      <td>156467.643368</td>\n",
       "      <td>1747.702312</td>\n",
       "      <td>76254.192257</td>\n",
       "      <td>...</td>\n",
       "      <td>40.598766</td>\n",
       "      <td>-7.729093</td>\n",
       "      <td>47.639427</td>\n",
       "      <td>-1.816407</td>\n",
       "      <td>52.382141</td>\n",
       "      <td>-3.439720</td>\n",
       "      <td>46.639660</td>\n",
       "      <td>-2.231258</td>\n",
       "      <td>30.573025</td>\n",
       "      <td>blues</td>\n",
       "    </tr>\n",
       "    <tr>\n",
       "      <th>3</th>\n",
       "      <td>blues.00003.wav</td>\n",
       "      <td>661794</td>\n",
       "      <td>0.404785</td>\n",
       "      <td>0.093999</td>\n",
       "      <td>0.141093</td>\n",
       "      <td>0.006346</td>\n",
       "      <td>1070.106615</td>\n",
       "      <td>184355.942417</td>\n",
       "      <td>1596.412872</td>\n",
       "      <td>166441.494769</td>\n",
       "      <td>...</td>\n",
       "      <td>44.427753</td>\n",
       "      <td>-3.319597</td>\n",
       "      <td>50.206673</td>\n",
       "      <td>0.636965</td>\n",
       "      <td>37.319130</td>\n",
       "      <td>-0.619121</td>\n",
       "      <td>37.259739</td>\n",
       "      <td>-3.407448</td>\n",
       "      <td>31.949339</td>\n",
       "      <td>blues</td>\n",
       "    </tr>\n",
       "    <tr>\n",
       "      <th>4</th>\n",
       "      <td>blues.00004.wav</td>\n",
       "      <td>661794</td>\n",
       "      <td>0.308526</td>\n",
       "      <td>0.087841</td>\n",
       "      <td>0.091529</td>\n",
       "      <td>0.002303</td>\n",
       "      <td>1835.004266</td>\n",
       "      <td>343399.939274</td>\n",
       "      <td>1748.172116</td>\n",
       "      <td>88445.209036</td>\n",
       "      <td>...</td>\n",
       "      <td>86.099236</td>\n",
       "      <td>-5.454034</td>\n",
       "      <td>75.269707</td>\n",
       "      <td>-0.916874</td>\n",
       "      <td>53.613918</td>\n",
       "      <td>-4.404827</td>\n",
       "      <td>62.910812</td>\n",
       "      <td>-11.703234</td>\n",
       "      <td>55.195160</td>\n",
       "      <td>blues</td>\n",
       "    </tr>\n",
       "    <tr>\n",
       "      <th>...</th>\n",
       "      <td>...</td>\n",
       "      <td>...</td>\n",
       "      <td>...</td>\n",
       "      <td>...</td>\n",
       "      <td>...</td>\n",
       "      <td>...</td>\n",
       "      <td>...</td>\n",
       "      <td>...</td>\n",
       "      <td>...</td>\n",
       "      <td>...</td>\n",
       "      <td>...</td>\n",
       "      <td>...</td>\n",
       "      <td>...</td>\n",
       "      <td>...</td>\n",
       "      <td>...</td>\n",
       "      <td>...</td>\n",
       "      <td>...</td>\n",
       "      <td>...</td>\n",
       "      <td>...</td>\n",
       "      <td>...</td>\n",
       "      <td>...</td>\n",
       "    </tr>\n",
       "    <tr>\n",
       "      <th>995</th>\n",
       "      <td>rock.00095.wav</td>\n",
       "      <td>661794</td>\n",
       "      <td>0.352063</td>\n",
       "      <td>0.080487</td>\n",
       "      <td>0.079486</td>\n",
       "      <td>0.000345</td>\n",
       "      <td>2008.149458</td>\n",
       "      <td>282174.689224</td>\n",
       "      <td>2106.541053</td>\n",
       "      <td>88609.749506</td>\n",
       "      <td>...</td>\n",
       "      <td>45.050526</td>\n",
       "      <td>-13.289984</td>\n",
       "      <td>41.754955</td>\n",
       "      <td>2.484145</td>\n",
       "      <td>36.778877</td>\n",
       "      <td>-6.713265</td>\n",
       "      <td>54.866825</td>\n",
       "      <td>-1.193787</td>\n",
       "      <td>49.950665</td>\n",
       "      <td>rock</td>\n",
       "    </tr>\n",
       "    <tr>\n",
       "      <th>996</th>\n",
       "      <td>rock.00096.wav</td>\n",
       "      <td>661794</td>\n",
       "      <td>0.398687</td>\n",
       "      <td>0.075086</td>\n",
       "      <td>0.076458</td>\n",
       "      <td>0.000588</td>\n",
       "      <td>2006.843354</td>\n",
       "      <td>182114.709510</td>\n",
       "      <td>2068.942009</td>\n",
       "      <td>82426.016726</td>\n",
       "      <td>...</td>\n",
       "      <td>33.851742</td>\n",
       "      <td>-10.848309</td>\n",
       "      <td>39.395096</td>\n",
       "      <td>1.881229</td>\n",
       "      <td>32.010040</td>\n",
       "      <td>-7.461491</td>\n",
       "      <td>39.196327</td>\n",
       "      <td>-2.795338</td>\n",
       "      <td>31.773624</td>\n",
       "      <td>rock</td>\n",
       "    </tr>\n",
       "    <tr>\n",
       "      <th>997</th>\n",
       "      <td>rock.00097.wav</td>\n",
       "      <td>661794</td>\n",
       "      <td>0.432142</td>\n",
       "      <td>0.075268</td>\n",
       "      <td>0.081651</td>\n",
       "      <td>0.000322</td>\n",
       "      <td>2077.526598</td>\n",
       "      <td>231657.968040</td>\n",
       "      <td>1927.293153</td>\n",
       "      <td>74717.124394</td>\n",
       "      <td>...</td>\n",
       "      <td>33.597008</td>\n",
       "      <td>-12.845291</td>\n",
       "      <td>36.367264</td>\n",
       "      <td>3.440978</td>\n",
       "      <td>36.001110</td>\n",
       "      <td>-12.588070</td>\n",
       "      <td>42.502201</td>\n",
       "      <td>-2.106337</td>\n",
       "      <td>29.865515</td>\n",
       "      <td>rock</td>\n",
       "    </tr>\n",
       "    <tr>\n",
       "      <th>998</th>\n",
       "      <td>rock.00098.wav</td>\n",
       "      <td>661794</td>\n",
       "      <td>0.362485</td>\n",
       "      <td>0.091506</td>\n",
       "      <td>0.083860</td>\n",
       "      <td>0.001211</td>\n",
       "      <td>1398.699344</td>\n",
       "      <td>240318.731073</td>\n",
       "      <td>1818.450280</td>\n",
       "      <td>109090.207161</td>\n",
       "      <td>...</td>\n",
       "      <td>46.324894</td>\n",
       "      <td>-4.416050</td>\n",
       "      <td>43.583942</td>\n",
       "      <td>1.556207</td>\n",
       "      <td>34.331261</td>\n",
       "      <td>-5.041897</td>\n",
       "      <td>47.227180</td>\n",
       "      <td>-3.590644</td>\n",
       "      <td>41.299088</td>\n",
       "      <td>rock</td>\n",
       "    </tr>\n",
       "    <tr>\n",
       "      <th>999</th>\n",
       "      <td>rock.00099.wav</td>\n",
       "      <td>661794</td>\n",
       "      <td>0.358401</td>\n",
       "      <td>0.085884</td>\n",
       "      <td>0.054454</td>\n",
       "      <td>0.000336</td>\n",
       "      <td>1609.795082</td>\n",
       "      <td>422203.216152</td>\n",
       "      <td>1797.213044</td>\n",
       "      <td>120115.632927</td>\n",
       "      <td>...</td>\n",
       "      <td>59.167755</td>\n",
       "      <td>-7.069775</td>\n",
       "      <td>73.760391</td>\n",
       "      <td>0.028346</td>\n",
       "      <td>76.504326</td>\n",
       "      <td>-2.025783</td>\n",
       "      <td>72.189316</td>\n",
       "      <td>1.155239</td>\n",
       "      <td>49.662510</td>\n",
       "      <td>rock</td>\n",
       "    </tr>\n",
       "  </tbody>\n",
       "</table>\n",
       "<p>1000 rows × 60 columns</p>\n",
       "</div>"
      ],
      "text/plain": [
       "            filename  length  chroma_stft_mean  chroma_stft_var  rms_mean  \\\n",
       "0    blues.00000.wav  661794          0.350088         0.088757  0.130228   \n",
       "1    blues.00001.wav  661794          0.340914         0.094980  0.095948   \n",
       "2    blues.00002.wav  661794          0.363637         0.085275  0.175570   \n",
       "3    blues.00003.wav  661794          0.404785         0.093999  0.141093   \n",
       "4    blues.00004.wav  661794          0.308526         0.087841  0.091529   \n",
       "..               ...     ...               ...              ...       ...   \n",
       "995   rock.00095.wav  661794          0.352063         0.080487  0.079486   \n",
       "996   rock.00096.wav  661794          0.398687         0.075086  0.076458   \n",
       "997   rock.00097.wav  661794          0.432142         0.075268  0.081651   \n",
       "998   rock.00098.wav  661794          0.362485         0.091506  0.083860   \n",
       "999   rock.00099.wav  661794          0.358401         0.085884  0.054454   \n",
       "\n",
       "      rms_var  spectral_centroid_mean  spectral_centroid_var  \\\n",
       "0    0.002827             1784.165850          129774.064525   \n",
       "1    0.002373             1530.176679          375850.073649   \n",
       "2    0.002746             1552.811865          156467.643368   \n",
       "3    0.006346             1070.106615          184355.942417   \n",
       "4    0.002303             1835.004266          343399.939274   \n",
       "..        ...                     ...                    ...   \n",
       "995  0.000345             2008.149458          282174.689224   \n",
       "996  0.000588             2006.843354          182114.709510   \n",
       "997  0.000322             2077.526598          231657.968040   \n",
       "998  0.001211             1398.699344          240318.731073   \n",
       "999  0.000336             1609.795082          422203.216152   \n",
       "\n",
       "     spectral_bandwidth_mean  spectral_bandwidth_var  ...  mfcc16_var  \\\n",
       "0                2002.449060            85882.761315  ...   52.420910   \n",
       "1                2039.036516           213843.755497  ...   55.356403   \n",
       "2                1747.702312            76254.192257  ...   40.598766   \n",
       "3                1596.412872           166441.494769  ...   44.427753   \n",
       "4                1748.172116            88445.209036  ...   86.099236   \n",
       "..                       ...                     ...  ...         ...   \n",
       "995              2106.541053            88609.749506  ...   45.050526   \n",
       "996              2068.942009            82426.016726  ...   33.851742   \n",
       "997              1927.293153            74717.124394  ...   33.597008   \n",
       "998              1818.450280           109090.207161  ...   46.324894   \n",
       "999              1797.213044           120115.632927  ...   59.167755   \n",
       "\n",
       "     mfcc17_mean  mfcc17_var  mfcc18_mean  mfcc18_var  mfcc19_mean  \\\n",
       "0      -1.690215   36.524071    -0.408979   41.597103    -2.303523   \n",
       "1      -0.731125   60.314529     0.295073   48.120598    -0.283518   \n",
       "2      -7.729093   47.639427    -1.816407   52.382141    -3.439720   \n",
       "3      -3.319597   50.206673     0.636965   37.319130    -0.619121   \n",
       "4      -5.454034   75.269707    -0.916874   53.613918    -4.404827   \n",
       "..           ...         ...          ...         ...          ...   \n",
       "995   -13.289984   41.754955     2.484145   36.778877    -6.713265   \n",
       "996   -10.848309   39.395096     1.881229   32.010040    -7.461491   \n",
       "997   -12.845291   36.367264     3.440978   36.001110   -12.588070   \n",
       "998    -4.416050   43.583942     1.556207   34.331261    -5.041897   \n",
       "999    -7.069775   73.760391     0.028346   76.504326    -2.025783   \n",
       "\n",
       "     mfcc19_var  mfcc20_mean  mfcc20_var  label  \n",
       "0     55.062923     1.221291   46.936035  blues  \n",
       "1     51.106190     0.531217   45.786282  blues  \n",
       "2     46.639660    -2.231258   30.573025  blues  \n",
       "3     37.259739    -3.407448   31.949339  blues  \n",
       "4     62.910812   -11.703234   55.195160  blues  \n",
       "..          ...          ...         ...    ...  \n",
       "995   54.866825    -1.193787   49.950665   rock  \n",
       "996   39.196327    -2.795338   31.773624   rock  \n",
       "997   42.502201    -2.106337   29.865515   rock  \n",
       "998   47.227180    -3.590644   41.299088   rock  \n",
       "999   72.189316     1.155239   49.662510   rock  \n",
       "\n",
       "[1000 rows x 60 columns]"
      ]
     },
     "metadata": {},
     "output_type": "display_data"
    }
   ],
   "source": [
    "file_path = \"D:Dataset/dataset/Kaggle/gtzan-dataset-music-genre-classification/Data/\"\n",
    "df = pd.read_csv(file_path+\"features_30_sec.csv\")\n",
    "display(df)"
   ]
  },
  {
   "cell_type": "code",
   "execution_count": 4,
   "metadata": {
    "ExecuteTime": {
     "end_time": "2022-08-25T04:57:24.280953Z",
     "start_time": "2022-08-25T04:57:24.180930Z"
    },
    "id": "3KTR9wdcQfR7"
   },
   "outputs": [
    {
     "data": {
      "image/png": "[encoded data removed]",
      "text/plain": [
       "<Figure size 432x288 with 1 Axes>"
      ]
     },
     "metadata": {
      "needs_background": "light"
     },
     "output_type": "display_data"
    }
   ],
   "source": [
    "# 예측해야할 클래스\n",
    "class_count = df[\"label\"].value_counts()\n",
    "plt.title(\"Number per class\")\n",
    "sns.barplot(x=class_count.index, y=class_count.values);"
   ]
  },
  {
   "cell_type": "code",
   "execution_count": 5,
   "metadata": {
    "ExecuteTime": {
     "end_time": "2022-08-25T04:57:24.723506Z",
     "start_time": "2022-08-25T04:57:24.636483Z"
    },
    "id": "dp6iuwNmSadi"
   },
   "outputs": [
    {
     "data": {
      "text/plain": [
       "(array([305., 651.,   7.,   6.,   4.,  10.,   5.,   2.,   0.,  10.]),\n",
       " array([660000. , 661580.8, 663161.6, 664742.4, 666323.2, 667904. ,\n",
       "        669484.8, 671065.6, 672646.4, 674227.2, 675808. ]),\n",
       " <BarContainer object of 10 artists>)"
      ]
     },
     "execution_count": 5,
     "metadata": {},
     "output_type": "execute_result"
    },
    {
     "data": {
      "image/png": "[encoded data removed]",
      "text/plain": [
       "<Figure size 432x288 with 1 Axes>"
      ]
     },
     "metadata": {
      "needs_background": "light"
     },
     "output_type": "display_data"
    }
   ],
   "source": [
    "# 음성파일의 길이\n",
    "plt.title(\"Audio file length\")\n",
    "plt.hist(df[\"length\"])"
   ]
  },
  {
   "cell_type": "code",
   "execution_count": 16,
   "metadata": {
    "ExecuteTime": {
     "end_time": "2022-08-25T04:54:33.785175Z",
     "start_time": "2022-08-25T04:54:18.203986Z"
    },
    "scrolled": false
   },
   "outputs": [
    {
     "name": "stdout",
     "output_type": "stream",
     "text": [
      "특성 개수 57\n"
     ]
    },
    {
     "data": {
      "image/png": "[encoded data removed]",
      "text/plain": [
       "<Figure size 1440x2160 with 57 Axes>"
      ]
     },
     "metadata": {
      "needs_background": "light"
     },
     "output_type": "display_data"
    }
   ],
   "source": [
    "# 특성 분포\n",
    "print(\"특성 개수\", len(df.columns[2:-1]))\n",
    "plt.figure(figsize=(20,30))\n",
    "for i, col in enumerate(df.columns[2:-1]):\n",
    "    plt.subplot(10,6, i+1)\n",
    "    plt.title(col)\n",
    "    plt.hist(df[col])\n",
    "    plt.tight_layout()"
   ]
  },
  {
   "cell_type": "markdown",
   "metadata": {},
   "source": [
    "# 학습"
   ]
  },
  {
   "cell_type": "markdown",
   "metadata": {},
   "source": [
    "## 파라미터 추가 전"
   ]
  },
  {
   "cell_type": "markdown",
   "metadata": {
    "id": "d4Q9k8t6RNYS"
   },
   "source": [
    "### **| 학습 - XGBoost**"
   ]
  },
  {
   "cell_type": "markdown",
   "metadata": {
    "id": "ejdMsI7-S55y"
   },
   "source": [
    "#### **| 전처리**\n"
   ]
  },
  {
   "cell_type": "code",
   "execution_count": 25,
   "metadata": {
    "ExecuteTime": {
     "end_time": "2022-08-25T07:15:24.889066Z",
     "start_time": "2022-08-25T07:15:24.860110Z"
    },
    "id": "oEKlZSAYS4Ca"
   },
   "outputs": [
    {
     "name": "stdout",
     "output_type": "stream",
     "text": [
      "['blues' 'classical' 'country' 'disco' 'hiphop' 'jazz' 'metal' 'pop'\n",
      " 'reggae' 'rock']\n"
     ]
    },
    {
     "data": {
      "text/html": [
       "<div>\n",
       "<style scoped>\n",
       "    .dataframe tbody tr th:only-of-type {\n",
       "        vertical-align: middle;\n",
       "    }\n",
       "\n",
       "    .dataframe tbody tr th {\n",
       "        vertical-align: top;\n",
       "    }\n",
       "\n",
       "    .dataframe thead th {\n",
       "        text-align: right;\n",
       "    }\n",
       "</style>\n",
       "<table border=\"1\" class=\"dataframe\">\n",
       "  <thead>\n",
       "    <tr style=\"text-align: right;\">\n",
       "      <th></th>\n",
       "      <th>filename</th>\n",
       "      <th>length</th>\n",
       "      <th>chroma_stft_mean</th>\n",
       "      <th>chroma_stft_var</th>\n",
       "      <th>rms_mean</th>\n",
       "      <th>rms_var</th>\n",
       "      <th>spectral_centroid_mean</th>\n",
       "      <th>spectral_centroid_var</th>\n",
       "      <th>spectral_bandwidth_mean</th>\n",
       "      <th>spectral_bandwidth_var</th>\n",
       "      <th>...</th>\n",
       "      <th>mfcc17_mean</th>\n",
       "      <th>mfcc17_var</th>\n",
       "      <th>mfcc18_mean</th>\n",
       "      <th>mfcc18_var</th>\n",
       "      <th>mfcc19_mean</th>\n",
       "      <th>mfcc19_var</th>\n",
       "      <th>mfcc20_mean</th>\n",
       "      <th>mfcc20_var</th>\n",
       "      <th>label</th>\n",
       "      <th>le_label</th>\n",
       "    </tr>\n",
       "  </thead>\n",
       "  <tbody>\n",
       "    <tr>\n",
       "      <th>0</th>\n",
       "      <td>blues.00000.wav</td>\n",
       "      <td>661794</td>\n",
       "      <td>0.350088</td>\n",
       "      <td>0.088757</td>\n",
       "      <td>0.130228</td>\n",
       "      <td>0.002827</td>\n",
       "      <td>1784.165850</td>\n",
       "      <td>129774.064525</td>\n",
       "      <td>2002.449060</td>\n",
       "      <td>85882.761315</td>\n",
       "      <td>...</td>\n",
       "      <td>-1.690215</td>\n",
       "      <td>36.524071</td>\n",
       "      <td>-0.408979</td>\n",
       "      <td>41.597103</td>\n",
       "      <td>-2.303523</td>\n",
       "      <td>55.062923</td>\n",
       "      <td>1.221291</td>\n",
       "      <td>46.936035</td>\n",
       "      <td>blues</td>\n",
       "      <td>0</td>\n",
       "    </tr>\n",
       "    <tr>\n",
       "      <th>1</th>\n",
       "      <td>blues.00001.wav</td>\n",
       "      <td>661794</td>\n",
       "      <td>0.340914</td>\n",
       "      <td>0.094980</td>\n",
       "      <td>0.095948</td>\n",
       "      <td>0.002373</td>\n",
       "      <td>1530.176679</td>\n",
       "      <td>375850.073649</td>\n",
       "      <td>2039.036516</td>\n",
       "      <td>213843.755497</td>\n",
       "      <td>...</td>\n",
       "      <td>-0.731125</td>\n",
       "      <td>60.314529</td>\n",
       "      <td>0.295073</td>\n",
       "      <td>48.120598</td>\n",
       "      <td>-0.283518</td>\n",
       "      <td>51.106190</td>\n",
       "      <td>0.531217</td>\n",
       "      <td>45.786282</td>\n",
       "      <td>blues</td>\n",
       "      <td>0</td>\n",
       "    </tr>\n",
       "    <tr>\n",
       "      <th>2</th>\n",
       "      <td>blues.00002.wav</td>\n",
       "      <td>661794</td>\n",
       "      <td>0.363637</td>\n",
       "      <td>0.085275</td>\n",
       "      <td>0.175570</td>\n",
       "      <td>0.002746</td>\n",
       "      <td>1552.811865</td>\n",
       "      <td>156467.643368</td>\n",
       "      <td>1747.702312</td>\n",
       "      <td>76254.192257</td>\n",
       "      <td>...</td>\n",
       "      <td>-7.729093</td>\n",
       "      <td>47.639427</td>\n",
       "      <td>-1.816407</td>\n",
       "      <td>52.382141</td>\n",
       "      <td>-3.439720</td>\n",
       "      <td>46.639660</td>\n",
       "      <td>-2.231258</td>\n",
       "      <td>30.573025</td>\n",
       "      <td>blues</td>\n",
       "      <td>0</td>\n",
       "    </tr>\n",
       "    <tr>\n",
       "      <th>3</th>\n",
       "      <td>blues.00003.wav</td>\n",
       "      <td>661794</td>\n",
       "      <td>0.404785</td>\n",
       "      <td>0.093999</td>\n",
       "      <td>0.141093</td>\n",
       "      <td>0.006346</td>\n",
       "      <td>1070.106615</td>\n",
       "      <td>184355.942417</td>\n",
       "      <td>1596.412872</td>\n",
       "      <td>166441.494769</td>\n",
       "      <td>...</td>\n",
       "      <td>-3.319597</td>\n",
       "      <td>50.206673</td>\n",
       "      <td>0.636965</td>\n",
       "      <td>37.319130</td>\n",
       "      <td>-0.619121</td>\n",
       "      <td>37.259739</td>\n",
       "      <td>-3.407448</td>\n",
       "      <td>31.949339</td>\n",
       "      <td>blues</td>\n",
       "      <td>0</td>\n",
       "    </tr>\n",
       "    <tr>\n",
       "      <th>4</th>\n",
       "      <td>blues.00004.wav</td>\n",
       "      <td>661794</td>\n",
       "      <td>0.308526</td>\n",
       "      <td>0.087841</td>\n",
       "      <td>0.091529</td>\n",
       "      <td>0.002303</td>\n",
       "      <td>1835.004266</td>\n",
       "      <td>343399.939274</td>\n",
       "      <td>1748.172116</td>\n",
       "      <td>88445.209036</td>\n",
       "      <td>...</td>\n",
       "      <td>-5.454034</td>\n",
       "      <td>75.269707</td>\n",
       "      <td>-0.916874</td>\n",
       "      <td>53.613918</td>\n",
       "      <td>-4.404827</td>\n",
       "      <td>62.910812</td>\n",
       "      <td>-11.703234</td>\n",
       "      <td>55.195160</td>\n",
       "      <td>blues</td>\n",
       "      <td>0</td>\n",
       "    </tr>\n",
       "    <tr>\n",
       "      <th>...</th>\n",
       "      <td>...</td>\n",
       "      <td>...</td>\n",
       "      <td>...</td>\n",
       "      <td>...</td>\n",
       "      <td>...</td>\n",
       "      <td>...</td>\n",
       "      <td>...</td>\n",
       "      <td>...</td>\n",
       "      <td>...</td>\n",
       "      <td>...</td>\n",
       "      <td>...</td>\n",
       "      <td>...</td>\n",
       "      <td>...</td>\n",
       "      <td>...</td>\n",
       "      <td>...</td>\n",
       "      <td>...</td>\n",
       "      <td>...</td>\n",
       "      <td>...</td>\n",
       "      <td>...</td>\n",
       "      <td>...</td>\n",
       "      <td>...</td>\n",
       "    </tr>\n",
       "    <tr>\n",
       "      <th>995</th>\n",
       "      <td>rock.00095.wav</td>\n",
       "      <td>661794</td>\n",
       "      <td>0.352063</td>\n",
       "      <td>0.080487</td>\n",
       "      <td>0.079486</td>\n",
       "      <td>0.000345</td>\n",
       "      <td>2008.149458</td>\n",
       "      <td>282174.689224</td>\n",
       "      <td>2106.541053</td>\n",
       "      <td>88609.749506</td>\n",
       "      <td>...</td>\n",
       "      <td>-13.289984</td>\n",
       "      <td>41.754955</td>\n",
       "      <td>2.484145</td>\n",
       "      <td>36.778877</td>\n",
       "      <td>-6.713265</td>\n",
       "      <td>54.866825</td>\n",
       "      <td>-1.193787</td>\n",
       "      <td>49.950665</td>\n",
       "      <td>rock</td>\n",
       "      <td>9</td>\n",
       "    </tr>\n",
       "    <tr>\n",
       "      <th>996</th>\n",
       "      <td>rock.00096.wav</td>\n",
       "      <td>661794</td>\n",
       "      <td>0.398687</td>\n",
       "      <td>0.075086</td>\n",
       "      <td>0.076458</td>\n",
       "      <td>0.000588</td>\n",
       "      <td>2006.843354</td>\n",
       "      <td>182114.709510</td>\n",
       "      <td>2068.942009</td>\n",
       "      <td>82426.016726</td>\n",
       "      <td>...</td>\n",
       "      <td>-10.848309</td>\n",
       "      <td>39.395096</td>\n",
       "      <td>1.881229</td>\n",
       "      <td>32.010040</td>\n",
       "      <td>-7.461491</td>\n",
       "      <td>39.196327</td>\n",
       "      <td>-2.795338</td>\n",
       "      <td>31.773624</td>\n",
       "      <td>rock</td>\n",
       "      <td>9</td>\n",
       "    </tr>\n",
       "    <tr>\n",
       "      <th>997</th>\n",
       "      <td>rock.00097.wav</td>\n",
       "      <td>661794</td>\n",
       "      <td>0.432142</td>\n",
       "      <td>0.075268</td>\n",
       "      <td>0.081651</td>\n",
       "      <td>0.000322</td>\n",
       "      <td>2077.526598</td>\n",
       "      <td>231657.968040</td>\n",
       "      <td>1927.293153</td>\n",
       "      <td>74717.124394</td>\n",
       "      <td>...</td>\n",
       "      <td>-12.845291</td>\n",
       "      <td>36.367264</td>\n",
       "      <td>3.440978</td>\n",
       "      <td>36.001110</td>\n",
       "      <td>-12.588070</td>\n",
       "      <td>42.502201</td>\n",
       "      <td>-2.106337</td>\n",
       "      <td>29.865515</td>\n",
       "      <td>rock</td>\n",
       "      <td>9</td>\n",
       "    </tr>\n",
       "    <tr>\n",
       "      <th>998</th>\n",
       "      <td>rock.00098.wav</td>\n",
       "      <td>661794</td>\n",
       "      <td>0.362485</td>\n",
       "      <td>0.091506</td>\n",
       "      <td>0.083860</td>\n",
       "      <td>0.001211</td>\n",
       "      <td>1398.699344</td>\n",
       "      <td>240318.731073</td>\n",
       "      <td>1818.450280</td>\n",
       "      <td>109090.207161</td>\n",
       "      <td>...</td>\n",
       "      <td>-4.416050</td>\n",
       "      <td>43.583942</td>\n",
       "      <td>1.556207</td>\n",
       "      <td>34.331261</td>\n",
       "      <td>-5.041897</td>\n",
       "      <td>47.227180</td>\n",
       "      <td>-3.590644</td>\n",
       "      <td>41.299088</td>\n",
       "      <td>rock</td>\n",
       "      <td>9</td>\n",
       "    </tr>\n",
       "    <tr>\n",
       "      <th>999</th>\n",
       "      <td>rock.00099.wav</td>\n",
       "      <td>661794</td>\n",
       "      <td>0.358401</td>\n",
       "      <td>0.085884</td>\n",
       "      <td>0.054454</td>\n",
       "      <td>0.000336</td>\n",
       "      <td>1609.795082</td>\n",
       "      <td>422203.216152</td>\n",
       "      <td>1797.213044</td>\n",
       "      <td>120115.632927</td>\n",
       "      <td>...</td>\n",
       "      <td>-7.069775</td>\n",
       "      <td>73.760391</td>\n",
       "      <td>0.028346</td>\n",
       "      <td>76.504326</td>\n",
       "      <td>-2.025783</td>\n",
       "      <td>72.189316</td>\n",
       "      <td>1.155239</td>\n",
       "      <td>49.662510</td>\n",
       "      <td>rock</td>\n",
       "      <td>9</td>\n",
       "    </tr>\n",
       "  </tbody>\n",
       "</table>\n",
       "<p>1000 rows × 61 columns</p>\n",
       "</div>"
      ],
      "text/plain": [
       "            filename  length  chroma_stft_mean  chroma_stft_var  rms_mean  \\\n",
       "0    blues.00000.wav  661794          0.350088         0.088757  0.130228   \n",
       "1    blues.00001.wav  661794          0.340914         0.094980  0.095948   \n",
       "2    blues.00002.wav  661794          0.363637         0.085275  0.175570   \n",
       "3    blues.00003.wav  661794          0.404785         0.093999  0.141093   \n",
       "4    blues.00004.wav  661794          0.308526         0.087841  0.091529   \n",
       "..               ...     ...               ...              ...       ...   \n",
       "995   rock.00095.wav  661794          0.352063         0.080487  0.079486   \n",
       "996   rock.00096.wav  661794          0.398687         0.075086  0.076458   \n",
       "997   rock.00097.wav  661794          0.432142         0.075268  0.081651   \n",
       "998   rock.00098.wav  661794          0.362485         0.091506  0.083860   \n",
       "999   rock.00099.wav  661794          0.358401         0.085884  0.054454   \n",
       "\n",
       "      rms_var  spectral_centroid_mean  spectral_centroid_var  \\\n",
       "0    0.002827             1784.165850          129774.064525   \n",
       "1    0.002373             1530.176679          375850.073649   \n",
       "2    0.002746             1552.811865          156467.643368   \n",
       "3    0.006346             1070.106615          184355.942417   \n",
       "4    0.002303             1835.004266          343399.939274   \n",
       "..        ...                     ...                    ...   \n",
       "995  0.000345             2008.149458          282174.689224   \n",
       "996  0.000588             2006.843354          182114.709510   \n",
       "997  0.000322             2077.526598          231657.968040   \n",
       "998  0.001211             1398.699344          240318.731073   \n",
       "999  0.000336             1609.795082          422203.216152   \n",
       "\n",
       "     spectral_bandwidth_mean  spectral_bandwidth_var  ...  mfcc17_mean  \\\n",
       "0                2002.449060            85882.761315  ...    -1.690215   \n",
       "1                2039.036516           213843.755497  ...    -0.731125   \n",
       "2                1747.702312            76254.192257  ...    -7.729093   \n",
       "3                1596.412872           166441.494769  ...    -3.319597   \n",
       "4                1748.172116            88445.209036  ...    -5.454034   \n",
       "..                       ...                     ...  ...          ...   \n",
       "995              2106.541053            88609.749506  ...   -13.289984   \n",
       "996              2068.942009            82426.016726  ...   -10.848309   \n",
       "997              1927.293153            74717.124394  ...   -12.845291   \n",
       "998              1818.450280           109090.207161  ...    -4.416050   \n",
       "999              1797.213044           120115.632927  ...    -7.069775   \n",
       "\n",
       "     mfcc17_var  mfcc18_mean  mfcc18_var  mfcc19_mean  mfcc19_var  \\\n",
       "0     36.524071    -0.408979   41.597103    -2.303523   55.062923   \n",
       "1     60.314529     0.295073   48.120598    -0.283518   51.106190   \n",
       "2     47.639427    -1.816407   52.382141    -3.439720   46.639660   \n",
       "3     50.206673     0.636965   37.319130    -0.619121   37.259739   \n",
       "4     75.269707    -0.916874   53.613918    -4.404827   62.910812   \n",
       "..          ...          ...         ...          ...         ...   \n",
       "995   41.754955     2.484145   36.778877    -6.713265   54.866825   \n",
       "996   39.395096     1.881229   32.010040    -7.461491   39.196327   \n",
       "997   36.367264     3.440978   36.001110   -12.588070   42.502201   \n",
       "998   43.583942     1.556207   34.331261    -5.041897   47.227180   \n",
       "999   73.760391     0.028346   76.504326    -2.025783   72.189316   \n",
       "\n",
       "     mfcc20_mean  mfcc20_var  label  le_label  \n",
       "0       1.221291   46.936035  blues         0  \n",
       "1       0.531217   45.786282  blues         0  \n",
       "2      -2.231258   30.573025  blues         0  \n",
       "3      -3.407448   31.949339  blues         0  \n",
       "4     -11.703234   55.195160  blues         0  \n",
       "..           ...         ...    ...       ...  \n",
       "995    -1.193787   49.950665   rock         9  \n",
       "996    -2.795338   31.773624   rock         9  \n",
       "997    -2.106337   29.865515   rock         9  \n",
       "998    -3.590644   41.299088   rock         9  \n",
       "999     1.155239   49.662510   rock         9  \n",
       "\n",
       "[1000 rows x 61 columns]"
      ]
     },
     "metadata": {},
     "output_type": "display_data"
    }
   ],
   "source": [
    "le = preprocessing.LabelEncoder()\n",
    "df[\"le_label\"] = le.fit_transform(df[\"label\"])\n",
    "print(le.classes_)\n",
    "display(df)"
   ]
  },
  {
   "cell_type": "code",
   "execution_count": 26,
   "metadata": {
    "ExecuteTime": {
     "end_time": "2022-08-25T07:15:25.520578Z",
     "start_time": "2022-08-25T07:15:25.500584Z"
    },
    "id": "GjvdryMJS4Ep"
   },
   "outputs": [
    {
     "data": {
      "text/plain": [
       "((1000, 57), (1000,))"
      ]
     },
     "execution_count": 26,
     "metadata": {},
     "output_type": "execute_result"
    }
   ],
   "source": [
    "x = df.drop(columns=[\"filename\", \"length\", \"label\", \"le_label\"])\n",
    "y = df[\"le_label\"]\n",
    "x.shape, y.shape"
   ]
  },
  {
   "cell_type": "code",
   "execution_count": 27,
   "metadata": {
    "ExecuteTime": {
     "end_time": "2022-08-25T07:15:26.112156Z",
     "start_time": "2022-08-25T07:15:26.100995Z"
    },
    "id": "XsQSvYv5TZOR"
   },
   "outputs": [
    {
     "name": "stdout",
     "output_type": "stream",
     "text": [
      "x_train.shape\t:  (900, 57)\n",
      "x_test.shape\t:  (100, 57)\n",
      "y_train.shape\t:  (900,)\n",
      "y_test.shape\t:  (100,)\n"
     ]
    }
   ],
   "source": [
    "from sklearn.model_selection import train_test_split as tts\n",
    "x_train, x_test, y_train, y_test = tts(x, y, test_size=0.1, stratify=y, random_state=0)\n",
    "print(\"x_train.shape\\t: \", x_train.shape)\n",
    "print(\"x_test.shape\\t: \", x_test.shape)\n",
    "print(\"y_train.shape\\t: \", y_train.shape)\n",
    "print(\"y_test.shape\\t: \", y_test.shape)"
   ]
  },
  {
   "cell_type": "code",
   "execution_count": 28,
   "metadata": {
    "ExecuteTime": {
     "end_time": "2022-08-25T07:15:26.519903Z",
     "start_time": "2022-08-25T07:15:26.497898Z"
    },
    "id": "IDUfzRhJT-lp"
   },
   "outputs": [
    {
     "name": "stdout",
     "output_type": "stream",
     "text": [
      "x_train.shape\t:  (900, 57)\n",
      "x_test.shape\t:  (100, 57)\n"
     ]
    }
   ],
   "source": [
    "# x 정규화\n",
    "sc = preprocessing.StandardScaler()\n",
    "x_train = sc.fit_transform(x_train)\n",
    "x_test = sc.transform(x_test)\n",
    "print(\"x_train.shape\\t: \", x_train.shape)\n",
    "print(\"x_test.shape\\t: \", x_test.shape)"
   ]
  },
  {
   "cell_type": "markdown",
   "metadata": {},
   "source": [
    "#### 학습"
   ]
  },
  {
   "cell_type": "code",
   "execution_count": 29,
   "metadata": {
    "ExecuteTime": {
     "end_time": "2022-08-25T07:15:35.351856Z",
     "start_time": "2022-08-25T07:15:27.492102Z"
    },
    "id": "IBYVm_8AS4N7"
   },
   "outputs": [
    {
     "data": {
      "text/html": [
       "<style>#sk-container-id-1 {color: black;background-color: white;}#sk-container-id-1 pre{padding: 0;}#sk-container-id-1 div.sk-toggleable {background-color: white;}#sk-container-id-1 label.sk-toggleable__label {cursor: pointer;display: block;width: 100%;margin-bottom: 0;padding: 0.3em;box-sizing: border-box;text-align: center;}#sk-container-id-1 label.sk-toggleable__label-arrow:before {content: \"▸\";float: left;margin-right: 0.25em;color: #696969;}#sk-container-id-1 label.sk-toggleable__label-arrow:hover:before {color: black;}#sk-container-id-1 div.sk-estimator:hover label.sk-toggleable__label-arrow:before {color: black;}#sk-container-id-1 div.sk-toggleable__content {max-height: 0;max-width: 0;overflow: hidden;text-align: left;background-color: #f0f8ff;}#sk-container-id-1 div.sk-toggleable__content pre {margin: 0.2em;color: black;border-radius: 0.25em;background-color: #f0f8ff;}#sk-container-id-1 input.sk-toggleable__control:checked~div.sk-toggleable__content {max-height: 200px;max-width: 100%;overflow: auto;}#sk-container-id-1 input.sk-toggleable__control:checked~label.sk-toggleable__label-arrow:before {content: \"▾\";}#sk-container-id-1 div.sk-estimator input.sk-toggleable__control:checked~label.sk-toggleable__label {background-color: #d4ebff;}#sk-container-id-1 div.sk-label input.sk-toggleable__control:checked~label.sk-toggleable__label {background-color: #d4ebff;}#sk-container-id-1 input.sk-hidden--visually {border: 0;clip: rect(1px 1px 1px 1px);clip: rect(1px, 1px, 1px, 1px);height: 1px;margin: -1px;overflow: hidden;padding: 0;position: absolute;width: 1px;}#sk-container-id-1 div.sk-estimator {font-family: monospace;background-color: #f0f8ff;border: 1px dotted black;border-radius: 0.25em;box-sizing: border-box;margin-bottom: 0.5em;}#sk-container-id-1 div.sk-estimator:hover {background-color: #d4ebff;}#sk-container-id-1 div.sk-parallel-item::after {content: \"\";width: 100%;border-bottom: 1px solid gray;flex-grow: 1;}#sk-container-id-1 div.sk-label:hover label.sk-toggleable__label {background-color: #d4ebff;}#sk-container-id-1 div.sk-serial::before {content: \"\";position: absolute;border-left: 1px solid gray;box-sizing: border-box;top: 0;bottom: 0;left: 50%;z-index: 0;}#sk-container-id-1 div.sk-serial {display: flex;flex-direction: column;align-items: center;background-color: white;padding-right: 0.2em;padding-left: 0.2em;position: relative;}#sk-container-id-1 div.sk-item {position: relative;z-index: 1;}#sk-container-id-1 div.sk-parallel {display: flex;align-items: stretch;justify-content: center;background-color: white;position: relative;}#sk-container-id-1 div.sk-item::before, #sk-container-id-1 div.sk-parallel-item::before {content: \"\";position: absolute;border-left: 1px solid gray;box-sizing: border-box;top: 0;bottom: 0;left: 50%;z-index: -1;}#sk-container-id-1 div.sk-parallel-item {display: flex;flex-direction: column;z-index: 1;position: relative;background-color: white;}#sk-container-id-1 div.sk-parallel-item:first-child::after {align-self: flex-end;width: 50%;}#sk-container-id-1 div.sk-parallel-item:last-child::after {align-self: flex-start;width: 50%;}#sk-container-id-1 div.sk-parallel-item:only-child::after {width: 0;}#sk-container-id-1 div.sk-dashed-wrapped {border: 1px dashed gray;margin: 0 0.4em 0.5em 0.4em;box-sizing: border-box;padding-bottom: 0.4em;background-color: white;}#sk-container-id-1 div.sk-label label {font-family: monospace;font-weight: bold;display: inline-block;line-height: 1.2em;}#sk-container-id-1 div.sk-label-container {text-align: center;}#sk-container-id-1 div.sk-container {/* jupyter's `normalize.less` sets `[hidden] { display: none; }` but bootstrap.min.css set `[hidden] { display: none !important; }` so we also need the `!important` here to be able to override the default hidden behavior on the sphinx rendered scikit-learn.org. See: https://github.com/scikit-learn/scikit-learn/issues/21755 */display: inline-block !important;position: relative;}#sk-container-id-1 div.sk-text-repr-fallback {display: none;}</style><div id=\"sk-container-id-1\" class=\"sk-top-container\"><div class=\"sk-text-repr-fallback\"><pre>XGBRFClassifier(base_score=0.5, booster=&#x27;gbtree&#x27;, callbacks=None,\n",
       "                colsample_bylevel=1, colsample_bytree=1,\n",
       "                early_stopping_rounds=None, enable_categorical=False,\n",
       "                eval_metric=None, gamma=0, gpu_id=-1, grow_policy=&#x27;depthwise&#x27;,\n",
       "                importance_type=None, interaction_constraints=&#x27;&#x27;, max_bin=256,\n",
       "                max_cat_to_onehot=4, max_delta_step=0, max_depth=6,\n",
       "                max_leaves=0, min_child_weight=1, missing=nan,\n",
       "                monotone_constraints=&#x27;()&#x27;, n_estimators=1000, n_jobs=0,\n",
       "                num_parallel_tree=1000, objective=&#x27;multi:softprob&#x27;,\n",
       "                predictor=&#x27;auto&#x27;, random_state=0, reg_alpha=0,\n",
       "                sampling_method=&#x27;uniform&#x27;, scale_pos_weight=None, ...)</pre><b>In a Jupyter environment, please rerun this cell to show the HTML representation or trust the notebook. <br />On GitHub, the HTML representation is unable to render, please try loading this page with nbviewer.org.</b></div><div class=\"sk-container\" hidden><div class=\"sk-item\"><div class=\"sk-estimator sk-toggleable\"><input class=\"sk-toggleable__control sk-hidden--visually\" id=\"sk-estimator-id-1\" type=\"checkbox\" checked><label for=\"sk-estimator-id-1\" class=\"sk-toggleable__label sk-toggleable__label-arrow\">XGBRFClassifier</label><div class=\"sk-toggleable__content\"><pre>XGBRFClassifier(base_score=0.5, booster=&#x27;gbtree&#x27;, callbacks=None,\n",
       "                colsample_bylevel=1, colsample_bytree=1,\n",
       "                early_stopping_rounds=None, enable_categorical=False,\n",
       "                eval_metric=None, gamma=0, gpu_id=-1, grow_policy=&#x27;depthwise&#x27;,\n",
       "                importance_type=None, interaction_constraints=&#x27;&#x27;, max_bin=256,\n",
       "                max_cat_to_onehot=4, max_delta_step=0, max_depth=6,\n",
       "                max_leaves=0, min_child_weight=1, missing=nan,\n",
       "                monotone_constraints=&#x27;()&#x27;, n_estimators=1000, n_jobs=0,\n",
       "                num_parallel_tree=1000, objective=&#x27;multi:softprob&#x27;,\n",
       "                predictor=&#x27;auto&#x27;, random_state=0, reg_alpha=0,\n",
       "                sampling_method=&#x27;uniform&#x27;, scale_pos_weight=None, ...)</pre></div></div></div></div></div>"
      ],
      "text/plain": [
       "XGBRFClassifier(base_score=0.5, booster='gbtree', callbacks=None,\n",
       "                colsample_bylevel=1, colsample_bytree=1,\n",
       "                early_stopping_rounds=None, enable_categorical=False,\n",
       "                eval_metric=None, gamma=0, gpu_id=-1, grow_policy='depthwise',\n",
       "                importance_type=None, interaction_constraints='', max_bin=256,\n",
       "                max_cat_to_onehot=4, max_delta_step=0, max_depth=6,\n",
       "                max_leaves=0, min_child_weight=1, missing=nan,\n",
       "                monotone_constraints='()', n_estimators=1000, n_jobs=0,\n",
       "                num_parallel_tree=1000, objective='multi:softprob',\n",
       "                predictor='auto', random_state=0, reg_alpha=0,\n",
       "                sampling_method='uniform', scale_pos_weight=None, ...)"
      ]
     },
     "execution_count": 29,
     "metadata": {},
     "output_type": "execute_result"
    }
   ],
   "source": [
    "xgb = XGBRFClassifier(n_estimators=1000)\n",
    "xgb.fit(x_train, y_train)"
   ]
  },
  {
   "cell_type": "markdown",
   "metadata": {},
   "source": [
    "#### 결과"
   ]
  },
  {
   "cell_type": "code",
   "execution_count": 30,
   "metadata": {
    "ExecuteTime": {
     "end_time": "2022-08-25T07:15:35.702589Z",
     "start_time": "2022-08-25T07:15:35.352855Z"
    },
    "scrolled": false
   },
   "outputs": [
    {
     "name": "stdout",
     "output_type": "stream",
     "text": [
      "\u001b[31mTest Acc\t:\u001b[0m 0.74 \n",
      "\n",
      "\n",
      "\u001b[31mClassfication_report :\n",
      "\u001b[0m               precision    recall  f1-score   support\n",
      "\n",
      "           0       0.80      0.80      0.80        10\n",
      "           1       1.00      0.90      0.95        10\n",
      "           2       0.67      1.00      0.80        10\n",
      "           3       0.70      0.70      0.70        10\n",
      "           4       0.50      0.40      0.44        10\n",
      "           5       0.89      0.80      0.84        10\n",
      "           6       0.69      0.90      0.78        10\n",
      "           7       0.88      0.70      0.78        10\n",
      "           8       0.54      0.70      0.61        10\n",
      "           9       1.00      0.50      0.67        10\n",
      "\n",
      "    accuracy                           0.74       100\n",
      "   macro avg       0.77      0.74      0.74       100\n",
      "weighted avg       0.77      0.74      0.74       100\n",
      "\n"
     ]
    },
    {
     "data": {
      "image/png": "[encoded data removed]",
      "text/plain": [
       "<Figure size 576x576 with 2 Axes>"
      ]
     },
     "metadata": {},
     "output_type": "display_data"
    }
   ],
   "source": [
    "y_pred = xgb.predict(x_test)\n",
    "print(colored(\"Test Acc\\t:\",\"red\"),accuracy_score(y_test, y_pred),\"\\n\\n\")\n",
    "print(colored(\"Classfication_report :\\n\", \"red\"), classification_report(y_test, y_pred))\n",
    "plt.figure(figsize=(8,8))\n",
    "plt.title(\"Confusion_matrix\", fontsize=20, color=\"red\")\n",
    "sns.heatmap(confusion_matrix(y_test, y_pred), annot=True, cmap=\"PuBu\", xticklabels=le.classes_, yticklabels=le.classes_);"
   ]
  },
  {
   "cell_type": "markdown",
   "metadata": {
    "id": "sSp8HDpJRpUT"
   },
   "source": [
    "### **| 학습 - DNN**"
   ]
  },
  {
   "cell_type": "code",
   "execution_count": 43,
   "metadata": {
    "ExecuteTime": {
     "end_time": "2022-08-25T07:19:15.142098Z",
     "start_time": "2022-08-25T07:19:15.123094Z"
    },
    "id": "N5uyggs47hdU"
   },
   "outputs": [],
   "source": [
    "tqdm_callback = tfa.callbacks.TQDMProgressBar(show_epoch_progress=False)"
   ]
  },
  {
   "cell_type": "markdown",
   "metadata": {},
   "source": [
    "#### 모델"
   ]
  },
  {
   "cell_type": "code",
   "execution_count": 44,
   "metadata": {
    "ExecuteTime": {
     "end_time": "2022-08-25T07:19:45.138080Z",
     "start_time": "2022-08-25T07:19:45.090069Z"
    },
    "id": "VymTW7sKCD2K"
   },
   "outputs": [
    {
     "name": "stdout",
     "output_type": "stream",
     "text": [
      "Model: \"sequential_6\"\n",
      "_________________________________________________________________\n",
      " Layer (type)                Output Shape              Param #   \n",
      "=================================================================\n",
      " dense_18 (Dense)            (None, 120)               6960      \n",
      "                                                                 \n",
      " dense_19 (Dense)            (None, 200)               24200     \n",
      "                                                                 \n",
      " dense_20 (Dense)            (None, 100)               20100     \n",
      "                                                                 \n",
      " dense_21 (Dense)            (None, 30)                3030      \n",
      "                                                                 \n",
      " dense_22 (Dense)            (None, 10)                310       \n",
      "                                                                 \n",
      "=================================================================\n",
      "Total params: 54,600\n",
      "Trainable params: 54,600\n",
      "Non-trainable params: 0\n",
      "_________________________________________________________________\n"
     ]
    }
   ],
   "source": [
    "model = Sequential()\n",
    "model.add(Dense(120, input_dim=57, activation='elu', kernel_initializer=tf.keras.initializers.HeNormal()))\n",
    "model.add(Dense(200, activation='elu', kernel_initializer=tf.keras.initializers.HeNormal()))\n",
    "model.add(Dense(100, activation='elu', kernel_initializer=tf.keras.initializers.HeNormal()))\n",
    "model.add(Dense(30, activation='elu', kernel_initializer=tf.keras.initializers.HeNormal()))\n",
    "model.add(Dense(10, activation='softmax', kernel_initializer=tf.keras.initializers.HeNormal()))\n",
    "opt = tf.keras.optimizers.Adam()\n",
    "model.compile(optimizer=opt, loss=tf.keras.losses.sparse_categorical_crossentropy, metrics=[\"acc\"])\n",
    "ckp = tf.keras.callbacks.ModelCheckpoint(\"model/ckp.h5\", save_best_only=True, monitor=\"val_acc\")\n",
    "lr = tf.keras.callbacks.ReduceLROnPlateau(factor=0.5, monitor=\"val_loss\", patience=5, cooldown=3)\n",
    "model.summary()"
   ]
  },
  {
   "cell_type": "markdown",
   "metadata": {},
   "source": [
    "#### 학습"
   ]
  },
  {
   "cell_type": "code",
   "execution_count": 46,
   "metadata": {
    "ExecuteTime": {
     "end_time": "2022-08-25T07:20:32.880182Z",
     "start_time": "2022-08-25T07:20:03.115494Z"
    },
    "id": "o6ROAr7SACJ7",
    "scrolled": false
   },
   "outputs": [
    {
     "data": {
      "application/vnd.jupyter.widget-view+json": {
       "model_id": "10849cc3c47c496199a1701b282810bb",
       "version_major": 2,
       "version_minor": 0
      },
      "text/plain": [
       "Training:   0%|                                                                               0/500 ETA: ?s,  …"
      ]
     },
     "metadata": {},
     "output_type": "display_data"
    }
   ],
   "source": [
    "epochs_hist = model.fit(x_train, y_train, epochs=500, batch_size=50, validation_split=0.1, callbacks=[ckp, lr,tqdm_callback], verbose=0)"
   ]
  },
  {
   "cell_type": "markdown",
   "metadata": {},
   "source": [
    "#### 결과"
   ]
  },
  {
   "cell_type": "code",
   "execution_count": 47,
   "metadata": {
    "ExecuteTime": {
     "end_time": "2022-08-25T07:20:34.067565Z",
     "start_time": "2022-08-25T07:20:33.916882Z"
    }
   },
   "outputs": [
    {
     "data": {
      "image/png": "[encoded data removed]",
      "text/plain": [
       "<Figure size 864x288 with 2 Axes>"
      ]
     },
     "metadata": {},
     "output_type": "display_data"
    }
   ],
   "source": [
    "from Myfunc import show_lcurve\n",
    "show_lcurve([epochs_hist], [\"\"], x_itv=100)"
   ]
  },
  {
   "cell_type": "code",
   "execution_count": 48,
   "metadata": {
    "ExecuteTime": {
     "end_time": "2022-08-25T07:20:36.750842Z",
     "start_time": "2022-08-25T07:20:36.340331Z"
    }
   },
   "outputs": [
    {
     "name": "stdout",
     "output_type": "stream",
     "text": [
      "4/4 [==============================] - 0s 1ms/step\n",
      "\u001b[31mTest Acc\t:\u001b[0m 0.75 \n",
      "\n",
      "\n"
     ]
    },
    {
     "data": {
      "image/png": "[encoded data removed]",
      "text/plain": [
       "<Figure size 576x576 with 2 Axes>"
      ]
     },
     "metadata": {},
     "output_type": "display_data"
    }
   ],
   "source": [
    "\n",
    "model = tf.keras.models.load_model(\"model/ckp.h5\")\n",
    "y_pred = model.predict(x_test)\n",
    "y_pred = tf.argmax(y_pred, axis=1)\n",
    "print(colored(\"Test Acc\\t:\",\"red\"),accuracy_score(y_test, y_pred),\"\\n\\n\")\n",
    "plt.figure(figsize=(8,8))\n",
    "plt.title(\"Confusion_matrix\", fontsize=20, color=\"red\")\n",
    "sns.heatmap(confusion_matrix(y_test, y_pred), annot=True, cmap=\"PuBu\", xticklabels=le.classes_, yticklabels=le.classes_);"
   ]
  },
  {
   "cell_type": "markdown",
   "metadata": {
    "id": "D426_xuhBBLj"
   },
   "source": [
    "## 파라미터 추가 후\n",
    "---"
   ]
  },
  {
   "cell_type": "markdown",
   "metadata": {},
   "source": [
    "### 파라미터 추가"
   ]
  },
  {
   "cell_type": "code",
   "execution_count": 49,
   "metadata": {
    "ExecuteTime": {
     "end_time": "2022-08-25T05:58:48.725855Z",
     "start_time": "2022-08-25T05:44:56.815677Z"
    },
    "id": "Bi55w3G2SL7C",
    "scrolled": false
   },
   "outputs": [
    {
     "name": "stderr",
     "output_type": "stream",
     "text": [
      "\r",
      "0it [00:00, ?it/s]"
     ]
    },
    {
     "name": "stdout",
     "output_type": "stream",
     "text": [
      "chroma_cens_mean \t: 0.27226317\n",
      "chroma_cens_var \t: 0.009206081\n",
      "spectral_contrast_mean \t: 20.523289104984585\n",
      "spectral_contrast_var \t: 76.80119100984597\n",
      "spectral_flatness_mean \t: 0.0044955737\n",
      "spectral_flatness_var \t: 3.0314568e-05\n",
      "tonnetz_mean \t: 0.006427515020328565\n",
      "tonnetz_var \t: 0.004309638900279141\n"
     ]
    },
    {
     "data": {
      "image/png": "[encoded data removed]",
      "text/plain": [
       "<Figure size 432x288 with 1 Axes>"
      ]
     },
     "metadata": {
      "needs_background": "light"
     },
     "output_type": "display_data"
    },
    {
     "name": "stderr",
     "output_type": "stream",
     "text": [
      "\r",
      "1it [00:00,  1.03it/s]"
     ]
    },
    {
     "name": "stdout",
     "output_type": "stream",
     "text": [
      "chroma_cens_mean \t: 0.26107782\n",
      "chroma_cens_var \t: 0.015171697\n",
      "spectral_contrast_mean \t: 20.672485756359524\n",
      "spectral_contrast_var \t: 67.8618450598419\n",
      "spectral_flatness_mean \t: 0.0022980976\n",
      "spectral_flatness_var \t: 2.3548295e-05\n",
      "tonnetz_mean \t: 0.029378210231407072\n",
      "tonnetz_var \t: 0.004747541854429701\n"
     ]
    },
    {
     "data": {
      "image/png": "[encoded data removed]",
      "text/plain": [
       "<Figure size 432x288 with 1 Axes>"
      ]
     },
     "metadata": {
      "needs_background": "light"
     },
     "output_type": "display_data"
    },
    {
     "name": "stderr",
     "output_type": "stream",
     "text": [
      "1000it [13:51,  1.20it/s]\n"
     ]
    }
   ],
   "source": [
    "# new_var = defaultdict(list)\n",
    "\n",
    "# for idx, row in tqdm(df.iterrows()):\n",
    "    \n",
    "#     dir_path = \"D:Dataset/dataset/Kaggle/gtzan-dataset-music-genre-classification/Data/genres_original/\"+row[\"label\"]\n",
    "#     file_path = dir_path +\"/\"+ row[\"filename\"]\n",
    "    \n",
    "#     if row[\"filename\"] != \"jazz.00054.wav\": \n",
    "#         y, sr = librosa.load(file_path)\n",
    "#         chroma_cens = librosa.feature.chroma_cens(y=y, sr=sr)\n",
    "#         spectral_contrast = librosa.feature.spectral_contrast(y=y, sr=sr)\n",
    "#         spectral_flatness = librosa.feature.spectral_flatness(y=y)\n",
    "#         tonnetz = librosa.feature.tonnetz(y=y, sr=sr)\n",
    "\n",
    "#         chroma_cens_mean = np.mean(chroma_cens)\n",
    "#         chroma_cens_var = np.var(chroma_cens)\n",
    "#         spectral_contrast_mean = np.mean(spectral_contrast)\n",
    "#         spectral_contrast_var = np.var(spectral_contrast)\n",
    "#         spectral_flatness_mean = np.mean(spectral_flatness)\n",
    "#         spectral_flatness_var = np.var(spectral_flatness)\n",
    "#         tonnetz_mean = np.mean(tonnetz)\n",
    "#         tonnetz_var = np.var(tonnetz)\n",
    "\n",
    "#         new_var[\"chroma_cens_mean\"].append(chroma_cens_mean)\n",
    "#         new_var[\"chroma_cens_var\"].append(chroma_cens_var)\n",
    "#         new_var[\"spectral_contrast_mean\"].append(spectral_contrast_mean)\n",
    "#         new_var[\"spectral_contrast_var\"].append(spectral_contrast_var)\n",
    "#         new_var[\"spectral_flatness_mean\"].append(spectral_flatness_mean)\n",
    "#         new_var[\"spectral_flatness_var\"].append(spectral_flatness_var)\n",
    "#         new_var[\"tonnetz_mean\"].append(tonnetz_mean)\n",
    "#         new_var[\"tonnetz_var\"].append(tonnetz_var)\n",
    "#     else:\n",
    "#         new_var[\"chroma_cens_mean\"].append(0)\n",
    "#         new_var[\"chroma_cens_var\"].append(0)\n",
    "#         new_var[\"spectral_contrast_mean\"].append(0)\n",
    "#         new_var[\"spectral_contrast_var\"].append(0)\n",
    "#         new_var[\"spectral_flatness_mean\"].append(0)\n",
    "#         new_var[\"spectral_flatness_var\"].append(0)\n",
    "#         new_var[\"tonnetz_mean\"].append(0)\n",
    "#         new_var[\"tonnetz_var\"].append(0)\n",
    "    \n",
    "#     if idx < 2:\n",
    "#         print(\"chroma_cens_mean \\t:\", chroma_cens_mean)\n",
    "#         print(\"chroma_cens_var \\t:\", chroma_cens_var)\n",
    "#         print(\"spectral_contrast_mean \\t:\", spectral_contrast_mean)\n",
    "#         print(\"spectral_contrast_var \\t:\", spectral_contrast_var)\n",
    "#         print(\"spectral_flatness_mean \\t:\", spectral_flatness_mean)\n",
    "#         print(\"spectral_flatness_var \\t:\", spectral_flatness_var)\n",
    "#         print(\"tonnetz_mean \\t:\", tonnetz_mean)\n",
    "#         print(\"tonnetz_var \\t:\", tonnetz_var)\n",
    "\n",
    "#         plt.title(row[\"label\"]+row[\"filename\"])\n",
    "#         plt.plot(y)\n",
    "#         plt.show()\n",
    "\n",
    "# df = pd.read_csv(file_path+\"features_30_sec.csv\")\n",
    "# df[\"chroma_cens_mean\"] = new_var[\"chroma_cens_mean\"]\n",
    "# df[\"chroma_cens_var\"] = new_var[\"chroma_cens_var\"]\n",
    "# df[\"spectral_contrast_mean\"] = new_var[\"spectral_contrast_mean\"]\n",
    "# df[\"spectral_contrast_var\"] = new_var[\"spectral_contrast_var\"]\n",
    "# df[\"spectral_flatness_var\"] = new_var[\"spectral_flatness_var\"]\n",
    "# df[\"spectral_flatness_mean\"] = new_var[\"spectral_flatness_mean\"]\n",
    "# df[\"tonnetz_mean\"] = new_var[\"tonnetz_mean\"]\n",
    "# df[\"tonnetz_var\"] = new_var[\"tonnetz_var\"]\n",
    "# df.to_csv(file_path+\"feature_30_sec_new.csv\", index=False)"
   ]
  },
  {
   "cell_type": "code",
   "execution_count": 51,
   "metadata": {
    "ExecuteTime": {
     "end_time": "2022-08-25T07:21:21.925283Z",
     "start_time": "2022-08-25T07:21:21.892659Z"
    }
   },
   "outputs": [
    {
     "data": {
      "text/html": [
       "<div>\n",
       "<style scoped>\n",
       "    .dataframe tbody tr th:only-of-type {\n",
       "        vertical-align: middle;\n",
       "    }\n",
       "\n",
       "    .dataframe tbody tr th {\n",
       "        vertical-align: top;\n",
       "    }\n",
       "\n",
       "    .dataframe thead th {\n",
       "        text-align: right;\n",
       "    }\n",
       "</style>\n",
       "<table border=\"1\" class=\"dataframe\">\n",
       "  <thead>\n",
       "    <tr style=\"text-align: right;\">\n",
       "      <th></th>\n",
       "      <th>filename</th>\n",
       "      <th>length</th>\n",
       "      <th>chroma_stft_mean</th>\n",
       "      <th>chroma_stft_var</th>\n",
       "      <th>rms_mean</th>\n",
       "      <th>rms_var</th>\n",
       "      <th>spectral_centroid_mean</th>\n",
       "      <th>spectral_centroid_var</th>\n",
       "      <th>spectral_bandwidth_mean</th>\n",
       "      <th>spectral_bandwidth_var</th>\n",
       "      <th>...</th>\n",
       "      <th>mfcc20_var</th>\n",
       "      <th>label</th>\n",
       "      <th>chroma_cens_mean</th>\n",
       "      <th>chroma_cens_var</th>\n",
       "      <th>spectral_contrast_mean</th>\n",
       "      <th>spectral_contrast_var</th>\n",
       "      <th>spectral_flatness_var</th>\n",
       "      <th>spectral_flatness_mean</th>\n",
       "      <th>tonnetz_mean</th>\n",
       "      <th>tonnetz_var</th>\n",
       "    </tr>\n",
       "  </thead>\n",
       "  <tbody>\n",
       "    <tr>\n",
       "      <th>0</th>\n",
       "      <td>blues.00000.wav</td>\n",
       "      <td>661794</td>\n",
       "      <td>0.350088</td>\n",
       "      <td>0.088757</td>\n",
       "      <td>0.130228</td>\n",
       "      <td>0.002827</td>\n",
       "      <td>1784.165850</td>\n",
       "      <td>129774.064525</td>\n",
       "      <td>2002.449060</td>\n",
       "      <td>85882.761315</td>\n",
       "      <td>...</td>\n",
       "      <td>46.936035</td>\n",
       "      <td>blues</td>\n",
       "      <td>0.272263</td>\n",
       "      <td>0.009206</td>\n",
       "      <td>20.523289</td>\n",
       "      <td>76.801191</td>\n",
       "      <td>0.000030</td>\n",
       "      <td>0.004496</td>\n",
       "      <td>0.006428</td>\n",
       "      <td>0.004310</td>\n",
       "    </tr>\n",
       "    <tr>\n",
       "      <th>1</th>\n",
       "      <td>blues.00001.wav</td>\n",
       "      <td>661794</td>\n",
       "      <td>0.340914</td>\n",
       "      <td>0.094980</td>\n",
       "      <td>0.095948</td>\n",
       "      <td>0.002373</td>\n",
       "      <td>1530.176679</td>\n",
       "      <td>375850.073649</td>\n",
       "      <td>2039.036516</td>\n",
       "      <td>213843.755497</td>\n",
       "      <td>...</td>\n",
       "      <td>45.786282</td>\n",
       "      <td>blues</td>\n",
       "      <td>0.261078</td>\n",
       "      <td>0.015172</td>\n",
       "      <td>20.672486</td>\n",
       "      <td>67.861845</td>\n",
       "      <td>0.000024</td>\n",
       "      <td>0.002298</td>\n",
       "      <td>0.029378</td>\n",
       "      <td>0.004748</td>\n",
       "    </tr>\n",
       "    <tr>\n",
       "      <th>2</th>\n",
       "      <td>blues.00002.wav</td>\n",
       "      <td>661794</td>\n",
       "      <td>0.363637</td>\n",
       "      <td>0.085275</td>\n",
       "      <td>0.175570</td>\n",
       "      <td>0.002746</td>\n",
       "      <td>1552.811865</td>\n",
       "      <td>156467.643368</td>\n",
       "      <td>1747.702312</td>\n",
       "      <td>76254.192257</td>\n",
       "      <td>...</td>\n",
       "      <td>30.573025</td>\n",
       "      <td>blues</td>\n",
       "      <td>0.262717</td>\n",
       "      <td>0.014313</td>\n",
       "      <td>22.191292</td>\n",
       "      <td>76.122598</td>\n",
       "      <td>0.000011</td>\n",
       "      <td>0.002635</td>\n",
       "      <td>0.024224</td>\n",
       "      <td>0.010467</td>\n",
       "    </tr>\n",
       "    <tr>\n",
       "      <th>3</th>\n",
       "      <td>blues.00003.wav</td>\n",
       "      <td>661794</td>\n",
       "      <td>0.404785</td>\n",
       "      <td>0.093999</td>\n",
       "      <td>0.141093</td>\n",
       "      <td>0.006346</td>\n",
       "      <td>1070.106615</td>\n",
       "      <td>184355.942417</td>\n",
       "      <td>1596.412872</td>\n",
       "      <td>166441.494769</td>\n",
       "      <td>...</td>\n",
       "      <td>31.949339</td>\n",
       "      <td>blues</td>\n",
       "      <td>0.226096</td>\n",
       "      <td>0.032214</td>\n",
       "      <td>21.423621</td>\n",
       "      <td>63.386763</td>\n",
       "      <td>0.000003</td>\n",
       "      <td>0.000955</td>\n",
       "      <td>0.026662</td>\n",
       "      <td>0.017941</td>\n",
       "    </tr>\n",
       "    <tr>\n",
       "      <th>4</th>\n",
       "      <td>blues.00004.wav</td>\n",
       "      <td>661794</td>\n",
       "      <td>0.308526</td>\n",
       "      <td>0.087841</td>\n",
       "      <td>0.091529</td>\n",
       "      <td>0.002303</td>\n",
       "      <td>1835.004266</td>\n",
       "      <td>343399.939274</td>\n",
       "      <td>1748.172116</td>\n",
       "      <td>88445.209036</td>\n",
       "      <td>...</td>\n",
       "      <td>55.195160</td>\n",
       "      <td>blues</td>\n",
       "      <td>0.259727</td>\n",
       "      <td>0.015875</td>\n",
       "      <td>21.459618</td>\n",
       "      <td>63.033892</td>\n",
       "      <td>0.000019</td>\n",
       "      <td>0.003240</td>\n",
       "      <td>-0.020945</td>\n",
       "      <td>0.010100</td>\n",
       "    </tr>\n",
       "    <tr>\n",
       "      <th>...</th>\n",
       "      <td>...</td>\n",
       "      <td>...</td>\n",
       "      <td>...</td>\n",
       "      <td>...</td>\n",
       "      <td>...</td>\n",
       "      <td>...</td>\n",
       "      <td>...</td>\n",
       "      <td>...</td>\n",
       "      <td>...</td>\n",
       "      <td>...</td>\n",
       "      <td>...</td>\n",
       "      <td>...</td>\n",
       "      <td>...</td>\n",
       "      <td>...</td>\n",
       "      <td>...</td>\n",
       "      <td>...</td>\n",
       "      <td>...</td>\n",
       "      <td>...</td>\n",
       "      <td>...</td>\n",
       "      <td>...</td>\n",
       "      <td>...</td>\n",
       "    </tr>\n",
       "    <tr>\n",
       "      <th>995</th>\n",
       "      <td>rock.00095.wav</td>\n",
       "      <td>661794</td>\n",
       "      <td>0.352063</td>\n",
       "      <td>0.080487</td>\n",
       "      <td>0.079486</td>\n",
       "      <td>0.000345</td>\n",
       "      <td>2008.149458</td>\n",
       "      <td>282174.689224</td>\n",
       "      <td>2106.541053</td>\n",
       "      <td>88609.749506</td>\n",
       "      <td>...</td>\n",
       "      <td>49.950665</td>\n",
       "      <td>rock</td>\n",
       "      <td>0.226536</td>\n",
       "      <td>0.032015</td>\n",
       "      <td>22.977342</td>\n",
       "      <td>69.887654</td>\n",
       "      <td>0.000060</td>\n",
       "      <td>0.006556</td>\n",
       "      <td>0.018374</td>\n",
       "      <td>0.027887</td>\n",
       "    </tr>\n",
       "    <tr>\n",
       "      <th>996</th>\n",
       "      <td>rock.00096.wav</td>\n",
       "      <td>661794</td>\n",
       "      <td>0.398687</td>\n",
       "      <td>0.075086</td>\n",
       "      <td>0.076458</td>\n",
       "      <td>0.000588</td>\n",
       "      <td>2006.843354</td>\n",
       "      <td>182114.709510</td>\n",
       "      <td>2068.942009</td>\n",
       "      <td>82426.016726</td>\n",
       "      <td>...</td>\n",
       "      <td>31.773624</td>\n",
       "      <td>rock</td>\n",
       "      <td>0.234609</td>\n",
       "      <td>0.028292</td>\n",
       "      <td>22.665250</td>\n",
       "      <td>73.647724</td>\n",
       "      <td>0.000034</td>\n",
       "      <td>0.006473</td>\n",
       "      <td>-0.001153</td>\n",
       "      <td>0.027370</td>\n",
       "    </tr>\n",
       "    <tr>\n",
       "      <th>997</th>\n",
       "      <td>rock.00097.wav</td>\n",
       "      <td>661794</td>\n",
       "      <td>0.432142</td>\n",
       "      <td>0.075268</td>\n",
       "      <td>0.081651</td>\n",
       "      <td>0.000322</td>\n",
       "      <td>2077.526598</td>\n",
       "      <td>231657.968040</td>\n",
       "      <td>1927.293153</td>\n",
       "      <td>74717.124394</td>\n",
       "      <td>...</td>\n",
       "      <td>29.865515</td>\n",
       "      <td>rock</td>\n",
       "      <td>0.260923</td>\n",
       "      <td>0.015253</td>\n",
       "      <td>22.309244</td>\n",
       "      <td>70.794790</td>\n",
       "      <td>0.000087</td>\n",
       "      <td>0.007556</td>\n",
       "      <td>0.017200</td>\n",
       "      <td>0.010772</td>\n",
       "    </tr>\n",
       "    <tr>\n",
       "      <th>998</th>\n",
       "      <td>rock.00098.wav</td>\n",
       "      <td>661794</td>\n",
       "      <td>0.362485</td>\n",
       "      <td>0.091506</td>\n",
       "      <td>0.083860</td>\n",
       "      <td>0.001211</td>\n",
       "      <td>1398.699344</td>\n",
       "      <td>240318.731073</td>\n",
       "      <td>1818.450280</td>\n",
       "      <td>109090.207161</td>\n",
       "      <td>...</td>\n",
       "      <td>41.299088</td>\n",
       "      <td>rock</td>\n",
       "      <td>0.240758</td>\n",
       "      <td>0.025369</td>\n",
       "      <td>22.491635</td>\n",
       "      <td>55.227212</td>\n",
       "      <td>0.000008</td>\n",
       "      <td>0.001716</td>\n",
       "      <td>0.056722</td>\n",
       "      <td>0.014235</td>\n",
       "    </tr>\n",
       "    <tr>\n",
       "      <th>999</th>\n",
       "      <td>rock.00099.wav</td>\n",
       "      <td>661794</td>\n",
       "      <td>0.358401</td>\n",
       "      <td>0.085884</td>\n",
       "      <td>0.054454</td>\n",
       "      <td>0.000336</td>\n",
       "      <td>1609.795082</td>\n",
       "      <td>422203.216152</td>\n",
       "      <td>1797.213044</td>\n",
       "      <td>120115.632927</td>\n",
       "      <td>...</td>\n",
       "      <td>49.662510</td>\n",
       "      <td>rock</td>\n",
       "      <td>0.192099</td>\n",
       "      <td>0.046431</td>\n",
       "      <td>24.271611</td>\n",
       "      <td>49.693407</td>\n",
       "      <td>0.000015</td>\n",
       "      <td>0.002591</td>\n",
       "      <td>0.042418</td>\n",
       "      <td>0.049259</td>\n",
       "    </tr>\n",
       "  </tbody>\n",
       "</table>\n",
       "<p>1000 rows × 68 columns</p>\n",
       "</div>"
      ],
      "text/plain": [
       "            filename  length  chroma_stft_mean  chroma_stft_var  rms_mean  \\\n",
       "0    blues.00000.wav  661794          0.350088         0.088757  0.130228   \n",
       "1    blues.00001.wav  661794          0.340914         0.094980  0.095948   \n",
       "2    blues.00002.wav  661794          0.363637         0.085275  0.175570   \n",
       "3    blues.00003.wav  661794          0.404785         0.093999  0.141093   \n",
       "4    blues.00004.wav  661794          0.308526         0.087841  0.091529   \n",
       "..               ...     ...               ...              ...       ...   \n",
       "995   rock.00095.wav  661794          0.352063         0.080487  0.079486   \n",
       "996   rock.00096.wav  661794          0.398687         0.075086  0.076458   \n",
       "997   rock.00097.wav  661794          0.432142         0.075268  0.081651   \n",
       "998   rock.00098.wav  661794          0.362485         0.091506  0.083860   \n",
       "999   rock.00099.wav  661794          0.358401         0.085884  0.054454   \n",
       "\n",
       "      rms_var  spectral_centroid_mean  spectral_centroid_var  \\\n",
       "0    0.002827             1784.165850          129774.064525   \n",
       "1    0.002373             1530.176679          375850.073649   \n",
       "2    0.002746             1552.811865          156467.643368   \n",
       "3    0.006346             1070.106615          184355.942417   \n",
       "4    0.002303             1835.004266          343399.939274   \n",
       "..        ...                     ...                    ...   \n",
       "995  0.000345             2008.149458          282174.689224   \n",
       "996  0.000588             2006.843354          182114.709510   \n",
       "997  0.000322             2077.526598          231657.968040   \n",
       "998  0.001211             1398.699344          240318.731073   \n",
       "999  0.000336             1609.795082          422203.216152   \n",
       "\n",
       "     spectral_bandwidth_mean  spectral_bandwidth_var  ...  mfcc20_var  label  \\\n",
       "0                2002.449060            85882.761315  ...   46.936035  blues   \n",
       "1                2039.036516           213843.755497  ...   45.786282  blues   \n",
       "2                1747.702312            76254.192257  ...   30.573025  blues   \n",
       "3                1596.412872           166441.494769  ...   31.949339  blues   \n",
       "4                1748.172116            88445.209036  ...   55.195160  blues   \n",
       "..                       ...                     ...  ...         ...    ...   \n",
       "995              2106.541053            88609.749506  ...   49.950665   rock   \n",
       "996              2068.942009            82426.016726  ...   31.773624   rock   \n",
       "997              1927.293153            74717.124394  ...   29.865515   rock   \n",
       "998              1818.450280           109090.207161  ...   41.299088   rock   \n",
       "999              1797.213044           120115.632927  ...   49.662510   rock   \n",
       "\n",
       "     chroma_cens_mean  chroma_cens_var  spectral_contrast_mean  \\\n",
       "0            0.272263         0.009206               20.523289   \n",
       "1            0.261078         0.015172               20.672486   \n",
       "2            0.262717         0.014313               22.191292   \n",
       "3            0.226096         0.032214               21.423621   \n",
       "4            0.259727         0.015875               21.459618   \n",
       "..                ...              ...                     ...   \n",
       "995          0.226536         0.032015               22.977342   \n",
       "996          0.234609         0.028292               22.665250   \n",
       "997          0.260923         0.015253               22.309244   \n",
       "998          0.240758         0.025369               22.491635   \n",
       "999          0.192099         0.046431               24.271611   \n",
       "\n",
       "     spectral_contrast_var  spectral_flatness_var  spectral_flatness_mean  \\\n",
       "0                76.801191               0.000030                0.004496   \n",
       "1                67.861845               0.000024                0.002298   \n",
       "2                76.122598               0.000011                0.002635   \n",
       "3                63.386763               0.000003                0.000955   \n",
       "4                63.033892               0.000019                0.003240   \n",
       "..                     ...                    ...                     ...   \n",
       "995              69.887654               0.000060                0.006556   \n",
       "996              73.647724               0.000034                0.006473   \n",
       "997              70.794790               0.000087                0.007556   \n",
       "998              55.227212               0.000008                0.001716   \n",
       "999              49.693407               0.000015                0.002591   \n",
       "\n",
       "     tonnetz_mean  tonnetz_var  \n",
       "0        0.006428     0.004310  \n",
       "1        0.029378     0.004748  \n",
       "2        0.024224     0.010467  \n",
       "3        0.026662     0.017941  \n",
       "4       -0.020945     0.010100  \n",
       "..            ...          ...  \n",
       "995      0.018374     0.027887  \n",
       "996     -0.001153     0.027370  \n",
       "997      0.017200     0.010772  \n",
       "998      0.056722     0.014235  \n",
       "999      0.042418     0.049259  \n",
       "\n",
       "[1000 rows x 68 columns]"
      ]
     },
     "execution_count": 51,
     "metadata": {},
     "output_type": "execute_result"
    }
   ],
   "source": [
    "df = pd.read_csv(file_path+\"feature_30_sec_new.csv\")\n",
    "df"
   ]
  },
  {
   "cell_type": "markdown",
   "metadata": {},
   "source": [
    "### | 학습 - XGBoost"
   ]
  },
  {
   "cell_type": "code",
   "execution_count": 21,
   "metadata": {
    "ExecuteTime": {
     "end_time": "2022-08-25T06:20:23.462089Z",
     "start_time": "2022-08-25T06:20:23.441085Z"
    }
   },
   "outputs": [
    {
     "name": "stdout",
     "output_type": "stream",
     "text": [
      "x_train.shape\t:  (900, 65)\n",
      "x_test.shape\t:  (100, 65)\n",
      "y_train.shape\t:  (900,)\n",
      "y_test.shape\t:  (100,)\n"
     ]
    }
   ],
   "source": [
    "le = preprocessing.LabelEncoder()\n",
    "df[\"le_label\"] = le.fit_transform(df[\"label\"])\n",
    "x = df.drop(columns=[\"filename\", \"length\", \"label\", \"le_label\"])\n",
    "y = df[\"le_label\"]\n",
    "x_train, x_test, y_train, y_test = tts(x, y, test_size=0.1, stratify=y, random_state=0)\n",
    "\n",
    "print(\"x_train.shape\\t: \", x_train.shape)\n",
    "print(\"x_test.shape\\t: \", x_test.shape)\n",
    "print(\"y_train.shape\\t: \", y_train.shape)\n",
    "print(\"y_test.shape\\t: \", y_test.shape)"
   ]
  },
  {
   "cell_type": "code",
   "execution_count": 22,
   "metadata": {
    "ExecuteTime": {
     "end_time": "2022-08-25T06:20:36.411357Z",
     "start_time": "2022-08-25T06:20:26.967784Z"
    }
   },
   "outputs": [
    {
     "data": {
      "text/plain": [
       "XGBRFClassifier(base_score=0.5, booster='gbtree', callbacks=None,\n",
       "                colsample_bylevel=1, colsample_bynode=0.8, colsample_bytree=1,\n",
       "                early_stopping_rounds=None, enable_categorical=False,\n",
       "                eval_metric=None, gamma=0, gpu_id=-1, grow_policy='depthwise',\n",
       "                importance_type=None, interaction_constraints='',\n",
       "                learning_rate=1.0, max_bin=256, max_cat_to_onehot=4,\n",
       "                max_delta_step=0, max_depth=6, max_leaves=0, min_child_weight=1,\n",
       "                missing=nan, monotone_constraints='()', n_estimators=1000,\n",
       "                n_jobs=0, num_parallel_tree=1000, objective='multi:softprob',\n",
       "                predictor='auto', random_state=0, reg_alpha=0, ...)"
      ]
     },
     "execution_count": 22,
     "metadata": {},
     "output_type": "execute_result"
    }
   ],
   "source": [
    "from xgboost import XGBRFClassifier\n",
    "xgb = XGBRFClassifier(n_estimators=1000)\n",
    "xgb.fit(x_train, y_train)"
   ]
  },
  {
   "cell_type": "code",
   "execution_count": 23,
   "metadata": {
    "ExecuteTime": {
     "end_time": "2022-08-25T06:20:36.837359Z",
     "start_time": "2022-08-25T06:20:36.413357Z"
    }
   },
   "outputs": [
    {
     "name": "stdout",
     "output_type": "stream",
     "text": [
      "\u001b[31mTest Acc\t:\u001b[0m 0.76 \n",
      "\n",
      "\n",
      "\u001b[31mClassfication_report :\n",
      "\u001b[0m               precision    recall  f1-score   support\n",
      "\n",
      "           0       0.90      0.90      0.90        10\n",
      "           1       1.00      0.90      0.95        10\n",
      "           2       0.62      0.80      0.70        10\n",
      "           3       0.70      0.70      0.70        10\n",
      "           4       0.56      0.50      0.53        10\n",
      "           5       0.90      0.90      0.90        10\n",
      "           6       0.75      0.90      0.82        10\n",
      "           7       0.80      0.80      0.80        10\n",
      "           8       0.58      0.70      0.64        10\n",
      "           9       1.00      0.50      0.67        10\n",
      "\n",
      "    accuracy                           0.76       100\n",
      "   macro avg       0.78      0.76      0.76       100\n",
      "weighted avg       0.78      0.76      0.76       100\n",
      "\n"
     ]
    },
    {
     "data": {
      "image/png": "[encoded data removed]",
      "text/plain": [
       "<Figure size 576x576 with 2 Axes>"
      ]
     },
     "metadata": {},
     "output_type": "display_data"
    }
   ],
   "source": [
    "y_pred = xgb.predict(x_test)\n",
    "print(colored(\"Test Acc\\t:\",\"red\"),accuracy_score(y_test, y_pred),\"\\n\\n\")\n",
    "print(colored(\"Classfication_report :\\n\", \"red\"), classification_report(y_test, y_pred))\n",
    "plt.figure(figsize=(8,8))\n",
    "plt.title(\"Confusion_matrix\", fontsize=20, color=\"red\")\n",
    "sns.heatmap(confusion_matrix(y_test, y_pred), annot=True, cmap=\"PuBu\", xticklabels=le.classes_, yticklabels=le.classes_);"
   ]
  },
  {
   "cell_type": "markdown",
   "metadata": {},
   "source": [
    "### | 학습 - pycaret"
   ]
  },
  {
   "cell_type": "code",
   "execution_count": 12,
   "metadata": {
    "ExecuteTime": {
     "end_time": "2022-08-25T06:43:02.163455Z",
     "start_time": "2022-08-25T06:43:02.147298Z"
    }
   },
   "outputs": [],
   "source": [
    "le = preprocessing.LabelEncoder()\n",
    "df[\"le_label\"] = le.fit_transform(df[\"label\"])\n",
    "\n",
    "df = df.drop(columns=[\"filename\", \"length\", \"label\"])\n",
    "df_train, df_test = tts(df, test_size=0.1, stratify=df[\"le_label\"], random_state=0)"
   ]
  },
  {
   "cell_type": "code",
   "execution_count": 14,
   "metadata": {
    "ExecuteTime": {
     "end_time": "2022-08-25T06:43:37.078221Z",
     "start_time": "2022-08-25T06:43:34.771377Z"
    }
   },
   "outputs": [
    {
     "data": {
      "text/html": [
       "<style type=\"text/css\">\n",
       "#T_b94fe_row44_col1 {\n",
       "  background-color: lightgreen;\n",
       "}\n",
       "</style>\n",
       "<table id=\"T_b94fe\">\n",
       "  <thead>\n",
       "    <tr>\n",
       "      <th class=\"blank level0\" >&nbsp;</th>\n",
       "      <th id=\"T_b94fe_level0_col0\" class=\"col_heading level0 col0\" >Description</th>\n",
       "      <th id=\"T_b94fe_level0_col1\" class=\"col_heading level0 col1\" >Value</th>\n",
       "    </tr>\n",
       "  </thead>\n",
       "  <tbody>\n",
       "    <tr>\n",
       "      <th id=\"T_b94fe_level0_row0\" class=\"row_heading level0 row0\" >0</th>\n",
       "      <td id=\"T_b94fe_row0_col0\" class=\"data row0 col0\" >session_id</td>\n",
       "      <td id=\"T_b94fe_row0_col1\" class=\"data row0 col1\" >4722</td>\n",
       "    </tr>\n",
       "    <tr>\n",
       "      <th id=\"T_b94fe_level0_row1\" class=\"row_heading level0 row1\" >1</th>\n",
       "      <td id=\"T_b94fe_row1_col0\" class=\"data row1 col0\" >Target</td>\n",
       "      <td id=\"T_b94fe_row1_col1\" class=\"data row1 col1\" >le_label</td>\n",
       "    </tr>\n",
       "    <tr>\n",
       "      <th id=\"T_b94fe_level0_row2\" class=\"row_heading level0 row2\" >2</th>\n",
       "      <td id=\"T_b94fe_row2_col0\" class=\"data row2 col0\" >Target Type</td>\n",
       "      <td id=\"T_b94fe_row2_col1\" class=\"data row2 col1\" >Multiclass</td>\n",
       "    </tr>\n",
       "    <tr>\n",
       "      <th id=\"T_b94fe_level0_row3\" class=\"row_heading level0 row3\" >3</th>\n",
       "      <td id=\"T_b94fe_row3_col0\" class=\"data row3 col0\" >Label Encoded</td>\n",
       "      <td id=\"T_b94fe_row3_col1\" class=\"data row3 col1\" >None</td>\n",
       "    </tr>\n",
       "    <tr>\n",
       "      <th id=\"T_b94fe_level0_row4\" class=\"row_heading level0 row4\" >4</th>\n",
       "      <td id=\"T_b94fe_row4_col0\" class=\"data row4 col0\" >Original Data</td>\n",
       "      <td id=\"T_b94fe_row4_col1\" class=\"data row4 col1\" >(900, 66)</td>\n",
       "    </tr>\n",
       "    <tr>\n",
       "      <th id=\"T_b94fe_level0_row5\" class=\"row_heading level0 row5\" >5</th>\n",
       "      <td id=\"T_b94fe_row5_col0\" class=\"data row5 col0\" >Missing Values</td>\n",
       "      <td id=\"T_b94fe_row5_col1\" class=\"data row5 col1\" >False</td>\n",
       "    </tr>\n",
       "    <tr>\n",
       "      <th id=\"T_b94fe_level0_row6\" class=\"row_heading level0 row6\" >6</th>\n",
       "      <td id=\"T_b94fe_row6_col0\" class=\"data row6 col0\" >Numeric Features</td>\n",
       "      <td id=\"T_b94fe_row6_col1\" class=\"data row6 col1\" >65</td>\n",
       "    </tr>\n",
       "    <tr>\n",
       "      <th id=\"T_b94fe_level0_row7\" class=\"row_heading level0 row7\" >7</th>\n",
       "      <td id=\"T_b94fe_row7_col0\" class=\"data row7 col0\" >Categorical Features</td>\n",
       "      <td id=\"T_b94fe_row7_col1\" class=\"data row7 col1\" >0</td>\n",
       "    </tr>\n",
       "    <tr>\n",
       "      <th id=\"T_b94fe_level0_row8\" class=\"row_heading level0 row8\" >8</th>\n",
       "      <td id=\"T_b94fe_row8_col0\" class=\"data row8 col0\" >Ordinal Features</td>\n",
       "      <td id=\"T_b94fe_row8_col1\" class=\"data row8 col1\" >False</td>\n",
       "    </tr>\n",
       "    <tr>\n",
       "      <th id=\"T_b94fe_level0_row9\" class=\"row_heading level0 row9\" >9</th>\n",
       "      <td id=\"T_b94fe_row9_col0\" class=\"data row9 col0\" >High Cardinality Features</td>\n",
       "      <td id=\"T_b94fe_row9_col1\" class=\"data row9 col1\" >False</td>\n",
       "    </tr>\n",
       "    <tr>\n",
       "      <th id=\"T_b94fe_level0_row10\" class=\"row_heading level0 row10\" >10</th>\n",
       "      <td id=\"T_b94fe_row10_col0\" class=\"data row10 col0\" >High Cardinality Method</td>\n",
       "      <td id=\"T_b94fe_row10_col1\" class=\"data row10 col1\" >None</td>\n",
       "    </tr>\n",
       "    <tr>\n",
       "      <th id=\"T_b94fe_level0_row11\" class=\"row_heading level0 row11\" >11</th>\n",
       "      <td id=\"T_b94fe_row11_col0\" class=\"data row11 col0\" >Transformed Train Set</td>\n",
       "      <td id=\"T_b94fe_row11_col1\" class=\"data row11 col1\" >(810, 65)</td>\n",
       "    </tr>\n",
       "    <tr>\n",
       "      <th id=\"T_b94fe_level0_row12\" class=\"row_heading level0 row12\" >12</th>\n",
       "      <td id=\"T_b94fe_row12_col0\" class=\"data row12 col0\" >Transformed Test Set</td>\n",
       "      <td id=\"T_b94fe_row12_col1\" class=\"data row12 col1\" >(90, 65)</td>\n",
       "    </tr>\n",
       "    <tr>\n",
       "      <th id=\"T_b94fe_level0_row13\" class=\"row_heading level0 row13\" >13</th>\n",
       "      <td id=\"T_b94fe_row13_col0\" class=\"data row13 col0\" >Shuffle Train-Test</td>\n",
       "      <td id=\"T_b94fe_row13_col1\" class=\"data row13 col1\" >True</td>\n",
       "    </tr>\n",
       "    <tr>\n",
       "      <th id=\"T_b94fe_level0_row14\" class=\"row_heading level0 row14\" >14</th>\n",
       "      <td id=\"T_b94fe_row14_col0\" class=\"data row14 col0\" >Stratify Train-Test</td>\n",
       "      <td id=\"T_b94fe_row14_col1\" class=\"data row14 col1\" >False</td>\n",
       "    </tr>\n",
       "    <tr>\n",
       "      <th id=\"T_b94fe_level0_row15\" class=\"row_heading level0 row15\" >15</th>\n",
       "      <td id=\"T_b94fe_row15_col0\" class=\"data row15 col0\" >Fold Generator</td>\n",
       "      <td id=\"T_b94fe_row15_col1\" class=\"data row15 col1\" >StratifiedKFold</td>\n",
       "    </tr>\n",
       "    <tr>\n",
       "      <th id=\"T_b94fe_level0_row16\" class=\"row_heading level0 row16\" >16</th>\n",
       "      <td id=\"T_b94fe_row16_col0\" class=\"data row16 col0\" >Fold Number</td>\n",
       "      <td id=\"T_b94fe_row16_col1\" class=\"data row16 col1\" >10</td>\n",
       "    </tr>\n",
       "    <tr>\n",
       "      <th id=\"T_b94fe_level0_row17\" class=\"row_heading level0 row17\" >17</th>\n",
       "      <td id=\"T_b94fe_row17_col0\" class=\"data row17 col0\" >CPU Jobs</td>\n",
       "      <td id=\"T_b94fe_row17_col1\" class=\"data row17 col1\" >-1</td>\n",
       "    </tr>\n",
       "    <tr>\n",
       "      <th id=\"T_b94fe_level0_row18\" class=\"row_heading level0 row18\" >18</th>\n",
       "      <td id=\"T_b94fe_row18_col0\" class=\"data row18 col0\" >Use GPU</td>\n",
       "      <td id=\"T_b94fe_row18_col1\" class=\"data row18 col1\" >False</td>\n",
       "    </tr>\n",
       "    <tr>\n",
       "      <th id=\"T_b94fe_level0_row19\" class=\"row_heading level0 row19\" >19</th>\n",
       "      <td id=\"T_b94fe_row19_col0\" class=\"data row19 col0\" >Log Experiment</td>\n",
       "      <td id=\"T_b94fe_row19_col1\" class=\"data row19 col1\" >False</td>\n",
       "    </tr>\n",
       "    <tr>\n",
       "      <th id=\"T_b94fe_level0_row20\" class=\"row_heading level0 row20\" >20</th>\n",
       "      <td id=\"T_b94fe_row20_col0\" class=\"data row20 col0\" >Experiment Name</td>\n",
       "      <td id=\"T_b94fe_row20_col1\" class=\"data row20 col1\" >clf-default-name</td>\n",
       "    </tr>\n",
       "    <tr>\n",
       "      <th id=\"T_b94fe_level0_row21\" class=\"row_heading level0 row21\" >21</th>\n",
       "      <td id=\"T_b94fe_row21_col0\" class=\"data row21 col0\" >USI</td>\n",
       "      <td id=\"T_b94fe_row21_col1\" class=\"data row21 col1\" >6d87</td>\n",
       "    </tr>\n",
       "    <tr>\n",
       "      <th id=\"T_b94fe_level0_row22\" class=\"row_heading level0 row22\" >22</th>\n",
       "      <td id=\"T_b94fe_row22_col0\" class=\"data row22 col0\" >Imputation Type</td>\n",
       "      <td id=\"T_b94fe_row22_col1\" class=\"data row22 col1\" >simple</td>\n",
       "    </tr>\n",
       "    <tr>\n",
       "      <th id=\"T_b94fe_level0_row23\" class=\"row_heading level0 row23\" >23</th>\n",
       "      <td id=\"T_b94fe_row23_col0\" class=\"data row23 col0\" >Iterative Imputation Iteration</td>\n",
       "      <td id=\"T_b94fe_row23_col1\" class=\"data row23 col1\" >None</td>\n",
       "    </tr>\n",
       "    <tr>\n",
       "      <th id=\"T_b94fe_level0_row24\" class=\"row_heading level0 row24\" >24</th>\n",
       "      <td id=\"T_b94fe_row24_col0\" class=\"data row24 col0\" >Numeric Imputer</td>\n",
       "      <td id=\"T_b94fe_row24_col1\" class=\"data row24 col1\" >mean</td>\n",
       "    </tr>\n",
       "    <tr>\n",
       "      <th id=\"T_b94fe_level0_row25\" class=\"row_heading level0 row25\" >25</th>\n",
       "      <td id=\"T_b94fe_row25_col0\" class=\"data row25 col0\" >Iterative Imputation Numeric Model</td>\n",
       "      <td id=\"T_b94fe_row25_col1\" class=\"data row25 col1\" >None</td>\n",
       "    </tr>\n",
       "    <tr>\n",
       "      <th id=\"T_b94fe_level0_row26\" class=\"row_heading level0 row26\" >26</th>\n",
       "      <td id=\"T_b94fe_row26_col0\" class=\"data row26 col0\" >Categorical Imputer</td>\n",
       "      <td id=\"T_b94fe_row26_col1\" class=\"data row26 col1\" >constant</td>\n",
       "    </tr>\n",
       "    <tr>\n",
       "      <th id=\"T_b94fe_level0_row27\" class=\"row_heading level0 row27\" >27</th>\n",
       "      <td id=\"T_b94fe_row27_col0\" class=\"data row27 col0\" >Iterative Imputation Categorical Model</td>\n",
       "      <td id=\"T_b94fe_row27_col1\" class=\"data row27 col1\" >None</td>\n",
       "    </tr>\n",
       "    <tr>\n",
       "      <th id=\"T_b94fe_level0_row28\" class=\"row_heading level0 row28\" >28</th>\n",
       "      <td id=\"T_b94fe_row28_col0\" class=\"data row28 col0\" >Unknown Categoricals Handling</td>\n",
       "      <td id=\"T_b94fe_row28_col1\" class=\"data row28 col1\" >least_frequent</td>\n",
       "    </tr>\n",
       "    <tr>\n",
       "      <th id=\"T_b94fe_level0_row29\" class=\"row_heading level0 row29\" >29</th>\n",
       "      <td id=\"T_b94fe_row29_col0\" class=\"data row29 col0\" >Normalize</td>\n",
       "      <td id=\"T_b94fe_row29_col1\" class=\"data row29 col1\" >False</td>\n",
       "    </tr>\n",
       "    <tr>\n",
       "      <th id=\"T_b94fe_level0_row30\" class=\"row_heading level0 row30\" >30</th>\n",
       "      <td id=\"T_b94fe_row30_col0\" class=\"data row30 col0\" >Normalize Method</td>\n",
       "      <td id=\"T_b94fe_row30_col1\" class=\"data row30 col1\" >None</td>\n",
       "    </tr>\n",
       "    <tr>\n",
       "      <th id=\"T_b94fe_level0_row31\" class=\"row_heading level0 row31\" >31</th>\n",
       "      <td id=\"T_b94fe_row31_col0\" class=\"data row31 col0\" >Transformation</td>\n",
       "      <td id=\"T_b94fe_row31_col1\" class=\"data row31 col1\" >False</td>\n",
       "    </tr>\n",
       "    <tr>\n",
       "      <th id=\"T_b94fe_level0_row32\" class=\"row_heading level0 row32\" >32</th>\n",
       "      <td id=\"T_b94fe_row32_col0\" class=\"data row32 col0\" >Transformation Method</td>\n",
       "      <td id=\"T_b94fe_row32_col1\" class=\"data row32 col1\" >None</td>\n",
       "    </tr>\n",
       "    <tr>\n",
       "      <th id=\"T_b94fe_level0_row33\" class=\"row_heading level0 row33\" >33</th>\n",
       "      <td id=\"T_b94fe_row33_col0\" class=\"data row33 col0\" >PCA</td>\n",
       "      <td id=\"T_b94fe_row33_col1\" class=\"data row33 col1\" >False</td>\n",
       "    </tr>\n",
       "    <tr>\n",
       "      <th id=\"T_b94fe_level0_row34\" class=\"row_heading level0 row34\" >34</th>\n",
       "      <td id=\"T_b94fe_row34_col0\" class=\"data row34 col0\" >PCA Method</td>\n",
       "      <td id=\"T_b94fe_row34_col1\" class=\"data row34 col1\" >None</td>\n",
       "    </tr>\n",
       "    <tr>\n",
       "      <th id=\"T_b94fe_level0_row35\" class=\"row_heading level0 row35\" >35</th>\n",
       "      <td id=\"T_b94fe_row35_col0\" class=\"data row35 col0\" >PCA Components</td>\n",
       "      <td id=\"T_b94fe_row35_col1\" class=\"data row35 col1\" >None</td>\n",
       "    </tr>\n",
       "    <tr>\n",
       "      <th id=\"T_b94fe_level0_row36\" class=\"row_heading level0 row36\" >36</th>\n",
       "      <td id=\"T_b94fe_row36_col0\" class=\"data row36 col0\" >Ignore Low Variance</td>\n",
       "      <td id=\"T_b94fe_row36_col1\" class=\"data row36 col1\" >False</td>\n",
       "    </tr>\n",
       "    <tr>\n",
       "      <th id=\"T_b94fe_level0_row37\" class=\"row_heading level0 row37\" >37</th>\n",
       "      <td id=\"T_b94fe_row37_col0\" class=\"data row37 col0\" >Combine Rare Levels</td>\n",
       "      <td id=\"T_b94fe_row37_col1\" class=\"data row37 col1\" >False</td>\n",
       "    </tr>\n",
       "    <tr>\n",
       "      <th id=\"T_b94fe_level0_row38\" class=\"row_heading level0 row38\" >38</th>\n",
       "      <td id=\"T_b94fe_row38_col0\" class=\"data row38 col0\" >Rare Level Threshold</td>\n",
       "      <td id=\"T_b94fe_row38_col1\" class=\"data row38 col1\" >None</td>\n",
       "    </tr>\n",
       "    <tr>\n",
       "      <th id=\"T_b94fe_level0_row39\" class=\"row_heading level0 row39\" >39</th>\n",
       "      <td id=\"T_b94fe_row39_col0\" class=\"data row39 col0\" >Numeric Binning</td>\n",
       "      <td id=\"T_b94fe_row39_col1\" class=\"data row39 col1\" >False</td>\n",
       "    </tr>\n",
       "    <tr>\n",
       "      <th id=\"T_b94fe_level0_row40\" class=\"row_heading level0 row40\" >40</th>\n",
       "      <td id=\"T_b94fe_row40_col0\" class=\"data row40 col0\" >Remove Outliers</td>\n",
       "      <td id=\"T_b94fe_row40_col1\" class=\"data row40 col1\" >False</td>\n",
       "    </tr>\n",
       "    <tr>\n",
       "      <th id=\"T_b94fe_level0_row41\" class=\"row_heading level0 row41\" >41</th>\n",
       "      <td id=\"T_b94fe_row41_col0\" class=\"data row41 col0\" >Outliers Threshold</td>\n",
       "      <td id=\"T_b94fe_row41_col1\" class=\"data row41 col1\" >None</td>\n",
       "    </tr>\n",
       "    <tr>\n",
       "      <th id=\"T_b94fe_level0_row42\" class=\"row_heading level0 row42\" >42</th>\n",
       "      <td id=\"T_b94fe_row42_col0\" class=\"data row42 col0\" >Remove Multicollinearity</td>\n",
       "      <td id=\"T_b94fe_row42_col1\" class=\"data row42 col1\" >False</td>\n",
       "    </tr>\n",
       "    <tr>\n",
       "      <th id=\"T_b94fe_level0_row43\" class=\"row_heading level0 row43\" >43</th>\n",
       "      <td id=\"T_b94fe_row43_col0\" class=\"data row43 col0\" >Multicollinearity Threshold</td>\n",
       "      <td id=\"T_b94fe_row43_col1\" class=\"data row43 col1\" >None</td>\n",
       "    </tr>\n",
       "    <tr>\n",
       "      <th id=\"T_b94fe_level0_row44\" class=\"row_heading level0 row44\" >44</th>\n",
       "      <td id=\"T_b94fe_row44_col0\" class=\"data row44 col0\" >Remove Perfect Collinearity</td>\n",
       "      <td id=\"T_b94fe_row44_col1\" class=\"data row44 col1\" >True</td>\n",
       "    </tr>\n",
       "    <tr>\n",
       "      <th id=\"T_b94fe_level0_row45\" class=\"row_heading level0 row45\" >45</th>\n",
       "      <td id=\"T_b94fe_row45_col0\" class=\"data row45 col0\" >Clustering</td>\n",
       "      <td id=\"T_b94fe_row45_col1\" class=\"data row45 col1\" >False</td>\n",
       "    </tr>\n",
       "    <tr>\n",
       "      <th id=\"T_b94fe_level0_row46\" class=\"row_heading level0 row46\" >46</th>\n",
       "      <td id=\"T_b94fe_row46_col0\" class=\"data row46 col0\" >Clustering Iteration</td>\n",
       "      <td id=\"T_b94fe_row46_col1\" class=\"data row46 col1\" >None</td>\n",
       "    </tr>\n",
       "    <tr>\n",
       "      <th id=\"T_b94fe_level0_row47\" class=\"row_heading level0 row47\" >47</th>\n",
       "      <td id=\"T_b94fe_row47_col0\" class=\"data row47 col0\" >Polynomial Features</td>\n",
       "      <td id=\"T_b94fe_row47_col1\" class=\"data row47 col1\" >False</td>\n",
       "    </tr>\n",
       "    <tr>\n",
       "      <th id=\"T_b94fe_level0_row48\" class=\"row_heading level0 row48\" >48</th>\n",
       "      <td id=\"T_b94fe_row48_col0\" class=\"data row48 col0\" >Polynomial Degree</td>\n",
       "      <td id=\"T_b94fe_row48_col1\" class=\"data row48 col1\" >None</td>\n",
       "    </tr>\n",
       "    <tr>\n",
       "      <th id=\"T_b94fe_level0_row49\" class=\"row_heading level0 row49\" >49</th>\n",
       "      <td id=\"T_b94fe_row49_col0\" class=\"data row49 col0\" >Trignometry Features</td>\n",
       "      <td id=\"T_b94fe_row49_col1\" class=\"data row49 col1\" >False</td>\n",
       "    </tr>\n",
       "    <tr>\n",
       "      <th id=\"T_b94fe_level0_row50\" class=\"row_heading level0 row50\" >50</th>\n",
       "      <td id=\"T_b94fe_row50_col0\" class=\"data row50 col0\" >Polynomial Threshold</td>\n",
       "      <td id=\"T_b94fe_row50_col1\" class=\"data row50 col1\" >None</td>\n",
       "    </tr>\n",
       "    <tr>\n",
       "      <th id=\"T_b94fe_level0_row51\" class=\"row_heading level0 row51\" >51</th>\n",
       "      <td id=\"T_b94fe_row51_col0\" class=\"data row51 col0\" >Group Features</td>\n",
       "      <td id=\"T_b94fe_row51_col1\" class=\"data row51 col1\" >False</td>\n",
       "    </tr>\n",
       "    <tr>\n",
       "      <th id=\"T_b94fe_level0_row52\" class=\"row_heading level0 row52\" >52</th>\n",
       "      <td id=\"T_b94fe_row52_col0\" class=\"data row52 col0\" >Feature Selection</td>\n",
       "      <td id=\"T_b94fe_row52_col1\" class=\"data row52 col1\" >False</td>\n",
       "    </tr>\n",
       "    <tr>\n",
       "      <th id=\"T_b94fe_level0_row53\" class=\"row_heading level0 row53\" >53</th>\n",
       "      <td id=\"T_b94fe_row53_col0\" class=\"data row53 col0\" >Feature Selection Method</td>\n",
       "      <td id=\"T_b94fe_row53_col1\" class=\"data row53 col1\" >classic</td>\n",
       "    </tr>\n",
       "    <tr>\n",
       "      <th id=\"T_b94fe_level0_row54\" class=\"row_heading level0 row54\" >54</th>\n",
       "      <td id=\"T_b94fe_row54_col0\" class=\"data row54 col0\" >Features Selection Threshold</td>\n",
       "      <td id=\"T_b94fe_row54_col1\" class=\"data row54 col1\" >None</td>\n",
       "    </tr>\n",
       "    <tr>\n",
       "      <th id=\"T_b94fe_level0_row55\" class=\"row_heading level0 row55\" >55</th>\n",
       "      <td id=\"T_b94fe_row55_col0\" class=\"data row55 col0\" >Feature Interaction</td>\n",
       "      <td id=\"T_b94fe_row55_col1\" class=\"data row55 col1\" >False</td>\n",
       "    </tr>\n",
       "    <tr>\n",
       "      <th id=\"T_b94fe_level0_row56\" class=\"row_heading level0 row56\" >56</th>\n",
       "      <td id=\"T_b94fe_row56_col0\" class=\"data row56 col0\" >Feature Ratio</td>\n",
       "      <td id=\"T_b94fe_row56_col1\" class=\"data row56 col1\" >False</td>\n",
       "    </tr>\n",
       "    <tr>\n",
       "      <th id=\"T_b94fe_level0_row57\" class=\"row_heading level0 row57\" >57</th>\n",
       "      <td id=\"T_b94fe_row57_col0\" class=\"data row57 col0\" >Interaction Threshold</td>\n",
       "      <td id=\"T_b94fe_row57_col1\" class=\"data row57 col1\" >None</td>\n",
       "    </tr>\n",
       "    <tr>\n",
       "      <th id=\"T_b94fe_level0_row58\" class=\"row_heading level0 row58\" >58</th>\n",
       "      <td id=\"T_b94fe_row58_col0\" class=\"data row58 col0\" >Fix Imbalance</td>\n",
       "      <td id=\"T_b94fe_row58_col1\" class=\"data row58 col1\" >False</td>\n",
       "    </tr>\n",
       "    <tr>\n",
       "      <th id=\"T_b94fe_level0_row59\" class=\"row_heading level0 row59\" >59</th>\n",
       "      <td id=\"T_b94fe_row59_col0\" class=\"data row59 col0\" >Fix Imbalance Method</td>\n",
       "      <td id=\"T_b94fe_row59_col1\" class=\"data row59 col1\" >SMOTE</td>\n",
       "    </tr>\n",
       "  </tbody>\n",
       "</table>\n"
      ],
      "text/plain": [
       "<pandas.io.formats.style.Styler at 0x29736980c40>"
      ]
     },
     "metadata": {},
     "output_type": "display_data"
    }
   ],
   "source": [
    "s = setup(df_train, target = 'le_label', train_size=0.9)"
   ]
  },
  {
   "cell_type": "code",
   "execution_count": 15,
   "metadata": {
    "ExecuteTime": {
     "end_time": "2022-08-25T06:50:35.901740Z",
     "start_time": "2022-08-25T06:43:53.972567Z"
    }
   },
   "outputs": [
    {
     "data": {
      "text/html": [
       "<style type=\"text/css\">\n",
       "#T_93814 th {\n",
       "  text-align: left;\n",
       "}\n",
       "#T_93814_row0_col0, #T_93814_row1_col0, #T_93814_row1_col1, #T_93814_row1_col2, #T_93814_row1_col3, #T_93814_row1_col4, #T_93814_row1_col5, #T_93814_row1_col6, #T_93814_row1_col7, #T_93814_row2_col0, #T_93814_row2_col1, #T_93814_row2_col2, #T_93814_row2_col3, #T_93814_row2_col4, #T_93814_row2_col5, #T_93814_row2_col6, #T_93814_row2_col7, #T_93814_row3_col0, #T_93814_row3_col1, #T_93814_row3_col2, #T_93814_row3_col3, #T_93814_row3_col4, #T_93814_row3_col5, #T_93814_row3_col6, #T_93814_row3_col7, #T_93814_row4_col0, #T_93814_row4_col1, #T_93814_row4_col2, #T_93814_row4_col3, #T_93814_row4_col4, #T_93814_row4_col5, #T_93814_row4_col6, #T_93814_row4_col7, #T_93814_row5_col0, #T_93814_row5_col1, #T_93814_row5_col2, #T_93814_row5_col3, #T_93814_row5_col4, #T_93814_row5_col5, #T_93814_row5_col6, #T_93814_row5_col7, #T_93814_row6_col0, #T_93814_row6_col1, #T_93814_row6_col2, #T_93814_row6_col3, #T_93814_row6_col4, #T_93814_row6_col5, #T_93814_row6_col6, #T_93814_row6_col7, #T_93814_row7_col0, #T_93814_row7_col1, #T_93814_row7_col2, #T_93814_row7_col3, #T_93814_row7_col4, #T_93814_row7_col5, #T_93814_row7_col6, #T_93814_row7_col7, #T_93814_row8_col0, #T_93814_row8_col1, #T_93814_row8_col2, #T_93814_row8_col3, #T_93814_row8_col4, #T_93814_row8_col5, #T_93814_row8_col6, #T_93814_row8_col7, #T_93814_row9_col0, #T_93814_row9_col1, #T_93814_row9_col2, #T_93814_row9_col3, #T_93814_row9_col4, #T_93814_row9_col5, #T_93814_row9_col6, #T_93814_row9_col7, #T_93814_row10_col0, #T_93814_row10_col1, #T_93814_row10_col2, #T_93814_row10_col3, #T_93814_row10_col4, #T_93814_row10_col5, #T_93814_row10_col6, #T_93814_row10_col7, #T_93814_row11_col0, #T_93814_row11_col1, #T_93814_row11_col2, #T_93814_row11_col3, #T_93814_row11_col4, #T_93814_row11_col5, #T_93814_row11_col6, #T_93814_row11_col7, #T_93814_row12_col0, #T_93814_row12_col1, #T_93814_row12_col2, #T_93814_row12_col3, #T_93814_row12_col4, #T_93814_row12_col5, #T_93814_row12_col6, #T_93814_row12_col7, #T_93814_row13_col0, #T_93814_row13_col1, #T_93814_row13_col2, #T_93814_row13_col3, #T_93814_row13_col4, #T_93814_row13_col5, #T_93814_row13_col6, #T_93814_row13_col7, #T_93814_row14_col0, #T_93814_row14_col1, #T_93814_row14_col2, #T_93814_row14_col3, #T_93814_row14_col4, #T_93814_row14_col5, #T_93814_row14_col6, #T_93814_row14_col7 {\n",
       "  text-align: left;\n",
       "}\n",
       "#T_93814_row0_col1, #T_93814_row0_col2, #T_93814_row0_col3, #T_93814_row0_col4, #T_93814_row0_col5, #T_93814_row0_col6, #T_93814_row0_col7 {\n",
       "  text-align: left;\n",
       "  background-color: yellow;\n",
       "}\n",
       "#T_93814_row0_col8, #T_93814_row1_col8, #T_93814_row2_col8, #T_93814_row3_col8, #T_93814_row4_col8, #T_93814_row5_col8, #T_93814_row6_col8, #T_93814_row8_col8, #T_93814_row9_col8, #T_93814_row10_col8, #T_93814_row11_col8, #T_93814_row12_col8, #T_93814_row13_col8, #T_93814_row14_col8 {\n",
       "  text-align: left;\n",
       "  background-color: lightgrey;\n",
       "}\n",
       "#T_93814_row7_col8 {\n",
       "  text-align: left;\n",
       "  background-color: yellow;\n",
       "  background-color: lightgrey;\n",
       "}\n",
       "</style>\n",
       "<table id=\"T_93814\">\n",
       "  <thead>\n",
       "    <tr>\n",
       "      <th class=\"blank level0\" >&nbsp;</th>\n",
       "      <th id=\"T_93814_level0_col0\" class=\"col_heading level0 col0\" >Model</th>\n",
       "      <th id=\"T_93814_level0_col1\" class=\"col_heading level0 col1\" >Accuracy</th>\n",
       "      <th id=\"T_93814_level0_col2\" class=\"col_heading level0 col2\" >AUC</th>\n",
       "      <th id=\"T_93814_level0_col3\" class=\"col_heading level0 col3\" >Recall</th>\n",
       "      <th id=\"T_93814_level0_col4\" class=\"col_heading level0 col4\" >Prec.</th>\n",
       "      <th id=\"T_93814_level0_col5\" class=\"col_heading level0 col5\" >F1</th>\n",
       "      <th id=\"T_93814_level0_col6\" class=\"col_heading level0 col6\" >Kappa</th>\n",
       "      <th id=\"T_93814_level0_col7\" class=\"col_heading level0 col7\" >MCC</th>\n",
       "      <th id=\"T_93814_level0_col8\" class=\"col_heading level0 col8\" >TT (Sec)</th>\n",
       "    </tr>\n",
       "  </thead>\n",
       "  <tbody>\n",
       "    <tr>\n",
       "      <th id=\"T_93814_level0_row0\" class=\"row_heading level0 row0\" >catboost</th>\n",
       "      <td id=\"T_93814_row0_col0\" class=\"data row0 col0\" >CatBoost Classifier</td>\n",
       "      <td id=\"T_93814_row0_col1\" class=\"data row0 col1\" >0.7593</td>\n",
       "      <td id=\"T_93814_row0_col2\" class=\"data row0 col2\" >0.9683</td>\n",
       "      <td id=\"T_93814_row0_col3\" class=\"data row0 col3\" >0.7601</td>\n",
       "      <td id=\"T_93814_row0_col4\" class=\"data row0 col4\" >0.7720</td>\n",
       "      <td id=\"T_93814_row0_col5\" class=\"data row0 col5\" >0.7552</td>\n",
       "      <td id=\"T_93814_row0_col6\" class=\"data row0 col6\" >0.7325</td>\n",
       "      <td id=\"T_93814_row0_col7\" class=\"data row0 col7\" >0.7347</td>\n",
       "      <td id=\"T_93814_row0_col8\" class=\"data row0 col8\" >30.2540</td>\n",
       "    </tr>\n",
       "    <tr>\n",
       "      <th id=\"T_93814_level0_row1\" class=\"row_heading level0 row1\" >lightgbm</th>\n",
       "      <td id=\"T_93814_row1_col0\" class=\"data row1 col0\" >Light Gradient Boosting Machine</td>\n",
       "      <td id=\"T_93814_row1_col1\" class=\"data row1 col1\" >0.7531</td>\n",
       "      <td id=\"T_93814_row1_col2\" class=\"data row1 col2\" >0.9566</td>\n",
       "      <td id=\"T_93814_row1_col3\" class=\"data row1 col3\" >0.7548</td>\n",
       "      <td id=\"T_93814_row1_col4\" class=\"data row1 col4\" >0.7662</td>\n",
       "      <td id=\"T_93814_row1_col5\" class=\"data row1 col5\" >0.7488</td>\n",
       "      <td id=\"T_93814_row1_col6\" class=\"data row1 col6\" >0.7256</td>\n",
       "      <td id=\"T_93814_row1_col7\" class=\"data row1 col7\" >0.7279</td>\n",
       "      <td id=\"T_93814_row1_col8\" class=\"data row1 col8\" >0.4340</td>\n",
       "    </tr>\n",
       "    <tr>\n",
       "      <th id=\"T_93814_level0_row2\" class=\"row_heading level0 row2\" >et</th>\n",
       "      <td id=\"T_93814_row2_col0\" class=\"data row2 col0\" >Extra Trees Classifier</td>\n",
       "      <td id=\"T_93814_row2_col1\" class=\"data row2 col1\" >0.7383</td>\n",
       "      <td id=\"T_93814_row2_col2\" class=\"data row2 col2\" >0.9575</td>\n",
       "      <td id=\"T_93814_row2_col3\" class=\"data row2 col3\" >0.7384</td>\n",
       "      <td id=\"T_93814_row2_col4\" class=\"data row2 col4\" >0.7519</td>\n",
       "      <td id=\"T_93814_row2_col5\" class=\"data row2 col5\" >0.7331</td>\n",
       "      <td id=\"T_93814_row2_col6\" class=\"data row2 col6\" >0.7091</td>\n",
       "      <td id=\"T_93814_row2_col7\" class=\"data row2 col7\" >0.7118</td>\n",
       "      <td id=\"T_93814_row2_col8\" class=\"data row2 col8\" >0.0330</td>\n",
       "    </tr>\n",
       "    <tr>\n",
       "      <th id=\"T_93814_level0_row3\" class=\"row_heading level0 row3\" >xgboost</th>\n",
       "      <td id=\"T_93814_row3_col0\" class=\"data row3 col0\" >Extreme Gradient Boosting</td>\n",
       "      <td id=\"T_93814_row3_col1\" class=\"data row3 col1\" >0.7173</td>\n",
       "      <td id=\"T_93814_row3_col2\" class=\"data row3 col2\" >0.9544</td>\n",
       "      <td id=\"T_93814_row3_col3\" class=\"data row3 col3\" >0.7184</td>\n",
       "      <td id=\"T_93814_row3_col4\" class=\"data row3 col4\" >0.7321</td>\n",
       "      <td id=\"T_93814_row3_col5\" class=\"data row3 col5\" >0.7149</td>\n",
       "      <td id=\"T_93814_row3_col6\" class=\"data row3 col6\" >0.6858</td>\n",
       "      <td id=\"T_93814_row3_col7\" class=\"data row3 col7\" >0.6880</td>\n",
       "      <td id=\"T_93814_row3_col8\" class=\"data row3 col8\" >0.3320</td>\n",
       "    </tr>\n",
       "    <tr>\n",
       "      <th id=\"T_93814_level0_row4\" class=\"row_heading level0 row4\" >rf</th>\n",
       "      <td id=\"T_93814_row4_col0\" class=\"data row4 col0\" >Random Forest Classifier</td>\n",
       "      <td id=\"T_93814_row4_col1\" class=\"data row4 col1\" >0.7136</td>\n",
       "      <td id=\"T_93814_row4_col2\" class=\"data row4 col2\" >0.9567</td>\n",
       "      <td id=\"T_93814_row4_col3\" class=\"data row4 col3\" >0.7140</td>\n",
       "      <td id=\"T_93814_row4_col4\" class=\"data row4 col4\" >0.7311</td>\n",
       "      <td id=\"T_93814_row4_col5\" class=\"data row4 col5\" >0.7094</td>\n",
       "      <td id=\"T_93814_row4_col6\" class=\"data row4 col6\" >0.6816</td>\n",
       "      <td id=\"T_93814_row4_col7\" class=\"data row4 col7\" >0.6846</td>\n",
       "      <td id=\"T_93814_row4_col8\" class=\"data row4 col8\" >0.0490</td>\n",
       "    </tr>\n",
       "    <tr>\n",
       "      <th id=\"T_93814_level0_row5\" class=\"row_heading level0 row5\" >lda</th>\n",
       "      <td id=\"T_93814_row5_col0\" class=\"data row5 col0\" >Linear Discriminant Analysis</td>\n",
       "      <td id=\"T_93814_row5_col1\" class=\"data row5 col1\" >0.7136</td>\n",
       "      <td id=\"T_93814_row5_col2\" class=\"data row5 col2\" >0.9504</td>\n",
       "      <td id=\"T_93814_row5_col3\" class=\"data row5 col3\" >0.7130</td>\n",
       "      <td id=\"T_93814_row5_col4\" class=\"data row5 col4\" >0.7412</td>\n",
       "      <td id=\"T_93814_row5_col5\" class=\"data row5 col5\" >0.7129</td>\n",
       "      <td id=\"T_93814_row5_col6\" class=\"data row5 col6\" >0.6815</td>\n",
       "      <td id=\"T_93814_row5_col7\" class=\"data row5 col7\" >0.6848</td>\n",
       "      <td id=\"T_93814_row5_col8\" class=\"data row5 col8\" >0.2120</td>\n",
       "    </tr>\n",
       "    <tr>\n",
       "      <th id=\"T_93814_level0_row6\" class=\"row_heading level0 row6\" >gbc</th>\n",
       "      <td id=\"T_93814_row6_col0\" class=\"data row6 col0\" >Gradient Boosting Classifier</td>\n",
       "      <td id=\"T_93814_row6_col1\" class=\"data row6 col1\" >0.7037</td>\n",
       "      <td id=\"T_93814_row6_col2\" class=\"data row6 col2\" >0.9495</td>\n",
       "      <td id=\"T_93814_row6_col3\" class=\"data row6 col3\" >0.7049</td>\n",
       "      <td id=\"T_93814_row6_col4\" class=\"data row6 col4\" >0.7262</td>\n",
       "      <td id=\"T_93814_row6_col5\" class=\"data row6 col5\" >0.7052</td>\n",
       "      <td id=\"T_93814_row6_col6\" class=\"data row6 col6\" >0.6707</td>\n",
       "      <td id=\"T_93814_row6_col7\" class=\"data row6 col7\" >0.6731</td>\n",
       "      <td id=\"T_93814_row6_col8\" class=\"data row6 col8\" >1.4590</td>\n",
       "    </tr>\n",
       "    <tr>\n",
       "      <th id=\"T_93814_level0_row7\" class=\"row_heading level0 row7\" >ridge</th>\n",
       "      <td id=\"T_93814_row7_col0\" class=\"data row7 col0\" >Ridge Classifier</td>\n",
       "      <td id=\"T_93814_row7_col1\" class=\"data row7 col1\" >0.6235</td>\n",
       "      <td id=\"T_93814_row7_col2\" class=\"data row7 col2\" >0.0000</td>\n",
       "      <td id=\"T_93814_row7_col3\" class=\"data row7 col3\" >0.6239</td>\n",
       "      <td id=\"T_93814_row7_col4\" class=\"data row7 col4\" >0.6404</td>\n",
       "      <td id=\"T_93814_row7_col5\" class=\"data row7 col5\" >0.5994</td>\n",
       "      <td id=\"T_93814_row7_col6\" class=\"data row7 col6\" >0.5814</td>\n",
       "      <td id=\"T_93814_row7_col7\" class=\"data row7 col7\" >0.5871</td>\n",
       "      <td id=\"T_93814_row7_col8\" class=\"data row7 col8\" >0.0030</td>\n",
       "    </tr>\n",
       "    <tr>\n",
       "      <th id=\"T_93814_level0_row8\" class=\"row_heading level0 row8\" >dt</th>\n",
       "      <td id=\"T_93814_row8_col0\" class=\"data row8 col0\" >Decision Tree Classifier</td>\n",
       "      <td id=\"T_93814_row8_col1\" class=\"data row8 col1\" >0.5136</td>\n",
       "      <td id=\"T_93814_row8_col2\" class=\"data row8 col2\" >0.7298</td>\n",
       "      <td id=\"T_93814_row8_col3\" class=\"data row8 col3\" >0.5151</td>\n",
       "      <td id=\"T_93814_row8_col4\" class=\"data row8 col4\" >0.5253</td>\n",
       "      <td id=\"T_93814_row8_col5\" class=\"data row8 col5\" >0.5099</td>\n",
       "      <td id=\"T_93814_row8_col6\" class=\"data row8 col6\" >0.4595</td>\n",
       "      <td id=\"T_93814_row8_col7\" class=\"data row8 col7\" >0.4614</td>\n",
       "      <td id=\"T_93814_row8_col8\" class=\"data row8 col8\" >0.2080</td>\n",
       "    </tr>\n",
       "    <tr>\n",
       "      <th id=\"T_93814_level0_row9\" class=\"row_heading level0 row9\" >qda</th>\n",
       "      <td id=\"T_93814_row9_col0\" class=\"data row9 col0\" >Quadratic Discriminant Analysis</td>\n",
       "      <td id=\"T_93814_row9_col1\" class=\"data row9 col1\" >0.4667</td>\n",
       "      <td id=\"T_93814_row9_col2\" class=\"data row9 col2\" >0.8086</td>\n",
       "      <td id=\"T_93814_row9_col3\" class=\"data row9 col3\" >0.4633</td>\n",
       "      <td id=\"T_93814_row9_col4\" class=\"data row9 col4\" >0.5672</td>\n",
       "      <td id=\"T_93814_row9_col5\" class=\"data row9 col5\" >0.4493</td>\n",
       "      <td id=\"T_93814_row9_col6\" class=\"data row9 col6\" >0.4062</td>\n",
       "      <td id=\"T_93814_row9_col7\" class=\"data row9 col7\" >0.4229</td>\n",
       "      <td id=\"T_93814_row9_col8\" class=\"data row9 col8\" >0.0050</td>\n",
       "    </tr>\n",
       "    <tr>\n",
       "      <th id=\"T_93814_level0_row10\" class=\"row_heading level0 row10\" >nb</th>\n",
       "      <td id=\"T_93814_row10_col0\" class=\"data row10 col0\" >Naive Bayes</td>\n",
       "      <td id=\"T_93814_row10_col1\" class=\"data row10 col1\" >0.4444</td>\n",
       "      <td id=\"T_93814_row10_col2\" class=\"data row10 col2\" >0.8380</td>\n",
       "      <td id=\"T_93814_row10_col3\" class=\"data row10 col3\" >0.4450</td>\n",
       "      <td id=\"T_93814_row10_col4\" class=\"data row10 col4\" >0.4857</td>\n",
       "      <td id=\"T_93814_row10_col5\" class=\"data row10 col5\" >0.4193</td>\n",
       "      <td id=\"T_93814_row10_col6\" class=\"data row10 col6\" >0.3824</td>\n",
       "      <td id=\"T_93814_row10_col7\" class=\"data row10 col7\" >0.3916</td>\n",
       "      <td id=\"T_93814_row10_col8\" class=\"data row10 col8\" >0.3950</td>\n",
       "    </tr>\n",
       "    <tr>\n",
       "      <th id=\"T_93814_level0_row11\" class=\"row_heading level0 row11\" >lr</th>\n",
       "      <td id=\"T_93814_row11_col0\" class=\"data row11 col0\" >Logistic Regression</td>\n",
       "      <td id=\"T_93814_row11_col1\" class=\"data row11 col1\" >0.3815</td>\n",
       "      <td id=\"T_93814_row11_col2\" class=\"data row11 col2\" >0.7810</td>\n",
       "      <td id=\"T_93814_row11_col3\" class=\"data row11 col3\" >0.3809</td>\n",
       "      <td id=\"T_93814_row11_col4\" class=\"data row11 col4\" >0.3381</td>\n",
       "      <td id=\"T_93814_row11_col5\" class=\"data row11 col5\" >0.3377</td>\n",
       "      <td id=\"T_93814_row11_col6\" class=\"data row11 col6\" >0.3121</td>\n",
       "      <td id=\"T_93814_row11_col7\" class=\"data row11 col7\" >0.3185</td>\n",
       "      <td id=\"T_93814_row11_col8\" class=\"data row11 col8\" >0.4640</td>\n",
       "    </tr>\n",
       "    <tr>\n",
       "      <th id=\"T_93814_level0_row12\" class=\"row_heading level0 row12\" >ada</th>\n",
       "      <td id=\"T_93814_row12_col0\" class=\"data row12 col0\" >Ada Boost Classifier</td>\n",
       "      <td id=\"T_93814_row12_col1\" class=\"data row12 col1\" >0.3432</td>\n",
       "      <td id=\"T_93814_row12_col2\" class=\"data row12 col2\" >0.7266</td>\n",
       "      <td id=\"T_93814_row12_col3\" class=\"data row12 col3\" >0.3425</td>\n",
       "      <td id=\"T_93814_row12_col4\" class=\"data row12 col4\" >0.3148</td>\n",
       "      <td id=\"T_93814_row12_col5\" class=\"data row12 col5\" >0.3008</td>\n",
       "      <td id=\"T_93814_row12_col6\" class=\"data row12 col6\" >0.2694</td>\n",
       "      <td id=\"T_93814_row12_col7\" class=\"data row12 col7\" >0.2810</td>\n",
       "      <td id=\"T_93814_row12_col8\" class=\"data row12 col8\" >0.0380</td>\n",
       "    </tr>\n",
       "    <tr>\n",
       "      <th id=\"T_93814_level0_row13\" class=\"row_heading level0 row13\" >svm</th>\n",
       "      <td id=\"T_93814_row13_col0\" class=\"data row13 col0\" >SVM - Linear Kernel</td>\n",
       "      <td id=\"T_93814_row13_col1\" class=\"data row13 col1\" >0.1617</td>\n",
       "      <td id=\"T_93814_row13_col2\" class=\"data row13 col2\" >0.0000</td>\n",
       "      <td id=\"T_93814_row13_col3\" class=\"data row13 col3\" >0.1632</td>\n",
       "      <td id=\"T_93814_row13_col4\" class=\"data row13 col4\" >0.1096</td>\n",
       "      <td id=\"T_93814_row13_col5\" class=\"data row13 col5\" >0.0846</td>\n",
       "      <td id=\"T_93814_row13_col6\" class=\"data row13 col6\" >0.0692</td>\n",
       "      <td id=\"T_93814_row13_col7\" class=\"data row13 col7\" >0.1164</td>\n",
       "      <td id=\"T_93814_row13_col8\" class=\"data row13 col8\" >0.0090</td>\n",
       "    </tr>\n",
       "    <tr>\n",
       "      <th id=\"T_93814_level0_row14\" class=\"row_heading level0 row14\" >dummy</th>\n",
       "      <td id=\"T_93814_row14_col0\" class=\"data row14 col0\" >Dummy Classifier</td>\n",
       "      <td id=\"T_93814_row14_col1\" class=\"data row14 col1\" >0.1074</td>\n",
       "      <td id=\"T_93814_row14_col2\" class=\"data row14 col2\" >0.5000</td>\n",
       "      <td id=\"T_93814_row14_col3\" class=\"data row14 col3\" >0.1000</td>\n",
       "      <td id=\"T_93814_row14_col4\" class=\"data row14 col4\" >0.0116</td>\n",
       "      <td id=\"T_93814_row14_col5\" class=\"data row14 col5\" >0.0209</td>\n",
       "      <td id=\"T_93814_row14_col6\" class=\"data row14 col6\" >0.0000</td>\n",
       "      <td id=\"T_93814_row14_col7\" class=\"data row14 col7\" >0.0000</td>\n",
       "      <td id=\"T_93814_row14_col8\" class=\"data row14 col8\" >0.0060</td>\n",
       "    </tr>\n",
       "  </tbody>\n",
       "</table>\n"
      ],
      "text/plain": [
       "<pandas.io.formats.style.Styler at 0x29736824460>"
      ]
     },
     "metadata": {},
     "output_type": "display_data"
    }
   ],
   "source": [
    "best = compare_models(n_select=3, sort=\"Accuracy\")"
   ]
  },
  {
   "cell_type": "code",
   "execution_count": 16,
   "metadata": {
    "ExecuteTime": {
     "end_time": "2022-08-25T06:56:11.844092Z",
     "start_time": "2022-08-25T06:50:35.901740Z"
    }
   },
   "outputs": [
    {
     "data": {
      "text/html": [
       "<style type=\"text/css\">\n",
       "#T_e2a6f_row10_col0, #T_e2a6f_row10_col1, #T_e2a6f_row10_col2, #T_e2a6f_row10_col3, #T_e2a6f_row10_col4, #T_e2a6f_row10_col5, #T_e2a6f_row10_col6 {\n",
       "  background: yellow;\n",
       "}\n",
       "</style>\n",
       "<table id=\"T_e2a6f\">\n",
       "  <thead>\n",
       "    <tr>\n",
       "      <th class=\"blank level0\" >&nbsp;</th>\n",
       "      <th id=\"T_e2a6f_level0_col0\" class=\"col_heading level0 col0\" >Accuracy</th>\n",
       "      <th id=\"T_e2a6f_level0_col1\" class=\"col_heading level0 col1\" >AUC</th>\n",
       "      <th id=\"T_e2a6f_level0_col2\" class=\"col_heading level0 col2\" >Recall</th>\n",
       "      <th id=\"T_e2a6f_level0_col3\" class=\"col_heading level0 col3\" >Prec.</th>\n",
       "      <th id=\"T_e2a6f_level0_col4\" class=\"col_heading level0 col4\" >F1</th>\n",
       "      <th id=\"T_e2a6f_level0_col5\" class=\"col_heading level0 col5\" >Kappa</th>\n",
       "      <th id=\"T_e2a6f_level0_col6\" class=\"col_heading level0 col6\" >MCC</th>\n",
       "    </tr>\n",
       "    <tr>\n",
       "      <th class=\"index_name level0\" >Fold</th>\n",
       "      <th class=\"blank col0\" >&nbsp;</th>\n",
       "      <th class=\"blank col1\" >&nbsp;</th>\n",
       "      <th class=\"blank col2\" >&nbsp;</th>\n",
       "      <th class=\"blank col3\" >&nbsp;</th>\n",
       "      <th class=\"blank col4\" >&nbsp;</th>\n",
       "      <th class=\"blank col5\" >&nbsp;</th>\n",
       "      <th class=\"blank col6\" >&nbsp;</th>\n",
       "    </tr>\n",
       "  </thead>\n",
       "  <tbody>\n",
       "    <tr>\n",
       "      <th id=\"T_e2a6f_level0_row0\" class=\"row_heading level0 row0\" >0</th>\n",
       "      <td id=\"T_e2a6f_row0_col0\" class=\"data row0 col0\" >0.8272</td>\n",
       "      <td id=\"T_e2a6f_row0_col1\" class=\"data row0 col1\" >0.9809</td>\n",
       "      <td id=\"T_e2a6f_row0_col2\" class=\"data row0 col2\" >0.8260</td>\n",
       "      <td id=\"T_e2a6f_row0_col3\" class=\"data row0 col3\" >0.8304</td>\n",
       "      <td id=\"T_e2a6f_row0_col4\" class=\"data row0 col4\" >0.8219</td>\n",
       "      <td id=\"T_e2a6f_row0_col5\" class=\"data row0 col5\" >0.8078</td>\n",
       "      <td id=\"T_e2a6f_row0_col6\" class=\"data row0 col6\" >0.8094</td>\n",
       "    </tr>\n",
       "    <tr>\n",
       "      <th id=\"T_e2a6f_level0_row1\" class=\"row_heading level0 row1\" >1</th>\n",
       "      <td id=\"T_e2a6f_row1_col0\" class=\"data row1 col0\" >0.7160</td>\n",
       "      <td id=\"T_e2a6f_row1_col1\" class=\"data row1 col1\" >0.9622</td>\n",
       "      <td id=\"T_e2a6f_row1_col2\" class=\"data row1 col2\" >0.7194</td>\n",
       "      <td id=\"T_e2a6f_row1_col3\" class=\"data row1 col3\" >0.7500</td>\n",
       "      <td id=\"T_e2a6f_row1_col4\" class=\"data row1 col4\" >0.7142</td>\n",
       "      <td id=\"T_e2a6f_row1_col5\" class=\"data row1 col5\" >0.6847</td>\n",
       "      <td id=\"T_e2a6f_row1_col6\" class=\"data row1 col6\" >0.6880</td>\n",
       "    </tr>\n",
       "    <tr>\n",
       "      <th id=\"T_e2a6f_level0_row2\" class=\"row_heading level0 row2\" >2</th>\n",
       "      <td id=\"T_e2a6f_row2_col0\" class=\"data row2 col0\" >0.7407</td>\n",
       "      <td id=\"T_e2a6f_row2_col1\" class=\"data row2 col1\" >0.9666</td>\n",
       "      <td id=\"T_e2a6f_row2_col2\" class=\"data row2 col2\" >0.7403</td>\n",
       "      <td id=\"T_e2a6f_row2_col3\" class=\"data row2 col3\" >0.7605</td>\n",
       "      <td id=\"T_e2a6f_row2_col4\" class=\"data row2 col4\" >0.7430</td>\n",
       "      <td id=\"T_e2a6f_row2_col5\" class=\"data row2 col5\" >0.7118</td>\n",
       "      <td id=\"T_e2a6f_row2_col6\" class=\"data row2 col6\" >0.7133</td>\n",
       "    </tr>\n",
       "    <tr>\n",
       "      <th id=\"T_e2a6f_level0_row3\" class=\"row_heading level0 row3\" >3</th>\n",
       "      <td id=\"T_e2a6f_row3_col0\" class=\"data row3 col0\" >0.7284</td>\n",
       "      <td id=\"T_e2a6f_row3_col1\" class=\"data row3 col1\" >0.9604</td>\n",
       "      <td id=\"T_e2a6f_row3_col2\" class=\"data row3 col2\" >0.7333</td>\n",
       "      <td id=\"T_e2a6f_row3_col3\" class=\"data row3 col3\" >0.7284</td>\n",
       "      <td id=\"T_e2a6f_row3_col4\" class=\"data row3 col4\" >0.7209</td>\n",
       "      <td id=\"T_e2a6f_row3_col5\" class=\"data row3 col5\" >0.6984</td>\n",
       "      <td id=\"T_e2a6f_row3_col6\" class=\"data row3 col6\" >0.7002</td>\n",
       "    </tr>\n",
       "    <tr>\n",
       "      <th id=\"T_e2a6f_level0_row4\" class=\"row_heading level0 row4\" >4</th>\n",
       "      <td id=\"T_e2a6f_row4_col0\" class=\"data row4 col0\" >0.7901</td>\n",
       "      <td id=\"T_e2a6f_row4_col1\" class=\"data row4 col1\" >0.9744</td>\n",
       "      <td id=\"T_e2a6f_row4_col2\" class=\"data row4 col2\" >0.7895</td>\n",
       "      <td id=\"T_e2a6f_row4_col3\" class=\"data row4 col3\" >0.7948</td>\n",
       "      <td id=\"T_e2a6f_row4_col4\" class=\"data row4 col4\" >0.7859</td>\n",
       "      <td id=\"T_e2a6f_row4_col5\" class=\"data row4 col5\" >0.7667</td>\n",
       "      <td id=\"T_e2a6f_row4_col6\" class=\"data row4 col6\" >0.7683</td>\n",
       "    </tr>\n",
       "    <tr>\n",
       "      <th id=\"T_e2a6f_level0_row5\" class=\"row_heading level0 row5\" >5</th>\n",
       "      <td id=\"T_e2a6f_row5_col0\" class=\"data row5 col0\" >0.8272</td>\n",
       "      <td id=\"T_e2a6f_row5_col1\" class=\"data row5 col1\" >0.9766</td>\n",
       "      <td id=\"T_e2a6f_row5_col2\" class=\"data row5 col2\" >0.8278</td>\n",
       "      <td id=\"T_e2a6f_row5_col3\" class=\"data row5 col3\" >0.8332</td>\n",
       "      <td id=\"T_e2a6f_row5_col4\" class=\"data row5 col4\" >0.8193</td>\n",
       "      <td id=\"T_e2a6f_row5_col5\" class=\"data row5 col5\" >0.8078</td>\n",
       "      <td id=\"T_e2a6f_row5_col6\" class=\"data row5 col6\" >0.8102</td>\n",
       "    </tr>\n",
       "    <tr>\n",
       "      <th id=\"T_e2a6f_level0_row6\" class=\"row_heading level0 row6\" >6</th>\n",
       "      <td id=\"T_e2a6f_row6_col0\" class=\"data row6 col0\" >0.8272</td>\n",
       "      <td id=\"T_e2a6f_row6_col1\" class=\"data row6 col1\" >0.9766</td>\n",
       "      <td id=\"T_e2a6f_row6_col2\" class=\"data row6 col2\" >0.8302</td>\n",
       "      <td id=\"T_e2a6f_row6_col3\" class=\"data row6 col3\" >0.8415</td>\n",
       "      <td id=\"T_e2a6f_row6_col4\" class=\"data row6 col4\" >0.8228</td>\n",
       "      <td id=\"T_e2a6f_row6_col5\" class=\"data row6 col5\" >0.8079</td>\n",
       "      <td id=\"T_e2a6f_row6_col6\" class=\"data row6 col6\" >0.8105</td>\n",
       "    </tr>\n",
       "    <tr>\n",
       "      <th id=\"T_e2a6f_level0_row7\" class=\"row_heading level0 row7\" >7</th>\n",
       "      <td id=\"T_e2a6f_row7_col0\" class=\"data row7 col0\" >0.7901</td>\n",
       "      <td id=\"T_e2a6f_row7_col1\" class=\"data row7 col1\" >0.9536</td>\n",
       "      <td id=\"T_e2a6f_row7_col2\" class=\"data row7 col2\" >0.7927</td>\n",
       "      <td id=\"T_e2a6f_row7_col3\" class=\"data row7 col3\" >0.8168</td>\n",
       "      <td id=\"T_e2a6f_row7_col4\" class=\"data row7 col4\" >0.7960</td>\n",
       "      <td id=\"T_e2a6f_row7_col5\" class=\"data row7 col5\" >0.7667</td>\n",
       "      <td id=\"T_e2a6f_row7_col6\" class=\"data row7 col6\" >0.7689</td>\n",
       "    </tr>\n",
       "    <tr>\n",
       "      <th id=\"T_e2a6f_level0_row8\" class=\"row_heading level0 row8\" >8</th>\n",
       "      <td id=\"T_e2a6f_row8_col0\" class=\"data row8 col0\" >0.7284</td>\n",
       "      <td id=\"T_e2a6f_row8_col1\" class=\"data row8 col1\" >0.9654</td>\n",
       "      <td id=\"T_e2a6f_row8_col2\" class=\"data row8 col2\" >0.7292</td>\n",
       "      <td id=\"T_e2a6f_row8_col3\" class=\"data row8 col3\" >0.7347</td>\n",
       "      <td id=\"T_e2a6f_row8_col4\" class=\"data row8 col4\" >0.7233</td>\n",
       "      <td id=\"T_e2a6f_row8_col5\" class=\"data row8 col5\" >0.6981</td>\n",
       "      <td id=\"T_e2a6f_row8_col6\" class=\"data row8 col6\" >0.7004</td>\n",
       "    </tr>\n",
       "    <tr>\n",
       "      <th id=\"T_e2a6f_level0_row9\" class=\"row_heading level0 row9\" >9</th>\n",
       "      <td id=\"T_e2a6f_row9_col0\" class=\"data row9 col0\" >0.7778</td>\n",
       "      <td id=\"T_e2a6f_row9_col1\" class=\"data row9 col1\" >0.9662</td>\n",
       "      <td id=\"T_e2a6f_row9_col2\" class=\"data row9 col2\" >0.7792</td>\n",
       "      <td id=\"T_e2a6f_row9_col3\" class=\"data row9 col3\" >0.8039</td>\n",
       "      <td id=\"T_e2a6f_row9_col4\" class=\"data row9 col4\" >0.7789</td>\n",
       "      <td id=\"T_e2a6f_row9_col5\" class=\"data row9 col5\" >0.7532</td>\n",
       "      <td id=\"T_e2a6f_row9_col6\" class=\"data row9 col6\" >0.7556</td>\n",
       "    </tr>\n",
       "    <tr>\n",
       "      <th id=\"T_e2a6f_level0_row10\" class=\"row_heading level0 row10\" >Mean</th>\n",
       "      <td id=\"T_e2a6f_row10_col0\" class=\"data row10 col0\" >0.7753</td>\n",
       "      <td id=\"T_e2a6f_row10_col1\" class=\"data row10 col1\" >0.9683</td>\n",
       "      <td id=\"T_e2a6f_row10_col2\" class=\"data row10 col2\" >0.7767</td>\n",
       "      <td id=\"T_e2a6f_row10_col3\" class=\"data row10 col3\" >0.7894</td>\n",
       "      <td id=\"T_e2a6f_row10_col4\" class=\"data row10 col4\" >0.7726</td>\n",
       "      <td id=\"T_e2a6f_row10_col5\" class=\"data row10 col5\" >0.7503</td>\n",
       "      <td id=\"T_e2a6f_row10_col6\" class=\"data row10 col6\" >0.7525</td>\n",
       "    </tr>\n",
       "    <tr>\n",
       "      <th id=\"T_e2a6f_level0_row11\" class=\"row_heading level0 row11\" >Std</th>\n",
       "      <td id=\"T_e2a6f_row11_col0\" class=\"data row11 col0\" >0.0420</td>\n",
       "      <td id=\"T_e2a6f_row11_col1\" class=\"data row11 col1\" >0.0082</td>\n",
       "      <td id=\"T_e2a6f_row11_col2\" class=\"data row11 col2\" >0.0413</td>\n",
       "      <td id=\"T_e2a6f_row11_col3\" class=\"data row11 col3\" >0.0405</td>\n",
       "      <td id=\"T_e2a6f_row11_col4\" class=\"data row11 col4\" >0.0416</td>\n",
       "      <td id=\"T_e2a6f_row11_col5\" class=\"data row11 col5\" >0.0466</td>\n",
       "      <td id=\"T_e2a6f_row11_col6\" class=\"data row11 col6\" >0.0465</td>\n",
       "    </tr>\n",
       "  </tbody>\n",
       "</table>\n"
      ],
      "text/plain": [
       "<pandas.io.formats.style.Styler at 0x29736ab5a60>"
      ]
     },
     "metadata": {},
     "output_type": "display_data"
    }
   ],
   "source": [
    "blender = blend_models(estimator_list=best)"
   ]
  },
  {
   "cell_type": "code",
   "execution_count": 17,
   "metadata": {
    "ExecuteTime": {
     "end_time": "2022-08-25T07:03:54.865012Z",
     "start_time": "2022-08-25T06:58:07.171244Z"
    }
   },
   "outputs": [],
   "source": [
    "final = finalize_model(blender)"
   ]
  },
  {
   "cell_type": "code",
   "execution_count": 20,
   "metadata": {
    "ExecuteTime": {
     "end_time": "2022-08-25T07:04:51.553513Z",
     "start_time": "2022-08-25T07:04:51.548523Z"
    }
   },
   "outputs": [],
   "source": [
    "df_test_x = df_test.drop([\"le_label\"], axis=1)\n",
    "df_test_y = df_test[\"le_label\"]\n",
    "y_pred = predict_model(final, data=df_test_x)"
   ]
  },
  {
   "cell_type": "code",
   "execution_count": 23,
   "metadata": {
    "ExecuteTime": {
     "end_time": "2022-08-25T07:05:30.447693Z",
     "start_time": "2022-08-25T07:05:30.427176Z"
    }
   },
   "outputs": [
    {
     "data": {
      "text/plain": [
       "21     0\n",
       "430    3\n",
       "621    6\n",
       "733    8\n",
       "393    3\n",
       "      ..\n",
       "654    6\n",
       "449    4\n",
       "425    4\n",
       "282    2\n",
       "570    5\n",
       "Name: Label, Length: 100, dtype: int32"
      ]
     },
     "execution_count": 23,
     "metadata": {},
     "output_type": "execute_result"
    }
   ],
   "source": [
    "y_pred[\"Label\"]"
   ]
  },
  {
   "cell_type": "code",
   "execution_count": 24,
   "metadata": {
    "ExecuteTime": {
     "end_time": "2022-08-25T07:06:21.156128Z",
     "start_time": "2022-08-25T07:06:20.819507Z"
    }
   },
   "outputs": [
    {
     "name": "stdout",
     "output_type": "stream",
     "text": [
      "\u001b[31mTest Acc\t:\u001b[0m 0.83 \n",
      "\n",
      "\n",
      "\u001b[31mClassfication_report :\n",
      "\u001b[0m               precision    recall  f1-score   support\n",
      "\n",
      "           0       1.00      0.90      0.95        10\n",
      "           1       1.00      0.90      0.95        10\n",
      "           2       0.71      1.00      0.83        10\n",
      "           3       0.80      0.80      0.80        10\n",
      "           4       0.80      0.80      0.80        10\n",
      "           5       0.82      0.90      0.86        10\n",
      "           6       0.82      0.90      0.86        10\n",
      "           7       1.00      0.80      0.89        10\n",
      "           8       0.58      0.70      0.64        10\n",
      "           9       1.00      0.60      0.75        10\n",
      "\n",
      "    accuracy                           0.83       100\n",
      "   macro avg       0.85      0.83      0.83       100\n",
      "weighted avg       0.85      0.83      0.83       100\n",
      "\n"
     ]
    },
    {
     "data": {
      "image/png": "[encoded data removed]",
      "text/plain": [
       "<Figure size 576x576 with 2 Axes>"
      ]
     },
     "metadata": {},
     "output_type": "display_data"
    }
   ],
   "source": [
    "print(colored(\"Test Acc\\t:\",\"red\"),accuracy_score(df_test_y, y_pred[\"Label\"]),\"\\n\\n\")\n",
    "print(colored(\"Classfication_report :\\n\", \"red\"), classification_report(df_test_y, y_pred[\"Label\"]))\n",
    "plt.figure(figsize=(8,8))\n",
    "plt.title(\"Confusion_matrix\", fontsize=20, color=\"red\")\n",
    "sns.heatmap(confusion_matrix(df_test_y, y_pred[\"Label\"]), annot=True, cmap=\"PuBu\", xticklabels=le.classes_, yticklabels=le.classes_);"
   ]
  },
  {
   "cell_type": "markdown",
   "metadata": {
    "ExecuteTime": {
     "end_time": "2022-08-25T07:06:52.497354Z",
     "start_time": "2022-08-25T07:06:52.492350Z"
    }
   },
   "source": [
    "### | 학습 - DNN"
   ]
  },
  {
   "cell_type": "code",
   "execution_count": 52,
   "metadata": {
    "ExecuteTime": {
     "end_time": "2022-08-25T07:21:24.970171Z",
     "start_time": "2022-08-25T07:21:24.957168Z"
    }
   },
   "outputs": [],
   "source": [
    "le = preprocessing.LabelEncoder()\n",
    "df[\"le_label\"] = le.fit_transform(df[\"label\"])\n",
    "\n",
    "x = df.drop(columns=[\"filename\", \"length\", \"label\", \"le_label\"])\n",
    "y = df[\"le_label\"]\n",
    "\n",
    "x_train, x_test, y_train, y_test = tts(x, y, test_size=0.1, stratify=df[\"le_label\"], random_state=0)"
   ]
  },
  {
   "cell_type": "markdown",
   "metadata": {},
   "source": [
    "#### 모델"
   ]
  },
  {
   "cell_type": "code",
   "execution_count": 57,
   "metadata": {
    "ExecuteTime": {
     "end_time": "2022-08-25T07:22:48.350256Z",
     "start_time": "2022-08-25T07:22:48.309419Z"
    }
   },
   "outputs": [
    {
     "name": "stdout",
     "output_type": "stream",
     "text": [
      "Model: \"sequential_9\"\n",
      "_________________________________________________________________\n",
      " Layer (type)                Output Shape              Param #   \n",
      "=================================================================\n",
      " dense_33 (Dense)            (None, 120)               7920      \n",
      "                                                                 \n",
      " dense_34 (Dense)            (None, 200)               24200     \n",
      "                                                                 \n",
      " dense_35 (Dense)            (None, 100)               20100     \n",
      "                                                                 \n",
      " dense_36 (Dense)            (None, 30)                3030      \n",
      "                                                                 \n",
      " dense_37 (Dense)            (None, 10)                310       \n",
      "                                                                 \n",
      "=================================================================\n",
      "Total params: 55,560\n",
      "Trainable params: 55,560\n",
      "Non-trainable params: 0\n",
      "_________________________________________________________________\n"
     ]
    }
   ],
   "source": [
    "model = Sequential()\n",
    "model.add(Dense(120, input_dim=65, activation='elu', kernel_initializer=tf.keras.initializers.HeNormal()))\n",
    "model.add(Dense(200, activation='elu', kernel_initializer=tf.keras.initializers.HeNormal()))\n",
    "model.add(Dense(100, activation='elu', kernel_initializer=tf.keras.initializers.HeNormal()))\n",
    "model.add(Dense(30, activation='elu', kernel_initializer=tf.keras.initializers.HeNormal()))\n",
    "model.add(Dense(10, activation='softmax', kernel_initializer=tf.keras.initializers.HeNormal()))\n",
    "opt = tf.keras.optimizers.Adam()\n",
    "model.compile(optimizer=opt, loss=tf.keras.losses.sparse_categorical_crossentropy, metrics=[\"acc\"])\n",
    "ckp = tf.keras.callbacks.ModelCheckpoint(\"model/ckp.h5\", save_best_only=True, monitor=\"val_acc\")\n",
    "lr = tf.keras.callbacks.ReduceLROnPlateau(factor=0.5, monitor=\"val_loss\", patience=5, cooldown=3)\n",
    "model.summary()"
   ]
  },
  {
   "cell_type": "markdown",
   "metadata": {},
   "source": [
    "#### 학습"
   ]
  },
  {
   "cell_type": "code",
   "execution_count": 58,
   "metadata": {
    "ExecuteTime": {
     "end_time": "2022-08-25T07:23:20.341314Z",
     "start_time": "2022-08-25T07:22:51.108825Z"
    }
   },
   "outputs": [
    {
     "data": {
      "application/vnd.jupyter.widget-view+json": {
       "model_id": "c5ef944dfa82402491b79803e6f539f1",
       "version_major": 2,
       "version_minor": 0
      },
      "text/plain": [
       "Training:   0%|                                                                               0/500 ETA: ?s,  …"
      ]
     },
     "metadata": {},
     "output_type": "display_data"
    }
   ],
   "source": [
    "epochs_hist = model.fit(x_train, y_train, epochs=500, batch_size=50, validation_split=0.1, callbacks=[ckp, lr,tqdm_callback], verbose=0)"
   ]
  },
  {
   "cell_type": "markdown",
   "metadata": {},
   "source": [
    "#### 결과"
   ]
  },
  {
   "cell_type": "code",
   "execution_count": 59,
   "metadata": {
    "ExecuteTime": {
     "end_time": "2022-08-25T07:23:21.562884Z",
     "start_time": "2022-08-25T07:23:21.420606Z"
    }
   },
   "outputs": [
    {
     "data": {
      "image/png": "[encoded data removed]",
      "text/plain": [
       "<Figure size 864x288 with 2 Axes>"
      ]
     },
     "metadata": {},
     "output_type": "display_data"
    }
   ],
   "source": [
    "from Myfunc import show_lcurve\n",
    "show_lcurve([epochs_hist], [\"\"], x_itv=100)"
   ]
  },
  {
   "cell_type": "code",
   "execution_count": 60,
   "metadata": {
    "ExecuteTime": {
     "end_time": "2022-08-25T07:23:23.397694Z",
     "start_time": "2022-08-25T07:23:22.996828Z"
    }
   },
   "outputs": [
    {
     "name": "stdout",
     "output_type": "stream",
     "text": [
      "4/4 [==============================] - 0s 2ms/step\n",
      "\u001b[31mTest Acc\t:\u001b[0m 0.14 \n",
      "\n",
      "\n"
     ]
    },
    {
     "data": {
      "image/png": "[encoded data removed]",
      "text/plain": [
       "<Figure size 576x576 with 2 Axes>"
      ]
     },
     "metadata": {},
     "output_type": "display_data"
    }
   ],
   "source": [
    "from sklearn.metrics import confusion_matrix, accuracy_score, classification_report\n",
    "from termcolor import colored\n",
    "\n",
    "model = tf.keras.models.load_model(\"model/ckp.h5\")\n",
    "y_pred = model.predict(x_test)\n",
    "y_pred = tf.argmax(y_pred, axis=1)\n",
    "print(colored(\"Test Acc\\t:\",\"red\"),accuracy_score(y_test, y_pred),\"\\n\\n\")\n",
    "plt.figure(figsize=(8,8))\n",
    "plt.title(\"Confusion_matrix\", fontsize=20, color=\"red\")\n",
    "sns.heatmap(confusion_matrix(y_test, y_pred), annot=True, cmap=\"PuBu\", xticklabels=le.classes_, yticklabels=le.classes_);"
   ]
  },
  {
   "cell_type": "code",
   "execution_count": null,
   "metadata": {},
   "outputs": [],
   "source": []
  }
 ],
 "metadata": {
  "colab": {
   "collapsed_sections": [],
   "name": "ch04_05_WaveNet.ipynb",
   "provenance": [],
   "toc_visible": true
  },
  "kernelspec": {
   "display_name": "Python 3 (ipykernel)",
   "language": "python",
   "name": "python3"
  },
  "language_info": {
   "codemirror_mode": {
    "name": "ipython",
    "version": 3
   },
   "file_extension": ".py",
   "mimetype": "text/x-python",
   "name": "python",
   "nbconvert_exporter": "python",
   "pygments_lexer": "ipython3",
   "version": "3.9.0"
  },
  "toc": {
   "base_numbering": 1,
   "nav_menu": {},
   "number_sections": true,
   "sideBar": true,
   "skip_h1_title": false,
   "title_cell": "Table of Contents",
   "title_sidebar": "Contents",
   "toc_cell": false,
   "toc_position": {
    "height": "calc(100% - 180px)",
    "left": "10px",
    "top": "150px",
    "width": "341.312px"
   },
   "toc_section_display": true,
   "toc_window_display": false
  }
 },
 "nbformat": 4,
 "nbformat_minor": 1
}
