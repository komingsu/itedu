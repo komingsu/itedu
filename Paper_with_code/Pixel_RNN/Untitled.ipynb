{
 "cells": [
  {
   "cell_type": "code",
   "execution_count": 13,
   "id": "558f0cfb",
   "metadata": {
    "ExecuteTime": {
     "end_time": "2022-08-22T16:57:22.978269Z",
     "start_time": "2022-08-22T16:57:22.965157Z"
    }
   },
   "outputs": [],
   "source": [
    "import os\n",
    "import argparse\n",
    "from datetime import datetime\n",
    "import tensorflow as tf\n",
    "import tensorflow_datasets as tfds\n",
    "\n",
    "from model import PixelCNN, bits_per_dim_loss\n",
    "from utils import PlotSamplesCallback"
   ]
  },
  {
   "cell_type": "code",
   "execution_count": 14,
   "id": "2898b63e",
   "metadata": {
    "ExecuteTime": {
     "end_time": "2022-08-22T16:57:23.353232Z",
     "start_time": "2022-08-22T16:57:23.340220Z"
    }
   },
   "outputs": [],
   "source": [
    "tfk = tf.keras\n",
    "tfkl = tf.keras.layers\n",
    "AUTOTUNE = tf.data.experimental.AUTOTUNE"
   ]
  },
  {
   "cell_type": "code",
   "execution_count": 15,
   "id": "315f4908",
   "metadata": {
    "ExecuteTime": {
     "end_time": "2022-08-22T16:57:23.729861Z",
     "start_time": "2022-08-22T16:57:23.678693Z"
    }
   },
   "outputs": [],
   "source": [
    "# Training parameters\n",
    "EPOCHS = 75\n",
    "BATCH_SIZE = 64\n",
    "BUFFER_SIZE = 1024\n",
    "\n",
    "# Load dataset\n",
    "dataset, info = tfds.load('mnist', with_info=True)\n",
    "train_ds, test_ds = dataset['train'], dataset['test']"
   ]
  },
  {
   "cell_type": "code",
   "execution_count": 16,
   "id": "27c6431a",
   "metadata": {
    "ExecuteTime": {
     "end_time": "2022-08-22T16:57:24.678640Z",
     "start_time": "2022-08-22T16:57:24.658638Z"
    },
    "scrolled": false
   },
   "outputs": [],
   "source": [
    "def prepare(element):\n",
    "    image = element['image']\n",
    "    image = tf.cast(image, tf.float32)\n",
    "    # The image is not normalized\n",
    "    return image\n",
    "\n",
    "# PixelCNN training requires target = input\n",
    "def duplicate(element):\n",
    "    return element, element\n",
    "\n",
    "train_ds = (train_ds.shuffle(BUFFER_SIZE)\n",
    "                    .batch(BATCH_SIZE)\n",
    "                    .map(prepare, num_parallel_calls=AUTOTUNE)\n",
    "                    .map(duplicate)\n",
    "                    .prefetch(AUTOTUNE))\n",
    "\n",
    "test_ds = (test_ds.batch(BATCH_SIZE)\n",
    "                   .map(prepare, num_parallel_calls=AUTOTUNE)\n",
    "                   .map(duplicate)\n",
    "                   .prefetch(AUTOTUNE))"
   ]
  },
  {
   "cell_type": "code",
   "execution_count": 18,
   "id": "4789d861",
   "metadata": {
    "ExecuteTime": {
     "end_time": "2022-08-22T16:57:40.984787Z",
     "start_time": "2022-08-22T16:57:40.964805Z"
    }
   },
   "outputs": [],
   "source": [
    "model = PixelCNN(hidden_dim=64, n_res=4)\n",
    "model.compile(optimizer='adam', loss=bits_per_dim_loss)"
   ]
  },
  {
   "cell_type": "code",
   "execution_count": 19,
   "id": "2819347e",
   "metadata": {
    "ExecuteTime": {
     "end_time": "2022-08-22T16:57:42.397809Z",
     "start_time": "2022-08-22T16:57:42.390806Z"
    }
   },
   "outputs": [],
   "source": [
    "# Learning rate scheduler\n",
    "steps_per_epochs = info.splits['train'].num_examples // BATCH_SIZE\n",
    "decay_per_epoch = 0.999995**steps_per_epochs\n",
    "schedule = tfk.optimizers.schedules.ExponentialDecay(initial_learning_rate=0.001, decay_rate=decay_per_epoch, decay_steps=1)"
   ]
  },
  {
   "cell_type": "code",
   "execution_count": 20,
   "id": "d16786c7",
   "metadata": {
    "ExecuteTime": {
     "end_time": "2022-08-22T16:57:43.449441Z",
     "start_time": "2022-08-22T16:57:43.412817Z"
    }
   },
   "outputs": [],
   "source": [
    "# Callbacks\n",
    "time = datetime.now().strftime('%Y%m%d-%H%M%S')\n",
    "log_dir = os.path.join('.', 'logs', 'pixelcnn', time)\n",
    "tensorboard_clbk = tfk.callbacks.TensorBoard(log_dir=log_dir)\n",
    "sample_clbk = PlotSamplesCallback(logdir=log_dir)\n",
    "scheduler_clbk = tfk.callbacks.LearningRateScheduler(schedule)\n",
    "callbacks = [tensorboard_clbk, sample_clbk, scheduler_clbk]"
   ]
  },
  {
   "cell_type": "code",
   "execution_count": 21,
   "id": "a6b80b6a",
   "metadata": {
    "ExecuteTime": {
     "end_time": "2022-08-22T16:57:44.076571Z",
     "start_time": "2022-08-22T16:57:43.852506Z"
    },
    "scrolled": false
   },
   "outputs": [
    {
     "name": "stdout",
     "output_type": "stream",
     "text": [
      "Epoch 1/75\n"
     ]
    },
    {
     "ename": "ValueError",
     "evalue": "in user code:\n\n    File \"C:\\Users\\user\\miniconda3\\envs\\tf_2.9\\lib\\site-packages\\keras\\engine\\training.py\", line 1051, in train_function  *\n        return step_function(self, iterator)\n    File \"C:\\Users\\user\\miniconda3\\envs\\tf_2.9\\lib\\site-packages\\keras\\engine\\training.py\", line 1040, in step_function  **\n        outputs = model.distribute_strategy.run(run_step, args=(data,))\n    File \"C:\\Users\\user\\miniconda3\\envs\\tf_2.9\\lib\\site-packages\\keras\\engine\\training.py\", line 1030, in run_step  **\n        outputs = model.train_step(data)\n    File \"C:\\Users\\user\\miniconda3\\envs\\tf_2.9\\lib\\site-packages\\keras\\engine\\training.py\", line 890, in train_step\n        loss = self.compute_loss(x, y, y_pred, sample_weight)\n    File \"C:\\Users\\user\\miniconda3\\envs\\tf_2.9\\lib\\site-packages\\keras\\engine\\training.py\", line 948, in compute_loss\n        return self.compiled_loss(\n    File \"C:\\Users\\user\\miniconda3\\envs\\tf_2.9\\lib\\site-packages\\keras\\engine\\compile_utils.py\", line 201, in __call__\n        loss_value = loss_obj(y_t, y_p, sample_weight=sw)\n    File \"C:\\Users\\user\\miniconda3\\envs\\tf_2.9\\lib\\site-packages\\keras\\losses.py\", line 140, in __call__\n        return losses_utils.compute_weighted_loss(\n    File \"C:\\Users\\user\\miniconda3\\envs\\tf_2.9\\lib\\site-packages\\keras\\utils\\losses_utils.py\", line 310, in compute_weighted_loss\n        losses = tf.convert_to_tensor(losses)\n\n    ValueError: None values not supported.\n",
     "output_type": "error",
     "traceback": [
      "\u001b[1;31m---------------------------------------------------------------------------\u001b[0m",
      "\u001b[1;31mValueError\u001b[0m                                Traceback (most recent call last)",
      "Input \u001b[1;32mIn [21]\u001b[0m, in \u001b[0;36m<cell line: 1>\u001b[1;34m()\u001b[0m\n\u001b[1;32m----> 1\u001b[0m \u001b[43mmodel\u001b[49m\u001b[38;5;241;43m.\u001b[39;49m\u001b[43mfit\u001b[49m\u001b[43m(\u001b[49m\u001b[43mtrain_ds\u001b[49m\u001b[43m,\u001b[49m\u001b[43m \u001b[49m\u001b[43mvalidation_data\u001b[49m\u001b[38;5;241;43m=\u001b[39;49m\u001b[43mtest_ds\u001b[49m\u001b[43m,\u001b[49m\u001b[43m \u001b[49m\u001b[43mepochs\u001b[49m\u001b[38;5;241;43m=\u001b[39;49m\u001b[43mEPOCHS\u001b[49m\u001b[43m,\u001b[49m\u001b[43m \u001b[49m\u001b[43mcallbacks\u001b[49m\u001b[38;5;241;43m=\u001b[39;49m\u001b[43mcallbacks\u001b[49m\u001b[43m)\u001b[49m\n",
      "File \u001b[1;32m~\\miniconda3\\envs\\tf_2.9\\lib\\site-packages\\keras\\utils\\traceback_utils.py:67\u001b[0m, in \u001b[0;36mfilter_traceback.<locals>.error_handler\u001b[1;34m(*args, **kwargs)\u001b[0m\n\u001b[0;32m     65\u001b[0m \u001b[38;5;28;01mexcept\u001b[39;00m \u001b[38;5;167;01mException\u001b[39;00m \u001b[38;5;28;01mas\u001b[39;00m e:  \u001b[38;5;66;03m# pylint: disable=broad-except\u001b[39;00m\n\u001b[0;32m     66\u001b[0m   filtered_tb \u001b[38;5;241m=\u001b[39m _process_traceback_frames(e\u001b[38;5;241m.\u001b[39m__traceback__)\n\u001b[1;32m---> 67\u001b[0m   \u001b[38;5;28;01mraise\u001b[39;00m e\u001b[38;5;241m.\u001b[39mwith_traceback(filtered_tb) \u001b[38;5;28;01mfrom\u001b[39;00m \u001b[38;5;28mNone\u001b[39m\n\u001b[0;32m     68\u001b[0m \u001b[38;5;28;01mfinally\u001b[39;00m:\n\u001b[0;32m     69\u001b[0m   \u001b[38;5;28;01mdel\u001b[39;00m filtered_tb\n",
      "File \u001b[1;32m~\\AppData\\Local\\Temp\\__autograph_generated_filej7h_e6uu.py:15\u001b[0m, in \u001b[0;36mouter_factory.<locals>.inner_factory.<locals>.tf__train_function\u001b[1;34m(iterator)\u001b[0m\n\u001b[0;32m     13\u001b[0m \u001b[38;5;28;01mtry\u001b[39;00m:\n\u001b[0;32m     14\u001b[0m     do_return \u001b[38;5;241m=\u001b[39m \u001b[38;5;28;01mTrue\u001b[39;00m\n\u001b[1;32m---> 15\u001b[0m     retval_ \u001b[38;5;241m=\u001b[39m ag__\u001b[38;5;241m.\u001b[39mconverted_call(ag__\u001b[38;5;241m.\u001b[39mld(step_function), (ag__\u001b[38;5;241m.\u001b[39mld(\u001b[38;5;28mself\u001b[39m), ag__\u001b[38;5;241m.\u001b[39mld(iterator)), \u001b[38;5;28;01mNone\u001b[39;00m, fscope)\n\u001b[0;32m     16\u001b[0m \u001b[38;5;28;01mexcept\u001b[39;00m:\n\u001b[0;32m     17\u001b[0m     do_return \u001b[38;5;241m=\u001b[39m \u001b[38;5;28;01mFalse\u001b[39;00m\n",
      "\u001b[1;31mValueError\u001b[0m: in user code:\n\n    File \"C:\\Users\\user\\miniconda3\\envs\\tf_2.9\\lib\\site-packages\\keras\\engine\\training.py\", line 1051, in train_function  *\n        return step_function(self, iterator)\n    File \"C:\\Users\\user\\miniconda3\\envs\\tf_2.9\\lib\\site-packages\\keras\\engine\\training.py\", line 1040, in step_function  **\n        outputs = model.distribute_strategy.run(run_step, args=(data,))\n    File \"C:\\Users\\user\\miniconda3\\envs\\tf_2.9\\lib\\site-packages\\keras\\engine\\training.py\", line 1030, in run_step  **\n        outputs = model.train_step(data)\n    File \"C:\\Users\\user\\miniconda3\\envs\\tf_2.9\\lib\\site-packages\\keras\\engine\\training.py\", line 890, in train_step\n        loss = self.compute_loss(x, y, y_pred, sample_weight)\n    File \"C:\\Users\\user\\miniconda3\\envs\\tf_2.9\\lib\\site-packages\\keras\\engine\\training.py\", line 948, in compute_loss\n        return self.compiled_loss(\n    File \"C:\\Users\\user\\miniconda3\\envs\\tf_2.9\\lib\\site-packages\\keras\\engine\\compile_utils.py\", line 201, in __call__\n        loss_value = loss_obj(y_t, y_p, sample_weight=sw)\n    File \"C:\\Users\\user\\miniconda3\\envs\\tf_2.9\\lib\\site-packages\\keras\\losses.py\", line 140, in __call__\n        return losses_utils.compute_weighted_loss(\n    File \"C:\\Users\\user\\miniconda3\\envs\\tf_2.9\\lib\\site-packages\\keras\\utils\\losses_utils.py\", line 310, in compute_weighted_loss\n        losses = tf.convert_to_tensor(losses)\n\n    ValueError: None values not supported.\n"
     ]
    }
   ],
   "source": [
    "model.fit(train_ds, validation_data=test_ds, epochs=EPOCHS, callbacks=callbacks)"
   ]
  },
  {
   "cell_type": "code",
   "execution_count": null,
   "id": "6c1b9397",
   "metadata": {},
   "outputs": [],
   "source": []
  }
 ],
 "metadata": {
  "kernelspec": {
   "display_name": "Python 3 (ipykernel)",
   "language": "python",
   "name": "python3"
  },
  "language_info": {
   "codemirror_mode": {
    "name": "ipython",
    "version": 3
   },
   "file_extension": ".py",
   "mimetype": "text/x-python",
   "name": "python",
   "nbconvert_exporter": "python",
   "pygments_lexer": "ipython3",
   "version": "3.9.0"
  },
  "toc": {
   "base_numbering": 1,
   "nav_menu": {},
   "number_sections": true,
   "sideBar": true,
   "skip_h1_title": false,
   "title_cell": "Table of Contents",
   "title_sidebar": "Contents",
   "toc_cell": false,
   "toc_position": {},
   "toc_section_display": true,
   "toc_window_display": false
  }
 },
 "nbformat": 4,
 "nbformat_minor": 5
}
