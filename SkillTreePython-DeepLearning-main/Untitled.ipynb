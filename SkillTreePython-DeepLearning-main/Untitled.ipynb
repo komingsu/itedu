{
 "cells": [
  {
   "cell_type": "code",
   "execution_count": 2,
   "id": "8fa52dd6",
   "metadata": {
    "ExecuteTime": {
     "end_time": "2022-07-11T05:43:50.003452Z",
     "start_time": "2022-07-11T05:43:49.992481Z"
    }
   },
   "outputs": [],
   "source": [
    "from tensorflow.keras.preprocessing import image\n",
    "import tensorflow as tf\n",
    "from tensorflow.keras import applications, layers, models, optimizers, losses, callbacks\n",
    "import glob, os, shutil"
   ]
  },
  {
   "cell_type": "code",
   "execution_count": 81,
   "id": "550153cf",
   "metadata": {
    "ExecuteTime": {
     "end_time": "2022-07-11T06:39:04.933525Z",
     "start_time": "2022-07-11T06:39:04.929536Z"
    }
   },
   "outputs": [],
   "source": [
    "PATH = \"C:/dataset/랜드마크/[원천]세종특별자치시\"\n",
    "classes = os.listdir(PATH)"
   ]
  },
  {
   "cell_type": "code",
   "execution_count": 82,
   "id": "c8515eee",
   "metadata": {
    "ExecuteTime": {
     "end_time": "2022-07-11T06:39:07.126658Z",
     "start_time": "2022-07-11T06:39:07.112696Z"
    }
   },
   "outputs": [
    {
     "data": {
      "text/plain": [
       "['덕천군사우',\n",
       " '도램마을10단지호반베르디움어반시티아파트',\n",
       " '도램마을15단지힐스테이트아파트',\n",
       " '밀양박씨오충정려',\n",
       " '박산리작약골쌍탑제',\n",
       " '범지기마을10단지푸르지오아파트',\n",
       " '범지기마을7단지호반베르디움에코시티아파트',\n",
       " '범지기마을8단지푸르지오아파트',\n",
       " '베어트리파크',\n",
       " '병산사',\n",
       " '부강성당',\n",
       " '부강초등학교강당',\n",
       " '비암사',\n",
       " '새뜸1단지메이저시티푸르지오',\n",
       " '새뜸마을10단지더샵힐스테이트아파트',\n",
       " '새뜸마을11단지더샵힐스테이트아파트',\n",
       " '새뜸마을14단지더샵힐스테이트아파트',\n",
       " '새뜸마을5단지아이파크메이저아파트',\n",
       " '새뜸마을6단지힐스테이트메이저아파트',\n",
       " '성요한성당',\n",
       " '세종e편한세상푸르지오아파트',\n",
       " '세종고속시외버스터미널',\n",
       " '세종대곡리삼층석탑',\n",
       " '세종시립민속박물관',\n",
       " '세종전통장류박물관',\n",
       " '세종특별자치시마을기록문화관',\n",
       " '세종행복도시홍보관',\n",
       " '세종호수공원',\n",
       " '세종힐스테이트3차',\n",
       " '수루배마을4단지더샵예미지',\n",
       " '수루배마을6단지세종더샵예미지',\n",
       " '연기대첩비공원',\n",
       " '연기봉산동의향나무',\n",
       " '연기향교',\n",
       " '연기향토박물관',\n",
       " '연동송용리마애여래입상',\n",
       " '연화사',\n",
       " '영평사',\n",
       " '은하수공원',\n",
       " '자성사',\n",
       " '전의비암사극락보전',\n",
       " '전의비암사삼층석탑',\n",
       " '전의향교',\n",
       " '조천연꽃공원',\n",
       " '조치원문화정원',\n",
       " '조치원봉산영당',\n",
       " '조치원신흥e편한세상아파트',\n",
       " '조치원신흥푸르지오아파트',\n",
       " '조치원역경부선',\n",
       " '조치원자이아파트',\n",
       " '조치원죽림푸르지오아파트',\n",
       " '천주교대전교구세종성프란치스코성당',\n",
       " '첫마을4단지푸르지오아파트',\n",
       " '첫마을5단지푸르지오아파트',\n",
       " '첫마을6단지힐스테이트아파트',\n",
       " '첫마을7단지삼성래미안아파트',\n",
       " '초려역사공원',\n",
       " '충청남도산림박물관',\n",
       " '한뜰마을1단지상록데시앙아파트',\n",
       " '한뜰마을2단지더샵센트럴시티아파트',\n",
       " '한뜰마을3단지더샵레이크파크아파트',\n",
       " '해들마을6단지e편한세상세종리버파크',\n",
       " '황룡사',\n",
       " '힐스테이트세종리버파크7단지']"
      ]
     },
     "execution_count": 82,
     "metadata": {},
     "output_type": "execute_result"
    }
   ],
   "source": [
    "classes"
   ]
  },
  {
   "cell_type": "code",
   "execution_count": 88,
   "id": "f85ee7e7",
   "metadata": {
    "ExecuteTime": {
     "end_time": "2022-07-11T06:41:33.093352Z",
     "start_time": "2022-07-11T06:41:33.081421Z"
    }
   },
   "outputs": [
    {
     "name": "stdout",
     "output_type": "stream",
     "text": [
      "덕천군사우\n",
      "C:/dataset/랜드마크/[원천]세종특별자치시/덕천군사우\n",
      "도램마을10단지호반베르디움어반시티아파트\n",
      "C:/dataset/랜드마크/[원천]세종특별자치시/도램마을10단지호반베르디움어반시티아파트\n"
     ]
    }
   ],
   "source": [
    "for i in classes[:2]:\n",
    "    print(i)\n",
    "    print(f\"{PATH}/{i}\")"
   ]
  },
  {
   "cell_type": "code",
   "execution_count": null,
   "id": "fb70de1d",
   "metadata": {},
   "outputs": [],
   "source": []
  },
  {
   "cell_type": "code",
   "execution_count": 47,
   "id": "c23017c9",
   "metadata": {
    "ExecuteTime": {
     "end_time": "2022-07-11T05:56:38.755674Z",
     "start_time": "2022-07-11T05:56:38.744704Z"
    }
   },
   "outputs": [],
   "source": [
    "os.mkdir(\"C:/dataset/랜드마크/train\")\n",
    "os.mkdir(\"C:/dataset/랜드마크/valid\")"
   ]
  }
 ],
 "metadata": {
  "kernelspec": {
   "display_name": "Python 3 (ipykernel)",
   "language": "python",
   "name": "python3"
  },
  "language_info": {
   "codemirror_mode": {
    "name": "ipython",
    "version": 3
   },
   "file_extension": ".py",
   "mimetype": "text/x-python",
   "name": "python",
   "nbconvert_exporter": "python",
   "pygments_lexer": "ipython3",
   "version": "3.8.13"
  },
  "toc": {
   "base_numbering": 1,
   "nav_menu": {},
   "number_sections": true,
   "sideBar": true,
   "skip_h1_title": false,
   "title_cell": "Table of Contents",
   "title_sidebar": "Contents",
   "toc_cell": false,
   "toc_position": {},
   "toc_section_display": true,
   "toc_window_display": false
  }
 },
 "nbformat": 4,
 "nbformat_minor": 5
}
