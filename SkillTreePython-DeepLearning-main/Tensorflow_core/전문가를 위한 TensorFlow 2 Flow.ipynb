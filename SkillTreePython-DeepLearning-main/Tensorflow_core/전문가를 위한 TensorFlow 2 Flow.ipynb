{
 "cells": [
  {
   "cell_type": "markdown",
   "id": "3e3fd3f7",
   "metadata": {},
   "source": [
    "# 준비\n",
    "## 라이브러리 호출"
   ]
  },
  {
   "cell_type": "code",
   "execution_count": 1,
   "id": "67a14e10",
   "metadata": {
    "ExecuteTime": {
     "end_time": "2022-07-12T20:00:49.620956Z",
     "start_time": "2022-07-12T20:00:47.925046Z"
    }
   },
   "outputs": [],
   "source": [
    "import tensorflow as tf\n",
    "\n",
    "from tensorflow.keras.layers import Dense, Flatten, Conv2D\n",
    "from tensorflow.keras import Model"
   ]
  },
  {
   "cell_type": "markdown",
   "id": "2cb0683b",
   "metadata": {},
   "source": [
    "## 데이터 셋 로드"
   ]
  },
  {
   "cell_type": "code",
   "execution_count": 2,
   "id": "8964e5aa",
   "metadata": {
    "ExecuteTime": {
     "end_time": "2022-07-12T20:01:37.720158Z",
     "start_time": "2022-07-12T20:01:35.954712Z"
    }
   },
   "outputs": [
    {
     "name": "stdout",
     "output_type": "stream",
     "text": [
      "Downloading data from https://storage.googleapis.com/tensorflow/tf-keras-datasets/mnist.npz\n",
      "11493376/11490434 [==============================] - 1s 0us/step\n"
     ]
    },
    {
     "data": {
      "text/plain": [
       "((60000, 28, 28), (10000, 28, 28))"
      ]
     },
     "execution_count": 2,
     "metadata": {},
     "output_type": "execute_result"
    }
   ],
   "source": [
    "mnist = tf.keras.datasets.mnist\n",
    "\n",
    "(x_train, y_train), (x_test, y_test) = mnist.load_data()\n",
    "x_train, x_test = x_train / 255.0, x_test / 255.0\n",
    "\n",
    "x_train.shape, x_test.shape"
   ]
  },
  {
   "cell_type": "markdown",
   "id": "efb4c135",
   "metadata": {},
   "source": [
    "## 데이터셋 전처리"
   ]
  },
  {
   "cell_type": "markdown",
   "id": "d423a4a6",
   "metadata": {},
   "source": [
    "채널 추가"
   ]
  },
  {
   "cell_type": "code",
   "execution_count": 3,
   "id": "e690f215",
   "metadata": {
    "ExecuteTime": {
     "end_time": "2022-07-12T20:01:51.626476Z",
     "start_time": "2022-07-12T20:01:51.562141Z"
    }
   },
   "outputs": [
    {
     "data": {
      "text/plain": [
       "((60000, 28, 28, 1), (10000, 28, 28, 1))"
      ]
     },
     "execution_count": 3,
     "metadata": {},
     "output_type": "execute_result"
    }
   ],
   "source": [
    "# Add a channels dimension\n",
    "x_train = x_train[..., tf.newaxis].astype(\"float32\")\n",
    "x_test = x_test[..., tf.newaxis].astype(\"float32\")\n",
    "\n",
    "x_train.shape, x_test.shape"
   ]
  },
  {
   "cell_type": "markdown",
   "id": "ada520ad",
   "metadata": {},
   "source": [
    "데이터 셋 셔플, batch 지정"
   ]
  },
  {
   "cell_type": "code",
   "execution_count": 4,
   "id": "35539e0c",
   "metadata": {
    "ExecuteTime": {
     "end_time": "2022-07-12T20:03:54.385446Z",
     "start_time": "2022-07-12T20:03:52.819158Z"
    }
   },
   "outputs": [],
   "source": [
    "train_ds = tf.data.Dataset.from_tensor_slices((x_train, y_train)).shuffle(10000).batch(32)\n",
    "test_ds = tf.data.Dataset.from_tensor_slices((x_test, y_test)).batch(32)"
   ]
  },
  {
   "cell_type": "markdown",
   "id": "88cff49c",
   "metadata": {},
   "source": [
    "# 모델"
   ]
  },
  {
   "cell_type": "markdown",
   "id": "065dfa85",
   "metadata": {},
   "source": [
    "모델 서브클래싱(subclassing) API"
   ]
  },
  {
   "cell_type": "code",
   "execution_count": 5,
   "id": "2bd55b3b",
   "metadata": {
    "ExecuteTime": {
     "end_time": "2022-07-12T20:04:53.710575Z",
     "start_time": "2022-07-12T20:04:53.421016Z"
    }
   },
   "outputs": [],
   "source": [
    "class MyModel(Model):\n",
    "\n",
    "    def __init__(self):\n",
    "        super(MyModel, self).__init__()\n",
    "        self.conv1 = Conv2D(32, 3, activation='relu')\n",
    "        self.flatten = Flatten()\n",
    "        self.d1 = Dense(128, activation='relu')\n",
    "        self.d2 = Dense(10)\n",
    "\n",
    "    def call(self, x):\n",
    "        x = self.conv1(x)\n",
    "        x = self.flatten(x)\n",
    "        x = self.d1(x)\n",
    "        return self.d2(x)\n",
    "\n",
    "\n",
    "# Create an instance of the model\n",
    "model = MyModel()"
   ]
  },
  {
   "cell_type": "markdown",
   "id": "d1a8e827",
   "metadata": {},
   "source": [
    "옵티마이저, 손실함수, 지표 설정"
   ]
  },
  {
   "cell_type": "code",
   "execution_count": 6,
   "id": "4314a0ba",
   "metadata": {
    "ExecuteTime": {
     "end_time": "2022-07-12T20:08:17.300292Z",
     "start_time": "2022-07-12T20:08:17.178099Z"
    }
   },
   "outputs": [],
   "source": [
    "loss_object = tf.keras.losses.SparseCategoricalCrossentropy(from_logits=True)\n",
    "optimizer = tf.keras.optimizers.Adam()\n",
    "\n",
    "train_loss = tf.keras.metrics.Mean(name='train_loss')\n",
    "train_accuracy = tf.keras.metrics.SparseCategoricalAccuracy(name='train_accuracy')\n",
    "test_loss = tf.keras.metrics.Mean(name='test_loss')\n",
    "test_accuracy = tf.keras.metrics.SparseCategoricalAccuracy(name='test_accuracy')"
   ]
  },
  {
   "cell_type": "markdown",
   "id": "bc76167f",
   "metadata": {},
   "source": [
    "# 훈련"
   ]
  },
  {
   "cell_type": "code",
   "execution_count": 7,
   "id": "19f35dea",
   "metadata": {
    "ExecuteTime": {
     "end_time": "2022-07-12T20:09:33.903844Z",
     "start_time": "2022-07-12T20:09:33.896821Z"
    }
   },
   "outputs": [],
   "source": [
    "@tf.function\n",
    "def train_step(images, labels):\n",
    "    with tf.GradientTape() as tape:\n",
    "        # training=True is only needed if there are layers with different\n",
    "        # behavior during training versus inference (e.g. Dropout).\n",
    "        predictions = model(images, training=True)\n",
    "        loss = loss_object(labels, predictions)\n",
    "    gradients = tape.gradient(loss, model.trainable_variables)\n",
    "    optimizer.apply_gradients(zip(gradients, model.trainable_variables))\n",
    "\n",
    "    train_loss(loss)\n",
    "    train_accuracy(labels, predictions)"
   ]
  },
  {
   "cell_type": "code",
   "execution_count": 8,
   "id": "8411515a",
   "metadata": {
    "ExecuteTime": {
     "end_time": "2022-07-12T20:10:00.217376Z",
     "start_time": "2022-07-12T20:10:00.203367Z"
    }
   },
   "outputs": [],
   "source": [
    "@tf.function\n",
    "def test_step(images, labels):\n",
    "    # training=False is only needed if there are layers with different\n",
    "    # behavior during training versus inference (e.g. Dropout).\n",
    "    predictions = model(images, training=False)\n",
    "    t_loss = loss_object(labels, predictions)\n",
    "\n",
    "    test_loss(t_loss)\n",
    "    test_accuracy(labels, predictions)"
   ]
  },
  {
   "cell_type": "code",
   "execution_count": 9,
   "id": "eca30e63",
   "metadata": {
    "ExecuteTime": {
     "end_time": "2022-07-12T20:10:56.669172Z",
     "start_time": "2022-07-12T20:10:35.318122Z"
    }
   },
   "outputs": [
    {
     "name": "stdout",
     "output_type": "stream",
     "text": [
      "Epoch 1, Loss: 0.13661609590053558, Accuracy: 95.86833190917969, Test Loss: 0.06485461443662643, Test Accuracy: 97.81999969482422\n",
      "Epoch 2, Loss: 0.04190641641616821, Accuracy: 98.68000030517578, Test Loss: 0.05403048172593117, Test Accuracy: 98.18999481201172\n",
      "Epoch 3, Loss: 0.021948738023638725, Accuracy: 99.3066635131836, Test Loss: 0.04725433513522148, Test Accuracy: 98.29999542236328\n",
      "Epoch 4, Loss: 0.013814999721944332, Accuracy: 99.53500366210938, Test Loss: 0.07900860905647278, Test Accuracy: 97.73999786376953\n",
      "Epoch 5, Loss: 0.01016742642968893, Accuracy: 99.65333557128906, Test Loss: 0.05780957266688347, Test Accuracy: 98.5199966430664\n"
     ]
    }
   ],
   "source": [
    "EPOCHS = 5\n",
    "\n",
    "for epoch in range(EPOCHS):\n",
    "    # Reset the metrics at the start of the next epoch\n",
    "    train_loss.reset_states()\n",
    "    train_accuracy.reset_states()\n",
    "    test_loss.reset_states()\n",
    "    test_accuracy.reset_states()\n",
    "\n",
    "    for images, labels in train_ds:\n",
    "        train_step(images, labels)\n",
    "\n",
    "    for test_images, test_labels in test_ds:\n",
    "        test_step(test_images, test_labels)\n",
    "\n",
    "    print(f'Epoch {epoch + 1}, '\n",
    "          f'Loss: {train_loss.result()}, '\n",
    "          f'Accuracy: {train_accuracy.result() * 100}, '\n",
    "          f'Test Loss: {test_loss.result()}, '\n",
    "          f'Test Accuracy: {test_accuracy.result() * 100}')"
   ]
  },
  {
   "cell_type": "code",
   "execution_count": null,
   "id": "cee969ab",
   "metadata": {},
   "outputs": [],
   "source": []
  }
 ],
 "metadata": {
  "kernelspec": {
   "display_name": "Python 3 (ipykernel)",
   "language": "python",
   "name": "python3"
  },
  "language_info": {
   "codemirror_mode": {
    "name": "ipython",
    "version": 3
   },
   "file_extension": ".py",
   "mimetype": "text/x-python",
   "name": "python",
   "nbconvert_exporter": "python",
   "pygments_lexer": "ipython3",
   "version": "3.7.10"
  },
  "toc": {
   "base_numbering": 1,
   "nav_menu": {},
   "number_sections": true,
   "sideBar": true,
   "skip_h1_title": false,
   "title_cell": "Table of Contents",
   "title_sidebar": "Contents",
   "toc_cell": false,
   "toc_position": {},
   "toc_section_display": true,
   "toc_window_display": false
  }
 },
 "nbformat": 4,
 "nbformat_minor": 5
}
