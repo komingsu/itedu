{
 "cells": [
  {
   "cell_type": "markdown",
   "id": "f12dde00",
   "metadata": {},
   "source": [
    "모델을 공동으로 연구 개발하는데 공유하는 것\n",
    "1. 모델을 만드는 코드\n",
    "2. 모델의 훈련된 가중치 또는 파라미터"
   ]
  },
  {
   "cell_type": "markdown",
   "id": "8b0df0d8",
   "metadata": {},
   "source": [
    "# 준비"
   ]
  },
  {
   "cell_type": "markdown",
   "id": "ff2133b5",
   "metadata": {},
   "source": [
    "## 라이브러리 호출"
   ]
  },
  {
   "cell_type": "code",
   "execution_count": 1,
   "id": "87825fb3",
   "metadata": {
    "ExecuteTime": {
     "end_time": "2022-07-13T00:05:06.069590Z",
     "start_time": "2022-07-13T00:05:02.809499Z"
    }
   },
   "outputs": [
    {
     "name": "stdout",
     "output_type": "stream",
     "text": [
      "2.4.1\n"
     ]
    }
   ],
   "source": [
    "import os\n",
    "import tensorflow as tf\n",
    "from tensorflow import keras\n",
    "\n",
    "print(tf.version.VERSION)"
   ]
  },
  {
   "cell_type": "markdown",
   "id": "27bffaa0",
   "metadata": {},
   "source": [
    "## 데이터셋 로드"
   ]
  },
  {
   "cell_type": "markdown",
   "id": "e78728c6",
   "metadata": {},
   "source": [
    "저장과 로드를 위한 작은 모델을 만들기 위해 1000개 의 데이터만 사용"
   ]
  },
  {
   "cell_type": "code",
   "execution_count": 2,
   "id": "d9bb6182",
   "metadata": {
    "ExecuteTime": {
     "end_time": "2022-07-13T00:05:50.465646Z",
     "start_time": "2022-07-13T00:05:50.254061Z"
    }
   },
   "outputs": [],
   "source": [
    "(train_images, train_labels), (test_images, test_labels) = tf.keras.datasets.mnist.load_data()\n",
    "\n",
    "train_labels = train_labels[:1000]\n",
    "test_labels = test_labels[:1000]\n",
    "\n",
    "train_images = train_images[:1000].reshape(-1, 28 * 28) / 255.0\n",
    "test_images = test_images[:1000].reshape(-1, 28 * 28) / 255.0"
   ]
  },
  {
   "cell_type": "markdown",
   "id": "922a59b4",
   "metadata": {},
   "source": [
    "## 모델링"
   ]
  },
  {
   "cell_type": "code",
   "execution_count": 3,
   "id": "be9ceb97",
   "metadata": {
    "ExecuteTime": {
     "end_time": "2022-07-13T00:06:45.379752Z",
     "start_time": "2022-07-13T00:06:44.096367Z"
    }
   },
   "outputs": [
    {
     "name": "stdout",
     "output_type": "stream",
     "text": [
      "Model: \"sequential\"\n",
      "_________________________________________________________________\n",
      "Layer (type)                 Output Shape              Param #   \n",
      "=================================================================\n",
      "dense (Dense)                (None, 512)               401920    \n",
      "_________________________________________________________________\n",
      "dropout (Dropout)            (None, 512)               0         \n",
      "_________________________________________________________________\n",
      "dense_1 (Dense)              (None, 10)                5130      \n",
      "=================================================================\n",
      "Total params: 407,050\n",
      "Trainable params: 407,050\n",
      "Non-trainable params: 0\n",
      "_________________________________________________________________\n"
     ]
    }
   ],
   "source": [
    "def create_model():\n",
    "    model = tf.keras.models.Sequential([\n",
    "        keras.layers.Dense(512, activation='relu', input_shape=(784, )),\n",
    "        keras.layers.Dropout(0.2),\n",
    "        keras.layers.Dense(10)\n",
    "    ])\n",
    "\n",
    "    model.compile(\n",
    "        optimizer='adam',\n",
    "        loss=tf.losses.SparseCategoricalCrossentropy(from_logits=True),\n",
    "        metrics=['accuracy'])\n",
    "\n",
    "    return model\n",
    "\n",
    "model = create_model()\n",
    "model.summary()"
   ]
  },
  {
   "cell_type": "markdown",
   "id": "759ef805",
   "metadata": {},
   "source": [
    "# 체크포인트 저장하기"
   ]
  },
  {
   "cell_type": "markdown",
   "id": "3876dbcc",
   "metadata": {},
   "source": [
    "tf.keras.callbacks.ModelCheckpoint 콜백을 사용하면 훈련 도중 또는 훈련 종료 시 모델을 지속적으로 저장할 수 있습니다."
   ]
  },
  {
   "cell_type": "code",
   "execution_count": 4,
   "id": "872efedf",
   "metadata": {
    "ExecuteTime": {
     "end_time": "2022-07-13T00:17:13.411376Z",
     "start_time": "2022-07-13T00:17:10.143477Z"
    }
   },
   "outputs": [
    {
     "name": "stdout",
     "output_type": "stream",
     "text": [
      "Epoch 1/10\n",
      "32/32 [==============================] - 2s 12ms/step - loss: 1.6111 - accuracy: 0.5007 - val_loss: 0.7005 - val_accuracy: 0.7850\n",
      "\n",
      "Epoch 00001: saving model to temp/training_1\\cp.ckpt\n",
      "Epoch 2/10\n",
      "32/32 [==============================] - 0s 4ms/step - loss: 0.4678 - accuracy: 0.8869 - val_loss: 0.5264 - val_accuracy: 0.8320\n",
      "\n",
      "Epoch 00002: saving model to temp/training_1\\cp.ckpt\n",
      "Epoch 3/10\n",
      "32/32 [==============================] - 0s 4ms/step - loss: 0.2814 - accuracy: 0.9306 - val_loss: 0.4725 - val_accuracy: 0.8530\n",
      "\n",
      "Epoch 00003: saving model to temp/training_1\\cp.ckpt\n",
      "Epoch 4/10\n",
      "32/32 [==============================] - 0s 4ms/step - loss: 0.2263 - accuracy: 0.9550 - val_loss: 0.4495 - val_accuracy: 0.8560\n",
      "\n",
      "Epoch 00004: saving model to temp/training_1\\cp.ckpt\n",
      "Epoch 5/10\n",
      "32/32 [==============================] - 0s 4ms/step - loss: 0.1588 - accuracy: 0.9666 - val_loss: 0.4572 - val_accuracy: 0.8450\n",
      "\n",
      "Epoch 00005: saving model to temp/training_1\\cp.ckpt\n",
      "Epoch 6/10\n",
      "32/32 [==============================] - 0s 4ms/step - loss: 0.1261 - accuracy: 0.9762 - val_loss: 0.4325 - val_accuracy: 0.8550\n",
      "\n",
      "Epoch 00006: saving model to temp/training_1\\cp.ckpt\n",
      "Epoch 7/10\n",
      "32/32 [==============================] - 0s 4ms/step - loss: 0.0879 - accuracy: 0.9886 - val_loss: 0.4293 - val_accuracy: 0.8630\n",
      "\n",
      "Epoch 00007: saving model to temp/training_1\\cp.ckpt\n",
      "Epoch 8/10\n",
      "32/32 [==============================] - 0s 4ms/step - loss: 0.0662 - accuracy: 0.9939 - val_loss: 0.4112 - val_accuracy: 0.8810\n",
      "\n",
      "Epoch 00008: saving model to temp/training_1\\cp.ckpt\n",
      "Epoch 9/10\n",
      "32/32 [==============================] - 0s 4ms/step - loss: 0.0486 - accuracy: 0.9974 - val_loss: 0.3977 - val_accuracy: 0.8780\n",
      "\n",
      "Epoch 00009: saving model to temp/training_1\\cp.ckpt\n",
      "Epoch 10/10\n",
      "32/32 [==============================] - 0s 4ms/step - loss: 0.0392 - accuracy: 0.9981 - val_loss: 0.4006 - val_accuracy: 0.8790\n",
      "\n",
      "Epoch 00010: saving model to temp/training_1\\cp.ckpt\n"
     ]
    },
    {
     "data": {
      "text/plain": [
       "<tensorflow.python.keras.callbacks.History at 0x244113dd908>"
      ]
     },
     "execution_count": 4,
     "metadata": {},
     "output_type": "execute_result"
    }
   ],
   "source": [
    "checkpoint_path = \"temp/training_1/cp.ckpt\"\n",
    "checkpoint_dir = os.path.dirname(checkpoint_path)\n",
    "\n",
    "# 모델의 가중치를 저장하는 콜백 만들기\n",
    "cp_callback = tf.keras.callbacks.ModelCheckpoint(filepath=checkpoint_path,\n",
    "                                                 save_weights_only=True,\n",
    "                                                 verbose=1)\n",
    "\n",
    "# 새로운 콜백으로 모델 훈련하기\n",
    "model.fit(train_images, \n",
    "          train_labels,  \n",
    "          epochs=10,\n",
    "          validation_data=(test_images,test_labels),\n",
    "          callbacks=[cp_callback])  # 콜백을 훈련에 전달합니다\n",
    "\n",
    "# 옵티마이저의 상태를 저장하는 것과 관련되어 경고가 발생할 수 있습니다.\n",
    "# 이 경고는 (그리고 이 노트북의 다른 비슷한 경고는) 이전 사용 방식을 권장하지 않기 위함이며 무시해도 좋습니다."
   ]
  },
  {
   "cell_type": "markdown",
   "id": "78d9a5f9",
   "metadata": {},
   "source": [
    "체크포인트의 디렉토리"
   ]
  },
  {
   "cell_type": "code",
   "execution_count": 17,
   "id": "c64ac394",
   "metadata": {
    "ExecuteTime": {
     "end_time": "2022-07-13T00:55:19.714592Z",
     "start_time": "2022-07-13T00:55:19.706325Z"
    }
   },
   "outputs": [
    {
     "data": {
      "text/plain": [
       "['checkpoint', 'cp.ckpt.data-00000-of-00001', 'cp.ckpt.index']"
      ]
     },
     "execution_count": 17,
     "metadata": {},
     "output_type": "execute_result"
    }
   ],
   "source": [
    "os.listdir(checkpoint_dir)"
   ]
  },
  {
   "cell_type": "markdown",
   "id": "f0136daa",
   "metadata": {},
   "source": [
    "# 체크포인트 불러오기"
   ]
  },
  {
   "cell_type": "code",
   "execution_count": 18,
   "id": "f15875c7",
   "metadata": {
    "ExecuteTime": {
     "end_time": "2022-07-13T00:55:22.015616Z",
     "start_time": "2022-07-13T00:55:21.779705Z"
    }
   },
   "outputs": [
    {
     "name": "stdout",
     "output_type": "stream",
     "text": [
      "32/32 - 0s - loss: 2.3402 - accuracy: 0.1200\n",
      "훈련되지 않은 모델의 정확도: 12.00%\n"
     ]
    }
   ],
   "source": [
    "# 새로운 모델\n",
    "model = create_model()\n",
    "loss, acc = model.evaluate(test_images,  test_labels, verbose=2)\n",
    "print(\"훈련되지 않은 모델의 정확도: {:5.2f}%\".format(100*acc))"
   ]
  },
  {
   "cell_type": "code",
   "execution_count": 19,
   "id": "45a3697d",
   "metadata": {
    "ExecuteTime": {
     "end_time": "2022-07-13T00:55:22.971321Z",
     "start_time": "2022-07-13T00:55:22.930307Z"
    }
   },
   "outputs": [
    {
     "data": {
      "text/plain": [
       "<tensorflow.python.training.tracking.util.CheckpointLoadStatus at 0x2458af07408>"
      ]
     },
     "execution_count": 19,
     "metadata": {},
     "output_type": "execute_result"
    }
   ],
   "source": [
    "# 가중치 로드\n",
    "model.load_weights(checkpoint_path)"
   ]
  },
  {
   "cell_type": "code",
   "execution_count": 20,
   "id": "00a96879",
   "metadata": {
    "ExecuteTime": {
     "end_time": "2022-07-13T00:55:24.646480Z",
     "start_time": "2022-07-13T00:55:24.538954Z"
    }
   },
   "outputs": [
    {
     "name": "stdout",
     "output_type": "stream",
     "text": [
      "32/32 - 0s - loss: 0.4006 - accuracy: 0.8790\n",
      "복원된 모델의 정확도: 87.90%\n"
     ]
    }
   ],
   "source": [
    "# 재평가\n",
    "loss,acc = model.evaluate(test_images,  test_labels, verbose=2)\n",
    "print(\"복원된 모델의 정확도: {:5.2f}%\".format(100*acc))"
   ]
  },
  {
   "cell_type": "code",
   "execution_count": 21,
   "id": "66689d1c",
   "metadata": {
    "ExecuteTime": {
     "end_time": "2022-07-13T00:56:43.953872Z",
     "start_time": "2022-07-13T00:56:38.698071Z"
    }
   },
   "outputs": [
    {
     "name": "stdout",
     "output_type": "stream",
     "text": [
      "WARNING:tensorflow:`period` argument is deprecated. Please use `save_freq` to specify the frequency in number of batches seen.\n",
      "\n",
      "Epoch 00005: saving model to temp/training_2\\cp-0005.ckpt\n",
      "\n",
      "Epoch 00010: saving model to temp/training_2\\cp-0010.ckpt\n",
      "\n",
      "Epoch 00015: saving model to temp/training_2\\cp-0015.ckpt\n",
      "\n",
      "Epoch 00020: saving model to temp/training_2\\cp-0020.ckpt\n",
      "\n",
      "Epoch 00025: saving model to temp/training_2\\cp-0025.ckpt\n",
      "\n",
      "Epoch 00030: saving model to temp/training_2\\cp-0030.ckpt\n",
      "\n",
      "Epoch 00035: saving model to temp/training_2\\cp-0035.ckpt\n",
      "\n",
      "Epoch 00040: saving model to temp/training_2\\cp-0040.ckpt\n",
      "\n",
      "Epoch 00045: saving model to temp/training_2\\cp-0045.ckpt\n",
      "\n",
      "Epoch 00050: saving model to temp/training_2\\cp-0050.ckpt\n"
     ]
    },
    {
     "data": {
      "text/plain": [
       "<tensorflow.python.keras.callbacks.History at 0x2458affe9c8>"
      ]
     },
     "execution_count": 21,
     "metadata": {},
     "output_type": "execute_result"
    }
   ],
   "source": [
    "# 파일 이름에 에포크 번호를 포함시킵니다(`str.format` 포맷)\n",
    "checkpoint_path = \"temp/training_2/cp-{epoch:04d}.ckpt\"\n",
    "checkpoint_dir = os.path.dirname(checkpoint_path)\n",
    "\n",
    "# 다섯 번째 에포크마다 가중치를 저장하기 위한 콜백을 만듭니다\n",
    "cp_callback = tf.keras.callbacks.ModelCheckpoint(\n",
    "    filepath=checkpoint_path, \n",
    "    verbose=1, \n",
    "    save_weights_only=True,\n",
    "    period=5)\n",
    "\n",
    "# 새로운 모델 객체를 만듭니다\n",
    "model = create_model()\n",
    "\n",
    "# `checkpoint_path` 포맷을 사용하는 가중치를 저장합니다\n",
    "model.save_weights(checkpoint_path.format(epoch=0))\n",
    "\n",
    "# 새로운 콜백을 사용하여 모델을 훈련합니다\n",
    "model.fit(train_images, \n",
    "          train_labels,\n",
    "          epochs=50, \n",
    "          callbacks=[cp_callback],\n",
    "          validation_data=(test_images,test_labels),\n",
    "          verbose=0)"
   ]
  },
  {
   "cell_type": "code",
   "execution_count": 23,
   "id": "eea849fc",
   "metadata": {
    "ExecuteTime": {
     "end_time": "2022-07-13T00:58:18.437107Z",
     "start_time": "2022-07-13T00:58:18.418480Z"
    }
   },
   "outputs": [
    {
     "data": {
      "text/plain": [
       "'temp/training_2\\\\cp-0050.ckpt'"
      ]
     },
     "execution_count": 23,
     "metadata": {},
     "output_type": "execute_result"
    }
   ],
   "source": [
    "# 가장 마지막 체크포인트 불러오기\n",
    "latest = tf.train.latest_checkpoint(checkpoint_dir)\n",
    "latest"
   ]
  },
  {
   "cell_type": "code",
   "execution_count": 24,
   "id": "b93d6456",
   "metadata": {
    "ExecuteTime": {
     "end_time": "2022-07-13T01:00:14.326981Z",
     "start_time": "2022-07-13T01:00:14.065917Z"
    }
   },
   "outputs": [
    {
     "name": "stdout",
     "output_type": "stream",
     "text": [
      "32/32 - 0s - loss: 0.4869 - accuracy: 0.8790\n",
      "복원된 모델의 정확도: 87.90%\n"
     ]
    }
   ],
   "source": [
    "# 새로운 모델 객체를 만듭니다\n",
    "model = create_model()\n",
    "\n",
    "# 이전에 저장한 가중치를 로드합니다\n",
    "model.load_weights(latest)\n",
    "\n",
    "# 모델을 재평가합니다\n",
    "loss, acc = model.evaluate(test_images,  test_labels, verbose=2)\n",
    "print(\"복원된 모델의 정확도: {:5.2f}%\".format(100*acc))"
   ]
  },
  {
   "cell_type": "markdown",
   "id": "60debb74",
   "metadata": {},
   "source": [
    "# 수동으로 가중치 저장하기"
   ]
  },
  {
   "cell_type": "markdown",
   "id": "ef50a622",
   "metadata": {},
   "source": [
    "Model.save_weights 메서드를 사용하여 수동으로 가중치를 저장합니다.\n",
    "\n",
    "기본적으로 tf.keras, 특히 save_weights는 .ckpt 확장자가 있는 TensorFlow 체크포인트 형식을 사용합니다\n",
    "\n",
    "(.h5 확장자를 사용하여 HDF5에 저장하는 내용은 모델 저장 및 직렬화 가이드에서 다룸)"
   ]
  },
  {
   "cell_type": "code",
   "execution_count": 25,
   "id": "2b62190a",
   "metadata": {
    "ExecuteTime": {
     "end_time": "2022-07-13T01:01:30.830815Z",
     "start_time": "2022-07-13T01:01:30.496905Z"
    }
   },
   "outputs": [
    {
     "name": "stdout",
     "output_type": "stream",
     "text": [
      "32/32 - 0s - loss: 0.4869 - accuracy: 0.8790\n",
      "복원된 모델의 정확도: 87.90%\n"
     ]
    }
   ],
   "source": [
    "# 가중치를 저장합니다\n",
    "model.save_weights('temp/checkpoints/my_checkpoint')\n",
    "\n",
    "# 새로운 모델 객체를 만듭니다\n",
    "model = create_model()\n",
    "\n",
    "# 가중치를 복원합니다\n",
    "model.load_weights('temp/checkpoints/my_checkpoint')\n",
    "\n",
    "# 모델을 평가합니다\n",
    "loss,acc = model.evaluate(test_images,  test_labels, verbose=2)\n",
    "print(\"복원된 모델의 정확도: {:5.2f}%\".format(100*acc))"
   ]
  },
  {
   "cell_type": "markdown",
   "id": "47026e2c",
   "metadata": {},
   "source": [
    "# 전체 모델 저장하기 / 불러오기"
   ]
  },
  {
   "cell_type": "code",
   "execution_count": 28,
   "id": "b4f58e77",
   "metadata": {
    "ExecuteTime": {
     "end_time": "2022-07-13T01:27:32.993521Z",
     "start_time": "2022-07-13T01:27:31.566884Z"
    }
   },
   "outputs": [
    {
     "name": "stdout",
     "output_type": "stream",
     "text": [
      "Epoch 1/5\n",
      "32/32 [==============================] - 1s 5ms/step - loss: 1.5447 - accuracy: 0.5404\n",
      "Epoch 2/5\n",
      "32/32 [==============================] - 0s 3ms/step - loss: 0.4335 - accuracy: 0.8742\n",
      "Epoch 3/5\n",
      "32/32 [==============================] - 0s 1ms/step - loss: 0.2934 - accuracy: 0.9250\n",
      "Epoch 4/5\n",
      "32/32 [==============================] - 0s 1ms/step - loss: 0.2110 - accuracy: 0.9458\n",
      "Epoch 5/5\n",
      "32/32 [==============================] - 0s 1ms/step - loss: 0.1694 - accuracy: 0.9643\n",
      "INFO:tensorflow:Assets written to: temp/saved_model/my_model\\assets\n"
     ]
    }
   ],
   "source": [
    "# 새로운 모델 객체를 만들고 훈련합니다\n",
    "model = create_model()\n",
    "model.fit(train_images, train_labels, epochs=5)\n",
    "\n",
    "# SavedModel로 전체 모델을 저장합니다\n",
    "model.save('temp/saved_model/my_model')"
   ]
  },
  {
   "cell_type": "code",
   "execution_count": 31,
   "id": "2ad94494",
   "metadata": {
    "ExecuteTime": {
     "end_time": "2022-07-13T01:32:46.142849Z",
     "start_time": "2022-07-13T01:32:45.199480Z"
    }
   },
   "outputs": [
    {
     "name": "stdout",
     "output_type": "stream",
     "text": [
      "32/32 - 0s - loss: 0.4488 - accuracy: 0.8530\n",
      "복원된 모델의 정확도: 85.30%\n",
      "(1000, 10)\n"
     ]
    }
   ],
   "source": [
    "new_model = tf.keras.models.load_model('temp/saved_model/my_model')\n",
    "loss, acc = new_model.evaluate(test_images,  test_labels, verbose=2)\n",
    "print('복원된 모델의 정확도: {:5.2f}%'.format(100*acc))\n",
    "print(new_model.predict(test_images).shape)"
   ]
  },
  {
   "cell_type": "markdown",
   "id": "142c8066",
   "metadata": {},
   "source": [
    "# HDF5 파일로 저장하기"
   ]
  },
  {
   "cell_type": "markdown",
   "id": "b5c84ccc",
   "metadata": {},
   "source": [
    "케라스는 HDF5 표준을 따르는 기본 저장 포맷을 제공합니다."
   ]
  },
  {
   "cell_type": "code",
   "execution_count": 34,
   "id": "c6a37bd7",
   "metadata": {
    "ExecuteTime": {
     "end_time": "2022-07-13T01:57:13.184477Z",
     "start_time": "2022-07-13T01:57:12.453591Z"
    }
   },
   "outputs": [
    {
     "name": "stdout",
     "output_type": "stream",
     "text": [
      "Epoch 1/5\n",
      "32/32 [==============================] - 0s 4ms/step - loss: 1.5913 - accuracy: 0.5074\n",
      "Epoch 2/5\n",
      "32/32 [==============================] - 0s 4ms/step - loss: 0.4469 - accuracy: 0.8937\n",
      "Epoch 3/5\n",
      "32/32 [==============================] - 0s 3ms/step - loss: 0.3065 - accuracy: 0.9232\n",
      "Epoch 4/5\n",
      "32/32 [==============================] - 0s 1ms/step - loss: 0.1925 - accuracy: 0.9531\n",
      "Epoch 5/5\n",
      "32/32 [==============================] - 0s 1ms/step - loss: 0.1425 - accuracy: 0.9730\n"
     ]
    }
   ],
   "source": [
    "# 새로운 모델 객체를 만들고 훈련합니다\n",
    "model = create_model()\n",
    "model.fit(train_images, train_labels, epochs=5)\n",
    "\n",
    "# 전체 모델을 HDF5 파일로 저장합니다\n",
    "# '.h5' 확장자는 이 모델이 HDF5로 저장되었다는 것을 나타냅니다\n",
    "model.save('temp/my_model.h5')"
   ]
  },
  {
   "cell_type": "code",
   "execution_count": 35,
   "id": "3ae75108",
   "metadata": {
    "ExecuteTime": {
     "end_time": "2022-07-13T01:57:13.910678Z",
     "start_time": "2022-07-13T01:57:13.861552Z"
    }
   },
   "outputs": [
    {
     "name": "stdout",
     "output_type": "stream",
     "text": [
      "Model: \"sequential_13\"\n",
      "_________________________________________________________________\n",
      "Layer (type)                 Output Shape              Param #   \n",
      "=================================================================\n",
      "dense_26 (Dense)             (None, 512)               401920    \n",
      "_________________________________________________________________\n",
      "dropout_13 (Dropout)         (None, 512)               0         \n",
      "_________________________________________________________________\n",
      "dense_27 (Dense)             (None, 10)                5130      \n",
      "=================================================================\n",
      "Total params: 407,050\n",
      "Trainable params: 407,050\n",
      "Non-trainable params: 0\n",
      "_________________________________________________________________\n"
     ]
    }
   ],
   "source": [
    "# 가중치와 옵티마이저를 포함하여 정확히 동일한 모델을 다시 생성합니다\n",
    "new_model = tf.keras.models.load_model('temp/my_model.h5')\n",
    "# 모델 구조를 출력합니다\n",
    "new_model.summary()"
   ]
  },
  {
   "cell_type": "code",
   "execution_count": 36,
   "id": "7ea9008b",
   "metadata": {
    "ExecuteTime": {
     "end_time": "2022-07-13T01:57:22.533542Z",
     "start_time": "2022-07-13T01:57:22.365505Z"
    }
   },
   "outputs": [
    {
     "name": "stdout",
     "output_type": "stream",
     "text": [
      "32/32 - 0s - loss: 0.4284 - accuracy: 0.8550\n",
      "복원된 모델의 정확도: 85.50%\n"
     ]
    }
   ],
   "source": [
    "loss, acc = new_model.evaluate(test_images,  test_labels, verbose=2)\n",
    "print('복원된 모델의 정확도: {:5.2f}%'.format(100*acc))"
   ]
  },
  {
   "cell_type": "code",
   "execution_count": null,
   "id": "afb66d61",
   "metadata": {},
   "outputs": [],
   "source": []
  }
 ],
 "metadata": {
  "kernelspec": {
   "display_name": "Python 3 (ipykernel)",
   "language": "python",
   "name": "python3"
  },
  "language_info": {
   "codemirror_mode": {
    "name": "ipython",
    "version": 3
   },
   "file_extension": ".py",
   "mimetype": "text/x-python",
   "name": "python",
   "nbconvert_exporter": "python",
   "pygments_lexer": "ipython3",
   "version": "3.7.10"
  },
  "toc": {
   "base_numbering": 1,
   "nav_menu": {},
   "number_sections": true,
   "sideBar": true,
   "skip_h1_title": false,
   "title_cell": "Table of Contents",
   "title_sidebar": "Contents",
   "toc_cell": false,
   "toc_position": {
    "height": "calc(100% - 180px)",
    "left": "10px",
    "top": "150px",
    "width": "197.319px"
   },
   "toc_section_display": true,
   "toc_window_display": true
  }
 },
 "nbformat": 4,
 "nbformat_minor": 5
}
