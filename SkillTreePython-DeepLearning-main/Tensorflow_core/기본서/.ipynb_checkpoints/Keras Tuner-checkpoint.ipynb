{
 "cells": [
  {
   "cell_type": "markdown",
   "id": "67a2ba6b",
   "metadata": {},
   "source": [
    "Keras Tuner는 TensorFlow 프로그램에 대한 최적의 하이퍼파라미터 세트를 선택하는 데 도움을 주는 라이브러리입니다."
   ]
  },
  {
   "cell_type": "markdown",
   "id": "339c9f63",
   "metadata": {},
   "source": [
    "# 준비"
   ]
  },
  {
   "cell_type": "markdown",
   "id": "2981ce7a",
   "metadata": {},
   "source": [
    "## 라이브러리 호출"
   ]
  },
  {
   "cell_type": "code",
   "execution_count": 2,
   "id": "60959248",
   "metadata": {
    "ExecuteTime": {
     "end_time": "2022-07-13T03:17:36.382397Z",
     "start_time": "2022-07-13T03:17:34.232098Z"
    }
   },
   "outputs": [
    {
     "name": "stderr",
     "output_type": "stream",
     "text": [
      "C:\\Users\\user\\miniconda3\\envs\\deep_tf\\lib\\site-packages\\ipykernel_launcher.py:4: DeprecationWarning: `import kerastuner` is deprecated, please use `import keras_tuner`.\n",
      "  after removing the cwd from sys.path.\n"
     ]
    }
   ],
   "source": [
    "import tensorflow as tf\n",
    "from tensorflow import keras\n",
    "import IPython\n",
    "import kerastuner as kt"
   ]
  },
  {
   "cell_type": "markdown",
   "id": "0b56fff6",
   "metadata": {},
   "source": [
    "## 데이터셋 로드"
   ]
  },
  {
   "cell_type": "code",
   "execution_count": 3,
   "id": "05db7281",
   "metadata": {
    "ExecuteTime": {
     "end_time": "2022-07-13T03:17:38.635242Z",
     "start_time": "2022-07-13T03:17:38.335731Z"
    }
   },
   "outputs": [],
   "source": [
    "(img_train, label_train), (img_test, label_test) = keras.datasets.fashion_mnist.load_data()"
   ]
  },
  {
   "cell_type": "code",
   "execution_count": 5,
   "id": "57165fa9",
   "metadata": {
    "ExecuteTime": {
     "end_time": "2022-07-13T03:18:37.854012Z",
     "start_time": "2022-07-13T03:18:37.761002Z"
    }
   },
   "outputs": [],
   "source": [
    "# Normalize pixel values between 0 and 1\n",
    "# dtype='uint8' -> dtype='float32'\n",
    "\n",
    "img_train = img_train.astype('float32') / 255.0\n",
    "img_test = img_test.astype('float32') / 255.0"
   ]
  },
  {
   "cell_type": "markdown",
   "id": "2977df85",
   "metadata": {},
   "source": [
    "# 하이퍼 튜닝"
   ]
  },
  {
   "cell_type": "markdown",
   "id": "75dc3741",
   "metadata": {
    "ExecuteTime": {
     "end_time": "2022-07-13T03:23:26.806512Z",
     "start_time": "2022-07-13T03:23:26.793136Z"
    }
   },
   "source": [
    "## 하이퍼 튜닝을 적용할 모델 정의"
   ]
  },
  {
   "cell_type": "markdown",
   "id": "cca6a1c1",
   "metadata": {},
   "source": [
    "튜닝을 적용할 objective 설정"
   ]
  },
  {
   "cell_type": "code",
   "execution_count": 8,
   "id": "0c39d6b9",
   "metadata": {
    "ExecuteTime": {
     "end_time": "2022-07-13T03:22:34.622478Z",
     "start_time": "2022-07-13T03:22:34.609466Z"
    }
   },
   "outputs": [],
   "source": [
    "def model_builder(hp):\n",
    "    model = keras.Sequential()\n",
    "    model.add(keras.layers.Flatten(input_shape=(28, 28)))\n",
    "\n",
    "    # Dense 층 unit 의 개수를 32~512 까지 32개의 step 으로 나누어 입력\n",
    "    hp_units = hp.Int('units', min_value=32, max_value=512, step=32)\n",
    "    model.add(keras.layers.Dense(units=hp_units, activation='relu'))\n",
    "    model.add(keras.layers.Dense(10))\n",
    "\n",
    "    # learning_rate를 0.01, 0.001, 0.0001 중 선택하여 입력\n",
    "    hp_learning_rate = hp.Choice('learning_rate', values=[1e-2, 1e-3, 1e-4])\n",
    "\n",
    "    model.compile(\n",
    "        optimizer=keras.optimizers.Adam(learning_rate=hp_learning_rate),\n",
    "        loss=keras.losses.SparseCategoricalCrossentropy(from_logits=True),\n",
    "        metrics=['acc'])\n",
    "\n",
    "    return model"
   ]
  },
  {
   "cell_type": "markdown",
   "id": "a1591d4f",
   "metadata": {},
   "source": [
    "## 튜너를 정의"
   ]
  },
  {
   "cell_type": "markdown",
   "id": "422baf11",
   "metadata": {},
   "source": [
    "keras의 Tuner 에는 `RandomSearch`, `HyperBand`, `BayesianOptimization`, `Sklearn` 이렇게 4가지 튜너가 있습니다."
   ]
  },
  {
   "cell_type": "code",
   "execution_count": 13,
   "id": "f6fd22d7",
   "metadata": {
    "ExecuteTime": {
     "end_time": "2022-07-13T03:28:25.505152Z",
     "start_time": "2022-07-13T03:28:25.462477Z"
    }
   },
   "outputs": [],
   "source": [
    "tuner = kt.Hyperband(model_builder,\n",
    "                    objective= \"val_acc\",\n",
    "                     max_epochs= 10,\n",
    "                     factor = 3,\n",
    "                     directory = \"my_dir\",\n",
    "                     project_name = \"intro_to_kt\")"
   ]
  },
  {
   "cell_type": "markdown",
   "id": "7bdafac3",
   "metadata": {},
   "source": [
    "Hyperband 튜닝 알고리즘은 적응형 리소스 할당 및 조기 중단을 사용하여 고성능 모델에서 신속하게 수렴합니다. \n",
    "\n",
    "이 알고리즘은 몇 개의 epoch에 대해 많은 수의 모델을 훈련하고 최고 성능을 보이는 절반만 다음 단계로 넘깁니다."
   ]
  },
  {
   "cell_type": "markdown",
   "id": "a264177d",
   "metadata": {},
   "source": [
    "## 콜백 정의"
   ]
  },
  {
   "cell_type": "markdown",
   "id": "06a8a7c2",
   "metadata": {},
   "source": [
    "하이퍼파라미터 검색을 실행하기 전에 훈련 단계가 끝날 때마다 훈련 결과를 지우도록 콜백을 정의합니다."
   ]
  },
  {
   "cell_type": "code",
   "execution_count": 10,
   "id": "686b8d10",
   "metadata": {
    "ExecuteTime": {
     "end_time": "2022-07-13T03:27:35.849374Z",
     "start_time": "2022-07-13T03:27:35.841368Z"
    }
   },
   "outputs": [],
   "source": [
    "class ClearTrainingOutput(tf.keras.callbacks.Callback):\n",
    "\n",
    "    def on_train_end(*args, **kwargs):\n",
    "        IPython.display.clear_output(wait=True)"
   ]
  },
  {
   "cell_type": "markdown",
   "id": "022dbf28",
   "metadata": {},
   "source": [
    "## 하이퍼 파라미터 탐색"
   ]
  },
  {
   "cell_type": "code",
   "execution_count": 14,
   "id": "bd6f4f00",
   "metadata": {
    "ExecuteTime": {
     "end_time": "2022-07-13T03:31:35.207426Z",
     "start_time": "2022-07-13T03:28:27.838782Z"
    },
    "scrolled": true
   },
   "outputs": [
    {
     "name": "stdout",
     "output_type": "stream",
     "text": [
      "Trial 30 Complete [00h 00m 11s]\n",
      "val_acc: 0.8844000101089478\n",
      "\n",
      "Best val_acc So Far: 0.8866000175476074\n",
      "Total elapsed time: 00h 03m 07s\n",
      "INFO:tensorflow:Oracle triggered exit\n",
      "\n",
      "The hyperparameter search is complete. The optimal number of units in the first densely-connected\n",
      "layer is 416 and the optimal learning rate for the optimizer\n",
      "is 0.001.\n",
      "\n"
     ]
    }
   ],
   "source": [
    "tuner.search(img_train, label_train, epochs = 10, validation_data = (img_test, label_test), callbacks = [ClearTrainingOutput()])\n",
    "\n",
    "# Get the optimal hyperparameters\n",
    "best_hps = tuner.get_best_hyperparameters(num_trials = 1)[0]\n",
    "\n",
    "print(f\"\"\"\n",
    "The hyperparameter search is complete. The optimal number of units in the first densely-connected\n",
    "layer is {best_hps.get('units')} and the optimal learning rate for the optimizer\n",
    "is {best_hps.get('learning_rate')}.\n",
    "\"\"\")"
   ]
  },
  {
   "cell_type": "markdown",
   "id": "a1437fc2",
   "metadata": {},
   "source": [
    "Dense layer의 unit 이 416 일때, learning_rate 가 0.001 일때 가장 좋은 성능을 낸다는 것을 확인 할 수 있습니다."
   ]
  },
  {
   "cell_type": "markdown",
   "id": "72a3a382",
   "metadata": {},
   "source": [
    "# 최적의 하이퍼파라미터로 모델 훈련"
   ]
  },
  {
   "cell_type": "code",
   "execution_count": 15,
   "id": "0f68630c",
   "metadata": {
    "ExecuteTime": {
     "end_time": "2022-07-13T03:33:33.915780Z",
     "start_time": "2022-07-13T03:33:13.293967Z"
    }
   },
   "outputs": [
    {
     "name": "stdout",
     "output_type": "stream",
     "text": [
      "Epoch 1/10\n",
      "1875/1875 [==============================] - 2s 1ms/step - loss: 0.4788 - acc: 0.8297 - val_loss: 0.4077 - val_acc: 0.8572\n",
      "Epoch 2/10\n",
      "1875/1875 [==============================] - 2s 1ms/step - loss: 0.3568 - acc: 0.8709 - val_loss: 0.3724 - val_acc: 0.8653\n",
      "Epoch 3/10\n",
      "1875/1875 [==============================] - 2s 1ms/step - loss: 0.3213 - acc: 0.8828 - val_loss: 0.3553 - val_acc: 0.8700\n",
      "Epoch 4/10\n",
      "1875/1875 [==============================] - 2s 1ms/step - loss: 0.2984 - acc: 0.8899 - val_loss: 0.3476 - val_acc: 0.8746\n",
      "Epoch 5/10\n",
      "1875/1875 [==============================] - 2s 1ms/step - loss: 0.2790 - acc: 0.8964 - val_loss: 0.3558 - val_acc: 0.8759\n",
      "Epoch 6/10\n",
      "1875/1875 [==============================] - 2s 1ms/step - loss: 0.2661 - acc: 0.9010 - val_loss: 0.3409 - val_acc: 0.8800\n",
      "Epoch 7/10\n",
      "1875/1875 [==============================] - 2s 1ms/step - loss: 0.2530 - acc: 0.9054 - val_loss: 0.3230 - val_acc: 0.8846\n",
      "Epoch 8/10\n",
      "1875/1875 [==============================] - 2s 1ms/step - loss: 0.2417 - acc: 0.9102 - val_loss: 0.3315 - val_acc: 0.8824\n",
      "Epoch 9/10\n",
      "1875/1875 [==============================] - 2s 1ms/step - loss: 0.2299 - acc: 0.9143 - val_loss: 0.3352 - val_acc: 0.8860\n",
      "Epoch 10/10\n",
      "1875/1875 [==============================] - 2s 1ms/step - loss: 0.2243 - acc: 0.9152 - val_loss: 0.3265 - val_acc: 0.8859\n"
     ]
    },
    {
     "data": {
      "text/plain": [
       "<tensorflow.python.keras.callbacks.History at 0x21e28c8a808>"
      ]
     },
     "execution_count": 15,
     "metadata": {},
     "output_type": "execute_result"
    }
   ],
   "source": [
    "model = tuner.hypermodel.build(best_hps)\n",
    "model.fit(img_train, label_train, epochs = 10, validation_data = (img_test, label_test))"
   ]
  },
  {
   "cell_type": "code",
   "execution_count": null,
   "id": "9d481a74",
   "metadata": {},
   "outputs": [],
   "source": []
  }
 ],
 "metadata": {
  "kernelspec": {
   "display_name": "Python 3 (ipykernel)",
   "language": "python",
   "name": "python3"
  },
  "language_info": {
   "codemirror_mode": {
    "name": "ipython",
    "version": 3
   },
   "file_extension": ".py",
   "mimetype": "text/x-python",
   "name": "python",
   "nbconvert_exporter": "python",
   "pygments_lexer": "ipython3",
   "version": "3.7.10"
  },
  "toc": {
   "base_numbering": 1,
   "nav_menu": {},
   "number_sections": true,
   "sideBar": true,
   "skip_h1_title": false,
   "title_cell": "Table of Contents",
   "title_sidebar": "Contents",
   "toc_cell": false,
   "toc_position": {},
   "toc_section_display": true,
   "toc_window_display": false
  }
 },
 "nbformat": 4,
 "nbformat_minor": 5
}
