{
 "cells": [
  {
   "cell_type": "markdown",
   "id": "1ebe906f",
   "metadata": {},
   "source": [
    "# 준비"
   ]
  },
  {
   "cell_type": "markdown",
   "id": "9bd5375a",
   "metadata": {},
   "source": [
    "## 라이브러리 호출"
   ]
  },
  {
   "cell_type": "code",
   "execution_count": 26,
   "id": "33bf23cd",
   "metadata": {
    "ExecuteTime": {
     "end_time": "2022-07-12T21:35:55.410601Z",
     "start_time": "2022-07-12T21:35:55.401640Z"
    }
   },
   "outputs": [
    {
     "name": "stdout",
     "output_type": "stream",
     "text": [
      "2.4.1\n"
     ]
    }
   ],
   "source": [
    "import tensorflow as tf\n",
    "from tensorflow import keras\n",
    "import numpy as np\n",
    "print(tf.__version__)\n",
    "from Myfunc import show_acc_loss_hist, show_lcurve"
   ]
  },
  {
   "cell_type": "markdown",
   "id": "ace378da",
   "metadata": {},
   "source": [
    "## 데이터 셋 로드"
   ]
  },
  {
   "cell_type": "code",
   "execution_count": 3,
   "id": "9dfecbae",
   "metadata": {
    "ExecuteTime": {
     "end_time": "2022-07-12T21:21:10.327732Z",
     "start_time": "2022-07-12T21:21:06.768406Z"
    }
   },
   "outputs": [],
   "source": [
    "imdb = keras.datasets.imdb\n",
    "(train_data, train_labels), (test_data, test_labels) = imdb.load_data(num_words=10000)"
   ]
  },
  {
   "cell_type": "markdown",
   "id": "bb04481d",
   "metadata": {},
   "source": [
    "## 데이터 탐색"
   ]
  },
  {
   "cell_type": "code",
   "execution_count": 4,
   "id": "e5bdadc8",
   "metadata": {
    "ExecuteTime": {
     "end_time": "2022-07-12T21:21:21.518630Z",
     "start_time": "2022-07-12T21:21:21.505628Z"
    }
   },
   "outputs": [
    {
     "name": "stdout",
     "output_type": "stream",
     "text": [
      "훈련 샘플: 25000, 레이블: 25000\n"
     ]
    }
   ],
   "source": [
    "print(\"훈련 샘플: {}, 레이블: {}\".format(len(train_data), len(train_labels)))"
   ]
  },
  {
   "cell_type": "code",
   "execution_count": 7,
   "id": "1a0a122a",
   "metadata": {
    "ExecuteTime": {
     "end_time": "2022-07-12T21:21:53.345554Z",
     "start_time": "2022-07-12T21:21:53.334550Z"
    }
   },
   "outputs": [
    {
     "name": "stdout",
     "output_type": "stream",
     "text": [
      "[1, 14, 22, 16, 43, 530, 973, 1622, 1385, 65, 458, 4468, 66, 3941, 4, 173, 36, 256, 5, 25, 100, 43, 838, 112, 50, 670, 2, 9, 35, 480, 284, 5, 150, 4, 172, 112, 167, 2, 336, 385, 39, 4, 172, 4536, 1111, 17, 546, 38, 13, 447, 4, 192, 50, 16, 6, 147, 2025, 19, 14, 22, 4, 1920, 4613, 469, 4, 22, 71, 87, 12, 16, 43, 530, 38, 76, 15, 13, 1247, 4, 22, 17, 515, 17, 12, 16, 626, 18, 2, 5, 62, 386, 12, 8, 316, 8, 106, 5, 4, 2223, 5244, 16, 480, 66, 3785, 33, 4, 130, 12, 16, 38, 619, 5, 25, 124, 51, 36, 135, 48, 25, 1415, 33, 6, 22, 12, 215, 28, 77, 52, 5, 14, 407, 16, 82, 2, 8, 4, 107, 117, 5952, 15, 256, 4, 2, 7, 3766, 5, 723, 36, 71, 43, 530, 476, 26, 400, 317, 46, 7, 4, 2, 1029, 13, 104, 88, 4, 381, 15, 297, 98, 32, 2071, 56, 26, 141, 6, 194, 7486, 18, 4, 226, 22, 21, 134, 476, 26, 480, 5, 144, 30, 5535, 18, 51, 36, 28, 224, 92, 25, 104, 4, 226, 65, 16, 38, 1334, 88, 12, 16, 283, 5, 16, 4472, 113, 103, 32, 15, 16, 5345, 19, 178, 32] \n",
      " 218 189\n"
     ]
    }
   ],
   "source": [
    "print(train_data[0],\"\\n\", len(train_data[0]), len(train_data[1]))"
   ]
  },
  {
   "cell_type": "markdown",
   "id": "0cd41989",
   "metadata": {},
   "source": [
    "정수를 단어로 변환"
   ]
  },
  {
   "cell_type": "code",
   "execution_count": 9,
   "id": "31c07d3a",
   "metadata": {
    "ExecuteTime": {
     "end_time": "2022-07-12T21:22:28.910260Z",
     "start_time": "2022-07-12T21:22:28.847247Z"
    }
   },
   "outputs": [],
   "source": [
    "# 단어와 정수 인덱스를 매핑한 딕셔너리\n",
    "word_index = imdb.get_word_index()\n",
    "\n",
    "# 처음 몇 개 인덱스는 사전에 정의되어 있습니다\n",
    "word_index = {k:(v+3) for k,v in word_index.items()}\n",
    "word_index[\"<PAD>\"] = 0\n",
    "word_index[\"<START>\"] = 1\n",
    "word_index[\"<UNK>\"] = 2  # unknown\n",
    "word_index[\"<UNUSED>\"] = 3\n",
    "\n",
    "reverse_word_index = dict([(value, key) for (key, value) in word_index.items()])\n",
    "\n",
    "def decode_review(text):\n",
    "    return ' '.join([reverse_word_index.get(i, '?') for i in text])"
   ]
  },
  {
   "cell_type": "code",
   "execution_count": 10,
   "id": "0ec76762",
   "metadata": {
    "ExecuteTime": {
     "end_time": "2022-07-12T21:22:36.235689Z",
     "start_time": "2022-07-12T21:22:36.221180Z"
    }
   },
   "outputs": [
    {
     "data": {
      "text/plain": [
       "\"<START> this film was just brilliant casting location scenery story direction everyone's really suited the part they played and you could just imagine being there robert <UNK> is an amazing actor and now the same being director <UNK> father came from the same scottish island as myself so i loved the fact there was a real connection with this film the witty remarks throughout the film were great it was just brilliant so much that i bought the film as soon as it was released for <UNK> and would recommend it to everyone to watch and the fly fishing was amazing really cried at the end it was so sad and you know what they say if you cry at a film it must have been good and this definitely was also <UNK> to the two little boy's that played the <UNK> of norman and paul they were just brilliant children are often left out of the <UNK> list i think because the stars that play them all grown up are such a big profile for the whole film but these children are amazing and should be praised for what they have done don't you think the whole story was so lovely because it was true and was someone's life after all that was shared with us all\""
      ]
     },
     "execution_count": 10,
     "metadata": {},
     "output_type": "execute_result"
    }
   ],
   "source": [
    "decode_review(train_data[0])"
   ]
  },
  {
   "cell_type": "markdown",
   "id": "cfeb8da0",
   "metadata": {},
   "source": [
    "# 데이터 준비"
   ]
  },
  {
   "cell_type": "markdown",
   "id": "8e6d1476",
   "metadata": {},
   "source": [
    "리뷰-정수 배열-는 신경망에 주입하기 전에 텐서로 변환되어야 합니다\n",
    "\n",
    "정수 배열의 길이가 모두 같도록 패딩(padding)을 추가해 max_length * num_reviews 크기의 정수 텐서를 만듭니다. 이런 형태의 텐서를 다룰 수 있는 임베딩(embedding) 층을 신경망의 첫 번째 층으로 사용할 수 있습니다"
   ]
  },
  {
   "cell_type": "code",
   "execution_count": 11,
   "id": "c898bae1",
   "metadata": {
    "ExecuteTime": {
     "end_time": "2022-07-12T21:24:42.441966Z",
     "start_time": "2022-07-12T21:24:41.757600Z"
    }
   },
   "outputs": [],
   "source": [
    "train_data = keras.preprocessing.sequence.pad_sequences(\n",
    "    train_data, value=word_index[\"<PAD>\"], padding='post', maxlen=256)\n",
    "\n",
    "test_data = keras.preprocessing.sequence.pad_sequences(\n",
    "    test_data, value=word_index[\"<PAD>\"], padding='post', maxlen=256)"
   ]
  },
  {
   "cell_type": "code",
   "execution_count": 13,
   "id": "7ae1ef3f",
   "metadata": {
    "ExecuteTime": {
     "end_time": "2022-07-12T21:31:07.262894Z",
     "start_time": "2022-07-12T21:31:07.245895Z"
    }
   },
   "outputs": [
    {
     "data": {
      "text/plain": [
       "(256, 256)"
      ]
     },
     "execution_count": 13,
     "metadata": {},
     "output_type": "execute_result"
    }
   ],
   "source": [
    "len(train_data[0]), len(train_data[1])"
   ]
  },
  {
   "cell_type": "code",
   "execution_count": 14,
   "id": "027891c7",
   "metadata": {
    "ExecuteTime": {
     "end_time": "2022-07-12T21:31:36.571025Z",
     "start_time": "2022-07-12T21:31:36.552656Z"
    }
   },
   "outputs": [
    {
     "name": "stdout",
     "output_type": "stream",
     "text": [
      "[   1   14   22   16   43  530  973 1622 1385   65  458 4468   66 3941\n",
      "    4  173   36  256    5   25  100   43  838  112   50  670    2    9\n",
      "   35  480  284    5  150    4  172  112  167    2  336  385   39    4\n",
      "  172 4536 1111   17  546   38   13  447    4  192   50   16    6  147\n",
      " 2025   19   14   22    4 1920 4613  469    4   22   71   87   12   16\n",
      "   43  530   38   76   15   13 1247    4   22   17  515   17   12   16\n",
      "  626   18    2    5   62  386   12    8  316    8  106    5    4 2223\n",
      " 5244   16  480   66 3785   33    4  130   12   16   38  619    5   25\n",
      "  124   51   36  135   48   25 1415   33    6   22   12  215   28   77\n",
      "   52    5   14  407   16   82    2    8    4  107  117 5952   15  256\n",
      "    4    2    7 3766    5  723   36   71   43  530  476   26  400  317\n",
      "   46    7    4    2 1029   13  104   88    4  381   15  297   98   32\n",
      " 2071   56   26  141    6  194 7486   18    4  226   22   21  134  476\n",
      "   26  480    5  144   30 5535   18   51   36   28  224   92   25  104\n",
      "    4  226   65   16   38 1334   88   12   16  283    5   16 4472  113\n",
      "  103   32   15   16 5345   19  178   32    0    0    0    0    0    0\n",
      "    0    0    0    0    0    0    0    0    0    0    0    0    0    0\n",
      "    0    0    0    0    0    0    0    0    0    0    0    0    0    0\n",
      "    0    0    0    0]\n"
     ]
    }
   ],
   "source": [
    "print(train_data[0])"
   ]
  },
  {
   "cell_type": "markdown",
   "id": "d9a7c6d2",
   "metadata": {},
   "source": [
    "# 모델링"
   ]
  },
  {
   "cell_type": "code",
   "execution_count": 20,
   "id": "53303cab",
   "metadata": {
    "ExecuteTime": {
     "end_time": "2022-07-12T21:35:06.265710Z",
     "start_time": "2022-07-12T21:35:06.229386Z"
    }
   },
   "outputs": [
    {
     "name": "stdout",
     "output_type": "stream",
     "text": [
      "Model: \"sequential_1\"\n",
      "_________________________________________________________________\n",
      "Layer (type)                 Output Shape              Param #   \n",
      "=================================================================\n",
      "embedding_1 (Embedding)      (None, None, 16)          160000    \n",
      "_________________________________________________________________\n",
      "global_average_pooling1d_1 ( (None, 16)                0         \n",
      "_________________________________________________________________\n",
      "dense_2 (Dense)              (None, 16)                272       \n",
      "_________________________________________________________________\n",
      "dense_3 (Dense)              (None, 1)                 17        \n",
      "=================================================================\n",
      "Total params: 160,289\n",
      "Trainable params: 160,289\n",
      "Non-trainable params: 0\n",
      "_________________________________________________________________\n"
     ]
    }
   ],
   "source": [
    "vocab_size = 10000\n",
    "\n",
    "model = keras.Sequential()\n",
    "model.add(keras.layers.Embedding(vocab_size, 16, input_shape=(None,)))\n",
    "model.add(keras.layers.GlobalAveragePooling1D())\n",
    "model.add(keras.layers.Dense(16, activation='relu'))\n",
    "model.add(keras.layers.Dense(1, activation='sigmoid'))\n",
    "\n",
    "model.summary()"
   ]
  },
  {
   "cell_type": "code",
   "execution_count": 21,
   "id": "f4dc11be",
   "metadata": {
    "ExecuteTime": {
     "end_time": "2022-07-12T21:35:06.739134Z",
     "start_time": "2022-07-12T21:35:06.717830Z"
    }
   },
   "outputs": [],
   "source": [
    "model.compile(optimizer='adam',\n",
    "              loss='binary_crossentropy',\n",
    "              metrics=['acc'])"
   ]
  },
  {
   "cell_type": "markdown",
   "id": "e692287b",
   "metadata": {},
   "source": [
    "검증세트 만들기"
   ]
  },
  {
   "cell_type": "code",
   "execution_count": 22,
   "id": "e3d4225c",
   "metadata": {
    "ExecuteTime": {
     "end_time": "2022-07-12T21:35:08.539875Z",
     "start_time": "2022-07-12T21:35:08.530846Z"
    }
   },
   "outputs": [],
   "source": [
    "x_val = train_data[:10000]\n",
    "partial_x_train = train_data[10000:]\n",
    "\n",
    "y_val = train_labels[:10000]\n",
    "partial_y_train = train_labels[10000:]"
   ]
  },
  {
   "cell_type": "markdown",
   "id": "58a69412",
   "metadata": {},
   "source": [
    "# 모델 훈련"
   ]
  },
  {
   "cell_type": "code",
   "execution_count": 23,
   "id": "8e12702c",
   "metadata": {
    "ExecuteTime": {
     "end_time": "2022-07-12T21:35:30.268659Z",
     "start_time": "2022-07-12T21:35:14.322549Z"
    }
   },
   "outputs": [
    {
     "name": "stdout",
     "output_type": "stream",
     "text": [
      "Epoch 1/40\n",
      "30/30 [==============================] - 1s 27ms/step - loss: 0.6925 - acc: 0.5334 - val_loss: 0.6894 - val_acc: 0.6579\n",
      "Epoch 2/40\n",
      "30/30 [==============================] - 0s 16ms/step - loss: 0.6869 - acc: 0.7216 - val_loss: 0.6784 - val_acc: 0.7169\n",
      "Epoch 3/40\n",
      "30/30 [==============================] - 0s 13ms/step - loss: 0.6720 - acc: 0.7344 - val_loss: 0.6564 - val_acc: 0.7509\n",
      "Epoch 4/40\n",
      "30/30 [==============================] - 0s 13ms/step - loss: 0.6436 - acc: 0.7734 - val_loss: 0.6223 - val_acc: 0.7721\n",
      "Epoch 5/40\n",
      "30/30 [==============================] - 0s 12ms/step - loss: 0.6018 - acc: 0.7973 - val_loss: 0.5808 - val_acc: 0.7835\n",
      "Epoch 6/40\n",
      "30/30 [==============================] - 0s 12ms/step - loss: 0.5536 - acc: 0.8074 - val_loss: 0.5319 - val_acc: 0.8123\n",
      "Epoch 7/40\n",
      "30/30 [==============================] - 0s 12ms/step - loss: 0.5023 - acc: 0.8381 - val_loss: 0.4855 - val_acc: 0.8299\n",
      "Epoch 8/40\n",
      "30/30 [==============================] - 0s 12ms/step - loss: 0.4519 - acc: 0.8562 - val_loss: 0.4456 - val_acc: 0.8411\n",
      "Epoch 9/40\n",
      "30/30 [==============================] - 0s 13ms/step - loss: 0.4098 - acc: 0.8693 - val_loss: 0.4105 - val_acc: 0.8506\n",
      "Epoch 10/40\n",
      "30/30 [==============================] - 0s 13ms/step - loss: 0.3666 - acc: 0.8827 - val_loss: 0.3833 - val_acc: 0.8589\n",
      "Epoch 11/40\n",
      "30/30 [==============================] - 0s 12ms/step - loss: 0.3431 - acc: 0.8888 - val_loss: 0.3623 - val_acc: 0.8639\n",
      "Epoch 12/40\n",
      "30/30 [==============================] - 0s 12ms/step - loss: 0.3083 - acc: 0.9003 - val_loss: 0.3454 - val_acc: 0.8682\n",
      "Epoch 13/40\n",
      "30/30 [==============================] - 0s 12ms/step - loss: 0.2952 - acc: 0.8993 - val_loss: 0.3324 - val_acc: 0.8728\n",
      "Epoch 14/40\n",
      "30/30 [==============================] - 0s 12ms/step - loss: 0.2751 - acc: 0.9088 - val_loss: 0.3217 - val_acc: 0.8752\n",
      "Epoch 15/40\n",
      "30/30 [==============================] - 0s 12ms/step - loss: 0.2535 - acc: 0.9155 - val_loss: 0.3132 - val_acc: 0.8770\n",
      "Epoch 16/40\n",
      "30/30 [==============================] - 0s 12ms/step - loss: 0.2395 - acc: 0.9184 - val_loss: 0.3071 - val_acc: 0.8773\n",
      "Epoch 17/40\n",
      "30/30 [==============================] - 0s 12ms/step - loss: 0.2263 - acc: 0.9246 - val_loss: 0.3008 - val_acc: 0.8811\n",
      "Epoch 18/40\n",
      "30/30 [==============================] - 0s 12ms/step - loss: 0.2150 - acc: 0.9274 - val_loss: 0.2970 - val_acc: 0.8811\n",
      "Epoch 19/40\n",
      "30/30 [==============================] - 0s 12ms/step - loss: 0.2098 - acc: 0.9254 - val_loss: 0.2929 - val_acc: 0.8838\n",
      "Epoch 20/40\n",
      "30/30 [==============================] - 0s 12ms/step - loss: 0.1956 - acc: 0.9335 - val_loss: 0.2918 - val_acc: 0.8813\n",
      "Epoch 21/40\n",
      "30/30 [==============================] - 0s 12ms/step - loss: 0.1864 - acc: 0.9375 - val_loss: 0.2881 - val_acc: 0.8838\n",
      "Epoch 22/40\n",
      "30/30 [==============================] - 0s 12ms/step - loss: 0.1759 - acc: 0.9444 - val_loss: 0.2877 - val_acc: 0.8836\n",
      "Epoch 23/40\n",
      "30/30 [==============================] - 0s 12ms/step - loss: 0.1687 - acc: 0.9459 - val_loss: 0.2859 - val_acc: 0.8851\n",
      "Epoch 24/40\n",
      "30/30 [==============================] - 0s 12ms/step - loss: 0.1577 - acc: 0.9514 - val_loss: 0.2855 - val_acc: 0.8857\n",
      "Epoch 25/40\n",
      "30/30 [==============================] - 0s 12ms/step - loss: 0.1515 - acc: 0.9546 - val_loss: 0.2857 - val_acc: 0.8863\n",
      "Epoch 26/40\n",
      "30/30 [==============================] - 0s 13ms/step - loss: 0.1451 - acc: 0.9544 - val_loss: 0.2860 - val_acc: 0.8867\n",
      "Epoch 27/40\n",
      "30/30 [==============================] - 0s 13ms/step - loss: 0.1447 - acc: 0.9558 - val_loss: 0.2872 - val_acc: 0.8857\n",
      "Epoch 28/40\n",
      "30/30 [==============================] - 0s 12ms/step - loss: 0.1338 - acc: 0.9612 - val_loss: 0.2882 - val_acc: 0.8862\n",
      "Epoch 29/40\n",
      "30/30 [==============================] - 0s 15ms/step - loss: 0.1327 - acc: 0.9602 - val_loss: 0.2905 - val_acc: 0.8853\n",
      "Epoch 30/40\n",
      "30/30 [==============================] - 0s 12ms/step - loss: 0.1221 - acc: 0.9650 - val_loss: 0.2917 - val_acc: 0.8855\n",
      "Epoch 31/40\n",
      "30/30 [==============================] - 0s 12ms/step - loss: 0.1196 - acc: 0.9666 - val_loss: 0.2940 - val_acc: 0.8846\n",
      "Epoch 32/40\n",
      "30/30 [==============================] - 0s 12ms/step - loss: 0.1125 - acc: 0.9694 - val_loss: 0.2965 - val_acc: 0.8845\n",
      "Epoch 33/40\n",
      "30/30 [==============================] - 0s 13ms/step - loss: 0.1096 - acc: 0.9707 - val_loss: 0.2997 - val_acc: 0.8836\n",
      "Epoch 34/40\n",
      "30/30 [==============================] - 0s 12ms/step - loss: 0.1038 - acc: 0.9732 - val_loss: 0.3029 - val_acc: 0.8829\n",
      "Epoch 35/40\n",
      "30/30 [==============================] - 0s 12ms/step - loss: 0.0993 - acc: 0.9736 - val_loss: 0.3046 - val_acc: 0.8839\n",
      "Epoch 36/40\n",
      "30/30 [==============================] - 0s 13ms/step - loss: 0.0941 - acc: 0.9763 - val_loss: 0.3083 - val_acc: 0.8824\n",
      "Epoch 37/40\n",
      "30/30 [==============================] - 0s 13ms/step - loss: 0.0898 - acc: 0.9772 - val_loss: 0.3116 - val_acc: 0.8815\n",
      "Epoch 38/40\n",
      "30/30 [==============================] - 0s 12ms/step - loss: 0.0856 - acc: 0.9791 - val_loss: 0.3163 - val_acc: 0.8818\n",
      "Epoch 39/40\n",
      "30/30 [==============================] - 0s 13ms/step - loss: 0.0871 - acc: 0.9785 - val_loss: 0.3199 - val_acc: 0.8810\n",
      "Epoch 40/40\n",
      "30/30 [==============================] - 0s 12ms/step - loss: 0.0815 - acc: 0.9798 - val_loss: 0.3235 - val_acc: 0.8806\n"
     ]
    }
   ],
   "source": [
    "history = model.fit(partial_x_train,\n",
    "                    partial_y_train,\n",
    "                    epochs=40,\n",
    "                    batch_size=512,\n",
    "                    validation_data=(x_val, y_val),\n",
    "                    verbose=1)"
   ]
  },
  {
   "cell_type": "markdown",
   "id": "4dd9c770",
   "metadata": {},
   "source": [
    "# 모델 평가"
   ]
  },
  {
   "cell_type": "code",
   "execution_count": 24,
   "id": "8d03777a",
   "metadata": {
    "ExecuteTime": {
     "end_time": "2022-07-12T21:35:34.438499Z",
     "start_time": "2022-07-12T21:35:33.335877Z"
    }
   },
   "outputs": [
    {
     "name": "stdout",
     "output_type": "stream",
     "text": [
      "782/782 - 1s - loss: 0.3464 - acc: 0.8691\n",
      "[0.3463882803916931, 0.8690800070762634]\n"
     ]
    }
   ],
   "source": [
    "results = model.evaluate(test_data,  test_labels, verbose=2)\n",
    "print(results)"
   ]
  },
  {
   "cell_type": "code",
   "execution_count": 32,
   "id": "8c1d2c1d",
   "metadata": {
    "ExecuteTime": {
     "end_time": "2022-07-12T21:37:50.730273Z",
     "start_time": "2022-07-12T21:37:50.566213Z"
    }
   },
   "outputs": [
    {
     "data": {
      "image/png": "[encoded data removed]",
      "text/plain": [
       "<Figure size 864x288 with 2 Axes>"
      ]
     },
     "metadata": {
      "needs_background": "light"
     },
     "output_type": "display_data"
    }
   ],
   "source": [
    "show_lcurve([history], [\"\"], [\"b\"], x_itv=5)"
   ]
  },
  {
   "cell_type": "code",
   "execution_count": null,
   "id": "6b190b55",
   "metadata": {},
   "outputs": [],
   "source": []
  }
 ],
 "metadata": {
  "kernelspec": {
   "display_name": "Python 3 (ipykernel)",
   "language": "python",
   "name": "python3"
  },
  "language_info": {
   "codemirror_mode": {
    "name": "ipython",
    "version": 3
   },
   "file_extension": ".py",
   "mimetype": "text/x-python",
   "name": "python",
   "nbconvert_exporter": "python",
   "pygments_lexer": "ipython3",
   "version": "3.7.10"
  },
  "toc": {
   "base_numbering": 1,
   "nav_menu": {},
   "number_sections": true,
   "sideBar": true,
   "skip_h1_title": false,
   "title_cell": "Table of Contents",
   "title_sidebar": "Contents",
   "toc_cell": false,
   "toc_position": {},
   "toc_section_display": true,
   "toc_window_display": false
  }
 },
 "nbformat": 4,
 "nbformat_minor": 5
}
