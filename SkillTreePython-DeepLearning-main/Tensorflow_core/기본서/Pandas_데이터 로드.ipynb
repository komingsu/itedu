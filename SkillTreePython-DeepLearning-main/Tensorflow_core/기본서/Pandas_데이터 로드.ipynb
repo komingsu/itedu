{
 "cells": [
  {
   "cell_type": "markdown",
   "id": "4982759d",
   "metadata": {},
   "source": [
    "# Pandas 를 통해 tensor 로드"
   ]
  },
  {
   "cell_type": "code",
   "execution_count": 1,
   "id": "5b2f9ab7",
   "metadata": {
    "ExecuteTime": {
     "end_time": "2022-07-13T05:13:33.871881Z",
     "start_time": "2022-07-13T05:13:32.003611Z"
    }
   },
   "outputs": [],
   "source": [
    "import pandas as pd\n",
    "import tensorflow as tf"
   ]
  },
  {
   "cell_type": "code",
   "execution_count": 36,
   "id": "ed3310a7",
   "metadata": {
    "ExecuteTime": {
     "end_time": "2022-07-13T05:22:23.747287Z",
     "start_time": "2022-07-13T05:22:23.734716Z"
    }
   },
   "outputs": [],
   "source": [
    "# 데이터 프레임 생성\n",
    "df = pd.read_csv('D:Dataset/dataset/wine.csv', header=None)"
   ]
  },
  {
   "cell_type": "code",
   "execution_count": 31,
   "id": "e1717ffa",
   "metadata": {
    "ExecuteTime": {
     "end_time": "2022-07-13T05:21:20.354501Z",
     "start_time": "2022-07-13T05:21:20.343068Z"
    }
   },
   "outputs": [],
   "source": [
    "# target 분리\n",
    "target = df.pop(12)"
   ]
  },
  {
   "cell_type": "code",
   "execution_count": 33,
   "id": "44ac34f6",
   "metadata": {
    "ExecuteTime": {
     "end_time": "2022-07-13T05:21:36.713665Z",
     "start_time": "2022-07-13T05:21:36.276872Z"
    }
   },
   "outputs": [],
   "source": [
    "# tensor로 데이터 로드\n",
    "dataset = tf.data.Dataset.from_tensor_slices((df.values, target.values))"
   ]
  },
  {
   "cell_type": "code",
   "execution_count": 39,
   "id": "aecbc044",
   "metadata": {
    "ExecuteTime": {
     "end_time": "2022-07-13T05:24:06.700587Z",
     "start_time": "2022-07-13T05:24:06.684883Z"
    }
   },
   "outputs": [],
   "source": [
    "# 데이터 셔플, 배치처리\n",
    "train_dataset = dataset.shuffle(len(df)).batch(32)"
   ]
  },
  {
   "cell_type": "code",
   "execution_count": 40,
   "id": "28801482",
   "metadata": {
    "ExecuteTime": {
     "end_time": "2022-07-13T05:24:09.603020Z",
     "start_time": "2022-07-13T05:24:09.587393Z"
    }
   },
   "outputs": [],
   "source": [
    "# 모델링\n",
    "def get_compiled_model():\n",
    "    model = tf.keras.Sequential([\n",
    "        tf.keras.layers.Dense(10, activation='relu'),\n",
    "        tf.keras.layers.Dense(10, activation='relu'),\n",
    "        tf.keras.layers.Dense(1)\n",
    "    ])\n",
    "\n",
    "    model.compile(optimizer='adam',\n",
    "                  loss=tf.keras.losses.BinaryCrossentropy(from_logits=True),\n",
    "                  metrics=['accuracy'])\n",
    "    return model"
   ]
  },
  {
   "cell_type": "code",
   "execution_count": 41,
   "id": "d1147220",
   "metadata": {
    "ExecuteTime": {
     "end_time": "2022-07-13T05:24:15.583679Z",
     "start_time": "2022-07-13T05:24:10.261727Z"
    }
   },
   "outputs": [
    {
     "name": "stdout",
     "output_type": "stream",
     "text": [
      "Epoch 1/15\n",
      "204/204 [==============================] - 1s 2ms/step - loss: 0.5412 - accuracy: 0.8444\n",
      "Epoch 2/15\n",
      "204/204 [==============================] - 0s 2ms/step - loss: 0.2225 - accuracy: 0.9207\n",
      "Epoch 3/15\n",
      "204/204 [==============================] - 0s 2ms/step - loss: 0.1985 - accuracy: 0.9242\n",
      "Epoch 4/15\n",
      "204/204 [==============================] - 0s 2ms/step - loss: 0.1917 - accuracy: 0.9302\n",
      "Epoch 5/15\n",
      "204/204 [==============================] - 0s 2ms/step - loss: 0.1787 - accuracy: 0.9355\n",
      "Epoch 6/15\n",
      "204/204 [==============================] - 0s 2ms/step - loss: 0.1794 - accuracy: 0.9349\n",
      "Epoch 7/15\n",
      "204/204 [==============================] - 0s 2ms/step - loss: 0.1847 - accuracy: 0.9320\n",
      "Epoch 8/15\n",
      "204/204 [==============================] - 0s 2ms/step - loss: 0.1791 - accuracy: 0.9332\n",
      "Epoch 9/15\n",
      "204/204 [==============================] - 0s 2ms/step - loss: 0.1906 - accuracy: 0.9297\n",
      "Epoch 10/15\n",
      "204/204 [==============================] - 0s 2ms/step - loss: 0.1486 - accuracy: 0.9432\n",
      "Epoch 11/15\n",
      "204/204 [==============================] - 0s 2ms/step - loss: 0.1401 - accuracy: 0.9416\n",
      "Epoch 12/15\n",
      "204/204 [==============================] - 0s 2ms/step - loss: 0.1362 - accuracy: 0.9456\n",
      "Epoch 13/15\n",
      "204/204 [==============================] - 0s 2ms/step - loss: 0.1317 - accuracy: 0.9497\n",
      "Epoch 14/15\n",
      "204/204 [==============================] - 0s 2ms/step - loss: 0.1184 - accuracy: 0.9514\n",
      "Epoch 15/15\n",
      "204/204 [==============================] - 0s 2ms/step - loss: 0.1067 - accuracy: 0.9555\n"
     ]
    },
    {
     "data": {
      "text/plain": [
       "<tensorflow.python.keras.callbacks.History at 0x1b6aa038d48>"
      ]
     },
     "execution_count": 41,
     "metadata": {},
     "output_type": "execute_result"
    }
   ],
   "source": [
    "# 학습\n",
    "model = get_compiled_model()\n",
    "model.fit(train_dataset, epochs=15)"
   ]
  },
  {
   "cell_type": "code",
   "execution_count": null,
   "id": "51ec14d3",
   "metadata": {},
   "outputs": [],
   "source": []
  }
 ],
 "metadata": {
  "kernelspec": {
   "display_name": "Python 3 (ipykernel)",
   "language": "python",
   "name": "python3"
  },
  "language_info": {
   "codemirror_mode": {
    "name": "ipython",
    "version": 3
   },
   "file_extension": ".py",
   "mimetype": "text/x-python",
   "name": "python",
   "nbconvert_exporter": "python",
   "pygments_lexer": "ipython3",
   "version": "3.7.10"
  },
  "toc": {
   "base_numbering": 1,
   "nav_menu": {},
   "number_sections": true,
   "sideBar": true,
   "skip_h1_title": false,
   "title_cell": "Table of Contents",
   "title_sidebar": "Contents",
   "toc_cell": false,
   "toc_position": {},
   "toc_section_display": true,
   "toc_window_display": false
  }
 },
 "nbformat": 4,
 "nbformat_minor": 5
}
