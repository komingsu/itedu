{
 "cells": [
  {
   "cell_type": "markdown",
   "id": "5d2ab1c8",
   "metadata": {},
   "source": [
    "# 준비"
   ]
  },
  {
   "cell_type": "markdown",
   "id": "f4e84200",
   "metadata": {},
   "source": [
    "## 라이브러리 호출"
   ]
  },
  {
   "cell_type": "code",
   "execution_count": 1,
   "id": "58c9615a",
   "metadata": {
    "ExecuteTime": {
     "end_time": "2022-07-12T21:49:48.989962Z",
     "start_time": "2022-07-12T21:49:46.104917Z"
    }
   },
   "outputs": [
    {
     "name": "stdout",
     "output_type": "stream",
     "text": [
      "Version:  2.4.1\n",
      "Eager mode:  True\n",
      "Hub version:  0.12.0\n",
      "GPU is available\n"
     ]
    }
   ],
   "source": [
    "import os\n",
    "import numpy as np\n",
    "\n",
    "import tensorflow as tf\n",
    "import tensorflow_hub as hub\n",
    "import tensorflow_datasets as tfds\n",
    "\n",
    "print(\"Version: \", tf.__version__)\n",
    "print(\"Eager mode: \", tf.executing_eagerly())\n",
    "print(\"Hub version: \", hub.__version__)\n",
    "print(\"GPU is\", \"available\" if tf.config.list_physical_devices(\"GPU\") else \"NOT AVAILABLE\")"
   ]
  },
  {
   "cell_type": "markdown",
   "id": "abbcb04c",
   "metadata": {
    "ExecuteTime": {
     "end_time": "2022-07-12T21:40:58.591646Z",
     "start_time": "2022-07-12T21:40:58.577054Z"
    }
   },
   "source": [
    "## 데이터 로드"
   ]
  },
  {
   "cell_type": "code",
   "execution_count": 2,
   "id": "46647729",
   "metadata": {
    "ExecuteTime": {
     "end_time": "2022-07-21T02:22:38.987461Z",
     "start_time": "2022-07-21T02:22:38.968740Z"
    }
   },
   "outputs": [
    {
     "ename": "NameError",
     "evalue": "name 'keras' is not defined",
     "output_type": "error",
     "traceback": [
      "\u001b[1;31m---------------------------------------------------------------------------\u001b[0m",
      "\u001b[1;31mNameError\u001b[0m                                 Traceback (most recent call last)",
      "\u001b[1;32m~\\AppData\\Local\\Temp\\ipykernel_4060\\1341324657.py\u001b[0m in \u001b[0;36m<module>\u001b[1;34m\u001b[0m\n\u001b[1;32m----> 1\u001b[1;33m \u001b[0mimdb\u001b[0m \u001b[1;33m=\u001b[0m \u001b[0mkeras\u001b[0m\u001b[1;33m.\u001b[0m\u001b[0mdatasets\u001b[0m\u001b[1;33m.\u001b[0m\u001b[0mimdb\u001b[0m\u001b[1;33m\u001b[0m\u001b[1;33m\u001b[0m\u001b[0m\n\u001b[0m\u001b[0;32m      2\u001b[0m \u001b[1;33m(\u001b[0m\u001b[0mtrain_data\u001b[0m\u001b[1;33m,\u001b[0m \u001b[0mtrain_labels\u001b[0m\u001b[1;33m)\u001b[0m\u001b[1;33m,\u001b[0m \u001b[1;33m(\u001b[0m\u001b[0mtest_data\u001b[0m\u001b[1;33m,\u001b[0m \u001b[0mtest_labels\u001b[0m\u001b[1;33m)\u001b[0m \u001b[1;33m=\u001b[0m \u001b[0mimdb\u001b[0m\u001b[1;33m.\u001b[0m\u001b[0mload_data\u001b[0m\u001b[1;33m(\u001b[0m\u001b[0mnum_words\u001b[0m\u001b[1;33m=\u001b[0m\u001b[1;36m10000\u001b[0m\u001b[1;33m)\u001b[0m\u001b[1;33m\u001b[0m\u001b[1;33m\u001b[0m\u001b[0m\n",
      "\u001b[1;31mNameError\u001b[0m: name 'keras' is not defined"
     ]
    }
   ],
   "source": [
    "train_data, validation_data, test_data = tfds.load(\n",
    "    name=\"imdb_reviews\", \n",
    "    split=('train[:60%]', 'train[60%:]', 'test'),\n",
    "    as_supervised=True)"
   ]
  },
  {
   "cell_type": "markdown",
   "id": "b54c33c1",
   "metadata": {},
   "source": [
    "## 데이터 탐색"
   ]
  },
  {
   "cell_type": "code",
   "execution_count": 3,
   "id": "b08aecaf",
   "metadata": {
    "ExecuteTime": {
     "end_time": "2022-07-12T21:49:50.937520Z",
     "start_time": "2022-07-12T21:49:50.878475Z"
    }
   },
   "outputs": [
    {
     "data": {
      "text/plain": [
       "<tf.Tensor: shape=(), dtype=string, numpy=b'This is a big step down after the surprisingly enjoyable original. This sequel isn\\'t nearly as fun as part one, and it instead spends too much time on plot development. Tim Thomerson is still the best thing about this series, but his wisecracking is toned down in this entry. The performances are all adequate, but this time the script lets us down. The action is merely routine and the plot is only mildly interesting, so I need lots of silly laughs in order to stay entertained during a \"Trancers\" movie. Unfortunately, the laughs are few and far between, and so, this film is watchable at best.'>"
      ]
     },
     "execution_count": 3,
     "metadata": {},
     "output_type": "execute_result"
    }
   ],
   "source": [
    "train_examples_batch, train_labels_batch = next(iter(train_data.batch(10)))\n",
    "# example\n",
    "train_examples_batch[0]"
   ]
  },
  {
   "cell_type": "code",
   "execution_count": 4,
   "id": "aa5a0095",
   "metadata": {
    "ExecuteTime": {
     "end_time": "2022-07-12T21:49:51.328044Z",
     "start_time": "2022-07-12T21:49:51.320040Z"
    }
   },
   "outputs": [
    {
     "data": {
      "text/plain": [
       "<tf.Tensor: shape=(10,), dtype=int64, numpy=array([0, 0, 1, 0, 1, 0, 1, 1, 1, 0], dtype=int64)>"
      ]
     },
     "execution_count": 4,
     "metadata": {},
     "output_type": "execute_result"
    }
   ],
   "source": [
    "# labels\n",
    "train_labels_batch"
   ]
  },
  {
   "cell_type": "markdown",
   "id": "648006a7",
   "metadata": {},
   "source": [
    "# 모델링"
   ]
  },
  {
   "cell_type": "markdown",
   "id": "34f118f6",
   "metadata": {},
   "source": [
    "문장을 임베딩 벡터로 변환\n",
    "\n",
    "임베딩 벡터로 변환하는 모델을 Hub에서 받아옴"
   ]
  },
  {
   "cell_type": "code",
   "execution_count": 5,
   "id": "056bf404",
   "metadata": {
    "ExecuteTime": {
     "end_time": "2022-07-12T21:49:53.574792Z",
     "start_time": "2022-07-12T21:49:52.783724Z"
    }
   },
   "outputs": [],
   "source": [
    "embedding = \"https://tfhub.dev/google/nnlm-en-dim50/2\"\n",
    "hub_layer = hub.KerasLayer(embedding,\n",
    "                           input_shape=[],\n",
    "                           dtype=tf.string,\n",
    "                           trainable=True)"
   ]
  },
  {
   "cell_type": "code",
   "execution_count": 6,
   "id": "9a857045",
   "metadata": {
    "ExecuteTime": {
     "end_time": "2022-07-12T21:50:42.151438Z",
     "start_time": "2022-07-12T21:50:41.764882Z"
    }
   },
   "outputs": [
    {
     "name": "stdout",
     "output_type": "stream",
     "text": [
      "Model: \"sequential\"\n",
      "_________________________________________________________________\n",
      "Layer (type)                 Output Shape              Param #   \n",
      "=================================================================\n",
      "keras_layer (KerasLayer)     (None, 50)                48190600  \n",
      "_________________________________________________________________\n",
      "dense (Dense)                (None, 16)                816       \n",
      "_________________________________________________________________\n",
      "dense_1 (Dense)              (None, 1)                 17        \n",
      "=================================================================\n",
      "Total params: 48,191,433\n",
      "Trainable params: 48,191,433\n",
      "Non-trainable params: 0\n",
      "_________________________________________________________________\n"
     ]
    }
   ],
   "source": [
    "model = tf.keras.Sequential()\n",
    "model.add(hub_layer)\n",
    "model.add(tf.keras.layers.Dense(16, activation='relu'))\n",
    "model.add(tf.keras.layers.Dense(1))\n",
    "\n",
    "model.summary()"
   ]
  },
  {
   "cell_type": "code",
   "execution_count": 8,
   "id": "22dc647d",
   "metadata": {
    "ExecuteTime": {
     "end_time": "2022-07-12T21:51:18.197692Z",
     "start_time": "2022-07-12T21:51:18.188617Z"
    }
   },
   "outputs": [],
   "source": [
    "model.compile(optimizer='adam',\n",
    "              loss=tf.keras.losses.BinaryCrossentropy(from_logits=True),\n",
    "              metrics=['acc'])"
   ]
  },
  {
   "cell_type": "markdown",
   "id": "48c2f60f",
   "metadata": {},
   "source": [
    "# 모델 훈련"
   ]
  },
  {
   "cell_type": "code",
   "execution_count": 9,
   "id": "722f3778",
   "metadata": {
    "ExecuteTime": {
     "end_time": "2022-07-12T21:51:42.347267Z",
     "start_time": "2022-07-12T21:51:22.882269Z"
    }
   },
   "outputs": [
    {
     "name": "stdout",
     "output_type": "stream",
     "text": [
      "Epoch 1/10\n",
      "30/30 [==============================] - 3s 68ms/step - loss: 0.6548 - acc: 0.5403 - val_loss: 0.5641 - val_acc: 0.6815\n",
      "Epoch 2/10\n",
      "30/30 [==============================] - 2s 57ms/step - loss: 0.5191 - acc: 0.7122 - val_loss: 0.4427 - val_acc: 0.7821\n",
      "Epoch 3/10\n",
      "30/30 [==============================] - 2s 57ms/step - loss: 0.3740 - acc: 0.8424 - val_loss: 0.3637 - val_acc: 0.8443\n",
      "Epoch 4/10\n",
      "30/30 [==============================] - 2s 57ms/step - loss: 0.2649 - acc: 0.9023 - val_loss: 0.3232 - val_acc: 0.8560\n",
      "Epoch 5/10\n",
      "30/30 [==============================] - 2s 57ms/step - loss: 0.1966 - acc: 0.9316 - val_loss: 0.3072 - val_acc: 0.8618\n",
      "Epoch 6/10\n",
      "30/30 [==============================] - 2s 57ms/step - loss: 0.1360 - acc: 0.9573 - val_loss: 0.3019 - val_acc: 0.8702\n",
      "Epoch 7/10\n",
      "30/30 [==============================] - 2s 57ms/step - loss: 0.0971 - acc: 0.9759 - val_loss: 0.3057 - val_acc: 0.8686\n",
      "Epoch 8/10\n",
      "30/30 [==============================] - 2s 57ms/step - loss: 0.0686 - acc: 0.9853 - val_loss: 0.3141 - val_acc: 0.8693\n",
      "Epoch 9/10\n",
      "30/30 [==============================] - 2s 57ms/step - loss: 0.0484 - acc: 0.9932 - val_loss: 0.3281 - val_acc: 0.8736\n",
      "Epoch 10/10\n",
      "30/30 [==============================] - 2s 57ms/step - loss: 0.0356 - acc: 0.9958 - val_loss: 0.3398 - val_acc: 0.8713\n"
     ]
    }
   ],
   "source": [
    "history = model.fit(train_data.shuffle(10000).batch(512),\n",
    "                    epochs=10,\n",
    "                    validation_data=validation_data.batch(512),\n",
    "                    verbose=1)"
   ]
  },
  {
   "cell_type": "markdown",
   "id": "aa7c0fc3",
   "metadata": {},
   "source": [
    "# 모델 평가"
   ]
  },
  {
   "cell_type": "code",
   "execution_count": 10,
   "id": "56a1ccf7",
   "metadata": {
    "ExecuteTime": {
     "end_time": "2022-07-12T21:52:37.487841Z",
     "start_time": "2022-07-12T21:52:36.168986Z"
    }
   },
   "outputs": [
    {
     "name": "stdout",
     "output_type": "stream",
     "text": [
      "49/49 - 1s - loss: 0.3749 - acc: 0.8520\n",
      "loss: 0.375\n",
      "acc: 0.852\n"
     ]
    }
   ],
   "source": [
    "results = model.evaluate(test_data.batch(512), verbose=2)\n",
    "\n",
    "for name, value in zip(model.metrics_names, results):\n",
    "    print(\"%s: %.3f\" % (name, value))"
   ]
  },
  {
   "cell_type": "code",
   "execution_count": 11,
   "id": "95fc07de",
   "metadata": {
    "ExecuteTime": {
     "end_time": "2022-07-12T21:53:23.858766Z",
     "start_time": "2022-07-12T21:53:23.670452Z"
    }
   },
   "outputs": [
    {
     "data": {
      "image/png": "[encoded data removed]",
      "text/plain": [
       "<Figure size 864x288 with 2 Axes>"
      ]
     },
     "metadata": {
      "needs_background": "light"
     },
     "output_type": "display_data"
    }
   ],
   "source": [
    "from Myfunc import show_lcurve\n",
    "show_lcurve([history], [\"\"], [\"b\"])"
   ]
  },
  {
   "cell_type": "code",
   "execution_count": null,
   "id": "85735741",
   "metadata": {},
   "outputs": [],
   "source": []
  }
 ],
 "metadata": {
  "kernelspec": {
   "display_name": "Python 3 (ipykernel)",
   "language": "python",
   "name": "python3"
  },
  "language_info": {
   "codemirror_mode": {
    "name": "ipython",
    "version": 3
   },
   "file_extension": ".py",
   "mimetype": "text/x-python",
   "name": "python",
   "nbconvert_exporter": "python",
   "pygments_lexer": "ipython3",
   "version": "3.7.10"
  },
  "toc": {
   "base_numbering": 1,
   "nav_menu": {},
   "number_sections": true,
   "sideBar": true,
   "skip_h1_title": false,
   "title_cell": "Table of Contents",
   "title_sidebar": "Contents",
   "toc_cell": false,
   "toc_position": {},
   "toc_section_display": true,
   "toc_window_display": false
  }
 },
 "nbformat": 4,
 "nbformat_minor": 5
}
