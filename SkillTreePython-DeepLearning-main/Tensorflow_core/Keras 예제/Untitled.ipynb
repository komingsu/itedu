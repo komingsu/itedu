{
 "cells": [
  {
   "cell_type": "code",
   "execution_count": 1,
   "id": "95029379",
   "metadata": {
    "ExecuteTime": {
     "end_time": "2022-08-09T11:28:24.130905Z",
     "start_time": "2022-08-09T11:28:20.656784Z"
    }
   },
   "outputs": [],
   "source": [
    "import tensorflow as tf\n",
    "from tensorflow import keras\n",
    "from tensorflow.keras import layers"
   ]
  },
  {
   "cell_type": "code",
   "execution_count": 2,
   "id": "e4c05824",
   "metadata": {
    "ExecuteTime": {
     "end_time": "2022-08-09T11:28:25.788246Z",
     "start_time": "2022-08-09T11:28:25.767243Z"
    }
   },
   "outputs": [
    {
     "data": {
      "text/plain": [
       "'2.4.1'"
      ]
     },
     "execution_count": 2,
     "metadata": {},
     "output_type": "execute_result"
    }
   ],
   "source": [
    "tf.__version__"
   ]
  },
  {
   "cell_type": "code",
   "execution_count": 4,
   "id": "a3ff35de",
   "metadata": {
    "ExecuteTime": {
     "end_time": "2022-08-09T11:39:10.874758Z",
     "start_time": "2022-08-09T11:39:10.857328Z"
    }
   },
   "outputs": [],
   "source": [
    "data_dir = \"D:Dataset/dataset/dogs_cats/\""
   ]
  },
  {
   "cell_type": "code",
   "execution_count": 5,
   "id": "6cdbb1e9",
   "metadata": {
    "ExecuteTime": {
     "end_time": "2022-08-09T11:40:33.591435Z",
     "start_time": "2022-08-09T11:40:33.574408Z"
    }
   },
   "outputs": [],
   "source": [
    "import os\n",
    "from glob import glob"
   ]
  },
  {
   "cell_type": "code",
   "execution_count": 16,
   "id": "63d6497c",
   "metadata": {
    "ExecuteTime": {
     "end_time": "2022-08-09T11:43:21.827761Z",
     "start_time": "2022-08-09T11:43:21.679084Z"
    }
   },
   "outputs": [
    {
     "name": "stdout",
     "output_type": "stream",
     "text": [
      "12500 12500\n"
     ]
    }
   ],
   "source": [
    "data_cat = glob(os.path.join(data_dir, \"train\",\"cat*\"))\n",
    "data_dog = glob(os.path.join(data_dir, \"train\",\"dog*\"))\n",
    "print(len(data_cat), len(data_dog))"
   ]
  },
  {
   "cell_type": "code",
   "execution_count": 14,
   "id": "712d282a",
   "metadata": {
    "ExecuteTime": {
     "end_time": "2022-08-09T11:43:02.625084Z",
     "start_time": "2022-08-09T11:43:02.612841Z"
    }
   },
   "outputs": [
    {
     "data": {
      "text/plain": [
       "['D:Dataset/dataset/dogs_cats/train\\\\cat.0.jpg',\n",
       " 'D:Dataset/dataset/dogs_cats/train\\\\cat.1.jpg',\n",
       " 'D:Dataset/dataset/dogs_cats/train\\\\cat.10.jpg',\n",
       " 'D:Dataset/dataset/dogs_cats/train\\\\cat.100.jpg',\n",
       " 'D:Dataset/dataset/dogs_cats/train\\\\cat.1000.jpg']"
      ]
     },
     "execution_count": 14,
     "metadata": {},
     "output_type": "execute_result"
    }
   ],
   "source": [
    "data_cat[:5]"
   ]
  },
  {
   "cell_type": "code",
   "execution_count": 15,
   "id": "272aa31e",
   "metadata": {
    "ExecuteTime": {
     "end_time": "2022-08-09T11:43:06.641466Z",
     "start_time": "2022-08-09T11:43:06.627362Z"
    }
   },
   "outputs": [
    {
     "data": {
      "text/plain": [
       "['D:Dataset/dataset/dogs_cats/train\\\\dog.0.jpg',\n",
       " 'D:Dataset/dataset/dogs_cats/train\\\\dog.1.jpg',\n",
       " 'D:Dataset/dataset/dogs_cats/train\\\\dog.10.jpg',\n",
       " 'D:Dataset/dataset/dogs_cats/train\\\\dog.100.jpg',\n",
       " 'D:Dataset/dataset/dogs_cats/train\\\\dog.1000.jpg']"
      ]
     },
     "execution_count": 15,
     "metadata": {},
     "output_type": "execute_result"
    }
   ],
   "source": [
    "data_dog[:5]"
   ]
  },
  {
   "cell_type": "code",
   "execution_count": null,
   "id": "619ff50b",
   "metadata": {},
   "outputs": [],
   "source": []
  }
 ],
 "metadata": {
  "kernelspec": {
   "display_name": "Python 3 (ipykernel)",
   "language": "python",
   "name": "python3"
  },
  "language_info": {
   "codemirror_mode": {
    "name": "ipython",
    "version": 3
   },
   "file_extension": ".py",
   "mimetype": "text/x-python",
   "name": "python",
   "nbconvert_exporter": "python",
   "pygments_lexer": "ipython3",
   "version": "3.8.13"
  },
  "toc": {
   "base_numbering": 1,
   "nav_menu": {},
   "number_sections": true,
   "sideBar": true,
   "skip_h1_title": false,
   "title_cell": "Table of Contents",
   "title_sidebar": "Contents",
   "toc_cell": false,
   "toc_position": {},
   "toc_section_display": true,
   "toc_window_display": false
  }
 },
 "nbformat": 4,
 "nbformat_minor": 5
}
