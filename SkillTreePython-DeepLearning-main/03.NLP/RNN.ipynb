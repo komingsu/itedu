{
 "cells": [
  {
   "cell_type": "code",
   "execution_count": 10,
   "id": "a7cb754e",
   "metadata": {
    "ExecuteTime": {
     "end_time": "2022-07-15T02:39:03.551281Z",
     "start_time": "2022-07-15T02:39:03.541274Z"
    }
   },
   "outputs": [],
   "source": [
    "import tensorflow as tf\n",
    "from tensorflow.keras import preprocessing, layers, Sequential, utils\n",
    "from Myfunc import show_lcurve"
   ]
  },
  {
   "cell_type": "code",
   "execution_count": 52,
   "id": "062e29a4",
   "metadata": {
    "ExecuteTime": {
     "end_time": "2022-07-15T04:35:25.901811Z",
     "start_time": "2022-07-15T04:35:25.693374Z"
    },
    "scrolled": false
   },
   "outputs": [
    {
     "name": "stdout",
     "output_type": "stream",
     "text": [
      "Model: \"RNN\"\n",
      "_________________________________________________________________\n",
      "Layer (type)                 Output Shape              Param #   \n",
      "=================================================================\n",
      "Embedding (Embedding)        (None, 10, 6)             60000     \n",
      "_________________________________________________________________\n",
      "RNN (SimpleRNN)              (None, 4)                 44        \n",
      "_________________________________________________________________\n",
      "classifier (Dense)           (None, 1)                 5         \n",
      "=================================================================\n",
      "Total params: 60,049\n",
      "Trainable params: 60,049\n",
      "Non-trainable params: 0\n",
      "_________________________________________________________________\n"
     ]
    },
    {
     "data": {
      "image/png": "[encoded data removed]",
      "text/plain": [
       "<IPython.core.display.Image object>"
      ]
     },
     "execution_count": 52,
     "metadata": {},
     "output_type": "execute_result"
    }
   ],
   "source": [
    "EMD_DIMS = 6\n",
    "MAX_LEN = 10\n",
    "MAX_FEATURES = 10000\n",
    "\n",
    "model = Sequential(name=\"RNN\")\n",
    "model.add(layers.Input(shape=MAX_LEN, name=\"Input\"))\n",
    "model.add(layers.Embedding(input_dim=10000, output_dim=EMD_DIMS, name=\"Embedding\"))\n",
    "model.add(layers.SimpleRNN(4, name=\"RNN\")) # channels_last 가 디폴트 , # channels_last 를 해주면 각 행별 평균을 한다\n",
    "model.add(layers.Dense(1, activation=\"sigmoid\", name=\"classifier\"))\n",
    "model.summary()\n",
    "utils.plot_model(model, show_shapes=True)"
   ]
  },
  {
   "cell_type": "code",
   "execution_count": 53,
   "id": "9008b15e",
   "metadata": {
    "ExecuteTime": {
     "end_time": "2022-07-15T04:35:27.492608Z",
     "start_time": "2022-07-15T04:35:27.477777Z"
    }
   },
   "outputs": [],
   "source": [
    "import numpy as np"
   ]
  },
  {
   "cell_type": "code",
   "execution_count": 42,
   "id": "43110642",
   "metadata": {
    "ExecuteTime": {
     "end_time": "2022-07-15T04:33:25.698031Z",
     "start_time": "2022-07-15T04:33:25.692038Z"
    }
   },
   "outputs": [
    {
     "data": {
      "text/plain": [
       "(10, 6)"
      ]
     },
     "execution_count": 42,
     "metadata": {},
     "output_type": "execute_result"
    }
   ],
   "source": [
    "timesteps = 10 # 단어의 개수 256 -> 10\n",
    "input_dim = 6 # 임베딩 아웃풋 32 -> 6\n",
    "hidden_units = 4 # RNN 노드 개수 32 -> 4\n",
    "# 입력에 해당되는 2D 텐서\n",
    "inputs = np.random.random((timesteps, input_dim))\n",
    "inputs.shape"
   ]
  },
  {
   "cell_type": "code",
   "execution_count": 54,
   "id": "a6d562ea",
   "metadata": {
    "ExecuteTime": {
     "end_time": "2022-07-15T04:36:24.154658Z",
     "start_time": "2022-07-15T04:36:24.140656Z"
    }
   },
   "outputs": [
    {
     "data": {
      "text/plain": [
       "(array([0.75989621, 0.68042876, 0.3065464 , 0.56762763, 0.61315184,\n",
       "        0.46367387]),\n",
       " array([0.04417823, 0.7084128 , 0.51543125, 0.77244701, 0.60342653,\n",
       "        0.89025227]))"
      ]
     },
     "execution_count": 54,
     "metadata": {},
     "output_type": "execute_result"
    }
   ],
   "source": [
    "# 10개의 (32,)\n",
    "inputs[0], inputs[9]"
   ]
  },
  {
   "cell_type": "code",
   "execution_count": 55,
   "id": "2968c8cd",
   "metadata": {
    "ExecuteTime": {
     "end_time": "2022-07-15T04:37:25.138703Z",
     "start_time": "2022-07-15T04:37:25.131702Z"
    }
   },
   "outputs": [
    {
     "data": {
      "text/plain": [
       "(4,)"
      ]
     },
     "execution_count": 55,
     "metadata": {},
     "output_type": "execute_result"
    }
   ],
   "source": [
    "# 초기 은닉 상태는 0(벡터)로 초기화\n",
    "hidden_state_t = np.zeros((hidden_units,)) \n",
    "hidden_state_t.shape"
   ]
  },
  {
   "cell_type": "code",
   "execution_count": 56,
   "id": "a819d783",
   "metadata": {
    "ExecuteTime": {
     "end_time": "2022-07-15T04:37:25.314746Z",
     "start_time": "2022-07-15T04:37:25.306745Z"
    }
   },
   "outputs": [
    {
     "name": "stdout",
     "output_type": "stream",
     "text": [
      "초기 은닉 상태 : [0. 0. 0. 0.]\n"
     ]
    }
   ],
   "source": [
    "print('초기 은닉 상태 :',hidden_state_t)"
   ]
  },
  {
   "cell_type": "code",
   "execution_count": 47,
   "id": "26a15a89",
   "metadata": {
    "ExecuteTime": {
     "end_time": "2022-07-15T04:33:38.666512Z",
     "start_time": "2022-07-15T04:33:38.660486Z"
    }
   },
   "outputs": [],
   "source": [
    "Wx = np.random.random((hidden_units, input_dim))  # (4, 6)크기의 2D 텐서 생성. 입력에 대한 가중치.\n",
    "Wh = np.random.random((hidden_units, hidden_units)) # (4, 4)크기의 2D 텐서 생성. 은닉 상태에 대한 가중치.\n",
    "b = np.random.random((hidden_units,)) # (4,)크기의 1D 텐서 생성. 이 값은 편향(bias)."
   ]
  },
  {
   "cell_type": "code",
   "execution_count": 48,
   "id": "1ebcc4ef",
   "metadata": {
    "ExecuteTime": {
     "end_time": "2022-07-15T04:33:39.090259Z",
     "start_time": "2022-07-15T04:33:39.075028Z"
    }
   },
   "outputs": [
    {
     "name": "stdout",
     "output_type": "stream",
     "text": [
      "가중치 Wx의 크기(shape) : (4, 6)\n",
      "가중치 Wh의 크기(shape) : (4, 4)\n",
      "편향의 크기(shape) : (4,)\n"
     ]
    }
   ],
   "source": [
    "print('가중치 Wx의 크기(shape) :',np.shape(Wx))\n",
    "print('가중치 Wh의 크기(shape) :',np.shape(Wh))\n",
    "print('편향의 크기(shape) :',np.shape(b))"
   ]
  },
  {
   "cell_type": "code",
   "execution_count": 51,
   "id": "f3cdf4e7",
   "metadata": {
    "ExecuteTime": {
     "end_time": "2022-07-15T04:34:12.349333Z",
     "start_time": "2022-07-15T04:34:12.317112Z"
    }
   },
   "outputs": [
    {
     "name": "stdout",
     "output_type": "stream",
     "text": [
      "모든 시점의 은닉 상태 :\n",
      "(10, 4)\n"
     ]
    }
   ],
   "source": [
    "total_hidden_states = []\n",
    "\n",
    "# 각 시점 별 입력값.\n",
    "for input_t in inputs:\n",
    "\n",
    "    # Wx * Xt + Wh * Ht-1 + b(bias)\n",
    "    output_t = np.tanh(np.dot(Wx, input_t) + np.dot(Wh, hidden_state_t) + b)\n",
    "\n",
    "    # 각 시점 t별 메모리 셀의 출력의 크기는 (timestep t, output_dim)\n",
    "    # 각 시점의 은닉 상태의 값을 계속해서 누적\n",
    "    total_hidden_states.append(list(output_t))\n",
    "    hidden_state_t = output_t\n",
    "\n",
    "# 출력 시 값을 깔끔하게 해주는 용도.\n",
    "total_hidden_states = np.stack(total_hidden_states, axis=0)\n",
    "\n",
    "# (timesteps, output_dim)\n",
    "print('모든 시점의 은닉 상태 :')\n",
    "print(total_hidden_states.shape)"
   ]
  },
  {
   "cell_type": "code",
   "execution_count": 50,
   "id": "8d5c79de",
   "metadata": {
    "ExecuteTime": {
     "end_time": "2022-07-15T04:33:41.038240Z",
     "start_time": "2022-07-15T04:33:41.006975Z"
    }
   },
   "outputs": [
    {
     "data": {
      "text/plain": [
       "array([[0.97549198, 0.97374455, 0.9876285 , 0.99060134],\n",
       "       [0.99886752, 0.99800764, 0.99934635, 0.99940729],\n",
       "       [0.99535048, 0.99475296, 0.99775318, 0.99888999],\n",
       "       [0.99782838, 0.9970975 , 0.99919878, 0.99967239],\n",
       "       [0.99865969, 0.99941619, 0.99965536, 0.99987252],\n",
       "       [0.99889531, 0.9978234 , 0.99946556, 0.99960101],\n",
       "       [0.99879678, 0.99855133, 0.99958406, 0.99964794],\n",
       "       [0.99936712, 0.99918839, 0.99968612, 0.99949766],\n",
       "       [0.99766777, 0.99853008, 0.99933689, 0.99976426],\n",
       "       [0.99956307, 0.9988545 , 0.99969205, 0.99980818]])"
      ]
     },
     "execution_count": 50,
     "metadata": {},
     "output_type": "execute_result"
    }
   ],
   "source": [
    "total_hidden_states"
   ]
  },
  {
   "cell_type": "code",
   "execution_count": null,
   "id": "5f2b938c",
   "metadata": {},
   "outputs": [],
   "source": []
  }
 ],
 "metadata": {
  "kernelspec": {
   "display_name": "Python 3 (ipykernel)",
   "language": "python",
   "name": "python3"
  },
  "language_info": {
   "codemirror_mode": {
    "name": "ipython",
    "version": 3
   },
   "file_extension": ".py",
   "mimetype": "text/x-python",
   "name": "python",
   "nbconvert_exporter": "python",
   "pygments_lexer": "ipython3",
   "version": "3.7.10"
  },
  "toc": {
   "base_numbering": 1,
   "nav_menu": {},
   "number_sections": true,
   "sideBar": true,
   "skip_h1_title": false,
   "title_cell": "Table of Contents",
   "title_sidebar": "Contents",
   "toc_cell": false,
   "toc_position": {},
   "toc_section_display": true,
   "toc_window_display": false
  }
 },
 "nbformat": 4,
 "nbformat_minor": 5
}
