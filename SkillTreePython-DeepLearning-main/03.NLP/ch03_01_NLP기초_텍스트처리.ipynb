{
 "cells": [
  {
   "cell_type": "markdown",
   "metadata": {
    "id": "sWs2kEC1_b-P"
   },
   "source": [
    "# ch03.01 NLP기초 - 텍스트 처리\n",
    "---\n",
    "\n",
    "* 날짜: 2022-07-13\n",
    "* 이름: 고민수\n",
    "\n",
    "## 학습내용\n",
    "    - 텍스트 전처리 과정을 이해한다.\n",
    "      * 텍스트 토큰화\n",
    "      * 텍스트 인덱싱\n",
    "      * 원-핫 인코딩\n",
    "      * 텍스트 임베딩\n",
    "    - 간단한 문장을 분류하는 딥러닝 모델을 구현한다.\n"
   ]
  },
  {
   "cell_type": "markdown",
   "metadata": {
    "id": "RgUP6THDdK7O"
   },
   "source": [
    "## 텍스트 데이터 처리\n",
    "\n",
    "- 모든 데이터는 숫자!\n",
    "---"
   ]
  },
  {
   "cell_type": "code",
   "execution_count": 1,
   "metadata": {
    "ExecuteTime": {
     "end_time": "2022-07-13T02:23:21.378866Z",
     "start_time": "2022-07-13T02:23:18.446911Z"
    }
   },
   "outputs": [],
   "source": [
    "import numpy as np\n",
    "import matplotlib.pyplot as plt\n",
    "import seaborn as sns\n",
    "from tensorflow.keras import utils, layers, models"
   ]
  },
  {
   "cell_type": "markdown",
   "metadata": {
    "id": "5XY0FswrfDrS"
   },
   "source": [
    "### **| 전처리 구현하기**"
   ]
  },
  {
   "cell_type": "markdown",
   "metadata": {
    "id": "ZICnjn8bfHx-"
   },
   "source": [
    "#### **딕셔너리 제작**"
   ]
  },
  {
   "cell_type": "code",
   "execution_count": 2,
   "metadata": {
    "ExecuteTime": {
     "end_time": "2022-07-13T02:23:21.394463Z",
     "start_time": "2022-07-13T02:23:21.380461Z"
    },
    "id": "aYpYwBlhf3En"
   },
   "outputs": [],
   "source": [
    "samples = [\"very nice movie\",\n",
    "          \"this movie is bad\",\n",
    "          \"it is so bad\",\n",
    "          \"wow it is a good movie\"]"
   ]
  },
  {
   "cell_type": "code",
   "execution_count": 3,
   "metadata": {
    "ExecuteTime": {
     "end_time": "2022-07-13T02:23:21.410467Z",
     "start_time": "2022-07-13T02:23:21.395465Z"
    }
   },
   "outputs": [
    {
     "name": "stdout",
     "output_type": "stream",
     "text": [
      "{'very': 1, 'nice': 2, 'movie': 3, 'this': 4, 'is': 5, 'bad': 6, 'it': 7, 'so': 8, 'wow': 9, 'a': 10, 'good': 11}\n",
      "모든 단어 개수 :  11\n"
     ]
    }
   ],
   "source": [
    "word_dict = {}\n",
    "for sample in samples:\n",
    "    # 토큰화\n",
    "    for token in sample.split(\" \"):\n",
    "        if token not in word_dict:\n",
    "            word_dict[token] = len(word_dict)+1\n",
    "print(word_dict)\n",
    "print(\"모든 단어 개수 : \", len(word_dict))"
   ]
  },
  {
   "cell_type": "markdown",
   "metadata": {
    "id": "KEsBK72AfMB0"
   },
   "source": [
    "#### **단어 인덱싱**"
   ]
  },
  {
   "cell_type": "code",
   "execution_count": 4,
   "metadata": {
    "ExecuteTime": {
     "end_time": "2022-07-13T02:23:21.426471Z",
     "start_time": "2022-07-13T02:23:21.411466Z"
    },
    "id": "OevIeAf6g0QN"
   },
   "outputs": [
    {
     "data": {
      "text/plain": [
       "array([4, 3, 5, 6])"
      ]
     },
     "execution_count": 4,
     "metadata": {},
     "output_type": "execute_result"
    }
   ],
   "source": [
    "# 문장 -> 토큰 -> 숫자\n",
    "def word_indexing(sample, word_dict):\n",
    "    indexed = []\n",
    "    for token in sample.split(\" \"):\n",
    "        num = word_dict[token]\n",
    "        indexed.append(num)\n",
    "    return np.array(indexed)\n",
    "\n",
    "word_indexing(samples[1], word_dict)"
   ]
  },
  {
   "cell_type": "code",
   "execution_count": 5,
   "metadata": {
    "ExecuteTime": {
     "end_time": "2022-07-13T02:23:21.630642Z",
     "start_time": "2022-07-13T02:23:21.427471Z"
    },
    "id": "dtmzeJfjgo46"
   },
   "outputs": [
    {
     "data": {
      "image/png": "[encoded data removed]",
      "text/plain": [
       "<Figure size 864x432 with 4 Axes>"
      ]
     },
     "metadata": {
      "needs_background": "light"
     },
     "output_type": "display_data"
    }
   ],
   "source": [
    "plt.figure(figsize=(len(samples)*3,6))\n",
    "for i, sample in enumerate(samples):\n",
    "    indexed = word_indexing(sample, word_dict)\n",
    "    plt.subplot(1, len(samples), i+1)\n",
    "    sns.heatmap(indexed.reshape(len(indexed), 1), yticklabels=sample.split(\" \"), annot=True, cbar=False, xticklabels=[])\n",
    "plt.show()"
   ]
  },
  {
   "cell_type": "markdown",
   "metadata": {
    "id": "Y942NAXGftDf"
   },
   "source": [
    "#### **원-핫 인코딩**"
   ]
  },
  {
   "cell_type": "code",
   "execution_count": 6,
   "metadata": {
    "ExecuteTime": {
     "end_time": "2022-07-13T02:23:21.646644Z",
     "start_time": "2022-07-13T02:23:21.631642Z"
    },
    "id": "Xt4aVBN7g89I"
   },
   "outputs": [
    {
     "data": {
      "text/plain": [
       "('wow it is a good movie',\n",
       " array([[0., 0., 0., 0., 0., 0., 0., 0., 0., 1., 0., 0.],\n",
       "        [0., 0., 0., 0., 0., 0., 0., 1., 0., 0., 0., 0.],\n",
       "        [0., 0., 0., 0., 0., 1., 0., 0., 0., 0., 0., 0.],\n",
       "        [0., 0., 0., 0., 0., 0., 0., 0., 0., 0., 1., 0.],\n",
       "        [0., 0., 0., 0., 0., 0., 0., 0., 0., 0., 0., 1.]]))"
      ]
     },
     "execution_count": 6,
     "metadata": {},
     "output_type": "execute_result"
    }
   ],
   "source": [
    "# sample_mxlen : 한 문장안에 몇개의 토큰까지 허락\n",
    "# total_words : 딕셔너리 안에 있는 모든 단어 개수\n",
    "\n",
    "def word_onehot(sample, sample_mxlen, total_words):\n",
    "    onehot = np.zeros( (sample_mxlen, total_words+1) ) # +1 을 해줘야 개수가 맞음\n",
    "    for i, token in enumerate(sample.split()):\n",
    "        if i == sample_mxlen: break # 초과되는 샘플이 너무 길면 자르기\n",
    "        index = word_dict[token] # 토큰의 번호를 word_dict 에서 찾아옴\n",
    "        onehot[i, index]=1\n",
    "    return onehot\n",
    "\n",
    "idx = 3\n",
    "samples[idx], word_onehot(samples[idx], 5, len(word_dict))"
   ]
  },
  {
   "cell_type": "code",
   "execution_count": 7,
   "metadata": {
    "ExecuteTime": {
     "end_time": "2022-07-13T02:23:22.673442Z",
     "start_time": "2022-07-13T02:23:21.647645Z"
    },
    "id": "K-JUpREAhHDm"
   },
   "outputs": [
    {
     "data": {
      "image/png": "[encoded data removed]",
      "text/plain": [
       "<Figure size 864x432 with 4 Axes>"
      ]
     },
     "metadata": {
      "needs_background": "light"
     },
     "output_type": "display_data"
    }
   ],
   "source": [
    "plt.figure(figsize=(len(samples)*3,6))\n",
    "for i, sample in enumerate(samples):\n",
    "    onehot = word_onehot(samples[i], 6, len(word_dict))\n",
    "    plt.subplot(1, len(samples), i+1)\n",
    "    sns.heatmap(onehot, yticklabels=sample.split(\" \"), annot=True, cbar=False)\n",
    "plt.show()"
   ]
  },
  {
   "cell_type": "markdown",
   "metadata": {
    "id": "LsZv-_kzeu_h"
   },
   "source": [
    "### | **텐서플로우 케라스 Tokenizer**\n"
   ]
  },
  {
   "cell_type": "code",
   "execution_count": 8,
   "metadata": {
    "ExecuteTime": {
     "end_time": "2022-07-13T02:23:22.688445Z",
     "start_time": "2022-07-13T02:23:22.674443Z"
    },
    "id": "bK7TFAxghuyH"
   },
   "outputs": [],
   "source": [
    "from tensorflow.keras.preprocessing.text import Tokenizer\n",
    "tk = Tokenizer()\n",
    "tk.fit_on_texts(samples)"
   ]
  },
  {
   "cell_type": "code",
   "execution_count": 9,
   "metadata": {
    "ExecuteTime": {
     "end_time": "2022-07-13T02:23:22.703449Z",
     "start_time": "2022-07-13T02:23:22.689447Z"
    },
    "id": "NOMD-mKyibr8"
   },
   "outputs": [
    {
     "name": "stdout",
     "output_type": "stream",
     "text": [
      "단어사전 :  {'movie': 1, 'is': 2, 'bad': 3, 'it': 4, 'very': 5, 'nice': 6, 'this': 7, 'so': 8, 'wow': 9, 'a': 10, 'good': 11}\n",
      "단어 개수 :  OrderedDict([('very', 1), ('nice', 1), ('movie', 3), ('this', 1), ('is', 3), ('bad', 2), ('it', 2), ('so', 1), ('wow', 1), ('a', 1), ('good', 1)])\n",
      "단어가 포함된 문장 개수 :  defaultdict(<class 'int'>, {'nice': 1, 'movie': 3, 'very': 1, 'is': 3, 'bad': 2, 'this': 1, 'it': 2, 'so': 1, 'good': 1, 'wow': 1, 'a': 1})\n",
      "문장(샘플) 개수 :  4\n"
     ]
    }
   ],
   "source": [
    "print(\"단어사전 : \", tk.word_index)\n",
    "print(\"단어 개수 : \", tk.word_counts)\n",
    "print(\"단어가 포함된 문장 개수 : \", tk.word_docs)\n",
    "print(\"문장(샘플) 개수 : \", tk.document_count)"
   ]
  },
  {
   "cell_type": "markdown",
   "metadata": {
    "id": "K7A_XvdfhdT4"
   },
   "source": [
    "#### **단어 인덱싱**"
   ]
  },
  {
   "cell_type": "code",
   "execution_count": 10,
   "metadata": {
    "ExecuteTime": {
     "end_time": "2022-07-13T02:23:22.719451Z",
     "start_time": "2022-07-13T02:23:22.705449Z"
    },
    "id": "PPZG6lkfid_-"
   },
   "outputs": [
    {
     "name": "stdout",
     "output_type": "stream",
     "text": [
      "0번째 샘플의 인덱싱 : [5, 6, 1]\n",
      "1번째 샘플의 인덱싱 : [7, 1, 2, 3]\n",
      "2번째 샘플의 인덱싱 : [4, 2, 8, 3]\n",
      "3번째 샘플의 인덱싱 : [9, 4, 2, 10, 11, 1]\n"
     ]
    }
   ],
   "source": [
    "seqs = tk.texts_to_sequences(samples)\n",
    "for i , seq in enumerate(seqs): print(f\"{i}번째 샘플의 인덱싱 : {seq}\")"
   ]
  },
  {
   "cell_type": "code",
   "execution_count": 11,
   "metadata": {
    "ExecuteTime": {
     "end_time": "2022-07-13T02:23:22.923497Z",
     "start_time": "2022-07-13T02:23:22.721453Z"
    },
    "id": "rnk2iV_XhTfy"
   },
   "outputs": [
    {
     "data": {
      "image/png": "[encoded data removed]",
      "text/plain": [
       "<Figure size 864x432 with 4 Axes>"
      ]
     },
     "metadata": {
      "needs_background": "light"
     },
     "output_type": "display_data"
    }
   ],
   "source": [
    "plt.figure(figsize=(len(samples)*3,6))\n",
    "for i, sample in enumerate(samples):\n",
    "    indexed = np.array(seqs[i])\n",
    "    plt.subplot(1, len(samples), i+1)\n",
    "    sns.heatmap(indexed.reshape(len(indexed), 1), yticklabels=sample.split(\" \"), annot=True, cbar=False)\n",
    "plt.show()"
   ]
  },
  {
   "cell_type": "markdown",
   "metadata": {
    "id": "Qn-KEjZShneG"
   },
   "source": [
    "#### **패딩**"
   ]
  },
  {
   "cell_type": "code",
   "execution_count": 12,
   "metadata": {
    "ExecuteTime": {
     "end_time": "2022-07-13T02:23:22.938501Z",
     "start_time": "2022-07-13T02:23:22.924498Z"
    },
    "id": "U9ExtwrFitNX"
   },
   "outputs": [
    {
     "name": "stdout",
     "output_type": "stream",
     "text": [
      "패딩결과 : \n",
      " [[ 5  6  1  0  0  0  0]\n",
      " [ 7  1  2  3  0  0  0]\n",
      " [ 4  2  8  3  0  0  0]\n",
      " [ 9  4  2 10 11  1  0]] (4, 7)\n"
     ]
    }
   ],
   "source": [
    "from tensorflow.keras.preprocessing.sequence import pad_sequences\n",
    "\n",
    "pads = pad_sequences(seqs, 7, padding=\"post\")\n",
    "print(\"패딩결과 : \\n\", pads, pads.shape)"
   ]
  },
  {
   "cell_type": "code",
   "execution_count": 13,
   "metadata": {
    "ExecuteTime": {
     "end_time": "2022-07-13T02:23:23.139546Z",
     "start_time": "2022-07-13T02:23:22.939501Z"
    },
    "id": "1pnYg9XYhgri"
   },
   "outputs": [
    {
     "data": {
      "image/png": "[encoded data removed]",
      "text/plain": [
       "<Figure size 864x432 with 4 Axes>"
      ]
     },
     "metadata": {
      "needs_background": "light"
     },
     "output_type": "display_data"
    }
   ],
   "source": [
    "plt.figure(figsize=(len(samples)*3,6))\n",
    "for i, sample in enumerate(samples):\n",
    "    indexed = np.array(pads[i])\n",
    "    plt.subplot(1, len(samples), i+1)\n",
    "    sns.heatmap(indexed.reshape(len(indexed), 1), yticklabels=sample.split(\" \"), annot=True, cbar=False)\n",
    "plt.show()"
   ]
  },
  {
   "cell_type": "markdown",
   "metadata": {
    "id": "4dxENhJPhs_y"
   },
   "source": [
    "#### **원핫 인코딩**"
   ]
  },
  {
   "cell_type": "code",
   "execution_count": 14,
   "metadata": {
    "ExecuteTime": {
     "end_time": "2022-07-13T02:23:23.155550Z",
     "start_time": "2022-07-13T02:23:23.140546Z"
    },
    "id": "Cm1IFHXihxUZ"
   },
   "outputs": [],
   "source": [
    "onehots = utils.to_categorical(pads, num_classes=len(word_dict)+1) # 클래스를 단어개수 +1\n",
    "    # +1 하는 이유는 단어가 없거나 / 딕셔너리에 존재하지 않는 단어는 첫번째 클래스에 할당"
   ]
  },
  {
   "cell_type": "code",
   "execution_count": 15,
   "metadata": {
    "ExecuteTime": {
     "end_time": "2022-07-13T02:23:24.185781Z",
     "start_time": "2022-07-13T02:23:23.156549Z"
    },
    "id": "fP_5p5BGiV-4"
   },
   "outputs": [
    {
     "data": {
      "image/png": "[encoded data removed]",
      "text/plain": [
       "<Figure size 1440x432 with 4 Axes>"
      ]
     },
     "metadata": {
      "needs_background": "light"
     },
     "output_type": "display_data"
    }
   ],
   "source": [
    "plt.figure(figsize=(len(samples)*5,6))\n",
    "for i, sample in enumerate(samples):\n",
    "    plt.subplot(1, len(samples), i+1)\n",
    "    sns.heatmap(onehots[i], yticklabels=sample.split(\" \"), annot=True, cbar=False)\n",
    "plt.show()"
   ]
  },
  {
   "cell_type": "markdown",
   "metadata": {
    "id": "vynVTAfjkV1S"
   },
   "source": [
    "#### **단어 임베딩**"
   ]
  },
  {
   "cell_type": "markdown",
   "metadata": {
    "ExecuteTime": {
     "end_time": "2022-07-13T01:30:35.529789Z",
     "start_time": "2022-07-13T01:30:35.512252Z"
    }
   },
   "source": [
    "단어 하나가 표현할 수 있는 dimension 이 자유롭다.\n",
    "\n",
    "원-핫 인코딩 처럼 단어 하나를 딕셔너리에 있는 단어 수의 크기만큼 디멘션을 표현하지 않아도 됨"
   ]
  },
  {
   "cell_type": "code",
   "execution_count": 16,
   "metadata": {
    "ExecuteTime": {
     "end_time": "2022-07-13T02:23:24.200784Z",
     "start_time": "2022-07-13T02:23:24.186781Z"
    },
    "id": "oivTrne7i4BA"
   },
   "outputs": [],
   "source": [
    "embedding_layer = layers.Embedding(input_dim=6+1 ,output_dim=3) # 원핫처리 후 임베딩"
   ]
  },
  {
   "cell_type": "code",
   "execution_count": 17,
   "metadata": {
    "ExecuteTime": {
     "end_time": "2022-07-13T02:23:24.216787Z",
     "start_time": "2022-07-13T02:23:24.201784Z"
    }
   },
   "outputs": [
    {
     "data": {
      "text/plain": [
       "array([5, 6, 1, 0, 0, 0, 0])"
      ]
     },
     "execution_count": 17,
     "metadata": {},
     "output_type": "execute_result"
    }
   ],
   "source": [
    "pads[0]"
   ]
  },
  {
   "cell_type": "code",
   "execution_count": 18,
   "metadata": {
    "ExecuteTime": {
     "end_time": "2022-07-13T02:23:24.247799Z",
     "start_time": "2022-07-13T02:23:24.217788Z"
    },
    "id": "UBEezkcbjSRq"
   },
   "outputs": [
    {
     "data": {
      "text/plain": [
       "<tf.Tensor: shape=(7, 3), dtype=float32, numpy=\n",
       "array([[ 0.01302903, -0.03834088,  0.0417745 ],\n",
       "       [-0.02087514,  0.02396479, -0.02318064],\n",
       "       [-0.03455824, -0.00697659, -0.03060946],\n",
       "       [-0.00400655, -0.00350721,  0.04849826],\n",
       "       [-0.00400655, -0.00350721,  0.04849826],\n",
       "       [-0.00400655, -0.00350721,  0.04849826],\n",
       "       [-0.00400655, -0.00350721,  0.04849826]], dtype=float32)>"
      ]
     },
     "execution_count": 18,
     "metadata": {},
     "output_type": "execute_result"
    }
   ],
   "source": [
    "embedding_layer(pads[0])"
   ]
  },
  {
   "cell_type": "markdown",
   "metadata": {
    "id": "_qAvInrFdSXD"
   },
   "source": [
    "## 간단 예제\n",
    "---"
   ]
  },
  {
   "cell_type": "markdown",
   "metadata": {},
   "source": [
    "### 데이터 로드"
   ]
  },
  {
   "cell_type": "code",
   "execution_count": 19,
   "metadata": {
    "ExecuteTime": {
     "end_time": "2022-07-13T02:23:24.263805Z",
     "start_time": "2022-07-13T02:23:24.248798Z"
    }
   },
   "outputs": [
    {
     "name": "stdout",
     "output_type": "stream",
     "text": [
      "14 (14,)\n"
     ]
    }
   ],
   "source": [
    "docs = [\"너무 재미 있네요\",\n",
    "        \"최고 예요\",\n",
    "        \"참 잘 만든 영화 예요\",\n",
    "        \"추천 하고 싶은 영화 입니다\",\n",
    "        \"한번 더 보고 싶네요\",\n",
    "        \"글쎄 요\",\"별로 예요\",\"생각 보다 지루 하네요\",\n",
    "        \"연기 가 어색 해요\",\"재미 있어서 한번 더 볼거 예요\", \"별로 재미 가 없어요\", \"재미 있고 잘 만든 영화 입니다\",\n",
    "        \"재미 가 별로 없어요\", \"별로 예요\"]\n",
    "classes = np.array([1,1,1,1,1,0,0,0,0,1,0,1,0,0])\n",
    "print(len(docs), classes.shape)"
   ]
  },
  {
   "cell_type": "markdown",
   "metadata": {
    "ExecuteTime": {
     "end_time": "2022-07-13T02:05:20.983580Z",
     "start_time": "2022-07-13T02:05:20.967549Z"
    },
    "id": "ZfSIV2RVu3Q1"
   },
   "source": [
    "### 토큰화"
   ]
  },
  {
   "cell_type": "code",
   "execution_count": 20,
   "metadata": {
    "ExecuteTime": {
     "end_time": "2022-07-13T02:23:24.279808Z",
     "start_time": "2022-07-13T02:23:24.264806Z"
    },
    "id": "AMENFMmIcbiw"
   },
   "outputs": [
    {
     "name": "stdout",
     "output_type": "stream",
     "text": [
      "단어사전 :  {'재미': 1, '예요': 2, '별로': 3, '영화': 4, '가': 5, '잘': 6, '만든': 7, '입니다': 8, '한번': 9, '더': 10, '없어요': 11, '너무': 12, '있네요': 13, '최고': 14, '참': 15, '추천': 16, '하고': 17, '싶은': 18, '보고': 19, '싶네요': 20, '글쎄': 21, '요': 22, '생각': 23, '보다': 24, '지루': 25, '하네요': 26, '연기': 27, '어색': 28, '해요': 29, '있어서': 30, '볼거': 31, '있고': 32, '<PAD>': 0}\n",
      "총 단어 수 : 33\n"
     ]
    }
   ],
   "source": [
    "token = Tokenizer()\n",
    "token.fit_on_texts(docs)\n",
    "word_dict = token.word_index\n",
    "\n",
    "word_dict[\"<PAD>\"] = 0\n",
    "\n",
    "print(\"단어사전 : \", word_dict)\n",
    "print(\"총 단어 수 :\", len(word_dict) )"
   ]
  },
  {
   "cell_type": "markdown",
   "metadata": {},
   "source": [
    "### 인덱싱"
   ]
  },
  {
   "cell_type": "code",
   "execution_count": 21,
   "metadata": {
    "ExecuteTime": {
     "end_time": "2022-07-13T02:23:24.294812Z",
     "start_time": "2022-07-13T02:23:24.280809Z"
    }
   },
   "outputs": [
    {
     "name": "stdout",
     "output_type": "stream",
     "text": [
      "[[12, 1, 13], [14, 2], [15, 6, 7, 4, 2], [16, 17, 18, 4, 8], [9, 10, 19, 20], [21, 22], [3, 2], [23, 24, 25, 26], [27, 5, 28, 29], [1, 30, 9, 10, 31, 2], [3, 1, 5, 11], [1, 32, 6, 7, 4, 8], [1, 5, 3, 11], [3, 2]]\n"
     ]
    }
   ],
   "source": [
    "x = token.texts_to_sequences(docs)\n",
    "print(x)"
   ]
  },
  {
   "cell_type": "markdown",
   "metadata": {},
   "source": [
    "### 패딩"
   ]
  },
  {
   "cell_type": "code",
   "execution_count": 22,
   "metadata": {
    "ExecuteTime": {
     "end_time": "2022-07-13T02:23:24.310816Z",
     "start_time": "2022-07-13T02:23:24.295812Z"
    }
   },
   "outputs": [
    {
     "name": "stdout",
     "output_type": "stream",
     "text": [
      "[[12  1 13  0  0  0]\n",
      " [14  2  0  0  0  0]\n",
      " [15  6  7  4  2  0]\n",
      " [16 17 18  4  8  0]\n",
      " [ 9 10 19 20  0  0]\n",
      " [21 22  0  0  0  0]\n",
      " [ 3  2  0  0  0  0]\n",
      " [23 24 25 26  0  0]\n",
      " [27  5 28 29  0  0]\n",
      " [ 1 30  9 10 31  2]\n",
      " [ 3  1  5 11  0  0]\n",
      " [ 1 32  6  7  4  8]\n",
      " [ 1  5  3 11  0  0]\n",
      " [ 3  2  0  0  0  0]]\n"
     ]
    }
   ],
   "source": [
    "x_pad = pad_sequences(x, padding='post', maxlen=6) # 한문장에 들어갈 최대 단어 개수 지정\n",
    "print(x_pad)"
   ]
  },
  {
   "cell_type": "markdown",
   "metadata": {},
   "source": [
    "### 모델 구현"
   ]
  },
  {
   "cell_type": "code",
   "execution_count": 23,
   "metadata": {
    "ExecuteTime": {
     "end_time": "2022-07-13T02:23:24.358029Z",
     "start_time": "2022-07-13T02:23:24.311816Z"
    }
   },
   "outputs": [
    {
     "name": "stdout",
     "output_type": "stream",
     "text": [
      "Model: \"functional_1\"\n",
      "_________________________________________________________________\n",
      "Layer (type)                 Output Shape              Param #   \n",
      "=================================================================\n",
      "input_1 (InputLayer)         [(None, 6)]               0         \n",
      "_________________________________________________________________\n",
      "embedding_1 (Embedding)      (None, 6, 8)              264       \n",
      "_________________________________________________________________\n",
      "global_average_pooling1d (Gl (None, 8)                 0         \n",
      "_________________________________________________________________\n",
      "dense (Dense)                (None, 16)                144       \n",
      "_________________________________________________________________\n",
      "dense_1 (Dense)              (None, 1)                 17        \n",
      "=================================================================\n",
      "Total params: 425\n",
      "Trainable params: 425\n",
      "Non-trainable params: 0\n",
      "_________________________________________________________________\n"
     ]
    }
   ],
   "source": [
    "def create_model():\n",
    "    x = layers.Input(shape=6)\n",
    "    y = layers.Embedding(33, 8)(x)\n",
    "    y = layers.GlobalAveragePooling1D()(y)\n",
    "    y = layers.Dense(16, activation='relu')(y)\n",
    "    y = layers.Dense(1, activation='sigmoid')(y)\n",
    "    return models.Model(x,y)\n",
    "model = create_model()\n",
    "model.summary()"
   ]
  },
  {
   "cell_type": "code",
   "execution_count": 24,
   "metadata": {
    "ExecuteTime": {
     "end_time": "2022-07-13T02:23:24.799418Z",
     "start_time": "2022-07-13T02:23:24.359636Z"
    }
   },
   "outputs": [
    {
     "data": {
      "image/png": "[encoded data removed]",
      "text/plain": [
       "<IPython.core.display.Image object>"
      ]
     },
     "execution_count": 24,
     "metadata": {},
     "output_type": "execute_result"
    }
   ],
   "source": [
    "utils.plot_model(model, show_shapes=True)"
   ]
  },
  {
   "cell_type": "code",
   "execution_count": 25,
   "metadata": {
    "ExecuteTime": {
     "end_time": "2022-07-13T02:33:32.016728Z",
     "start_time": "2022-07-13T02:33:31.331789Z"
    }
   },
   "outputs": [
    {
     "name": "stdout",
     "output_type": "stream",
     "text": [
      "Epoch 1/20\n",
      "1/1 [==============================] - 0s 0s/step - loss: 0.6927 - acc: 0.6429\n",
      "Epoch 2/20\n",
      "1/1 [==============================] - 0s 1ms/step - loss: 0.6918 - acc: 0.7143\n",
      "Epoch 3/20\n",
      "1/1 [==============================] - 0s 1ms/step - loss: 0.6909 - acc: 0.7143\n",
      "Epoch 4/20\n",
      "1/1 [==============================] - 0s 0s/step - loss: 0.6900 - acc: 0.7143\n",
      "Epoch 5/20\n",
      "1/1 [==============================] - 0s 1ms/step - loss: 0.6891 - acc: 0.7143\n",
      "Epoch 6/20\n",
      "1/1 [==============================] - 0s 0s/step - loss: 0.6882 - acc: 0.7143\n",
      "Epoch 7/20\n",
      "1/1 [==============================] - 0s 999us/step - loss: 0.6873 - acc: 0.7143\n",
      "Epoch 8/20\n",
      "1/1 [==============================] - 0s 1ms/step - loss: 0.6863 - acc: 0.7143\n",
      "Epoch 9/20\n",
      "1/1 [==============================] - 0s 0s/step - loss: 0.6853 - acc: 0.7857\n",
      "Epoch 10/20\n",
      "1/1 [==============================] - 0s 0s/step - loss: 0.6842 - acc: 0.7857\n",
      "Epoch 11/20\n",
      "1/1 [==============================] - 0s 0s/step - loss: 0.6831 - acc: 0.7857\n",
      "Epoch 12/20\n",
      "1/1 [==============================] - 0s 999us/step - loss: 0.6820 - acc: 0.7857\n",
      "Epoch 13/20\n",
      "1/1 [==============================] - 0s 1ms/step - loss: 0.6808 - acc: 0.8571\n",
      "Epoch 14/20\n",
      "1/1 [==============================] - 0s 1ms/step - loss: 0.6795 - acc: 0.8571\n",
      "Epoch 15/20\n",
      "1/1 [==============================] - 0s 999us/step - loss: 0.6783 - acc: 0.8571\n",
      "Epoch 16/20\n",
      "1/1 [==============================] - 0s 1ms/step - loss: 0.6771 - acc: 0.8571\n",
      "Epoch 17/20\n",
      "1/1 [==============================] - 0s 0s/step - loss: 0.6758 - acc: 0.8571\n",
      "Epoch 18/20\n",
      "1/1 [==============================] - 0s 1ms/step - loss: 0.6745 - acc: 0.8571\n",
      "Epoch 19/20\n",
      "1/1 [==============================] - 0s 0s/step - loss: 0.6732 - acc: 0.8571\n",
      "Epoch 20/20\n",
      "1/1 [==============================] - 0s 0s/step - loss: 0.6718 - acc: 0.8571\n"
     ]
    },
    {
     "data": {
      "text/plain": [
       "<tensorflow.python.keras.callbacks.History at 0x1445ea2b108>"
      ]
     },
     "execution_count": 25,
     "metadata": {},
     "output_type": "execute_result"
    }
   ],
   "source": [
    "model.compile(optimizer='adam',\n",
    "               loss = 'binary_crossentropy',\n",
    "               metrics=['acc'])\n",
    "model.fit(x_pad, classes, epochs=20)"
   ]
  },
  {
   "cell_type": "code",
   "execution_count": 27,
   "metadata": {
    "ExecuteTime": {
     "end_time": "2022-07-13T02:33:51.394700Z",
     "start_time": "2022-07-13T02:33:51.354766Z"
    }
   },
   "outputs": [
    {
     "name": "stdout",
     "output_type": "stream",
     "text": [
      "너무 재미 있네요 0.0\n",
      "최고 예요 0.0\n",
      "참 잘 만든 영화 예요 1.0\n",
      "추천 하고 싶은 영화 입니다 1.0\n",
      "한번 더 보고 싶네요 1.0\n",
      "글쎄 요 0.0\n",
      "별로 예요 0.0\n",
      "생각 보다 지루 하네요 0.0\n",
      "연기 가 어색 해요 0.0\n",
      "재미 있어서 한번 더 볼거 예요 1.0\n",
      "별로 재미 가 없어요 0.0\n",
      "재미 있고 잘 만든 영화 입니다 1.0\n",
      "재미 가 별로 없어요 0.0\n",
      "별로 예요 0.0\n"
     ]
    }
   ],
   "source": [
    "# 0.5기준, 0이면 부정, 1이면 긍정\n",
    "preds = model.predict(x_pad)\n",
    "for i in range(len(preds)):\n",
    "    print(docs[i], np.round(preds[i][0]))"
   ]
  },
  {
   "cell_type": "code",
   "execution_count": null,
   "metadata": {},
   "outputs": [],
   "source": []
  },
  {
   "cell_type": "code",
   "execution_count": null,
   "metadata": {},
   "outputs": [],
   "source": []
  },
  {
   "cell_type": "code",
   "execution_count": null,
   "metadata": {},
   "outputs": [],
   "source": []
  }
 ],
 "metadata": {
  "colab": {
   "collapsed_sections": [],
   "name": "ch03_01_NLP기초-텍스트처리.ipynb",
   "provenance": []
  },
  "kernelspec": {
   "display_name": "Python 3 (ipykernel)",
   "language": "python",
   "name": "python3"
  },
  "language_info": {
   "codemirror_mode": {
    "name": "ipython",
    "version": 3
   },
   "file_extension": ".py",
   "mimetype": "text/x-python",
   "name": "python",
   "nbconvert_exporter": "python",
   "pygments_lexer": "ipython3",
   "version": "3.7.10"
  },
  "toc": {
   "base_numbering": 1,
   "nav_menu": {},
   "number_sections": true,
   "sideBar": true,
   "skip_h1_title": false,
   "title_cell": "Table of Contents",
   "title_sidebar": "Contents",
   "toc_cell": false,
   "toc_position": {},
   "toc_section_display": true,
   "toc_window_display": false
  }
 },
 "nbformat": 4,
 "nbformat_minor": 1
}
