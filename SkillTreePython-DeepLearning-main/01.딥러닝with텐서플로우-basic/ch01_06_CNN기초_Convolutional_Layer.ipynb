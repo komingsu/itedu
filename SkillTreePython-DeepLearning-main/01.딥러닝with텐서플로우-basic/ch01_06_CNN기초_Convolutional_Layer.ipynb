{
 "cells": [
  {
   "cell_type": "markdown",
   "metadata": {
    "id": "sWs2kEC1_b-P"
   },
   "source": [
    "# ch01.06 CNN기초 - Convolutional Layer\n",
    "---\n",
    "\n",
    "* 날짜: 2022-07-05\n",
    "* 이름: 고민수\n",
    "\n",
    "## 학습내용\n",
    "    - CNN의 개념을 이해한다.\n",
    "    - 텐서플로우를 이용해 CNN을 구성한다.\n",
    "    - CNN 모델을 이용해 손글씨 이미지를 분류한다.\n",
    "    - CNN의 feature map에 대해 이해한다.\n",
    "\n",
    "## 데이터셋\n",
    "\n",
    "* MNIST\n",
    "\n",
    "```\n",
    "import numpy as np\n",
    "import tensorflow as tf\n",
    "import matplotlib.pyplot as plt\n",
    "```"
   ]
  },
  {
   "cell_type": "code",
   "execution_count": 1,
   "metadata": {
    "ExecuteTime": {
     "end_time": "2022-07-05T01:26:29.503061Z",
     "start_time": "2022-07-05T01:26:16.675293Z"
    },
    "id": "7vXrksNr0m1v"
   },
   "outputs": [],
   "source": [
    "import numpy as np\n",
    "import tensorflow as tf\n",
    "import matplotlib.pyplot as plt"
   ]
  },
  {
   "cell_type": "code",
   "execution_count": 3,
   "metadata": {
    "ExecuteTime": {
     "end_time": "2022-07-05T01:26:56.692334Z",
     "start_time": "2022-07-05T01:26:56.666440Z"
    }
   },
   "outputs": [
    {
     "name": "stdout",
     "output_type": "stream",
     "text": [
      "Hangul OK in your window!\n"
     ]
    }
   ],
   "source": [
    "import set_matplotlib_hangul"
   ]
  },
  {
   "cell_type": "markdown",
   "metadata": {
    "id": "FuUR8DztmbId"
   },
   "source": [
    "## 이미지 데이터의 특징\n",
    "---\n",
    "\n",
    "<p align='center'>\n",
    "<img src=https://wikidocs.net/images/page/64066/conv1.png width=550>\n",
    "</p>\n",
    "\n",
    "다층 퍼셉트론을 이용하기 위해서는 데이터 샘플 한개의 차원이 1차원이여야 합니다. 그러나 1차원으로 변환된 결과는 사람이 보기에도 이게 원래 어떤 이미지였는지 알아보기가 어렵습니다. \n",
    "\n",
    "위와 같은 결과는 변환 전에 가지고 있던 **공간적인 구조**(spatial structure) 정보가 유실된 상태입니다.\n",
    "\n",
    "결국 이미지의 공간적인 구조 정보를 보존하면서 학습할 수 있는 방법이 필요해졌고, 이를 위해 합성곱 신경망을 사용합니다.\n"
   ]
  },
  {
   "cell_type": "markdown",
   "metadata": {
    "id": "dy4UcDermXkx"
   },
   "source": [
    "```\n",
    "X = np.array([[1,1,1,1,1],\n",
    "              [1,0,1,0,1],\n",
    "              [1,1,0,0,1],\n",
    "              [1,1,1,0,1],\n",
    "              [1,1,1,0,1],\n",
    "              [1,1,1,1,1],])\n",
    "```"
   ]
  },
  {
   "cell_type": "code",
   "execution_count": 5,
   "metadata": {
    "ExecuteTime": {
     "end_time": "2022-07-05T01:27:03.215682Z",
     "start_time": "2022-07-05T01:27:03.042181Z"
    },
    "colab": {
     "base_uri": "https://localhost:8080/",
     "height": 276
    },
    "id": "_affyE2BmWIl",
    "outputId": "90bcf795-897f-47a4-efb1-429e7919e62b"
   },
   "outputs": [
    {
     "name": "stdout",
     "output_type": "stream",
     "text": [
      "(6, 5)\n",
      "(1, 30)\n"
     ]
    },
    {
     "data": {
      "image/png": "[encoded data removed]",
      "text/plain": [
       "<Figure size 432x288 with 2 Axes>"
      ]
     },
     "metadata": {
      "needs_background": "light"
     },
     "output_type": "display_data"
    }
   ],
   "source": [
    "X = np.array([[1,1,1,1,1],\n",
    "              [1,0,1,0,1],\n",
    "              [1,1,0,0,1],\n",
    "              [1,1,1,0,1],\n",
    "              [1,1,1,0,1],\n",
    "              [1,1,1,1,1],])\n",
    "X_flatten = X.flatten().reshape(1,30)\n",
    "print(X.shape)\n",
    "print(X_flatten.shape)\n",
    "\n",
    "plt.subplot(211);plt.imshow(X, cmap='gray')\n",
    "plt.subplot(212);plt.imshow(X_flatten, cmap='gray'); # (30, ) -> (1, 30)"
   ]
  },
  {
   "cell_type": "markdown",
   "metadata": {
    "id": "g-2VVA31UTnD"
   },
   "source": [
    "## 합성곱 층\n",
    "---"
   ]
  },
  {
   "cell_type": "markdown",
   "metadata": {
    "id": "QfP9HDu1g9kJ"
   },
   "source": [
    "### | 텐서플로우를 이용한 합성곱층 구현\n",
    "\n",
    "```\n",
    "tf.keras.layers.Conv2D(\n",
    "    filters,\n",
    "    kernel_size,\n",
    "    padding='valid',\n",
    "    strides=(1, 1),\n",
    "    activation=None,\n",
    ")\n",
    "\n",
    "```"
   ]
  },
  {
   "cell_type": "code",
   "execution_count": 6,
   "metadata": {
    "ExecuteTime": {
     "end_time": "2022-07-05T01:27:18.108408Z",
     "start_time": "2022-07-05T01:27:18.090498Z"
    },
    "id": "_tygZa2jZg3q"
   },
   "outputs": [],
   "source": [
    "from tensorflow.keras.layers import Conv2D\n",
    "#from tensoflow.keras import layers"
   ]
  },
  {
   "cell_type": "markdown",
   "metadata": {
    "id": "Ir3O8uUr7vZp"
   },
   "source": [
    "#### **filters**\n",
    "\n",
    "* filter 개수에 따라 아웃풋의 shape가 어떻게 변화하는지 살펴봅니다.\n",
    "\n",
    "<p align='center'>\n",
    "<img src=https://github.com/yebiny/SkillTreePython-DeepLearning/blob/main/imgs/ch0106-01.PNG?raw=true\n",
    " width=450>\n",
    "</p>\n"
   ]
  },
  {
   "cell_type": "code",
   "execution_count": 7,
   "metadata": {
    "ExecuteTime": {
     "end_time": "2022-07-05T01:27:26.362313Z",
     "start_time": "2022-07-05T01:27:25.338403Z"
    },
    "colab": {
     "base_uri": "https://localhost:8080/"
    },
    "id": "jYfxDSgCg1im",
    "outputId": "b1d3c3c8-6ef0-43ee-e22f-cf878a094100"
   },
   "outputs": [
    {
     "name": "stdout",
     "output_type": "stream",
     "text": [
      "(1, 8, 8, 1)\n",
      "필터 개수가 1일 때 아웃풋의 shape: (1, 8, 8, 1)\n",
      "필터 개수가 2일 때 아웃풋의 shape: (1, 8, 8, 2)\n",
      "필터 개수가 3일 때 아웃풋의 shape: (1, 8, 8, 3)\n",
      "필터 개수가 4일 때 아웃풋의 shape: (1, 8, 8, 4)\n"
     ]
    }
   ],
   "source": [
    "x = np.random.normal(0,1, size=(1, 8, 8, 1)) # resolution = (8,8) ch=(1)\n",
    "print(x.shape)\n",
    "for n in [1,2,3,4]:\n",
    "    y = Conv2D(filters=n, kernel_size=1)(x)\n",
    "    print(f'필터 개수가 {n}일 때 아웃풋의 shape: {y.shape}')\n",
    "# 필터 개수에 따라 아웃풋의 채널 (dimension)이 변화"
   ]
  },
  {
   "cell_type": "markdown",
   "metadata": {
    "id": "GXwC2GIM8ekk"
   },
   "source": [
    "#### **kernel size**\n",
    "\n",
    "* kernel size 에 따라 아웃풋의 shape가 어떻게 변화하는지 살펴봅니다.\n",
    "\n",
    "<p align='center'>\n",
    "<img src=https://github.com/yebiny/SkillTreePython-DeepLearning/blob/main/imgs/ch0106-02.PNG?raw=true\n",
    " width=450>\n",
    "</p>"
   ]
  },
  {
   "cell_type": "code",
   "execution_count": 8,
   "metadata": {
    "ExecuteTime": {
     "end_time": "2022-07-05T01:27:49.333661Z",
     "start_time": "2022-07-05T01:27:49.297919Z"
    },
    "colab": {
     "base_uri": "https://localhost:8080/"
    },
    "id": "ASGoNrRl8ekr",
    "outputId": "099b8846-d70f-46dc-c34b-c70a8ef7c1dd"
   },
   "outputs": [
    {
     "name": "stdout",
     "output_type": "stream",
     "text": [
      "(1, 4, 4, 1)\n",
      "커널 사이즈가 1일 때 아웃풋의 shape: (1, 4, 4, 1)\n",
      "커널 사이즈가 2일 때 아웃풋의 shape: (1, 3, 3, 1)\n",
      "커널 사이즈가 3일 때 아웃풋의 shape: (1, 2, 2, 1)\n",
      "커널 사이즈가 4일 때 아웃풋의 shape: (1, 1, 1, 1)\n"
     ]
    }
   ],
   "source": [
    "x = np.random.normal(0,1, size=(1, 4, 4, 1)) # resolution = (4,4) ch=(1)\n",
    "print(x.shape)\n",
    "for n in [1,2,3,4]:\n",
    "    y = Conv2D(filters=1, kernel_size=n)(x)\n",
    "    print(f'커널 사이즈가 {n}일 때 아웃풋의 shape: {y.shape}')\n",
    "# 커널 사이즈에 따라 아웃풋의 resolution이 변화 (4-n+1)"
   ]
  },
  {
   "cell_type": "markdown",
   "metadata": {
    "id": "tDjyf9xG8m-i"
   },
   "source": [
    "#### **padding**\n",
    "\n",
    "* padding 옵션에 따라 아웃풋의 shape가 어떻게 변화하는지 살펴봅니다.\n",
    "  * valid\n",
    "  * same\n",
    "\n",
    "<p align='center'>\n",
    "<img src=https://github.com/yebiny/SkillTreePython-DeepLearning/blob/main/imgs/ch0106-03.PNG?raw=true\n",
    " width=550>\n",
    "</p>"
   ]
  },
  {
   "cell_type": "code",
   "execution_count": 9,
   "metadata": {
    "ExecuteTime": {
     "end_time": "2022-07-05T01:28:34.340812Z",
     "start_time": "2022-07-05T01:28:34.291347Z"
    },
    "colab": {
     "base_uri": "https://localhost:8080/"
    },
    "id": "O5nMpYKr8m-j",
    "outputId": "d399faed-8a12-41ca-e51c-443ca277be75"
   },
   "outputs": [
    {
     "name": "stdout",
     "output_type": "stream",
     "text": [
      "(1, 4, 4, 1)\n",
      "커널 사이즈가 1이고, 패딩이 valid일 때, 아웃풋의 shape: (1, 4, 4, 1)\n",
      "커널 사이즈가 1이고, 패딩이 same일 때, 아웃풋의 shape: (1, 4, 4, 1)\n",
      "------------------------------------------------------------\n",
      "커널 사이즈가 2이고, 패딩이 valid일 때, 아웃풋의 shape: (1, 3, 3, 1)\n",
      "커널 사이즈가 2이고, 패딩이 same일 때, 아웃풋의 shape: (1, 4, 4, 1)\n",
      "------------------------------------------------------------\n",
      "커널 사이즈가 3이고, 패딩이 valid일 때, 아웃풋의 shape: (1, 2, 2, 1)\n",
      "커널 사이즈가 3이고, 패딩이 same일 때, 아웃풋의 shape: (1, 4, 4, 1)\n",
      "------------------------------------------------------------\n",
      "커널 사이즈가 4이고, 패딩이 valid일 때, 아웃풋의 shape: (1, 1, 1, 1)\n",
      "커널 사이즈가 4이고, 패딩이 same일 때, 아웃풋의 shape: (1, 4, 4, 1)\n",
      "------------------------------------------------------------\n"
     ]
    }
   ],
   "source": [
    "x = np.random.normal(0, 1, size=(1, 4, 4, 1))  # resolution = (4,4) ch=(1)\n",
    "print(x.shape)\n",
    "for n in [1, 2, 3, 4]:\n",
    "    for padding in ['valid', 'same']:\n",
    "        y = Conv2D(filters=1, kernel_size=n, padding=padding)(x)\n",
    "        print(f'커널 사이즈가 {n}이고, 패딩이 {padding}일 때, 아웃풋의 shape: {y.shape}')\n",
    "    print('-' * 60)\n",
    "# padding=same이면 커널 사이즈에 따른 아웃풋 변화가 없다.\n",
    "# 대게의 경우 패딩='same' -> 커널 사이즈에 따른 아웃풋 크기 고려 안함"
   ]
  },
  {
   "cell_type": "markdown",
   "metadata": {
    "id": "AhPvcOMS8-tT"
   },
   "source": [
    "#### **strides**\n",
    "* strides 의 크기에 따라 아웃풋의 shape가 어떻게 변화하는지 살펴봅니다.\n",
    "\n",
    "<p align='center'>\n",
    "<img src=https://github.com/yebiny/SkillTreePython-DeepLearning/blob/main/imgs/ch0106-04.PNG?raw=true\n",
    " width=450>\n",
    "</p>"
   ]
  },
  {
   "cell_type": "code",
   "execution_count": 10,
   "metadata": {
    "ExecuteTime": {
     "end_time": "2022-07-05T01:28:59.348626Z",
     "start_time": "2022-07-05T01:28:59.305989Z"
    },
    "colab": {
     "base_uri": "https://localhost:8080/"
    },
    "id": "ejYHsGjW9Dxd",
    "outputId": "fd053983-65d2-4754-b072-0c06809cd2f5"
   },
   "outputs": [
    {
     "name": "stdout",
     "output_type": "stream",
     "text": [
      "(1, 24, 24, 1)\n",
      "스트라이드가 1일 때 아웃풋의 shape: (1, 24, 24, 1)\n",
      "스트라이드가 2일 때 아웃풋의 shape: (1, 12, 12, 1)\n",
      "스트라이드가 3일 때 아웃풋의 shape: (1, 8, 8, 1)\n",
      "스트라이드가 4일 때 아웃풋의 shape: (1, 6, 6, 1)\n",
      "스트라이드가 6일 때 아웃풋의 shape: (1, 4, 4, 1)\n"
     ]
    }
   ],
   "source": [
    "x = np.random.normal(0, 1, size=(1, 24, 24, 1))  # resolution = (24,24) ch=(1)\n",
    "print(x.shape)\n",
    "for n in [1, 2, 3, 4, 6]:  # 보통 1 또는 2정도.. 크게 사용하지는 않는다.\n",
    "    y = Conv2D(filters=1, kernel_size=3, padding='same', strides=n)(x)\n",
    "    print(f'스트라이드가 {n}일 때 아웃풋의 shape: {y.shape}')\n",
    "# 스트라이드에 따라 아웃풋의 resolution이 변화 (resolution/n)"
   ]
  },
  {
   "cell_type": "markdown",
   "metadata": {
    "id": "xLsMxkxi6fgp"
   },
   "source": [
    "## CNN 실습: MNIST 손글씨 이미지 분류\n",
    "---\n",
    "\n",
    "```\n",
    "mnist = tf.keras.datasets.mnist\n",
    "(x_train, y_train), (x_test, y_test) = mnist.load_data()\n",
    "```"
   ]
  },
  {
   "cell_type": "markdown",
   "metadata": {
    "id": "BDcHGuNeaLPf"
   },
   "source": [
    "### **| CNN 모델을 이용한 분류**"
   ]
  },
  {
   "cell_type": "markdown",
   "metadata": {
    "id": "9XFyQs_Nm6w0"
   },
   "source": [
    "####  **데이터 준비**"
   ]
  },
  {
   "cell_type": "code",
   "execution_count": 11,
   "metadata": {
    "ExecuteTime": {
     "end_time": "2022-07-05T01:29:18.168693Z",
     "start_time": "2022-07-05T01:29:17.706297Z"
    },
    "colab": {
     "base_uri": "https://localhost:8080/"
    },
    "id": "eFbUg6pkhV0I",
    "outputId": "dc964a0d-d42b-4c8e-83bc-aaa005ef9206"
   },
   "outputs": [
    {
     "name": "stdout",
     "output_type": "stream",
     "text": [
      "(60000, 28, 28, 1) (10000, 28, 28, 1) (60000,) (10000,)\n"
     ]
    }
   ],
   "source": [
    "mnist = tf.keras.datasets.mnist\n",
    "(x_train, y_train), (x_test, y_test) = mnist.load_data()\n",
    "# 전처리-정규화\n",
    "x_train, x_test = x_train/255.0 , x_test/255.0\n",
    "# 전처리-shape 맞추기\n",
    "x_train = np.expand_dims(x_train, 3)\n",
    "x_test = np.expand_dims(x_test, 3)\n",
    "\n",
    "print(x_train.shape, x_test.shape, y_train.shape, y_test.shape)"
   ]
  },
  {
   "cell_type": "markdown",
   "metadata": {
    "id": "Yr0WeGcxVYch"
   },
   "source": [
    "#### **모델 구성**\n",
    "<p align='center'>\n",
    "<img src=https://github.com/yebiny/SkillTreePython-DeepLearning/blob/main/imgs/ch0106-05_2.PNG?raw=true\n",
    " width=650>\n",
    "</p>"
   ]
  },
  {
   "cell_type": "code",
   "execution_count": 12,
   "metadata": {
    "ExecuteTime": {
     "end_time": "2022-07-05T01:29:21.461033Z",
     "start_time": "2022-07-05T01:29:21.441987Z"
    },
    "id": "Luw4UdXprcOG"
   },
   "outputs": [],
   "source": [
    "from tensorflow.keras import models, layers, utils\n",
    "\n",
    "\n",
    "def build_model():\n",
    "    x = layers.Input(shape=(28, 28, 1))\n",
    "    # * 모든 conv 레이어의 padding='same'\n",
    "    y = layers.Conv2D(8, kernel_size=3, padding='same', activation='relu')(x)\n",
    "    y = layers.Conv2D(8,\n",
    "                      kernel_size=3,\n",
    "                      padding='same',\n",
    "                      activation='relu',\n",
    "                      strides=2)(y)\n",
    "    y = layers.Conv2D(3,\n",
    "                      kernel_size=3,\n",
    "                      padding='same',\n",
    "                      activation='relu',\n",
    "                      strides=2)(y)\n",
    "    y = layers.Flatten()(y)\n",
    "    y = layers.Dense(10, activation='softmax')(y)\n",
    "    model = models.Model(x, y)\n",
    "    return model"
   ]
  },
  {
   "cell_type": "markdown",
   "metadata": {
    "id": "plLyxz6PaSMU"
   },
   "source": [
    "#### **학습 및 평가**"
   ]
  },
  {
   "cell_type": "code",
   "execution_count": 13,
   "metadata": {
    "ExecuteTime": {
     "end_time": "2022-07-05T01:31:26.950921Z",
     "start_time": "2022-07-05T01:29:28.721789Z"
    },
    "colab": {
     "base_uri": "https://localhost:8080/"
    },
    "id": "XJP8wbQVspks",
    "outputId": "fc890abc-4cd7-4979-ad55-465e189bcb87"
   },
   "outputs": [
    {
     "name": "stdout",
     "output_type": "stream",
     "text": [
      "Model: \"model\"\n",
      "_________________________________________________________________\n",
      " Layer (type)                Output Shape              Param #   \n",
      "=================================================================\n",
      " input_1 (InputLayer)        [(None, 28, 28, 1)]       0         \n",
      "                                                                 \n",
      " conv2d_21 (Conv2D)          (None, 28, 28, 8)         80        \n",
      "                                                                 \n",
      " conv2d_22 (Conv2D)          (None, 14, 14, 8)         584       \n",
      "                                                                 \n",
      " conv2d_23 (Conv2D)          (None, 7, 7, 3)           219       \n",
      "                                                                 \n",
      " flatten (Flatten)           (None, 147)               0         \n",
      "                                                                 \n",
      " dense (Dense)               (None, 10)                1480      \n",
      "                                                                 \n",
      "=================================================================\n",
      "Total params: 2,363\n",
      "Trainable params: 2,363\n",
      "Non-trainable params: 0\n",
      "_________________________________________________________________\n",
      "Epoch 1/10\n",
      "1875/1875 [==============================] - 11s 6ms/step - loss: 0.3768 - accuracy: 0.8822\n",
      "Epoch 2/10\n",
      "1875/1875 [==============================] - 10s 5ms/step - loss: 0.1577 - accuracy: 0.9519\n",
      "Epoch 3/10\n",
      "1875/1875 [==============================] - 11s 6ms/step - loss: 0.1315 - accuracy: 0.9597\n",
      "Epoch 4/10\n",
      "1875/1875 [==============================] - 11s 6ms/step - loss: 0.1193 - accuracy: 0.9639\n",
      "Epoch 5/10\n",
      "1875/1875 [==============================] - 12s 6ms/step - loss: 0.1089 - accuracy: 0.9664\n",
      "Epoch 6/10\n",
      "1875/1875 [==============================] - 12s 6ms/step - loss: 0.1011 - accuracy: 0.9697\n",
      "Epoch 7/10\n",
      "1875/1875 [==============================] - 13s 7ms/step - loss: 0.0943 - accuracy: 0.9710\n",
      "Epoch 8/10\n",
      "1875/1875 [==============================] - 12s 7ms/step - loss: 0.0886 - accuracy: 0.9725\n",
      "Epoch 9/10\n",
      "1875/1875 [==============================] - 12s 7ms/step - loss: 0.0819 - accuracy: 0.9740\n",
      "Epoch 10/10\n",
      "1875/1875 [==============================] - 12s 7ms/step - loss: 0.0799 - accuracy: 0.9748\n",
      "===테스트 스코어===\n",
      "313/313 [==============================] - 1s 3ms/step - loss: 0.0830 - accuracy: 0.9733\n"
     ]
    },
    {
     "data": {
      "text/plain": [
       "[0.08303418010473251, 0.9732999801635742]"
      ]
     },
     "execution_count": 13,
     "metadata": {},
     "output_type": "execute_result"
    }
   ],
   "source": [
    "model = build_model()\n",
    "model.summary()\n",
    "model.compile(loss='sparse_categorical_crossentropy',\n",
    "              optimizer='adam',\n",
    "              metrics=['accuracy'])\n",
    "model.fit(x_train, y_train, epochs=10)\n",
    "print('===테스트 스코어===')\n",
    "model.evaluate(x_test, y_test)"
   ]
  },
  {
   "cell_type": "markdown",
   "metadata": {
    "id": "MDlSRAle6SKL"
   },
   "source": [
    "### **| Feature map**"
   ]
  },
  {
   "cell_type": "markdown",
   "metadata": {
    "id": "Idw3nITWaaGb"
   },
   "source": [
    "#### **feature map 얻기**"
   ]
  },
  {
   "cell_type": "code",
   "execution_count": 20,
   "metadata": {
    "ExecuteTime": {
     "end_time": "2022-07-05T01:33:50.531671Z",
     "start_time": "2022-07-05T01:33:50.521698Z"
    }
   },
   "outputs": [
    {
     "name": "stdout",
     "output_type": "stream",
     "text": [
      "<keras.engine.input_layer.InputLayer object at 0x000001FC0BFB1B80> KerasTensor(type_spec=TensorSpec(shape=(None, 28, 28, 1), dtype=tf.float32, name='input_1'), name='input_1', description=\"created by layer 'input_1'\")\n",
      "<keras.layers.convolutional.Conv2D object at 0x000001FC0BF42700> KerasTensor(type_spec=TensorSpec(shape=(None, 28, 28, 8), dtype=tf.float32, name=None), name='conv2d_21/Relu:0', description=\"created by layer 'conv2d_21'\")\n",
      "<keras.layers.convolutional.Conv2D object at 0x000001FC0BBD0F70> KerasTensor(type_spec=TensorSpec(shape=(None, 14, 14, 8), dtype=tf.float32, name=None), name='conv2d_22/Relu:0', description=\"created by layer 'conv2d_22'\")\n",
      "<keras.layers.convolutional.Conv2D object at 0x000001FC0BF3E1C0> KerasTensor(type_spec=TensorSpec(shape=(None, 7, 7, 3), dtype=tf.float32, name=None), name='conv2d_23/Relu:0', description=\"created by layer 'conv2d_23'\")\n",
      "<keras.layers.core.flatten.Flatten object at 0x000001FC0BFB1AC0> KerasTensor(type_spec=TensorSpec(shape=(None, 147), dtype=tf.float32, name=None), name='flatten/Reshape:0', description=\"created by layer 'flatten'\")\n",
      "<keras.layers.core.dense.Dense object at 0x000001FC0BF42670> KerasTensor(type_spec=TensorSpec(shape=(None, 10), dtype=tf.float32, name=None), name='dense/Softmax:0', description=\"created by layer 'dense'\")\n"
     ]
    }
   ],
   "source": [
    "for layer in model.layers:\n",
    "    print(layer, layer.output)"
   ]
  },
  {
   "cell_type": "code",
   "execution_count": 21,
   "metadata": {
    "ExecuteTime": {
     "end_time": "2022-07-05T01:34:22.223500Z",
     "start_time": "2022-07-05T01:34:21.729490Z"
    },
    "colab": {
     "base_uri": "https://localhost:8080/"
    },
    "id": "sEFcCb5Btua2",
    "outputId": "18482ab6-a475-4a10-cfb8-9c201bbe0625"
   },
   "outputs": [
    {
     "name": "stdout",
     "output_type": "stream",
     "text": [
      "(10000, 28, 28, 1)\n",
      "(10000, 28, 28, 8)\n",
      "(10000, 14, 14, 8)\n",
      "(10000, 7, 7, 3)\n",
      "(10000, 147)\n",
      "(10000, 10)\n"
     ]
    }
   ],
   "source": [
    "layer_outputs = [layer.output for layer in model.layers]  # 레이어의 아웃풋 = 데이터 변환과정\n",
    "\n",
    "model_output_by_layer = models.Model(inputs=model.input, outputs=layer_outputs)  # 모든 레이어의 아웃풋 획득 가능\n",
    "\n",
    "x_pred_maps = model_output_by_layer(x_test)\n",
    "for x_pred_map in x_pred_maps:\n",
    "    print(x_pred_map.shape)\n",
    "cnn_layers = [1, 2, 3]\n",
    "dnn_layers = [4, 5]"
   ]
  },
  {
   "cell_type": "markdown",
   "metadata": {
    "id": "KS8K45aqWbYb"
   },
   "source": [
    "#### **시각화**\n",
    "\n",
    "<p align='center'>\n",
    "<img src=https://github.com/yebiny/SkillTreePython-DeepLearning/blob/main/imgs/ch0106-05_2.PNG?raw=true\n",
    " width=650>\n",
    "</p>\n",
    "\n",
    "[시각화 함수 스크립트](https://github.com/yebiny/SkillTreePython-DeepLearning/blob/main/01.%EB%94%A5%EB%9F%AC%EB%8B%9Dwith%ED%85%90%EC%84%9C%ED%94%8C%EB%A1%9C%EC%9A%B0-basic/scripts/featuremap_dict.py)"
   ]
  },
  {
   "cell_type": "code",
   "execution_count": 22,
   "metadata": {
    "ExecuteTime": {
     "end_time": "2022-07-05T01:34:56.234360Z",
     "start_time": "2022-07-05T01:34:56.225349Z"
    }
   },
   "outputs": [],
   "source": [
    "import numpy as numpy\n",
    "import tensorflow as tf\n",
    "import matplotlib.pyplot as plt\n",
    "\n",
    "\n",
    "def show_featuremap(sample_idx, fmaps, cnn_idxs, flatten_idxs):\n",
    "    for idx in cnn_idxs:\n",
    "        fmap = fmaps[idx][sample_idx]\n",
    "        chs = fmap.shape[2]\n",
    "        print(f'{idx} 번째 Convolutional 레이어 {fmap.shape}')\n",
    "        for ch in range(chs):\n",
    "            plt.subplot(1, chs, ch + 1)\n",
    "            plt.imshow(fmap[:, :, ch], cmap='gray')\n",
    "            plt.xticks([])\n",
    "            plt.yticks([])\n",
    "        plt.show()\n",
    "\n",
    "    for idx in flatten_idxs:\n",
    "        fmap = fmaps[idx][sample_idx]\n",
    "        print(f'{idx} 번째 Dense 레이어 {fmap.shape}')\n",
    "        plt.figure(figsize=(int(len(fmap) / 5), 10))\n",
    "        plt.imshow(tf.reshape(fmap, (1, len(fmap))), cmap='gray')\n",
    "        plt.xticks(range(10))\n",
    "        plt.yticks([])\n",
    "        plt.show()"
   ]
  },
  {
   "cell_type": "code",
   "execution_count": 23,
   "metadata": {
    "ExecuteTime": {
     "end_time": "2022-07-05T01:35:01.176769Z",
     "start_time": "2022-07-05T01:35:00.369427Z"
    },
    "colab": {
     "base_uri": "https://localhost:8080/",
     "height": 388
    },
    "id": "aLbA9SnMOnz9",
    "outputId": "a5f68e0b-38cb-46d8-ea8e-54bbd0a515d0"
   },
   "outputs": [
    {
     "name": "stdout",
     "output_type": "stream",
     "text": [
      "1 번째 Convolutional 레이어 (28, 28, 8)\n"
     ]
    },
    {
     "data": {
      "image/png": "[encoded data removed]",
      "text/plain": [
       "<Figure size 432x288 with 8 Axes>"
      ]
     },
     "metadata": {},
     "output_type": "display_data"
    },
    {
     "name": "stdout",
     "output_type": "stream",
     "text": [
      "2 번째 Convolutional 레이어 (14, 14, 8)\n"
     ]
    },
    {
     "data": {
      "image/png": "[encoded data removed]",
      "text/plain": [
       "<Figure size 432x288 with 8 Axes>"
      ]
     },
     "metadata": {},
     "output_type": "display_data"
    },
    {
     "name": "stdout",
     "output_type": "stream",
     "text": [
      "3 번째 Convolutional 레이어 (7, 7, 3)\n"
     ]
    },
    {
     "data": {
      "image/png": "[encoded data removed]",
      "text/plain": [
       "<Figure size 432x288 with 3 Axes>"
      ]
     },
     "metadata": {},
     "output_type": "display_data"
    },
    {
     "name": "stdout",
     "output_type": "stream",
     "text": [
      "4 번째 Dense 레이어 (147,)\n"
     ]
    },
    {
     "data": {
      "image/png": "[encoded data removed]",
      "text/plain": [
       "<Figure size 2088x720 with 1 Axes>"
      ]
     },
     "metadata": {
      "needs_background": "light"
     },
     "output_type": "display_data"
    },
    {
     "name": "stdout",
     "output_type": "stream",
     "text": [
      "5 번째 Dense 레이어 (10,)\n"
     ]
    },
    {
     "data": {
      "image/png": "[encoded data removed]",
      "text/plain": [
       "<Figure size 144x720 with 1 Axes>"
      ]
     },
     "metadata": {
      "needs_background": "light"
     },
     "output_type": "display_data"
    }
   ],
   "source": [
    "sample_idx = 33\n",
    "show_featuremap(sample_idx, x_pred_maps, cnn_layers, dnn_layers)"
   ]
  },
  {
   "cell_type": "code",
   "execution_count": null,
   "metadata": {
    "id": "lR5o-iP0znfa"
   },
   "outputs": [],
   "source": []
  }
 ],
 "metadata": {
  "accelerator": "GPU",
  "colab": {
   "authorship_tag": "ABX9TyPsbZx5SnJrvi1bBg8pmuq2",
   "collapsed_sections": [],
   "include_colab_link": true,
   "name": "ch01_06_CNN기초-Convolutional_Layer.ipynb",
   "provenance": []
  },
  "gpuClass": "standard",
  "kernelspec": {
   "display_name": "Python 3 (ipykernel)",
   "language": "python",
   "name": "python3"
  },
  "language_info": {
   "codemirror_mode": {
    "name": "ipython",
    "version": 3
   },
   "file_extension": ".py",
   "mimetype": "text/x-python",
   "name": "python",
   "nbconvert_exporter": "python",
   "pygments_lexer": "ipython3",
   "version": "3.8.13"
  },
  "toc": {
   "base_numbering": 1,
   "nav_menu": {},
   "number_sections": true,
   "sideBar": true,
   "skip_h1_title": false,
   "title_cell": "Table of Contents",
   "title_sidebar": "Contents",
   "toc_cell": false,
   "toc_position": {},
   "toc_section_display": true,
   "toc_window_display": false
  }
 },
 "nbformat": 4,
 "nbformat_minor": 1
}
