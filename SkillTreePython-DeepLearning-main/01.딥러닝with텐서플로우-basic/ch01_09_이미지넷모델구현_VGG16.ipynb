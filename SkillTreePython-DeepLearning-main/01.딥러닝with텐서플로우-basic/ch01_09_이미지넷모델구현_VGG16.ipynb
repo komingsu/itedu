{
  "nbformat": 4,
  "nbformat_minor": 0,
  "metadata": {
    "colab": {
      "name": "ch01_09_이미지넷모델구현-VGG16.ipynb",
      "provenance": [],
      "collapsed_sections": [],
      "authorship_tag": "ABX9TyN3CVBGW4P9BAZNJ3LP0p2V",
      "include_colab_link": true
    },
    "kernelspec": {
      "name": "python3",
      "display_name": "Python 3"
    },
    "language_info": {
      "name": "python"
    }
  },
  "cells": [
    {
      "cell_type": "markdown",
      "metadata": {
        "id": "view-in-github",
        "colab_type": "text"
      },
      "source": [
        "<a href=\"https://colab.research.google.com/github/yebiny/SkillTreePython-DeepLearning/blob/main/01.%EB%94%A5%EB%9F%AC%EB%8B%9Dwith%ED%85%90%EC%84%9C%ED%94%8C%EB%A1%9C%EC%9A%B0-basic/ch01_09_%EC%9D%B4%EB%AF%B8%EC%A7%80%EB%84%B7%EB%AA%A8%EB%8D%B8%EA%B5%AC%ED%98%84_VGG16.ipynb\" target=\"_parent\"><img src=\"https://colab.research.google.com/assets/colab-badge.svg\" alt=\"Open In Colab\"/></a>"
      ]
    },
    {
      "cell_type": "markdown",
      "source": [
        "# ch01.09 이미지넷 모델구현 - VGG16\n",
        "---\n",
        "\n",
        "* 날짜:\n",
        "* 이름:\n",
        "\n",
        "## 학습내용\n",
        "    - VGG 모델 특징에 대해 이해한다.\n",
        "    - VGG 모델을 텐서플로우를 이용해 구현한다. \n"
      ],
      "metadata": {
        "id": "sWs2kEC1_b-P"
      }
    },
    {
      "cell_type": "markdown",
      "source": [
        "## 소개\n",
        "---"
      ],
      "metadata": {
        "id": "IZH_UYRO1giG"
      }
    },
    {
      "cell_type": "code",
      "source": [
        ""
      ],
      "metadata": {
        "id": "7vXrksNr0m1v"
      },
      "execution_count": null,
      "outputs": []
    },
    {
      "cell_type": "markdown",
      "source": [
        "## 구현\n",
        "---"
      ],
      "metadata": {
        "id": "Hlu1ch6g1i5G"
      }
    },
    {
      "cell_type": "code",
      "source": [
        ""
      ],
      "metadata": {
        "id": "LcTZNT--1i5H"
      },
      "execution_count": null,
      "outputs": []
    }
  ]
}