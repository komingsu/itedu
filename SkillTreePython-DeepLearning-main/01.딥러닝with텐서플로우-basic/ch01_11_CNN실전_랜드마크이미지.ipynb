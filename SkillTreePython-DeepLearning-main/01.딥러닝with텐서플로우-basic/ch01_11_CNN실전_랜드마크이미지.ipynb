{
 "cells": [
  {
   "cell_type": "markdown",
   "metadata": {
    "id": "sWs2kEC1_b-P"
   },
   "source": [
    "# ch01.11 CNN실전 - 랜드마크 이미지\n",
    "\n",
    "* 날짜:\n",
    "* 이름:\n",
    "\n",
    "## 학습내용\n",
    "    - 랜드마크 데이터를 이용한 적절한 모델을 구축 및 학습한다.\n",
    "\n",
    "### 소개\n",
    "\n",
    "인공지능 기반의 컴퓨터 비전 기술 및 서비스 개발에 활용하기 위해 국내 특성(지리 공간적, 기능적)이 반영된 국내 도심 민간건물, 공공기관, 관광명소, 편의시설 등 국내 도시별 주요 랜드마크 이미지 데이터 구축\n",
    "\n",
    "### 구축목적\n",
    "AI 기술 및 응용서비스 개발에 활용가치가 높은 인공지능 학습용 데이터 구축 및 개방, AI응용 서비스 개발\n",
    "국내 특성(지리 공간적, 기능적)이 반영된 국내 도심 민간건물, 공공기관, 관광명소, 편의시설 등 국내 도시별 주요 랜드마크 이미지 데이터 구축\n",
    "\n",
    "### AI허브 링크\n",
    "https://aihub.or.kr/aihubdata/data/view.do?currMenu=115&topMenu=100&aihubDataSe=realm&dataSetSn=56"
   ]
  },
  {
   "cell_type": "markdown",
   "metadata": {
    "id": "IZH_UYRO1giG"
   },
   "source": [
    "## 실습\n",
    "---"
   ]
  },
  {
   "cell_type": "code",
   "execution_count": 1,
   "metadata": {
    "ExecuteTime": {
     "end_time": "2022-07-19T08:35:25.433078Z",
     "start_time": "2022-07-19T08:35:23.262068Z"
    }
   },
   "outputs": [],
   "source": [
    "import datetime, os, time, pathlib\n",
    "import numpy as np\n",
    "import tensorflow as tf\n",
    "from tensorflow.keras import losses, models, layers, optimizers, callbacks, utils, metrics\n",
    "from tensorflow.keras.layers.experimental import preprocessing\n",
    "from tensorflow.keras.applications import EfficientNetB0, EfficientNetB1, EfficientNetB2, EfficientNetB3, EfficientNetB4, EfficientNetB5, EfficientNetB6, EfficientNetB7"
   ]
  },
  {
   "cell_type": "code",
   "execution_count": 2,
   "metadata": {
    "ExecuteTime": {
     "end_time": "2022-07-19T08:35:27.857863Z",
     "start_time": "2022-07-19T08:35:27.765070Z"
    }
   },
   "outputs": [
    {
     "data": {
      "text/plain": [
       "[PhysicalDevice(name='/physical_device:GPU:0', device_type='GPU')]"
      ]
     },
     "execution_count": 2,
     "metadata": {},
     "output_type": "execute_result"
    }
   ],
   "source": [
    "tf.config.list_physical_devices(\"GPU\")"
   ]
  },
  {
   "cell_type": "code",
   "execution_count": 3,
   "metadata": {
    "ExecuteTime": {
     "end_time": "2022-07-19T08:35:39.280517Z",
     "start_time": "2022-07-19T08:35:38.453097Z"
    }
   },
   "outputs": [],
   "source": [
    "data_dir = pathlib.Path(\"D:Dataset/랜드마크 이미지/Training/\")\n",
    "image_count = len(list(data_dir.glob('*/*.jpg'))) # 총 이미지 개수\n",
    "list_ds = tf.data.Dataset.list_files(str(data_dir/'*/*'), shuffle=False)\n",
    "list_ds = list_ds.shuffle(image_count, reshuffle_each_iteration=False)"
   ]
  },
  {
   "cell_type": "code",
   "execution_count": 4,
   "metadata": {
    "ExecuteTime": {
     "end_time": "2022-07-19T08:35:39.569090Z",
     "start_time": "2022-07-19T08:35:39.549085Z"
    }
   },
   "outputs": [
    {
     "name": "stdout",
     "output_type": "stream",
     "text": [
      "10537\n",
      "1859\n"
     ]
    }
   ],
   "source": [
    "val_size = int(image_count * 0.15)\n",
    "train_ = list_ds.skip(val_size) # 20% 를 넘김\n",
    "valid_ = list_ds.take(val_size) # 20% 를 가짐 \n",
    "NUM_TRAIN = tf.data.experimental.cardinality(train_).numpy()\n",
    "NUM_VALID = tf.data.experimental.cardinality(valid_).numpy()\n",
    "print(tf.data.experimental.cardinality(train_).numpy())\n",
    "print(tf.data.experimental.cardinality(valid_).numpy())"
   ]
  },
  {
   "cell_type": "code",
   "execution_count": 10,
   "metadata": {
    "ExecuteTime": {
     "end_time": "2022-07-19T08:36:27.116579Z",
     "start_time": "2022-07-19T08:36:27.104587Z"
    }
   },
   "outputs": [],
   "source": [
    "class_names = np.array(sorted([item.name for item in data_dir.glob('*')]))"
   ]
  },
  {
   "cell_type": "code",
   "execution_count": 5,
   "metadata": {
    "ExecuteTime": {
     "end_time": "2022-07-19T08:35:45.879097Z",
     "start_time": "2022-07-19T08:35:45.869094Z"
    }
   },
   "outputs": [],
   "source": [
    "def get_label(file_path):\n",
    "    parts = tf.strings.split(file_path, os.path.sep)\n",
    "    one_hot = parts[-2] == class_names\n",
    "    return tf.argmax(one_hot)"
   ]
  },
  {
   "cell_type": "code",
   "execution_count": 6,
   "metadata": {
    "ExecuteTime": {
     "end_time": "2022-07-19T08:35:49.247620Z",
     "start_time": "2022-07-19T08:35:49.230616Z"
    }
   },
   "outputs": [],
   "source": [
    "def decode_img(img):\n",
    "    img = tf.io.decode_jpeg(img, channels=3)\n",
    "    return tf.image.resize(img, [img_height, img_width])"
   ]
  },
  {
   "cell_type": "code",
   "execution_count": 7,
   "metadata": {
    "ExecuteTime": {
     "end_time": "2022-07-19T08:36:04.573756Z",
     "start_time": "2022-07-19T08:36:04.565764Z"
    }
   },
   "outputs": [],
   "source": [
    "def process_path(file_path):\n",
    "    label = get_label(file_path)\n",
    "    img = tf.io.read_file(file_path)\n",
    "    img = decode_img(img)\n",
    "    return img, label"
   ]
  },
  {
   "cell_type": "code",
   "execution_count": 8,
   "metadata": {
    "ExecuteTime": {
     "end_time": "2022-07-19T08:36:18.057172Z",
     "start_time": "2022-07-19T08:36:18.053171Z"
    }
   },
   "outputs": [],
   "source": [
    "def configure_for_performance(ds):\n",
    "    ds = ds.cache()\n",
    "    ds = ds.shuffle(buffer_size=1000)\n",
    "    ds = ds.batch(batch_size)\n",
    "    ds = ds.prefetch(buffer_size=AUTOTUNE)\n",
    "    return ds"
   ]
  },
  {
   "cell_type": "code",
   "execution_count": 9,
   "metadata": {
    "ExecuteTime": {
     "end_time": "2022-07-19T08:36:21.167291Z",
     "start_time": "2022-07-19T08:36:21.149286Z"
    }
   },
   "outputs": [],
   "source": [
    "def build_eff_model():\n",
    "    # Top\n",
    "    x = layers.Input(shape=(img_height, img_width, 3))\n",
    "    y = base_model(x)\n",
    "\n",
    "    # Rebuild\n",
    "    y = layers.GlobalAveragePooling2D(name=\"avg_pool\")(y)\n",
    "    y = layers.BatchNormalization()(y)\n",
    "    top_dropout_rate = 0.2\n",
    "    y = layers.Dropout(top_dropout_rate, name=\"top_dropout\")(y)\n",
    "    y = layers.Dense(84, activation=\"softmax\", name=\"Pred\")(y)\n",
    "    \n",
    "    # compile\n",
    "    model = models.Model(x, y, name=\"EfficientNet\")\n",
    "    optimizer = optimizers.Adam(learning_rate=0.0001)\n",
    "    loss = losses.SparseCategoricalCrossentropy()\n",
    "    model.compile(optimizer=optimizer, loss=loss, metrics=[\"acc\"])\n",
    "    return model"
   ]
  },
  {
   "cell_type": "markdown",
   "metadata": {
    "id": "bg66DUTe-M7C"
   },
   "source": [
    "## 모델 학습"
   ]
  },
  {
   "cell_type": "code",
   "execution_count": null,
   "metadata": {},
   "outputs": [],
   "source": [
    "batch_size = 32\n",
    "AUTOTUNE = tf.data.experimental.AUTOTUNE\n",
    "NAME = [\"B0\", \"B1\", \"B2\", \"B3\", \"B4\",\"B5\",\"B6\",\"B7\"]\n",
    "MODEL = [EfficientNetB0, EfficientNetB1, EfficientNetB2, EfficientNetB3, EfficientNetB4, EfficientNetB5, EfficientNetB6, EfficientNetB7]\n",
    "\n",
    "for name,M in zip(NAME, MODEL):\n",
    "    SIZE = 180\n",
    "    img_height = SIZE\n",
    "    img_width = SIZE\n",
    "    image_size=(img_height, img_width)\n",
    "    train_ds = train_.map(process_path, num_parallel_calls=AUTOTUNE)\n",
    "    valid_ds = valid_.map(process_path, num_parallel_calls=AUTOTUNE)\n",
    "    train_ds = configure_for_performance(train_ds)\n",
    "    valid_ds = configure_for_performance(valid_ds)\n",
    "    base_model = M(input_shape=(img_height,img_width,3), include_top=False, weights='imagenet')\n",
    "    model = build_eff_model()\n",
    "    ckp = callbacks.ModelCheckpoint(f\"model/model_{name}.h5\", save_best_only=True,  monitor=\"val_acc\")\n",
    "    early_stopping = callbacks.EarlyStopping(monitor=\"val_acc\", patience=5)\n",
    "    reduce_lr = callbacks.ReduceLROnPlateau(monitor=\"val_acc\", patience=3, factor=0.1)\n",
    "    model.fit(train_ds,epochs=10,validation_data=valid_ds,callbacks=[ckp, early_stopping, reduce_lr])"
   ]
  },
  {
   "cell_type": "markdown",
   "metadata": {
    "id": "AKoYvzH-U766"
   },
   "source": [
    "## 추론"
   ]
  },
  {
   "cell_type": "code",
   "execution_count": 12,
   "metadata": {
    "ExecuteTime": {
     "end_time": "2022-07-19T08:41:49.049123Z",
     "start_time": "2022-07-19T08:41:49.046133Z"
    }
   },
   "outputs": [],
   "source": [
    "import pandas as pd"
   ]
  },
  {
   "cell_type": "code",
   "execution_count": 15,
   "metadata": {
    "ExecuteTime": {
     "end_time": "2022-07-19T08:47:47.433845Z",
     "start_time": "2022-07-19T08:47:47.424252Z"
    }
   },
   "outputs": [],
   "source": [
    "def configure_for_test(ds):\n",
    "    ds = ds.cache()\n",
    "    ds = ds.batch(batch_size)\n",
    "    ds = ds.prefetch(buffer_size=AUTOTUNE)\n",
    "    return ds"
   ]
  },
  {
   "cell_type": "code",
   "execution_count": 16,
   "metadata": {
    "ExecuteTime": {
     "end_time": "2022-07-19T08:50:05.686285Z",
     "start_time": "2022-07-19T08:47:52.088693Z"
    }
   },
   "outputs": [],
   "source": [
    "batch_size = 32\n",
    "AUTOTUNE = tf.data.experimental.AUTOTUNE\n",
    "result = pd.DataFrame([])\n",
    "result_conf = pd.DataFrame([])\n",
    "\n",
    "data_dir = pathlib.Path(\"D:Dataset/랜드마크 이미지/Validation/\")\n",
    "image_count = len(list(data_dir.glob('*/*.jpg'))) # 총 이미지 개수\n",
    "test_ = tf.data.Dataset.list_files(str(data_dir/'*/*'), shuffle=False)\n",
    "\n",
    "model_dir = \"C:/Users/user/OneDrive/document/GitHub/Prac_Project/dacon/랜드마크/model/\"\n",
    "\n",
    "for name in [\"B0\", \"B1\", \"B2\", \"B3\", \"B4\",\"B5\",\"B6\",\"B7\"]:\n",
    "    SIZE = 180\n",
    "    img_height = SIZE\n",
    "    img_width = SIZE\n",
    "    image_size=(img_height, img_width)\n",
    "    test_ds = test_.map(process_path, num_parallel_calls=AUTOTUNE)\n",
    "    test_ds = configure_for_test(test_ds)\n",
    "    model = tf.keras.models.load_model(model_dir + f\"model_{name}.h5\")\n",
    "    a = model.predict(test_ds)\n",
    "    arg = np.argmax(a,axis=1)\n",
    "    conf = []\n",
    "    for i, j in zip(a, arg):\n",
    "        conf.append(i[j])\n",
    "    result[f\"size_{name}\"] = arg\n",
    "    result_conf[f\"size_{name}_conf\"] = conf"
   ]
  },
  {
   "cell_type": "code",
   "execution_count": 17,
   "metadata": {
    "ExecuteTime": {
     "end_time": "2022-07-19T08:50:55.934892Z",
     "start_time": "2022-07-19T08:50:46.496603Z"
    }
   },
   "outputs": [],
   "source": [
    "result[\"answer\"] = result.mode(axis=1)[0]\n",
    "result[\"answer\"] = result[\"answer\"].astype(\"int\")\n",
    "result_conf[\"answer\"] = result_conf.mean(axis=1)\n",
    "\n",
    "test_ds = test_.map(process_path, num_parallel_calls=AUTOTUNE)\n",
    "temp = []\n",
    "for i, j in test_ds:\n",
    "    temp.append(j.numpy())\n",
    "result[\"Real\"] = temp"
   ]
  },
  {
   "cell_type": "markdown",
   "metadata": {
    "ExecuteTime": {
     "end_time": "2022-07-19T08:51:15.527166Z",
     "start_time": "2022-07-19T08:51:15.503520Z"
    }
   },
   "source": [
    "## 평가"
   ]
  },
  {
   "cell_type": "code",
   "execution_count": 20,
   "metadata": {
    "ExecuteTime": {
     "end_time": "2022-07-19T08:51:35.236833Z",
     "start_time": "2022-07-19T08:51:35.215384Z"
    }
   },
   "outputs": [],
   "source": [
    "def GAP_vector(pred, conf, true, return_x=False):\n",
    "    x = pd.DataFrame({'pred': pred, 'conf': conf, 'true': true})\n",
    "    x.sort_values('conf', ascending=False, inplace=True, na_position='last')\n",
    "    x['correct'] = (x.true == x.pred).astype(int)\n",
    "    x['prec_k'] = x.correct.cumsum() / (np.arange(len(x)) + 1)\n",
    "    x['term'] = x.prec_k * x.correct\n",
    "    gap = x.term.sum() / x.true.count()\n",
    "    if return_x:\n",
    "        return gap, x\n",
    "    else:\n",
    "        return gap"
   ]
  },
  {
   "cell_type": "code",
   "execution_count": 21,
   "metadata": {
    "ExecuteTime": {
     "end_time": "2022-07-19T08:51:40.271309Z",
     "start_time": "2022-07-19T08:51:40.253305Z"
    }
   },
   "outputs": [],
   "source": [
    "gap , x = GAP_vector(result[\"answer\"], result_conf[\"answer\"], result[\"Real\"], return_x=True)"
   ]
  },
  {
   "cell_type": "code",
   "execution_count": 22,
   "metadata": {
    "ExecuteTime": {
     "end_time": "2022-07-19T08:51:43.698235Z",
     "start_time": "2022-07-19T08:51:43.680230Z"
    }
   },
   "outputs": [
    {
     "data": {
      "text/plain": [
       "0.997992893767759"
      ]
     },
     "execution_count": 22,
     "metadata": {},
     "output_type": "execute_result"
    }
   ],
   "source": [
    "gap"
   ]
  },
  {
   "cell_type": "code",
   "execution_count": 23,
   "metadata": {
    "ExecuteTime": {
     "end_time": "2022-07-19T08:51:45.251306Z",
     "start_time": "2022-07-19T08:51:45.224158Z"
    }
   },
   "outputs": [
    {
     "data": {
      "text/html": [
       "<div>\n",
       "<style scoped>\n",
       "    .dataframe tbody tr th:only-of-type {\n",
       "        vertical-align: middle;\n",
       "    }\n",
       "\n",
       "    .dataframe tbody tr th {\n",
       "        vertical-align: top;\n",
       "    }\n",
       "\n",
       "    .dataframe thead th {\n",
       "        text-align: right;\n",
       "    }\n",
       "</style>\n",
       "<table border=\"1\" class=\"dataframe\">\n",
       "  <thead>\n",
       "    <tr style=\"text-align: right;\">\n",
       "      <th></th>\n",
       "      <th>pred</th>\n",
       "      <th>conf</th>\n",
       "      <th>true</th>\n",
       "      <th>correct</th>\n",
       "      <th>prec_k</th>\n",
       "      <th>term</th>\n",
       "    </tr>\n",
       "  </thead>\n",
       "  <tbody>\n",
       "    <tr>\n",
       "      <th>983</th>\n",
       "      <td>54</td>\n",
       "      <td>0.999994</td>\n",
       "      <td>54</td>\n",
       "      <td>1</td>\n",
       "      <td>1.000000</td>\n",
       "      <td>1.000000</td>\n",
       "    </tr>\n",
       "    <tr>\n",
       "      <th>1025</th>\n",
       "      <td>55</td>\n",
       "      <td>0.999993</td>\n",
       "      <td>55</td>\n",
       "      <td>1</td>\n",
       "      <td>1.000000</td>\n",
       "      <td>1.000000</td>\n",
       "    </tr>\n",
       "    <tr>\n",
       "      <th>471</th>\n",
       "      <td>25</td>\n",
       "      <td>0.999990</td>\n",
       "      <td>25</td>\n",
       "      <td>1</td>\n",
       "      <td>1.000000</td>\n",
       "      <td>1.000000</td>\n",
       "    </tr>\n",
       "    <tr>\n",
       "      <th>984</th>\n",
       "      <td>54</td>\n",
       "      <td>0.999990</td>\n",
       "      <td>54</td>\n",
       "      <td>1</td>\n",
       "      <td>1.000000</td>\n",
       "      <td>1.000000</td>\n",
       "    </tr>\n",
       "    <tr>\n",
       "      <th>197</th>\n",
       "      <td>11</td>\n",
       "      <td>0.999989</td>\n",
       "      <td>11</td>\n",
       "      <td>1</td>\n",
       "      <td>1.000000</td>\n",
       "      <td>1.000000</td>\n",
       "    </tr>\n",
       "    <tr>\n",
       "      <th>...</th>\n",
       "      <td>...</td>\n",
       "      <td>...</td>\n",
       "      <td>...</td>\n",
       "      <td>...</td>\n",
       "      <td>...</td>\n",
       "      <td>...</td>\n",
       "    </tr>\n",
       "    <tr>\n",
       "      <th>109</th>\n",
       "      <td>7</td>\n",
       "      <td>0.591827</td>\n",
       "      <td>7</td>\n",
       "      <td>1</td>\n",
       "      <td>0.998000</td>\n",
       "      <td>0.998000</td>\n",
       "    </tr>\n",
       "    <tr>\n",
       "      <th>1251</th>\n",
       "      <td>67</td>\n",
       "      <td>0.548511</td>\n",
       "      <td>67</td>\n",
       "      <td>1</td>\n",
       "      <td>0.998001</td>\n",
       "      <td>0.998001</td>\n",
       "    </tr>\n",
       "    <tr>\n",
       "      <th>1253</th>\n",
       "      <td>67</td>\n",
       "      <td>0.546929</td>\n",
       "      <td>67</td>\n",
       "      <td>1</td>\n",
       "      <td>0.998003</td>\n",
       "      <td>0.998003</td>\n",
       "    </tr>\n",
       "    <tr>\n",
       "      <th>111</th>\n",
       "      <td>7</td>\n",
       "      <td>0.538739</td>\n",
       "      <td>7</td>\n",
       "      <td>1</td>\n",
       "      <td>0.998004</td>\n",
       "      <td>0.998004</td>\n",
       "    </tr>\n",
       "    <tr>\n",
       "      <th>1252</th>\n",
       "      <td>67</td>\n",
       "      <td>0.535177</td>\n",
       "      <td>67</td>\n",
       "      <td>1</td>\n",
       "      <td>0.998005</td>\n",
       "      <td>0.998005</td>\n",
       "    </tr>\n",
       "  </tbody>\n",
       "</table>\n",
       "<p>1504 rows × 6 columns</p>\n",
       "</div>"
      ],
      "text/plain": [
       "      pred      conf  true  correct    prec_k      term\n",
       "983     54  0.999994    54        1  1.000000  1.000000\n",
       "1025    55  0.999993    55        1  1.000000  1.000000\n",
       "471     25  0.999990    25        1  1.000000  1.000000\n",
       "984     54  0.999990    54        1  1.000000  1.000000\n",
       "197     11  0.999989    11        1  1.000000  1.000000\n",
       "...    ...       ...   ...      ...       ...       ...\n",
       "109      7  0.591827     7        1  0.998000  0.998000\n",
       "1251    67  0.548511    67        1  0.998001  0.998001\n",
       "1253    67  0.546929    67        1  0.998003  0.998003\n",
       "111      7  0.538739     7        1  0.998004  0.998004\n",
       "1252    67  0.535177    67        1  0.998005  0.998005\n",
       "\n",
       "[1504 rows x 6 columns]"
      ]
     },
     "execution_count": 23,
     "metadata": {},
     "output_type": "execute_result"
    }
   ],
   "source": [
    "x"
   ]
  },
  {
   "cell_type": "code",
   "execution_count": null,
   "metadata": {},
   "outputs": [],
   "source": []
  }
 ],
 "metadata": {
  "accelerator": "GPU",
  "colab": {
   "collapsed_sections": [],
   "machine_shape": "hm",
   "name": "ch01_11_CNN실전-랜드마크이미지.ipynb",
   "provenance": []
  },
  "gpuClass": "standard",
  "kernelspec": {
   "display_name": "Python 3 (ipykernel)",
   "language": "python",
   "name": "python3"
  },
  "language_info": {
   "codemirror_mode": {
    "name": "ipython",
    "version": 3
   },
   "file_extension": ".py",
   "mimetype": "text/x-python",
   "name": "python",
   "nbconvert_exporter": "python",
   "pygments_lexer": "ipython3",
   "version": "3.7.10"
  },
  "toc": {
   "base_numbering": 1,
   "nav_menu": {},
   "number_sections": true,
   "sideBar": true,
   "skip_h1_title": false,
   "title_cell": "Table of Contents",
   "title_sidebar": "Contents",
   "toc_cell": false,
   "toc_position": {},
   "toc_section_display": true,
   "toc_window_display": false
  }
 },
 "nbformat": 4,
 "nbformat_minor": 1
}
