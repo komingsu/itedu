{
 "cells": [
  {
   "cell_type": "markdown",
   "metadata": {
    "colab_type": "text",
    "id": "view-in-github"
   },
   "source": [
    "<a href=\"https://colab.research.google.com/github/yebiny/SkillTreePython-DeepLearning/blob/main/01.%EB%94%A5%EB%9F%AC%EB%8B%9Dwith%ED%85%90%EC%84%9C%ED%94%8C%EB%A1%9C%EC%9A%B0-basic/ch01_08_%EC%9D%B4%EB%AF%B8%EC%A7%80%EB%84%B7%EB%AA%A8%EB%8D%B8%EA%B5%AC%ED%98%84_AlexNet.ipynb\" target=\"_parent\"><img src=\"https://colab.research.google.com/assets/colab-badge.svg\" alt=\"Open In Colab\"/></a>"
   ]
  },
  {
   "cell_type": "markdown",
   "metadata": {
    "id": "sWs2kEC1_b-P"
   },
   "source": [
    "# ch01.08 이미지넷 모델구현 - AlexNet\n",
    "---\n",
    "\n",
    "* 날짜:\n",
    "* 이름:\n",
    "\n",
    "## 학습내용\n",
    "    - AlexNet 모델 특징에 대해 이해한다.\n",
    "    - AlexNet 모델을 텐서플로우를 이용해 구현한다. \n"
   ]
  },
  {
   "cell_type": "markdown",
   "metadata": {
    "id": "IZH_UYRO1giG"
   },
   "source": [
    "## 소개\n",
    "---"
   ]
  },
  {
   "cell_type": "code",
   "execution_count": null,
   "metadata": {
    "ExecuteTime": {
     "start_time": "2022-07-11T00:26:12.226Z"
    },
    "id": "CK7HgEln1mar"
   },
   "outputs": [],
   "source": [
    "import tensorflow as tf\n",
    "from tensorflow.keras import models, layers, utils"
   ]
  },
  {
   "cell_type": "markdown",
   "metadata": {
    "id": "Hlu1ch6g1i5G"
   },
   "source": [
    "## 구현\n",
    "---"
   ]
  },
  {
   "cell_type": "code",
   "execution_count": 1,
   "metadata": {
    "ExecuteTime": {
     "end_time": "2022-07-11T00:26:10.743022Z",
     "start_time": "2022-07-11T00:26:10.086991Z"
    },
    "id": "LcTZNT--1i5H"
   },
   "outputs": [
    {
     "ename": "NameError",
     "evalue": "name 'layers' is not defined",
     "output_type": "error",
     "traceback": [
      "\u001b[1;31m---------------------------------------------------------------------------\u001b[0m",
      "\u001b[1;31mNameError\u001b[0m                                 Traceback (most recent call last)",
      "Input \u001b[1;32mIn [1]\u001b[0m, in \u001b[0;36m<cell line: 31>\u001b[1;34m()\u001b[0m\n\u001b[0;32m     28\u001b[0m     model \u001b[38;5;241m=\u001b[39m models\u001b[38;5;241m.\u001b[39mModel(x,y, name\u001b[38;5;241m=\u001b[39m\u001b[38;5;124m\"\u001b[39m\u001b[38;5;124mAlexNet\u001b[39m\u001b[38;5;124m\"\u001b[39m)\n\u001b[0;32m     29\u001b[0m     \u001b[38;5;28;01mreturn\u001b[39;00m model\n\u001b[1;32m---> 31\u001b[0m alex \u001b[38;5;241m=\u001b[39m \u001b[43mBuild_AlexNet\u001b[49m\u001b[43m(\u001b[49m\u001b[43m)\u001b[49m\n",
      "Input \u001b[1;32mIn [1]\u001b[0m, in \u001b[0;36mBuild_AlexNet\u001b[1;34m()\u001b[0m\n\u001b[0;32m      1\u001b[0m \u001b[38;5;28;01mdef\u001b[39;00m \u001b[38;5;21mBuild_AlexNet\u001b[39m():\n\u001b[1;32m----> 2\u001b[0m     x \u001b[38;5;241m=\u001b[39m \u001b[43mlayers\u001b[49m\u001b[38;5;241m.\u001b[39mInput(shape\u001b[38;5;241m=\u001b[39m(\u001b[38;5;241m227\u001b[39m,\u001b[38;5;241m227\u001b[39m,\u001b[38;5;241m3\u001b[39m), name\u001b[38;5;241m=\u001b[39m\u001b[38;5;124m\"\u001b[39m\u001b[38;5;124mInput\u001b[39m\u001b[38;5;124m\"\u001b[39m)\n\u001b[0;32m      4\u001b[0m     y \u001b[38;5;241m=\u001b[39m layers\u001b[38;5;241m.\u001b[39mConv2D(filters\u001b[38;5;241m=\u001b[39m\u001b[38;5;241m96\u001b[39m, kernel_size\u001b[38;5;241m=\u001b[39m(\u001b[38;5;241m11\u001b[39m,\u001b[38;5;241m11\u001b[39m), strides\u001b[38;5;241m=\u001b[39m(\u001b[38;5;241m4\u001b[39m,\u001b[38;5;241m4\u001b[39m), activation\u001b[38;5;241m=\u001b[39m\u001b[38;5;124m'\u001b[39m\u001b[38;5;124mrelu\u001b[39m\u001b[38;5;124m'\u001b[39m, name\u001b[38;5;241m=\u001b[39m\u001b[38;5;124m\"\u001b[39m\u001b[38;5;124mC1\u001b[39m\u001b[38;5;124m\"\u001b[39m)(x)\n\u001b[0;32m      5\u001b[0m     y \u001b[38;5;241m=\u001b[39m layers\u001b[38;5;241m.\u001b[39mBatchNormalization(name\u001b[38;5;241m=\u001b[39m\u001b[38;5;124m\"\u001b[39m\u001b[38;5;124mN1\u001b[39m\u001b[38;5;124m\"\u001b[39m)(y)\n",
      "\u001b[1;31mNameError\u001b[0m: name 'layers' is not defined"
     ]
    }
   ],
   "source": [
    "def Build_AlexNet():\n",
    "    x = layers.Input(shape=(227,227,3), name=\"Input\")\n",
    "    \n",
    "    y = layers.Conv2D(filters=96, kernel_size=(11,11), strides=(4,4), activation='relu', name=\"C1\")(x)\n",
    "    y = layers.BatchNormalization(name=\"N1\")(y)\n",
    "    y = layers.MaxPool2D(pool_size=(3,3), strides=(2,2), name=\"P1\")(y)\n",
    "    \n",
    "    y = layers.Conv2D(filters=256, kernel_size=(5,5), strides=(1,1), activation='relu', padding=\"same\", name=\"C2\")(y)\n",
    "    y = layers.BatchNormalization(name=\"N2\")(y)\n",
    "    y = layers.MaxPool2D(pool_size=(3,3), strides=(2,2), name=\"P2\")(y)\n",
    "    \n",
    "    y = layers.Conv2D(filters=384, kernel_size=(3,3), strides=(1,1), activation='relu', padding=\"same\", name=\"C3\")(y)\n",
    "    y = layers.BatchNormalization(name=\"N3\")(y)\n",
    "    \n",
    "    y = layers.Conv2D(filters=384, kernel_size=(3,3), strides=(1,1), activation='relu', padding=\"same\", name=\"C4\")(y)\n",
    "    y = layers.BatchNormalization(name=\"N4\")(y)\n",
    "    \n",
    "    y = layers.Conv2D(filters=256, kernel_size=(3,3), strides=(1,1), activation='relu', padding=\"same\", name=\"C5\")(y)\n",
    "    y = layers.BatchNormalization(name=\"N5\")(y)\n",
    "    y = layers.MaxPool2D(pool_size=(3,3), strides=(2,2), name=\"P5\")(y)\n",
    "    \n",
    "    y = layers.Flatten(name=\"Flatten\")(y)\n",
    "    y = layers.Dense(4096, activation='relu', name=\"D1\")(y)\n",
    "    y = layers.Dropout(0.5, name=\"Drop1\")(y)\n",
    "    y = layers.Dense(4096, activation='relu', name=\"D2\")(y)\n",
    "    y = layers.Dropout(0.5, name=\"Drop2\")(y)\n",
    "    y = layers.Dense(10, activation='softmax', name=\"Output\")(y)\n",
    "    model = models.Model(x,y, name=\"AlexNet\")\n",
    "    return model\n",
    "\n",
    "alex = Build_AlexNet()"
   ]
  },
  {
   "cell_type": "code",
   "execution_count": null,
   "metadata": {},
   "outputs": [],
   "source": []
  }
 ],
 "metadata": {
  "colab": {
   "authorship_tag": "ABX9TyPy/ezINkim4MSm7GngsVmx",
   "collapsed_sections": [],
   "include_colab_link": true,
   "name": "ch01_08_이미지넷모델구현-AlexNet.ipynb",
   "provenance": []
  },
  "kernelspec": {
   "display_name": "Python 3 (ipykernel)",
   "language": "python",
   "name": "python3"
  },
  "language_info": {
   "codemirror_mode": {
    "name": "ipython",
    "version": 3
   },
   "file_extension": ".py",
   "mimetype": "text/x-python",
   "name": "python",
   "nbconvert_exporter": "python",
   "pygments_lexer": "ipython3",
   "version": "3.8.13"
  },
  "toc": {
   "base_numbering": 1,
   "nav_menu": {},
   "number_sections": true,
   "sideBar": true,
   "skip_h1_title": false,
   "title_cell": "Table of Contents",
   "title_sidebar": "Contents",
   "toc_cell": false,
   "toc_position": {},
   "toc_section_display": true,
   "toc_window_display": false
  }
 },
 "nbformat": 4,
 "nbformat_minor": 1
}
