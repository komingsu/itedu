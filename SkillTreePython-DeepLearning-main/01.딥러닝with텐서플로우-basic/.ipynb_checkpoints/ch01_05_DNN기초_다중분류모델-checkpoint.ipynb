{
 "cells": [
  {
   "cell_type": "markdown",
   "metadata": {
    "id": "sWs2kEC1_b-P"
   },
   "source": [
    "# ch01.05. 딥러닝 다중 분류 모델\n",
    "---\n",
    "* 날짜: 2022-07-04\n",
    "* 이름: 고민수\n",
    "\n",
    "## 학습내용\n",
    "    - 딥러닝을 이용한 멀티클래스 분류 진행\n",
    "    - 적절한 손실함수와 최적화 함수 정의\n",
    "    - 평가 및 예측\n",
    "    \n",
    "## 학습자료\n",
    "\n",
    "* 모두의딥러닝\n",
    "* 데이터\n",
    "  * `iris.csv`\n",
    "  * MNIST 데이터셋\n",
    "\n",
    "\n",
    "```\n",
    "import numpy as np\n",
    "import pandas as pd\n",
    "import tensorflow as tf\n",
    "import matplotlib.pyplot as plt\n",
    "import seaborn as sns\n",
    "seed=1\n",
    "np.random.seed(seed)\n",
    "tf.random.set_seed(seed)\n",
    "```\n",
    "\n",
    "```\n",
    "https://github.com/yebiny/SkillTreePython-DeepLearning.git\n",
    "```"
   ]
  },
  {
   "cell_type": "code",
   "execution_count": 1,
   "metadata": {
    "ExecuteTime": {
     "end_time": "2022-07-04T00:14:07.205771Z",
     "start_time": "2022-07-04T00:13:55.101451Z"
    },
    "id": "HJqjPthwgTg-"
   },
   "outputs": [],
   "source": [
    "import numpy as np\n",
    "import pandas as pd\n",
    "import tensorflow as tf\n",
    "import matplotlib.pyplot as plt\n",
    "import seaborn as sns\n",
    "seed=1\n",
    "np.random.seed(seed)\n",
    "tf.random.set_seed(seed)"
   ]
  },
  {
   "cell_type": "code",
   "execution_count": null,
   "metadata": {
    "id": "XiKfkQgYfoIE"
   },
   "outputs": [],
   "source": []
  },
  {
   "cell_type": "markdown",
   "metadata": {
    "id": "4wsuH8GzftqZ"
   },
   "source": [
    "## 아이리스 꽃 종류 예측\n",
    "---\n",
    "\n",
    "\n",
    "```\n",
    "- 0 sepal_length  꽃받침 길이\n",
    "- 1 sepal_width 꽃받침 너비\n",
    "- 2 petal_length 꽃임 길이\n",
    "- 3 petal_width 꽃잎 너비\n",
    "- 4 species 꽃의 종류 {setosa, versicolor virginica}\n",
    "```\n",
    "<p align='center'>\n",
    "<img src=https://github.com/yebiny/SkillTreePython-DeepLearning/blob/main/imgs/ch0105-01.PNG?raw=true width=550>\n",
    "</p>\n"
   ]
  },
  {
   "cell_type": "code",
   "execution_count": 3,
   "metadata": {
    "ExecuteTime": {
     "end_time": "2022-07-04T00:15:47.228963Z",
     "start_time": "2022-07-04T00:15:47.203025Z"
    },
    "id": "68PCrczmzdId"
   },
   "outputs": [
    {
     "data": {
      "text/html": [
       "<div>\n",
       "<style scoped>\n",
       "    .dataframe tbody tr th:only-of-type {\n",
       "        vertical-align: middle;\n",
       "    }\n",
       "\n",
       "    .dataframe tbody tr th {\n",
       "        vertical-align: top;\n",
       "    }\n",
       "\n",
       "    .dataframe thead th {\n",
       "        text-align: right;\n",
       "    }\n",
       "</style>\n",
       "<table border=\"1\" class=\"dataframe\">\n",
       "  <thead>\n",
       "    <tr style=\"text-align: right;\">\n",
       "      <th></th>\n",
       "      <th>0</th>\n",
       "      <th>1</th>\n",
       "      <th>2</th>\n",
       "      <th>3</th>\n",
       "      <th>4</th>\n",
       "    </tr>\n",
       "  </thead>\n",
       "  <tbody>\n",
       "    <tr>\n",
       "      <th>0</th>\n",
       "      <td>5.1</td>\n",
       "      <td>3.5</td>\n",
       "      <td>1.4</td>\n",
       "      <td>0.2</td>\n",
       "      <td>Iris-setosa</td>\n",
       "    </tr>\n",
       "    <tr>\n",
       "      <th>1</th>\n",
       "      <td>4.9</td>\n",
       "      <td>3.0</td>\n",
       "      <td>1.4</td>\n",
       "      <td>0.2</td>\n",
       "      <td>Iris-setosa</td>\n",
       "    </tr>\n",
       "    <tr>\n",
       "      <th>2</th>\n",
       "      <td>4.7</td>\n",
       "      <td>3.2</td>\n",
       "      <td>1.3</td>\n",
       "      <td>0.2</td>\n",
       "      <td>Iris-setosa</td>\n",
       "    </tr>\n",
       "    <tr>\n",
       "      <th>3</th>\n",
       "      <td>4.6</td>\n",
       "      <td>3.1</td>\n",
       "      <td>1.5</td>\n",
       "      <td>0.2</td>\n",
       "      <td>Iris-setosa</td>\n",
       "    </tr>\n",
       "    <tr>\n",
       "      <th>4</th>\n",
       "      <td>5.0</td>\n",
       "      <td>3.6</td>\n",
       "      <td>1.4</td>\n",
       "      <td>0.2</td>\n",
       "      <td>Iris-setosa</td>\n",
       "    </tr>\n",
       "    <tr>\n",
       "      <th>...</th>\n",
       "      <td>...</td>\n",
       "      <td>...</td>\n",
       "      <td>...</td>\n",
       "      <td>...</td>\n",
       "      <td>...</td>\n",
       "    </tr>\n",
       "    <tr>\n",
       "      <th>145</th>\n",
       "      <td>6.7</td>\n",
       "      <td>3.0</td>\n",
       "      <td>5.2</td>\n",
       "      <td>2.3</td>\n",
       "      <td>Iris-virginica</td>\n",
       "    </tr>\n",
       "    <tr>\n",
       "      <th>146</th>\n",
       "      <td>6.3</td>\n",
       "      <td>2.5</td>\n",
       "      <td>5.0</td>\n",
       "      <td>1.9</td>\n",
       "      <td>Iris-virginica</td>\n",
       "    </tr>\n",
       "    <tr>\n",
       "      <th>147</th>\n",
       "      <td>6.5</td>\n",
       "      <td>3.0</td>\n",
       "      <td>5.2</td>\n",
       "      <td>2.0</td>\n",
       "      <td>Iris-virginica</td>\n",
       "    </tr>\n",
       "    <tr>\n",
       "      <th>148</th>\n",
       "      <td>6.2</td>\n",
       "      <td>3.4</td>\n",
       "      <td>5.4</td>\n",
       "      <td>2.3</td>\n",
       "      <td>Iris-virginica</td>\n",
       "    </tr>\n",
       "    <tr>\n",
       "      <th>149</th>\n",
       "      <td>5.9</td>\n",
       "      <td>3.0</td>\n",
       "      <td>5.1</td>\n",
       "      <td>1.8</td>\n",
       "      <td>Iris-virginica</td>\n",
       "    </tr>\n",
       "  </tbody>\n",
       "</table>\n",
       "<p>150 rows × 5 columns</p>\n",
       "</div>"
      ],
      "text/plain": [
       "       0    1    2    3               4\n",
       "0    5.1  3.5  1.4  0.2     Iris-setosa\n",
       "1    4.9  3.0  1.4  0.2     Iris-setosa\n",
       "2    4.7  3.2  1.3  0.2     Iris-setosa\n",
       "3    4.6  3.1  1.5  0.2     Iris-setosa\n",
       "4    5.0  3.6  1.4  0.2     Iris-setosa\n",
       "..   ...  ...  ...  ...             ...\n",
       "145  6.7  3.0  5.2  2.3  Iris-virginica\n",
       "146  6.3  2.5  5.0  1.9  Iris-virginica\n",
       "147  6.5  3.0  5.2  2.0  Iris-virginica\n",
       "148  6.2  3.4  5.4  2.3  Iris-virginica\n",
       "149  5.9  3.0  5.1  1.8  Iris-virginica\n",
       "\n",
       "[150 rows x 5 columns]"
      ]
     },
     "execution_count": 3,
     "metadata": {},
     "output_type": "execute_result"
    }
   ],
   "source": [
    "data_path = \"../../dataset/preprocessed/iris.csv\"\n",
    "df = pd.read_csv(data_path, header=None)\n",
    "df"
   ]
  },
  {
   "cell_type": "markdown",
   "metadata": {
    "id": "87SJwUDWglBP"
   },
   "source": [
    "* 예측값 분포 확인"
   ]
  },
  {
   "cell_type": "code",
   "execution_count": 5,
   "metadata": {
    "ExecuteTime": {
     "end_time": "2022-07-04T00:16:42.501031Z",
     "start_time": "2022-07-04T00:16:42.370050Z"
    },
    "id": "hLNYhitOgf0o"
   },
   "outputs": [
    {
     "data": {
      "text/plain": [
       "Text(0.5, 1.0, 'all_dataset')"
      ]
     },
     "execution_count": 5,
     "metadata": {},
     "output_type": "execute_result"
    },
    {
     "data": {
      "image/png": "[encoded data removed]",
      "text/plain": [
       "<Figure size 432x288 with 1 Axes>"
      ]
     },
     "metadata": {
      "needs_background": "light"
     },
     "output_type": "display_data"
    }
   ],
   "source": [
    "sns.countplot(x=df[4])\n",
    "plt.title(\"all_dataset\")"
   ]
  },
  {
   "cell_type": "code",
   "execution_count": 14,
   "metadata": {
    "ExecuteTime": {
     "end_time": "2022-07-04T00:33:32.294410Z",
     "start_time": "2022-07-04T00:33:32.272470Z"
    },
    "id": "5BZG1z90rsGc"
   },
   "outputs": [
    {
     "name": "stdout",
     "output_type": "stream",
     "text": [
      "원-핫 변환 순서 : [array(['Iris-setosa', 'Iris-versicolor', 'Iris-virginica'], dtype=object)]\n",
      "데이터 형태 : (105, 4), (45, 4), (105, 3), (45, 3), train_test 데이터 비율 :  0.30\n",
      "첫번째 샘플 x : [ 0.55333328 -0.58776353  0.76275864  0.39617188], y : [0. 0. 1.]\n"
     ]
    }
   ],
   "source": [
    "from sklearn.preprocessing import StandardScaler, OneHotEncoder\n",
    "from sklearn.model_selection import train_test_split\n",
    "\n",
    "def iris_preprocess(df, seed=seed):\n",
    "  \n",
    "    # x-y 분할\n",
    "    x = df.values[:, :-1]\n",
    "    y = df.values[:,-1]\n",
    "    # 정규화 (x 데이터만)\n",
    "    ss = StandardScaler()\n",
    "    x = ss.fit_transform(x)\n",
    "    # 원-핫 (y 데이터만)\n",
    "    oe = OneHotEncoder(sparse=False)\n",
    "    y = oe.fit_transform(np.expand_dims(y,1))\n",
    "    print(f\"원-핫 변환 순서 : {oe.categories_}\")\n",
    "    # train_test 분할\n",
    "    x_train, x_test, y_train, y_test = train_test_split(x, y, test_size=0.3, random_state=seed, stratify=y)\n",
    "    \n",
    "    print(f\"데이터 형태 : {x_train.shape}, {x_test.shape}, {y_train.shape}, {y_test.shape}, train_test 데이터 비율 : {len(x_test)/(len(x_train)+len(x_test)) : .2f}\")\n",
    "    print(f\"첫번째 샘플 x : {x_train[0]}, y : {y_train[0]}\")\n",
    "    \n",
    "    return x_train, x_test, y_train, y_test\n",
    "\n",
    "x_train, x_test, y_train, y_test = iris_preprocess(df)"
   ]
  },
  {
   "cell_type": "code",
   "execution_count": 15,
   "metadata": {
    "ExecuteTime": {
     "end_time": "2022-07-04T00:34:42.618937Z",
     "start_time": "2022-07-04T00:34:42.215619Z"
    }
   },
   "outputs": [
    {
     "data": {
      "text/plain": [
       "Text(0.5, 1.0, 'test dataset')"
      ]
     },
     "execution_count": 15,
     "metadata": {},
     "output_type": "execute_result"
    },
    {
     "data": {
      "image/png": "[encoded data removed]",
      "text/plain": [
       "<Figure size 432x288 with 2 Axes>"
      ]
     },
     "metadata": {
      "needs_background": "light"
     },
     "output_type": "display_data"
    }
   ],
   "source": [
    "plt.subplot(121)\n",
    "sns.countplot(x=np.argmax(y_train, axis=1))\n",
    "plt.title(\"train dataset\")\n",
    "plt.subplot(122)\n",
    "sns.countplot(x=np.argmax(y_test, axis=1))\n",
    "plt.title(\"test dataset\")"
   ]
  },
  {
   "cell_type": "markdown",
   "metadata": {
    "id": "DHshtWB9r0be"
   },
   "source": [
    "### | 모델\n",
    "\n",
    "\n",
    "<p align='center'>\n",
    "<img src=https://github.com/yebiny/SkillTreePython-DeepLearning/blob/main/imgs/ch0105-02.PNG?raw=true width=800>\n",
    "</p>\n"
   ]
  },
  {
   "cell_type": "markdown",
   "metadata": {
    "id": "J94jFpWyr2k9"
   },
   "source": [
    "#### **모델 생성**"
   ]
  },
  {
   "cell_type": "code",
   "execution_count": 19,
   "metadata": {
    "ExecuteTime": {
     "end_time": "2022-07-04T00:42:46.848683Z",
     "start_time": "2022-07-04T00:42:46.831771Z"
    }
   },
   "outputs": [],
   "source": [
    "from tensorflow.keras import models, layers, utils\n",
    "import tensorflow as tf"
   ]
  },
  {
   "cell_type": "code",
   "execution_count": 51,
   "metadata": {
    "ExecuteTime": {
     "end_time": "2022-07-04T01:02:21.264069Z",
     "start_time": "2022-07-04T01:02:16.596390Z"
    }
   },
   "outputs": [
    {
     "name": "stdout",
     "output_type": "stream",
     "text": [
      "Epoch 1/200\n",
      "14/14 [==============================] - 1s 1ms/step - loss: 1.2078 - accuracy: 0.6190\n",
      "Epoch 2/200\n",
      "14/14 [==============================] - 0s 1ms/step - loss: 1.1488 - accuracy: 0.6190\n",
      "Epoch 3/200\n",
      "14/14 [==============================] - 0s 2ms/step - loss: 1.0975 - accuracy: 0.6190\n",
      "Epoch 4/200\n",
      "14/14 [==============================] - 0s 1ms/step - loss: 1.0504 - accuracy: 0.6190\n",
      "Epoch 5/200\n",
      "14/14 [==============================] - 0s 2ms/step - loss: 1.0013 - accuracy: 0.6286\n",
      "Epoch 6/200\n",
      "14/14 [==============================] - 0s 1ms/step - loss: 0.9576 - accuracy: 0.6571\n",
      "Epoch 7/200\n",
      "14/14 [==============================] - 0s 2ms/step - loss: 0.9176 - accuracy: 0.6667\n",
      "Epoch 8/200\n",
      "14/14 [==============================] - 0s 1ms/step - loss: 0.8747 - accuracy: 0.6667\n",
      "Epoch 9/200\n",
      "14/14 [==============================] - 0s 1ms/step - loss: 0.8299 - accuracy: 0.6762\n",
      "Epoch 10/200\n",
      "14/14 [==============================] - 0s 1ms/step - loss: 0.7848 - accuracy: 0.6857\n",
      "Epoch 11/200\n",
      "14/14 [==============================] - 0s 2ms/step - loss: 0.7386 - accuracy: 0.7333\n",
      "Epoch 12/200\n",
      "14/14 [==============================] - 0s 1ms/step - loss: 0.6938 - accuracy: 0.7714\n",
      "Epoch 13/200\n",
      "14/14 [==============================] - ETA: 0s - loss: 0.7882 - accuracy: 0.75 - 0s 1ms/step - loss: 0.6528 - accuracy: 0.7810\n",
      "Epoch 14/200\n",
      "14/14 [==============================] - 0s 1ms/step - loss: 0.6125 - accuracy: 0.8190\n",
      "Epoch 15/200\n",
      "14/14 [==============================] - 0s 1ms/step - loss: 0.5772 - accuracy: 0.8381\n",
      "Epoch 16/200\n",
      "14/14 [==============================] - 0s 1ms/step - loss: 0.5444 - accuracy: 0.8571\n",
      "Epoch 17/200\n",
      "14/14 [==============================] - 0s 2ms/step - loss: 0.5128 - accuracy: 0.8571\n",
      "Epoch 18/200\n",
      "14/14 [==============================] - 0s 2ms/step - loss: 0.4835 - accuracy: 0.8762\n",
      "Epoch 19/200\n",
      "14/14 [==============================] - 0s 1ms/step - loss: 0.4578 - accuracy: 0.8857\n",
      "Epoch 20/200\n",
      "14/14 [==============================] - 0s 2ms/step - loss: 0.4344 - accuracy: 0.8857\n",
      "Epoch 21/200\n",
      "14/14 [==============================] - ETA: 0s - loss: 0.4687 - accuracy: 1.00 - 0s 1ms/step - loss: 0.4122 - accuracy: 0.8952\n",
      "Epoch 22/200\n",
      "14/14 [==============================] - 0s 1ms/step - loss: 0.3924 - accuracy: 0.9048\n",
      "Epoch 23/200\n",
      "14/14 [==============================] - 0s 1ms/step - loss: 0.3735 - accuracy: 0.9048\n",
      "Epoch 24/200\n",
      "14/14 [==============================] - 0s 1ms/step - loss: 0.3584 - accuracy: 0.9048\n",
      "Epoch 25/200\n",
      "14/14 [==============================] - 0s 2ms/step - loss: 0.3421 - accuracy: 0.9143\n",
      "Epoch 26/200\n",
      "14/14 [==============================] - 0s 1ms/step - loss: 0.3282 - accuracy: 0.9048\n",
      "Epoch 27/200\n",
      "14/14 [==============================] - 0s 1ms/step - loss: 0.3158 - accuracy: 0.9238\n",
      "Epoch 28/200\n",
      "14/14 [==============================] - 0s 1ms/step - loss: 0.3041 - accuracy: 0.9238\n",
      "Epoch 29/200\n",
      "14/14 [==============================] - 0s 1ms/step - loss: 0.2927 - accuracy: 0.9143\n",
      "Epoch 30/200\n",
      "14/14 [==============================] - 0s 1ms/step - loss: 0.2831 - accuracy: 0.9048\n",
      "Epoch 31/200\n",
      "14/14 [==============================] - 0s 1ms/step - loss: 0.2735 - accuracy: 0.9143\n",
      "Epoch 32/200\n",
      "14/14 [==============================] - 0s 1ms/step - loss: 0.2655 - accuracy: 0.9143\n",
      "Epoch 33/200\n",
      "14/14 [==============================] - 0s 1ms/step - loss: 0.2568 - accuracy: 0.9238\n",
      "Epoch 34/200\n",
      "14/14 [==============================] - 0s 1ms/step - loss: 0.2480 - accuracy: 0.9238\n",
      "Epoch 35/200\n",
      "14/14 [==============================] - 0s 1ms/step - loss: 0.2405 - accuracy: 0.9333\n",
      "Epoch 36/200\n",
      "14/14 [==============================] - 0s 1ms/step - loss: 0.2326 - accuracy: 0.9333\n",
      "Epoch 37/200\n",
      "14/14 [==============================] - 0s 1ms/step - loss: 0.2270 - accuracy: 0.9143\n",
      "Epoch 38/200\n",
      "14/14 [==============================] - 0s 1ms/step - loss: 0.2200 - accuracy: 0.9238\n",
      "Epoch 39/200\n",
      "14/14 [==============================] - 0s 1ms/step - loss: 0.2136 - accuracy: 0.9333\n",
      "Epoch 40/200\n",
      "14/14 [==============================] - 0s 1ms/step - loss: 0.2095 - accuracy: 0.9429\n",
      "Epoch 41/200\n",
      "14/14 [==============================] - 0s 1ms/step - loss: 0.2039 - accuracy: 0.9429\n",
      "Epoch 42/200\n",
      "14/14 [==============================] - 0s 1ms/step - loss: 0.1985 - accuracy: 0.9333\n",
      "Epoch 43/200\n",
      "14/14 [==============================] - 0s 1ms/step - loss: 0.1953 - accuracy: 0.9238\n",
      "Epoch 44/200\n",
      "14/14 [==============================] - 0s 1ms/step - loss: 0.1914 - accuracy: 0.9238\n",
      "Epoch 45/200\n",
      "14/14 [==============================] - 0s 2ms/step - loss: 0.1859 - accuracy: 0.9238\n",
      "Epoch 46/200\n",
      "14/14 [==============================] - 0s 2ms/step - loss: 0.1813 - accuracy: 0.9429\n",
      "Epoch 47/200\n",
      "14/14 [==============================] - 0s 1ms/step - loss: 0.1776 - accuracy: 0.9429\n",
      "Epoch 48/200\n",
      "14/14 [==============================] - 0s 1ms/step - loss: 0.1742 - accuracy: 0.9429\n",
      "Epoch 49/200\n",
      "14/14 [==============================] - 0s 1ms/step - loss: 0.1695 - accuracy: 0.9429\n",
      "Epoch 50/200\n",
      "14/14 [==============================] - 0s 1ms/step - loss: 0.1661 - accuracy: 0.9429\n",
      "Epoch 51/200\n",
      "14/14 [==============================] - 0s 1ms/step - loss: 0.1642 - accuracy: 0.9429\n",
      "Epoch 52/200\n",
      "14/14 [==============================] - 0s 1ms/step - loss: 0.1609 - accuracy: 0.9429\n",
      "Epoch 53/200\n",
      "14/14 [==============================] - 0s 2ms/step - loss: 0.1575 - accuracy: 0.9524\n",
      "Epoch 54/200\n",
      "14/14 [==============================] - 0s 1ms/step - loss: 0.1549 - accuracy: 0.9524\n",
      "Epoch 55/200\n",
      "14/14 [==============================] - 0s 1ms/step - loss: 0.1520 - accuracy: 0.9524\n",
      "Epoch 56/200\n",
      "14/14 [==============================] - 0s 1ms/step - loss: 0.1494 - accuracy: 0.9524\n",
      "Epoch 57/200\n",
      "14/14 [==============================] - 0s 997us/step - loss: 0.1470 - accuracy: 0.9524\n",
      "Epoch 58/200\n",
      "14/14 [==============================] - 0s 1ms/step - loss: 0.1449 - accuracy: 0.9524\n",
      "Epoch 59/200\n",
      "14/14 [==============================] - 0s 1ms/step - loss: 0.1417 - accuracy: 0.9524\n",
      "Epoch 60/200\n",
      "14/14 [==============================] - 0s 997us/step - loss: 0.1402 - accuracy: 0.9524\n",
      "Epoch 61/200\n",
      "14/14 [==============================] - 0s 1ms/step - loss: 0.1364 - accuracy: 0.9524\n",
      "Epoch 62/200\n",
      "14/14 [==============================] - 0s 1ms/step - loss: 0.1383 - accuracy: 0.9429\n",
      "Epoch 63/200\n",
      "14/14 [==============================] - 0s 1ms/step - loss: 0.1336 - accuracy: 0.9524\n",
      "Epoch 64/200\n",
      "14/14 [==============================] - 0s 1ms/step - loss: 0.1320 - accuracy: 0.9524\n",
      "Epoch 65/200\n",
      "14/14 [==============================] - 0s 997us/step - loss: 0.1294 - accuracy: 0.9524\n",
      "Epoch 66/200\n",
      "14/14 [==============================] - 0s 997us/step - loss: 0.1275 - accuracy: 0.9429\n",
      "Epoch 67/200\n",
      "14/14 [==============================] - 0s 1ms/step - loss: 0.1265 - accuracy: 0.9524\n",
      "Epoch 68/200\n",
      "14/14 [==============================] - 0s 1ms/step - loss: 0.1243 - accuracy: 0.9524\n",
      "Epoch 69/200\n",
      "14/14 [==============================] - 0s 1ms/step - loss: 0.1226 - accuracy: 0.9524\n",
      "Epoch 70/200\n",
      "14/14 [==============================] - 0s 999us/step - loss: 0.1214 - accuracy: 0.9524\n",
      "Epoch 71/200\n",
      "14/14 [==============================] - 0s 1ms/step - loss: 0.1195 - accuracy: 0.9524\n",
      "Epoch 72/200\n",
      "14/14 [==============================] - 0s 1ms/step - loss: 0.1181 - accuracy: 0.9524\n",
      "Epoch 73/200\n",
      "14/14 [==============================] - 0s 997us/step - loss: 0.1172 - accuracy: 0.9429\n",
      "Epoch 74/200\n",
      "14/14 [==============================] - 0s 997us/step - loss: 0.1151 - accuracy: 0.9524\n",
      "Epoch 75/200\n",
      "14/14 [==============================] - 0s 997us/step - loss: 0.1133 - accuracy: 0.9524\n",
      "Epoch 76/200\n",
      "14/14 [==============================] - 0s 1ms/step - loss: 0.1125 - accuracy: 0.9524\n",
      "Epoch 77/200\n",
      "14/14 [==============================] - 0s 997us/step - loss: 0.1105 - accuracy: 0.9619\n",
      "Epoch 78/200\n",
      "14/14 [==============================] - 0s 998us/step - loss: 0.1098 - accuracy: 0.9524\n",
      "Epoch 79/200\n",
      "14/14 [==============================] - 0s 1ms/step - loss: 0.1114 - accuracy: 0.9524\n",
      "Epoch 80/200\n",
      "14/14 [==============================] - 0s 1ms/step - loss: 0.1111 - accuracy: 0.9524\n",
      "Epoch 81/200\n",
      "14/14 [==============================] - 0s 1ms/step - loss: 0.1066 - accuracy: 0.9524\n"
     ]
    },
    {
     "name": "stdout",
     "output_type": "stream",
     "text": [
      "Epoch 82/200\n",
      "14/14 [==============================] - 0s 1ms/step - loss: 0.1046 - accuracy: 0.9619\n",
      "Epoch 83/200\n",
      "14/14 [==============================] - 0s 997us/step - loss: 0.1035 - accuracy: 0.9619\n",
      "Epoch 84/200\n",
      "14/14 [==============================] - 0s 997us/step - loss: 0.1037 - accuracy: 0.9429\n",
      "Epoch 85/200\n",
      "14/14 [==============================] - 0s 997us/step - loss: 0.1054 - accuracy: 0.9524\n",
      "Epoch 86/200\n",
      "14/14 [==============================] - 0s 1ms/step - loss: 0.1018 - accuracy: 0.9524\n",
      "Epoch 87/200\n",
      "14/14 [==============================] - 0s 921us/step - loss: 0.0995 - accuracy: 0.9619\n",
      "Epoch 88/200\n",
      "14/14 [==============================] - 0s 997us/step - loss: 0.0992 - accuracy: 0.9524\n",
      "Epoch 89/200\n",
      "14/14 [==============================] - 0s 997us/step - loss: 0.0979 - accuracy: 0.9714\n",
      "Epoch 90/200\n",
      "14/14 [==============================] - 0s 1ms/step - loss: 0.0979 - accuracy: 0.9524\n",
      "Epoch 91/200\n",
      "14/14 [==============================] - 0s 995us/step - loss: 0.0958 - accuracy: 0.9714\n",
      "Epoch 92/200\n",
      "14/14 [==============================] - 0s 1ms/step - loss: 0.0968 - accuracy: 0.9619\n",
      "Epoch 93/200\n",
      "14/14 [==============================] - 0s 1ms/step - loss: 0.0956 - accuracy: 0.9619\n",
      "Epoch 94/200\n",
      "14/14 [==============================] - 0s 1ms/step - loss: 0.0940 - accuracy: 0.9619\n",
      "Epoch 95/200\n",
      "14/14 [==============================] - 0s 997us/step - loss: 0.0927 - accuracy: 0.9619\n",
      "Epoch 96/200\n",
      "14/14 [==============================] - 0s 1ms/step - loss: 0.0934 - accuracy: 0.9714\n",
      "Epoch 97/200\n",
      "14/14 [==============================] - 0s 1ms/step - loss: 0.0972 - accuracy: 0.9619\n",
      "Epoch 98/200\n",
      "14/14 [==============================] - 0s 1ms/step - loss: 0.0954 - accuracy: 0.9619\n",
      "Epoch 99/200\n",
      "14/14 [==============================] - 0s 1ms/step - loss: 0.0925 - accuracy: 0.9714\n",
      "Epoch 100/200\n",
      "14/14 [==============================] - 0s 1ms/step - loss: 0.0895 - accuracy: 0.9714\n",
      "Epoch 101/200\n",
      "14/14 [==============================] - 0s 1ms/step - loss: 0.0881 - accuracy: 0.9714\n",
      "Epoch 102/200\n",
      "14/14 [==============================] - 0s 1ms/step - loss: 0.0875 - accuracy: 0.9619\n",
      "Epoch 103/200\n",
      "14/14 [==============================] - 0s 997us/step - loss: 0.0866 - accuracy: 0.9619\n",
      "Epoch 104/200\n",
      "14/14 [==============================] - 0s 1ms/step - loss: 0.0866 - accuracy: 0.9619\n",
      "Epoch 105/200\n",
      "14/14 [==============================] - 0s 1ms/step - loss: 0.0872 - accuracy: 0.9524\n",
      "Epoch 106/200\n",
      "14/14 [==============================] - 0s 3ms/step - loss: 0.0845 - accuracy: 0.9619\n",
      "Epoch 107/200\n",
      "14/14 [==============================] - 0s 1ms/step - loss: 0.0840 - accuracy: 0.9714\n",
      "Epoch 108/200\n",
      "14/14 [==============================] - 0s 997us/step - loss: 0.0870 - accuracy: 0.9714\n",
      "Epoch 109/200\n",
      "14/14 [==============================] - 0s 1ms/step - loss: 0.0877 - accuracy: 0.9714\n",
      "Epoch 110/200\n",
      "14/14 [==============================] - 0s 1ms/step - loss: 0.0835 - accuracy: 0.9714\n",
      "Epoch 111/200\n",
      "14/14 [==============================] - 0s 1ms/step - loss: 0.0823 - accuracy: 0.9619\n",
      "Epoch 112/200\n",
      "14/14 [==============================] - 0s 1ms/step - loss: 0.0820 - accuracy: 0.9619\n",
      "Epoch 113/200\n",
      "14/14 [==============================] - 0s 1ms/step - loss: 0.0809 - accuracy: 0.9619\n",
      "Epoch 114/200\n",
      "14/14 [==============================] - 0s 1ms/step - loss: 0.0807 - accuracy: 0.9619\n",
      "Epoch 115/200\n",
      "14/14 [==============================] - 0s 1ms/step - loss: 0.0797 - accuracy: 0.9619\n",
      "Epoch 116/200\n",
      "14/14 [==============================] - 0s 1ms/step - loss: 0.0799 - accuracy: 0.9619\n",
      "Epoch 117/200\n",
      "14/14 [==============================] - 0s 1ms/step - loss: 0.0784 - accuracy: 0.9714\n",
      "Epoch 118/200\n",
      "14/14 [==============================] - 0s 1ms/step - loss: 0.0788 - accuracy: 0.9714\n",
      "Epoch 119/200\n",
      "14/14 [==============================] - 0s 1ms/step - loss: 0.0782 - accuracy: 0.9619\n",
      "Epoch 120/200\n",
      "14/14 [==============================] - 0s 1ms/step - loss: 0.0772 - accuracy: 0.9619\n",
      "Epoch 121/200\n",
      "14/14 [==============================] - 0s 1ms/step - loss: 0.0773 - accuracy: 0.9714\n",
      "Epoch 122/200\n",
      "14/14 [==============================] - 0s 1ms/step - loss: 0.0765 - accuracy: 0.9714\n",
      "Epoch 123/200\n",
      "14/14 [==============================] - 0s 1ms/step - loss: 0.0771 - accuracy: 0.9619\n",
      "Epoch 124/200\n",
      "14/14 [==============================] - 0s 1ms/step - loss: 0.0759 - accuracy: 0.9619\n",
      "Epoch 125/200\n",
      "14/14 [==============================] - 0s 997us/step - loss: 0.0749 - accuracy: 0.9619\n",
      "Epoch 126/200\n",
      "14/14 [==============================] - 0s 1ms/step - loss: 0.0759 - accuracy: 0.9619\n",
      "Epoch 127/200\n",
      "14/14 [==============================] - 0s 1ms/step - loss: 0.0750 - accuracy: 0.9714\n",
      "Epoch 128/200\n",
      "14/14 [==============================] - 0s 1ms/step - loss: 0.0746 - accuracy: 0.9619\n",
      "Epoch 129/200\n",
      "14/14 [==============================] - 0s 1ms/step - loss: 0.0744 - accuracy: 0.9619\n",
      "Epoch 130/200\n",
      "14/14 [==============================] - 0s 1ms/step - loss: 0.0753 - accuracy: 0.9714\n",
      "Epoch 131/200\n",
      "14/14 [==============================] - 0s 1ms/step - loss: 0.0749 - accuracy: 0.9810\n",
      "Epoch 132/200\n",
      "14/14 [==============================] - 0s 1000us/step - loss: 0.0775 - accuracy: 0.9714\n",
      "Epoch 133/200\n",
      "14/14 [==============================] - 0s 1000us/step - loss: 0.0746 - accuracy: 0.9619\n",
      "Epoch 134/200\n",
      "14/14 [==============================] - 0s 997us/step - loss: 0.0724 - accuracy: 0.9619\n",
      "Epoch 135/200\n",
      "14/14 [==============================] - 0s 1ms/step - loss: 0.0726 - accuracy: 0.9619\n",
      "Epoch 136/200\n",
      "14/14 [==============================] - 0s 999us/step - loss: 0.0713 - accuracy: 0.9714\n",
      "Epoch 137/200\n",
      "14/14 [==============================] - 0s 997us/step - loss: 0.0709 - accuracy: 0.9619\n",
      "Epoch 138/200\n",
      "14/14 [==============================] - 0s 1000us/step - loss: 0.0709 - accuracy: 0.9714\n",
      "Epoch 139/200\n",
      "14/14 [==============================] - 0s 997us/step - loss: 0.0703 - accuracy: 0.9714\n",
      "Epoch 140/200\n",
      "14/14 [==============================] - 0s 1ms/step - loss: 0.0699 - accuracy: 0.9619\n",
      "Epoch 141/200\n",
      "14/14 [==============================] - 0s 1ms/step - loss: 0.0702 - accuracy: 0.9619\n",
      "Epoch 142/200\n",
      "14/14 [==============================] - 0s 1ms/step - loss: 0.0707 - accuracy: 0.9619\n",
      "Epoch 143/200\n",
      "14/14 [==============================] - 0s 1ms/step - loss: 0.0693 - accuracy: 0.9714\n",
      "Epoch 144/200\n",
      "14/14 [==============================] - 0s 1ms/step - loss: 0.0691 - accuracy: 0.9714\n",
      "Epoch 145/200\n",
      "14/14 [==============================] - 0s 1ms/step - loss: 0.0690 - accuracy: 0.9619\n",
      "Epoch 146/200\n",
      "14/14 [==============================] - 0s 1ms/step - loss: 0.0684 - accuracy: 0.9619\n",
      "Epoch 147/200\n",
      "14/14 [==============================] - 0s 1ms/step - loss: 0.0693 - accuracy: 0.9714\n",
      "Epoch 148/200\n",
      "14/14 [==============================] - 0s 1ms/step - loss: 0.0679 - accuracy: 0.9619\n",
      "Epoch 149/200\n",
      "14/14 [==============================] - 0s 1ms/step - loss: 0.0676 - accuracy: 0.9714\n",
      "Epoch 150/200\n",
      "14/14 [==============================] - 0s 1ms/step - loss: 0.0689 - accuracy: 0.9619\n",
      "Epoch 151/200\n",
      "14/14 [==============================] - 0s 1ms/step - loss: 0.0681 - accuracy: 0.9714\n",
      "Epoch 152/200\n",
      "14/14 [==============================] - 0s 1ms/step - loss: 0.0666 - accuracy: 0.9714\n",
      "Epoch 153/200\n",
      "14/14 [==============================] - 0s 2ms/step - loss: 0.0672 - accuracy: 0.9619\n",
      "Epoch 154/200\n",
      "14/14 [==============================] - 0s 3ms/step - loss: 0.0669 - accuracy: 0.9619\n",
      "Epoch 155/200\n",
      "14/14 [==============================] - 0s 2ms/step - loss: 0.0666 - accuracy: 0.9619\n",
      "Epoch 156/200\n",
      "14/14 [==============================] - 0s 2ms/step - loss: 0.0667 - accuracy: 0.9619\n",
      "Epoch 157/200\n",
      "14/14 [==============================] - 0s 2ms/step - loss: 0.0662 - accuracy: 0.9714\n",
      "Epoch 158/200\n",
      "14/14 [==============================] - 0s 2ms/step - loss: 0.0661 - accuracy: 0.9619\n",
      "Epoch 159/200\n",
      "14/14 [==============================] - 0s 2ms/step - loss: 0.0678 - accuracy: 0.9619\n",
      "Epoch 160/200\n",
      "14/14 [==============================] - 0s 1ms/step - loss: 0.0655 - accuracy: 0.9714\n",
      "Epoch 161/200\n",
      "14/14 [==============================] - 0s 1ms/step - loss: 0.0668 - accuracy: 0.9714\n",
      "Epoch 162/200\n"
     ]
    },
    {
     "name": "stdout",
     "output_type": "stream",
     "text": [
      "14/14 [==============================] - 0s 1ms/step - loss: 0.0645 - accuracy: 0.9619\n",
      "Epoch 163/200\n",
      "14/14 [==============================] - 0s 1ms/step - loss: 0.0653 - accuracy: 0.9714\n",
      "Epoch 164/200\n",
      "14/14 [==============================] - 0s 1ms/step - loss: 0.0658 - accuracy: 0.9619\n",
      "Epoch 165/200\n",
      "14/14 [==============================] - 0s 1ms/step - loss: 0.0648 - accuracy: 0.9619\n",
      "Epoch 166/200\n",
      "14/14 [==============================] - 0s 1ms/step - loss: 0.0643 - accuracy: 0.9810\n",
      "Epoch 167/200\n",
      "14/14 [==============================] - 0s 1ms/step - loss: 0.0683 - accuracy: 0.9714\n",
      "Epoch 168/200\n",
      "14/14 [==============================] - 0s 1ms/step - loss: 0.0649 - accuracy: 0.9714\n",
      "Epoch 169/200\n",
      "14/14 [==============================] - 0s 1ms/step - loss: 0.0636 - accuracy: 0.9714\n",
      "Epoch 170/200\n",
      "14/14 [==============================] - 0s 1ms/step - loss: 0.0635 - accuracy: 0.9619\n",
      "Epoch 171/200\n",
      "14/14 [==============================] - 0s 1ms/step - loss: 0.0638 - accuracy: 0.9714\n",
      "Epoch 172/200\n",
      "14/14 [==============================] - 0s 1ms/step - loss: 0.0633 - accuracy: 0.9714\n",
      "Epoch 173/200\n",
      "14/14 [==============================] - 0s 1ms/step - loss: 0.0627 - accuracy: 0.9714\n",
      "Epoch 174/200\n",
      "14/14 [==============================] - 0s 920us/step - loss: 0.0623 - accuracy: 0.9714\n",
      "Epoch 175/200\n",
      "14/14 [==============================] - 0s 921us/step - loss: 0.0622 - accuracy: 0.9714\n",
      "Epoch 176/200\n",
      "14/14 [==============================] - 0s 997us/step - loss: 0.0624 - accuracy: 0.9714\n",
      "Epoch 177/200\n",
      "14/14 [==============================] - 0s 997us/step - loss: 0.0642 - accuracy: 0.9714\n",
      "Epoch 178/200\n",
      "14/14 [==============================] - 0s 1ms/step - loss: 0.0636 - accuracy: 0.9714\n",
      "Epoch 179/200\n",
      "14/14 [==============================] - 0s 1ms/step - loss: 0.0620 - accuracy: 0.9714\n",
      "Epoch 180/200\n",
      "14/14 [==============================] - 0s 1ms/step - loss: 0.0614 - accuracy: 0.9714\n",
      "Epoch 181/200\n",
      "14/14 [==============================] - 0s 1ms/step - loss: 0.0640 - accuracy: 0.9714\n",
      "Epoch 182/200\n",
      "14/14 [==============================] - 0s 1ms/step - loss: 0.0630 - accuracy: 0.9714\n",
      "Epoch 183/200\n",
      "14/14 [==============================] - 0s 1ms/step - loss: 0.0615 - accuracy: 0.9714\n",
      "Epoch 184/200\n",
      "14/14 [==============================] - 0s 1ms/step - loss: 0.0628 - accuracy: 0.9714\n",
      "Epoch 185/200\n",
      "14/14 [==============================] - 0s 1ms/step - loss: 0.0609 - accuracy: 0.9714\n",
      "Epoch 186/200\n",
      "14/14 [==============================] - 0s 1ms/step - loss: 0.0614 - accuracy: 0.9619\n",
      "Epoch 187/200\n",
      "14/14 [==============================] - 0s 1ms/step - loss: 0.0603 - accuracy: 0.9714\n",
      "Epoch 188/200\n",
      "14/14 [==============================] - 0s 1ms/step - loss: 0.0611 - accuracy: 0.9714\n",
      "Epoch 189/200\n",
      "14/14 [==============================] - 0s 1ms/step - loss: 0.0607 - accuracy: 0.9714\n",
      "Epoch 190/200\n",
      "14/14 [==============================] - 0s 1ms/step - loss: 0.0601 - accuracy: 0.9714\n",
      "Epoch 191/200\n",
      "14/14 [==============================] - 0s 1ms/step - loss: 0.0595 - accuracy: 0.9714\n",
      "Epoch 192/200\n",
      "14/14 [==============================] - 0s 1ms/step - loss: 0.0596 - accuracy: 0.9714\n",
      "Epoch 193/200\n",
      "14/14 [==============================] - 0s 1ms/step - loss: 0.0599 - accuracy: 0.9714\n",
      "Epoch 194/200\n",
      "14/14 [==============================] - 0s 1ms/step - loss: 0.0609 - accuracy: 0.9714\n",
      "Epoch 195/200\n",
      "14/14 [==============================] - 0s 1ms/step - loss: 0.0697 - accuracy: 0.9714\n",
      "Epoch 196/200\n",
      "14/14 [==============================] - 0s 1ms/step - loss: 0.0708 - accuracy: 0.9714\n",
      "Epoch 197/200\n",
      "14/14 [==============================] - 0s 1ms/step - loss: 0.0626 - accuracy: 0.9619\n",
      "Epoch 198/200\n",
      "14/14 [==============================] - 0s 997us/step - loss: 0.0590 - accuracy: 0.9714\n",
      "Epoch 199/200\n",
      "14/14 [==============================] - 0s 1ms/step - loss: 0.0600 - accuracy: 0.9714\n",
      "Epoch 200/200\n",
      "14/14 [==============================] - 0s 998us/step - loss: 0.0604 - accuracy: 0.9714\n"
     ]
    },
    {
     "data": {
      "text/plain": [
       "<keras.callbacks.History at 0x23decd28f70>"
      ]
     },
     "execution_count": 51,
     "metadata": {},
     "output_type": "execute_result"
    }
   ],
   "source": [
    "class iris_model(tf.keras.Model):\n",
    "    \n",
    "    def __init__(self):\n",
    "        super(iris_model, self).__init__()\n",
    "        self._name = \"iris_DNN_model\"\n",
    "        self._input_shape = 4\n",
    "        self.D1 = layers.Dense(12, activation=\"ReLU\", name=\"D1\")\n",
    "        self.D2 = layers.Dense(8, activation=\"ReLU\", name=\"D2\")\n",
    "        self.D3 = layers.Dense(3, activation=\"Softmax\", name=\"Output\")\n",
    "        \n",
    "    def call(self, x):\n",
    "        y = self.D1(x)\n",
    "        y = self.D2(y)\n",
    "        y = self.D3(y)\n",
    "        return y\n",
    "\n",
    "model = iris_model()\n",
    "model.compile(loss=\"categorical_crossentropy\",optimizer=\"adam\", metrics=[\"accuracy\"])\n",
    "model.fit(x_train, y_train, epochs=200, batch_size=8, verbose=0)\n",
    "model.evaluate(x_test, y_test)"
   ]
  },
  {
   "cell_type": "code",
   "execution_count": 25,
   "metadata": {
    "ExecuteTime": {
     "end_time": "2022-07-04T00:45:19.137552Z",
     "start_time": "2022-07-04T00:45:19.117606Z"
    }
   },
   "outputs": [],
   "source": [
    "def iris_model():\n",
    "    x = layers.Input(shape=(4,))\n",
    "    l1 = layers.Dense(12, activation=\"ReLU\")(x)\n",
    "    l2 = layers.Dense(8, activation=\"ReLU\")(l1)\n",
    "    y = layers.Dense(3, activation=\"Softmax\")(l2)\n",
    "    model = models.Model(x, y)\n",
    "    return model"
   ]
  },
  {
   "cell_type": "markdown",
   "metadata": {
    "id": "1yqXLbEyx5QK"
   },
   "source": [
    "#### **모델 시각화**\n",
    "\n",
    "* `model.summary()`\n",
    "* `utils.plot_model()`"
   ]
  },
  {
   "cell_type": "code",
   "execution_count": 30,
   "metadata": {
    "ExecuteTime": {
     "end_time": "2022-07-04T00:47:09.512693Z",
     "start_time": "2022-07-04T00:47:09.463783Z"
    }
   },
   "outputs": [
    {
     "name": "stdout",
     "output_type": "stream",
     "text": [
      "Model: \"model_1\"\n",
      "_________________________________________________________________\n",
      " Layer (type)                Output Shape              Param #   \n",
      "=================================================================\n",
      " input_2 (InputLayer)        [(None, 4)]               0         \n",
      "                                                                 \n",
      " dense_3 (Dense)             (None, 12)                60        \n",
      "                                                                 \n",
      " dense_4 (Dense)             (None, 8)                 104       \n",
      "                                                                 \n",
      " dense_5 (Dense)             (None, 3)                 27        \n",
      "                                                                 \n",
      "=================================================================\n",
      "Total params: 191\n",
      "Trainable params: 191\n",
      "Non-trainable params: 0\n",
      "_________________________________________________________________\n"
     ]
    }
   ],
   "source": [
    "model = iris_model()\n",
    "model.summary()"
   ]
  },
  {
   "cell_type": "code",
   "execution_count": 32,
   "metadata": {
    "ExecuteTime": {
     "end_time": "2022-07-04T00:47:37.269855Z",
     "start_time": "2022-07-04T00:47:37.006140Z"
    },
    "id": "dKCT38Fsr6dF"
   },
   "outputs": [
    {
     "data": {
      "image/png": "[encoded data removed]",
      "text/plain": [
       "<IPython.core.display.Image object>"
      ]
     },
     "execution_count": 32,
     "metadata": {},
     "output_type": "execute_result"
    }
   ],
   "source": [
    "utils.plot_model(model)"
   ]
  },
  {
   "cell_type": "markdown",
   "metadata": {
    "id": "gLuvsUFmwzPa"
   },
   "source": [
    "### | 학습"
   ]
  },
  {
   "cell_type": "markdown",
   "metadata": {
    "id": "fwQboNHp3EHe"
   },
   "source": [
    "#### **모델 컴파일**\n",
    "\n",
    "```\n",
    "model.compile(loss, optimizer, metrics) \n",
    "```\n",
    "* `loss` : \n",
    "* `optimizer` : \n",
    "* `metrics`: \n"
   ]
  },
  {
   "cell_type": "code",
   "execution_count": 33,
   "metadata": {
    "ExecuteTime": {
     "end_time": "2022-07-04T00:49:03.876755Z",
     "start_time": "2022-07-04T00:49:03.590628Z"
    },
    "id": "SASPIskxgfRY"
   },
   "outputs": [],
   "source": [
    "model.compile(loss=\"categorical_crossentropy\",optimizer=\"adam\", metrics=[\"accuracy\"])"
   ]
  },
  {
   "cell_type": "markdown",
   "metadata": {
    "id": "JukUpWB4gfRY"
   },
   "source": [
    "#### **학습**\n",
    "\n",
    "```\n",
    "model.fit(x_train, y_train, epochs, batch_size)\n",
    "```\n",
    "* `x_train` : 넘파이 혹은 텐서 형식의 인풋 데이터\n",
    "* `y_train` : 넘파이 혹은 텐서 형식의 아웃풋 데이터\n",
    "* `epochs` : 학습 횟수\n",
    "* `batch_size` : 배치 사이즈 ((업데이트 한번에 사용될 샘플 개수)"
   ]
  },
  {
   "cell_type": "code",
   "execution_count": 35,
   "metadata": {
    "ExecuteTime": {
     "end_time": "2022-07-04T00:49:39.122338Z",
     "start_time": "2022-07-04T00:49:34.551297Z"
    },
    "id": "9bgbpUhogfRY"
   },
   "outputs": [
    {
     "name": "stdout",
     "output_type": "stream",
     "text": [
      "Epoch 1/200\n",
      "14/14 [==============================] - 0s 2ms/step - loss: 1.1313 - accuracy: 0.3333\n",
      "Epoch 2/200\n",
      "14/14 [==============================] - 0s 1ms/step - loss: 1.0896 - accuracy: 0.3333\n",
      "Epoch 3/200\n",
      "14/14 [==============================] - 0s 1ms/step - loss: 1.0574 - accuracy: 0.3333\n",
      "Epoch 4/200\n",
      "14/14 [==============================] - 0s 1ms/step - loss: 1.0334 - accuracy: 0.3333\n",
      "Epoch 5/200\n",
      "14/14 [==============================] - 0s 1ms/step - loss: 1.0095 - accuracy: 0.3429\n",
      "Epoch 6/200\n",
      "14/14 [==============================] - 0s 1ms/step - loss: 0.9857 - accuracy: 0.3619\n",
      "Epoch 7/200\n",
      "14/14 [==============================] - 0s 1ms/step - loss: 0.9585 - accuracy: 0.4381\n",
      "Epoch 8/200\n",
      "14/14 [==============================] - 0s 1ms/step - loss: 0.9297 - accuracy: 0.5333\n",
      "Epoch 9/200\n",
      "14/14 [==============================] - 0s 4ms/step - loss: 0.8998 - accuracy: 0.6000\n",
      "Epoch 10/200\n",
      "14/14 [==============================] - 0s 2ms/step - loss: 0.8662 - accuracy: 0.7714\n",
      "Epoch 11/200\n",
      "14/14 [==============================] - 0s 2ms/step - loss: 0.8310 - accuracy: 0.8476\n",
      "Epoch 12/200\n",
      "14/14 [==============================] - 0s 1ms/step - loss: 0.7926 - accuracy: 0.8571\n",
      "Epoch 13/200\n",
      "14/14 [==============================] - 0s 1ms/step - loss: 0.7512 - accuracy: 0.8571\n",
      "Epoch 14/200\n",
      "14/14 [==============================] - 0s 1ms/step - loss: 0.7068 - accuracy: 0.8476\n",
      "Epoch 15/200\n",
      "14/14 [==============================] - 0s 1ms/step - loss: 0.6616 - accuracy: 0.8381\n",
      "Epoch 16/200\n",
      "14/14 [==============================] - 0s 1ms/step - loss: 0.6120 - accuracy: 0.8381\n",
      "Epoch 17/200\n",
      "14/14 [==============================] - 0s 1ms/step - loss: 0.5626 - accuracy: 0.8476\n",
      "Epoch 18/200\n",
      "14/14 [==============================] - 0s 1ms/step - loss: 0.5183 - accuracy: 0.8476\n",
      "Epoch 19/200\n",
      "14/14 [==============================] - 0s 1ms/step - loss: 0.4845 - accuracy: 0.8476\n",
      "Epoch 20/200\n",
      "14/14 [==============================] - 0s 1ms/step - loss: 0.4562 - accuracy: 0.8476\n",
      "Epoch 21/200\n",
      "14/14 [==============================] - 0s 1ms/step - loss: 0.4329 - accuracy: 0.8476\n",
      "Epoch 22/200\n",
      "14/14 [==============================] - 0s 1ms/step - loss: 0.4137 - accuracy: 0.8476\n",
      "Epoch 23/200\n",
      "14/14 [==============================] - 0s 2ms/step - loss: 0.3963 - accuracy: 0.8476\n",
      "Epoch 24/200\n",
      "14/14 [==============================] - 0s 2ms/step - loss: 0.3823 - accuracy: 0.8476\n",
      "Epoch 25/200\n",
      "14/14 [==============================] - 0s 1ms/step - loss: 0.3678 - accuracy: 0.8571\n",
      "Epoch 26/200\n",
      "14/14 [==============================] - 0s 1ms/step - loss: 0.3563 - accuracy: 0.8571\n",
      "Epoch 27/200\n",
      "14/14 [==============================] - 0s 1ms/step - loss: 0.3447 - accuracy: 0.8762\n",
      "Epoch 28/200\n",
      "14/14 [==============================] - 0s 1ms/step - loss: 0.3351 - accuracy: 0.8762\n",
      "Epoch 29/200\n",
      "14/14 [==============================] - 0s 1ms/step - loss: 0.3252 - accuracy: 0.8571\n",
      "Epoch 30/200\n",
      "14/14 [==============================] - 0s 1ms/step - loss: 0.3170 - accuracy: 0.8571\n",
      "Epoch 31/200\n",
      "14/14 [==============================] - ETA: 0s - loss: 0.3558 - accuracy: 0.87 - 0s 1ms/step - loss: 0.3091 - accuracy: 0.8762\n",
      "Epoch 32/200\n",
      "14/14 [==============================] - 0s 2ms/step - loss: 0.3026 - accuracy: 0.8667\n",
      "Epoch 33/200\n",
      "14/14 [==============================] - 0s 1ms/step - loss: 0.2951 - accuracy: 0.8762\n",
      "Epoch 34/200\n",
      "14/14 [==============================] - 0s 1ms/step - loss: 0.2882 - accuracy: 0.8762\n",
      "Epoch 35/200\n",
      "14/14 [==============================] - 0s 1ms/step - loss: 0.2823 - accuracy: 0.8762\n",
      "Epoch 36/200\n",
      "14/14 [==============================] - 0s 1ms/step - loss: 0.2761 - accuracy: 0.8667\n",
      "Epoch 37/200\n",
      "14/14 [==============================] - 0s 1ms/step - loss: 0.2716 - accuracy: 0.8667\n",
      "Epoch 38/200\n",
      "14/14 [==============================] - 0s 2ms/step - loss: 0.2662 - accuracy: 0.8667\n",
      "Epoch 39/200\n",
      "14/14 [==============================] - 0s 2ms/step - loss: 0.2608 - accuracy: 0.8857\n",
      "Epoch 40/200\n",
      "14/14 [==============================] - 0s 1ms/step - loss: 0.2573 - accuracy: 0.9048\n",
      "Epoch 41/200\n",
      "14/14 [==============================] - 0s 1ms/step - loss: 0.2531 - accuracy: 0.9048\n",
      "Epoch 42/200\n",
      "14/14 [==============================] - 0s 1ms/step - loss: 0.2488 - accuracy: 0.8857\n",
      "Epoch 43/200\n",
      "14/14 [==============================] - 0s 1ms/step - loss: 0.2454 - accuracy: 0.8857\n",
      "Epoch 44/200\n",
      "14/14 [==============================] - 0s 1ms/step - loss: 0.2414 - accuracy: 0.8857\n",
      "Epoch 45/200\n",
      "14/14 [==============================] - 0s 1ms/step - loss: 0.2374 - accuracy: 0.8952\n",
      "Epoch 46/200\n",
      "14/14 [==============================] - 0s 1ms/step - loss: 0.2325 - accuracy: 0.9048\n",
      "Epoch 47/200\n",
      "14/14 [==============================] - 0s 1ms/step - loss: 0.2287 - accuracy: 0.9048\n",
      "Epoch 48/200\n",
      "14/14 [==============================] - 0s 1ms/step - loss: 0.2254 - accuracy: 0.9143\n",
      "Epoch 49/200\n",
      "14/14 [==============================] - 0s 1ms/step - loss: 0.2209 - accuracy: 0.9143\n",
      "Epoch 50/200\n",
      "14/14 [==============================] - 0s 1ms/step - loss: 0.2176 - accuracy: 0.9143\n",
      "Epoch 51/200\n",
      "14/14 [==============================] - 0s 1ms/step - loss: 0.2149 - accuracy: 0.9143\n",
      "Epoch 52/200\n",
      "14/14 [==============================] - 0s 1ms/step - loss: 0.2120 - accuracy: 0.9143\n",
      "Epoch 53/200\n",
      "14/14 [==============================] - 0s 1ms/step - loss: 0.2085 - accuracy: 0.9143\n",
      "Epoch 54/200\n",
      "14/14 [==============================] - 0s 1ms/step - loss: 0.2055 - accuracy: 0.9238\n",
      "Epoch 55/200\n",
      "14/14 [==============================] - 0s 997us/step - loss: 0.2023 - accuracy: 0.9238\n",
      "Epoch 56/200\n",
      "14/14 [==============================] - 0s 1ms/step - loss: 0.1995 - accuracy: 0.9238\n",
      "Epoch 57/200\n",
      "14/14 [==============================] - 0s 1ms/step - loss: 0.1964 - accuracy: 0.9238\n",
      "Epoch 58/200\n",
      "14/14 [==============================] - 0s 997us/step - loss: 0.1939 - accuracy: 0.9238\n",
      "Epoch 59/200\n",
      "14/14 [==============================] - 0s 997us/step - loss: 0.1904 - accuracy: 0.9238\n",
      "Epoch 60/200\n",
      "14/14 [==============================] - 0s 923us/step - loss: 0.1889 - accuracy: 0.9238\n",
      "Epoch 61/200\n",
      "14/14 [==============================] - 0s 921us/step - loss: 0.1844 - accuracy: 0.9238\n",
      "Epoch 62/200\n",
      "14/14 [==============================] - 0s 919us/step - loss: 0.1833 - accuracy: 0.9333\n",
      "Epoch 63/200\n",
      "14/14 [==============================] - 0s 997us/step - loss: 0.1795 - accuracy: 0.9333\n",
      "Epoch 64/200\n",
      "14/14 [==============================] - 0s 1000us/step - loss: 0.1775 - accuracy: 0.9333\n",
      "Epoch 65/200\n",
      "14/14 [==============================] - 0s 997us/step - loss: 0.1741 - accuracy: 0.9333\n",
      "Epoch 66/200\n",
      "14/14 [==============================] - 0s 1000us/step - loss: 0.1717 - accuracy: 0.9333\n",
      "Epoch 67/200\n",
      "14/14 [==============================] - 0s 993us/step - loss: 0.1700 - accuracy: 0.9333\n",
      "Epoch 68/200\n",
      "14/14 [==============================] - 0s 997us/step - loss: 0.1669 - accuracy: 0.9333\n",
      "Epoch 69/200\n",
      "14/14 [==============================] - 0s 1ms/step - loss: 0.1644 - accuracy: 0.9333\n",
      "Epoch 70/200\n",
      "14/14 [==============================] - 0s 997us/step - loss: 0.1627 - accuracy: 0.9333\n",
      "Epoch 71/200\n",
      "14/14 [==============================] - 0s 1ms/step - loss: 0.1598 - accuracy: 0.9333\n",
      "Epoch 72/200\n",
      "14/14 [==============================] - 0s 1ms/step - loss: 0.1578 - accuracy: 0.9429\n",
      "Epoch 73/200\n",
      "14/14 [==============================] - 0s 997us/step - loss: 0.1562 - accuracy: 0.9429\n",
      "Epoch 74/200\n",
      "14/14 [==============================] - 0s 1ms/step - loss: 0.1531 - accuracy: 0.9429\n",
      "Epoch 75/200\n",
      "14/14 [==============================] - 0s 4ms/step - loss: 0.1501 - accuracy: 0.9429\n",
      "Epoch 76/200\n",
      "14/14 [==============================] - 0s 1ms/step - loss: 0.1487 - accuracy: 0.9429\n",
      "Epoch 77/200\n",
      "14/14 [==============================] - 0s 929us/step - loss: 0.1458 - accuracy: 0.9429\n",
      "Epoch 78/200\n",
      "14/14 [==============================] - 0s 997us/step - loss: 0.1440 - accuracy: 0.9429\n",
      "Epoch 79/200\n",
      "14/14 [==============================] - 0s 997us/step - loss: 0.1427 - accuracy: 0.9524\n",
      "Epoch 80/200\n",
      "14/14 [==============================] - 0s 997us/step - loss: 0.1422 - accuracy: 0.9429\n",
      "Epoch 81/200\n",
      "14/14 [==============================] - 0s 997us/step - loss: 0.1392 - accuracy: 0.9524\n",
      "Epoch 82/200\n"
     ]
    },
    {
     "name": "stdout",
     "output_type": "stream",
     "text": [
      "14/14 [==============================] - 0s 997us/step - loss: 0.1364 - accuracy: 0.9524\n",
      "Epoch 83/200\n",
      "14/14 [==============================] - 0s 997us/step - loss: 0.1346 - accuracy: 0.9524\n",
      "Epoch 84/200\n",
      "14/14 [==============================] - 0s 923us/step - loss: 0.1333 - accuracy: 0.9524\n",
      "Epoch 85/200\n",
      "14/14 [==============================] - 0s 995us/step - loss: 0.1334 - accuracy: 0.9429\n",
      "Epoch 86/200\n",
      "14/14 [==============================] - 0s 1ms/step - loss: 0.1308 - accuracy: 0.9429\n",
      "Epoch 87/200\n",
      "14/14 [==============================] - 0s 1ms/step - loss: 0.1281 - accuracy: 0.9524\n",
      "Epoch 88/200\n",
      "14/14 [==============================] - 0s 1ms/step - loss: 0.1268 - accuracy: 0.9524\n",
      "Epoch 89/200\n",
      "14/14 [==============================] - 0s 997us/step - loss: 0.1250 - accuracy: 0.9524\n",
      "Epoch 90/200\n",
      "14/14 [==============================] - 0s 997us/step - loss: 0.1240 - accuracy: 0.9524\n",
      "Epoch 91/200\n",
      "14/14 [==============================] - 0s 920us/step - loss: 0.1220 - accuracy: 0.9524\n",
      "Epoch 92/200\n",
      "14/14 [==============================] - 0s 997us/step - loss: 0.1221 - accuracy: 0.9524\n",
      "Epoch 93/200\n",
      "14/14 [==============================] - 0s 997us/step - loss: 0.1203 - accuracy: 0.9524\n",
      "Epoch 94/200\n",
      "14/14 [==============================] - 0s 997us/step - loss: 0.1189 - accuracy: 0.9524\n",
      "Epoch 95/200\n",
      "14/14 [==============================] - 0s 1ms/step - loss: 0.1170 - accuracy: 0.9524\n",
      "Epoch 96/200\n",
      "14/14 [==============================] - 0s 1ms/step - loss: 0.1160 - accuracy: 0.9619\n",
      "Epoch 97/200\n",
      "14/14 [==============================] - 0s 1ms/step - loss: 0.1197 - accuracy: 0.9524\n",
      "Epoch 98/200\n",
      "14/14 [==============================] - 0s 1ms/step - loss: 0.1187 - accuracy: 0.9619\n",
      "Epoch 99/200\n",
      "14/14 [==============================] - 0s 997us/step - loss: 0.1151 - accuracy: 0.9524\n",
      "Epoch 100/200\n",
      "14/14 [==============================] - 0s 997us/step - loss: 0.1108 - accuracy: 0.9429\n",
      "Epoch 101/200\n",
      "14/14 [==============================] - 0s 997us/step - loss: 0.1096 - accuracy: 0.9524\n",
      "Epoch 102/200\n",
      "14/14 [==============================] - 0s 997us/step - loss: 0.1088 - accuracy: 0.9524\n",
      "Epoch 103/200\n",
      "14/14 [==============================] - 0s 1ms/step - loss: 0.1078 - accuracy: 0.9429\n",
      "Epoch 104/200\n",
      "14/14 [==============================] - 0s 1ms/step - loss: 0.1072 - accuracy: 0.9429\n",
      "Epoch 105/200\n",
      "14/14 [==============================] - 0s 997us/step - loss: 0.1074 - accuracy: 0.9524\n",
      "Epoch 106/200\n",
      "14/14 [==============================] - 0s 997us/step - loss: 0.1041 - accuracy: 0.9619\n",
      "Epoch 107/200\n",
      "14/14 [==============================] - 0s 1ms/step - loss: 0.1033 - accuracy: 0.9429\n",
      "Epoch 108/200\n",
      "14/14 [==============================] - 0s 997us/step - loss: 0.1068 - accuracy: 0.9619\n",
      "Epoch 109/200\n",
      "14/14 [==============================] - 0s 997us/step - loss: 0.1081 - accuracy: 0.9619\n",
      "Epoch 110/200\n",
      "14/14 [==============================] - 0s 994us/step - loss: 0.1031 - accuracy: 0.9619\n",
      "Epoch 111/200\n",
      "14/14 [==============================] - 0s 998us/step - loss: 0.1003 - accuracy: 0.9619\n",
      "Epoch 112/200\n",
      "14/14 [==============================] - 0s 995us/step - loss: 0.0993 - accuracy: 0.9619\n",
      "Epoch 113/200\n",
      "14/14 [==============================] - 0s 1ms/step - loss: 0.0985 - accuracy: 0.9619\n",
      "Epoch 114/200\n",
      "14/14 [==============================] - 0s 997us/step - loss: 0.0982 - accuracy: 0.9619\n",
      "Epoch 115/200\n",
      "14/14 [==============================] - 0s 1ms/step - loss: 0.0969 - accuracy: 0.9619\n",
      "Epoch 116/200\n",
      "14/14 [==============================] - 0s 1ms/step - loss: 0.0979 - accuracy: 0.9524\n",
      "Epoch 117/200\n",
      "14/14 [==============================] - 0s 1ms/step - loss: 0.0962 - accuracy: 0.9619\n",
      "Epoch 118/200\n",
      "14/14 [==============================] - 0s 1ms/step - loss: 0.0958 - accuracy: 0.9619\n",
      "Epoch 119/200\n",
      "14/14 [==============================] - 0s 1ms/step - loss: 0.0949 - accuracy: 0.9619\n",
      "Epoch 120/200\n",
      "14/14 [==============================] - 0s 1ms/step - loss: 0.0937 - accuracy: 0.9524\n",
      "Epoch 121/200\n",
      "14/14 [==============================] - 0s 1ms/step - loss: 0.0936 - accuracy: 0.9524\n",
      "Epoch 122/200\n",
      "14/14 [==============================] - 0s 1ms/step - loss: 0.0926 - accuracy: 0.9524\n",
      "Epoch 123/200\n",
      "14/14 [==============================] - 0s 1ms/step - loss: 0.0928 - accuracy: 0.9714\n",
      "Epoch 124/200\n",
      "14/14 [==============================] - 0s 1ms/step - loss: 0.0918 - accuracy: 0.9619\n",
      "Epoch 125/200\n",
      "14/14 [==============================] - 0s 997us/step - loss: 0.0906 - accuracy: 0.9714\n",
      "Epoch 126/200\n",
      "14/14 [==============================] - 0s 1ms/step - loss: 0.0912 - accuracy: 0.9524\n",
      "Epoch 127/200\n",
      "14/14 [==============================] - 0s 1ms/step - loss: 0.0898 - accuracy: 0.9524\n",
      "Epoch 128/200\n",
      "14/14 [==============================] - 0s 997us/step - loss: 0.0895 - accuracy: 0.9524\n",
      "Epoch 129/200\n",
      "14/14 [==============================] - 0s 1ms/step - loss: 0.0892 - accuracy: 0.9619\n",
      "Epoch 130/200\n",
      "14/14 [==============================] - 0s 1ms/step - loss: 0.0897 - accuracy: 0.9619\n",
      "Epoch 131/200\n",
      "14/14 [==============================] - 0s 1ms/step - loss: 0.0881 - accuracy: 0.9524\n",
      "Epoch 132/200\n",
      "14/14 [==============================] - 0s 1ms/step - loss: 0.0915 - accuracy: 0.9524\n",
      "Epoch 133/200\n",
      "14/14 [==============================] - 0s 1ms/step - loss: 0.0892 - accuracy: 0.9524\n",
      "Epoch 134/200\n",
      "14/14 [==============================] - 0s 2ms/step - loss: 0.0865 - accuracy: 0.9619\n",
      "Epoch 135/200\n",
      "14/14 [==============================] - 0s 1ms/step - loss: 0.0864 - accuracy: 0.9619\n",
      "Epoch 136/200\n",
      "14/14 [==============================] - 0s 1ms/step - loss: 0.0853 - accuracy: 0.9714\n",
      "Epoch 137/200\n",
      "14/14 [==============================] - 0s 1ms/step - loss: 0.0845 - accuracy: 0.9619\n",
      "Epoch 138/200\n",
      "14/14 [==============================] - 0s 1ms/step - loss: 0.0846 - accuracy: 0.9714\n",
      "Epoch 139/200\n",
      "14/14 [==============================] - 0s 1ms/step - loss: 0.0841 - accuracy: 0.9714\n",
      "Epoch 140/200\n",
      "14/14 [==============================] - 0s 1ms/step - loss: 0.0840 - accuracy: 0.9714\n",
      "Epoch 141/200\n",
      "14/14 [==============================] - 0s 1ms/step - loss: 0.0842 - accuracy: 0.9714\n",
      "Epoch 142/200\n",
      "14/14 [==============================] - 0s 2ms/step - loss: 0.0839 - accuracy: 0.9524\n",
      "Epoch 143/200\n",
      "14/14 [==============================] - 0s 994us/step - loss: 0.0828 - accuracy: 0.9714\n",
      "Epoch 144/200\n",
      "14/14 [==============================] - 0s 1ms/step - loss: 0.0820 - accuracy: 0.9714\n",
      "Epoch 145/200\n",
      "14/14 [==============================] - 0s 1ms/step - loss: 0.0817 - accuracy: 0.9714\n",
      "Epoch 146/200\n",
      "14/14 [==============================] - 0s 1ms/step - loss: 0.0812 - accuracy: 0.9714\n",
      "Epoch 147/200\n",
      "14/14 [==============================] - 0s 1ms/step - loss: 0.0816 - accuracy: 0.9714\n",
      "Epoch 148/200\n",
      "14/14 [==============================] - 0s 1ms/step - loss: 0.0807 - accuracy: 0.9714\n",
      "Epoch 149/200\n",
      "14/14 [==============================] - 0s 997us/step - loss: 0.0801 - accuracy: 0.9714\n",
      "Epoch 150/200\n",
      "14/14 [==============================] - 0s 921us/step - loss: 0.0808 - accuracy: 0.9619\n",
      "Epoch 151/200\n",
      "14/14 [==============================] - 0s 920us/step - loss: 0.0801 - accuracy: 0.9714\n",
      "Epoch 152/200\n",
      "14/14 [==============================] - 0s 998us/step - loss: 0.0789 - accuracy: 0.9714\n",
      "Epoch 153/200\n",
      "14/14 [==============================] - 0s 924us/step - loss: 0.0791 - accuracy: 0.9619\n",
      "Epoch 154/200\n",
      "14/14 [==============================] - 0s 1ms/step - loss: 0.0789 - accuracy: 0.9619\n",
      "Epoch 155/200\n",
      "14/14 [==============================] - 0s 924us/step - loss: 0.0786 - accuracy: 0.9619\n",
      "Epoch 156/200\n",
      "14/14 [==============================] - 0s 923us/step - loss: 0.0781 - accuracy: 0.9619\n",
      "Epoch 157/200\n",
      "14/14 [==============================] - 0s 1ms/step - loss: 0.0778 - accuracy: 0.9714\n",
      "Epoch 158/200\n",
      "14/14 [==============================] - 0s 1ms/step - loss: 0.0778 - accuracy: 0.9619\n",
      "Epoch 159/200\n",
      "14/14 [==============================] - 0s 997us/step - loss: 0.0791 - accuracy: 0.9619\n",
      "Epoch 160/200\n",
      "14/14 [==============================] - 0s 1ms/step - loss: 0.0768 - accuracy: 0.9619\n",
      "Epoch 161/200\n",
      "14/14 [==============================] - 0s 997us/step - loss: 0.0779 - accuracy: 0.9714\n",
      "Epoch 162/200\n"
     ]
    },
    {
     "name": "stdout",
     "output_type": "stream",
     "text": [
      "14/14 [==============================] - 0s 1ms/step - loss: 0.0759 - accuracy: 0.9619\n",
      "Epoch 163/200\n",
      "14/14 [==============================] - 0s 997us/step - loss: 0.0761 - accuracy: 0.9619\n",
      "Epoch 164/200\n",
      "14/14 [==============================] - 0s 945us/step - loss: 0.0766 - accuracy: 0.9619\n",
      "Epoch 165/200\n",
      "14/14 [==============================] - 0s 1ms/step - loss: 0.0759 - accuracy: 0.9619\n",
      "Epoch 166/200\n",
      "14/14 [==============================] - 0s 997us/step - loss: 0.0756 - accuracy: 0.9714\n",
      "Epoch 167/200\n",
      "14/14 [==============================] - 0s 1ms/step - loss: 0.0782 - accuracy: 0.9714\n",
      "Epoch 168/200\n",
      "14/14 [==============================] - 0s 997us/step - loss: 0.0759 - accuracy: 0.9714\n",
      "Epoch 169/200\n",
      "14/14 [==============================] - 0s 997us/step - loss: 0.0747 - accuracy: 0.9714\n",
      "Epoch 170/200\n",
      "14/14 [==============================] - 0s 1ms/step - loss: 0.0743 - accuracy: 0.9619\n",
      "Epoch 171/200\n",
      "14/14 [==============================] - 0s 1ms/step - loss: 0.0743 - accuracy: 0.9619\n",
      "Epoch 172/200\n",
      "14/14 [==============================] - 0s 1ms/step - loss: 0.0739 - accuracy: 0.9619\n",
      "Epoch 173/200\n",
      "14/14 [==============================] - 0s 1ms/step - loss: 0.0734 - accuracy: 0.9714\n",
      "Epoch 174/200\n",
      "14/14 [==============================] - 0s 1ms/step - loss: 0.0729 - accuracy: 0.9714\n",
      "Epoch 175/200\n",
      "14/14 [==============================] - 0s 1ms/step - loss: 0.0729 - accuracy: 0.9714\n",
      "Epoch 176/200\n",
      "14/14 [==============================] - 0s 1ms/step - loss: 0.0726 - accuracy: 0.9714\n",
      "Epoch 177/200\n",
      "14/14 [==============================] - 0s 1ms/step - loss: 0.0734 - accuracy: 0.9714\n",
      "Epoch 178/200\n",
      "14/14 [==============================] - 0s 1ms/step - loss: 0.0725 - accuracy: 0.9714\n",
      "Epoch 179/200\n",
      "14/14 [==============================] - 0s 1ms/step - loss: 0.0718 - accuracy: 0.9619\n",
      "Epoch 180/200\n",
      "14/14 [==============================] - 0s 1ms/step - loss: 0.0718 - accuracy: 0.9619\n",
      "Epoch 181/200\n",
      "14/14 [==============================] - 0s 1ms/step - loss: 0.0741 - accuracy: 0.9714\n",
      "Epoch 182/200\n",
      "14/14 [==============================] - 0s 1000us/step - loss: 0.0727 - accuracy: 0.9714\n",
      "Epoch 183/200\n",
      "14/14 [==============================] - 0s 997us/step - loss: 0.0713 - accuracy: 0.9619\n",
      "Epoch 184/200\n",
      "14/14 [==============================] - 0s 1ms/step - loss: 0.0723 - accuracy: 0.9714\n",
      "Epoch 185/200\n",
      "14/14 [==============================] - 0s 997us/step - loss: 0.0707 - accuracy: 0.9714\n",
      "Epoch 186/200\n",
      "14/14 [==============================] - 0s 994us/step - loss: 0.0712 - accuracy: 0.9619\n",
      "Epoch 187/200\n",
      "14/14 [==============================] - 0s 997us/step - loss: 0.0701 - accuracy: 0.9619\n",
      "Epoch 188/200\n",
      "14/14 [==============================] - 0s 997us/step - loss: 0.0709 - accuracy: 0.9714\n",
      "Epoch 189/200\n",
      "14/14 [==============================] - 0s 1ms/step - loss: 0.0706 - accuracy: 0.9714\n",
      "Epoch 190/200\n",
      "14/14 [==============================] - 0s 1ms/step - loss: 0.0698 - accuracy: 0.9714\n",
      "Epoch 191/200\n",
      "14/14 [==============================] - 0s 997us/step - loss: 0.0694 - accuracy: 0.9714\n",
      "Epoch 192/200\n",
      "14/14 [==============================] - 0s 1ms/step - loss: 0.0693 - accuracy: 0.9714\n",
      "Epoch 193/200\n",
      "14/14 [==============================] - 0s 1ms/step - loss: 0.0694 - accuracy: 0.9714\n",
      "Epoch 194/200\n",
      "14/14 [==============================] - 0s 1ms/step - loss: 0.0703 - accuracy: 0.9714\n",
      "Epoch 195/200\n",
      "14/14 [==============================] - 0s 1ms/step - loss: 0.0768 - accuracy: 0.9619\n",
      "Epoch 196/200\n",
      "14/14 [==============================] - 0s 1ms/step - loss: 0.0766 - accuracy: 0.9524\n",
      "Epoch 197/200\n",
      "14/14 [==============================] - 0s 1ms/step - loss: 0.0717 - accuracy: 0.9619\n",
      "Epoch 198/200\n",
      "14/14 [==============================] - 0s 2ms/step - loss: 0.0688 - accuracy: 0.9714\n",
      "Epoch 199/200\n",
      "14/14 [==============================] - 0s 1ms/step - loss: 0.0688 - accuracy: 0.9714\n",
      "Epoch 200/200\n",
      "14/14 [==============================] - 0s 1ms/step - loss: 0.0698 - accuracy: 0.9714\n"
     ]
    },
    {
     "data": {
      "text/plain": [
       "<keras.callbacks.History at 0x23de8cb9ac0>"
      ]
     },
     "execution_count": 35,
     "metadata": {},
     "output_type": "execute_result"
    }
   ],
   "source": [
    "model.fit(x_train, y_train, epochs=200, batch_size=8)"
   ]
  },
  {
   "cell_type": "markdown",
   "metadata": {
    "id": "DyFOnqyNw5_q"
   },
   "source": [
    "### | 검증 및 예측\n"
   ]
  },
  {
   "cell_type": "markdown",
   "metadata": {
    "id": "qlalKZ-a04c3"
   },
   "source": [
    "#### **검증**\n",
    "\n",
    "```\n",
    "model.evaluate(x_test, y_test)\n",
    "```\n",
    "* `x_test` : 넘파이 혹은 텐서 형식의 인풋 테스트 데이터\n",
    "* `y_test` : 넘파이 혹은 텐서 형식의 아웃풋 테스트 데이터"
   ]
  },
  {
   "cell_type": "code",
   "execution_count": 36,
   "metadata": {
    "ExecuteTime": {
     "end_time": "2022-07-04T00:49:48.468688Z",
     "start_time": "2022-07-04T00:49:48.271355Z"
    },
    "id": "uHGyMlf60zng"
   },
   "outputs": [
    {
     "name": "stdout",
     "output_type": "stream",
     "text": [
      "2/2 [==============================] - 0s 2ms/step - loss: 0.0612 - accuracy: 0.9778\n"
     ]
    },
    {
     "data": {
      "text/plain": [
       "[0.0612109936773777, 0.9777777791023254]"
      ]
     },
     "execution_count": 36,
     "metadata": {},
     "output_type": "execute_result"
    }
   ],
   "source": [
    "model.evaluate(x_test, y_test)"
   ]
  },
  {
   "cell_type": "markdown",
   "metadata": {
    "id": "BITPUIOj07Uv"
   },
   "source": [
    "#### **예측**\n",
    "\n",
    "```\n",
    "model.predict(x_test)\n",
    "```\n",
    "* `x_test` : 넘파이 혹은 텐서 형식의 인풋 테스트 데이터\n",
    "* `y_test` : 넘파이 혹은 텐서 형식의 아웃풋 테스트 데이터"
   ]
  },
  {
   "cell_type": "code",
   "execution_count": 41,
   "metadata": {
    "ExecuteTime": {
     "end_time": "2022-07-04T00:51:53.671398Z",
     "start_time": "2022-07-04T00:51:53.610559Z"
    },
    "id": "KfDHL4PRv8YD"
   },
   "outputs": [],
   "source": [
    "predict_y = np.argmax(model.predict(x_test), axis=1)"
   ]
  },
  {
   "cell_type": "code",
   "execution_count": 44,
   "metadata": {
    "ExecuteTime": {
     "end_time": "2022-07-04T00:52:15.112218Z",
     "start_time": "2022-07-04T00:52:15.093269Z"
    }
   },
   "outputs": [],
   "source": [
    "real_y = np.argmax(y_test, axis=1)"
   ]
  },
  {
   "cell_type": "markdown",
   "metadata": {
    "id": "gThN4RCR0_HI"
   },
   "source": [
    "* 예측 시각화"
   ]
  },
  {
   "cell_type": "code",
   "execution_count": 45,
   "metadata": {
    "ExecuteTime": {
     "end_time": "2022-07-04T00:52:39.944549Z",
     "start_time": "2022-07-04T00:52:39.758022Z"
    },
    "id": "TG533VyLwDaK"
   },
   "outputs": [
    {
     "name": "stdout",
     "output_type": "stream",
     "text": [
      "[[15  0  0]\n",
      " [ 0 15  0]\n",
      " [ 0  1 14]]\n"
     ]
    },
    {
     "data": {
      "image/png": "[encoded data removed]",
      "text/plain": [
       "<Figure size 432x288 with 2 Axes>"
      ]
     },
     "metadata": {
      "needs_background": "light"
     },
     "output_type": "display_data"
    }
   ],
   "source": [
    "# 혼돈행렬 만들기\n",
    "from sklearn.metrics import confusion_matrix, ConfusionMatrixDisplay\n",
    "\n",
    "# confusion_matrix는 정수값이 들어가야함\n",
    "cm = confusion_matrix(real_y,predict_y)\n",
    "print(cm)\n",
    "ConfusionMatrixDisplay(cm).plot(cmap=\"Blues\");"
   ]
  },
  {
   "cell_type": "markdown",
   "metadata": {
    "id": "ZFrRTgcyipYg"
   },
   "source": [
    "## 과제\n",
    "---"
   ]
  },
  {
   "cell_type": "markdown",
   "metadata": {},
   "source": [
    "### 로스 정리\n",
    "    - BinaryCrossentropy : 1 / 0 이진분류\n",
    "    - CategoricalCrossentropy: 다중 분류\n",
    "    - SparseCategoricalCrossentropy: 다중 분류 (열 1개)"
   ]
  },
  {
   "cell_type": "markdown",
   "metadata": {
    "id": "xjnJSLgXK_Pp"
   },
   "source": [
    "### | 과제1. 이진분류 / 다중분류 문제 정리\n",
    "\n",
    "- 이진분류\n",
    "    * 예측값의 범위 : 0~1\n",
    "    * 예측값의 shape : (input 개수, 1)\n",
    "    * 아웃풋 레이어의 노드 개수 : 1개\n",
    "    * 아웃풋 레이어의 activation : sigmoid\n",
    "    * 손실함수 (loss) : binary_crossentropy\n",
    "    * 평가함수 (metrics) : accuracy\n",
    "\n",
    "- 다중분류\n",
    "    * 예측값의 범위 : 0~1\n",
    "    * 예측값의 shape : (input 개수, class 개수)\n",
    "    * 아웃풋 레이어의 노드 개수 : class 개수\n",
    "    * 아웃풋 레이어의 activation : softmax\n",
    "    * 손실함수 (loss) : Categorical_crossentropy, Sparse_Categorical_Crossentropy\n",
    "    * 평가함수 (metrics) : accuracy"
   ]
  },
  {
   "cell_type": "markdown",
   "metadata": {
    "id": "ZvFAB78P1B_Q"
   },
   "source": [
    "### | 과제2. 한 셀에 코드 정리하기\n",
    "\n",
    "* 추가 연습\n",
    "  * 모델의 깊이(depth)를 늘려가며 학습해 보세요.\n",
    "  * 모델의 너비(width)를 늘려가며 학습해 보세요."
   ]
  },
  {
   "cell_type": "code",
   "execution_count": null,
   "metadata": {
    "id": "v5WYSd9a1Cz4"
   },
   "outputs": [],
   "source": []
  },
  {
   "cell_type": "markdown",
   "metadata": {
    "id": "2K0mAdPzjOAf"
   },
   "source": [
    "### | 과제 3. MNIST 숫자 데이터 분류\n",
    "\n",
    "```\n",
    "mnist = tf.keras.datasets.mnist\n",
    "(x_train, y_train), (x_test, y_test) = mnist.load_data()\n",
    "print(x_train.shape, y_train.shape, x_test.shape, y_test.shape)\n",
    "```"
   ]
  },
  {
   "cell_type": "code",
   "execution_count": 58,
   "metadata": {
    "ExecuteTime": {
     "end_time": "2022-07-04T01:10:08.634480Z",
     "start_time": "2022-07-04T01:10:08.203661Z"
    },
    "id": "aMfhH4ojun0G"
   },
   "outputs": [
    {
     "name": "stdout",
     "output_type": "stream",
     "text": [
      "(60000, 28, 28) (60000,) (10000, 28, 28) (10000,)\n"
     ]
    }
   ],
   "source": [
    "mnist = tf.keras.datasets.mnist\n",
    "(x_train, y_train), (x_test, y_test) = mnist.load_data()\n",
    "x_train = x_train/255\n",
    "x_test = x_test/255\n",
    "print(x_train.shape, y_train.shape, x_test.shape, y_test.shape)"
   ]
  },
  {
   "cell_type": "markdown",
   "metadata": {
    "id": "EOskN_eSMJNL"
   },
   "source": [
    "* 데이터 시각화"
   ]
  },
  {
   "cell_type": "code",
   "execution_count": 61,
   "metadata": {
    "ExecuteTime": {
     "end_time": "2022-07-04T01:11:57.093155Z",
     "start_time": "2022-07-04T01:11:56.178805Z"
    },
    "id": "oYaA4aLuv7F4"
   },
   "outputs": [
    {
     "data": {
      "image/png": "[encoded data removed]",
      "text/plain": [
       "<Figure size 432x288 with 15 Axes>"
      ]
     },
     "metadata": {
      "needs_background": "light"
     },
     "output_type": "display_data"
    }
   ],
   "source": [
    "for i in range(15): \n",
    "    plt.subplot(3,5,i+1)\n",
    "    plt.imshow(x_train[i], cmap=\"gray\")"
   ]
  },
  {
   "cell_type": "markdown",
   "metadata": {
    "id": "po1mICbWv48p"
   },
   "source": [
    "### | 모델\n",
    "\n",
    "\n",
    "<p align='center'>\n",
    "<img src=https://github.com/yebiny/SkillTreePython-DeepLearning/blob/main/imgs/ch0105-03.PNG?raw=true width=500>\n",
    "</p>\n"
   ]
  },
  {
   "cell_type": "markdown",
   "metadata": {
    "id": "C_gpuC1Ev48p"
   },
   "source": [
    "#### **모델 생성**"
   ]
  },
  {
   "cell_type": "code",
   "execution_count": 75,
   "metadata": {
    "ExecuteTime": {
     "end_time": "2022-07-04T01:22:19.345036Z",
     "start_time": "2022-07-04T01:22:19.330077Z"
    },
    "id": "bDFZF-9Jv48q"
   },
   "outputs": [],
   "source": [
    "from tensorflow.keras import models, layers, utils\n",
    "\n",
    "def build_mnistmodel():\n",
    "    x = layers.Input(shape=(28,28), name=\"input\")\n",
    "    y = layers.Flatten(name=\"flatten\")(x)\n",
    "    y = layers.Dense(256, activation=\"relu\", name=\"D1\")(y)\n",
    "    y = layers.Dense(256, activation=\"relu\", name=\"D2\")(y)\n",
    "    y = layers.Dense(10, activation=\"Softmax\", name=\"output\")(y)\n",
    "    model = models.Model(x, y)\n",
    "    return model"
   ]
  },
  {
   "cell_type": "markdown",
   "metadata": {
    "id": "nopDIQEiv48q"
   },
   "source": [
    "#### **모델 시각화**\n",
    "\n",
    "* `model.summary()`\n",
    "* `utils.plot_model()`"
   ]
  },
  {
   "cell_type": "code",
   "execution_count": 76,
   "metadata": {
    "ExecuteTime": {
     "end_time": "2022-07-04T01:22:20.546211Z",
     "start_time": "2022-07-04T01:22:20.481385Z"
    },
    "id": "rXzVjMLpv48q"
   },
   "outputs": [
    {
     "name": "stdout",
     "output_type": "stream",
     "text": [
      "Model: \"model_5\"\n",
      "_________________________________________________________________\n",
      " Layer (type)                Output Shape              Param #   \n",
      "=================================================================\n",
      " input (InputLayer)          [(None, 28, 28)]          0         \n",
      "                                                                 \n",
      " flatten (Flatten)           (None, 784)               0         \n",
      "                                                                 \n",
      " D1 (Dense)                  (None, 256)               200960    \n",
      "                                                                 \n",
      " D2 (Dense)                  (None, 256)               65792     \n",
      "                                                                 \n",
      " output (Dense)              (None, 10)                2570      \n",
      "                                                                 \n",
      "=================================================================\n",
      "Total params: 269,322\n",
      "Trainable params: 269,322\n",
      "Non-trainable params: 0\n",
      "_________________________________________________________________\n"
     ]
    }
   ],
   "source": [
    "model = build_mnistmodel()\n",
    "model.summary()"
   ]
  },
  {
   "cell_type": "code",
   "execution_count": 77,
   "metadata": {
    "ExecuteTime": {
     "end_time": "2022-07-04T01:22:25.507569Z",
     "start_time": "2022-07-04T01:22:25.185400Z"
    }
   },
   "outputs": [
    {
     "data": {
      "image/png": "[encoded data removed]",
      "text/plain": [
       "<IPython.core.display.Image object>"
      ]
     },
     "execution_count": 77,
     "metadata": {},
     "output_type": "execute_result"
    }
   ],
   "source": [
    "utils.plot_model(model, show_shapes=True, show_layer_names=True)"
   ]
  },
  {
   "cell_type": "markdown",
   "metadata": {
    "id": "mwtIo0te0dvn"
   },
   "source": [
    "### | 학습"
   ]
  },
  {
   "cell_type": "markdown",
   "metadata": {
    "id": "BEN3BQFF0dvt"
   },
   "source": [
    "#### **모델 컴파일**\n",
    "\n",
    "```\n",
    "model.compile(loss, optimizer, metrics) \n",
    "```"
   ]
  },
  {
   "cell_type": "code",
   "execution_count": 78,
   "metadata": {
    "ExecuteTime": {
     "end_time": "2022-07-04T01:22:30.643385Z",
     "start_time": "2022-07-04T01:22:30.618414Z"
    },
    "id": "RhuM6-_f0dvt"
   },
   "outputs": [],
   "source": [
    "model.compile(loss=\"sparse_categorical_crossentropy\",optimizer=\"adam\", metrics=[\"accuracy\"])"
   ]
  },
  {
   "cell_type": "markdown",
   "metadata": {
    "id": "weF5ryop0dvt"
   },
   "source": [
    "#### **학습**\n",
    "\n",
    "```\n",
    "model.fit(x_train, y_train, epochs, batch_size)\n",
    "```\n",
    "* `x_train` : 넘파이 혹은 텐서 형식의 인풋 데이터\n",
    "* `y_train` : 넘파이 혹은 텐서 형식의 아웃풋 데이터\n",
    "* `epochs` : 학습 횟수\n",
    "* `batch_size` : 배치 사이즈 ((업데이트 한번에 사용될 샘플 개수)"
   ]
  },
  {
   "cell_type": "code",
   "execution_count": 81,
   "metadata": {
    "ExecuteTime": {
     "end_time": "2022-07-04T01:28:06.693375Z",
     "start_time": "2022-07-04T01:26:06.430137Z"
    },
    "id": "URyV2ICw0dvt"
   },
   "outputs": [
    {
     "data": {
      "application/vnd.jupyter.widget-view+json": {
       "model_id": "a5e747642b61476c9bf6b84a10d3db16",
       "version_major": 2,
       "version_minor": 0
      },
      "text/plain": [
       "Training:   0%|                                                                                0/50 ETA: ?s,  …"
      ]
     },
     "metadata": {},
     "output_type": "display_data"
    },
    {
     "data": {
      "text/plain": [
       "<keras.callbacks.History at 0x23dfb105910>"
      ]
     },
     "execution_count": 81,
     "metadata": {},
     "output_type": "execute_result"
    }
   ],
   "source": [
    "import tqdm\n",
    "import tensorflow_addons as tfa\n",
    "tqdm_callback = tfa.callbacks.TQDMProgressBar(show_epoch_progress=False)\n",
    "\n",
    "model.fit(x_train, y_train, epochs=50, batch_size=64, verbose=0, callbacks=[tqdm_callback])"
   ]
  },
  {
   "cell_type": "markdown",
   "metadata": {
    "id": "4UIAL_HA0dvt"
   },
   "source": [
    "### | 검증 및 예측\n"
   ]
  },
  {
   "cell_type": "markdown",
   "metadata": {
    "id": "JNcvTwyU0dvt"
   },
   "source": [
    "#### **검증**\n",
    "\n",
    "```\n",
    "model.evaluate(x_test, y_test)\n",
    "```\n",
    "* `x_test` : 넘파이 혹은 텐서 형식의 인풋 테스트 데이터\n",
    "* `y_test` : 넘파이 혹은 텐서 형식의 아웃풋 테스트 데이터"
   ]
  },
  {
   "cell_type": "code",
   "execution_count": 82,
   "metadata": {
    "ExecuteTime": {
     "end_time": "2022-07-04T01:28:24.467281Z",
     "start_time": "2022-07-04T01:28:23.555343Z"
    },
    "id": "blrfzkKN0dvu"
   },
   "outputs": [
    {
     "name": "stdout",
     "output_type": "stream",
     "text": [
      "313/313 [==============================] - 1s 2ms/step - loss: 0.1687 - accuracy: 0.9820\n"
     ]
    },
    {
     "data": {
      "text/plain": [
       "[0.16870781779289246, 0.9819999933242798]"
      ]
     },
     "execution_count": 82,
     "metadata": {},
     "output_type": "execute_result"
    }
   ],
   "source": [
    "model.evaluate(x_test, y_test)"
   ]
  },
  {
   "cell_type": "markdown",
   "metadata": {
    "id": "4IHDLt-D0dvu"
   },
   "source": [
    "#### **예측**\n",
    "\n",
    "```\n",
    "model.predict(x_test)\n",
    "```\n",
    "* `x_test` : 넘파이 혹은 텐서 형식의 인풋 테스트 데이터\n",
    "* `y_test` : 넘파이 혹은 텐서 형식의 아웃풋 테스트 데이터"
   ]
  },
  {
   "cell_type": "code",
   "execution_count": 87,
   "metadata": {
    "ExecuteTime": {
     "end_time": "2022-07-04T01:29:38.244734Z",
     "start_time": "2022-07-04T01:29:37.872881Z"
    },
    "id": "P2lPLl970dvu"
   },
   "outputs": [],
   "source": [
    "y_pred = np.argmax(model.predict(x_test), axis=1)"
   ]
  },
  {
   "cell_type": "markdown",
   "metadata": {
    "id": "xyDfuLj-0dvu"
   },
   "source": [
    "* 예측 시각화"
   ]
  },
  {
   "cell_type": "code",
   "execution_count": 95,
   "metadata": {
    "ExecuteTime": {
     "end_time": "2022-07-04T01:31:03.150119Z",
     "start_time": "2022-07-04T01:31:02.617229Z"
    },
    "id": "GrBlEHxm0dvu"
   },
   "outputs": [
    {
     "data": {
      "text/plain": [
       "<Figure size 576x576 with 0 Axes>"
      ]
     },
     "metadata": {},
     "output_type": "display_data"
    },
    {
     "data": {
      "image/png": "[encoded data removed]",
      "text/plain": [
       "<Figure size 432x288 with 2 Axes>"
      ]
     },
     "metadata": {
      "needs_background": "light"
     },
     "output_type": "display_data"
    }
   ],
   "source": [
    "# 혼돈행렬 만들기\n",
    "from sklearn.metrics import confusion_matrix, ConfusionMatrixDisplay\n",
    "\n",
    "# confusion_matrix는 정수값이 들어가야함\n",
    "cm = confusion_matrix(y_test,y_pred)\n",
    "ConfusionMatrixDisplay(cm).plot(cmap=\"Blues\");"
   ]
  },
  {
   "cell_type": "markdown",
   "metadata": {
    "id": "4-APLR7G2Dep"
   },
   "source": [
    "* 모델 활용"
   ]
  },
  {
   "cell_type": "code",
   "execution_count": null,
   "metadata": {
    "id": "3e_9LSrE0wbl"
   },
   "outputs": [],
   "source": []
  },
  {
   "cell_type": "code",
   "execution_count": null,
   "metadata": {
    "id": "sCp8tPhh2G14"
   },
   "outputs": [],
   "source": []
  }
 ],
 "metadata": {
  "accelerator": "GPU",
  "colab": {
   "collapsed_sections": [],
   "machine_shape": "hm",
   "name": "ch01_05_DNN기초-다중분류모델.ipynb",
   "provenance": []
  },
  "gpuClass": "standard",
  "kernelspec": {
   "display_name": "Python 3 (ipykernel)",
   "language": "python",
   "name": "python3"
  },
  "language_info": {
   "codemirror_mode": {
    "name": "ipython",
    "version": 3
   },
   "file_extension": ".py",
   "mimetype": "text/x-python",
   "name": "python",
   "nbconvert_exporter": "python",
   "pygments_lexer": "ipython3",
   "version": "3.8.13"
  },
  "toc": {
   "base_numbering": 1,
   "nav_menu": {},
   "number_sections": true,
   "sideBar": true,
   "skip_h1_title": false,
   "title_cell": "Table of Contents",
   "title_sidebar": "Contents",
   "toc_cell": false,
   "toc_position": {},
   "toc_section_display": true,
   "toc_window_display": false
  }
 },
 "nbformat": 4,
 "nbformat_minor": 1
}
