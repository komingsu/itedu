{
  "nbformat": 4,
  "nbformat_minor": 0,
  "metadata": {
    "colab": {
      "name": "ch01_10_이미지넷모델구현-ResNet.ipynb",
      "provenance": [],
      "collapsed_sections": []
    },
    "kernelspec": {
      "name": "python3",
      "display_name": "Python 3"
    },
    "language_info": {
      "name": "python"
    }
  },
  "cells": [
    {
      "cell_type": "markdown",
      "source": [
        "# ch01.10 이미지넷 모델구현 - ResNet\n",
        "---\n",
        "\n",
        "* 날짜:\n",
        "* 이름:\n",
        "\n",
        "## 학습내용\n",
        "    - ResNet 모델 특징에 대해 이해한다.\n",
        "    - ResNet 모델을 텐서플로우를 이용해 구현한다. \n"
      ],
      "metadata": {
        "id": "sWs2kEC1_b-P"
      }
    },
    {
      "cell_type": "markdown",
      "source": [
        "## 소개\n",
        "---"
      ],
      "metadata": {
        "id": "IZH_UYRO1giG"
      }
    },
    {
      "cell_type": "code",
      "source": [
        ""
      ],
      "metadata": {
        "id": "7vXrksNr0m1v"
      },
      "execution_count": null,
      "outputs": []
    },
    {
      "cell_type": "markdown",
      "source": [
        "## 구현\n",
        "---"
      ],
      "metadata": {
        "id": "Hlu1ch6g1i5G"
      }
    },
    {
      "cell_type": "code",
      "source": [
        ""
      ],
      "metadata": {
        "id": "LcTZNT--1i5H"
      },
      "execution_count": null,
      "outputs": []
    }
  ]
}