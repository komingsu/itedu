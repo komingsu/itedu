{
 "cells": [
  {
   "cell_type": "markdown",
   "metadata": {
    "id": "sWs2kEC1_b-P"
   },
   "source": [
    "# ch01.03 DNN기초-회귀 모델\n",
    "\n",
    "---\n",
    "* 날짜:\n",
    "* 이름:\n",
    "\n",
    "## 학습내용\n",
    "    - 딥러닝을 이용한 회귀 모델 구현\n",
    "    - 적절한 손실함수와 최적화 함수 정의\n",
    "    - 평가 및 예측\n",
    "\n",
    "## 학습자료\n",
    "\n",
    "* 모두의딥러닝 15장\n",
    "* 데이터\n",
    "  * 보스턴 집값 (boston houosing)\n",
    "  * 캘리포티아 집값 (california housing) \n",
    "\n",
    "```\n",
    "import numpy as np\n",
    "import pandas as pd\n",
    "import tensorflow as tf\n",
    "import matplotlib.pyplot as plt\n",
    "import seaborn as sns\n",
    "seed=1\n",
    "np.random.seed(seed)\n",
    "tf.random.set_seed(seed)\n",
    "```\n",
    "\n",
    "```\n",
    "https://github.com/yebiny/SkillTreePython-DeepLearning.git\n",
    "```"
   ]
  },
  {
   "cell_type": "code",
   "execution_count": 2,
   "metadata": {
    "ExecuteTime": {
     "end_time": "2022-06-28T02:38:58.107328Z",
     "start_time": "2022-06-28T02:38:50.128715Z"
    },
    "id": "7vXrksNr0m1v"
   },
   "outputs": [],
   "source": [
    "import numpy as np\n",
    "import pandas as pd\n",
    "import tensorflow as tf\n",
    "import matplotlib.pyplot as plt\n",
    "import seaborn as sns\n",
    "seed=1\n",
    "np.random.seed(seed)\n",
    "tf.random.set_seed(seed)"
   ]
  },
  {
   "cell_type": "markdown",
   "metadata": {
    "id": "KOmt3w8_rVe2"
   },
   "source": [
    "## 보스턴 집값 (boston houosing) 예측하기\n",
    "---\n",
    "\n",
    "> 1978년 집값에 가장 큰 영향을 미치는 것이 '깨끗한 공기' 라는 연구 겨로가가 하버드 대학교 도시개발학과에서 발표되었습니다. 이들은 자신의 주장을 뒷받침하기 위해 집값의 변동에 영향을 미치는 여러가지 요인을 모아서 환경과 집값의 변동을 보여주는 데이터셋을 만들었습니다. [ 모두의 딥러닝 중]\n",
    "\n",
    "\n",
    "```\n",
    "- 0 CRIM: 인구 1인당 범죄 발생 수\n",
    "- 1 ZN: 25,000평방 피트 이상의 주거 구역 비중\n",
    "- 2 INDUS: 소매업 외 상업이 차지하는 면적 비율\n",
    "- 3 CHAS: 찰스강 위치 변수(1:강 주변, 0: 이외)\n",
    "- 4 NOX: 일산화질소 농도\n",
    "- 5 RM: 집의 평균 방 수\n",
    "- 6 AGE: 1940년 이전에 지어진 비율\n",
    "- 7 DIS: 5가지 보스턴 시 고용 시설까지의 거리\n",
    "- 8 RAD: 순환고속도로의 접근 용이성\n",
    "- 9 TAX: 10,000달러당 부동산 세율 총계\n",
    "- 10 PTRATIO: 지역별 학생과 교사 비율\n",
    "- 11 B: 지역별 흑인비율\n",
    "- 12 LSTAT: 급여가 낮은 직업에 종사하는 인구 비율\n",
    "- 13 가격 (단위 $1,000)\n",
    "```\n",
    "\n",
    "<p align='center'>\n",
    "<img src=https://github.com/yebiny/SkillTreePython-DeepLearning/blob/main/imgs/ch0103-02.PNG?raw=true\n",
    " width=450>\n",
    "</p>"
   ]
  },
  {
   "cell_type": "markdown",
   "metadata": {
    "id": "TmgkVAdIfngb"
   },
   "source": [
    "### | 데이터 준비"
   ]
  },
  {
   "cell_type": "markdown",
   "metadata": {
    "id": "23GhZQAhrD22"
   },
   "source": [
    "#### **데이터 로드**\n",
    "* `housing.csv`"
   ]
  },
  {
   "cell_type": "code",
   "execution_count": 16,
   "metadata": {
    "ExecuteTime": {
     "end_time": "2022-06-28T01:57:40.793900Z",
     "start_time": "2022-06-28T01:57:40.749654Z"
    },
    "colab": {
     "base_uri": "https://localhost:8080/",
     "height": 224
    },
    "id": "68PCrczmzdId",
    "outputId": "2651bb2e-1924-46f8-80fd-1747c37ca476",
    "scrolled": true
   },
   "outputs": [
    {
     "name": "stdout",
     "output_type": "stream",
     "text": [
      "(506, 14)\n"
     ]
    },
    {
     "data": {
      "text/html": [
       "<div>\n",
       "<style scoped>\n",
       "    .dataframe tbody tr th:only-of-type {\n",
       "        vertical-align: middle;\n",
       "    }\n",
       "\n",
       "    .dataframe tbody tr th {\n",
       "        vertical-align: top;\n",
       "    }\n",
       "\n",
       "    .dataframe thead th {\n",
       "        text-align: right;\n",
       "    }\n",
       "</style>\n",
       "<table border=\"1\" class=\"dataframe\">\n",
       "  <thead>\n",
       "    <tr style=\"text-align: right;\">\n",
       "      <th></th>\n",
       "      <th>0</th>\n",
       "      <th>1</th>\n",
       "      <th>2</th>\n",
       "      <th>3</th>\n",
       "      <th>4</th>\n",
       "      <th>5</th>\n",
       "      <th>6</th>\n",
       "      <th>7</th>\n",
       "      <th>8</th>\n",
       "      <th>9</th>\n",
       "      <th>10</th>\n",
       "      <th>11</th>\n",
       "      <th>12</th>\n",
       "      <th>13</th>\n",
       "    </tr>\n",
       "  </thead>\n",
       "  <tbody>\n",
       "    <tr>\n",
       "      <th>0</th>\n",
       "      <td>0.00632</td>\n",
       "      <td>18.0</td>\n",
       "      <td>2.31</td>\n",
       "      <td>0</td>\n",
       "      <td>0.538</td>\n",
       "      <td>6.575</td>\n",
       "      <td>65.2</td>\n",
       "      <td>4.0900</td>\n",
       "      <td>1</td>\n",
       "      <td>296.0</td>\n",
       "      <td>15.3</td>\n",
       "      <td>396.90</td>\n",
       "      <td>4.98</td>\n",
       "      <td>24.0</td>\n",
       "    </tr>\n",
       "    <tr>\n",
       "      <th>1</th>\n",
       "      <td>0.02731</td>\n",
       "      <td>0.0</td>\n",
       "      <td>7.07</td>\n",
       "      <td>0</td>\n",
       "      <td>0.469</td>\n",
       "      <td>6.421</td>\n",
       "      <td>78.9</td>\n",
       "      <td>4.9671</td>\n",
       "      <td>2</td>\n",
       "      <td>242.0</td>\n",
       "      <td>17.8</td>\n",
       "      <td>396.90</td>\n",
       "      <td>9.14</td>\n",
       "      <td>21.6</td>\n",
       "    </tr>\n",
       "    <tr>\n",
       "      <th>2</th>\n",
       "      <td>0.02729</td>\n",
       "      <td>0.0</td>\n",
       "      <td>7.07</td>\n",
       "      <td>0</td>\n",
       "      <td>0.469</td>\n",
       "      <td>7.185</td>\n",
       "      <td>61.1</td>\n",
       "      <td>4.9671</td>\n",
       "      <td>2</td>\n",
       "      <td>242.0</td>\n",
       "      <td>17.8</td>\n",
       "      <td>392.83</td>\n",
       "      <td>4.03</td>\n",
       "      <td>34.7</td>\n",
       "    </tr>\n",
       "    <tr>\n",
       "      <th>3</th>\n",
       "      <td>0.03237</td>\n",
       "      <td>0.0</td>\n",
       "      <td>2.18</td>\n",
       "      <td>0</td>\n",
       "      <td>0.458</td>\n",
       "      <td>6.998</td>\n",
       "      <td>45.8</td>\n",
       "      <td>6.0622</td>\n",
       "      <td>3</td>\n",
       "      <td>222.0</td>\n",
       "      <td>18.7</td>\n",
       "      <td>394.63</td>\n",
       "      <td>2.94</td>\n",
       "      <td>33.4</td>\n",
       "    </tr>\n",
       "    <tr>\n",
       "      <th>4</th>\n",
       "      <td>0.06905</td>\n",
       "      <td>0.0</td>\n",
       "      <td>2.18</td>\n",
       "      <td>0</td>\n",
       "      <td>0.458</td>\n",
       "      <td>7.147</td>\n",
       "      <td>54.2</td>\n",
       "      <td>6.0622</td>\n",
       "      <td>3</td>\n",
       "      <td>222.0</td>\n",
       "      <td>18.7</td>\n",
       "      <td>396.90</td>\n",
       "      <td>5.33</td>\n",
       "      <td>36.2</td>\n",
       "    </tr>\n",
       "  </tbody>\n",
       "</table>\n",
       "</div>"
      ],
      "text/plain": [
       "        0     1     2   3      4      5     6       7   8      9     10  \\\n",
       "0  0.00632  18.0  2.31   0  0.538  6.575  65.2  4.0900   1  296.0  15.3   \n",
       "1  0.02731   0.0  7.07   0  0.469  6.421  78.9  4.9671   2  242.0  17.8   \n",
       "2  0.02729   0.0  7.07   0  0.469  7.185  61.1  4.9671   2  242.0  17.8   \n",
       "3  0.03237   0.0  2.18   0  0.458  6.998  45.8  6.0622   3  222.0  18.7   \n",
       "4  0.06905   0.0  2.18   0  0.458  7.147  54.2  6.0622   3  222.0  18.7   \n",
       "\n",
       "       11    12    13  \n",
       "0  396.90  4.98  24.0  \n",
       "1  396.90  9.14  21.6  \n",
       "2  392.83  4.03  34.7  \n",
       "3  394.63  2.94  33.4  \n",
       "4  396.90  5.33  36.2  "
      ]
     },
     "execution_count": 16,
     "metadata": {},
     "output_type": "execute_result"
    }
   ],
   "source": [
    "data_path = '../../dataset/preprocessed/housing.csv'\n",
    "df = pd.read_csv(data_path,\n",
    "                 header=None, # 첫번째 행이 데이터(컬럼이 없음)\n",
    "                 delim_whitespace=True # 스페이스바 기준으로 데이터가 나뉨\n",
    "                 )\n",
    "print(df.shape)\n",
    "# 샘플 수 : 506개\n",
    "# 인풋 : 13, 타겟 : 1 = 총 14개 속성 \n",
    "df.head()"
   ]
  },
  {
   "cell_type": "markdown",
   "metadata": {
    "id": "794TIO4Rfru5"
   },
   "source": [
    "#### **데이터 전처리**"
   ]
  },
  {
   "cell_type": "code",
   "execution_count": 3,
   "metadata": {
    "ExecuteTime": {
     "end_time": "2022-06-28T01:46:44.327314Z",
     "start_time": "2022-06-28T01:46:43.855292Z"
    },
    "colab": {
     "base_uri": "https://localhost:8080/"
    },
    "id": "D1U-aFW96391",
    "outputId": "6ef99a89-0d8e-4b39-d2c0-49c3e5564709"
   },
   "outputs": [
    {
     "name": "stdout",
     "output_type": "stream",
     "text": [
      "(404, 13) (102, 13) (404,) (102,)\n",
      "[-0.40254357  0.58526684 -0.87644514 -0.27259857 -0.87847549 -0.19893134\n",
      " -1.400194    1.91086857 -0.17812039 -0.7378796   0.57539459  0.37285362\n",
      " -0.81203559] 0.0834994244520286\n"
     ]
    }
   ],
   "source": [
    "from sklearn.preprocessing import StandardScaler\n",
    "from sklearn.model_selection import train_test_split\n",
    "\n",
    "\n",
    "def path2data_housing(path, seed=1):\n",
    "    # 데이터 적절히 불러오기\n",
    "    df = pd.read_csv(\n",
    "        data_path,\n",
    "        header=None,  # 첫번째 행이 데이터(컬럼이 없음)\n",
    "        delim_whitespace=True  # 스페이스바 기준으로 데이터가 나뉨\n",
    "    )\n",
    "    # 정규화 (x의 모든속성, y)\n",
    "    scaler = StandardScaler()\n",
    "    df = scaler.fit_transform(df)\n",
    "\n",
    "    # x-y 분할\n",
    "    x = df[:, :-1]  # 모든행(샘플), 0부터12까지 열(속성)\n",
    "    y = df[:, -1]  # 모든행(샘플), 13번째 열(속성)\n",
    "\n",
    "    # train-test 데이터 분할\n",
    "    x_train, x_test, y_train, y_test = train_test_split(x,\n",
    "                                                        y,\n",
    "                                                        test_size=0.2,\n",
    "                                                        random_state=seed)\n",
    "    return x_train, x_test, y_train, y_test\n",
    "\n",
    "\n",
    "data_path = '../../dataset/preprocessed/housing.csv'\n",
    "x_train, x_test, y_train, y_test = path2data_housing(data_path)\n",
    "print(x_train.shape, x_test.shape, y_train.shape, y_test.shape)\n",
    "print(x_train[1], y_train[1])"
   ]
  },
  {
   "cell_type": "markdown",
   "metadata": {
    "id": "Y548LRfsrYV9"
   },
   "source": [
    "* 예측값 분포 확인"
   ]
  },
  {
   "cell_type": "code",
   "execution_count": 6,
   "metadata": {
    "ExecuteTime": {
     "end_time": "2022-06-28T01:47:52.588262Z",
     "start_time": "2022-06-28T01:47:52.297498Z"
    },
    "colab": {
     "base_uri": "https://localhost:8080/",
     "height": 299
    },
    "id": "6VCNr946fcA5",
    "outputId": "85060e25-212c-456b-c716-64f9f46aa6e8"
   },
   "outputs": [
    {
     "data": {
      "text/plain": [
       "Text(0.5, 1.0, 'testset')"
      ]
     },
     "execution_count": 6,
     "metadata": {},
     "output_type": "execute_result"
    },
    {
     "data": {
      "image/png": "[encoded data removed]",
      "text/plain": [
       "<Figure size 432x288 with 2 Axes>"
      ]
     },
     "metadata": {
      "needs_background": "light"
     },
     "output_type": "display_data"
    }
   ],
   "source": [
    "plt.subplot(121);sns.histplot(x=y_train);plt.title('trainset')\n",
    "plt.subplot(122);sns.histplot(x=y_test);plt.title('testset')"
   ]
  },
  {
   "cell_type": "markdown",
   "metadata": {
    "id": "DHshtWB9r0be"
   },
   "source": [
    "### | 모델\n",
    "\n",
    "\n",
    "<p align='center'>\n",
    "<img src=https://github.com/yebiny/SkillTreePython-DeepLearning/blob/main/imgs/ch0103-01.PNG?raw=true width=600>\n",
    "</p>"
   ]
  },
  {
   "cell_type": "markdown",
   "metadata": {
    "id": "J94jFpWyr2k9"
   },
   "source": [
    "#### **모델 생성**"
   ]
  },
  {
   "cell_type": "code",
   "execution_count": 7,
   "metadata": {
    "ExecuteTime": {
     "end_time": "2022-06-28T01:48:14.717446Z",
     "start_time": "2022-06-28T01:48:14.693462Z"
    },
    "id": "5BZG1z90rsGc"
   },
   "outputs": [],
   "source": [
    "from tensorflow.keras import models, layers, utils\n",
    "\n",
    "\n",
    "def build_model():\n",
    "    x = layers.Input(shape=(13, ))  # 데이터가 주어지면 인풋의 shape는 고정\n",
    "    z = layers.Dense(15, activation='relu')(x)\n",
    "    z = layers.Dense(6, activation='relu')(z)\n",
    "    y = layers.Dense(1)(z)  # 데이터가 주어지면 아웃풋의  shape는 고정\n",
    "    #( 회귀문제는 마지막 아웃풋 shape가 1, 마지막 활성화함수는 사용하지 않음 )\n",
    "    model = models.Model(x, y, name='house_regressor')\n",
    "    return model"
   ]
  },
  {
   "cell_type": "markdown",
   "metadata": {
    "id": "1yqXLbEyx5QK"
   },
   "source": [
    "#### **모델 시각화**\n",
    "\n",
    "* `model.summary()`\n",
    "* `utils.plot_model()`"
   ]
  },
  {
   "cell_type": "code",
   "execution_count": 8,
   "metadata": {
    "ExecuteTime": {
     "end_time": "2022-06-28T01:48:19.019495Z",
     "start_time": "2022-06-28T01:48:17.037411Z"
    },
    "colab": {
     "base_uri": "https://localhost:8080/",
     "height": 733
    },
    "id": "dKCT38Fsr6dF",
    "outputId": "1ab3ee45-c3c1-4f31-d1aa-cfc80fb6863c"
   },
   "outputs": [
    {
     "name": "stdout",
     "output_type": "stream",
     "text": [
      "Model: \"house_regressor\"\n",
      "_________________________________________________________________\n",
      " Layer (type)                Output Shape              Param #   \n",
      "=================================================================\n",
      " input_1 (InputLayer)        [(None, 13)]              0         \n",
      "                                                                 \n",
      " dense (Dense)               (None, 15)                210       \n",
      "                                                                 \n",
      " dense_1 (Dense)             (None, 6)                 96        \n",
      "                                                                 \n",
      " dense_2 (Dense)             (None, 1)                 7         \n",
      "                                                                 \n",
      "=================================================================\n",
      "Total params: 313\n",
      "Trainable params: 313\n",
      "Non-trainable params: 0\n",
      "_________________________________________________________________\n"
     ]
    },
    {
     "data": {
      "image/png": "[encoded data removed]",
      "text/plain": [
       "<IPython.core.display.Image object>"
      ]
     },
     "execution_count": 8,
     "metadata": {},
     "output_type": "execute_result"
    }
   ],
   "source": [
    "model = build_model()\n",
    "model.summary()\n",
    "utils.plot_model(model, show_shapes=True)"
   ]
  },
  {
   "cell_type": "markdown",
   "metadata": {
    "id": "gLuvsUFmwzPa"
   },
   "source": [
    "### | 학습"
   ]
  },
  {
   "cell_type": "markdown",
   "metadata": {
    "id": "fwQboNHp3EHe"
   },
   "source": [
    "#### **모델 컴파일**\n",
    "\n",
    "```\n",
    "model.compile(loss, optimizer) \n",
    "```\n",
    "* `loss` : 회귀문제, mse(mean squared error)\n",
    "* `optimizer` : adam, 경사하강법(gradient descent) 기반의 더 성능 향상된 함수 "
   ]
  },
  {
   "cell_type": "code",
   "execution_count": 9,
   "metadata": {
    "ExecuteTime": {
     "end_time": "2022-06-28T01:49:51.353308Z",
     "start_time": "2022-06-28T01:49:51.329360Z"
    },
    "id": "oZsx_wHcsQRk"
   },
   "outputs": [],
   "source": [
    "model.compile(loss='mean_squared_error', optimizer='adam')"
   ]
  },
  {
   "cell_type": "markdown",
   "metadata": {
    "id": "_d8jc6rx3FUn"
   },
   "source": [
    "#### **학습**\n",
    "\n",
    "```\n",
    "model.fit(x_train, y_train, epochs, batch_size)\n",
    "```\n",
    "* `x_train` : 넘파이 혹은 텐서 형식의 인풋 데이터\n",
    "* `y_train` : 넘파이 혹은 텐서 형식의 아웃풋 데이터\n",
    "* `epochs` : 학습 횟수\n",
    "* `batch_size` : 배치 사이즈 ((업데이트 한번에 사용될 샘플 개수)"
   ]
  },
  {
   "cell_type": "code",
   "execution_count": 10,
   "metadata": {
    "ExecuteTime": {
     "end_time": "2022-06-28T01:50:03.692919Z",
     "start_time": "2022-06-28T01:49:54.311256Z"
    },
    "id": "WxZ052VJ3FpG",
    "scrolled": true
   },
   "outputs": [
    {
     "name": "stdout",
     "output_type": "stream",
     "text": [
      "Epoch 1/200\n",
      "26/26 [==============================] - 1s 2ms/step - loss: 1.7436\n",
      "Epoch 2/200\n",
      "26/26 [==============================] - 0s 1ms/step - loss: 1.1973\n",
      "Epoch 3/200\n",
      "26/26 [==============================] - 0s 1ms/step - loss: 0.9305\n",
      "Epoch 4/200\n",
      "26/26 [==============================] - 0s 2ms/step - loss: 0.7989\n",
      "Epoch 5/200\n",
      "26/26 [==============================] - 0s 2ms/step - loss: 0.7246\n",
      "Epoch 6/200\n",
      "26/26 [==============================] - 0s 2ms/step - loss: 0.6689\n",
      "Epoch 7/200\n",
      "26/26 [==============================] - 0s 2ms/step - loss: 0.6237\n",
      "Epoch 8/200\n",
      "26/26 [==============================] - 0s 2ms/step - loss: 0.5849\n",
      "Epoch 9/200\n",
      "26/26 [==============================] - 0s 2ms/step - loss: 0.5470\n",
      "Epoch 10/200\n",
      "26/26 [==============================] - 0s 1ms/step - loss: 0.5129\n",
      "Epoch 11/200\n",
      "26/26 [==============================] - 0s 2ms/step - loss: 0.4822\n",
      "Epoch 12/200\n",
      "26/26 [==============================] - 0s 2ms/step - loss: 0.4546\n",
      "Epoch 13/200\n",
      "26/26 [==============================] - 0s 2ms/step - loss: 0.4247\n",
      "Epoch 14/200\n",
      "26/26 [==============================] - 0s 2ms/step - loss: 0.3994\n",
      "Epoch 15/200\n",
      "26/26 [==============================] - 0s 2ms/step - loss: 0.3758\n",
      "Epoch 16/200\n",
      "26/26 [==============================] - 0s 1ms/step - loss: 0.3532\n",
      "Epoch 17/200\n",
      "26/26 [==============================] - 0s 2ms/step - loss: 0.3397\n",
      "Epoch 18/200\n",
      "26/26 [==============================] - 0s 2ms/step - loss: 0.3199\n",
      "Epoch 19/200\n",
      "26/26 [==============================] - 0s 2ms/step - loss: 0.3044\n",
      "Epoch 20/200\n",
      "26/26 [==============================] - 0s 2ms/step - loss: 0.2892\n",
      "Epoch 21/200\n",
      "26/26 [==============================] - 0s 2ms/step - loss: 0.2767\n",
      "Epoch 22/200\n",
      "26/26 [==============================] - 0s 2ms/step - loss: 0.2617\n",
      "Epoch 23/200\n",
      "26/26 [==============================] - 0s 1ms/step - loss: 0.2498\n",
      "Epoch 24/200\n",
      "26/26 [==============================] - 0s 2ms/step - loss: 0.2389\n",
      "Epoch 25/200\n",
      "26/26 [==============================] - 0s 2ms/step - loss: 0.2299\n",
      "Epoch 26/200\n",
      "26/26 [==============================] - 0s 1ms/step - loss: 0.2197\n",
      "Epoch 27/200\n",
      "26/26 [==============================] - 0s 2ms/step - loss: 0.2114\n",
      "Epoch 28/200\n",
      "26/26 [==============================] - 0s 2ms/step - loss: 0.2040\n",
      "Epoch 29/200\n",
      "26/26 [==============================] - 0s 2ms/step - loss: 0.1964\n",
      "Epoch 30/200\n",
      "26/26 [==============================] - 0s 1ms/step - loss: 0.1900\n",
      "Epoch 31/200\n",
      "26/26 [==============================] - 0s 2ms/step - loss: 0.1826\n",
      "Epoch 32/200\n",
      "26/26 [==============================] - 0s 2ms/step - loss: 0.1736\n",
      "Epoch 33/200\n",
      "26/26 [==============================] - 0s 2ms/step - loss: 0.1680\n",
      "Epoch 34/200\n",
      "26/26 [==============================] - 0s 2ms/step - loss: 0.1628\n",
      "Epoch 35/200\n",
      "26/26 [==============================] - 0s 2ms/step - loss: 0.1587\n",
      "Epoch 36/200\n",
      "26/26 [==============================] - 0s 2ms/step - loss: 0.1556\n",
      "Epoch 37/200\n",
      "26/26 [==============================] - 0s 1ms/step - loss: 0.1533\n",
      "Epoch 38/200\n",
      "26/26 [==============================] - 0s 2ms/step - loss: 0.1500\n",
      "Epoch 39/200\n",
      "26/26 [==============================] - 0s 1ms/step - loss: 0.1476\n",
      "Epoch 40/200\n",
      "26/26 [==============================] - 0s 2ms/step - loss: 0.1472\n",
      "Epoch 41/200\n",
      "26/26 [==============================] - 0s 2ms/step - loss: 0.1437\n",
      "Epoch 42/200\n",
      "26/26 [==============================] - 0s 1ms/step - loss: 0.1405\n",
      "Epoch 43/200\n",
      "26/26 [==============================] - 0s 2ms/step - loss: 0.1385\n",
      "Epoch 44/200\n",
      "26/26 [==============================] - 0s 2ms/step - loss: 0.1380\n",
      "Epoch 45/200\n",
      "26/26 [==============================] - 0s 2ms/step - loss: 0.1353\n",
      "Epoch 46/200\n",
      "26/26 [==============================] - 0s 2ms/step - loss: 0.1324\n",
      "Epoch 47/200\n",
      "26/26 [==============================] - 0s 1ms/step - loss: 0.1304\n",
      "Epoch 48/200\n",
      "26/26 [==============================] - 0s 1ms/step - loss: 0.1291\n",
      "Epoch 49/200\n",
      "26/26 [==============================] - 0s 1ms/step - loss: 0.1281\n",
      "Epoch 50/200\n",
      "26/26 [==============================] - 0s 2ms/step - loss: 0.1274\n",
      "Epoch 51/200\n",
      "26/26 [==============================] - 0s 2ms/step - loss: 0.1247\n",
      "Epoch 52/200\n",
      "26/26 [==============================] - 0s 2ms/step - loss: 0.1230\n",
      "Epoch 53/200\n",
      "26/26 [==============================] - 0s 2ms/step - loss: 0.1218\n",
      "Epoch 54/200\n",
      "26/26 [==============================] - 0s 1ms/step - loss: 0.1215\n",
      "Epoch 55/200\n",
      "26/26 [==============================] - 0s 1ms/step - loss: 0.1192\n",
      "Epoch 56/200\n",
      "26/26 [==============================] - 0s 1ms/step - loss: 0.1189\n",
      "Epoch 57/200\n",
      "26/26 [==============================] - 0s 2ms/step - loss: 0.1178\n",
      "Epoch 58/200\n",
      "26/26 [==============================] - 0s 1ms/step - loss: 0.1162\n",
      "Epoch 59/200\n",
      "26/26 [==============================] - 0s 2ms/step - loss: 0.1147\n",
      "Epoch 60/200\n",
      "26/26 [==============================] - 0s 2ms/step - loss: 0.1147\n",
      "Epoch 61/200\n",
      "26/26 [==============================] - 0s 2ms/step - loss: 0.1141\n",
      "Epoch 62/200\n",
      "26/26 [==============================] - 0s 1ms/step - loss: 0.1118\n",
      "Epoch 63/200\n",
      "26/26 [==============================] - 0s 2ms/step - loss: 0.1119\n",
      "Epoch 64/200\n",
      "26/26 [==============================] - 0s 1ms/step - loss: 0.1113\n",
      "Epoch 65/200\n",
      "26/26 [==============================] - 0s 2ms/step - loss: 0.1095\n",
      "Epoch 66/200\n",
      "26/26 [==============================] - 0s 1ms/step - loss: 0.1115\n",
      "Epoch 67/200\n",
      "26/26 [==============================] - 0s 2ms/step - loss: 0.1092\n",
      "Epoch 68/200\n",
      "26/26 [==============================] - 0s 1ms/step - loss: 0.1060\n",
      "Epoch 69/200\n",
      "26/26 [==============================] - 0s 3ms/step - loss: 0.1056\n",
      "Epoch 70/200\n",
      "26/26 [==============================] - 0s 1ms/step - loss: 0.1042\n",
      "Epoch 71/200\n",
      "26/26 [==============================] - 0s 1ms/step - loss: 0.1040\n",
      "Epoch 72/200\n",
      "26/26 [==============================] - 0s 1ms/step - loss: 0.1024\n",
      "Epoch 73/200\n",
      "26/26 [==============================] - 0s 1ms/step - loss: 0.1016\n",
      "Epoch 74/200\n",
      "26/26 [==============================] - 0s 1ms/step - loss: 0.1008\n",
      "Epoch 75/200\n",
      "26/26 [==============================] - 0s 1ms/step - loss: 0.1006\n",
      "Epoch 76/200\n",
      "26/26 [==============================] - 0s 1ms/step - loss: 0.0991\n",
      "Epoch 77/200\n",
      "26/26 [==============================] - 0s 1ms/step - loss: 0.0982\n",
      "Epoch 78/200\n",
      "26/26 [==============================] - 0s 1ms/step - loss: 0.0975\n",
      "Epoch 79/200\n",
      "26/26 [==============================] - 0s 1ms/step - loss: 0.0977\n",
      "Epoch 80/200\n",
      "26/26 [==============================] - 0s 2ms/step - loss: 0.0966\n",
      "Epoch 81/200\n",
      "26/26 [==============================] - 0s 2ms/step - loss: 0.0956\n",
      "Epoch 82/200\n",
      "26/26 [==============================] - 0s 2ms/step - loss: 0.0955\n",
      "Epoch 83/200\n",
      "26/26 [==============================] - 0s 2ms/step - loss: 0.0946\n",
      "Epoch 84/200\n",
      "26/26 [==============================] - 0s 1ms/step - loss: 0.0935\n",
      "Epoch 85/200\n",
      "26/26 [==============================] - 0s 2ms/step - loss: 0.0927\n",
      "Epoch 86/200\n",
      "26/26 [==============================] - 0s 1ms/step - loss: 0.0926\n",
      "Epoch 87/200\n",
      "26/26 [==============================] - 0s 2ms/step - loss: 0.0916\n",
      "Epoch 88/200\n",
      "26/26 [==============================] - 0s 2ms/step - loss: 0.0917\n",
      "Epoch 89/200\n",
      "26/26 [==============================] - 0s 2ms/step - loss: 0.0903\n",
      "Epoch 90/200\n",
      "26/26 [==============================] - 0s 2ms/step - loss: 0.0910\n",
      "Epoch 91/200\n",
      "26/26 [==============================] - 0s 2ms/step - loss: 0.0910\n",
      "Epoch 92/200\n",
      "26/26 [==============================] - 0s 2ms/step - loss: 0.0883\n",
      "Epoch 93/200\n",
      "26/26 [==============================] - 0s 1ms/step - loss: 0.0884\n",
      "Epoch 94/200\n",
      "26/26 [==============================] - 0s 1ms/step - loss: 0.0886\n",
      "Epoch 95/200\n",
      "26/26 [==============================] - 0s 1ms/step - loss: 0.0874\n",
      "Epoch 96/200\n",
      "26/26 [==============================] - 0s 2ms/step - loss: 0.0873\n",
      "Epoch 97/200\n",
      "26/26 [==============================] - 0s 1ms/step - loss: 0.0879\n",
      "Epoch 98/200\n",
      "26/26 [==============================] - 0s 1ms/step - loss: 0.0885\n",
      "Epoch 99/200\n",
      "26/26 [==============================] - 0s 2ms/step - loss: 0.0855\n",
      "Epoch 100/200\n",
      "26/26 [==============================] - 0s 2ms/step - loss: 0.0850\n",
      "Epoch 101/200\n",
      "26/26 [==============================] - 0s 1ms/step - loss: 0.0848\n",
      "Epoch 102/200\n"
     ]
    },
    {
     "name": "stdout",
     "output_type": "stream",
     "text": [
      "26/26 [==============================] - 0s 1ms/step - loss: 0.0846\n",
      "Epoch 103/200\n",
      "26/26 [==============================] - 0s 2ms/step - loss: 0.0836\n",
      "Epoch 104/200\n",
      "26/26 [==============================] - 0s 1ms/step - loss: 0.0841\n",
      "Epoch 105/200\n",
      "26/26 [==============================] - 0s 2ms/step - loss: 0.0847\n",
      "Epoch 106/200\n",
      "26/26 [==============================] - 0s 1ms/step - loss: 0.0829\n",
      "Epoch 107/200\n",
      "26/26 [==============================] - 0s 1ms/step - loss: 0.0839\n",
      "Epoch 108/200\n",
      "26/26 [==============================] - 0s 2ms/step - loss: 0.0856\n",
      "Epoch 109/200\n",
      "26/26 [==============================] - ETA: 0s - loss: 0.077 - 0s 1ms/step - loss: 0.0829\n",
      "Epoch 110/200\n",
      "26/26 [==============================] - 0s 2ms/step - loss: 0.0811\n",
      "Epoch 111/200\n",
      "26/26 [==============================] - 0s 2ms/step - loss: 0.0809\n",
      "Epoch 112/200\n",
      "26/26 [==============================] - 0s 2ms/step - loss: 0.0800\n",
      "Epoch 113/200\n",
      "26/26 [==============================] - 0s 2ms/step - loss: 0.0806\n",
      "Epoch 114/200\n",
      "26/26 [==============================] - 0s 2ms/step - loss: 0.0793\n",
      "Epoch 115/200\n",
      "26/26 [==============================] - 0s 2ms/step - loss: 0.0788\n",
      "Epoch 116/200\n",
      "26/26 [==============================] - ETA: 0s - loss: 0.249 - 0s 2ms/step - loss: 0.0784\n",
      "Epoch 117/200\n",
      "26/26 [==============================] - 0s 1ms/step - loss: 0.0803\n",
      "Epoch 118/200\n",
      "26/26 [==============================] - 0s 1ms/step - loss: 0.0779\n",
      "Epoch 119/200\n",
      "26/26 [==============================] - 0s 2ms/step - loss: 0.0775\n",
      "Epoch 120/200\n",
      "26/26 [==============================] - 0s 1ms/step - loss: 0.0765\n",
      "Epoch 121/200\n",
      "26/26 [==============================] - 0s 1ms/step - loss: 0.0766\n",
      "Epoch 122/200\n",
      "26/26 [==============================] - 0s 1ms/step - loss: 0.0768\n",
      "Epoch 123/200\n",
      "26/26 [==============================] - 0s 2ms/step - loss: 0.0749\n",
      "Epoch 124/200\n",
      "26/26 [==============================] - 0s 2ms/step - loss: 0.0747\n",
      "Epoch 125/200\n",
      "26/26 [==============================] - 0s 2ms/step - loss: 0.0746\n",
      "Epoch 126/200\n",
      "26/26 [==============================] - 0s 2ms/step - loss: 0.0741\n",
      "Epoch 127/200\n",
      "26/26 [==============================] - 0s 2ms/step - loss: 0.0743\n",
      "Epoch 128/200\n",
      "26/26 [==============================] - 0s 1ms/step - loss: 0.0741\n",
      "Epoch 129/200\n",
      "26/26 [==============================] - 0s 1ms/step - loss: 0.0734\n",
      "Epoch 130/200\n",
      "26/26 [==============================] - 0s 2ms/step - loss: 0.0727\n",
      "Epoch 131/200\n",
      "26/26 [==============================] - 0s 2ms/step - loss: 0.0729\n",
      "Epoch 132/200\n",
      "26/26 [==============================] - 0s 2ms/step - loss: 0.0729\n",
      "Epoch 133/200\n",
      "26/26 [==============================] - 0s 2ms/step - loss: 0.0727\n",
      "Epoch 134/200\n",
      "26/26 [==============================] - 0s 1ms/step - loss: 0.0720\n",
      "Epoch 135/200\n",
      "26/26 [==============================] - 0s 2ms/step - loss: 0.0711\n",
      "Epoch 136/200\n",
      "26/26 [==============================] - 0s 2ms/step - loss: 0.0717\n",
      "Epoch 137/200\n",
      "26/26 [==============================] - 0s 1ms/step - loss: 0.0709\n",
      "Epoch 138/200\n",
      "26/26 [==============================] - 0s 1ms/step - loss: 0.0721\n",
      "Epoch 139/200\n",
      "26/26 [==============================] - 0s 2ms/step - loss: 0.0720\n",
      "Epoch 140/200\n",
      "26/26 [==============================] - 0s 2ms/step - loss: 0.0696\n",
      "Epoch 141/200\n",
      "26/26 [==============================] - 0s 1ms/step - loss: 0.0710\n",
      "Epoch 142/200\n",
      "26/26 [==============================] - 0s 2ms/step - loss: 0.0701\n",
      "Epoch 143/200\n",
      "26/26 [==============================] - 0s 1ms/step - loss: 0.0694\n",
      "Epoch 144/200\n",
      "26/26 [==============================] - 0s 1ms/step - loss: 0.0710\n",
      "Epoch 145/200\n",
      "26/26 [==============================] - 0s 2ms/step - loss: 0.0689\n",
      "Epoch 146/200\n",
      "26/26 [==============================] - 0s 2ms/step - loss: 0.0683\n",
      "Epoch 147/200\n",
      "26/26 [==============================] - 0s 2ms/step - loss: 0.0682\n",
      "Epoch 148/200\n",
      "26/26 [==============================] - 0s 2ms/step - loss: 0.0678\n",
      "Epoch 149/200\n",
      "26/26 [==============================] - 0s 1ms/step - loss: 0.0680\n",
      "Epoch 150/200\n",
      "26/26 [==============================] - 0s 2ms/step - loss: 0.0674\n",
      "Epoch 151/200\n",
      "26/26 [==============================] - 0s 1ms/step - loss: 0.0679\n",
      "Epoch 152/200\n",
      "26/26 [==============================] - 0s 2ms/step - loss: 0.0684\n",
      "Epoch 153/200\n",
      "26/26 [==============================] - 0s 3ms/step - loss: 0.0677\n",
      "Epoch 154/200\n",
      "26/26 [==============================] - 0s 2ms/step - loss: 0.0662\n",
      "Epoch 155/200\n",
      "26/26 [==============================] - 0s 1ms/step - loss: 0.0666\n",
      "Epoch 156/200\n",
      "26/26 [==============================] - 0s 2ms/step - loss: 0.0667\n",
      "Epoch 157/200\n",
      "26/26 [==============================] - 0s 1ms/step - loss: 0.0680\n",
      "Epoch 158/200\n",
      "26/26 [==============================] - 0s 1ms/step - loss: 0.0662\n",
      "Epoch 159/200\n",
      "26/26 [==============================] - 0s 1ms/step - loss: 0.0662\n",
      "Epoch 160/200\n",
      "26/26 [==============================] - 0s 2ms/step - loss: 0.0659\n",
      "Epoch 161/200\n",
      "26/26 [==============================] - 0s 2ms/step - loss: 0.0657\n",
      "Epoch 162/200\n",
      "26/26 [==============================] - 0s 1ms/step - loss: 0.0669\n",
      "Epoch 163/200\n",
      "26/26 [==============================] - 0s 2ms/step - loss: 0.0653\n",
      "Epoch 164/200\n",
      "26/26 [==============================] - 0s 2ms/step - loss: 0.0640\n",
      "Epoch 165/200\n",
      "26/26 [==============================] - 0s 1ms/step - loss: 0.0643\n",
      "Epoch 166/200\n",
      "26/26 [==============================] - 0s 2ms/step - loss: 0.0642\n",
      "Epoch 167/200\n",
      "26/26 [==============================] - 0s 2ms/step - loss: 0.0638\n",
      "Epoch 168/200\n",
      "26/26 [==============================] - 0s 1ms/step - loss: 0.0641\n",
      "Epoch 169/200\n",
      "26/26 [==============================] - 0s 1ms/step - loss: 0.0638\n",
      "Epoch 170/200\n",
      "26/26 [==============================] - 0s 2ms/step - loss: 0.0646\n",
      "Epoch 171/200\n",
      "26/26 [==============================] - 0s 1ms/step - loss: 0.0625\n",
      "Epoch 172/200\n",
      "26/26 [==============================] - 0s 1ms/step - loss: 0.0630\n",
      "Epoch 173/200\n",
      "26/26 [==============================] - 0s 2ms/step - loss: 0.0633\n",
      "Epoch 174/200\n",
      "26/26 [==============================] - 0s 2ms/step - loss: 0.0625\n",
      "Epoch 175/200\n",
      "26/26 [==============================] - 0s 2ms/step - loss: 0.0622\n",
      "Epoch 176/200\n",
      "26/26 [==============================] - 0s 2ms/step - loss: 0.0622\n",
      "Epoch 177/200\n",
      "26/26 [==============================] - 0s 2ms/step - loss: 0.0621\n",
      "Epoch 178/200\n",
      "26/26 [==============================] - 0s 2ms/step - loss: 0.0612\n",
      "Epoch 179/200\n",
      "26/26 [==============================] - 0s 2ms/step - loss: 0.0619\n",
      "Epoch 180/200\n",
      "26/26 [==============================] - 0s 2ms/step - loss: 0.0617\n",
      "Epoch 181/200\n",
      "26/26 [==============================] - 0s 2ms/step - loss: 0.0612\n",
      "Epoch 182/200\n",
      "26/26 [==============================] - 0s 2ms/step - loss: 0.0599\n",
      "Epoch 183/200\n",
      "26/26 [==============================] - 0s 1ms/step - loss: 0.0629\n",
      "Epoch 184/200\n",
      "26/26 [==============================] - 0s 2ms/step - loss: 0.0611\n",
      "Epoch 185/200\n",
      "26/26 [==============================] - 0s 2ms/step - loss: 0.0599\n",
      "Epoch 186/200\n",
      "26/26 [==============================] - 0s 2ms/step - loss: 0.0627\n",
      "Epoch 187/200\n",
      "26/26 [==============================] - 0s 2ms/step - loss: 0.0612\n",
      "Epoch 188/200\n",
      "26/26 [==============================] - 0s 2ms/step - loss: 0.0602\n",
      "Epoch 189/200\n",
      "26/26 [==============================] - 0s 2ms/step - loss: 0.0589\n",
      "Epoch 190/200\n",
      "26/26 [==============================] - 0s 2ms/step - loss: 0.0592\n",
      "Epoch 191/200\n",
      "26/26 [==============================] - 0s 2ms/step - loss: 0.0590\n",
      "Epoch 192/200\n",
      "26/26 [==============================] - 0s 2ms/step - loss: 0.0599\n",
      "Epoch 193/200\n",
      "26/26 [==============================] - 0s 2ms/step - loss: 0.0584\n",
      "Epoch 194/200\n",
      "26/26 [==============================] - 0s 2ms/step - loss: 0.0584\n",
      "Epoch 195/200\n",
      "26/26 [==============================] - 0s 1ms/step - loss: 0.0591\n",
      "Epoch 196/200\n",
      "26/26 [==============================] - 0s 1ms/step - loss: 0.0588\n",
      "Epoch 197/200\n",
      "26/26 [==============================] - 0s 2ms/step - loss: 0.0586\n",
      "Epoch 198/200\n",
      "26/26 [==============================] - 0s 2ms/step - loss: 0.0590\n",
      "Epoch 199/200\n",
      "26/26 [==============================] - 0s 2ms/step - loss: 0.0587\n",
      "Epoch 200/200\n",
      "26/26 [==============================] - 0s 2ms/step - loss: 0.0579\n"
     ]
    },
    {
     "data": {
      "text/plain": [
       "<keras.callbacks.History at 0x1e45a4df730>"
      ]
     },
     "execution_count": 10,
     "metadata": {},
     "output_type": "execute_result"
    }
   ],
   "source": [
    "model.fit(x_train, y_train, epochs=200, batch_size=16)"
   ]
  },
  {
   "cell_type": "markdown",
   "metadata": {
    "id": "DyFOnqyNw5_q"
   },
   "source": [
    "### | 검증 및 예측\n"
   ]
  },
  {
   "cell_type": "markdown",
   "metadata": {
    "id": "qlalKZ-a04c3"
   },
   "source": [
    "#### **검증**\n",
    "\n",
    "```\n",
    "model.evaluate(x_test, y_test)\n",
    "```\n",
    "* `x_test` : 넘파이 혹은 텐서 형식의 인풋 테스트 데이터\n",
    "* `y_test` : 넘파이 혹은 텐서 형식의 아웃풋 테스트 데이터"
   ]
  },
  {
   "cell_type": "code",
   "execution_count": 11,
   "metadata": {
    "ExecuteTime": {
     "end_time": "2022-06-28T01:50:14.189867Z",
     "start_time": "2022-06-28T01:50:14.025440Z"
    },
    "colab": {
     "base_uri": "https://localhost:8080/"
    },
    "id": "uHGyMlf60zng",
    "outputId": "9a693629-4284-499f-f0c1-3941e927cb85"
   },
   "outputs": [
    {
     "name": "stdout",
     "output_type": "stream",
     "text": [
      "4/4 [==============================] - 0s 3ms/step - loss: 0.1065\n"
     ]
    },
    {
     "data": {
      "text/plain": [
       "0.10647429525852203"
      ]
     },
     "execution_count": 11,
     "metadata": {},
     "output_type": "execute_result"
    }
   ],
   "source": [
    "model.evaluate(x_test, y_test)"
   ]
  },
  {
   "cell_type": "markdown",
   "metadata": {
    "id": "BITPUIOj07Uv"
   },
   "source": [
    "#### **예측**\n",
    "\n",
    "```\n",
    "model.predict(x_test)\n",
    "```\n",
    "* `x_test` : 넘파이 혹은 텐서 형식의 인풋 테스트 데이터\n",
    "* `y_test` : 넘파이 혹은 텐서 형식의 아웃풋 테스트 데이터"
   ]
  },
  {
   "cell_type": "code",
   "execution_count": 12,
   "metadata": {
    "ExecuteTime": {
     "end_time": "2022-06-28T01:50:16.990000Z",
     "start_time": "2022-06-28T01:50:16.847109Z"
    },
    "colab": {
     "base_uri": "https://localhost:8080/"
    },
    "id": "KfDHL4PRv8YD",
    "outputId": "ffc28af3-b47a-491c-e978-3dbf0fdfcb22"
   },
   "outputs": [
    {
     "data": {
      "text/plain": [
       "((102,), (102,))"
      ]
     },
     "execution_count": 12,
     "metadata": {},
     "output_type": "execute_result"
    }
   ],
   "source": [
    "y_pred = model.predict(x_test)\n",
    "y_pred = y_pred.flatten()\n",
    "y_test.shape, y_pred.shape"
   ]
  },
  {
   "cell_type": "markdown",
   "metadata": {
    "id": "gThN4RCR0_HI"
   },
   "source": [
    "* 예측 시각화"
   ]
  },
  {
   "cell_type": "code",
   "execution_count": 13,
   "metadata": {
    "ExecuteTime": {
     "end_time": "2022-06-28T01:50:19.695023Z",
     "start_time": "2022-06-28T01:50:19.537031Z"
    },
    "colab": {
     "base_uri": "https://localhost:8080/",
     "height": 279
    },
    "id": "TG533VyLwDaK",
    "outputId": "f2608888-212b-48fd-c312-cdec2920a024"
   },
   "outputs": [
    {
     "data": {
      "image/png": "[encoded data removed]",
      "text/plain": [
       "<Figure size 432x288 with 1 Axes>"
      ]
     },
     "metadata": {
      "needs_background": "light"
     },
     "output_type": "display_data"
    }
   ],
   "source": [
    "#for y, y_p in zip(y_test, y_pred):\n",
    "#  print(y, y_p)\n",
    "\n",
    "sns.scatterplot(x=y_test, y=y_pred)\n",
    "plt.plot([-2,3],[-2,3], c='r') # (-2,-2) 부터 (3,3)을 이은 선\n",
    "plt.xlabel('y true')\n",
    "plt.ylabel('y pred')\n",
    "plt.show()"
   ]
  },
  {
   "cell_type": "markdown",
   "metadata": {
    "id": "ZFrRTgcyipYg"
   },
   "source": [
    "## 과제\n",
    "---"
   ]
  },
  {
   "cell_type": "markdown",
   "metadata": {
    "id": "xjnJSLgXK_Pp"
   },
   "source": [
    "### | 과제1. 회귀 문제 정리\n",
    "\n",
    "* 예측값의 범위 : 연속, 무한 but 정규화 \n",
    "* 예측값의 shape : (샘플개수, 1) 혹은 (샘플개수, )\n",
    "* 아웃풋 레이어의 노드 개수 : 1\n",
    "* 아웃풋 레이어의 activation : 없다.\n",
    "* 손실함수 (loss) : mse, mae, ...\n",
    "* 평가함수 (metrics) : 사용하지 않음"
   ]
  },
  {
   "cell_type": "markdown",
   "metadata": {
    "id": "ZvFAB78P1B_Q"
   },
   "source": [
    "### | 과제2. 한 셀에 코드 정리하기\n",
    "\n",
    "* 추가 연습\n",
    "  * 모델의 깊이(depth)를 늘려가며 학습해 보세요.\n",
    "  * 모델의 너비(width)를 늘려가며 학습해 보세요."
   ]
  },
  {
   "cell_type": "code",
   "execution_count": null,
   "metadata": {
    "colab": {
     "base_uri": "https://localhost:8080/",
     "height": 1000
    },
    "id": "v5WYSd9a1Cz4",
    "outputId": "9b4b8cc9-54fd-44d2-cf79-87cc84225477"
   },
   "outputs": [
    {
     "name": "stdout",
     "output_type": "stream",
     "text": [
      "(354, 13) (152, 13) (354,) (152,)\n",
      "[-0.40053497  0.58526684 -0.87644514 -0.27259857 -0.87847549 -0.45394524\n",
      "  0.88279471  1.4372583  -0.17812039 -0.7378796   0.57539459  0.23470271\n",
      "  0.25048169] -0.7110141614338678\n",
      "Epoch 1/20\n",
      "23/23 [==============================] - 0s 2ms/step - loss: 2.9201\n",
      "Epoch 2/20\n",
      "23/23 [==============================] - 0s 2ms/step - loss: 1.8302\n",
      "Epoch 3/20\n",
      "23/23 [==============================] - 0s 1ms/step - loss: 1.2634\n",
      "Epoch 4/20\n",
      "23/23 [==============================] - 0s 2ms/step - loss: 0.9756\n",
      "Epoch 5/20\n",
      "23/23 [==============================] - 0s 1ms/step - loss: 0.8329\n",
      "Epoch 6/20\n",
      "23/23 [==============================] - 0s 2ms/step - loss: 0.7491\n",
      "Epoch 7/20\n",
      "23/23 [==============================] - 0s 2ms/step - loss: 0.6815\n",
      "Epoch 8/20\n",
      "23/23 [==============================] - 0s 2ms/step - loss: 0.6135\n",
      "Epoch 9/20\n",
      "23/23 [==============================] - 0s 2ms/step - loss: 0.5379\n",
      "Epoch 10/20\n",
      "23/23 [==============================] - 0s 2ms/step - loss: 0.4638\n",
      "Epoch 11/20\n",
      "23/23 [==============================] - 0s 3ms/step - loss: 0.4140\n",
      "Epoch 12/20\n",
      "23/23 [==============================] - 0s 3ms/step - loss: 0.3785\n",
      "Epoch 13/20\n",
      "23/23 [==============================] - 0s 2ms/step - loss: 0.3455\n",
      "Epoch 14/20\n",
      "23/23 [==============================] - 0s 2ms/step - loss: 0.3207\n",
      "Epoch 15/20\n",
      "23/23 [==============================] - 0s 3ms/step - loss: 0.3002\n",
      "Epoch 16/20\n",
      "23/23 [==============================] - 0s 3ms/step - loss: 0.2860\n",
      "Epoch 17/20\n",
      "23/23 [==============================] - 0s 3ms/step - loss: 0.2727\n",
      "Epoch 18/20\n",
      "23/23 [==============================] - 0s 2ms/step - loss: 0.2636\n",
      "Epoch 19/20\n",
      "23/23 [==============================] - 0s 2ms/step - loss: 0.2577\n",
      "Epoch 20/20\n",
      "23/23 [==============================] - 0s 2ms/step - loss: 0.2463\n"
     ]
    },
    {
     "data": {
      "image/png": "[encoded data removed]",
      "text/plain": [
       "<Figure size 432x288 with 1 Axes>"
      ]
     },
     "metadata": {
      "needs_background": "light"
     },
     "output_type": "display_data"
    }
   ],
   "source": [
    "from sklearn.preprocessing import StandardScaler\n",
    "from sklearn.model_selection import train_test_split\n",
    "from tensorflow.keras import models, layers, utils\n",
    "\n",
    "def path2data_housing(path, seed=1):\n",
    "  # 데이터 적절히 불러오기\n",
    "  df = pd.read_csv(data_path,\n",
    "                   header=None, # 첫번째 행이 데이터(컬럼이 없음)\n",
    "                   delim_whitespace=True # 스페이스바 기준으로 데이터가 나뉨\n",
    "                   )\n",
    "  # 정규화 (x의 모든속성, y)\n",
    "  scaler = StandardScaler()\n",
    "  df = scaler.fit_transform(df)\n",
    "  \n",
    "  # x-y 분할\n",
    "  x = df[:, :-1] # 모든행(샘플), 0부터12까지 열(속성)\n",
    "  y = df[:, -1] # 모든행(샘플), 13번째 열(속성)\n",
    "\n",
    "  # train-test 데이터 분할\n",
    "  x_train, x_test, y_train, y_test = train_test_split(x, y, test_size=0.3, random_state=seed)\n",
    "  return x_train, x_test, y_train, y_test\n",
    "\n",
    "\n",
    "def build_model():\n",
    "  x = layers.Input(shape=(13,)) # 데이터가 주어지면 인풋의 shape는 고정\n",
    "  z = layers.Dense(15, activation='relu')(x)\n",
    "  z = layers.Dense(6, activation='relu')(z)\n",
    "  y = layers.Dense(1)(z) # 데이터가 주어지면 아웃풋의  shape는 고정 \n",
    "  #( 회귀문제는 마지막 아웃풋 shape가 1, 마지막 활성화함수는 사용하지 않음 )\n",
    "  model = models.Model(x, y, name='house_regressor')\n",
    "  return model\n",
    "\n",
    "\n",
    "# 데이터 준비\n",
    "data_path = '/content/SkillTreePython-DeepLearning/dataset/housing.csv'\n",
    "x_train, x_test, y_train, y_test = path2data_housing(data_path)\n",
    "print(x_train.shape, x_test.shape, y_train.shape, y_test.shape)\n",
    "print(x_train[1], y_train[1])\n",
    "\n",
    "# 모델 학습\n",
    "model = build_model()\n",
    "model.compile(loss = 'mean_squared_error',\n",
    "              optimizer='adam')\n",
    "model.fit(x_train, y_train,\n",
    "          epochs = 20,\n",
    "          batch_size = 16)\n",
    "\n",
    "# 예측 결과 확인\n",
    "y_pred = model.predict(x_test)\n",
    "y_pred = y_pred.flatten()\n",
    "sns.scatterplot(x=y_test, y=y_pred)\n",
    "plt.plot([-2,3],[-2,3], c='r') # (-2,-2) 부터 (3,3)을 이은 선\n",
    "plt.xlabel('y true')\n",
    "plt.ylabel('y pred')\n",
    "plt.show()"
   ]
  },
  {
   "cell_type": "markdown",
   "metadata": {
    "id": "FvTdcVFC5LMt"
   },
   "source": [
    "### | 과제 3. 캘리포니아 집값 예측\n",
    "\n",
    "---\n",
    "\n",
    "> 1990년 캘리포니아 인구조사 데이터인 캘리포니아 주택 가격(California Housing Prices) 데이터를 사용하며 학습을 통해 주택 가격을 예측하는 문제입니다.\n",
    "\n",
    "\n",
    "```\n",
    "- 0 longitude: 경도\n",
    "- 1 latitude: 위도\n",
    "- 2 housing_median_age: 주택나이 (중앙값)\n",
    "- 3 total_rooms: 전체 방 수\n",
    "- 4 total_bedrooms: 전체 침실 수\n",
    "- 5 population: 인구\n",
    "- 6 households: 세대\n",
    "- 7 median_income: 소득(중앙값)\n",
    "- 8 median_house_value: 주택 가치(중앙값)\n",
    "```\n",
    "\n",
    "* `/content/sample_data/california_housing_train.csv` "
   ]
  },
  {
   "cell_type": "markdown",
   "metadata": {},
   "source": [
    "## 라이브러리 호출"
   ]
  },
  {
   "cell_type": "code",
   "execution_count": 1,
   "metadata": {
    "ExecuteTime": {
     "end_time": "2022-06-28T02:44:36.165987Z",
     "start_time": "2022-06-28T02:44:29.437885Z"
    }
   },
   "outputs": [],
   "source": [
    "import numpy as np\n",
    "import pandas as pd\n",
    "import tensorflow as tf\n",
    "import matplotlib.pyplot as plt\n",
    "import seaborn as sns\n",
    "seed=1\n",
    "np.random.seed(seed)\n",
    "tf.random.set_seed(seed)"
   ]
  },
  {
   "cell_type": "markdown",
   "metadata": {},
   "source": [
    "## 데이터 불러오기"
   ]
  },
  {
   "cell_type": "code",
   "execution_count": 29,
   "metadata": {
    "ExecuteTime": {
     "end_time": "2022-06-28T02:57:52.402214Z",
     "start_time": "2022-06-28T02:57:52.350840Z"
    },
    "id": "2EuSlVjcnkHS"
   },
   "outputs": [],
   "source": [
    "train = pd.read_csv(\"../../dataset/california_housing/california_housing_train.csv\")\n",
    "test = pd.read_csv(\"../../dataset/california_housing/california_housing_test.csv\")\n",
    "housing = pd.concat([train, test])"
   ]
  },
  {
   "cell_type": "code",
   "execution_count": 30,
   "metadata": {
    "ExecuteTime": {
     "end_time": "2022-06-28T02:57:52.620714Z",
     "start_time": "2022-06-28T02:57:52.590794Z"
    }
   },
   "outputs": [
    {
     "data": {
      "text/html": [
       "<div>\n",
       "<style scoped>\n",
       "    .dataframe tbody tr th:only-of-type {\n",
       "        vertical-align: middle;\n",
       "    }\n",
       "\n",
       "    .dataframe tbody tr th {\n",
       "        vertical-align: top;\n",
       "    }\n",
       "\n",
       "    .dataframe thead th {\n",
       "        text-align: right;\n",
       "    }\n",
       "</style>\n",
       "<table border=\"1\" class=\"dataframe\">\n",
       "  <thead>\n",
       "    <tr style=\"text-align: right;\">\n",
       "      <th></th>\n",
       "      <th>longitude</th>\n",
       "      <th>latitude</th>\n",
       "      <th>housing_median_age</th>\n",
       "      <th>total_rooms</th>\n",
       "      <th>total_bedrooms</th>\n",
       "      <th>population</th>\n",
       "      <th>households</th>\n",
       "      <th>median_income</th>\n",
       "      <th>median_house_value</th>\n",
       "    </tr>\n",
       "  </thead>\n",
       "  <tbody>\n",
       "    <tr>\n",
       "      <th>0</th>\n",
       "      <td>-114.31</td>\n",
       "      <td>34.19</td>\n",
       "      <td>15.0</td>\n",
       "      <td>5612.0</td>\n",
       "      <td>1283.0</td>\n",
       "      <td>1015.0</td>\n",
       "      <td>472.0</td>\n",
       "      <td>1.4936</td>\n",
       "      <td>66900.0</td>\n",
       "    </tr>\n",
       "    <tr>\n",
       "      <th>1</th>\n",
       "      <td>-114.47</td>\n",
       "      <td>34.40</td>\n",
       "      <td>19.0</td>\n",
       "      <td>7650.0</td>\n",
       "      <td>1901.0</td>\n",
       "      <td>1129.0</td>\n",
       "      <td>463.0</td>\n",
       "      <td>1.8200</td>\n",
       "      <td>80100.0</td>\n",
       "    </tr>\n",
       "    <tr>\n",
       "      <th>2</th>\n",
       "      <td>-114.56</td>\n",
       "      <td>33.69</td>\n",
       "      <td>17.0</td>\n",
       "      <td>720.0</td>\n",
       "      <td>174.0</td>\n",
       "      <td>333.0</td>\n",
       "      <td>117.0</td>\n",
       "      <td>1.6509</td>\n",
       "      <td>85700.0</td>\n",
       "    </tr>\n",
       "    <tr>\n",
       "      <th>3</th>\n",
       "      <td>-114.57</td>\n",
       "      <td>33.64</td>\n",
       "      <td>14.0</td>\n",
       "      <td>1501.0</td>\n",
       "      <td>337.0</td>\n",
       "      <td>515.0</td>\n",
       "      <td>226.0</td>\n",
       "      <td>3.1917</td>\n",
       "      <td>73400.0</td>\n",
       "    </tr>\n",
       "    <tr>\n",
       "      <th>4</th>\n",
       "      <td>-114.57</td>\n",
       "      <td>33.57</td>\n",
       "      <td>20.0</td>\n",
       "      <td>1454.0</td>\n",
       "      <td>326.0</td>\n",
       "      <td>624.0</td>\n",
       "      <td>262.0</td>\n",
       "      <td>1.9250</td>\n",
       "      <td>65500.0</td>\n",
       "    </tr>\n",
       "  </tbody>\n",
       "</table>\n",
       "</div>"
      ],
      "text/plain": [
       "   longitude  latitude  housing_median_age  total_rooms  total_bedrooms  \\\n",
       "0    -114.31     34.19                15.0       5612.0          1283.0   \n",
       "1    -114.47     34.40                19.0       7650.0          1901.0   \n",
       "2    -114.56     33.69                17.0        720.0           174.0   \n",
       "3    -114.57     33.64                14.0       1501.0           337.0   \n",
       "4    -114.57     33.57                20.0       1454.0           326.0   \n",
       "\n",
       "   population  households  median_income  median_house_value  \n",
       "0      1015.0       472.0         1.4936             66900.0  \n",
       "1      1129.0       463.0         1.8200             80100.0  \n",
       "2       333.0       117.0         1.6509             85700.0  \n",
       "3       515.0       226.0         3.1917             73400.0  \n",
       "4       624.0       262.0         1.9250             65500.0  "
      ]
     },
     "execution_count": 30,
     "metadata": {},
     "output_type": "execute_result"
    }
   ],
   "source": [
    "housing.head()"
   ]
  },
  {
   "cell_type": "markdown",
   "metadata": {},
   "source": [
    "## 전처리"
   ]
  },
  {
   "cell_type": "code",
   "execution_count": 33,
   "metadata": {
    "ExecuteTime": {
     "end_time": "2022-06-28T02:59:15.870364Z",
     "start_time": "2022-06-28T02:59:15.854545Z"
    }
   },
   "outputs": [],
   "source": [
    "temp = housing[\"median_house_value\"]\n",
    "housing.drop([\"median_house_value\"], axis=1, inplace=True)\n",
    "# 가구당 방 개수\n",
    "housing[\"rooms_per_household\"] = housing[\"total_rooms\"]/housing[\"households\"]\n",
    "# 방 개수당 침실 개수\n",
    "housing[\"bedrooms_per_room\"] = housing[\"total_bedrooms\"]/housing[\"total_rooms\"]\n",
    "# 가구당 인원\n",
    "housing[\"population_per_household\"]=housing[\"population\"]/housing[\"households\"]\n",
    "housing[\"median_house_value\"] = temp"
   ]
  },
  {
   "cell_type": "code",
   "execution_count": 34,
   "metadata": {
    "ExecuteTime": {
     "end_time": "2022-06-28T02:59:16.762291Z",
     "start_time": "2022-06-28T02:59:16.726386Z"
    }
   },
   "outputs": [
    {
     "data": {
      "text/html": [
       "<div>\n",
       "<style scoped>\n",
       "    .dataframe tbody tr th:only-of-type {\n",
       "        vertical-align: middle;\n",
       "    }\n",
       "\n",
       "    .dataframe tbody tr th {\n",
       "        vertical-align: top;\n",
       "    }\n",
       "\n",
       "    .dataframe thead th {\n",
       "        text-align: right;\n",
       "    }\n",
       "</style>\n",
       "<table border=\"1\" class=\"dataframe\">\n",
       "  <thead>\n",
       "    <tr style=\"text-align: right;\">\n",
       "      <th></th>\n",
       "      <th>longitude</th>\n",
       "      <th>latitude</th>\n",
       "      <th>housing_median_age</th>\n",
       "      <th>total_rooms</th>\n",
       "      <th>total_bedrooms</th>\n",
       "      <th>population</th>\n",
       "      <th>households</th>\n",
       "      <th>median_income</th>\n",
       "      <th>rooms_per_household</th>\n",
       "      <th>bedrooms_per_room</th>\n",
       "      <th>population_per_household</th>\n",
       "      <th>median_house_value</th>\n",
       "    </tr>\n",
       "  </thead>\n",
       "  <tbody>\n",
       "    <tr>\n",
       "      <th>0</th>\n",
       "      <td>-114.31</td>\n",
       "      <td>34.19</td>\n",
       "      <td>15.0</td>\n",
       "      <td>5612.0</td>\n",
       "      <td>1283.0</td>\n",
       "      <td>1015.0</td>\n",
       "      <td>472.0</td>\n",
       "      <td>1.4936</td>\n",
       "      <td>11.889831</td>\n",
       "      <td>0.228617</td>\n",
       "      <td>2.150424</td>\n",
       "      <td>66900.0</td>\n",
       "    </tr>\n",
       "    <tr>\n",
       "      <th>1</th>\n",
       "      <td>-114.47</td>\n",
       "      <td>34.40</td>\n",
       "      <td>19.0</td>\n",
       "      <td>7650.0</td>\n",
       "      <td>1901.0</td>\n",
       "      <td>1129.0</td>\n",
       "      <td>463.0</td>\n",
       "      <td>1.8200</td>\n",
       "      <td>16.522678</td>\n",
       "      <td>0.248497</td>\n",
       "      <td>2.438445</td>\n",
       "      <td>80100.0</td>\n",
       "    </tr>\n",
       "    <tr>\n",
       "      <th>2</th>\n",
       "      <td>-114.56</td>\n",
       "      <td>33.69</td>\n",
       "      <td>17.0</td>\n",
       "      <td>720.0</td>\n",
       "      <td>174.0</td>\n",
       "      <td>333.0</td>\n",
       "      <td>117.0</td>\n",
       "      <td>1.6509</td>\n",
       "      <td>6.153846</td>\n",
       "      <td>0.241667</td>\n",
       "      <td>2.846154</td>\n",
       "      <td>85700.0</td>\n",
       "    </tr>\n",
       "    <tr>\n",
       "      <th>3</th>\n",
       "      <td>-114.57</td>\n",
       "      <td>33.64</td>\n",
       "      <td>14.0</td>\n",
       "      <td>1501.0</td>\n",
       "      <td>337.0</td>\n",
       "      <td>515.0</td>\n",
       "      <td>226.0</td>\n",
       "      <td>3.1917</td>\n",
       "      <td>6.641593</td>\n",
       "      <td>0.224517</td>\n",
       "      <td>2.278761</td>\n",
       "      <td>73400.0</td>\n",
       "    </tr>\n",
       "    <tr>\n",
       "      <th>4</th>\n",
       "      <td>-114.57</td>\n",
       "      <td>33.57</td>\n",
       "      <td>20.0</td>\n",
       "      <td>1454.0</td>\n",
       "      <td>326.0</td>\n",
       "      <td>624.0</td>\n",
       "      <td>262.0</td>\n",
       "      <td>1.9250</td>\n",
       "      <td>5.549618</td>\n",
       "      <td>0.224209</td>\n",
       "      <td>2.381679</td>\n",
       "      <td>65500.0</td>\n",
       "    </tr>\n",
       "    <tr>\n",
       "      <th>...</th>\n",
       "      <td>...</td>\n",
       "      <td>...</td>\n",
       "      <td>...</td>\n",
       "      <td>...</td>\n",
       "      <td>...</td>\n",
       "      <td>...</td>\n",
       "      <td>...</td>\n",
       "      <td>...</td>\n",
       "      <td>...</td>\n",
       "      <td>...</td>\n",
       "      <td>...</td>\n",
       "      <td>...</td>\n",
       "    </tr>\n",
       "    <tr>\n",
       "      <th>2995</th>\n",
       "      <td>-119.86</td>\n",
       "      <td>34.42</td>\n",
       "      <td>23.0</td>\n",
       "      <td>1450.0</td>\n",
       "      <td>642.0</td>\n",
       "      <td>1258.0</td>\n",
       "      <td>607.0</td>\n",
       "      <td>1.1790</td>\n",
       "      <td>2.388797</td>\n",
       "      <td>0.442759</td>\n",
       "      <td>2.072488</td>\n",
       "      <td>225000.0</td>\n",
       "    </tr>\n",
       "    <tr>\n",
       "      <th>2996</th>\n",
       "      <td>-118.14</td>\n",
       "      <td>34.06</td>\n",
       "      <td>27.0</td>\n",
       "      <td>5257.0</td>\n",
       "      <td>1082.0</td>\n",
       "      <td>3496.0</td>\n",
       "      <td>1036.0</td>\n",
       "      <td>3.3906</td>\n",
       "      <td>5.074324</td>\n",
       "      <td>0.205821</td>\n",
       "      <td>3.374517</td>\n",
       "      <td>237200.0</td>\n",
       "    </tr>\n",
       "    <tr>\n",
       "      <th>2997</th>\n",
       "      <td>-119.70</td>\n",
       "      <td>36.30</td>\n",
       "      <td>10.0</td>\n",
       "      <td>956.0</td>\n",
       "      <td>201.0</td>\n",
       "      <td>693.0</td>\n",
       "      <td>220.0</td>\n",
       "      <td>2.2895</td>\n",
       "      <td>4.345455</td>\n",
       "      <td>0.210251</td>\n",
       "      <td>3.150000</td>\n",
       "      <td>62000.0</td>\n",
       "    </tr>\n",
       "    <tr>\n",
       "      <th>2998</th>\n",
       "      <td>-117.12</td>\n",
       "      <td>34.10</td>\n",
       "      <td>40.0</td>\n",
       "      <td>96.0</td>\n",
       "      <td>14.0</td>\n",
       "      <td>46.0</td>\n",
       "      <td>14.0</td>\n",
       "      <td>3.2708</td>\n",
       "      <td>6.857143</td>\n",
       "      <td>0.145833</td>\n",
       "      <td>3.285714</td>\n",
       "      <td>162500.0</td>\n",
       "    </tr>\n",
       "    <tr>\n",
       "      <th>2999</th>\n",
       "      <td>-119.63</td>\n",
       "      <td>34.42</td>\n",
       "      <td>42.0</td>\n",
       "      <td>1765.0</td>\n",
       "      <td>263.0</td>\n",
       "      <td>753.0</td>\n",
       "      <td>260.0</td>\n",
       "      <td>8.5608</td>\n",
       "      <td>6.788462</td>\n",
       "      <td>0.149008</td>\n",
       "      <td>2.896154</td>\n",
       "      <td>500001.0</td>\n",
       "    </tr>\n",
       "  </tbody>\n",
       "</table>\n",
       "<p>20000 rows × 12 columns</p>\n",
       "</div>"
      ],
      "text/plain": [
       "      longitude  latitude  housing_median_age  total_rooms  total_bedrooms  \\\n",
       "0       -114.31     34.19                15.0       5612.0          1283.0   \n",
       "1       -114.47     34.40                19.0       7650.0          1901.0   \n",
       "2       -114.56     33.69                17.0        720.0           174.0   \n",
       "3       -114.57     33.64                14.0       1501.0           337.0   \n",
       "4       -114.57     33.57                20.0       1454.0           326.0   \n",
       "...         ...       ...                 ...          ...             ...   \n",
       "2995    -119.86     34.42                23.0       1450.0           642.0   \n",
       "2996    -118.14     34.06                27.0       5257.0          1082.0   \n",
       "2997    -119.70     36.30                10.0        956.0           201.0   \n",
       "2998    -117.12     34.10                40.0         96.0            14.0   \n",
       "2999    -119.63     34.42                42.0       1765.0           263.0   \n",
       "\n",
       "      population  households  median_income  rooms_per_household  \\\n",
       "0         1015.0       472.0         1.4936            11.889831   \n",
       "1         1129.0       463.0         1.8200            16.522678   \n",
       "2          333.0       117.0         1.6509             6.153846   \n",
       "3          515.0       226.0         3.1917             6.641593   \n",
       "4          624.0       262.0         1.9250             5.549618   \n",
       "...          ...         ...            ...                  ...   \n",
       "2995      1258.0       607.0         1.1790             2.388797   \n",
       "2996      3496.0      1036.0         3.3906             5.074324   \n",
       "2997       693.0       220.0         2.2895             4.345455   \n",
       "2998        46.0        14.0         3.2708             6.857143   \n",
       "2999       753.0       260.0         8.5608             6.788462   \n",
       "\n",
       "      bedrooms_per_room  population_per_household  median_house_value  \n",
       "0              0.228617                  2.150424             66900.0  \n",
       "1              0.248497                  2.438445             80100.0  \n",
       "2              0.241667                  2.846154             85700.0  \n",
       "3              0.224517                  2.278761             73400.0  \n",
       "4              0.224209                  2.381679             65500.0  \n",
       "...                 ...                       ...                 ...  \n",
       "2995           0.442759                  2.072488            225000.0  \n",
       "2996           0.205821                  3.374517            237200.0  \n",
       "2997           0.210251                  3.150000             62000.0  \n",
       "2998           0.145833                  3.285714            162500.0  \n",
       "2999           0.149008                  2.896154            500001.0  \n",
       "\n",
       "[20000 rows x 12 columns]"
      ]
     },
     "execution_count": 34,
     "metadata": {},
     "output_type": "execute_result"
    }
   ],
   "source": [
    "housing"
   ]
  },
  {
   "cell_type": "markdown",
   "metadata": {},
   "source": [
    "## 전처리2"
   ]
  },
  {
   "cell_type": "code",
   "execution_count": 69,
   "metadata": {
    "ExecuteTime": {
     "end_time": "2022-06-28T03:15:12.848570Z",
     "start_time": "2022-06-28T03:15:12.828586Z"
    }
   },
   "outputs": [],
   "source": [
    "from sklearn.preprocessing import StandardScaler\n",
    "scaler = StandardScaler()\n",
    "housing = scaler.fit_transform(housing)"
   ]
  },
  {
   "cell_type": "code",
   "execution_count": 70,
   "metadata": {
    "ExecuteTime": {
     "end_time": "2022-06-28T03:15:13.021536Z",
     "start_time": "2022-06-28T03:15:13.004544Z"
    }
   },
   "outputs": [],
   "source": [
    "x = housing[:, :-1]\n",
    "y = housing[:, -1]"
   ]
  },
  {
   "cell_type": "code",
   "execution_count": 71,
   "metadata": {
    "ExecuteTime": {
     "end_time": "2022-06-28T03:15:13.177389Z",
     "start_time": "2022-06-28T03:15:13.156446Z"
    },
    "id": "Seml9MudkIke"
   },
   "outputs": [],
   "source": [
    "from sklearn.model_selection import train_test_split\n",
    "x_train, x_test, y_train, y_test = train_test_split(x,\n",
    "                                                    y,\n",
    "                                                    test_size=0.2,\n",
    "                                                    random_state=seed)"
   ]
  },
  {
   "cell_type": "code",
   "execution_count": 72,
   "metadata": {
    "ExecuteTime": {
     "end_time": "2022-06-28T03:15:13.318725Z",
     "start_time": "2022-06-28T03:15:13.300728Z"
    }
   },
   "outputs": [
    {
     "name": "stdout",
     "output_type": "stream",
     "text": [
      "(16000, 11) (4000, 11) (16000,) (4000,)\n",
      "[ 0.59203255 -0.8505033  -0.68572631 -0.30421523 -0.55154645 -0.63885476\n",
      " -0.54365887  2.46116236  0.53147654 -1.0005381  -0.14186006] 1.7586322390002922\n"
     ]
    }
   ],
   "source": [
    "print(x_train.shape, x_test.shape, y_train.shape, y_test.shape)\n",
    "print(x_train[1], y_train[1])"
   ]
  },
  {
   "cell_type": "markdown",
   "metadata": {},
   "source": [
    "## 모델링"
   ]
  },
  {
   "cell_type": "code",
   "execution_count": 79,
   "metadata": {
    "ExecuteTime": {
     "end_time": "2022-06-28T03:16:04.705389Z",
     "start_time": "2022-06-28T03:16:04.684445Z"
    }
   },
   "outputs": [],
   "source": [
    "from tensorflow.keras import models, layers, utils\n",
    "\n",
    "def build_model():\n",
    "    x = layers.Input(shape=(11, ))  # 데이터가 주어지면 인풋의 shape는 고정\n",
    "    z = layers.Dense(20, activation='relu')(x)\n",
    "    z = layers.Dense(20, activation='relu')(z)\n",
    "    y = layers.Dense(1)(z) \n",
    "    model = models.Model(x, y, name='califonia_regressor')\n",
    "    return model"
   ]
  },
  {
   "cell_type": "code",
   "execution_count": 80,
   "metadata": {
    "ExecuteTime": {
     "end_time": "2022-06-28T03:16:05.360361Z",
     "start_time": "2022-06-28T03:16:05.020350Z"
    }
   },
   "outputs": [
    {
     "name": "stdout",
     "output_type": "stream",
     "text": [
      "Model: \"califonia_regressor\"\n",
      "_________________________________________________________________\n",
      " Layer (type)                Output Shape              Param #   \n",
      "=================================================================\n",
      " input_6 (InputLayer)        [(None, 11)]              0         \n",
      "                                                                 \n",
      " dense_19 (Dense)            (None, 20)                240       \n",
      "                                                                 \n",
      " dense_20 (Dense)            (None, 20)                420       \n",
      "                                                                 \n",
      " dense_21 (Dense)            (None, 1)                 21        \n",
      "                                                                 \n",
      "=================================================================\n",
      "Total params: 681\n",
      "Trainable params: 681\n",
      "Non-trainable params: 0\n",
      "_________________________________________________________________\n"
     ]
    },
    {
     "data": {
      "image/png": "[encoded data removed]",
      "text/plain": [
       "<IPython.core.display.Image object>"
      ]
     },
     "execution_count": 80,
     "metadata": {},
     "output_type": "execute_result"
    }
   ],
   "source": [
    "model = build_model()\n",
    "model.summary()\n",
    "utils.plot_model(model, show_shapes=True)"
   ]
  },
  {
   "cell_type": "code",
   "execution_count": 81,
   "metadata": {
    "ExecuteTime": {
     "end_time": "2022-06-28T03:16:05.375322Z",
     "start_time": "2022-06-28T03:16:05.362312Z"
    }
   },
   "outputs": [],
   "source": [
    "import tqdm\n",
    "import tensorflow_addons as tfa\n",
    "tqdm_callback = tfa.callbacks.TQDMProgressBar(show_epoch_progress=False)"
   ]
  },
  {
   "cell_type": "code",
   "execution_count": 82,
   "metadata": {
    "ExecuteTime": {
     "end_time": "2022-06-28T03:19:39.175548Z",
     "start_time": "2022-06-28T03:16:05.377275Z"
    }
   },
   "outputs": [
    {
     "data": {
      "application/vnd.jupyter.widget-view+json": {
       "model_id": "8785cb5c9b834d5696a85b0abd445bdf",
       "version_major": 2,
       "version_minor": 0
      },
      "text/plain": [
       "Training:   0%|                                                                               0/200 ETA: ?s,  …"
      ]
     },
     "metadata": {},
     "output_type": "display_data"
    },
    {
     "data": {
      "text/plain": [
       "<keras.callbacks.History at 0x22114e6bc40>"
      ]
     },
     "execution_count": 82,
     "metadata": {},
     "output_type": "execute_result"
    }
   ],
   "source": [
    "model.compile(loss='mean_squared_error', optimizer='adam')\n",
    "model.fit(x_train, y_train, epochs=200, batch_size=16, verbose=0,callbacks=[tqdm_callback], validation_data=(x_test, y_test))"
   ]
  },
  {
   "cell_type": "code",
   "execution_count": 83,
   "metadata": {
    "ExecuteTime": {
     "end_time": "2022-06-28T03:20:37.212611Z",
     "start_time": "2022-06-28T03:20:36.972885Z"
    }
   },
   "outputs": [
    {
     "data": {
      "text/plain": [
       "0.2119409739971161"
      ]
     },
     "execution_count": 83,
     "metadata": {},
     "output_type": "execute_result"
    }
   ],
   "source": [
    "model.evaluate(x_test, y_test, verbose=0)"
   ]
  },
  {
   "cell_type": "code",
   "execution_count": 86,
   "metadata": {
    "ExecuteTime": {
     "end_time": "2022-06-28T03:21:25.856810Z",
     "start_time": "2022-06-28T03:21:25.611528Z"
    }
   },
   "outputs": [
    {
     "data": {
      "image/png": "[encoded data removed]",
      "text/plain": [
       "<Figure size 432x288 with 1 Axes>"
      ]
     },
     "metadata": {
      "needs_background": "light"
     },
     "output_type": "display_data"
    }
   ],
   "source": [
    "y_pred = model.predict(x_test)\n",
    "y_pred = y_pred.flatten()\n",
    "y_test.shape, y_pred.shape\n",
    "#for y, y_p in zip(y_test, y_pred):\n",
    "#  print(y, y_p)\n",
    "\n",
    "sns.scatterplot(x=y_test, y=y_pred)\n",
    "plt.plot([-2,3],[-2,3], c='r') # (-2,-2) 부터 (3,3)을 이은 선\n",
    "plt.xlabel('y true')\n",
    "plt.ylabel('y pred')\n",
    "plt.show()"
   ]
  },
  {
   "cell_type": "code",
   "execution_count": null,
   "metadata": {},
   "outputs": [],
   "source": []
  }
 ],
 "metadata": {
  "colab": {
   "collapsed_sections": [],
   "name": "ch01_03_DNN기초-회귀모델.ipynb",
   "provenance": []
  },
  "kernelspec": {
   "display_name": "Python 3 (ipykernel)",
   "language": "python",
   "name": "python3"
  },
  "language_info": {
   "codemirror_mode": {
    "name": "ipython",
    "version": 3
   },
   "file_extension": ".py",
   "mimetype": "text/x-python",
   "name": "python",
   "nbconvert_exporter": "python",
   "pygments_lexer": "ipython3",
   "version": "3.8.13"
  },
  "toc": {
   "base_numbering": 1,
   "nav_menu": {},
   "number_sections": true,
   "sideBar": true,
   "skip_h1_title": false,
   "title_cell": "Table of Contents",
   "title_sidebar": "Contents",
   "toc_cell": false,
   "toc_position": {},
   "toc_section_display": true,
   "toc_window_display": false
  }
 },
 "nbformat": 4,
 "nbformat_minor": 1
}
