{
 "cells": [
  {
   "cell_type": "markdown",
   "id": "8ba1af0c",
   "metadata": {},
   "source": [
    "# 라이브러리 호출"
   ]
  },
  {
   "cell_type": "code",
   "execution_count": 1,
   "id": "b57d86ce",
   "metadata": {
    "ExecuteTime": {
     "end_time": "2022-07-05T07:55:00.481297Z",
     "start_time": "2022-07-05T07:54:49.669066Z"
    }
   },
   "outputs": [],
   "source": [
    "import tensorflow as tf\n",
    "import matplotlib.pyplot as plt\n",
    "import os, time\n",
    "import tqdm\n",
    "import tensorflow_addons as tfa\n",
    "\n",
    "tqdm_callback = tfa.callbacks.TQDMProgressBar()"
   ]
  },
  {
   "cell_type": "markdown",
   "id": "283c5f56",
   "metadata": {},
   "source": [
    "# 데이터셋 호출"
   ]
  },
  {
   "cell_type": "code",
   "execution_count": 2,
   "id": "202c184f",
   "metadata": {
    "ExecuteTime": {
     "end_time": "2022-07-05T07:55:07.736458Z",
     "start_time": "2022-07-05T07:55:06.313296Z"
    }
   },
   "outputs": [],
   "source": [
    "(x_train, y_train), (x_test, y_test) = tf.keras.datasets.cifar10.load_data()\n",
    "x_valid, y_valid = x_train[:5000], y_train[:5000]\n",
    "x_train, y_train = x_train[5000:], y_train[5000:]"
   ]
  },
  {
   "cell_type": "code",
   "execution_count": 3,
   "id": "1d3c773e",
   "metadata": {
    "ExecuteTime": {
     "end_time": "2022-07-05T07:55:07.751706Z",
     "start_time": "2022-07-05T07:55:07.736458Z"
    }
   },
   "outputs": [],
   "source": [
    "class_names= ['airplane', 'automobile', 'bird', 'cat', 'deer', 'dog', 'frog', 'horse', 'ship', 'truck']"
   ]
  },
  {
   "cell_type": "code",
   "execution_count": 4,
   "id": "d1cbb8a1",
   "metadata": {
    "ExecuteTime": {
     "end_time": "2022-07-05T07:55:07.767664Z",
     "start_time": "2022-07-05T07:55:07.753705Z"
    }
   },
   "outputs": [
    {
     "name": "stdout",
     "output_type": "stream",
     "text": [
      "train : x : (45000, 32, 32, 3) , y : (45000, 1)\n",
      "test : x : (10000, 32, 32, 3) , y : (10000, 1)\n",
      "valid : x : (5000, 32, 32, 3) , y : (5000, 1)\n"
     ]
    }
   ],
   "source": [
    "print(\"train :\", \"x :\",x_train.shape, \", y :\",y_train.shape)\n",
    "print(\"test :\", \"x :\",x_test.shape, \", y :\",y_test.shape)\n",
    "print(\"valid :\", \"x :\",x_valid.shape, \", y :\",y_valid.shape)"
   ]
  },
  {
   "cell_type": "code",
   "execution_count": 5,
   "id": "8f4e16fb",
   "metadata": {
    "ExecuteTime": {
     "end_time": "2022-07-05T07:55:08.801342Z",
     "start_time": "2022-07-05T07:55:07.769622Z"
    }
   },
   "outputs": [],
   "source": [
    "train_ds = tf.data.Dataset.from_tensor_slices((x_train, y_train))\n",
    "test_ds = tf.data.Dataset.from_tensor_slices((x_test, y_test))\n",
    "validation_ds = tf.data.Dataset.from_tensor_slices((x_valid, y_valid))"
   ]
  },
  {
   "cell_type": "markdown",
   "id": "87427210",
   "metadata": {},
   "source": [
    "# 전처리"
   ]
  },
  {
   "cell_type": "markdown",
   "id": "663f41cc",
   "metadata": {},
   "source": [
    "## 데이터 확인"
   ]
  },
  {
   "cell_type": "code",
   "execution_count": 6,
   "id": "945abacc",
   "metadata": {
    "ExecuteTime": {
     "end_time": "2022-07-05T07:55:09.148696Z",
     "start_time": "2022-07-05T07:55:08.803256Z"
    }
   },
   "outputs": [
    {
     "data": {
      "image/png": "[encoded data removed]",
      "text/plain": [
       "<Figure size 1080x1080 with 5 Axes>"
      ]
     },
     "metadata": {
      "needs_background": "light"
     },
     "output_type": "display_data"
    }
   ],
   "source": [
    "plt.figure(figsize=(15,15))\n",
    "for i, (image, label) in enumerate(train_ds.take(5)):\n",
    "    ax = plt.subplot(5,5,i+1)\n",
    "    plt.imshow(image)\n",
    "    plt.title(class_names[label.numpy()[0]])\n",
    "    plt.axis('off')"
   ]
  },
  {
   "cell_type": "markdown",
   "id": "02f8420a",
   "metadata": {},
   "source": [
    "## 이미지 조정"
   ]
  },
  {
   "cell_type": "code",
   "execution_count": 7,
   "id": "8c4e4600",
   "metadata": {
    "ExecuteTime": {
     "end_time": "2022-07-05T07:55:09.163923Z",
     "start_time": "2022-07-05T07:55:09.149625Z"
    }
   },
   "outputs": [],
   "source": [
    "def process_images(image, label):\n",
    "    # Normalize images to have a mean of 0 and standard deviation of 1\n",
    "    image = tf.image.per_image_standardization(image)\n",
    "    # Resize images from 32x32 to 277x277\n",
    "    # AlexNet 은 input으로 277x277 을 받기 때문\n",
    "    image = tf.image.resize(image, (227,227))\n",
    "    return image, label"
   ]
  },
  {
   "cell_type": "markdown",
   "id": "41a66c10",
   "metadata": {},
   "source": [
    "## Pipeline\n",
    "\n",
    "* 이미지 조정\n",
    "* 데이터셋 셔플\n",
    "* Batch 설정"
   ]
  },
  {
   "cell_type": "code",
   "execution_count": 8,
   "id": "548bda54",
   "metadata": {
    "ExecuteTime": {
     "end_time": "2022-07-05T07:55:09.179881Z",
     "start_time": "2022-07-05T07:55:09.165880Z"
    }
   },
   "outputs": [
    {
     "name": "stdout",
     "output_type": "stream",
     "text": [
      "Training data size: 45000\n",
      "Test data size: 10000\n",
      "Validation data size: 5000\n"
     ]
    }
   ],
   "source": [
    "train_ds_size = tf.data.experimental.cardinality(train_ds).numpy()\n",
    "test_ds_size = tf.data.experimental.cardinality(test_ds).numpy()\n",
    "validation_ds_size = tf.data.experimental.cardinality(validation_ds).numpy()\n",
    "print(\"Training data size:\", train_ds_size)\n",
    "print(\"Test data size:\", test_ds_size)\n",
    "print(\"Validation data size:\", validation_ds_size)"
   ]
  },
  {
   "cell_type": "code",
   "execution_count": 9,
   "id": "6faaf7ce",
   "metadata": {
    "ExecuteTime": {
     "end_time": "2022-07-05T07:55:10.373894Z",
     "start_time": "2022-07-05T07:55:10.208391Z"
    }
   },
   "outputs": [],
   "source": [
    "train_ds = (train_ds\n",
    "                  .map(process_images)\n",
    "                  .shuffle(buffer_size=train_ds_size)\n",
    "                  .batch(batch_size=32, drop_remainder=True))\n",
    "test_ds = (test_ds\n",
    "                  .map(process_images)\n",
    "                  .shuffle(buffer_size=train_ds_size)\n",
    "                  .batch(batch_size=32, drop_remainder=True))\n",
    "validation_ds = (validation_ds\n",
    "                  .map(process_images)\n",
    "                  .shuffle(buffer_size=train_ds_size)\n",
    "                  .batch(batch_size=32, drop_remainder=True))"
   ]
  },
  {
   "cell_type": "markdown",
   "id": "f240c4bd",
   "metadata": {},
   "source": [
    "# 모델 구현\n",
    "\n",
    "**AlexNet layer**\n",
    "- Conv layer\n",
    "- Batch normalisation layer\n",
    "- Max Pooling layer\n",
    "- Flatten layer\n",
    "- Dense layer\n",
    "- Dropout\n",
    "\n",
    "**AlexNet Activation**\n",
    "- ReLU\n",
    "- Softmax"
   ]
  },
  {
   "cell_type": "code",
   "execution_count": 10,
   "id": "692b8d23",
   "metadata": {
    "ExecuteTime": {
     "end_time": "2022-07-05T07:55:12.818503Z",
     "start_time": "2022-07-05T07:55:12.304241Z"
    }
   },
   "outputs": [],
   "source": [
    "from tensorflow.keras import models, layers, utils\n",
    "\n",
    "def Build_AlexNet():\n",
    "    x = layers.Input(shape=(227,227,3), name=\"Input\")\n",
    "    \n",
    "    y = layers.Conv2D(filters=96, kernel_size=(11,11), strides=(4,4), activation='relu', name=\"C1\")(x)\n",
    "    y = layers.BatchNormalization(name=\"N1\")(y)\n",
    "    y = layers.MaxPool2D(pool_size=(3,3), strides=(2,2), name=\"P1\")(y)\n",
    "    \n",
    "    y = layers.Conv2D(filters=256, kernel_size=(5,5), strides=(1,1), activation='relu', padding=\"same\", name=\"C2\")(y)\n",
    "    y = layers.BatchNormalization(name=\"N2\")(y)\n",
    "    y = layers.MaxPool2D(pool_size=(3,3), strides=(2,2), name=\"P2\")(y)\n",
    "    \n",
    "    y = layers.Conv2D(filters=384, kernel_size=(3,3), strides=(1,1), activation='relu', padding=\"same\", name=\"C3\")(y)\n",
    "    y = layers.BatchNormalization(name=\"N3\")(y)\n",
    "    \n",
    "    y = layers.Conv2D(filters=384, kernel_size=(3,3), strides=(1,1), activation='relu', padding=\"same\", name=\"C4\")(y)\n",
    "    y = layers.BatchNormalization(name=\"N4\")(y)\n",
    "    \n",
    "    y = layers.Conv2D(filters=256, kernel_size=(3,3), strides=(1,1), activation='relu', padding=\"same\", name=\"C5\")(y)\n",
    "    y = layers.BatchNormalization(name=\"N5\")(y)\n",
    "    y = layers.MaxPool2D(pool_size=(3,3), strides=(2,2), name=\"P5\")(y)\n",
    "    \n",
    "    y = layers.Flatten(name=\"Flatten\")(y)\n",
    "    y = layers.Dense(4096, activation='relu', name=\"D1\")(y)\n",
    "    y = layers.Dropout(0.5, name=\"Drop1\")(y)\n",
    "    y = layers.Dense(4096, activation='relu', name=\"D2\")(y)\n",
    "    y = layers.Dropout(0.5, name=\"Drop2\")(y)\n",
    "    y = layers.Dense(10, activation='softmax', name=\"Output\")(y)\n",
    "    model = models.Model(x,y, name=\"AlexNet\")\n",
    "    return model\n",
    "\n",
    "alex = Build_AlexNet()"
   ]
  },
  {
   "cell_type": "markdown",
   "id": "5f810d68",
   "metadata": {},
   "source": [
    "# Tensorboard"
   ]
  },
  {
   "cell_type": "code",
   "execution_count": 11,
   "id": "85aa6c04",
   "metadata": {
    "ExecuteTime": {
     "end_time": "2022-07-05T07:55:13.594249Z",
     "start_time": "2022-07-05T07:55:13.577295Z"
    }
   },
   "outputs": [],
   "source": [
    "root_logdir = os.path.join(os.curdir, \"logs\\\\fit\\\\\")\n",
    "def get_run_logdir():\n",
    "    run_id = time.strftime(\"run_%Y_%m_%d-%H_%M_%S\")\n",
    "    return os.path.join(root_logdir, run_id)\n",
    "run_logdir = get_run_logdir()\n",
    "tensorboard_cb = tf.keras.callbacks.TensorBoard(run_logdir)"
   ]
  },
  {
   "cell_type": "markdown",
   "id": "964625a8",
   "metadata": {},
   "source": [
    "# Compile"
   ]
  },
  {
   "cell_type": "code",
   "execution_count": 12,
   "id": "d1325e4f",
   "metadata": {
    "ExecuteTime": {
     "end_time": "2022-07-05T07:55:14.681423Z",
     "start_time": "2022-07-05T07:55:14.656488Z"
    }
   },
   "outputs": [
    {
     "name": "stdout",
     "output_type": "stream",
     "text": [
      "Model: \"AlexNet\"\n",
      "_________________________________________________________________\n",
      " Layer (type)                Output Shape              Param #   \n",
      "=================================================================\n",
      " Input (InputLayer)          [(None, 227, 227, 3)]     0         \n",
      "                                                                 \n",
      " C1 (Conv2D)                 (None, 55, 55, 96)        34944     \n",
      "                                                                 \n",
      " N1 (BatchNormalization)     (None, 55, 55, 96)        384       \n",
      "                                                                 \n",
      " P1 (MaxPooling2D)           (None, 27, 27, 96)        0         \n",
      "                                                                 \n",
      " C2 (Conv2D)                 (None, 27, 27, 256)       614656    \n",
      "                                                                 \n",
      " N2 (BatchNormalization)     (None, 27, 27, 256)       1024      \n",
      "                                                                 \n",
      " P2 (MaxPooling2D)           (None, 13, 13, 256)       0         \n",
      "                                                                 \n",
      " C3 (Conv2D)                 (None, 13, 13, 384)       885120    \n",
      "                                                                 \n",
      " N3 (BatchNormalization)     (None, 13, 13, 384)       1536      \n",
      "                                                                 \n",
      " C4 (Conv2D)                 (None, 13, 13, 384)       1327488   \n",
      "                                                                 \n",
      " N4 (BatchNormalization)     (None, 13, 13, 384)       1536      \n",
      "                                                                 \n",
      " C5 (Conv2D)                 (None, 13, 13, 256)       884992    \n",
      "                                                                 \n",
      " N5 (BatchNormalization)     (None, 13, 13, 256)       1024      \n",
      "                                                                 \n",
      " P5 (MaxPooling2D)           (None, 6, 6, 256)         0         \n",
      "                                                                 \n",
      " Flatten (Flatten)           (None, 9216)              0         \n",
      "                                                                 \n",
      " D1 (Dense)                  (None, 4096)              37752832  \n",
      "                                                                 \n",
      " Drop1 (Dropout)             (None, 4096)              0         \n",
      "                                                                 \n",
      " D2 (Dense)                  (None, 4096)              16781312  \n",
      "                                                                 \n",
      " Drop2 (Dropout)             (None, 4096)              0         \n",
      "                                                                 \n",
      " Output (Dense)              (None, 10)                40970     \n",
      "                                                                 \n",
      "=================================================================\n",
      "Total params: 58,327,818\n",
      "Trainable params: 58,325,066\n",
      "Non-trainable params: 2,752\n",
      "_________________________________________________________________\n"
     ]
    }
   ],
   "source": [
    "alex.compile(loss='sparse_categorical_crossentropy',\n",
    "              optimizer=tf.optimizers.SGD(learning_rate=0.001),\n",
    "              metrics=['accuracy'])\n",
    "alex.summary()"
   ]
  },
  {
   "cell_type": "markdown",
   "id": "4d8b4956",
   "metadata": {},
   "source": [
    "# fit"
   ]
  },
  {
   "cell_type": "code",
   "execution_count": null,
   "id": "26d53c6a",
   "metadata": {
    "ExecuteTime": {
     "start_time": "2022-07-05T07:55:21.062Z"
    }
   },
   "outputs": [
    {
     "data": {
      "application/vnd.jupyter.widget-view+json": {
       "model_id": "e8c78964447b440dbeeab490fdfbed1b",
       "version_major": 2,
       "version_minor": 0
      },
      "text/plain": [
       "Training:   0%|                                                                                0/50 ETA: ?s,  …"
      ]
     },
     "metadata": {},
     "output_type": "display_data"
    },
    {
     "name": "stdout",
     "output_type": "stream",
     "text": [
      "Epoch 1/50\n"
     ]
    },
    {
     "data": {
      "application/vnd.jupyter.widget-view+json": {
       "model_id": "5857e8f056a04e7c99af5489890fa771",
       "version_major": 2,
       "version_minor": 0
      },
      "text/plain": [
       "0/1406                                                                                                       E…"
      ]
     },
     "metadata": {},
     "output_type": "display_data"
    }
   ],
   "source": [
    "alex.fit(train_ds,\n",
    "          epochs=50,\n",
    "          validation_data=validation_ds,\n",
    "          validation_freq=1,\n",
    "          verbose=0,\n",
    "          callbacks=[tqdm_callback])"
   ]
  },
  {
   "cell_type": "code",
   "execution_count": null,
   "id": "99ad2b85",
   "metadata": {},
   "outputs": [],
   "source": []
  }
 ],
 "metadata": {
  "kernelspec": {
   "display_name": "Python 3 (ipykernel)",
   "language": "python",
   "name": "python3"
  },
  "language_info": {
   "codemirror_mode": {
    "name": "ipython",
    "version": 3
   },
   "file_extension": ".py",
   "mimetype": "text/x-python",
   "name": "python",
   "nbconvert_exporter": "python",
   "pygments_lexer": "ipython3",
   "version": "3.8.13"
  },
  "toc": {
   "base_numbering": 1,
   "nav_menu": {},
   "number_sections": true,
   "sideBar": true,
   "skip_h1_title": false,
   "title_cell": "Table of Contents",
   "title_sidebar": "Contents",
   "toc_cell": false,
   "toc_position": {},
   "toc_section_display": true,
   "toc_window_display": false
  }
 },
 "nbformat": 4,
 "nbformat_minor": 5
}
