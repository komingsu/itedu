{
 "cells": [
  {
   "cell_type": "markdown",
   "metadata": {
    "id": "sWs2kEC1_b-P"
   },
   "source": [
    "# ch03.04_순환신경망 - Bidirectional-LSTM\n",
    "---\n",
    "\n",
    "* 날짜:\n",
    "* 이름:\n",
    "\n",
    "\n",
    "## 학습내용\n",
    "    - 순환 신경망에 대해 이해한다.\n",
    "    - BiLSTM\n",
    "    - 로이터 뉴스기사 카테고리 분류\n",
    "    - 스팀 리뷰 걈성 분류"
   ]
  },
  {
   "cell_type": "code",
   "execution_count": 15,
   "metadata": {
    "ExecuteTime": {
     "end_time": "2022-07-18T00:24:00.897965Z",
     "start_time": "2022-07-18T00:24:00.351026Z"
    }
   },
   "outputs": [],
   "source": [
    "import tensorflow as tf\n",
    "import numpy as np\n",
    "import matplotlib.pyplot as plt\n",
    "import seaborn as sns"
   ]
  },
  {
   "cell_type": "markdown",
   "metadata": {
    "id": "8p8bPIfRIhKX"
   },
   "source": [
    "## 로이터 뉴스 기사 분류\n",
    "---"
   ]
  },
  {
   "cell_type": "markdown",
   "metadata": {
    "id": "vsiAIDozNzdJ"
   },
   "source": [
    "### | 데이터 전처리 "
   ]
  },
  {
   "cell_type": "markdown",
   "metadata": {
    "id": "NX2nURXZOBKT"
   },
   "source": [
    "#### **데이터 불러오기**"
   ]
  },
  {
   "cell_type": "code",
   "execution_count": 97,
   "metadata": {
    "ExecuteTime": {
     "end_time": "2022-07-18T01:09:55.963316Z",
     "start_time": "2022-07-18T01:09:55.567805Z"
    },
    "id": "Oo0uXWUcqOvD"
   },
   "outputs": [
    {
     "name": "stdout",
     "output_type": "stream",
     "text": [
      "훈련 데이터 :  (8982,) (8982,)\n",
      "테스트 데이터 :  (2246,) (2246,)\n"
     ]
    },
    {
     "name": "stderr",
     "output_type": "stream",
     "text": [
      "C:\\Users\\user\\miniconda3\\envs\\deep_tf\\lib\\site-packages\\tensorflow\\python\\keras\\datasets\\reuters.py:148: VisibleDeprecationWarning: Creating an ndarray from ragged nested sequences (which is a list-or-tuple of lists-or-tuples-or ndarrays with different lengths or shapes) is deprecated. If you meant to do this, you must specify 'dtype=object' when creating the ndarray\n",
      "  x_train, y_train = np.array(xs[:idx]), np.array(labels[:idx])\n",
      "C:\\Users\\user\\miniconda3\\envs\\deep_tf\\lib\\site-packages\\tensorflow\\python\\keras\\datasets\\reuters.py:149: VisibleDeprecationWarning: Creating an ndarray from ragged nested sequences (which is a list-or-tuple of lists-or-tuples-or ndarrays with different lengths or shapes) is deprecated. If you meant to do this, you must specify 'dtype=object' when creating the ndarray\n",
      "  x_test, y_test = np.array(xs[idx:]), np.array(labels[idx:])\n"
     ]
    }
   ],
   "source": [
    "MAX_FEATURES = 1000\n",
    "(x_train, y_train), (x_test, y_test) = tf.keras.datasets.reuters.load_data(num_words=MAX_FEATURES)\n",
    "print(\"훈련 데이터 : \", x_train.shape, y_train.shape)\n",
    "print(\"테스트 데이터 : \", x_test.shape, y_test.shape)"
   ]
  },
  {
   "cell_type": "markdown",
   "metadata": {
    "id": "GRIJDoKNQxap"
   },
   "source": [
    "#### **데이터 확인**"
   ]
  },
  {
   "cell_type": "code",
   "execution_count": 98,
   "metadata": {
    "ExecuteTime": {
     "end_time": "2022-07-18T01:10:09.527870Z",
     "start_time": "2022-07-18T01:10:09.511863Z"
    }
   },
   "outputs": [
    {
     "name": "stdout",
     "output_type": "stream",
     "text": [
      "k : the \t v : 4\n",
      "k : in \t v : 7\n",
      "k : of \t v : 5\n",
      "k : to \t v : 6\n",
      "k : a \t v : 10\n",
      "k : said \t v : 8\n",
      "k : and \t v : 9\n",
      "k : <PAD> \t v : 0\n",
      "k : <START> \t v : 1\n",
      "k : <UNK> \t v : 2\n",
      "k : <UNUSED> \t v : 3\n"
     ]
    }
   ],
   "source": [
    "for k, v in word2index.items():\n",
    "    if v <=10:\n",
    "        print(\"k :\",k,\"\\t\",\"v :\",v)"
   ]
  },
  {
   "cell_type": "code",
   "execution_count": 99,
   "metadata": {
    "ExecuteTime": {
     "end_time": "2022-07-18T01:10:09.749723Z",
     "start_time": "2022-07-18T01:10:09.735862Z"
    },
    "id": "uUhkX_Tftxz1"
   },
   "outputs": [
    {
     "name": "stdout",
     "output_type": "stream",
     "text": [
      "첫번째 기사 : [1, 2, 2, 8, 43, 10, 447, 5, 25, 207, 270, 5, 2, 111, 16, 369, 186, 90, 67, 7, 89, 5, 19, 102, 6, 19, 124, 15, 90, 67, 84, 22, 482, 26, 7, 48, 4, 49, 8, 864, 39, 209, 154, 6, 151, 6, 83, 11, 15, 22, 155, 11, 15, 7, 48, 9, 2, 2, 504, 6, 258, 6, 272, 11, 15, 22, 134, 44, 11, 15, 16, 8, 197, 2, 90, 67, 52, 29, 209, 30, 32, 132, 6, 109, 15, 17, 12]\n",
      "첫번째 기사의 카테고리 : 3\n",
      "카테고리 개수 : 45\n"
     ]
    }
   ],
   "source": [
    "print(\"첫번째 기사 :\", x_train[0])\n",
    "print(\"첫번째 기사의 카테고리 :\", y_train[0])\n",
    "print(\"카테고리 개수 :\", np.max(y_train))"
   ]
  },
  {
   "cell_type": "code",
   "execution_count": 100,
   "metadata": {
    "ExecuteTime": {
     "end_time": "2022-07-18T01:10:10.759424Z",
     "start_time": "2022-07-18T01:10:10.223800Z"
    },
    "id": "XKGphxS_ulZW"
   },
   "outputs": [
    {
     "name": "stdout",
     "output_type": "stream",
     "text": [
      "뉴스기사의 평균 길이 :  145.5398574927633\n"
     ]
    },
    {
     "data": {
      "image/png": "[encoded data removed]",
      "text/plain": [
       "<Figure size 864x288 with 2 Axes>"
      ]
     },
     "metadata": {
      "needs_background": "light"
     },
     "output_type": "display_data"
    }
   ],
   "source": [
    "# 뉴스 기사의 평균 길이\n",
    "plt.figure(figsize=(12,4))\n",
    "len_sample = [len(x) for x in x_train]\n",
    "plt.subplot(121); sns.histplot(x=len_sample)\n",
    "plt.subplot(122); sns.countplot(x=y_train)\n",
    "print(\"뉴스기사의 평균 길이 : \", np.mean(len_sample))"
   ]
  },
  {
   "cell_type": "code",
   "execution_count": 101,
   "metadata": {
    "ExecuteTime": {
     "end_time": "2022-07-18T01:10:11.029393Z",
     "start_time": "2022-07-18T01:10:10.919374Z"
    }
   },
   "outputs": [
    {
     "name": "stdout",
     "output_type": "stream",
     "text": [
      "훈련 데이터 :  (8982, 128) (8982,)\n",
      "테스트 데이터 :  (2246, 128) (2246,)\n"
     ]
    }
   ],
   "source": [
    "# 데이터 전처리 : 패딩\n",
    "MAX_LEN = 128\n",
    "x_train = tf.keras.preprocessing.sequence.pad_sequences(x_train, maxlen=MAX_LEN, padding=\"post\")\n",
    "x_test = tf.keras.preprocessing.sequence.pad_sequences(x_test, maxlen=MAX_LEN, padding=\"post\")\n",
    "print(\"훈련 데이터 : \", x_train.shape, y_train.shape)\n",
    "print(\"테스트 데이터 : \", x_test.shape, y_test.shape)"
   ]
  },
  {
   "cell_type": "code",
   "execution_count": 105,
   "metadata": {
    "ExecuteTime": {
     "end_time": "2022-07-18T01:10:59.324072Z",
     "start_time": "2022-07-18T01:10:59.311858Z"
    }
   },
   "outputs": [],
   "source": [
    "x_train_rev = x_train[:,::-1]\n",
    "x_test_rev = x_test[:,::-1]"
   ]
  },
  {
   "cell_type": "markdown",
   "metadata": {
    "id": "SpHn4qQQ8hG2"
   },
   "source": [
    "### | 임베딩 매트릭스 제작\n",
    "\n",
    "```\n",
    "! gdown https://drive.google.com/u/0/uc?id=1ams5_zp8NrfmbxSzTDCglRpAvjFGi5JY&export=download\n",
    "! unzip  /content/glove.6B.zip\n",
    "```\n"
   ]
  },
  {
   "cell_type": "code",
   "execution_count": null,
   "metadata": {
    "id": "HCDADTlSqbYZ"
   },
   "outputs": [],
   "source": []
  },
  {
   "cell_type": "markdown",
   "metadata": {
    "id": "9GVk6or2Njul"
   },
   "source": [
    "#### **단어-임베딩 딕셔너리**\n",
    "\n",
    "```\n",
    "embeddings_index = {}\n",
    "f = open('glove.6B.100d.txt', encoding=\"utf8\")\n",
    "for line in f:\n",
    "    values = line.split()\n",
    "    word = values[0]\n",
    "    coefs = np.asarray(values[1:], dtype='float32')\n",
    "    embeddings_index[word] = coefs\n",
    "f.close()\n",
    "```"
   ]
  },
  {
   "cell_type": "code",
   "execution_count": 77,
   "metadata": {
    "ExecuteTime": {
     "end_time": "2022-07-18T00:57:03.993441Z",
     "start_time": "2022-07-18T00:56:55.161195Z"
    },
    "id": "37gKeekxmmHI"
   },
   "outputs": [],
   "source": [
    "embeddings_index = {}\n",
    "f = open('D:Dataset/weights/glove.6B/glove.6B.100d.txt', encoding=\"utf8\")\n",
    "for line in f:\n",
    "    values = line.split()\n",
    "    word = values[0]\n",
    "    coefs = np.asarray(values[1:], dtype='float32')\n",
    "    embeddings_index[word] = coefs\n",
    "f.close()"
   ]
  },
  {
   "cell_type": "markdown",
   "metadata": {
    "id": "QH1FiV8XNsCT"
   },
   "source": [
    "#### **인덱싱-단어 딕셔너리**"
   ]
  },
  {
   "cell_type": "code",
   "execution_count": 52,
   "metadata": {
    "ExecuteTime": {
     "end_time": "2022-07-18T00:48:08.667498Z",
     "start_time": "2022-07-18T00:48:08.647214Z"
    },
    "id": "9svdZYmD_cjV"
   },
   "outputs": [],
   "source": [
    "word2index[\"<PAD>\"] = 0\n",
    "word2index[\"<START>\"] = 1\n",
    "word2index[\"<UNK>\"] = 2  # unknown\n",
    "word2index[\"<UNUSED>\"] = 3"
   ]
  },
  {
   "cell_type": "code",
   "execution_count": 41,
   "metadata": {
    "ExecuteTime": {
     "end_time": "2022-07-18T00:36:28.723844Z",
     "start_time": "2022-07-18T00:36:28.710765Z"
    },
    "id": "1NtdKKna8hG2"
   },
   "outputs": [],
   "source": [
    "index2word = {}\n",
    "for k, v in word2index.items():\n",
    "    index2word[v]=k"
   ]
  },
  {
   "cell_type": "code",
   "execution_count": 85,
   "metadata": {
    "ExecuteTime": {
     "end_time": "2022-07-18T01:04:40.237864Z",
     "start_time": "2022-07-18T01:04:40.233014Z"
    }
   },
   "outputs": [
    {
     "name": "stdout",
     "output_type": "stream",
     "text": [
      "imdb 딕셔너리의 모든 단어 수 : 30983\n",
      "우리 모델에서 사용할 모든 단어 수 : 1000\n",
      "glove 임베딩 에 있는 모든 단어 수 :  400000\n"
     ]
    }
   ],
   "source": [
    "print('imdb 딕셔너리의 모든 단어 수 :', len(word2index))\n",
    "print('우리 모델에서 사용할 모든 단어 수 :', MAX_FEATURES)\n",
    "print('glove 임베딩 에 있는 모든 단어 수 : ', len(embeddings_index))"
   ]
  },
  {
   "cell_type": "markdown",
   "metadata": {
    "id": "NieZaIgDNvAz"
   },
   "source": [
    "#### **매트릭스 제작**"
   ]
  },
  {
   "cell_type": "code",
   "execution_count": 92,
   "metadata": {
    "ExecuteTime": {
     "end_time": "2022-07-18T01:07:58.663684Z",
     "start_time": "2022-07-18T01:07:58.648291Z"
    },
    "id": "VReeqJ0k8hG2"
   },
   "outputs": [
    {
     "data": {
      "text/plain": [
       "array([[-0.038194  , -0.24487001,  0.72812003, ..., -0.1459    ,\n",
       "         0.82779998,  0.27061999],\n",
       "       [-0.1529    , -0.24279   ,  0.89837003, ..., -0.59100002,\n",
       "         1.00390005,  0.20664001],\n",
       "       [-0.18970001,  0.050024  ,  0.19084001, ..., -0.39804   ,\n",
       "         0.47646999, -0.15983   ],\n",
       "       ...,\n",
       "       [ 0.29771999, -0.71969998,  0.74861002, ..., -0.15904   ,\n",
       "         0.68975002,  0.28130999],\n",
       "       [ 0.81173003,  0.39831999,  0.41034001, ...,  0.30888   ,\n",
       "        -0.002799  , -0.15683   ],\n",
       "       [ 0.19282   , -0.55668002,  0.27074999, ..., -0.075447  ,\n",
       "         0.83173001, -0.48824   ]])"
      ]
     },
     "execution_count": 92,
     "metadata": {},
     "output_type": "execute_result"
    }
   ],
   "source": [
    "embed_mx = np.zeros((MAX_FEATURES, 100))\n",
    "# 매트릭스의 크기 : (500, 100)\n",
    "embed_mx.shape\n",
    "\n",
    "for idx in range(4, 1004):\n",
    "    word = index2word[idx]\n",
    "    embed = embeddings_index.get(word)  # 딕셔너리.get 함수는 없으면 None값 반환\n",
    "    #print(word, embed)\n",
    "    if embed is not None:\n",
    "        embed_mx[idx - 4] = embed\n",
    "        \n",
    "embed_mx"
   ]
  },
  {
   "cell_type": "markdown",
   "metadata": {
    "id": "iwv9y_9WNVOY"
   },
   "source": [
    "### | 모델학습 1\n",
    "\n",
    "이때까지 배운 레이어를 사용하여 모델을 구축하세요.\n",
    "\n",
    "```\n",
    "Embedding()\n",
    "RNN()\n",
    "LSTM()\n",
    "GRU()\n",
    "GlobalAveragePooling1D()\n",
    "Dense()\n",
    "```"
   ]
  },
  {
   "cell_type": "code",
   "execution_count": 125,
   "metadata": {
    "ExecuteTime": {
     "end_time": "2022-07-18T01:16:37.164830Z",
     "start_time": "2022-07-18T01:16:36.783935Z"
    },
    "id": "7nrSjwPf8Yhq"
   },
   "outputs": [
    {
     "name": "stdout",
     "output_type": "stream",
     "text": [
      "Model: \"sequential_12\"\n",
      "_________________________________________________________________\n",
      "Layer (type)                 Output Shape              Param #   \n",
      "=================================================================\n",
      "embedding_12 (Embedding)     (None, 128, 100)          100000    \n",
      "_________________________________________________________________\n",
      "gru_9 (GRU)                  (None, 128, 64)           31872     \n",
      "_________________________________________________________________\n",
      "gru_10 (GRU)                 (None, 128, 64)           24960     \n",
      "_________________________________________________________________\n",
      "global_average_pooling1d_1 ( (None, 64)                0         \n",
      "_________________________________________________________________\n",
      "dense_12 (Dense)             (None, 46)                2990      \n",
      "=================================================================\n",
      "Total params: 159,822\n",
      "Trainable params: 159,822\n",
      "Non-trainable params: 0\n",
      "_________________________________________________________________\n"
     ]
    }
   ],
   "source": [
    "EMB_DIMS = 100\n",
    "model = tf.keras.Sequential()\n",
    "model.add(tf.keras.layers.Input(shape=MAX_LEN))\n",
    "model.add(tf.keras.layers.Embedding(MAX_FEATURES, EMB_DIMS))\n",
    "model.add(tf.keras.layers.GRU(64,return_sequences=True))\n",
    "model.add(tf.keras.layers.GRU(64,return_sequences=True))\n",
    "model.add(tf.keras.layers.GlobalAveragePooling1D())\n",
    "model.add(tf.keras.layers.Dense(46,activation=\"softmax\"))\n",
    "\n",
    "model.summary()"
   ]
  },
  {
   "cell_type": "code",
   "execution_count": 126,
   "metadata": {
    "ExecuteTime": {
     "end_time": "2022-07-18T01:16:40.184035Z",
     "start_time": "2022-07-18T01:16:40.168033Z"
    }
   },
   "outputs": [],
   "source": [
    "model.layers[0].set_weights([embed_mx]) # 가중치를 Glove 값으로 초기화"
   ]
  },
  {
   "cell_type": "code",
   "execution_count": 127,
   "metadata": {
    "ExecuteTime": {
     "end_time": "2022-07-18T01:16:40.827670Z",
     "start_time": "2022-07-18T01:16:40.815668Z"
    }
   },
   "outputs": [],
   "source": [
    "model.compile(optimizer='adam',\n",
    "              loss=tf.keras.losses.SparseCategoricalCrossentropy(),\n",
    "              metrics=['acc'])"
   ]
  },
  {
   "cell_type": "code",
   "execution_count": 128,
   "metadata": {
    "ExecuteTime": {
     "end_time": "2022-07-18T01:17:39.779457Z",
     "start_time": "2022-07-18T01:16:43.688004Z"
    }
   },
   "outputs": [
    {
     "name": "stdout",
     "output_type": "stream",
     "text": [
      "Epoch 1/30\n",
      "71/71 [==============================] - 5s 32ms/step - loss: 2.7704 - acc: 0.3080 - val_loss: 2.1574 - val_acc: 0.4252\n",
      "Epoch 2/30\n",
      "71/71 [==============================] - 2s 25ms/step - loss: 2.0948 - acc: 0.4312 - val_loss: 1.8930 - val_acc: 0.5111\n",
      "Epoch 3/30\n",
      "71/71 [==============================] - 2s 24ms/step - loss: 1.8094 - acc: 0.5329 - val_loss: 1.7444 - val_acc: 0.5708\n",
      "Epoch 4/30\n",
      "71/71 [==============================] - 2s 25ms/step - loss: 1.7000 - acc: 0.5748 - val_loss: 1.6660 - val_acc: 0.5917\n",
      "Epoch 5/30\n",
      "71/71 [==============================] - 2s 24ms/step - loss: 1.5848 - acc: 0.6048 - val_loss: 1.5851 - val_acc: 0.6229\n",
      "Epoch 6/30\n",
      "71/71 [==============================] - 2s 24ms/step - loss: 1.4620 - acc: 0.6358 - val_loss: 1.5327 - val_acc: 0.6238\n",
      "Epoch 7/30\n",
      "71/71 [==============================] - 2s 26ms/step - loss: 1.3777 - acc: 0.6572 - val_loss: 1.4590 - val_acc: 0.6420\n",
      "Epoch 8/30\n",
      "71/71 [==============================] - 2s 25ms/step - loss: 1.3144 - acc: 0.6696 - val_loss: 1.4199 - val_acc: 0.6532\n",
      "Epoch 9/30\n",
      "71/71 [==============================] - 2s 25ms/step - loss: 1.2414 - acc: 0.6873 - val_loss: 1.3858 - val_acc: 0.6643\n",
      "Epoch 10/30\n",
      "71/71 [==============================] - 2s 25ms/step - loss: 1.1815 - acc: 0.7017 - val_loss: 1.3532 - val_acc: 0.6808\n",
      "Epoch 11/30\n",
      "71/71 [==============================] - 2s 24ms/step - loss: 1.1540 - acc: 0.7105 - val_loss: 1.3329 - val_acc: 0.6857\n",
      "Epoch 12/30\n",
      "71/71 [==============================] - 2s 25ms/step - loss: 1.0821 - acc: 0.7313 - val_loss: 1.3064 - val_acc: 0.6972\n",
      "Epoch 13/30\n",
      "71/71 [==============================] - 2s 25ms/step - loss: 1.0386 - acc: 0.7445 - val_loss: 1.2869 - val_acc: 0.6977\n",
      "Epoch 14/30\n",
      "71/71 [==============================] - 2s 24ms/step - loss: 0.9711 - acc: 0.7566 - val_loss: 1.2848 - val_acc: 0.6959\n",
      "Epoch 15/30\n",
      "71/71 [==============================] - 2s 25ms/step - loss: 0.9463 - acc: 0.7639 - val_loss: 1.2715 - val_acc: 0.6946\n",
      "Epoch 16/30\n",
      "71/71 [==============================] - 2s 25ms/step - loss: 0.9010 - acc: 0.7784 - val_loss: 1.2693 - val_acc: 0.7030\n",
      "Epoch 17/30\n",
      "71/71 [==============================] - 2s 25ms/step - loss: 0.8697 - acc: 0.7823 - val_loss: 1.2512 - val_acc: 0.7053\n",
      "Epoch 18/30\n",
      "71/71 [==============================] - 2s 25ms/step - loss: 0.8369 - acc: 0.7915 - val_loss: 1.2706 - val_acc: 0.7053\n",
      "Epoch 19/30\n",
      "71/71 [==============================] - 2s 25ms/step - loss: 0.8076 - acc: 0.7999 - val_loss: 1.2731 - val_acc: 0.7053\n",
      "Epoch 20/30\n",
      "71/71 [==============================] - 2s 25ms/step - loss: 0.8008 - acc: 0.8025 - val_loss: 1.2917 - val_acc: 0.7057\n",
      "Epoch 21/30\n",
      "71/71 [==============================] - 2s 25ms/step - loss: 0.7674 - acc: 0.8084 - val_loss: 1.3176 - val_acc: 0.6910\n",
      "Epoch 22/30\n",
      "71/71 [==============================] - 2s 26ms/step - loss: 0.7243 - acc: 0.8208 - val_loss: 1.2944 - val_acc: 0.7039\n",
      "Epoch 23/30\n",
      "71/71 [==============================] - 2s 25ms/step - loss: 0.7063 - acc: 0.8253 - val_loss: 1.2797 - val_acc: 0.7088\n",
      "Epoch 24/30\n",
      "71/71 [==============================] - 2s 25ms/step - loss: 0.6719 - acc: 0.8324 - val_loss: 1.3130 - val_acc: 0.7057\n",
      "Epoch 25/30\n",
      "71/71 [==============================] - 2s 26ms/step - loss: 0.6597 - acc: 0.8371 - val_loss: 1.3090 - val_acc: 0.7053\n",
      "Epoch 26/30\n",
      "71/71 [==============================] - 2s 25ms/step - loss: 0.5816 - acc: 0.8566 - val_loss: 1.2900 - val_acc: 0.7044\n",
      "Epoch 27/30\n",
      "71/71 [==============================] - 2s 25ms/step - loss: 0.5865 - acc: 0.8520 - val_loss: 1.3702 - val_acc: 0.6977\n",
      "Epoch 28/30\n",
      "71/71 [==============================] - 2s 25ms/step - loss: 0.5780 - acc: 0.8540 - val_loss: 1.3711 - val_acc: 0.6932\n",
      "Epoch 29/30\n",
      "71/71 [==============================] - 2s 25ms/step - loss: 0.6247 - acc: 0.8408 - val_loss: 1.3249 - val_acc: 0.7061\n",
      "Epoch 30/30\n",
      "71/71 [==============================] - 2s 25ms/step - loss: 0.5675 - acc: 0.8557 - val_loss: 1.3393 - val_acc: 0.7110\n"
     ]
    },
    {
     "data": {
      "text/plain": [
       "<tensorflow.python.keras.callbacks.History at 0x2902941ba88>"
      ]
     },
     "execution_count": 128,
     "metadata": {},
     "output_type": "execute_result"
    }
   ],
   "source": [
    "model.fit(x_train_rev, y_train,\n",
    "          epochs=30,\n",
    "          batch_size=128,validation_data=(x_test_rev,y_test))"
   ]
  },
  {
   "cell_type": "markdown",
   "metadata": {
    "id": "xUSkhC1nNZdT"
   },
   "source": [
    "### | 모델학습 2\n",
    "\n",
    "![](https://www.researchgate.net/profile/Arvind-Mohan-3/publication/324769532/figure/fig2/AS:619510805561344@1524714294669/LSTM-and-BiLSTM-Architectures.png)"
   ]
  },
  {
   "cell_type": "code",
   "execution_count": 130,
   "metadata": {
    "ExecuteTime": {
     "end_time": "2022-07-18T01:18:33.286092Z",
     "start_time": "2022-07-18T01:18:31.592065Z"
    },
    "id": "603FxHlGHRNq"
   },
   "outputs": [
    {
     "name": "stdout",
     "output_type": "stream",
     "text": [
      "Model: \"sequential_13\"\n",
      "_________________________________________________________________\n",
      "Layer (type)                 Output Shape              Param #   \n",
      "=================================================================\n",
      "embedding_13 (Embedding)     (None, 128, 100)          100000    \n",
      "_________________________________________________________________\n",
      "bidirectional (Bidirectional (None, 128, 128)          63744     \n",
      "_________________________________________________________________\n",
      "bidirectional_1 (Bidirection (None, 128, 128)          74496     \n",
      "_________________________________________________________________\n",
      "global_average_pooling1d_2 ( (None, 128)               0         \n",
      "_________________________________________________________________\n",
      "dense_13 (Dense)             (None, 46)                5934      \n",
      "=================================================================\n",
      "Total params: 244,174\n",
      "Trainable params: 244,174\n",
      "Non-trainable params: 0\n",
      "_________________________________________________________________\n"
     ]
    }
   ],
   "source": [
    "EMB_DIMS = 100\n",
    "model = tf.keras.Sequential()\n",
    "model.add(tf.keras.layers.Input(shape=MAX_LEN))\n",
    "model.add(tf.keras.layers.Embedding(MAX_FEATURES, EMB_DIMS))\n",
    "\n",
    "model.add(tf.keras.layers.Bidirectional( tf.keras.layers.GRU(64, return_sequences=True)))\n",
    "model.add(tf.keras.layers.Bidirectional( tf.keras.layers.GRU(64, return_sequences=True)))\n",
    "\n",
    "model.add(tf.keras.layers.GlobalAveragePooling1D())\n",
    "model.add(tf.keras.layers.Dense(46,activation=\"softmax\"))\n",
    "\n",
    "model.summary()"
   ]
  },
  {
   "cell_type": "code",
   "execution_count": 131,
   "metadata": {
    "ExecuteTime": {
     "end_time": "2022-07-18T01:18:57.213247Z",
     "start_time": "2022-07-18T01:18:57.200228Z"
    }
   },
   "outputs": [],
   "source": [
    "model.layers[0].set_weights([embed_mx]) # 가중치를 Glove 값으로 초기화\n",
    "\n",
    "model.compile(optimizer='adam',\n",
    "              loss=tf.keras.losses.SparseCategoricalCrossentropy(),\n",
    "              metrics=['acc'])"
   ]
  },
  {
   "cell_type": "code",
   "execution_count": 132,
   "metadata": {
    "ExecuteTime": {
     "end_time": "2022-07-18T01:20:41.960675Z",
     "start_time": "2022-07-18T01:19:01.439150Z"
    }
   },
   "outputs": [
    {
     "name": "stdout",
     "output_type": "stream",
     "text": [
      "Epoch 1/30\n",
      "71/71 [==============================] - 8s 58ms/step - loss: 2.6761 - acc: 0.3345 - val_loss: 2.0233 - val_acc: 0.4947\n",
      "Epoch 2/30\n",
      "71/71 [==============================] - 3s 45ms/step - loss: 1.9080 - acc: 0.5248 - val_loss: 1.7020 - val_acc: 0.5855\n",
      "Epoch 3/30\n",
      "71/71 [==============================] - 3s 43ms/step - loss: 1.5780 - acc: 0.6149 - val_loss: 1.4913 - val_acc: 0.6362\n",
      "Epoch 4/30\n",
      "71/71 [==============================] - 3s 45ms/step - loss: 1.4085 - acc: 0.6476 - val_loss: 1.3677 - val_acc: 0.6714\n",
      "Epoch 5/30\n",
      "71/71 [==============================] - 3s 44ms/step - loss: 1.2286 - acc: 0.6948 - val_loss: 1.3142 - val_acc: 0.6728\n",
      "Epoch 6/30\n",
      "71/71 [==============================] - 3s 44ms/step - loss: 1.1516 - acc: 0.7167 - val_loss: 1.2419 - val_acc: 0.6870\n",
      "Epoch 7/30\n",
      "71/71 [==============================] - 3s 44ms/step - loss: 1.0477 - acc: 0.7375 - val_loss: 1.1909 - val_acc: 0.6999\n",
      "Epoch 8/30\n",
      "71/71 [==============================] - 3s 45ms/step - loss: 0.9485 - acc: 0.7644 - val_loss: 1.1254 - val_acc: 0.7297\n",
      "Epoch 9/30\n",
      "71/71 [==============================] - 3s 44ms/step - loss: 0.8931 - acc: 0.7843 - val_loss: 1.0688 - val_acc: 0.7435\n",
      "Epoch 10/30\n",
      "71/71 [==============================] - 3s 45ms/step - loss: 0.8070 - acc: 0.8024 - val_loss: 1.0413 - val_acc: 0.7449\n",
      "Epoch 11/30\n",
      "71/71 [==============================] - 3s 43ms/step - loss: 0.7361 - acc: 0.8191 - val_loss: 1.0504 - val_acc: 0.7404\n",
      "Epoch 12/30\n",
      "71/71 [==============================] - 3s 46ms/step - loss: 0.7162 - acc: 0.8247 - val_loss: 1.0271 - val_acc: 0.7493\n",
      "Epoch 13/30\n",
      "71/71 [==============================] - 3s 45ms/step - loss: 0.6768 - acc: 0.8338 - val_loss: 1.0437 - val_acc: 0.7480\n",
      "Epoch 14/30\n",
      "71/71 [==============================] - 3s 46ms/step - loss: 0.6455 - acc: 0.8403 - val_loss: 1.0293 - val_acc: 0.7542\n",
      "Epoch 15/30\n",
      "71/71 [==============================] - 3s 45ms/step - loss: 0.5646 - acc: 0.8614 - val_loss: 1.0497 - val_acc: 0.7524\n",
      "Epoch 16/30\n",
      "71/71 [==============================] - 3s 45ms/step - loss: 0.5396 - acc: 0.8671 - val_loss: 1.0834 - val_acc: 0.7471\n",
      "Epoch 17/30\n",
      "71/71 [==============================] - 3s 44ms/step - loss: 0.5193 - acc: 0.8704 - val_loss: 1.0747 - val_acc: 0.7524\n",
      "Epoch 18/30\n",
      "71/71 [==============================] - 3s 45ms/step - loss: 0.4901 - acc: 0.8780 - val_loss: 1.0945 - val_acc: 0.7458\n",
      "Epoch 19/30\n",
      "71/71 [==============================] - 3s 44ms/step - loss: 0.4534 - acc: 0.8899 - val_loss: 1.1259 - val_acc: 0.7502\n",
      "Epoch 20/30\n",
      "71/71 [==============================] - 3s 45ms/step - loss: 0.4067 - acc: 0.9041 - val_loss: 1.1473 - val_acc: 0.7449\n",
      "Epoch 21/30\n",
      "71/71 [==============================] - 3s 46ms/step - loss: 0.4143 - acc: 0.8987 - val_loss: 1.1929 - val_acc: 0.7409\n",
      "Epoch 22/30\n",
      "71/71 [==============================] - 3s 43ms/step - loss: 0.3655 - acc: 0.9104 - val_loss: 1.1898 - val_acc: 0.7395\n",
      "Epoch 23/30\n",
      "71/71 [==============================] - 3s 45ms/step - loss: 0.3561 - acc: 0.9103 - val_loss: 1.2006 - val_acc: 0.7476\n",
      "Epoch 24/30\n",
      "71/71 [==============================] - 3s 45ms/step - loss: 0.3242 - acc: 0.9240 - val_loss: 1.2127 - val_acc: 0.7431\n",
      "Epoch 25/30\n",
      "71/71 [==============================] - 3s 44ms/step - loss: 0.2902 - acc: 0.9324 - val_loss: 1.2630 - val_acc: 0.7418\n",
      "Epoch 26/30\n",
      "71/71 [==============================] - 3s 45ms/step - loss: 0.2623 - acc: 0.9362 - val_loss: 1.2936 - val_acc: 0.7369\n",
      "Epoch 27/30\n",
      "71/71 [==============================] - 3s 45ms/step - loss: 0.2573 - acc: 0.9342 - val_loss: 1.2988 - val_acc: 0.7329\n",
      "Epoch 28/30\n",
      "71/71 [==============================] - 3s 45ms/step - loss: 0.2513 - acc: 0.9379 - val_loss: 1.3099 - val_acc: 0.7382\n",
      "Epoch 29/30\n",
      "71/71 [==============================] - 3s 46ms/step - loss: 0.2428 - acc: 0.9385 - val_loss: 1.3236 - val_acc: 0.7413\n",
      "Epoch 30/30\n",
      "71/71 [==============================] - 3s 47ms/step - loss: 0.2185 - acc: 0.9432 - val_loss: 1.3648 - val_acc: 0.7418\n"
     ]
    },
    {
     "data": {
      "text/plain": [
       "<tensorflow.python.keras.callbacks.History at 0x2902258d3c8>"
      ]
     },
     "execution_count": 132,
     "metadata": {},
     "output_type": "execute_result"
    }
   ],
   "source": [
    "model.fit(x_train_rev, y_train,\n",
    "          epochs=30,\n",
    "          batch_size=128,validation_data=(x_test_rev,y_test))"
   ]
  },
  {
   "cell_type": "markdown",
   "metadata": {
    "id": "7LRd8FqNIld5"
   },
   "source": [
    "## 스팀 리뷰 감성 분류\n",
    "---\n",
    "\n",
    "https://wikidocs.net/94748\n",
    "\n",
    "```\n",
    "# Colab에 Mecab 설치\n",
    "!git clone https://github.com/SOMJANG/Mecab-ko-for-Google-Colab.git\n",
    "%cd Mecab-ko-for-Google-Colab\n",
    "!bash install_mecab-ko_on_colab190912.sh\n",
    "```"
   ]
  },
  {
   "cell_type": "code",
   "execution_count": null,
   "metadata": {
    "id": "gYBqPQjqImqc"
   },
   "outputs": [],
   "source": []
  }
 ],
 "metadata": {
  "accelerator": "GPU",
  "colab": {
   "collapsed_sections": [],
   "name": "ch03.04_순환신경망 - Bidirectional-LSTM.ipynb",
   "provenance": []
  },
  "gpuClass": "standard",
  "kernelspec": {
   "display_name": "Python 3 (ipykernel)",
   "language": "python",
   "name": "python3"
  },
  "language_info": {
   "codemirror_mode": {
    "name": "ipython",
    "version": 3
   },
   "file_extension": ".py",
   "mimetype": "text/x-python",
   "name": "python",
   "nbconvert_exporter": "python",
   "pygments_lexer": "ipython3",
   "version": "3.7.10"
  },
  "toc": {
   "base_numbering": 1,
   "nav_menu": {},
   "number_sections": true,
   "sideBar": true,
   "skip_h1_title": false,
   "title_cell": "Table of Contents",
   "title_sidebar": "Contents",
   "toc_cell": false,
   "toc_position": {},
   "toc_section_display": true,
   "toc_window_display": false
  }
 },
 "nbformat": 4,
 "nbformat_minor": 1
}
