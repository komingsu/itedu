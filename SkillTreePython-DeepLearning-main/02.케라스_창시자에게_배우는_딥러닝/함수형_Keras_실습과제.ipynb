{
  "cells": [
    {
      "cell_type": "markdown",
      "metadata": {
        "id": "6yW3ERlRHwX0"
      },
      "source": [
        "실습 과제"
      ]
    },
    {
      "cell_type": "markdown",
      "metadata": {
        "id": "plKqxmImH5cH"
      },
      "source": [
        "## 라이브러리"
      ]
    },
    {
      "cell_type": "code",
      "execution_count": null,
      "metadata": {
        "id": "lhpp85-LHXQB"
      },
      "outputs": [],
      "source": [
        "import numpy as np\n",
        "import tensorflow as tf\n",
        "from tensorflow.keras import models, layers, utils, callbacks\n",
        "import matplotlib.pyplot as plt"
      ]
    },
    {
      "cell_type": "markdown",
      "source": [
        "## 데이터"
      ],
      "metadata": {
        "id": "h9grZ9muMO72"
      }
    },
    {
      "cell_type": "code",
      "execution_count": null,
      "metadata": {
        "colab": {
          "base_uri": "https://localhost:8080/"
        },
        "id": "uoiF5-0KHqIK",
        "outputId": "0a75e241-901b-4410-8c6a-e758449d89ee"
      },
      "outputs": [
        {
          "output_type": "stream",
          "name": "stdout",
          "text": [
            "Downloading...\n",
            "From: https://drive.google.com/u/0/uc?id=1t2qIgpWdWX_n5OC8P2ZiDfPIQ98NY_PB&export=download\n",
            "To: /content/celeba_small.npz\n",
            "100% 174M/174M [00:00<00:00, 192MB/s]\n"
          ]
        }
      ],
      "source": [
        "! gdown \"https://drive.google.com/u/0/uc?id=1t2qIgpWdWX_n5OC8P2ZiDfPIQ98NY_PB&export=download\""
      ]
    },
    {
      "cell_type": "code",
      "execution_count": null,
      "metadata": {
        "colab": {
          "base_uri": "https://localhost:8080/"
        },
        "id": "9HMcqP78HzFa",
        "outputId": "709d1363-3289-4be7-fe69-c379cdc16974"
      },
      "outputs": [
        {
          "output_type": "execute_result",
          "data": {
            "text/plain": [
              "['train_images', 'train_labels', 'test_images', 'test_labels']"
            ]
          },
          "metadata": {},
          "execution_count": 11
        }
      ],
      "source": [
        "celeba = np.load(\"celeba_small.npz\")\n",
        "list(celeba.keys())"
      ]
    },
    {
      "cell_type": "code",
      "execution_count": null,
      "metadata": {
        "id": "zHC_wU91IBv_",
        "colab": {
          "base_uri": "https://localhost:8080/"
        },
        "outputId": "ddd10263-28bb-45e3-834b-7db4114a7d30"
      },
      "outputs": [
        {
          "output_type": "execute_result",
          "data": {
            "text/plain": [
              "((2000, 72, 59, 3), (2000, 2), (200, 72, 59, 3), (200, 2))"
            ]
          },
          "metadata": {},
          "execution_count": 22
        }
      ],
      "source": [
        "x_train = celeba[\"train_images\"]\n",
        "y_train = celeba[\"train_labels\"]\n",
        "x_test = celeba[\"test_images\"]\n",
        "y_test = celeba[\"test_labels\"]\n",
        "x_train.shape, y_train.shape, x_test.shape, y_test.shape"
      ]
    },
    {
      "cell_type": "code",
      "source": [
        "y1_train = y_train[:,0]\n",
        "y2_train = y_train[:,1]\n",
        "y1_test = y_test[:,0]\n",
        "y2_test = y_test[:,1]"
      ],
      "metadata": {
        "id": "HNn3n1CbLETK"
      },
      "execution_count": null,
      "outputs": []
    },
    {
      "cell_type": "code",
      "source": [
        "train_ds = tf.data.Dataset.from_tensor_slices((x_train, y_train))"
      ],
      "metadata": {
        "id": "fO0zaGjFT3fC"
      },
      "execution_count": null,
      "outputs": []
    },
    {
      "cell_type": "code",
      "source": [
        "x_train.shape, x_test.shape, y1_train.shape, y2_train.shape, y1_test.shape, y2_test.shape"
      ],
      "metadata": {
        "colab": {
          "base_uri": "https://localhost:8080/"
        },
        "id": "TKzSV3ZGRW3v",
        "outputId": "78c8e686-30a5-48c1-fc04-6f3e74fa6873"
      },
      "execution_count": null,
      "outputs": [
        {
          "output_type": "execute_result",
          "data": {
            "text/plain": [
              "((2000, 72, 59, 3), (200, 72, 59, 3), (2000,), (2000,), (200,), (200,))"
            ]
          },
          "metadata": {},
          "execution_count": 15
        }
      ]
    },
    {
      "cell_type": "code",
      "source": [
        "plt.hist(x_train[0].flatten())"
      ],
      "metadata": {
        "colab": {
          "base_uri": "https://localhost:8080/",
          "height": 374
        },
        "id": "LhMKKGzRL1Hw",
        "outputId": "41a14001-779e-4498-c67b-a1c6ff5cfdba"
      },
      "execution_count": null,
      "outputs": [
        {
          "output_type": "execute_result",
          "data": {
            "text/plain": [
              "(array([3085., 2167., 1692., 1645., 1229., 1173.,  853.,  576.,  269.,\n",
              "          55.]),\n",
              " array([3.32336324e-05, 9.54955965e-02, 1.90957959e-01, 2.86420322e-01,\n",
              "        3.81882685e-01, 4.77345048e-01, 5.72807411e-01, 6.68269774e-01,\n",
              "        7.63732137e-01, 8.59194500e-01, 9.54656863e-01]),\n",
              " <a list of 10 Patch objects>)"
            ]
          },
          "metadata": {},
          "execution_count": 6
        },
        {
          "output_type": "display_data",
          "data": {
            "text/plain": [
              "<Figure size 432x288 with 1 Axes>"
            ],
            "image/png": "[encoded data removed]"
          },
          "metadata": {
            "needs_background": "light"
          }
        }
      ]
    },
    {
      "cell_type": "code",
      "source": [
        "def build_model():\n",
        "    x = layers.Input(shape=(72,59,3), name=\"Input\")\n",
        "\n",
        "    y = layers.Conv2D(filters=64, kernel_size=(5,5), strides=(1,1), activation='relu', padding=\"same\", name=\"C1\")(x)\n",
        "    y = layers.BatchNormalization(name=\"N1\")(y)\n",
        "    y = layers.Conv2D(filters=64, kernel_size=(5,5), strides=(1,1), activation='relu', padding=\"same\", name=\"C2\")(y)\n",
        "    y = layers.BatchNormalization(name=\"N2\")(y)\n",
        "    y = layers.MaxPool2D(pool_size=(3,3), strides=(2,2), name=\"P1\")(y)\n",
        "    y = layers.Flatten(name=\"Flatten\")(y)\n",
        "    \n",
        "    # gender\n",
        "    y1 = layers.Dense(1024, activation=\"relu\")(y)\n",
        "    y1 = layers.Dropout(0.5)(y1)\n",
        "    y1 = layers.Dense(128, activation=\"relu\")(y1)\n",
        "    y1 = layers.Dropout(0.5)(y1)\n",
        "    y1 = layers.Dense(1, activation=\"sigmoid\", name=\"gender_output\")(y1)\n",
        "    \n",
        "    # issmile\n",
        "    y2 = layers.Dense(1024, activation=\"relu\")(y)\n",
        "    y2 = layers.Dropout(0.5)(y2)\n",
        "    y2 = layers.Dense(128, activation=\"relu\")(y2)\n",
        "    y2 = layers.Dropout(0.5)(y2)\n",
        "    y2 = layers.Dense(1, activation=\"sigmoid\", name=\"issmile_output\")(y2)\n",
        "    \n",
        "    return models.Model(x,[y1, y2])\n",
        "\n",
        "model = build_model()\n",
        "model.summary()\n",
        "# utils.plot_model(model, show_shapes=True"
      ],
      "metadata": {
        "colab": {
          "base_uri": "https://localhost:8080/"
        },
        "id": "6w-wWd0LNLgj",
        "outputId": "418efeef-c99b-4645-b60b-4f307f65cdbf"
      },
      "execution_count": null,
      "outputs": [
        {
          "output_type": "stream",
          "name": "stdout",
          "text": [
            "Model: \"model_1\"\n",
            "__________________________________________________________________________________________________\n",
            " Layer (type)                   Output Shape         Param #     Connected to                     \n",
            "==================================================================================================\n",
            " Input (InputLayer)             [(None, 72, 59, 3)]  0           []                               \n",
            "                                                                                                  \n",
            " C1 (Conv2D)                    (None, 72, 59, 64)   4864        ['Input[0][0]']                  \n",
            "                                                                                                  \n",
            " N1 (BatchNormalization)        (None, 72, 59, 64)   256         ['C1[0][0]']                     \n",
            "                                                                                                  \n",
            " C2 (Conv2D)                    (None, 72, 59, 64)   102464      ['N1[0][0]']                     \n",
            "                                                                                                  \n",
            " N2 (BatchNormalization)        (None, 72, 59, 64)   256         ['C2[0][0]']                     \n",
            "                                                                                                  \n",
            " P1 (MaxPooling2D)              (None, 35, 29, 64)   0           ['N2[0][0]']                     \n",
            "                                                                                                  \n",
            " Flatten (Flatten)              (None, 64960)        0           ['P1[0][0]']                     \n",
            "                                                                                                  \n",
            " dense_4 (Dense)                (None, 1024)         66520064    ['Flatten[0][0]']                \n",
            "                                                                                                  \n",
            " dense_6 (Dense)                (None, 1024)         66520064    ['Flatten[0][0]']                \n",
            "                                                                                                  \n",
            " dropout_4 (Dropout)            (None, 1024)         0           ['dense_4[0][0]']                \n",
            "                                                                                                  \n",
            " dropout_6 (Dropout)            (None, 1024)         0           ['dense_6[0][0]']                \n",
            "                                                                                                  \n",
            " dense_5 (Dense)                (None, 128)          131200      ['dropout_4[0][0]']              \n",
            "                                                                                                  \n",
            " dense_7 (Dense)                (None, 128)          131200      ['dropout_6[0][0]']              \n",
            "                                                                                                  \n",
            " dropout_5 (Dropout)            (None, 128)          0           ['dense_5[0][0]']                \n",
            "                                                                                                  \n",
            " dropout_7 (Dropout)            (None, 128)          0           ['dense_7[0][0]']                \n",
            "                                                                                                  \n",
            " gender_output (Dense)          (None, 1)            129         ['dropout_5[0][0]']              \n",
            "                                                                                                  \n",
            " issmile_output (Dense)         (None, 1)            129         ['dropout_7[0][0]']              \n",
            "                                                                                                  \n",
            "==================================================================================================\n",
            "Total params: 133,410,626\n",
            "Trainable params: 133,410,370\n",
            "Non-trainable params: 256\n",
            "__________________________________________________________________________________________________\n"
          ]
        }
      ]
    },
    {
      "cell_type": "code",
      "source": [
        "model.compile(loss=[\"binary_crossentropy\", \"binary_crossentropy\"],\n",
        "              optimizer=\"adam\",\n",
        "              metrics=[\"acc\"])"
      ],
      "metadata": {
        "id": "Kuuk2ax6QvXN"
      },
      "execution_count": null,
      "outputs": []
    },
    {
      "cell_type": "code",
      "source": [
        "history = model.fit(x_train, [y1_train, y2_train], validation_split=0.2, epochs=5)"
      ],
      "metadata": {
        "colab": {
          "base_uri": "https://localhost:8080/"
        },
        "id": "eOq3Mk3CQxG9",
        "outputId": "ea4f7775-35fc-498a-8128-73d4bb4170d8"
      },
      "execution_count": null,
      "outputs": [
        {
          "output_type": "stream",
          "name": "stdout",
          "text": [
            "Epoch 1/5\n",
            "50/50 [==============================] - 16s 71ms/step - loss: 31.9542 - gender_output_loss: 16.3692 - issmile_output_loss: 15.5850 - gender_output_acc: 0.5738 - issmile_output_acc: 0.5412 - val_loss: 4.3112 - val_gender_output_loss: 1.9449 - val_issmile_output_loss: 2.3663 - val_gender_output_acc: 0.4850 - val_issmile_output_acc: 0.5350\n",
            "Epoch 2/5\n",
            "50/50 [==============================] - 3s 54ms/step - loss: 3.4232 - gender_output_loss: 1.8467 - issmile_output_loss: 1.5766 - gender_output_acc: 0.6194 - issmile_output_acc: 0.5569 - val_loss: 32.0072 - val_gender_output_loss: 11.6767 - val_issmile_output_loss: 20.3304 - val_gender_output_acc: 0.4700 - val_issmile_output_acc: 0.4750\n",
            "Epoch 3/5\n",
            "50/50 [==============================] - 3s 52ms/step - loss: 1.6389 - gender_output_loss: 0.8048 - issmile_output_loss: 0.8341 - gender_output_acc: 0.5981 - issmile_output_acc: 0.5063 - val_loss: 30.3957 - val_gender_output_loss: 9.7991 - val_issmile_output_loss: 20.5966 - val_gender_output_acc: 0.4700 - val_issmile_output_acc: 0.4750\n",
            "Epoch 4/5\n",
            "50/50 [==============================] - 3s 52ms/step - loss: 1.4455 - gender_output_loss: 0.6924 - issmile_output_loss: 0.7532 - gender_output_acc: 0.6394 - issmile_output_acc: 0.5356 - val_loss: 26.4918 - val_gender_output_loss: 4.8277 - val_issmile_output_loss: 21.6641 - val_gender_output_acc: 0.5325 - val_issmile_output_acc: 0.4750\n",
            "Epoch 5/5\n",
            "50/50 [==============================] - 3s 52ms/step - loss: 1.4085 - gender_output_loss: 0.6831 - issmile_output_loss: 0.7254 - gender_output_acc: 0.6844 - issmile_output_acc: 0.5188 - val_loss: 15.5687 - val_gender_output_loss: 2.0954 - val_issmile_output_loss: 13.4732 - val_gender_output_acc: 0.5975 - val_issmile_output_acc: 0.4750\n"
          ]
        }
      ]
    },
    {
      "cell_type": "code",
      "source": [
        "model = build_model()\n",
        "model.compile(loss=[\"binary_crossentropy\", \"binary_crossentropy\"],\n",
        "              optimizer=\"adam\",\n",
        "              metrics=[\"acc\"])\n",
        "\n",
        "ckp = callbacks.ModelCheckpoint(\"model.h5\",\n",
        "                                save_best_only=True,\n",
        "                                monitor=\"val_loss\")\n",
        "early_stopping = callbacks.EarlyStopping(monitor=\"val_loss\",\n",
        "                                         patience=10)\n",
        "reduce_lr = callbacks.ReduceLROnPlateau(monitor=\"val_loss\",\n",
        "                                        patience=5,\n",
        "                                        facotr=0.1 # 학습률을 1/10 으로 줄임\n",
        "                                        )\n",
        "tb = callbacks.TensorBoard(log_dir=\"my_log_dir\")\n",
        "\n",
        "history = model.fit(x_train, [y1_train, y2_train],\n",
        "                    validation_split=0.2,\n",
        "                    epochs=50,\n",
        "                    callbacks=[ckp, early_stopping, reduce_lr, tb])"
      ],
      "metadata": {
        "colab": {
          "base_uri": "https://localhost:8080/"
        },
        "id": "mrgybpedPznS",
        "outputId": "a81f6934-dcd2-4b81-befc-a56afa66d993"
      },
      "execution_count": null,
      "outputs": [
        {
          "output_type": "stream",
          "name": "stdout",
          "text": [
            "Epoch 1/50\n",
            "50/50 [==============================] - 10s 186ms/step - loss: 34.9181 - gender_output_loss: 15.6751 - issmile_output_loss: 19.2430 - gender_output_acc: 0.5694 - issmile_output_acc: 0.5138 - val_loss: 7.9429 - val_gender_output_loss: 1.5664 - val_issmile_output_loss: 6.3765 - val_gender_output_acc: 0.5950 - val_issmile_output_acc: 0.4750 - lr: 0.0010\n",
            "Epoch 2/50\n",
            "50/50 [==============================] - 3s 55ms/step - loss: 4.8925 - gender_output_loss: 2.2711 - issmile_output_loss: 2.6214 - gender_output_acc: 0.5663 - issmile_output_acc: 0.5419 - val_loss: 14.8671 - val_gender_output_loss: 9.3101 - val_issmile_output_loss: 5.5570 - val_gender_output_acc: 0.5300 - val_issmile_output_acc: 0.4750 - lr: 0.0010\n",
            "Epoch 3/50\n",
            "50/50 [==============================] - 9s 180ms/step - loss: 1.7845 - gender_output_loss: 0.9037 - issmile_output_loss: 0.8807 - gender_output_acc: 0.5569 - issmile_output_acc: 0.5219 - val_loss: 7.5363 - val_gender_output_loss: 5.9922 - val_issmile_output_loss: 1.5441 - val_gender_output_acc: 0.5325 - val_issmile_output_acc: 0.5575 - lr: 0.0010\n",
            "Epoch 4/50\n",
            "50/50 [==============================] - 10s 196ms/step - loss: 1.5479 - gender_output_loss: 0.7571 - issmile_output_loss: 0.7908 - gender_output_acc: 0.5931 - issmile_output_acc: 0.5319 - val_loss: 4.8742 - val_gender_output_loss: 3.3824 - val_issmile_output_loss: 1.4918 - val_gender_output_acc: 0.5325 - val_issmile_output_acc: 0.5400 - lr: 0.0010\n",
            "Epoch 5/50\n",
            "50/50 [==============================] - 10s 202ms/step - loss: 1.4764 - gender_output_loss: 0.7175 - issmile_output_loss: 0.7590 - gender_output_acc: 0.6275 - issmile_output_acc: 0.5244 - val_loss: 2.0785 - val_gender_output_loss: 0.9002 - val_issmile_output_loss: 1.1783 - val_gender_output_acc: 0.6475 - val_issmile_output_acc: 0.5400 - lr: 0.0010\n",
            "Epoch 6/50\n",
            "50/50 [==============================] - 10s 200ms/step - loss: 1.3876 - gender_output_loss: 0.6483 - issmile_output_loss: 0.7392 - gender_output_acc: 0.6488 - issmile_output_acc: 0.5512 - val_loss: 1.6411 - val_gender_output_loss: 0.7466 - val_issmile_output_loss: 0.8945 - val_gender_output_acc: 0.6875 - val_issmile_output_acc: 0.5775 - lr: 0.0010\n",
            "Epoch 7/50\n",
            "50/50 [==============================] - 10s 205ms/step - loss: 1.3379 - gender_output_loss: 0.6030 - issmile_output_loss: 0.7349 - gender_output_acc: 0.6687 - issmile_output_acc: 0.5675 - val_loss: 1.4911 - val_gender_output_loss: 0.7176 - val_issmile_output_loss: 0.7735 - val_gender_output_acc: 0.6675 - val_issmile_output_acc: 0.5375 - lr: 0.0010\n",
            "Epoch 8/50\n",
            "50/50 [==============================] - 3s 55ms/step - loss: 1.2944 - gender_output_loss: 0.5933 - issmile_output_loss: 0.7011 - gender_output_acc: 0.7125 - issmile_output_acc: 0.5487 - val_loss: 1.8226 - val_gender_output_loss: 1.0704 - val_issmile_output_loss: 0.7522 - val_gender_output_acc: 0.5625 - val_issmile_output_acc: 0.4725 - lr: 0.0010\n",
            "Epoch 9/50\n",
            "50/50 [==============================] - 9s 183ms/step - loss: 1.2847 - gender_output_loss: 0.5615 - issmile_output_loss: 0.7231 - gender_output_acc: 0.7456 - issmile_output_acc: 0.5362 - val_loss: 1.2884 - val_gender_output_loss: 0.5926 - val_issmile_output_loss: 0.6959 - val_gender_output_acc: 0.7025 - val_issmile_output_acc: 0.4750 - lr: 0.0010\n",
            "Epoch 10/50\n",
            "50/50 [==============================] - 9s 192ms/step - loss: 1.1830 - gender_output_loss: 0.4931 - issmile_output_loss: 0.6899 - gender_output_acc: 0.7581 - issmile_output_acc: 0.5781 - val_loss: 1.0821 - val_gender_output_loss: 0.4289 - val_issmile_output_loss: 0.6532 - val_gender_output_acc: 0.8375 - val_issmile_output_acc: 0.6600 - lr: 0.0010\n",
            "Epoch 11/50\n",
            "50/50 [==============================] - 10s 203ms/step - loss: 1.2062 - gender_output_loss: 0.5160 - issmile_output_loss: 0.6902 - gender_output_acc: 0.7719 - issmile_output_acc: 0.5806 - val_loss: 1.0762 - val_gender_output_loss: 0.4016 - val_issmile_output_loss: 0.6746 - val_gender_output_acc: 0.8450 - val_issmile_output_acc: 0.6225 - lr: 0.0010\n",
            "Epoch 12/50\n",
            "50/50 [==============================] - 10s 203ms/step - loss: 1.1203 - gender_output_loss: 0.4492 - issmile_output_loss: 0.6712 - gender_output_acc: 0.7944 - issmile_output_acc: 0.5975 - val_loss: 0.9770 - val_gender_output_loss: 0.3400 - val_issmile_output_loss: 0.6370 - val_gender_output_acc: 0.8425 - val_issmile_output_acc: 0.7125 - lr: 0.0010\n",
            "Epoch 13/50\n",
            "50/50 [==============================] - 3s 55ms/step - loss: 1.0804 - gender_output_loss: 0.4108 - issmile_output_loss: 0.6695 - gender_output_acc: 0.8206 - issmile_output_acc: 0.6162 - val_loss: 1.0068 - val_gender_output_loss: 0.3830 - val_issmile_output_loss: 0.6239 - val_gender_output_acc: 0.8625 - val_issmile_output_acc: 0.6425 - lr: 0.0010\n",
            "Epoch 14/50\n",
            "50/50 [==============================] - 9s 180ms/step - loss: 1.0252 - gender_output_loss: 0.3839 - issmile_output_loss: 0.6413 - gender_output_acc: 0.8306 - issmile_output_acc: 0.6587 - val_loss: 0.9459 - val_gender_output_loss: 0.3264 - val_issmile_output_loss: 0.6194 - val_gender_output_acc: 0.8550 - val_issmile_output_acc: 0.7450 - lr: 0.0010\n",
            "Epoch 15/50\n",
            "50/50 [==============================] - 10s 195ms/step - loss: 0.9705 - gender_output_loss: 0.3512 - issmile_output_loss: 0.6193 - gender_output_acc: 0.8500 - issmile_output_acc: 0.6819 - val_loss: 0.8620 - val_gender_output_loss: 0.2994 - val_issmile_output_loss: 0.5626 - val_gender_output_acc: 0.9050 - val_issmile_output_acc: 0.7450 - lr: 0.0010\n",
            "Epoch 16/50\n",
            "50/50 [==============================] - 9s 187ms/step - loss: 0.9024 - gender_output_loss: 0.3169 - issmile_output_loss: 0.5855 - gender_output_acc: 0.8519 - issmile_output_acc: 0.6862 - val_loss: 0.7555 - val_gender_output_loss: 0.2752 - val_issmile_output_loss: 0.4803 - val_gender_output_acc: 0.8900 - val_issmile_output_acc: 0.7850 - lr: 0.0010\n",
            "Epoch 17/50\n",
            "50/50 [==============================] - 3s 56ms/step - loss: 0.8196 - gender_output_loss: 0.2793 - issmile_output_loss: 0.5403 - gender_output_acc: 0.8769 - issmile_output_acc: 0.7150 - val_loss: 0.8050 - val_gender_output_loss: 0.2909 - val_issmile_output_loss: 0.5141 - val_gender_output_acc: 0.8775 - val_issmile_output_acc: 0.7850 - lr: 0.0010\n",
            "Epoch 18/50\n",
            "50/50 [==============================] - 3s 55ms/step - loss: 0.7215 - gender_output_loss: 0.2145 - issmile_output_loss: 0.5070 - gender_output_acc: 0.9006 - issmile_output_acc: 0.7281 - val_loss: 0.9665 - val_gender_output_loss: 0.5342 - val_issmile_output_loss: 0.4324 - val_gender_output_acc: 0.7825 - val_issmile_output_acc: 0.8275 - lr: 0.0010\n",
            "Epoch 19/50\n",
            "50/50 [==============================] - 3s 56ms/step - loss: 0.7778 - gender_output_loss: 0.2588 - issmile_output_loss: 0.5190 - gender_output_acc: 0.8875 - issmile_output_acc: 0.7381 - val_loss: 0.7965 - val_gender_output_loss: 0.3227 - val_issmile_output_loss: 0.4738 - val_gender_output_acc: 0.8775 - val_issmile_output_acc: 0.7750 - lr: 0.0010\n",
            "Epoch 20/50\n",
            "50/50 [==============================] - 9s 181ms/step - loss: 0.7229 - gender_output_loss: 0.2338 - issmile_output_loss: 0.4891 - gender_output_acc: 0.8981 - issmile_output_acc: 0.7444 - val_loss: 0.6690 - val_gender_output_loss: 0.2370 - val_issmile_output_loss: 0.4321 - val_gender_output_acc: 0.9225 - val_issmile_output_acc: 0.8200 - lr: 0.0010\n",
            "Epoch 21/50\n",
            "50/50 [==============================] - 3s 56ms/step - loss: 0.7189 - gender_output_loss: 0.1971 - issmile_output_loss: 0.5218 - gender_output_acc: 0.9175 - issmile_output_acc: 0.7506 - val_loss: 0.6944 - val_gender_output_loss: 0.2606 - val_issmile_output_loss: 0.4338 - val_gender_output_acc: 0.9225 - val_issmile_output_acc: 0.8000 - lr: 0.0010\n",
            "Epoch 22/50\n",
            "50/50 [==============================] - 3s 55ms/step - loss: 0.6406 - gender_output_loss: 0.2101 - issmile_output_loss: 0.4305 - gender_output_acc: 0.9175 - issmile_output_acc: 0.7631 - val_loss: 0.8506 - val_gender_output_loss: 0.2766 - val_issmile_output_loss: 0.5740 - val_gender_output_acc: 0.9050 - val_issmile_output_acc: 0.6850 - lr: 0.0010\n",
            "Epoch 23/50\n",
            "50/50 [==============================] - 9s 182ms/step - loss: 0.5974 - gender_output_loss: 0.1819 - issmile_output_loss: 0.4156 - gender_output_acc: 0.9219 - issmile_output_acc: 0.7812 - val_loss: 0.5825 - val_gender_output_loss: 0.1894 - val_issmile_output_loss: 0.3931 - val_gender_output_acc: 0.9125 - val_issmile_output_acc: 0.8250 - lr: 0.0010\n",
            "Epoch 24/50\n",
            "50/50 [==============================] - 3s 56ms/step - loss: 0.5267 - gender_output_loss: 0.1367 - issmile_output_loss: 0.3900 - gender_output_acc: 0.9425 - issmile_output_acc: 0.7944 - val_loss: 0.6373 - val_gender_output_loss: 0.2196 - val_issmile_output_loss: 0.4176 - val_gender_output_acc: 0.9375 - val_issmile_output_acc: 0.7775 - lr: 0.0010\n",
            "Epoch 25/50\n",
            "50/50 [==============================] - 3s 55ms/step - loss: 0.5100 - gender_output_loss: 0.1304 - issmile_output_loss: 0.3796 - gender_output_acc: 0.9356 - issmile_output_acc: 0.7906 - val_loss: 0.6914 - val_gender_output_loss: 0.2642 - val_issmile_output_loss: 0.4272 - val_gender_output_acc: 0.9075 - val_issmile_output_acc: 0.8150 - lr: 0.0010\n",
            "Epoch 26/50\n",
            "50/50 [==============================] - 3s 56ms/step - loss: 0.5272 - gender_output_loss: 0.1245 - issmile_output_loss: 0.4027 - gender_output_acc: 0.9550 - issmile_output_acc: 0.7831 - val_loss: 0.6574 - val_gender_output_loss: 0.2269 - val_issmile_output_loss: 0.4305 - val_gender_output_acc: 0.9050 - val_issmile_output_acc: 0.7950 - lr: 0.0010\n",
            "Epoch 27/50\n",
            "50/50 [==============================] - 3s 54ms/step - loss: 0.5086 - gender_output_loss: 0.1403 - issmile_output_loss: 0.3683 - gender_output_acc: 0.9406 - issmile_output_acc: 0.8338 - val_loss: 0.6825 - val_gender_output_loss: 0.2804 - val_issmile_output_loss: 0.4021 - val_gender_output_acc: 0.9200 - val_issmile_output_acc: 0.8450 - lr: 0.0010\n",
            "Epoch 28/50\n",
            "50/50 [==============================] - 3s 55ms/step - loss: 0.4491 - gender_output_loss: 0.1114 - issmile_output_loss: 0.3378 - gender_output_acc: 0.9506 - issmile_output_acc: 0.8331 - val_loss: 0.8092 - val_gender_output_loss: 0.3080 - val_issmile_output_loss: 0.5013 - val_gender_output_acc: 0.9175 - val_issmile_output_acc: 0.8025 - lr: 0.0010\n",
            "Epoch 29/50\n",
            "50/50 [==============================] - 3s 55ms/step - loss: 0.4273 - gender_output_loss: 0.0922 - issmile_output_loss: 0.3351 - gender_output_acc: 0.9556 - issmile_output_acc: 0.8244 - val_loss: 0.6373 - val_gender_output_loss: 0.2404 - val_issmile_output_loss: 0.3969 - val_gender_output_acc: 0.9300 - val_issmile_output_acc: 0.8325 - lr: 1.0000e-04\n",
            "Epoch 30/50\n",
            "50/50 [==============================] - 3s 55ms/step - loss: 0.3616 - gender_output_loss: 0.0762 - issmile_output_loss: 0.2854 - gender_output_acc: 0.9650 - issmile_output_acc: 0.8631 - val_loss: 0.6497 - val_gender_output_loss: 0.2420 - val_issmile_output_loss: 0.4077 - val_gender_output_acc: 0.9325 - val_issmile_output_acc: 0.8525 - lr: 1.0000e-04\n",
            "Epoch 31/50\n",
            "50/50 [==============================] - 3s 55ms/step - loss: 0.3284 - gender_output_loss: 0.0635 - issmile_output_loss: 0.2649 - gender_output_acc: 0.9756 - issmile_output_acc: 0.8675 - val_loss: 0.6782 - val_gender_output_loss: 0.2588 - val_issmile_output_loss: 0.4194 - val_gender_output_acc: 0.9250 - val_issmile_output_acc: 0.8450 - lr: 1.0000e-04\n",
            "Epoch 32/50\n",
            "50/50 [==============================] - 3s 56ms/step - loss: 0.3020 - gender_output_loss: 0.0458 - issmile_output_loss: 0.2562 - gender_output_acc: 0.9750 - issmile_output_acc: 0.8669 - val_loss: 0.7235 - val_gender_output_loss: 0.2756 - val_issmile_output_loss: 0.4479 - val_gender_output_acc: 0.9325 - val_issmile_output_acc: 0.8350 - lr: 1.0000e-04\n",
            "Epoch 33/50\n",
            "50/50 [==============================] - 3s 56ms/step - loss: 0.3326 - gender_output_loss: 0.0582 - issmile_output_loss: 0.2744 - gender_output_acc: 0.9663 - issmile_output_acc: 0.8537 - val_loss: 0.7019 - val_gender_output_loss: 0.2805 - val_issmile_output_loss: 0.4214 - val_gender_output_acc: 0.9350 - val_issmile_output_acc: 0.8350 - lr: 1.0000e-04\n"
          ]
        }
      ]
    },
    {
      "cell_type": "code",
      "source": [
        "model.evaluate(x_test, [y1_test, y2_test])"
      ],
      "metadata": {
        "colab": {
          "base_uri": "https://localhost:8080/"
        },
        "id": "W6S-YD3kQc8q",
        "outputId": "eaeb3889-3295-43e8-b2d2-cd3dd746c2d0"
      },
      "execution_count": null,
      "outputs": [
        {
          "output_type": "stream",
          "name": "stdout",
          "text": [
            "7/7 [==============================] - 0s 50ms/step - loss: 0.6537 - gender_output_loss: 0.3910 - issmile_output_loss: 0.2626 - gender_output_acc: 0.9250 - issmile_output_acc: 0.9050\n"
          ]
        },
        {
          "output_type": "execute_result",
          "data": {
            "text/plain": [
              "[0.6536628603935242,\n",
              " 0.39104190468788147,\n",
              " 0.26262083649635315,\n",
              " 0.925000011920929,\n",
              " 0.9049999713897705]"
            ]
          },
          "metadata": {},
          "execution_count": 20
        }
      ]
    },
    {
      "cell_type": "markdown",
      "source": [
        "## Batch normalize를 사용하는 이유"
      ],
      "metadata": {
        "id": "-l9XT4AmXIF2"
      }
    },
    {
      "cell_type": "markdown",
      "source": [
        "1. 배치 정규화는 단순하게 평균과 분산을 구하는 것이 아니라 감마(Scale), 베타(Shift) 를 통한 변환을 통해 비선형 성질을 유지 하면서 학습 될 수 있게 해줌 \n",
        "1. 배치 정규화가 신경망 레이어의 중간 중간에 위치하게 되어 학습을 통해 감마, 베타를 구할 수 있음 \n",
        "1. Internal Covariate Shift 문제로 인해 신경망이 깊어질 경우 학습이 어려웠던 문제점을 해결\n",
        "1. gradient 의 스케일이나 초기 값에 대한 dependency 가 줄어들어 Large Learning Rate 를 설정할 수 있기 떄문에 결과적으로 빠른 학습 가능함, 즉, 기존 방법에서 learning rate 를 높게 잡을 경우 gradient 가 vanish/explode 하거나 local minima 에 빠지는 경향이 있었는데 이는 scale 때문이었으며, 배치 정규화를 사용할 경우 propagation 시 파라미터의 scale 에 영향을 받지 않게 되기 때문에 learning rate 를 높게 설정할 수 있는 것임\n",
        "1. regularization 효과가 있기 때문에 dropout 등의 기법을 사용하지 않아도 됨 (효과가 같기 때문)\n",
        "1. 학습 시 Deterministic 하지 않은 결과 생성 \n",
        "1. Learning Rate Decay 를 더 느리게 설정 가능\n",
        "1. 입력의 범위가 고정되기 때문에 saturating 한 함수를 활성화 함수로 써도 saturation 문제가 일어나지 않음, 여기서 saturation 문제란 가중치의 업데이트가 없어지는 현상임\n",
        "\n",
        "* [출처 : https://eehoeskrap.tistory.com/430 ]"
      ],
      "metadata": {
        "id": "UBWV4YUjWRSL"
      }
    },
    {
      "cell_type": "code",
      "source": [
        ""
      ],
      "metadata": {
        "id": "3eE7-rdbWV_R"
      },
      "execution_count": null,
      "outputs": []
    }
  ],
  "metadata": {
    "colab": {
      "name": "함수형 Keras 실습과제.ipynb",
      "provenance": [],
      "collapsed_sections": []
    },
    "kernelspec": {
      "display_name": "Python 3",
      "name": "python3"
    },
    "language_info": {
      "name": "python"
    },
    "accelerator": "GPU",
    "gpuClass": "standard"
  },
  "nbformat": 4,
  "nbformat_minor": 0
}