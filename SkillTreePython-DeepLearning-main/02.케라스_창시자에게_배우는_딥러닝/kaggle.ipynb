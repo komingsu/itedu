{
 "cells": [
  {
   "cell_type": "code",
   "execution_count": 1,
   "id": "19afb917",
   "metadata": {
    "ExecuteTime": {
     "end_time": "2022-07-12T00:59:31.298213Z",
     "start_time": "2022-07-12T00:59:29.757202Z"
    }
   },
   "outputs": [],
   "source": [
    "! pip install -q kaggle"
   ]
  },
  {
   "cell_type": "code",
   "execution_count": 8,
   "id": "1635972c",
   "metadata": {
    "ExecuteTime": {
     "end_time": "2022-07-12T01:39:19.906142Z",
     "start_time": "2022-07-12T01:39:18.667524Z"
    },
    "scrolled": true
   },
   "outputs": [
    {
     "name": "stdout",
     "output_type": "stream",
     "text": [
      "ref                                                                title                                                size  lastUpdated          downloadCount  voteCount  usabilityRating  \n",
      "-----------------------------------------------------------------  --------------------------------------------------  -----  -------------------  -------------  ---------  ---------------  \n",
      "victorsoeiro/netflix-tv-shows-and-movies                           Netflix TV Shows and Movies                           2MB  2022-05-15 00:01:23          14751        424  1.0              \n",
      "ruchi798/data-science-job-salaries                                 Data Science Job Salaries                             7KB  2022-06-15 08:59:12           3178        102  1.0              \n",
      "zusmani/petrolgas-prices-worldwide                                 Petrol/Gas Prices Worldwide                          10KB  2022-06-24 01:25:33           1732         85  1.0              \n",
      "imoore/age-dataset                                                 Age dataset: life, work, and death of 1.22M people   34MB  2022-06-07 08:56:52           2549        101  1.0              \n",
      "ramjasmaurya/1-gb-internet-price                                   Internet Prices around 200+ countries in 2022.       12KB  2022-07-04 10:54:33            652         27  1.0              \n",
      "surajjha101/bigbasket-entire-product-list-28k-datapoints           BigBasket Entire Product List (~28K datapoints)       6MB  2022-06-22 12:51:18            955         57  1.0              \n",
      "sameepvani/nasa-nearest-earth-objects                              NASA - Nearest Earth Objects                          7MB  2022-06-17 02:32:18           1765         84  1.0              \n",
      "devansodariya/student-performance-data                             Student Performance Dataset                           7KB  2022-05-26 13:55:09           8649        232  0.9705882        \n",
      "jimschacko/airlines-dataset-to-predict-a-delay                     Airlines Dataset to predict a delay                   6MB  2022-06-21 05:45:44           1507         42  1.0              \n",
      "dansbecker/melbourne-housing-snapshot                              Melbourne Housing Snapshot                          451KB  2018-06-05 12:52:24          90606       1104  0.7058824        \n",
      "deepcontractor/car-price-prediction-challenge                      Car Price Prediction Challenge                      429KB  2022-07-06 11:38:32            297         30  0.9411765        \n",
      "iamsouravbanerjee/nifty500-stocks-dataset                          Stock Market Dataset (NIFTY-500)                     35KB  2022-07-11 12:16:28            380         35  1.0              \n",
      "azminetoushikwasi/ott-video-streaming-platforms-revenue-and-users  OTT, Video Streaming Platforms - Revenue and Users   11KB  2022-07-01 08:30:57            623         28  1.0              \n",
      "datasnaek/youtube-new                                              Trending YouTube Video Statistics                   201MB  2019-06-03 00:56:47         178756       4589  0.7941176        \n",
      "zynicide/wine-reviews                                              Wine Reviews                                         51MB  2017-11-27 17:08:04         162732       3333  0.7941176        \n",
      "iabhishekofficial/mobile-price-classification                      Mobile Price Classification                          71KB  2018-01-28 08:44:24          92032       1246  0.7058824        \n",
      "rtatman/188-million-us-wildfires                                   1.88 Million US Wildfires                           168MB  2020-05-12 21:03:49          20645       1016  0.8235294        \n",
      "residentmario/ramen-ratings                                        Ramen Ratings                                        40KB  2018-01-11 16:04:39          34727        793  0.7058824        \n",
      "datasnaek/chess                                                    Chess Game Dataset (Lichess)                          3MB  2017-09-04 03:09:09          30381       1017  0.8235294        \n",
      "dansbecker/powerlifting-database                                   powerlifting-database                                 9MB  2019-04-30 21:07:41           4864         58  0.5882353        \n"
     ]
    }
   ],
   "source": [
    "! kaggle datasets list"
   ]
  },
  {
   "cell_type": "code",
   "execution_count": null,
   "id": "e08877d3",
   "metadata": {},
   "outputs": [],
   "source": []
  }
 ],
 "metadata": {
  "kernelspec": {
   "display_name": "Python 3 (ipykernel)",
   "language": "python",
   "name": "python3"
  },
  "language_info": {
   "codemirror_mode": {
    "name": "ipython",
    "version": 3
   },
   "file_extension": ".py",
   "mimetype": "text/x-python",
   "name": "python",
   "nbconvert_exporter": "python",
   "pygments_lexer": "ipython3",
   "version": "3.7.10"
  },
  "toc": {
   "base_numbering": 1,
   "nav_menu": {},
   "number_sections": true,
   "sideBar": true,
   "skip_h1_title": false,
   "title_cell": "Table of Contents",
   "title_sidebar": "Contents",
   "toc_cell": false,
   "toc_position": {},
   "toc_section_display": true,
   "toc_window_display": false
  }
 },
 "nbformat": 4,
 "nbformat_minor": 5
}
