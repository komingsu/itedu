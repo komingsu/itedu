{
 "cells": [
  {
   "cell_type": "markdown",
   "metadata": {
    "id": "sqJ4qz2uwHHH"
   },
   "source": [
    "# 임베딩(Embedding)"
   ]
  },
  {
   "cell_type": "markdown",
   "metadata": {
    "id": "E2HuxbsICXZc"
   },
   "source": [
    "* 워드 임베딩은 단어를 컴퓨터가 이해하고, 효율적으로 처리할 수 있도록 단어를 벡터화하는 기술\n",
    "* 워드 임베딩은 단어의 의미를 잘 표현해야만 하며, 현재까지도 많은 표현 방법이 연구\n",
    "* 워드 임베딩을 거쳐 잘 표현된 단어 벡터들은 계산이 가능하며, 모델 투입도 가능"
   ]
  },
  {
   "cell_type": "markdown",
   "metadata": {
    "id": "m0bGg7PjHyKM"
   },
   "source": [
    "## 인코딩(Encoding)"
   ]
  },
  {
   "cell_type": "markdown",
   "metadata": {
    "id": "lWVay2ofi4vR"
   },
   "source": [
    "* 기계는 자연어(영어, 한국어 등)을 이해할 수 없음\n",
    "* 데이터를 기계가 이해할 수 있도록 숫자 등으로 변환해주는 작업이 필요\n",
    "* 이러한 작업을 인코딩이라고 함\n",
    "\n",
    "* 텍스트 처리에서는 주로 정수 인코딩, 원 핫 인코딩을 사용"
   ]
  },
  {
   "cell_type": "markdown",
   "metadata": {
    "id": "QPXDPmRtKDfr"
   },
   "source": [
    "### 정수 인코딩"
   ]
  },
  {
   "cell_type": "markdown",
   "metadata": {
    "id": "zzb5eqDEPJDs"
   },
   "source": [
    "#### dictionary를 이용한 정수 인코딩"
   ]
  },
  {
   "cell_type": "markdown",
   "metadata": {
    "id": "MecMDCLZQz8X"
   },
   "source": [
    "* 각 단어와 정수 인덱스를 연결하고, 토큰을 변환해주는 정수 인코딩"
   ]
  },
  {
   "cell_type": "code",
   "execution_count": 2,
   "metadata": {
    "ExecuteTime": {
     "end_time": "2022-07-14T02:30:25.668376Z",
     "start_time": "2022-07-14T02:30:25.648142Z"
    },
    "id": "AZoYLia2PQTV"
   },
   "outputs": [
    {
     "data": {
      "text/plain": [
       "[6, 7, 9, 0, 5, 1, 2, 3, 9, 4, 8]"
      ]
     },
     "execution_count": 2,
     "metadata": {},
     "output_type": "execute_result"
    }
   ],
   "source": [
    "text = \"평생 살 것처럼 꿈을 꾸어라. 그리고 내일 죽을 것처럼 오늘을 살아라\"\n",
    "\n",
    "tokens = [x for x in text.split(\" \")]\n",
    "unique = set(tokens)\n",
    "unique = list(unique)\n",
    "\n",
    "token2idx = {}\n",
    "for i in range(len(unique)):\n",
    "    token2idx[unique[i]]=i\n",
    "    \n",
    "encode = [token2idx[x] for x in tokens]\n",
    "encode"
   ]
  },
  {
   "cell_type": "markdown",
   "metadata": {
    "id": "uBEtdH1cPENH"
   },
   "source": [
    "#### keras를 이용한 정수 인코딩"
   ]
  },
  {
   "cell_type": "markdown",
   "metadata": {
    "id": "OpuQdjiLhogy"
   },
   "source": [
    "* 정수 인코딩은 단어에 정수로 레이블을 부여\n",
    "* `dictionary`, `nltk` 패키지를 이용한 방법들도 있지만, `keras`에서는 텍스트 처리에 필요한 도구들을 지원\n",
    "* 해당 도구는 자동으로 단어 빈도가 높은 단어의 인덱스는 낮게끔 설정"
   ]
  },
  {
   "cell_type": "code",
   "execution_count": 3,
   "metadata": {
    "ExecuteTime": {
     "end_time": "2022-07-14T02:31:59.630107Z",
     "start_time": "2022-07-14T02:31:59.607940Z"
    },
    "id": "fIqPMClFiMvb"
   },
   "outputs": [
    {
     "name": "stdout",
     "output_type": "stream",
     "text": [
      "{'것처럼': 1, '평생': 2, '살': 3, '꿈을': 4, '꾸어라': 5, '그리고': 6, '내일': 7, '죽을': 8, '오늘을': 9, '살아라': 10}\n",
      "[2, 3, 1, 4, 5, 6, 7, 8, 1, 9, 10]\n"
     ]
    }
   ],
   "source": [
    "from tensorflow.keras.preprocessing.text import Tokenizer\n",
    "\n",
    "text = \"평생 살 것처럼 꿈을 꾸어라. 그리고 내일 죽을 것처럼 오늘을 살아라\"\n",
    "\n",
    "# 토큰화\n",
    "t = Tokenizer()\n",
    "t.fit_on_texts([text]) # 텍스트로 fit\n",
    "print(t.word_index) # 단어사전\n",
    "\n",
    "encoded = t.texts_to_sequences([text])[0] # 텍스트 -> 정수 텐서\n",
    "print(encoded)"
   ]
  },
  {
   "cell_type": "markdown",
   "metadata": {
    "id": "2TDrAJL-KEt8"
   },
   "source": [
    "### 원 핫 인코딩(One-Hot Encoding)"
   ]
  },
  {
   "cell_type": "markdown",
   "metadata": {
    "id": "2zA6x8FbmeqS"
   },
   "source": [
    "#### 조건문과 반복문을 이용한 원 핫 인코딩"
   ]
  },
  {
   "cell_type": "markdown",
   "metadata": {
    "id": "IKGnvTw7RFf5"
   },
   "source": [
    "* 원 핫 인코딩은 정수 인코딩한 결과를 벡터로 변환한 인코딩\n",
    "* 원 핫 인코딩은 전체 단어 개수 만큼의 길이를 가진 배열에 해당 정수를 가진 위치는 1, 나머지는 0을 가진 벡터로 변환   "
   ]
  },
  {
   "cell_type": "code",
   "execution_count": 4,
   "metadata": {
    "ExecuteTime": {
     "end_time": "2022-07-14T02:35:12.932752Z",
     "start_time": "2022-07-14T02:35:12.922516Z"
    },
    "id": "MlHc9XXERFla"
   },
   "outputs": [
    {
     "data": {
      "text/plain": [
       "array([[0, 1, 0, 0, 0, 0, 0, 0, 0, 0],\n",
       "       [0, 0, 1, 0, 0, 0, 0, 0, 0, 0],\n",
       "       [1, 0, 0, 0, 0, 0, 0, 0, 0, 0],\n",
       "       [0, 0, 0, 1, 0, 0, 0, 0, 0, 0],\n",
       "       [0, 0, 0, 0, 1, 0, 0, 0, 0, 0],\n",
       "       [0, 0, 0, 0, 0, 1, 0, 0, 0, 0],\n",
       "       [0, 0, 0, 0, 0, 0, 1, 0, 0, 0],\n",
       "       [0, 0, 0, 0, 0, 0, 0, 1, 0, 0],\n",
       "       [1, 0, 0, 0, 0, 0, 0, 0, 0, 0],\n",
       "       [0, 0, 0, 0, 0, 0, 0, 0, 1, 0],\n",
       "       [0, 0, 0, 0, 0, 0, 0, 0, 0, 1]])"
      ]
     },
     "execution_count": 4,
     "metadata": {},
     "output_type": "execute_result"
    }
   ],
   "source": [
    "import numpy as np\n",
    "\n",
    "one_hot = []\n",
    "for i in range(len(encoded)):\n",
    "    temp = []\n",
    "    for j in range(max(encoded)):\n",
    "        if j == (encoded[i] - 1):\n",
    "            temp.append(1)\n",
    "        else:\n",
    "            temp.append(0)\n",
    "    one_hot.append(temp)\n",
    "\n",
    "np.array(one_hot)"
   ]
  },
  {
   "cell_type": "markdown",
   "metadata": {
    "id": "xk_Bna8tmmqS"
   },
   "source": [
    "#### keras를 이용한 원 핫 인코딩"
   ]
  },
  {
   "cell_type": "markdown",
   "metadata": {
    "id": "oxlWLLJfht7i"
   },
   "source": [
    "* `keras`에서는 정수 인코딩을 원 핫 인코딩을 간단하게 변환해주는 `to_categorical()` 함수를 제공 "
   ]
  },
  {
   "cell_type": "code",
   "execution_count": 5,
   "metadata": {
    "ExecuteTime": {
     "end_time": "2022-07-14T02:36:13.852278Z",
     "start_time": "2022-07-14T02:36:13.840799Z"
    },
    "id": "xRJ8frWZiMeS"
   },
   "outputs": [
    {
     "data": {
      "text/plain": [
       "array([[0., 0., 1., 0., 0., 0., 0., 0., 0., 0., 0.],\n",
       "       [0., 0., 0., 1., 0., 0., 0., 0., 0., 0., 0.],\n",
       "       [0., 1., 0., 0., 0., 0., 0., 0., 0., 0., 0.],\n",
       "       [0., 0., 0., 0., 1., 0., 0., 0., 0., 0., 0.],\n",
       "       [0., 0., 0., 0., 0., 1., 0., 0., 0., 0., 0.],\n",
       "       [0., 0., 0., 0., 0., 0., 1., 0., 0., 0., 0.],\n",
       "       [0., 0., 0., 0., 0., 0., 0., 1., 0., 0., 0.],\n",
       "       [0., 0., 0., 0., 0., 0., 0., 0., 1., 0., 0.],\n",
       "       [0., 1., 0., 0., 0., 0., 0., 0., 0., 0., 0.],\n",
       "       [0., 0., 0., 0., 0., 0., 0., 0., 0., 1., 0.],\n",
       "       [0., 0., 0., 0., 0., 0., 0., 0., 0., 0., 1.]], dtype=float32)"
      ]
     },
     "execution_count": 5,
     "metadata": {},
     "output_type": "execute_result"
    }
   ],
   "source": [
    "from tensorflow.keras.utils import to_categorical\n",
    "\n",
    "one_hot = to_categorical(encoded)\n",
    "one_hot"
   ]
  },
  {
   "cell_type": "markdown",
   "metadata": {
    "id": "ud_-PnE873_h"
   },
   "source": [
    "## Word2Vec\n",
    "\n",
    "- 2013년, Mikolov 와 동료들이 제안한 모형\n",
    "\n",
    "- 분류 등과 같이 별도의 레이블이 없이 텍스트 자체만 있어도 학습이 가능\n",
    "\n",
    "- Word2Vec의 방식  \n",
    "  주변 단어의 관계를 이용\n",
    "\n",
    "  - CBOW(continuous bag-of-words)\n",
    "    - 주변단어의 임베딩을 더해서 대상단어를 예측\n",
    "\n",
    "  - Skip-Gram\n",
    "    - 대상 단어의 임베딩으로 주변단어를 예측\n",
    "\n",
    "    - 일반적으로 CBOW보다 성능이 좋은 편\n",
    "\n",
    "    - 한번에 여러 단어를 예측해야하기 때문에 비효율적  \n",
    "      최근에는 **negative sampling**이라는 방법을 사용\n",
    "\n",
    "  <img src=\"https://www.researchgate.net/publication/328160770/figure/fig14/AS:679665089925122@1539056193562/CBOW-and-Skip-Gram-neural-architectures.ppm\">\n",
    "\n",
    "  <sub>출처: https://www.researchgate.net/figure/CBOW-and-Skip-Gram-neural-architectures_fig14_328160770</sub>"
   ]
  },
  {
   "cell_type": "markdown",
   "metadata": {},
   "source": [
    "### 구텐베르크 프로젝트"
   ]
  },
  {
   "cell_type": "code",
   "execution_count": 7,
   "metadata": {
    "ExecuteTime": {
     "end_time": "2022-07-14T05:11:05.869856Z",
     "start_time": "2022-07-14T05:11:05.861811Z"
    }
   },
   "outputs": [],
   "source": [
    "import requests\n",
    "import re"
   ]
  },
  {
   "cell_type": "code",
   "execution_count": 11,
   "metadata": {
    "ExecuteTime": {
     "end_time": "2022-07-14T05:11:24.940872Z",
     "start_time": "2022-07-14T05:11:22.711037Z"
    }
   },
   "outputs": [],
   "source": [
    "res = requests.get(\"https://www.gutenberg.org/files/2591/2591-0.txt\")"
   ]
  },
  {
   "cell_type": "code",
   "execution_count": 14,
   "metadata": {
    "ExecuteTime": {
     "end_time": "2022-07-14T05:11:48.485422Z",
     "start_time": "2022-07-14T05:11:48.446387Z"
    }
   },
   "outputs": [],
   "source": [
    "grimm = res.text[2801:530661]\n",
    "grimm = re.sub(r'[^a-zA-Z\\.]', \" \", grimm)\n",
    "sentences = grimm.split(\". \")\n",
    "data = [s.split() for s in sentences]"
   ]
  },
  {
   "cell_type": "code",
   "execution_count": 17,
   "metadata": {
    "ExecuteTime": {
     "end_time": "2022-07-14T05:12:12.484637Z",
     "start_time": "2022-07-14T05:12:12.470629Z"
    }
   },
   "outputs": [
    {
     "name": "stdout",
     "output_type": "stream",
     "text": [
      "3468\n",
      "['SECOND', 'STORY', 'THE', 'SALAD', 'THE', 'STORY', 'OF', 'THE', 'YOUTH', 'WHO', 'WENT', 'FORTH', 'TO', 'LEARN', 'WHAT', 'FEAR', 'WAS', 'KING', 'GRISLY', 'BEARD', 'IRON', 'HANS', 'CAT', 'SKIN', 'SNOW', 'WHITE', 'AND', 'ROSE', 'RED', 'THE', 'BROTHERS', 'GRIMM', 'FAIRY', 'TALES', 'THE', 'GOLDEN', 'BIRD', 'A', 'certain', 'king', 'had', 'a', 'beautiful', 'garden', 'and', 'in', 'the', 'garden', 'stood', 'a', 'tree', 'which', 'bore', 'golden', 'apples']\n"
     ]
    }
   ],
   "source": [
    "print(len(data))\n",
    "print(data[0])"
   ]
  },
  {
   "cell_type": "markdown",
   "metadata": {},
   "source": [
    "`gensim` 패키지로부터 WordVec 불러오기"
   ]
  },
  {
   "cell_type": "code",
   "execution_count": 18,
   "metadata": {
    "ExecuteTime": {
     "end_time": "2022-07-14T05:12:42.891086Z",
     "start_time": "2022-07-14T05:12:42.886063Z"
    }
   },
   "outputs": [],
   "source": [
    "from gensim.models.word2vec import Word2Vec"
   ]
  },
  {
   "cell_type": "markdown",
   "metadata": {
    "ExecuteTime": {
     "end_time": "2022-07-14T05:13:05.601997Z",
     "start_time": "2022-07-14T05:13:05.590996Z"
    }
   },
   "source": [
    "`sg` 인자에 0 을 주면 CBOW, 1을 넘겨주면 Skip-gram"
   ]
  },
  {
   "cell_type": "code",
   "execution_count": 21,
   "metadata": {
    "ExecuteTime": {
     "end_time": "2022-07-14T05:21:05.911857Z",
     "start_time": "2022-07-14T05:21:05.518396Z"
    }
   },
   "outputs": [],
   "source": [
    "model = Word2Vec(\n",
    "    data,\n",
    "    sg=1, # Skip-gram\n",
    "    vector_size=100,\n",
    "    window=3, # 앞뒤 몇개 단어를 보는지\n",
    "    min_count=3, # 적어도 3번은 등장한 단어\n",
    "    workers=4\n",
    ")\n"
   ]
  },
  {
   "cell_type": "markdown",
   "metadata": {},
   "source": [
    "### 모델 저장 및 로드"
   ]
  },
  {
   "cell_type": "code",
   "execution_count": 22,
   "metadata": {
    "ExecuteTime": {
     "end_time": "2022-07-14T05:21:17.734686Z",
     "start_time": "2022-07-14T05:21:17.717644Z"
    }
   },
   "outputs": [],
   "source": [
    "model.save(\"model/word2vec.model\")"
   ]
  },
  {
   "cell_type": "code",
   "execution_count": 24,
   "metadata": {
    "ExecuteTime": {
     "end_time": "2022-07-14T05:21:50.190246Z",
     "start_time": "2022-07-14T05:21:50.158772Z"
    }
   },
   "outputs": [],
   "source": [
    "pretrained_model = Word2Vec.load(\"model/word2vec.model\")"
   ]
  },
  {
   "cell_type": "markdown",
   "metadata": {},
   "source": [
    "### 단어를 벡터로 변환\n",
    "\n",
    "`wv`"
   ]
  },
  {
   "cell_type": "code",
   "execution_count": 25,
   "metadata": {
    "ExecuteTime": {
     "end_time": "2022-07-14T05:22:34.998996Z",
     "start_time": "2022-07-14T05:22:34.991005Z"
    }
   },
   "outputs": [
    {
     "data": {
      "text/plain": [
       "array([-0.20246   ,  0.14707366, -0.1057674 ,  0.14795315,  0.0394928 ,\n",
       "       -0.32588592,  0.12711377,  0.5353055 , -0.18371513, -0.2070353 ,\n",
       "        0.03795497, -0.25971153, -0.00322794,  0.0771325 ,  0.10609301,\n",
       "       -0.18968453,  0.07021964, -0.1428029 , -0.16722776, -0.22737104,\n",
       "        0.19325723,  0.10302851,  0.21026896, -0.1439876 ,  0.06082513,\n",
       "        0.02117932, -0.02906078, -0.07487278, -0.11546916, -0.08057263,\n",
       "        0.03190826, -0.08212935,  0.12313328, -0.18067485, -0.19236639,\n",
       "        0.20558763,  0.01706078, -0.08095478, -0.08681521, -0.13612957,\n",
       "        0.08131757, -0.12013292,  0.00419693,  0.05070153, -0.02090896,\n",
       "        0.00160324, -0.08773427, -0.12941313,  0.23117383, -0.00059721,\n",
       "        0.08874096, -0.10229597, -0.04582455, -0.1393963 ,  0.12931204,\n",
       "        0.07561641,  0.13429095,  0.04295082, -0.18895917,  0.05775738,\n",
       "       -0.03590334,  0.0385946 ,  0.15025488, -0.1793817 , -0.28746733,\n",
       "        0.13482426,  0.05318837,  0.41004187, -0.24269424,  0.25341323,\n",
       "       -0.07792328,  0.03393389,  0.18279377, -0.11927976,  0.3332085 ,\n",
       "       -0.06653605, -0.00841299, -0.0124043 , -0.06851758,  0.04792675,\n",
       "       -0.2404519 ,  0.02066481, -0.2188163 ,  0.17887175, -0.08975887,\n",
       "        0.0176507 ,  0.03389189,  0.21659553,  0.09410752, -0.01223461,\n",
       "        0.10130237,  0.06646302, -0.04992574,  0.09376673,  0.1682578 ,\n",
       "        0.14296596,  0.03647878, -0.160747  , -0.14631566, -0.173177  ],\n",
       "      dtype=float32)"
      ]
     },
     "execution_count": 25,
     "metadata": {},
     "output_type": "execute_result"
    }
   ],
   "source": [
    "pretrained_model.wv[\"princess\"]"
   ]
  },
  {
   "cell_type": "markdown",
   "metadata": {
    "ExecuteTime": {
     "end_time": "2022-07-14T05:23:00.537100Z",
     "start_time": "2022-07-14T05:23:00.526935Z"
    }
   },
   "source": [
    "### 유추 또는 유비 (analogy)"
   ]
  },
  {
   "cell_type": "code",
   "execution_count": 27,
   "metadata": {
    "ExecuteTime": {
     "end_time": "2022-07-14T05:23:23.930213Z",
     "start_time": "2022-07-14T05:23:23.926212Z"
    }
   },
   "outputs": [
    {
     "data": {
      "text/plain": [
       "0.8135606"
      ]
     },
     "execution_count": 27,
     "metadata": {},
     "output_type": "execute_result"
    }
   ],
   "source": [
    "pretrained_model.wv.similarity(\"king\",\"prince\") # 코사인 유사도"
   ]
  },
  {
   "cell_type": "code",
   "execution_count": 28,
   "metadata": {
    "ExecuteTime": {
     "end_time": "2022-07-14T05:23:49.756655Z",
     "start_time": "2022-07-14T05:23:49.742795Z"
    }
   },
   "outputs": [
    {
     "data": {
      "text/plain": [
       "[('daughter', 0.9226298928260803),\n",
       " ('son', 0.9181236624717712),\n",
       " ('woman', 0.9158039093017578),\n",
       " ('man', 0.8937870860099792),\n",
       " ('miller', 0.8675788044929504),\n",
       " ('queen', 0.8675351738929749),\n",
       " ('cook', 0.8526371121406555),\n",
       " ('old', 0.8521034121513367),\n",
       " ('fox', 0.8511024117469788),\n",
       " ('But', 0.844055712223053)]"
      ]
     },
     "execution_count": 28,
     "metadata": {},
     "output_type": "execute_result"
    }
   ],
   "source": [
    "pretrained_model.wv.most_similar(\"king\") # 비슷한 단어 top10"
   ]
  },
  {
   "cell_type": "code",
   "execution_count": 30,
   "metadata": {
    "ExecuteTime": {
     "end_time": "2022-07-14T05:25:16.203304Z",
     "start_time": "2022-07-14T05:25:16.198303Z"
    }
   },
   "outputs": [
    {
     "data": {
      "text/plain": [
       "[('giant', 0.9644218683242798),\n",
       " ('sparrow', 0.95976722240448),\n",
       " ('cow', 0.9593461751937866),\n",
       " ('lion', 0.958795428276062),\n",
       " ('Here', 0.9565558433532715),\n",
       " ('huntsman', 0.9554832577705383),\n",
       " ('Hansel', 0.9551281332969666),\n",
       " ('ass', 0.9526408314704895),\n",
       " ('maid', 0.9519535303115845),\n",
       " ('Hearken', 0.9516109228134155)]"
      ]
     },
     "execution_count": 30,
     "metadata": {},
     "output_type": "execute_result"
    }
   ],
   "source": [
    "pretrained_model.wv.most_similar(positive=[\"man\", \"prince\"], negative=[\"woman\"])\n",
    "# vector 계산가능 man + prince - woman 상남자 메타"
   ]
  },
  {
   "cell_type": "markdown",
   "metadata": {},
   "source": [
    "### gensim 으로 학습된 단어 임베딩을 keras에서 불러오기"
   ]
  },
  {
   "cell_type": "code",
   "execution_count": 31,
   "metadata": {
    "ExecuteTime": {
     "end_time": "2022-07-14T05:26:12.417831Z",
     "start_time": "2022-07-14T05:26:12.414831Z"
    }
   },
   "outputs": [],
   "source": [
    "from keras.models import Sequential\n",
    "from keras.layers import Embedding"
   ]
  },
  {
   "cell_type": "code",
   "execution_count": 32,
   "metadata": {
    "ExecuteTime": {
     "end_time": "2022-07-14T05:26:43.193889Z",
     "start_time": "2022-07-14T05:26:43.190897Z"
    }
   },
   "outputs": [
    {
     "name": "stdout",
     "output_type": "stream",
     "text": [
      "2446\n",
      "100\n"
     ]
    }
   ],
   "source": [
    "num_words, emb_dim = pretrained_model.wv.vectors.shape\n",
    "print(num_words)\n",
    "print(emb_dim)"
   ]
  },
  {
   "cell_type": "markdown",
   "metadata": {},
   "source": [
    "### gensim 으로 학습된 단어 임베딩을 케라스의 임베딩 레이어의 가중치로 설정"
   ]
  },
  {
   "cell_type": "code",
   "execution_count": 33,
   "metadata": {
    "ExecuteTime": {
     "end_time": "2022-07-14T05:27:46.401880Z",
     "start_time": "2022-07-14T05:27:46.390854Z"
    }
   },
   "outputs": [],
   "source": [
    "emb = Embedding(input_dim=num_words,\n",
    "                output_dim=emb_dim,\n",
    "                trainable=False,\n",
    "                weights=[pretrained_model.wv.vectors])"
   ]
  },
  {
   "cell_type": "code",
   "execution_count": 35,
   "metadata": {
    "ExecuteTime": {
     "end_time": "2022-07-14T05:28:08.593651Z",
     "start_time": "2022-07-14T05:28:08.569144Z"
    }
   },
   "outputs": [],
   "source": [
    "model = Sequential()\n",
    "model.add(emb)"
   ]
  },
  {
   "cell_type": "code",
   "execution_count": 36,
   "metadata": {
    "ExecuteTime": {
     "end_time": "2022-07-14T05:28:14.209586Z",
     "start_time": "2022-07-14T05:28:14.198513Z"
    }
   },
   "outputs": [
    {
     "name": "stdout",
     "output_type": "stream",
     "text": [
      "Model: \"sequential_1\"\n",
      "_________________________________________________________________\n",
      "Layer (type)                 Output Shape              Param #   \n",
      "=================================================================\n",
      "embedding (Embedding)        (None, None, 100)         244600    \n",
      "=================================================================\n",
      "Total params: 244,600\n",
      "Trainable params: 0\n",
      "Non-trainable params: 244,600\n",
      "_________________________________________________________________\n"
     ]
    }
   ],
   "source": [
    "model.summary()"
   ]
  },
  {
   "cell_type": "code",
   "execution_count": 41,
   "metadata": {
    "ExecuteTime": {
     "end_time": "2022-07-14T05:31:03.600678Z",
     "start_time": "2022-07-14T05:31:03.590267Z"
    }
   },
   "outputs": [],
   "source": [
    "i = pretrained_model.wv.index_to_key.index(\"princess\")"
   ]
  },
  {
   "cell_type": "code",
   "execution_count": 42,
   "metadata": {
    "ExecuteTime": {
     "end_time": "2022-07-14T05:31:12.866252Z",
     "start_time": "2022-07-14T05:31:12.759083Z"
    }
   },
   "outputs": [
    {
     "data": {
      "text/plain": [
       "array([[[-0.20246   ,  0.14707366, -0.1057674 ,  0.14795315,\n",
       "          0.0394928 , -0.32588592,  0.12711377,  0.5353055 ,\n",
       "         -0.18371513, -0.2070353 ,  0.03795497, -0.25971153,\n",
       "         -0.00322794,  0.0771325 ,  0.10609301, -0.18968453,\n",
       "          0.07021964, -0.1428029 , -0.16722776, -0.22737104,\n",
       "          0.19325723,  0.10302851,  0.21026896, -0.1439876 ,\n",
       "          0.06082513,  0.02117932, -0.02906078, -0.07487278,\n",
       "         -0.11546916, -0.08057263,  0.03190826, -0.08212935,\n",
       "          0.12313328, -0.18067485, -0.19236639,  0.20558763,\n",
       "          0.01706078, -0.08095478, -0.08681521, -0.13612957,\n",
       "          0.08131757, -0.12013292,  0.00419693,  0.05070153,\n",
       "         -0.02090896,  0.00160324, -0.08773427, -0.12941313,\n",
       "          0.23117383, -0.00059721,  0.08874096, -0.10229597,\n",
       "         -0.04582455, -0.1393963 ,  0.12931204,  0.07561641,\n",
       "          0.13429095,  0.04295082, -0.18895917,  0.05775738,\n",
       "         -0.03590334,  0.0385946 ,  0.15025488, -0.1793817 ,\n",
       "         -0.28746733,  0.13482426,  0.05318837,  0.41004187,\n",
       "         -0.24269424,  0.25341323, -0.07792328,  0.03393389,\n",
       "          0.18279377, -0.11927976,  0.3332085 , -0.06653605,\n",
       "         -0.00841299, -0.0124043 , -0.06851758,  0.04792675,\n",
       "         -0.2404519 ,  0.02066481, -0.2188163 ,  0.17887175,\n",
       "         -0.08975887,  0.0176507 ,  0.03389189,  0.21659553,\n",
       "          0.09410752, -0.01223461,  0.10130237,  0.06646302,\n",
       "         -0.04992574,  0.09376673,  0.1682578 ,  0.14296596,\n",
       "          0.03647878, -0.160747  , -0.14631566, -0.173177  ]]],\n",
       "      dtype=float32)"
      ]
     },
     "execution_count": 42,
     "metadata": {},
     "output_type": "execute_result"
    }
   ],
   "source": [
    "model.predict([i])"
   ]
  },
  {
   "cell_type": "markdown",
   "metadata": {},
   "source": [
    "## Keras에서 Word2Vec 직접 학습"
   ]
  },
  {
   "cell_type": "markdown",
   "metadata": {},
   "source": [
    "### 데이터 준비"
   ]
  },
  {
   "cell_type": "code",
   "execution_count": 44,
   "metadata": {
    "ExecuteTime": {
     "end_time": "2022-07-14T05:33:30.940552Z",
     "start_time": "2022-07-14T05:33:27.670945Z"
    }
   },
   "outputs": [],
   "source": [
    "from tensorflow.keras.datasets import imdb\n",
    "(x_train, y_train), (x_test, y_test) = imdb.load_data()"
   ]
  },
  {
   "cell_type": "markdown",
   "metadata": {},
   "source": [
    "* 단어 번호와 단어의 관계를 사전으로 만듦\n",
    "* 1번은 문장의 시작, 2번은 사전에 없는 단어(OOV)로 미리 지정"
   ]
  },
  {
   "cell_type": "code",
   "execution_count": 45,
   "metadata": {
    "ExecuteTime": {
     "end_time": "2022-07-14T05:34:19.442818Z",
     "start_time": "2022-07-14T05:34:19.398738Z"
    }
   },
   "outputs": [],
   "source": [
    "word_index = imdb.get_word_index()"
   ]
  },
  {
   "cell_type": "code",
   "execution_count": 46,
   "metadata": {
    "ExecuteTime": {
     "end_time": "2022-07-14T05:34:54.382423Z",
     "start_time": "2022-07-14T05:34:54.357961Z"
    }
   },
   "outputs": [],
   "source": [
    "index_word = {idx+3: word for word, idx in word_index.items()}"
   ]
  },
  {
   "cell_type": "code",
   "execution_count": 48,
   "metadata": {
    "ExecuteTime": {
     "end_time": "2022-07-14T05:35:26.599462Z",
     "start_time": "2022-07-14T05:35:26.583967Z"
    }
   },
   "outputs": [],
   "source": [
    "index_word[1] = \"<START>\"\n",
    "index_word[2] = \"<UNKNOWN>\""
   ]
  },
  {
   "cell_type": "code",
   "execution_count": 49,
   "metadata": {
    "ExecuteTime": {
     "end_time": "2022-07-14T05:35:53.971980Z",
     "start_time": "2022-07-14T05:35:53.958970Z"
    }
   },
   "outputs": [
    {
     "data": {
      "text/plain": [
       "\"<START> this film was just brilliant casting location scenery story direction everyone's really suited the part they played and you could just imagine being there robert redford's is an amazing actor and now the same being director norman's father came from the same scottish island as myself so i loved the fact there was a real connection with this film the witty remarks throughout the film were great it was just brilliant so much that i bought the film as soon as it was released for retail and would recommend it to everyone to watch and the fly fishing was amazing really cried at the end it was so sad and you know what they say if you cry at a film it must have been good and this definitely was also congratulations to the two little boy's that played the part's of norman and paul they were just brilliant children are often left out of the praising list i think because the stars that play them all grown up are such a big profile for the whole film but these children are amazing and should be praised for what they have done don't you think the whole story was so lovely because it was true and was someone's life after all that was shared with us all\""
      ]
     },
     "execution_count": 49,
     "metadata": {},
     "output_type": "execute_result"
    }
   ],
   "source": [
    "\" \".join(index_word[i] for i in x_train[0])"
   ]
  },
  {
   "cell_type": "code",
   "execution_count": 51,
   "metadata": {
    "ExecuteTime": {
     "end_time": "2022-07-14T05:37:02.886032Z",
     "start_time": "2022-07-14T05:37:02.878992Z"
    }
   },
   "outputs": [],
   "source": [
    "num_words = max(index_word) + 1 # 현재 단어의 갯수를 +1해서 지정"
   ]
  },
  {
   "cell_type": "markdown",
   "metadata": {},
   "source": [
    "### 텍스트를 단어번호로 바꾸기"
   ]
  },
  {
   "cell_type": "code",
   "execution_count": 54,
   "metadata": {
    "ExecuteTime": {
     "end_time": "2022-07-14T05:39:28.640909Z",
     "start_time": "2022-07-14T05:39:27.983766Z"
    }
   },
   "outputs": [],
   "source": [
    "texts =[]\n",
    "for data in x_train:\n",
    "    text = \" \".join(index_word[i] for i in data) # [[\"1\",\"2\",\"3\",\"4\"],[\"a\", \"b\", \"c\" \"d\"]]-> [\"1234\",\"abcd\"]\n",
    "    texts.append(text)"
   ]
  },
  {
   "cell_type": "code",
   "execution_count": 55,
   "metadata": {
    "ExecuteTime": {
     "end_time": "2022-07-14T05:39:33.419063Z",
     "start_time": "2022-07-14T05:39:33.409031Z"
    }
   },
   "outputs": [
    {
     "data": {
      "text/plain": [
       "25000"
      ]
     },
     "execution_count": 55,
     "metadata": {},
     "output_type": "execute_result"
    }
   ],
   "source": [
    "len(texts)"
   ]
  },
  {
   "cell_type": "markdown",
   "metadata": {},
   "source": [
    "* Tokenizer 를 사용하여 텍스트를 정수 벡터로 변환"
   ]
  },
  {
   "cell_type": "code",
   "execution_count": 56,
   "metadata": {
    "ExecuteTime": {
     "end_time": "2022-07-14T05:40:36.027464Z",
     "start_time": "2022-07-14T05:40:36.015471Z"
    }
   },
   "outputs": [],
   "source": [
    "from keras.preprocessing.text import Tokenizer"
   ]
  },
  {
   "cell_type": "code",
   "execution_count": 59,
   "metadata": {
    "ExecuteTime": {
     "end_time": "2022-07-14T05:41:41.695930Z",
     "start_time": "2022-07-14T05:41:36.728307Z"
    }
   },
   "outputs": [
    {
     "name": "stdout",
     "output_type": "stream",
     "text": [
      "[28, 11, 19, 13, 41, 526, 968, 1618, 1381, 63, 455, 4449, 64, 3930, 1, 171, 34, 254, 2, 22, 98, 41, 835, 110, 48, 667, 21905, 6, 33, 477, 282, 2, 148, 1, 170, 110, 165, 20598, 334, 382, 37, 1, 170, 4517, 1105, 14, 543, 36, 10, 444, 1, 190, 48, 13, 3, 145, 2016, 16, 11, 19, 1, 1906, 4588, 466, 1, 19, 69, 85, 9, 13, 41, 526, 36, 74, 12, 10, 1244, 1, 19, 14, 512, 14, 9, 13, 622, 15, 18510, 2, 60, 383, 9, 5, 314, 5, 104, 2, 1, 2218, 5229, 13, 477, 64, 3765, 31, 1, 128, 9, 13, 36, 614, 2, 22, 122, 49, 34, 133, 45, 22, 1408, 31, 3, 19, 9, 213, 25, 75, 50, 2, 11, 404, 13, 80, 10307, 5, 1, 105, 115, 5924, 12, 254, 1, 30568, 4, 3734, 2, 720, 34, 69, 41, 526, 473, 23, 396, 315, 44, 4, 1, 11926, 1025, 10, 102, 86, 1, 378, 12, 295, 96, 30, 2064, 54, 23, 139, 3, 192, 7476, 15, 1, 224, 19, 18, 132, 473, 23, 477, 2, 142, 27, 5514, 15, 49, 34, 25, 222, 90, 22, 102, 1, 224, 63, 13, 36, 1331, 86, 9, 13, 281, 2, 13, 4450, 111, 101, 30, 12, 13, 5340, 16, 176, 30]\n"
     ]
    }
   ],
   "source": [
    "tk = Tokenizer()\n",
    "tk.fit_on_texts(texts)\n",
    "\n",
    "new_data = tk.texts_to_sequences(texts)\n",
    "print(new_data[0])"
   ]
  },
  {
   "cell_type": "markdown",
   "metadata": {},
   "source": [
    "### 단어쌍 만들기"
   ]
  },
  {
   "cell_type": "code",
   "execution_count": 60,
   "metadata": {
    "ExecuteTime": {
     "end_time": "2022-07-14T05:42:53.269985Z",
     "start_time": "2022-07-14T05:42:53.253982Z"
    }
   },
   "outputs": [],
   "source": [
    "from tensorflow.keras.preprocessing.sequence import make_sampling_table, skipgrams"
   ]
  },
  {
   "cell_type": "code",
   "execution_count": 61,
   "metadata": {
    "ExecuteTime": {
     "end_time": "2022-07-14T05:43:17.807899Z",
     "start_time": "2022-07-14T05:43:17.798083Z"
    }
   },
   "outputs": [
    {
     "name": "stdout",
     "output_type": "stream",
     "text": [
      "88581\n"
     ]
    }
   ],
   "source": [
    "VOCAB_SIZE = len(tk.word_index)\n",
    "print(VOCAB_SIZE)"
   ]
  },
  {
   "cell_type": "markdown",
   "metadata": {},
   "source": [
    "* 단어를 무작위로 추출하면 자주 나오는 단어가 더 높은 확률을 가짐\n",
    "* 이를 방지하기위해 단어를 추출할 확률의 균형을 맞춘 샘플링 표를 생성"
   ]
  },
  {
   "cell_type": "code",
   "execution_count": 62,
   "metadata": {
    "ExecuteTime": {
     "end_time": "2022-07-14T05:44:04.901094Z",
     "start_time": "2022-07-14T05:44:04.896093Z"
    }
   },
   "outputs": [],
   "source": [
    "table = make_sampling_table(VOCAB_SIZE)"
   ]
  },
  {
   "cell_type": "markdown",
   "metadata": {},
   "source": [
    "* 두 단어씩 뽑아 좌우 2단어(window = 2)안에 들어있는 경우가 있는지 없는지 확인하여 데이터를 생성"
   ]
  },
  {
   "cell_type": "code",
   "execution_count": 63,
   "metadata": {
    "ExecuteTime": {
     "end_time": "2022-07-14T05:45:38.409121Z",
     "start_time": "2022-07-14T05:45:38.392118Z"
    }
   },
   "outputs": [],
   "source": [
    "couples, labels = skipgrams(data, VOCAB_SIZE, window_size=2, sampling_table=table)"
   ]
  },
  {
   "cell_type": "code",
   "execution_count": 64,
   "metadata": {
    "ExecuteTime": {
     "end_time": "2022-07-14T05:45:38.991116Z",
     "start_time": "2022-07-14T05:45:38.983114Z"
    }
   },
   "outputs": [
    {
     "data": {
      "text/plain": [
       "[[10755, 7599], [1310, 79569], [14437, 5], [204, 73017], [16876, 48978]]"
      ]
     },
     "execution_count": 64,
     "metadata": {},
     "output_type": "execute_result"
    }
   ],
   "source": [
    "couples[:5]"
   ]
  },
  {
   "cell_type": "markdown",
   "metadata": {
    "ExecuteTime": {
     "end_time": "2022-07-14T05:46:10.299383Z",
     "start_time": "2022-07-14T05:46:10.281384Z"
    }
   },
   "source": [
    "* labels 에는 윈도우 안에 들어있으면 1, 없으면 0"
   ]
  },
  {
   "cell_type": "code",
   "execution_count": 66,
   "metadata": {
    "ExecuteTime": {
     "end_time": "2022-07-14T05:46:31.800131Z",
     "start_time": "2022-07-14T05:46:31.792130Z"
    }
   },
   "outputs": [
    {
     "data": {
      "text/plain": [
       "[0, 0, 1, 0, 0]"
      ]
     },
     "execution_count": 66,
     "metadata": {},
     "output_type": "execute_result"
    }
   ],
   "source": [
    "labels[:5]"
   ]
  },
  {
   "cell_type": "markdown",
   "metadata": {
    "ExecuteTime": {
     "end_time": "2022-07-14T05:48:14.535781Z",
     "start_time": "2022-07-14T05:48:14.529777Z"
    }
   },
   "source": [
    "* 대상 단어는 `word_context`으로, 맥락 단어는 `word_context`로 모음"
   ]
  },
  {
   "cell_type": "code",
   "execution_count": 71,
   "metadata": {
    "ExecuteTime": {
     "end_time": "2022-07-14T05:52:51.913255Z",
     "start_time": "2022-07-14T05:52:51.904203Z"
    }
   },
   "outputs": [],
   "source": [
    "word_target, word_context = zip(*couples)"
   ]
  },
  {
   "cell_type": "markdown",
   "metadata": {
    "ExecuteTime": {
     "end_time": "2022-07-14T05:48:41.341189Z",
     "start_time": "2022-07-14T05:48:41.321195Z"
    }
   },
   "source": [
    "* 배열로 바꾼다"
   ]
  },
  {
   "cell_type": "code",
   "execution_count": 73,
   "metadata": {
    "ExecuteTime": {
     "end_time": "2022-07-14T05:53:32.711213Z",
     "start_time": "2022-07-14T05:53:32.694210Z"
    }
   },
   "outputs": [],
   "source": [
    "import numpy as np\n",
    "word_target = np.asarray(word_target, dtype=\"int32\")\n",
    "word_context = np.asarray(word_context, dtype=\"int32\")\n",
    "labels = np.asarray(labels, dtype=\"int32\")"
   ]
  },
  {
   "cell_type": "markdown",
   "metadata": {},
   "source": [
    "### Skip-gram 모형"
   ]
  },
  {
   "cell_type": "markdown",
   "metadata": {},
   "source": [
    "* Skip-gram 모형은 함수형 API를 사용해야 함"
   ]
  },
  {
   "cell_type": "code",
   "execution_count": 77,
   "metadata": {
    "ExecuteTime": {
     "end_time": "2022-07-14T05:58:20.598603Z",
     "start_time": "2022-07-14T05:58:20.585605Z"
    }
   },
   "outputs": [],
   "source": [
    "from tensorflow.keras.layers import Activation, Dot, Embedding, Flatten, Input, Reshape\n",
    "from tensorflow.keras.models import Model\n",
    "from tensorflow.keras.utils import plot_model"
   ]
  },
  {
   "cell_type": "code",
   "execution_count": 75,
   "metadata": {
    "ExecuteTime": {
     "end_time": "2022-07-14T05:57:28.079372Z",
     "start_time": "2022-07-14T05:57:28.070368Z"
    }
   },
   "outputs": [],
   "source": [
    "def build_model():\n",
    "    input_target = Input(shape=(1,))\n",
    "    input_context = Input(shape=(1,))\n",
    "    \n",
    "    emb = Embedding(input_dim = VOCAB_SIZE, output_dim=8)\n",
    "    target =emb(input_target)\n",
    "    context = emb(input_context)\n",
    "    \n",
    "    dot = Dot(axes=2)([target, context])\n",
    "    flatten = Reshape((1, ))(dot)\n",
    "    output = Activation(\"sigmoid\")(flatten)\n",
    "    skipgram = Model(inputs=[input_target, input_context], outputs= output)\n",
    "    \n",
    "    return skipgram"
   ]
  },
  {
   "cell_type": "code",
   "execution_count": 79,
   "metadata": {
    "ExecuteTime": {
     "end_time": "2022-07-14T05:58:41.763701Z",
     "start_time": "2022-07-14T05:58:41.603542Z"
    }
   },
   "outputs": [
    {
     "data": {
      "image/png": "[encoded data removed]",
      "text/plain": [
       "<IPython.core.display.Image object>"
      ]
     },
     "execution_count": 79,
     "metadata": {},
     "output_type": "execute_result"
    }
   ],
   "source": [
    "model = build_model()\n",
    "plot_model(model, show_shapes=True)"
   ]
  },
  {
   "cell_type": "markdown",
   "metadata": {},
   "source": [
    "### 모델 컴파일 및 학습"
   ]
  },
  {
   "cell_type": "code",
   "execution_count": 80,
   "metadata": {
    "ExecuteTime": {
     "end_time": "2022-07-14T05:59:12.753175Z",
     "start_time": "2022-07-14T05:59:12.743073Z"
    }
   },
   "outputs": [],
   "source": [
    "from tensorflow.keras.optimizers import Adam"
   ]
  },
  {
   "cell_type": "code",
   "execution_count": 83,
   "metadata": {
    "ExecuteTime": {
     "end_time": "2022-07-14T06:00:50.701252Z",
     "start_time": "2022-07-14T06:00:50.686248Z"
    }
   },
   "outputs": [],
   "source": [
    "model.compile(optimizer=Adam(),\n",
    "              loss=\"binary_crossentropy\",\n",
    "              metrics=[\"accuracy\"])"
   ]
  },
  {
   "cell_type": "code",
   "execution_count": 84,
   "metadata": {
    "ExecuteTime": {
     "end_time": "2022-07-14T06:00:52.811805Z",
     "start_time": "2022-07-14T06:00:51.095561Z"
    }
   },
   "outputs": [
    {
     "data": {
      "text/plain": [
       "<tensorflow.python.keras.callbacks.History at 0x20276a7c208>"
      ]
     },
     "execution_count": 84,
     "metadata": {},
     "output_type": "execute_result"
    }
   ],
   "source": [
    "model.fit([word_target, word_context], labels, epochs=30, verbose=0)"
   ]
  },
  {
   "cell_type": "markdown",
   "metadata": {},
   "source": [
    "### 임베딩 레이어 저장 및 로드"
   ]
  },
  {
   "cell_type": "code",
   "execution_count": 88,
   "metadata": {
    "ExecuteTime": {
     "end_time": "2022-07-14T06:01:55.301975Z",
     "start_time": "2022-07-14T06:01:55.290598Z"
    }
   },
   "outputs": [
    {
     "name": "stdout",
     "output_type": "stream",
     "text": [
      "<tensorflow.python.keras.engine.input_layer.InputLayer object at 0x000002027A912E88>\n",
      "<tensorflow.python.keras.engine.input_layer.InputLayer object at 0x000002027A912F88>\n",
      "<tensorflow.python.keras.layers.embeddings.Embedding object at 0x000002027A8893C8>\n",
      "<tensorflow.python.keras.layers.merge.Dot object at 0x000002027A8F0B08>\n",
      "<tensorflow.python.keras.layers.core.Reshape object at 0x000002027A8F03C8>\n",
      "<tensorflow.python.keras.layers.core.Activation object at 0x000002027A8934C8>\n"
     ]
    }
   ],
   "source": [
    "for i in model.layers:\n",
    "    print(i)\n",
    "    \n",
    "emb = model.layers[2] # 모델에서 임베딩 레이어를 지정"
   ]
  },
  {
   "cell_type": "code",
   "execution_count": 90,
   "metadata": {
    "ExecuteTime": {
     "end_time": "2022-07-14T06:04:39.758004Z",
     "start_time": "2022-07-14T06:04:39.734397Z"
    }
   },
   "outputs": [],
   "source": [
    "np.save(\"model/emb.npy\", emb.get_weights()[0]) # 가중치 저장"
   ]
  },
  {
   "cell_type": "code",
   "execution_count": 91,
   "metadata": {
    "ExecuteTime": {
     "end_time": "2022-07-14T06:04:55.097052Z",
     "start_time": "2022-07-14T06:04:55.090050Z"
    }
   },
   "outputs": [],
   "source": [
    "w = np.load(\"model/emb.npy\") # 가중치 로드"
   ]
  },
  {
   "cell_type": "markdown",
   "metadata": {},
   "source": [
    "* 임베딩 레이어를 추가할 때 `trainable` 를 `False`로 하면 추가학습이 이루어지지 않는다"
   ]
  },
  {
   "cell_type": "code",
   "execution_count": 92,
   "metadata": {
    "ExecuteTime": {
     "end_time": "2022-07-14T06:07:53.617295Z",
     "start_time": "2022-07-14T06:07:53.599231Z"
    }
   },
   "outputs": [],
   "source": [
    "emb_ff = Embedding(input_dim=num_words, output_dim=8, input_length=30, weights=[w], trainable=False)\n",
    "# 저장해둔 가중치를 로드하고 train을 하지 않도록 지정한 layer"
   ]
  },
  {
   "cell_type": "markdown",
   "metadata": {
    "id": "0T4R-JlP2-6k"
   },
   "source": [
    "## IMDB 데이터\n",
    "\n",
    "- 인터넷 영화 데이터베이스(Internet Movie Database)\n",
    "\n",
    "- 양극단의 리뷰 5만개로 이루어진 데이터셋\n",
    "  - 훈련데이터: 25,000개\n",
    "  - 테스트데이터 : 25,000개\n",
    "\n",
    "  <img src=\"https://encrypted-tbn0.gstatic.com/images?q=tbn%3AANd9GcQlk-f2SHB6-Vs3RWwIugMctsyEn2QVZWC5KQ&usqp=CAU\">\n",
    "\n",
    "- https://www.imdb.com/interfaces/\n",
    "\n",
    "원본 IMDB 텍스트\n",
    "\n",
    "* http://mng.bz/0tIo"
   ]
  },
  {
   "cell_type": "markdown",
   "metadata": {
    "id": "gxmuXi9L3-O2"
   },
   "source": [
    "### module import"
   ]
  },
  {
   "cell_type": "code",
   "execution_count": 1,
   "metadata": {
    "ExecuteTime": {
     "end_time": "2022-07-14T08:22:20.694751Z",
     "start_time": "2022-07-14T08:22:20.686749Z"
    }
   },
   "outputs": [],
   "source": [
    "import os"
   ]
  },
  {
   "cell_type": "code",
   "execution_count": 2,
   "metadata": {
    "ExecuteTime": {
     "end_time": "2022-07-14T08:22:23.331394Z",
     "start_time": "2022-07-14T08:22:21.442689Z"
    }
   },
   "outputs": [
    {
     "name": "stdout",
     "output_type": "stream",
     "text": [
      "25000 25000\n"
     ]
    }
   ],
   "source": [
    "imdb_dir = \"D:/Dataset/dataset/Imdb/\"\n",
    "\n",
    "train_dir = os.path.join(imdb_dir, \"train\")\n",
    "\n",
    "labels=[]\n",
    "texts=[]\n",
    "for label_type in [\"neg\", \"pos\"]:\n",
    "    dir_name = os.path.join(train_dir, label_type)\n",
    "    \n",
    "    for fname in os.listdir(dir_name):\n",
    "        if fname[-4:] == \".txt\":\n",
    "            f = open(os.path.join(dir_name, fname), encoding=\"utf8\")\n",
    "            texts.append(f.read())\n",
    "            f.close()\n",
    "            \n",
    "            if label_type == \"neg\":\n",
    "                labels.append(0)\n",
    "            else:\n",
    "                labels.append(1)\n",
    "                \n",
    "print(len(labels), len(texts))"
   ]
  },
  {
   "cell_type": "markdown",
   "metadata": {
    "ExecuteTime": {
     "end_time": "2022-07-14T07:24:03.463561Z",
     "start_time": "2022-07-14T07:24:03.458560Z"
    }
   },
   "source": [
    "### 데이터 토큰화"
   ]
  },
  {
   "cell_type": "code",
   "execution_count": 28,
   "metadata": {
    "ExecuteTime": {
     "end_time": "2022-07-14T08:32:33.485847Z",
     "start_time": "2022-07-14T08:32:33.475855Z"
    }
   },
   "outputs": [],
   "source": [
    "from tensorflow.keras.preprocessing.text import Tokenizer\n",
    "from tensorflow.keras.preprocessing.sequence import pad_sequences"
   ]
  },
  {
   "cell_type": "code",
   "execution_count": 29,
   "metadata": {
    "ExecuteTime": {
     "end_time": "2022-07-14T08:32:33.801736Z",
     "start_time": "2022-07-14T08:32:33.794701Z"
    }
   },
   "outputs": [],
   "source": [
    "max_len = 100 # 문장당 단어 최대 개수\n",
    "training_samples = 200 # 훈련 문장 개수\n",
    "validation_samples = 10000 # 검증 문장 개수\n",
    "max_words = 10000 # 단어 최대 개수"
   ]
  },
  {
   "cell_type": "code",
   "execution_count": 6,
   "metadata": {
    "ExecuteTime": {
     "end_time": "2022-07-14T08:23:34.735635Z",
     "start_time": "2022-07-14T08:23:29.947653Z"
    }
   },
   "outputs": [
    {
     "name": "stdout",
     "output_type": "stream",
     "text": [
      "88582\n"
     ]
    }
   ],
   "source": [
    "tk = Tokenizer(num_words=max_words) # 토큰화 객체\n",
    "tk.fit_on_texts(texts) # 객체 훈련\n",
    "sequences = tk.texts_to_sequences(texts) # 텍스트를 정수 텐서로\n",
    "\n",
    "word_index = tk.word_index # 단어 사전\n",
    "print(len(word_index))"
   ]
  },
  {
   "cell_type": "code",
   "execution_count": 8,
   "metadata": {
    "ExecuteTime": {
     "end_time": "2022-07-14T08:23:47.971810Z",
     "start_time": "2022-07-14T08:23:47.747726Z"
    }
   },
   "outputs": [
    {
     "name": "stdout",
     "output_type": "stream",
     "text": [
      "(25000, 100)\n",
      "(25000,)\n"
     ]
    }
   ],
   "source": [
    "import numpy as np\n",
    "data = pad_sequences(sequences, maxlen=max_len) # 각각의 정수텐서를 padding 하여 같은 크기(max_len = 100)로 변환 \n",
    "labels = np.asarray(labels) # labels 리스트를 array 로 변환\n",
    "\n",
    "print(data.shape)\n",
    "print(labels.shape)"
   ]
  },
  {
   "cell_type": "code",
   "execution_count": 9,
   "metadata": {
    "ExecuteTime": {
     "end_time": "2022-07-14T08:23:49.000686Z",
     "start_time": "2022-07-14T08:23:48.978685Z"
    }
   },
   "outputs": [],
   "source": [
    "# 총 25000개의 데이터 셔플\n",
    "indices = np.arange(data.shape[0]) # 0~24999 까지 array 생성\n",
    "np.random.shuffle(indices) # array 를 섞음\n",
    "data= data[indices] # data 를 섞음\n",
    "labels = labels[indices] # labels 를 섞음\n",
    "\n",
    "# 25000개의 데이터중 200개의 train과 10000개의 valid 를 sampling\n",
    "x_train = data[:training_samples]\n",
    "y_train = labels[:training_samples]\n",
    "x_valid = data[training_samples: training_samples + validation_samples]\n",
    "y_valid = labels[training_samples: training_samples + validation_samples]"
   ]
  },
  {
   "cell_type": "markdown",
   "metadata": {},
   "source": [
    "### GloVe 단어 임베딩 \n",
    "\n",
    "* http://nlp.stanford.edu/data/glove.6B.zip"
   ]
  },
  {
   "cell_type": "markdown",
   "metadata": {},
   "source": [
    "#### 임베딩 전처리"
   ]
  },
  {
   "cell_type": "markdown",
   "metadata": {},
   "source": [
    "* GloVe 파싱"
   ]
  },
  {
   "cell_type": "code",
   "execution_count": 10,
   "metadata": {
    "ExecuteTime": {
     "end_time": "2022-07-14T08:24:00.612578Z",
     "start_time": "2022-07-14T08:23:51.562712Z"
    }
   },
   "outputs": [
    {
     "name": "stdout",
     "output_type": "stream",
     "text": [
      "400000\n"
     ]
    }
   ],
   "source": [
    "glove_dir = \"D:/Dataset/weights/glove.6B\"\n",
    "\n",
    "embeddings_index = {}\n",
    "f = open(os.path.join(glove_dir, \"glove.6B.100d.txt\"), encoding=\"utf8\")\n",
    "for line in f:\n",
    "    values = line.split()\n",
    "    word = values[0]\n",
    "    coefs = np.asarray(values[1: ], dtype=\"float32\")\n",
    "    embeddings_index[word] = coefs\n",
    "f.close()\n",
    "\n",
    "print(len(embeddings_index))"
   ]
  },
  {
   "cell_type": "code",
   "execution_count": 11,
   "metadata": {
    "ExecuteTime": {
     "end_time": "2022-07-14T08:24:01.401808Z",
     "start_time": "2022-07-14T08:24:01.372796Z"
    }
   },
   "outputs": [],
   "source": [
    "embedding_dim = 100\n",
    "\n",
    "embedding_mat = np.zeros((max_words, embedding_dim))\n",
    "for word, i in word_index.items():\n",
    "    if i < max_words:\n",
    "        embedding_vector = embeddings_index.get(word)\n",
    "        if embedding_vector is not None:\n",
    "            embedding_mat[i] = embedding_vector"
   ]
  },
  {
   "cell_type": "code",
   "execution_count": 12,
   "metadata": {
    "ExecuteTime": {
     "end_time": "2022-07-14T08:24:02.358745Z",
     "start_time": "2022-07-14T08:24:02.347733Z"
    }
   },
   "outputs": [
    {
     "data": {
      "text/plain": [
       "array([-0.038194  , -0.24487001,  0.72812003, -0.39961001,  0.083172  ,\n",
       "        0.043953  , -0.39140999,  0.3344    , -0.57545   ,  0.087459  ,\n",
       "        0.28786999, -0.06731   ,  0.30906001, -0.26383999, -0.13231   ,\n",
       "       -0.20757   ,  0.33395001, -0.33848   , -0.31742999, -0.48335999,\n",
       "        0.1464    , -0.37303999,  0.34577   ,  0.052041  ,  0.44946   ,\n",
       "       -0.46970999,  0.02628   , -0.54154998, -0.15518001, -0.14106999,\n",
       "       -0.039722  ,  0.28277001,  0.14393   ,  0.23464   , -0.31020999,\n",
       "        0.086173  ,  0.20397   ,  0.52623999,  0.17163999, -0.082378  ,\n",
       "       -0.71787   , -0.41531   ,  0.20334999, -0.12763   ,  0.41367   ,\n",
       "        0.55186999,  0.57907999, -0.33476999, -0.36559001, -0.54856998,\n",
       "       -0.062892  ,  0.26583999,  0.30204999,  0.99774998, -0.80480999,\n",
       "       -3.0243001 ,  0.01254   , -0.36941999,  2.21670008,  0.72201002,\n",
       "       -0.24978   ,  0.92136002,  0.034514  ,  0.46744999,  1.10790002,\n",
       "       -0.19358   , -0.074575  ,  0.23353   , -0.052062  , -0.22044   ,\n",
       "        0.057162  , -0.15806   , -0.30798   , -0.41624999,  0.37972   ,\n",
       "        0.15006   , -0.53211999, -0.20550001, -1.25259995,  0.071624  ,\n",
       "        0.70564997,  0.49744001, -0.42063001,  0.26148   , -1.53799999,\n",
       "       -0.30223   , -0.073438  , -0.28312001,  0.37103999, -0.25217   ,\n",
       "        0.016215  , -0.017099  , -0.38984001,  0.87423998, -0.72569001,\n",
       "       -0.51058   , -0.52028   , -0.1459    ,  0.82779998,  0.27061999])"
      ]
     },
     "execution_count": 12,
     "metadata": {},
     "output_type": "execute_result"
    }
   ],
   "source": [
    "embedding_mat[1]"
   ]
  },
  {
   "cell_type": "markdown",
   "metadata": {},
   "source": [
    "#### 모델 정의"
   ]
  },
  {
   "cell_type": "code",
   "execution_count": 13,
   "metadata": {
    "ExecuteTime": {
     "end_time": "2022-07-14T08:24:03.670488Z",
     "start_time": "2022-07-14T08:24:03.665497Z"
    }
   },
   "outputs": [],
   "source": [
    "from tensorflow.keras.models import Sequential\n",
    "from tensorflow.keras.layers import Embedding, Flatten, Dense"
   ]
  },
  {
   "cell_type": "code",
   "execution_count": 14,
   "metadata": {
    "ExecuteTime": {
     "end_time": "2022-07-14T08:24:04.846325Z",
     "start_time": "2022-07-14T08:24:04.211745Z"
    }
   },
   "outputs": [
    {
     "name": "stdout",
     "output_type": "stream",
     "text": [
      "Model: \"sequential\"\n",
      "_________________________________________________________________\n",
      "Layer (type)                 Output Shape              Param #   \n",
      "=================================================================\n",
      "embedding (Embedding)        (None, 100, 100)          1000000   \n",
      "_________________________________________________________________\n",
      "flatten (Flatten)            (None, 10000)             0         \n",
      "_________________________________________________________________\n",
      "dense (Dense)                (None, 32)                320032    \n",
      "_________________________________________________________________\n",
      "dense_1 (Dense)              (None, 1)                 33        \n",
      "=================================================================\n",
      "Total params: 1,320,065\n",
      "Trainable params: 1,320,065\n",
      "Non-trainable params: 0\n",
      "_________________________________________________________________\n"
     ]
    }
   ],
   "source": [
    "model = Sequential()\n",
    "\n",
    "model.add(Embedding(max_words, embedding_dim, input_length=max_len))\n",
    "model.add(Flatten())\n",
    "model.add(Dense(32, activation=\"relu\"))\n",
    "model.add(Dense(1, activation=\"sigmoid\"))\n",
    "model.summary()"
   ]
  },
  {
   "cell_type": "code",
   "execution_count": 15,
   "metadata": {
    "ExecuteTime": {
     "end_time": "2022-07-14T08:24:06.398741Z",
     "start_time": "2022-07-14T08:24:06.387743Z"
    }
   },
   "outputs": [],
   "source": [
    "model.layers[0].set_weights([embedding_mat]) # 가져온 GloVe 가중치를 넣어줌\n",
    "model.layers[0].trainable = False # 가져온 가중치는 학습 X"
   ]
  },
  {
   "cell_type": "code",
   "execution_count": 16,
   "metadata": {
    "ExecuteTime": {
     "end_time": "2022-07-14T08:24:07.259851Z",
     "start_time": "2022-07-14T08:24:07.243742Z"
    }
   },
   "outputs": [],
   "source": [
    "model.compile(optimizer=\"rmsprop\",\n",
    "             loss=\"binary_crossentropy\",\n",
    "             metrics=[\"acc\"])"
   ]
  },
  {
   "cell_type": "code",
   "execution_count": 17,
   "metadata": {
    "ExecuteTime": {
     "end_time": "2022-07-14T08:24:14.396076Z",
     "start_time": "2022-07-14T08:24:07.956844Z"
    }
   },
   "outputs": [
    {
     "name": "stdout",
     "output_type": "stream",
     "text": [
      "Epoch 1/10\n",
      "7/7 [==============================] - 2s 106ms/step - loss: 1.1412 - acc: 0.4794 - val_loss: 1.2877 - val_acc: 0.5031\n",
      "Epoch 2/10\n",
      "7/7 [==============================] - 1s 85ms/step - loss: 0.8095 - acc: 0.6765 - val_loss: 0.9085 - val_acc: 0.5039\n",
      "Epoch 3/10\n",
      "7/7 [==============================] - 0s 81ms/step - loss: 0.4019 - acc: 0.7977 - val_loss: 1.0008 - val_acc: 0.5022\n",
      "Epoch 4/10\n",
      "7/7 [==============================] - 0s 82ms/step - loss: 0.4156 - acc: 0.7789 - val_loss: 1.2778 - val_acc: 0.5037\n",
      "Epoch 5/10\n",
      "7/7 [==============================] - 0s 81ms/step - loss: 0.2379 - acc: 0.9035 - val_loss: 0.7966 - val_acc: 0.5579\n",
      "Epoch 6/10\n",
      "7/7 [==============================] - 0s 81ms/step - loss: 0.1673 - acc: 0.9538 - val_loss: 0.7490 - val_acc: 0.5605\n",
      "Epoch 7/10\n",
      "7/7 [==============================] - 1s 89ms/step - loss: 0.0770 - acc: 0.9931 - val_loss: 1.3531 - val_acc: 0.5070\n",
      "Epoch 8/10\n",
      "7/7 [==============================] - 1s 106ms/step - loss: 0.2559 - acc: 0.8916 - val_loss: 0.7265 - val_acc: 0.5760\n",
      "Epoch 9/10\n",
      "7/7 [==============================] - 1s 87ms/step - loss: 0.0497 - acc: 1.0000 - val_loss: 0.7111 - val_acc: 0.5892\n",
      "Epoch 10/10\n",
      "7/7 [==============================] - 1s 114ms/step - loss: 0.0310 - acc: 1.0000 - val_loss: 0.7730 - val_acc: 0.5784\n"
     ]
    }
   ],
   "source": [
    "history = model.fit(x_train, y_train,\n",
    "                    epochs=10,\n",
    "                    batch_size=32,\n",
    "                    validation_data=(x_valid, y_valid))"
   ]
  },
  {
   "cell_type": "code",
   "execution_count": 18,
   "metadata": {
    "ExecuteTime": {
     "end_time": "2022-07-14T08:24:56.753466Z",
     "start_time": "2022-07-14T08:24:56.729461Z"
    }
   },
   "outputs": [],
   "source": [
    "model.save_weights(\"model/pretrained_glove_model.h5\")"
   ]
  },
  {
   "cell_type": "code",
   "execution_count": 20,
   "metadata": {
    "ExecuteTime": {
     "end_time": "2022-07-14T08:25:42.461455Z",
     "start_time": "2022-07-14T08:25:42.051472Z"
    }
   },
   "outputs": [
    {
     "data": {
      "image/png": "[encoded data removed]",
      "text/plain": [
       "<Figure size 864x288 with 2 Axes>"
      ]
     },
     "metadata": {
      "needs_background": "light"
     },
     "output_type": "display_data"
    }
   ],
   "source": [
    "from Myfunc import show_lcurve\n",
    "show_lcurve([history], [\"\"],[\"b\"])"
   ]
  },
  {
   "cell_type": "markdown",
   "metadata": {
    "ExecuteTime": {
     "end_time": "2022-07-14T08:26:34.777828Z",
     "start_time": "2022-07-14T08:26:34.766826Z"
    }
   },
   "source": [
    "### 임베딩을 Freeze 하지않은 모델"
   ]
  },
  {
   "cell_type": "code",
   "execution_count": 22,
   "metadata": {
    "ExecuteTime": {
     "end_time": "2022-07-14T08:28:11.890578Z",
     "start_time": "2022-07-14T08:28:11.857567Z"
    }
   },
   "outputs": [
    {
     "name": "stdout",
     "output_type": "stream",
     "text": [
      "Model: \"sequential_1\"\n",
      "_________________________________________________________________\n",
      "Layer (type)                 Output Shape              Param #   \n",
      "=================================================================\n",
      "embedding_1 (Embedding)      (None, 100, 100)          1000000   \n",
      "_________________________________________________________________\n",
      "flatten_1 (Flatten)          (None, 10000)             0         \n",
      "_________________________________________________________________\n",
      "dense_2 (Dense)              (None, 32)                320032    \n",
      "_________________________________________________________________\n",
      "dense_3 (Dense)              (None, 1)                 33        \n",
      "=================================================================\n",
      "Total params: 1,320,065\n",
      "Trainable params: 1,320,065\n",
      "Non-trainable params: 0\n",
      "_________________________________________________________________\n"
     ]
    }
   ],
   "source": [
    "model2 = Sequential()\n",
    "\n",
    "model2.add(Embedding(max_words, embedding_dim, input_length=max_len))\n",
    "model2.add(Flatten())\n",
    "model2.add(Dense(32, activation=\"relu\"))\n",
    "model2.add(Dense(1, activation=\"sigmoid\"))\n",
    "model2.summary()"
   ]
  },
  {
   "cell_type": "code",
   "execution_count": 24,
   "metadata": {
    "ExecuteTime": {
     "end_time": "2022-07-14T08:28:50.927485Z",
     "start_time": "2022-07-14T08:28:50.914516Z"
    }
   },
   "outputs": [],
   "source": [
    "model2.compile(optimizer=\"rmsprop\",\n",
    "             loss=\"binary_crossentropy\",\n",
    "             metrics=[\"acc\"])"
   ]
  },
  {
   "cell_type": "code",
   "execution_count": 25,
   "metadata": {
    "ExecuteTime": {
     "end_time": "2022-07-14T08:28:57.730746Z",
     "start_time": "2022-07-14T08:28:51.345537Z"
    }
   },
   "outputs": [
    {
     "name": "stdout",
     "output_type": "stream",
     "text": [
      "Epoch 1/10\n",
      "7/7 [==============================] - 1s 161ms/step - loss: 0.6922 - acc: 0.5608 - val_loss: 0.6912 - val_acc: 0.5166\n",
      "Epoch 2/10\n",
      "7/7 [==============================] - 1s 89ms/step - loss: 0.4664 - acc: 0.9602 - val_loss: 0.7037 - val_acc: 0.5142\n",
      "Epoch 3/10\n",
      "7/7 [==============================] - 1s 89ms/step - loss: 0.2410 - acc: 0.9823 - val_loss: 0.7068 - val_acc: 0.5254\n",
      "Epoch 4/10\n",
      "7/7 [==============================] - 1s 92ms/step - loss: 0.0964 - acc: 1.0000 - val_loss: 0.7060 - val_acc: 0.5356\n",
      "Epoch 5/10\n",
      "7/7 [==============================] - 1s 91ms/step - loss: 0.0466 - acc: 1.0000 - val_loss: 0.7212 - val_acc: 0.5323\n",
      "Epoch 6/10\n",
      "7/7 [==============================] - 1s 93ms/step - loss: 0.0232 - acc: 1.0000 - val_loss: 0.7337 - val_acc: 0.5288\n",
      "Epoch 7/10\n",
      "7/7 [==============================] - 1s 91ms/step - loss: 0.0127 - acc: 1.0000 - val_loss: 0.7350 - val_acc: 0.5322\n",
      "Epoch 8/10\n",
      "7/7 [==============================] - 1s 90ms/step - loss: 0.0072 - acc: 1.0000 - val_loss: 0.7277 - val_acc: 0.5387\n",
      "Epoch 9/10\n",
      "7/7 [==============================] - 1s 91ms/step - loss: 0.0045 - acc: 1.0000 - val_loss: 0.7443 - val_acc: 0.5364\n",
      "Epoch 10/10\n",
      "7/7 [==============================] - 1s 90ms/step - loss: 0.0027 - acc: 1.0000 - val_loss: 0.7495 - val_acc: 0.5385\n"
     ]
    }
   ],
   "source": [
    "history2 = model2.fit(x_train, y_train,\n",
    "                    epochs=10,\n",
    "                    batch_size=32,\n",
    "                    validation_data=(x_valid, y_valid))"
   ]
  },
  {
   "cell_type": "code",
   "execution_count": 26,
   "metadata": {
    "ExecuteTime": {
     "end_time": "2022-07-14T08:29:51.626741Z",
     "start_time": "2022-07-14T08:29:51.394300Z"
    }
   },
   "outputs": [
    {
     "data": {
      "image/png": "[encoded data removed]",
      "text/plain": [
       "<Figure size 864x288 with 2 Axes>"
      ]
     },
     "metadata": {},
     "output_type": "display_data"
    }
   ],
   "source": [
    "show_lcurve([history,history2],[\"Freeze\",\"UnFreeze\"],[\"r\",\"b\"])"
   ]
  },
  {
   "cell_type": "markdown",
   "metadata": {},
   "source": [
    "### 테스트 토큰화"
   ]
  },
  {
   "cell_type": "code",
   "execution_count": 27,
   "metadata": {
    "ExecuteTime": {
     "end_time": "2022-07-14T08:32:24.403856Z",
     "start_time": "2022-07-14T08:32:22.801862Z"
    }
   },
   "outputs": [],
   "source": [
    "imdb_dir = \"D:/Dataset/dataset/Imdb/\"\n",
    "\n",
    "test_dir = os.path.join(imdb_dir, \"test\")\n",
    "\n",
    "labels=[]\n",
    "texts=[]\n",
    "for label_type in [\"neg\", \"pos\"]:\n",
    "    dir_name = os.path.join(train_dir, label_type)\n",
    "    \n",
    "    for fname in os.listdir(dir_name):\n",
    "        if fname[-4:] == \".txt\":\n",
    "            f = open(os.path.join(dir_name, fname), encoding=\"utf8\")\n",
    "            texts.append(f.read())\n",
    "            f.close()\n",
    "            \n",
    "            if label_type == \"neg\":\n",
    "                labels.append(0)\n",
    "            else:\n",
    "                labels.append(1)\n",
    "                \n",
    "sequences = tk.texts_to_sequences(texts)\n",
    "x_test = pad_sequences(sequences, maxlen=max_len)\n",
    "y_test = np.asarray(labels)"
   ]
  },
  {
   "cell_type": "code",
   "execution_count": 32,
   "metadata": {
    "ExecuteTime": {
     "end_time": "2022-07-14T08:33:57.638593Z",
     "start_time": "2022-07-14T08:33:57.634593Z"
    }
   },
   "outputs": [
    {
     "name": "stdout",
     "output_type": "stream",
     "text": [
      "(25000, 100)\n",
      "(25000,)\n"
     ]
    }
   ],
   "source": [
    "print(x_test.shape)\n",
    "print(y_test.shape)"
   ]
  },
  {
   "cell_type": "markdown",
   "metadata": {},
   "source": [
    "### 비교 / 평가"
   ]
  },
  {
   "cell_type": "code",
   "execution_count": 33,
   "metadata": {
    "ExecuteTime": {
     "end_time": "2022-07-14T08:34:32.388106Z",
     "start_time": "2022-07-14T08:34:30.585603Z"
    }
   },
   "outputs": [
    {
     "name": "stdout",
     "output_type": "stream",
     "text": [
      "782/782 [==============================] - 2s 2ms/step - loss: 0.9934 - acc: 0.4325\n"
     ]
    },
    {
     "data": {
      "text/plain": [
       "[0.7741166949272156, 0.5760400295257568]"
      ]
     },
     "execution_count": 33,
     "metadata": {},
     "output_type": "execute_result"
    }
   ],
   "source": [
    "model.load_weights(\"model/pretrained_glove_model.h5\")\n",
    "model.evaluate(x_test, y_test)"
   ]
  },
  {
   "cell_type": "code",
   "execution_count": 34,
   "metadata": {
    "ExecuteTime": {
     "end_time": "2022-07-14T08:34:47.332095Z",
     "start_time": "2022-07-14T08:34:45.931864Z"
    }
   },
   "outputs": [
    {
     "name": "stdout",
     "output_type": "stream",
     "text": [
      "782/782 [==============================] - 1s 2ms/step - loss: 0.7448 - acc: 0.5389\n"
     ]
    },
    {
     "data": {
      "text/plain": [
       "[0.7447704672813416, 0.538919985294342]"
      ]
     },
     "execution_count": 34,
     "metadata": {},
     "output_type": "execute_result"
    }
   ],
   "source": [
    "model2.evaluate(x_test, y_test)"
   ]
  },
  {
   "cell_type": "markdown",
   "metadata": {},
   "source": [
    "## Word2Vec 시각화"
   ]
  },
  {
   "cell_type": "code",
   "execution_count": 35,
   "metadata": {
    "ExecuteTime": {
     "end_time": "2022-07-14T08:38:59.123967Z",
     "start_time": "2022-07-14T08:38:59.025673Z"
    }
   },
   "outputs": [],
   "source": [
    "from gensim.models import KeyedVectors"
   ]
  },
  {
   "cell_type": "code",
   "execution_count": 51,
   "metadata": {
    "ExecuteTime": {
     "end_time": "2022-07-14T04:49:26.895302Z",
     "start_time": "2022-07-14T04:49:22.178914Z"
    },
    "id": "lcXY8cG50VuX"
   },
   "outputs": [],
   "source": [
    "model = Word2Vec(sentences=news_texts, window=4, vector_size=100, min_count=5, workers=4, sg=1)"
   ]
  },
  {
   "cell_type": "code",
   "execution_count": 53,
   "metadata": {
    "ExecuteTime": {
     "end_time": "2022-07-14T04:50:13.508779Z",
     "start_time": "2022-07-14T04:50:12.735584Z"
    },
    "id": "gA674OcrStUQ"
   },
   "outputs": [],
   "source": [
    "model.wv.save_word2vec_format(\"news_w2v\")"
   ]
  },
  {
   "cell_type": "markdown",
   "metadata": {
    "id": "8yRepgJTWSte"
   },
   "source": [
    "* metadata.tsv와 tensor.tsv 데이터 생성"
   ]
  },
  {
   "cell_type": "code",
   "execution_count": 57,
   "metadata": {
    "ExecuteTime": {
     "end_time": "2022-07-14T04:52:56.433372Z",
     "start_time": "2022-07-14T04:52:53.758590Z"
    },
    "id": "zrfecS8nS9NE"
   },
   "outputs": [
    {
     "name": "stderr",
     "output_type": "stream",
     "text": [
      "2022-07-14 13:52:54,282 - word2vec2tensor - INFO - running C:\\Users\\user\\miniconda3\\envs\\deep_tf\\lib\\site-packages\\gensim\\scripts\\word2vec2tensor.py -i news_w2v -o news_w2v\n",
      "2022-07-14 13:52:54,283 - keyedvectors - INFO - loading projection weights from news_w2v\n",
      "2022-07-14 13:52:55,493 - utils - INFO - KeyedVectors lifecycle event {'msg': 'loaded (16996, 100) matrix of type float32 from news_w2v', 'binary': False, 'encoding': 'utf8', 'datetime': '2022-07-14T13:52:55.493283', 'gensim': '4.2.0', 'python': '3.7.10 (default, Feb 26 2021, 13:06:18) [MSC v.1916 64 bit (AMD64)]', 'platform': 'Windows-10-10.0.19041-SP0', 'event': 'load_word2vec_format'}\n",
      "2022-07-14 13:52:56,358 - word2vec2tensor - INFO - 2D tensor file saved to news_w2v_tensor.tsv\n",
      "2022-07-14 13:52:56,358 - word2vec2tensor - INFO - Tensor metadata file saved to news_w2v_metadata.tsv\n",
      "2022-07-14 13:52:56,358 - word2vec2tensor - INFO - finished running word2vec2tensor.py\n"
     ]
    }
   ],
   "source": [
    "! python -m gensim.scripts.word2vec2tensor -i news_w2v -o news_w2v"
   ]
  },
  {
   "cell_type": "markdown",
   "metadata": {},
   "source": [
    "news_w2v 를 metadata.tsv 와 tensor.tsv 파일로 변환"
   ]
  },
  {
   "cell_type": "markdown",
   "metadata": {
    "id": "nD_aU-YOTEon"
   },
   "source": [
    "* Embedding Projector: https://projector.tensorflow.org/\n",
    "    - 1번에 tensor 파일, 2번에 metadata 파일을 넣어서 시각화 가능"
   ]
  }
 ],
 "metadata": {
  "accelerator": "GPU",
  "colab": {
   "collapsed_sections": [],
   "name": "_7 임베딩(Embedding).ipynb",
   "provenance": [],
   "toc_visible": true
  },
  "kernelspec": {
   "display_name": "Python 3 (ipykernel)",
   "language": "python",
   "name": "python3"
  },
  "language_info": {
   "codemirror_mode": {
    "name": "ipython",
    "version": 3
   },
   "file_extension": ".py",
   "mimetype": "text/x-python",
   "name": "python",
   "nbconvert_exporter": "python",
   "pygments_lexer": "ipython3",
   "version": "3.7.10"
  },
  "toc": {
   "base_numbering": 1,
   "nav_menu": {},
   "number_sections": true,
   "sideBar": true,
   "skip_h1_title": false,
   "title_cell": "Table of Contents",
   "title_sidebar": "Contents",
   "toc_cell": false,
   "toc_position": {
    "height": "calc(100% - 180px)",
    "left": "10px",
    "top": "150px",
    "width": "307.2px"
   },
   "toc_section_display": true,
   "toc_window_display": true
  }
 },
 "nbformat": 4,
 "nbformat_minor": 1
}
