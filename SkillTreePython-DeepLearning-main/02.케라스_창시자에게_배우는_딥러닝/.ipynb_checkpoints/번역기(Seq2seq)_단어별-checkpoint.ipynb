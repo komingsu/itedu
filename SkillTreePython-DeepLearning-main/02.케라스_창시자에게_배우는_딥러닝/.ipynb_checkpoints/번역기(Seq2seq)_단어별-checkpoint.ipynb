{
 "cells": [
  {
   "cell_type": "markdown",
   "id": "da9e5cff",
   "metadata": {},
   "source": [
    "# 라이브러리 호출"
   ]
  },
  {
   "cell_type": "code",
   "execution_count": 1,
   "id": "1f1eaecb",
   "metadata": {
    "ExecuteTime": {
     "end_time": "2022-07-21T07:50:10.504822Z",
     "start_time": "2022-07-21T07:50:08.521690Z"
    }
   },
   "outputs": [],
   "source": [
    "import os\n",
    "import re\n",
    "import shutil\n",
    "import zipfile\n",
    "import urllib3\n",
    "import unicodedata\n",
    "import numpy as np\n",
    "import pandas as pd\n",
    "import tensorflow as tf\n",
    "from tensorflow.keras.models import Model\n",
    "from tensorflow.keras.optimizers import Adam\n",
    "from tensorflow.keras.preprocessing.text import Tokenizer\n",
    "from tensorflow.keras.preprocessing.sequence import pad_sequences\n",
    "from tensorflow.keras.callbacks import ModelCheckpoint, ReduceLROnPlateau\n",
    "from tensorflow.keras.layers import Embedding, GRU, Dense, Input, LSTM, Embedding, Dense, Masking"
   ]
  },
  {
   "cell_type": "code",
   "execution_count": 2,
   "id": "1afacca5",
   "metadata": {
    "ExecuteTime": {
     "end_time": "2022-07-21T07:50:10.552077Z",
     "start_time": "2022-07-21T07:50:10.507822Z"
    }
   },
   "outputs": [
    {
     "data": {
      "text/plain": [
       "[PhysicalDevice(name='/physical_device:GPU:0', device_type='GPU')]"
      ]
     },
     "execution_count": 2,
     "metadata": {},
     "output_type": "execute_result"
    }
   ],
   "source": [
    "tf.config.list_physical_devices(\"GPU\")"
   ]
  },
  {
   "cell_type": "markdown",
   "id": "67f0f5af",
   "metadata": {},
   "source": [
    "# 데이터"
   ]
  },
  {
   "cell_type": "markdown",
   "id": "c7bf1695",
   "metadata": {
    "ExecuteTime": {
     "end_time": "2022-07-21T04:47:06.304199Z",
     "start_time": "2022-07-21T04:47:06.293065Z"
    }
   },
   "source": [
    "## 샘플 개수"
   ]
  },
  {
   "cell_type": "code",
   "execution_count": 3,
   "id": "683cd9e3",
   "metadata": {
    "ExecuteTime": {
     "end_time": "2022-07-21T07:50:13.790983Z",
     "start_time": "2022-07-21T07:50:13.773214Z"
    }
   },
   "outputs": [],
   "source": [
    "num_samples = 30000"
   ]
  },
  {
   "cell_type": "markdown",
   "id": "6dc86f6c",
   "metadata": {},
   "source": [
    "## 데이터 전처리"
   ]
  },
  {
   "cell_type": "code",
   "execution_count": 4,
   "id": "04979317",
   "metadata": {
    "ExecuteTime": {
     "end_time": "2022-07-21T07:50:14.933822Z",
     "start_time": "2022-07-21T07:50:14.919574Z"
    }
   },
   "outputs": [],
   "source": [
    "def to_ascii(s):\n",
    "    # 프랑스어 악센트(accent) 삭제\n",
    "    # 예시 : 'déjà diné' -> deja dine\n",
    "    return ''.join(c for c in unicodedata.normalize('NFD', s) if unicodedata.category(c) != 'Mn')\n",
    "\n",
    "\n",
    "def preprocess_sentence(sent):\n",
    "    # 악센트 제거 함수 호출\n",
    "    sent = to_ascii(sent.lower())\n",
    "\n",
    "    # 단어와 구두점 사이에 공백 추가.\n",
    "    # ex) \"I am a student.\" => \"I am a student .\"\n",
    "    sent = re.sub(r\"([?.!,¿])\", r\" \\1\", sent)\n",
    "\n",
    "    # (a-z, A-Z, \".\", \"?\", \"!\", \",\") 이들을 제외하고는 전부 공백으로 변환.\n",
    "    sent = re.sub(r\"[^a-zA-Z!.?]+\", r\" \", sent)\n",
    "\n",
    "    # 다수 개의 공백을 하나의 공백으로 치환\n",
    "    sent = re.sub(r\"\\s+\", \" \", sent)\n",
    "    return sent"
   ]
  },
  {
   "cell_type": "code",
   "execution_count": 5,
   "id": "47b6b6dd",
   "metadata": {
    "ExecuteTime": {
     "end_time": "2022-07-21T07:50:15.278923Z",
     "start_time": "2022-07-21T07:50:15.261911Z"
    }
   },
   "outputs": [
    {
     "name": "stdout",
     "output_type": "stream",
     "text": [
      "전처리 전 영어 문장 : Have you had dinner?\n",
      "전처리 후 영어 문장 : have you had dinner ?\n",
      "전처리 전 프랑스어 문장 : Avez-vous déjà diné?\n",
      "전처리 후 프랑스어 문장 : avez vous deja dine ?\n"
     ]
    }
   ],
   "source": [
    "# 전처리 테스트\n",
    "en_sent = u\"Have you had dinner?\"\n",
    "fr_sent = u\"Avez-vous déjà diné?\"\n",
    "\n",
    "print('전처리 전 영어 문장 :', en_sent)\n",
    "print('전처리 후 영어 문장 :',preprocess_sentence(en_sent))\n",
    "print('전처리 전 프랑스어 문장 :', fr_sent)\n",
    "print('전처리 후 프랑스어 문장 :', preprocess_sentence(fr_sent))"
   ]
  },
  {
   "cell_type": "markdown",
   "id": "391e4961",
   "metadata": {},
   "source": [
    "## 인코더, 디코더 데이터 분리"
   ]
  },
  {
   "cell_type": "code",
   "execution_count": 6,
   "id": "2511cf57",
   "metadata": {
    "ExecuteTime": {
     "end_time": "2022-07-21T07:50:16.483381Z",
     "start_time": "2022-07-21T07:50:16.470367Z"
    }
   },
   "outputs": [],
   "source": [
    "def load_preprocessed_data():\n",
    "    encoder_input, decoder_input, decoder_target = [], [], []\n",
    "\n",
    "    with open(\"D:/Dataset/dataset/parallel_corpus/fra-eng.txt\", \"r\", encoding=\"utf-8\") as lines:\n",
    "        for i, line in enumerate(lines):\n",
    "            # source 데이터와 target 데이터 분리\n",
    "            src_line, tar_line, _ = line.strip().split('\\t')\n",
    "\n",
    "            # source 데이터 전처리\n",
    "            src_line = [w for w in preprocess_sentence(src_line).split()]\n",
    "\n",
    "            # target 데이터 전처리\n",
    "            tar_line = preprocess_sentence(tar_line)\n",
    "            tar_line_in = [w for w in (\"<sos> \" + tar_line).split()]\n",
    "            tar_line_out = [w for w in (tar_line + \" <eos>\").split()]\n",
    "\n",
    "            encoder_input.append(src_line)\n",
    "            decoder_input.append(tar_line_in)\n",
    "            decoder_target.append(tar_line_out)\n",
    "\n",
    "            if i == num_samples - 1:\n",
    "                break\n",
    "\n",
    "    return encoder_input, decoder_input, decoder_target"
   ]
  },
  {
   "cell_type": "code",
   "execution_count": 7,
   "id": "6c4ca429",
   "metadata": {
    "ExecuteTime": {
     "end_time": "2022-07-21T07:50:17.806143Z",
     "start_time": "2022-07-21T07:50:17.063407Z"
    }
   },
   "outputs": [
    {
     "name": "stdout",
     "output_type": "stream",
     "text": [
      "인코더의 입력 : [['go', '.'], ['go', '.'], ['go', '.'], ['hi', '.'], ['hi', '.']]\n",
      "디코더의 입력 : [['<sos>', 'va', '!'], ['<sos>', 'marche', '.'], ['<sos>', 'bouge', '!'], ['<sos>', 'salut', '!'], ['<sos>', 'salut', '.']]\n",
      "디코더의 레이블 : [['va', '!', '<eos>'], ['marche', '.', '<eos>'], ['bouge', '!', '<eos>'], ['salut', '!', '<eos>'], ['salut', '.', '<eos>']]\n"
     ]
    }
   ],
   "source": [
    "sents_en_in, sents_fra_in, sents_fra_out = load_preprocessed_data()\n",
    "print('인코더의 입력 :',sents_en_in[:5])\n",
    "print('디코더의 입력 :',sents_fra_in[:5])\n",
    "print('디코더의 레이블 :',sents_fra_out[:5])"
   ]
  },
  {
   "cell_type": "markdown",
   "id": "e9e47734",
   "metadata": {},
   "source": [
    "## 데이터 토큰화"
   ]
  },
  {
   "cell_type": "code",
   "execution_count": 8,
   "id": "5d93f304",
   "metadata": {
    "ExecuteTime": {
     "end_time": "2022-07-21T07:50:21.527100Z",
     "start_time": "2022-07-21T07:50:20.982863Z"
    }
   },
   "outputs": [],
   "source": [
    "tokenizer_en = Tokenizer(filters=\"\", lower=False)\n",
    "tokenizer_en.fit_on_texts(sents_en_in)\n",
    "encoder_input = tokenizer_en.texts_to_sequences(sents_en_in)\n",
    "encoder_input = pad_sequences(encoder_input, padding=\"post\")\n",
    "\n",
    "tokenizer_fra = Tokenizer(filters=\"\", lower=False)\n",
    "tokenizer_fra.fit_on_texts(sents_fra_in)\n",
    "tokenizer_fra.fit_on_texts(sents_fra_out)\n",
    "\n",
    "decoder_input = tokenizer_fra.texts_to_sequences(sents_fra_in)\n",
    "decoder_input = pad_sequences(decoder_input, padding=\"post\")\n",
    "\n",
    "decoder_target = tokenizer_fra.texts_to_sequences(sents_fra_out)\n",
    "decoder_target = pad_sequences(decoder_target, padding=\"post\")"
   ]
  },
  {
   "cell_type": "code",
   "execution_count": 9,
   "id": "57d844bf",
   "metadata": {
    "ExecuteTime": {
     "end_time": "2022-07-21T07:50:22.539482Z",
     "start_time": "2022-07-21T07:50:22.527202Z"
    }
   },
   "outputs": [
    {
     "name": "stdout",
     "output_type": "stream",
     "text": [
      "인코더의 입력의 크기(shape) : (30000, 7)\n",
      "디코더의 입력의 크기(shape) : (30000, 16)\n",
      "디코더의 레이블의 크기(shape) : (30000, 16)\n"
     ]
    }
   ],
   "source": [
    "print('인코더의 입력의 크기(shape) :',encoder_input.shape)\n",
    "print('디코더의 입력의 크기(shape) :',decoder_input.shape)\n",
    "print('디코더의 레이블의 크기(shape) :',decoder_target.shape)"
   ]
  },
  {
   "cell_type": "code",
   "execution_count": 10,
   "id": "9af337e9",
   "metadata": {
    "ExecuteTime": {
     "end_time": "2022-07-21T07:50:23.482748Z",
     "start_time": "2022-07-21T07:50:23.477281Z"
    }
   },
   "outputs": [
    {
     "name": "stdout",
     "output_type": "stream",
     "text": [
      "영어 단어 집합의 크기 : 4380, 프랑스어 단어 집합의 크기 : 7674\n"
     ]
    }
   ],
   "source": [
    "src_vocab_size = len(tokenizer_en.word_index) + 1\n",
    "tar_vocab_size = len(tokenizer_fra.word_index) + 1\n",
    "print(\"영어 단어 집합의 크기 : {:d}, 프랑스어 단어 집합의 크기 : {:d}\".format(src_vocab_size, tar_vocab_size))"
   ]
  },
  {
   "cell_type": "markdown",
   "id": "e25003b8",
   "metadata": {},
   "source": [
    "## 딕셔너리 생성"
   ]
  },
  {
   "cell_type": "code",
   "execution_count": 11,
   "id": "0246532e",
   "metadata": {
    "ExecuteTime": {
     "end_time": "2022-07-21T07:50:27.011644Z",
     "start_time": "2022-07-21T07:50:27.006591Z"
    }
   },
   "outputs": [],
   "source": [
    "src_to_index = tokenizer_en.word_index\n",
    "index_to_src = tokenizer_en.index_word\n",
    "tar_to_index = tokenizer_fra.word_index\n",
    "index_to_tar = tokenizer_fra.index_word"
   ]
  },
  {
   "cell_type": "code",
   "execution_count": 12,
   "id": "10fed59d",
   "metadata": {
    "ExecuteTime": {
     "end_time": "2022-07-21T07:50:27.937874Z",
     "start_time": "2022-07-21T07:50:27.927487Z"
    }
   },
   "outputs": [],
   "source": [
    "## 데이터 셔플\n",
    "indices = np.arange(encoder_input.shape[0])\n",
    "np.random.shuffle(indices)\n",
    "\n",
    "encoder_input = encoder_input[indices]\n",
    "decoder_input = decoder_input[indices]\n",
    "decoder_target = decoder_target[indices]"
   ]
  },
  {
   "cell_type": "markdown",
   "id": "88080ef4",
   "metadata": {},
   "source": [
    "## 훈련 / 테스트 데이터 분리"
   ]
  },
  {
   "cell_type": "code",
   "execution_count": 15,
   "id": "71a19dcd",
   "metadata": {
    "ExecuteTime": {
     "end_time": "2022-07-21T07:50:40.592843Z",
     "start_time": "2022-07-21T07:50:40.583801Z"
    }
   },
   "outputs": [
    {
     "name": "stdout",
     "output_type": "stream",
     "text": [
      "검증 데이터의 개수 : 3000\n"
     ]
    }
   ],
   "source": [
    "n_of_val = int(30000*0.1)\n",
    "print('검증 데이터의 개수 :',n_of_val)"
   ]
  },
  {
   "cell_type": "code",
   "execution_count": 16,
   "id": "c0fa569b",
   "metadata": {
    "ExecuteTime": {
     "end_time": "2022-07-21T07:50:42.906188Z",
     "start_time": "2022-07-21T07:50:42.895842Z"
    }
   },
   "outputs": [],
   "source": [
    "encoder_input_train = encoder_input[:-n_of_val]\n",
    "decoder_input_train = decoder_input[:-n_of_val]\n",
    "decoder_target_train = decoder_target[:-n_of_val]\n",
    "\n",
    "encoder_input_test = encoder_input[-n_of_val:]\n",
    "decoder_input_test = decoder_input[-n_of_val:]\n",
    "decoder_target_test = decoder_target[-n_of_val:]"
   ]
  },
  {
   "cell_type": "code",
   "execution_count": 17,
   "id": "9c877748",
   "metadata": {
    "ExecuteTime": {
     "end_time": "2022-07-21T07:50:43.510403Z",
     "start_time": "2022-07-21T07:50:43.496425Z"
    }
   },
   "outputs": [
    {
     "name": "stdout",
     "output_type": "stream",
     "text": [
      "훈련 source 데이터의 크기 : (27000, 7)\n",
      "훈련 target 데이터의 크기 : (27000, 16)\n",
      "훈련 target 레이블의 크기 : (27000, 16)\n",
      "테스트 source 데이터의 크기 : (3000, 7)\n",
      "테스트 target 데이터의 크기 : (3000, 16)\n",
      "테스트 target 레이블의 크기 : (3000, 16)\n"
     ]
    }
   ],
   "source": [
    "print('훈련 source 데이터의 크기 :',encoder_input_train.shape)\n",
    "print('훈련 target 데이터의 크기 :',decoder_input_train.shape)\n",
    "print('훈련 target 레이블의 크기 :',decoder_target_train.shape)\n",
    "print('테스트 source 데이터의 크기 :',encoder_input_test.shape)\n",
    "print('테스트 target 데이터의 크기 :',decoder_input_test.shape)\n",
    "print('테스트 target 레이블의 크기 :',decoder_target_test.shape)"
   ]
  },
  {
   "cell_type": "code",
   "execution_count": 19,
   "id": "1d3588d6",
   "metadata": {
    "ExecuteTime": {
     "end_time": "2022-07-21T07:51:29.219755Z",
     "start_time": "2022-07-21T07:51:29.208185Z"
    }
   },
   "outputs": [
    {
     "name": "stdout",
     "output_type": "stream",
     "text": [
      "훈련 source 데이터의 샘플 : [  2  46 357  64   1   0   0]\n",
      "훈련 target 데이터의 샘플 : [  2  11  14  59  17 163  24  92   1   0   0   0   0   0   0   0]\n",
      "훈련 target 레이블의 샘플 : [ 11  14  59  17 163  24  92   1   3   0   0   0   0   0   0   0]\n",
      "테스트 source 데이터의 샘플 : [  2  12  31 481   1   0   0]\n",
      "테스트 target 데이터의 샘플 : [  2   4  20 425  13   1   0   0   0   0   0   0   0   0   0   0]\n",
      "테스트 target 레이블의 샘플 : [  4  20 425  13   1   3   0   0   0   0   0   0   0   0   0   0]\n"
     ]
    }
   ],
   "source": [
    "print('훈련 source 데이터의 샘플 :',encoder_input_train[0])\n",
    "print('훈련 target 데이터의 샘플 :',decoder_input_train[0])\n",
    "print('훈련 target 레이블의 샘플 :',decoder_target_train[0])\n",
    "print('테스트 source 데이터의 샘플 :',encoder_input_test[0])\n",
    "print('테스트 target 데이터의 샘플 :',decoder_input_test[0])\n",
    "print('테스트 target 레이블의 샘플 :',decoder_target_test[0])"
   ]
  },
  {
   "cell_type": "markdown",
   "id": "7f4d4988",
   "metadata": {},
   "source": [
    "# 번역기 제작"
   ]
  },
  {
   "cell_type": "code",
   "execution_count": 46,
   "id": "d0b2dd68",
   "metadata": {
    "ExecuteTime": {
     "end_time": "2022-07-21T08:06:52.581745Z",
     "start_time": "2022-07-21T08:06:52.560067Z"
    }
   },
   "outputs": [],
   "source": [
    "embedding_dim = 64\n",
    "hidden_units = 64"
   ]
  },
  {
   "cell_type": "code",
   "execution_count": 47,
   "id": "ed2d7a2a",
   "metadata": {
    "ExecuteTime": {
     "end_time": "2022-07-21T08:06:54.146725Z",
     "start_time": "2022-07-21T08:06:52.729379Z"
    }
   },
   "outputs": [],
   "source": [
    "# 인코더\n",
    "encoder_inputs = Input(shape=(None,))\n",
    "enc_emb = Embedding(src_vocab_size, embedding_dim)(encoder_inputs) # 임베딩 층\n",
    "enc_masking = Masking(mask_value=0.0)(enc_emb) # 패딩 0은 연산에서 제외\n",
    "encoder_lstm = LSTM(hidden_units, return_state=True) # 상태값 리턴을 위해 return_state는 True\n",
    "encoder_outputs, state_h, state_c = encoder_lstm(enc_masking) # 은닉 상태와 셀 상태를 리턴\n",
    "encoder_states = [state_h, state_c] # 인코더의 은닉 상태와 셀 상태를 저장\n",
    "\n",
    "# 디코더\n",
    "decoder_inputs = Input(shape=(None,))\n",
    "dec_emb_layer = Embedding(tar_vocab_size, hidden_units) # 임베딩 층\n",
    "dec_emb = dec_emb_layer(decoder_inputs) # 패딩 0은 연산에서 제외\n",
    "dec_masking = Masking(mask_value=0.0)(dec_emb)\n",
    "\n",
    "# 상태값 리턴을 위해 return_state는 True, 모든 시점에 대해서 단어를 예측하기 위해 return_sequences는 True\n",
    "decoder_lstm = LSTM(hidden_units, return_sequences=True, return_state=True) \n",
    "\n",
    "# 인코더의 은닉 상태를 초기 은닉 상태(initial_state)로 사용\n",
    "decoder_outputs, _, _ = decoder_lstm(dec_masking,\n",
    "                                     initial_state=encoder_states)\n",
    "\n",
    "# 모든 시점의 결과에 대해서 소프트맥스 함수를 사용한 출력층을 통해 단어 예측\n",
    "decoder_dense = Dense(tar_vocab_size, activation='softmax')\n",
    "decoder_outputs = decoder_dense(decoder_outputs)\n",
    "\n",
    "# 모델의 입력과 출력을 정의.\n",
    "model = Model([encoder_inputs, decoder_inputs], decoder_outputs)\n",
    "\n",
    "model.compile(optimizer='adam', loss='sparse_categorical_crossentropy', metrics=['acc'])"
   ]
  },
  {
   "cell_type": "code",
   "execution_count": 48,
   "id": "8a28a351",
   "metadata": {
    "ExecuteTime": {
     "end_time": "2022-07-21T08:09:17.338898Z",
     "start_time": "2022-07-21T08:06:54.146725Z"
    }
   },
   "outputs": [
    {
     "name": "stdout",
     "output_type": "stream",
     "text": [
      "Epoch 1/50\n",
      "106/106 [==============================] - 13s 52ms/step - loss: 6.9545 - acc: 0.5642 - val_loss: 2.3433 - val_acc: 0.6215\n",
      "Epoch 2/50\n",
      "106/106 [==============================] - 3s 25ms/step - loss: 2.2640 - acc: 0.6202 - val_loss: 2.0333 - val_acc: 0.6217\n",
      "Epoch 3/50\n",
      "106/106 [==============================] - 3s 25ms/step - loss: 1.9758 - acc: 0.6287 - val_loss: 1.8375 - val_acc: 0.6602\n",
      "Epoch 4/50\n",
      "106/106 [==============================] - 3s 25ms/step - loss: 1.8021 - acc: 0.6842 - val_loss: 1.7304 - val_acc: 0.7370\n",
      "Epoch 5/50\n",
      "106/106 [==============================] - 3s 25ms/step - loss: 1.7014 - acc: 0.7388 - val_loss: 1.6401 - val_acc: 0.7460\n",
      "Epoch 6/50\n",
      "106/106 [==============================] - 3s 25ms/step - loss: 1.6157 - acc: 0.7452 - val_loss: 1.5640 - val_acc: 0.7548\n",
      "Epoch 7/50\n",
      "106/106 [==============================] - 3s 25ms/step - loss: 1.5367 - acc: 0.7557 - val_loss: 1.4907 - val_acc: 0.7626\n",
      "Epoch 8/50\n",
      "106/106 [==============================] - 3s 25ms/step - loss: 1.4655 - acc: 0.7615 - val_loss: 1.4359 - val_acc: 0.7665\n",
      "Epoch 9/50\n",
      "106/106 [==============================] - 3s 25ms/step - loss: 1.4074 - acc: 0.7652 - val_loss: 1.3913 - val_acc: 0.7710\n",
      "Epoch 10/50\n",
      "106/106 [==============================] - 3s 25ms/step - loss: 1.3575 - acc: 0.7713 - val_loss: 1.3499 - val_acc: 0.7817\n",
      "Epoch 11/50\n",
      "106/106 [==============================] - 3s 25ms/step - loss: 1.3105 - acc: 0.7823 - val_loss: 1.3109 - val_acc: 0.7911\n",
      "Epoch 12/50\n",
      "106/106 [==============================] - ETA: 0s - loss: 1.2669 - acc: 0.792 - 3s 25ms/step - loss: 1.2668 - acc: 0.7923 - val_loss: 1.2763 - val_acc: 0.7980\n",
      "Epoch 13/50\n",
      "106/106 [==============================] - ETA: 0s - loss: 1.2270 - acc: 0.7983- ETA: 1s - loss:  - 3s 25ms/step - loss: 1.2270 - acc: 0.7984 - val_loss: 1.2402 - val_acc: 0.8026\n",
      "Epoch 14/50\n",
      "106/106 [==============================] - 3s 25ms/step - loss: 1.1946 - acc: 0.8034 - val_loss: 1.2091 - val_acc: 0.8072\n",
      "Epoch 15/50\n",
      "106/106 [==============================] - 3s 25ms/step - loss: 1.1495 - acc: 0.8094 - val_loss: 1.1775 - val_acc: 0.8127\n",
      "Epoch 16/50\n",
      "106/106 [==============================] - 3s 25ms/step - loss: 1.1164 - acc: 0.8147 - val_loss: 1.1487 - val_acc: 0.8171\n",
      "Epoch 17/50\n",
      "106/106 [==============================] - 3s 25ms/step - loss: 1.0814 - acc: 0.8194 - val_loss: 1.1218 - val_acc: 0.8228\n",
      "Epoch 18/50\n",
      "106/106 [==============================] - 3s 25ms/step - loss: 1.0507 - acc: 0.8249 - val_loss: 1.0979 - val_acc: 0.8259\n",
      "Epoch 19/50\n",
      "106/106 [==============================] - 3s 25ms/step - loss: 1.0176 - acc: 0.8289 - val_loss: 1.0760 - val_acc: 0.8285\n",
      "Epoch 20/50\n",
      "106/106 [==============================] - 3s 25ms/step - loss: 0.9976 - acc: 0.8307 - val_loss: 1.0557 - val_acc: 0.8296\n",
      "Epoch 21/50\n",
      "106/106 [==============================] - 3s 25ms/step - loss: 0.9704 - acc: 0.8338 - val_loss: 1.0382 - val_acc: 0.8319\n",
      "Epoch 22/50\n",
      "106/106 [==============================] - 3s 25ms/step - loss: 0.9364 - acc: 0.8382 - val_loss: 1.0189 - val_acc: 0.83411s - loss: 0.9\n",
      "Epoch 23/50\n",
      "106/106 [==============================] - 3s 25ms/step - loss: 0.9155 - acc: 0.8407 - val_loss: 1.0018 - val_acc: 0.8361\n",
      "Epoch 24/50\n",
      "106/106 [==============================] - 3s 25ms/step - loss: 0.8912 - acc: 0.8428 - val_loss: 0.9862 - val_acc: 0.8375\n",
      "Epoch 25/50\n",
      "106/106 [==============================] - 3s 25ms/step - loss: 0.8671 - acc: 0.8456 - val_loss: 0.9721 - val_acc: 0.8393\n",
      "Epoch 26/50\n",
      "106/106 [==============================] - 3s 25ms/step - loss: 0.8478 - acc: 0.8481 - val_loss: 0.9590 - val_acc: 0.8412\n",
      "Epoch 27/50\n",
      "106/106 [==============================] - 3s 25ms/step - loss: 0.8231 - acc: 0.8512 - val_loss: 0.9478 - val_acc: 0.8419\n",
      "Epoch 28/50\n",
      "106/106 [==============================] - 3s 25ms/step - loss: 0.8069 - acc: 0.8531 - val_loss: 0.9363 - val_acc: 0.8435\n",
      "Epoch 29/50\n",
      "106/106 [==============================] - 3s 25ms/step - loss: 0.7898 - acc: 0.8547 - val_loss: 0.9265 - val_acc: 0.8444\n",
      "Epoch 30/50\n",
      "106/106 [==============================] - 3s 25ms/step - loss: 0.7685 - acc: 0.8571 - val_loss: 0.9174 - val_acc: 0.8449\n",
      "Epoch 31/50\n",
      "106/106 [==============================] - 3s 25ms/step - loss: 0.7565 - acc: 0.8584 - val_loss: 0.9088 - val_acc: 0.8459\n",
      "Epoch 32/50\n",
      "106/106 [==============================] - 3s 25ms/step - loss: 0.7411 - acc: 0.8598 - val_loss: 0.8995 - val_acc: 0.8474\n",
      "Epoch 33/50\n",
      "106/106 [==============================] - 3s 25ms/step - loss: 0.7266 - acc: 0.8611 - val_loss: 0.8922 - val_acc: 0.8482\n",
      "Epoch 34/50\n",
      "106/106 [==============================] - 3s 25ms/step - loss: 0.7109 - acc: 0.8631 - val_loss: 0.8858 - val_acc: 0.8491\n",
      "Epoch 35/50\n",
      "106/106 [==============================] - 3s 25ms/step - loss: 0.6981 - acc: 0.8646 - val_loss: 0.8792 - val_acc: 0.8498\n",
      "Epoch 36/50\n",
      "106/106 [==============================] - 3s 25ms/step - loss: 0.6815 - acc: 0.8666 - val_loss: 0.8701 - val_acc: 0.8515\n",
      "Epoch 37/50\n",
      "106/106 [==============================] - 3s 25ms/step - loss: 0.6676 - acc: 0.8677 - val_loss: 0.8629 - val_acc: 0.8511\n",
      "Epoch 38/50\n",
      "106/106 [==============================] - 3s 25ms/step - loss: 0.6591 - acc: 0.8687 - val_loss: 0.8577 - val_acc: 0.8518\n",
      "Epoch 39/50\n",
      "106/106 [==============================] - 3s 25ms/step - loss: 0.6481 - acc: 0.8698 - val_loss: 0.8515 - val_acc: 0.8525\n",
      "Epoch 40/50\n",
      "106/106 [==============================] - 3s 25ms/step - loss: 0.6301 - acc: 0.8722 - val_loss: 0.8458 - val_acc: 0.8537\n",
      "Epoch 41/50\n",
      "106/106 [==============================] - 3s 25ms/step - loss: 0.6192 - acc: 0.8736 - val_loss: 0.8412 - val_acc: 0.8540\n",
      "Epoch 42/50\n",
      "106/106 [==============================] - 3s 25ms/step - loss: 0.6071 - acc: 0.8749 - val_loss: 0.8355 - val_acc: 0.8550\n",
      "Epoch 43/50\n",
      "106/106 [==============================] - 3s 25ms/step - loss: 0.5972 - acc: 0.8770 - val_loss: 0.8301 - val_acc: 0.8550\n",
      "Epoch 44/50\n",
      "106/106 [==============================] - 3s 25ms/step - loss: 0.5864 - acc: 0.8780 - val_loss: 0.8255 - val_acc: 0.8556\n",
      "Epoch 45/50\n",
      "106/106 [==============================] - 3s 25ms/step - loss: 0.5737 - acc: 0.8796 - val_loss: 0.8211 - val_acc: 0.8559\n",
      "Epoch 46/50\n",
      "106/106 [==============================] - 3s 25ms/step - loss: 0.5630 - acc: 0.8815 - val_loss: 0.8160 - val_acc: 0.8575\n",
      "Epoch 47/50\n",
      "106/106 [==============================] - 3s 25ms/step - loss: 0.5527 - acc: 0.8826 - val_loss: 0.8111 - val_acc: 0.8584\n",
      "Epoch 48/50\n",
      "106/106 [==============================] - 3s 25ms/step - loss: 0.5437 - acc: 0.8842 - val_loss: 0.8078 - val_acc: 0.8587\n",
      "Epoch 49/50\n",
      "106/106 [==============================] - 3s 25ms/step - loss: 0.5335 - acc: 0.8859 - val_loss: 0.8046 - val_acc: 0.8583\n",
      "Epoch 50/50\n",
      "106/106 [==============================] - 3s 25ms/step - loss: 0.5227 - acc: 0.8869 - val_loss: 0.8014 - val_acc: 0.8589\n"
     ]
    },
    {
     "data": {
      "text/plain": [
       "<tensorflow.python.keras.callbacks.History at 0x24cb6cce388>"
      ]
     },
     "execution_count": 48,
     "metadata": {},
     "output_type": "execute_result"
    }
   ],
   "source": [
    "model.fit(x=[encoder_input_train, decoder_input_train], y=decoder_target_train,\n",
    "          validation_data=([encoder_input_test, decoder_input_test], decoder_target_test),\n",
    "          batch_size=256, epochs=50)"
   ]
  },
  {
   "cell_type": "markdown",
   "id": "5e491a37",
   "metadata": {},
   "source": [
    "# 번역기 작동"
   ]
  },
  {
   "cell_type": "code",
   "execution_count": 49,
   "id": "94e1013b",
   "metadata": {
    "ExecuteTime": {
     "end_time": "2022-07-21T08:09:17.545304Z",
     "start_time": "2022-07-21T08:09:17.339422Z"
    }
   },
   "outputs": [],
   "source": [
    "# 인코더\n",
    "encoder_model = Model(encoder_inputs, encoder_states)\n",
    "\n",
    "# 디코더 설계 시작\n",
    "# 이전 시점의 상태를 보관할 텐서\n",
    "decoder_state_input_h = Input(shape=(hidden_units,))\n",
    "decoder_state_input_c = Input(shape=(hidden_units,))\n",
    "decoder_states_inputs = [decoder_state_input_h, decoder_state_input_c]\n",
    "\n",
    "# 훈련 때 사용했던 임베딩 층을 재사용\n",
    "dec_emb2 = dec_emb_layer(decoder_inputs)\n",
    "\n",
    "# 다음 단어 예측을 위해 이전 시점의 상태를 현 시점의 초기 상태로 사용\n",
    "decoder_outputs2, state_h2, state_c2 = decoder_lstm(dec_emb2, initial_state=decoder_states_inputs)\n",
    "decoder_states2 = [state_h2, state_c2]\n",
    "\n",
    "# 모든 시점에 대해서 단어 예측\n",
    "decoder_outputs2 = decoder_dense(decoder_outputs2)\n",
    "\n",
    "# 수정된 디코더\n",
    "decoder_model = Model(\n",
    "    [decoder_inputs] + decoder_states_inputs,\n",
    "    [decoder_outputs2] + decoder_states2)"
   ]
  },
  {
   "cell_type": "code",
   "execution_count": 50,
   "id": "b59527c1",
   "metadata": {
    "ExecuteTime": {
     "end_time": "2022-07-21T08:09:17.560919Z",
     "start_time": "2022-07-21T08:09:17.545304Z"
    }
   },
   "outputs": [],
   "source": [
    "def decode_sequence(input_seq):\n",
    "    # 입력으로부터 인코더의 마지막 시점의 상태(은닉 상태, 셀 상태)를 얻음\n",
    "    states_value = encoder_model.predict(input_seq)\n",
    "\n",
    "    # <SOS>에 해당하는 정수 생성\n",
    "    target_seq = np.zeros((1, 1))\n",
    "    target_seq[0, 0] = tar_to_index['<sos>']\n",
    "\n",
    "    stop_condition = False\n",
    "    decoded_sentence = ''\n",
    "\n",
    "    # stop_condition이 True가 될 때까지 루프 반복\n",
    "    # 구현의 간소화를 위해서 이 함수는 배치 크기를 1로 가정합니다.\n",
    "    while not stop_condition:\n",
    "        # 이점 시점의 상태 states_value를 현 시점의 초기 상태로 사용\n",
    "        output_tokens, h, c = decoder_model.predict([target_seq] +\n",
    "                                                    states_value)\n",
    "\n",
    "        # 예측 결과를 단어로 변환\n",
    "        sampled_token_index = np.argmax(output_tokens[0, -1, :])\n",
    "        sampled_char = index_to_tar[sampled_token_index]\n",
    "\n",
    "        # 현재 시점의 예측 단어를 예측 문장에 추가\n",
    "        decoded_sentence += ' ' + sampled_char\n",
    "\n",
    "        # <eos>에 도달하거나 정해진 길이를 넘으면 중단.\n",
    "        if (sampled_char == '<eos>' or len(decoded_sentence) > 50):\n",
    "            stop_condition = True\n",
    "\n",
    "        # 현재 시점의 예측 결과를 다음 시점의 입력으로 사용하기 위해 저장\n",
    "        target_seq = np.zeros((1, 1))\n",
    "        target_seq[0, 0] = sampled_token_index\n",
    "\n",
    "        # 현재 시점의 상태를 다음 시점의 상태로 사용하기 위해 저장\n",
    "        states_value = [h, c]\n",
    "\n",
    "    return decoded_sentence"
   ]
  },
  {
   "cell_type": "code",
   "execution_count": 51,
   "id": "c82362d5",
   "metadata": {
    "ExecuteTime": {
     "end_time": "2022-07-21T08:09:17.576761Z",
     "start_time": "2022-07-21T08:09:17.560919Z"
    }
   },
   "outputs": [],
   "source": [
    "# 원문의 정수 시퀀스를 텍스트 시퀀스로 변환\n",
    "def seq_to_src(input_seq):\n",
    "    sentence = ''\n",
    "    for encoded_word in input_seq:\n",
    "        if (encoded_word != 0):\n",
    "            sentence = sentence + index_to_src[encoded_word] + ' '\n",
    "    return sentence\n",
    "\n",
    "\n",
    "# 번역문의 정수 시퀀스를 텍스트 시퀀스로 변환\n",
    "def seq_to_tar(input_seq):\n",
    "    sentence = ''\n",
    "    for encoded_word in input_seq:\n",
    "        if (encoded_word != 0 and encoded_word != tar_to_index['<sos>']\n",
    "                and encoded_word != tar_to_index['<eos>']):\n",
    "            sentence = sentence + index_to_tar[encoded_word] + ' '\n",
    "    return sentence"
   ]
  },
  {
   "cell_type": "code",
   "execution_count": 54,
   "id": "d8a85ebe",
   "metadata": {
    "ExecuteTime": {
     "end_time": "2022-07-21T08:11:43.234004Z",
     "start_time": "2022-07-21T08:11:43.226003Z"
    }
   },
   "outputs": [],
   "source": [
    "import pandas as pd"
   ]
  },
  {
   "cell_type": "code",
   "execution_count": null,
   "id": "c6f202ba",
   "metadata": {
    "ExecuteTime": {
     "start_time": "2022-07-21T08:19:26.889Z"
    }
   },
   "outputs": [
    {
     "name": "stderr",
     "output_type": "stream",
     "text": [
      "Exception ignored in: <function IteratorResourceDeleter.__del__ at 0x0000024ADC25DC18>\n",
      "Traceback (most recent call last):\n",
      "  File \"C:\\Users\\user\\miniconda3\\envs\\deep_tf\\lib\\site-packages\\tensorflow\\python\\data\\ops\\iterator_ops.py\", line 535, in __del__\n",
      "    handle=self._handle, deleter=self._deleter)\n",
      "  File \"C:\\Users\\user\\miniconda3\\envs\\deep_tf\\lib\\site-packages\\tensorflow\\python\\ops\\gen_dataset_ops.py\", line 1263, in delete_iterator\n",
      "    _ctx, \"DeleteIterator\", name, handle, deleter)\n",
      "KeyboardInterrupt: \n",
      "Exception ignored in: <function ScopedTFGraph.__del__ at 0x0000024ADB4219D8>\n",
      "Traceback (most recent call last):\n",
      "  File \"C:\\Users\\user\\miniconda3\\envs\\deep_tf\\lib\\site-packages\\tensorflow\\python\\framework\\c_api_util.py\", line 58, in __del__\n",
      "    self.deleter(self.graph)\n",
      "AttributeError: deleter\n",
      "Exception ignored in: <function WeakKeyDictionary.__init__.<locals>.remove at 0x0000024ADD76AC18>\n",
      "Traceback (most recent call last):\n",
      "  File \"C:\\Users\\user\\miniconda3\\envs\\deep_tf\\lib\\weakref.py\", line 359, in remove\n",
      "    self = selfref()\n",
      "KeyboardInterrupt: \n",
      "Exception ignored in: <function ScopedTFGraph.__del__ at 0x0000024ADB4219D8>\n",
      "Traceback (most recent call last):\n",
      "  File \"C:\\Users\\user\\miniconda3\\envs\\deep_tf\\lib\\site-packages\\tensorflow\\python\\framework\\c_api_util.py\", line 58, in __del__\n",
      "    self.deleter(self.graph)\n",
      "AttributeError: deleter\n"
     ]
    }
   ],
   "source": [
    "english = [] # 영어\n",
    "french_ref = [] # 프랑스어 정답\n",
    "french_cand = [] # 프랑스어 기계번역\n",
    "for seq_index in range(27000):\n",
    "    try:\n",
    "        input_seq = encoder_input_train[seq_index:seq_index + 1]\n",
    "        decoded_sentence = decode_sequence(input_seq)\n",
    "\n",
    "        english.append(seq_to_src(encoder_input_train[seq_index]))\n",
    "        french_ref.append(seq_to_tar(decoder_input_train[seq_index]))\n",
    "        french_cand.append(decoded_sentence[1:-5])\n",
    "    except:\n",
    "        continue"
   ]
  },
  {
   "cell_type": "code",
   "execution_count": null,
   "id": "f3917477",
   "metadata": {
    "ExecuteTime": {
     "start_time": "2022-07-21T08:29:12.464Z"
    }
   },
   "outputs": [],
   "source": [
    "len(english)"
   ]
  },
  {
   "cell_type": "code",
   "execution_count": 66,
   "id": "5f76447b",
   "metadata": {
    "ExecuteTime": {
     "end_time": "2022-07-21T08:17:46.127803Z",
     "start_time": "2022-07-21T08:17:46.118629Z"
    }
   },
   "outputs": [
    {
     "data": {
      "text/html": [
       "<div>\n",
       "<style scoped>\n",
       "    .dataframe tbody tr th:only-of-type {\n",
       "        vertical-align: middle;\n",
       "    }\n",
       "\n",
       "    .dataframe tbody tr th {\n",
       "        vertical-align: top;\n",
       "    }\n",
       "\n",
       "    .dataframe thead th {\n",
       "        text-align: right;\n",
       "    }\n",
       "</style>\n",
       "<table border=\"1\" class=\"dataframe\">\n",
       "  <thead>\n",
       "    <tr style=\"text-align: right;\">\n",
       "      <th></th>\n",
       "      <th>English</th>\n",
       "      <th>French_cand</th>\n",
       "      <th>French_ref</th>\n",
       "    </tr>\n",
       "  </thead>\n",
       "  <tbody>\n",
       "    <tr>\n",
       "      <th>0</th>\n",
       "      <td>i need someone now .</td>\n",
       "      <td>j ai besoin d un plan .</td>\n",
       "      <td>j ai besoin de quelqu un maintenant .</td>\n",
       "    </tr>\n",
       "    <tr>\n",
       "      <th>1</th>\n",
       "      <td>please help tom .</td>\n",
       "      <td>aidez je te prie tom .</td>\n",
       "      <td>aidez tom s il vous plait .</td>\n",
       "    </tr>\n",
       "    <tr>\n",
       "      <th>2</th>\n",
       "      <td>it isn t locked .</td>\n",
       "      <td>il n est pas a la .</td>\n",
       "      <td>il n est pas verrouille .</td>\n",
       "    </tr>\n",
       "    <tr>\n",
       "      <th>3</th>\n",
       "      <td>tom is a mystery .</td>\n",
       "      <td>tom est un coup de temps tom .</td>\n",
       "      <td>tom est un mystere .</td>\n",
       "    </tr>\n",
       "    <tr>\n",
       "      <th>4</th>\n",
       "      <td>you may swim .</td>\n",
       "      <td>tu peux les enfants .</td>\n",
       "      <td>vous pouvez nager .</td>\n",
       "    </tr>\n",
       "    <tr>\n",
       "      <th>...</th>\n",
       "      <td>...</td>\n",
       "      <td>...</td>\n",
       "      <td>...</td>\n",
       "    </tr>\n",
       "    <tr>\n",
       "      <th>104</th>\n",
       "      <td>it s awful .</td>\n",
       "      <td>c est horrible .</td>\n",
       "      <td>c est terrible .</td>\n",
       "    </tr>\n",
       "    <tr>\n",
       "      <th>105</th>\n",
       "      <td>he s your friend .</td>\n",
       "      <td>il est ton idee ?</td>\n",
       "      <td>il est votre ami .</td>\n",
       "    </tr>\n",
       "    <tr>\n",
       "      <th>106</th>\n",
       "      <td>keep driving .</td>\n",
       "      <td>continue a rouler !</td>\n",
       "      <td>roule !</td>\n",
       "    </tr>\n",
       "    <tr>\n",
       "      <th>107</th>\n",
       "      <td>no kidding ?</td>\n",
       "      <td>ah bon ?</td>\n",
       "      <td>vraiment ?</td>\n",
       "    </tr>\n",
       "    <tr>\n",
       "      <th>108</th>\n",
       "      <td>quit hassling me .</td>\n",
       "      <td>arrete de m embeter !</td>\n",
       "      <td>arretez de m embeter !</td>\n",
       "    </tr>\n",
       "  </tbody>\n",
       "</table>\n",
       "<p>109 rows × 3 columns</p>\n",
       "</div>"
      ],
      "text/plain": [
       "                   English                      French_cand  \\\n",
       "0    i need someone now .          j ai besoin d un plan .    \n",
       "1       please help tom .           aidez je te prie tom .    \n",
       "2       it isn t locked .              il n est pas a la .    \n",
       "3      tom is a mystery .   tom est un coup de temps tom .    \n",
       "4          you may swim .            tu peux les enfants .    \n",
       "..                     ...                              ...   \n",
       "104          it s awful .                 c est horrible .    \n",
       "105    he s your friend .                il est ton idee ?    \n",
       "106        keep driving .              continue a rouler !    \n",
       "107          no kidding ?                         ah bon ?    \n",
       "108    quit hassling me .            arrete de m embeter !    \n",
       "\n",
       "                                 French_ref  \n",
       "0    j ai besoin de quelqu un maintenant .   \n",
       "1              aidez tom s il vous plait .   \n",
       "2                il n est pas verrouille .   \n",
       "3                     tom est un mystere .   \n",
       "4                      vous pouvez nager .   \n",
       "..                                      ...  \n",
       "104                       c est terrible .   \n",
       "105                     il est votre ami .   \n",
       "106                                roule !   \n",
       "107                             vraiment ?   \n",
       "108                 arretez de m embeter !   \n",
       "\n",
       "[109 rows x 3 columns]"
      ]
     },
     "execution_count": 66,
     "metadata": {},
     "output_type": "execute_result"
    }
   ],
   "source": [
    "pd.DataFrame({\"English\":english, \"French_cand\":french_cand, \"French_ref\":french_ref})"
   ]
  },
  {
   "cell_type": "code",
   "execution_count": null,
   "id": "5cb406bf",
   "metadata": {},
   "outputs": [],
   "source": []
  }
 ],
 "metadata": {
  "kernelspec": {
   "display_name": "Python 3 (ipykernel)",
   "language": "python",
   "name": "python3"
  },
  "language_info": {
   "codemirror_mode": {
    "name": "ipython",
    "version": 3
   },
   "file_extension": ".py",
   "mimetype": "text/x-python",
   "name": "python",
   "nbconvert_exporter": "python",
   "pygments_lexer": "ipython3",
   "version": "3.7.10"
  },
  "toc": {
   "base_numbering": 1,
   "nav_menu": {},
   "number_sections": true,
   "sideBar": true,
   "skip_h1_title": false,
   "title_cell": "Table of Contents",
   "title_sidebar": "Contents",
   "toc_cell": false,
   "toc_position": {},
   "toc_section_display": true,
   "toc_window_display": false
  }
 },
 "nbformat": 4,
 "nbformat_minor": 5
}
