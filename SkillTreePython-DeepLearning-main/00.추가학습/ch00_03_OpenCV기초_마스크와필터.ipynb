{
  "nbformat": 4,
  "nbformat_minor": 0,
  "metadata": {
    "colab": {
      "name": "ch00_03.OpenCV기초_마스크와필터.ipynb",
      "provenance": [],
      "collapsed_sections": [],
      "authorship_tag": "ABX9TyMfVEX/wEIr2hD0e7FgGb6B",
      "include_colab_link": true
    },
    "kernelspec": {
      "name": "python3",
      "display_name": "Python 3"
    },
    "language_info": {
      "name": "python"
    }
  },
  "cells": [
    {
      "cell_type": "markdown",
      "metadata": {
        "id": "view-in-github",
        "colab_type": "text"
      },
      "source": [
        "<a href=\"https://colab.research.google.com/github/yebiny/SkillTreePython-DeepLearning/blob/main/00.%EC%B6%94%EA%B0%80%ED%95%99%EC%8A%B5/ch00_03_OpenCV%EA%B8%B0%EC%B4%88_%EB%A7%88%EC%8A%A4%ED%81%AC%EC%99%80%ED%95%84%ED%84%B0.ipynb\" target=\"_parent\"><img src=\"https://colab.research.google.com/assets/colab-badge.svg\" alt=\"Open In Colab\"/></a>"
      ]
    },
    {
      "cell_type": "markdown",
      "metadata": {
        "id": "wWpXZc2fi39U"
      },
      "source": [
        "# ch00.03. OpenCV기초 - 이미지 변환\n",
        "\n",
        "---\n",
        "* 날짜:\n",
        "* 이름:\n",
        "\n",
        "## 학습내용\n",
        "    - 이미지에 마스크 씌우기\n",
        "    - 이미지 채널 분할\n",
        "    - 임계 처리\n",
        "    - 경계선 그리기\n",
        "\n",
        "## 학습자료\n",
        "- [OpenCV 홈페이지](https://opencv.org/)\n",
        "\n",
        "- [OpenCV-pythoin Documentation](https://opencv-python.readthedocs.io/en/latest/)"
      ]
    },
    {
      "cell_type": "markdown",
      "metadata": {
        "id": "kByKdJPApy6P"
      },
      "source": [
        "```\n",
        "import numpy as np\n",
        "import matplotlib.pyplot as plt\n",
        "import cv2\n",
        "from google.colab.patches import cv2_imshow\n",
        "cv2.__version__\n",
        "```"
      ]
    },
    {
      "cell_type": "code",
      "source": [
        ""
      ],
      "metadata": {
        "id": "YW4q7CsxPlQh"
      },
      "execution_count": null,
      "outputs": []
    },
    {
      "cell_type": "markdown",
      "source": [
        "## 이미지 준비\n",
        "---\n",
        "\n",
        "```\n",
        "path = 'sea.JPG'\n",
        "img = cv2.imread(path)\n",
        "h, w, c = img.shape\n",
        "print(f\"width: {w} pixels\")\n",
        "print(f\"heigh: {h} pixels\")\n",
        "print(f\"channels: {c}\")\n",
        "cv2_imshow(img)\n",
        "```"
      ],
      "metadata": {
        "id": "RVtFzNmJEVhp"
      }
    },
    {
      "cell_type": "code",
      "metadata": {
        "id": "N9u1ibJ3lUb3"
      },
      "source": [
        ""
      ],
      "execution_count": null,
      "outputs": []
    },
    {
      "cell_type": "markdown",
      "source": [
        "* 이미지 중앙 (center) 정하기"
      ],
      "metadata": {
        "id": "_8ik_50jJr1m"
      }
    },
    {
      "cell_type": "code",
      "source": [
        ""
      ],
      "metadata": {
        "id": "Hej4KTh1wvus"
      },
      "execution_count": null,
      "outputs": []
    },
    {
      "cell_type": "markdown",
      "metadata": {
        "id": "t6HBslYSWsFs"
      },
      "source": [
        "## Mask\n",
        "---\n",
        "\n",
        "#### `cv2.bitwise_and(img1, img2, mask)`"
      ]
    },
    {
      "cell_type": "markdown",
      "source": [
        "* 검정색 백그라운드 생성"
      ],
      "metadata": {
        "id": "vOJIiaJg2sYX"
      }
    },
    {
      "cell_type": "code",
      "metadata": {
        "id": "bRWuHvTlWuO7"
      },
      "source": [
        ""
      ],
      "execution_count": null,
      "outputs": []
    },
    {
      "cell_type": "markdown",
      "source": [
        "* 흰색 부분 생성"
      ],
      "metadata": {
        "id": "-36aWAEc2wJY"
      }
    },
    {
      "cell_type": "code",
      "metadata": {
        "id": "ckDPXAFuXSEY"
      },
      "source": [
        ""
      ],
      "execution_count": null,
      "outputs": []
    },
    {
      "cell_type": "markdown",
      "source": [
        "* 마스크 생성 및 적용\n",
        "\n"
      ],
      "metadata": {
        "id": "T20eN8Ao29je"
      }
    },
    {
      "cell_type": "code",
      "metadata": {
        "id": "oWorrm2CXyVd"
      },
      "source": [
        ""
      ],
      "execution_count": null,
      "outputs": []
    },
    {
      "cell_type": "markdown",
      "metadata": {
        "id": "v5X7e93Osphk"
      },
      "source": [
        "## 채널 분할 및 합치기\n",
        "---\n",
        "\n",
        "\n",
        "#### `cv2.split(img)`\n",
        "\n"
      ]
    },
    {
      "cell_type": "markdown",
      "source": [
        "### | `split` 사용해 채널 분할하기"
      ],
      "metadata": {
        "id": "V0eSyz2kJ8HL"
      }
    },
    {
      "cell_type": "markdown",
      "source": [
        "* 검정색 백그라운드 생성"
      ],
      "metadata": {
        "id": "QDbBxMsg3IAg"
      }
    },
    {
      "cell_type": "code",
      "metadata": {
        "id": "DrQkG-IRsvGY"
      },
      "source": [
        ""
      ],
      "execution_count": null,
      "outputs": []
    },
    {
      "cell_type": "markdown",
      "source": [
        "* `split` 함수로 분할하기\n"
      ],
      "metadata": {
        "id": "CjpAkWC_3KBW"
      }
    },
    {
      "cell_type": "code",
      "metadata": {
        "id": "IUQjxZX1tFe3"
      },
      "source": [
        ""
      ],
      "execution_count": null,
      "outputs": []
    },
    {
      "cell_type": "markdown",
      "source": [
        "* 분할된 채널 보기"
      ],
      "metadata": {
        "id": "7sbf3jpO3TOd"
      }
    },
    {
      "cell_type": "code",
      "metadata": {
        "id": "cFwOddVstSkY"
      },
      "source": [
        ""
      ],
      "execution_count": null,
      "outputs": []
    },
    {
      "cell_type": "markdown",
      "source": [
        "* 분할된 채널 보기 2"
      ],
      "metadata": {
        "id": "8STC9__u3V4u"
      }
    },
    {
      "cell_type": "code",
      "source": [
        ""
      ],
      "metadata": {
        "id": "ts43cdR9zVUg"
      },
      "execution_count": null,
      "outputs": []
    },
    {
      "cell_type": "markdown",
      "source": [
        "### **| 넘파이 이용해 분할하기**"
      ],
      "metadata": {
        "id": "CtzFSIG7J33C"
      }
    },
    {
      "cell_type": "markdown",
      "source": [
        "* 넘파이 슬라이싱 이용해 채널 분할"
      ],
      "metadata": {
        "id": "V0EEkiTf3YMj"
      }
    },
    {
      "cell_type": "code",
      "metadata": {
        "id": "Xp3uMjRPtcEf"
      },
      "source": [
        ""
      ],
      "execution_count": null,
      "outputs": []
    },
    {
      "cell_type": "markdown",
      "source": [
        "* 분할 결과 보기"
      ],
      "metadata": {
        "id": "0WYGFwks3aji"
      }
    },
    {
      "cell_type": "code",
      "source": [
        ""
      ],
      "metadata": {
        "id": "sBxBfw5N0gXw"
      },
      "execution_count": null,
      "outputs": []
    },
    {
      "cell_type": "markdown",
      "source": [
        "## 기본 임계처리\n",
        "---\n",
        "\n",
        "기본 임계처리는 사용자가 고정된 임계값을 결정하고 그 결과를 보여주는 단순한 형태입니다.\n",
        "\n",
        "#### `cv2.threshold(src, thresh, maxval, type)`\n",
        "* Parameters\n",
        "  * rc – input image로 single-channel 이미지.(grayscale 이미지)\n",
        "  * thresh – 임계값\n",
        "  * maxval – 임계값을 넘었을 때 적용할 value\n",
        "  * type – thresholding type\n",
        "    * `cv2.THRESH_BINARY`\n",
        "    * `cv2.THRESH_BINARY_INV`\n",
        "    * `cv2.THRESH_TRUNC`\n",
        "    * `cv2.THRESH_TOZERO`\n",
        "    * `cv2.THRESH_TOZERO_INV`\n",
        "* Returns\n",
        "  * retval\n",
        "  * dst"
      ],
      "metadata": {
        "id": "R_dSWTlx2Mwu"
      }
    },
    {
      "cell_type": "markdown",
      "source": [
        "* GRAY 스케일로 이미지 변환"
      ],
      "metadata": {
        "id": "d9t7cuNN3gUw"
      }
    },
    {
      "cell_type": "code",
      "source": [
        ""
      ],
      "metadata": {
        "id": "2WOqJ51E0sVo"
      },
      "execution_count": null,
      "outputs": []
    },
    {
      "cell_type": "markdown",
      "source": [
        "* gray 이미지 임계 처리"
      ],
      "metadata": {
        "id": "_JmMLaeh3kcm"
      }
    },
    {
      "cell_type": "code",
      "metadata": {
        "id": "XsiPSvAAvY6n"
      },
      "source": [
        ""
      ],
      "execution_count": null,
      "outputs": []
    },
    {
      "cell_type": "markdown",
      "source": [
        "## 경계선 그리기\n",
        "---\n",
        "\n",
        "Contours란 동일한 색 또는 동일한 강도를 가지고 있는 영역의 경계선을 연결한 선으로 등고선이 이에 해당한다.\n",
        "\n",
        "#### `cv2.findContours(image, mode, method)`\n",
        "\n",
        "* Parameters\n",
        "  * image – 8-bit single-channel image. binary image.\n",
        "  * mode – contours를 찾는 방법\n",
        "    * `cv2.RETR_EXTERNAL` : contours line중 가장 바같쪽 Line만 찾음.\n",
        "    * `cv2.RETR_LIST` : 모든 contours line을 찾지만, hierachy 관계를 구성하지 않음.\n",
        "    * `cv2.RETR_CCOMP` : 모든 contours line을 찾으며, hieracy관계는 2-level로 구성함.\n",
        "    * `cv2.RETR_TREE` : 모든 contours line을 찾으며, 모든 hieracy관계를 구성함.\n",
        "  * method – contours를 찾을 때 사용하는 근사치 방법\n",
        "\n",
        "    * `cv2.CHAIN_APPROX_NONE` : 모든 contours point를 저장.\n",
        "    * `cv2.CHAIN_APPROX_SIMPLE` : contours line을 그릴   * 수 있는 point 만 저장. (ex; 사각형이면 4개 point)\n",
        "    * `cv2.CHAIN_APPROX_TC89_L11` : contours point를 찾는 algorithm\n",
        "    * `cv2.CHAIN_APPROX_TC89_KCOS` : contours point를 찾는 algorithm\n",
        "\n",
        "* Returns \n",
        "  * contours\n",
        "  * hierarchy"
      ],
      "metadata": {
        "id": "CuOoit9_JQPE"
      }
    },
    {
      "cell_type": "code",
      "metadata": {
        "id": "kbl2JaKfv0re"
      },
      "source": [
        ""
      ],
      "execution_count": null,
      "outputs": []
    },
    {
      "cell_type": "markdown",
      "source": [
        "* 경계선 그리기"
      ],
      "metadata": {
        "id": "vzzrHrD-4Vpz"
      }
    },
    {
      "cell_type": "code",
      "source": [
        ""
      ],
      "metadata": {
        "id": "Sqghm2OxJV4t"
      },
      "execution_count": null,
      "outputs": []
    },
    {
      "cell_type": "markdown",
      "source": [
        "* 이미지 위에 경계선 그리기"
      ],
      "metadata": {
        "id": "MR9FTT_w4XRi"
      }
    },
    {
      "cell_type": "code",
      "metadata": {
        "id": "AfZaV4iNzFqJ"
      },
      "source": [
        ""
      ],
      "execution_count": null,
      "outputs": []
    },
    {
      "cell_type": "markdown",
      "source": [
        "## 예제 \n",
        "---"
      ],
      "metadata": {
        "id": "Ctn-kKE35aNA"
      }
    },
    {
      "cell_type": "markdown",
      "source": [
        "#### **예제 01**\n",
        "\n",
        "`img2`가 다음과 같이 주어졌을 때, `cv2.threshold(src, thresh, maxval, type)` 함수의 `type`을 변환해 가며 임계처리를 해 보세요. 원본이미지와 5개의 type으로 임계처리한 이미지까지 총 6개의 이미지를 비교하세요. \n",
        "\n",
        " ```\n",
        "line = np.linspace(0,255,100).reshape(100,1)\n",
        "img2 = np.concatenate([line for i in range(100)],axis=1)\n",
        "cv2_imshow(img2)\n",
        " ```"
      ],
      "metadata": {
        "id": "d3JkIVnk52H_"
      }
    },
    {
      "cell_type": "code",
      "source": [
        ""
      ],
      "metadata": {
        "id": "qdIR4rbwKJYz"
      },
      "execution_count": null,
      "outputs": []
    },
    {
      "cell_type": "code",
      "source": [
        ""
      ],
      "metadata": {
        "id": "gFShf4Ix4kBe"
      },
      "execution_count": null,
      "outputs": []
    },
    {
      "cell_type": "markdown",
      "source": [
        "#### **예제 02**\n",
        "\n",
        "경계선 찾기를 다른 이미지에 적용해 봅니다. \n",
        "\n",
        "1. 동물 이미지\n",
        "2. 도로 또는 도로 위 차량 이미지"
      ],
      "metadata": {
        "id": "bsCm3rm66YL2"
      }
    },
    {
      "cell_type": "code",
      "source": [
        ""
      ],
      "metadata": {
        "id": "97ajGk0L5VYR"
      },
      "execution_count": null,
      "outputs": []
    }
  ]
}