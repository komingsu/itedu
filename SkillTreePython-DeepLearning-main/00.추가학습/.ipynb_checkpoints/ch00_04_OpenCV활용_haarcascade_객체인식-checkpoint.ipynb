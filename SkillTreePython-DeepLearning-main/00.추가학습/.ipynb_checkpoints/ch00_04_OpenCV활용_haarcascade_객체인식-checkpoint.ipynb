{
 "cells": [
  {
   "cell_type": "markdown",
   "metadata": {
    "id": "wWpXZc2fi39U"
   },
   "source": [
    "# ch00.04. OpenCV 활용 - haarcascade 객체인식\n",
    "\n",
    "---\n",
    "* 날짜:\n",
    "* 이름:\n",
    "\n",
    "## 학습내용\n",
    "    - 이미지에서 객체 인식하기\n",
    "    - 동영상에서 객체 인식하기\n",
    "\n",
    "## 학습자료\n",
    "\n",
    "\n",
    "- [OpenCV 홈페이지](https://opencv.org/)\n",
    "\n",
    "- [OpenCV-pythoin Documentation](https://opencv-python.readthedocs.io/en/latest/)\n",
    "\n",
    "- [face-recognition](https://face-recognition.readthedocs.io/en/latest/readme.html#features)\n"
   ]
  },
  {
   "cell_type": "markdown",
   "metadata": {
    "id": "wklacZalLSfZ"
   },
   "source": [
    "## 개념정리\n",
    "---\n",
    "\n",
    "![](https://github.com/yebiny/Image-Segmentation-TF2/blob/main/imgs/seg_type.png?raw=true)\n",
    "\n"
   ]
  },
  {
   "cell_type": "markdown",
   "metadata": {
    "id": "4Dr3Kh_JLgkt"
   },
   "source": [
    "## face recognition를 이용한 얼굴탐지\n",
    "---\n"
   ]
  },
  {
   "cell_type": "markdown",
   "metadata": {
    "id": "0oNf0pBpV3C7"
   },
   "source": [
    "\n",
    "#### **세팅**\n",
    "\n",
    "```\n",
    "! pip install face_recognition\n",
    "```"
   ]
  },
  {
   "cell_type": "code",
   "execution_count": null,
   "metadata": {
    "id": "Rs1edEXOLuxf"
   },
   "outputs": [],
   "source": []
  },
  {
   "cell_type": "code",
   "execution_count": null,
   "metadata": {
    "id": "YwWoD98wvCMH"
   },
   "outputs": [],
   "source": []
  },
  {
   "cell_type": "markdown",
   "metadata": {
    "id": "rdvDrNJtva8h"
   },
   "source": [
    "#### **예측**"
   ]
  },
  {
   "cell_type": "code",
   "execution_count": null,
   "metadata": {
    "id": "oUSTSxIM7JUI"
   },
   "outputs": [],
   "source": []
  },
  {
   "cell_type": "markdown",
   "metadata": {
    "id": "CHdswAxUvcVw"
   },
   "source": [
    "#### **결과 시각화**\n",
    "\n",
    "* return : (y1, x2, y2, x1)"
   ]
  },
  {
   "cell_type": "code",
   "execution_count": null,
   "metadata": {
    "id": "-x-XB-cFvKOG"
   },
   "outputs": [],
   "source": []
  },
  {
   "cell_type": "markdown",
   "metadata": {
    "id": "Xxsn0LuBLnms"
   },
   "source": [
    "## OpenCV를 이용한 얼굴탐지\n",
    "---\n",
    "\n",
    "### **Harr Feature Selection**\n",
    "\n",
    "![](https://img1.daumcdn.net/thumb/R1280x0/?scode=mtistory2&fname=https%3A%2F%2Fblog.kakaocdn.net%2Fdn%2FCGrST%2FbtqwozewRoL%2F97TeD7AXg37r84HSrpJ7n0%2Fimg.png)\n",
    "\n",
    "[참고블로그](https://webnautes.tistory.com/1352)"
   ]
  },
  {
   "cell_type": "markdown",
   "metadata": {
    "id": "hvo1YUYwF-jY"
   },
   "source": [
    "### | 이미지에 적용하기"
   ]
  },
  {
   "cell_type": "code",
   "execution_count": null,
   "metadata": {
    "id": "xmPfYD-zMwU-"
   },
   "outputs": [],
   "source": []
  },
  {
   "cell_type": "markdown",
   "metadata": {
    "id": "0y13Y88g82xG"
   },
   "source": [
    "#### **세팅**\n",
    "\n",
    "필요 파일\n",
    "```\n",
    "face_cascade_name = 'haarcascade_frontalface_alt.xml'\n",
    "eyes_cascade_name = 'haarcascade_eye_tree_eyeglasses.xml'\n",
    "file_name = 'obama_01.jpeg, obama_02.jpeg, obama_01.jpg'\n",
    "```\n",
    "\n",
    "파일 위치\n",
    "```\n",
    "- opencv\n",
    "  - data\n",
    "    - haarcascades\n",
    "```"
   ]
  },
  {
   "cell_type": "code",
   "execution_count": null,
   "metadata": {
    "id": "XjZbyknIM-BH"
   },
   "outputs": [],
   "source": []
  },
  {
   "cell_type": "code",
   "execution_count": null,
   "metadata": {
    "id": "HwT2nJVfNOw7"
   },
   "outputs": [],
   "source": []
  },
  {
   "cell_type": "code",
   "execution_count": null,
   "metadata": {
    "id": "5nV9lJWENcJD"
   },
   "outputs": [],
   "source": []
  },
  {
   "cell_type": "markdown",
   "metadata": {
    "id": "Qk2w36eN8Hb8"
   },
   "source": [
    "#### **전처리**"
   ]
  },
  {
   "cell_type": "code",
   "execution_count": null,
   "metadata": {
    "id": "1nvxrGQFN4II"
   },
   "outputs": [],
   "source": []
  },
  {
   "cell_type": "code",
   "execution_count": null,
   "metadata": {
    "id": "xJpsTG3UOKKw"
   },
   "outputs": [],
   "source": []
  },
  {
   "cell_type": "code",
   "execution_count": null,
   "metadata": {
    "id": "TiM7QoZ7OGfJ"
   },
   "outputs": [],
   "source": []
  },
  {
   "cell_type": "code",
   "execution_count": null,
   "metadata": {
    "id": "1JnLAo0Q5aEx"
   },
   "outputs": [],
   "source": []
  },
  {
   "cell_type": "markdown",
   "metadata": {
    "id": "dYmgnkDF8LA9"
   },
   "source": [
    "#### **예측**\n"
   ]
  },
  {
   "cell_type": "code",
   "execution_count": null,
   "metadata": {
    "id": "kUP-S_o48OVz"
   },
   "outputs": [],
   "source": []
  },
  {
   "cell_type": "code",
   "execution_count": null,
   "metadata": {
    "id": "R5pd6jwZ8gqm"
   },
   "outputs": [],
   "source": []
  },
  {
   "cell_type": "code",
   "execution_count": null,
   "metadata": {
    "id": "KIBL8ABt8RaS"
   },
   "outputs": [],
   "source": []
  },
  {
   "cell_type": "markdown",
   "metadata": {
    "id": "ng3b7lrM8pU_"
   },
   "source": [
    "#### **함수화**"
   ]
  },
  {
   "cell_type": "code",
   "execution_count": null,
   "metadata": {
    "id": "LeMSsv8W6OL3"
   },
   "outputs": [],
   "source": []
  },
  {
   "cell_type": "markdown",
   "metadata": {
    "id": "pWKvWU6T8rm7"
   },
   "source": [
    "* 함수사용"
   ]
  },
  {
   "cell_type": "code",
   "execution_count": null,
   "metadata": {
    "id": "0orGXrzw6jlG"
   },
   "outputs": [],
   "source": []
  },
  {
   "cell_type": "markdown",
   "metadata": {
    "id": "KOmu5gJJFEZV"
   },
   "source": [
    "### | 비디오에 적용하기"
   ]
  },
  {
   "cell_type": "markdown",
   "metadata": {
    "id": "CkUUeHVvGDEt"
   },
   "source": [
    "#### **세팅**\n"
   ]
  },
  {
   "cell_type": "code",
   "execution_count": null,
   "metadata": {
    "id": "mI7m4BdD-EDt"
   },
   "outputs": [],
   "source": []
  },
  {
   "cell_type": "code",
   "execution_count": null,
   "metadata": {
    "id": "T0GOD-rC-EDu"
   },
   "outputs": [],
   "source": []
  },
  {
   "cell_type": "code",
   "execution_count": null,
   "metadata": {
    "id": "mFfsoE7E-EDu"
   },
   "outputs": [],
   "source": []
  },
  {
   "cell_type": "code",
   "execution_count": null,
   "metadata": {
    "id": "xR4t7dh3-EDu"
   },
   "outputs": [],
   "source": []
  },
  {
   "cell_type": "markdown",
   "metadata": {
    "id": "7r3OWpECGGlz"
   },
   "source": [
    "#### **함수화**"
   ]
  },
  {
   "cell_type": "code",
   "execution_count": null,
   "metadata": {
    "id": "cG0SuExZNzSn"
   },
   "outputs": [],
   "source": []
  },
  {
   "cell_type": "code",
   "execution_count": null,
   "metadata": {
    "id": "E7FYIPXqW5kR"
   },
   "outputs": [],
   "source": []
  },
  {
   "cell_type": "markdown",
   "metadata": {
    "id": "3KWrnXSuIPqz"
   },
   "source": [
    "## 과제\n",
    "---\n",
    "\n"
   ]
  },
  {
   "cell_type": "markdown",
   "metadata": {
    "id": "LJpI_xBBaAgY"
   },
   "source": [
    "### **과제 01**\n",
    "\n",
    "[히스토그램](https://opencv-python.readthedocs.io/en/latest/doc/19.imageHistograms/imageHistograms.html)\n",
    "\n",
    "[히스토그램 균일화](https://opencv-python.readthedocs.io/en/latest/doc/20.imageHistogramEqualization/imageHistogramEqualization.html)\n"
   ]
  },
  {
   "cell_type": "code",
   "execution_count": null,
   "metadata": {
    "id": "A44BzhQmIRHh"
   },
   "outputs": [],
   "source": []
  },
  {
   "cell_type": "markdown",
   "metadata": {
    "id": "RE7x2rczaDrv"
   },
   "source": [
    "### **과제 02**\n",
    "```\n",
    "- haarcascade_smile.xml\n",
    "- haarcascade_upperbody.xml\n",
    "```"
   ]
  },
  {
   "cell_type": "code",
   "execution_count": null,
   "metadata": {
    "id": "h6LQHYYnaDrv"
   },
   "outputs": [],
   "source": []
  }
 ],
 "metadata": {
  "accelerator": "GPU",
  "colab": {
   "collapsed_sections": [],
   "machine_shape": "hm",
   "name": "ch00_04_OpenCV활용-haarcascade_객체인식.ipynb",
   "provenance": []
  },
  "kernelspec": {
   "display_name": "Python 3 (ipykernel)",
   "language": "python",
   "name": "python3"
  },
  "language_info": {
   "codemirror_mode": {
    "name": "ipython",
    "version": 3
   },
   "file_extension": ".py",
   "mimetype": "text/x-python",
   "name": "python",
   "nbconvert_exporter": "python",
   "pygments_lexer": "ipython3",
   "version": "3.8.13"
  },
  "toc": {
   "base_numbering": 1,
   "nav_menu": {},
   "number_sections": true,
   "sideBar": true,
   "skip_h1_title": false,
   "title_cell": "Table of Contents",
   "title_sidebar": "Contents",
   "toc_cell": false,
   "toc_position": {},
   "toc_section_display": true,
   "toc_window_display": false
  },
  "varInspector": {
   "cols": {
    "lenName": 16,
    "lenType": 16,
    "lenVar": 40
   },
   "kernels_config": {
    "python": {
     "delete_cmd_postfix": "",
     "delete_cmd_prefix": "del ",
     "library": "var_list.py",
     "varRefreshCmd": "print(var_dic_list())"
    },
    "r": {
     "delete_cmd_postfix": ") ",
     "delete_cmd_prefix": "rm(",
     "library": "var_list.r",
     "varRefreshCmd": "cat(var_dic_list()) "
    }
   },
   "types_to_exclude": [
    "module",
    "function",
    "builtin_function_or_method",
    "instance",
    "_Feature"
   ],
   "window_display": false
  }
 },
 "nbformat": 4,
 "nbformat_minor": 1
}
