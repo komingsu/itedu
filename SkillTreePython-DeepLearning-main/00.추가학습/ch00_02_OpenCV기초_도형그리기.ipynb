{
  "nbformat": 4,
  "nbformat_minor": 0,
  "metadata": {
    "colab": {
      "name": "ch00_02.OpenCV기초_도형그리기.ipynb",
      "provenance": [],
      "collapsed_sections": [],
      "authorship_tag": "ABX9TyNfOWYpbU3vLu5pDdWaCiQ5",
      "include_colab_link": true
    },
    "kernelspec": {
      "name": "python3",
      "display_name": "Python 3"
    },
    "language_info": {
      "name": "python"
    }
  },
  "cells": [
    {
      "cell_type": "markdown",
      "metadata": {
        "id": "view-in-github",
        "colab_type": "text"
      },
      "source": [
        "<a href=\"https://colab.research.google.com/github/yebiny/SkillTreePython-DeepLearning/blob/main/00.%EC%B6%94%EA%B0%80%ED%95%99%EC%8A%B5/ch00_02_OpenCV%EA%B8%B0%EC%B4%88_%EB%8F%84%ED%98%95%EA%B7%B8%EB%A6%AC%EA%B8%B0.ipynb\" target=\"_parent\"><img src=\"https://colab.research.google.com/assets/colab-badge.svg\" alt=\"Open In Colab\"/></a>"
      ]
    },
    {
      "cell_type": "markdown",
      "metadata": {
        "id": "wWpXZc2fi39U"
      },
      "source": [
        "# ch00.02. OpenCV기초 - 도형 그리기\n",
        "\n",
        "---\n",
        "* 날짜:\n",
        "* 이름:\n",
        "\n",
        "## 학습내용\n",
        "    - 이미지 크롭\n",
        "    - 도형 그리기\n",
        "\n",
        "## 학습자료\n",
        "- [OpenCV 홈페이지](https://opencv.org/)\n",
        "\n",
        "- [OpenCV-pythoin Documentation](https://opencv-python.readthedocs.io/en/latest/)"
      ]
    },
    {
      "cell_type": "markdown",
      "metadata": {
        "id": "kByKdJPApy6P"
      },
      "source": [
        "```\n",
        "import numpy as np\n",
        "import matplotlib.pyplot as plt\n",
        "import cv2\n",
        "from google.colab.patches import cv2_imshow\n",
        "cv2.__version__\n",
        "```"
      ]
    },
    {
      "cell_type": "code",
      "source": [
        ""
      ],
      "metadata": {
        "id": "YW4q7CsxPlQh"
      },
      "execution_count": null,
      "outputs": []
    },
    {
      "cell_type": "markdown",
      "source": [
        "## 이미지 준비\n",
        "---"
      ],
      "metadata": {
        "id": "RVtFzNmJEVhp"
      }
    },
    {
      "cell_type": "code",
      "metadata": {
        "id": "N9u1ibJ3lUb3"
      },
      "source": [
        ""
      ],
      "execution_count": null,
      "outputs": []
    },
    {
      "cell_type": "markdown",
      "source": [
        "### **| 색깔 파라미터 설정**"
      ],
      "metadata": {
        "id": "wvbFE-WTG6qu"
      }
    },
    {
      "cell_type": "code",
      "source": [
        ""
      ],
      "metadata": {
        "id": "zNp74dSX4gXV"
      },
      "execution_count": null,
      "outputs": []
    },
    {
      "cell_type": "markdown",
      "source": [
        "## 이미지 크롭\n",
        "---"
      ],
      "metadata": {
        "id": "96QbULc83ZoW"
      }
    },
    {
      "cell_type": "markdown",
      "source": [
        "### **| 슬라이싱을 이용한 이미지 크롭**"
      ],
      "metadata": {
        "id": "KovcaQtyDrCa"
      }
    },
    {
      "cell_type": "code",
      "source": [
        ""
      ],
      "metadata": {
        "id": "_33knbIEISuk"
      },
      "execution_count": null,
      "outputs": []
    },
    {
      "cell_type": "markdown",
      "source": [
        "#### **크롭 파라미터 설정**"
      ],
      "metadata": {
        "id": "TcA6bjU9Ep4u"
      }
    },
    {
      "cell_type": "code",
      "metadata": {
        "id": "-C4SfR5GmJi-"
      },
      "source": [
        ""
      ],
      "execution_count": null,
      "outputs": []
    },
    {
      "cell_type": "markdown",
      "source": [
        "## 도형 그리기\n",
        "---"
      ],
      "metadata": {
        "id": "Os2lGgarDwP1"
      }
    },
    {
      "cell_type": "markdown",
      "source": [
        "### **| Line 그리기**\n",
        "\n",
        "Start와 End 점을 연결하여 직선을 그립니다.\n",
        "\n",
        "#### `cv2.line(img, start, end, color, thickness)`\n",
        "* Parameters\n",
        "  * img – 그림을 그릴 이미지 파일\n",
        "  * start – 시작 좌표(ex; (0,0))\n",
        "  * end – 종료 좌표(ex; (500. 500))\n",
        "  * color – BGR형태의 Color(ex; (255, 0, 0) -> Blue)\n",
        "  * thickness (int) – 선의 두께. pixel"
      ],
      "metadata": {
        "id": "YKI-oKRX3-p_"
      }
    },
    {
      "cell_type": "code",
      "source": [
        ""
      ],
      "metadata": {
        "id": "5cYoczxB4Qhz"
      },
      "execution_count": null,
      "outputs": []
    },
    {
      "cell_type": "markdown",
      "source": [
        "### **| 사각형 그리기**\n",
        "\n",
        "top-left corner와 bottom-right corner점을 연결하는 사각형을 그립니다.\n",
        "\n",
        "#### `cv2.rectangle(img, start, end, color, thickness)`\n",
        "* Parameters\n",
        "  * img – 그림을 그릴 이미지\n",
        "  * start – 시작 좌표(ex; (0,0))\n",
        "  * end – 종료 좌표(ex; (500. 500))\n",
        "  * color – BGR형태의 Color(ex; (255, 0, 0) -> Blue)\n",
        "  * thickness (int) – 선의 두께. pixel\n",
        "\n",
        "* Sample Code\n",
        "```\n",
        "img = cv2.rectangle(img, (384, 0), (510, 128), (0,255,0), 3)\n",
        "```"
      ],
      "metadata": {
        "id": "slBKUMvbGuxP"
      }
    },
    {
      "cell_type": "code",
      "metadata": {
        "id": "H5cxyBmpnd0S"
      },
      "source": [
        ""
      ],
      "execution_count": null,
      "outputs": []
    },
    {
      "cell_type": "markdown",
      "source": [
        "### **| 원 그리기**\n",
        "\n",
        "top-left corner와 bottom-right corner점을 연결하는 사각형을 그립니다.\n",
        "\n",
        "#### `cv2.rectangle(img, start, end, color, thickness)`\n",
        "* Parameters\n",
        "  * img – 그림을 그릴 이미지\n",
        "  * center – 원의 중심 좌표(x, y)\n",
        "  * radian – 반지름\n",
        "  * color – BGR형태의 Color\n",
        "  * thickness – 선의 두께, -1 이면 원 안쪽을 채움\n",
        "\n",
        "* Sample Code\n",
        "```\n",
        "img = cv2.circle(img, (447,63), 63, (0,0,255), -1)\n",
        "```"
      ],
      "metadata": {
        "id": "ME6pHEn-7eOi"
      }
    },
    {
      "cell_type": "code",
      "metadata": {
        "id": "6l5IekW87eOj"
      },
      "source": [
        ""
      ],
      "execution_count": null,
      "outputs": []
    },
    {
      "cell_type": "markdown",
      "source": [
        "### **| 텍스트 추가**\n",
        "\n",
        "#### `cv2.putText(img, text, org, font, fontSacle, color, thickness)`\n",
        "* Parameters\n",
        " * img – image\n",
        " * text – 표시할 문자열\n",
        " * org – 문자열이 표시될 위치. 문자열의 bottom-left corner점\n",
        " * font – font type. CV2.FONT_XXX\n",
        " * fontSacle – Font Size\n",
        " * color – fond color\n",
        " * thickness - 선의 두께\n",
        "\n",
        "* Sample Code\n",
        "```\n",
        "cv2.putText(img, 'OpenCV', (10,500), cv2.FONT_HERSHEY_SIMPLEX, 4, (255,255,255), 2)\n",
        "```"
      ],
      "metadata": {
        "id": "Cmkj6ZRHHmIo"
      }
    },
    {
      "cell_type": "code",
      "metadata": {
        "id": "YAX2ef94HmIp"
      },
      "source": [
        ""
      ],
      "execution_count": null,
      "outputs": []
    },
    {
      "cell_type": "markdown",
      "source": [
        "## 예제\n",
        "---\n",
        "\n",
        "* 흰도화지에 그림을 그려보자"
      ],
      "metadata": {
        "id": "Q4RYK-u_Qk7d"
      }
    },
    {
      "cell_type": "code",
      "source": [
        ""
      ],
      "metadata": {
        "id": "0nDuRtIPIz4i"
      },
      "execution_count": null,
      "outputs": []
    },
    {
      "cell_type": "markdown",
      "source": [
        "#### **예제 01**\n",
        "\n",
        "OpenCV를 이용해 이미지에 아래와 같이 도형을 그려보세요\n",
        "\n",
        "![](https://github.com/yebiny/SkillTreePython-DeepLearning/blob/main/imgs/cv2_1.png?raw=true)"
      ],
      "metadata": {
        "id": "wz_bBmAAv0Ki"
      }
    },
    {
      "cell_type": "code",
      "source": [
        ""
      ],
      "metadata": {
        "id": "yZb5Bv5RM88C"
      },
      "execution_count": null,
      "outputs": []
    },
    {
      "cell_type": "markdown",
      "source": [
        "#### **예제 02**\n",
        "\n",
        "OpenCV를 이용해 이미지에 아래와 같이 도형을 그려보세요\n",
        "\n",
        "\n",
        "![](https://github.com/yebiny/SkillTreePython-DeepLearning/blob/main/imgs/cv2_2.png?raw=true)"
      ],
      "metadata": {
        "id": "zTTzjiqNv1r7"
      }
    },
    {
      "cell_type": "code",
      "source": [
        ""
      ],
      "metadata": {
        "id": "K6_ddjDuOp-Q"
      },
      "execution_count": null,
      "outputs": []
    }
  ]
}