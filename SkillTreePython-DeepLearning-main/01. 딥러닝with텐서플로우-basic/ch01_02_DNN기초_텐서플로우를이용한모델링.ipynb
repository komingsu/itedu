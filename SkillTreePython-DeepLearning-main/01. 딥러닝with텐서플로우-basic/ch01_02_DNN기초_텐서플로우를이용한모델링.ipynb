{
 "cells": [
  {
   "cell_type": "markdown",
   "metadata": {
    "id": "ARxSsvgZFhdx"
   },
   "source": [
    "# ch01_02_DNN기초-텐서플로우를 이용한 모델링\n",
    "\n",
    "---\n",
    "* 날짜: 2022-06-27\n",
    "* 이름: 고민수\n",
    "\n",
    "## 학습내용\n",
    "    - 텐서플로우를 이용해 모델을 구현한다.\n",
    "    - 생성한 모델을 이용해 순전파 계산을 진행한다.\n",
    "    - 텐서플로우로 모델을 구현하는 여러 방법에 대핼 배워본다. \n",
    "\n",
    "## 학습자료\n",
    "\n",
    "\n",
    "- 케라스 창시자에게 배우는 딥러닝\n",
    "- 텐서플로우 케라스 : https://www.tensorflow.org/?hl=ko\n"
   ]
  },
  {
   "cell_type": "code",
   "execution_count": 4,
   "metadata": {
    "ExecuteTime": {
     "end_time": "2022-06-27T07:01:05.169745Z",
     "start_time": "2022-06-27T07:01:05.150796Z"
    },
    "id": "FH_uBeAD1qZ1"
   },
   "outputs": [],
   "source": [
    "import numpy as np\n",
    "from tensorflow.keras import layers, models\n",
    "from tensorflow import keras\n",
    "import tensorflow as tf"
   ]
  },
  {
   "cell_type": "markdown",
   "metadata": {
    "id": "MzqveLvV0dks"
   },
   "source": [
    "## DNN 기본 이해\n",
    "---"
   ]
  },
  {
   "cell_type": "markdown",
   "metadata": {
    "id": "5f0taefIrVkW"
   },
   "source": [
    "\n",
    "### | 모델링 (1)\n",
    "\n",
    "\n",
    "<p align='center'>\n",
    "<img src=https://github.com/yebiny/SkillTreePython-DeepLearning/blob/main/imgs/ch0101-01.png?raw=true width=450>\n",
    "</p>\n"
   ]
  },
  {
   "cell_type": "markdown",
   "metadata": {
    "id": "Spn6iy6TMZLE"
   },
   "source": [
    "#### **모델 구현**"
   ]
  },
  {
   "cell_type": "code",
   "execution_count": 4,
   "metadata": {
    "ExecuteTime": {
     "end_time": "2022-06-27T06:19:12.178211Z",
     "start_time": "2022-06-27T06:19:12.144302Z"
    },
    "id": "ol1G6zFpzzQy"
   },
   "outputs": [],
   "source": [
    "# 모든 레이어는 케라스에 있다.\n",
    "\n",
    "x = layers.Input(shape=(3), name=\"input_layer\") \n",
    "y = layers.Dense(1, name=\"output_layer\")(x)\n",
    "\n",
    "model1 = models.Model(inputs=x, outputs=y, name=\"My_model\")"
   ]
  },
  {
   "cell_type": "markdown",
   "metadata": {
    "id": "buNi5cvx6s_f"
   },
   "source": [
    "* 모델 시각화\n",
    "  * `.summary()`\n",
    "  * `tensorflow.keras.utils.plot_model()`"
   ]
  },
  {
   "cell_type": "code",
   "execution_count": 2,
   "metadata": {
    "ExecuteTime": {
     "end_time": "2022-06-27T06:18:57.384323Z",
     "start_time": "2022-06-27T06:18:57.371359Z"
    },
    "id": "DALpoYDrmlGi"
   },
   "outputs": [
    {
     "name": "stdout",
     "output_type": "stream",
     "text": [
      "Model: \"My_model\"\n",
      "_________________________________________________________________\n",
      " Layer (type)                Output Shape              Param #   \n",
      "=================================================================\n",
      " input_layer (InputLayer)    [(None, 3)]               0         \n",
      "                                                                 \n",
      " output_layer (Dense)        (None, 1)                 4         \n",
      "                                                                 \n",
      "=================================================================\n",
      "Total params: 4\n",
      "Trainable params: 4\n",
      "Non-trainable params: 0\n",
      "_________________________________________________________________\n"
     ]
    }
   ],
   "source": [
    "# Output shape : 데이터 변환\n",
    "# None : 데이터 개수\n",
    "# Param : 파라미터 개수\n",
    "model1.summary()"
   ]
  },
  {
   "cell_type": "code",
   "execution_count": 42,
   "metadata": {
    "ExecuteTime": {
     "end_time": "2022-06-27T07:19:56.810654Z",
     "start_time": "2022-06-27T07:19:56.552861Z"
    }
   },
   "outputs": [
    {
     "data": {
      "image/png": "[encoded data removed]",
      "text/plain": [
       "<IPython.core.display.Image object>"
      ]
     },
     "execution_count": 42,
     "metadata": {},
     "output_type": "execute_result"
    }
   ],
   "source": [
    "show = {\"show_shapes\":True, \"show_dtype\":True, \"show_layer_names\":True, \"show_layer_activations\":True}\n",
    "keras.utils.plot_model(model1, **show)"
   ]
  },
  {
   "cell_type": "markdown",
   "metadata": {
    "id": "NYFWTExFqYH_"
   },
   "source": [
    "#### **파라미터** \n",
    "\n",
    "<p align='center'>\n",
    "<img src=https://github.com/yebiny/SkillTreePython-DeepLearning/blob/main/imgs/ch0101-04.png?raw=true width=900>\n",
    "</p>\n"
   ]
  },
  {
   "cell_type": "markdown",
   "metadata": {
    "id": "wWF_aUpbklsa"
   },
   "source": [
    "* 데이터 플로우 : 데이터의 변환 과정을 확인하세요.\n",
    "  * `layer.output`\n"
   ]
  },
  {
   "cell_type": "code",
   "execution_count": 11,
   "metadata": {
    "ExecuteTime": {
     "end_time": "2022-06-27T05:57:54.181387Z",
     "start_time": "2022-06-27T05:57:54.170380Z"
    },
    "id": "DlBj87Rtklsa"
   },
   "outputs": [
    {
     "name": "stdout",
     "output_type": "stream",
     "text": [
      "input_layer\n",
      "(None, 3)\n",
      "output_layer\n",
      "(None, 1)\n"
     ]
    }
   ],
   "source": [
    "for layer in model1.layers:\n",
    "    print(layer.name)\n",
    "    print(layer.output.shape)"
   ]
  },
  {
   "cell_type": "markdown",
   "metadata": {
    "id": "psYEdHG8rHT-"
   },
   "source": [
    "* 학습 파라미터 : 학습 파라미터의 shape를 확인하세요.\n",
    "  * `.get_weights()`"
   ]
  },
  {
   "cell_type": "code",
   "execution_count": 12,
   "metadata": {
    "ExecuteTime": {
     "end_time": "2022-06-27T05:57:54.681040Z",
     "start_time": "2022-06-27T05:57:54.658061Z"
    },
    "id": "LamoOVNRrLKe"
   },
   "outputs": [
    {
     "name": "stdout",
     "output_type": "stream",
     "text": [
      "shape =  (3, 1)\n",
      "[[ 0.4628917 ]\n",
      " [-0.13028252]\n",
      " [ 0.45152175]]\n",
      "\n",
      "shape =  (1,)\n",
      "[0.]\n",
      "\n"
     ]
    }
   ],
   "source": [
    "\"\"\"\n",
    "W : (3,1)\n",
    "B : (1, )\n",
    "\"\"\"\n",
    "\n",
    "for param in model1.get_weights():\n",
    "    print(\"shape = \",param.shape)\n",
    "    print(param)\n",
    "    print()"
   ]
  },
  {
   "cell_type": "markdown",
   "metadata": {
    "id": "RE9XeArWBMoh"
   },
   "source": [
    "#### **순전파 계산**\n",
    "\n",
    "현재 초기화되어 있는 학습파라미터를 이용해 Y를 계산해 보세요.\n",
    "X는 랜덤한 숫자로 적용하세요.\n",
    "* `np.random.normal`"
   ]
  },
  {
   "cell_type": "code",
   "execution_count": 13,
   "metadata": {
    "ExecuteTime": {
     "end_time": "2022-06-27T05:57:56.396559Z",
     "start_time": "2022-06-27T05:57:56.114539Z"
    },
    "id": "DC0otNklBMoh"
   },
   "outputs": [
    {
     "name": "stdout",
     "output_type": "stream",
     "text": [
      "[[ 0.71392044 -0.04464374  0.21774439]]\n",
      "[[0.43460047]]\n"
     ]
    }
   ],
   "source": [
    "import numpy as np\n",
    "X = np.random.normal(size=(1,3))\n",
    "print(X)\n",
    "y_pred = model1.predict(X)\n",
    "print(y_pred)"
   ]
  },
  {
   "cell_type": "markdown",
   "metadata": {
    "id": "CLRoUfPKvQRp"
   },
   "source": [
    "### | 모델링 (2)\n",
    "\n",
    "<p align='center'>\n",
    "<img src=https://github.com/yebiny/SkillTreePython-DeepLearning/blob/main/imgs/ch0101-02.png?raw=true width=450>\n",
    "</p>\n"
   ]
  },
  {
   "cell_type": "markdown",
   "metadata": {
    "id": "-Ae5REJwMaTd"
   },
   "source": [
    "#### **모델 구현**"
   ]
  },
  {
   "cell_type": "code",
   "execution_count": 16,
   "metadata": {
    "ExecuteTime": {
     "end_time": "2022-06-27T07:10:16.925468Z",
     "start_time": "2022-06-27T07:10:16.897545Z"
    },
    "id": "ds6Y10NIDPX4"
   },
   "outputs": [],
   "source": [
    "from tensorflow.keras import layers, models\n",
    "\n",
    "x = layers.Input(shape=(3), name=\"input\")\n",
    "y = layers.Dense(3, name=\"output\")(x)\n",
    "\n",
    "M2 = models.Model(inputs=x, outputs=y, name=\"M2\")"
   ]
  },
  {
   "cell_type": "markdown",
   "metadata": {
    "id": "cqllNVUpDPX4"
   },
   "source": [
    "* 모델 시각화\n",
    "  * `.summary()`\n",
    "  * `tensorflow.keras.utils.plot_model()`"
   ]
  },
  {
   "cell_type": "code",
   "execution_count": 43,
   "metadata": {
    "ExecuteTime": {
     "end_time": "2022-06-27T07:20:04.081437Z",
     "start_time": "2022-06-27T07:20:03.816628Z"
    },
    "id": "JtYmoeGqDPX4"
   },
   "outputs": [
    {
     "name": "stdout",
     "output_type": "stream",
     "text": [
      "Model: \"M2\"\n",
      "_________________________________________________________________\n",
      " Layer (type)                Output Shape              Param #   \n",
      "=================================================================\n",
      " input (InputLayer)          [(None, 3)]               0         \n",
      "                                                                 \n",
      " output (Dense)              (None, 3)                 12        \n",
      "                                                                 \n",
      "=================================================================\n",
      "Total params: 12\n",
      "Trainable params: 12\n",
      "Non-trainable params: 0\n",
      "_________________________________________________________________\n"
     ]
    },
    {
     "data": {
      "image/png": "[encoded data removed]",
      "text/plain": [
       "<IPython.core.display.Image object>"
      ]
     },
     "execution_count": 43,
     "metadata": {},
     "output_type": "execute_result"
    }
   ],
   "source": [
    "import tensorflow as tf\n",
    "M2.summary()\n",
    "tf.keras.utils.plot_model(M1, **show)"
   ]
  },
  {
   "cell_type": "markdown",
   "metadata": {
    "id": "FiQBcveRvQRq"
   },
   "source": [
    "#### **파라미터** \n",
    "\n",
    "<p align='center'>\n",
    "<img src=https://github.com/yebiny/SkillTreePython-DeepLearning/blob/main/imgs/ch0101-05.png?raw=true width=900>\n",
    "</p>\n"
   ]
  },
  {
   "cell_type": "markdown",
   "metadata": {
    "id": "47Bi4i9LDPX5"
   },
   "source": [
    "* 데이터 플로우 : 데이터의 변환 과정을 확인하세요.\n",
    "  * `layer.output`\n"
   ]
  },
  {
   "cell_type": "code",
   "execution_count": 18,
   "metadata": {
    "ExecuteTime": {
     "end_time": "2022-06-27T07:10:23.924384Z",
     "start_time": "2022-06-27T07:10:23.905435Z"
    },
    "id": "5NBk9svKDPX5"
   },
   "outputs": [
    {
     "name": "stdout",
     "output_type": "stream",
     "text": [
      "input\n",
      "(None, 3)\n",
      "output\n",
      "(None, 3)\n"
     ]
    }
   ],
   "source": [
    "for layer in M2.layers:\n",
    "    print(layer.name)\n",
    "    print(layer.output.shape)"
   ]
  },
  {
   "cell_type": "markdown",
   "metadata": {
    "id": "s5XkjLJMDPX5"
   },
   "source": [
    "* 학습 파라미터 : 학습 파라미터의 shape를 확인하세요.\n",
    "  * `.get_weights()`"
   ]
  },
  {
   "cell_type": "code",
   "execution_count": 24,
   "metadata": {
    "ExecuteTime": {
     "end_time": "2022-06-27T07:11:52.915500Z",
     "start_time": "2022-06-27T07:11:52.898504Z"
    },
    "id": "XHMP6-qxDPX5"
   },
   "outputs": [
    {
     "name": "stdout",
     "output_type": "stream",
     "text": [
      "shape =  (3, 3)\n",
      "[[-0.13254333 -0.19523811 -0.60893583]\n",
      " [-0.6455591   0.7279587  -0.49637175]\n",
      " [-0.1682117  -0.41097927  0.7039745 ]]\n",
      "\n",
      "shape =  (3,)\n",
      "[0. 0. 0.]\n",
      "\n"
     ]
    }
   ],
   "source": [
    "for param in M2.get_weights():\n",
    "    print(\"shape = \",param.shape)\n",
    "    print(param)\n",
    "    print()"
   ]
  },
  {
   "cell_type": "markdown",
   "metadata": {
    "id": "PXaQ_U9hBKD4"
   },
   "source": [
    "#### **순전파 계산**\n",
    "\n",
    "현재 초기화되어 있는 학습파라미터를 이용해 Y를 계산해 보세요.\n",
    "X는 랜덤한 숫자로 적용하세요.\n",
    "* `np.random.normal`"
   ]
  },
  {
   "cell_type": "code",
   "execution_count": 34,
   "metadata": {
    "ExecuteTime": {
     "end_time": "2022-06-27T07:13:50.251394Z",
     "start_time": "2022-06-27T07:13:50.192870Z"
    },
    "id": "f0PpJMe-BKD4"
   },
   "outputs": [
    {
     "name": "stdout",
     "output_type": "stream",
     "text": [
      "[[-0.82289018  1.47615136  0.10535045]\n",
      " [-0.73712591 -0.42309513  0.84691268]\n",
      " [-0.37312893  0.40491019  0.84056655]\n",
      " [ 1.50015459  0.81782579  0.18584866]\n",
      " [-0.74486991  0.32472203  0.56077735]] \n",
      "\n",
      "[[-0.8615955   1.19194    -0.1574685 ]\n",
      " [ 0.22837341 -0.51214427  1.2550797 ]\n",
      " [-0.35333082  0.02215141  0.617963  ]\n",
      " [-0.7580523   0.2260761  -1.1886109 ]\n",
      " [-0.20522903  0.15134333  0.68716806]]\n"
     ]
    }
   ],
   "source": [
    "import numpy as np\n",
    "X = np.random.normal(size=(5,3))\n",
    "print(X, \"\\n\")\n",
    "y_pred = M2.predict(X)\n",
    "print(y_pred)"
   ]
  },
  {
   "cell_type": "markdown",
   "metadata": {
    "id": "pdq32nZCwMiL"
   },
   "source": [
    "### | 모델링 (3)\n",
    "\n",
    "<p align='center'>\n",
    "<img src=https://github.com/yebiny/SkillTreePython-DeepLearning/blob/main/imgs/ch0101-03.png?raw=true width=550>\n",
    "</p>\n"
   ]
  },
  {
   "cell_type": "markdown",
   "metadata": {
    "id": "MMR9-36eJQbl"
   },
   "source": [
    "#### **모델 구현**"
   ]
  },
  {
   "cell_type": "code",
   "execution_count": 35,
   "metadata": {
    "ExecuteTime": {
     "end_time": "2022-06-27T07:15:56.580954Z",
     "start_time": "2022-06-27T07:15:56.546048Z"
    },
    "id": "Z2IuUrLswMiL"
   },
   "outputs": [],
   "source": [
    "from tensorflow.keras import layers, models\n",
    "import tensorflow as tf\n",
    "\n",
    "x = layers.Input(shape=(3), name=\"input\")\n",
    "y = layers.Dense(3, name=\"D1\")(x)\n",
    "y = layers.Dense(2, name=\"output\")(y)\n",
    "\n",
    "M3 = models.Model(inputs =x, outputs=y, name=\"M3\")"
   ]
  },
  {
   "cell_type": "markdown",
   "metadata": {
    "id": "7O3UAyO1Fs9U"
   },
   "source": [
    "* 모델 시각화\n",
    "  * `.summary()`\n",
    "  * `tensorflow.keras.utils.plot_model()`"
   ]
  },
  {
   "cell_type": "code",
   "execution_count": 41,
   "metadata": {
    "ExecuteTime": {
     "end_time": "2022-06-27T07:19:41.043042Z",
     "start_time": "2022-06-27T07:19:40.784531Z"
    },
    "id": "fM20ihdrFs9U"
   },
   "outputs": [
    {
     "name": "stdout",
     "output_type": "stream",
     "text": [
      "Model: \"M3\"\n",
      "_________________________________________________________________\n",
      " Layer (type)                Output Shape              Param #   \n",
      "=================================================================\n",
      " input (InputLayer)          [(None, 3)]               0         \n",
      "                                                                 \n",
      " D1 (Dense)                  (None, 3)                 12        \n",
      "                                                                 \n",
      " output (Dense)              (None, 2)                 8         \n",
      "                                                                 \n",
      "=================================================================\n",
      "Total params: 20\n",
      "Trainable params: 20\n",
      "Non-trainable params: 0\n",
      "_________________________________________________________________\n"
     ]
    },
    {
     "data": {
      "image/png": "[encoded data removed]",
      "text/plain": [
       "<IPython.core.display.Image object>"
      ]
     },
     "execution_count": 41,
     "metadata": {},
     "output_type": "execute_result"
    }
   ],
   "source": [
    "M3.summary()\n",
    "tf.keras.utils.plot_model(M3, **show)"
   ]
  },
  {
   "cell_type": "markdown",
   "metadata": {
    "id": "b6McWfzgwMiL"
   },
   "source": [
    "#### **파라미터** \n",
    "\n",
    "<p align='center'>\n",
    "<img src=https://github.com/yebiny/SkillTreePython-DeepLearning/blob/main/imgs/ch0101-06.png?raw=true width=900>\n",
    "</p>\n"
   ]
  },
  {
   "cell_type": "markdown",
   "metadata": {
    "id": "iJlWs5SPGPY1"
   },
   "source": [
    "* 데이터 플로우 : 데이터의 변환 과정을 확인하세요.\n",
    "  * `layer.output`\n",
    "\n"
   ]
  },
  {
   "cell_type": "code",
   "execution_count": 50,
   "metadata": {
    "ExecuteTime": {
     "end_time": "2022-06-27T07:25:33.383759Z",
     "start_time": "2022-06-27T07:25:33.367772Z"
    },
    "id": "mCGGTr0vGPY2"
   },
   "outputs": [
    {
     "name": "stdout",
     "output_type": "stream",
     "text": [
      "input\n",
      "(None, 3)\n",
      "D1\n",
      "(None, 3)\n",
      "output\n",
      "(None, 2)\n"
     ]
    }
   ],
   "source": [
    "for layer in M3.layers:\n",
    "    print(layer.name)\n",
    "    print(layer.output.shape)"
   ]
  },
  {
   "cell_type": "markdown",
   "metadata": {
    "id": "wcXGgS5wGPY2"
   },
   "source": [
    "* 학습 파라미터 : 학습 파라미터의 shape를 확인하세요.\n",
    "  * `.get_weights()`"
   ]
  },
  {
   "cell_type": "code",
   "execution_count": 54,
   "metadata": {
    "ExecuteTime": {
     "end_time": "2022-06-27T07:26:24.780601Z",
     "start_time": "2022-06-27T07:26:24.767637Z"
    },
    "id": "_dHFFVP9GPY2"
   },
   "outputs": [
    {
     "name": "stdout",
     "output_type": "stream",
     "text": [
      "params.shape =  (3, 3)\n",
      "[[ 0.22061825 -0.5637479   0.22770357]\n",
      " [-0.24293256  0.69401693  0.72448397]\n",
      " [-0.10305142  0.24686718 -0.38706708]] \n",
      "\n",
      "params.shape =  (3,)\n",
      "[0. 0. 0.] \n",
      "\n",
      "params.shape =  (3, 2)\n",
      "[[-0.6542418  -1.0437031 ]\n",
      " [ 0.06359935 -0.09885401]\n",
      " [ 0.49211252 -0.8979045 ]] \n",
      "\n",
      "params.shape =  (2,)\n",
      "[0. 0.] \n",
      "\n"
     ]
    }
   ],
   "source": [
    "for param in M3.get_weights():\n",
    "    print(\"params.shape = \", param.shape)\n",
    "    print(param, \"\\n\")"
   ]
  },
  {
   "cell_type": "markdown",
   "metadata": {
    "id": "QXBhbZTdBF_f"
   },
   "source": [
    "#### **순전파 계산**\n",
    "\n",
    "현재 초기화되어 있는 학습파라미터를 이용해 Y를 계산해 보세요.\n",
    "X는 랜덤한 숫자로 적용하세요.\n",
    "* `np.random.normal`"
   ]
  },
  {
   "cell_type": "code",
   "execution_count": 60,
   "metadata": {
    "ExecuteTime": {
     "end_time": "2022-06-27T07:29:44.230563Z",
     "start_time": "2022-06-27T07:29:44.167274Z"
    },
    "id": "mFLI_U-BBF_g"
   },
   "outputs": [
    {
     "name": "stdout",
     "output_type": "stream",
     "text": [
      "input= [[-2.40671733  0.35440539  0.10301768]] \n",
      "\n",
      "predict= [[0.35125035 0.7914829 ]]\n"
     ]
    }
   ],
   "source": [
    "import numpy as np\n",
    "X = np.random.normal(size=(1,3))\n",
    "print(\"input=\",X, \"\\n\")\n",
    "y_pred = M3.predict(X)\n",
    "print(\"predict=\",y_pred)"
   ]
  },
  {
   "cell_type": "markdown",
   "metadata": {
    "id": "iF1Pr3EaoAF7"
   },
   "source": [
    "### | 모델링 (4)\n",
    "\n",
    "<p align='center'>\n",
    "<img src=https://github.com/yebiny/SkillTreePython-DeepLearning/blob/main/imgs/ch0101-12.png?raw=true width=820>"
   ]
  },
  {
   "cell_type": "markdown",
   "metadata": {
    "id": "B5AjRa732e7p"
   },
   "source": [
    "#### **모델 구현**"
   ]
  },
  {
   "cell_type": "code",
   "execution_count": 6,
   "metadata": {
    "ExecuteTime": {
     "end_time": "2022-06-27T05:56:44.952027Z",
     "start_time": "2022-06-27T05:56:44.915119Z"
    },
    "id": "CgMWjNgu2e7y"
   },
   "outputs": [
    {
     "name": "stdout",
     "output_type": "stream",
     "text": [
      "Model: \"My_model_4\"\n",
      "_________________________________________________________________\n",
      " Layer (type)                Output Shape              Param #   \n",
      "=================================================================\n",
      " input_1 (InputLayer)        [(None, 4)]               0         \n",
      "                                                                 \n",
      " dense (Dense)               (None, 8)                 40        \n",
      "                                                                 \n",
      " dense_1 (Dense)             (None, 8)                 72        \n",
      "                                                                 \n",
      " dense_2 (Dense)             (None, 3)                 27        \n",
      "                                                                 \n",
      "=================================================================\n",
      "Total params: 139\n",
      "Trainable params: 139\n",
      "Non-trainable params: 0\n",
      "_________________________________________________________________\n"
     ]
    }
   ],
   "source": [
    "x = layers.Input(shape=(4,))\n",
    "z1 = layers.Dense(8)(x)\n",
    "z2 = layers.Dense(8)(z1)\n",
    "y = layers.Dense(3)(z2)\n",
    "\n",
    "model4 = models.Model(inputs=x, outputs=y, name=\"My_model_4\")\n",
    "\n",
    "model4.summary()"
   ]
  },
  {
   "cell_type": "markdown",
   "metadata": {
    "id": "SANpL92z1-bd"
   },
   "source": [
    "#### **파라미터** \n",
    "\n"
   ]
  },
  {
   "cell_type": "markdown",
   "metadata": {
    "id": "pBcmDE8ZybwG"
   },
   "source": [
    "* 데이터 플로우 : 데이터의 변환 과정을 확인하세요.\n",
    "  * `layer.output`\n",
    "\n"
   ]
  },
  {
   "cell_type": "code",
   "execution_count": 9,
   "metadata": {
    "ExecuteTime": {
     "end_time": "2022-06-27T05:57:02.808364Z",
     "start_time": "2022-06-27T05:57:02.802384Z"
    },
    "id": "lc2W98-amfyP"
   },
   "outputs": [
    {
     "name": "stdout",
     "output_type": "stream",
     "text": [
      "(None, 4)\n",
      "(None, 8)\n",
      "(None, 8)\n",
      "(None, 3)\n"
     ]
    }
   ],
   "source": [
    "\"\"\"\n",
    "X : (N,4) N은 데이터 개수\n",
    "Z1 : (N, 8)\n",
    "Z2 : (N, 8)\n",
    "Y : (N,3)\n",
    "\"\"\"\n",
    "\n",
    "for layer in model4.layers:\n",
    "    print(layer.output.shape)"
   ]
  },
  {
   "cell_type": "markdown",
   "metadata": {
    "id": "1f3wtqGoyz4n"
   },
   "source": [
    "* 학습 파라미터 : 학습 파라미터의 shape를 확인하세요.\n",
    "  * `.get_weights()`"
   ]
  },
  {
   "cell_type": "code",
   "execution_count": null,
   "metadata": {
    "id": "YGL2joIdyz4o"
   },
   "outputs": [],
   "source": []
  },
  {
   "cell_type": "markdown",
   "metadata": {
    "id": "EtkJfyepMfJk"
   },
   "source": [
    "#### **순전파 계산**\n",
    "\n",
    "현재 초기화되어 있는 학습파라미터를 이용해 Y를 계산해 보세요.\n",
    "X는 랜덤한 숫자로 적용하세요.\n",
    "* `np.random.normal`"
   ]
  },
  {
   "cell_type": "code",
   "execution_count": 19,
   "metadata": {
    "ExecuteTime": {
     "end_time": "2022-06-27T05:59:04.500647Z",
     "start_time": "2022-06-27T05:59:04.435732Z"
    },
    "id": "al1XlzJuMf9-"
   },
   "outputs": [
    {
     "name": "stdout",
     "output_type": "stream",
     "text": [
      "X = [[-0.06419656  0.97364607 -0.86709545 -1.56367533]]\n",
      "Y_pred =  [[ 0.3160481 -0.6352257 -0.2393616]]\n",
      "Y_pred.shape =  (1, 3)\n"
     ]
    }
   ],
   "source": [
    "X = np.random.normal(size=(1,4))\n",
    "Y_pred = model4.predict(X)\n",
    "print(\"X =\", X)\n",
    "print(\"Y_pred = \", Y_pred)\n",
    "print(\"Y_pred.shape = \", Y_pred.shape)"
   ]
  },
  {
   "cell_type": "markdown",
   "metadata": {
    "id": "2B95PNoM0O9a"
   },
   "source": [
    "### | 병렬연산\n",
    "\n",
    "\n",
    "<p align='center'>\n",
    "<img src=https://github.com/yebiny/SkillTreePython-DeepLearning/blob/main/imgs/ch0101-13.png?raw=true width=820>\n",
    "\n"
   ]
  },
  {
   "cell_type": "markdown",
   "metadata": {
    "id": "LZoN8fo-PboK"
   },
   "source": [
    "#### **순전파 계산**\n",
    "\n",
    "Model4를 이용하여 Y를 계산해 보세요.\n",
    "X는 랜덤한 숫자로 적용하세요. X의 샘플 개수는 10개 입니다.\n",
    "* `np.random.normal`"
   ]
  },
  {
   "cell_type": "code",
   "execution_count": 20,
   "metadata": {
    "ExecuteTime": {
     "end_time": "2022-06-27T06:01:28.871003Z",
     "start_time": "2022-06-27T06:01:28.794156Z"
    },
    "id": "Vv1yq_uF4Vxu"
   },
   "outputs": [
    {
     "name": "stdout",
     "output_type": "stream",
     "text": [
      "X = [[-0.50772765  1.65916262  0.17975046 -1.03168336]\n",
      " [-0.56137761 -0.06124552  0.07327462 -0.23787975]\n",
      " [ 0.79228552  1.96680358  1.17057838  1.72528028]\n",
      " [ 0.23504772 -1.30123027 -0.8893585  -0.00397811]\n",
      " [-0.23262089  0.55235592  1.81944042  1.00283099]\n",
      " [-1.50151501 -1.8767765   0.21324574 -0.03357829]\n",
      " [ 0.87914172  0.46680383 -0.37487819 -0.38043137]\n",
      " [ 0.82614763  1.44411694 -1.00174472 -1.12908279]\n",
      " [-1.35637626  1.24464698  0.13070339 -1.07814903]\n",
      " [-1.17628494  0.89430876  0.28111349 -1.26230464]]\n",
      "Y_pred =  [[ 0.51780325 -0.13946417 -0.73660266]\n",
      " [ 0.3921447  -0.6738366   0.08302869]\n",
      " [-0.87017614  3.3583946  -1.45876   ]\n",
      " [-0.18477562 -0.6322557   0.7428105 ]\n",
      " [ 0.06110817  0.8650068  -0.5219153 ]\n",
      " [ 0.96406925 -2.482869    1.0726671 ]\n",
      " [-0.45311028  0.6789721  -0.19181906]\n",
      " [-0.3430612   0.75394917 -0.5925699 ]\n",
      " [ 1.015901   -1.0822017  -0.4879989 ]\n",
      " [ 1.0057967  -1.389786   -0.2575219 ]]\n",
      "Y_pred.shape =  (10, 3)\n"
     ]
    }
   ],
   "source": [
    "# 실제 데이터 (1000~100000)개 중에 배치 단위로 계산이 진행됨, 배치 사이즈 8,16,32,64\n",
    "X = np.random.normal(size=(10,4)) # batch의 개수가 10개\n",
    "Y_pred = model4.predict(X)\n",
    "print(\"X =\", X)\n",
    "print(\"Y_pred = \", Y_pred)\n",
    "print(\"Y_pred.shape = \", Y_pred.shape)"
   ]
  },
  {
   "cell_type": "markdown",
   "metadata": {
    "id": "cxfkYRgEl_CM"
   },
   "source": [
    "## 텐서플로우 - 모델을 만드는 세가지 방법\n",
    "---"
   ]
  },
  {
   "cell_type": "markdown",
   "metadata": {
    "id": "ek-Z53ZpxD7P"
   },
   "source": [
    "1. keras Sequential API\n",
    "2. Keras Functional API\n",
    "3. Model Class Subsclassing\n"
   ]
  },
  {
   "cell_type": "code",
   "execution_count": null,
   "metadata": {
    "id": "ynYVT_G104eR"
   },
   "outputs": [],
   "source": []
  },
  {
   "cell_type": "markdown",
   "metadata": {
    "id": "9KCc_ZoOlxBy"
   },
   "source": [
    "아래 그림과 같은 모델을 텐서플로우를 이용해서 만들어 봅시다.\n",
    "\n",
    "<p align='center'>\n",
    "<img src=https://github.com/yebiny/NCS-lecture-deeplearning/blob/main/imgs/01-testmodel1.PNG?raw=true width=600>"
   ]
  },
  {
   "cell_type": "markdown",
   "metadata": {
    "id": "6fB29iRAxyP_"
   },
   "source": [
    "### | Keras Functional API"
   ]
  },
  {
   "cell_type": "markdown",
   "metadata": {
    "id": "_nHacE06bPwT"
   },
   "source": [
    "* 모델 구현"
   ]
  },
  {
   "cell_type": "code",
   "execution_count": 27,
   "metadata": {
    "ExecuteTime": {
     "end_time": "2022-06-27T06:13:48.655335Z",
     "start_time": "2022-06-27T06:13:48.609460Z"
    },
    "id": "nzzxJsKfxwXS"
   },
   "outputs": [
    {
     "name": "stdout",
     "output_type": "stream",
     "text": [
      "Model: \"model_1\"\n",
      "_________________________________________________________________\n",
      " Layer (type)                Output Shape              Param #   \n",
      "=================================================================\n",
      " input_5 (InputLayer)        [(None, 3)]               0         \n",
      "                                                                 \n",
      " dense_12 (Dense)            (None, 6)                 24        \n",
      "                                                                 \n",
      " dense_13 (Dense)            (None, 6)                 42        \n",
      "                                                                 \n",
      " dense_14 (Dense)            (None, 1)                 7         \n",
      "                                                                 \n",
      "=================================================================\n",
      "Total params: 73\n",
      "Trainable params: 73\n",
      "Non-trainable params: 0\n",
      "_________________________________________________________________\n"
     ]
    }
   ],
   "source": [
    "def build_model():\n",
    "    x = layers.Input(shape=(3,))\n",
    "    l1 = layers.Dense(6)(x)\n",
    "    l2 = layers.Dense(6)(l1)\n",
    "    y = layers.Dense(1)(l2)\n",
    "    model = models.Model(x, y)\n",
    "    return model\n",
    "\n",
    "model = build_model()\n",
    "model.summary()"
   ]
  },
  {
   "cell_type": "markdown",
   "metadata": {
    "id": "8aFljiFtxGUP"
   },
   "source": [
    "### | Keras Sequential API\n",
    "\n"
   ]
  },
  {
   "cell_type": "markdown",
   "metadata": {
    "id": "j5xvJ7e01rbx"
   },
   "source": [
    "* 모델 구현: `Sequential()`"
   ]
  },
  {
   "cell_type": "code",
   "execution_count": 29,
   "metadata": {
    "ExecuteTime": {
     "end_time": "2022-06-27T06:15:38.890897Z",
     "start_time": "2022-06-27T06:15:38.788171Z"
    },
    "id": "8Id8VOEiw-nT"
   },
   "outputs": [
    {
     "name": "stdout",
     "output_type": "stream",
     "text": [
      "Model: \"sequential\"\n",
      "_________________________________________________________________\n",
      " Layer (type)                Output Shape              Param #   \n",
      "=================================================================\n",
      " dense_15 (Dense)            (None, 3, 6)              12        \n",
      "                                                                 \n",
      " dense_16 (Dense)            (None, 3, 6)              42        \n",
      "                                                                 \n",
      " dense_17 (Dense)            (None, 3, 1)              7         \n",
      "                                                                 \n",
      "=================================================================\n",
      "Total params: 61\n",
      "Trainable params: 61\n",
      "Non-trainable params: 0\n",
      "_________________________________________________________________\n"
     ]
    }
   ],
   "source": [
    "def build_model2():\n",
    "    model = keras.Sequential()\n",
    "    model.add( layers.Input(shape=(3,1 )))\n",
    "    model.add( layers.Dense(6) )\n",
    "    model.add( layers.Dense(6) )\n",
    "    model.add( layers.Dense(1) )\n",
    "    return model\n",
    "\n",
    "model = build_model2()\n",
    "model.summary()"
   ]
  },
  {
   "cell_type": "code",
   "execution_count": 30,
   "metadata": {
    "ExecuteTime": {
     "end_time": "2022-06-27T06:18:40.414794Z",
     "start_time": "2022-06-27T06:18:40.375899Z"
    }
   },
   "outputs": [
    {
     "name": "stdout",
     "output_type": "stream",
     "text": [
      "('You must install pydot (`pip install pydot`) and install graphviz (see instructions at https://graphviz.gitlab.io/download/) ', 'for plot_model/model_to_dot to work.')\n"
     ]
    }
   ],
   "source": [
    "keras.utils.plot_model(model)"
   ]
  },
  {
   "cell_type": "markdown",
   "metadata": {
    "id": "J3weqVyOymnn"
   },
   "source": [
    "### | Model Class Subclassing"
   ]
  },
  {
   "cell_type": "markdown",
   "metadata": {
    "id": "k8A4RhsPbbnS"
   },
   "source": [
    "* 모델 구현"
   ]
  },
  {
   "cell_type": "code",
   "execution_count": 16,
   "metadata": {
    "ExecuteTime": {
     "end_time": "2022-06-27T06:24:53.348509Z",
     "start_time": "2022-06-27T06:24:53.336542Z"
    }
   },
   "outputs": [],
   "source": [
    "import tensorflow as tf\n",
    "import numpy as np"
   ]
  },
  {
   "cell_type": "code",
   "execution_count": 9,
   "metadata": {
    "ExecuteTime": {
     "end_time": "2022-06-27T06:23:06.064156Z",
     "start_time": "2022-06-27T06:23:06.047169Z"
    },
    "id": "Y8pq4dLnykdS"
   },
   "outputs": [],
   "source": [
    "class Model3(tf.keras.Model):\n",
    "    def __init__(self):\n",
    "        super(Model3, self).__init__()\n",
    "        self._name = \"Model3\"\n",
    "        self._input_shape=(3)\n",
    "        self.dense1 = layers.Dense(6, name=\"dense1\")\n",
    "        self.dense2 = layers.Dense(6, name=\"dense2\")\n",
    "        self.dense3 = layers.Dense(1, name=\"dense3\")\n",
    "    \n",
    "    def call(self, x):\n",
    "        y = self.dense1(x)\n",
    "        y = self.dense2(y)\n",
    "        y = self.dense3(y)\n",
    "        return y"
   ]
  },
  {
   "cell_type": "markdown",
   "metadata": {
    "id": "zgTALE5H17_3"
   },
   "source": [
    "* 모델 시각화"
   ]
  },
  {
   "cell_type": "code",
   "execution_count": 17,
   "metadata": {
    "ExecuteTime": {
     "end_time": "2022-06-27T06:24:55.368492Z",
     "start_time": "2022-06-27T06:24:55.343590Z"
    },
    "id": "HK0_O6i117_4"
   },
   "outputs": [
    {
     "name": "stdout",
     "output_type": "stream",
     "text": [
      "Model: \"Model3\"\n",
      "_________________________________________________________________\n",
      " Layer (type)                Output Shape              Param #   \n",
      "=================================================================\n",
      " dense1 (Dense)              multiple                  24        \n",
      "                                                                 \n",
      " dense2 (Dense)              multiple                  42        \n",
      "                                                                 \n",
      " dense3 (Dense)              multiple                  7         \n",
      "                                                                 \n",
      "=================================================================\n",
      "Total params: 73\n",
      "Trainable params: 73\n",
      "Non-trainable params: 0\n",
      "_________________________________________________________________\n"
     ]
    }
   ],
   "source": [
    "m3 = Model3()\n",
    "m3(np.array([[1,2,1]]))\n",
    "m3.summary()"
   ]
  },
  {
   "cell_type": "markdown",
   "metadata": {
    "id": "gpBnK0J7cbpK"
   },
   "source": [
    "### | 예제\n",
    "\n",
    "세가지 방법을 이용해 아래 모델을 구현하세요."
   ]
  },
  {
   "cell_type": "markdown",
   "metadata": {
    "id": "e7DmmlbplmAa"
   },
   "source": [
    "#### **예제 01**\n",
    "\n",
    "<p align='center'>\n",
    "<img src=https://github.com/yebiny/NCS-lecture-deeplearning/blob/main/imgs/01-testmodel2.PNG?raw=true width=500>\n"
   ]
  },
  {
   "cell_type": "markdown",
   "metadata": {
    "id": "5mnW29R1qK5u"
   },
   "source": [
    "* Keras Functional API\n"
   ]
  },
  {
   "cell_type": "code",
   "execution_count": 63,
   "metadata": {
    "ExecuteTime": {
     "end_time": "2022-06-27T07:33:44.777735Z",
     "start_time": "2022-06-27T07:33:44.743840Z"
    },
    "id": "BgLyz6HXqK5v"
   },
   "outputs": [
    {
     "name": "stdout",
     "output_type": "stream",
     "text": [
      "Model: \"exM1\"\n",
      "_________________________________________________________________\n",
      " Layer (type)                Output Shape              Param #   \n",
      "=================================================================\n",
      " input (InputLayer)          [(None, 4)]               0         \n",
      "                                                                 \n",
      " D1 (Dense)                  (None, 8)                 40        \n",
      "                                                                 \n",
      " D2 (Dense)                  (None, 8)                 72        \n",
      "                                                                 \n",
      " output (Dense)              (None, 3)                 27        \n",
      "                                                                 \n",
      "=================================================================\n",
      "Total params: 139\n",
      "Trainable params: 139\n",
      "Non-trainable params: 0\n",
      "_________________________________________________________________\n"
     ]
    }
   ],
   "source": [
    "from tensorflow.keras import models, layers\n",
    "x = layers.Input(4, name=\"input\") # input (n,4)\n",
    "y = layers.Dense(8, name=\"D1\")(x) # param 40\n",
    "y = layers.Dense(8, name=\"D2\")(y) # param 72\n",
    "y = layers.Dense(3, name=\"output\")(y) # param 27\n",
    "\n",
    "exM1 = models.Model(inputs=x, outputs=y, name=\"exM1\") #  all_params = 40+72+27 = 139\n",
    "\n",
    "exM1.summary()"
   ]
  },
  {
   "cell_type": "markdown",
   "metadata": {
    "id": "q5ygabc2qI1P"
   },
   "source": [
    "* keras Sequential API\n"
   ]
  },
  {
   "cell_type": "code",
   "execution_count": 64,
   "metadata": {
    "ExecuteTime": {
     "end_time": "2022-06-27T07:36:11.396102Z",
     "start_time": "2022-06-27T07:36:11.351931Z"
    },
    "id": "I6qwU4_zlnN_"
   },
   "outputs": [
    {
     "name": "stdout",
     "output_type": "stream",
     "text": [
      "Model: \"sequential\"\n",
      "_________________________________________________________________\n",
      " Layer (type)                Output Shape              Param #   \n",
      "=================================================================\n",
      " dense (Dense)               (None, 8)                 40        \n",
      "                                                                 \n",
      " dense_1 (Dense)             (None, 8)                 72        \n",
      "                                                                 \n",
      " dense_2 (Dense)             (None, 3)                 27        \n",
      "                                                                 \n",
      "=================================================================\n",
      "Total params: 139\n",
      "Trainable params: 139\n",
      "Non-trainable params: 0\n",
      "_________________________________________________________________\n"
     ]
    }
   ],
   "source": [
    "exM1 = models.Sequential()\n",
    "exM1.add( layers.Input(shape=(4)) )\n",
    "exM1.add( layers.Dense(8) )\n",
    "exM1.add( layers.Dense(8) )\n",
    "exM1.add( layers.Dense(3) )\n",
    "\n",
    "exM1.summary()"
   ]
  },
  {
   "cell_type": "markdown",
   "metadata": {
    "id": "k9crENLAqLEW"
   },
   "source": [
    "* Model Class Subsclassing"
   ]
  },
  {
   "cell_type": "code",
   "execution_count": 74,
   "metadata": {
    "ExecuteTime": {
     "end_time": "2022-06-27T07:47:35.177449Z",
     "start_time": "2022-06-27T07:47:35.167476Z"
    },
    "id": "hP3yZKS0qLEW"
   },
   "outputs": [],
   "source": [
    "class exM1(tf.keras.Model):\n",
    "    def __init__(self):\n",
    "        super(exM1, self).__init__()\n",
    "        self._name = \"exM1\"\n",
    "        self._input_shape = 4\n",
    "        self.D1 = layers.Dense(8, name=\"D1\")\n",
    "        self.D2 = layers.Dense(8, name=\"D2\")\n",
    "        self.D3 = layers.Dense(3, name=\"D3\")\n",
    "    \n",
    "    def call(self, x):\n",
    "        y = self.D1(x)\n",
    "        y = self.D2(y)\n",
    "        y = self.D3(y)\n",
    "        return y"
   ]
  },
  {
   "cell_type": "code",
   "execution_count": 75,
   "metadata": {
    "ExecuteTime": {
     "end_time": "2022-06-27T07:47:35.701901Z",
     "start_time": "2022-06-27T07:47:35.677236Z"
    }
   },
   "outputs": [
    {
     "name": "stdout",
     "output_type": "stream",
     "text": [
      "Model: \"exM1\"\n",
      "_________________________________________________________________\n",
      " Layer (type)                Output Shape              Param #   \n",
      "=================================================================\n",
      " D1 (Dense)                  multiple                  40        \n",
      "                                                                 \n",
      " D2 (Dense)                  multiple                  72        \n",
      "                                                                 \n",
      " D3 (Dense)                  multiple                  27        \n",
      "                                                                 \n",
      "=================================================================\n",
      "Total params: 139\n",
      "Trainable params: 139\n",
      "Non-trainable params: 0\n",
      "_________________________________________________________________\n"
     ]
    }
   ],
   "source": [
    "exM1 = exM1()\n",
    "exM1(np.array([[1,3,4,2]]))\n",
    "exM1.summary()"
   ]
  },
  {
   "cell_type": "markdown",
   "metadata": {
    "id": "ZCd50-faAZg9"
   },
   "source": [
    "#### **예제 02**\n",
    "\n",
    "\n",
    "\n",
    "\n",
    "<p align='center'>\n",
    "<img src=https://github.com/yebiny/NCS-lecture-deeplearning/blob/main/imgs/01-testmodel3.PNG?raw=true width=700>\n"
   ]
  },
  {
   "cell_type": "markdown",
   "metadata": {
    "id": "-TXHCeHZqZjF"
   },
   "source": [
    "* Keras Functional API\n"
   ]
  },
  {
   "cell_type": "code",
   "execution_count": 98,
   "metadata": {
    "ExecuteTime": {
     "end_time": "2022-06-27T08:03:01.611914Z",
     "start_time": "2022-06-27T08:03:01.298645Z"
    },
    "id": "Zekozc0QqZjG"
   },
   "outputs": [
    {
     "name": "stdout",
     "output_type": "stream",
     "text": [
      "Model: \"exM2\"\n",
      "_________________________________________________________________\n",
      " Layer (type)                Output Shape              Param #   \n",
      "=================================================================\n",
      " input (InputLayer)          [(None, 3)]               0         \n",
      "                                                                 \n",
      " D1 (Dense)                  (None, 4)                 16        \n",
      "                                                                 \n",
      " D2 (Dense)                  (None, 8)                 40        \n",
      "                                                                 \n",
      " D3 (Dense)                  (None, 4)                 36        \n",
      "                                                                 \n",
      " output (Dense)              (None, 1)                 5         \n",
      "                                                                 \n",
      "=================================================================\n",
      "Total params: 97\n",
      "Trainable params: 97\n",
      "Non-trainable params: 0\n",
      "_________________________________________________________________\n"
     ]
    },
    {
     "data": {
      "image/png": "[encoded data removed]",
      "text/plain": [
       "<IPython.core.display.Image object>"
      ]
     },
     "execution_count": 98,
     "metadata": {},
     "output_type": "execute_result"
    }
   ],
   "source": [
    "x = layers.Input(shape=(3), name=\"input\") # input shape = (N,3)\n",
    "y = layers.Dense(4, name=\"D1\")(x) # param = 16\n",
    "y = layers.Dense(8, name=\"D2\")(y) # param = 40\n",
    "y = layers.Dense(4, name=\"D3\")(y) # param = 36\n",
    "y = layers.Dense(1, name=\"output\")(y) # param = 5\n",
    "\n",
    "exM2 = models.Model(inputs=x, outputs=y, name=\"exM2\") # all_param = 16+40+36+5 = 97\n",
    "exM2.summary()\n",
    "tf.keras.utils.plot_model(exM2, **show)"
   ]
  },
  {
   "cell_type": "markdown",
   "metadata": {
    "id": "LQPscC7sqZjA"
   },
   "source": [
    "* keras Sequential API\n"
   ]
  },
  {
   "cell_type": "code",
   "execution_count": 97,
   "metadata": {
    "ExecuteTime": {
     "end_time": "2022-06-27T08:02:51.467270Z",
     "start_time": "2022-06-27T08:02:51.171192Z"
    },
    "id": "IO0chB0pqZjF"
   },
   "outputs": [
    {
     "name": "stdout",
     "output_type": "stream",
     "text": [
      "Model: \"exM2\"\n",
      "_________________________________________________________________\n",
      " Layer (type)                Output Shape              Param #   \n",
      "=================================================================\n",
      " D1 (Dense)                  (None, 4)                 16        \n",
      "                                                                 \n",
      " D2 (Dense)                  (None, 8)                 40        \n",
      "                                                                 \n",
      " D3 (Dense)                  (None, 4)                 36        \n",
      "                                                                 \n",
      " output (Dense)              (None, 1)                 5         \n",
      "                                                                 \n",
      "=================================================================\n",
      "Total params: 97\n",
      "Trainable params: 97\n",
      "Non-trainable params: 0\n",
      "_________________________________________________________________\n"
     ]
    },
    {
     "data": {
      "image/png": "[encoded data removed]",
      "text/plain": [
       "<IPython.core.display.Image object>"
      ]
     },
     "execution_count": 97,
     "metadata": {},
     "output_type": "execute_result"
    }
   ],
   "source": [
    "exM2 = models.Sequential(name=\"exM2\")\n",
    "exM2.add( layers.Input(shape=(3), name=\"input\") )\n",
    "exM2.add( layers.Dense(4, name=\"D1\") )\n",
    "exM2.add( layers.Dense(8, name=\"D2\") )\n",
    "exM2.add( layers.Dense(4, name=\"D3\") )\n",
    "exM2.add( layers.Dense(1, name=\"output\") )\n",
    "\n",
    "exM2.summary()\n",
    "tf.keras.utils.plot_model(exM2, **show)"
   ]
  },
  {
   "cell_type": "markdown",
   "metadata": {
    "id": "LKm8DvxSqZjG"
   },
   "source": [
    "* Model Class Subsclassing\n",
    "\n"
   ]
  },
  {
   "cell_type": "code",
   "execution_count": null,
   "metadata": {},
   "outputs": [],
   "source": [
    "class exM1(tf.keras.Model):\n",
    "    def __init__(self):\n",
    "        super(exM1, self).__init__()\n",
    "        self._name = \"exM1\"\n",
    "        self._input_shape = 4\n",
    "        self.D1 = layers.Dense(8, name=\"D1\")\n",
    "        self.D2 = layers.Dense(8, name=\"D2\")\n",
    "        self.D3 = layers.Dense(3, name=\"D3\")\n",
    "    \n",
    "    def call(self, x):\n",
    "        y = self.D1(x)\n",
    "        y = self.D2(y)\n",
    "        y = self.D3(y)\n",
    "        return y"
   ]
  },
  {
   "cell_type": "code",
   "execution_count": 114,
   "metadata": {
    "ExecuteTime": {
     "end_time": "2022-06-27T08:04:50.044942Z",
     "start_time": "2022-06-27T08:04:50.026994Z"
    },
    "id": "fEOkBDe2qZjG"
   },
   "outputs": [],
   "source": [
    "class exM2(tf.keras.Model):\n",
    "    def __init__(self):\n",
    "        super(exM2, self).__init__()\n",
    "        self._name = \"exM2\"\n",
    "        self._input_shape = 3\n",
    "        self.D1 = layers.Dense(4, name=\"D1\")\n",
    "        self.D2 = layers.Dense(8, name=\"D2\")\n",
    "        self.D3 = layers.Dense(4, name=\"D3\")\n",
    "        self.D4 = layers.Dense(1, name=\"output\")\n",
    "        \n",
    "    def call(self, x):\n",
    "        y = self.D1(x)\n",
    "        y = self.D2(y)\n",
    "        y = self.D3(y)\n",
    "        y = self.D4(y)\n",
    "        return y"
   ]
  },
  {
   "cell_type": "code",
   "execution_count": 115,
   "metadata": {
    "ExecuteTime": {
     "end_time": "2022-06-27T08:04:50.214299Z",
     "start_time": "2022-06-27T08:04:50.194350Z"
    }
   },
   "outputs": [
    {
     "name": "stdout",
     "output_type": "stream",
     "text": [
      "Model: \"exM2\"\n",
      "_________________________________________________________________\n",
      " Layer (type)                Output Shape              Param #   \n",
      "=================================================================\n",
      " D1 (Dense)                  multiple                  16        \n",
      "                                                                 \n",
      " D2 (Dense)                  multiple                  40        \n",
      "                                                                 \n",
      " D3 (Dense)                  multiple                  36        \n",
      "                                                                 \n",
      " output (Dense)              multiple                  5         \n",
      "                                                                 \n",
      "=================================================================\n",
      "Total params: 97\n",
      "Trainable params: 97\n",
      "Non-trainable params: 0\n",
      "_________________________________________________________________\n"
     ]
    }
   ],
   "source": [
    "exM2 = exM2()\n",
    "exM2( np.array([[1,2,1]]) )\n",
    "exM2.summary()"
   ]
  },
  {
   "cell_type": "code",
   "execution_count": null,
   "metadata": {},
   "outputs": [],
   "source": []
  }
 ],
 "metadata": {
  "colab": {
   "collapsed_sections": [],
   "name": "ch01_02_DNN기초-텐서플로우를이용한모델링.ipynb",
   "provenance": []
  },
  "kernelspec": {
   "display_name": "Python 3 (ipykernel)",
   "language": "python",
   "name": "python3"
  },
  "language_info": {
   "codemirror_mode": {
    "name": "ipython",
    "version": 3
   },
   "file_extension": ".py",
   "mimetype": "text/x-python",
   "name": "python",
   "nbconvert_exporter": "python",
   "pygments_lexer": "ipython3",
   "version": "3.8.13"
  },
  "toc": {
   "base_numbering": 1,
   "nav_menu": {},
   "number_sections": true,
   "sideBar": true,
   "skip_h1_title": false,
   "title_cell": "Table of Contents",
   "title_sidebar": "Contents",
   "toc_cell": false,
   "toc_position": {},
   "toc_section_display": true,
   "toc_window_display": true
  }
 },
 "nbformat": 4,
 "nbformat_minor": 1
}
