{
 "cells": [
  {
   "cell_type": "markdown",
   "metadata": {
    "colab_type": "text",
    "id": "view-in-github"
   },
   "source": [
    "<a href=\"https://colab.research.google.com/github/yebiny/SkillTreePython-DeepLearning/blob/main/01.%EB%94%A5%EB%9F%AC%EB%8B%9Dwith%ED%85%90%EC%84%9C%ED%94%8C%EB%A1%9C%EC%9A%B0-basic/ch01_01_DNN%EA%B8%B0%EC%B4%88_%EA%B8%B0%EB%B3%B8%EB%A0%88%EC%9D%B4%EC%96%B4.ipynb\" target=\"_parent\"><img src=\"https://colab.research.google.com/assets/colab-badge.svg\" alt=\"Open In Colab\"/></a>"
   ]
  },
  {
   "cell_type": "markdown",
   "metadata": {
    "id": "9Q1yeunDnbDS"
   },
   "source": [
    "# 01. DNN기초 - 기본 레이어\n",
    "---\n",
    "* 날짜: 2022-06-23\n",
    "* 이름: 고민수\n",
    "\n",
    "## 학습내용\n",
    "    - 딥러닝을 구성하는 레이어에 대해 이해한다.\n",
    "    - 활성화 함수 종류를 구현하고 특징을 정리한다.\n",
    "    - 그래디언트 소실에 대해 이해한다.\n",
    "\n",
    "## 학습자료\n",
    "\n",
    "\n",
    "- 케라스 창시자에게 배우는 딥러닝\n"
   ]
  },
  {
   "cell_type": "code",
   "execution_count": 60,
   "metadata": {
    "ExecuteTime": {
     "end_time": "2022-06-23T04:57:41.035173Z",
     "start_time": "2022-06-23T04:57:40.715561Z"
    }
   },
   "outputs": [
    {
     "name": "stdout",
     "output_type": "stream",
     "text": [
      "Hangul OK in your window!\n"
     ]
    }
   ],
   "source": [
    "import set_matplotlib_hangul"
   ]
  },
  {
   "cell_type": "code",
   "execution_count": 75,
   "metadata": {
    "ExecuteTime": {
     "end_time": "2022-06-23T05:21:49.982655Z",
     "start_time": "2022-06-23T05:21:49.368469Z"
    },
    "id": "FH_uBeAD1qZ1"
   },
   "outputs": [],
   "source": [
    "import numpy as np\n",
    "import matplotlib.pyplot as plt\n",
    "import pandas as pd"
   ]
  },
  {
   "cell_type": "markdown",
   "metadata": {
    "id": "TE4OOCmn02qg"
   },
   "source": [
    "## 선형 함수 (Linear)\n",
    "---\n",
    "\n",
    "<p align='center'>\n",
    "<img src=https://github.com/yebiny/SkillTreePython-DeepLearning/blob/main/imgs/ch0101-07.png?raw=true width=700>\n",
    "\n"
   ]
  },
  {
   "cell_type": "markdown",
   "metadata": {
    "id": "otUGNnfHAMHh"
   },
   "source": [
    "### **| 모델 생성**"
   ]
  },
  {
   "cell_type": "markdown",
   "metadata": {},
   "source": [
    "#### 레이어 생성"
   ]
  },
  {
   "cell_type": "code",
   "execution_count": 9,
   "metadata": {
    "ExecuteTime": {
     "end_time": "2022-06-23T03:26:02.043216Z",
     "start_time": "2022-06-23T03:26:02.026293Z"
    },
    "id": "nG4eK5_61AEy"
   },
   "outputs": [],
   "source": [
    "class LinearLayer():\n",
    "    # 학습 파라미터(W, b)의 shape 결정\n",
    "    \n",
    "    def __init__(self, d_in, d_out):\n",
    "        W_shape = (d_in, d_out)\n",
    "        b_shape = (d_out)\n",
    "        \n",
    "        # 행렬 만들기\n",
    "        self.W = np.random.normal(0,1, W_shape)\n",
    "        self.b = np.zeros(b_shape)\n",
    "        \n",
    "    def forward(self, X):\n",
    "        # X : (n_samplt, d_in)\n",
    "        return X@self.W+self.b"
   ]
  },
  {
   "cell_type": "code",
   "execution_count": 10,
   "metadata": {
    "ExecuteTime": {
     "end_time": "2022-06-23T03:26:09.546351Z",
     "start_time": "2022-06-23T03:26:09.529396Z"
    }
   },
   "outputs": [],
   "source": [
    "layer1 = LinearLayer(d_in=3, d_out=3)\n",
    "layer2 = LinearLayer(d_in=3, d_out=2)"
   ]
  },
  {
   "cell_type": "code",
   "execution_count": 12,
   "metadata": {
    "ExecuteTime": {
     "end_time": "2022-06-23T03:26:26.376435Z",
     "start_time": "2022-06-23T03:26:26.369421Z"
    }
   },
   "outputs": [
    {
     "name": "stdout",
     "output_type": "stream",
     "text": [
      "[[ 0.96452957  1.14036847 -0.58313924]\n",
      " [ 1.11189977  1.25338332 -1.40095918]\n",
      " [-1.24933063  0.61925558  0.49753878]]\n",
      "[0. 0. 0.]\n",
      "[[ 0.61084053  1.34576794]\n",
      " [-0.4424866  -0.91790266]\n",
      " [ 1.78390624  0.53765666]]\n",
      "[0. 0.]\n"
     ]
    }
   ],
   "source": [
    "print(layer1.W)\n",
    "print(layer1.b)\n",
    "print(layer2.W)\n",
    "print(layer2.b)"
   ]
  },
  {
   "cell_type": "code",
   "execution_count": 13,
   "metadata": {
    "ExecuteTime": {
     "end_time": "2022-06-23T03:26:48.178669Z",
     "start_time": "2022-06-23T03:26:48.161716Z"
    }
   },
   "outputs": [
    {
     "name": "stdout",
     "output_type": "stream",
     "text": [
      "[[1 2 1]] (1, 3)\n"
     ]
    }
   ],
   "source": [
    "X = np.array( [[1,2,1]])\n",
    "print(X, X.shape)"
   ]
  },
  {
   "cell_type": "code",
   "execution_count": 14,
   "metadata": {
    "ExecuteTime": {
     "end_time": "2022-06-23T03:27:01.580328Z",
     "start_time": "2022-06-23T03:27:01.561341Z"
    }
   },
   "outputs": [
    {
     "name": "stdout",
     "output_type": "stream",
     "text": [
      "[[ 1.93899848  4.26639069 -2.88751882]]\n"
     ]
    }
   ],
   "source": [
    "print(layer1.forward(X))"
   ]
  },
  {
   "cell_type": "code",
   "execution_count": 15,
   "metadata": {
    "ExecuteTime": {
     "end_time": "2022-06-23T03:29:52.474871Z",
     "start_time": "2022-06-23T03:29:52.456880Z"
    }
   },
   "outputs": [
    {
     "name": "stdout",
     "output_type": "stream",
     "text": [
      "[[-5.85446471 -2.8591831 ]]\n"
     ]
    }
   ],
   "source": [
    "print(layer2.forward(layer1.forward(X)))"
   ]
  },
  {
   "cell_type": "markdown",
   "metadata": {
    "id": "nwJeEInq6_P7"
   },
   "source": [
    "#### 모델 생성"
   ]
  },
  {
   "cell_type": "code",
   "execution_count": 37,
   "metadata": {
    "ExecuteTime": {
     "end_time": "2022-06-23T03:48:52.104582Z",
     "start_time": "2022-06-23T03:48:52.094609Z"
    }
   },
   "outputs": [],
   "source": [
    "class Model():\n",
    "    \n",
    "    # 모델의 레이어 정의\n",
    "    def __init__(self):\n",
    "        self.layer1 = LinearLayer(d_in=3, d_out=3)\n",
    "        self.layer2 = LinearLayer(d_in=3, d_out=2)\n",
    "    \n",
    "    # 예측 - forward(순전파 계산)\n",
    "    def predict(self, x):\n",
    "        z = self.layer1.forward(x)\n",
    "        y = self.layer2.forward(z)\n",
    "        return y\n",
    "    \n",
    "    # 학습 파라미터 반환\n",
    "    def get_weights(self):\n",
    "        return [ self.layer1.W, self.layer1.b, self.layer2.W, self.layer2.b]\n",
    "    \n",
    "    # 학습 파라미터를 직접 입력\n",
    "    def set_weights(self, **kwargs):\n",
    "        self.layer1.W = kwargs.get(\"layer1_W\")\n",
    "        self.layer1.b = kwargs.get(\"layer1_b\")\n",
    "        self.layer2.W = kwargs.get(\"layer2_W\")\n",
    "        self.layer2.b = kwargs.get(\"layer2_b\")"
   ]
  },
  {
   "cell_type": "code",
   "execution_count": 38,
   "metadata": {
    "ExecuteTime": {
     "end_time": "2022-06-23T03:48:54.110079Z",
     "start_time": "2022-06-23T03:48:54.102139Z"
    }
   },
   "outputs": [
    {
     "data": {
      "text/plain": [
       "array([[-1.74015298, -1.23165546]])"
      ]
     },
     "execution_count": 38,
     "metadata": {},
     "output_type": "execute_result"
    }
   ],
   "source": [
    "model = Model()\n",
    "model.predict(X)"
   ]
  },
  {
   "cell_type": "markdown",
   "metadata": {
    "id": "aQLEzz4e80It"
   },
   "source": [
    "### **| 순전파 계산**\n",
    "\n",
    "데이터와 학습파라미터의 값이 아래와 같을 때 Y값을 구하세요.\n",
    "\n",
    "<p align='center'>\n",
    "<img src=https://github.com/yebiny/SkillTreePython-DeepLearning/blob/main/imgs/ch0101-11.png?raw=true width=800>\n",
    "</p>"
   ]
  },
  {
   "cell_type": "markdown",
   "metadata": {
    "id": "2jpPu_1ACdlt"
   },
   "source": [
    "* 파라미터 정의"
   ]
  },
  {
   "cell_type": "code",
   "execution_count": 39,
   "metadata": {
    "ExecuteTime": {
     "end_time": "2022-06-23T03:48:55.308947Z",
     "start_time": "2022-06-23T03:48:55.293950Z"
    },
    "id": "0aZbsZGP6XVH"
   },
   "outputs": [
    {
     "name": "stdout",
     "output_type": "stream",
     "text": [
      "(1, 3)\n",
      "(3, 3)\n",
      "(1, 3)\n",
      "(3, 2)\n",
      "(1, 2)\n"
     ]
    }
   ],
   "source": [
    "X = np.array( [ 1,2,1]).reshape(1,3)\n",
    "W1_ = np.array( [ 1,1,-1,1,0.5,-1,1,1,1]).reshape(3,3)\n",
    "b1_ = np.array([0,0,0]).reshape(1,3)\n",
    "W2_=np.array( [1, 0.5, -1, 0.5,0,1]).reshape(3,2)\n",
    "b2_ = np.array([1,-0.5]).reshape(1,2)\n",
    "\n",
    "print(X.shape)\n",
    "print(W1_.shape)\n",
    "print(b1_.shape)\n",
    "print(W2_.shape)\n",
    "print(b2_.shape)"
   ]
  },
  {
   "cell_type": "markdown",
   "metadata": {
    "id": "Yj1j1WVlCfEL"
   },
   "source": [
    "* 학습 파라미터 확인"
   ]
  },
  {
   "cell_type": "code",
   "execution_count": 40,
   "metadata": {
    "ExecuteTime": {
     "end_time": "2022-06-23T03:48:56.112109Z",
     "start_time": "2022-06-23T03:48:56.102136Z"
    },
    "id": "-KS1Snwg60FH"
   },
   "outputs": [
    {
     "data": {
      "text/plain": [
       "[array([[-0.07407022,  0.37370441,  1.28319591],\n",
       "        [-2.19041644,  0.07864523, -0.39413996],\n",
       "        [ 2.45192384, -0.28999385, -0.03959844]]),\n",
       " array([0., 0., 0.]),\n",
       " array([[ 0.89840578,  0.59700957],\n",
       "        [-0.86701122,  1.05739189],\n",
       "        [ 0.58922782, -0.63843398]]),\n",
       " array([0., 0.])]"
      ]
     },
     "execution_count": 40,
     "metadata": {},
     "output_type": "execute_result"
    }
   ],
   "source": [
    "model.get_weights()"
   ]
  },
  {
   "cell_type": "markdown",
   "metadata": {
    "id": "eUOF6xYgClzp"
   },
   "source": [
    "* 학습 파라미터 세팅"
   ]
  },
  {
   "cell_type": "code",
   "execution_count": 41,
   "metadata": {
    "ExecuteTime": {
     "end_time": "2022-06-23T03:48:56.644306Z",
     "start_time": "2022-06-23T03:48:56.630306Z"
    },
    "id": "DvoBSK086gxm"
   },
   "outputs": [],
   "source": [
    "model.set_weights(layer1_W=W1_, layer1_b=b1_, layer2_W=W2_, layer2_b =b2_)"
   ]
  },
  {
   "cell_type": "code",
   "execution_count": 42,
   "metadata": {
    "ExecuteTime": {
     "end_time": "2022-06-23T03:48:57.081238Z",
     "start_time": "2022-06-23T03:48:57.069271Z"
    }
   },
   "outputs": [
    {
     "data": {
      "text/plain": [
       "[array([[ 1. ,  1. , -1. ],\n",
       "        [ 1. ,  0.5, -1. ],\n",
       "        [ 1. ,  1. ,  1. ]]),\n",
       " array([[0, 0, 0]]),\n",
       " array([[ 1. ,  0.5],\n",
       "        [-1. ,  0.5],\n",
       "        [ 0. ,  1. ]]),\n",
       " array([[ 1. , -0.5]])]"
      ]
     },
     "execution_count": 42,
     "metadata": {},
     "output_type": "execute_result"
    }
   ],
   "source": [
    "model.get_weights()"
   ]
  },
  {
   "cell_type": "markdown",
   "metadata": {
    "id": "V-dCS6zTCjD2"
   },
   "source": [
    "* 예측 (순전파)"
   ]
  },
  {
   "cell_type": "code",
   "execution_count": 45,
   "metadata": {
    "ExecuteTime": {
     "end_time": "2022-06-23T03:49:07.016222Z",
     "start_time": "2022-06-23T03:49:07.006284Z"
    },
    "id": "Ag3K-NO97FzD"
   },
   "outputs": [
    {
     "data": {
      "text/plain": [
       "array([[2., 1.]])"
      ]
     },
     "execution_count": 45,
     "metadata": {},
     "output_type": "execute_result"
    }
   ],
   "source": [
    "model.predict(X)"
   ]
  },
  {
   "cell_type": "markdown",
   "metadata": {
    "id": "BARbnIMRzMRC"
   },
   "source": [
    "## 활성 함수 (Activation)\n",
    "---\n",
    "\n",
    "<p align='center'>\n",
    "<img src=https://github.com/yebiny/SkillTreePython-DeepLearning/blob/main/imgs/ch0101-08.png?raw=true width=800>\n",
    "\n",
    "* 비선형 함수를 사용하는 이유\n",
    "\n",
    "> 선형함수인 $h(x)=cx$를 활성화함수로 사용한 3층 네트워크를 떠올려 보세요.\n",
    "이를 식으로 나타내면 $y(x)=h(h(h(x)))$가 됩니다. 이는 실은 $y(x)=ax$와 똑같은 식입니다.\n",
    "$a=c3$이라고만 하면 끝이죠. 즉, 은닉층이 없는 네트워크로 표현할 수 있습니다.\n",
    "뉴럴네트워크에서 층을 쌓는 혜택을 얻고 싶다면 활성화함수로는 반드시 비선형 함수를 사용해야 합니다. **출처: [밑바닥부터 시작하는 딥러닝]**\n",
    " \n",
    "* 어떤 활성화 함수를 써야할까\n",
    "\n",
    "> ELU → LeakyReLU → ReLU → tanh → sigmoid 순으로 사용하라는 얘기도 있고, cs231n 강의에서는 ReLU를 먼저 쓰고 , 그다음으로 LeakyReLU나 ELU 같은 ReLU Family를 쓰며, sigmoid는 사용하지 말라고 하고 있다.\n",
    "**출처: https://excelsior-cjh.tistory.com/177 [EXCELSIOR:티스토리]**\n",
    "\n",
    "* 딥러닝에서 사용되는 활성화 함수의 종류\n",
    "\n",
    "    * ----- 마지막 층에서 사용 -----\n",
    "        - Step Function -- 예외 ( 최근에는 사용하지 않음 ) \n",
    "        - Sigmoid : Binary 클래스\n",
    "        - Softmax : 클래스가 3개 이상 \n",
    "\n",
    "    * ----- 중간 층에서 사용 -----\n",
    "        - Tanh :\n",
    "        - ReLU : \n",
    "        - Leaky ReLU :\n",
    "        - PReLU :\n",
    "        - ELU :\n",
    "    \n"
   ]
  },
  {
   "cell_type": "markdown",
   "metadata": {
    "id": "SFciXyKSJG9q"
   },
   "source": [
    "* 시각화를 위한 플롯팅 함수"
   ]
  },
  {
   "cell_type": "code",
   "execution_count": 109,
   "metadata": {
    "ExecuteTime": {
     "end_time": "2022-06-23T05:51:24.784081Z",
     "start_time": "2022-06-23T05:51:24.766093Z"
    },
    "id": "joqmI6sxJOIO"
   },
   "outputs": [],
   "source": [
    "def plot_func(xs, ys, label, title=''):\n",
    "    plt.figure(figsize=(8,4))\n",
    "    plt.plot(xs, ys, label=label)\n",
    "    plt.title(title)\n",
    "    plt.ylim(-1, 2)\n",
    "    plt.hlines(xmin=-5, xmax=5, y=0, colors='r', linestyles=':')\n",
    "    plt.grid()\n",
    "    plt.legend()"
   ]
  },
  {
   "cell_type": "markdown",
   "metadata": {
    "id": "qCVwE0VGdEya"
   },
   "source": [
    "### **| Sigmoid**\n",
    "\n",
    "<p align='center'>\n",
    "<img src=https://github.com/yebiny/SkillTreePython-DeepLearning/blob/main/imgs/ch0101-15.png?raw=true width=500>\n",
    "\n",
    "\n",
    "\n"
   ]
  },
  {
   "cell_type": "markdown",
   "metadata": {
    "id": "lZ-BqoaMI_zr"
   },
   "source": [
    "* 구현\n",
    "\\begin{align}\n",
    "sigmoid(x) = \\frac{1}{1+e^{-x}}\n",
    "\\end{align}\n"
   ]
  },
  {
   "cell_type": "code",
   "execution_count": null,
   "metadata": {
    "ExecuteTime": {
     "end_time": "2022-06-23T04:59:03.122988Z",
     "start_time": "2022-06-23T04:59:03.122988Z"
    },
    "id": "lykqtbIuzXlS"
   },
   "outputs": [],
   "source": [
    "# 함수의 인풋 , 0차 텐서, 아웃풋 0차 텐서\n",
    "def sigmoid(x):\n",
    "    return 1/(1+np.exp(-x))"
   ]
  },
  {
   "cell_type": "markdown",
   "metadata": {
    "id": "RwWVqA0ddJvx"
   },
   "source": [
    "* 미분\n",
    "\\begin{align}\n",
    "\\frac{d}{dx} sigmoid(x) = sigmoid(x)(1-sigmoid(x))\n",
    "\\end{align}\n"
   ]
  },
  {
   "cell_type": "code",
   "execution_count": 55,
   "metadata": {
    "ExecuteTime": {
     "end_time": "2022-06-23T04:54:21.646477Z",
     "start_time": "2022-06-23T04:54:21.627576Z"
    }
   },
   "outputs": [],
   "source": [
    "def sigmoid_grad(x):\n",
    "    return sigmoid(x)*(1-sigmoid(x))"
   ]
  },
  {
   "cell_type": "code",
   "execution_count": null,
   "metadata": {},
   "outputs": [],
   "source": []
  },
  {
   "cell_type": "markdown",
   "metadata": {
    "id": "05K5suyKJhCH"
   },
   "source": [
    "* 시각화"
   ]
  },
  {
   "cell_type": "code",
   "execution_count": 123,
   "metadata": {
    "ExecuteTime": {
     "end_time": "2022-06-23T05:56:45.155103Z",
     "start_time": "2022-06-23T05:56:44.988249Z"
    }
   },
   "outputs": [
    {
     "data": {
      "image/png": "[encoded data removed]",
      "text/plain": [
       "<Figure size 576x288 with 1 Axes>"
      ]
     },
     "metadata": {
      "needs_background": "light"
     },
     "output_type": "display_data"
    }
   ],
   "source": [
    "xs = np.linspace(-9,9, 500)\n",
    "plt.figure(figsize=(8,4))\n",
    "plt.plot(xs, sigmoid(xs), label=\"Sigmoid\", color=\"blue\")\n",
    "plt.plot(xs, sigmoid_grad(xs), label=\"Sigmoid_grad\", color=\"green\")\n",
    "plt.hlines(xmin=-7.5, xmax=7.5, y=0, colors='r', linestyles=':')\n",
    "plt.hlines(xmin=-7.5, xmax=7.5, y=1, colors='r', linestyles=':')\n",
    "plt.scatter(0,0.5, color=\"black\")\n",
    "plt.ylim(-1, 2)\n",
    "plt.grid()\n",
    "plt.legend()\n",
    "plt.show;"
   ]
  },
  {
   "cell_type": "markdown",
   "metadata": {
    "id": "Oi2i3MEjIyhu"
   },
   "source": [
    "\n",
    "\n",
    "**Sigmoid 소개**\n",
    "\n",
    "```\n",
    "- 나오게 된 배경 : 실수전체를 정의역으로 단조함수(0또는 1)을 표현하기 위함\n",
    "\n",
    "- 특징 정리 (출력 범위, 미분 값 등)\n",
    "    - exp(x)를 사용한다.\n",
    "        - 계산량이 많다.\n",
    "    - 함수값의 범위가 (0,1) 로 제한된다.\n",
    "    - 중심값이 0.5이다.\n",
    "        - 0~1 사이 범위에서 중심값이 0.5로 모든 x 값이 양수이다.\n",
    "        - 또한 모든 미분값이 양수값을 가진다.\n",
    "        - 이러한 경우에서 update 를 하는 과정에서 zigzag 를 하는 형상을 보이며 최적화 시간을 늘리는 원인이 된다.\n",
    "    - 미분값이 사라진다.\n",
    "        - x=0에서 1/4 의 값을 가지고 |x| 값이 일정이상 커지면 미분값이 소실된다.\n",
    "```\n"
   ]
  },
  {
   "cell_type": "markdown",
   "metadata": {
    "id": "oUb85RD1ds-H"
   },
   "source": [
    "### **| Softmax**\n",
    "\n",
    "<p align='center'>\n",
    "<img src=https://github.com/yebiny/SkillTreePython-DeepLearning/blob/main/imgs/ch0101-16.png?raw=true width=550>\n"
   ]
  },
  {
   "cell_type": "markdown",
   "metadata": {
    "id": "MAS3Q5qGkSnz"
   },
   "source": [
    "* 구현\n",
    "\n",
    "\\begin{align}\n",
    "softmax(x) = \\frac{e^{x_i}}{\\sum_je^{x_j}}\n",
    "\\end{align}"
   ]
  },
  {
   "cell_type": "code",
   "execution_count": 67,
   "metadata": {
    "ExecuteTime": {
     "end_time": "2022-06-23T05:10:35.460044Z",
     "start_time": "2022-06-23T05:10:35.451033Z"
    },
    "id": "V9OtdSfPkSn0"
   },
   "outputs": [],
   "source": [
    "def softmax(xx):\n",
    "    exx = np.exp(xx) \n",
    "    sum_exx = np.sum(exx) \n",
    "    return exx / sum_exx "
   ]
  },
  {
   "cell_type": "markdown",
   "metadata": {
    "id": "DozuQe8ikSn0"
   },
   "source": [
    "* 미분\n",
    "\n",
    "\n",
    "\\begin{align}\n",
    "\\frac{x}{dx} Softmax(\\vec{x}) =  \n",
    "\\begin{cases}\n",
    "& Softmax(\\vec{x})(1-Softmax(\\vec{x})) \\;\\;\\;\\;\\;\\;\\; \\text{ if } i=j  \n",
    "\\\\ & 0 \\;\\;\\;\\;\\;\\;\\;\\;\\;\\;\\;\\;\\;\\;\\;\\;\\;\\;\\;\\;\\;\\;\\;\\;\\;\\;\\;\\;\\;\\;\\;\\;\\;\\;\\;\\;\\;\\;\\;\\;\\;\\;\\;\\;\\;\\;\\;\\;\\;\\;\\;\\;\\;\\;\\;\\; \\text{ if } i\\neq j \n",
    "\\end{cases}\n",
    "\\end{align}"
   ]
  },
  {
   "cell_type": "code",
   "execution_count": 74,
   "metadata": {
    "ExecuteTime": {
     "end_time": "2022-06-23T05:20:20.011996Z",
     "start_time": "2022-06-23T05:20:20.001034Z"
    },
    "id": "RsLPlGPckSn0"
   },
   "outputs": [],
   "source": [
    "def softmax_grad(xs, j=0):\n",
    "    return (softmax(xs)*(1-softmax(xs)))[j]"
   ]
  },
  {
   "cell_type": "markdown",
   "metadata": {
    "id": "z2ak5_tNQmu9"
   },
   "source": [
    "* 시각화\n"
   ]
  },
  {
   "cell_type": "code",
   "execution_count": 104,
   "metadata": {
    "ExecuteTime": {
     "end_time": "2022-06-23T05:30:51.302714Z",
     "start_time": "2022-06-23T05:30:51.055199Z"
    },
    "id": "s_LJOuOJQmu9"
   },
   "outputs": [
    {
     "data": {
      "text/plain": [
       "<AxesSubplot:>"
      ]
     },
     "execution_count": 104,
     "metadata": {},
     "output_type": "execute_result"
    },
    {
     "data": {
      "image/png": "[encoded data removed]",
      "text/plain": [
       "<Figure size 576x144 with 1 Axes>"
      ]
     },
     "metadata": {
      "needs_background": "light"
     },
     "output_type": "display_data"
    },
    {
     "data": {
      "image/png": "[encoded data removed]",
      "text/plain": [
       "<Figure size 576x144 with 1 Axes>"
      ]
     },
     "metadata": {
      "needs_background": "light"
     },
     "output_type": "display_data"
    }
   ],
   "source": [
    "ys = softmax(np.array( [1, 2, 1, 3, 0]))\n",
    "pd.DataFrame(ys).plot(kind=\"bar\")\n",
    "pd.DataFrame([ys]).plot(kind=\"barh\", stacked=True)"
   ]
  },
  {
   "cell_type": "markdown",
   "metadata": {
    "id": "ejR0PQYZtLSg"
   },
   "source": [
    "\n",
    "**Softmax 소개**\n",
    "\n",
    "```\n",
    "- # 나오게 된 배경 : 다중 클래스 분류에 사용되는 활성화 함수\n",
    "- # 장단점 \n",
    "- # 특징 정리 (출력 범위, 미분 값 등 )\n",
    "    - Sotfmax만 적용하면 회귀값을 얻을 수 있다.\n",
    "    - 클래스 별 확률값(회귀값)을 얻는다.\n",
    "```\n"
   ]
  },
  {
   "cell_type": "markdown",
   "metadata": {
    "id": "W78hLTGxdtK3"
   },
   "source": [
    "### **| Tanh**\n",
    "\n"
   ]
  },
  {
   "cell_type": "markdown",
   "metadata": {
    "id": "eBD4SPRLkTMl"
   },
   "source": [
    "* 구현\n",
    "\n",
    "\\begin{align}\n",
    "tanh(x) = \\frac{e^x - e^{-x}}{e^{x}+e^{-x}}\n",
    "\\end{align}"
   ]
  },
  {
   "cell_type": "code",
   "execution_count": 105,
   "metadata": {
    "ExecuteTime": {
     "end_time": "2022-06-23T05:48:52.710349Z",
     "start_time": "2022-06-23T05:48:52.702332Z"
    },
    "id": "SHdGQkAhkTMl"
   },
   "outputs": [],
   "source": [
    "def hypertan(x):\n",
    "    return (np.exp(x)-np.exp(-x))/(np.exp(x)+np.exp(-x))"
   ]
  },
  {
   "cell_type": "markdown",
   "metadata": {
    "id": "nqlW5Q_7kTMl"
   },
   "source": [
    "* 미분\n",
    "\n",
    "\n",
    "\\begin{align}\n",
    "\\frac{d}{dx} tanh(x) = (1-tanh(x))(1+tanh(x))) = 1-tanh(x)^2\n",
    "\\end{align}"
   ]
  },
  {
   "cell_type": "code",
   "execution_count": 106,
   "metadata": {
    "ExecuteTime": {
     "end_time": "2022-06-23T05:49:27.217364Z",
     "start_time": "2022-06-23T05:49:27.204400Z"
    },
    "id": "NKy-cXGAkTMl"
   },
   "outputs": [],
   "source": [
    "def hypertan_grad(x):\n",
    "    return 1-hypertan(x)**2"
   ]
  },
  {
   "cell_type": "markdown",
   "metadata": {
    "id": "wXi8E2T_INh4"
   },
   "source": [
    "* 시각화"
   ]
  },
  {
   "cell_type": "code",
   "execution_count": 127,
   "metadata": {
    "ExecuteTime": {
     "end_time": "2022-06-23T05:58:32.492433Z",
     "start_time": "2022-06-23T05:58:32.316033Z"
    },
    "id": "zli5iL01INh5"
   },
   "outputs": [
    {
     "data": {
      "image/png": "[encoded data removed]",
      "text/plain": [
       "<Figure size 576x288 with 1 Axes>"
      ]
     },
     "metadata": {
      "needs_background": "light"
     },
     "output_type": "display_data"
    }
   ],
   "source": [
    "xs = np.linspace(-9,9, 500)\n",
    "plt.figure(figsize=(8,4))\n",
    "plt.plot(xs, hypertan(xs), label=\"hypertan\", color=\"blue\")\n",
    "plt.plot(xs, hypertan_grad(xs), label=\"hypertan_grad\", color=\"green\")\n",
    "plt.hlines(xmin=-7.5, xmax=7.5, y=0, colors='r', linestyles=':')\n",
    "plt.hlines(xmin=-7.5, xmax=7.5, y=1, colors='r', linestyles=':')\n",
    "plt.hlines(xmin=-7.5, xmax=7.5, y=-1, colors='r', linestyles=':')\n",
    "plt.scatter(0,1, color=\"black\")\n",
    "plt.scatter(0,0, color=\"black\")\n",
    "plt.ylim(-1.5, 1.5)\n",
    "plt.grid()\n",
    "plt.legend()\n",
    "plt.show;"
   ]
  },
  {
   "cell_type": "markdown",
   "metadata": {
    "id": "aeS5x6QJINh5"
   },
   "source": [
    "\n",
    "**Tanh 소개**\n",
    "\n",
    "```\n",
    "- # 나오게 된 배경 : Sigmoid 의 단점을 개선\n",
    "\n",
    "- # 특징 정리 (출력 범위, 미분 값 등 )\n",
    "    - 중심값을 0 으로 옮겨졌다.\n",
    "        - Sigmoid 의 최적화 과정이 느려지는 것을 보완\n",
    "    - 미분값이 여전히 일정이상 값에서 소실된다.\n",
    "    - 여전히 exp(x)의 계산이 필요하다.\n",
    "```\n",
    "\n"
   ]
  },
  {
   "cell_type": "markdown",
   "metadata": {
    "id": "3pvnp63ydtbv"
   },
   "source": [
    "### **| ReLU**\n"
   ]
  },
  {
   "cell_type": "markdown",
   "metadata": {
    "id": "CoX6MmkZkU2s"
   },
   "source": [
    "* 구현\n",
    "\n",
    "\\begin{align}\n",
    "ReLU(x) = max(0, x)\n",
    "\\end{align}"
   ]
  },
  {
   "cell_type": "code",
   "execution_count": 158,
   "metadata": {
    "ExecuteTime": {
     "end_time": "2022-06-23T06:12:51.883866Z",
     "start_time": "2022-06-23T06:12:51.873890Z"
    },
    "id": "pHdYyZY0kU2s"
   },
   "outputs": [],
   "source": [
    "def ReLU(x):\n",
    "    return np.maximum(0,x)"
   ]
  },
  {
   "cell_type": "markdown",
   "metadata": {
    "id": "i02vlzpOkU2s"
   },
   "source": [
    "* 미분\n",
    "\n",
    "\n",
    "\\begin{align}\n",
    "\\frac{x}{dx} ReLU(x) =  \n",
    "\\begin{cases}\n",
    "& 1 \\;\\; \\text{ if } x \\geq 0  \n",
    "\\\\ & 0 \\;\\; \\text{ if } x <0  \n",
    "\\end{cases}\n",
    "\\end{align}\n"
   ]
  },
  {
   "cell_type": "code",
   "execution_count": 145,
   "metadata": {
    "ExecuteTime": {
     "end_time": "2022-06-23T06:06:13.001263Z",
     "start_time": "2022-06-23T06:06:12.988298Z"
    },
    "id": "VVvwQ-LkkU2s"
   },
   "outputs": [],
   "source": [
    "def ReLU_grad(x):\n",
    "    return np.where(x>=0 , 1, 0)"
   ]
  },
  {
   "cell_type": "markdown",
   "metadata": {
    "id": "kyDgaTsnImBJ"
   },
   "source": [
    "* 시각화"
   ]
  },
  {
   "cell_type": "code",
   "execution_count": 164,
   "metadata": {
    "ExecuteTime": {
     "end_time": "2022-06-23T06:13:56.143965Z",
     "start_time": "2022-06-23T06:13:55.968638Z"
    },
    "id": "Gus2PThvImBJ"
   },
   "outputs": [
    {
     "data": {
      "image/png": "[encoded data removed]",
      "text/plain": [
       "<Figure size 576x288 with 1 Axes>"
      ]
     },
     "metadata": {
      "needs_background": "light"
     },
     "output_type": "display_data"
    }
   ],
   "source": [
    "xs = np.linspace(-9,9, 500)\n",
    "plt.figure(figsize=(8,4))\n",
    "plt.plot(xs, ReLU(xs), label=\"ReLU\", color=\"blue\")\n",
    "plt.plot(xs, ReLU_grad(xs), label=\"ReLU_grad\", color=\"green\")\n",
    "plt.scatter(0,1, color=\"black\")\n",
    "plt.scatter(2.5,2.5, color=\"black\")\n",
    "plt.ylim(-0.5, 3)\n",
    "plt.grid()\n",
    "plt.legend()\n",
    "plt.show;"
   ]
  },
  {
   "cell_type": "markdown",
   "metadata": {
    "id": "W7iYiMomImBJ"
   },
   "source": [
    "\n",
    "\n",
    "**ReLU 소개**\n",
    "\n",
    "```\n",
    "- # 나오게 된 배경 : Sigmoid 의 느린 계산속도 계선\n",
    "\n",
    "- # 특징 정리 (출력 범위, 미분 값 등 )\n",
    "    - 함수가 단순해지고 Sigmoid 에 비해 계산속도가 월등히 빠르다.\n",
    "    - x < 0 에서 미분값이 0 이다.\n",
    "        - 뉴련이 더이상 update 하지 않고 \"죽는\" 경우가 있음\n",
    "```\n",
    "\n"
   ]
  },
  {
   "cell_type": "markdown",
   "metadata": {
    "id": "giYriuzFd2Y5"
   },
   "source": [
    "### **| LeackyReLU & PReLU**\n",
    "\n"
   ]
  },
  {
   "cell_type": "markdown",
   "metadata": {
    "id": "0J0EQQr6kVyU"
   },
   "source": [
    "* 구현\n",
    "\n",
    "\\begin{align}\n",
    "LeackyReLU(x) = max(0.01  x, x)\n",
    "\\\\\n",
    "\\\\\n",
    "\\end{align}\n",
    "\n",
    "\n",
    "\n",
    "\\begin{align}\n",
    "PReLU(x;\\alpha) = max(\\alpha  x, x)\n",
    "\\end{align}"
   ]
  },
  {
   "cell_type": "code",
   "execution_count": 165,
   "metadata": {
    "ExecuteTime": {
     "end_time": "2022-06-23T06:14:05.688166Z",
     "start_time": "2022-06-23T06:14:05.674165Z"
    },
    "id": "ZPn3pdYRkVyU"
   },
   "outputs": [],
   "source": [
    "def PReLU(x, alpha=0.01):\n",
    "    return np.maximum(alpha*x, x)"
   ]
  },
  {
   "cell_type": "markdown",
   "metadata": {
    "id": "GgkyM8S9kVyU"
   },
   "source": [
    "* 미분\n",
    "\n",
    "\\begin{align}\n",
    "\\frac{x}{dx} PReLU(x;\\alpha) =  \n",
    "\\begin{cases}\n",
    "& 1 \\;\\; \\text{ if } x \\geq 0  \n",
    "\\\\ & \\alpha \\;\\; \\text{ if } x <0  \n",
    "\\end{cases}\n",
    "\\end{align}"
   ]
  },
  {
   "cell_type": "code",
   "execution_count": 166,
   "metadata": {
    "ExecuteTime": {
     "end_time": "2022-06-23T06:14:41.640003Z",
     "start_time": "2022-06-23T06:14:41.632516Z"
    },
    "id": "SbkBD0IkkVyU"
   },
   "outputs": [],
   "source": [
    "def PReLU_grad(x, alpha=0.01):\n",
    "    return np.where(x>=0, 1, alpha)"
   ]
  },
  {
   "cell_type": "markdown",
   "metadata": {
    "id": "hEw-vFRiK_LP"
   },
   "source": [
    "* 시각화\n",
    "  * $\\alpha$ 값이 각각 0.01, 0.1, 0.2 일때 플롯을 그리세요."
   ]
  },
  {
   "cell_type": "code",
   "execution_count": 176,
   "metadata": {
    "ExecuteTime": {
     "end_time": "2022-06-23T06:20:24.880580Z",
     "start_time": "2022-06-23T06:20:24.419619Z"
    },
    "id": "NnSDkIONK_LP"
   },
   "outputs": [
    {
     "data": {
      "image/png": "[encoded data removed]",
      "text/plain": [
       "<Figure size 576x864 with 3 Axes>"
      ]
     },
     "metadata": {
      "needs_background": "light"
     },
     "output_type": "display_data"
    }
   ],
   "source": [
    "xs = np.linspace(-9,9, 500)\n",
    "plt.figure(figsize=(8,12))\n",
    "plt.subplot(3,1,1)\n",
    "plt.plot(xs, PReLU(xs, alpha=0.01), label=\"PReLU\", color=\"blue\")\n",
    "plt.plot(xs, PReLU_grad(xs, alpha=0.01), label=\"PReLU_grad\", color=\"green\")\n",
    "plt.title(\"PReLU - alpha=0.01\")\n",
    "plt.hlines(xmin=-9, xmax=9, y=0.01, colors='r', linestyles=':')\n",
    "plt.scatter(0,1, color=\"black\")\n",
    "plt.scatter(2.5,2.5, color=\"black\")\n",
    "plt.ylim(-0.5, 3)\n",
    "plt.grid()\n",
    "plt.legend()\n",
    "\n",
    "plt.subplot(3,1,2)\n",
    "plt.plot(xs, PReLU(xs, alpha=0.1), label=\"PReLU\", color=\"blue\")\n",
    "plt.plot(xs, PReLU_grad(xs, alpha=0.1), label=\"PReLU_grad\", color=\"green\")\n",
    "plt.title(\"PReLU - alpha=0.1\")\n",
    "plt.hlines(xmin=-9, xmax=9, y=0.1, colors='r', linestyles=':')\n",
    "plt.scatter(0,1, color=\"black\")\n",
    "plt.scatter(2.5,2.5, color=\"black\")\n",
    "plt.ylim(-0.5, 3)\n",
    "plt.grid()\n",
    "plt.legend()\n",
    "\n",
    "plt.subplot(3,1,3)\n",
    "plt.plot(xs, PReLU(xs, alpha=0.2), label=\"PReLU\", color=\"blue\")\n",
    "plt.plot(xs, PReLU_grad(xs, alpha=0.2), label=\"PReLU_grad\", color=\"green\")\n",
    "plt.hlines(xmin=-9.0, xmax=9.0, y=0.2, colors='r', linestyles=':')\n",
    "plt.title(\"PReLU - alpha=0.2\")\n",
    "plt.scatter(0,1, color=\"black\")\n",
    "plt.scatter(2.5,2.5, color=\"black\")\n",
    "plt.ylim(-0.5, 3)\n",
    "plt.grid()\n",
    "plt.legend()\n",
    "plt.show;"
   ]
  },
  {
   "cell_type": "markdown",
   "metadata": {
    "id": "iBA1WZWSK_LQ"
   },
   "source": [
    "\n",
    "\n",
    "**LeackReLU및 PReLU 소개**\n",
    "\n",
    "```\n",
    "- # 나오게 된 배경 : ReLU 의 X<0 에서 뉴런이 죽는것을 방지\n",
    "\n",
    "- # 특징 정리 (출력 범위, 미분 값 등 )\n",
    "    - X<0 에서 미분값이 0.01, α 값을 가진다.\n",
    "- # 알파 값은 보통 어떻게 정해지는가?\n",
    "```\n",
    "\n"
   ]
  },
  {
   "cell_type": "markdown",
   "metadata": {
    "id": "IuUR73Ytd-E3"
   },
   "source": [
    "### **| ELU & SELU**\n",
    "\n",
    "\n",
    "\\begin{align}\n",
    "ELU(x) =\n",
    "\\begin{cases}\n",
    "& x \\;\\;\\;\\;\\;\\;\\;\\;\\;\\;\\;\\;\\;\\;\\;\\;\\; \\text{ if } x \\geq 0  \n",
    "\\\\ & (e^x-1) \\;\\;\\;\\;\\;\\; \\text{ if } x <0  \n",
    "\\end{cases}\n",
    "\\\\\n",
    "\\\\\n",
    "\\end{align}\n",
    "\n",
    "\n",
    "\n",
    "\\begin{align}\n",
    "SELU(x;\\alpha) =\n",
    "\\begin{cases}\n",
    "& x \\;\\;\\;\\;\\;\\;\\;\\;\\;\\;\\;\\;\\;\\;\\; \\text{ if } x \\geq 0  \n",
    "\\\\ & \\alpha(e^x-1) \\;\\; \\text{ if } x <0  \n",
    "\\end{cases}\n",
    "\\end{align}"
   ]
  },
  {
   "cell_type": "markdown",
   "metadata": {
    "id": "gllJdWbrkYEn"
   },
   "source": [
    "* 구현"
   ]
  },
  {
   "cell_type": "code",
   "execution_count": 178,
   "metadata": {
    "ExecuteTime": {
     "end_time": "2022-06-23T06:22:38.194926Z",
     "start_time": "2022-06-23T06:22:38.175976Z"
    },
    "id": "bgm1hZG0kYEo"
   },
   "outputs": [],
   "source": [
    "def SELU(x, alpha=1):\n",
    "    return np.where(x>=0, x, alpha*(np.exp(x)-1))"
   ]
  },
  {
   "cell_type": "markdown",
   "metadata": {
    "id": "w-f6CI2PkYEo"
   },
   "source": [
    "* 미분\n",
    "\n",
    "\\begin{align}\n",
    "\\frac{x}{dx} SELU(x;\\alpha) =  \n",
    "\\begin{cases}\n",
    "& 1 \\;\\;\\;\\;\\;\\; \\text{ if } x \\geq 0  \n",
    "\\\\ & \\alpha e^{x} \\;\\; \\text{ if } x <0  \n",
    "\\end{cases}\n",
    "\\end{align}"
   ]
  },
  {
   "cell_type": "code",
   "execution_count": 179,
   "metadata": {
    "ExecuteTime": {
     "end_time": "2022-06-23T06:23:04.716578Z",
     "start_time": "2022-06-23T06:23:04.704614Z"
    },
    "id": "5DlHTv-VkYEo"
   },
   "outputs": [],
   "source": [
    "def SELU_grad(x, alpha=1):\n",
    "    return np.where(x>=0, 1, alpha*(np.exp(x)))"
   ]
  },
  {
   "cell_type": "markdown",
   "metadata": {
    "id": "9fQgzGW7MGXO"
   },
   "source": [
    "* 시각화\n",
    "  * $\\alpha$ 값이 각각 0.1, 1, 2 일때 플롯을 그리세요."
   ]
  },
  {
   "cell_type": "code",
   "execution_count": 197,
   "metadata": {
    "ExecuteTime": {
     "end_time": "2022-06-23T06:33:45.882898Z",
     "start_time": "2022-06-23T06:33:45.383239Z"
    },
    "id": "PQsWOKX8MGXO"
   },
   "outputs": [
    {
     "data": {
      "image/png": "[encoded data removed]",
      "text/plain": [
       "<Figure size 576x864 with 3 Axes>"
      ]
     },
     "metadata": {
      "needs_background": "light"
     },
     "output_type": "display_data"
    }
   ],
   "source": [
    "xs = np.linspace(-9,9, 500)\n",
    "plt.figure(figsize=(8,12))\n",
    "plt.subplot(3,1,1)\n",
    "plt.plot(xs, SELU(xs, alpha=0.1), label=\"SELU\", color=\"blue\")\n",
    "plt.plot(xs, SELU_grad(xs, alpha=0.1), label=\"SELU_grad\", color=\"green\")\n",
    "plt.title(\"SELU - alpha=0.1\")\n",
    "plt.hlines(xmin=-9, xmax=9, y=0, colors='r', linestyles=':')\n",
    "plt.hlines(xmin=-9, xmax=9, y=-0.1, colors='r', linestyles=':')\n",
    "plt.scatter(0,1, color=\"black\")\n",
    "plt.scatter(2.5,2.5, color=\"black\")\n",
    "plt.scatter(0,0.1, color=\"black\")\n",
    "plt.text(7.5, 0.1, \"y=0\",color=\"red\")\n",
    "plt.text(7.5, -0.3, \"y=-0.1\",color=\"red\")\n",
    "plt.ylim(-1.5, 3)\n",
    "plt.grid()\n",
    "plt.legend()\n",
    "\n",
    "plt.subplot(3,1,2)\n",
    "plt.plot(xs, SELU(xs, alpha=1), label=\"SELU\", color=\"blue\")\n",
    "plt.plot(xs, SELU_grad(xs, alpha=1), label=\"SELU_grad\", color=\"green\")\n",
    "plt.title(\"SELU - alpha=1\")\n",
    "plt.hlines(xmin=-9, xmax=9, y=0, colors='r', linestyles=':')\n",
    "plt.hlines(xmin=-9, xmax=9, y=-1, colors='r', linestyles=':')\n",
    "plt.scatter(0,1, color=\"black\")\n",
    "plt.scatter(2.5,2.5, color=\"black\")\n",
    "plt.text(7.5, 0.1, \"y=0\",color=\"red\")\n",
    "plt.text(7.5, -1.2, \"y=-1\",color=\"red\")\n",
    "plt.ylim(-1.5, 3)\n",
    "plt.grid()\n",
    "plt.legend()\n",
    "\n",
    "plt.subplot(3,1,3)\n",
    "plt.plot(xs, SELU(xs, alpha=2), label=\"SELU\", color=\"blue\")\n",
    "plt.plot(xs, SELU_grad(xs, alpha=2), label=\"SELU_grad\", color=\"green\")\n",
    "plt.title(\"SELU - alpha=2\")\n",
    "plt.hlines(xmin=-9, xmax=9, y=0, colors='r', linestyles=':')\n",
    "plt.hlines(xmin=-9, xmax=9, y=-2, colors='r', linestyles=':')\n",
    "plt.text(7.5, 0.1, \"y=0\",color=\"red\")\n",
    "plt.text(7.5, -2.3, \"y=-2\",color=\"red\")\n",
    "plt.scatter(0,1, color=\"black\")\n",
    "plt.scatter(2.5,2.5, color=\"black\")\n",
    "plt.scatter(0,2, color=\"black\")\n",
    "plt.ylim(-3.5, 3)\n",
    "plt.grid()\n",
    "plt.legend()\n",
    "plt.show;"
   ]
  },
  {
   "cell_type": "markdown",
   "metadata": {
    "id": "lScBXtP4MGXO"
   },
   "source": [
    "\n",
    "\n",
    "**ELU 및 SeLU 소개**\n",
    "\n",
    "```\n",
    "- # 나오게 된 배경 : ReRU 의 미분 소실문제 해결, PReRU 보다 뛰어난 일반화 성능\n",
    "- # 특징 정리 (출력 범위, 미분 값 등 )\n",
    "    - ReLU 의 모든 장점을 가진다\n",
    "    - ReLU 가 죽는 문제를 보완하였다.\n",
    "    - 출력값이 거의 zero-centered 하다.\n",
    "    - exp(x) 계산으로 계산량이 증가하였다.\n",
    "    - 레이어가 많아졌을때 일반화 성능이 좋아짐\n",
    "- # 알파 값은 보통 어떻게 정해지는가?\n",
    "```\n",
    "\n"
   ]
  },
  {
   "cell_type": "markdown",
   "metadata": {
    "id": "jmJI0rPcK0Lg"
   },
   "source": [
    "## 그래디언트 소실 (Vaniching Gradient)\n",
    "---\n",
    "다음 질문에 답할 수 있도록 내용을 정리하세요.\n",
    "\n",
    "1. 그래디언트 소실 개념\n",
    "2. 딥러닝에서 그래디언트 값이 중요한 이유\n",
    "3. 그래디언트 소실을 방지하기 위한 딥러닝 기법\n",
    "\n",
    "```\n",
    "\n",
    "\n",
    "```"
   ]
  },
  {
   "cell_type": "code",
   "execution_count": null,
   "metadata": {
    "id": "UwJdVUnqkL7i"
   },
   "outputs": [],
   "source": []
  }
 ],
 "metadata": {
  "colab": {
   "authorship_tag": "ABX9TyP1EtD5CO5UvkhRYcwKOyq9",
   "collapsed_sections": [],
   "include_colab_link": true,
   "name": "ch01_01_DNN기초-기본레이어.ipynb",
   "provenance": []
  },
  "kernelspec": {
   "display_name": "Python 3 (ipykernel)",
   "language": "python",
   "name": "python3"
  },
  "language_info": {
   "codemirror_mode": {
    "name": "ipython",
    "version": 3
   },
   "file_extension": ".py",
   "mimetype": "text/x-python",
   "name": "python",
   "nbconvert_exporter": "python",
   "pygments_lexer": "ipython3",
   "version": "3.9.0"
  },
  "toc": {
   "base_numbering": 1,
   "nav_menu": {},
   "number_sections": true,
   "sideBar": true,
   "skip_h1_title": false,
   "title_cell": "Table of Contents",
   "title_sidebar": "Contents",
   "toc_cell": false,
   "toc_position": {},
   "toc_section_display": true,
   "toc_window_display": false
  }
 },
 "nbformat": 4,
 "nbformat_minor": 1
}
