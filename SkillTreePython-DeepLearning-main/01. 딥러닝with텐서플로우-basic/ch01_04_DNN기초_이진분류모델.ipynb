{
 "cells": [
  {
   "cell_type": "markdown",
   "metadata": {
    "id": "sWs2kEC1_b-P"
   },
   "source": [
    "# ch01.04 DNN기초 - 이진분류 모델\n",
    "\n",
    "\n",
    "---\n",
    "* 날짜: 2022-06-28\n",
    "* 이름: 고민수\n",
    "\n",
    "## 학습내용\n",
    "    - 딥러닝을 이용한 이진분류 모델 구현\n",
    "    - 적절한 손실함수와 최적화 함수 정의\n",
    "    - 평가 및 예측\n",
    "\n",
    "## 학습자료\n",
    "\n",
    "* 모두의딥러닝 11장, 13장\n",
    "* 데이터\n",
    "  * `sornar.csv`\n",
    "  * `pima-indians-diabetes.csv`\n",
    "\n",
    "\n",
    "```\n",
    "import numpy as np\n",
    "import pandas as pd\n",
    "import tensorflow as tf\n",
    "import matplotlib.pyplot as plt\n",
    "import seaborn as sns\n",
    "seed=1\n",
    "np.random.seed(seed)\n",
    "tf.random.set_seed(seed)\n",
    "```\n",
    "\n",
    "```\n",
    "https://github.com/yebiny/SkillTreePython-DeepLearning.git\n",
    "```"
   ]
  },
  {
   "cell_type": "code",
   "execution_count": 2,
   "metadata": {
    "ExecuteTime": {
     "end_time": "2022-06-28T02:05:20.820414Z",
     "start_time": "2022-06-28T02:05:20.796399Z"
    }
   },
   "outputs": [
    {
     "name": "stdout",
     "output_type": "stream",
     "text": [
      "Hangul OK in your window!\n"
     ]
    }
   ],
   "source": [
    "import set_matplotlib_hangul"
   ]
  },
  {
   "cell_type": "code",
   "execution_count": 8,
   "metadata": {
    "ExecuteTime": {
     "end_time": "2022-06-28T02:06:49.718034Z",
     "start_time": "2022-06-28T02:06:49.702004Z"
    }
   },
   "outputs": [],
   "source": [
    "import warnings\n",
    "warnings.filterwarnings(action='ignore')\n",
    "\n",
    "plt.rc(\"axes\", unicode_minus=False) # 음수값 깨지는 폰트 설정\n",
    "pd.options.display.max_columns = 20 # 칼럼수 50개까지\n",
    "\n",
    "show = {\"show_shapes\":True, \"show_dtype\":True, \"show_layer_names\":True, \"show_layer_activations\":True}"
   ]
  },
  {
   "cell_type": "code",
   "execution_count": 1,
   "metadata": {
    "ExecuteTime": {
     "end_time": "2022-06-28T02:05:11.491515Z",
     "start_time": "2022-06-28T02:05:03.953879Z"
    },
    "id": "3dvXKSSnDQ9V"
   },
   "outputs": [],
   "source": [
    "import numpy as np\n",
    "import pandas as pd\n",
    "import tensorflow as tf\n",
    "import matplotlib.pyplot as plt\n",
    "import seaborn as sns\n",
    "seed=1\n",
    "np.random.seed(seed)\n",
    "tf.random.set_seed(seed)"
   ]
  },
  {
   "cell_type": "code",
   "execution_count": null,
   "metadata": {
    "id": "VIgPnWNbUt_X"
   },
   "outputs": [],
   "source": []
  },
  {
   "cell_type": "markdown",
   "metadata": {
    "id": "KOmt3w8_rVe2"
   },
   "source": [
    "## 소나 데이터 광물 예측\n",
    "---\n",
    "\n",
    "> 1988년 존스홉킨스 대학교의 세즈노프스키(Sejnowski) 교수는 광석과 일반 돌을 가져다 놓고 음파 탐지기를 쏜 후 그 결과를 데이터를 정리했습니다. 신경망이 광석과 돌을 얼마나 잘 구분하는지 알아보도록 합시다.\n",
    "\n",
    "```\n",
    "- 0~59 : 음파 탐지기를 이용해 얻은 값\n",
    "- 60: 광석 구분 {R, M}\n",
    "```\n",
    "<p align='center'>\n",
    "<img src=https://github.com/yebiny/SkillTreePython-DeepLearning/blob/main/imgs/ch0104-01.PNG?raw=true width=450>\n",
    "</p>\n",
    "\n",
    "\n"
   ]
  },
  {
   "cell_type": "markdown",
   "metadata": {
    "id": "TmgkVAdIfngb"
   },
   "source": [
    "### | 데이터 준비"
   ]
  },
  {
   "cell_type": "markdown",
   "metadata": {
    "id": "cHXodXKif2BB"
   },
   "source": [
    "#### **데이터 로드**\n",
    "* `sonar.csv`"
   ]
  },
  {
   "cell_type": "code",
   "execution_count": 10,
   "metadata": {
    "ExecuteTime": {
     "end_time": "2022-06-28T02:07:42.093519Z",
     "start_time": "2022-06-28T02:07:42.037484Z"
    },
    "id": "2sh64rMrANLD"
   },
   "outputs": [
    {
     "name": "stdout",
     "output_type": "stream",
     "text": [
      "(208, 61)\n"
     ]
    },
    {
     "data": {
      "text/html": [
       "<div>\n",
       "<style scoped>\n",
       "    .dataframe tbody tr th:only-of-type {\n",
       "        vertical-align: middle;\n",
       "    }\n",
       "\n",
       "    .dataframe tbody tr th {\n",
       "        vertical-align: top;\n",
       "    }\n",
       "\n",
       "    .dataframe thead th {\n",
       "        text-align: right;\n",
       "    }\n",
       "</style>\n",
       "<table border=\"1\" class=\"dataframe\">\n",
       "  <thead>\n",
       "    <tr style=\"text-align: right;\">\n",
       "      <th></th>\n",
       "      <th>0</th>\n",
       "      <th>1</th>\n",
       "      <th>2</th>\n",
       "      <th>3</th>\n",
       "      <th>4</th>\n",
       "      <th>5</th>\n",
       "      <th>6</th>\n",
       "      <th>7</th>\n",
       "      <th>8</th>\n",
       "      <th>9</th>\n",
       "      <th>...</th>\n",
       "      <th>51</th>\n",
       "      <th>52</th>\n",
       "      <th>53</th>\n",
       "      <th>54</th>\n",
       "      <th>55</th>\n",
       "      <th>56</th>\n",
       "      <th>57</th>\n",
       "      <th>58</th>\n",
       "      <th>59</th>\n",
       "      <th>60</th>\n",
       "    </tr>\n",
       "  </thead>\n",
       "  <tbody>\n",
       "    <tr>\n",
       "      <th>0</th>\n",
       "      <td>0.0200</td>\n",
       "      <td>0.0371</td>\n",
       "      <td>0.0428</td>\n",
       "      <td>0.0207</td>\n",
       "      <td>0.0954</td>\n",
       "      <td>0.0986</td>\n",
       "      <td>0.1539</td>\n",
       "      <td>0.1601</td>\n",
       "      <td>0.3109</td>\n",
       "      <td>0.2111</td>\n",
       "      <td>...</td>\n",
       "      <td>0.0027</td>\n",
       "      <td>0.0065</td>\n",
       "      <td>0.0159</td>\n",
       "      <td>0.0072</td>\n",
       "      <td>0.0167</td>\n",
       "      <td>0.0180</td>\n",
       "      <td>0.0084</td>\n",
       "      <td>0.0090</td>\n",
       "      <td>0.0032</td>\n",
       "      <td>R</td>\n",
       "    </tr>\n",
       "    <tr>\n",
       "      <th>1</th>\n",
       "      <td>0.0453</td>\n",
       "      <td>0.0523</td>\n",
       "      <td>0.0843</td>\n",
       "      <td>0.0689</td>\n",
       "      <td>0.1183</td>\n",
       "      <td>0.2583</td>\n",
       "      <td>0.2156</td>\n",
       "      <td>0.3481</td>\n",
       "      <td>0.3337</td>\n",
       "      <td>0.2872</td>\n",
       "      <td>...</td>\n",
       "      <td>0.0084</td>\n",
       "      <td>0.0089</td>\n",
       "      <td>0.0048</td>\n",
       "      <td>0.0094</td>\n",
       "      <td>0.0191</td>\n",
       "      <td>0.0140</td>\n",
       "      <td>0.0049</td>\n",
       "      <td>0.0052</td>\n",
       "      <td>0.0044</td>\n",
       "      <td>R</td>\n",
       "    </tr>\n",
       "    <tr>\n",
       "      <th>2</th>\n",
       "      <td>0.0262</td>\n",
       "      <td>0.0582</td>\n",
       "      <td>0.1099</td>\n",
       "      <td>0.1083</td>\n",
       "      <td>0.0974</td>\n",
       "      <td>0.2280</td>\n",
       "      <td>0.2431</td>\n",
       "      <td>0.3771</td>\n",
       "      <td>0.5598</td>\n",
       "      <td>0.6194</td>\n",
       "      <td>...</td>\n",
       "      <td>0.0232</td>\n",
       "      <td>0.0166</td>\n",
       "      <td>0.0095</td>\n",
       "      <td>0.0180</td>\n",
       "      <td>0.0244</td>\n",
       "      <td>0.0316</td>\n",
       "      <td>0.0164</td>\n",
       "      <td>0.0095</td>\n",
       "      <td>0.0078</td>\n",
       "      <td>R</td>\n",
       "    </tr>\n",
       "    <tr>\n",
       "      <th>3</th>\n",
       "      <td>0.0100</td>\n",
       "      <td>0.0171</td>\n",
       "      <td>0.0623</td>\n",
       "      <td>0.0205</td>\n",
       "      <td>0.0205</td>\n",
       "      <td>0.0368</td>\n",
       "      <td>0.1098</td>\n",
       "      <td>0.1276</td>\n",
       "      <td>0.0598</td>\n",
       "      <td>0.1264</td>\n",
       "      <td>...</td>\n",
       "      <td>0.0121</td>\n",
       "      <td>0.0036</td>\n",
       "      <td>0.0150</td>\n",
       "      <td>0.0085</td>\n",
       "      <td>0.0073</td>\n",
       "      <td>0.0050</td>\n",
       "      <td>0.0044</td>\n",
       "      <td>0.0040</td>\n",
       "      <td>0.0117</td>\n",
       "      <td>R</td>\n",
       "    </tr>\n",
       "    <tr>\n",
       "      <th>4</th>\n",
       "      <td>0.0762</td>\n",
       "      <td>0.0666</td>\n",
       "      <td>0.0481</td>\n",
       "      <td>0.0394</td>\n",
       "      <td>0.0590</td>\n",
       "      <td>0.0649</td>\n",
       "      <td>0.1209</td>\n",
       "      <td>0.2467</td>\n",
       "      <td>0.3564</td>\n",
       "      <td>0.4459</td>\n",
       "      <td>...</td>\n",
       "      <td>0.0031</td>\n",
       "      <td>0.0054</td>\n",
       "      <td>0.0105</td>\n",
       "      <td>0.0110</td>\n",
       "      <td>0.0015</td>\n",
       "      <td>0.0072</td>\n",
       "      <td>0.0048</td>\n",
       "      <td>0.0107</td>\n",
       "      <td>0.0094</td>\n",
       "      <td>R</td>\n",
       "    </tr>\n",
       "    <tr>\n",
       "      <th>...</th>\n",
       "      <td>...</td>\n",
       "      <td>...</td>\n",
       "      <td>...</td>\n",
       "      <td>...</td>\n",
       "      <td>...</td>\n",
       "      <td>...</td>\n",
       "      <td>...</td>\n",
       "      <td>...</td>\n",
       "      <td>...</td>\n",
       "      <td>...</td>\n",
       "      <td>...</td>\n",
       "      <td>...</td>\n",
       "      <td>...</td>\n",
       "      <td>...</td>\n",
       "      <td>...</td>\n",
       "      <td>...</td>\n",
       "      <td>...</td>\n",
       "      <td>...</td>\n",
       "      <td>...</td>\n",
       "      <td>...</td>\n",
       "      <td>...</td>\n",
       "    </tr>\n",
       "    <tr>\n",
       "      <th>203</th>\n",
       "      <td>0.0187</td>\n",
       "      <td>0.0346</td>\n",
       "      <td>0.0168</td>\n",
       "      <td>0.0177</td>\n",
       "      <td>0.0393</td>\n",
       "      <td>0.1630</td>\n",
       "      <td>0.2028</td>\n",
       "      <td>0.1694</td>\n",
       "      <td>0.2328</td>\n",
       "      <td>0.2684</td>\n",
       "      <td>...</td>\n",
       "      <td>0.0116</td>\n",
       "      <td>0.0098</td>\n",
       "      <td>0.0199</td>\n",
       "      <td>0.0033</td>\n",
       "      <td>0.0101</td>\n",
       "      <td>0.0065</td>\n",
       "      <td>0.0115</td>\n",
       "      <td>0.0193</td>\n",
       "      <td>0.0157</td>\n",
       "      <td>M</td>\n",
       "    </tr>\n",
       "    <tr>\n",
       "      <th>204</th>\n",
       "      <td>0.0323</td>\n",
       "      <td>0.0101</td>\n",
       "      <td>0.0298</td>\n",
       "      <td>0.0564</td>\n",
       "      <td>0.0760</td>\n",
       "      <td>0.0958</td>\n",
       "      <td>0.0990</td>\n",
       "      <td>0.1018</td>\n",
       "      <td>0.1030</td>\n",
       "      <td>0.2154</td>\n",
       "      <td>...</td>\n",
       "      <td>0.0061</td>\n",
       "      <td>0.0093</td>\n",
       "      <td>0.0135</td>\n",
       "      <td>0.0063</td>\n",
       "      <td>0.0063</td>\n",
       "      <td>0.0034</td>\n",
       "      <td>0.0032</td>\n",
       "      <td>0.0062</td>\n",
       "      <td>0.0067</td>\n",
       "      <td>M</td>\n",
       "    </tr>\n",
       "    <tr>\n",
       "      <th>205</th>\n",
       "      <td>0.0522</td>\n",
       "      <td>0.0437</td>\n",
       "      <td>0.0180</td>\n",
       "      <td>0.0292</td>\n",
       "      <td>0.0351</td>\n",
       "      <td>0.1171</td>\n",
       "      <td>0.1257</td>\n",
       "      <td>0.1178</td>\n",
       "      <td>0.1258</td>\n",
       "      <td>0.2529</td>\n",
       "      <td>...</td>\n",
       "      <td>0.0160</td>\n",
       "      <td>0.0029</td>\n",
       "      <td>0.0051</td>\n",
       "      <td>0.0062</td>\n",
       "      <td>0.0089</td>\n",
       "      <td>0.0140</td>\n",
       "      <td>0.0138</td>\n",
       "      <td>0.0077</td>\n",
       "      <td>0.0031</td>\n",
       "      <td>M</td>\n",
       "    </tr>\n",
       "    <tr>\n",
       "      <th>206</th>\n",
       "      <td>0.0303</td>\n",
       "      <td>0.0353</td>\n",
       "      <td>0.0490</td>\n",
       "      <td>0.0608</td>\n",
       "      <td>0.0167</td>\n",
       "      <td>0.1354</td>\n",
       "      <td>0.1465</td>\n",
       "      <td>0.1123</td>\n",
       "      <td>0.1945</td>\n",
       "      <td>0.2354</td>\n",
       "      <td>...</td>\n",
       "      <td>0.0086</td>\n",
       "      <td>0.0046</td>\n",
       "      <td>0.0126</td>\n",
       "      <td>0.0036</td>\n",
       "      <td>0.0035</td>\n",
       "      <td>0.0034</td>\n",
       "      <td>0.0079</td>\n",
       "      <td>0.0036</td>\n",
       "      <td>0.0048</td>\n",
       "      <td>M</td>\n",
       "    </tr>\n",
       "    <tr>\n",
       "      <th>207</th>\n",
       "      <td>0.0260</td>\n",
       "      <td>0.0363</td>\n",
       "      <td>0.0136</td>\n",
       "      <td>0.0272</td>\n",
       "      <td>0.0214</td>\n",
       "      <td>0.0338</td>\n",
       "      <td>0.0655</td>\n",
       "      <td>0.1400</td>\n",
       "      <td>0.1843</td>\n",
       "      <td>0.2354</td>\n",
       "      <td>...</td>\n",
       "      <td>0.0146</td>\n",
       "      <td>0.0129</td>\n",
       "      <td>0.0047</td>\n",
       "      <td>0.0039</td>\n",
       "      <td>0.0061</td>\n",
       "      <td>0.0040</td>\n",
       "      <td>0.0036</td>\n",
       "      <td>0.0061</td>\n",
       "      <td>0.0115</td>\n",
       "      <td>M</td>\n",
       "    </tr>\n",
       "  </tbody>\n",
       "</table>\n",
       "<p>208 rows × 61 columns</p>\n",
       "</div>"
      ],
      "text/plain": [
       "         0       1       2       3       4       5       6       7       8   \\\n",
       "0    0.0200  0.0371  0.0428  0.0207  0.0954  0.0986  0.1539  0.1601  0.3109   \n",
       "1    0.0453  0.0523  0.0843  0.0689  0.1183  0.2583  0.2156  0.3481  0.3337   \n",
       "2    0.0262  0.0582  0.1099  0.1083  0.0974  0.2280  0.2431  0.3771  0.5598   \n",
       "3    0.0100  0.0171  0.0623  0.0205  0.0205  0.0368  0.1098  0.1276  0.0598   \n",
       "4    0.0762  0.0666  0.0481  0.0394  0.0590  0.0649  0.1209  0.2467  0.3564   \n",
       "..      ...     ...     ...     ...     ...     ...     ...     ...     ...   \n",
       "203  0.0187  0.0346  0.0168  0.0177  0.0393  0.1630  0.2028  0.1694  0.2328   \n",
       "204  0.0323  0.0101  0.0298  0.0564  0.0760  0.0958  0.0990  0.1018  0.1030   \n",
       "205  0.0522  0.0437  0.0180  0.0292  0.0351  0.1171  0.1257  0.1178  0.1258   \n",
       "206  0.0303  0.0353  0.0490  0.0608  0.0167  0.1354  0.1465  0.1123  0.1945   \n",
       "207  0.0260  0.0363  0.0136  0.0272  0.0214  0.0338  0.0655  0.1400  0.1843   \n",
       "\n",
       "         9   ...      51      52      53      54      55      56      57  \\\n",
       "0    0.2111  ...  0.0027  0.0065  0.0159  0.0072  0.0167  0.0180  0.0084   \n",
       "1    0.2872  ...  0.0084  0.0089  0.0048  0.0094  0.0191  0.0140  0.0049   \n",
       "2    0.6194  ...  0.0232  0.0166  0.0095  0.0180  0.0244  0.0316  0.0164   \n",
       "3    0.1264  ...  0.0121  0.0036  0.0150  0.0085  0.0073  0.0050  0.0044   \n",
       "4    0.4459  ...  0.0031  0.0054  0.0105  0.0110  0.0015  0.0072  0.0048   \n",
       "..      ...  ...     ...     ...     ...     ...     ...     ...     ...   \n",
       "203  0.2684  ...  0.0116  0.0098  0.0199  0.0033  0.0101  0.0065  0.0115   \n",
       "204  0.2154  ...  0.0061  0.0093  0.0135  0.0063  0.0063  0.0034  0.0032   \n",
       "205  0.2529  ...  0.0160  0.0029  0.0051  0.0062  0.0089  0.0140  0.0138   \n",
       "206  0.2354  ...  0.0086  0.0046  0.0126  0.0036  0.0035  0.0034  0.0079   \n",
       "207  0.2354  ...  0.0146  0.0129  0.0047  0.0039  0.0061  0.0040  0.0036   \n",
       "\n",
       "         58      59  60  \n",
       "0    0.0090  0.0032   R  \n",
       "1    0.0052  0.0044   R  \n",
       "2    0.0095  0.0078   R  \n",
       "3    0.0040  0.0117   R  \n",
       "4    0.0107  0.0094   R  \n",
       "..      ...     ...  ..  \n",
       "203  0.0193  0.0157   M  \n",
       "204  0.0062  0.0067   M  \n",
       "205  0.0077  0.0031   M  \n",
       "206  0.0036  0.0048   M  \n",
       "207  0.0061  0.0115   M  \n",
       "\n",
       "[208 rows x 61 columns]"
      ]
     },
     "execution_count": 10,
     "metadata": {},
     "output_type": "execute_result"
    }
   ],
   "source": [
    "df = pd.read_csv(\"../../dataset/preprocessed/sonar.csv\", header=None)\n",
    "print(df.shape)\n",
    "df"
   ]
  },
  {
   "cell_type": "markdown",
   "metadata": {
    "id": "0NL7LyHXrhoW"
   },
   "source": [
    "#### **데이터 전처리**"
   ]
  },
  {
   "cell_type": "code",
   "execution_count": 15,
   "metadata": {
    "ExecuteTime": {
     "end_time": "2022-06-28T02:16:59.964890Z",
     "start_time": "2022-06-28T02:16:59.931627Z"
    },
    "id": "CoWLi5NgraBV"
   },
   "outputs": [
    {
     "name": "stdout",
     "output_type": "stream",
     "text": [
      "(166, 60) (42, 60) (166,) (42,)\n",
      "[-0.49983222 -0.25658101 -0.3921212  -0.31222667 -0.2201866  -0.88140067\n",
      " -0.85897691 -0.84168755 -0.97883716 -1.09595572 -0.51375055  0.69688292\n",
      "  1.29989349  1.35442271  1.51561473  1.47190042  0.37756954 -0.2702886\n",
      " -0.93411793 -0.87224661 -0.47652108  0.15092025  0.36832867  1.04236156\n",
      "  1.32839681  0.3174794  -0.58292446 -0.32467513  0.92387253  0.35542998\n",
      " -0.12870439  0.27857552 -0.40880204 -0.41456169 -0.40606454 -0.61577476\n",
      " -1.18832073 -1.31486515 -1.112309   -1.40607397 -0.79819858 -1.0693377\n",
      " -0.5931235  -0.18030363 -0.5720626   0.23252344  0.27952675 -0.83871818\n",
      " -0.45525544  0.48238715  0.06104129 -0.33505976  0.21167007 -0.8980716\n",
      " -0.25321639  0.73018924  0.36035381 -0.34845747 -0.76888703 -0.91796599] 1\n"
     ]
    }
   ],
   "source": [
    "from sklearn.preprocessing import StandardScaler, LabelEncoder\n",
    "from sklearn.model_selection import train_test_split\n",
    "\n",
    "def path2data_sona(path, seed=1):\n",
    "    # 데이터 적절히 불러오기\n",
    "    df = pd.read_csv(\n",
    "        data_path,\n",
    "        header=None,  # 첫번째 행이 데이터(컬럼이 없음)\n",
    "    )\n",
    "    \n",
    "    # x-y 분할 (values를 통해 numpy로 가져옴)\n",
    "    x = df.values[:, :-1]  # 모든행(샘플), 0부터12까지 열(속성)\n",
    "    y = df.values[:, -1]  # 모든행(샘플), 13번째 열(속성)\n",
    "    \n",
    "    # scaling (x의 모든속성)\n",
    "    scaler = StandardScaler()\n",
    "    x = scaler.fit_transform(x)\n",
    "\n",
    "    # label_encoding (y)\n",
    "    labeling = LabelEncoder()\n",
    "    y = labeling.fit_transform(y)\n",
    "\n",
    "    # train-test 데이터 분할\n",
    "    x_train, x_test, y_train, y_test = train_test_split(x,\n",
    "                                                        y,\n",
    "                                                        test_size=0.2,\n",
    "                                                        stratify=y,\n",
    "                                                        random_state=seed)\n",
    "    return x_train, x_test, y_train, y_test\n",
    "\n",
    "\n",
    "data_path = \"../../dataset/preprocessed/sonar.csv\"\n",
    "x_train, x_test, y_train, y_test = path2data_sona(data_path)\n",
    "print(x_train.shape, x_test.shape, y_train.shape, y_test.shape)\n",
    "print(x_train[1], y_train[1])"
   ]
  },
  {
   "cell_type": "markdown",
   "metadata": {
    "id": "J49Ys-SNBKyS"
   },
   "source": [
    "* 예측값 분포 확인"
   ]
  },
  {
   "cell_type": "code",
   "execution_count": 16,
   "metadata": {
    "ExecuteTime": {
     "end_time": "2022-06-28T02:17:01.101124Z",
     "start_time": "2022-06-28T02:17:00.948532Z"
    },
    "id": "3vlsRwuoBMcY"
   },
   "outputs": [
    {
     "data": {
      "text/plain": [
       "Text(0.5, 1.0, 'testset')"
      ]
     },
     "execution_count": 16,
     "metadata": {},
     "output_type": "execute_result"
    },
    {
     "data": {
      "image/png": "[encoded data removed]",
      "text/plain": [
       "<Figure size 432x288 with 2 Axes>"
      ]
     },
     "metadata": {
      "needs_background": "light"
     },
     "output_type": "display_data"
    }
   ],
   "source": [
    "plt.subplot(121)\n",
    "sns.countplot(x=y_train)\n",
    "plt.title(\"trainset\")\n",
    "plt.subplot(122)\n",
    "sns.countplot(x=y_test)\n",
    "plt.title(\"testset\")"
   ]
  },
  {
   "cell_type": "markdown",
   "metadata": {
    "id": "DHshtWB9r0be"
   },
   "source": [
    "### | 모델\n",
    "\n",
    "\n",
    "<p align='center'>\n",
    "<img src=https://github.com/yebiny/SkillTreePython-DeepLearning/blob/main/imgs/ch0104-02.PNG?raw=true width=500>\n",
    "</p>\n"
   ]
  },
  {
   "cell_type": "markdown",
   "metadata": {
    "id": "J94jFpWyr2k9"
   },
   "source": [
    "#### **모델 생성**"
   ]
  },
  {
   "cell_type": "code",
   "execution_count": 27,
   "metadata": {
    "ExecuteTime": {
     "end_time": "2022-06-28T02:25:40.750834Z",
     "start_time": "2022-06-28T02:25:40.738902Z"
    },
    "id": "5BZG1z90rsGc"
   },
   "outputs": [],
   "source": [
    "from tensorflow.keras import models, layers, utils\n",
    "\n",
    "def build_model():\n",
    "    x = layers.Input(shape=(60, ))  # 데이터가 주어지면 인풋의 shape는 고정\n",
    "    z = layers.Dense(30, activation='relu')(x)\n",
    "    y = layers.Dense(1, activation=\"sigmoid\")(z)  # 데이터가 주어지면 아웃풋의  shape는 고정\n",
    "    #( 이진분류문제는 마지막 아웃풋 shape가 1)\n",
    "    model = models.Model(x, y, name='sona_classifier')\n",
    "    return model"
   ]
  },
  {
   "cell_type": "markdown",
   "metadata": {
    "id": "1yqXLbEyx5QK"
   },
   "source": [
    "#### **모델 시각화**\n",
    "\n",
    "* `model.summary()`\n",
    "* `utils.plot_model()`"
   ]
  },
  {
   "cell_type": "code",
   "execution_count": 28,
   "metadata": {
    "ExecuteTime": {
     "end_time": "2022-06-28T02:25:42.008816Z",
     "start_time": "2022-06-28T02:25:41.690838Z"
    },
    "id": "dKCT38Fsr6dF"
   },
   "outputs": [
    {
     "name": "stdout",
     "output_type": "stream",
     "text": [
      "Model: \"sona_classifier\"\n",
      "_________________________________________________________________\n",
      " Layer (type)                Output Shape              Param #   \n",
      "=================================================================\n",
      " input_3 (InputLayer)        [(None, 60)]              0         \n",
      "                                                                 \n",
      " dense_4 (Dense)             (None, 30)                1830      \n",
      "                                                                 \n",
      " dense_5 (Dense)             (None, 1)                 31        \n",
      "                                                                 \n",
      "=================================================================\n",
      "Total params: 1,861\n",
      "Trainable params: 1,861\n",
      "Non-trainable params: 0\n",
      "_________________________________________________________________\n"
     ]
    },
    {
     "data": {
      "image/png": "[encoded data removed]",
      "text/plain": [
       "<IPython.core.display.Image object>"
      ]
     },
     "execution_count": 28,
     "metadata": {},
     "output_type": "execute_result"
    }
   ],
   "source": [
    "model = build_model()\n",
    "model.summary()\n",
    "utils.plot_model(model, show_shapes=True)"
   ]
  },
  {
   "cell_type": "markdown",
   "metadata": {
    "id": "gLuvsUFmwzPa"
   },
   "source": [
    "### | 학습"
   ]
  },
  {
   "cell_type": "markdown",
   "metadata": {
    "id": "fwQboNHp3EHe"
   },
   "source": [
    "#### **모델 컴파일**\n",
    "\n",
    "```\n",
    "model.compile(loss, optimizer, metrics) \n",
    "```\n",
    "* `loss` : \"binary_crossentropy\"\n",
    "* `optimizer` : \"adam\"\n",
    "* `metrics`: \"accuracy\"\n"
   ]
  },
  {
   "cell_type": "code",
   "execution_count": 29,
   "metadata": {
    "ExecuteTime": {
     "end_time": "2022-06-28T02:25:42.799462Z",
     "start_time": "2022-06-28T02:25:42.779079Z"
    },
    "id": "SASPIskxgfRY"
   },
   "outputs": [],
   "source": [
    "model.compile(loss=\"binary_crossentropy\",\n",
    "              optimizer=\"adam\",\n",
    "              metrics=[\"accuracy\"])"
   ]
  },
  {
   "cell_type": "markdown",
   "metadata": {
    "id": "JukUpWB4gfRY"
   },
   "source": [
    "#### **학습**\n",
    "\n",
    "```\n",
    "model.fit(x_train, y_train, epochs, batch_size)\n",
    "```\n",
    "* `x_train` : 넘파이 혹은 텐서 형식의 인풋 데이터\n",
    "* `y_train` : 넘파이 혹은 텐서 형식의 아웃풋 데이터\n",
    "* `epochs` : 학습 횟수\n",
    "* `batch_size` : 배치 사이즈 (업데이트 한번에 사용될 샘플 개수)"
   ]
  },
  {
   "cell_type": "code",
   "execution_count": 30,
   "metadata": {
    "ExecuteTime": {
     "end_time": "2022-06-28T02:25:46.099861Z",
     "start_time": "2022-06-28T02:25:44.306488Z"
    },
    "id": "9bgbpUhogfRY"
   },
   "outputs": [
    {
     "name": "stdout",
     "output_type": "stream",
     "text": [
      "Epoch 1/100\n",
      "11/11 - 0s - loss: 0.7068 - accuracy: 0.5663 - 322ms/epoch - 29ms/step\n",
      "Epoch 2/100\n",
      "11/11 - 0s - loss: 0.5852 - accuracy: 0.7108 - 27ms/epoch - 2ms/step\n",
      "Epoch 3/100\n",
      "11/11 - 0s - loss: 0.5060 - accuracy: 0.7831 - 14ms/epoch - 1ms/step\n",
      "Epoch 4/100\n",
      "11/11 - 0s - loss: 0.4544 - accuracy: 0.8133 - 13ms/epoch - 1ms/step\n",
      "Epoch 5/100\n",
      "11/11 - 0s - loss: 0.4168 - accuracy: 0.8434 - 12ms/epoch - 1ms/step\n",
      "Epoch 6/100\n",
      "11/11 - 0s - loss: 0.3868 - accuracy: 0.8795 - 13ms/epoch - 1ms/step\n",
      "Epoch 7/100\n",
      "11/11 - 0s - loss: 0.3614 - accuracy: 0.8855 - 14ms/epoch - 1ms/step\n",
      "Epoch 8/100\n",
      "11/11 - 0s - loss: 0.3374 - accuracy: 0.8916 - 19ms/epoch - 2ms/step\n",
      "Epoch 9/100\n",
      "11/11 - 0s - loss: 0.3156 - accuracy: 0.9096 - 18ms/epoch - 2ms/step\n",
      "Epoch 10/100\n",
      "11/11 - 0s - loss: 0.2979 - accuracy: 0.9277 - 19ms/epoch - 2ms/step\n",
      "Epoch 11/100\n",
      "11/11 - 0s - loss: 0.2808 - accuracy: 0.9277 - 19ms/epoch - 2ms/step\n",
      "Epoch 12/100\n",
      "11/11 - 0s - loss: 0.2644 - accuracy: 0.9398 - 15ms/epoch - 1ms/step\n",
      "Epoch 13/100\n",
      "11/11 - 0s - loss: 0.2506 - accuracy: 0.9398 - 15ms/epoch - 1ms/step\n",
      "Epoch 14/100\n",
      "11/11 - 0s - loss: 0.2376 - accuracy: 0.9458 - 13ms/epoch - 1ms/step\n",
      "Epoch 15/100\n",
      "11/11 - 0s - loss: 0.2258 - accuracy: 0.9518 - 11ms/epoch - 998us/step\n",
      "Epoch 16/100\n",
      "11/11 - 0s - loss: 0.2140 - accuracy: 0.9518 - 10ms/epoch - 907us/step\n",
      "Epoch 17/100\n",
      "11/11 - 0s - loss: 0.2040 - accuracy: 0.9639 - 13ms/epoch - 1ms/step\n",
      "Epoch 18/100\n",
      "11/11 - 0s - loss: 0.1935 - accuracy: 0.9699 - 12ms/epoch - 1ms/step\n",
      "Epoch 19/100\n",
      "11/11 - 0s - loss: 0.1853 - accuracy: 0.9819 - 11ms/epoch - 997us/step\n",
      "Epoch 20/100\n",
      "11/11 - 0s - loss: 0.1769 - accuracy: 0.9819 - 10ms/epoch - 907us/step\n",
      "Epoch 21/100\n",
      "11/11 - 0s - loss: 0.1689 - accuracy: 0.9819 - 11ms/epoch - 994us/step\n",
      "Epoch 22/100\n",
      "11/11 - 0s - loss: 0.1609 - accuracy: 0.9880 - 15ms/epoch - 1ms/step\n",
      "Epoch 23/100\n",
      "11/11 - 0s - loss: 0.1542 - accuracy: 1.0000 - 14ms/epoch - 1ms/step\n",
      "Epoch 24/100\n",
      "11/11 - 0s - loss: 0.1470 - accuracy: 1.0000 - 14ms/epoch - 1ms/step\n",
      "Epoch 25/100\n",
      "11/11 - 0s - loss: 0.1404 - accuracy: 1.0000 - 13ms/epoch - 1ms/step\n",
      "Epoch 26/100\n",
      "11/11 - 0s - loss: 0.1340 - accuracy: 1.0000 - 12ms/epoch - 1ms/step\n",
      "Epoch 27/100\n",
      "11/11 - 0s - loss: 0.1283 - accuracy: 1.0000 - 9ms/epoch - 816us/step\n",
      "Epoch 28/100\n",
      "11/11 - 0s - loss: 0.1234 - accuracy: 1.0000 - 12ms/epoch - 1ms/step\n",
      "Epoch 29/100\n",
      "11/11 - 0s - loss: 0.1175 - accuracy: 1.0000 - 14ms/epoch - 1ms/step\n",
      "Epoch 30/100\n",
      "11/11 - 0s - loss: 0.1126 - accuracy: 1.0000 - 14ms/epoch - 1ms/step\n",
      "Epoch 31/100\n",
      "11/11 - 0s - loss: 0.1072 - accuracy: 1.0000 - 13ms/epoch - 1ms/step\n",
      "Epoch 32/100\n",
      "11/11 - 0s - loss: 0.1033 - accuracy: 1.0000 - 12ms/epoch - 1ms/step\n",
      "Epoch 33/100\n",
      "11/11 - 0s - loss: 0.0992 - accuracy: 1.0000 - 9ms/epoch - 816us/step\n",
      "Epoch 34/100\n",
      "11/11 - 0s - loss: 0.0948 - accuracy: 1.0000 - 11ms/epoch - 997us/step\n",
      "Epoch 35/100\n",
      "11/11 - 0s - loss: 0.0906 - accuracy: 1.0000 - 13ms/epoch - 1ms/step\n",
      "Epoch 36/100\n",
      "11/11 - 0s - loss: 0.0871 - accuracy: 1.0000 - 14ms/epoch - 1ms/step\n",
      "Epoch 37/100\n",
      "11/11 - 0s - loss: 0.0839 - accuracy: 1.0000 - 13ms/epoch - 1ms/step\n",
      "Epoch 38/100\n",
      "11/11 - 0s - loss: 0.0804 - accuracy: 1.0000 - 10ms/epoch - 907us/step\n",
      "Epoch 39/100\n",
      "11/11 - 0s - loss: 0.0774 - accuracy: 1.0000 - 11ms/epoch - 997us/step\n",
      "Epoch 40/100\n",
      "11/11 - 0s - loss: 0.0743 - accuracy: 1.0000 - 13ms/epoch - 1ms/step\n",
      "Epoch 41/100\n",
      "11/11 - 0s - loss: 0.0714 - accuracy: 1.0000 - 13ms/epoch - 1ms/step\n",
      "Epoch 42/100\n",
      "11/11 - 0s - loss: 0.0690 - accuracy: 1.0000 - 13ms/epoch - 1ms/step\n",
      "Epoch 43/100\n",
      "11/11 - 0s - loss: 0.0661 - accuracy: 1.0000 - 14ms/epoch - 1ms/step\n",
      "Epoch 44/100\n",
      "11/11 - 0s - loss: 0.0635 - accuracy: 1.0000 - 12ms/epoch - 1ms/step\n",
      "Epoch 45/100\n",
      "11/11 - 0s - loss: 0.0611 - accuracy: 1.0000 - 10ms/epoch - 903us/step\n",
      "Epoch 46/100\n",
      "11/11 - 0s - loss: 0.0590 - accuracy: 1.0000 - 10ms/epoch - 907us/step\n",
      "Epoch 47/100\n",
      "11/11 - 0s - loss: 0.0569 - accuracy: 1.0000 - 13ms/epoch - 1ms/step\n",
      "Epoch 48/100\n",
      "11/11 - 0s - loss: 0.0550 - accuracy: 1.0000 - 13ms/epoch - 1ms/step\n",
      "Epoch 49/100\n",
      "11/11 - 0s - loss: 0.0531 - accuracy: 1.0000 - 12ms/epoch - 1ms/step\n",
      "Epoch 50/100\n",
      "11/11 - 0s - loss: 0.0512 - accuracy: 1.0000 - 13ms/epoch - 1ms/step\n",
      "Epoch 51/100\n",
      "11/11 - 0s - loss: 0.0492 - accuracy: 1.0000 - 10ms/epoch - 904us/step\n",
      "Epoch 52/100\n",
      "11/11 - 0s - loss: 0.0476 - accuracy: 1.0000 - 12ms/epoch - 1ms/step\n",
      "Epoch 53/100\n",
      "11/11 - 0s - loss: 0.0461 - accuracy: 1.0000 - 11ms/epoch - 1000us/step\n",
      "Epoch 54/100\n",
      "11/11 - 0s - loss: 0.0444 - accuracy: 1.0000 - 15ms/epoch - 1ms/step\n",
      "Epoch 55/100\n",
      "11/11 - 0s - loss: 0.0432 - accuracy: 1.0000 - 14ms/epoch - 1ms/step\n",
      "Epoch 56/100\n",
      "11/11 - 0s - loss: 0.0414 - accuracy: 1.0000 - 13ms/epoch - 1ms/step\n",
      "Epoch 57/100\n",
      "11/11 - 0s - loss: 0.0406 - accuracy: 1.0000 - 13ms/epoch - 1ms/step\n",
      "Epoch 58/100\n",
      "11/11 - 0s - loss: 0.0393 - accuracy: 1.0000 - 13ms/epoch - 1ms/step\n",
      "Epoch 59/100\n",
      "11/11 - 0s - loss: 0.0379 - accuracy: 1.0000 - 11ms/epoch - 997us/step\n",
      "Epoch 60/100\n",
      "11/11 - 0s - loss: 0.0366 - accuracy: 1.0000 - 10ms/epoch - 907us/step\n",
      "Epoch 61/100\n",
      "11/11 - 0s - loss: 0.0353 - accuracy: 1.0000 - 13ms/epoch - 1ms/step\n",
      "Epoch 62/100\n",
      "11/11 - 0s - loss: 0.0344 - accuracy: 1.0000 - 13ms/epoch - 1ms/step\n",
      "Epoch 63/100\n",
      "11/11 - 0s - loss: 0.0332 - accuracy: 1.0000 - 12ms/epoch - 1ms/step\n",
      "Epoch 64/100\n",
      "11/11 - 0s - loss: 0.0322 - accuracy: 1.0000 - 12ms/epoch - 1ms/step\n",
      "Epoch 65/100\n",
      "11/11 - 0s - loss: 0.0311 - accuracy: 1.0000 - 11ms/epoch - 995us/step\n",
      "Epoch 66/100\n",
      "11/11 - 0s - loss: 0.0302 - accuracy: 1.0000 - 10ms/epoch - 904us/step\n",
      "Epoch 67/100\n",
      "11/11 - 0s - loss: 0.0293 - accuracy: 1.0000 - 11ms/epoch - 994us/step\n",
      "Epoch 68/100\n",
      "11/11 - 0s - loss: 0.0285 - accuracy: 1.0000 - 10ms/epoch - 907us/step\n",
      "Epoch 69/100\n",
      "11/11 - 0s - loss: 0.0276 - accuracy: 1.0000 - 9ms/epoch - 816us/step\n",
      "Epoch 70/100\n",
      "11/11 - 0s - loss: 0.0268 - accuracy: 1.0000 - 10ms/epoch - 904us/step\n",
      "Epoch 71/100\n",
      "11/11 - 0s - loss: 0.0260 - accuracy: 1.0000 - 10ms/epoch - 904us/step\n",
      "Epoch 72/100\n",
      "11/11 - 0s - loss: 0.0254 - accuracy: 1.0000 - 9ms/epoch - 844us/step\n",
      "Epoch 73/100\n",
      "11/11 - 0s - loss: 0.0247 - accuracy: 1.0000 - 12ms/epoch - 1ms/step\n",
      "Epoch 74/100\n",
      "11/11 - 0s - loss: 0.0239 - accuracy: 1.0000 - 10ms/epoch - 904us/step\n",
      "Epoch 75/100\n",
      "11/11 - 0s - loss: 0.0234 - accuracy: 1.0000 - 10ms/epoch - 906us/step\n",
      "Epoch 76/100\n",
      "11/11 - 0s - loss: 0.0227 - accuracy: 1.0000 - 11ms/epoch - 1ms/step\n",
      "Epoch 77/100\n",
      "11/11 - 0s - loss: 0.0220 - accuracy: 1.0000 - 11ms/epoch - 1ms/step\n",
      "Epoch 78/100\n",
      "11/11 - 0s - loss: 0.0215 - accuracy: 1.0000 - 10ms/epoch - 926us/step\n",
      "Epoch 79/100\n",
      "11/11 - 0s - loss: 0.0209 - accuracy: 1.0000 - 10ms/epoch - 907us/step\n",
      "Epoch 80/100\n",
      "11/11 - 0s - loss: 0.0204 - accuracy: 1.0000 - 11ms/epoch - 1ms/step\n",
      "Epoch 81/100\n",
      "11/11 - 0s - loss: 0.0198 - accuracy: 1.0000 - 11ms/epoch - 1ms/step\n",
      "Epoch 82/100\n",
      "11/11 - 0s - loss: 0.0193 - accuracy: 1.0000 - 10ms/epoch - 912us/step\n",
      "Epoch 83/100\n",
      "11/11 - 0s - loss: 0.0189 - accuracy: 1.0000 - 10ms/epoch - 912us/step\n",
      "Epoch 84/100\n",
      "11/11 - 0s - loss: 0.0184 - accuracy: 1.0000 - 13ms/epoch - 1ms/step\n",
      "Epoch 85/100\n",
      "11/11 - 0s - loss: 0.0180 - accuracy: 1.0000 - 13ms/epoch - 1ms/step\n",
      "Epoch 86/100\n",
      "11/11 - 0s - loss: 0.0175 - accuracy: 1.0000 - 11ms/epoch - 997us/step\n",
      "Epoch 87/100\n",
      "11/11 - 0s - loss: 0.0170 - accuracy: 1.0000 - 11ms/epoch - 1ms/step\n",
      "Epoch 88/100\n",
      "11/11 - 0s - loss: 0.0166 - accuracy: 1.0000 - 11ms/epoch - 968us/step\n",
      "Epoch 89/100\n",
      "11/11 - 0s - loss: 0.0162 - accuracy: 1.0000 - 12ms/epoch - 1ms/step\n",
      "Epoch 90/100\n",
      "11/11 - 0s - loss: 0.0158 - accuracy: 1.0000 - 10ms/epoch - 915us/step\n",
      "Epoch 91/100\n",
      "11/11 - 0s - loss: 0.0154 - accuracy: 1.0000 - 12ms/epoch - 1ms/step\n",
      "Epoch 92/100\n",
      "11/11 - 0s - loss: 0.0151 - accuracy: 1.0000 - 12ms/epoch - 1ms/step\n",
      "Epoch 93/100\n",
      "11/11 - 0s - loss: 0.0147 - accuracy: 1.0000 - 13ms/epoch - 1ms/step\n",
      "Epoch 94/100\n",
      "11/11 - 0s - loss: 0.0144 - accuracy: 1.0000 - 15ms/epoch - 1ms/step\n",
      "Epoch 95/100\n",
      "11/11 - 0s - loss: 0.0141 - accuracy: 1.0000 - 14ms/epoch - 1ms/step\n",
      "Epoch 96/100\n",
      "11/11 - 0s - loss: 0.0137 - accuracy: 1.0000 - 12ms/epoch - 1ms/step\n",
      "Epoch 97/100\n",
      "11/11 - 0s - loss: 0.0134 - accuracy: 1.0000 - 12ms/epoch - 1ms/step\n",
      "Epoch 98/100\n",
      "11/11 - 0s - loss: 0.0131 - accuracy: 1.0000 - 15ms/epoch - 1ms/step\n",
      "Epoch 99/100\n",
      "11/11 - 0s - loss: 0.0128 - accuracy: 1.0000 - 15ms/epoch - 1ms/step\n",
      "Epoch 100/100\n",
      "11/11 - 0s - loss: 0.0126 - accuracy: 1.0000 - 15ms/epoch - 1ms/step\n"
     ]
    },
    {
     "data": {
      "text/plain": [
       "<keras.callbacks.History at 0x24b0c739f70>"
      ]
     },
     "execution_count": 30,
     "metadata": {},
     "output_type": "execute_result"
    }
   ],
   "source": [
    "model.fit(x_train, y_train, epochs=100, batch_size=16, verbose=2)"
   ]
  },
  {
   "cell_type": "markdown",
   "metadata": {
    "id": "DyFOnqyNw5_q"
   },
   "source": [
    "### | 검증 및 예측\n"
   ]
  },
  {
   "cell_type": "markdown",
   "metadata": {
    "id": "qlalKZ-a04c3"
   },
   "source": [
    "#### **검증**\n",
    "\n",
    "```\n",
    "model.evaluate(x_test, y_test)\n",
    "```\n",
    "* `x_test` : 넘파이 혹은 텐서 형식의 인풋 테스트 데이터\n",
    "* `y_test` : 넘파이 혹은 텐서 형식의 아웃풋 테스트 데이터"
   ]
  },
  {
   "cell_type": "code",
   "execution_count": 31,
   "metadata": {
    "ExecuteTime": {
     "end_time": "2022-06-28T02:25:50.837695Z",
     "start_time": "2022-06-28T02:25:50.714546Z"
    },
    "id": "uHGyMlf60zng"
   },
   "outputs": [
    {
     "name": "stdout",
     "output_type": "stream",
     "text": [
      "2/2 [==============================] - 0s 0s/step - loss: 0.3921 - accuracy: 0.8810\n"
     ]
    },
    {
     "data": {
      "text/plain": [
       "[0.39210155606269836, 0.8809523582458496]"
      ]
     },
     "execution_count": 31,
     "metadata": {},
     "output_type": "execute_result"
    }
   ],
   "source": [
    "model.evaluate(x_test, y_test)"
   ]
  },
  {
   "cell_type": "markdown",
   "metadata": {
    "id": "BITPUIOj07Uv"
   },
   "source": [
    "#### **예측**\n",
    "\n",
    "```\n",
    "model.predict(x_test)\n",
    "```\n",
    "* `x_test` : 넘파이 혹은 텐서 형식의 인풋 테스트 데이터\n",
    "* `y_test` : 넘파이 혹은 텐서 형식의 아웃풋 테스트 데이터"
   ]
  },
  {
   "cell_type": "code",
   "execution_count": 33,
   "metadata": {
    "ExecuteTime": {
     "end_time": "2022-06-28T02:27:20.016232Z",
     "start_time": "2022-06-28T02:27:19.962454Z"
    },
    "id": "KfDHL4PRv8YD"
   },
   "outputs": [
    {
     "name": "stdout",
     "output_type": "stream",
     "text": [
      "0.93730855 1\n"
     ]
    },
    {
     "data": {
      "text/plain": [
       "((42,), (42,))"
      ]
     },
     "execution_count": 33,
     "metadata": {},
     "output_type": "execute_result"
    }
   ],
   "source": [
    "y_pred = model.predict(x_test).flatten()\n",
    "print(y_pred[0], y_test[0])\n",
    "y_pred.shape, y_test.shape"
   ]
  },
  {
   "cell_type": "markdown",
   "metadata": {
    "id": "gThN4RCR0_HI"
   },
   "source": [
    "* 예측 시각화"
   ]
  },
  {
   "cell_type": "code",
   "execution_count": 40,
   "metadata": {
    "ExecuteTime": {
     "end_time": "2022-06-28T02:30:10.054874Z",
     "start_time": "2022-06-28T02:30:09.882189Z"
    },
    "id": "TG533VyLwDaK"
   },
   "outputs": [
    {
     "name": "stdout",
     "output_type": "stream",
     "text": [
      "[[20  2]\n",
      " [ 3 17]]\n"
     ]
    },
    {
     "data": {
      "image/png": "[encoded data removed]",
      "text/plain": [
       "<Figure size 432x288 with 2 Axes>"
      ]
     },
     "metadata": {
      "needs_background": "light"
     },
     "output_type": "display_data"
    }
   ],
   "source": [
    "# 혼돈행렬 만들기\n",
    "from sklearn.metrics import confusion_matrix, ConfusionMatrixDisplay\n",
    "\n",
    "# confusion_matrix는 정수값이 들어가야함\n",
    "cm = confusion_matrix(y_test, np.round(y_pred))\n",
    "print(cm)\n",
    "ConfusionMatrixDisplay(cm).plot(cmap=\"Blues\");"
   ]
  },
  {
   "cell_type": "markdown",
   "metadata": {
    "id": "ZFrRTgcyipYg"
   },
   "source": [
    "## 과제\n",
    "---"
   ]
  },
  {
   "cell_type": "markdown",
   "metadata": {
    "id": "xjnJSLgXK_Pp"
   },
   "source": [
    "### | 과제1. 이진분류 문제 정리\n",
    "\n",
    "* 예측값의 범위 : 0 에서 1사이의 확률 값\n",
    "* 예측값의 shape : (샘플 개수, ) 혹은 (샘플 개수, 1)\n",
    "* 아웃풋 레이어의 노드 개수 :1\n",
    "* 아웃풋 레이어의 activation : sigmoid \n",
    "* 손실함수 (loss) : binary_crossentropy\n",
    "* 평가함수 (metrics) : accuracy"
   ]
  },
  {
   "cell_type": "markdown",
   "metadata": {
    "id": "ZvFAB78P1B_Q"
   },
   "source": [
    "### | 과제2. 한 셀에 코드 정리하기\n",
    "\n",
    "* 추가 연습\n",
    "  * 모델의 깊이(depth)를 늘려가며 학습해 보세요.\n",
    "  * 모델의 너비(width)를 늘려가며 학습해 보세요."
   ]
  },
  {
   "cell_type": "code",
   "execution_count": 41,
   "metadata": {
    "ExecuteTime": {
     "end_time": "2022-06-28T07:45:23.298361Z",
     "start_time": "2022-06-28T07:45:19.205134Z"
    },
    "id": "v5WYSd9a1Cz4"
   },
   "outputs": [
    {
     "name": "stdout",
     "output_type": "stream",
     "text": [
      "Model: \"sona_classifier\"\n",
      "_________________________________________________________________\n",
      " Layer (type)                Output Shape              Param #   \n",
      "=================================================================\n",
      " input_4 (InputLayer)        [(None, 60)]              0         \n",
      "                                                                 \n",
      " dense_7 (Dense)             (None, 30)                1830      \n",
      "                                                                 \n",
      " dense_8 (Dense)             (None, 1)                 31        \n",
      "                                                                 \n",
      "=================================================================\n",
      "Total params: 1,861\n",
      "Trainable params: 1,861\n",
      "Non-trainable params: 0\n",
      "_________________________________________________________________\n",
      "Epoch 1/100\n",
      "11/11 - 0s - loss: 0.8699 - accuracy: 0.3916 - 493ms/epoch - 45ms/step\n",
      "Epoch 2/100\n",
      "11/11 - 0s - loss: 0.7380 - accuracy: 0.4819 - 12ms/epoch - 1ms/step\n",
      "Epoch 3/100\n",
      "11/11 - 0s - loss: 0.6469 - accuracy: 0.5964 - 12ms/epoch - 1ms/step\n",
      "Epoch 4/100\n",
      "11/11 - 0s - loss: 0.5848 - accuracy: 0.6446 - 15ms/epoch - 1ms/step\n",
      "Epoch 5/100\n",
      "11/11 - 0s - loss: 0.5350 - accuracy: 0.7048 - 15ms/epoch - 1ms/step\n",
      "Epoch 6/100\n",
      "11/11 - 0s - loss: 0.4960 - accuracy: 0.7590 - 15ms/epoch - 1ms/step\n",
      "Epoch 7/100\n",
      "11/11 - 0s - loss: 0.4649 - accuracy: 0.7771 - 14ms/epoch - 1ms/step\n",
      "Epoch 8/100\n",
      "11/11 - 0s - loss: 0.4368 - accuracy: 0.8193 - 14ms/epoch - 1ms/step\n",
      "Epoch 9/100\n",
      "11/11 - 0s - loss: 0.4117 - accuracy: 0.8434 - 13ms/epoch - 1ms/step\n",
      "Epoch 10/100\n",
      "11/11 - 0s - loss: 0.3903 - accuracy: 0.8554 - 13ms/epoch - 1ms/step\n",
      "Epoch 11/100\n",
      "11/11 - 0s - loss: 0.3701 - accuracy: 0.8795 - 14ms/epoch - 1ms/step\n",
      "Epoch 12/100\n",
      "11/11 - 0s - loss: 0.3499 - accuracy: 0.8855 - 13ms/epoch - 1ms/step\n",
      "Epoch 13/100\n",
      "11/11 - 0s - loss: 0.3321 - accuracy: 0.8976 - 13ms/epoch - 1ms/step\n",
      "Epoch 14/100\n",
      "11/11 - 0s - loss: 0.3160 - accuracy: 0.9096 - 14ms/epoch - 1ms/step\n",
      "Epoch 15/100\n",
      "11/11 - 0s - loss: 0.3002 - accuracy: 0.9157 - 16ms/epoch - 1ms/step\n",
      "Epoch 16/100\n",
      "11/11 - 0s - loss: 0.2859 - accuracy: 0.9157 - 12ms/epoch - 1ms/step\n",
      "Epoch 17/100\n",
      "11/11 - 0s - loss: 0.2732 - accuracy: 0.9277 - 12ms/epoch - 1ms/step\n",
      "Epoch 18/100\n",
      "11/11 - 0s - loss: 0.2594 - accuracy: 0.9337 - 15ms/epoch - 1ms/step\n",
      "Epoch 19/100\n",
      "11/11 - 0s - loss: 0.2487 - accuracy: 0.9277 - 15ms/epoch - 1ms/step\n",
      "Epoch 20/100\n",
      "11/11 - 0s - loss: 0.2375 - accuracy: 0.9458 - 15ms/epoch - 1ms/step\n",
      "Epoch 21/100\n",
      "11/11 - 0s - loss: 0.2272 - accuracy: 0.9518 - 15ms/epoch - 1ms/step\n",
      "Epoch 22/100\n",
      "11/11 - 0s - loss: 0.2168 - accuracy: 0.9639 - 15ms/epoch - 1ms/step\n",
      "Epoch 23/100\n",
      "11/11 - 0s - loss: 0.2080 - accuracy: 0.9699 - 15ms/epoch - 1ms/step\n",
      "Epoch 24/100\n",
      "11/11 - 0s - loss: 0.1986 - accuracy: 0.9759 - 16ms/epoch - 1ms/step\n",
      "Epoch 25/100\n",
      "11/11 - 0s - loss: 0.1903 - accuracy: 0.9759 - 15ms/epoch - 1ms/step\n",
      "Epoch 26/100\n",
      "11/11 - 0s - loss: 0.1822 - accuracy: 0.9759 - 15ms/epoch - 1ms/step\n",
      "Epoch 27/100\n",
      "11/11 - 0s - loss: 0.1746 - accuracy: 0.9759 - 15ms/epoch - 1ms/step\n",
      "Epoch 28/100\n",
      "11/11 - 0s - loss: 0.1681 - accuracy: 0.9699 - 15ms/epoch - 1ms/step\n",
      "Epoch 29/100\n",
      "11/11 - 0s - loss: 0.1606 - accuracy: 0.9759 - 14ms/epoch - 1ms/step\n",
      "Epoch 30/100\n",
      "11/11 - 0s - loss: 0.1541 - accuracy: 0.9819 - 15ms/epoch - 1ms/step\n",
      "Epoch 31/100\n",
      "11/11 - 0s - loss: 0.1476 - accuracy: 0.9880 - 14ms/epoch - 1ms/step\n",
      "Epoch 32/100\n",
      "11/11 - 0s - loss: 0.1418 - accuracy: 0.9880 - 14ms/epoch - 1ms/step\n",
      "Epoch 33/100\n",
      "11/11 - 0s - loss: 0.1362 - accuracy: 0.9880 - 14ms/epoch - 1ms/step\n",
      "Epoch 34/100\n",
      "11/11 - 0s - loss: 0.1307 - accuracy: 0.9880 - 14ms/epoch - 1ms/step\n",
      "Epoch 35/100\n",
      "11/11 - 0s - loss: 0.1251 - accuracy: 0.9880 - 13ms/epoch - 1ms/step\n",
      "Epoch 36/100\n",
      "11/11 - 0s - loss: 0.1201 - accuracy: 0.9880 - 13ms/epoch - 1ms/step\n",
      "Epoch 37/100\n",
      "11/11 - 0s - loss: 0.1160 - accuracy: 0.9880 - 11ms/epoch - 997us/step\n",
      "Epoch 38/100\n",
      "11/11 - 0s - loss: 0.1109 - accuracy: 0.9880 - 14ms/epoch - 1ms/step\n",
      "Epoch 39/100\n",
      "11/11 - 0s - loss: 0.1069 - accuracy: 0.9880 - 13ms/epoch - 1ms/step\n",
      "Epoch 40/100\n",
      "11/11 - 0s - loss: 0.1027 - accuracy: 0.9880 - 16ms/epoch - 1ms/step\n",
      "Epoch 41/100\n",
      "11/11 - 0s - loss: 0.0985 - accuracy: 0.9880 - 15ms/epoch - 1ms/step\n",
      "Epoch 42/100\n",
      "11/11 - 0s - loss: 0.0950 - accuracy: 0.9880 - 16ms/epoch - 1ms/step\n",
      "Epoch 43/100\n",
      "11/11 - 0s - loss: 0.0910 - accuracy: 0.9880 - 15ms/epoch - 1ms/step\n",
      "Epoch 44/100\n",
      "11/11 - 0s - loss: 0.0875 - accuracy: 0.9940 - 16ms/epoch - 1ms/step\n",
      "Epoch 45/100\n",
      "11/11 - 0s - loss: 0.0841 - accuracy: 0.9940 - 15ms/epoch - 1ms/step\n",
      "Epoch 46/100\n",
      "11/11 - 0s - loss: 0.0811 - accuracy: 0.9940 - 14ms/epoch - 1ms/step\n",
      "Epoch 47/100\n",
      "11/11 - 0s - loss: 0.0779 - accuracy: 1.0000 - 14ms/epoch - 1ms/step\n",
      "Epoch 48/100\n",
      "11/11 - 0s - loss: 0.0751 - accuracy: 1.0000 - 16ms/epoch - 1ms/step\n",
      "Epoch 49/100\n",
      "11/11 - 0s - loss: 0.0725 - accuracy: 1.0000 - 16ms/epoch - 1ms/step\n",
      "Epoch 50/100\n",
      "11/11 - 0s - loss: 0.0697 - accuracy: 1.0000 - 14ms/epoch - 1ms/step\n",
      "Epoch 51/100\n",
      "11/11 - 0s - loss: 0.0668 - accuracy: 1.0000 - 14ms/epoch - 1ms/step\n",
      "Epoch 52/100\n",
      "11/11 - 0s - loss: 0.0645 - accuracy: 1.0000 - 14ms/epoch - 1ms/step\n",
      "Epoch 53/100\n",
      "11/11 - 0s - loss: 0.0622 - accuracy: 1.0000 - 13ms/epoch - 1ms/step\n",
      "Epoch 54/100\n",
      "11/11 - 0s - loss: 0.0595 - accuracy: 1.0000 - 12ms/epoch - 1ms/step\n",
      "Epoch 55/100\n",
      "11/11 - 0s - loss: 0.0577 - accuracy: 1.0000 - 13ms/epoch - 1ms/step\n",
      "Epoch 56/100\n",
      "11/11 - 0s - loss: 0.0554 - accuracy: 1.0000 - 12ms/epoch - 1ms/step\n",
      "Epoch 57/100\n",
      "11/11 - 0s - loss: 0.0537 - accuracy: 1.0000 - 12ms/epoch - 1ms/step\n",
      "Epoch 58/100\n",
      "11/11 - 0s - loss: 0.0516 - accuracy: 1.0000 - 14ms/epoch - 1ms/step\n",
      "Epoch 59/100\n",
      "11/11 - 0s - loss: 0.0496 - accuracy: 1.0000 - 43ms/epoch - 4ms/step\n",
      "Epoch 60/100\n",
      "11/11 - 0s - loss: 0.0478 - accuracy: 1.0000 - 13ms/epoch - 1ms/step\n",
      "Epoch 61/100\n",
      "11/11 - 0s - loss: 0.0460 - accuracy: 1.0000 - 10ms/epoch - 907us/step\n",
      "Epoch 62/100\n",
      "11/11 - 0s - loss: 0.0446 - accuracy: 1.0000 - 11ms/epoch - 997us/step\n",
      "Epoch 63/100\n",
      "11/11 - 0s - loss: 0.0430 - accuracy: 1.0000 - 12ms/epoch - 1ms/step\n",
      "Epoch 64/100\n",
      "11/11 - 0s - loss: 0.0416 - accuracy: 1.0000 - 12ms/epoch - 1ms/step\n",
      "Epoch 65/100\n",
      "11/11 - 0s - loss: 0.0401 - accuracy: 1.0000 - 12ms/epoch - 1ms/step\n",
      "Epoch 66/100\n",
      "11/11 - 0s - loss: 0.0388 - accuracy: 1.0000 - 9ms/epoch - 816us/step\n",
      "Epoch 67/100\n",
      "11/11 - 0s - loss: 0.0376 - accuracy: 1.0000 - 12ms/epoch - 1ms/step\n",
      "Epoch 68/100\n",
      "11/11 - 0s - loss: 0.0363 - accuracy: 1.0000 - 13ms/epoch - 1ms/step\n",
      "Epoch 69/100\n",
      "11/11 - 0s - loss: 0.0352 - accuracy: 1.0000 - 12ms/epoch - 1ms/step\n",
      "Epoch 70/100\n",
      "11/11 - 0s - loss: 0.0340 - accuracy: 1.0000 - 11ms/epoch - 997us/step\n",
      "Epoch 71/100\n",
      "11/11 - 0s - loss: 0.0330 - accuracy: 1.0000 - 12ms/epoch - 1ms/step\n",
      "Epoch 72/100\n",
      "11/11 - 0s - loss: 0.0320 - accuracy: 1.0000 - 11ms/epoch - 995us/step\n",
      "Epoch 73/100\n",
      "11/11 - 0s - loss: 0.0310 - accuracy: 1.0000 - 14ms/epoch - 1ms/step\n",
      "Epoch 74/100\n",
      "11/11 - 0s - loss: 0.0301 - accuracy: 1.0000 - 13ms/epoch - 1ms/step\n",
      "Epoch 75/100\n",
      "11/11 - 0s - loss: 0.0292 - accuracy: 1.0000 - 13ms/epoch - 1ms/step\n",
      "Epoch 76/100\n",
      "11/11 - 0s - loss: 0.0283 - accuracy: 1.0000 - 18ms/epoch - 2ms/step\n",
      "Epoch 77/100\n",
      "11/11 - 0s - loss: 0.0275 - accuracy: 1.0000 - 17ms/epoch - 2ms/step\n",
      "Epoch 78/100\n",
      "11/11 - 0s - loss: 0.0268 - accuracy: 1.0000 - 13ms/epoch - 1ms/step\n",
      "Epoch 79/100\n",
      "11/11 - 0s - loss: 0.0260 - accuracy: 1.0000 - 13ms/epoch - 1ms/step\n",
      "Epoch 80/100\n",
      "11/11 - 0s - loss: 0.0253 - accuracy: 1.0000 - 12ms/epoch - 1ms/step\n",
      "Epoch 81/100\n",
      "11/11 - 0s - loss: 0.0245 - accuracy: 1.0000 - 10ms/epoch - 907us/step\n",
      "Epoch 82/100\n",
      "11/11 - 0s - loss: 0.0238 - accuracy: 1.0000 - 12ms/epoch - 1ms/step\n",
      "Epoch 83/100\n",
      "11/11 - 0s - loss: 0.0232 - accuracy: 1.0000 - 14ms/epoch - 1ms/step\n",
      "Epoch 84/100\n",
      "11/11 - 0s - loss: 0.0226 - accuracy: 1.0000 - 13ms/epoch - 1ms/step\n",
      "Epoch 85/100\n",
      "11/11 - 0s - loss: 0.0219 - accuracy: 1.0000 - 12ms/epoch - 1ms/step\n",
      "Epoch 86/100\n",
      "11/11 - 0s - loss: 0.0214 - accuracy: 1.0000 - 12ms/epoch - 1ms/step\n",
      "Epoch 87/100\n",
      "11/11 - 0s - loss: 0.0208 - accuracy: 1.0000 - 12ms/epoch - 1ms/step\n",
      "Epoch 88/100\n",
      "11/11 - 0s - loss: 0.0203 - accuracy: 1.0000 - 12ms/epoch - 1ms/step\n",
      "Epoch 89/100\n",
      "11/11 - 0s - loss: 0.0198 - accuracy: 1.0000 - 14ms/epoch - 1ms/step\n",
      "Epoch 90/100\n",
      "11/11 - 0s - loss: 0.0192 - accuracy: 1.0000 - 14ms/epoch - 1ms/step\n"
     ]
    },
    {
     "name": "stdout",
     "output_type": "stream",
     "text": [
      "Epoch 91/100\n",
      "11/11 - 0s - loss: 0.0187 - accuracy: 1.0000 - 13ms/epoch - 1ms/step\n",
      "Epoch 92/100\n",
      "11/11 - 0s - loss: 0.0183 - accuracy: 1.0000 - 12ms/epoch - 1ms/step\n",
      "Epoch 93/100\n",
      "11/11 - 0s - loss: 0.0178 - accuracy: 1.0000 - 12ms/epoch - 1ms/step\n",
      "Epoch 94/100\n",
      "11/11 - 0s - loss: 0.0174 - accuracy: 1.0000 - 10ms/epoch - 883us/step\n",
      "Epoch 95/100\n",
      "11/11 - 0s - loss: 0.0169 - accuracy: 1.0000 - 11ms/epoch - 993us/step\n",
      "Epoch 96/100\n",
      "11/11 - 0s - loss: 0.0165 - accuracy: 1.0000 - 12ms/epoch - 1ms/step\n",
      "Epoch 97/100\n",
      "11/11 - 0s - loss: 0.0162 - accuracy: 1.0000 - 13ms/epoch - 1ms/step\n",
      "Epoch 98/100\n",
      "11/11 - 0s - loss: 0.0158 - accuracy: 1.0000 - 15ms/epoch - 1ms/step\n",
      "Epoch 99/100\n",
      "11/11 - 0s - loss: 0.0154 - accuracy: 1.0000 - 11ms/epoch - 1ms/step\n",
      "Epoch 100/100\n",
      "11/11 - 0s - loss: 0.0150 - accuracy: 1.0000 - 10ms/epoch - 880us/step\n"
     ]
    },
    {
     "data": {
      "text/plain": [
       "<keras.callbacks.History at 0x24b10ff28e0>"
      ]
     },
     "execution_count": 41,
     "metadata": {},
     "output_type": "execute_result"
    }
   ],
   "source": [
    "data_path = \"../../dataset/preprocessed/sonar.csv\"\n",
    "x_train, x_test, y_train, y_test = path2data_sona(data_path)\n",
    "\n",
    "def build_model():\n",
    "    x = layers.Input(shape=(60, ))  # 데이터가 주어지면 인풋의 shape는 고정\n",
    "    z = layers.Dense(30, activation='relu')(x)\n",
    "    z = layers.Dense(30, activation='relu')(x)\n",
    "    y = layers.Dense(1, activation=\"sigmoid\")(z)  # 데이터가 주어지면 아웃풋의  shape는 고정\n",
    "    #( 이진분류문제는 마지막 아웃풋 shape가 1)\n",
    "    model = models.Model(x, y, name='sona_classifier')\n",
    "    return model\n",
    "\n",
    "model = build_model()\n",
    "model.summary()\n",
    "utils.plot_model(model, show_shapes=True)\n",
    "model.compile(loss=\"binary_crossentropy\",\n",
    "              optimizer=\"adam\",\n",
    "              metrics=[\"accuracy\"])\n",
    "model.fit(x_train, y_train, epochs=100, batch_size=16, verbose=2)"
   ]
  },
  {
   "cell_type": "markdown",
   "metadata": {
    "id": "2K0mAdPzjOAf"
   },
   "source": [
    "### | 과제 3. 피마 인디언 당뇨병 예측\n",
    "\n",
    "\n",
    "* `pima-indians-diabetes.csv`\n",
    "```\n",
    "df = pd.read_csv(data_path,\n",
    "                names = [\"pregnant\", \"plasma\", \"pressure\", \"thickness\", \"insulin\", \"BMI\", \"pedigree\", \"age\", \"class\"])\n",
    "```"
   ]
  },
  {
   "cell_type": "code",
   "execution_count": null,
   "metadata": {
    "id": "Ppi8p2S_HsVb"
   },
   "outputs": [],
   "source": []
  },
  {
   "cell_type": "markdown",
   "metadata": {
    "id": "s4VjzrycjTUK"
   },
   "source": [
    "### | 과제 4. 생각해보기\n",
    "\n",
    "데이터가 불균형 할 때 딥러닝에서는 어떠한 방법을 써서 이를 해결 하나요? \n"
   ]
  },
  {
   "cell_type": "code",
   "execution_count": null,
   "metadata": {
    "id": "tcMHkA5BjSho"
   },
   "outputs": [],
   "source": []
  }
 ],
 "metadata": {
  "colab": {
   "collapsed_sections": [],
   "name": "ch01_04_DNN기초-이진분류모델.ipynb",
   "provenance": []
  },
  "kernelspec": {
   "display_name": "Python 3 (ipykernel)",
   "language": "python",
   "name": "python3"
  },
  "language_info": {
   "codemirror_mode": {
    "name": "ipython",
    "version": 3
   },
   "file_extension": ".py",
   "mimetype": "text/x-python",
   "name": "python",
   "nbconvert_exporter": "python",
   "pygments_lexer": "ipython3",
   "version": "3.8.13"
  },
  "toc": {
   "base_numbering": 1,
   "nav_menu": {},
   "number_sections": true,
   "sideBar": true,
   "skip_h1_title": false,
   "title_cell": "Table of Contents",
   "title_sidebar": "Contents",
   "toc_cell": false,
   "toc_position": {},
   "toc_section_display": true,
   "toc_window_display": false
  }
 },
 "nbformat": 4,
 "nbformat_minor": 1
}
