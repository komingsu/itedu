{
 "cells": [
  {
   "cell_type": "markdown",
   "metadata": {
    "id": "sWs2kEC1_b-P"
   },
   "source": [
    "# ch03.02 NLP기초 - imdb 리뷰 분류\n",
    "---\n",
    "\n",
    "* 날짜: 2022-07-14\n",
    "* 이름: 고민수\n",
    "\n",
    "## 학습내용\n",
    "    - 텍스트 전처리 과정을 이해한다.\n",
    "      * 텍스트 토큰화\n",
    "      * 텍스트 인덱싱\n",
    "      * 원-핫 인코딩\n",
    "      * 텍스트 임베딩\n",
    "    - 간단한 문장을 분류하는 딥러닝 모델을 구현한다."
   ]
  },
  {
   "cell_type": "markdown",
   "metadata": {
    "id": "VU3BLoJCGSlV"
   },
   "source": [
    "## FCN 모델을 이용한 영화리뷰 분류\n",
    "---"
   ]
  },
  {
   "cell_type": "markdown",
   "metadata": {
    "id": "UiHqcR2ANSyg"
   },
   "source": [
    "### **| 데이터 처리**"
   ]
  },
  {
   "cell_type": "code",
   "execution_count": 1,
   "metadata": {
    "ExecuteTime": {
     "end_time": "2022-07-14T01:57:30.765119Z",
     "start_time": "2022-07-14T01:57:26.958605Z"
    }
   },
   "outputs": [],
   "source": [
    "import tensorflow as tf\n",
    "import matplotlib.pyplot as plt\n",
    "from tensorflow.keras.datasets import imdb\n",
    "from tensorflow.keras import layers, models, callbacks, losses, optimizers, applications\n",
    "import tensorflow_hub as hub"
   ]
  },
  {
   "cell_type": "code",
   "execution_count": 2,
   "metadata": {
    "ExecuteTime": {
     "end_time": "2022-07-14T01:57:35.699246Z",
     "start_time": "2022-07-14T01:57:30.768122Z"
    },
    "colab": {
     "base_uri": "https://localhost:8080/"
    },
    "id": "VVsT77Gieb4m",
    "outputId": "f1d8b0aa-48c7-4369-e872-a31afceadd82"
   },
   "outputs": [
    {
     "name": "stderr",
     "output_type": "stream",
     "text": [
      "<string>:6: VisibleDeprecationWarning: Creating an ndarray from ragged nested sequences (which is a list-or-tuple of lists-or-tuples-or ndarrays with different lengths or shapes) is deprecated. If you meant to do this, you must specify 'dtype=object' when creating the ndarray\n",
      "C:\\Users\\user\\miniconda3\\envs\\deep_tf\\lib\\site-packages\\tensorflow\\python\\keras\\datasets\\imdb.py:159: VisibleDeprecationWarning: Creating an ndarray from ragged nested sequences (which is a list-or-tuple of lists-or-tuples-or ndarrays with different lengths or shapes) is deprecated. If you meant to do this, you must specify 'dtype=object' when creating the ndarray\n",
      "  x_train, y_train = np.array(xs[:idx]), np.array(labels[:idx])\n"
     ]
    },
    {
     "name": "stdout",
     "output_type": "stream",
     "text": [
      "(25000,) (25000,) (25000,) (25000,)\n"
     ]
    },
    {
     "name": "stderr",
     "output_type": "stream",
     "text": [
      "C:\\Users\\user\\miniconda3\\envs\\deep_tf\\lib\\site-packages\\tensorflow\\python\\keras\\datasets\\imdb.py:160: VisibleDeprecationWarning: Creating an ndarray from ragged nested sequences (which is a list-or-tuple of lists-or-tuples-or ndarrays with different lengths or shapes) is deprecated. If you meant to do this, you must specify 'dtype=object' when creating the ndarray\n",
      "  x_test, y_test = np.array(xs[idx:]), np.array(labels[idx:])\n"
     ]
    }
   ],
   "source": [
    "# FCN : Fully connected network (Dense layer)\n",
    "max_features = 500 # 많은 단어를 사용할 수록 성능 향상? -> 다차원 데이터를 다루기 위해서는 FCN으로는 어렵다.\n",
    "max_len = 100 # 문장안에 존재할 최대 단어수\n",
    "# 문장 -> (단어의 개수 , 각 단어 벡터길이)\n",
    "(x_train, y_train), (x_test, y_test) = imdb.load_data(num_words = max_features ) # 몇개의 단어를 사용할 것인가 \n",
    "print(x_train.shape, y_train.shape, x_test.shape, y_test.shape)"
   ]
  },
  {
   "cell_type": "code",
   "execution_count": 3,
   "metadata": {
    "ExecuteTime": {
     "end_time": "2022-07-14T01:57:35.714529Z",
     "start_time": "2022-07-14T01:57:35.701235Z"
    },
    "colab": {
     "base_uri": "https://localhost:8080/"
    },
    "id": "30OhC62r3LUA",
    "outputId": "682e30f1-7934-4d7c-d365-4a6ee001955d"
   },
   "outputs": [
    {
     "name": "stdout",
     "output_type": "stream",
     "text": [
      "첫번째 리뷰: [1, 14, 22, 16, 43, 2, 2, 2, 2, 65, 458, 2, 66, 2, 4, 173, 36, 256, 5, 25, 100, 43, 2, 112, 50, 2, 2, 9, 35, 480, 284, 5, 150, 4, 172, 112, 167, 2, 336, 385, 39, 4, 172, 2, 2, 17, 2, 38, 13, 447, 4, 192, 50, 16, 6, 147, 2, 19, 14, 22, 4, 2, 2, 469, 4, 22, 71, 87, 12, 16, 43, 2, 38, 76, 15, 13, 2, 4, 22, 17, 2, 17, 12, 16, 2, 18, 2, 5, 62, 386, 12, 8, 316, 8, 106, 5, 4, 2, 2, 16, 480, 66, 2, 33, 4, 130, 12, 16, 38, 2, 5, 25, 124, 51, 36, 135, 48, 25, 2, 33, 6, 22, 12, 215, 28, 77, 52, 5, 14, 407, 16, 82, 2, 8, 4, 107, 117, 2, 15, 256, 4, 2, 7, 2, 5, 2, 36, 71, 43, 2, 476, 26, 400, 317, 46, 7, 4, 2, 2, 13, 104, 88, 4, 381, 15, 297, 98, 32, 2, 56, 26, 141, 6, 194, 2, 18, 4, 226, 22, 21, 134, 476, 26, 480, 5, 144, 30, 2, 18, 51, 36, 28, 224, 92, 25, 104, 4, 226, 65, 16, 38, 2, 88, 12, 16, 283, 5, 16, 2, 113, 103, 32, 15, 16, 2, 19, 178, 32]\n",
      "첫번째 리뷰의 단어 개수: 218\n",
      "첫번째 리뷰의 클래스: 1\n"
     ]
    }
   ],
   "source": [
    "print('첫번째 리뷰:', x_train[0], )\n",
    "print('첫번째 리뷰의 단어 개수:', len(x_train[0]))\n",
    "print('첫번째 리뷰의 클래스:', y_train[0])"
   ]
  },
  {
   "cell_type": "code",
   "execution_count": 4,
   "metadata": {
    "ExecuteTime": {
     "end_time": "2022-07-14T01:57:35.969598Z",
     "start_time": "2022-07-14T01:57:35.731544Z"
    },
    "colab": {
     "base_uri": "https://localhost:8080/",
     "height": 265
    },
    "id": "LR0PZndR34TE",
    "outputId": "7d177b7e-6983-42dd-abee-a456ccf2ac8f"
   },
   "outputs": [
    {
     "data": {
      "image/png": "[encoded data removed]",
      "text/plain": [
       "<Figure size 432x288 with 1 Axes>"
      ]
     },
     "metadata": {
      "needs_background": "light"
     },
     "output_type": "display_data"
    }
   ],
   "source": [
    "# 문장 안에 단어가 몇개씩 들어있는가?\n",
    "x_lens = [len(x) for x in x_train]\n",
    "_=plt.hist(x_lens, bins=50)"
   ]
  },
  {
   "cell_type": "code",
   "execution_count": 5,
   "metadata": {
    "ExecuteTime": {
     "end_time": "2022-07-14T01:57:36.032470Z",
     "start_time": "2022-07-14T01:57:35.970586Z"
    },
    "colab": {
     "base_uri": "https://localhost:8080/"
    },
    "id": "j_5TdG3l4A-V",
    "outputId": "0cd396c7-b775-4d6e-af9e-b8a3a1dd64c8"
   },
   "outputs": [],
   "source": [
    "# 딕셔너리\n",
    "word2index = imdb.get_word_index()\n",
    "#word2index"
   ]
  },
  {
   "cell_type": "code",
   "execution_count": 6,
   "metadata": {
    "ExecuteTime": {
     "end_time": "2022-07-14T01:57:36.063514Z",
     "start_time": "2022-07-14T01:57:36.034450Z"
    },
    "id": "Cl3Y75343_v7"
   },
   "outputs": [],
   "source": [
    "index2word = {}\n",
    "for word, idx in word2index.items():\n",
    "    index2word[idx + 3] = word"
   ]
  },
  {
   "cell_type": "code",
   "execution_count": 7,
   "metadata": {
    "ExecuteTime": {
     "end_time": "2022-07-14T01:57:36.079510Z",
     "start_time": "2022-07-14T01:57:36.064505Z"
    },
    "colab": {
     "base_uri": "https://localhost:8080/"
    },
    "id": "7bnMqQnae6Cm",
    "outputId": "4cfe8de8-f594-4199-d654-bf808864a255"
   },
   "outputs": [
    {
     "name": "stdout",
     "output_type": "stream",
     "text": [
      "the at the sort many years after the i can still see in my an my mother the of she makes the characters come her is that of an one to the on the a or so from where she lives br br of course it many years before she was but you guess from the way she it the same story is in the and of as i it with a friend one night in a in to give his version the to time br br down like this become part of our being who doesn't remember the our us when we were children they become our world and as we they maybe still as or as an fact and with role and br br my name is like my and his before him our himself to us and also the story that back through it that the of its in the of yet is in this is what gives it its special it has a and with some of the you will ever br br his in before his death he with part of him to be in the first to out in but he is on the a br br yet there is a him he to know the the behind his where does end and he wants to know the behind the death of his br br he is to make a last to the of one of most can the be or is it all in br br in this story about we the of old and the more of in doing so we each with as he lives the story of his own life br br the is probably the most and beautiful film of ever made like i got with the of on more but also like i this once i saw the picture the of and its like you might even the of the man to see a film that is true to this one is probably if you maybe on it enough you might even the of and the old of there are some that be but only\n",
      "[1, 4, 2, 2, 33, 2, 4, 2, 432, 111, 153, 103, 4, 2, 13, 70, 131, 67, 11, 61, 2, 2, 35, 2, 2, 61, 2, 452, 2, 4, 2, 7, 2, 59, 166, 4, 105, 216, 2, 41, 2, 9, 15, 7, 35, 2, 2, 31, 8, 4, 2, 23, 4, 2, 2, 6, 2, 42, 38, 39, 121, 59, 456, 10, 10, 7, 265, 12, 2, 111, 153, 159, 59, 16, 2, 21, 25, 2, 482, 39, 4, 96, 59, 2, 12, 4, 172, 65, 9, 2, 11, 2, 4, 2, 5, 2, 7, 2, 17, 13, 2, 12, 19, 6, 464, 31, 314, 11, 2, 6, 2, 2, 11, 8, 202, 27, 310, 4, 2, 2, 8, 2, 58, 10, 10, 2, 2, 180, 40, 14, 413, 173, 7, 263, 112, 37, 152, 377, 4, 2, 263, 2, 2, 178, 54, 75, 71, 476, 36, 413, 263, 2, 182, 5, 17, 75, 2, 2, 36, 279, 131, 2, 17, 2, 42, 17, 35, 2, 2, 192, 5, 2, 2, 19, 2, 217, 2, 2, 2, 2, 2, 5, 2, 10, 10, 61, 403, 9, 2, 40, 61, 2, 5, 27, 2, 159, 90, 263, 2, 2, 309, 8, 178, 5, 82, 2, 4, 65, 15, 2, 145, 143, 2, 12, 2, 2, 2, 2, 2, 15, 2, 4, 2, 2, 7, 2, 94, 2, 2, 2, 11, 2, 4, 2, 7, 2, 246, 2, 9, 2, 11, 2, 14, 9, 51, 408, 12, 94, 318, 2, 12, 47, 6, 2, 2, 5, 2, 2, 19, 49, 7, 4, 2, 2, 2, 25, 80, 126, 2, 10, 10, 2, 2, 2, 27, 2, 11, 2, 2, 159, 27, 341, 29, 2, 19, 2, 173, 7, 90, 2, 8, 30, 11, 4, 2, 86, 2, 8, 2, 46, 11, 2, 21, 29, 9, 2, 23, 4, 2, 2, 2, 6, 2, 2, 2, 10, 10, 246, 50, 9, 6, 2, 2, 2, 90, 29, 2, 8, 124, 4, 2, 4, 2, 496, 27, 2, 2, 2, 121, 127, 2, 130, 5, 29, 494, 8, 124, 4, 2, 496, 4, 341, 7, 27, 2, 10, 10, 29, 9, 2, 8, 97, 6, 236, 2, 2, 8, 4, 2, 7, 31, 7, 2, 91, 2, 2, 70, 4, 2, 30, 2, 42, 9, 12, 32, 11, 2, 10, 10, 11, 14, 65, 44, 2, 75, 2, 2, 2, 2, 2, 4, 2, 7, 154, 5, 4, 2, 53, 2, 2, 7, 2, 2, 11, 399, 38, 75, 257, 2, 19, 2, 17, 29, 456, 4, 65, 7, 27, 205, 113, 10, 10, 2, 4, 2, 2, 9, 242, 4, 91, 2, 2, 5, 2, 307, 22, 7, 2, 126, 93, 40, 2, 13, 188, 2, 2, 19, 4, 2, 7, 2, 2, 23, 53, 2, 21, 82, 40, 2, 13, 2, 14, 280, 13, 219, 4, 2, 431, 2, 2, 4, 2, 2, 2, 7, 2, 5, 94, 40, 25, 238, 60, 2, 4, 2, 2, 2, 7, 4, 2, 132, 8, 67, 6, 22, 15, 9, 283, 8, 2, 14, 31, 9, 242, 2, 48, 25, 279, 2, 23, 12, 2, 195, 25, 238, 60, 2, 2, 4, 2, 7, 2, 5, 4, 2, 154, 2, 7, 2, 50, 26, 49, 2, 15, 2, 30, 2, 21, 64, 2]\n"
     ]
    }
   ],
   "source": [
    "# 첫번째 리뷰 해석\n",
    "review = x_train[3]\n",
    "trans = []\n",
    "for index in review:\n",
    "    if index in index2word.keys():\n",
    "        trans.append(index2word[index])\n",
    "print(' '.join(x for x in trans))\n",
    "print(review)"
   ]
  },
  {
   "cell_type": "code",
   "execution_count": 8,
   "metadata": {
    "ExecuteTime": {
     "end_time": "2022-07-14T01:57:36.095514Z",
     "start_time": "2022-07-14T01:57:36.080510Z"
    },
    "colab": {
     "base_uri": "https://localhost:8080/"
    },
    "id": "O4mW4L3FIhDF",
    "outputId": "385c0633-9fe0-4e17-bed1-711f4fb6f5ee"
   },
   "outputs": [
    {
     "name": "stdout",
     "output_type": "stream",
     "text": [
      "imdb 데이터에 있는 모든 단어수 :  88584 88584\n",
      "우리가 사용할 단어수 : 500\n"
     ]
    }
   ],
   "source": [
    "print('imdb 데이터에 있는 모든 단어수 : ', len(word2index), len(index2word))\n",
    "print('우리가 사용할 단어수 :', max_features)\n",
    "# 빈도수 순으로 500개 단어에 대해서만 원핫"
   ]
  },
  {
   "cell_type": "code",
   "execution_count": 9,
   "metadata": {
    "ExecuteTime": {
     "end_time": "2022-07-14T01:57:36.111525Z",
     "start_time": "2022-07-14T01:57:36.096513Z"
    },
    "colab": {
     "base_uri": "https://localhost:8080/"
    },
    "id": "LOGceIeZJHpT",
    "outputId": "1e23e09f-af04-4329-c8e2-a1607caac814"
   },
   "outputs": [
    {
     "name": "stdout",
     "output_type": "stream",
     "text": [
      "빈도가 높은 단어: the and a\n"
     ]
    }
   ],
   "source": [
    "print('빈도가 높은 단어:', index2word[4], index2word[5], index2word[6])"
   ]
  },
  {
   "cell_type": "code",
   "execution_count": 10,
   "metadata": {
    "ExecuteTime": {
     "end_time": "2022-07-14T01:57:41.535203Z",
     "start_time": "2022-07-14T01:57:36.112516Z"
    },
    "colab": {
     "base_uri": "https://localhost:8080/"
    },
    "id": "sgcRPjNqJdIV",
    "outputId": "427b7dca-2247-4431-b4e5-b18e0dfacfab"
   },
   "outputs": [
    {
     "name": "stdout",
     "output_type": "stream",
     "text": [
      "(25000,) (25000,) (25000,) (25000,)\n",
      "패딩 전: (25000,) (25000,)\n",
      "패딩 후: (25000, 100) (25000, 100)\n"
     ]
    }
   ],
   "source": [
    "# FCN : Fully connected network (Dense layer)\n",
    "max_features = 500  # 많은 단어를 사용할 수록 성능 향상? -> 다차원 데이터를 다루기 위해서는 FCN으로는 어렵다.\n",
    "max_len = 100  # 문장안에 존재할 최대 단어수\n",
    "# 문장 -> (단어의 개수 , 각 단어 벡터길이)\n",
    "(x_train, y_train), (x_test, y_test) = imdb.load_data(num_words=max_features)  # 몇개의 단어를 사용할 것인가\n",
    "print(x_train.shape, y_train.shape, x_test.shape, y_test.shape)\n",
    "\n",
    "print('패딩 전:', x_train.shape, y_test.shape)\n",
    "x_train = tf.keras.preprocessing.sequence.pad_sequences(x_train, maxlen=max_len)\n",
    "x_test = tf.keras.preprocessing.sequence.pad_sequences(x_test, maxlen=max_len)\n",
    "print('패딩 후:', x_train.shape, x_test.shape)"
   ]
  },
  {
   "cell_type": "code",
   "execution_count": 11,
   "metadata": {
    "ExecuteTime": {
     "end_time": "2022-07-14T01:57:41.550446Z",
     "start_time": "2022-07-14T01:57:41.536203Z"
    },
    "id": "utrzF0TyKVNC"
   },
   "outputs": [
    {
     "data": {
      "text/plain": [
       "array([  2,  33,   6,  22,  12, 215,  28,  77,  52,   5,  14, 407,  16,\n",
       "        82,   2,   8,   4, 107, 117,   2,  15, 256,   4,   2,   7,   2,\n",
       "         5,   2,  36,  71,  43,   2, 476,  26, 400, 317,  46,   7,   4,\n",
       "         2,   2,  13, 104,  88,   4, 381,  15, 297,  98,  32,   2,  56,\n",
       "        26, 141,   6, 194,   2,  18,   4, 226,  22,  21, 134, 476,  26,\n",
       "       480,   5, 144,  30,   2,  18,  51,  36,  28, 224,  92,  25, 104,\n",
       "         4, 226,  65,  16,  38,   2,  88,  12,  16, 283,   5,  16,   2,\n",
       "       113, 103,  32,  15,  16,   2,  19, 178,  32])"
      ]
     },
     "execution_count": 11,
     "metadata": {},
     "output_type": "execute_result"
    }
   ],
   "source": [
    "x_train[0]"
   ]
  },
  {
   "cell_type": "markdown",
   "metadata": {
    "id": "x0b-joGlMQMw"
   },
   "source": [
    "### **| 모델 학습**"
   ]
  },
  {
   "cell_type": "code",
   "execution_count": 12,
   "metadata": {
    "ExecuteTime": {
     "end_time": "2022-07-14T01:57:41.566459Z",
     "start_time": "2022-07-14T01:57:41.551445Z"
    },
    "id": "vhX0O85KMfJQ"
   },
   "outputs": [],
   "source": [
    "def create_model(max_len, max_features, emb_dims):\n",
    "    x = layers.Input(shape=max_len)\n",
    "    y = layers.Embedding(max_features, emb_dims)(x)\n",
    "    y = layers.Flatten()(y)\n",
    "    y = layers.Dense(32, activation='relu')(y)\n",
    "    y = layers.Dense(1, activation='sigmoid')(y)  # 이진분류\n",
    "    return models.Model(x, y)"
   ]
  },
  {
   "cell_type": "code",
   "execution_count": 13,
   "metadata": {
    "ExecuteTime": {
     "end_time": "2022-07-14T01:57:42.391887Z",
     "start_time": "2022-07-14T01:57:41.568450Z"
    },
    "colab": {
     "base_uri": "https://localhost:8080/"
    },
    "id": "W3sT2c6Qf9EW",
    "outputId": "b2d0f8ef-f0ed-45c2-a0e5-66fd534125b0"
   },
   "outputs": [
    {
     "name": "stdout",
     "output_type": "stream",
     "text": [
      "Model: \"model\"\n",
      "_________________________________________________________________\n",
      "Layer (type)                 Output Shape              Param #   \n",
      "=================================================================\n",
      "input_1 (InputLayer)         [(None, 100)]             0         \n",
      "_________________________________________________________________\n",
      "embedding (Embedding)        (None, 100, 100)          50000     \n",
      "_________________________________________________________________\n",
      "flatten (Flatten)            (None, 10000)             0         \n",
      "_________________________________________________________________\n",
      "dense (Dense)                (None, 32)                320032    \n",
      "_________________________________________________________________\n",
      "dense_1 (Dense)              (None, 1)                 33        \n",
      "=================================================================\n",
      "Total params: 370,065\n",
      "Trainable params: 370,065\n",
      "Non-trainable params: 0\n",
      "_________________________________________________________________\n"
     ]
    }
   ],
   "source": [
    "model = create_model(max_len, max_features, 100)\n",
    "model.summary()"
   ]
  },
  {
   "cell_type": "code",
   "execution_count": 14,
   "metadata": {
    "ExecuteTime": {
     "end_time": "2022-07-14T01:58:54.037015Z",
     "start_time": "2022-07-14T01:57:42.393876Z"
    },
    "colab": {
     "base_uri": "https://localhost:8080/"
    },
    "id": "O9x4UJtINbfQ",
    "outputId": "825dd281-7261-4b20-be5f-9a5c7056ec8d"
   },
   "outputs": [
    {
     "name": "stdout",
     "output_type": "stream",
     "text": [
      "Epoch 1/20\n",
      "625/625 [==============================] - 5s 6ms/step - loss: 0.5949 - acc: 0.6454 - val_loss: 0.4429 - val_acc: 0.7878\n",
      "Epoch 2/20\n",
      "625/625 [==============================] - 3s 5ms/step - loss: 0.3448 - acc: 0.8511 - val_loss: 0.4801 - val_acc: 0.7728\n",
      "Epoch 3/20\n",
      "625/625 [==============================] - 4s 6ms/step - loss: 0.1974 - acc: 0.9274 - val_loss: 0.5982 - val_acc: 0.7582\n",
      "Epoch 4/20\n",
      "625/625 [==============================] - 4s 7ms/step - loss: 0.0880 - acc: 0.9713 - val_loss: 0.8285 - val_acc: 0.7456\n",
      "Epoch 5/20\n",
      "625/625 [==============================] - 3s 5ms/step - loss: 0.0347 - acc: 0.9915 - val_loss: 1.0940 - val_acc: 0.7484\n",
      "Epoch 6/20\n",
      "625/625 [==============================] - 3s 5ms/step - loss: 0.0176 - acc: 0.9962 - val_loss: 1.2993 - val_acc: 0.7490\n",
      "Epoch 7/20\n",
      "625/625 [==============================] - 3s 5ms/step - loss: 0.0116 - acc: 0.9971 - val_loss: 1.5140 - val_acc: 0.7416\n",
      "Epoch 8/20\n",
      "625/625 [==============================] - 3s 5ms/step - loss: 0.0332 - acc: 0.9884 - val_loss: 1.4196 - val_acc: 0.7396\n",
      "Epoch 9/20\n",
      "625/625 [==============================] - 3s 5ms/step - loss: 0.0268 - acc: 0.9915 - val_loss: 1.5721 - val_acc: 0.7392\n",
      "Epoch 10/20\n",
      "625/625 [==============================] - 3s 5ms/step - loss: 0.0125 - acc: 0.9962 - val_loss: 1.7408 - val_acc: 0.7412\n",
      "Epoch 11/20\n",
      "625/625 [==============================] - 3s 5ms/step - loss: 0.0037 - acc: 0.9993 - val_loss: 1.9016 - val_acc: 0.7416\n",
      "Epoch 12/20\n",
      "625/625 [==============================] - 3s 5ms/step - loss: 0.0020 - acc: 0.9996 - val_loss: 2.0176 - val_acc: 0.7430\n",
      "Epoch 13/20\n",
      "625/625 [==============================] - 3s 5ms/step - loss: 0.0090 - acc: 0.9972 - val_loss: 1.8518 - val_acc: 0.7338\n",
      "Epoch 14/20\n",
      "625/625 [==============================] - 4s 6ms/step - loss: 0.0363 - acc: 0.9876 - val_loss: 1.7828 - val_acc: 0.7388\n",
      "Epoch 15/20\n",
      "625/625 [==============================] - 4s 6ms/step - loss: 0.0108 - acc: 0.9964 - val_loss: 1.9687 - val_acc: 0.7358\n",
      "Epoch 16/20\n",
      "625/625 [==============================] - 4s 6ms/step - loss: 0.0028 - acc: 0.9996 - val_loss: 2.0628 - val_acc: 0.7394\n",
      "Epoch 17/20\n",
      "625/625 [==============================] - 4s 6ms/step - loss: 0.0011 - acc: 0.9997 - val_loss: 2.2209 - val_acc: 0.7386\n",
      "Epoch 18/20\n",
      "625/625 [==============================] - 4s 7ms/step - loss: 5.2057e-04 - acc: 0.9999 - val_loss: 2.2975 - val_acc: 0.7380\n",
      "Epoch 19/20\n",
      "625/625 [==============================] - 4s 6ms/step - loss: 2.5377e-04 - acc: 1.0000 - val_loss: 2.3723 - val_acc: 0.7382\n",
      "Epoch 20/20\n",
      "625/625 [==============================] - 3s 5ms/step - loss: 2.4240e-04 - acc: 1.0000 - val_loss: 2.4380 - val_acc: 0.7376\n"
     ]
    }
   ],
   "source": [
    "model.compile(optimizer='adam',\n",
    "              loss = 'binary_crossentropy',\n",
    "              metrics=['acc'])\n",
    "history = model.fit(x_train, y_train,\n",
    "                    epochs=20,\n",
    "                    batch_size=32,\n",
    "                    validation_split=0.2)"
   ]
  },
  {
   "cell_type": "code",
   "execution_count": 16,
   "metadata": {
    "ExecuteTime": {
     "end_time": "2022-07-14T02:00:35.303656Z",
     "start_time": "2022-07-14T02:00:34.541624Z"
    }
   },
   "outputs": [
    {
     "data": {
      "image/png": "[encoded data removed]",
      "text/plain": [
       "<Figure size 864x288 with 2 Axes>"
      ]
     },
     "metadata": {
      "needs_background": "light"
     },
     "output_type": "display_data"
    }
   ],
   "source": [
    "from Myfunc import show_lcurve\n",
    "show_lcurve([history], [\"\"], [\"r\"])"
   ]
  },
  {
   "cell_type": "markdown",
   "metadata": {
    "id": "l3K7QrTBGI5f"
   },
   "source": [
    "## 사전 훈련된 Embedding 사용하기\n",
    "---\n",
    "\n"
   ]
  },
  {
   "cell_type": "code",
   "execution_count": 27,
   "metadata": {
    "ExecuteTime": {
     "end_time": "2022-07-14T02:10:31.217369Z",
     "start_time": "2022-07-14T02:10:30.468840Z"
    }
   },
   "outputs": [],
   "source": [
    "import tensorflow_datasets as tfds\n",
    "train_data, validation_data, test_data = tfds.load(\n",
    "    name=\"imdb_reviews\", \n",
    "    split=('train[:60%]', 'train[60%:]', 'test'),\n",
    "    as_supervised=True)"
   ]
  },
  {
   "cell_type": "markdown",
   "metadata": {
    "id": "Z6Ob1lPINhu4"
   },
   "source": [
    "### **| GloVe 단어 임베딩 내려받기**\n",
    "\n",
    "```\n",
    "https://drive.google.com/u/0/uc?id=1ams5_zp8NrfmbxSzTDCglRpAvjFGi5JY&export=download\n",
    "```"
   ]
  },
  {
   "cell_type": "code",
   "execution_count": 22,
   "metadata": {
    "ExecuteTime": {
     "end_time": "2022-07-14T02:09:31.131045Z",
     "start_time": "2022-07-14T02:09:29.005709Z"
    },
    "id": "37gKeekxmmHI"
   },
   "outputs": [
    {
     "name": "stdout",
     "output_type": "stream",
     "text": [
      "WARNING:tensorflow:6 out of the last 6 calls to <function recreate_function.<locals>.restored_function_body at 0x000002586A6A5438> triggered tf.function retracing. Tracing is expensive and the excessive number of tracings could be due to (1) creating @tf.function repeatedly in a loop, (2) passing tensors with different shapes, (3) passing Python objects instead of tensors. For (1), please define your @tf.function outside of the loop. For (2), @tf.function has experimental_relax_shapes=True option that relaxes argument shapes that can avoid unnecessary retracing. For (3), please refer to https://www.tensorflow.org/guide/function#controlling_retracing and https://www.tensorflow.org/api_docs/python/tf/function for  more details.\n"
     ]
    },
    {
     "name": "stderr",
     "output_type": "stream",
     "text": [
      "Exception ignored in: <function CapturableResourceDeleter.__del__ at 0x000002586119D4C8>\n",
      "Traceback (most recent call last):\n",
      "  File \"C:\\Users\\user\\miniconda3\\envs\\deep_tf\\lib\\site-packages\\tensorflow\\python\\training\\tracking\\tracking.py\", line 208, in __del__\n",
      "    self._destroy_resource()\n",
      "  File \"C:\\Users\\user\\miniconda3\\envs\\deep_tf\\lib\\site-packages\\tensorflow\\python\\eager\\def_function.py\", line 828, in __call__\n",
      "    result = self._call(*args, **kwds)\n",
      "  File \"C:\\Users\\user\\miniconda3\\envs\\deep_tf\\lib\\site-packages\\tensorflow\\python\\eager\\def_function.py\", line 871, in _call\n",
      "    self._initialize(args, kwds, add_initializers_to=initializers)\n",
      "  File \"C:\\Users\\user\\miniconda3\\envs\\deep_tf\\lib\\site-packages\\tensorflow\\python\\eager\\def_function.py\", line 726, in _initialize\n",
      "    *args, **kwds))\n",
      "  File \"C:\\Users\\user\\miniconda3\\envs\\deep_tf\\lib\\site-packages\\tensorflow\\python\\eager\\function.py\", line 2969, in _get_concrete_function_internal_garbage_collected\n",
      "    graph_function, _ = self._maybe_define_function(args, kwargs)\n",
      "  File \"C:\\Users\\user\\miniconda3\\envs\\deep_tf\\lib\\site-packages\\tensorflow\\python\\eager\\function.py\", line 3361, in _maybe_define_function\n",
      "    graph_function = self._create_graph_function(args, kwargs)\n",
      "  File \"C:\\Users\\user\\miniconda3\\envs\\deep_tf\\lib\\site-packages\\tensorflow\\python\\eager\\function.py\", line 3206, in _create_graph_function\n",
      "    capture_by_value=self._capture_by_value),\n",
      "  File \"C:\\Users\\user\\miniconda3\\envs\\deep_tf\\lib\\site-packages\\tensorflow\\python\\framework\\func_graph.py\", line 990, in func_graph_from_py_func\n",
      "    func_outputs = python_func(*func_args, **func_kwargs)\n",
      "  File \"C:\\Users\\user\\miniconda3\\envs\\deep_tf\\lib\\site-packages\\tensorflow\\python\\eager\\def_function.py\", line 634, in wrapped_fn\n",
      "    out = weak_wrapped_fn().__wrapped__(*args, **kwds)\n",
      "  File \"C:\\Users\\user\\miniconda3\\envs\\deep_tf\\lib\\site-packages\\tensorflow\\python\\saved_model\\function_deserialization.py\", line 253, in restored_function_body\n",
      "    return _call_concrete_function(function, inputs)\n",
      "  File \"C:\\Users\\user\\miniconda3\\envs\\deep_tf\\lib\\site-packages\\tensorflow\\python\\saved_model\\function_deserialization.py\", line 75, in _call_concrete_function\n",
      "    result = function._call_flat(tensor_inputs, function._captured_inputs)  # pylint: disable=protected-access\n",
      "  File \"C:\\Users\\user\\miniconda3\\envs\\deep_tf\\lib\\site-packages\\tensorflow\\python\\saved_model\\load.py\", line 116, in _call_flat\n",
      "    cancellation_manager)\n",
      "  File \"C:\\Users\\user\\miniconda3\\envs\\deep_tf\\lib\\site-packages\\tensorflow\\python\\eager\\function.py\", line 1932, in _call_flat\n",
      "    flat_outputs = forward_function.call(ctx, args_with_tangents)\n",
      "  File \"C:\\Users\\user\\miniconda3\\envs\\deep_tf\\lib\\site-packages\\tensorflow\\python\\eager\\function.py\", line 589, in call\n",
      "    executor_type=executor_type)\n",
      "  File \"C:\\Users\\user\\miniconda3\\envs\\deep_tf\\lib\\site-packages\\tensorflow\\python\\ops\\functional_ops.py\", line 1206, in partitioned_call\n",
      "    f.add_to_graph(graph)\n",
      "  File \"C:\\Users\\user\\miniconda3\\envs\\deep_tf\\lib\\site-packages\\tensorflow\\python\\eager\\function.py\", line 505, in add_to_graph\n",
      "    g._add_function(self)\n",
      "  File \"C:\\Users\\user\\miniconda3\\envs\\deep_tf\\lib\\site-packages\\tensorflow\\python\\framework\\ops.py\", line 3396, in _add_function\n",
      "    gradient)\n",
      "tensorflow.python.framework.errors_impl.InvalidArgumentError: 'func' argument to TF_GraphCopyFunction cannot be null\n",
      "WARNING:tensorflow:6 out of the last 6 calls to <function recreate_function.<locals>.restored_function_body at 0x000002586A6A5438> triggered tf.function retracing. Tracing is expensive and the excessive number of tracings could be due to (1) creating @tf.function repeatedly in a loop, (2) passing tensors with different shapes, (3) passing Python objects instead of tensors. For (1), please define your @tf.function outside of the loop. For (2), @tf.function has experimental_relax_shapes=True option that relaxes argument shapes that can avoid unnecessary retracing. For (3), please refer to https://www.tensorflow.org/guide/function#controlling_retracing and https://www.tensorflow.org/api_docs/python/tf/function for  more details.\n"
     ]
    },
    {
     "name": "stdout",
     "output_type": "stream",
     "text": [
      "WARNING:tensorflow:7 out of the last 7 calls to <function recreate_function.<locals>.restored_function_body at 0x000002586A6BBDC8> triggered tf.function retracing. Tracing is expensive and the excessive number of tracings could be due to (1) creating @tf.function repeatedly in a loop, (2) passing tensors with different shapes, (3) passing Python objects instead of tensors. For (1), please define your @tf.function outside of the loop. For (2), @tf.function has experimental_relax_shapes=True option that relaxes argument shapes that can avoid unnecessary retracing. For (3), please refer to https://www.tensorflow.org/guide/function#controlling_retracing and https://www.tensorflow.org/api_docs/python/tf/function for  more details.\n"
     ]
    },
    {
     "name": "stderr",
     "output_type": "stream",
     "text": [
      "WARNING:tensorflow:7 out of the last 7 calls to <function recreate_function.<locals>.restored_function_body at 0x000002586A6BBDC8> triggered tf.function retracing. Tracing is expensive and the excessive number of tracings could be due to (1) creating @tf.function repeatedly in a loop, (2) passing tensors with different shapes, (3) passing Python objects instead of tensors. For (1), please define your @tf.function outside of the loop. For (2), @tf.function has experimental_relax_shapes=True option that relaxes argument shapes that can avoid unnecessary retracing. For (3), please refer to https://www.tensorflow.org/guide/function#controlling_retracing and https://www.tensorflow.org/api_docs/python/tf/function for  more details.\n"
     ]
    }
   ],
   "source": [
    "embeddings = hub.KerasLayer(\"https://tfhub.dev/google/nnlm-en-dim50/2\",\n",
    "                            input_shape=[],\n",
    "                            dtype=tf.string,\n",
    "                            trainable=True)"
   ]
  },
  {
   "cell_type": "code",
   "execution_count": 23,
   "metadata": {
    "ExecuteTime": {
     "end_time": "2022-07-14T02:09:43.426078Z",
     "start_time": "2022-07-14T02:09:42.964984Z"
    },
    "id": "ClAAbJ56mItI",
    "scrolled": true
   },
   "outputs": [
    {
     "name": "stdout",
     "output_type": "stream",
     "text": [
      "Model: \"sequential\"\n",
      "_________________________________________________________________\n",
      "Layer (type)                 Output Shape              Param #   \n",
      "=================================================================\n",
      "keras_layer_2 (KerasLayer)   (None, 50)                48190600  \n",
      "_________________________________________________________________\n",
      "dense_2 (Dense)              (None, 16)                816       \n",
      "_________________________________________________________________\n",
      "dense_3 (Dense)              (None, 1)                 17        \n",
      "=================================================================\n",
      "Total params: 48,191,433\n",
      "Trainable params: 48,191,433\n",
      "Non-trainable params: 0\n",
      "_________________________________________________________________\n"
     ]
    }
   ],
   "source": [
    "model = tf.keras.Sequential()\n",
    "model.add(embeddings)\n",
    "model.add(tf.keras.layers.Dense(16, activation='relu'))\n",
    "model.add(tf.keras.layers.Dense(1))\n",
    "\n",
    "model.summary()"
   ]
  },
  {
   "cell_type": "code",
   "execution_count": 24,
   "metadata": {
    "ExecuteTime": {
     "end_time": "2022-07-14T02:09:52.059053Z",
     "start_time": "2022-07-14T02:09:52.044040Z"
    }
   },
   "outputs": [],
   "source": [
    "model.compile(optimizer='adam',\n",
    "              loss=tf.keras.losses.BinaryCrossentropy(from_logits=True),\n",
    "              metrics=['acc'])"
   ]
  },
  {
   "cell_type": "code",
   "execution_count": 25,
   "metadata": {
    "ExecuteTime": {
     "end_time": "2022-07-14T02:10:09.631096Z",
     "start_time": "2022-07-14T02:10:09.621094Z"
    }
   },
   "outputs": [],
   "source": [
    "early_stopping = callbacks.EarlyStopping(monitor=\"val_acc\", patience=3)"
   ]
  },
  {
   "cell_type": "code",
   "execution_count": 28,
   "metadata": {
    "ExecuteTime": {
     "end_time": "2022-07-14T02:11:56.106916Z",
     "start_time": "2022-07-14T02:10:35.773017Z"
    }
   },
   "outputs": [
    {
     "name": "stdout",
     "output_type": "stream",
     "text": [
      "Epoch 1/20\n",
      "WARNING:tensorflow:8 out of the last 8 calls to <function recreate_function.<locals>.restored_function_body at 0x000002587A5794C8> triggered tf.function retracing. Tracing is expensive and the excessive number of tracings could be due to (1) creating @tf.function repeatedly in a loop, (2) passing tensors with different shapes, (3) passing Python objects instead of tensors. For (1), please define your @tf.function outside of the loop. For (2), @tf.function has experimental_relax_shapes=True option that relaxes argument shapes that can avoid unnecessary retracing. For (3), please refer to https://www.tensorflow.org/guide/function#controlling_retracing and https://www.tensorflow.org/api_docs/python/tf/function for  more details.\n"
     ]
    },
    {
     "name": "stderr",
     "output_type": "stream",
     "text": [
      "WARNING:tensorflow:8 out of the last 8 calls to <function recreate_function.<locals>.restored_function_body at 0x000002587A5794C8> triggered tf.function retracing. Tracing is expensive and the excessive number of tracings could be due to (1) creating @tf.function repeatedly in a loop, (2) passing tensors with different shapes, (3) passing Python objects instead of tensors. For (1), please define your @tf.function outside of the loop. For (2), @tf.function has experimental_relax_shapes=True option that relaxes argument shapes that can avoid unnecessary retracing. For (3), please refer to https://www.tensorflow.org/guide/function#controlling_retracing and https://www.tensorflow.org/api_docs/python/tf/function for  more details.\n"
     ]
    },
    {
     "name": "stdout",
     "output_type": "stream",
     "text": [
      "30/30 [==============================] - 10s 274ms/step - loss: 0.6801 - acc: 0.5089 - val_loss: 0.6053 - val_acc: 0.5821\n",
      "Epoch 2/20\n",
      "30/30 [==============================] - 8s 256ms/step - loss: 0.5661 - acc: 0.6646 - val_loss: 0.4953 - val_acc: 0.7632\n",
      "Epoch 3/20\n",
      "30/30 [==============================] - 8s 258ms/step - loss: 0.4275 - acc: 0.8149 - val_loss: 0.3920 - val_acc: 0.8148\n",
      "Epoch 4/20\n",
      "30/30 [==============================] - 8s 259ms/step - loss: 0.3057 - acc: 0.8803 - val_loss: 0.3330 - val_acc: 0.8537\n",
      "Epoch 5/20\n",
      "30/30 [==============================] - 8s 257ms/step - loss: 0.2148 - acc: 0.9239 - val_loss: 0.3079 - val_acc: 0.8627\n",
      "Epoch 6/20\n",
      "30/30 [==============================] - 8s 259ms/step - loss: 0.1555 - acc: 0.9521 - val_loss: 0.3004 - val_acc: 0.8701\n",
      "Epoch 7/20\n",
      "30/30 [==============================] - 8s 258ms/step - loss: 0.1073 - acc: 0.9705 - val_loss: 0.3015 - val_acc: 0.8745\n",
      "Epoch 8/20\n",
      "30/30 [==============================] - 8s 257ms/step - loss: 0.0788 - acc: 0.9820 - val_loss: 0.3110 - val_acc: 0.8731\n",
      "Epoch 9/20\n",
      "30/30 [==============================] - 8s 271ms/step - loss: 0.0543 - acc: 0.9916 - val_loss: 0.3245 - val_acc: 0.8733\n",
      "Epoch 10/20\n",
      "30/30 [==============================] - 8s 274ms/step - loss: 0.0377 - acc: 0.9959 - val_loss: 0.3377 - val_acc: 0.8713\n"
     ]
    }
   ],
   "source": [
    "history = model.fit(train_data.shuffle(10000).batch(512),\n",
    "                    epochs=20,\n",
    "                    validation_data=validation_data.batch(512),\n",
    "                    verbose=1,\n",
    "                    callbacks=[early_stopping])"
   ]
  },
  {
   "cell_type": "code",
   "execution_count": 10,
   "metadata": {
    "ExecuteTime": {
     "end_time": "2022-07-14T01:35:00.189082Z",
     "start_time": "2022-07-14T01:34:59.828366Z"
    }
   },
   "outputs": [
    {
     "data": {
      "image/png": "[encoded data removed]",
      "text/plain": [
       "<Figure size 864x288 with 2 Axes>"
      ]
     },
     "metadata": {
      "needs_background": "light"
     },
     "output_type": "display_data"
    }
   ],
   "source": [
    "from Myfunc import show_lcurve\n",
    "show_lcurve([history], [\"\"], [\"b\"])"
   ]
  },
  {
   "cell_type": "markdown",
   "metadata": {
    "id": "-0voM702NyN_"
   },
   "source": [
    "### **| 임베딩 매트릭스 제작**\n"
   ]
  },
  {
   "cell_type": "code",
   "execution_count": null,
   "metadata": {
    "id": "Qd2meCF_2brf"
   },
   "outputs": [],
   "source": []
  },
  {
   "cell_type": "code",
   "execution_count": null,
   "metadata": {
    "id": "11HaKUORnLau"
   },
   "outputs": [],
   "source": []
  },
  {
   "cell_type": "markdown",
   "metadata": {
    "id": "0NdnxekRN5x3"
   },
   "source": [
    "### **| 임베딩 매트릭스 적용하기**"
   ]
  },
  {
   "cell_type": "code",
   "execution_count": null,
   "metadata": {
    "id": "GgAXH_T7OBqQ"
   },
   "outputs": [],
   "source": []
  },
  {
   "cell_type": "code",
   "execution_count": null,
   "metadata": {
    "id": "2XBq_2UYzhgO"
   },
   "outputs": [],
   "source": []
  },
  {
   "cell_type": "markdown",
   "metadata": {
    "id": "UcW36RYhGOTv"
   },
   "source": [
    "## 추가 학습 : 규제 적용하기\n",
    "---"
   ]
  },
  {
   "cell_type": "code",
   "execution_count": 12,
   "metadata": {
    "ExecuteTime": {
     "end_time": "2022-07-14T01:37:06.174886Z",
     "start_time": "2022-07-14T01:37:06.157039Z"
    },
    "id": "JQJWF1-z8MvW"
   },
   "outputs": [],
   "source": [
    "def create_model(max_len, max_features, emb_dims):\n",
    "    x = layers.Input(shape=max_len)\n",
    "    y = layers.Embedding(max_features, emb_dims)(x)\n",
    "    y = layers.Flatten()(y)\n",
    "    y = layers.Dense(32, activation=\"relu\", kernel_regularizer=tf.keras.regularizers.L2(0.1))(y)\n",
    "    y = layers.Dense(1, activation=\"sigmoid\")(y)\n",
    "    return models.Model(x, y)"
   ]
  },
  {
   "cell_type": "code",
   "execution_count": 13,
   "metadata": {
    "ExecuteTime": {
     "end_time": "2022-07-14T01:45:53.322288Z",
     "start_time": "2022-07-14T01:45:50.851822Z"
    }
   },
   "outputs": [],
   "source": [
    "embeddings = hub.KerasLayer(\"https://tfhub.dev/google/nnlm-en-dim128/2\",\n",
    "                            input_shape=[],\n",
    "                            dtype=tf.string,\n",
    "                            trainable=True)"
   ]
  },
  {
   "cell_type": "code",
   "execution_count": 14,
   "metadata": {
    "ExecuteTime": {
     "end_time": "2022-07-14T01:45:53.385560Z",
     "start_time": "2022-07-14T01:45:53.324276Z"
    },
    "id": "VQPAVyEU668I"
   },
   "outputs": [
    {
     "name": "stdout",
     "output_type": "stream",
     "text": [
      "Model: \"sequential_3\"\n",
      "_________________________________________________________________\n",
      "Layer (type)                 Output Shape              Param #   \n",
      "=================================================================\n",
      "keras_layer_1 (KerasLayer)   (None, 128)               124642688 \n",
      "_________________________________________________________________\n",
      "dense_4 (Dense)              (None, 16)                2064      \n",
      "_________________________________________________________________\n",
      "dense_5 (Dense)              (None, 1)                 17        \n",
      "=================================================================\n",
      "Total params: 124,644,769\n",
      "Trainable params: 124,644,769\n",
      "Non-trainable params: 0\n",
      "_________________________________________________________________\n"
     ]
    }
   ],
   "source": [
    "model = tf.keras.Sequential()\n",
    "model.add(embeddings)\n",
    "model.add(tf.keras.layers.Dense(16, activation='relu', kernel_regularizer=tf.keras.regularizers.L2(0.01)))\n",
    "model.add(tf.keras.layers.Dense(1))\n",
    "model.summary()"
   ]
  },
  {
   "cell_type": "code",
   "execution_count": 15,
   "metadata": {
    "ExecuteTime": {
     "end_time": "2022-07-14T01:45:54.479791Z",
     "start_time": "2022-07-14T01:45:54.468655Z"
    }
   },
   "outputs": [],
   "source": [
    "model.compile(optimizer='adam',\n",
    "              loss=tf.keras.losses.BinaryCrossentropy(from_logits=True),\n",
    "              metrics=['acc'])"
   ]
  },
  {
   "cell_type": "code",
   "execution_count": 16,
   "metadata": {
    "ExecuteTime": {
     "end_time": "2022-07-14T01:45:55.468045Z",
     "start_time": "2022-07-14T01:45:55.459480Z"
    }
   },
   "outputs": [],
   "source": [
    "early_stopping = callbacks.EarlyStopping(monitor=\"val_acc\", patience=3)"
   ]
  },
  {
   "cell_type": "code",
   "execution_count": 17,
   "metadata": {
    "ExecuteTime": {
     "end_time": "2022-07-14T01:48:48.928389Z",
     "start_time": "2022-07-14T01:45:56.236224Z"
    }
   },
   "outputs": [
    {
     "name": "stdout",
     "output_type": "stream",
     "text": [
      "Epoch 1/10\n",
      "WARNING:tensorflow:5 out of the last 5 calls to <function recreate_function.<locals>.restored_function_body at 0x000001AA06365B88> triggered tf.function retracing. Tracing is expensive and the excessive number of tracings could be due to (1) creating @tf.function repeatedly in a loop, (2) passing tensors with different shapes, (3) passing Python objects instead of tensors. For (1), please define your @tf.function outside of the loop. For (2), @tf.function has experimental_relax_shapes=True option that relaxes argument shapes that can avoid unnecessary retracing. For (3), please refer to https://www.tensorflow.org/guide/function#controlling_retracing and https://www.tensorflow.org/api_docs/python/tf/function for  more details.\n"
     ]
    },
    {
     "name": "stderr",
     "output_type": "stream",
     "text": [
      "WARNING:tensorflow:5 out of the last 5 calls to <function recreate_function.<locals>.restored_function_body at 0x000001AA06365B88> triggered tf.function retracing. Tracing is expensive and the excessive number of tracings could be due to (1) creating @tf.function repeatedly in a loop, (2) passing tensors with different shapes, (3) passing Python objects instead of tensors. For (1), please define your @tf.function outside of the loop. For (2), @tf.function has experimental_relax_shapes=True option that relaxes argument shapes that can avoid unnecessary retracing. For (3), please refer to https://www.tensorflow.org/guide/function#controlling_retracing and https://www.tensorflow.org/api_docs/python/tf/function for  more details.\n"
     ]
    },
    {
     "name": "stdout",
     "output_type": "stream",
     "text": [
      "30/30 [==============================] - 19s 573ms/step - loss: 0.9342 - acc: 0.5137 - val_loss: 0.7885 - val_acc: 0.6058\n",
      "Epoch 2/10\n",
      "30/30 [==============================] - 17s 573ms/step - loss: 0.7249 - acc: 0.6847 - val_loss: 0.6044 - val_acc: 0.7800\n",
      "Epoch 3/10\n",
      "30/30 [==============================] - 17s 567ms/step - loss: 0.5223 - acc: 0.8437 - val_loss: 0.4868 - val_acc: 0.8460\n",
      "Epoch 4/10\n",
      "30/30 [==============================] - 17s 570ms/step - loss: 0.3873 - acc: 0.9103 - val_loss: 0.4280 - val_acc: 0.8594\n",
      "Epoch 5/10\n",
      "30/30 [==============================] - 17s 571ms/step - loss: 0.2916 - acc: 0.9454 - val_loss: 0.3954 - val_acc: 0.8705\n",
      "Epoch 6/10\n",
      "30/30 [==============================] - 17s 565ms/step - loss: 0.2340 - acc: 0.9608 - val_loss: 0.3772 - val_acc: 0.8713\n",
      "Epoch 7/10\n",
      "30/30 [==============================] - 17s 569ms/step - loss: 0.1901 - acc: 0.9776 - val_loss: 0.3684 - val_acc: 0.8754\n",
      "Epoch 8/10\n",
      "30/30 [==============================] - 17s 570ms/step - loss: 0.1597 - acc: 0.9857 - val_loss: 0.3618 - val_acc: 0.8705\n",
      "Epoch 9/10\n",
      "30/30 [==============================] - 17s 569ms/step - loss: 0.1392 - acc: 0.9894 - val_loss: 0.3598 - val_acc: 0.8717\n",
      "Epoch 10/10\n",
      "30/30 [==============================] - 17s 568ms/step - loss: 0.1202 - acc: 0.9937 - val_loss: 0.3584 - val_acc: 0.8691\n"
     ]
    }
   ],
   "source": [
    "history = model.fit(train_data.shuffle(10000).batch(512),\n",
    "                    epochs=10,\n",
    "                    validation_data=validation_data.batch(512),\n",
    "                    verbose=1,\n",
    "                   callbacks=[early_stopping])"
   ]
  },
  {
   "cell_type": "code",
   "execution_count": 18,
   "metadata": {
    "ExecuteTime": {
     "end_time": "2022-07-14T01:49:12.874165Z",
     "start_time": "2022-07-14T01:49:12.141289Z"
    }
   },
   "outputs": [
    {
     "data": {
      "image/png": "[encoded data removed]",
      "text/plain": [
       "<Figure size 864x288 with 2 Axes>"
      ]
     },
     "metadata": {
      "needs_background": "light"
     },
     "output_type": "display_data"
    }
   ],
   "source": [
    "from Myfunc import show_lcurve\n",
    "show_lcurve([history], [\"\"], [\"b\"])"
   ]
  },
  {
   "cell_type": "code",
   "execution_count": null,
   "metadata": {},
   "outputs": [],
   "source": []
  }
 ],
 "metadata": {
  "colab": {
   "collapsed_sections": [],
   "name": "ch03_02_NLP기초-imdb리뷰분류.ipynb",
   "provenance": []
  },
  "gpuClass": "standard",
  "kernelspec": {
   "display_name": "Python 3 (ipykernel)",
   "language": "python",
   "name": "python3"
  },
  "language_info": {
   "codemirror_mode": {
    "name": "ipython",
    "version": 3
   },
   "file_extension": ".py",
   "mimetype": "text/x-python",
   "name": "python",
   "nbconvert_exporter": "python",
   "pygments_lexer": "ipython3",
   "version": "3.7.10"
  },
  "toc": {
   "base_numbering": 1,
   "nav_menu": {},
   "number_sections": true,
   "sideBar": true,
   "skip_h1_title": false,
   "title_cell": "Table of Contents",
   "title_sidebar": "Contents",
   "toc_cell": false,
   "toc_position": {},
   "toc_section_display": true,
   "toc_window_display": false
  }
 },
 "nbformat": 4,
 "nbformat_minor": 1
}
