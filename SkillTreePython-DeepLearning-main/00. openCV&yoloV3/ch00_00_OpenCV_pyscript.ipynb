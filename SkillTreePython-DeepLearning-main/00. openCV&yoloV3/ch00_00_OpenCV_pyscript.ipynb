{
 "cells": [
  {
   "cell_type": "code",
   "execution_count": 1,
   "id": "9f2b1439",
   "metadata": {
    "ExecuteTime": {
     "end_time": "2022-06-22T06:28:40.491747Z",
     "start_time": "2022-06-22T06:28:40.460310Z"
    }
   },
   "outputs": [],
   "source": [
    "import sys\n",
    "sys.path.append(\"C:\\\\Users\\\\rh987\\\\OneDrive\\\\python\\\\module\")"
   ]
  },
  {
   "cell_type": "code",
   "execution_count": 1,
   "id": "fa3e2377",
   "metadata": {
    "ExecuteTime": {
     "end_time": "2022-06-22T06:27:44.352650Z",
     "start_time": "2022-06-22T06:27:44.322301Z"
    }
   },
   "outputs": [],
   "source": [
    "import cv2"
   ]
  },
  {
   "cell_type": "code",
   "execution_count": 2,
   "id": "08f4e4a3",
   "metadata": {
    "ExecuteTime": {
     "end_time": "2022-06-22T06:28:42.873628Z",
     "start_time": "2022-06-22T06:28:41.689660Z"
    }
   },
   "outputs": [],
   "source": [
    "from yolo import *"
   ]
  },
  {
   "cell_type": "code",
   "execution_count": 4,
   "id": "9e13d1b3",
   "metadata": {
    "ExecuteTime": {
     "end_time": "2022-06-22T06:29:01.047248Z",
     "start_time": "2022-06-22T06:29:00.601868Z"
    },
    "scrolled": true
   },
   "outputs": [],
   "source": [
    "model, predict_layer_names, class_names, num_model = set_model(model_folder_path=\"yolo_v3_model/\")"
   ]
  },
  {
   "cell_type": "code",
   "execution_count": 5,
   "id": "51612930",
   "metadata": {
    "ExecuteTime": {
     "end_time": "2022-06-22T06:29:10.400079Z",
     "start_time": "2022-06-22T06:29:01.777762Z"
    }
   },
   "outputs": [],
   "source": [
    "img = cv2.imread(\"../imgs/car_samp1.jpg\")\n",
    "img2detect(img, model, predict_layer_names, num_model)\n",
    "cv2.waitKey(0)\n",
    "cv2.destroyAllWindows()"
   ]
  },
  {
   "cell_type": "code",
   "execution_count": 8,
   "id": "fdb06dd2",
   "metadata": {
    "ExecuteTime": {
     "end_time": "2022-06-22T06:29:56.345423Z",
     "start_time": "2022-06-22T06:29:56.321451Z"
    }
   },
   "outputs": [],
   "source": [
    "# 동영상 파일 열기\n",
    "cap = cv2.VideoCapture(\"../imgs/car.mp4\")"
   ]
  },
  {
   "cell_type": "code",
   "execution_count": 9,
   "id": "dd421582",
   "metadata": {
    "ExecuteTime": {
     "end_time": "2022-06-22T06:31:29.377259Z",
     "start_time": "2022-06-22T06:30:07.321842Z"
    }
   },
   "outputs": [],
   "source": [
    "while cap.isOpened():\n",
    "    success, image = cap.read()\n",
    "    if not success:\n",
    "        break\n",
    "    \n",
    "    img2detect(image, model, predict_layer_names, num_model)\n",
    "    if cv2.waitKey(1) == ord('q'):\n",
    "        break\n",
    "        \n",
    "cap.release()\n",
    "cv2.destroyAllWindows()"
   ]
  },
  {
   "cell_type": "code",
   "execution_count": null,
   "id": "f144f962",
   "metadata": {},
   "outputs": [],
   "source": []
  }
 ],
 "metadata": {
  "kernelspec": {
   "display_name": "Python 3 (ipykernel)",
   "language": "python",
   "name": "python3"
  },
  "language_info": {
   "codemirror_mode": {
    "name": "ipython",
    "version": 3
   },
   "file_extension": ".py",
   "mimetype": "text/x-python",
   "name": "python",
   "nbconvert_exporter": "python",
   "pygments_lexer": "ipython3",
   "version": "3.8.13"
  },
  "toc": {
   "base_numbering": 1,
   "nav_menu": {},
   "number_sections": true,
   "sideBar": true,
   "skip_h1_title": false,
   "title_cell": "Table of Contents",
   "title_sidebar": "Contents",
   "toc_cell": false,
   "toc_position": {},
   "toc_section_display": true,
   "toc_window_display": false
  },
  "varInspector": {
   "cols": {
    "lenName": 16,
    "lenType": 16,
    "lenVar": 40
   },
   "kernels_config": {
    "python": {
     "delete_cmd_postfix": "",
     "delete_cmd_prefix": "del ",
     "library": "var_list.py",
     "varRefreshCmd": "print(var_dic_list())"
    },
    "r": {
     "delete_cmd_postfix": ") ",
     "delete_cmd_prefix": "rm(",
     "library": "var_list.r",
     "varRefreshCmd": "cat(var_dic_list()) "
    }
   },
   "types_to_exclude": [
    "module",
    "function",
    "builtin_function_or_method",
    "instance",
    "_Feature"
   ],
   "window_display": false
  }
 },
 "nbformat": 4,
 "nbformat_minor": 5
}
