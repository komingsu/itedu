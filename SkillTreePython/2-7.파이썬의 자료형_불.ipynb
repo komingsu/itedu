{
  "cells": [
    {
      "cell_type": "markdown",
      "metadata": {
        "id": "view-in-github",
        "colab_type": "text"
      },
      "source": [
        "<a href=\"https://colab.research.google.com/github/komingsu/SkillTreePython/blob/main/2-7.%ED%8C%8C%EC%9D%B4%EC%8D%AC%EC%9D%98%20%EC%9E%90%EB%A3%8C%ED%98%95_%EB%B6%88.ipynb\" target=\"_parent\"><img src=\"https://colab.research.google.com/assets/colab-badge.svg\" alt=\"Open In Colab\"/></a>"
      ]
    },
    {
      "cell_type": "markdown",
      "metadata": {
        "id": "kB5IciXEm6o4"
      },
      "source": [
        "# 2-7.파이썬의 자료형:불 \n",
        "---\n",
        "* 날짜: 2022-03-30\n",
        "* 이름: 고민수"
      ]
    },
    {
      "cell_type": "markdown",
      "metadata": {
        "id": "4iN8NFzHRJ2D"
      },
      "source": [
        "## 개념정리\n",
        "---\n",
        "\n",
        "\n",
        "딕셔너리(dictionary) 는 `key`와 `value`로 이루어져 있습니다. 마치 사전처럼 특정 `key`에 접근해서 해당 `key`에 해당하는 `value`를 확인할 수 있습니다. 따라서 딕서녀리에서의 인덱싱 방법은 리스트나 튜플과 다르다는 점을 유의해야 합니다."
      ]
    },
    {
      "cell_type": "markdown",
      "metadata": {
        "id": "MAM8MDnfw68b"
      },
      "source": [
        "### **(1) 생성**\n",
        "\n",
        "불 자료형은 단 두가지의 값, `True`와 `False`만을 가지고 있습니다. \n",
        "\n",
        "* True\n",
        "\n",
        "```\n",
        "bool_t = True\n",
        "print(bool_t, type(bool_t))\n",
        "```"
      ]
    },
    {
      "cell_type": "code",
      "execution_count": null,
      "metadata": {
        "id": "-A_CdM3VvJwE",
        "outputId": "00d0527f-47da-4267-d963-8d56f231043d"
      },
      "outputs": [
        {
          "name": "stdout",
          "output_type": "stream",
          "text": [
            "True <class 'bool'>\n"
          ]
        }
      ],
      "source": [
        "bool_t = True\n",
        "print(bool_t, type(bool_t))"
      ]
    },
    {
      "cell_type": "markdown",
      "metadata": {
        "id": "ve0Q78levM7y"
      },
      "source": [
        "* False\n",
        "\n",
        "```\n",
        "bool_f = False\n",
        "print(bool_f, type(bool_f))\n",
        "```"
      ]
    },
    {
      "cell_type": "code",
      "execution_count": null,
      "metadata": {
        "id": "oL0peiU6vNLW",
        "outputId": "6d543f04-3079-4de2-d86b-37c68d25fddf"
      },
      "outputs": [
        {
          "name": "stdout",
          "output_type": "stream",
          "text": [
            "False <class 'bool'>\n"
          ]
        }
      ],
      "source": [
        "bool_f = False\n",
        "print(bool_f, type(bool_f))"
      ]
    },
    {
      "cell_type": "markdown",
      "metadata": {
        "id": "RSd2HMOPvXJX"
      },
      "source": [
        "### **(2) 비교연산자**\n",
        "\n",
        "보통 불 자료형은 참과 거짓을 판단할 때 사용 합니다. 비교연산자를 통해 데이터 간의 관계를 판별하고 이를 불 자료형으로 저장할 수 있습니다.\n",
        "\n",
        "|설명|코드|\n",
        "|--|--|\n",
        "|같다|`==`|\n",
        "|다르다|`!=`|\n",
        "|크다/작다|`<`/`>`|\n",
        "|크거나 같다/작거나 같다|`<=`/`>=`|\n"
      ]
    },
    {
      "cell_type": "markdown",
      "metadata": {
        "id": "lChKfbz6vghh"
      },
      "source": [
        "```\n",
        "a = 10\n",
        "b = 10\n",
        "c = 20\n",
        "```"
      ]
    },
    {
      "cell_type": "code",
      "execution_count": null,
      "metadata": {
        "id": "Iql1vi-uvhyX"
      },
      "outputs": [],
      "source": [
        "a = 10\n",
        "b = 10\n",
        "c = 20"
      ]
    },
    {
      "cell_type": "markdown",
      "metadata": {
        "id": "sb_fMnF4vZ8M"
      },
      "source": [
        "\n",
        "#### **같다**\n",
        "\n",
        "* `==`\n",
        "\n",
        "```\n",
        "print(a==b)\n",
        "print(a==c)\n",
        "```"
      ]
    },
    {
      "cell_type": "code",
      "execution_count": null,
      "metadata": {
        "id": "WJk0qA7FvOJn",
        "outputId": "db6f219a-f384-44df-b249-d5a6a4fdf35c"
      },
      "outputs": [
        {
          "name": "stdout",
          "output_type": "stream",
          "text": [
            "True\n",
            "False\n"
          ]
        }
      ],
      "source": [
        "print(a==b)\n",
        "print(a==c)"
      ]
    },
    {
      "cell_type": "markdown",
      "metadata": {
        "id": "Ko2-jAkLvcr9"
      },
      "source": [
        "#### **다르다**\n",
        "\n",
        "* `!=`\n",
        "\n",
        "```\n",
        "print(a!=b)\n",
        "print(a!=c)\n",
        "```"
      ]
    },
    {
      "cell_type": "code",
      "execution_count": null,
      "metadata": {
        "id": "Q0OHkDldvbMe",
        "outputId": "2ad4d829-ca80-4326-8294-2f276d3f0a19"
      },
      "outputs": [
        {
          "name": "stdout",
          "output_type": "stream",
          "text": [
            "False\n",
            "True\n"
          ]
        }
      ],
      "source": [
        "print(a!=b)\n",
        "print(a!=c)"
      ]
    },
    {
      "cell_type": "markdown",
      "metadata": {
        "id": "8xA_skATvpnF"
      },
      "source": [
        "#### **크다/작다**\n",
        "\n",
        "* `>`\n",
        "* `<`\n",
        "\n",
        "```\n",
        "print(a>c)\n",
        "print(a<c)\n",
        "```"
      ]
    },
    {
      "cell_type": "code",
      "execution_count": null,
      "metadata": {
        "id": "LjhSc6J6vlf9",
        "outputId": "7f49d8b2-7995-4692-d51a-14c2ede51b07"
      },
      "outputs": [
        {
          "name": "stdout",
          "output_type": "stream",
          "text": [
            "False\n",
            "True\n"
          ]
        }
      ],
      "source": [
        "print(a>c)\n",
        "print(a<c)"
      ]
    },
    {
      "cell_type": "markdown",
      "metadata": {
        "id": "0H5UpFNqvstu"
      },
      "source": [
        "#### **크거나 같다/작다**\n",
        "\n",
        "* `>=`\n",
        "* `<=`\n",
        "\n",
        "```\n",
        "print(a>=c)\n",
        "print(a<=c)\n",
        "```"
      ]
    },
    {
      "cell_type": "code",
      "execution_count": null,
      "metadata": {
        "id": "j6g27kAyvrb4",
        "outputId": "efc28d93-197d-4318-8ccf-bdffd2826f15"
      },
      "outputs": [
        {
          "name": "stdout",
          "output_type": "stream",
          "text": [
            "False\n",
            "True\n"
          ]
        }
      ],
      "source": [
        "print(a>=c)\n",
        "print(a<=c)"
      ]
    },
    {
      "cell_type": "markdown",
      "metadata": {
        "id": "eF4oulf5vwEJ"
      },
      "source": [
        "###  **(3) Identity 연산자**\n",
        "\n",
        "|설명|코드|\n",
        "|--|--|\n",
        "|(메모리주소가)같다|`is`|\n",
        "|(메모리주소가)다르다|`is not`|\n",
        "\n",
        "`Identity` 라고 하는 것은 두 변수가 같은 메모리 주소를 가리키는 것을 일컫습니다. 아래와 같이 세개의 값 `a`, `b`, `c`가 숫자 10으로 바인딩 되어 있습니다.\n",
        "\n",
        "```\n",
        "a = 10\n",
        "b = 10.0\n",
        "```\n"
      ]
    },
    {
      "cell_type": "code",
      "execution_count": null,
      "metadata": {
        "id": "ktyXZcurvuCY",
        "outputId": "3b4de36c-90c3-481c-e63d-adb9ebec28cc"
      },
      "outputs": [
        {
          "data": {
            "text/plain": [
              "(int, float, int)"
            ]
          },
          "execution_count": 11,
          "metadata": {},
          "output_type": "execute_result"
        }
      ],
      "source": [
        "a = 10\n",
        "b = 10.0\n",
        "c = 10\n",
        "type(a), type(b), type(c)"
      ]
    },
    {
      "cell_type": "markdown",
      "metadata": {
        "id": "9Yv_CuPOv0J8"
      },
      "source": [
        "\n",
        "#### **(메모리주소가) 같을 때**\n",
        "\n",
        "*  `is`\n",
        "\n",
        "\n",
        "`a==b` 는 `True` 이고 `a is b` 는 `False`임을 확인할 수 있습니다. `a`와 `b` 모두 값 자체는 `10`으로 동일하기 때문에 `a==b`는 `True` 값을 가지지만, `a`는 `int`이고 `b`는 `float` 자료형이기 때문에 `a is b`의 결과는 `False` 입니다.\n",
        "\n",
        "```\n",
        "print(a==b) # a, b 의 값이 같은지 판별\n",
        "print(a is b) # a, b 가 같은 메모리 주소에 있는지 판별\n",
        "```\n"
      ]
    },
    {
      "cell_type": "code",
      "execution_count": null,
      "metadata": {
        "id": "uHpcb8vwvyYd",
        "outputId": "94e29f70-50fd-4abc-e6e9-11fab28d3f87"
      },
      "outputs": [
        {
          "name": "stdout",
          "output_type": "stream",
          "text": [
            "True\n",
            "False\n",
            "True\n"
          ]
        }
      ],
      "source": [
        "print(a==b) # a, b 의 값이 같은지 판별\n",
        "print(a is b) # a, b 가 같은 메모리 주소에 있는지 판별\n",
        "print(a is c) # a, c 의 메모리 주소가 같은지"
      ]
    },
    {
      "cell_type": "markdown",
      "metadata": {
        "id": "D-5lT6Rjv_TJ"
      },
      "source": [
        "#### **(메모리주소가) 다를 때**\n",
        "\n",
        "* `is not`\n",
        "\n",
        "\n",
        "반대의 경우입니다. `!=` 를 사용할 때는  `True`이고 `is not`은 `True` 입니다.  \n",
        "\n",
        "```\n",
        "print(a!=b)  # a, b 의 값이 다른지 판별\n",
        "print(a is not b) # a, b 가 다른 메모리 주소에 있는지 판별\n",
        "```\n"
      ]
    },
    {
      "cell_type": "code",
      "execution_count": null,
      "metadata": {
        "id": "ZRtzSicOgYfQ",
        "outputId": "35e613f0-d78f-4329-b0f5-fb682e552a6c"
      },
      "outputs": [
        {
          "name": "stdout",
          "output_type": "stream",
          "text": [
            "False\n",
            "True\n"
          ]
        }
      ],
      "source": [
        "print(a!=b)  # a, b 의 값이 다른지 판별\n",
        "print(a is not b) # a, b 가 다른 메모리 주소에 있는지 판별"
      ]
    },
    {
      "cell_type": "markdown",
      "metadata": {
        "id": "Pepzbg-WwErt"
      },
      "source": [
        "### **(4) 논리연산자**\n",
        "\n",
        "\n"
      ]
    },
    {
      "cell_type": "markdown",
      "metadata": {
        "id": "mmKaSILLxix2"
      },
      "source": [
        "#### **`and` 연산자**\n",
        "\n",
        "* `and` : 모두 `True`여야 `True`, 그 외엔 `False`\n",
        "\n",
        "|A|B| 결과 |\n",
        "|--|--|--|\n",
        "|False|False|False| \n",
        "|False|True|False| \n",
        "|True|False|False| \n",
        "|True|True|True| \n",
        "\n",
        "```\n",
        "a = True\n",
        "b = False\n",
        "print(a and b)\n",
        "```"
      ]
    },
    {
      "cell_type": "code",
      "execution_count": null,
      "metadata": {
        "id": "c3a1U92Tv9je",
        "outputId": "2dee9dbb-a181-45c5-986e-648a8446c4a6"
      },
      "outputs": [
        {
          "name": "stdout",
          "output_type": "stream",
          "text": [
            "False\n"
          ]
        }
      ],
      "source": [
        "a = True\n",
        "b = False\n",
        "print(a and b)"
      ]
    },
    {
      "cell_type": "markdown",
      "metadata": {
        "id": "YhxIRN0swIMk"
      },
      "source": [
        "#### **`or` 연산자**\n",
        "\n",
        "* `or` : 모두 `False`여야 `False`, 그 외엔 `True`\n",
        "\n",
        "|A|B| 결과 |\n",
        "|--|--|--|\n",
        "|False|False|False| \n",
        "|False|True|True| \n",
        "|True|False|True| \n",
        "|True|True|True| \n",
        "\n",
        "```\n",
        "a = True\n",
        "b = False\n",
        "print(a or b)\n",
        "```\n"
      ]
    },
    {
      "cell_type": "code",
      "execution_count": null,
      "metadata": {
        "id": "FKszLHP8wGq4",
        "outputId": "5c095e4d-bfc5-4651-cdd7-4aa16ef3c0a6"
      },
      "outputs": [
        {
          "name": "stdout",
          "output_type": "stream",
          "text": [
            "True\n"
          ]
        }
      ],
      "source": [
        "a = True\n",
        "b = False\n",
        "print(a or b)"
      ]
    },
    {
      "cell_type": "markdown",
      "metadata": {
        "id": "tPQXQ820wKx6"
      },
      "source": [
        "#### **`not` 연산자**\n",
        "\n",
        "* `not` : 반대\n",
        "\n",
        "|A|결과 |\n",
        "|--|--|\n",
        "|False|True| \n",
        "|False|False|\n",
        "\n",
        "```\n",
        "a = True\n",
        "print(not a)\n",
        "```"
      ]
    },
    {
      "cell_type": "code",
      "execution_count": null,
      "metadata": {
        "id": "TN8hYesmwJR3",
        "outputId": "3aecd2c1-38b8-47cc-a478-7d1230b40089"
      },
      "outputs": [
        {
          "name": "stdout",
          "output_type": "stream",
          "text": [
            "False\n"
          ]
        }
      ],
      "source": [
        "a = True\n",
        "print(not a)"
      ]
    },
    {
      "cell_type": "markdown",
      "metadata": {
        "id": "f6ZwYMcQwMq1"
      },
      "source": [
        "### **(5) 자료형의 True/False**\n",
        "\n",
        "|값\t|자료형|\tTrue OR False |\n",
        "|--|--|--|\n",
        "\"hi\"|\tstr\t|True\n",
        "\"\"\t|str\t|False\n",
        "[1,2,3]\t|list|\tTrue\n",
        "[]|\tlist\t|False\n",
        "(1,2,3)\t|tuple|\tTrue\n",
        "()|\ttuple|\tFalse\n",
        "{}|\tdictionary|\tFalse\n",
        "1\t|int|\tTrue\n",
        "0\t|int|\tFalse\n"
      ]
    },
    {
      "cell_type": "markdown",
      "metadata": {
        "id": "iu9Qsd9SwPRp"
      },
      "source": [
        "#### **문자**\n",
        "\n",
        "문자가 하나라도 포함되어 있으면 `True` 입니다.\n",
        "\n",
        "```\n",
        "print(bool(\"abc\"))\n",
        "print(bool(\"\"))\n",
        "```\n"
      ]
    },
    {
      "cell_type": "code",
      "execution_count": null,
      "metadata": {
        "id": "cADkAygFwLlw",
        "outputId": "6d235e5a-d542-4491-da69-738d41cd6760"
      },
      "outputs": [
        {
          "name": "stdout",
          "output_type": "stream",
          "text": [
            "True\n",
            "False\n"
          ]
        }
      ],
      "source": [
        "print(bool(\"abc\"))\n",
        "print(bool(\"\"))"
      ]
    },
    {
      "cell_type": "markdown",
      "metadata": {
        "id": "RCxgNv7HwTTH"
      },
      "source": [
        "\n",
        "#### **리스트/튜플/딕셔너리**\n",
        "\n",
        "리스트(튜플/딕셔너리)에 하나라도 포함되어 있으면 `True` 입니다\n",
        "\n",
        "```\n",
        "print(bool([1,2]))\n",
        "print(bool([]))\n",
        "```"
      ]
    },
    {
      "cell_type": "code",
      "execution_count": null,
      "metadata": {
        "id": "1zj7UJIxwRr1",
        "outputId": "7712e9d8-5aa9-45ca-bd04-88b6e8b5aa08"
      },
      "outputs": [
        {
          "name": "stdout",
          "output_type": "stream",
          "text": [
            "True\n",
            "False\n"
          ]
        }
      ],
      "source": [
        "print(bool([1,2]))\n",
        "print(bool([]))"
      ]
    },
    {
      "cell_type": "markdown",
      "metadata": {
        "id": "ckclBKQAwXkd"
      },
      "source": [
        "#### **수치자료형**\n",
        "\n",
        "0일때만 `False` 입니다.\n",
        "\n",
        "```\n",
        "print(bool(10))\n",
        "print(bool(-10))\n",
        "print(bool(0))\n",
        "```"
      ]
    },
    {
      "cell_type": "code",
      "execution_count": null,
      "metadata": {
        "id": "sWhI9ZRXwWSt",
        "outputId": "08d43b38-1c0d-4f63-c549-39ad0ca36779"
      },
      "outputs": [
        {
          "name": "stdout",
          "output_type": "stream",
          "text": [
            "True\n",
            "True\n",
            "False\n"
          ]
        }
      ],
      "source": [
        "print(bool(10))\n",
        "print(bool(-10))\n",
        "print(bool(0))"
      ]
    },
    {
      "cell_type": "markdown",
      "metadata": {
        "id": "EOKHJNE_wdPo"
      },
      "source": [
        "## 문제풀이\n",
        "---"
      ]
    },
    {
      "cell_type": "markdown",
      "metadata": {
        "id": "eLhnxNGawcKi"
      },
      "source": [
        "\n",
        "\n",
        "**예제 01**\n",
        "\n",
        "아래 결과를 예측하세요\n",
        "\n",
        "```\n",
        "bool(\"안녕\")\n",
        "```"
      ]
    },
    {
      "cell_type": "code",
      "execution_count": null,
      "metadata": {
        "id": "W1SP3TtVwe7_",
        "outputId": "fff31122-d9c3-4d6b-dfb3-bf19b956d398"
      },
      "outputs": [
        {
          "data": {
            "text/plain": [
              "True"
            ]
          },
          "execution_count": 23,
          "metadata": {},
          "output_type": "execute_result"
        }
      ],
      "source": [
        "bool(\"안녕\")"
      ]
    },
    {
      "cell_type": "markdown",
      "metadata": {
        "id": "xGNJ9y5Wwf54"
      },
      "source": [
        "**예제 02**\n",
        "\n",
        "아래 결과를 예측하세요\n",
        "\n",
        "```\n",
        "bool(\"\")\n",
        "```"
      ]
    },
    {
      "cell_type": "code",
      "execution_count": null,
      "metadata": {
        "id": "gHzUxS0Lwgzz",
        "outputId": "2ebcea7f-f868-4060-ee56-677a7540e92a"
      },
      "outputs": [
        {
          "data": {
            "text/plain": [
              "False"
            ]
          },
          "execution_count": 24,
          "metadata": {},
          "output_type": "execute_result"
        }
      ],
      "source": [
        "bool(\"\")"
      ]
    },
    {
      "cell_type": "markdown",
      "metadata": {
        "id": "Tg2gHNY3wgAR"
      },
      "source": [
        "**예제 03**\n",
        "\n",
        "아래 결과를 예측하세요\n",
        "\n",
        "\n",
        "```\n",
        "bool([2,4,6])\n",
        "```"
      ]
    },
    {
      "cell_type": "code",
      "execution_count": null,
      "metadata": {
        "id": "vOJSteeUwiKM",
        "outputId": "1c661d3c-f8ae-4767-b221-340a909b91c8"
      },
      "outputs": [
        {
          "data": {
            "text/plain": [
              "True"
            ]
          },
          "execution_count": 25,
          "metadata": {},
          "output_type": "execute_result"
        }
      ],
      "source": [
        "bool([2,4,6])"
      ]
    },
    {
      "cell_type": "markdown",
      "metadata": {
        "id": "uwujor7AwiRX"
      },
      "source": [
        "**예제 04**\n",
        "\n",
        "\n",
        "아래 결과를 예측하세요\n",
        "\n",
        "\n",
        "```\n",
        "bool([0])\n",
        "```"
      ]
    },
    {
      "cell_type": "code",
      "execution_count": null,
      "metadata": {
        "id": "5XzG9e4lwjZp",
        "outputId": "b6fa7dad-dce3-4832-a4ca-fb4ce6cf2830"
      },
      "outputs": [
        {
          "data": {
            "text/plain": [
              "True"
            ]
          },
          "execution_count": 26,
          "metadata": {},
          "output_type": "execute_result"
        }
      ],
      "source": [
        "bool([0])"
      ]
    },
    {
      "cell_type": "markdown",
      "metadata": {
        "id": "l1mgEeerwjep"
      },
      "source": [
        "**예제 05**\n",
        "\n",
        " 아래 결과를 예측하세요\n",
        "\n",
        "\n",
        "```\n",
        "bool(0)\n",
        "```"
      ]
    },
    {
      "cell_type": "code",
      "execution_count": null,
      "metadata": {
        "id": "UZby3aNmwkd7",
        "outputId": "3f6a49c6-4e1a-44d0-c36d-5ed00e655f26"
      },
      "outputs": [
        {
          "data": {
            "text/plain": [
              "False"
            ]
          },
          "execution_count": 27,
          "metadata": {},
          "output_type": "execute_result"
        }
      ],
      "source": [
        "bool(0)"
      ]
    },
    {
      "cell_type": "markdown",
      "metadata": {
        "id": "PpUlq1KWwkio"
      },
      "source": [
        "**예제 06**\n",
        "\n",
        " 아래 결과를 예측하세요\n",
        "\n",
        "\n",
        "```\n",
        "bool(1)\n",
        "```"
      ]
    },
    {
      "cell_type": "code",
      "execution_count": null,
      "metadata": {
        "id": "A9rPYh0pwlca",
        "outputId": "2df75542-927f-4321-ea96-b6cd38db4d4e"
      },
      "outputs": [
        {
          "data": {
            "text/plain": [
              "True"
            ]
          },
          "execution_count": 28,
          "metadata": {},
          "output_type": "execute_result"
        }
      ],
      "source": [
        "bool(1)"
      ]
    },
    {
      "cell_type": "markdown",
      "metadata": {
        "id": "yxuynfU6wlgX"
      },
      "source": [
        "**예제 07**\n",
        "\n",
        "아래 결과를 예측하세요\n",
        "\n",
        "```\n",
        "bool([1])\n",
        "```"
      ]
    },
    {
      "cell_type": "code",
      "execution_count": null,
      "metadata": {
        "id": "hwyvS1cywmil",
        "outputId": "2f812366-0f27-4b60-995f-da57369e8d76"
      },
      "outputs": [
        {
          "data": {
            "text/plain": [
              "True"
            ]
          },
          "execution_count": 29,
          "metadata": {},
          "output_type": "execute_result"
        }
      ],
      "source": [
        "bool([1])"
      ]
    },
    {
      "cell_type": "markdown",
      "metadata": {
        "id": "C8gQteDmwmnT"
      },
      "source": [
        "**예제 08**\n",
        "\n",
        " 아래 결과를 예측하세요\n",
        "\n",
        "```\n",
        " print(3==5)\n",
        "```\n"
      ]
    },
    {
      "cell_type": "code",
      "execution_count": null,
      "metadata": {
        "id": "vTdk0nAMwobn",
        "outputId": "190484cc-e4bf-4f33-cd94-55ffca06ca7b"
      },
      "outputs": [
        {
          "name": "stdout",
          "output_type": "stream",
          "text": [
            "False\n"
          ]
        }
      ],
      "source": [
        "print(3==5)"
      ]
    },
    {
      "cell_type": "markdown",
      "metadata": {
        "id": "pV4o_x-LwohH"
      },
      "source": [
        "**예제 09**\n",
        "\n",
        "아래 결과를 예측하세요\n",
        "```\n",
        " print(3<5)\n",
        "```"
      ]
    },
    {
      "cell_type": "code",
      "execution_count": null,
      "metadata": {
        "id": "iEHsL_jtwp_U",
        "outputId": "fa08a5ee-5de9-4b81-80a9-5198f2bcfa1d"
      },
      "outputs": [
        {
          "name": "stdout",
          "output_type": "stream",
          "text": [
            "True\n"
          ]
        }
      ],
      "source": [
        "print(3<5)"
      ]
    },
    {
      "cell_type": "markdown",
      "metadata": {
        "id": "pWIRx-BBwqHk"
      },
      "source": [
        "**예제 10**\n",
        "\n",
        " 아래 결과를 예측하세요\n",
        "\n",
        "```\n",
        "x = 4\n",
        "print(1<x<5)\n",
        "```\n"
      ]
    },
    {
      "cell_type": "code",
      "execution_count": null,
      "metadata": {
        "id": "Ye-UEjJpwrLb",
        "outputId": "95b609ce-62df-49c2-c76f-8984cbdb1f6e"
      },
      "outputs": [
        {
          "name": "stdout",
          "output_type": "stream",
          "text": [
            "True\n"
          ]
        }
      ],
      "source": [
        "x = 4\n",
        "print(1<x<5)"
      ]
    },
    {
      "cell_type": "markdown",
      "metadata": {
        "id": "Q12O-j1bwrfQ"
      },
      "source": [
        "\n",
        "**예제 11**\n",
        "\n",
        "아래 결과를 예측하세요\n",
        "\n",
        "```\n",
        "print ((3 == 3) and (4 != 3))\n",
        "```"
      ]
    },
    {
      "cell_type": "code",
      "execution_count": null,
      "metadata": {
        "id": "CtRh6aFXwsdd",
        "outputId": "24850c2d-8df0-46b6-ff77-dcd5348b228f"
      },
      "outputs": [
        {
          "name": "stdout",
          "output_type": "stream",
          "text": [
            "True\n"
          ]
        }
      ],
      "source": [
        "print ((3 == 3) and (4 != 3))"
      ]
    },
    {
      "cell_type": "markdown",
      "metadata": {
        "id": "rUiji_6nwshi"
      },
      "source": [
        "\n",
        "**예제 12**\n",
        "\n",
        "아래 결과를 예측하세요\n",
        "\n",
        "```\n",
        "'a' in 'abc'\n",
        "```\n"
      ]
    },
    {
      "cell_type": "code",
      "execution_count": null,
      "metadata": {
        "id": "ZxDpZkC_wtj7",
        "outputId": "e1bc5c6c-671c-49d9-9e39-bac76b208da8"
      },
      "outputs": [
        {
          "data": {
            "text/plain": [
              "True"
            ]
          },
          "execution_count": 34,
          "metadata": {},
          "output_type": "execute_result"
        }
      ],
      "source": [
        "'a' in 'abc'"
      ]
    },
    {
      "cell_type": "markdown",
      "metadata": {
        "id": "lJ_bWq0Fwtow"
      },
      "source": [
        "**예제 13**\n",
        "\n",
        "\n",
        "아래 결과를 예측하세요\n",
        "\n",
        "```\n",
        "'a' in ['d','b','c']\n",
        "```\n"
      ]
    },
    {
      "cell_type": "code",
      "execution_count": null,
      "metadata": {
        "id": "E0whSkKFwvF9",
        "outputId": "da6f5d82-aa64-4101-8307-705bae822fc7"
      },
      "outputs": [
        {
          "data": {
            "text/plain": [
              "False"
            ]
          },
          "execution_count": 35,
          "metadata": {},
          "output_type": "execute_result"
        }
      ],
      "source": [
        "'a' in ['d','b','c']"
      ]
    },
    {
      "cell_type": "markdown",
      "metadata": {
        "id": "fyRztNmYwvKN"
      },
      "source": [
        "**예제 14**\n",
        "\n",
        "\n",
        "아래 결과를 예측하세요\n",
        "\n",
        "```\n",
        "'a' not in ['a','b','c']\n",
        "```"
      ]
    },
    {
      "cell_type": "code",
      "execution_count": null,
      "metadata": {
        "id": "6-1cfkVxwwSl",
        "outputId": "9c46515a-9241-42a5-ed89-aa698b3d811d"
      },
      "outputs": [
        {
          "data": {
            "text/plain": [
              "False"
            ]
          },
          "execution_count": 36,
          "metadata": {},
          "output_type": "execute_result"
        }
      ],
      "source": [
        "'a' not in ['a','b','c']"
      ]
    },
    {
      "cell_type": "markdown",
      "metadata": {
        "id": "Lwx6We67wwYz"
      },
      "source": [
        "**예제 15**\n",
        "\n",
        "아래 결과를 예측하세요\n",
        "\n",
        "```\n",
        "'a' not in 'abc'\n",
        "```"
      ]
    },
    {
      "cell_type": "code",
      "execution_count": null,
      "metadata": {
        "id": "tprm6Yrdwy1p",
        "outputId": "d7d91c4c-37a8-4d02-c156-e60458a3c4e6"
      },
      "outputs": [
        {
          "data": {
            "text/plain": [
              "False"
            ]
          },
          "execution_count": 37,
          "metadata": {},
          "output_type": "execute_result"
        }
      ],
      "source": [
        "'a' not in 'abc'"
      ]
    },
    {
      "cell_type": "markdown",
      "metadata": {
        "id": "M7tF0Uzdwy6W"
      },
      "source": [
        "**예제 16**\n",
        "\n",
        "아래 결과가 나오도록 코드를 작성하세요\n",
        "\n",
        "\n",
        "```\n",
        ">> a = #코드를작성하세요\n",
        ">> b = #코드를작성하세요\n",
        ">> a and b\n",
        "True\n",
        "```"
      ]
    },
    {
      "cell_type": "code",
      "execution_count": null,
      "metadata": {
        "id": "gltL5ievw0G9",
        "outputId": "ff7c18fb-92e8-4eed-8a13-c7de56877a32"
      },
      "outputs": [
        {
          "data": {
            "text/plain": [
              "True"
            ]
          },
          "execution_count": 38,
          "metadata": {},
          "output_type": "execute_result"
        }
      ],
      "source": [
        "a = True\n",
        "b = True\n",
        "a and b"
      ]
    },
    {
      "cell_type": "markdown",
      "metadata": {
        "id": "hK8VBKPdw0Ml"
      },
      "source": [
        "\n",
        "**예제 17**\n",
        "\n",
        "아래 결과가 나오도록 코드를 작성하세요\n",
        "\n",
        "\n",
        "```\n",
        ">> a = #코드를작성하세요\n",
        ">> b = #코드를작성하세요\n",
        ">> a or b\n",
        "False\n",
        "```"
      ]
    },
    {
      "cell_type": "code",
      "execution_count": null,
      "metadata": {
        "id": "uGeaGOPew1Nw",
        "outputId": "7a11f255-dbbf-40b2-db0b-815fdfedf28f"
      },
      "outputs": [
        {
          "data": {
            "text/plain": [
              "False"
            ]
          },
          "execution_count": 39,
          "metadata": {},
          "output_type": "execute_result"
        }
      ],
      "source": [
        "a = False\n",
        "b = False\n",
        "a or b"
      ]
    }
  ],
  "metadata": {
    "colab": {
      "collapsed_sections": [],
      "name": "2-7.파이썬의 자료형_불.ipynb",
      "provenance": [],
      "include_colab_link": true
    },
    "kernelspec": {
      "display_name": "Python 3 (ipykernel)",
      "language": "python",
      "name": "python3"
    },
    "language_info": {
      "codemirror_mode": {
        "name": "ipython",
        "version": 3
      },
      "file_extension": ".py",
      "mimetype": "text/x-python",
      "name": "python",
      "nbconvert_exporter": "python",
      "pygments_lexer": "ipython3",
      "version": "3.9.7"
    },
    "toc": {
      "base_numbering": 1,
      "nav_menu": {},
      "number_sections": true,
      "sideBar": true,
      "skip_h1_title": false,
      "title_cell": "Table of Contents",
      "title_sidebar": "Contents",
      "toc_cell": false,
      "toc_position": {},
      "toc_section_display": true,
      "toc_window_display": false
    },
    "varInspector": {
      "cols": {
        "lenName": 16,
        "lenType": 16,
        "lenVar": 40
      },
      "kernels_config": {
        "python": {
          "delete_cmd_postfix": "",
          "delete_cmd_prefix": "del ",
          "library": "var_list.py",
          "varRefreshCmd": "print(var_dic_list())"
        },
        "r": {
          "delete_cmd_postfix": ") ",
          "delete_cmd_prefix": "rm(",
          "library": "var_list.r",
          "varRefreshCmd": "cat(var_dic_list()) "
        }
      },
      "types_to_exclude": [
        "module",
        "function",
        "builtin_function_or_method",
        "instance",
        "_Feature"
      ],
      "window_display": false
    }
  },
  "nbformat": 4,
  "nbformat_minor": 0
}