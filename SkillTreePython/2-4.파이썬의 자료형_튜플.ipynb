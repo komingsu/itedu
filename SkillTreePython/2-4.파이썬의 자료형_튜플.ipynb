{
  "cells": [
    {
      "cell_type": "markdown",
      "metadata": {
        "id": "view-in-github",
        "colab_type": "text"
      },
      "source": [
        "<a href=\"https://colab.research.google.com/github/komingsu/SkillTreePython/blob/main/2-4.%ED%8C%8C%EC%9D%B4%EC%8D%AC%EC%9D%98%20%EC%9E%90%EB%A3%8C%ED%98%95_%ED%8A%9C%ED%94%8C.ipynb\" target=\"_parent\"><img src=\"https://colab.research.google.com/assets/colab-badge.svg\" alt=\"Open In Colab\"/></a>"
      ]
    },
    {
      "cell_type": "markdown",
      "metadata": {
        "id": "kB5IciXEm6o4"
      },
      "source": [
        "# 2-4.파이썬의 자료형:튜플\n",
        "---\n",
        "* 날짜: 2022-03-30\n",
        "* 이름: 고민수"
      ]
    },
    {
      "cell_type": "markdown",
      "metadata": {
        "id": "4iN8NFzHRJ2D"
      },
      "source": [
        "## 개념정리\n",
        "---\n",
        "\n",
        "튜플(tuple) 은 리스트와 유사합니다. 하지만 **수정할 수 없다**는 특징을 가지고 있습니다. 따라서 어떤 군집 값을 마치 변수처럼 변환을 계속하고 싶다면 리스트를, 상수처럼 고정하고 싶다면 튜플을 쓰는게 좋습니다."
      ]
    },
    {
      "cell_type": "markdown",
      "metadata": {
        "id": "MAM8MDnfw68b"
      },
      "source": [
        "### (1) 생성\n",
        "\n",
        "`( )` 기호를 통해 튜플을 생성할 수 있습니다.\n",
        "\n",
        "```\n",
        "a = (1,2,3)\n",
        "print(a)\n",
        "type(a)\n",
        "```\n"
      ]
    },
    {
      "cell_type": "code",
      "execution_count": null,
      "metadata": {
        "id": "M45u3wo6zrSN",
        "outputId": "e6d52ec5-b099-4d5a-af2a-69e25628effa"
      },
      "outputs": [
        {
          "name": "stdout",
          "output_type": "stream",
          "text": [
            "(1, 2, 3)\n"
          ]
        },
        {
          "data": {
            "text/plain": [
              "tuple"
            ]
          },
          "execution_count": 7,
          "metadata": {},
          "output_type": "execute_result"
        }
      ],
      "source": [
        "a = (1,2,3)\n",
        "print(a)\n",
        "type(a)"
      ]
    },
    {
      "cell_type": "markdown",
      "metadata": {
        "id": "NvswO22Kzs62"
      },
      "source": [
        "####  **튜플의 요소**\n",
        "\n",
        "리스트와 마찬가지로 튜플의 요소 또한 문자열, 리스트, 정수 등 다양한 요소들을 포함할 수 있습니다. 튜플 역시 요소들을 통일 하지 않아도 유효합니다.\n",
        "\n",
        "```\n",
        "a = (1, \"a\", True, [1,2,3])\n",
        "print(a)\n",
        "```\n"
      ]
    },
    {
      "cell_type": "code",
      "execution_count": null,
      "metadata": {
        "id": "j6HCOsxKzuSG",
        "outputId": "58825176-3df0-48f0-a86c-2a43d300b76e"
      },
      "outputs": [
        {
          "name": "stdout",
          "output_type": "stream",
          "text": [
            "(1, 'a', True, [1, 2, 3])\n"
          ]
        }
      ],
      "source": [
        "a = (1, \"a\", True, [1,2,3])\n",
        "print(a)"
      ]
    },
    {
      "cell_type": "markdown",
      "metadata": {
        "id": "dDaNfov4zv6t"
      },
      "source": [
        "### (2) 수정과 삭제\n",
        "\n",
        "리스트와 달리 튜플은 수정과 삭제가 불가능 합니다. 에러 메시지를 확인해 봅시다."
      ]
    },
    {
      "cell_type": "markdown",
      "metadata": {
        "id": "BlbuStFxzyad"
      },
      "source": [
        "\n",
        "#### **수정**\n",
        "\n",
        "```\n",
        "a = (1,2,3,4)\n",
        "a[0] = \"a\"\n",
        "```\n"
      ]
    },
    {
      "cell_type": "code",
      "execution_count": null,
      "metadata": {
        "id": "GXaM8hugzwmw",
        "outputId": "817a06b2-caa7-4611-b983-e100e791bd66"
      },
      "outputs": [
        {
          "ename": "TypeError",
          "evalue": "'tuple' object does not support item assignment",
          "output_type": "error",
          "traceback": [
            "\u001b[1;31m---------------------------------------------------------------------------\u001b[0m",
            "\u001b[1;31mTypeError\u001b[0m                                 Traceback (most recent call last)",
            "\u001b[1;32m~\\AppData\\Local\\Temp/ipykernel_11236/1400682886.py\u001b[0m in \u001b[0;36m<module>\u001b[1;34m\u001b[0m\n\u001b[0;32m      1\u001b[0m \u001b[0ma\u001b[0m \u001b[1;33m=\u001b[0m \u001b[1;33m(\u001b[0m\u001b[1;36m1\u001b[0m\u001b[1;33m,\u001b[0m\u001b[1;36m2\u001b[0m\u001b[1;33m,\u001b[0m\u001b[1;36m3\u001b[0m\u001b[1;33m,\u001b[0m\u001b[1;36m4\u001b[0m\u001b[1;33m)\u001b[0m\u001b[1;33m\u001b[0m\u001b[1;33m\u001b[0m\u001b[0m\n\u001b[1;32m----> 2\u001b[1;33m \u001b[0ma\u001b[0m\u001b[1;33m[\u001b[0m\u001b[1;36m0\u001b[0m\u001b[1;33m]\u001b[0m \u001b[1;33m=\u001b[0m \u001b[1;34m\"a\"\u001b[0m\u001b[1;33m\u001b[0m\u001b[1;33m\u001b[0m\u001b[0m\n\u001b[0m",
            "\u001b[1;31mTypeError\u001b[0m: 'tuple' object does not support item assignment"
          ]
        }
      ],
      "source": [
        "a = (1,2,3,4)\n",
        "a[0] = \"a\""
      ]
    },
    {
      "cell_type": "markdown",
      "metadata": {
        "id": "dMzkZR9iz2VZ"
      },
      "source": [
        "#### **삭제**\n",
        "\n",
        "```\n",
        "a = (1,2,3,4)\n",
        "del a[0]\n",
        "```"
      ]
    },
    {
      "cell_type": "code",
      "execution_count": null,
      "metadata": {
        "id": "Hun7vYCfz0Ow",
        "outputId": "844465f4-17c5-4837-9893-e0691801bdcd"
      },
      "outputs": [
        {
          "ename": "TypeError",
          "evalue": "'tuple' object doesn't support item deletion",
          "output_type": "error",
          "traceback": [
            "\u001b[1;31m---------------------------------------------------------------------------\u001b[0m",
            "\u001b[1;31mTypeError\u001b[0m                                 Traceback (most recent call last)",
            "\u001b[1;32m~\\AppData\\Local\\Temp/ipykernel_11236/2854435475.py\u001b[0m in \u001b[0;36m<module>\u001b[1;34m\u001b[0m\n\u001b[0;32m      1\u001b[0m \u001b[0ma\u001b[0m \u001b[1;33m=\u001b[0m \u001b[1;33m(\u001b[0m\u001b[1;36m1\u001b[0m\u001b[1;33m,\u001b[0m\u001b[1;36m2\u001b[0m\u001b[1;33m,\u001b[0m\u001b[1;36m3\u001b[0m\u001b[1;33m,\u001b[0m\u001b[1;36m4\u001b[0m\u001b[1;33m)\u001b[0m\u001b[1;33m\u001b[0m\u001b[1;33m\u001b[0m\u001b[0m\n\u001b[1;32m----> 2\u001b[1;33m \u001b[1;32mdel\u001b[0m \u001b[0ma\u001b[0m\u001b[1;33m[\u001b[0m\u001b[1;36m0\u001b[0m\u001b[1;33m]\u001b[0m\u001b[1;33m\u001b[0m\u001b[1;33m\u001b[0m\u001b[0m\n\u001b[0m",
            "\u001b[1;31mTypeError\u001b[0m: 'tuple' object doesn't support item deletion"
          ]
        }
      ],
      "source": [
        "a = (1,2,3,4)\n",
        "del a[0]"
      ]
    },
    {
      "cell_type": "markdown",
      "metadata": {
        "id": "g5sGGimlz5O2"
      },
      "source": [
        "#### **우회해서 수정하기**\n",
        "\n",
        "그래도 꼭 수정해야 한다면 방법은 리스트로 변환 후 수정과 삭제를 하는 것입니다. 수정이나 삭제 후에는 또다시 튜플로 변환을 해주어야 합니다.\n",
        "\n",
        "```\n",
        "a = (1,2,3,4)\n",
        "a = list(a)\n",
        "a[0] = 0\n",
        "a = tuple(a)\n",
        "print(a)\n",
        "```"
      ]
    },
    {
      "cell_type": "code",
      "execution_count": null,
      "metadata": {
        "id": "QovRb6_1z31w",
        "outputId": "3aa6745c-a819-4cad-e408-757fc2e1b82a"
      },
      "outputs": [
        {
          "name": "stdout",
          "output_type": "stream",
          "text": [
            "(0, 2, 3, 4)\n"
          ]
        }
      ],
      "source": [
        "a = (1,2,3,4)\n",
        "a = list(a)\n",
        "a[0] = 0\n",
        "a = tuple(a)\n",
        "print(a)"
      ]
    },
    {
      "cell_type": "markdown",
      "metadata": {
        "id": "9Umb8A55z9I7"
      },
      "source": [
        "### (3) 인덱싱과 슬라이싱\n",
        "\n",
        "튜플에서도 인덱싱과 슬라이싱이 가능합니다. 반환되는 값은 튜플임을 유의합니다.\n",
        "\n",
        "```\n",
        "a = (1,2,3,4,5)\n",
        "print(a[0]) # 인덱싱\n",
        "print(a[:2]) # 슬라이싱\n",
        "```"
      ]
    },
    {
      "cell_type": "code",
      "execution_count": null,
      "metadata": {
        "id": "LHaifq2Zz7jz",
        "outputId": "fcf1e8e0-d000-46e0-bf65-8fe15832c4ec"
      },
      "outputs": [
        {
          "name": "stdout",
          "output_type": "stream",
          "text": [
            "1\n",
            "(1, 2)\n"
          ]
        }
      ],
      "source": [
        "a = (1,2,3,4,5)\n",
        "print(a[0]) # 인덱싱\n",
        "print(a[:2]) # 슬라이싱"
      ]
    },
    {
      "cell_type": "markdown",
      "metadata": {
        "id": "ZzTpNgfb0AFa"
      },
      "source": [
        "### (4) 튜플의 연산\n",
        "\n",
        "튜플의 연산은 더하기 `+` 와 곱하기 `*` 만 사용할 수 있습니다. 이 때 더하기는 튜플끼리의 덧셈만 가능하며, 곱하기는 튜플와 정수값의 곱만 가능함을 주의해야 합니다. 튜플끼리의 덧셈 결과는 두 튜플를 이어 붙인 튜플가 되고 튜플과 정수의 곱은 튜플의 정수크기만큼 이어붙인 튜플이 됩니다.\n"
      ]
    },
    {
      "cell_type": "markdown",
      "metadata": {
        "id": "1HMFTBrP0Bae"
      },
      "source": [
        "#### **더하기**\n",
        "\n",
        "```\n",
        "a = (1,1,1,1,1)\n",
        "b = (2,2)\n",
        "print(a+b)\n",
        "```\n"
      ]
    },
    {
      "cell_type": "code",
      "execution_count": null,
      "metadata": {
        "id": "j50B81hc0Dp9",
        "outputId": "8d7bff68-cf9c-409c-f74f-ac394c5c1b49"
      },
      "outputs": [
        {
          "name": "stdout",
          "output_type": "stream",
          "text": [
            "(1, 1, 1, 1, 1, 2, 2)\n"
          ]
        }
      ],
      "source": [
        "a = (1,1,1,1,1)\n",
        "b = (2,2)\n",
        "print(a+b)"
      ]
    },
    {
      "cell_type": "markdown",
      "metadata": {
        "id": "I9JqXuzJ0Dvx"
      },
      "source": [
        "#### **곱하기**\n",
        "\n",
        "```\n",
        "a = (1,1,1,1,1)\n",
        "b = 2\n",
        "print(a*b)\n",
        "```"
      ]
    },
    {
      "cell_type": "code",
      "execution_count": null,
      "metadata": {
        "id": "QmsJ1nWQz-4j",
        "outputId": "415b386e-043d-4dc6-a044-ca705ffd7e28"
      },
      "outputs": [
        {
          "name": "stdout",
          "output_type": "stream",
          "text": [
            "(1, 1, 1, 1, 1, 1, 1, 1, 1, 1)\n"
          ]
        }
      ],
      "source": [
        "a = (1,1,1,1,1)\n",
        "b = 2\n",
        "print(a*b)"
      ]
    },
    {
      "cell_type": "markdown",
      "metadata": {
        "id": "3ehCUpO50Kii"
      },
      "source": [
        "### (5) 관련 메소드\n",
        "\n",
        "지난번 문자열 메소드와 마찬가지로 리스트에도 다양한 내장함수 및 메소드가 존재합니다. \n",
        "\n",
        "|| 종류|\n",
        "|--|--|\n",
        "|내장함수| `len()`, `max()`, `min()`, `sum()`\n",
        "|메서드|  `.count()`, `.index()`, `.sort()`\n"
      ]
    },
    {
      "cell_type": "markdown",
      "metadata": {
        "id": "voHfC6oN0M7z"
      },
      "source": [
        "####  **내장함수**\n",
        "\n",
        "* `len()`: 길이를 구합니다.\n",
        "* `max()`: 최대값을 구합니다.\n",
        "* `min()`: 최소값을 구합니다.\n",
        "* `sum()`: 모든값을 더합니다.\n",
        "\n",
        "```\n",
        "a = (1,2,3,4)\n",
        "print(len(a))\n",
        "print(max(a))\n",
        "print(min(a))\n",
        "print(sum(a))\n",
        "```"
      ]
    },
    {
      "cell_type": "code",
      "execution_count": null,
      "metadata": {
        "id": "IhhzAce50IfM",
        "outputId": "61b9a611-d124-45c2-8515-4030b112b193"
      },
      "outputs": [
        {
          "name": "stdout",
          "output_type": "stream",
          "text": [
            "4\n",
            "4\n",
            "1\n",
            "10\n"
          ]
        }
      ],
      "source": [
        "a = (1,2,3,4)\n",
        "print(len(a))\n",
        "print(max(a))\n",
        "print(min(a))\n",
        "print(sum(a))"
      ]
    },
    {
      "cell_type": "markdown",
      "metadata": {
        "id": "oVCfiNf10Q2a"
      },
      "source": [
        "#### **기타 메서드**\n",
        "\n",
        "* `count(obj)` : `obj` 개수 카운트\n",
        "*  `index(obj)` : `obj` 위치 인덱싱 (중복시 앞순서부터)\n",
        "\n",
        "```\n",
        "a = (2,2,1,3,3,3)\n",
        "print(a.count(2))\n",
        "print(a.index(2))\n",
        "```"
      ]
    },
    {
      "cell_type": "code",
      "execution_count": null,
      "metadata": {
        "id": "cvqms6iH0PoF",
        "outputId": "58b60188-581f-4e94-c75d-eabcb11bc625"
      },
      "outputs": [
        {
          "name": "stdout",
          "output_type": "stream",
          "text": [
            "2\n",
            "0\n"
          ]
        }
      ],
      "source": [
        "a = (2,2,1,3,3,3)\n",
        "print(a.count(2))\n",
        "print(a.index(2))"
      ]
    },
    {
      "cell_type": "markdown",
      "metadata": {
        "id": "wbcmVb3h00Jo"
      },
      "source": [
        "## 문제풀이\n",
        "---"
      ]
    },
    {
      "cell_type": "markdown",
      "metadata": {
        "id": "4PX2kZmg0WWl"
      },
      "source": [
        "\n",
        "\n",
        "**예제 01**\n",
        "\n",
        "과일메뉴가 다음과 같습니다. 튜플로 작성하세요\n",
        "\n",
        "|과일|\n",
        "|--|\n",
        "사과\n",
        "바나나\n",
        "감자\n",
        "메론\n",
        "복숭아\n",
        "딸기"
      ]
    },
    {
      "cell_type": "code",
      "execution_count": null,
      "metadata": {
        "id": "HQQytPl10XPQ"
      },
      "outputs": [],
      "source": [
        "a = (\"사과\",\"바나나\",\"감자\",\"메론\",\"복숭아\",\"딸기\")"
      ]
    },
    {
      "cell_type": "markdown",
      "metadata": {
        "id": "SZmwFndu0YaG"
      },
      "source": [
        "**예제 02**\n",
        "\n",
        "위에서 만든 튜플에  \"포도\"를 추가하세요"
      ]
    },
    {
      "cell_type": "code",
      "execution_count": null,
      "metadata": {
        "id": "TFV-mjV30Yyl",
        "outputId": "ff391b8e-04b8-4f22-ca5d-5d84f02635a9"
      },
      "outputs": [
        {
          "data": {
            "text/plain": [
              "('사과', '바나나', '감자', '메론', '복숭아', '딸기', '포도')"
            ]
          },
          "execution_count": 24,
          "metadata": {},
          "output_type": "execute_result"
        }
      ],
      "source": [
        "a_list = list(a)\n",
        "a_list.append(\"포도\")\n",
        "a = tuple(a_list)\n",
        "a"
      ]
    },
    {
      "cell_type": "markdown",
      "metadata": {
        "id": "w6eyKFn30Y4T"
      },
      "source": [
        "**예제 03**\n",
        "\n",
        "\"감자\"가 잘못 들어가 있었습니다. \"감자\"를 삭제하세요"
      ]
    },
    {
      "cell_type": "code",
      "execution_count": null,
      "metadata": {
        "id": "5G-XdEpq0Z8u",
        "outputId": "aac046d7-408a-436e-e49a-e8acdc59cba6"
      },
      "outputs": [
        {
          "data": {
            "text/plain": [
              "('사과', '바나나', '메론', '복숭아', '딸기', '포도')"
            ]
          },
          "execution_count": 27,
          "metadata": {},
          "output_type": "execute_result"
        }
      ],
      "source": [
        "a_list = list(a)\n",
        "a_list.remove(\"감자\")\n",
        "a = tuple(a_list)\n",
        "a"
      ]
    },
    {
      "cell_type": "markdown",
      "metadata": {
        "id": "04RazUkn0aCr"
      },
      "source": [
        "**예제 04**\n",
        "\n",
        "위에서 만든 튜플의 세번째부터 끝까지 요소만 들어있는 튜플을 새로 만드세요(슬라이싱 이용하세요)"
      ]
    },
    {
      "cell_type": "code",
      "execution_count": null,
      "metadata": {
        "id": "bA5bwIh10bJW",
        "outputId": "50ebb1d6-59db-4687-a6dd-f79f92d44c61"
      },
      "outputs": [
        {
          "data": {
            "text/plain": [
              "('복숭아', '딸기', '포도')"
            ]
          },
          "execution_count": 31,
          "metadata": {},
          "output_type": "execute_result"
        }
      ],
      "source": [
        "new_a = a[-3:]\n",
        "new_a"
      ]
    },
    {
      "cell_type": "markdown",
      "metadata": {
        "id": "MyL6SbCc0bPH"
      },
      "source": [
        "**예제 05**\n",
        "\n",
        "빈 튜플을 생성하여 `t0` 으로 저장하세요"
      ]
    },
    {
      "cell_type": "code",
      "execution_count": null,
      "metadata": {
        "id": "WHrbgYNH0cCg",
        "outputId": "96dfd974-0759-487d-b824-1d3032d3cb00"
      },
      "outputs": [
        {
          "data": {
            "text/plain": [
              "()"
            ]
          },
          "execution_count": 49,
          "metadata": {},
          "output_type": "execute_result"
        }
      ],
      "source": [
        "t0 = ()\n",
        "t0"
      ]
    },
    {
      "cell_type": "markdown",
      "metadata": {
        "id": "VB35MUrz0cHK"
      },
      "source": [
        "**예제 06**\n",
        "\n",
        "숫자 5가 들어있는 튜플을 생성하여 `t1` 으로 저장하세요\n"
      ]
    },
    {
      "cell_type": "code",
      "execution_count": null,
      "metadata": {
        "id": "ojmBEhVF0dkk"
      },
      "outputs": [],
      "source": [
        "t1 = (5,)"
      ]
    },
    {
      "cell_type": "markdown",
      "metadata": {
        "id": "533FHCgK0doU"
      },
      "source": [
        "**예제 07**\n",
        "\n",
        "`t0` 에 8을 추가하세요"
      ]
    },
    {
      "cell_type": "code",
      "execution_count": null,
      "metadata": {
        "id": "UfgIfQSv0epL",
        "outputId": "9501210f-a077-4f7c-e222-9202f4300141"
      },
      "outputs": [
        {
          "data": {
            "text/plain": [
              "(8,)"
            ]
          },
          "execution_count": 50,
          "metadata": {},
          "output_type": "execute_result"
        }
      ],
      "source": [
        "t0 = list(t0)\n",
        "t0.append(8)\n",
        "t0 = tuple(t0)\n",
        "t0"
      ]
    },
    {
      "cell_type": "markdown",
      "metadata": {
        "id": "J06zOdwC0es7"
      },
      "source": [
        "**예제 08**\n",
        "\n",
        "\n",
        "`t0` 과 `t1` 을 합치세요"
      ]
    },
    {
      "cell_type": "code",
      "execution_count": null,
      "metadata": {
        "id": "AIIs8TGB0ftK",
        "outputId": "2511b4fb-3cdb-4365-f244-22aeb15bfd33"
      },
      "outputs": [
        {
          "name": "stdout",
          "output_type": "stream",
          "text": [
            "(8, 5)\n"
          ]
        }
      ],
      "source": [
        "print(t0+t1)"
      ]
    },
    {
      "cell_type": "markdown",
      "metadata": {
        "id": "x8UI5uxO0fxO"
      },
      "source": [
        "**예제 09**\n",
        "\n",
        "\n",
        "아래와 같이 `a`가 바인딩 되어 있습니다. `a`의 타입을 확인해보고 이를 통해 알 수 있는 정보를 해설하세요\n",
        "\n",
        "\n",
        "```\n",
        "a = 1,2,3,4,5\n",
        "```"
      ]
    },
    {
      "cell_type": "code",
      "execution_count": null,
      "metadata": {
        "id": "JfkCQlpV0g2r",
        "outputId": "cb55985b-ae7f-4ba7-9727-1e1a82449c15"
      },
      "outputs": [
        {
          "name": "stdout",
          "output_type": "stream",
          "text": [
            "(1, 2, 3, 4, 5) <class 'tuple'>\n"
          ]
        }
      ],
      "source": [
        "a = 1,2,3,4,5\n",
        "print(a, type(a))"
      ]
    },
    {
      "cell_type": "markdown",
      "metadata": {
        "id": "t-KZLhAa0g6g"
      },
      "source": [
        "**예제 10**\n",
        "\n",
        "`b`의 평균을 계산하세요.\n",
        "\n",
        "\n",
        "```\n",
        "b = (1,2,3,4,5,10,20,30,40)\n",
        "```"
      ]
    },
    {
      "cell_type": "code",
      "execution_count": null,
      "metadata": {
        "id": "0DiU-KYj0pdX",
        "outputId": "74ddba3a-6248-4bb6-c7d9-9f1db813224d"
      },
      "outputs": [
        {
          "data": {
            "text/plain": [
              "12.777777777777779"
            ]
          },
          "execution_count": 53,
          "metadata": {},
          "output_type": "execute_result"
        }
      ],
      "source": [
        "b = (1,2,3,4,5,10,20,30,40)\n",
        "sum(b)/len(b)"
      ]
    },
    {
      "cell_type": "code",
      "execution_count": null,
      "metadata": {
        "id": "ScjkgRRF0J80"
      },
      "outputs": [],
      "source": [
        ""
      ]
    }
  ],
  "metadata": {
    "colab": {
      "collapsed_sections": [],
      "name": "2-4.파이썬의 자료형_튜플.ipynb",
      "provenance": [],
      "include_colab_link": true
    },
    "kernelspec": {
      "display_name": "Python 3 (ipykernel)",
      "language": "python",
      "name": "python3"
    },
    "language_info": {
      "codemirror_mode": {
        "name": "ipython",
        "version": 3
      },
      "file_extension": ".py",
      "mimetype": "text/x-python",
      "name": "python",
      "nbconvert_exporter": "python",
      "pygments_lexer": "ipython3",
      "version": "3.9.7"
    },
    "toc": {
      "base_numbering": 1,
      "nav_menu": {},
      "number_sections": true,
      "sideBar": true,
      "skip_h1_title": false,
      "title_cell": "Table of Contents",
      "title_sidebar": "Contents",
      "toc_cell": false,
      "toc_position": {},
      "toc_section_display": true,
      "toc_window_display": false
    },
    "varInspector": {
      "cols": {
        "lenName": 16,
        "lenType": 16,
        "lenVar": 40
      },
      "kernels_config": {
        "python": {
          "delete_cmd_postfix": "",
          "delete_cmd_prefix": "del ",
          "library": "var_list.py",
          "varRefreshCmd": "print(var_dic_list())"
        },
        "r": {
          "delete_cmd_postfix": ") ",
          "delete_cmd_prefix": "rm(",
          "library": "var_list.r",
          "varRefreshCmd": "cat(var_dic_list()) "
        }
      },
      "types_to_exclude": [
        "module",
        "function",
        "builtin_function_or_method",
        "instance",
        "_Feature"
      ],
      "window_display": false
    }
  },
  "nbformat": 4,
  "nbformat_minor": 0
}