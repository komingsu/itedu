{
  "cells": [
    {
      "cell_type": "markdown",
      "metadata": {
        "id": "view-in-github",
        "colab_type": "text"
      },
      "source": [
        "<a href=\"https://colab.research.google.com/github/komingsu/SkillTreePython/blob/main/4-1.%EC%A1%B0%EA%B1%B4%EB%AC%B8___if%EB%AC%B8.ipynb\" target=\"_parent\"><img src=\"https://colab.research.google.com/assets/colab-badge.svg\" alt=\"Open In Colab\"/></a>"
      ]
    },
    {
      "cell_type": "markdown",
      "metadata": {
        "id": "kB5IciXEm6o4"
      },
      "source": [
        "# 4-1. 조건문 : if문\n",
        "---\n",
        "* 날짜: 2022-03-31\n",
        "* 이름: 고민수"
      ]
    },
    {
      "cell_type": "markdown",
      "metadata": {
        "id": "4iN8NFzHRJ2D"
      },
      "source": [
        "## 개념정리\n",
        "---\n",
        "\n",
        "\n",
        "어떤 특정한 조건에서만 코드가 작동되게 하려면 어떻게 할까요? 파이썬의 경우에는 `if, elif, else` 를 이용하여 코드를 제어합니다. n가지 조건이 나열되어 있을 때 아래와 같이 `if, elif, else`를 배분합니다.\n",
        "\n",
        "\n",
        "```\n",
        "if 조건1:\n",
        "  조건1 만족시 작동\n",
        "elif 조건2:\n",
        "  조건2 만족시 작동\n",
        "...\n",
        "elif 조건n-1:\n",
        "  조건n-1 만족시 작동\n",
        "else:\n",
        "  조건 n 만족시 작동\n",
        "```"
      ]
    },
    {
      "cell_type": "markdown",
      "metadata": {
        "id": "MAM8MDnfw68b"
      },
      "source": [
        "### **(1) 기본 사용**\n",
        "\n",
        "간단한 if 문을 작성해 봅시다. if문 하나만으로도 코드를 작성할 수 있습니다. \n",
        "\n",
        "```\n",
        "a = 2\n",
        "\n",
        "if a==2: # a가 2라면 ,\n",
        "  print(\"if문의 영향을 받는 출력\") # 이 코드를 실행\n",
        "```"
      ]
    },
    {
      "cell_type": "code",
      "execution_count": null,
      "metadata": {
        "id": "qzaIeO6tSQsb",
        "outputId": "8854b4fa-3869-4098-e371-ccc911db58d7"
      },
      "outputs": [
        {
          "name": "stdout",
          "output_type": "stream",
          "text": [
            "으헠\n"
          ]
        }
      ],
      "source": [
        "a = 2\n",
        "if a==2:\n",
        "    print(\"으헠\")"
      ]
    },
    {
      "cell_type": "markdown",
      "metadata": {
        "id": "iiBldnc8SdV6"
      },
      "source": [
        "#### **들여쓰기**\n",
        "\n",
        "if 문 아래의 `print` 코드는 몇칸을 뛴 후 작성한 것을 볼 수 있습니다. 이를 들여쓰기라고 합니다. 파이썬에서 들여쓰기 한 코드는 들여쓰기를 하기 전 코드의 영향력 아래에 있음을 의미합니다.\n",
        "\n",
        "따라서 위코드에서  `print(\"if문의 영향을 받는 출력\")` 이 부분은 if문의 영향을 받기 때문에 `a==1`일 때만 코드가 실행됩니다.\n",
        "\n",
        "만약 if문의 영향을 끝내고 싶다면 들여쓰기를 하지 않고 코드를 작성하면 됩니다.\n",
        "\n",
        "a 가 2가 아니지만 `print(\"if문의 영향을 받지 않는 출력\")` 줄은 if문의 영향을 받지 않기 때문에 a 값과 상관없이 출력이 됩니다.\n",
        "\n",
        "```\n",
        "a = 0\n",
        "\n",
        "if a==2: # a가 2라면 ,\n",
        "  print(\"if문의 영향을 받는 출력\") # 이 코드를 실행\n",
        "print(\"if문의 영향을 받지 않는 출력\") # 이 코드는 항상 실행됨\n",
        "\n",
        "```"
      ]
    },
    {
      "cell_type": "code",
      "execution_count": null,
      "metadata": {
        "id": "y3FK5KXTSVLF",
        "outputId": "9b256d7a-6cd5-4064-9133-99e33f44ff94"
      },
      "outputs": [
        {
          "name": "stdout",
          "output_type": "stream",
          "text": [
            "if문의 영향을 받지 않는 출력\n"
          ]
        }
      ],
      "source": [
        "a = 0\n",
        "\n",
        "if a==2: # a가 2라면 ,\n",
        "  print(\"if문의 영향을 받는 출력\") # 이 코드를 실행\n",
        "print(\"if문의 영향을 받지 않는 출력\") # 이 코드는 항상 실행됨"
      ]
    },
    {
      "cell_type": "markdown",
      "metadata": {
        "id": "46u1an5GXDc3"
      },
      "source": [
        "#### **`elif`**\n",
        "\n",
        "\n",
        "만약 조건을 더 추가하고 싶다면 `elif`를 사용합니다. 이제 조건은 더 세분화 할 수 있습니다.\n",
        "\n",
        "```\n",
        "a= 3\n",
        " \n",
        "if a ==2: # 첫번째 조건을 만족하면\n",
        "  print(\"첫번째 조건을 만족합니다.\") # 이 코드를 실행\n",
        "elif a==3: # 첫번째 조건이 아니라 두번째 조건을 만족하면\n",
        "  print(\"두번째 조건을 만족합니다.\") # 이 조건을 실행\n",
        "```\n"
      ]
    },
    {
      "cell_type": "code",
      "execution_count": null,
      "metadata": {
        "id": "gPQGwmiRVXyL",
        "outputId": "b0a07249-e24c-4850-a66f-f1d329ec9ebd"
      },
      "outputs": [
        {
          "name": "stdout",
          "output_type": "stream",
          "text": [
            "두번째 조건을 만족합니다.\n"
          ]
        }
      ],
      "source": [
        "a= 3\n",
        " \n",
        "if a ==2: # 첫번째 조건을 만족하면\n",
        "  print(\"첫번째 조건을 만족합니다.\") # 이 코드를 실행\n",
        "elif a==3: # 첫번째 조건이 아니라 두번째 조건을 만족하면\n",
        "  print(\"두번째 조건을 만족합니다.\") # 이 조건을 실행"
      ]
    },
    {
      "cell_type": "markdown",
      "metadata": {
        "id": "US4qWBR3ZYsk"
      },
      "source": [
        "한번 더 조건을 더 추가 하고 싶나요? 마찬가지로 `elif`를 사용합니다. \n",
        "\n",
        "```\n",
        "a= 4\n",
        "\n",
        "if a ==2: # 첫번째 조건을 만족하면 \n",
        "  print(\"첫번째 조건을 만족합니다.\") # 이 코드를 실행\n",
        "elif a==3: # 첫번재 조건이 아니라 두번째 조건을 만족하면\n",
        "  print(\"두번째 조건을 만족합니다.\") # 이 코드를 실행\n",
        "elif a==4: # 첫번째, 두번째 조건이 아니라 세번째 조건을 만족하면\n",
        "  print(\"세번째 조건을 만족합니다.\") # 이 코드를 실행\n",
        "```\n"
      ]
    },
    {
      "cell_type": "code",
      "execution_count": null,
      "metadata": {
        "id": "iqKBm-oZZad_",
        "outputId": "f6f00ba5-a2ac-4760-8723-33aaa11cb547"
      },
      "outputs": [
        {
          "name": "stdout",
          "output_type": "stream",
          "text": [
            "세번째 조건을 만족합니다.\n"
          ]
        }
      ],
      "source": [
        "a= 4\n",
        "\n",
        "if a ==2: # 첫번째 조건을 만족하면 \n",
        "  print(\"첫번째 조건을 만족합니다.\") # 이 코드를 실행\n",
        "elif a==3: # 첫번재 조건이 아니라 두번째 조건을 만족하면\n",
        "  print(\"두번째 조건을 만족합니다.\") # 이 코드를 실행\n",
        "elif a==4: # 첫번째, 두번째 조건이 아니라 세번째 조건을 만족하면\n",
        "  print(\"세번째 조건을 만족합니다.\") # 이 코드를 실행"
      ]
    },
    {
      "cell_type": "markdown",
      "metadata": {
        "id": "LwqyhnqYZqd6"
      },
      "source": [
        "#### **`else`**\n",
        "\n",
        "정수는 무한이 많습니다. 2도 아니고, 3도 아니고, 4도 아닌 어느 조건에도 해당하지 않으면 `else`가 실행됩니다.\n",
        "\n",
        "```\n",
        "a= 100\n",
        "\n",
        "if a ==2: # 첫번째 조건을 만족하면 ,\n",
        "  print(\"첫번째 조건을 만족합니다.\") # 이 코드를 실행\n",
        "elif a==3: # 첫번재 조건이 아니라 두번째 조건을 만족하면,\n",
        "  print(\"두번째 조건을 만족합니다.\") # 이 코드를 실행\n",
        "elif a==4: # 첫번째, 두번째 조건이 아니라 세번째 조건을 만족하면,\n",
        "  print(\"세번째 조건을 만족합니다.\") # 이 코드를 실행\n",
        "else: # 어느 조건에도 해당하지 않으면,\n",
        "  print(\"어느 조건에도 해당하지 않습니다.\") # 이 코드를 실행\n",
        "```\n"
      ]
    },
    {
      "cell_type": "code",
      "execution_count": null,
      "metadata": {
        "id": "X6WumNNKZcwh",
        "outputId": "a2ef9c78-a034-45d5-f468-d1dc35591a86"
      },
      "outputs": [
        {
          "name": "stdout",
          "output_type": "stream",
          "text": [
            "어느 조건에도 해당하지 않습니다.\n"
          ]
        }
      ],
      "source": [
        "a= 100\n",
        "\n",
        "if a ==2: # 첫번째 조건을 만족하면 ,\n",
        "  print(\"첫번째 조건을 만족합니다.\") # 이 코드를 실행\n",
        "elif a==3: # 첫번재 조건이 아니라 두번째 조건을 만족하면,\n",
        "  print(\"두번째 조건을 만족합니다.\") # 이 코드를 실행\n",
        "elif a==4: # 첫번째, 두번째 조건이 아니라 세번째 조건을 만족하면,\n",
        "  print(\"세번째 조건을 만족합니다.\") # 이 코드를 실행\n",
        "else: # 어느 조건에도 해당하지 않으면,\n",
        "  print(\"어느 조건에도 해당하지 않습니다.\") # 이 코드를 실행"
      ]
    },
    {
      "cell_type": "markdown",
      "metadata": {
        "id": "l5Mhn4qKZ83M"
      },
      "source": [
        "\n",
        "### **(2) 여러가지 조건문**\n",
        "\n"
      ]
    },
    {
      "cell_type": "markdown",
      "metadata": {
        "id": "6eSFgbhWaJdw"
      },
      "source": [
        "#### **두개 이상의 조건**\n",
        "\n",
        "여기서 말하는 두개 이상의 조건은 한 if문에 `and`나 `or`로 연결된 다중 조건을 말합니다. 3의 배수를 생각해 봅시다. 3의 배수는 3으로 나누어 떨어집니다. 또한 3의 배수는 3부터 시작합니다. 따라서 이 두가지 조건을 같이 넣어 봅시다.\n",
        "\n",
        "```\n",
        "a = 12\n",
        "\n",
        "if a>=3 and a%3==0: # a가 3의 배수이면\n",
        "  print(f\"{a}는 3의 배수입니다\") # 이 코드를 실행\n",
        "```\n",
        "\n",
        "코드에서 보듯이 두가지 조건을 연결할 때는 `and` 를 사용합니다. 둘 중 어느 하나만이 아니라 두가지 조건을 모두 만족해야 if문이 실행됩니다."
      ]
    },
    {
      "cell_type": "code",
      "execution_count": null,
      "metadata": {
        "id": "qXQmWJ6aZ0Sx",
        "outputId": "713537c1-9d94-438e-844d-9b12db8e0004"
      },
      "outputs": [
        {
          "name": "stdout",
          "output_type": "stream",
          "text": [
            "12는 3의 배수입니다\n"
          ]
        }
      ],
      "source": [
        "a = 12\n",
        "\n",
        "if a>=3 and a%3==0: # a가 3의 배수이면\n",
        "  print(f\"{a}는 3의 배수입니다\") # 이 코드를 실행"
      ]
    },
    {
      "cell_type": "markdown",
      "metadata": {
        "id": "-sGSZzeGaSTo"
      },
      "source": [
        "#### **이중 if 문**\n",
        "\n",
        "\n",
        "if문 내에 if 문이 들어가 있을 때를 얘기합니다. 이중 if문뿐 아니라 삼중, 사중, 그 이상도 가능합니다. (실제로 잘 사용되지는 않습니다.)\n",
        "\n",
        "```\n",
        "a = 12\n",
        "\n",
        "if a<100: # a가 100보다 작고, \n",
        "  if a%2==0: # a가 2로 나누어 떨어지면,\n",
        "    print(\"짝수입니다.\") # 이 코드를 실행\n",
        "else:  # a가 100보다 크면\n",
        "  print(\"입력숫자초과\") # 이 코드를 실행\n",
        "```"
      ]
    },
    {
      "cell_type": "code",
      "execution_count": null,
      "metadata": {
        "id": "zXboSnyHbHab",
        "outputId": "240e8d89-be32-434b-beb4-9e7aee518473"
      },
      "outputs": [
        {
          "name": "stdout",
          "output_type": "stream",
          "text": [
            "짝수입니다.\n"
          ]
        }
      ],
      "source": [
        "a = 12\n",
        "\n",
        "if a<100: # a가 100보다 작고, \n",
        "  if a%2==0: # a가 2로 나누어 떨어지면,\n",
        "    print(\"짝수입니다.\") # 이 코드를 실행\n",
        "else:  # a가 100보다 크면\n",
        "  print(\"입력숫자초과\") # 이 코드를 실행"
      ]
    },
    {
      "cell_type": "markdown",
      "metadata": {
        "id": "rKbgEKwJbINj"
      },
      "source": [
        "### **(3) `if True:`/ `if False:`** "
      ]
    },
    {
      "cell_type": "markdown",
      "metadata": {
        "id": "40tGdKqla0D3"
      },
      "source": [
        "if문의 조건으로 들어간 `<`, `==` 등의 기호는 산술연산자로서 우리는 이미 앞에서 산술연산자에 대해서 배웠습니다. \n",
        "\n",
        "산술연산자의 결과로 `True` 혹은 `False` 라는 `bool` 값이 나오게 되기 때문에 위에서 우리가 작성한 if문 줄은 `if True:` 혹은 `if False`와 동일합니다.\n",
        "\n",
        "이 말은 `if True` 일 때는 그 아래 코드가 실행이 되고 `if False` 일 때는 그 아래 코드가 실행 되지 않음을 의미합니다.\n",
        "\n",
        "```\n",
        "if True:\n",
        "  print(\"무조건 실행이 됩니다.\")\n",
        "\n",
        "if False:\n",
        "  print(\"무조건 실행이 되지 않습니다.\")\n",
        "```\n",
        "\n"
      ]
    },
    {
      "cell_type": "code",
      "execution_count": null,
      "metadata": {
        "id": "2b2Zcj5FcI2k",
        "outputId": "dc6364e4-4d31-40f8-e1b6-d37d162ce3c9"
      },
      "outputs": [
        {
          "name": "stdout",
          "output_type": "stream",
          "text": [
            "무조건 실행이 됩니다.\n"
          ]
        }
      ],
      "source": [
        "if True:\n",
        "  print(\"무조건 실행이 됩니다.\")\n",
        "\n",
        "if False:\n",
        "  print(\"무조건 실행이 되지 않습니다.\")"
      ]
    },
    {
      "cell_type": "markdown",
      "metadata": {
        "id": "lCOowsEGcI7u"
      },
      "source": [
        "\n",
        "따라서 if문에는 bool값을 모두 조건문으로 사용할 수 있습니다.  우리는 앞서 `bool` 값을 반환하는 또 다른 연산자들을 배워 봤습니다. 그 중 `is`, `is not`을 이용해 코드를 작성해 보겠습니다.\n",
        "\n",
        "\n",
        "```\n",
        "a = 10\n",
        "b = 10.0\n",
        "\n",
        "if a is b:\n",
        "  print(\"a와 b는 동일\")\n",
        "```"
      ]
    },
    {
      "cell_type": "code",
      "execution_count": null,
      "metadata": {
        "id": "Uzczw78BfTsH"
      },
      "outputs": [],
      "source": [
        "a = 10\n",
        "b = 10.0\n",
        "\n",
        "if a is b:\n",
        "  print(\"a와 b는 동일\")"
      ]
    },
    {
      "cell_type": "markdown",
      "metadata": {
        "id": "m3uzd_GqfU8O"
      },
      "source": [
        "출력이 되나요? `is`는 데이터 타입까지 같아야 `True`라고 하였습니다. 따라서 출력이 되지 않는게 맞습니다."
      ]
    },
    {
      "cell_type": "markdown",
      "metadata": {
        "id": "ypphueHcfmYy"
      },
      "source": [
        "#### **`in`, `not in`**\n",
        "\n",
        "우리가 `bool` 시간에 배우지 않은 연산자가 있습니다. 바로 `in`과 `not in` 입니다. 파이썬의 다양한 군집 자료형 안에 특정 요소가 들어있는지, 아닌지를 판별할 수 있는 유용한 연산자 입니다.\n",
        "\n",
        "* `a in s` : 군집 자료형 `s` 안에 요소 `a`가 존재\n",
        "* `a not in s` : 군집 자료형 `s` 안에 요소 'a`가 존재하지 않음.\n",
        "\n",
        "```\n",
        "s= [1,2,3]\n",
        "a = 2\n",
        "\n",
        "if a in s:\n",
        "  print(f\"{a} 가 {s}에 존재합니다.\")\n",
        "```"
      ]
    },
    {
      "cell_type": "code",
      "execution_count": null,
      "metadata": {
        "id": "NBhc0GUUgTKF",
        "outputId": "dec9e55e-0465-40af-ddf9-7dccab93b639"
      },
      "outputs": [
        {
          "name": "stdout",
          "output_type": "stream",
          "text": [
            "2 가 [1, 2, 3]에 존재합니다.\n"
          ]
        }
      ],
      "source": [
        "s= [1,2,3]\n",
        "a = 2\n",
        "\n",
        "if a in s:\n",
        "  print(f\"{a} 가 {s}에 존재합니다.\")"
      ]
    },
    {
      "cell_type": "markdown",
      "metadata": {
        "id": "MddSbtGuaYiD"
      },
      "source": [
        "\n",
        "### **(3) 삼항 연산자**\n",
        "\n",
        "조건문과 같은 기능을 하는 연산자입니다.  상황에 맞게 잘 사용한다면 코드 길이를 효과적으로 줄일 수 있습니다.\n",
        "\n",
        "\n",
        "```\n",
        "# 조건문\n",
        "if(1) 조건:(2)\n",
        "  조건이참일때코드(3)\n",
        "else:(4)\n",
        "  조건거짓일때코드(5)\n",
        "\n",
        "# 삼항 연산자\n",
        "조건참일때코드  if   조건   else   조건거짓일때코드\n",
        "       (3)      (1)   (2)    (4)       (5)\n",
        "```\n",
        "\n",
        "아래 코드를 삼항 연산자로 변환해 봅시다.\n",
        "\n",
        "```\n",
        "a = 2\n",
        "\n",
        "if a==2: \n",
        "  print(\"a는 2다.\") \n",
        "else:\n",
        "  print(\"a는 2가 아니다.\") \n",
        "```\n",
        "\n",
        "변환결과\n",
        "\n",
        "```\n",
        "a = 2\n",
        "print(\"a는 2다.\") if a==2 else print(\"a는 2가 아니다.\")\n",
        "```"
      ]
    },
    {
      "cell_type": "code",
      "execution_count": null,
      "metadata": {
        "id": "HVDwjdH2aMFj",
        "outputId": "b8b224f1-f387-4fc1-98a1-caa8a4316908"
      },
      "outputs": [
        {
          "name": "stdout",
          "output_type": "stream",
          "text": [
            "a는 2다.\n"
          ]
        }
      ],
      "source": [
        "a = 2\n",
        "\n",
        "if a==2: \n",
        "  print(\"a는 2다.\") \n",
        "else:\n",
        "  print(\"a는 2가 아니다.\") "
      ]
    },
    {
      "cell_type": "code",
      "execution_count": null,
      "metadata": {
        "id": "UeJlaneGNThP",
        "outputId": "7353d73f-cb78-4e84-837f-7253600254ba"
      },
      "outputs": [
        {
          "name": "stdout",
          "output_type": "stream",
          "text": [
            "a는 2다.\n"
          ]
        }
      ],
      "source": [
        "a = 2\n",
        "print(\"a는 2다.\") if a==2 else print(\"a는 2가 아니다.\")"
      ]
    },
    {
      "cell_type": "markdown",
      "metadata": {
        "id": "i0_nVSq-ahHr"
      },
      "source": [
        "## 문제 풀이\n",
        "---\n",
        "\n"
      ]
    },
    {
      "cell_type": "markdown",
      "metadata": {
        "id": "cxHw7Eqwah07"
      },
      "source": [
        "**예제 01**\n",
        "\n",
        "아래 코드의 실행결과를 예측하고 직접 실행해보세요\n",
        "\n",
        "```\n",
        "if True:\n",
        "    print(\"Hello World\")\n",
        "```"
      ]
    },
    {
      "cell_type": "code",
      "execution_count": null,
      "metadata": {
        "id": "fIQIHPX7gi6D",
        "outputId": "dccc3b68-7251-40d8-c000-93f7d86a7254"
      },
      "outputs": [
        {
          "name": "stdout",
          "output_type": "stream",
          "text": [
            "Hello World\n"
          ]
        }
      ],
      "source": [
        "if True:\n",
        "    print(\"Hello World\")"
      ]
    },
    {
      "cell_type": "markdown",
      "metadata": {
        "id": "mbDRyjksgi9s"
      },
      "source": [
        "\n",
        "**예제 02**\n",
        "\n",
        "아래 코드의 실행결과를 예측하고 직접 실행해보세요\n",
        "\n",
        "```\n",
        "if False:\n",
        "    print(\"Hello World\")\n",
        "```\n"
      ]
    },
    {
      "cell_type": "code",
      "execution_count": null,
      "metadata": {
        "id": "0cNRiYJKgjZw"
      },
      "outputs": [],
      "source": [
        "if False:\n",
        "    print(\"Hello World\")"
      ]
    },
    {
      "cell_type": "markdown",
      "metadata": {
        "id": "QNTlcFQxgjdK"
      },
      "source": [
        "\n",
        "**예제 03**\n",
        "\n",
        "아래 코드의 실행결과를 예측하고 직접 실행해보세요\n",
        "```\n",
        "if True:\n",
        "    print(\"Hello World\")\n",
        "else\n",
        "    print(\"else\")\n",
        "```"
      ]
    },
    {
      "cell_type": "code",
      "execution_count": null,
      "metadata": {
        "id": "37avWITVgmFO",
        "outputId": "959ce796-5132-487f-b058-28e201e6fc55"
      },
      "outputs": [
        {
          "name": "stdout",
          "output_type": "stream",
          "text": [
            "Hello World\n"
          ]
        }
      ],
      "source": [
        "if True:\n",
        "    print(\"Hello World\")\n",
        "else:\n",
        "    print(\"else\")"
      ]
    },
    {
      "cell_type": "markdown",
      "metadata": {
        "id": "1GB2dx6sgks-"
      },
      "source": [
        "**예제 04**\n",
        "\n",
        "아래 코드의 실행결과를 예측하고 직접 실행해보세요\n",
        "\n",
        "```\n",
        "if False:\n",
        "    print(\"Hello World\")\n",
        "else\n",
        "    print(\"else\")\n",
        "```\n"
      ]
    },
    {
      "cell_type": "code",
      "execution_count": null,
      "metadata": {
        "id": "ay0sKGUjgkxo",
        "outputId": "54e8c5a5-3074-469f-fd17-f24b48dda14c"
      },
      "outputs": [
        {
          "name": "stdout",
          "output_type": "stream",
          "text": [
            "else\n"
          ]
        }
      ],
      "source": [
        "if False:\n",
        "    print(\"Hello World\")\n",
        "else:\n",
        "    print(\"else\")"
      ]
    },
    {
      "cell_type": "markdown",
      "metadata": {
        "id": "a7t3w6UMgmI1"
      },
      "source": [
        "**예제 05**\n",
        "\n",
        "아래 코드의 실행결과를 예측하고 직접 실행해보세요\n",
        "```\n",
        "if 4 < 3:\n",
        "    print(\"Hello World.\")\n",
        "else:\n",
        "    print(\"Hi, there.\")\n",
        "```"
      ]
    },
    {
      "cell_type": "code",
      "execution_count": null,
      "metadata": {
        "id": "0knF53DogoMw",
        "outputId": "dfb0137e-b782-4ec6-9d38-3a89dc1ca2fb"
      },
      "outputs": [
        {
          "name": "stdout",
          "output_type": "stream",
          "text": [
            "Hi, there.\n"
          ]
        }
      ],
      "source": [
        "if 4 < 3:\n",
        "    print(\"Hello World.\")\n",
        "else:\n",
        "    print(\"Hi, there.\")"
      ]
    },
    {
      "cell_type": "markdown",
      "metadata": {
        "id": "bZKHjuuYgoSO"
      },
      "source": [
        "\n",
        "**예제 06**\n",
        "\n",
        "아래 코드의 실행결과를 예측하고 직접 실행해보세요\n",
        "```\n",
        "if True :\n",
        "    print (\"1\")\n",
        "    print (\"2\")\n",
        "else :\n",
        "    print(\"3\")\n",
        "print(\"4\")\n",
        "```"
      ]
    },
    {
      "cell_type": "code",
      "execution_count": null,
      "metadata": {
        "id": "FLBUCsIQgpsX",
        "outputId": "89d9fd82-8ac4-41d3-d3ad-bdee91d4af4c"
      },
      "outputs": [
        {
          "name": "stdout",
          "output_type": "stream",
          "text": [
            "1\n",
            "2\n",
            "4\n"
          ]
        }
      ],
      "source": [
        "if True :\n",
        "    print (\"1\")\n",
        "    print (\"2\")\n",
        "else :\n",
        "    print(\"3\")\n",
        "print(\"4\")"
      ]
    },
    {
      "cell_type": "markdown",
      "metadata": {
        "id": "hzyVRikUgpwD"
      },
      "source": [
        "**예제 07**\n",
        "\n",
        "아래 코드의 실행결과를 예측하고 직접 실행해보세요\n",
        "```\n",
        "if True :\n",
        "    if False:\n",
        "        print(\"1\")\n",
        "        print(\"2\")\n",
        "    else:\n",
        "        print(\"3\")\n",
        "else :\n",
        "    print(\"4\")\n",
        "print(\"5\")\n",
        "\n",
        "```"
      ]
    },
    {
      "cell_type": "code",
      "execution_count": null,
      "metadata": {
        "id": "LLG7boA8gqrI",
        "outputId": "67d2496e-67de-435b-cee9-ec9f1ed3fbe0"
      },
      "outputs": [
        {
          "name": "stdout",
          "output_type": "stream",
          "text": [
            "3\n",
            "5\n"
          ]
        }
      ],
      "source": [
        "if True :\n",
        "    if False:\n",
        "        print(\"1\")\n",
        "        print(\"2\")\n",
        "    else:\n",
        "        print(\"3\")\n",
        "else :\n",
        "    print(\"4\")\n",
        "print(\"5\")"
      ]
    },
    {
      "cell_type": "markdown",
      "metadata": {
        "id": "Gwu5n-oDgqyg"
      },
      "source": [
        "**예제 08**\n",
        "\n",
        "입력된 문자열의 길이가 3보다 크면 \"TRUE!\"를 출력하고 그렇지 않으면 'FALSE!'이라는 문자열을 출력하는 코드를 작성하세요. 입력은 내장함수 `input()`를 사용하세요.\n"
      ]
    },
    {
      "cell_type": "code",
      "execution_count": null,
      "metadata": {
        "id": "ANsokcT6gtQz",
        "outputId": "00778a1d-7ae3-4fc1-aea0-ae74a24da866"
      },
      "outputs": [
        {
          "name": "stdout",
          "output_type": "stream",
          "text": [
            "문자를 입력해주세요 : 아브라카다브라\n",
            "True!\n"
          ]
        }
      ],
      "source": [
        "word1 = input(\"문자를 입력해주세요 : \")\n",
        "if len(word1) > 3:\n",
        "    print(\"True!\")\n",
        "else:\n",
        "    print(\"False\")"
      ]
    },
    {
      "cell_type": "markdown",
      "metadata": {
        "id": "9Du9uUgLgta3"
      },
      "source": [
        "**예제 09**\n",
        "\n",
        "입력된 정수값이 짝수이거나 10보다 낮으면 \"target!\" 그렇지 않으면 \"pass\" 라는 문자열을 출력하는 코드를 작성하세요. 입력은 내장함수 `input()`를 사용하세요."
      ]
    },
    {
      "cell_type": "code",
      "execution_count": null,
      "metadata": {
        "id": "43fY7qzEgvHf",
        "outputId": "6e76ea5c-714d-4e7c-8963-7a2b527999fa"
      },
      "outputs": [
        {
          "name": "stdout",
          "output_type": "stream",
          "text": [
            "정수를 입력해주세요 : 9\n",
            "target!\n"
          ]
        }
      ],
      "source": [
        "word2 = int(input(\"정수를 입력해주세요 : \"))\n",
        "if word2%2 == 0 or word2 < 10 :\n",
        "    print(\"target!\")\n",
        "else:\n",
        "    print(\"pass\")"
      ]
    },
    {
      "cell_type": "markdown",
      "metadata": {
        "id": "61JVxwMVgvMh"
      },
      "source": [
        "**예제 10**\n",
        "\n",
        "\n",
        "0에서 100까지의 정수 `n`을 입력받습니다. 만약 범위에 해당하지 않는 정수를 입력하면 에러 메시지를 보내고 종료됩니다. 제대로 입력하였으면 정수 n에 10을 빼고 출력합니다. 만약 10을 뺀 값이 0보다 작으면 0을 출력하세요\n",
        "\n",
        "\n",
        "* 예시\n",
        "```\n",
        ">> n을 입력하세요: 50\n",
        "40\n",
        "```\n",
        "\n",
        "* 예시\n",
        "```\n",
        ">> n을 입력하세요: 5\n",
        "0\n",
        "```\n",
        "\n",
        "* 예시\n",
        "```\n",
        ">> n을 입력하세요: 200\n",
        "잘못된 숫자입니다.\n",
        "```\n"
      ]
    },
    {
      "cell_type": "code",
      "execution_count": null,
      "metadata": {
        "id": "htKCPqm1l4jk",
        "outputId": "fa6bf271-3dec-4696-ece6-d2442a7c78f5"
      },
      "outputs": [
        {
          "name": "stdout",
          "output_type": "stream",
          "text": [
            "1~100 : 300\n",
            "꾸짖을 '갈'! 1~100 이다 이놈\n"
          ]
        }
      ],
      "source": [
        "num1 = int(input(\"1~100 : \"))\n",
        "\n",
        "if num1 >0 and num1 < 10:\n",
        "    print(f\"10개도 없는놈 싹 가져가주마. 0\")\n",
        "\n",
        "elif num1 > 0 and num1 < 101:\n",
        "    print(f\"너의 숫자중 10은 내가 가져가겠다. {num1-10}\")\n",
        "    \n",
        "else:\n",
        "    print(\"꾸짖을 '갈'! 1~100 이다 이놈\")\n",
        "          "
      ]
    },
    {
      "cell_type": "markdown",
      "metadata": {
        "id": "RKC26VgahIGt"
      },
      "source": [
        "**예제 11**\n",
        "\n",
        "사용자로부터 문자열을 입력받고 옵션에 따라 대문자 또는 소문자로 변경하는 함수를 작성하세요\n",
        "\n",
        "* 예시\n",
        "```\n",
        ">> change_str(\"aBc\")\n",
        "ABC\n",
        "```\n",
        "\n",
        "* 예시\n",
        "```\n",
        ">> change_str(\"aBc\", opt='up')\n",
        "ABC\n",
        "```\n",
        "\n",
        "* 예시\n",
        "```\n",
        ">> change_str(\"aBc\", opt='down')\n",
        "abc\n",
        "```"
      ]
    },
    {
      "cell_type": "code",
      "execution_count": null,
      "metadata": {
        "id": "HyyCKmjAgwLJ",
        "outputId": "f958a907-887d-4db4-ad7f-442bbe6957e3"
      },
      "outputs": [
        {
          "name": "stdout",
          "output_type": "stream",
          "text": [
            "ABC\n",
            "ABC\n",
            "abc\n"
          ]
        }
      ],
      "source": [
        "def change_str(input, opt=\"up\"):\n",
        "    \n",
        "    if opt == \"down\" :\n",
        "        print(input.lower())\n",
        "        \n",
        "    else:\n",
        "        print(input.upper())\n",
        "        \n",
        "change_str(\"aBc\")        \n",
        "change_str(\"aBc\", opt='up')        \n",
        "change_str(\"aBc\", opt=\"down\")"
      ]
    },
    {
      "cell_type": "markdown",
      "metadata": {
        "id": "bbUSm7Pm0ecC"
      },
      "source": [
        "**예제 12**\n",
        "\n",
        "학점표를 보고 점수에 따른 학점을 출력하는 함수를 작성하세요\n",
        "\n",
        "|점수|학점|\n",
        "--|--\n",
        "70~100|A\n",
        "30~70 |B\n",
        "0~30 | C\n",
        "\n",
        "* 예시\n",
        "```\n",
        ">> cal_grade(50)\n",
        "학점은 B 입니다.\n",
        "```"
      ]
    },
    {
      "cell_type": "code",
      "execution_count": null,
      "metadata": {
        "id": "ptdi6nBj0iY9",
        "outputId": "d1b611c1-429a-4e33-aee9-ce89815fda8a"
      },
      "outputs": [
        {
          "name": "stdout",
          "output_type": "stream",
          "text": [
            "학점은 B 입니다.\n"
          ]
        }
      ],
      "source": [
        "def cal_grade(input):\n",
        "    if input >= 70:\n",
        "        print(\"학점은 A 입니다.\")\n",
        "    elif input >= 30 :\n",
        "        print(\"학점은 B 입니다.\")\n",
        "    else :\n",
        "        print(\"학점은 C 입니다.\")\n",
        "        \n",
        "cal_grade(50)"
      ]
    },
    {
      "cell_type": "markdown",
      "metadata": {
        "id": "hsVvXoNq0lw1"
      },
      "source": [
        "**예제 13**\n",
        "\n",
        "주민등록번호 뒷자리의 첫번째 번호를 통해 남여를 구분하세요(1,3 남/ 2,4 여) 만약 주민번호의 규격이 맞지 않으면 에러메시지를 출력하는 코드를 작성하세요. 인풋은 내장함수 `input()`로 받습니다.\n",
        "\n",
        "* 예시\n",
        "```\n",
        ">> 주민번호를 입력하세요: 101010-1010101\n",
        "남성입니다. \n",
        "```\n",
        "\n",
        "* 예시\n",
        "```\n",
        ">> 주민번호를 입력하세요: 101010-101\n",
        "주민번호가 올바르지 않습니다.\n",
        "```"
      ]
    },
    {
      "cell_type": "code",
      "execution_count": null,
      "metadata": {
        "id": "-ZBStYHn0skR",
        "outputId": "46253f8a-0fb8-45aa-e3ab-08946789a23d"
      },
      "outputs": [
        {
          "name": "stdout",
          "output_type": "stream",
          "text": [
            "주민등록번호를 입력해주세요 : 101010-1010101\n",
            "남성입니다.\n"
          ]
        }
      ],
      "source": [
        "num3 = input(\"주민등록번호를 입력해주세요 : \")\n",
        "\n",
        "if num3[6]==\"-\":\n",
        "    num3_s = num3.split(\"-\")\n",
        "    if len(num3_s) != 2:\n",
        "        print(\"규격이 올바르지 않습니다.\")\n",
        "    elif (len(num3_s[0])!=6 or len(num3_s[1])!=7) :\n",
        "        print(\"규격이 올바르지 않습니다.\")\n",
        "    elif int(num3_s[1][0]) > 4:\n",
        "        print(\"규격이 올바르지 않습니다.\")\n",
        "    elif int(num3_s[1][0]) > 2:\n",
        "        print(\"여성입니다.\")\n",
        "    else:\n",
        "        print(\"남성입니다.\")\n",
        "else :\n",
        "    print(\"규격이 올바르지 않습니다.\")"
      ]
    },
    {
      "cell_type": "markdown",
      "metadata": {
        "id": "-ya-B4m20tmB"
      },
      "source": [
        "**예제 14**\n",
        "\n",
        "자판기 함수를 생성합니다. 조건은 아래와 같습니다.\n",
        "\n",
        "- 음료수 종류와 가격이 적힌 메뉴판을 출력합니다.(최소 3가지 이상의 음료 종류를 딕셔너리 형태로 저장하세요)\n",
        "- 음료수 종류를 입력받고 가격을 안내합니다.\n",
        "- 금액을 입력받습니다.\n",
        "- 금액이 충분하면 음료수와 거스름돈을 반환하는 메시지를 출력합니다.\n",
        "- 금액이 불충분하면 금액을 반환하는 메시지를 출력합니다.\n"
      ]
    },
    {
      "cell_type": "code",
      "execution_count": null,
      "metadata": {
        "id": "znVvm10NNThU",
        "outputId": "8f8257b4-9105-4d78-d6a7-94376e7a1035"
      },
      "outputs": [
        {
          "name": "stdout",
          "output_type": "stream",
          "text": [
            "{'콜라': 2000, '사이다': 1500, '쿨피스': 1000}\n",
            "음료를 골라주세요 : 콜라\n",
            "2000\n",
            "돈을 넣어주세요 : 50000\n",
            "콜라 48000\n"
          ]
        }
      ],
      "source": [
        "menu = {\"콜라\": 2000, \"사이다\" : 1500, \"쿨피스\" : 1000}\n",
        "print(menu)\n",
        "w_menu = input(\"음료를 골라주세요 : \")\n",
        "print(menu[w_menu])\n",
        "insert = int(input(\"돈을 넣어주세요 : \"))\n",
        "if insert > menu[w_menu] :\n",
        "    print(w_menu, insert-menu[w_menu])\n",
        "else:\n",
        "    print(\"금액이 불충분합니다\")"
      ]
    },
    {
      "cell_type": "markdown",
      "metadata": {
        "id": "CH2QLyAB0u26"
      },
      "source": [
        "\n",
        "**예제 15**\n",
        "\n",
        "두 수를 비교하는 함수를 만듭니다.\n",
        "\n",
        "* 예시\n",
        "```\n",
        ">> comp_ab(1,2)\n",
        "1<2\n",
        "```\n",
        "\n",
        "* 예시\n",
        "```\n",
        ">> comp_ab(2,1)\n",
        "2>1\n",
        "```\n",
        "\n",
        "* 예시\n",
        "```\n",
        ">> comp_ab(1,1)\n",
        "1==1\n",
        "```\n"
      ]
    },
    {
      "cell_type": "code",
      "execution_count": null,
      "metadata": {
        "id": "rqclrJtM059c",
        "outputId": "76ada12b-3455-4fb7-8e83-1eb68ade1607"
      },
      "outputs": [
        {
          "name": "stdout",
          "output_type": "stream",
          "text": [
            "1>2\n",
            "2>1\n",
            "1==1\n"
          ]
        }
      ],
      "source": [
        "def comp_ab(input1, input2):\n",
        "    if input1>input2:\n",
        "        print(f\"{input1}>{input2}\")\n",
        "    elif input1<input2:\n",
        "        print(f\"{input1}>{input2}\")\n",
        "    else:\n",
        "        print(f\"{input1}=={input2}\")\n",
        "        \n",
        "comp_ab(1,2)\n",
        "comp_ab(2,1)\n",
        "comp_ab(1,1)"
      ]
    },
    {
      "cell_type": "markdown",
      "metadata": {
        "id": "5LebGsgu06CO"
      },
      "source": [
        "**예제 16**\n",
        "\n",
        "아래 두개의 조건중 하나라도 만족하는 숫자를 입력하면 \"target\", 그렇지 않으면 \"pass\"를 출력하는 함수를 작성하세요\n",
        "\n",
        "- 3의 배수이면서, 5의 배수가 아닐때\n",
        "- 10의 배수일 때\n",
        "\n",
        "```\n",
        ">> target_num(15)\n",
        "pass\n",
        "```\n",
        "\n",
        "```\n",
        ">> target_num(150)\n",
        "target\n",
        "```"
      ]
    },
    {
      "cell_type": "code",
      "execution_count": null,
      "metadata": {
        "id": "_j4vEmT70_rR",
        "outputId": "897ab51f-1394-4c6f-f83f-f7e7e7e58ab5"
      },
      "outputs": [
        {
          "name": "stdout",
          "output_type": "stream",
          "text": [
            "pass\n",
            "target\n"
          ]
        }
      ],
      "source": [
        "def target_num(input):\n",
        "    if (input%3==0 and input%5 !=0) or input%10 ==0:\n",
        "        print(\"target\")\n",
        "    else:\n",
        "        print(\"pass\")\n",
        "        \n",
        "target_num(15)\n",
        "target_num(150)"
      ]
    },
    {
      "cell_type": "markdown",
      "metadata": {
        "id": "_9ygEJmV0_wy"
      },
      "source": [
        "**예제 17**\n",
        "\n",
        "두개의 정수값을 받아서 몇사분면에 위치해 있는지, 혹은 x축, y축,  원점 위에 있는지 판단하는 함수를 작성하세요\n",
        "\n",
        "* 예시\n",
        "```\n",
        ">> which_plane(1,1)\n",
        "1사분면에 있습니다.\n",
        "```\n",
        "* 예시\n",
        "```\n",
        ">> which_plane(0,0)\n",
        "원점에 있습니다.\n",
        "```"
      ]
    },
    {
      "cell_type": "code",
      "execution_count": null,
      "metadata": {
        "id": "c6YweOOI1HQX",
        "outputId": "dcf53c7c-b6a4-4dd0-eb8e-e7c127c4b8c6"
      },
      "outputs": [
        {
          "name": "stdout",
          "output_type": "stream",
          "text": [
            "x축\n",
            "y축\n",
            "원점\n",
            "1사분면\n",
            "2사분면\n",
            "3사분면\n",
            "4사분면\n"
          ]
        }
      ],
      "source": [
        "def which_plane(input1, input2):\n",
        "    if input1>0 and input2>0 :\n",
        "        print(\"1사분면\")\n",
        "    elif input1>0 and input2<0 :\n",
        "        print(\"2사분면\")\n",
        "    elif input1<0 and input2<0 :\n",
        "        print(\"3사분면\")\n",
        "    elif input1<0 and input2>0 :\n",
        "        print(\"4사분면\")\n",
        "    elif input1 == 0 and input2 == 0:\n",
        "        print(\"원점\")\n",
        "    elif input1 == 0:\n",
        "        print(\"y축\")\n",
        "    else:\n",
        "        print(\"x축\")\n",
        "        \n",
        "which_plane(1,0)\n",
        "which_plane(0,1)\n",
        "which_plane(0,0)\n",
        "which_plane(1,1)\n",
        "which_plane(1,-1)\n",
        "which_plane(-1,-1)\n",
        "which_plane(-1,1)"
      ]
    },
    {
      "cell_type": "markdown",
      "metadata": {
        "id": "urINDRs11IVx"
      },
      "source": [
        "**예제 18**\n",
        "\n",
        "시(H)와 분(M)을 입력하면 1시간 30분뒤 시간을 알려주는 함수를 작성하세요\n",
        "\n",
        "* 예시\n",
        "```\n",
        ">> after_time(7,30)\n",
        "9:00\n",
        "```\n",
        "\n",
        "* 예시\n",
        "```\n",
        ">> after_time(11,50)\n",
        "13:20\n",
        "```\n",
        "\n",
        "* 예시\n",
        "```\n",
        ">> after_time(23,40)\n",
        "01:10\n",
        "```"
      ]
    },
    {
      "cell_type": "code",
      "execution_count": null,
      "metadata": {
        "id": "lhOhiExm1Qlm",
        "outputId": "aef23272-c92e-41c4-c0a6-da2c2892bfe3"
      },
      "outputs": [
        {
          "name": "stdout",
          "output_type": "stream",
          "text": [
            "9:00\n",
            "13:20\n",
            "1:10\n"
          ]
        }
      ],
      "source": [
        "def after_time(h, m):\n",
        "    h+=1\n",
        "    m+=30\n",
        "    if m > 60:\n",
        "        h+=1\n",
        "        m-=60\n",
        "    if h > 24:\n",
        "        h-=24\n",
        "    if m == 60:\n",
        "        h+=1\n",
        "        m=str(m)\n",
        "        m=\"00\"\n",
        "    print(f\"{h}:{m}\")\n",
        "\n",
        "\n",
        "after_time(7,30)\n",
        "after_time(11,50)\n",
        "after_time(23,40)"
      ]
    },
    {
      "cell_type": "markdown",
      "metadata": {
        "id": "J25zSIwn1SCp"
      },
      "source": [
        "**예제 19**\n",
        "\n",
        "0부터 100까지 숫자를 한국어로 변환하는 함수를 작성하세요\n",
        "\n",
        "* 예시\n",
        "```\n",
        ">> num_korean(100)\n",
        "백\n",
        "```\n",
        "\n",
        "* 예시\n",
        "```\n",
        ">> num_korean(84)\n",
        "팔십사\n",
        "```\n"
      ]
    },
    {
      "cell_type": "code",
      "execution_count": null,
      "metadata": {
        "id": "uDhjzIWA1bYP",
        "outputId": "46607311-dd5c-4c59-c6ce-771c4e24638f"
      },
      "outputs": [
        {
          "name": "stdout",
          "output_type": "stream",
          "text": [
            "백\n",
            "팔십사\n",
            "육백팔십일\n",
            "삼백십칠\n"
          ]
        }
      ],
      "source": [
        "def num_korean(input1):\n",
        "    k = [\"영\",\"\",\"이\",\"삼\",\"사\",\"오\",\"육\",\"칠\",\"팔\",\"구\",\"십\"]\n",
        "    h = input1//100\n",
        "    t = (input1%100)//10\n",
        "    o = input1%10\n",
        "    \n",
        "    out = []\n",
        "    if h>0:\n",
        "        out.append(f\"{k[h]}백\")\n",
        "    if t>0:\n",
        "        out.append(f\"{k[t]}십\")\n",
        "    if o>1:\n",
        "        out.append(f\"{k[o]}\")\n",
        "    if o==1:\n",
        "        out.append(\"일\")\n",
        "\n",
        "    print_out = \"\".join(out)\n",
        "\n",
        "    print(print_out)\n",
        "    \n",
        "num_korean(100)\n",
        "num_korean(84)\n",
        "num_korean(681)\n",
        "num_korean(317)"
      ]
    },
    {
      "cell_type": "markdown",
      "metadata": {
        "id": "5r-j6QRK1ca0"
      },
      "source": [
        "**예제 20**\n",
        "\n",
        "두참가자에게 투표를 한 문자열이 주어집니다. 1번과 2번중 더 높은 투표를 받은 사람이 번호를 출력하세요. 만약 투표수가 동일하면 \"draw\"를 출력합니다.\n",
        "\n",
        "* 예시\n",
        "```\n",
        ">> who_win(\"122211\")\n",
        "draw\n",
        "```\n",
        "\n",
        "* 예시\n",
        "```\n",
        ">> who_win(\"211222212\")\n",
        "2\n",
        "```"
      ]
    },
    {
      "cell_type": "code",
      "execution_count": null,
      "metadata": {
        "id": "WqlSJS-SNThV",
        "outputId": "a6bfb578-d5c1-4489-b15e-6120cfee0a42"
      },
      "outputs": [
        {
          "name": "stdout",
          "output_type": "stream",
          "text": [
            "drow\n",
            "2\n",
            "2\n",
            "1\n"
          ]
        }
      ],
      "source": [
        "def who_win(input1):\n",
        "    input1_list=sorted(input1)\n",
        "    count1 = input1_list.count(\"1\")\n",
        "    count2 = input1_list.count(\"2\")\n",
        "    \n",
        "    if count1>count2:\n",
        "        print(1)\n",
        "    elif count1<count2:\n",
        "        print(2)\n",
        "    else:\n",
        "        print(\"drow\")\n",
        "        \n",
        "        \n",
        "who_win(\"122211\") \n",
        "who_win(\"211222212\")\n",
        "who_win(\"121211212222121\")\n",
        "who_win(\"1222111111\")"
      ]
    },
    {
      "cell_type": "code",
      "execution_count": null,
      "metadata": {
        "id": "sN8BMvTVNThW"
      },
      "outputs": [],
      "source": [
        ""
      ]
    }
  ],
  "metadata": {
    "colab": {
      "collapsed_sections": [],
      "name": "4-1. 조건문 _ if문.ipynb",
      "provenance": [],
      "include_colab_link": true
    },
    "kernelspec": {
      "display_name": "Python 3 (ipykernel)",
      "language": "python",
      "name": "python3"
    },
    "language_info": {
      "codemirror_mode": {
        "name": "ipython",
        "version": 3
      },
      "file_extension": ".py",
      "mimetype": "text/x-python",
      "name": "python",
      "nbconvert_exporter": "python",
      "pygments_lexer": "ipython3",
      "version": "3.9.7"
    },
    "toc": {
      "base_numbering": 1,
      "nav_menu": {},
      "number_sections": true,
      "sideBar": true,
      "skip_h1_title": false,
      "title_cell": "Table of Contents",
      "title_sidebar": "Contents",
      "toc_cell": false,
      "toc_position": {},
      "toc_section_display": true,
      "toc_window_display": false
    },
    "varInspector": {
      "cols": {
        "lenName": 16,
        "lenType": 16,
        "lenVar": 40
      },
      "kernels_config": {
        "python": {
          "delete_cmd_postfix": "",
          "delete_cmd_prefix": "del ",
          "library": "var_list.py",
          "varRefreshCmd": "print(var_dic_list())"
        },
        "r": {
          "delete_cmd_postfix": ") ",
          "delete_cmd_prefix": "rm(",
          "library": "var_list.r",
          "varRefreshCmd": "cat(var_dic_list()) "
        }
      },
      "types_to_exclude": [
        "module",
        "function",
        "builtin_function_or_method",
        "instance",
        "_Feature"
      ],
      "window_display": false
    }
  },
  "nbformat": 4,
  "nbformat_minor": 0
}