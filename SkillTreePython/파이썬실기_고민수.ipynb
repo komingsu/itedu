{
 "cells": [
  {
   "cell_type": "markdown",
   "metadata": {
    "id": "XNPDH9APU90f"
   },
   "source": [
    "---\n",
    "## 문제 1. 짝수의 합 (10)\n",
    "---\n",
    "1에서 100까지 짝수의 합을 구하세요.\n"
   ]
  },
  {
   "cell_type": "code",
   "execution_count": 1,
   "metadata": {
    "id": "oBSHQF0SU90g"
   },
   "outputs": [
    {
     "data": {
      "text/plain": [
       "5050"
      ]
     },
     "execution_count": 1,
     "metadata": {},
     "output_type": "execute_result"
    }
   ],
   "source": [
    "sum(list(range(1,101)))"
   ]
  },
  {
   "cell_type": "markdown",
   "metadata": {
    "id": "nNIj_9vkhLUP"
   },
   "source": [
    "---\n",
    "## 문제 2. 리스트의 곱 (10)\n",
    "---\n",
    "아래 리스트안의 요소를 모두 곱한 값을 구하세요.\n",
    "  ```\n",
    "  numbers = [2,5,10,15,25,30,40,50]\n",
    "  ```"
   ]
  },
  {
   "cell_type": "code",
   "execution_count": 6,
   "metadata": {
    "id": "6UG9IpLUhLUP"
   },
   "outputs": [
    {
     "name": "stdout",
     "output_type": "stream",
     "text": [
      "2\n",
      "10\n",
      "100\n",
      "1500\n",
      "37500\n",
      "1125000\n",
      "45000000\n",
      "2250000000\n",
      "----------\n",
      "2250000000\n"
     ]
    }
   ],
   "source": [
    "numbers = [2,5,10,15,25,30,40,50]\n",
    "mul = 1\n",
    "for i in numbers:\n",
    "    mul *= i\n",
    "    print(mul)\n",
    "print(\"----------\")\n",
    "print(mul)"
   ]
  },
  {
   "cell_type": "markdown",
   "metadata": {
    "id": "Nroh7panGD9I"
   },
   "source": [
    "---\n",
    "## 문제3. 점찍기 (10)\n",
    "---\n",
    "\n",
    "아래와 같은 출력을 하는 코드를 for 문을 이용해서 작성하세요\n",
    "```\n",
    " *  **********\n",
    " **  *********\n",
    " ***  ********\n",
    " ****  *******\n",
    " *****  ******\n",
    " ******  *****\n",
    " *******  ****\n",
    " ********  ***\n",
    " *********  **\n",
    " **********  *\n",
    "```"
   ]
  },
  {
   "cell_type": "code",
   "execution_count": 10,
   "metadata": {
    "id": "W0EA0FYm416h"
   },
   "outputs": [
    {
     "name": "stdout",
     "output_type": "stream",
     "text": [
      "*  **********\n",
      "**  *********\n",
      "***  ********\n",
      "****  *******\n",
      "*****  ******\n",
      "******  *****\n",
      "*******  ****\n",
      "********  ***\n",
      "*********  **\n",
      "**********  *\n"
     ]
    }
   ],
   "source": [
    "for i in range(1,11):\n",
    "    print(\"*\"*i, end=\"  \")\n",
    "    print(\"*\"*(11-i))"
   ]
  },
  {
   "cell_type": "markdown",
   "metadata": {
    "id": "1oJdmopgSFqI"
   },
   "source": [
    "---\n",
    "## 문제 4. 30분전 시계 (20)\n",
    "---\n",
    "\n",
    "```\n",
    ">> before_30('11:20')\n",
    "10:50\n",
    ">> before_30('00:10')\n",
    "23:40\n",
    "```"
   ]
  },
  {
   "cell_type": "code",
   "execution_count": 47,
   "metadata": {
    "id": "8HF7ADoTSFPw"
   },
   "outputs": [
    {
     "name": "stdout",
     "output_type": "stream",
     "text": [
      "10:50\n",
      "23:40\n"
     ]
    }
   ],
   "source": [
    "def before_30(input1):\n",
    "    hours = int(input1[0:2])\n",
    "    mins = int(input1[3:5])\n",
    "    \n",
    "    mins -= 30\n",
    "    if mins < 0:\n",
    "        mins+=60\n",
    "        hours-=1\n",
    "    if hours < 0:\n",
    "        hours+=24\n",
    "    if mins ==0:\n",
    "        mins=\"00\"\n",
    "    if hours ==0:\n",
    "        hours=\"00\"\n",
    "        \n",
    "    answer = f\"{hours}:{mins}\"\n",
    "    return answer\n",
    "\n",
    "\n",
    "print(before_30(\"11:20\"))\n",
    "print(before_30(\"00:10\"))"
   ]
  },
  {
   "cell_type": "markdown",
   "metadata": {
    "id": "CprUdctjF26B"
   },
   "source": [
    "---\n",
    "##**문제5** 클래스 생성  (30)\n",
    "---\n",
    "\n",
    "- `seq` 클래스 만들기\n",
    "- 총 6개의 메서드 구현, 한개당 5점\n",
    "\n",
    "```\n",
    ">> a = [1,2,3,4,5]\n",
    ">> a = seq(a)\n",
    ">> print(a) # 1번 -> 출력 합니다.\n",
    "seq([1,2,3,4,5])\n",
    ">> a.size() # 2번 -> 길이를 반환 합니다.\n",
    "5\n",
    ">> a.add(6) # 3번 -> 숫자를 뒤에 추가합니다.\n",
    "[1,2,3,4,5,6]\n",
    ">> a.pop(7) # 4번 -> 숫자를 앞에 추가합니다.\n",
    "[7,1,2,3,4,5]\n",
    ">> a.double() #5번 -> 모든 값을 제곱합니다.\n",
    "[1,3,9,16,25]\n",
    ">> a.tostring() # 6번 -> 모든 값을 문자열에 담아 반환합니다.\n",
    "\"1391625\"\n",
    "```"
   ]
  },
  {
   "cell_type": "code",
   "execution_count": 59,
   "metadata": {
    "id": "DUA_EdTQjE3_"
   },
   "outputs": [],
   "source": [
    "class seq():\n",
    "    \n",
    "    def __init__(self, lst):\n",
    "        self.lst = lst\n",
    "        \n",
    "    def __str__(self):\n",
    "        return f\"seq({self.lst})\"\n",
    "    \n",
    "    def size(self):\n",
    "        return len(self.lst)\n",
    "\n",
    "    def add(self, num):\n",
    "        self.lst.append(num)\n",
    "        return self.lst\n",
    "    \n",
    "    def pop(self, num):\n",
    "        \n",
    "        from collections import deque\n",
    "        q = deque(self.lst)\n",
    "        q.appendleft(num)\n",
    "        self.lst = list(q)\n",
    "        return self.lst\n",
    "    \n",
    "    def double(self):\n",
    "    \n",
    "        for i in range(len(self.lst)):\n",
    "            self.lst[i]=self.lst[i]**2\n",
    "            \n",
    "        return self.lst\n",
    "    \n",
    "    def tostring(self):\n",
    "        \n",
    "        for i in range(len(self.lst)):\n",
    "            self.lst[i]=str(self.lst[i])\n",
    "\n",
    "        return \"\".join(self.lst)"
   ]
  },
  {
   "cell_type": "code",
   "execution_count": 60,
   "metadata": {},
   "outputs": [
    {
     "name": "stdout",
     "output_type": "stream",
     "text": [
      "seq([1, 2, 3, 4, 5])\n",
      "5\n",
      "[1, 2, 3, 4, 5, 6]\n",
      "[7, 1, 2, 3, 4, 5, 6]\n",
      "[49, 1, 4, 9, 16, 25, 36]\n",
      "49149162536\n"
     ]
    }
   ],
   "source": [
    "## 실행 ##\n",
    "a = [1,2,3,4,5]    \n",
    "temp = seq(a)\n",
    "\n",
    "print(temp)\n",
    "print(temp.size())\n",
    "print(temp.add(6))\n",
    "print(temp.pop(7))\n",
    "print(temp.double())\n",
    "print(temp.tostring())"
   ]
  },
  {
   "cell_type": "markdown",
   "metadata": {
    "id": "fWBw0X0lErYI"
   },
   "source": [
    "---\n",
    "##**문제6**  홀짝 게임  (20)\n",
    "---\n",
    "\n",
    "홀짝게임을 만듭니다. 홀짝게임에서는 홀짝을 맞추면 베팅금액이 두배로 증가합니다. 맞춘 후 계속 진행을 할 수도 있고 더이상 진행하지 않고 두배금액을 획득할 수 있습니다. 만약 홀짝을 맞추지 못하면 돈을 잃고 게임이 종료됩니다. \n",
    "\n",
    "\n",
    "* 코드실행 예 1\n",
    "\n",
    "```\n",
    "> 베팅금액을 입급하세요. 최소단위는 1000원 입니다.: 1000\n",
    "> -------------------------------\n",
    "> [*] 주사위 던지는 중 3.. 2.. 1..\n",
    "> -------------------------------\n",
    "> 홀/짝을 선택하세요: 홀\n",
    "> 정답입니다. 현재 금액은 2000원 입니다.\n",
    "> 계속 진행하겠습니까? (예 를 입력하면 계속 진행합니다.): 예\n",
    "> -------------------------------\n",
    "> [*] 주사위 던지는 중 3.. 2.. 1..\n",
    "> -------------------------------\n",
    "> 홀/짝을 선택하세요: 홀\n",
    "> 틀렸습니다. 게임이 종료됩니다.\n",
    "```\n",
    "\n",
    "* 코드실행 예 2\n",
    "\n",
    "```\n",
    "> 베팅금액을 입급하세요. 최소단위는 1000원 입니다. : 1000\n",
    "> -------------------------------\n",
    "> [*] 주사위 던지는 중 3.. 2.. 1..\n",
    "> -------------------------------\n",
    "> 홀/짝을 선택하세요: 홀\n",
    "> 정답입니다. 현재 금액은 2000원 입니다.\n",
    "> 계속 진행하겠습니까? (예 를 입력하면 계속 진행합니다.): 아니오\n",
    "> 2000원을 획득했습니다!\n",
    "```\n",
    "\n",
    "\n",
    "[추가 옵션]\n",
    "\n",
    "\n",
    "\n",
    "1. 아래 주사위 던지는 시간이 실제로 3초가 걸리도록 한다.\n",
    "```\n",
    "> [*] 주사위 던지는 중 \n",
    "3\n",
    "2\n",
    "1\n",
    "```\n",
    "\n",
    "2. 배팅 금액을 1000원 이하로 입력하거나 잘못된(문자열 등) 입력을 하면 \"금액을 재입력 하세요\" 메시지를 보내고 다시 입력을 받도록 한다.\n",
    "\n",
    "3. 홀/짝 선택시 홀/짝 외에 잘못된 입력을 하면 \"홀/짝 중 하나를 입력하세요\" 메시지를 보내고 다시 입력을 받도록 한다.\n"
   ]
  },
  {
   "cell_type": "code",
   "execution_count": 72,
   "metadata": {
    "id": "X-tdml_4FOaI"
   },
   "outputs": [],
   "source": [
    "def oddeven():\n",
    "    \n",
    "    import time\n",
    "    import random\n",
    "    \n",
    "    ## 게임 코인\n",
    "    coin = 0\n",
    "    \n",
    "    ## 배팅금액 받기\n",
    "    while True:\n",
    "        print(\"-----\"*6)\n",
    "        input_money = input(\"배팅금액을 입금하세요. 최소금액은 1000원 입니다. :\")\n",
    "        if input_money.isdigit():\n",
    "            money = eval(input_money)\n",
    "            if money < 1000:\n",
    "                print(\"경고!! 최소금액은 1000원 입니다.\")\n",
    "                print(\"금액을 재입력하세요\")\n",
    "            if money >= 1000:\n",
    "                coin += 1\n",
    "                break\n",
    "        else:\n",
    "            print(\"경고!!  문자열을 입력할수없습니다.\")\n",
    "            print(\"금액을 재입력하세요\")\n",
    "    \n",
    "    ## 주사위 던지기 시각화\n",
    "    print(\"--\"*20)\n",
    "    print(\"[*] 주사위 던지는 중 3..\", end=\" \")\n",
    "    time.sleep(1)\n",
    "    print(\"2..\", end=\" \")\n",
    "    time.sleep(2)\n",
    "    print(\"1..\")\n",
    "    print(\"--\"*20)\n",
    "    \n",
    "   \n",
    "    ## 게임시작!\n",
    "    while coin: \n",
    "        \n",
    "        ## 홀짝 정답 뽑기\n",
    "        temp = random.randint(1,100)%2\n",
    "        if temp == 1:\n",
    "            goal=\"홀\"\n",
    "        if temp == 0:\n",
    "            goal=\"짝\"\n",
    "        \n",
    "        ## 홀짝 정하기\n",
    "        oe_type = input(\"홀/짝을 선택하세요 : \")\n",
    "        oe_type_dic = [\"홀\",\"짝\"]\n",
    "        if oe_type not in oe_type_dic:\n",
    "            print(\"홀/짝 중 하나를 입력하세요\")\n",
    "            continue\n",
    "        \n",
    "        ## 맞을때/ 틀릴때\n",
    "        if oe_type in oe_type_dic:\n",
    "            \n",
    "            ## 맞을때\n",
    "            if oe_type == goal:\n",
    "                money *= 2\n",
    "                print(f\"정답입니다! 현재 금액은 {money}원 입니다.\")\n",
    "                \n",
    "                con_count = 1\n",
    "                while con_count:\n",
    "                    con = input(\"계속 진행하겠습니까? (예/아니오) : \")\n",
    "                    if con == \"예\":\n",
    "                        con_count -=1\n",
    "                    if con == \"아니오\":\n",
    "                        print(f\"{money}원을 획득했습니다, 게임이 종료됩니다.\")\n",
    "                        coin-=1\n",
    "                        \n",
    "            ## 틀릴때\n",
    "            if oe_type != goal:\n",
    "                print(\"틀렸습니다! 게임이 종료됩니다.\")\n",
    "                coin-=1\n",
    "            "
   ]
  },
  {
   "cell_type": "code",
   "execution_count": 73,
   "metadata": {},
   "outputs": [
    {
     "name": "stdout",
     "output_type": "stream",
     "text": [
      "------------------------------\n",
      "배팅금액을 입금하세요. 최소금액은 1000원 입니다. :1500\n",
      "----------------------------------------\n",
      "[*] 주사위 던지는 중 3.. 2.. 1..\n",
      "----------------------------------------\n",
      "홀/짝을 선택하세요 : 잉\n",
      "홀/짝 중 하나를 입력하세요\n",
      "홀/짝을 선택하세요 : 앙\n",
      "홀/짝 중 하나를 입력하세요\n",
      "홀/짝을 선택하세요 : 홀\n",
      "정답입니다! 현재 금액은 3000원 입니다.\n",
      "계속 진행하겠습니까? (예/아니오) : 예\n",
      "홀/짝을 선택하세요 : 짝\n",
      "틀렸습니다! 게임이 종료됩니다.\n"
     ]
    }
   ],
   "source": [
    "oddeven()"
   ]
  },
  {
   "cell_type": "code",
   "execution_count": null,
   "metadata": {},
   "outputs": [],
   "source": []
  }
 ],
 "metadata": {
  "colab": {
   "collapsed_sections": [],
   "name": "실기시험.ipynb",
   "provenance": []
  },
  "kernelspec": {
   "display_name": "Python 3 (ipykernel)",
   "language": "python",
   "name": "python3"
  },
  "language_info": {
   "codemirror_mode": {
    "name": "ipython",
    "version": 3
   },
   "file_extension": ".py",
   "mimetype": "text/x-python",
   "name": "python",
   "nbconvert_exporter": "python",
   "pygments_lexer": "ipython3",
   "version": "3.9.7"
  },
  "toc": {
   "base_numbering": 1,
   "nav_menu": {},
   "number_sections": true,
   "sideBar": true,
   "skip_h1_title": false,
   "title_cell": "Table of Contents",
   "title_sidebar": "Contents",
   "toc_cell": false,
   "toc_position": {},
   "toc_section_display": true,
   "toc_window_display": false
  },
  "varInspector": {
   "cols": {
    "lenName": 16,
    "lenType": 16,
    "lenVar": 40
   },
   "kernels_config": {
    "python": {
     "delete_cmd_postfix": "",
     "delete_cmd_prefix": "del ",
     "library": "var_list.py",
     "varRefreshCmd": "print(var_dic_list())"
    },
    "r": {
     "delete_cmd_postfix": ") ",
     "delete_cmd_prefix": "rm(",
     "library": "var_list.r",
     "varRefreshCmd": "cat(var_dic_list()) "
    }
   },
   "types_to_exclude": [
    "module",
    "function",
    "builtin_function_or_method",
    "instance",
    "_Feature"
   ],
   "window_display": false
  }
 },
 "nbformat": 4,
 "nbformat_minor": 1
}
