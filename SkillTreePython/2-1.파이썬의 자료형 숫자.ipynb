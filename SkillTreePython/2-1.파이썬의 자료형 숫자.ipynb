{
 "cells": [
  {
   "cell_type": "markdown",
   "metadata": {
    "colab_type": "text",
    "id": "view-in-github"
   },
   "source": [
    "<a href=\"https://colab.research.google.com/github/komingsu/SkillTreePython/blob/main/2-1.%ED%8C%8C%EC%9D%B4%EC%8D%AC%EC%9D%98%20%EC%9E%90%EB%A3%8C%ED%98%95%20%EC%88%AB%EC%9E%90.ipynb\" target=\"_parent\"><img src=\"https://colab.research.google.com/assets/colab-badge.svg\" alt=\"Open In Colab\"/></a>"
   ]
  },
  {
   "cell_type": "markdown",
   "metadata": {
    "id": "kB5IciXEm6o4"
   },
   "source": [
    "# 2-1.파이썬의 자료형:숫자\n",
    "---\n",
    "* 날짜: 2022-03-29\n",
    "* 이름: 밍슈"
   ]
  },
  {
   "cell_type": "markdown",
   "metadata": {
    "id": "4iN8NFzHRJ2D"
   },
   "source": [
    "## 개념정리\n",
    "---\n",
    "\n",
    "\n",
    "코드를 작성하면서 우리는 다양한 데이터 자료형을 접하게 됩니다. 그 중 수치 자료형은 개수, 가격, 날짜 등 여러가지 데이터를 효과적으로 처리할 수 있습니다. 수치 자료형에 대해 알아보고 데이터 타입이 수치 자료형일 때 어떤 부가적인 연산들을 수행할 수 있는지 알아보도록 합니다. "
   ]
  },
  {
   "cell_type": "markdown",
   "metadata": {
    "id": "UKlkHH0IRL5h"
   },
   "source": [
    "### (1) 수치자료형의 종류\n",
    "\n",
    "\n",
    "\n"
   ]
  },
  {
   "cell_type": "markdown",
   "metadata": {
    "id": "opbfNksrAq4P"
   },
   "source": [
    "#### **정수 `int`**\n",
    "정수형 자료형은 `int` 로 표시 됩니다. -1,-2, ... 0 , 1, 2 ,...  등 정수값을 나타냅니다. \n",
    "```\n",
    "num = 2\n",
    "print(num, type(num))\n",
    "```\n",
    "\n",
    "\n"
   ]
  },
  {
   "cell_type": "code",
   "execution_count": 1,
   "metadata": {
    "colab": {
     "base_uri": "https://localhost:8080/"
    },
    "id": "0LEqDvQhtLwP",
    "outputId": "0c94a55f-ea3d-41dc-8fcb-53f01570674d"
   },
   "outputs": [
    {
     "data": {
      "text/plain": [
       "(2, int)"
      ]
     },
     "execution_count": 1,
     "metadata": {},
     "output_type": "execute_result"
    }
   ],
   "source": [
    "num =2\n",
    "num, type(num)"
   ]
  },
  {
   "cell_type": "markdown",
   "metadata": {
    "id": "DbjTishvtQNU"
   },
   "source": [
    "#### **실수 `float`**\n",
    "실수값은 `float`으로 표히 됩니다. 3.0, 3.1 , ... 등 실수값을 나타냅니다. \n",
    "```\n",
    "num = -0.2\n",
    "print(num, type(num))\n",
    "```"
   ]
  },
  {
   "cell_type": "code",
   "execution_count": 2,
   "metadata": {
    "colab": {
     "base_uri": "https://localhost:8080/"
    },
    "id": "b2HTH0H1tS68",
    "outputId": "d2feaa00-52c5-4351-c338-cf928d45353d"
   },
   "outputs": [
    {
     "data": {
      "text/plain": [
       "(-0.2, float)"
      ]
     },
     "execution_count": 2,
     "metadata": {},
     "output_type": "execute_result"
    }
   ],
   "source": [
    "num = -0.2\n",
    "num, type(num)"
   ]
  },
  {
   "cell_type": "markdown",
   "metadata": {
    "id": "X2i8usALtUJL"
   },
   "source": [
    "#### **복소수 `complex`**\n",
    "복소수는 제곱했을 때 음수가 되는 수입니다. 아래와 같이 정의할 수 있습니다.\n",
    "```\n",
    "num = 1+4j\n",
    "print(num, type(num))\n",
    "```"
   ]
  },
  {
   "cell_type": "code",
   "execution_count": 4,
   "metadata": {
    "colab": {
     "base_uri": "https://localhost:8080/"
    },
    "id": "I37szg1RtXXE",
    "outputId": "b4fee7bc-c734-474e-e991-0d6954777d64"
   },
   "outputs": [
    {
     "data": {
      "text/plain": [
       "((1+4j), complex)"
      ]
     },
     "execution_count": 4,
     "metadata": {},
     "output_type": "execute_result"
    }
   ],
   "source": [
    "num = 1+4j\n",
    "num, type(num)"
   ]
  },
  {
   "cell_type": "markdown",
   "metadata": {
    "id": "7zHbFccVtaFY"
   },
   "source": [
    "복소수 자료형 경우  파이썬 내장 함수를 통해 실수값, 허수값, 컬례 복소수 등을 알 수 있습니다.\n",
    "\n",
    "* `.real` : 복소수의 실수값을 확인합니다.\n",
    "\n",
    "```\n",
    "print(num.real)\n",
    "```\n"
   ]
  },
  {
   "cell_type": "code",
   "execution_count": 7,
   "metadata": {
    "colab": {
     "base_uri": "https://localhost:8080/"
    },
    "id": "iLhCsBONdsam",
    "outputId": "5dc42a41-dff9-4268-88a9-8690500d6e83"
   },
   "outputs": [
    {
     "data": {
      "text/plain": [
       "1.0"
      ]
     },
     "execution_count": 7,
     "metadata": {},
     "output_type": "execute_result"
    }
   ],
   "source": [
    "num.real"
   ]
  },
  {
   "cell_type": "markdown",
   "metadata": {
    "id": "RR0Kdb6Ydsmt"
   },
   "source": [
    "\n",
    "* `.image`: 복소수의 허수값을 확인합니다.\n",
    "\n",
    "```\n",
    "print(num.imag) # 허수값\n",
    "```\n"
   ]
  },
  {
   "cell_type": "code",
   "execution_count": 10,
   "metadata": {
    "colab": {
     "base_uri": "https://localhost:8080/"
    },
    "id": "tD46aK3Ndtkr",
    "outputId": "89a20844-dda2-41ab-ba25-141f59971266"
   },
   "outputs": [
    {
     "data": {
      "text/plain": [
       "4.0"
      ]
     },
     "execution_count": 10,
     "metadata": {},
     "output_type": "execute_result"
    }
   ],
   "source": [
    "num.imag"
   ]
  },
  {
   "cell_type": "markdown",
   "metadata": {
    "id": "0dLg3PeDdt-f"
   },
   "source": [
    "\n",
    "* `.conjugate()`: 복소수의 컬례복소수를 확인합니다.\n",
    "\n",
    "```\n",
    "print(num.conjugate()) # 컬례복소수\n",
    "```"
   ]
  },
  {
   "cell_type": "code",
   "execution_count": 11,
   "metadata": {
    "colab": {
     "base_uri": "https://localhost:8080/"
    },
    "id": "KTZ6dBVEta78",
    "outputId": "5d4821f2-cf96-41a3-d37a-e3d38f453a0f"
   },
   "outputs": [
    {
     "name": "stdout",
     "output_type": "stream",
     "text": [
      "(1-4j)\n"
     ]
    }
   ],
   "source": [
    "print(num.conjugate())"
   ]
  },
  {
   "cell_type": "markdown",
   "metadata": {
    "id": "tTuhebzSy8w8"
   },
   "source": [
    "### (2) 수치자료형의 타입 변환\n",
    "\n",
    "수치자료형의 타입을 변환 할 수 있습니다. 아래와 같이 `a`를 값 1인 정수값으로 정의합시다.\n",
    "\n",
    "```\n",
    "a=1\n",
    "a, type(a)\n",
    "```"
   ]
  },
  {
   "cell_type": "code",
   "execution_count": 12,
   "metadata": {
    "colab": {
     "base_uri": "https://localhost:8080/"
    },
    "id": "mR3gG9It2SD3",
    "outputId": "328c521c-ad16-4a00-b955-36e3d3fee8f0"
   },
   "outputs": [
    {
     "data": {
      "text/plain": [
       "(1, int)"
      ]
     },
     "execution_count": 12,
     "metadata": {},
     "output_type": "execute_result"
    }
   ],
   "source": [
    "a=1\n",
    "a, type(a)"
   ]
  },
  {
   "cell_type": "markdown",
   "metadata": {
    "id": "kfSac_Bj_ttS"
   },
   "source": [
    "현재 `int` 타입인 값을 `float`으로 변환해보도록 합시다.\n",
    "\n",
    "```\n",
    "a = float(a)\n",
    "print(a, type(a))\n",
    "```"
   ]
  },
  {
   "cell_type": "code",
   "execution_count": 14,
   "metadata": {
    "colab": {
     "base_uri": "https://localhost:8080/"
    },
    "id": "RScoLai_4UA9",
    "outputId": "a817bd14-c4c9-40e4-d2c4-a3eae01013a0"
   },
   "outputs": [
    {
     "data": {
      "text/plain": [
       "(1.0, float)"
      ]
     },
     "execution_count": 14,
     "metadata": {},
     "output_type": "execute_result"
    }
   ],
   "source": [
    "a = float(a)\n",
    "a, type(a)"
   ]
  },
  {
   "cell_type": "markdown",
   "metadata": {
    "id": "yCd_3r26_3ik"
   },
   "source": [
    "다시 `int` 로 변환 해봅시다.\n",
    "\n",
    "```\n",
    "a = int(a)\n",
    "print(a, type(a))\n",
    "```"
   ]
  },
  {
   "cell_type": "code",
   "execution_count": 18,
   "metadata": {
    "colab": {
     "base_uri": "https://localhost:8080/"
    },
    "id": "HIuhv_bv_3in",
    "outputId": "22623449-63a4-4d9c-c65c-ece76b9ad6e1"
   },
   "outputs": [
    {
     "name": "stdout",
     "output_type": "stream",
     "text": [
      "1 <class 'int'>\n"
     ]
    }
   ],
   "source": [
    "a = int(a)\n",
    "print(a, type(a))"
   ]
  },
  {
   "cell_type": "markdown",
   "metadata": {
    "id": "eY5X8k7nCDpL"
   },
   "source": [
    "참고로 문자형과도 변환이 가능합니다.\n",
    "\n",
    "```\n",
    "a = str(a)\n",
    "print(a, type(a))\n",
    "```"
   ]
  },
  {
   "cell_type": "code",
   "execution_count": 19,
   "metadata": {
    "colab": {
     "base_uri": "https://localhost:8080/"
    },
    "id": "AZVJlIsGi2p5",
    "outputId": "83f7bce7-bdd1-49b8-e859-2a30027d09fa"
   },
   "outputs": [
    {
     "name": "stdout",
     "output_type": "stream",
     "text": [
      "1 <class 'str'>\n"
     ]
    }
   ],
   "source": [
    "a = str(a)\n",
    "print(a, type(a))"
   ]
  },
  {
   "cell_type": "code",
   "execution_count": null,
   "metadata": {
    "id": "0AhlUfUvCDpL"
   },
   "outputs": [],
   "source": []
  },
  {
   "cell_type": "markdown",
   "metadata": {
    "id": "PtSek8BAtiOx"
   },
   "source": [
    "### (3) 산술연산자\n",
    "\n",
    "수치 자료형은 각종 산술연산이 가능합니다. 우리가 일반적으로 쓰는 덧셈, 뺄셈, 곱셉, 나눈셈을 수행해 보겠습니다. 아래 코드를 따라 쓰고 무엇이 나오는지 예측해 봅니다"
   ]
  },
  {
   "cell_type": "markdown",
   "metadata": {
    "id": "EbG9oc_5tmB8"
   },
   "source": [
    "*  `+` 더하기\n",
    "\n",
    "```\n",
    "2+2\n",
    "```"
   ]
  },
  {
   "cell_type": "code",
   "execution_count": 20,
   "metadata": {
    "colab": {
     "base_uri": "https://localhost:8080/"
    },
    "id": "o8tsqP0XtmVT",
    "outputId": "e3aed050-5d63-4cfa-a306-fb3c2e8da86c"
   },
   "outputs": [
    {
     "data": {
      "text/plain": [
       "4"
      ]
     },
     "execution_count": 20,
     "metadata": {},
     "output_type": "execute_result"
    }
   ],
   "source": [
    "2+2"
   ]
  },
  {
   "cell_type": "markdown",
   "metadata": {
    "id": "73VOGRGqtpHM"
   },
   "source": [
    "*   `-` 빼기\n",
    "\n",
    "```\n",
    "2-2\n",
    "```\n"
   ]
  },
  {
   "cell_type": "code",
   "execution_count": 21,
   "metadata": {
    "colab": {
     "base_uri": "https://localhost:8080/"
    },
    "id": "5pVh9h6rtyNN",
    "outputId": "ebcf6ffe-2c75-4e21-ee95-116706ff413b"
   },
   "outputs": [
    {
     "data": {
      "text/plain": [
       "0"
      ]
     },
     "execution_count": 21,
     "metadata": {},
     "output_type": "execute_result"
    }
   ],
   "source": [
    "2-2"
   ]
  },
  {
   "cell_type": "markdown",
   "metadata": {
    "id": "WfjAvOO_t1Sn"
   },
   "source": [
    "*  `*` 곱하기\n",
    "  \n",
    "```\n",
    "2*2\n",
    "```"
   ]
  },
  {
   "cell_type": "code",
   "execution_count": 22,
   "metadata": {
    "colab": {
     "base_uri": "https://localhost:8080/"
    },
    "id": "rKG3lqZJt6aD",
    "outputId": "86b6ff5c-f3ce-43b7-fdd6-39dbb46b37c5"
   },
   "outputs": [
    {
     "data": {
      "text/plain": [
       "4"
      ]
     },
     "execution_count": 22,
     "metadata": {},
     "output_type": "execute_result"
    }
   ],
   "source": [
    "2*2"
   ]
  },
  {
   "cell_type": "markdown",
   "metadata": {
    "id": "htPsV_JAt2hb"
   },
   "source": [
    "*  `**` 제곱\n",
    "\n",
    "```\n",
    "2**2\n",
    "```\n"
   ]
  },
  {
   "cell_type": "code",
   "execution_count": 23,
   "metadata": {
    "colab": {
     "base_uri": "https://localhost:8080/"
    },
    "id": "4kbSrnvNt6zp",
    "outputId": "25c43c98-56f1-4691-f94b-50a87a292afe"
   },
   "outputs": [
    {
     "data": {
      "text/plain": [
       "4"
      ]
     },
     "execution_count": 23,
     "metadata": {},
     "output_type": "execute_result"
    }
   ],
   "source": [
    "2**2"
   ]
  },
  {
   "cell_type": "markdown",
   "metadata": {
    "id": "rqGwmZiut3aV"
   },
   "source": [
    "\n",
    "*  `/` 나누기\n",
    "\n",
    "```\n",
    "2/2\n",
    "```"
   ]
  },
  {
   "cell_type": "code",
   "execution_count": 24,
   "metadata": {
    "colab": {
     "base_uri": "https://localhost:8080/"
    },
    "id": "6ontYOp7t7Mb",
    "outputId": "1944a790-4a7a-434a-ab13-945ef6742ed1"
   },
   "outputs": [
    {
     "data": {
      "text/plain": [
       "1.0"
      ]
     },
     "execution_count": 24,
     "metadata": {},
     "output_type": "execute_result"
    }
   ],
   "source": [
    "2/2"
   ]
  },
  {
   "cell_type": "markdown",
   "metadata": {
    "id": "cGP6uK5mt4dm"
   },
   "source": [
    "*  `//` 몫\n",
    "\n",
    "```\n",
    "2//2\n",
    "```"
   ]
  },
  {
   "cell_type": "code",
   "execution_count": 25,
   "metadata": {
    "colab": {
     "base_uri": "https://localhost:8080/"
    },
    "id": "7LiMjLh5t7pD",
    "outputId": "5cbc8162-5c56-4e97-db74-575178b531db"
   },
   "outputs": [
    {
     "data": {
      "text/plain": [
       "1"
      ]
     },
     "execution_count": 25,
     "metadata": {},
     "output_type": "execute_result"
    }
   ],
   "source": [
    "2//2"
   ]
  },
  {
   "cell_type": "markdown",
   "metadata": {
    "id": "SRudXVcNt5GW"
   },
   "source": [
    "* `%` 나머지\n",
    "\n",
    "```\n",
    "2%2\n",
    "```\n"
   ]
  },
  {
   "cell_type": "code",
   "execution_count": null,
   "metadata": {
    "id": "f6CZv0bFt79-"
   },
   "outputs": [],
   "source": [
    "2%2a\n"
   ]
  },
  {
   "cell_type": "markdown",
   "metadata": {
    "id": "URp5HnPyAUf-"
   },
   "source": [
    "### **(4) 할당 연산자**\n",
    "\n",
    "할당연산자는 값을 변수에 바로 할당하는 연산자 입니다. 할당이란 것은 바인딩과 동일한 의미입니다. 따라서 `=` 이 기호는 할당연산자 라고 할 수 있습니다. 그러나 `=` 말고도 할당연산자는 몇개 더 있습니다. \n",
    "\n",
    "| 기호 | 뜻 |\n",
    "|--|--|\n",
    "|`+=`| 더한 후 대입 |\n",
    "|`-=`| 뺀 후  대입 |\n",
    "|`*=`| 곱한 후 대입 |\n",
    "|`**=`| 제곱 후 대입 |\n",
    "|`/=`| 나눈 후 대입 |\n",
    "|`//=`| 나눈 후 몫을 대입 |\n",
    "|`%=`| 나눈 후 나머지 대입 |\n"
   ]
  },
  {
   "cell_type": "markdown",
   "metadata": {
    "id": "evZqLrJBAX8z"
   },
   "source": [
    "#### **더한 후 대입하기**\n",
    "\n",
    "\n",
    "* `+=`\n",
    "\n",
    "```\n",
    "a = 5\n",
    "b = 2\n",
    "a += b # 할당연산자 사용  `a = a+b` 과 동일\n",
    "print(a)\n",
    "```\n"
   ]
  },
  {
   "cell_type": "code",
   "execution_count": 26,
   "metadata": {
    "colab": {
     "base_uri": "https://localhost:8080/"
    },
    "id": "66psqHA-Aduu",
    "outputId": "d5a679e2-6676-4ab8-fd38-4140905ad177"
   },
   "outputs": [
    {
     "data": {
      "text/plain": [
       "7"
      ]
     },
     "execution_count": 26,
     "metadata": {},
     "output_type": "execute_result"
    }
   ],
   "source": [
    "a=5\n",
    "b=2\n",
    "a+=b\n",
    "a"
   ]
  },
  {
   "cell_type": "markdown",
   "metadata": {
    "id": "mX3PEz11Afq_"
   },
   "source": [
    "#### **뺀 후 대입하기**\n",
    "\n",
    "* `-=`\n",
    "\n",
    "```\n",
    "a = 5\n",
    "b = 2\n",
    "a -= b # 할당연산자 사용  `a = a-b` 과 동일\n",
    "print(a)\n",
    "```"
   ]
  },
  {
   "cell_type": "code",
   "execution_count": 27,
   "metadata": {
    "colab": {
     "base_uri": "https://localhost:8080/"
    },
    "id": "ci81R_eyjKrB",
    "outputId": "01008e26-bb66-4624-f52b-54b8d6b1a9bb"
   },
   "outputs": [
    {
     "data": {
      "text/plain": [
       "3"
      ]
     },
     "execution_count": 27,
     "metadata": {},
     "output_type": "execute_result"
    }
   ],
   "source": [
    "a=5\n",
    "b=2\n",
    "a-=b\n",
    "a"
   ]
  },
  {
   "cell_type": "code",
   "execution_count": null,
   "metadata": {
    "id": "OGWSGrzNAfb6"
   },
   "outputs": [],
   "source": []
  },
  {
   "cell_type": "markdown",
   "metadata": {
    "id": "SNkIoHeHDIUM"
   },
   "source": [
    "#### **곱한 후 대입하기**\n",
    "\n",
    "* `*=`\n",
    "\n",
    "```\n",
    "a = 5\n",
    "b = 2\n",
    "a *= b # 할당연산자 사용  `a = a*b` 과 동일\n",
    "print(a)\n",
    "```"
   ]
  },
  {
   "cell_type": "code",
   "execution_count": null,
   "metadata": {
    "id": "az6FzkQuDKym"
   },
   "outputs": [],
   "source": []
  },
  {
   "cell_type": "markdown",
   "metadata": {
    "id": "Evcg80s5DPC4"
   },
   "source": [
    "#### **제곱 후 대입하기**\n",
    "\n",
    "* `**=`\n",
    "\n",
    "```\n",
    "a = 5\n",
    "b = 2\n",
    "a **= b # 할당연산자 사용  `a = a**b` 과 동일\n",
    "print(a)\n",
    "```"
   ]
  },
  {
   "cell_type": "code",
   "execution_count": 28,
   "metadata": {
    "colab": {
     "base_uri": "https://localhost:8080/"
    },
    "id": "hpE25qg0DPyP",
    "outputId": "4b3e614a-b85c-4017-a63d-488857104f79"
   },
   "outputs": [
    {
     "data": {
      "text/plain": [
       "25"
      ]
     },
     "execution_count": 28,
     "metadata": {},
     "output_type": "execute_result"
    }
   ],
   "source": [
    "a=5\n",
    "b=2\n",
    "a**=b\n",
    "a"
   ]
  },
  {
   "cell_type": "markdown",
   "metadata": {
    "id": "20DMtEcLDTMm"
   },
   "source": [
    "#### **나눈 후 대입하기**\n",
    "\n",
    "* `/=`\n",
    "\n",
    "```\n",
    "a = 5\n",
    "b = 2\n",
    "a /= b # 할당연산자 사용  `a = a/b` 과 동일\n",
    "print(a)\n",
    "```"
   ]
  },
  {
   "cell_type": "code",
   "execution_count": 29,
   "metadata": {
    "colab": {
     "base_uri": "https://localhost:8080/"
    },
    "id": "RyR5M61DDVPv",
    "outputId": "1620f255-f31e-4894-dbcb-786848a6cdd3"
   },
   "outputs": [
    {
     "data": {
      "text/plain": [
       "2.5"
      ]
     },
     "execution_count": 29,
     "metadata": {},
     "output_type": "execute_result"
    }
   ],
   "source": [
    "a=5\n",
    "b=2\n",
    "a/=b\n",
    "a"
   ]
  },
  {
   "cell_type": "markdown",
   "metadata": {
    "id": "hbXeSlqoD8o3"
   },
   "source": [
    "#### **나눈 후 몫을 대입하기**\n",
    "\n",
    "* `//=`\n",
    "\n",
    "```\n",
    "a = 5\n",
    "b = 2\n",
    "a //= b # 할당연산자 사용  `a = a//b` 과 동일\n",
    "print(a)\n",
    "```"
   ]
  },
  {
   "cell_type": "code",
   "execution_count": 30,
   "metadata": {
    "colab": {
     "base_uri": "https://localhost:8080/"
    },
    "id": "umWFbBJBEBBt",
    "outputId": "1db3637c-c52b-4f14-f2a7-00c89518af8c"
   },
   "outputs": [
    {
     "name": "stdout",
     "output_type": "stream",
     "text": [
      "2\n"
     ]
    }
   ],
   "source": [
    "a=5\n",
    "b=2\n",
    "a//=b\n",
    "print(a)"
   ]
  },
  {
   "cell_type": "markdown",
   "metadata": {
    "id": "27IOeqppEBRj"
   },
   "source": [
    "### 나눈 후 나머지를 대입하기\n",
    "\n",
    "* `%=`\n",
    "\n",
    "```\n",
    "a = 5\n",
    "b = 2\n",
    "a %= b # 할당연산자 사용  `a = a%b` 과 동일\n",
    "print(a)\n",
    "```"
   ]
  },
  {
   "cell_type": "code",
   "execution_count": 31,
   "metadata": {
    "colab": {
     "base_uri": "https://localhost:8080/"
    },
    "id": "bShKWVX-EDNf",
    "outputId": "90f930fb-c9e7-4cca-b015-7defc106c8ff"
   },
   "outputs": [
    {
     "name": "stdout",
     "output_type": "stream",
     "text": [
      "1\n"
     ]
    }
   ],
   "source": [
    "a=5\n",
    "b=2\n",
    "a%=b\n",
    "print(a)"
   ]
  },
  {
   "cell_type": "markdown",
   "metadata": {
    "id": "HgrXNsFnwp_m"
   },
   "source": [
    "## 문제풀이\n",
    "---\n",
    "\n",
    "**예제 01**\n",
    "\n",
    "아래 코드의 실행 결과를 예상하고 출력해보세요\n",
    "\n",
    "```\n",
    "2+5-3*5\n",
    "```\n"
   ]
  },
  {
   "cell_type": "code",
   "execution_count": 32,
   "metadata": {
    "colab": {
     "base_uri": "https://localhost:8080/"
    },
    "id": "U8ehercCwsP8",
    "outputId": "2b73f8b8-833f-4753-e0ad-94cd097848be"
   },
   "outputs": [
    {
     "data": {
      "text/plain": [
       "-8"
      ]
     },
     "execution_count": 32,
     "metadata": {},
     "output_type": "execute_result"
    }
   ],
   "source": [
    "2+5-3*5"
   ]
  },
  {
   "cell_type": "markdown",
   "metadata": {
    "id": "Bd7MAhfZwuYL"
   },
   "source": [
    "**예제 02**\n",
    "\n",
    "아래 코드의 실행 결과를 예상하고 출력해보세요\n",
    "```\n",
    "print(10/2)\n",
    "print(10%2)\n",
    "print(11%2)\n",
    "print(12%2)\n",
    "print(13%2)\n",
    "print(14%2)\n",
    "```"
   ]
  },
  {
   "cell_type": "code",
   "execution_count": 33,
   "metadata": {
    "colab": {
     "base_uri": "https://localhost:8080/"
    },
    "id": "04JSAGa2wvXN",
    "outputId": "bc1c4a6c-3870-4528-95a6-eaaabb2d831c"
   },
   "outputs": [
    {
     "name": "stdout",
     "output_type": "stream",
     "text": [
      "5.0\n",
      "0\n",
      "1\n",
      "0\n",
      "1\n",
      "0\n"
     ]
    }
   ],
   "source": [
    "print(10/2)\n",
    "print(10%2)\n",
    "print(11%2)\n",
    "print(12%2)\n",
    "print(13%2)\n",
    "print(14%2)"
   ]
  },
  {
   "cell_type": "markdown",
   "metadata": {
    "id": "ndVmQUdcwwbH"
   },
   "source": [
    "**예제 03**\n",
    "\n",
    "`예제 02` 를 기반으로 `int` 값중 짝수와 홀수를 판별하는 방법을 제안하세요\n"
   ]
  },
  {
   "cell_type": "markdown",
   "metadata": {
    "id": "3XkVcAFqkdkN"
   },
   "source": [
    "2로 나눈 나머지가 0이면 짝수, 1이면 홀수"
   ]
  },
  {
   "cell_type": "markdown",
   "metadata": {
    "id": "BiJgJpfvwwdj"
   },
   "source": [
    "**예제 04**\n",
    "\n",
    "정수기가 월 30,000원에 무이자할부 5년 조건으로 판매되고 있습니다. 총 금액을 계산한 후 이를 화면에 출력해보세요. (변수사용하기)"
   ]
  },
  {
   "cell_type": "code",
   "execution_count": 36,
   "metadata": {
    "colab": {
     "base_uri": "https://localhost:8080/"
    },
    "id": "e_RllwoewzQs",
    "outputId": "ccde29cc-d468-4071-ad21-7585437dd254"
   },
   "outputs": [
    {
     "data": {
      "text/plain": [
       "1800000"
      ]
     },
     "execution_count": 36,
     "metadata": {},
     "output_type": "execute_result"
    }
   ],
   "source": [
    "month = 30000\n",
    "year = 5\n",
    "\n",
    "price = month*year*12\n",
    "price"
   ]
  },
  {
   "cell_type": "markdown",
   "metadata": {
    "id": "wP9-y-apw030"
   },
   "source": [
    "**예제 05** \n",
    "\n",
    "변수가 아래와 같이 선언되어 있습니다. 각 변수들끼리 서로 더한 결과를 정리하세요\n",
    "\n",
    "```\n",
    "a = 5 \n",
    "b = 3.14 \n",
    "c = 3 + 4j\n",
    "```"
   ]
  },
  {
   "cell_type": "code",
   "execution_count": 37,
   "metadata": {
    "colab": {
     "base_uri": "https://localhost:8080/"
    },
    "id": "CQRbhmUMyq69",
    "outputId": "29d14dda-7c69-4ae2-e705-73819829d026"
   },
   "outputs": [
    {
     "name": "stdout",
     "output_type": "stream",
     "text": [
      "8.14 (8+4j) (6.140000000000001+4j)\n"
     ]
    }
   ],
   "source": [
    "a = 5 \n",
    "b = 3.14 \n",
    "c = 3 + 4j\n",
    "\n",
    "print(a+b, a+c, b+c)"
   ]
  },
  {
   "cell_type": "markdown",
   "metadata": {
    "id": "AqR7zhPaw145"
   },
   "source": [
    "**예제 06**\n",
    "\n",
    "아래 결과를 예측하세요\n",
    "\n",
    "\n",
    "```\n",
    "a= 1\n",
    "a= a+1\n",
    "a= a**3\n",
    "print(a)\n",
    "```"
   ]
  },
  {
   "cell_type": "code",
   "execution_count": 38,
   "metadata": {
    "colab": {
     "base_uri": "https://localhost:8080/"
    },
    "id": "kIXwdd_nyrkR",
    "outputId": "b9f9b1a6-61d1-41a8-f157-aca955053a1c"
   },
   "outputs": [
    {
     "data": {
      "text/plain": [
       "8"
      ]
     },
     "execution_count": 38,
     "metadata": {},
     "output_type": "execute_result"
    }
   ],
   "source": [
    "a= 1\n",
    "a= a+1\n",
    "a= a**3\n",
    "a"
   ]
  },
  {
   "cell_type": "markdown",
   "metadata": {
    "id": "ey2pYPv4yYBp"
   },
   "source": [
    "**예제 07**\n",
    "\n",
    "아래 결과를 예측하세요\n",
    "\n",
    "\n",
    "```\n",
    "a= 1+3j\n",
    "b= a.real\n",
    "print(b%2)\n",
    "```\n"
   ]
  },
  {
   "cell_type": "code",
   "execution_count": 39,
   "metadata": {
    "colab": {
     "base_uri": "https://localhost:8080/"
    },
    "id": "yanJRKU-yr8r",
    "outputId": "40a31858-88a2-4d72-ef78-cb45b1d57946"
   },
   "outputs": [
    {
     "data": {
      "text/plain": [
       "1.0"
      ]
     },
     "execution_count": 39,
     "metadata": {},
     "output_type": "execute_result"
    }
   ],
   "source": [
    "a= 1+3j\n",
    "b= a.real\n",
    "b%2"
   ]
  },
  {
   "cell_type": "markdown",
   "metadata": {
    "id": "wyBij9C6yZDw"
   },
   "source": [
    "**예제 08**\n",
    "\n",
    "아래와 같이 주가와 주식개수를 인풋으로 받아 평가금액을 출력하는 코드를 작성하세요\n",
    "\n",
    "```\n",
    ">> 주가: 10000\n",
    ">> 주식개수: 3\n",
    "평가금액은 30000원 입니다.\n",
    "```"
   ]
  },
  {
   "cell_type": "code",
   "execution_count": 40,
   "metadata": {
    "colab": {
     "base_uri": "https://localhost:8080/"
    },
    "id": "M60QJ7V5ysav",
    "outputId": "1c07f9f0-2d30-4191-c54b-2e0cf2c87aaa"
   },
   "outputs": [
    {
     "name": "stdout",
     "output_type": "stream",
     "text": [
      "주가: 100\n",
      "주식갯수: 1000\n",
      "평가금액은 100000원 입니다.\n"
     ]
    }
   ],
   "source": [
    "price = int(input(\"주가: \"))\n",
    "count = int(input(\"주식갯수: \"))\n",
    "\n",
    "print(f\"평가금액은 {price*count}원 입니다.\")"
   ]
  },
  {
   "cell_type": "markdown",
   "metadata": {
    "id": "HTFQuWVeyaS4"
   },
   "source": [
    "**예제 09**\n",
    "\n",
    "아래와 같이 복소수(complex)를 입력하면 실수값과 허수값, 실수값과 허수값을 알려주는 코드를 작성하세요.\n",
    "\n",
    "```\n",
    ">> 복소수를 입력하세요: 1+5j\n",
    "실수값은 1, 허수값은 5입니다. \n",
    "```"
   ]
  },
  {
   "cell_type": "code",
   "execution_count": 41,
   "metadata": {
    "colab": {
     "base_uri": "https://localhost:8080/"
    },
    "id": "2vGeOjbwys2C",
    "outputId": "b206a1c0-8435-4a0f-f19a-4c82d2eaaa67"
   },
   "outputs": [
    {
     "name": "stdout",
     "output_type": "stream",
     "text": [
      "복소수를 입력하세요: -10+42j\n",
      "실수값은 -10.0, 허수값은 42.0입니다.\n"
     ]
    }
   ],
   "source": [
    "com1 = complex(input(\"복소수를 입력하세요: \"))\n",
    "\n",
    "print(f\"실수값은 {com1.real}, 허수값은 {com1.imag}입니다.\")"
   ]
  },
  {
   "cell_type": "markdown",
   "metadata": {
    "id": "qrPmvCY7ybVA"
   },
   "source": [
    "**예제 10**\n",
    "\n",
    "아래와 같이 정수(int)를 입력하면 제곱값과 세제곱값을 출력하는 코드를 작성하세요.\n",
    "\n",
    "```\n",
    ">> 숫자를 입력하세요: 5\n",
    "5의 제곱은 25이고 세제곱은 125 입니다.\n",
    "```\n"
   ]
  },
  {
   "cell_type": "code",
   "execution_count": 42,
   "metadata": {
    "colab": {
     "base_uri": "https://localhost:8080/"
    },
    "id": "PigOmcgwyyhj",
    "outputId": "282deb0c-f53e-4e92-fd73-a255690b0b6a"
   },
   "outputs": [
    {
     "name": "stdout",
     "output_type": "stream",
     "text": [
      "숫자를 입력하세용: 5\n",
      "5의 제곱은 25이고 세제곱은 125 입니다.\n"
     ]
    }
   ],
   "source": [
    "num1 = int(input(\"숫자를 입력하세용: \"))\n",
    "print(f\"{num1}의 제곱은 {num1**2}이고 세제곱은 {num1**3} 입니다.\")"
   ]
  },
  {
   "cell_type": "markdown",
   "metadata": {
    "id": "r-6cOE9Uyce4"
   },
   "source": [
    "**예제 11**\n",
    "\n",
    "실수값(float)을 입력하면 실수값에 5를 더한 값을 출력하는 코드를 작성하세요\n",
    "\n",
    "```\n",
    ">> 실수값을 입력하세요: 5.11\n",
    "5를 더한 값은 10.11 입니다.\n",
    "```\n"
   ]
  },
  {
   "cell_type": "code",
   "execution_count": 44,
   "metadata": {
    "colab": {
     "base_uri": "https://localhost:8080/"
    },
    "id": "wkoF8LTzy0g2",
    "outputId": "7082b198-ac8a-41bb-fc0c-1c8f15bf4f17"
   },
   "outputs": [
    {
     "name": "stdout",
     "output_type": "stream",
     "text": [
      "실수값을 입력하쎄용: 1.11\n",
      "5를 더한 값은 6.11 입니다\n"
     ]
    }
   ],
   "source": [
    "float1 = float(input(\"실수값을 입력하쎄용: \"))\n",
    "print(f\"5를 더한 값은 {5+float1} 입니다\")"
   ]
  },
  {
   "cell_type": "markdown",
   "metadata": {
    "id": "PrS_rt0xydlV"
   },
   "source": [
    "\n",
    "**예제 12**\n",
    "\n",
    "첫번째 숫자와 두번째 숫자를 입력하면 첫번째 숫자를 두번째 숫자로 나눈 몫과 나머지를 구하는 코드를 작성하세요\n",
    "\n",
    "```\n",
    ">> 첫번째 숫자: 10\n",
    ">> 두번째 숫자: 3\n",
    "10 나누기 3은 몫이 3이고 나머지는 1입니다.\n",
    "```"
   ]
  },
  {
   "cell_type": "code",
   "execution_count": 47,
   "metadata": {
    "colab": {
     "base_uri": "https://localhost:8080/"
    },
    "id": "1O9-xigHCaqb",
    "outputId": "5b28886b-8bc8-44a6-f5c3-fb1d58c28014"
   },
   "outputs": [
    {
     "name": "stdout",
     "output_type": "stream",
     "text": [
      "첫번째 숫자: 10\n",
      "두번째 숫자: 3\n",
      "10 나누기 3은 몫이 3이고 나머지는 1입니다.\n"
     ]
    }
   ],
   "source": [
    "num1 = int(input(\"첫번째 숫자: \"))\n",
    "num2 = int(input(\"두번째 숫자: \"))\n",
    "share = num1//num2\n",
    "remainer = num1%num2\n",
    "print(f\"{num1} 나누기 {num2}은 몫이 {share}이고 나머지는 {remainer}입니다.\")"
   ]
  },
  {
   "cell_type": "code",
   "execution_count": null,
   "metadata": {
    "id": "ucLz1Sb8qgLZ"
   },
   "outputs": [],
   "source": []
  }
 ],
 "metadata": {
  "colab": {
   "collapsed_sections": [],
   "include_colab_link": true,
   "name": "2-1.파이썬의 자료형_숫자.ipynb",
   "provenance": []
  },
  "kernelspec": {
   "display_name": "Python 3 (ipykernel)",
   "language": "python",
   "name": "python3"
  },
  "language_info": {
   "codemirror_mode": {
    "name": "ipython",
    "version": 3
   },
   "file_extension": ".py",
   "mimetype": "text/x-python",
   "name": "python",
   "nbconvert_exporter": "python",
   "pygments_lexer": "ipython3",
   "version": "3.9.7"
  },
  "toc": {
   "base_numbering": 1,
   "nav_menu": {},
   "number_sections": true,
   "sideBar": true,
   "skip_h1_title": false,
   "title_cell": "Table of Contents",
   "title_sidebar": "Contents",
   "toc_cell": false,
   "toc_position": {},
   "toc_section_display": true,
   "toc_window_display": false
  },
  "varInspector": {
   "cols": {
    "lenName": 16,
    "lenType": 16,
    "lenVar": 40
   },
   "kernels_config": {
    "python": {
     "delete_cmd_postfix": "",
     "delete_cmd_prefix": "del ",
     "library": "var_list.py",
     "varRefreshCmd": "print(var_dic_list())"
    },
    "r": {
     "delete_cmd_postfix": ") ",
     "delete_cmd_prefix": "rm(",
     "library": "var_list.r",
     "varRefreshCmd": "cat(var_dic_list()) "
    }
   },
   "types_to_exclude": [
    "module",
    "function",
    "builtin_function_or_method",
    "instance",
    "_Feature"
   ],
   "window_display": false
  }
 },
 "nbformat": 4,
 "nbformat_minor": 1
}
