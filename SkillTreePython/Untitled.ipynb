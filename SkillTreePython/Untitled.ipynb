{
 "cells": [
  {
   "cell_type": "code",
   "execution_count": 7,
   "id": "c2464180",
   "metadata": {},
   "outputs": [],
   "source": [
    "def oddeven():\n",
    "    \n",
    "    import time\n",
    "    import random\n",
    "    \n",
    "    ## 게임 코인\n",
    "    coin = 0\n",
    "    \n",
    "    ## 배팅금액 받기\n",
    "    while True:\n",
    "        print(\"-----\"*6)\n",
    "        input_money = input(\"배팅금액을 입금하세요. 최소금액은 1000원 입니다. :\")\n",
    "        money = eval(input_money)\n",
    "        if money != type(int):\n",
    "            print(\"경고!!  문자열을 입력할수없습니다.\")\n",
    "            print(\"금액을 재입력하세요\")\n",
    "        if money < 1000:\n",
    "            print(\"경고!! 최소금액은 1000원 입니다.\")\n",
    "            print(\"금액을 재입력하세요\")\n",
    "        if money >= 1000:\n",
    "            coin += 1\n",
    "            break\n",
    "    \n",
    "    ## 주사위 던지기 시각화\n",
    "    print(\"--\"*20)\n",
    "    print(\"[*] 주사위 던지는 중 3..\", end=\" \")\n",
    "    time.sleep(1)\n",
    "    print(\"2..\", end=\" \")\n",
    "    time.sleep(2)\n",
    "    print(\"1..\")\n",
    "    print(\"--\"*20)\n",
    "    \n",
    "   \n",
    "    ## 게임시작!\n",
    "    while coin: \n",
    "        \n",
    "        ## 홀짝 정답 뽑기\n",
    "        temp = random.randint(1,100)%2\n",
    "        if temp == 1:\n",
    "            goal=\"홀\"\n",
    "        if temp == 0:\n",
    "            goal=\"짝\"\n",
    "        \n",
    "        ## 홀짝 정하기\n",
    "        oe_type = print(\"홀/짝을 선택하세요 : \")\n",
    "        oe_type_dic = [\"홀\",\"짝\"]\n",
    "        if oe_type not in oe_type_dic:\n",
    "            print(\"홀/짝 중 하나를 입력하세요\")\n",
    "            continue\n",
    "        \n",
    "        ## 맞을때/ 틀릴때\n",
    "        if oe_type in oe_type_dic:\n",
    "            \n",
    "            ## 맞을때\n",
    "            if oe_type == goal:\n",
    "                money *= 2\n",
    "                print(f\"정답입니다! 현재 금액은 {money}원 입니다.\")\n",
    "                \n",
    "                con_count = 1\n",
    "                while con_count:\n",
    "                    con = input(\"계속 진행하겠습니까? (예/아니오) : \")\n",
    "                    if con == \"예\":\n",
    "                        con_count -=1\n",
    "                    if con == \"아니오\":\n",
    "                        print(f\"{money}원을 획득했습니다, 게임이 종료됩니다.\")\n",
    "                        coin-=1\n",
    "                        \n",
    "            ## 틀릴때\n",
    "            if oe_type != goal:\n",
    "                print(\"틀렸습니다! 게임이 종료됩니다.\")\n",
    "                coin-=1\n",
    "            "
   ]
  },
  {
   "cell_type": "code",
   "execution_count": 6,
   "id": "83bf0f19",
   "metadata": {},
   "outputs": [],
   "source": []
  },
  {
   "cell_type": "code",
   "execution_count": null,
   "id": "39642e08",
   "metadata": {},
   "outputs": [],
   "source": [
    "while True:\n",
    "    print(\"1번 while문 시작\")\n",
    "    a = input(\"1번 while 문 입력하세요\")\n",
    "    if a==\"1\":\n",
    "        while True:\n",
    "            "
   ]
  }
 ],
 "metadata": {
  "kernelspec": {
   "display_name": "Python 3 (ipykernel)",
   "language": "python",
   "name": "python3"
  },
  "language_info": {
   "codemirror_mode": {
    "name": "ipython",
    "version": 3
   },
   "file_extension": ".py",
   "mimetype": "text/x-python",
   "name": "python",
   "nbconvert_exporter": "python",
   "pygments_lexer": "ipython3",
   "version": "3.9.7"
  },
  "toc": {
   "base_numbering": 1,
   "nav_menu": {},
   "number_sections": true,
   "sideBar": true,
   "skip_h1_title": false,
   "title_cell": "Table of Contents",
   "title_sidebar": "Contents",
   "toc_cell": false,
   "toc_position": {},
   "toc_section_display": true,
   "toc_window_display": false
  },
  "varInspector": {
   "cols": {
    "lenName": 16,
    "lenType": 16,
    "lenVar": 40
   },
   "kernels_config": {
    "python": {
     "delete_cmd_postfix": "",
     "delete_cmd_prefix": "del ",
     "library": "var_list.py",
     "varRefreshCmd": "print(var_dic_list())"
    },
    "r": {
     "delete_cmd_postfix": ") ",
     "delete_cmd_prefix": "rm(",
     "library": "var_list.r",
     "varRefreshCmd": "cat(var_dic_list()) "
    }
   },
   "types_to_exclude": [
    "module",
    "function",
    "builtin_function_or_method",
    "instance",
    "_Feature"
   ],
   "window_display": false
  }
 },
 "nbformat": 4,
 "nbformat_minor": 5
}
