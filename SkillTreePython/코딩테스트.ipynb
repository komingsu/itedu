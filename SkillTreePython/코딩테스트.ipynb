{
 "cells": [
  {
   "cell_type": "markdown",
   "metadata": {
    "id": "GtT-wg6MFkXL"
   },
   "source": []
  },
  {
   "cell_type": "markdown",
   "metadata": {
    "id": "KBetQhehFma7"
   },
   "source": [
    "# 해쉬"
   ]
  },
  {
   "cell_type": "markdown",
   "metadata": {
    "id": "IlReNd7CLOEZ"
   },
   "source": [
    "## 완주하지 못한 선수\n",
    "\n",
    "**문제 설명**\n",
    "\n",
    "수많은 마라톤 선수들이 마라톤에 참여하였습니다. 단 한 명의 선수를 제외하고는 모든 선수가 마라톤을 완주하였습니다.\n",
    "\n",
    "마라톤에 참여한 선수들의 이름이 담긴 배열 participant와 완주한 선수들의 이름이 담긴 배열 completion이 주어질 때, 완주하지 못한 선수의 이름을 return 하도록 solution 함수를 작성해주세요.\n",
    "\n",
    "\n",
    "**제한사항**\n",
    "\n",
    "마라톤 경기에 참여한 선수의 수는 1명 이상 100,000명 이하입니다.\n",
    "completion의 길이는 participant의 길이보다 1 작습니다.\n",
    "참가자의 이름은 1개 이상 20개 이하의 알파벳 소문자로 이루어져 있습니다.\n",
    "참가자 중에는 동명이인이 있을 수 있습니다.\n",
    "\n",
    "**입출력 예**\n",
    "\n",
    "participant\tcompletion\treturn\n",
    "[\"leo\", \"kiki\", \"eden\"]\t[\"eden\", \"kiki\"]\t\"leo\"\n",
    "[\"marina\", \"josipa\", \"nikola\", \"vinko\", \"filipa\"]\t[\"josipa\", \"filipa\", \"marina\", \"nikola\"]\t\"vinko\"\n",
    "[\"mislav\", \"stanko\", \"mislav\", \"ana\"]\t[\"stanko\", \"ana\", \"mislav\"]\t\"mislav\"\n",
    "\n",
    "**입출력 예 설명**\n",
    "\n",
    "예제 #1\n",
    "\n",
    "\"leo\"는 참여자 명단에는 있지만, 완주자 명단에는 없기 때문에 완주하지 못했습니다.\n",
    "\n",
    "예제 #2\n",
    "\"vinko\"는 참여자 명단에는 있지만, 완주자 명단에는 없기 때문에 완주하지 못했습니다.\n",
    "\n",
    "예제 #3\n",
    "\"mislav\"는 참여자 명단에는 두 명이 있지만, 완주자 명단에는 한 명밖에 없기 때문에 한명은 완주하지 못했습니다."
   ]
  },
  {
   "cell_type": "markdown",
   "metadata": {
    "id": "pvtyRzhwtsnM"
   },
   "source": [
    "**내가 푼 방법**"
   ]
  },
  {
   "cell_type": "code",
   "execution_count": null,
   "metadata": {
    "id": "ZtcCmEAnK384"
   },
   "outputs": [],
   "source": [
    "def solution(participant, completion):\n",
    "    hashDict = {}\n",
    "    sumHash = 0\n",
    "    \n",
    "    for part in participant:\n",
    "        hashDict[hash(part)] = part\n",
    "        sumHash += hash(part)\n",
    "    \n",
    "    for com in completion:\n",
    "        sumHash -= hash(com)\n",
    "        \n",
    "    return hashDict[sumHash]"
   ]
  },
  {
   "cell_type": "markdown",
   "metadata": {
    "id": "hq48QK6zt5mN"
   },
   "source": [
    "**가장 마음에 드는 방법**"
   ]
  },
  {
   "cell_type": "code",
   "execution_count": null,
   "metadata": {
    "id": "30whhpR6Oxk0"
   },
   "outputs": [],
   "source": [
    "def solution(participant, completion):\n",
    "    participant.sort()\n",
    "    completion.sort()\n",
    "    for p, c in zip(participant, completion):\n",
    "        if p != c:\n",
    "            return p\n",
    "    return participant[-1]"
   ]
  },
  {
   "cell_type": "markdown",
   "metadata": {
    "id": "9YSSxRR9tn7D"
   },
   "source": [
    "**내가 처음 시도한 방법에서 예외처리를 한 방법**"
   ]
  },
  {
   "cell_type": "code",
   "execution_count": null,
   "metadata": {
    "id": "IrZMXfGaO0Sp"
   },
   "outputs": [],
   "source": [
    "def solution(participant, completion):\n",
    "    participant_set = set(participant)\n",
    "    completion_set = set(completion)\n",
    "    result = list(participant_set - completion_set)\n",
    "    if result !=[]:\n",
    "        return result[0]\n",
    "    else:\n",
    "        for c in completion:\n",
    "            a=completion.count(c)\n",
    "            b=participant.count(c)\n",
    "            if(a != b):\n",
    "                return c\n",
    "    return None"
   ]
  },
  {
   "cell_type": "code",
   "execution_count": null,
   "metadata": {
    "id": "Fhn3nrS4PYaZ"
   },
   "outputs": [],
   "source": [
    "def solution(participant, completion):\n",
    "    participant.sort()\n",
    "    completion.sort()\n",
    "    for i in range(len(completion)):\n",
    "        if participant[i] != completion[i]:\n",
    "            return participant[i]\n",
    "    return participant[len(participant)-1]"
   ]
  },
  {
   "cell_type": "code",
   "execution_count": null,
   "metadata": {
    "id": "R-_ZxdZWQDGw"
   },
   "outputs": [],
   "source": [
    "import collections\n",
    "def solution(participant, completion):\n",
    "  # 1. participant의 Counter를 구한다 \n",
    "  # 2. completion의 Counter를 구한다 \n",
    "  # 3. 둘의 차를 구하면 정답만 남아있는 counter를 반환한다 \n",
    "  answer = collections.Counter(participant) - collections.Counter(completion) \n",
    "\n",
    "  # 4. counter의 key값을 반환한다 \n",
    "  return list(answer.keys())[0]"
   ]
  },
  {
   "cell_type": "markdown",
   "metadata": {
    "id": "OxPw6GyuuhLd"
   },
   "source": [
    "## 전화번호 목록"
   ]
  },
  {
   "cell_type": "markdown",
   "metadata": {
    "id": "PfSSfEvHuyKG"
   },
   "source": [
    "**문제 설명**\n",
    "\n",
    "전화번호부에 적힌 전화번호 중, 한 번호가 다른 번호의 접두어인 경우가 있는지 확인하려 합니다.\n",
    "\n",
    "전화번호가 다음과 같을 경우, 구조대 전화번호는 영석이의 전화번호의 접두사입니다.\n",
    "```\n",
    "구조대 : 119\n",
    "박준영 : 97 674 223\n",
    "지영석 : 11 9552 4421\n",
    "```\n",
    "전화번호부에 적힌 전화번호를 담은 배열 phone_book 이 solution 함수의 매개변수로 주어질 때, 어떤 번호가 다른 번호의 접두어인 경우가 있으면 false를 그렇지 않으면 true를 return 하도록 solution 함수를 작성해주세요.\n",
    "\n",
    "**제한 사항**\n",
    "\n",
    "phone_book의 길이는 1 이상 1,000,000 이하입니다.\n",
    "각 전화번호의 길이는 1 이상 20 이하입니다.\n",
    "같은 전화번호가 중복해서 들어있지 않습니다"
   ]
  },
  {
   "cell_type": "markdown",
   "metadata": {
    "id": "j_FE7ptyyNQ5"
   },
   "source": [
    "**내가 작성한 방법**"
   ]
  },
  {
   "cell_type": "code",
   "execution_count": null,
   "metadata": {
    "id": "qiB8RtZuQMJM"
   },
   "outputs": [],
   "source": [
    "import heapq\n",
    "def solution(phone_book):\n",
    "    \n",
    "    if len(phone_book) == 1:\n",
    "        return True\n",
    "    \n",
    "    heapq.heapify(phone_book)\n",
    "    answer = True\n",
    "    p_num = heapq.heappop(phone_book)    \n",
    "    \n",
    "    while phone_book:\n",
    "        i = len(p_num)\n",
    "        if p_num == phone_book[0][:i]:\n",
    "            return False\n",
    "        p_num = heapq.heappop(phone_book)\n",
    "    \n",
    "    return answer"
   ]
  },
  {
   "cell_type": "markdown",
   "metadata": {
    "id": "ne5lpdPzy3Sq"
   },
   "source": [
    "테스트 1 〉\t통과 (0.67ms, 10.7MB)\n",
    "\n",
    "테스트 2 〉\t통과 (0.61ms, 10.8MB)\n",
    "\n",
    "테스트 3 〉\t통과 (193.19ms, 30.6MB)\n",
    "\n",
    "테스트 4 〉\t통과 (229.26ms, 28MB)"
   ]
  },
  {
   "cell_type": "markdown",
   "metadata": {
    "id": "RBJ5Qf8ryPS5"
   },
   "source": [
    "**가장 마음에 드는 방법**"
   ]
  },
  {
   "cell_type": "code",
   "execution_count": null,
   "metadata": {
    "id": "bjrWPzsvyPuv"
   },
   "outputs": [],
   "source": [
    "def solution(phoneBook):\n",
    "    phoneBook = sorted(phoneBook)\n",
    "\n",
    "    for p1, p2 in zip(phoneBook, phoneBook[1:]):\n",
    "        if p2.startswith(p1):\n",
    "            return False\n",
    "    return True"
   ]
  },
  {
   "cell_type": "markdown",
   "metadata": {
    "id": "e_rck1DFyQF9"
   },
   "source": [
    "테스트 1 〉\t통과 (3.06ms, 10.8MB)\n",
    "\n",
    "테스트 2 〉\t통과 (2.93ms, 10.9MB)\n",
    "\n",
    "테스트 3 〉\t통과 (102.97ms, 30.6MB)\n",
    "\n",
    "테스트 4 〉\t통과 (84.34ms, 28.1MB"
   ]
  },
  {
   "cell_type": "code",
   "execution_count": null,
   "metadata": {
    "id": "Xmrz6jwzzc_b"
   },
   "outputs": [],
   "source": []
  },
  {
   "cell_type": "markdown",
   "metadata": {
    "id": "irPTwbylP1de"
   },
   "source": [
    "## 스파이의 옷입히기\n",
    "\n",
    "\n",
    "**문제 설명**\n",
    "\n",
    "스파이들은 매일 다른 옷을 조합하여 입어 자신을 위장합니다.\n",
    "\n",
    "예를 들어 스파이가 가진 옷이 아래와 같고 오늘 스파이가 동그란 안경, 긴 코트, 파란색 티셔츠를 입었다면 다음날은 청바지를 추가로 입거나 동그란 안경 대신 검정 선글라스를 착용하거나 해야 합니다.\n",
    "\n",
    "---\n",
    "\n",
    "종류 |\t이름\n",
    "\n",
    "얼굴 |\t동그란 안경, 검정 선글라스\n",
    "\n",
    "상의 | 파란색 티셔츠\n",
    "\n",
    "하의 | 청바지\n",
    "\n",
    "겉옷 | 긴 코트\n",
    "\n",
    "---\n",
    "스파이가 가진 의상들이 담긴 2차원 배열 clothes가 주어질 때 서로 다른 옷의 조합의 수를 return 하도록 solution 함수를 작성해주세요.\n",
    "\n",
    "\n",
    "**제한사항**\n",
    "\n",
    "1. clothes의 각 행은 [의상의 이름, 의상의 종류]로 이루어져 있습니다.\n",
    "1. 스파이가 가진 의상의 수는 1개 이상 30개 이하입니다.\n",
    "1. 같은 이름을 가진 의상은 존재하지 않습니다.\n",
    "1. clothes의 모든 원소는 문자열로 이루어져 있습니다.\n",
    "1. 모든 문자열의 길이는 1 이상 20 이하인 자연수이고 알파벳 소문자 또는 '_' 로만 이루어져 있습니다.\n",
    "1. 스파이는 하루에 최소 한 개의 의상은 입습니다."
   ]
  },
  {
   "cell_type": "code",
   "execution_count": null,
   "metadata": {
    "id": "1YiocVS0P3QX"
   },
   "outputs": [],
   "source": [
    "clothes = [[\"yellowhat\", \"headgear\"], [\"bluesunglasses\", \"eyewear\"], [\"green_turban\", \"headgear\"]]"
   ]
  },
  {
   "cell_type": "code",
   "execution_count": null,
   "metadata": {
    "id": "T-Uy4n6-QTOw"
   },
   "outputs": [],
   "source": [
    "data2 = [[\"crowmask\", \"face\"], [\"bluesunglasses\", \"face\"], [\"smoky_makeup\", \"face\"]]"
   ]
  },
  {
   "cell_type": "markdown",
   "metadata": {
    "id": "so24Y2T7XgVl"
   },
   "source": [
    "* 처음 시도한 방법\n",
    "\n",
    "굳이 이걸 써서 새로운 키값을 만들필요가 없는것을 확인"
   ]
  },
  {
   "cell_type": "code",
   "execution_count": null,
   "metadata": {
    "id": "rIeZ2Hn9QVgp"
   },
   "outputs": [],
   "source": [
    "from collections import namedtuple\n",
    "\n",
    "def solution(clothes):\n",
    "    \n",
    "    \n",
    "    Cloth = namedtuple('Cloth', 'cloth_name, cloth_type')\n",
    "    clothes =  [Cloth._make(emp) for emp in clothes]\n",
    "    \n",
    "    answer = 0\n",
    "    return answer"
   ]
  },
  {
   "cell_type": "markdown",
   "metadata": {
    "id": "50Xw-4urXnB1"
   },
   "source": [
    "* 두번째 시도한 방법 + 성공\n",
    "\n",
    "defaultdict 으로 새로 생길 values 값을 list로 고정\n",
    "\n",
    "list의 길이를 구해 리스트를 만듦\n",
    "\n",
    "각 리스트의 원소들을 곱하고 -1"
   ]
  },
  {
   "cell_type": "code",
   "execution_count": null,
   "metadata": {
    "colab": {
     "base_uri": "https://localhost:8080/"
    },
    "id": "IbXfN5zsQi9a",
    "outputId": "c7bc30cc-4ae2-4a97-a161-c92629f90b17"
   },
   "outputs": [
    {
     "data": {
      "text/plain": [
       "5"
      ]
     },
     "execution_count": 42,
     "metadata": {},
     "output_type": "execute_result"
    }
   ],
   "source": [
    "clothes = [[\"yellowhat\", \"headgear\"], [\"bluesunglasses\", \"eyewear\"], [\"green_turban\", \"headgear\"]]\n",
    "def solution(clothes):\n",
    "\n",
    "    from collections import defaultdict\n",
    "\n",
    "    cloth = defaultdict(list)\n",
    "    c_num = []\n",
    "    c_count = 1\n",
    "    for i in clothes:\n",
    "        cloth[i[1]].append(i[0])\n",
    "\n",
    "    for i in cloth:\n",
    "        c_num.append(len(cloth[i])+1)\n",
    "\n",
    "    for i in c_num:\n",
    "        c_count *= i\n",
    "\n",
    "    return c_count-1\n",
    "\n",
    "solution(clothes)"
   ]
  },
  {
   "cell_type": "markdown",
   "metadata": {
    "id": "2NsXD71OX_lJ"
   },
   "source": [
    "* 가장 높은 추천을 받은 방법\n",
    "\n",
    "`collections 의 Counter` 와 `functools 의 reduce`를 사용"
   ]
  },
  {
   "cell_type": "code",
   "execution_count": null,
   "metadata": {
    "id": "zlvXRWjaQoLC"
   },
   "outputs": [],
   "source": [
    "def solution(clothes):\n",
    "    from collections import Counter\n",
    "    from functools import reduce\n",
    "    cnt = Counter([kind for name, kind in clothes]) # name, kind 형태에의 리스트(clothes)에서 kind 의 종류를 세어라 \n",
    "    answer = reduce(lambda x, y: x*(y+1), cnt.values(), 1) - 1\n",
    "    # (cnt의 values 값을 세어 + 1 : 선택하지 않음을 포함)\n",
    "    # 모두 선택하지 않음은 없으므로 -1\n",
    "    return answer"
   ]
  },
  {
   "cell_type": "code",
   "execution_count": null,
   "metadata": {
    "id": "z6X-Fb03Ywvq"
   },
   "outputs": [],
   "source": []
  },
  {
   "cell_type": "markdown",
   "metadata": {
    "id": "rs5l1RLDewlm"
   },
   "source": [
    "## 베스트 앨범\n",
    "\n",
    "\n",
    "\n",
    "---\n",
    "\n",
    "**1회차 시도. 예제는 통과했지만 전체 코테 에서는 실패**"
   ]
  },
  {
   "cell_type": "code",
   "execution_count": 1,
   "metadata": {
    "colab": {
     "base_uri": "https://localhost:8080/"
    },
    "id": "SFhsnrxdfG3j",
    "outputId": "8ef02fa4-a9b1-4d61-9832-75ffaa30089d"
   },
   "outputs": [
    {
     "name": "stdout",
     "output_type": "stream",
     "text": [
      "[(4, 2500), (1, 600)]\n",
      "[(4, 2500), (1, 600)]\n",
      "[4]\n",
      "[4, 1]\n",
      "[(3, 800), (0, 500), (2, 150)]\n",
      "[(3, 800), (0, 500)]\n",
      "[4, 1, 3]\n",
      "[4, 1, 3, 0]\n"
     ]
    },
    {
     "data": {
      "text/plain": [
       "[4, 1, 3, 0]"
      ]
     },
     "execution_count": 1,
     "metadata": {},
     "output_type": "execute_result"
    }
   ],
   "source": [
    "\n",
    "genres = [\"classic\", \"pop\", \"classic\", \"classic\", \"pop\"]\n",
    "plays = [500, 600, 150, 800, 2500]\n",
    "\n",
    "\n",
    "def solution(genres, plays):\n",
    "    from collections import defaultdict\n",
    "\n",
    "    song_dict = defaultdict(dict)\n",
    "    genres_dict = defaultdict(int)\n",
    "    for genres_name , (idx , plays_number) in zip(genres , enumerate(plays)):\n",
    "        song_dict[genres_name][idx] = plays_number        \n",
    "        genres_dict[genres_name] += plays_number\n",
    "\n",
    "\n",
    "    genres_dict_sorted = sorted(genres_dict.items(), key= lambda items : -items[1])\n",
    "\n",
    "    top2=[]\n",
    "    for k, v in genres_dict_sorted:\n",
    "\n",
    "        # 딕셔너리 자료형에서 items() 로 불러오면\n",
    "        # dict.items()의 자료형이 된다.\n",
    "        # 이때 dict.items 속 (a,b,c) 가 있을때 b 로 정렬을 하기위해서는\n",
    "        # key = lambda items : items[1] 로 할 수 있다.\n",
    "        # 즉 lambda 의 변수를 items 로 하면 key 값을 받아올 수 있다.\n",
    "        # 여기서 lambda items : -items[1] 로 하면 내림차순이 된다. \n",
    "        song_sorted = sorted(song_dict[k].items(), key= lambda items : -items[1])\n",
    "        print(sorted(song_dict[k].items(), key=lambda items : -items[1]))\n",
    "\n",
    "        GPtop2 = song_sorted[:2]\n",
    "        print(GPtop2)\n",
    "\n",
    "        for song_top2 in GPtop2:\n",
    "            top2.append(song_top2[0])\n",
    "            print(top2)\n",
    "    \n",
    "    return top2\n",
    "    \n",
    "solution(genres,plays)"
   ]
  },
  {
   "cell_type": "markdown",
   "metadata": {
    "id": "exj1g6AFqFFH"
   },
   "source": [
    "# **정렬**"
   ]
  },
  {
   "cell_type": "markdown",
   "metadata": {
    "id": "J0TvL6sKqn28"
   },
   "source": [
    "---\n",
    "# K 번째 수\n",
    "\n",
    "**문제 설명**\n",
    "\n",
    "* 배열 array의 i번째 숫자부터 j번째 숫자까지 자르고 정렬했을 때, k번째에 있는 수를 구하려 합니다.\n",
    "\n",
    "> 예를 들어 array가 [1, 5, 2, 6, 3, 7, 4], i = 2, j = 5, k = 3이라면\n",
    ">1. array의 2번째부터 5번째까지 자르면 [5, 2, 6, 3]입니다.\n",
    ">1. 1에서 나온 배열을 정렬하면 [2, 3, 5, 6]입니다.\n",
    ">1. 2에서 나온 배열의 3번째 숫자는 5입니다.\n",
    "\n",
    "* 배열 array, [i, j, k]를 원소로 가진 2차원 배열 commands가 매개변수로 주어질 때, commands의 모든 원소에 대해 앞서 설명한 연산을 적용했을 때 나온 결과를 배열에 담아 return 하도록 solution 함수를 작성해주세요.\n",
    "\n",
    "**제한사항**\n",
    "1. array의 길이는 1 이상 100 이하입니다.\n",
    "1. array의 각 원소는 1 이상 100 이하입니다.\n",
    "1. commands의 길이는 1 이상 50 이하입니다.\n",
    "1. commands의 각 원소는 길이가 3입니다."
   ]
  },
  {
   "cell_type": "markdown",
   "metadata": {},
   "source": [
    "* 내가 제출한 답변"
   ]
  },
  {
   "cell_type": "code",
   "execution_count": 17,
   "metadata": {
    "id": "kQVKNaY_Law0"
   },
   "outputs": [
    {
     "data": {
      "text/plain": [
       "[5, 6, 3]"
      ]
     },
     "execution_count": 17,
     "metadata": {},
     "output_type": "execute_result"
    }
   ],
   "source": [
    "array = [1, 5, 2, 6, 3, 7, 4]\n",
    "commands = [[2, 5, 3], [4, 4, 1], [1, 7, 3]]\n",
    "\n",
    "def solution(array, commands):\n",
    "    answer = []\n",
    "    for i in commands:\n",
    "        start, end, find = i\n",
    "        \n",
    "        temp = array[start-1:end]\n",
    "        temp.sort()\n",
    "        fined = temp[find-1]\n",
    "\n",
    "        answer.append(fined)\n",
    "  \n",
    "    return answer\n",
    "\n",
    "solution(array, commands)"
   ]
  },
  {
   "cell_type": "markdown",
   "metadata": {},
   "source": [
    "* 가장 많은 추천을 받은 답변"
   ]
  },
  {
   "cell_type": "code",
   "execution_count": 18,
   "metadata": {},
   "outputs": [
    {
     "data": {
      "text/plain": [
       "[5, 6, 3]"
      ]
     },
     "execution_count": 18,
     "metadata": {},
     "output_type": "execute_result"
    }
   ],
   "source": [
    "array = [1, 5, 2, 6, 3, 7, 4]\n",
    "commands = [[2, 5, 3], [4, 4, 1], [1, 7, 3]]\n",
    "\n",
    "def solution(array, commands):\n",
    "    return list(map(lambda x:sorted(array[x[0]-1:x[1]])[x[2]-1], commands))\n",
    "\n",
    "solution(array, commands)"
   ]
  },
  {
   "cell_type": "code",
   "execution_count": null,
   "metadata": {},
   "outputs": [],
   "source": []
  }
 ],
 "metadata": {
  "colab": {
   "collapsed_sections": [],
   "name": "코딩테스트",
   "provenance": [],
   "toc_visible": true
  },
  "kernelspec": {
   "display_name": "Python 3 (ipykernel)",
   "language": "python",
   "name": "python3"
  },
  "language_info": {
   "codemirror_mode": {
    "name": "ipython",
    "version": 3
   },
   "file_extension": ".py",
   "mimetype": "text/x-python",
   "name": "python",
   "nbconvert_exporter": "python",
   "pygments_lexer": "ipython3",
   "version": "3.9.7"
  },
  "toc": {
   "base_numbering": 1,
   "nav_menu": {},
   "number_sections": true,
   "sideBar": true,
   "skip_h1_title": false,
   "title_cell": "Table of Contents",
   "title_sidebar": "Contents",
   "toc_cell": false,
   "toc_position": {},
   "toc_section_display": true,
   "toc_window_display": false
  },
  "varInspector": {
   "cols": {
    "lenName": 16,
    "lenType": 16,
    "lenVar": 40
   },
   "kernels_config": {
    "python": {
     "delete_cmd_postfix": "",
     "delete_cmd_prefix": "del ",
     "library": "var_list.py",
     "varRefreshCmd": "print(var_dic_list())"
    },
    "r": {
     "delete_cmd_postfix": ") ",
     "delete_cmd_prefix": "rm(",
     "library": "var_list.r",
     "varRefreshCmd": "cat(var_dic_list()) "
    }
   },
   "types_to_exclude": [
    "module",
    "function",
    "builtin_function_or_method",
    "instance",
    "_Feature"
   ],
   "window_display": false
  }
 },
 "nbformat": 4,
 "nbformat_minor": 1
}
