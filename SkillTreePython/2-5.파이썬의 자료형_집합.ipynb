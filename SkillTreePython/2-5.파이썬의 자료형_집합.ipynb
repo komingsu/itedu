{
 "cells": [
  {
   "cell_type": "markdown",
   "metadata": {
    "id": "kB5IciXEm6o4"
   },
   "source": [
    "# 2-5.파이썬의 자료형:집합 \n",
    "---\n",
    "* 날짜: 2022-03-31\n",
    "* 이름: 고민수"
   ]
  },
  {
   "cell_type": "markdown",
   "metadata": {
    "id": "4iN8NFzHRJ2D"
   },
   "source": [
    "## 개념정리\n",
    "---\n",
    "\n",
    "\n",
    "수학에서 쓰이는 집합의 개념과 비슷하게 파이썬에서도 집합 (set) 을 사용할 수 있습니다. "
   ]
  },
  {
   "cell_type": "markdown",
   "metadata": {
    "id": "MAM8MDnfw68b"
   },
   "source": [
    "### **(1) 생성**\n",
    "\n",
    "괄호 `{ }` 를 통해서 집합을 생성 할 수 있습니다. \n",
    "\n",
    "```\n",
    "a = {1,2,3}\n",
    "type(a)\n",
    "```"
   ]
  },
  {
   "cell_type": "code",
   "execution_count": 55,
   "metadata": {
    "id": "GcyrxnDviDbz"
   },
   "outputs": [
    {
     "data": {
      "text/plain": [
       "set"
      ]
     },
     "execution_count": 55,
     "metadata": {},
     "output_type": "execute_result"
    }
   ],
   "source": [
    "a = {1,2,3}\n",
    "type(a)"
   ]
  },
  {
   "cell_type": "markdown",
   "metadata": {
    "id": "U6_8nueJiDlL"
   },
   "source": [
    "#### **집합의 요소**\n",
    "\n",
    "집합의 요소로는 문자열, 수치자료형, 튜플이 가능합니다. \n",
    "\n",
    "```\n",
    "a = {'a', 1, 0.5, (2,3)}\n",
    "print(a)\n",
    "```"
   ]
  },
  {
   "cell_type": "code",
   "execution_count": 56,
   "metadata": {
    "id": "RU88pe1yiGVH"
   },
   "outputs": [
    {
     "name": "stdout",
     "output_type": "stream",
     "text": [
      "{'a', 1, (2, 3), 0.5}\n"
     ]
    }
   ],
   "source": [
    "a = {'a', 1, 0.5, (2,3)}\n",
    "print(a)"
   ]
  },
  {
   "cell_type": "markdown",
   "metadata": {
    "id": "o11x3vZLiIuL"
   },
   "source": [
    "\n",
    "`bool` 자료형을 추가할 때는 유의해야한다.\n",
    "\n",
    "```\n",
    "a = {'a', 1, 0.5, (2,3), True}\n",
    "print(a)\n",
    "```"
   ]
  },
  {
   "cell_type": "code",
   "execution_count": 57,
   "metadata": {
    "id": "Y3bS0uiKiI8X"
   },
   "outputs": [
    {
     "name": "stdout",
     "output_type": "stream",
     "text": [
      "{'a', 1, (2, 3), 0.5}\n"
     ]
    }
   ],
   "source": [
    "a = {'a', 1, 0.5, (2,3), True}\n",
    "print(a)"
   ]
  },
  {
   "cell_type": "markdown",
   "metadata": {
    "id": "don0VECoiNyT"
   },
   "source": [
    "다른 군집 자료형 (리스트, 딕셔너리, 집합) 등은 에러 메시지가 뜹니다. \n",
    " \n",
    "```\n",
    "a = {'a', 1, 0.5, (2,3), [1,2]}\n",
    "print(a)\n",
    "```"
   ]
  },
  {
   "cell_type": "code",
   "execution_count": 58,
   "metadata": {
    "id": "zOi241MJiMPv"
   },
   "outputs": [
    {
     "ename": "TypeError",
     "evalue": "unhashable type: 'list'",
     "output_type": "error",
     "traceback": [
      "\u001b[1;31m---------------------------------------------------------------------------\u001b[0m",
      "\u001b[1;31mTypeError\u001b[0m                                 Traceback (most recent call last)",
      "\u001b[1;32m~\\AppData\\Local\\Temp/ipykernel_6088/2033650440.py\u001b[0m in \u001b[0;36m<module>\u001b[1;34m\u001b[0m\n\u001b[1;32m----> 1\u001b[1;33m \u001b[0ma\u001b[0m \u001b[1;33m=\u001b[0m \u001b[1;33m{\u001b[0m\u001b[1;34m'a'\u001b[0m\u001b[1;33m,\u001b[0m \u001b[1;36m1\u001b[0m\u001b[1;33m,\u001b[0m \u001b[1;36m0.5\u001b[0m\u001b[1;33m,\u001b[0m \u001b[1;33m(\u001b[0m\u001b[1;36m2\u001b[0m\u001b[1;33m,\u001b[0m\u001b[1;36m3\u001b[0m\u001b[1;33m)\u001b[0m\u001b[1;33m,\u001b[0m \u001b[1;33m[\u001b[0m\u001b[1;36m1\u001b[0m\u001b[1;33m,\u001b[0m\u001b[1;36m2\u001b[0m\u001b[1;33m]\u001b[0m\u001b[1;33m}\u001b[0m\u001b[1;33m\u001b[0m\u001b[1;33m\u001b[0m\u001b[0m\n\u001b[0m\u001b[0;32m      2\u001b[0m \u001b[0mprint\u001b[0m\u001b[1;33m(\u001b[0m\u001b[0ma\u001b[0m\u001b[1;33m)\u001b[0m\u001b[1;33m\u001b[0m\u001b[1;33m\u001b[0m\u001b[0m\n",
      "\u001b[1;31mTypeError\u001b[0m: unhashable type: 'list'"
     ]
    }
   ],
   "source": [
    "a = {'a', 1, 0.5, (2,3), [1,2]}\n",
    "print(a)"
   ]
  },
  {
   "cell_type": "markdown",
   "metadata": {
    "id": "CjyNzVr4jG2e"
   },
   "source": [
    "### **(2) 집합의 특징**\n",
    "\n",
    "다른 군집자료형(문자열, 리스트, 튜플, 딕셔너리)과 다른 집합만의 특징은 두가지가 있습니다.\n",
    "\n",
    "* 중복을 불허용\n",
    "* 순서가 없음"
   ]
  },
  {
   "cell_type": "markdown",
   "metadata": {
    "id": "pljO0lepjKDT"
   },
   "source": [
    "#### **중복불허용**\n",
    "\n",
    "집합에는 중복되는 값이 존재 하지 않습니다. 따라서 아래와 같이 초기값으로 중복된 요소를 넣더라도 중복값은 자동적으로 제거됩니다. \n",
    "\n",
    "```\n",
    "a = {1,2,2,2,3}\n",
    "print(a)\n",
    "```"
   ]
  },
  {
   "cell_type": "code",
   "execution_count": 59,
   "metadata": {
    "id": "HKTb0NaAiPwH"
   },
   "outputs": [
    {
     "name": "stdout",
     "output_type": "stream",
     "text": [
      "{1, 2, 3}\n"
     ]
    }
   ],
   "source": [
    "a = {1,2,2,2,3}\n",
    "print(a)"
   ]
  },
  {
   "cell_type": "markdown",
   "metadata": {
    "id": "lx7A3mBmjN_U"
   },
   "source": [
    "이러한 특징을 가지고 있기 때문에 다른 군집 자료형에 대해 중복을 제거하기 위해 집합으로 바꾸기도 합니다. \n",
    "\n",
    "```\n",
    "a_list = [1,2,3,2]\n",
    "a = set(a_list)\n",
    "a_list = list(a)\n",
    "print(a_list)\n",
    "```"
   ]
  },
  {
   "cell_type": "code",
   "execution_count": 60,
   "metadata": {
    "id": "eRDREQWHjMYY"
   },
   "outputs": [
    {
     "name": "stdout",
     "output_type": "stream",
     "text": [
      "[1, 2, 3]\n"
     ]
    }
   ],
   "source": [
    "a_list = [1,2,3,2]\n",
    "a = set(a_list)\n",
    "a_list = list(a)\n",
    "print(a_list)"
   ]
  },
  {
   "cell_type": "markdown",
   "metadata": {
    "id": "MXueNG18jQt5"
   },
   "source": [
    "#### **순서없음**\n",
    "\n",
    "집합에는 순서 개념이 없습니다. 따라서 군집 자료형을 집합으로 만드는 순간 자동으로 정렬됩니다.\n",
    "\n",
    "```\n",
    "a = {3,2,1}\n",
    "print(a)\n",
    "```"
   ]
  },
  {
   "cell_type": "code",
   "execution_count": 61,
   "metadata": {
    "id": "ezV3TvM9jPJW"
   },
   "outputs": [
    {
     "name": "stdout",
     "output_type": "stream",
     "text": [
      "{1, 2, 3}\n"
     ]
    }
   ],
   "source": [
    "a = {3,2,1}\n",
    "print(a)"
   ]
  },
  {
   "cell_type": "markdown",
   "metadata": {
    "id": "iUERHQD4jUPy"
   },
   "source": [
    "집합 자료형에는 순서가 없기 때문에 인덱싱과 슬라이싱을 사용 할 수 없습니다. \n",
    "\n",
    "\n",
    "```\n",
    "a = {1,2,3,4}\n",
    "a[0]\n",
    "```"
   ]
  },
  {
   "cell_type": "code",
   "execution_count": 62,
   "metadata": {
    "id": "6TBShyXDjS3m"
   },
   "outputs": [
    {
     "ename": "TypeError",
     "evalue": "'set' object is not subscriptable",
     "output_type": "error",
     "traceback": [
      "\u001b[1;31m---------------------------------------------------------------------------\u001b[0m",
      "\u001b[1;31mTypeError\u001b[0m                                 Traceback (most recent call last)",
      "\u001b[1;32m~\\AppData\\Local\\Temp/ipykernel_6088/3856690458.py\u001b[0m in \u001b[0;36m<module>\u001b[1;34m\u001b[0m\n\u001b[0;32m      1\u001b[0m \u001b[0ma\u001b[0m \u001b[1;33m=\u001b[0m \u001b[1;33m{\u001b[0m\u001b[1;36m1\u001b[0m\u001b[1;33m,\u001b[0m\u001b[1;36m2\u001b[0m\u001b[1;33m,\u001b[0m\u001b[1;36m3\u001b[0m\u001b[1;33m,\u001b[0m\u001b[1;36m4\u001b[0m\u001b[1;33m}\u001b[0m\u001b[1;33m\u001b[0m\u001b[1;33m\u001b[0m\u001b[0m\n\u001b[1;32m----> 2\u001b[1;33m \u001b[0ma\u001b[0m\u001b[1;33m[\u001b[0m\u001b[1;36m0\u001b[0m\u001b[1;33m]\u001b[0m\u001b[1;33m\u001b[0m\u001b[1;33m\u001b[0m\u001b[0m\n\u001b[0m",
      "\u001b[1;31mTypeError\u001b[0m: 'set' object is not subscriptable"
     ]
    }
   ],
   "source": [
    "a = {1,2,3,4}\n",
    "a[0]"
   ]
  },
  {
   "cell_type": "markdown",
   "metadata": {
    "id": "WtdWHrXmjWoj"
   },
   "source": [
    "### **(3) 집합의 연산**\n",
    "\n",
    "리스트나 튜플과 달리 집합은 `+` 나 * 연산이 불가능 합니다. 하지만 수학적 집합 개념과 마찬가지로 교집합, 합집합 차집합의 연산을 할 수 있습니다. \n"
   ]
  },
  {
   "cell_type": "markdown",
   "metadata": {
    "id": "vM_yxOEljZiQ"
   },
   "source": [
    "\n",
    "#### **교집합**\n",
    "\n",
    "집합 `a`와 집합 `B`의 교집합을 구합니다. 참고로 `&`기호는 대부분의 언어에서 `and` 를 뜻합니다. \n",
    "\n",
    "* `a&b`  \n",
    "* `a.intersection(b)` \n",
    "\n",
    "\n",
    "```\n",
    "a = {1,2,3}\n",
    "b = {3,4,5}\n",
    "\n",
    "print(a & b, a.intersection(b), b.intersection(a))\n",
    "```"
   ]
  },
  {
   "cell_type": "code",
   "execution_count": 63,
   "metadata": {
    "id": "qw6BYQxhjVP2"
   },
   "outputs": [
    {
     "name": "stdout",
     "output_type": "stream",
     "text": [
      "{3} {3} {3}\n"
     ]
    }
   ],
   "source": [
    "a = {1,2,3}\n",
    "b = {3,4,5}\n",
    "\n",
    "print(a & b, a.intersection(b), b.intersection(a))"
   ]
  },
  {
   "cell_type": "markdown",
   "metadata": {
    "id": "ur-Z2CmSjg_o"
   },
   "source": [
    "#### **합집합**\n",
    "\n",
    "집합 `a`와 집합 `B`의 합집합을 구합니다. 참고로 `|`기호는 대부분의 언어에서 `or` 를 뜻합니다. \n",
    "\n",
    "* `a|b`  \n",
    "* `a.union(b)` \n",
    "\n",
    "```\n",
    "a = set([1,2,3])\n",
    "b = set([3,4,5])\n",
    "a | b, a.union(b), b.union(a) # a U b\n",
    "```"
   ]
  },
  {
   "cell_type": "code",
   "execution_count": 64,
   "metadata": {
    "id": "Q_z2_tTnjfTr"
   },
   "outputs": [
    {
     "data": {
      "text/plain": [
       "({1, 2, 3, 4, 5}, {1, 2, 3, 4, 5}, {1, 2, 3, 4, 5})"
      ]
     },
     "execution_count": 64,
     "metadata": {},
     "output_type": "execute_result"
    }
   ],
   "source": [
    "a = set([1,2,3])\n",
    "b = set([3,4,5])\n",
    "a | b, a.union(b), b.union(a) # a U b"
   ]
  },
  {
   "cell_type": "markdown",
   "metadata": {
    "id": "QFxU957kjk00"
   },
   "source": [
    "#### **차집합**\n",
    "\n",
    "집합 `a`와 집합 `B`의 차집합을 구합니다.\n",
    "\n",
    "* `a-b`\n",
    "* `a.difference(b)`\n",
    "\n",
    "```\n",
    "a = set([1,2,3])\n",
    "b = set([3,4,5])\n",
    "print( a-b, a.difference(b) )\n",
    "print( b-a, b.difference(a) )\n",
    "```"
   ]
  },
  {
   "cell_type": "code",
   "execution_count": 65,
   "metadata": {
    "id": "0yL7BXWOjiLv"
   },
   "outputs": [
    {
     "name": "stdout",
     "output_type": "stream",
     "text": [
      "{1, 2} {1, 2}\n",
      "{4, 5} {4, 5}\n"
     ]
    }
   ],
   "source": [
    "a = set([1,2,3])\n",
    "b = set([3,4,5])\n",
    "print( a-b, a.difference(b) )\n",
    "print( b-a, b.difference(a) )"
   ]
  },
  {
   "cell_type": "markdown",
   "metadata": {
    "id": "aglgdX2Qjoi1"
   },
   "source": [
    "### **(4) 관련 메서드**\n",
    "\n"
   ]
  },
  {
   "cell_type": "markdown",
   "metadata": {
    "id": "2WWtO6sojr1d"
   },
   "source": [
    "#### **내장함수**\n",
    "\n",
    "다른 군집 자료형과 마찬가지로 내장함수를 사용할 수 있습니다.\n",
    "\n",
    "* `len()`: 길이를 구합니다.\n",
    "* `max()`: 최대값을 구합니다.\n",
    "* `min()`: 최소값을 구합니다.\n",
    "* `sum()`: 모든값을 더합니다.\n",
    "\n",
    "```\n",
    "a = {1,2,3,5}\n",
    "len(a), max(a), min(a), sum(a)\n",
    "```"
   ]
  },
  {
   "cell_type": "code",
   "execution_count": 66,
   "metadata": {
    "id": "ZHBd1xUJjnDQ"
   },
   "outputs": [
    {
     "data": {
      "text/plain": [
       "(4, 5, 1, 11)"
      ]
     },
     "execution_count": 66,
     "metadata": {},
     "output_type": "execute_result"
    }
   ],
   "source": [
    "a = {1,2,3,5}\n",
    "len(a), max(a), min(a), sum(a)"
   ]
  },
  {
   "cell_type": "markdown",
   "metadata": {
    "id": "h1xYZ6FSjvxD"
   },
   "source": [
    "* `set()`: 집합 자료형으로 변환합니다.\n",
    "\n",
    "```\n",
    "a = [1,2,2,2,3,4,4]\n",
    "set(a)\n",
    "```"
   ]
  },
  {
   "cell_type": "code",
   "execution_count": 67,
   "metadata": {
    "id": "6js5DFWMjtnw"
   },
   "outputs": [
    {
     "data": {
      "text/plain": [
       "{1, 2, 3, 4}"
      ]
     },
     "execution_count": 67,
     "metadata": {},
     "output_type": "execute_result"
    }
   ],
   "source": [
    "a = [1,2,2,2,3,4,4]\n",
    "set(a)"
   ]
  },
  {
   "cell_type": "markdown",
   "metadata": {
    "id": "_2N1aJN4j0D9"
   },
   "source": [
    "\n",
    "#### **기타 메서드**\n",
    "\n",
    "*  `a.add(b)` : 집합 `a` 에 요소 `b`를 추가합니다.\n",
    "\n",
    "리스트의 `append()` 기능과 유사합니다. 집합에 값을 하나 추가합니다. 다만 `append()`는 마지막에 값이 추가되는거와 달리 집합에서는 정렬된 위치에 값이 추가됩니다.\n",
    "\n",
    "```\n",
    "a ={1,2,3,5}\n",
    "a.add(4)\n",
    "print(a)\n",
    "```\n"
   ]
  },
  {
   "cell_type": "code",
   "execution_count": 68,
   "metadata": {
    "id": "iy-fvWdWjzKS"
   },
   "outputs": [
    {
     "name": "stdout",
     "output_type": "stream",
     "text": [
      "{1, 2, 3, 4, 5}\n"
     ]
    }
   ],
   "source": [
    "a ={1,2,3,5}\n",
    "a.add(4)\n",
    "print(a)"
   ]
  },
  {
   "cell_type": "markdown",
   "metadata": {
    "id": "uc9fJRL4j74a"
   },
   "source": [
    "---\n",
    "* `a.update([b, c, ..])` : 집합 `a`에 여러개의 요소를 추가합니다.\n",
    "\n",
    "```\n",
    "a = {1,2,3,5}\n",
    "a.update([6,7,8])\n",
    "print(a)\n",
    "```\n"
   ]
  },
  {
   "cell_type": "code",
   "execution_count": 69,
   "metadata": {
    "id": "T5nvduiKj4Pn"
   },
   "outputs": [
    {
     "name": "stdout",
     "output_type": "stream",
     "text": [
      "{1, 2, 3, 5, 6, 7, 8}\n"
     ]
    }
   ],
   "source": [
    "a = {1,2,3,5}\n",
    "a.update([6,7,8])\n",
    "print(a)"
   ]
  },
  {
   "cell_type": "markdown",
   "metadata": {
    "id": "34MpBFWsj_gM"
   },
   "source": [
    "---\n",
    "* `a.remove(b)` : 집합 `a`에서 요소 `b`를 제거합니다.\n",
    "\n",
    "```\n",
    "a = {1,2,3,5}\n",
    "a.remove(2)\n",
    "print(a)\n",
    "```\n"
   ]
  },
  {
   "cell_type": "markdown",
   "metadata": {
    "id": "RVd-1YE9kC3R"
   },
   "source": [
    "만약 `a`에 포함되어 있지 않은 요소를 제거하면 에러 메시지가 뜹니다.\n",
    "\n",
    "```\n",
    "a = {1,2,3,5}\n",
    "a.remove(4)\n",
    "print(a)\n",
    "```\n"
   ]
  },
  {
   "cell_type": "code",
   "execution_count": 70,
   "metadata": {},
   "outputs": [
    {
     "ename": "KeyError",
     "evalue": "4",
     "output_type": "error",
     "traceback": [
      "\u001b[1;31m---------------------------------------------------------------------------\u001b[0m",
      "\u001b[1;31mKeyError\u001b[0m                                  Traceback (most recent call last)",
      "\u001b[1;32m~\\AppData\\Local\\Temp/ipykernel_6088/1086361599.py\u001b[0m in \u001b[0;36m<module>\u001b[1;34m\u001b[0m\n\u001b[0;32m      1\u001b[0m \u001b[0ma\u001b[0m \u001b[1;33m=\u001b[0m \u001b[1;33m{\u001b[0m\u001b[1;36m1\u001b[0m\u001b[1;33m,\u001b[0m\u001b[1;36m2\u001b[0m\u001b[1;33m,\u001b[0m\u001b[1;36m3\u001b[0m\u001b[1;33m,\u001b[0m\u001b[1;36m5\u001b[0m\u001b[1;33m}\u001b[0m\u001b[1;33m\u001b[0m\u001b[1;33m\u001b[0m\u001b[0m\n\u001b[1;32m----> 2\u001b[1;33m \u001b[0ma\u001b[0m\u001b[1;33m.\u001b[0m\u001b[0mremove\u001b[0m\u001b[1;33m(\u001b[0m\u001b[1;36m4\u001b[0m\u001b[1;33m)\u001b[0m\u001b[1;33m\u001b[0m\u001b[1;33m\u001b[0m\u001b[0m\n\u001b[0m\u001b[0;32m      3\u001b[0m \u001b[0mprint\u001b[0m\u001b[1;33m(\u001b[0m\u001b[0ma\u001b[0m\u001b[1;33m)\u001b[0m\u001b[1;33m\u001b[0m\u001b[1;33m\u001b[0m\u001b[0m\n",
      "\u001b[1;31mKeyError\u001b[0m: 4"
     ]
    }
   ],
   "source": [
    "a = {1,2,3,5}\n",
    "a.remove(4)\n",
    "print(a)"
   ]
  },
  {
   "cell_type": "markdown",
   "metadata": {
    "id": "jKvwT4LbkHNv"
   },
   "source": [
    "## 문제풀이\n",
    "---\n",
    "\n"
   ]
  },
  {
   "cell_type": "markdown",
   "metadata": {
    "id": "TtahL9hvkJNg"
   },
   "source": [
    "**예제 01**\n",
    "\n",
    "부분 집합 A,B,C가 아래와 같습니다. 집합 A,B,C를 정의하세요\n",
    "\n",
    "```\n",
    "A = {1,2,3,5}\n",
    "B = {1,2,3,4}\n",
    "C = {1,3,4,6}\n",
    "```"
   ]
  },
  {
   "cell_type": "code",
   "execution_count": 71,
   "metadata": {
    "id": "xt26w28CkEcY"
   },
   "outputs": [],
   "source": [
    "A = {1,2,3,5}\n",
    "B = {1,2,3,4}\n",
    "C = {1,3,4,6}"
   ]
  },
  {
   "cell_type": "markdown",
   "metadata": {
    "id": "3jDdurvlkL93"
   },
   "source": [
    "**예제 02**\n",
    "\n",
    "다음을 계산하세요.\n",
    "\n",
    "$$ A \\cup C$$ \n"
   ]
  },
  {
   "cell_type": "code",
   "execution_count": 72,
   "metadata": {
    "id": "rwpLPktSkMO2"
   },
   "outputs": [
    {
     "data": {
      "text/plain": [
       "{1, 2, 3, 4, 5, 6}"
      ]
     },
     "execution_count": 72,
     "metadata": {},
     "output_type": "execute_result"
    }
   ],
   "source": [
    "A|C"
   ]
  },
  {
   "cell_type": "markdown",
   "metadata": {
    "id": "ZvybbZ5gkRp6"
   },
   "source": [
    "**예제 03**\n",
    "\n",
    "다음을 계산하세요.\n",
    "\n",
    "$$ A-(B \\cap C)$$ \n"
   ]
  },
  {
   "cell_type": "code",
   "execution_count": 73,
   "metadata": {
    "id": "9v1qHbjYkS3O"
   },
   "outputs": [
    {
     "data": {
      "text/plain": [
       "{2, 5}"
      ]
     },
     "execution_count": 73,
     "metadata": {},
     "output_type": "execute_result"
    }
   ],
   "source": [
    "A-(B&C)"
   ]
  },
  {
   "cell_type": "markdown",
   "metadata": {
    "id": "zI0EYfOkkU1l"
   },
   "source": [
    "**예제 04**\n",
    "\n",
    "다음을 계산하세요.\n",
    "\n",
    "$$ (A-B) \\cup (B \\cup C)$$"
   ]
  },
  {
   "cell_type": "code",
   "execution_count": 74,
   "metadata": {
    "id": "P7aeASLKkWSo"
   },
   "outputs": [
    {
     "data": {
      "text/plain": [
       "{1, 2, 3, 4, 5, 6}"
      ]
     },
     "execution_count": 74,
     "metadata": {},
     "output_type": "execute_result"
    }
   ],
   "source": [
    "(A-B)|(B|C)"
   ]
  },
  {
   "cell_type": "markdown",
   "metadata": {
    "id": "-f1gEYBLkXlX"
   },
   "source": [
    "**예제 05**\n",
    "\n",
    "아래 결과의 모든 요소의 개수를 구하세요\n",
    "\n",
    "$$(A \\cap B) \\cup (B \\cap C) $$"
   ]
  },
  {
   "cell_type": "code",
   "execution_count": 75,
   "metadata": {
    "id": "wcA5NdS1kYSn"
   },
   "outputs": [
    {
     "data": {
      "text/plain": [
       "4"
      ]
     },
     "execution_count": 75,
     "metadata": {},
     "output_type": "execute_result"
    }
   ],
   "source": [
    "len((A&B)|(B&C))"
   ]
  },
  {
   "cell_type": "markdown",
   "metadata": {
    "id": "--90FvFjkZe3"
   },
   "source": [
    "\n",
    "**예제 06**\n",
    "\n",
    "아래 결과의 모든 요소의 합을 구하세요\n",
    "\n",
    "$$(B - A) \\cup (A \\cup C) $$"
   ]
  },
  {
   "cell_type": "code",
   "execution_count": 76,
   "metadata": {
    "id": "M7j_wBpNkaPI"
   },
   "outputs": [
    {
     "data": {
      "text/plain": [
       "21"
      ]
     },
     "execution_count": 76,
     "metadata": {},
     "output_type": "execute_result"
    }
   ],
   "source": [
    "sum((B-A)|(A|C))"
   ]
  },
  {
   "cell_type": "markdown",
   "metadata": {
    "id": "t_rpQcD6lNPF"
   },
   "source": [
    "**예제 07**\n",
    "\n",
    "집합 `S` 가 아래와 같이 정의되어 있을 때 짝수를 제거하고 출력하세요.\n",
    "\n",
    "```\n",
    "S = {1,3,4,5,7,9,10}\n",
    "```"
   ]
  },
  {
   "cell_type": "code",
   "execution_count": 77,
   "metadata": {
    "id": "rCsrdC08lNHj"
   },
   "outputs": [
    {
     "data": {
      "text/plain": [
       "{1, 3, 5, 7, 9}"
      ]
     },
     "execution_count": 77,
     "metadata": {},
     "output_type": "execute_result"
    }
   ],
   "source": [
    "S = {1,3,4,5,7,9,10}\n",
    "S.remove(4)\n",
    "S.remove(10)\n",
    "S"
   ]
  },
  {
   "cell_type": "markdown",
   "metadata": {
    "id": "RIu3NAg9ltsS"
   },
   "source": [
    "**예제 08**\n",
    "\n",
    "`예제 07` 에서 얻은 `S`에 15까지의 모든 홀수를 추가하고 출력하세요.\n"
   ]
  },
  {
   "cell_type": "code",
   "execution_count": 78,
   "metadata": {
    "id": "Sfi0cZj-ltsS"
   },
   "outputs": [
    {
     "data": {
      "text/plain": [
       "{1, 3, 5, 7, 9, 11, 13, 15}"
      ]
     },
     "execution_count": 78,
     "metadata": {},
     "output_type": "execute_result"
    }
   ],
   "source": [
    "S.update([1,3,5,7,9,11,13,15])\n",
    "S"
   ]
  },
  {
   "cell_type": "markdown",
   "metadata": {
    "id": "gCewjsGckb6Q"
   },
   "source": [
    "**예제 09**\n",
    "\n",
    "아래와 같이 리스트가 정의되어 있습니다. 이 리스트에 포함된 숫자의 종류는 몇개인지 구하는 코드를 작성하세요\n",
    "\n",
    "```\n",
    "long_list = [5,3,2,3,4,3,4,5,6,67,7,5,3,4,32,24,42,5,6,8,5,5,5,5,3,3,3,56,3,3,6,7,5,8,8,7,34,55,682,232,7,87,8,5,4,32,12,21,2,2,5,4,5,355,2]\n",
    "```"
   ]
  },
  {
   "cell_type": "code",
   "execution_count": 79,
   "metadata": {
    "id": "dGeKh_i5kcZJ"
   },
   "outputs": [
    {
     "data": {
      "text/plain": [
       "20"
      ]
     },
     "execution_count": 79,
     "metadata": {},
     "output_type": "execute_result"
    }
   ],
   "source": [
    "long_list = [5,3,2,3,4,3,4,5,6,67,7,5,3,4,32,24,42,5,6,8,5,5,5,5,3,3,3,56,3,3,6,7,5,8,8,7,34,55,682,232,7,87,8,5,4,32,12,21,2,2,5,4,5,355,2]\n",
    "unique = set(long_list)\n",
    "len(unique)"
   ]
  },
  {
   "cell_type": "markdown",
   "metadata": {
    "id": "M1GU1Hd3kenw"
   },
   "source": [
    "**예제 10**\n",
    "\n",
    "사용자가 정수 `n`을 입력하면 위에서 정의한 리스트에서 `n`번째로 큰 숫자를 출력하는 코드를 작성하세요 (0번째부터 시작, 중복 없이 `n`번째 큰 숫자를 출력합니다.)\n",
    "\n",
    "```\n",
    ">> n을 입력하세요:3  \n",
    "3 번째 작은 숫자는 9 입니다.\n",
    "```\n",
    "\n",
    "```\n",
    ">> n을 입력하세요:5  \n",
    "5 번째 작은 숫자는 20 입니다.\n",
    "```\n"
   ]
  },
  {
   "cell_type": "code",
   "execution_count": 80,
   "metadata": {
    "id": "alRaEWpQke4Q"
   },
   "outputs": [
    {
     "name": "stdout",
     "output_type": "stream",
     "text": [
      "[682, 355, 232, 87, 67, 56, 55, 42, 34, 32, 24, 21, 12, 8, 7, 6, 5, 4, 3, 2]\n",
      "n 번째로 높은 숫자를 출력합니다 n = 1\n"
     ]
    },
    {
     "data": {
      "text/plain": [
       "682"
      ]
     },
     "execution_count": 80,
     "metadata": {},
     "output_type": "execute_result"
    }
   ],
   "source": [
    "unique_list = list(unique)\n",
    "unique_list.sort(reverse=1)\n",
    "print(unique_list)\n",
    "num = int(input(\"n 번째로 높은 숫자를 출력합니다 n = \"))\n",
    "unique_list[num-1]"
   ]
  },
  {
   "cell_type": "code",
   "execution_count": null,
   "metadata": {},
   "outputs": [],
   "source": []
  }
 ],
 "metadata": {
  "colab": {
   "authorship_tag": "ABX9TyP01r/8vBsK2UO9rnXebLh7",
   "collapsed_sections": [],
   "name": "2-5.파이썬의 자료형:집합.ipynb",
   "provenance": []
  },
  "kernelspec": {
   "display_name": "Python 3 (ipykernel)",
   "language": "python",
   "name": "python3"
  },
  "language_info": {
   "codemirror_mode": {
    "name": "ipython",
    "version": 3
   },
   "file_extension": ".py",
   "mimetype": "text/x-python",
   "name": "python",
   "nbconvert_exporter": "python",
   "pygments_lexer": "ipython3",
   "version": "3.9.7"
  },
  "toc": {
   "base_numbering": 1,
   "nav_menu": {},
   "number_sections": true,
   "sideBar": true,
   "skip_h1_title": false,
   "title_cell": "Table of Contents",
   "title_sidebar": "Contents",
   "toc_cell": false,
   "toc_position": {},
   "toc_section_display": true,
   "toc_window_display": false
  },
  "varInspector": {
   "cols": {
    "lenName": 16,
    "lenType": 16,
    "lenVar": 40
   },
   "kernels_config": {
    "python": {
     "delete_cmd_postfix": "",
     "delete_cmd_prefix": "del ",
     "library": "var_list.py",
     "varRefreshCmd": "print(var_dic_list())"
    },
    "r": {
     "delete_cmd_postfix": ") ",
     "delete_cmd_prefix": "rm(",
     "library": "var_list.r",
     "varRefreshCmd": "cat(var_dic_list()) "
    }
   },
   "types_to_exclude": [
    "module",
    "function",
    "builtin_function_or_method",
    "instance",
    "_Feature"
   ],
   "window_display": false
  }
 },
 "nbformat": 4,
 "nbformat_minor": 1
}
