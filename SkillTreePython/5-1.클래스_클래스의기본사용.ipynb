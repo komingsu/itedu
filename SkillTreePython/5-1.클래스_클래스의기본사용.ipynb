{
 "cells": [
  {
   "cell_type": "markdown",
   "metadata": {
    "id": "jgFAOz-Tw1VI"
   },
   "source": [
    "5-1.클래스:클래스의 기본 사용\n",
    "---\n",
    "* 날짜: 2022-04-06\n",
    "* 이름: 고민수\n"
   ]
  },
  {
   "cell_type": "markdown",
   "metadata": {
    "id": "roC8A6Ro6THT"
   },
   "source": [
    "## 개념정리\n",
    "---\n",
    "\n",
    "* 안의 함수를 사용하는것도\n",
    "* 안의 변수를 사용하는것도\n",
    "\n",
    "self. 를 붙여서 사용\n",
    "\n",
    "---"
   ]
  },
  {
   "cell_type": "markdown",
   "metadata": {
    "id": "Ee54frgJYOr8"
   },
   "source": [
    "프로그래밍 언어는 크게 두가지 실행 방식으로 나뉠수 있습니다.\n",
    "\n",
    "* **절차지향적 코드**\n",
    "  - 위에서부터 아래로 순서대로 코드가 진행된다.\n",
    "  - ex) c++는 절차지향만을 사용\n",
    "\n",
    "* **객체지향적 코드**\n",
    "  - 객체지향은 객체를 만들어서 이 객체를 언제, 어디서든, 몇개든 사용할 수 있도록 하는 것\n",
    "  - ex) 자바, 파이썬 등\n",
    "\n"
   ]
  },
  {
   "cell_type": "markdown",
   "metadata": {
    "id": "4azv1P74n23k"
   },
   "source": [
    "###**(1) 정의**\n",
    "\n",
    "클래스는 아래와 같이 정의 할 수 있습니다. \n",
    "\n",
    "\n",
    "```\n",
    "class Student:\n",
    "    pass\n",
    "```\n",
    "\n"
   ]
  },
  {
   "cell_type": "code",
   "execution_count": 1,
   "metadata": {
    "id": "myVCV-mSn23l"
   },
   "outputs": [],
   "source": [
    "class Student:\n",
    "    pass"
   ]
  },
  {
   "cell_type": "markdown",
   "metadata": {
    "id": "7jJg3FA2iRtY"
   },
   "source": [
    "클래스를 만들어 놓으면 틀만 만들어 놓은것과 같습니다. 이제 틀을 이용하여 인스턴스를 만들어 봅시다. "
   ]
  },
  {
   "cell_type": "markdown",
   "metadata": {
    "id": "KCOmBjQRn23l"
   },
   "source": [
    "###**(2) 인스턴스 생성**\n",
    "\n",
    "인스턴스란 위에서 만든 클래스라는 틀을 이용해 똑같은 일을 하는 함수들을 찍어내는 것을 말합니다. Student 클래스의 인스턴스를 생성하고 이를 me 라는 변수로 바인딩합시다.\n",
    "\n",
    "```\n",
    "me = Student()\n",
    "```\n",
    "\n"
   ]
  },
  {
   "cell_type": "code",
   "execution_count": 2,
   "metadata": {
    "id": "HJi-ra_wn23l"
   },
   "outputs": [],
   "source": [
    "me = Student()"
   ]
  },
  {
   "cell_type": "markdown",
   "metadata": {
    "id": "ZkrmiFLzlWzX"
   },
   "source": [
    "이제부터는 `me`라는 객체를 이용해서 클래스 내부의 여러가지 기능을 사용할 수 있습니다. 하지만 우리가 방금 만든 `Student`라는 클래스는 아무런 기능을 하지 않습니다. 기능을 할 수 있도록 클래스 내부에 속성을 추가해 봅시다. "
   ]
  },
  {
   "cell_type": "markdown",
   "metadata": {
    "id": "QZ3_evMHn23l"
   },
   "source": [
    "###**(3) 속성**"
   ]
  },
  {
   "cell_type": "markdown",
   "metadata": {
    "id": "PDR3CtnZoUj1"
   },
   "source": [
    "#### **초기화 메서드**\n",
    "\n",
    "\n",
    "`__init__` 메서드는 초기화 메서드입니다. 클래스가 생성되면 `__init__` 메서드가 자동적으로 실행되며 클래스의 값을 지정된 값으로 초기화 합니다. 이 때 값은 인스턴스를 만들 때 넣어준 인자로 만듭니다. \n",
    "\n",
    "`Student` 클래스에 이를 이용해 초기값을 세팅해 봅시다. 학생의 이름과 수강 과목, 그리고 레벨을 정의합시다. 이름과 수강 과목은 인스턴스를 생성할 때 입려개하도록 하고, 레벨은 0부터 시작하도록 합시다.\n",
    "\n",
    "\n",
    "```\n",
    "class Student():\n",
    "    def __init__(self, name, subject):\n",
    "      self.name = name\n",
    "      self.subject = subject\n",
    "      self.level = 0\n",
    "\n",
    "me = Student(\"김모모\", \"기초반\")\n",
    "\n",
    "```"
   ]
  },
  {
   "cell_type": "markdown",
   "metadata": {
    "id": "P3KmS4awqk6E"
   },
   "source": [
    "* 클래스 생성"
   ]
  },
  {
   "cell_type": "code",
   "execution_count": 4,
   "metadata": {
    "id": "tUKx8JbCqk6F"
   },
   "outputs": [],
   "source": [
    "class Student():\n",
    "    def __init__(self, name, subject):\n",
    "        self.name = name\n",
    "        self.subject = subject\n",
    "        self.level = 0\n",
    "\n",
    "me = Student(\"김모모\", \"기초반\")"
   ]
  },
  {
   "cell_type": "markdown",
   "metadata": {
    "id": "NUcDQ1mUqk6F"
   },
   "source": [
    "* 인스턴스 생성"
   ]
  },
  {
   "cell_type": "code",
   "execution_count": 5,
   "metadata": {
    "id": "KKAusE2Hqk6F"
   },
   "outputs": [
    {
     "ename": "IndentationError",
     "evalue": "expected an indented block (Temp/ipykernel_11116/3102263091.py, line 2)",
     "output_type": "error",
     "traceback": [
      "\u001b[1;36m  File \u001b[1;32m\"C:\\Users\\user\\AppData\\Local\\Temp/ipykernel_11116/3102263091.py\"\u001b[1;36m, line \u001b[1;32m2\u001b[0m\n\u001b[1;33m    def __init__(self, name, subject):\u001b[0m\n\u001b[1;37m                                      ^\u001b[0m\n\u001b[1;31mIndentationError\u001b[0m\u001b[1;31m:\u001b[0m expected an indented block\n"
     ]
    }
   ],
   "source": [
    "class Student():\n",
    "    def __init__(self, name, subject):\n",
    "        self.name = name\n",
    "        self.subject = subject\n",
    "        self.level = 0\n",
    "    "
   ]
  },
  {
   "cell_type": "code",
   "execution_count": 6,
   "metadata": {},
   "outputs": [],
   "source": [
    "me = Student(\"고민수\", \"딥너닝\")"
   ]
  },
  {
   "cell_type": "markdown",
   "metadata": {
    "id": "qjwD6iv4n23m"
   },
   "source": [
    "####**인스턴스 속성 접근**\n",
    "\n",
    "위에서 생성한 인스턴스의 속성들 name, subject, level에 접근하고 출력합니다. \n",
    "```\n",
    "me.name, me.subject, me.level\n",
    "```"
   ]
  },
  {
   "cell_type": "code",
   "execution_count": 7,
   "metadata": {
    "id": "7tuZarTSn23m"
   },
   "outputs": [
    {
     "data": {
      "text/plain": [
       "(0, '고민수', '딥너닝')"
      ]
     },
     "execution_count": 7,
     "metadata": {},
     "output_type": "execute_result"
    }
   ],
   "source": [
    "me.level, me.name, me.subject"
   ]
  },
  {
   "cell_type": "markdown",
   "metadata": {
    "id": "p0QGxnV3n23m"
   },
   "source": [
    "###**(4) 클래스 메서드**\n",
    "\n",
    "class 안에서 메서드를 추가 할 수 있습니다. Student 클래스 안에 인사를 출력하는 `introduce` 메서드를 추가해보겠습니다. \n",
    "클래스 안에 메서드를 만들 때는 기본적으로 메서드 안에 `self`가 들어가야 합니다. \n",
    "\n",
    "```\n",
    "# 클래스 생성\n",
    "class Student():\n",
    "    def __init__(self, name, subject):\n",
    "      self.name = name\n",
    "      self.subject = subject\n",
    "      self.level = 0\n",
    "\n",
    "    def introduce(self):\n",
    "      print(f\"안녕하세요. {self.subject} 수업을 듣는 {self.name} 입니다.\")\n",
    "\n",
    "# 인스턴스 생성\n",
    "me = Student(\"김모모\", \"기초반\")\n",
    "\n",
    "# 메서드 실행\n",
    "me.introduce()\n",
    "```"
   ]
  },
  {
   "cell_type": "markdown",
   "metadata": {
    "id": "7st1KEFjn23m"
   },
   "source": [
    "* 클래스 생성"
   ]
  },
  {
   "cell_type": "code",
   "execution_count": 22,
   "metadata": {
    "id": "9X7zV8mln23m"
   },
   "outputs": [],
   "source": [
    "class Student():\n",
    "    def __init__(self, name, subject):\n",
    "        self.name = name\n",
    "        self.subject = subject\n",
    "        self.level = 0\n",
    "\n",
    "    def introduce(self):\n",
    "        print(f\"안녕하세요. {self.subject} 수업을 듣는 {self.name} 입니다.\")"
   ]
  },
  {
   "cell_type": "markdown",
   "metadata": {
    "id": "ESSI1NKon23m"
   },
   "source": [
    "* 인스턴스 생성"
   ]
  },
  {
   "cell_type": "code",
   "execution_count": 23,
   "metadata": {
    "id": "zYkKsuupn23m"
   },
   "outputs": [],
   "source": [
    "# 인스턴스 생성\n",
    "me = Student(\"김모모\", \"기초반\")"
   ]
  },
  {
   "cell_type": "markdown",
   "metadata": {
    "id": "jKNKPdlon23m"
   },
   "source": [
    "* `introduct()` 메서드 실행"
   ]
  },
  {
   "cell_type": "code",
   "execution_count": 27,
   "metadata": {
    "id": "aR_cJ1LTnpHk"
   },
   "outputs": [
    {
     "name": "stdout",
     "output_type": "stream",
     "text": [
      "안녕하세요. 기초반 수업을 듣는 김모모 입니다.\n"
     ]
    }
   ],
   "source": [
    "# 메서드 실행\n",
    "me.introduce()"
   ]
  },
  {
   "cell_type": "markdown",
   "metadata": {
    "id": "b-Sq8YL-s8Oy"
   },
   "source": [
    "#### **또다른 인스턴스 생성**\n",
    "\n",
    "앞서 클래스 자체는 틀이고 인스턴스는 그 틀에서 찍어낸 함수와 같다 했습니다. `me`라는 인스턴스 말고 `you`라는 인스턴스를 생성해 봅시다. \n",
    "\n",
    "* 인스턴스 생성\n",
    "\n",
    "```\n",
    "you = Student(\"김학생\", \"수반\")\n",
    "\n",
    "```"
   ]
  },
  {
   "cell_type": "code",
   "execution_count": 28,
   "metadata": {
    "id": "-lnmBLFRbFbl"
   },
   "outputs": [],
   "source": [
    "you = Student(\"김모\", \"기초\")"
   ]
  },
  {
   "cell_type": "markdown",
   "metadata": {
    "id": "2q47vsMfvTYM"
   },
   "source": [
    "* introduce() 메서드 실행\n",
    "\n",
    "```\n",
    "you.introuduce()\n",
    "```"
   ]
  },
  {
   "cell_type": "code",
   "execution_count": 30,
   "metadata": {
    "id": "XogKQrBHvQ_-"
   },
   "outputs": [
    {
     "name": "stdout",
     "output_type": "stream",
     "text": [
      "안녕하세요. 기초 수업을 듣는 김모 입니다.\n"
     ]
    }
   ],
   "source": [
    "you.introduce()"
   ]
  },
  {
   "cell_type": "markdown",
   "metadata": {
    "id": "J1CXlJND_9tJ"
   },
   "source": [
    "#### **메서드에 입력변수 추가하기**\n",
    "\n",
    "이번에는 클래스에 레벨을 올리는 `levelup` 메서드를 추가해봅시다. 이 메서드에는 레벨을 얼만큼 올릴지를 인풋으로 받을 겁니다. \n",
    "\n",
    "```\n",
    "# 클래스 생성\n",
    "class Student():\n",
    "    def __init__(self, name, subject):\n",
    "      self.name = name\n",
    "      self.subject = subject\n",
    "      self.level = 0\n",
    "\n",
    "    def introduce(self):\n",
    "      print(f\"안녕하세요. {self.subject} 수업을 듣는 {self.name} 입니다.\")\n",
    "\n",
    "    def levelup(self, l)\n",
    "      level_before = self.level\n",
    "      self.level = self.level+l\n",
    "      print(f\"{level_before}에서 {self.level}로 레벨업 했습니다.\")\n",
    "\n",
    "# 인스턴스 생성\n",
    "me = Student(\"김모모\", \"기초반\")\n",
    "\n",
    "# 메서드 실행\n",
    "me.introduce()\n",
    "\n",
    "```"
   ]
  },
  {
   "cell_type": "markdown",
   "metadata": {
    "id": "CsYlr8M-A9Sr"
   },
   "source": [
    "* 클래스 생성"
   ]
  },
  {
   "cell_type": "code",
   "execution_count": 34,
   "metadata": {
    "id": "6L8J9AwLA9Ss"
   },
   "outputs": [
    {
     "name": "stdout",
     "output_type": "stream",
     "text": [
      "안녕하세요. 기초반 수업을 듣는 김모모 입니다.\n"
     ]
    }
   ],
   "source": [
    "class Student():\n",
    "    def __init__(self, name, subject):\n",
    "        self.name = name\n",
    "        self.subject = subject\n",
    "        self.level = 0\n",
    "\n",
    "    def introduce(self):\n",
    "        print(f\"안녕하세요. {self.subject} 수업을 듣는 {self.name} 입니다.\")\n",
    "\n",
    "    def levelup(self, i):\n",
    "        level_before = self.level\n",
    "        self.level = self.level+i\n",
    "        print(f\"{level_before}에서 {self.level}로 레벨업 했습니다.\")\n",
    "\n",
    "\n",
    "\n",
    "# 메서드 실행\n",
    "me.introduce()"
   ]
  },
  {
   "cell_type": "markdown",
   "metadata": {
    "id": "5NI7YvkWA9Ss"
   },
   "source": [
    "* 인스턴스 생성"
   ]
  },
  {
   "cell_type": "code",
   "execution_count": 35,
   "metadata": {
    "id": "KLPvCX4YA9Ss"
   },
   "outputs": [],
   "source": [
    "# 인스턴스 생성\n",
    "he = Student(\"밍수\", \"손오반\")"
   ]
  },
  {
   "cell_type": "markdown",
   "metadata": {
    "id": "areIEkhtA9Ss"
   },
   "source": [
    "* `levelup()` 메서드 실행\n",
    "\n",
    "`levelup` 메서드는 `level_step` 이라는 변수를 필요로 합니다. 따라서 몇레벨을 업할 것인지 적어줍니다."
   ]
  },
  {
   "cell_type": "code",
   "execution_count": 37,
   "metadata": {
    "id": "eFB8RWhTA9Ss"
   },
   "outputs": [
    {
     "name": "stdout",
     "output_type": "stream",
     "text": [
      "5에서 10로 레벨업 했습니다.\n"
     ]
    }
   ],
   "source": [
    "he.levelup(5)"
   ]
  },
  {
   "cell_type": "markdown",
   "metadata": {
    "id": "Wo9d9vi6EIP9"
   },
   "source": [
    "* `self.level` 값 확인\n",
    "\n",
    "level 초기 값을 0으로 설정했습니다. levelup 메서드를 이용하여 level 이라는 속성값을 변경하였으니 이를 확인해 봅시다."
   ]
  },
  {
   "cell_type": "code",
   "execution_count": 39,
   "metadata": {
    "id": "VdIrwqXNvllc"
   },
   "outputs": [
    {
     "data": {
      "text/plain": [
       "10"
      ]
     },
     "execution_count": 39,
     "metadata": {},
     "output_type": "execute_result"
    }
   ],
   "source": [
    "he.level"
   ]
  },
  {
   "cell_type": "code",
   "execution_count": 77,
   "metadata": {},
   "outputs": [],
   "source": [
    "\n",
    "class 인생게임():\n",
    "    def __init__(self, nickname):\n",
    "        self.nickname = nickname\n",
    "        self.money = 100000\n",
    "        self.age = 20\n",
    "        self.energe = 100\n",
    "        self.day = 1\n",
    "        self.skill = {\"요리\" : 1, \"청소\" : 1, \"수학\":0}\n",
    "        \n",
    "        \n",
    "    def introduce(self):\n",
    "        print(f\"제 이름은 {self.nickname} 입니다.\")\n",
    "        print(f\"저는 {self.money}원 가지고 있습니다\")\n",
    "        print(f\"제 나이는 {self.age}살 입니다\")\n",
    "        print(f\"오늘은 20살이 된지 {self.day}일 째 입니다\")\n",
    "        print(f\"저는 지금 기력이 {self.energe}만큼 있습니다.\")\n",
    "        print(f\"저는 {self.skill}와 같은 스킬을 가지고 있습니다.\")\n",
    "        \n",
    "    \n",
    "    ## 로또 돌리기\n",
    "    def lottery(self):\n",
    "        import random\n",
    "        print()\n",
    "        print()\n",
    "        print(\"인생 한방, 20배 영차영차 로또\")\n",
    "        lotto_num = random.randint(1,23)\n",
    "        my_num = int(input(\"번호를 입력해주세요(1~20) : \"))\n",
    "        if lotto_num == my_num:\n",
    "            self.money += 40000\n",
    "            print(self.money)\n",
    "            print(\"이걸 맞춰? 40000원 입금되셨습니다.\")\n",
    "        else:\n",
    "            print(\"땡\")\n",
    "            print(self.money)\n",
    "            print()\n",
    "            print()\n",
    "        self.days_go()\n",
    "        \n",
    "        \n",
    "    def lotto(self, n):\n",
    "        if n <=5:\n",
    "            money_before = self.money\n",
    "            self.money -= 2000*n\n",
    "            print(self.money)\n",
    "            print(f\"{2000*n}을 지불하셨습니다.\")\n",
    "            self.energe -= 5*n\n",
    "            print(self.energe)\n",
    "            print(f\"기력을 {5*n} 소모하셨습니다.\")\n",
    "            for i in range(n):\n",
    "                self.lottery()\n",
    "        else:\n",
    "            print(\"로또는 한번에 최대 5번 까지 가능합니다.\")     \n",
    "        self.days_go()\n",
    "    \n",
    "    def days_go(self):\n",
    "        if self.energe <= 0:\n",
    "            self.day += 1\n",
    "            print(f\"오늘은 20살이 된지 {self.day}째 입니다.\")\n",
    "            print(\"기력이 떨어졌습니다. 취침합니다.\")\n",
    "            self.energe = 100\n",
    "            print(self.energe)\n",
    "            print(\"아우 개운해, 기력 100\")\n",
    "        else:\n",
    "            pass\n",
    "    \n",
    "\n",
    "    \n",
    "    \n",
    "    def alba(self):\n",
    "        print(\"하프타임 50000원, 풀타임 100000원\")\n",
    "        print(\"하프타임 :1, 풀타임:2\")\n",
    "        alba_num = int(input(\"알바 종류를 골라주세요 : \"))\n",
    "        \n",
    "        if alba_num == 1:\n",
    "            \n",
    "            if self.energe < 40:\n",
    "                print(\"기력이 부족합니다.\")\n",
    "                pass\n",
    "            else:\n",
    "                self.energe -= 40\n",
    "                print(self.energe)\n",
    "                print(\"기력이 40 감소합니다.\")\n",
    "                print(\"어후\")\n",
    "                self.money += 50000\n",
    "                print(self.money)\n",
    "                print(\"50000원을 벌었습니다.\")\n",
    "                \n",
    "        elif alba_num == 2:\n",
    "            \n",
    "            if self.energe < 75:\n",
    "                print(\"기력이 부족합니다.\")\n",
    "                pass\n",
    "            else:\n",
    "                self.energe -= 75\n",
    "                print(self.energe)\n",
    "                print(\"기력이 75 감소합니다.\")\n",
    "                print(\"어따 대다\")\n",
    "                self.money += 100000\n",
    "                print(self.money)\n",
    "                print(\"100000원을 벌었습니다.\")\n",
    "        else:\n",
    "            pass\n",
    "        \n",
    "        self.days_go()\n",
    "        \n",
    "    \n",
    "    def get_skill(self):\n",
    "        \n",
    "        if self.money >= 120000 & self.energe > 50:\n",
    "            get_skill = input(\"배우고 싶은 스킬을 입력하세요\")\n",
    "            self.skill[get_skill]=1\n",
    "            print(f\"새로운 스킬을 배웠습니다. : {new_skill}\")\n",
    "            print(self.skill)\n",
    "            print(\"학원비 120000원이 차감됩니다.\")\n",
    "            self.money -= 120000\n",
    "            print(self.money)\n",
    "            print(\"기력이 50 감소합니다.\")\n",
    "        else:\n",
    "            print(\"120000원과 기력 50이 필요합니다.\")\n",
    "        self.days_go()\n",
    "    \n",
    "    def math_study(self):\n",
    "        \n",
    "        print(\"인생에서 가장 중요한건 사고력이지\")\n",
    "        print(\"수학을 배우러 왔습니다.\")\n",
    "        \n",
    "        if self.money > 200000 & self.energe > 80:\n",
    "            print(\"학원비 200000원이 차감됩니다.\")\n",
    "            self.money -= 120000\n",
    "            print(self.money)\n",
    "            print(\"기력이 80 감소합니다.\")\n",
    "            self.energe -= 80\n",
    "            print(self.energe)\n",
    "            print(\"사고력, 수학이 1 오릅니다.\")\n",
    "            self.skill[\"수학\"]+=1\n",
    "            print(self.skill[\"수학\"])\n",
    "        else:\n",
    "            print(\"200000원과 기력 80이 필요합니다.\")\n",
    "        self.days_go()\n",
    "            \n",
    "    \n",
    "            \n",
    "            "
   ]
  },
  {
   "cell_type": "code",
   "execution_count": 78,
   "metadata": {},
   "outputs": [],
   "source": [
    "ming = 인생게임(\"ming\")"
   ]
  },
  {
   "cell_type": "code",
   "execution_count": 79,
   "metadata": {},
   "outputs": [
    {
     "name": "stdout",
     "output_type": "stream",
     "text": [
      "제 이름은 ming 입니다.\n",
      "저는 100000원 가지고 있습니다\n",
      "제 나이는 20살 입니다\n",
      "오늘은 20살이 된지 1일 째 입니다\n",
      "저는 지금 기력이 100만큼 있습니다.\n",
      "저는 {'요리': 1, '청소': 1, '수학': 0}와 같은 스킬을 가지고 있습니다.\n"
     ]
    }
   ],
   "source": [
    "ming.introduce()"
   ]
  },
  {
   "cell_type": "code",
   "execution_count": 80,
   "metadata": {},
   "outputs": [
    {
     "name": "stdout",
     "output_type": "stream",
     "text": [
      "96000\n",
      "4000을 지불하셨습니다.\n",
      "90\n",
      "기력을 10 소모하셨습니다.\n",
      "\n",
      "\n",
      "인생 한방, 20배 영차영차 로또\n",
      "번호를 입력해주세요(1~20) : 9\n",
      "136000\n",
      "이걸 맞춰? 40000원 입금되셨습니다.\n",
      "\n",
      "\n",
      "인생 한방, 20배 영차영차 로또\n",
      "번호를 입력해주세요(1~20) : 8\n",
      "땡\n",
      "136000\n",
      "\n",
      "\n"
     ]
    }
   ],
   "source": [
    "ming.lotto(2)"
   ]
  },
  {
   "cell_type": "code",
   "execution_count": 81,
   "metadata": {},
   "outputs": [
    {
     "name": "stdout",
     "output_type": "stream",
     "text": [
      "하프타임 50000원, 풀타임 100000원\n",
      "하프타임 :1, 풀타임:2\n",
      "알바 종류를 골라주세요 : 2\n",
      "15\n",
      "기력이 75 감소합니다.\n",
      "어따 대다\n",
      "236000\n",
      "100000원을 벌었습니다.\n"
     ]
    }
   ],
   "source": [
    "ming.alba()"
   ]
  },
  {
   "cell_type": "code",
   "execution_count": 82,
   "metadata": {},
   "outputs": [
    {
     "name": "stdout",
     "output_type": "stream",
     "text": [
      "제 이름은 ming 입니다.\n",
      "저는 236000원 가지고 있습니다\n",
      "제 나이는 20살 입니다\n",
      "오늘은 20살이 된지 1일 째 입니다\n",
      "저는 지금 기력이 15만큼 있습니다.\n",
      "저는 {'요리': 1, '청소': 1, '수학': 0}와 같은 스킬을 가지고 있습니다.\n"
     ]
    }
   ],
   "source": [
    "ming.introduce()"
   ]
  },
  {
   "cell_type": "code",
   "execution_count": 83,
   "metadata": {},
   "outputs": [
    {
     "name": "stdout",
     "output_type": "stream",
     "text": [
      "230000\n",
      "6000을 지불하셨습니다.\n",
      "0\n",
      "기력을 15 소모하셨습니다.\n",
      "\n",
      "\n",
      "인생 한방, 20배 영차영차 로또\n",
      "번호를 입력해주세요(1~20) : 8\n",
      "땡\n",
      "230000\n",
      "\n",
      "\n",
      "오늘은 20살이 된지 2째 입니다.\n",
      "기력이 떨어졌습니다. 취침합니다.\n",
      "100\n",
      "아우 개운해, 기력 100\n",
      "\n",
      "\n",
      "인생 한방, 20배 영차영차 로또\n",
      "번호를 입력해주세요(1~20) : 8\n",
      "땡\n",
      "230000\n",
      "\n",
      "\n",
      "\n",
      "\n",
      "인생 한방, 20배 영차영차 로또\n",
      "번호를 입력해주세요(1~20) : 8\n",
      "땡\n",
      "230000\n",
      "\n",
      "\n"
     ]
    }
   ],
   "source": [
    "ming.lotto(3)"
   ]
  },
  {
   "cell_type": "code",
   "execution_count": 84,
   "metadata": {},
   "outputs": [
    {
     "name": "stdout",
     "output_type": "stream",
     "text": [
      "하프타임 50000원, 풀타임 100000원\n",
      "하프타임 :1, 풀타임:2\n",
      "알바 종류를 골라주세요 : 2\n",
      "25\n",
      "기력이 75 감소합니다.\n",
      "어따 대다\n",
      "330000\n",
      "100000원을 벌었습니다.\n"
     ]
    }
   ],
   "source": [
    "ming.alba()"
   ]
  },
  {
   "cell_type": "code",
   "execution_count": 85,
   "metadata": {},
   "outputs": [
    {
     "name": "stdout",
     "output_type": "stream",
     "text": [
      "320000\n",
      "10000을 지불하셨습니다.\n",
      "0\n",
      "기력을 25 소모하셨습니다.\n",
      "\n",
      "\n",
      "인생 한방, 20배 영차영차 로또\n",
      "번호를 입력해주세요(1~20) : 9\n",
      "땡\n",
      "320000\n",
      "\n",
      "\n",
      "오늘은 20살이 된지 3째 입니다.\n",
      "기력이 떨어졌습니다. 취침합니다.\n",
      "100\n",
      "아우 개운해, 기력 100\n",
      "\n",
      "\n",
      "인생 한방, 20배 영차영차 로또\n",
      "번호를 입력해주세요(1~20) : 8\n",
      "땡\n",
      "320000\n",
      "\n",
      "\n",
      "\n",
      "\n",
      "인생 한방, 20배 영차영차 로또\n",
      "번호를 입력해주세요(1~20) : 9\n",
      "땡\n",
      "320000\n",
      "\n",
      "\n",
      "\n",
      "\n",
      "인생 한방, 20배 영차영차 로또\n",
      "번호를 입력해주세요(1~20) : 8\n",
      "땡\n",
      "320000\n",
      "\n",
      "\n",
      "\n",
      "\n",
      "인생 한방, 20배 영차영차 로또\n",
      "번호를 입력해주세요(1~20) : 7\n",
      "땡\n",
      "320000\n",
      "\n",
      "\n"
     ]
    }
   ],
   "source": [
    "ming.lotto(5)"
   ]
  },
  {
   "cell_type": "code",
   "execution_count": 94,
   "metadata": {},
   "outputs": [
    {
     "name": "stdout",
     "output_type": "stream",
     "text": [
      "인생에서 가장 중요한건 사고력이지\n",
      "수학을 배우러 왔습니다.\n",
      "200000원과 기력 80이 필요합니다.\n"
     ]
    }
   ],
   "source": [
    "ming.math_study()"
   ]
  },
  {
   "cell_type": "code",
   "execution_count": 95,
   "metadata": {},
   "outputs": [
    {
     "name": "stdout",
     "output_type": "stream",
     "text": [
      "제 이름은 ming 입니다.\n",
      "저는 320000원 가지고 있습니다\n",
      "제 나이는 20살 입니다\n",
      "오늘은 20살이 된지 3일 째 입니다\n",
      "저는 지금 기력이 100만큼 있습니다.\n",
      "저는 {'요리': 1, '청소': 1, '수학': 0}와 같은 스킬을 가지고 있습니다.\n"
     ]
    }
   ],
   "source": [
    "ming.introduce()"
   ]
  },
  {
   "cell_type": "code",
   "execution_count": null,
   "metadata": {},
   "outputs": [],
   "source": []
  },
  {
   "cell_type": "code",
   "execution_count": null,
   "metadata": {},
   "outputs": [],
   "source": []
  }
 ],
 "metadata": {
  "colab": {
   "authorship_tag": "ABX9TyPKh6mfWXfQInI0o9cnZiL6",
   "collapsed_sections": [],
   "name": "5-1.클래스:클래스의기본사용.ipynb",
   "provenance": []
  },
  "kernelspec": {
   "display_name": "Python 3 (ipykernel)",
   "language": "python",
   "name": "python3"
  },
  "language_info": {
   "codemirror_mode": {
    "name": "ipython",
    "version": 3
   },
   "file_extension": ".py",
   "mimetype": "text/x-python",
   "name": "python",
   "nbconvert_exporter": "python",
   "pygments_lexer": "ipython3",
   "version": "3.9.12"
  },
  "toc": {
   "base_numbering": 1,
   "nav_menu": {},
   "number_sections": true,
   "sideBar": true,
   "skip_h1_title": false,
   "title_cell": "Table of Contents",
   "title_sidebar": "Contents",
   "toc_cell": false,
   "toc_position": {},
   "toc_section_display": true,
   "toc_window_display": false
  },
  "varInspector": {
   "cols": {
    "lenName": 16,
    "lenType": 16,
    "lenVar": 40
   },
   "kernels_config": {
    "python": {
     "delete_cmd_postfix": "",
     "delete_cmd_prefix": "del ",
     "library": "var_list.py",
     "varRefreshCmd": "print(var_dic_list())"
    },
    "r": {
     "delete_cmd_postfix": ") ",
     "delete_cmd_prefix": "rm(",
     "library": "var_list.r",
     "varRefreshCmd": "cat(var_dic_list()) "
    }
   },
   "types_to_exclude": [
    "module",
    "function",
    "builtin_function_or_method",
    "instance",
    "_Feature"
   ],
   "window_display": false
  }
 },
 "nbformat": 4,
 "nbformat_minor": 1
}
