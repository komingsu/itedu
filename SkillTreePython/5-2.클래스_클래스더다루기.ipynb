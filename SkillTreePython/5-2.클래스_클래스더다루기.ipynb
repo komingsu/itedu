{
 "cells": [
  {
   "cell_type": "markdown",
   "metadata": {
    "id": "jgFAOz-Tw1VI"
   },
   "source": [
    "# 5-2.클래스: 클래스 더 다루기\n",
    "---\n",
    "* 날짜: 2022-04-07\n",
    "* 이름: 고민수\n"
   ]
  },
  {
   "cell_type": "markdown",
   "metadata": {
    "id": "roC8A6Ro6THT"
   },
   "source": [
    "## 개념정리\n",
    "---\n",
    "\n"
   ]
  },
  {
   "cell_type": "markdown",
   "metadata": {
    "id": "Ee54frgJYOr8"
   },
   "source": [
    "저번 시간까지 배운 클래스 내용만으로도 충분히 클래스를 만들고 코드를 읽을 수 있습니다. 하지만 클래스에는 더 많은 유용한 기능들이 있습니다. 이를 이해하면 더 쉽고 유용하게 파이썬 코드를 작성할 수 있을 겁니다. \n",
    "\n",
    "\n"
   ]
  },
  {
   "cell_type": "markdown",
   "metadata": {
    "id": "4azv1P74n23k"
   },
   "source": [
    "###**(1) 매직 메소드**\n",
    "\n",
    "매직 메소드는 파이썬에서 미리 정의해 놓은 메소드입니다. 이 메소드들은 각각이 지니는 고유 기능들이 있습니다.\n",
    "\n",
    "지난 시간에 배운 `__init__`이라는 메소드 또한 매직 메소드의 일종입니다. \n",
    "\n",
    "매직메소드 개수는 꽤 많고 각각 복잡한 일들을 하기 때문에 이번시간에 다 다루지는 않겠습니다. 다만 자주 쓰이는 몇가지 메소드를 함께 보도록 합니다.\n",
    "\n",
    "\n"
   ]
  },
  {
   "cell_type": "markdown",
   "metadata": {
    "id": "6E02cLotHrTX"
   },
   "source": [
    "#### **클래스의 덧셈**\n",
    "\n",
    "특정 숫자를 소개하는 클래스 `Mynumber()`를 아래와 같이 정의해 봅시다. \n",
    "\n",
    "```\n",
    "class MyNumber():\n",
    "  def __init__(self, num):\n",
    "    self.num = num\n",
    "  def intro(self):\n",
    "    print(f\"my num is {self.num}\")\n",
    "```"
   ]
  },
  {
   "cell_type": "code",
   "execution_count": 1,
   "metadata": {
    "id": "myVCV-mSn23l"
   },
   "outputs": [],
   "source": [
    "class MyNumber():\n",
    "    def __init__(self, num):\n",
    "        self.num = num\n",
    "    def intro(self):\n",
    "        print(f\"my num is {self.num}\")"
   ]
  },
  {
   "cell_type": "markdown",
   "metadata": {
    "id": "kvX7555uKvoQ"
   },
   "source": [
    "* `num` 값이 2인 인스턴스 생성\n",
    "\n",
    "```\n",
    "a = MyNumber(2)\n",
    "a.intro()\n",
    "```"
   ]
  },
  {
   "cell_type": "code",
   "execution_count": 2,
   "metadata": {
    "id": "CyOsSyDPJv16"
   },
   "outputs": [
    {
     "name": "stdout",
     "output_type": "stream",
     "text": [
      "my num is 2\n"
     ]
    }
   ],
   "source": [
    "a = MyNumber(2)\n",
    "a.intro()"
   ]
  },
  {
   "cell_type": "markdown",
   "metadata": {
    "id": "h3yKSEr5K10L"
   },
   "source": [
    "* `num` 값이 5인 인스턴스 생성\n",
    "\n",
    "```\n",
    "b = MyNumber(5)\n",
    "b.intro()\n",
    "```"
   ]
  },
  {
   "cell_type": "code",
   "execution_count": 3,
   "metadata": {
    "id": "DYyS2zFnKcKx"
   },
   "outputs": [
    {
     "name": "stdout",
     "output_type": "stream",
     "text": [
      "my num is 5\n"
     ]
    }
   ],
   "source": [
    "b = MyNumber(5)\n",
    "b.intro()"
   ]
  },
  {
   "cell_type": "markdown",
   "metadata": {
    "id": "MDKJ6tSXK5xS"
   },
   "source": [
    "* 인스턴스끼리 더하기\n",
    "\n",
    "인스턴스 `a`와 `b`를 더하고 싶습니다. 더해서 7이란 값이 나오면 좋겠네요. 한번 덧셈을 해봅시다.\n",
    "\n",
    "```\n",
    "a+b\n",
    "```"
   ]
  },
  {
   "cell_type": "code",
   "execution_count": 4,
   "metadata": {
    "id": "zuz-qtaaKgrY"
   },
   "outputs": [
    {
     "ename": "TypeError",
     "evalue": "unsupported operand type(s) for +: 'MyNumber' and 'MyNumber'",
     "output_type": "error",
     "traceback": [
      "\u001b[1;31m---------------------------------------------------------------------------\u001b[0m",
      "\u001b[1;31mTypeError\u001b[0m                                 Traceback (most recent call last)",
      "\u001b[1;32m~\\AppData\\Local\\Temp/ipykernel_1536/3553919051.py\u001b[0m in \u001b[0;36m<module>\u001b[1;34m\u001b[0m\n\u001b[1;32m----> 1\u001b[1;33m \u001b[0ma\u001b[0m\u001b[1;33m+\u001b[0m\u001b[0mb\u001b[0m\u001b[1;33m\u001b[0m\u001b[1;33m\u001b[0m\u001b[0m\n\u001b[0m",
      "\u001b[1;31mTypeError\u001b[0m: unsupported operand type(s) for +: 'MyNumber' and 'MyNumber'"
     ]
    }
   ],
   "source": [
    "a+b"
   ]
  },
  {
   "cell_type": "markdown",
   "metadata": {
    "id": "R6tJPDUtRYlh"
   },
   "source": [
    "에러가 뜹니다. 인스턴스가 덧셈이 가능하게 하도록 하려면 `__add__` 메소드를 이용해야 합니다.\n",
    "\n",
    "`+`으로 연결된 다른 인스턴스는 `other`로 자동 연결됩니다. `+`를 함으로써 우리는 인스턴스의 `num`값을 더하고 싶으니 이를 `return`해 주면 됩니다.\n",
    "\n",
    "```\n",
    "class MyNumber():\n",
    "  def __init__(self, num):\n",
    "    self.num = num\n",
    "  def intro(self):\n",
    "    print(f\"my num is {self.num}\")\n",
    "\n",
    "  def __add__(self, other):\n",
    "    return self.num+other.num\n",
    "```"
   ]
  },
  {
   "cell_type": "code",
   "execution_count": 10,
   "metadata": {
    "id": "S7RADkiJR8Fq"
   },
   "outputs": [],
   "source": [
    "class MyNumber():\n",
    "    def __init__(self, num):\n",
    "        self.num = num\n",
    "    def intro(self):\n",
    "        print(f\"my num is {self.num}\")\n",
    "    def __add__(self, other):\n",
    "        # self+other\n",
    "        return self.num + other.num"
   ]
  },
  {
   "cell_type": "markdown",
   "metadata": {
    "id": "VyJS6zDGR6MB"
   },
   "source": [
    "* `num` 값이 2인 인스턴스 생성\n",
    "\n",
    "```\n",
    "a = MyNumber(2)\n",
    "a.intro()\n",
    "```"
   ]
  },
  {
   "cell_type": "code",
   "execution_count": 11,
   "metadata": {
    "id": "7eE4VTaOR6MH"
   },
   "outputs": [
    {
     "name": "stdout",
     "output_type": "stream",
     "text": [
      "my num is 2\n"
     ]
    }
   ],
   "source": [
    "a = MyNumber(2)\n",
    "a.intro()"
   ]
  },
  {
   "cell_type": "markdown",
   "metadata": {
    "id": "_muaH3NjR6MI"
   },
   "source": [
    "* `num` 값이 5인 인스턴스 생성\n",
    "\n",
    "```\n",
    "b = MyNumber(5)\n",
    "b.intro()\n",
    "```"
   ]
  },
  {
   "cell_type": "code",
   "execution_count": 12,
   "metadata": {
    "id": "l1Fnt2kKR6MI"
   },
   "outputs": [
    {
     "name": "stdout",
     "output_type": "stream",
     "text": [
      "my num is 5\n"
     ]
    }
   ],
   "source": [
    "b = MyNumber(5)\n",
    "b.intro()"
   ]
  },
  {
   "cell_type": "markdown",
   "metadata": {
    "id": "BvicrsTIR6MJ"
   },
   "source": [
    "* 인스턴스끼리 더하기\n",
    "\n",
    "인스턴스 `a`와 `b`를 더하고 싶습니다. 더해서 7이란 값이 나오면 좋겠네요. 한번 덧셈을 해봅시다.\n",
    "\n",
    "```\n",
    "a+b\n",
    "```"
   ]
  },
  {
   "cell_type": "code",
   "execution_count": 13,
   "metadata": {},
   "outputs": [
    {
     "data": {
      "text/plain": [
       "7"
      ]
     },
     "execution_count": 13,
     "metadata": {},
     "output_type": "execute_result"
    }
   ],
   "source": [
    "a+b"
   ]
  },
  {
   "cell_type": "markdown",
   "metadata": {
    "id": "vOybiF3iSArm"
   },
   "source": [
    "이제 7이란 값이 제대로 나오는 것을 볼 수 있습니다."
   ]
  },
  {
   "cell_type": "markdown",
   "metadata": {
    "id": "TGIlr0BvYLFL"
   },
   "source": [
    "#### **클래스의 문자**\n",
    "\n",
    "* `__str__`\n",
    "\n",
    "이 메소드는 인스턴스의 출력을 지정해 줍니다. 위에서 정의한 인스턴스 a 를 출력해보겠습니다. \n",
    "\n",
    "```\n",
    "print(a)\n",
    "```"
   ]
  },
  {
   "cell_type": "code",
   "execution_count": 14,
   "metadata": {
    "id": "wJUbSZsoYmBN"
   },
   "outputs": [
    {
     "name": "stdout",
     "output_type": "stream",
     "text": [
      "<__main__.MyNumber object at 0x00000236A37F2610>\n"
     ]
    }
   ],
   "source": [
    "print(a)"
   ]
  },
  {
   "cell_type": "markdown",
   "metadata": {
    "id": "rxH649t1Ync_"
   },
   "source": [
    "이번에는 클래스 안에 `__str__` 메서드를 추가해 보겠습니다. 현재 `intro` 메서드가 출력을 수행하고 있어서 기능이 겹치네요. 이를 바꾸도록 하겠습니다.\n",
    "\n",
    "```\n",
    "class MyNumber():\n",
    "  def __init__(self, num):\n",
    "    self.num = num\n",
    "  def __str__(self):\n",
    "    return f\"my num is {self.num}\"\n",
    "  def __add__(self, other):\n",
    "    return self.num+other.num\n",
    "```"
   ]
  },
  {
   "cell_type": "code",
   "execution_count": 15,
   "metadata": {
    "id": "Tw9XzO4cYLFM"
   },
   "outputs": [],
   "source": [
    "class MyNumber():\n",
    "    def __init__(self, num):\n",
    "        self.num = num\n",
    "    def __add__(self, other):\n",
    "        # self+other\n",
    "        return self.num + other.num\n",
    "    def __str__(self):\n",
    "        return f\"my num is {self.num}\""
   ]
  },
  {
   "cell_type": "markdown",
   "metadata": {
    "id": "Tk6qcTE4bAxi"
   },
   "source": [
    "* `num` 값이 2인 인스턴스 생성하고 출력하기\n",
    "\n",
    "```\n",
    "a = MyNumber(2)\n",
    "a.intro()\n",
    "```"
   ]
  },
  {
   "cell_type": "code",
   "execution_count": 19,
   "metadata": {
    "id": "2GSARmo1bAxj"
   },
   "outputs": [
    {
     "name": "stdout",
     "output_type": "stream",
     "text": [
      "my num is 2\n"
     ]
    }
   ],
   "source": [
    "a = MyNumber(2)\n",
    "print(a)"
   ]
  },
  {
   "cell_type": "markdown",
   "metadata": {
    "id": "NS4BrQpbl3mZ"
   },
   "source": [
    "### **(2) 상속**\n"
   ]
  },
  {
   "cell_type": "markdown",
   "metadata": {
    "id": "O0tIcH3xcfDB"
   },
   "source": [
    "\n",
    "\n",
    "#### **상속이란**\n",
    "\n",
    "상속이란 이미 만들어진 클래스를 그대로 받아와 사용할 수 있을 뿐 아니 세부적으로 변경할 수도 있게 하는 것입니다. \n",
    "\n",
    "이 때 상속받아온 상위 클래스를 부모 클래스, 하위클래스를 자식 클래스라 합니다. \n",
    "\n",
    "위에서 만든 `MyNumber`클래스를 상속받아 봅시다. 상속 받기 위해서는 클래스 이름을 정의할 때 상속받을 클래스를 작성해 줍니다. \n",
    "\n",
    "```\n",
    "  \n",
    "class EvenNumber(MyNumber): # 상속받아오기\n",
    "  def __str__(self): # __str__ 메서드는 변경하기\n",
    "    return f\"my num is {self.num}. and it is even.\"\n",
    "\n",
    "class OddNumber(MyNumber):\n",
    "  def __str__(self): # __str__ 메서드는 변경하기\n",
    "    return f\"my num is {self.num}. and it is odd.\"\n",
    "\n",
    "```"
   ]
  },
  {
   "cell_type": "code",
   "execution_count": 21,
   "metadata": {
    "id": "FFtnwVYijGET"
   },
   "outputs": [],
   "source": [
    "class EvenNumber(MyNumber): # 상속받아오기\n",
    "    def __str__(self): # __str__ 메서드는 변경하기\n",
    "        return f\"my num is {self.num}. and it is even.\"\n",
    "\n",
    "class OddNumber(MyNumber):\n",
    "    def __str__(self): # __str__ 메서드는 변경하기\n",
    "        return f\"my num is {self.num}. and it is odd.\""
   ]
  },
  {
   "cell_type": "markdown",
   "metadata": {
    "id": "Ax6wEj3fllRF"
   },
   "source": [
    "* 인스턴스 생성"
   ]
  },
  {
   "cell_type": "code",
   "execution_count": 37,
   "metadata": {
    "id": "C62myMS4jHLk"
   },
   "outputs": [],
   "source": [
    "a = EvenNumber(2.0)\n",
    "b = OddNumber(3.0)"
   ]
  },
  {
   "cell_type": "markdown",
   "metadata": {
    "id": "ETWxonLJlWlx"
   },
   "source": [
    "* 인스턴스  출력하기\n",
    "\n",
    "같은 부모에게서 상속 받아 왔지만 `__str__`의 반환값이 다르기 때문에 출력이 다른 것을 확인할 수 있습니다.\n",
    "\n",
    "```\n",
    "print(even)\n",
    "print(odd)\n",
    "```"
   ]
  },
  {
   "cell_type": "code",
   "execution_count": 38,
   "metadata": {
    "id": "yLu5y61VlkVW"
   },
   "outputs": [
    {
     "name": "stdout",
     "output_type": "stream",
     "text": [
      "my num is 2.0. and it is even.\n",
      "my num is 3.0. and it is odd.\n"
     ]
    }
   ],
   "source": [
    "print(a)\n",
    "print(b)"
   ]
  },
  {
   "cell_type": "markdown",
   "metadata": {
    "id": "CKWB-D8plrqs"
   },
   "source": [
    "* 또한 부모클래스에 있던 `__add__` 메소드도 사용할 수 있습니다. \n",
    "\n",
    "```\n",
    "even+odd\n",
    "```"
   ]
  },
  {
   "cell_type": "code",
   "execution_count": 39,
   "metadata": {
    "id": "LpZwhHi8jMPq"
   },
   "outputs": [
    {
     "data": {
      "text/plain": [
       "5.0"
      ]
     },
     "execution_count": 39,
     "metadata": {},
     "output_type": "execute_result"
    }
   ],
   "source": [
    "a+b"
   ]
  },
  {
   "cell_type": "markdown",
   "metadata": {
    "id": "h11UjWa2jN_i"
   },
   "source": [
    "1. MyNumber 클래스에 빼기, 곱하기, 나누기, 추가하기"
   ]
  },
  {
   "cell_type": "code",
   "execution_count": 56,
   "metadata": {},
   "outputs": [],
   "source": [
    "class MyNumber2(MyNumber):\n",
    "    \n",
    "    # 곱하기\n",
    "    def __mul__(self, other):\n",
    "        return self.num * other.num\n",
    "    \n",
    "    # 빼기\n",
    "    def __sub__(self, other):\n",
    "        return self.num - other.num\n",
    "    \n",
    "    # 나누기\n",
    "    def __truediv__(self, other):\n",
    "        return self.num / other.num"
   ]
  },
  {
   "cell_type": "code",
   "execution_count": 58,
   "metadata": {},
   "outputs": [
    {
     "name": "stdout",
     "output_type": "stream",
     "text": [
      "16\n",
      "8\n",
      "48\n",
      "3.0\n"
     ]
    }
   ],
   "source": [
    "num = MyNumber2(12)\n",
    "num2 = MyNumber2(4)\n",
    "\n",
    "print(num + num2)\n",
    "print(num - num2)\n",
    "print(num * num2)\n",
    "print(num / num2)"
   ]
  },
  {
   "cell_type": "markdown",
   "metadata": {
    "id": "hoW1VkPvjPiw"
   },
   "source": [
    "2. 클래스 Vector 만들기\n",
    " * a = Vector([1,2,3]) 생성\n",
    " * b = Vector([4,5,6]) 생성\n",
    " * print(a) => vector(1,2,3)\n",
    " * a+b -> vector([5,7,9])\n",
    " * a\\*b -> vector([4,10,18])"
   ]
  },
  {
   "cell_type": "code",
   "execution_count": 63,
   "metadata": {},
   "outputs": [],
   "source": [
    "class Vector():\n",
    "    def __init__(self, num):\n",
    "        self.num = num\n",
    "        self.length = len(num)\n",
    "        \n",
    "    def __str__(self):\n",
    "        return f\"vector({self.num})\"\n",
    "    \n",
    "    # 더하기\n",
    "    def __add__(self, other):\n",
    "        if self.length == other.length:\n",
    "            answer = []\n",
    "            for i in range(self.length):\n",
    "                answer.append(self.num[i]+other.num[i])\n",
    "            return answer\n",
    "        else:\n",
    "            print(\"둘의 길이가 다릅니다.\")\n",
    "    \n",
    "    # 곱하기\n",
    "    def __mul__(self, other):\n",
    "        if self.length == other.length:\n",
    "            answer = []\n",
    "            for i in range(self.length):\n",
    "                answer.append(self.num[i]*other.num[i])\n",
    "            return answer\n",
    "        else:\n",
    "            print(\"둘의 길이가 다릅니다.\")"
   ]
  },
  {
   "cell_type": "code",
   "execution_count": 64,
   "metadata": {},
   "outputs": [],
   "source": [
    "vec1 = Vector([1,2,3,4])\n",
    "vec2 = Vector([4,5,6,7])\n",
    "vec3 = Vector([2,3,4])"
   ]
  },
  {
   "cell_type": "code",
   "execution_count": 68,
   "metadata": {},
   "outputs": [
    {
     "data": {
      "text/plain": [
       "[5, 7, 9, 11]"
      ]
     },
     "execution_count": 68,
     "metadata": {},
     "output_type": "execute_result"
    }
   ],
   "source": [
    "vec1 + vec2"
   ]
  },
  {
   "cell_type": "code",
   "execution_count": 67,
   "metadata": {},
   "outputs": [
    {
     "name": "stdout",
     "output_type": "stream",
     "text": [
      "둘의 길이가 다릅니다.\n"
     ]
    }
   ],
   "source": [
    "vec1 + vec3"
   ]
  },
  {
   "cell_type": "code",
   "execution_count": 69,
   "metadata": {},
   "outputs": [
    {
     "data": {
      "text/plain": [
       "[4, 10, 18, 28]"
      ]
     },
     "execution_count": 69,
     "metadata": {},
     "output_type": "execute_result"
    }
   ],
   "source": [
    "vec1 * vec2"
   ]
  },
  {
   "cell_type": "code",
   "execution_count": 70,
   "metadata": {},
   "outputs": [
    {
     "name": "stdout",
     "output_type": "stream",
     "text": [
      "vector([1, 2, 3, 4]) vector([2, 3, 4])\n"
     ]
    }
   ],
   "source": [
    "print(vec1, vec3)"
   ]
  },
  {
   "cell_type": "code",
   "execution_count": null,
   "metadata": {},
   "outputs": [],
   "source": []
  }
 ],
 "metadata": {
  "colab": {
   "authorship_tag": "ABX9TyMliyhaXqWAbGOdxOWE2tBx",
   "collapsed_sections": [],
   "name": "5-2.클래스:클래스더다루기.ipynb",
   "provenance": []
  },
  "kernelspec": {
   "display_name": "Python 3 (ipykernel)",
   "language": "python",
   "name": "python3"
  },
  "language_info": {
   "codemirror_mode": {
    "name": "ipython",
    "version": 3
   },
   "file_extension": ".py",
   "mimetype": "text/x-python",
   "name": "python",
   "nbconvert_exporter": "python",
   "pygments_lexer": "ipython3",
   "version": "3.9.7"
  },
  "toc": {
   "base_numbering": 1,
   "nav_menu": {},
   "number_sections": true,
   "sideBar": true,
   "skip_h1_title": false,
   "title_cell": "Table of Contents",
   "title_sidebar": "Contents",
   "toc_cell": false,
   "toc_position": {
    "height": "calc(100% - 180px)",
    "left": "10px",
    "top": "150px",
    "width": "173px"
   },
   "toc_section_display": true,
   "toc_window_display": false
  },
  "varInspector": {
   "cols": {
    "lenName": 16,
    "lenType": 16,
    "lenVar": 40
   },
   "kernels_config": {
    "python": {
     "delete_cmd_postfix": "",
     "delete_cmd_prefix": "del ",
     "library": "var_list.py",
     "varRefreshCmd": "print(var_dic_list())"
    },
    "r": {
     "delete_cmd_postfix": ") ",
     "delete_cmd_prefix": "rm(",
     "library": "var_list.r",
     "varRefreshCmd": "cat(var_dic_list()) "
    }
   },
   "types_to_exclude": [
    "module",
    "function",
    "builtin_function_or_method",
    "instance",
    "_Feature"
   ],
   "window_display": false
  }
 },
 "nbformat": 4,
 "nbformat_minor": 1
}
