{
 "cells": [
  {
   "cell_type": "markdown",
   "metadata": {
    "id": "jgFAOz-Tw1VI"
   },
   "source": [
    "# 6-2.라이브러리: 시간\n",
    "---\n",
    "* 날짜: 2022-04-04\n",
    "* 이름: 고민수\n"
   ]
  },
  {
   "cell_type": "markdown",
   "metadata": {
    "id": "roC8A6Ro6THT"
   },
   "source": [
    "## 개념정리\n",
    "---\n",
    "\n",
    "시간과 관련된 프로그램은 아주 많습니다. 이를 위해 유용한 라이브러리인 `time` 과 `calendar`을 알아봅니다. 두 라이브러리에는 시간 관련 함수가 굉장히 많습니다. 그 중 자주 사용되는 함수 몇가지 위주로 공부해봅니다.\n"
   ]
  },
  {
   "cell_type": "markdown",
   "metadata": {
    "id": "H2HY9CbXvBoB"
   },
   "source": [
    "### **(1) 라이브러리 임포트 : `time`**\n",
    "\n",
    "아래와 같이 `time` 모듈을 `import` 해줍니다.\n",
    "\n",
    "```\n",
    "import time\n",
    "```\n"
   ]
  },
  {
   "cell_type": "code",
   "execution_count": 1,
   "metadata": {
    "id": "5mAKOlI-vBoD"
   },
   "outputs": [],
   "source": [
    "import time"
   ]
  },
  {
   "cell_type": "markdown",
   "metadata": {
    "id": "7tKI5oCovsJ5"
   },
   "source": [
    "### **(2) 기본 사용 : `time`**\n"
   ]
  },
  {
   "cell_type": "markdown",
   "metadata": {
    "id": "UdnlqgsIvBoD"
   },
   "source": [
    "#### **시간확인**\n",
    "\n"
   ]
  },
  {
   "cell_type": "markdown",
   "metadata": {
    "id": "SjGX5RIJu7SG"
   },
   "source": [
    "* `time.time`\n",
    "\n",
    "`time.time()`은 UTC(Universal Time Coordinated 협정 세계 표준시)를 사용하여 1970년 1월 1일 0시 0분 0초를 기준으로 현재 시간을 초 단위로 돌려줍니다. 따라서 이 함수를 써서는 정확한 시간을 이해하기 힘듭니다. \n",
    "\n",
    "```\n",
    "time.time()\n",
    "```\n",
    "\n"
   ]
  },
  {
   "cell_type": "code",
   "execution_count": 2,
   "metadata": {
    "id": "gERBDDc8u7SJ"
   },
   "outputs": [
    {
     "data": {
      "text/plain": [
       "1649051002.292993"
      ]
     },
     "execution_count": 2,
     "metadata": {},
     "output_type": "execute_result"
    }
   ],
   "source": [
    "time.time()"
   ]
  },
  {
   "cell_type": "markdown",
   "metadata": {
    "id": "zD6gfuVD3xwx"
   },
   "source": [
    "* `time.ctime` \n",
    "\n",
    "현재 시간을 알아보기 쉬운 문자열 형식으로 반환합니다.\n",
    "\n",
    "```\n",
    "t = time.ctime()\n",
    "print(t)\n",
    "print(type(t))\n",
    "\n",
    "```\n",
    "\n"
   ]
  },
  {
   "cell_type": "code",
   "execution_count": 5,
   "metadata": {
    "id": "OaowHk_83leh"
   },
   "outputs": [
    {
     "name": "stdout",
     "output_type": "stream",
     "text": [
      "Mon Apr  4 14:45:17 2022\n",
      "<class 'str'>\n"
     ]
    }
   ],
   "source": [
    "t = time.ctime()\n",
    "print(t)\n",
    "print(type(t))"
   ]
  },
  {
   "cell_type": "markdown",
   "metadata": {
    "id": "DJsRofyYwcCG"
   },
   "source": [
    "#### **시간조절**\n",
    "\n"
   ]
  },
  {
   "cell_type": "markdown",
   "metadata": {
    "id": "ZywpY9IBwcCM"
   },
   "source": [
    "* `time.sleep`\n",
    "\n",
    "`time.sleep`은 코드를 일정 시간동안 멈출 수 있습니다. 주로 반복문 내에서 시간 간격을 두고 실행하고 싶을 때 쓰입니다.\n",
    "\n",
    "```\n",
    "for i in range(10):\n",
    "    print(i)\n",
    "    time.sleep(1)\n",
    "```\n",
    "\n"
   ]
  },
  {
   "cell_type": "code",
   "execution_count": 6,
   "metadata": {
    "id": "M3D3N6rewcCM"
   },
   "outputs": [
    {
     "name": "stdout",
     "output_type": "stream",
     "text": [
      "0\n",
      "1\n",
      "2\n",
      "3\n",
      "4\n",
      "5\n",
      "6\n",
      "7\n",
      "8\n",
      "9\n"
     ]
    }
   ],
   "source": [
    "for i in range(10):\n",
    "    print(i)\n",
    "    time.sleep(1)"
   ]
  },
  {
   "cell_type": "markdown",
   "metadata": {
    "id": "a3YlZx2lOstl"
   },
   "source": [
    "### **(3) 라이브러리 임포트(import) : `calendar`**\n",
    "\n",
    "\n",
    "```\n",
    "import calendar\n",
    "```\n"
   ]
  },
  {
   "cell_type": "code",
   "execution_count": 7,
   "metadata": {
    "id": "-KkhR9yaOstm"
   },
   "outputs": [],
   "source": [
    "import calendar"
   ]
  },
  {
   "cell_type": "markdown",
   "metadata": {
    "id": "x4b6XE2IwWCR"
   },
   "source": [
    "### **(4) 기본 사용 : `calendar`**"
   ]
  },
  {
   "cell_type": "markdown",
   "metadata": {
    "id": "u0q6rzI-PA6i"
   },
   "source": [
    "#### **달력 보기**\n",
    "\n"
   ]
  },
  {
   "cell_type": "markdown",
   "metadata": {
    "id": "y6imlv3cPA6i"
   },
   "source": [
    "* `calendar.prmonth`\n",
    "\n",
    "`calendar.prmonth`는 연도와 월을 입력하면 해당 월의 달력을 출력해줍니다.\n",
    "\n",
    "```\n",
    "calendar.prmonth(연도, 월)\n",
    "```\n",
    "\n"
   ]
  },
  {
   "cell_type": "code",
   "execution_count": 10,
   "metadata": {
    "id": "ofTbeRnIPA6j"
   },
   "outputs": [
    {
     "name": "stdout",
     "output_type": "stream",
     "text": [
      "     April 2022\n",
      "Mo Tu We Th Fr Sa Su\n",
      "             1  2  3\n",
      " 4  5  6  7  8  9 10\n",
      "11 12 13 14 15 16 17\n",
      "18 19 20 21 22 23 24\n",
      "25 26 27 28 29 30\n"
     ]
    }
   ],
   "source": [
    "calendar.prmonth(2022, 4)"
   ]
  },
  {
   "cell_type": "markdown",
   "metadata": {
    "id": "BFHm6JKmPc2r"
   },
   "source": [
    "#### **날짜 반환**\n",
    "\n"
   ]
  },
  {
   "cell_type": "markdown",
   "metadata": {
    "id": "TfxqY2sIPc2s"
   },
   "source": [
    "* `calendar.weekday`\n",
    "\n",
    "`weekday` 함수는 연도, 월, 일을 입력하면 0에서 6까지의 정수 반환합니다. 각 숫자는 월요일 부터 일요일을 의미합니다. \n",
    "\n",
    "```\n",
    "정수 = calendar.weekday(연도, 월, 일)\n",
    "# 정수값은 0~6 이며, 월~일을 의미\n",
    "```\n",
    "\n"
   ]
  },
  {
   "cell_type": "code",
   "execution_count": 11,
   "metadata": {
    "id": "dAgIvgfVPc2t"
   },
   "outputs": [
    {
     "data": {
      "text/plain": [
       "0"
      ]
     },
     "execution_count": 11,
     "metadata": {},
     "output_type": "execute_result"
    }
   ],
   "source": [
    "calendar.weekday(2022, 4, 4)"
   ]
  },
  {
   "cell_type": "markdown",
   "metadata": {
    "id": "5niolBqHPVLj"
   },
   "source": [
    "* `calendar.monthrange()`\n",
    "\n",
    "`calendar.monthrange`는 연도와 월을 입력하면 이달이 무슨 요일인지,그리고 며칠까지 있는지를 튜플 형태로 출력합니다. \n",
    "\n",
    "```\n",
    "첫번째요일, 일수 = calendar.monthrange(연도, 월)\n",
    "```\n",
    "\n"
   ]
  },
  {
   "cell_type": "code",
   "execution_count": 13,
   "metadata": {
    "id": "nMGHfL0fPVLj"
   },
   "outputs": [
    {
     "data": {
      "text/plain": [
       "(4, 30)"
      ]
     },
     "execution_count": 13,
     "metadata": {},
     "output_type": "execute_result"
    }
   ],
   "source": [
    "calendar.monthrange(2022, 4)"
   ]
  },
  {
   "cell_type": "markdown",
   "metadata": {
    "id": "Iflmv_G4M7Qs"
   },
   "source": [
    "## 예제\n",
    "---"
   ]
  },
  {
   "cell_type": "markdown",
   "metadata": {
    "id": "d9o7kBXoNlE3"
   },
   "source": [
    "**예제 01**\n",
    "\n",
    "타이머를 만듭시다. 이 타이머는 10초 단위로 알림을 하고 10 부터는 카운트 합니다. (실제로 초단위의 타이머를 만듭니다.)\n",
    "\n",
    "```\n",
    ">> 타이머(60)\n",
    "60\n",
    "50\n",
    "40\n",
    "30\n",
    "20\n",
    "10\n",
    "9!\n",
    "8!\n",
    "7!\n",
    "6!\n",
    "5!\n",
    "4!\n",
    "3!\n",
    "2!\n",
    "1!\n",
    "삐빅\n",
    "```"
   ]
  },
  {
   "cell_type": "code",
   "execution_count": 2,
   "metadata": {
    "id": "Gwir0bafNlE9"
   },
   "outputs": [
    {
     "name": "stdout",
     "output_type": "stream",
     "text": [
      "60\n",
      "50\n",
      "40\n",
      "30\n",
      "20\n",
      "10\n",
      "9\n",
      "8\n",
      "7\n",
      "6\n",
      "5\n",
      "4\n",
      "3\n",
      "2\n",
      "1\n",
      "삐빅\n"
     ]
    }
   ],
   "source": [
    "def diy_timer(sec):\n",
    "    import time\n",
    "    while True:\n",
    "        if sec>=10:\n",
    "            if sec%10==0:\n",
    "                print(sec)\n",
    "        elif sec>=1:\n",
    "            print(sec)\n",
    "        else:\n",
    "            print(\"삐빅\")\n",
    "            break\n",
    "        sec-=1\n",
    "        time.sleep(1)\n",
    "        \n",
    "diy_timer(60)"
   ]
  },
  {
   "cell_type": "markdown",
   "metadata": {
    "id": "xjss54fvOD3D"
   },
   "source": [
    "**예제 02**\n",
    "\n",
    "시간을 알려주는 챗봇을 만들어 봅시다. 사용자가 입력한 문장에서 다음과 같은 문장이 있으면 그에 따른 대답을 합니다.\n",
    "\n",
    "단어|대답|\n",
    "--|--\n",
    "몇시| 시간 출력\n",
    "몇분| 분 출력\n",
    "무슨요일| 요일 출력\n",
    "몇월| 월 출력\n",
    "며칠or 몇일 | 일 출력\n",
    "그만 | 종료\n",
    "\n",
    "```\n",
    ">> 시리()\n",
    ">> 질문해주세요: 지금몇시니?\n",
    "지금은 8시 입니다.\n",
    ">> 질문해주세요: 오늘 무슨요일이야\n",
    "오늘은 금요일 입니다.\n",
    ">> 질문해주세요: 그만\n",
    "종료되었습니다.\n",
    "```\n",
    "\n",
    "\n",
    ">>\n",
    "\n"
   ]
  },
  {
   "cell_type": "code",
   "execution_count": 24,
   "metadata": {},
   "outputs": [
    {
     "name": "stdout",
     "output_type": "stream",
     "text": [
      "Mon Apr  4 15:14:22 2022\n",
      "<class 'str'>\n"
     ]
    },
    {
     "data": {
      "text/plain": [
       "time.struct_time(tm_year=2022, tm_mon=4, tm_mday=4, tm_hour=15, tm_min=14, tm_sec=22, tm_wday=0, tm_yday=94, tm_isdst=0)"
      ]
     },
     "execution_count": 24,
     "metadata": {},
     "output_type": "execute_result"
    }
   ],
   "source": [
    "import time\n",
    "t = time.ctime()\n",
    "print(t)\n",
    "print(type(t))\n",
    "t[8:10]"
   ]
  },
  {
   "cell_type": "code",
   "execution_count": null,
   "metadata": {},
   "outputs": [],
   "source": []
  },
  {
   "cell_type": "code",
   "execution_count": null,
   "metadata": {
    "scrolled": true
   },
   "outputs": [],
   "source": [
    "def chat_bot():\n",
    "    import time\n",
    "    while True:\n",
    "        a = input(\"질문해주세요: \")\n",
    "        if \"몇시\" in a:\n",
    "            t = time.ctime()\n",
    "            int(t[11:13])\n",
    "            print(\"지금은\",t[11:13]+\"시 입니다\")\n",
    "        if \"몇분\" in a:\n",
    "            t = time.ctime()\n",
    "            print(\"지금은\",t[14:16]+\"분 입니다.\")\n",
    "        if \"무슨요일\" in a:\n",
    "            t = time.ctime()\n",
    "            print(f\"오늘의 요일은\",{time.strftime('%A',t)}+\" 입니다.\")\n",
    "        if \"몇월\" in a:\n",
    "            t = time.ctime()\n",
    "            print(\"이번달은\",t[4:7]+\" 입니다.\")\n",
    "        if \"며칠\" in a:\n",
    "            t = time.ctime()\n",
    "            print(\"오늘은\", t[8:10]+\"일 입니다.\")\n",
    "        if \"그만\" in a:\n",
    "            print(\"종료합니다\")\n",
    "            break\n",
    "            \n",
    "chat_bot()"
   ]
  },
  {
   "cell_type": "code",
   "execution_count": null,
   "metadata": {},
   "outputs": [],
   "source": []
  },
  {
   "cell_type": "code",
   "execution_count": 22,
   "metadata": {
    "id": "R-XoEQc7OG1T"
   },
   "outputs": [
    {
     "name": "stdout",
     "output_type": "stream",
     "text": [
      "질문해주세요: 며칠이야\n",
      "오늘은  4일 입니다.\n",
      "질문해주세요: 몇월\n",
      "이번달은 Apr 입니다.\n",
      "질문해주세요: 무슨요일\n",
      "오늘의 요일은 Mon 입니다.\n",
      "질문해주세요: 몇분\n",
      "지금은 10분 입니다.\n",
      "질문해주세요: 고만해\n",
      "질문해주세요: 그망하라구\n",
      "질문해주세요: 그만그만!\n",
      "종료합니다\n"
     ]
    }
   ],
   "source": [
    "def chat_bot():\n",
    "    import time\n",
    "    while True:\n",
    "        a = input(\"질ㅁ문해주세요: \")\n",
    "        if \"몇시\" in a:\n",
    "            t = time.ctime()\n",
    "            int(t[11:13])\n",
    "            print(\"지금은\",t[11:13]+\"시 입니다\")\n",
    "        if \"몇분\" in a:\n",
    "            t = time.ctime()\n",
    "            print(\"지금은\",t[14:16]+\"분 입니다.\")\n",
    "        if \"무슨요일\" in a:\n",
    "            t = time.ctime()\n",
    "            print(\"오늘의 요일은\",t[0:3]+\" 입니다.\")\n",
    "        if \"몇월\" in a:\n",
    "            t = time.ctime()\n",
    "            print(\"이번달은\",t[4:7]+\" 입니다.\")\n",
    "        if \"며칠\" in a:\n",
    "            t = time.ctime()\n",
    "            print(\"오늘은\", t[8:10]+\"일 입니다.\")\n",
    "        if \"그만\" in a:\n",
    "            print(\"종료합니다\")\n",
    "            break\n",
    "            \n",
    "chat_bot()"
   ]
  },
  {
   "cell_type": "markdown",
   "metadata": {
    "id": "X2rC9t0WQfsi"
   },
   "source": [
    "**예제 03**\n",
    "\n",
    "2000년부터 2020년까지 각 해의 날짜의 수를 구하세요\n",
    "\n",
    "```\n",
    "2000년의 날짜는 총 ~~~일 입니다.\n",
    "2001년의 날짜는 총 ~~~일 입니다.\n",
    "...\n",
    "\n",
    "2020년의 날짜는 총 ~~~일 입니다.\n",
    "```"
   ]
  },
  {
   "cell_type": "code",
   "execution_count": 33,
   "metadata": {
    "id": "3319F20DQfsl"
   },
   "outputs": [
    {
     "name": "stdout",
     "output_type": "stream",
     "text": [
      "2000년의 날짜는 총 366일 입니다\n",
      "2001년의 날짜는 총 365일 입니다\n",
      "2002년의 날짜는 총 365일 입니다\n",
      "2003년의 날짜는 총 365일 입니다\n",
      "2004년의 날짜는 총 366일 입니다\n",
      "2005년의 날짜는 총 365일 입니다\n",
      "2006년의 날짜는 총 365일 입니다\n",
      "2007년의 날짜는 총 365일 입니다\n",
      "2008년의 날짜는 총 366일 입니다\n",
      "2009년의 날짜는 총 365일 입니다\n",
      "2010년의 날짜는 총 365일 입니다\n",
      "2011년의 날짜는 총 365일 입니다\n",
      "2012년의 날짜는 총 366일 입니다\n",
      "2013년의 날짜는 총 365일 입니다\n",
      "2014년의 날짜는 총 365일 입니다\n",
      "2015년의 날짜는 총 365일 입니다\n",
      "2016년의 날짜는 총 366일 입니다\n",
      "2017년의 날짜는 총 365일 입니다\n",
      "2018년의 날짜는 총 365일 입니다\n",
      "2019년의 날짜는 총 365일 입니다\n",
      "2020년의 날짜는 총 366일 입니다\n"
     ]
    }
   ],
   "source": [
    "import calendar\n",
    "\n",
    "for j in range(2000,2021):\n",
    "    sum = 0 \n",
    "    for i in range(1,13):\n",
    "        sum+=calendar.monthrange(j,i)[1]\n",
    "    print(f\"{j}년의 날짜는 총 {sum}일 입니다\")"
   ]
  },
  {
   "cell_type": "markdown",
   "metadata": {
    "id": "A7pDCvOJQ6LD"
   },
   "source": [
    "**예제 04**\n",
    "\n",
    "아래형식으로 문자열을 입력했을 때 달력과 요일을 알려주는 코드를 작성하세요. 연도를 쓰지 않으면 올해의 연도가 자동으로 나오게 하세요\n",
    "\n",
    "\n",
    "\n",
    "```\n",
    ">> 날짜를 입력하세요: 2015/12/1\n",
    "   December 2015\n",
    "Mo Tu We Th Fr Sa Su\n",
    "    1  2  3  4  5  6\n",
    " 7  8  9 10 11 12 13\n",
    "14 15 16 17 18 19 20\n",
    "21 22 23 24 25 26 27\n",
    "28 29 30 31\n",
    "* 2015년 12월 1일은 화요일이네요!\n",
    "\n",
    ">> 날짜를 입력하세요: 12/1\n",
    "   December 2021\n",
    "Mo Tu We Th Fr Sa Su\n",
    "       1  2  3  4  5\n",
    " 6  7  8  9 10 11 12\n",
    "13 14 15 16 17 18 19\n",
    "20 21 22 23 24 25 26\n",
    "27 28 29 30 31\n",
    "* 2021년 12월 1일은 수요일이네요!\n",
    "\n",
    ">> 날짜를 입력하세요: 1\n",
    "* 입력형식오류\n",
    "\n",
    "```\n",
    "\n",
    "\n",
    "\n"
   ]
  },
  {
   "cell_type": "code",
   "execution_count": 60,
   "metadata": {
    "id": "XFWcOHrRQ6LE"
   },
   "outputs": [
    {
     "name": "stdout",
     "output_type": "stream",
     "text": [
      "날짜를 입력하세요: 12/3\n",
      "   December 2022\n",
      "Mo Tu We Th Fr Sa Su\n",
      "          1  2  3  4\n",
      " 5  6  7  8  9 10 11\n",
      "12 13 14 15 16 17 18\n",
      "19 20 21 22 23 24 25\n",
      "26 27 28 29 30 31\n",
      "2022년 12월 3일은 토요일이네요!\n"
     ]
    }
   ],
   "source": [
    "import calendar\n",
    "import time\n",
    "day = input(\"날짜를 입력하세요: \")\n",
    "day_split = day.split(\"/\")\n",
    "week = {0:\"월요일\",1:\"화요일\",2:\"수요일\",3:\"목요일\",4:\"금요일\",5:\"토요일\",6:\"일요일\"}\n",
    "if len(day_split) == 3:\n",
    "    calendar.prmonth(int(day_split[0]),int(day_split[1]))\n",
    "    print(f\"{day_split[0]}년 {day_split[1]}월 {day_split[2]}일은 {week[calendar.weekday(int(day_split[0]), int(day_split[1]), int(day_split[2]))]}이네요!\")\n",
    "elif len(day_split) == 2:\n",
    "    calendar.prmonth(int(time.ctime()[-4:]),int(day_split[0]))\n",
    "    print(f\"{time.ctime()[-4:]}년 {day_split[0]}월 {day_split[1]}일은 {week[calendar.weekday(int(time.ctime()[-4:]), int(day_split[0]), int(day_split[1]))]}이네요!\")\n",
    "else:\n",
    "    \"입력형식오류\""
   ]
  }
 ],
 "metadata": {
  "colab": {
   "authorship_tag": "ABX9TyMahkPPNY7beyjgYjfbA7zx",
   "collapsed_sections": [],
   "name": "6-2.라이브러리: 시간.ipynb",
   "provenance": []
  },
  "kernelspec": {
   "display_name": "Python 3 (ipykernel)",
   "language": "python",
   "name": "python3"
  },
  "language_info": {
   "codemirror_mode": {
    "name": "ipython",
    "version": 3
   },
   "file_extension": ".py",
   "mimetype": "text/x-python",
   "name": "python",
   "nbconvert_exporter": "python",
   "pygments_lexer": "ipython3",
   "version": "3.9.7"
  },
  "toc": {
   "base_numbering": 1,
   "nav_menu": {},
   "number_sections": true,
   "sideBar": true,
   "skip_h1_title": false,
   "title_cell": "Table of Contents",
   "title_sidebar": "Contents",
   "toc_cell": false,
   "toc_position": {},
   "toc_section_display": true,
   "toc_window_display": false
  },
  "varInspector": {
   "cols": {
    "lenName": 16,
    "lenType": 16,
    "lenVar": 40
   },
   "kernels_config": {
    "python": {
     "delete_cmd_postfix": "",
     "delete_cmd_prefix": "del ",
     "library": "var_list.py",
     "varRefreshCmd": "print(var_dic_list())"
    },
    "r": {
     "delete_cmd_postfix": ") ",
     "delete_cmd_prefix": "rm(",
     "library": "var_list.r",
     "varRefreshCmd": "cat(var_dic_list()) "
    }
   },
   "types_to_exclude": [
    "module",
    "function",
    "builtin_function_or_method",
    "instance",
    "_Feature"
   ],
   "window_display": false
  }
 },
 "nbformat": 4,
 "nbformat_minor": 1
}
