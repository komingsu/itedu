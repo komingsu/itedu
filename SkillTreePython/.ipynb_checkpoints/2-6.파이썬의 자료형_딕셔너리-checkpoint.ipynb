{
 "cells": [
  {
   "cell_type": "markdown",
   "metadata": {
    "id": "kB5IciXEm6o4"
   },
   "source": [
    "# 2-6.파이썬의 자료형:딕셔너리 \n",
    "\n",
    "* 날짜: 2022-03-31\n",
    "* 이름: 고민수"
   ]
  },
  {
   "cell_type": "markdown",
   "metadata": {
    "id": "4iN8NFzHRJ2D"
   },
   "source": [
    "## 개념정리\n",
    "---\n",
    "\n",
    "\n",
    "딕셔너리(dictionary) 는 `key`와 `value`로 이루어져 있습니다. 마치 사전처럼 특정 `key`에 접근해서 해당 `key`에 해당하는 `value`를 확인할 수 있습니다. 따라서 딕서녀리에서의 인덱싱 방법은 리스트나 튜플과 다르다는 점을 유의해야 합니다."
   ]
  },
  {
   "cell_type": "markdown",
   "metadata": {
    "id": "MAM8MDnfw68b"
   },
   "source": [
    "### **(1) 생성**\n",
    "\n",
    "`{ }` 기호를 통해 딕셔너리를 생성할 수 있습니다. 집합(set) 과 달리 딕셔너리에는 `key` 와 `value`가 존재하므로 이를 적어줍니다. 학생들의 이름표가 아래 표처럼 기입되어 있다고 가정합시다.\n",
    "\n",
    "|번호|이름|\n",
    "|--|--|\n",
    "|1|김모모|\n",
    "|2|이모모|\n",
    "|3|강모모|\n",
    "\n",
    "1-김모모, 2-이모모, 3-강모모 와 같이 순서쌍으로 되어있는 데이터를 딕셔너리로 아래와 같이 표현할 수 있습니다.\n",
    "```\n",
    "students = { 1: '김모모', 2: '이모모', 3: '강모모' }\n",
    "print( students, type(students) )\n",
    "```"
   ]
  },
  {
   "cell_type": "code",
   "execution_count": 1,
   "metadata": {
    "id": "Ci3MSqj8mdEo"
   },
   "outputs": [
    {
     "name": "stdout",
     "output_type": "stream",
     "text": [
      "{1: '김모모', 2: '이모모', 3: '강모모'} <class 'dict'>\n"
     ]
    }
   ],
   "source": [
    "students = { 1: '김모모', 2: '이모모', 3: '강모모' }\n",
    "print( students, type(students) )"
   ]
  },
  {
   "cell_type": "markdown",
   "metadata": {
    "id": "pTXhUDBdmflg"
   },
   "source": [
    "#### **key**\n",
    "\n",
    "* `a.keys()` : 딕셔너리 `a`의 `key` 값들을 반환합니다.\n",
    "\n",
    "딕셔너리 `students`의 `key` 값들을 확인해 봅시다.\n",
    "\n",
    "```\n",
    "students.keys()\n",
    "```"
   ]
  },
  {
   "cell_type": "code",
   "execution_count": 11,
   "metadata": {
    "id": "kQgNdHn9mhBf"
   },
   "outputs": [
    {
     "data": {
      "text/plain": [
       "dict_keys(['김모모', '이모모', '강모모'])"
      ]
     },
     "execution_count": 11,
     "metadata": {},
     "output_type": "execute_result"
    }
   ],
   "source": [
    "students.keys()"
   ]
  },
  {
   "cell_type": "markdown",
   "metadata": {
    "id": "KkMGhau7mlt0"
   },
   "source": [
    "반환 값의 타입을 보면 `dict_keys`라는 객체를 돌려주는 것을 볼 수 있습니다. `dict_keys`는 리스트를 사용하는 것과 차이가 거의 없긴 하지만 리스트에서 사용되는 유용한 메서드 (`append`, `remove`, `sort` 등)을 사용할 수 없습니다. 따라서 `dict_keys` 객체를 리스트로 변환하려면 아래와 같이 리스트로 바인딩하고 이 `key`값들을 유용하게 사용할 수 있습니다. \n",
    "\n",
    "```\n",
    "key_list = students.keys()\n",
    "print(key_list)\n",
    "```\n"
   ]
  },
  {
   "cell_type": "code",
   "execution_count": 9,
   "metadata": {
    "id": "UwBXWvk5mr4v"
   },
   "outputs": [
    {
     "name": "stdout",
     "output_type": "stream",
     "text": [
      "dict_keys(['김모모', '이모모', '강모모'])\n"
     ]
    }
   ],
   "source": [
    "key_list = students.keys()\n",
    "print(key_list)"
   ]
  },
  {
   "cell_type": "markdown",
   "metadata": {
    "id": "xSWjMofZmqSd"
   },
   "source": [
    "#### **value**\n",
    "\n",
    "* `a.values()` : 딕셔너리 `a`의 `vlalue` 값들을 반환합니다.\n",
    "\n",
    "딕셔너리 `students`의 `value` 값들을 확인해 봅시다.\n",
    "\n",
    "```\n",
    "students.values()\n",
    "```"
   ]
  },
  {
   "cell_type": "code",
   "execution_count": 12,
   "metadata": {
    "id": "Yiu0p9Hvmh7P"
   },
   "outputs": [
    {
     "data": {
      "text/plain": [
       "dict_values([1, 2, 3])"
      ]
     },
     "execution_count": 12,
     "metadata": {},
     "output_type": "execute_result"
    }
   ],
   "source": [
    "students.values()"
   ]
  },
  {
   "cell_type": "markdown",
   "metadata": {
    "id": "y4unWpUtnDRr"
   },
   "source": [
    "#### **딕셔너리의 요소**\n",
    "\n",
    "딕셔너리에는 `key`와 `value`로 구성되어 있습니다. `key`값과 `value`값은 문자열과 수치자료형이 모두 가능합니다.\n",
    "\n",
    "```\n",
    "students = { 1: '김모모', 2: '이모모', 3: '강모모' }\n",
    "print(students)\n",
    "students = { '김모모': 1, '이모모': 2, '강모모': 3}\n",
    "print(students)\n",
    "```"
   ]
  },
  {
   "cell_type": "code",
   "execution_count": 6,
   "metadata": {
    "id": "N-k0xPDlnCPR"
   },
   "outputs": [
    {
     "name": "stdout",
     "output_type": "stream",
     "text": [
      "{1: '김모모', 2: '이모모', 3: '강모모'}\n",
      "{'김모모': 1, '이모모': 2, '강모모': 3}\n"
     ]
    }
   ],
   "source": [
    "students = { 1: '김모모', 2: '이모모', 3: '강모모' }\n",
    "print(students)\n",
    "students = { '김모모': 1, '이모모': 2, '강모모': 3}\n",
    "print(students)"
   ]
  },
  {
   "cell_type": "markdown",
   "metadata": {
    "id": "L3ivb4yznNkB"
   },
   "source": [
    "* `value` 값은 리스트로 구성될 수 있습니다.\n",
    "\n",
    "```\n",
    "students = { 1: ['김모모', '여성'], 2: ['이모모', '여성'], 3: ['강모모', '남성'] } \n",
    "print(students)\n",
    "```"
   ]
  },
  {
   "cell_type": "code",
   "execution_count": 13,
   "metadata": {
    "id": "qq48adJTnIi4"
   },
   "outputs": [
    {
     "name": "stdout",
     "output_type": "stream",
     "text": [
      "{1: ['김모모', '여성'], 2: ['이모모', '여성'], 3: ['강모모', '남성']}\n"
     ]
    }
   ],
   "source": [
    "students = { 1: ['김모모', '여성'], 2: ['이모모', '여성'], 3: ['강모모', '남성'] } \n",
    "print(students)"
   ]
  },
  {
   "cell_type": "markdown",
   "metadata": {
    "id": "q7ai9P_OnZOX"
   },
   "source": [
    "* `key`값은 리스트로 구성할 수 없습니다.\n",
    "\n",
    "```\n",
    "students = { ['김모모', '여성']:1, ['이모모', '여성']:2, ['강모모', '남성']:3 } \n",
    "print(students)\n",
    "```"
   ]
  },
  {
   "cell_type": "code",
   "execution_count": 14,
   "metadata": {
    "id": "B5rMikMYnOrP"
   },
   "outputs": [
    {
     "ename": "TypeError",
     "evalue": "unhashable type: 'list'",
     "output_type": "error",
     "traceback": [
      "\u001b[1;31m---------------------------------------------------------------------------\u001b[0m",
      "\u001b[1;31mTypeError\u001b[0m                                 Traceback (most recent call last)",
      "\u001b[1;32m~\\AppData\\Local\\Temp/ipykernel_11828/3336955143.py\u001b[0m in \u001b[0;36m<module>\u001b[1;34m\u001b[0m\n\u001b[1;32m----> 1\u001b[1;33m \u001b[0mstudents\u001b[0m \u001b[1;33m=\u001b[0m \u001b[1;33m{\u001b[0m \u001b[1;33m[\u001b[0m\u001b[1;34m'김모모'\u001b[0m\u001b[1;33m,\u001b[0m \u001b[1;34m'여성'\u001b[0m\u001b[1;33m]\u001b[0m\u001b[1;33m:\u001b[0m\u001b[1;36m1\u001b[0m\u001b[1;33m,\u001b[0m \u001b[1;33m[\u001b[0m\u001b[1;34m'이모모'\u001b[0m\u001b[1;33m,\u001b[0m \u001b[1;34m'여성'\u001b[0m\u001b[1;33m]\u001b[0m\u001b[1;33m:\u001b[0m\u001b[1;36m2\u001b[0m\u001b[1;33m,\u001b[0m \u001b[1;33m[\u001b[0m\u001b[1;34m'강모모'\u001b[0m\u001b[1;33m,\u001b[0m \u001b[1;34m'남성'\u001b[0m\u001b[1;33m]\u001b[0m\u001b[1;33m:\u001b[0m\u001b[1;36m3\u001b[0m \u001b[1;33m}\u001b[0m\u001b[1;33m\u001b[0m\u001b[1;33m\u001b[0m\u001b[0m\n\u001b[0m\u001b[0;32m      2\u001b[0m \u001b[0mprint\u001b[0m\u001b[1;33m(\u001b[0m\u001b[0mstudents\u001b[0m\u001b[1;33m)\u001b[0m\u001b[1;33m\u001b[0m\u001b[1;33m\u001b[0m\u001b[0m\n",
      "\u001b[1;31mTypeError\u001b[0m: unhashable type: 'list'"
     ]
    }
   ],
   "source": [
    "students = { ['김모모', '여성']:1, ['이모모', '여성']:2, ['강모모', '남성']:3 } \n",
    "print(students)"
   ]
  },
  {
   "cell_type": "markdown",
   "metadata": {
    "id": "6USCWJfinhzp"
   },
   "source": [
    "### **(2) 인덱싱과 슬라이싱**\n",
    "\n",
    "딕셔너리 자료형은 인덱싱이 가능하지만 슬라이싱은 불가능합니다.\n",
    "\n",
    "#### **인덱싱**\n",
    "\n",
    "딕셔너리 자료형에서 인덱싱을 하기 위해서는 `key`값을 이용합니다. \n",
    "\n",
    "```\n",
    "students = { 1: '김모모', 2: '이모모', 3: '강모모' }\n",
    "print(students)\n",
    "\n",
    "print(students[1]) \n",
    "print(students[2])\n",
    "print(students[3])\n",
    "```"
   ]
  },
  {
   "cell_type": "code",
   "execution_count": 16,
   "metadata": {
    "id": "ru9cjc8MnhVA"
   },
   "outputs": [
    {
     "name": "stdout",
     "output_type": "stream",
     "text": [
      "{10: '김모모', 20: '이모모', 30: '강모모'}\n"
     ]
    },
    {
     "ename": "KeyError",
     "evalue": "1",
     "output_type": "error",
     "traceback": [
      "\u001b[1;31m---------------------------------------------------------------------------\u001b[0m",
      "\u001b[1;31mKeyError\u001b[0m                                  Traceback (most recent call last)",
      "\u001b[1;32m~\\AppData\\Local\\Temp/ipykernel_11828/217201579.py\u001b[0m in \u001b[0;36m<module>\u001b[1;34m\u001b[0m\n\u001b[0;32m      2\u001b[0m \u001b[0mprint\u001b[0m\u001b[1;33m(\u001b[0m\u001b[0mstudents\u001b[0m\u001b[1;33m)\u001b[0m\u001b[1;33m\u001b[0m\u001b[1;33m\u001b[0m\u001b[0m\n\u001b[0;32m      3\u001b[0m \u001b[1;33m\u001b[0m\u001b[0m\n\u001b[1;32m----> 4\u001b[1;33m \u001b[0mprint\u001b[0m\u001b[1;33m(\u001b[0m\u001b[0mstudents\u001b[0m\u001b[1;33m[\u001b[0m\u001b[1;36m1\u001b[0m\u001b[1;33m]\u001b[0m\u001b[1;33m)\u001b[0m\u001b[1;33m\u001b[0m\u001b[1;33m\u001b[0m\u001b[0m\n\u001b[0m\u001b[0;32m      5\u001b[0m \u001b[0mprint\u001b[0m\u001b[1;33m(\u001b[0m\u001b[0mstudents\u001b[0m\u001b[1;33m[\u001b[0m\u001b[1;36m2\u001b[0m\u001b[1;33m]\u001b[0m\u001b[1;33m)\u001b[0m\u001b[1;33m\u001b[0m\u001b[1;33m\u001b[0m\u001b[0m\n\u001b[0;32m      6\u001b[0m \u001b[0mprint\u001b[0m\u001b[1;33m(\u001b[0m\u001b[0mstudents\u001b[0m\u001b[1;33m[\u001b[0m\u001b[1;36m3\u001b[0m\u001b[1;33m]\u001b[0m\u001b[1;33m)\u001b[0m\u001b[1;33m\u001b[0m\u001b[1;33m\u001b[0m\u001b[0m\n",
      "\u001b[1;31mKeyError\u001b[0m: 1"
     ]
    }
   ],
   "source": [
    "students = { 10: '김모모', 20: '이모모', 30: '강모모' }\n",
    "print(students)\n",
    "\n",
    "print(students[1]) \n",
    "print(students[2])\n",
    "print(students[3])"
   ]
  },
  {
   "cell_type": "markdown",
   "metadata": {
    "id": "Jt3KMf5enuzd"
   },
   "source": [
    "### **(3) 수정과 삭제**\n"
   ]
  },
  {
   "cell_type": "markdown",
   "metadata": {
    "id": "T4fcddD9n2XQ"
   },
   "source": [
    "\n",
    "#### **수정**\n",
    "\n",
    "인덱싱을 이용해 `value`값에 접근하여 값을 수정할 수 있습니다.\n",
    "\n",
    "```\n",
    "print(students)\n",
    "students[1] = \"윤모모\" # key 1 해당하는 value를 \"윤모모\"로 변경\n",
    "print(students)\n",
    "```"
   ]
  },
  {
   "cell_type": "code",
   "execution_count": 18,
   "metadata": {
    "id": "FqSnpoQgnf1X"
   },
   "outputs": [
    {
     "name": "stdout",
     "output_type": "stream",
     "text": [
      "{10: '김모모', 20: '이모모', 30: '강모모', 1: '윤모모'}\n",
      "{10: '윤모모', 20: '이모모', 30: '강모모', 1: '윤모모'}\n"
     ]
    }
   ],
   "source": [
    "print(students)\n",
    "students[10] = \"윤모모\" # key 1 해당하는 value를 \"윤모모\"로 변경\n",
    "print(students)"
   ]
  },
  {
   "cell_type": "markdown",
   "metadata": {
    "id": "8FDcTjVPn_GM"
   },
   "source": [
    "#### **삭제**\n",
    "\n",
    "인덱싱을 에용해 `value`값에 접근하고, `del` 을이용해 값을 삭제할 수 있습니다.\n",
    "\n",
    "```\n",
    "print(students)\n",
    "del students[1] # (1-윤모모) 삭제\n",
    "print(students)\n",
    "```\n"
   ]
  },
  {
   "cell_type": "code",
   "execution_count": 19,
   "metadata": {
    "id": "ssIGMsJ_n5D3"
   },
   "outputs": [
    {
     "name": "stdout",
     "output_type": "stream",
     "text": [
      "{10: '윤모모', 20: '이모모', 30: '강모모', 1: '윤모모'}\n",
      "{10: '윤모모', 20: '이모모', 30: '강모모'}\n"
     ]
    }
   ],
   "source": [
    "print(students)\n",
    "del students[1] # (1-윤모모) 삭제\n",
    "print(students)"
   ]
  },
  {
   "cell_type": "markdown",
   "metadata": {
    "id": "UOJIwkinoRaF"
   },
   "source": [
    "\n",
    "### **(4) 관련 메서드**"
   ]
  },
  {
   "cell_type": "markdown",
   "metadata": {
    "id": "P4ZTx-WLoFHQ"
   },
   "source": [
    "\n",
    "\n",
    "* `dict.get(k)` : 딕셔너리 `dict`의 key `k`에 해당하는 value를 반환합니다. 인덱싱과 같은 기능을 합니다. \n",
    "\n",
    "```\n",
    "print(students)\n",
    "print(students.get(2)) #  key 2에 해당하는 value 출력 (.get 이용하기)\n",
    "print(students[2]) # key 2에 해당하는 value 출력 (인덱싱 이용하기)\n",
    "```"
   ]
  },
  {
   "cell_type": "code",
   "execution_count": 20,
   "metadata": {
    "id": "EeNW-L8AoDqR"
   },
   "outputs": [
    {
     "name": "stdout",
     "output_type": "stream",
     "text": [
      "{10: '윤모모', 20: '이모모', 30: '강모모'}\n",
      "이모모\n",
      "이모모\n"
     ]
    }
   ],
   "source": [
    "print(students)\n",
    "print(students.get(20)) #  key 2에 해당하는 value 출력 (.get 이용하기)\n",
    "print(students[20]) # key 2에 해당하는 value 출력 (인덱싱 이용하기)"
   ]
  },
  {
   "cell_type": "markdown",
   "metadata": {
    "id": "IY34hs3NoQCi"
   },
   "source": [
    "* `dict.items()` : 딕셔너리 `dict`의 key 와 value를 튜플 쌍으로 반환합니다.\n",
    "\n",
    "\n",
    "```\n",
    "print(students.items()) # key-value 쌍 출력\n",
    "```\n"
   ]
  },
  {
   "cell_type": "code",
   "execution_count": 21,
   "metadata": {
    "id": "GetiL-7-oI9O"
   },
   "outputs": [
    {
     "name": "stdout",
     "output_type": "stream",
     "text": [
      "dict_items([(10, '윤모모'), (20, '이모모'), (30, '강모모')])\n"
     ]
    }
   ],
   "source": [
    "print(students.items()) # key-value 쌍 출력"
   ]
  },
  {
   "cell_type": "markdown",
   "metadata": {
    "id": "7CJzSn8boYPY"
   },
   "source": [
    "유용하게 사용하기 위해서는 리스트로 바꿔줍니다.\n",
    "\n",
    "```\n",
    "item_list = list(students.items())\n",
    "print(item_list)\n",
    "```"
   ]
  },
  {
   "cell_type": "code",
   "execution_count": 24,
   "metadata": {
    "id": "ndAt_6B_ohRM"
   },
   "outputs": [
    {
     "name": "stdout",
     "output_type": "stream",
     "text": [
      "[(10, '윤모모'), (20, '이모모'), (30, '강모모')]\n"
     ]
    },
    {
     "data": {
      "text/plain": [
       "(10, '윤모모')"
      ]
     },
     "execution_count": 24,
     "metadata": {},
     "output_type": "execute_result"
    }
   ],
   "source": [
    "item_list = list(students.items())\n",
    "print(item_list)\n",
    "item_list[0]"
   ]
  },
  {
   "cell_type": "markdown",
   "metadata": {
    "id": "3Mz2hNPvoiYX"
   },
   "source": [
    "리스트 형식으로 `key`와 `value`값에 적절히 접근할 수 있습니다.\n",
    "\n",
    "```\n",
    "print(item_list[0][0]) # 0번째 key\n",
    "print(item_list[0][1]) # 0번째 value\n",
    "print(item_list[1][0]) # 1번째 key\n",
    "print(item_list[1][1]) # 1번째 value\n",
    "```"
   ]
  },
  {
   "cell_type": "code",
   "execution_count": 26,
   "metadata": {
    "id": "l1ggc4rqo5Kg"
   },
   "outputs": [
    {
     "name": "stdout",
     "output_type": "stream",
     "text": [
      "10\n",
      "윤모모\n",
      "20\n",
      "이모모\n"
     ]
    }
   ],
   "source": [
    "print(item_list[0][0]) # 0번째 key\n",
    "print(item_list[0][1]) # 0번째 value\n",
    "print(item_list[1][0]) # 1번째 key\n",
    "print(item_list[1][1]) # 1번째 value"
   ]
  },
  {
   "cell_type": "markdown",
   "metadata": {
    "id": "NPopL6l8oTw1"
   },
   "source": [
    "* `dict.clear()` : 딕셔너리 `dict`의 구성요소를 초기화(제거) 합니다.\n",
    "\n",
    "```\n",
    "print(students) # students  출력\n",
    "students.clear() # students 초기화\n",
    "print(students) # students  출력\n",
    "```"
   ]
  },
  {
   "cell_type": "code",
   "execution_count": 25,
   "metadata": {
    "id": "OufFGiD8oUEJ"
   },
   "outputs": [
    {
     "name": "stdout",
     "output_type": "stream",
     "text": [
      "{10: '윤모모', 20: '이모모', 30: '강모모'}\n",
      "{}\n"
     ]
    }
   ],
   "source": [
    "print(students) # students  출력\n",
    "students.clear() # students 초기화\n",
    "print(students) # students  출력"
   ]
  },
  {
   "cell_type": "markdown",
   "metadata": {
    "id": "E2hw7Lu5o-fs"
   },
   "source": [
    "## 문제풀이\n",
    "---\n",
    "\n"
   ]
  },
  {
   "cell_type": "markdown",
   "metadata": {
    "id": "vBBYosZJpASW"
   },
   "source": [
    "**예제 01**\n",
    "\n",
    "과일메뉴와 가격이 다음과 같습니다. 이를 딕셔너리로 저장하세요\n",
    "\n",
    "|과일|가격|\n",
    "--|--\n",
    "사과|1000\n",
    "바나나|2400\n",
    "감자|400|\n",
    "메론|8000\n",
    "복숭아|4000\n",
    "딸기|9000\n"
   ]
  },
  {
   "cell_type": "code",
   "execution_count": 2,
   "metadata": {
    "id": "NjNzHNhHo8Pm"
   },
   "outputs": [
    {
     "data": {
      "text/plain": [
       "{'사과': 1000, '바나나': 2400, '감자': 400, '메론': 8000, '복숭아': 400, '딸기': 9000}"
      ]
     },
     "execution_count": 2,
     "metadata": {},
     "output_type": "execute_result"
    }
   ],
   "source": [
    "fruit = {\"사과\":1000, \"바나나\":2400,\"감자\":400,\"메론\":8000,\"복숭아\":400,\"딸기\":9000}\n",
    "fruit"
   ]
  },
  {
   "cell_type": "markdown",
   "metadata": {
    "id": "EHflY9g-pBpS"
   },
   "source": [
    "**예제 02**\n",
    "\n",
    "위에서 만든 딕셔너리에 \"포도\"를 추가하세요 가격은 6500원입니다."
   ]
  },
  {
   "cell_type": "code",
   "execution_count": 3,
   "metadata": {
    "id": "AvZFSHdLpCv4"
   },
   "outputs": [
    {
     "data": {
      "text/plain": [
       "{'사과': 1000,\n",
       " '바나나': 2400,\n",
       " '감자': 400,\n",
       " '메론': 8000,\n",
       " '복숭아': 400,\n",
       " '딸기': 9000,\n",
       " '포도': 6500}"
      ]
     },
     "execution_count": 3,
     "metadata": {},
     "output_type": "execute_result"
    }
   ],
   "source": [
    "fruit[\"포도\"] = 6500\n",
    "fruit"
   ]
  },
  {
   "cell_type": "markdown",
   "metadata": {
    "id": "RqOkRDTspC5V"
   },
   "source": [
    "**예제 03**\n",
    "\n",
    "위에서 만든 딕셔너리에 \"감자\"를 삭제하세요\n"
   ]
  },
  {
   "cell_type": "code",
   "execution_count": 4,
   "metadata": {
    "id": "Z46WP9k2pDYQ"
   },
   "outputs": [
    {
     "data": {
      "text/plain": [
       "{'사과': 1000, '바나나': 2400, '메론': 8000, '복숭아': 400, '딸기': 9000, '포도': 6500}"
      ]
     },
     "execution_count": 4,
     "metadata": {},
     "output_type": "execute_result"
    }
   ],
   "source": [
    "del fruit[\"감자\"]\n",
    "fruit"
   ]
  },
  {
   "cell_type": "markdown",
   "metadata": {
    "id": "o6HRTQy3pDeI"
   },
   "source": [
    "**예제 04**\n",
    "\n",
    "복숭아 가격이 올라 4500원이 되었습니다. 가격을 조정하세요"
   ]
  },
  {
   "cell_type": "code",
   "execution_count": 5,
   "metadata": {
    "id": "w7MSSt_ypEJ0"
   },
   "outputs": [],
   "source": [
    "fruit[\"복숭아\"] = 4500"
   ]
  },
  {
   "cell_type": "markdown",
   "metadata": {
    "id": "W4tcYa3MpEOc"
   },
   "source": [
    "**예제 05**\n",
    "\n",
    "위에서 정의한 딕셔너리의 key 값들만 이용해서 아래와 같이 출력되도록 세줄의 코드를 작성하세요\n",
    "\n",
    "* 코드\n",
    "```\n",
    "# key값을 리스트로 변환합니다.\n",
    "# 리스트를 문자열로 변환합니다.\n",
    "# 문자열을 출력합니다.\n",
    "```\n",
    "\n",
    "* 실행 결과\n",
    "```\n",
    "가게 과일 종류는 사과, 바나나, 메론, 봉숭아, 딸기, 포도 입니다!\n",
    "```"
   ]
  },
  {
   "cell_type": "code",
   "execution_count": 15,
   "metadata": {
    "id": "opdEEVMHpFQx"
   },
   "outputs": [
    {
     "name": "stdout",
     "output_type": "stream",
     "text": [
      "가게 과일 종류는 사과, 바나나, 메론, 복숭아, 딸기, 포도 입니다!\n"
     ]
    }
   ],
   "source": [
    "fruit_keys_lst = list(fruit.keys())\n",
    "fruit_keys_lst_str = ', '.join(fruit_keys_lst)\n",
    "print(f\"가게 과일 종류는 {fruit_keys_lst_str} 입니다!\")"
   ]
  },
  {
   "cell_type": "markdown",
   "metadata": {
    "id": "x2E746EdpFWN"
   },
   "source": [
    "**예제 06**\n",
    "\n",
    "위에서 정의한 딕셔너리를 이용해서 사용자가 과일 종류 한가지를 입력하면 해당 과일의 가격을 출력하는 코드를 작성하세요\n",
    "\n",
    "* 실행 결과\n",
    "```\n",
    ">> 어떤 과일을 찾으시나요?: 사과\n",
    "사과의 가격은 1000원 입니다.\n",
    "```"
   ]
  },
  {
   "cell_type": "code",
   "execution_count": 7,
   "metadata": {
    "id": "A4_O8rJepQtv"
   },
   "outputs": [
    {
     "name": "stdout",
     "output_type": "stream",
     "text": [
      "어떤 과일을 찾으시나욤?: ㅏ\n"
     ]
    },
    {
     "ename": "KeyError",
     "evalue": "'ㅏ'",
     "output_type": "error",
     "traceback": [
      "\u001b[1;31m---------------------------------------------------------------------------\u001b[0m",
      "\u001b[1;31mKeyError\u001b[0m                                  Traceback (most recent call last)",
      "\u001b[1;32m~\\AppData\\Local\\Temp/ipykernel_11156/3844463794.py\u001b[0m in \u001b[0;36m<module>\u001b[1;34m\u001b[0m\n\u001b[0;32m      1\u001b[0m \u001b[0mf_fruit\u001b[0m \u001b[1;33m=\u001b[0m \u001b[0minput\u001b[0m\u001b[1;33m(\u001b[0m\u001b[1;34m\"어떤 과일을 찾으시나욤?: \"\u001b[0m\u001b[1;33m)\u001b[0m\u001b[1;33m\u001b[0m\u001b[1;33m\u001b[0m\u001b[0m\n\u001b[1;32m----> 2\u001b[1;33m \u001b[0mprint\u001b[0m\u001b[1;33m(\u001b[0m\u001b[1;34mf\"사과의 가격은 {fruit[f_fruit]}원 입니다. 이리주시지요\"\u001b[0m\u001b[1;33m)\u001b[0m\u001b[1;33m\u001b[0m\u001b[1;33m\u001b[0m\u001b[0m\n\u001b[0m",
      "\u001b[1;31mKeyError\u001b[0m: 'ㅏ'"
     ]
    }
   ],
   "source": [
    "f_fruit = input(\"어떤 과일을 찾으시나욤?: \")\n",
    "print(f\"사과의 가격은 {fruit[f_fruit]}원 입니다. 이리주시지요\")"
   ]
  },
  {
   "cell_type": "markdown",
   "metadata": {
    "id": "Jn6EOaYdpmJi"
   },
   "source": [
    "**예제 07**\n",
    "\n",
    "커피를 `key`로, 가격과 재고가 들어있는 리스트를 `value` 로 하는 딕셔너리를 구성하여 `caffe_menu`로 바인딩하세요.\n",
    "\n",
    "|이름| 가격 | 재고 |\n",
    "|------| -----|----|\n",
    "|americano|1000|8\n",
    "|latte|1200|5\n",
    "|milk tea|1800|4\n"
   ]
  },
  {
   "cell_type": "code",
   "execution_count": 42,
   "metadata": {
    "id": "4mBLSS4TpnfO"
   },
   "outputs": [
    {
     "data": {
      "text/plain": [
       "{'americano': [1000, 8], 'latte': [1200, 5], 'milk tea': [1800, 4]}"
      ]
     },
     "execution_count": 42,
     "metadata": {},
     "output_type": "execute_result"
    }
   ],
   "source": [
    "caffe_menu = {\"americano\" : [1000,8], \"latte\" : [1200,5], \"milk tea\" : [1800,4]}\n",
    "caffe_menu"
   ]
  },
  {
   "cell_type": "markdown",
   "metadata": {
    "id": "wnkXcxJNpsQd"
   },
   "source": [
    "**예제 08**\n",
    "\n",
    "americano의 재고를 출력하세요\n"
   ]
  },
  {
   "cell_type": "code",
   "execution_count": 43,
   "metadata": {
    "id": "tnwv8DN9ptEt"
   },
   "outputs": [
    {
     "data": {
      "text/plain": [
       "8"
      ]
     },
     "execution_count": 43,
     "metadata": {},
     "output_type": "execute_result"
    }
   ],
   "source": [
    "caffe_menu[\"americano\"][1]"
   ]
  },
  {
   "cell_type": "markdown",
   "metadata": {
    "id": "wRw90-mHptKS"
   },
   "source": [
    "\n",
    "**예제 09**\n",
    "\n",
    "latte의 가격을 출력하세요"
   ]
  },
  {
   "cell_type": "code",
   "execution_count": 44,
   "metadata": {
    "id": "wX5wz3bqpt7R"
   },
   "outputs": [
    {
     "data": {
      "text/plain": [
       "1200"
      ]
     },
     "execution_count": 44,
     "metadata": {},
     "output_type": "execute_result"
    }
   ],
   "source": [
    "caffe_menu[\"latte\"][0]"
   ]
  },
  {
   "cell_type": "markdown",
   "metadata": {
    "id": "bHKHg1UJpuA4"
   },
   "source": [
    "**예제 10**\n",
    "\n",
    "모든 가격의 평균을 출력하는 코드를 한줄로 작성하세요"
   ]
  },
  {
   "cell_type": "code",
   "execution_count": 45,
   "metadata": {
    "id": "W_V1N7SDpvBh"
   },
   "outputs": [
    {
     "data": {
      "text/plain": [
       "2800.0"
      ]
     },
     "execution_count": 45,
     "metadata": {},
     "output_type": "execute_result"
    }
   ],
   "source": [
    "list(caffe_menu.values())[0][0]+list(caffe_menu.values())[1][0]+list(caffe_menu.values())[2][0]/3"
   ]
  },
  {
   "cell_type": "markdown",
   "metadata": {
    "id": "UGj-HLxApvKn"
   },
   "source": [
    "**예제 11**\n",
    "\n",
    "모든 가장 비싼 음료를 출력하는 코드를 작성하세요"
   ]
  },
  {
   "cell_type": "code",
   "execution_count": 46,
   "metadata": {
    "id": "rSCh6S4opwEC"
   },
   "outputs": [
    {
     "data": {
      "text/plain": [
       "1800"
      ]
     },
     "execution_count": 46,
     "metadata": {},
     "output_type": "execute_result"
    }
   ],
   "source": [
    "max(list(caffe_menu.values())[0][0],list(caffe_menu.values())[1][0],list(caffe_menu.values())[2][0])"
   ]
  },
  {
   "cell_type": "markdown",
   "metadata": {
    "id": "Ll9-2W1ZqVPP"
   },
   "source": [
    "**예제 12**\n",
    "\n",
    "우유값의 인상으로 latte와 milk tea의 가격이 300원씩 올랐습니다. `caffe_menu`에 반영하세요. (딕셔너리 자체를 재바인딩 하지 않도록 코드를 작성하세요.)"
   ]
  },
  {
   "cell_type": "code",
   "execution_count": 47,
   "metadata": {
    "id": "VnpW2XlJqVay"
   },
   "outputs": [
    {
     "data": {
      "text/plain": [
       "{'americano': [1000, 8], 'latte': [1500, 5], 'milk tea': [2100, 4]}"
      ]
     },
     "execution_count": 47,
     "metadata": {},
     "output_type": "execute_result"
    }
   ],
   "source": [
    "caffe_menu[\"latte\"][0]+=300\n",
    "caffe_menu[\"milk tea\"][0]+=300\n",
    "caffe_menu"
   ]
  },
  {
   "cell_type": "markdown",
   "metadata": {
    "id": "ffpR-aIzpwQn"
   },
   "source": [
    "**예제 13**\n",
    "\n",
    "가격, 재고 외에 판매수 라는 정보를 더 추가하려 합니다. 판매수는 americano 15개, latte 8개, milk tea 5개 입니다. `caffe_menu`의 `value`에 판매수를 추가하세요.  (딕셔너리 자체를 재바인딩 하지 않도록 코드를 작성하세요.)\n"
   ]
  },
  {
   "cell_type": "code",
   "execution_count": 48,
   "metadata": {
    "id": "ZhtuPrubpxhN"
   },
   "outputs": [
    {
     "data": {
      "text/plain": [
       "{'americano': [1000, 8, 15], 'latte': [1500, 5, 8, 5], 'milk tea': [2100, 4]}"
      ]
     },
     "execution_count": 48,
     "metadata": {},
     "output_type": "execute_result"
    }
   ],
   "source": [
    "# caffe_menu[\"americano\"]=[caffe_menu[\"americano\"][0],caffe_menu[\"americano\"][1],15]\n",
    "# caffe_menu[\"latte\"]=[caffe_menu[\"latte\"][0],caffe_menu[\"latte\"][1],8]\n",
    "# caffe_menu[\"milk tea\"]=[caffe_menu[\"milk tea\"][0],caffe_menu[\"milk tea\"][1],5]\n",
    "list(caffe_menu.items())[0][1].append(15)\n",
    "list(caffe_menu.items())[1][1].append(8)\n",
    "list(caffe_menu.items())[1][1].append(5)\n",
    "caffe_menu"
   ]
  },
  {
   "cell_type": "markdown",
   "metadata": {
    "id": "hH-ILO6gqlxi"
   },
   "source": [
    "**예제 14**\n",
    "\n",
    "재고 자동화로 더이상 재고 데이터가 필요없게 되었습니다. `caffe_menu`에서  재고에 관한 값을 제거하세요. (딕셔너리 자체를 재바인딩 하지 않도록 코드를 작성하세요.)"
   ]
  },
  {
   "cell_type": "code",
   "execution_count": 49,
   "metadata": {
    "id": "MGHM3OKIqlxj"
   },
   "outputs": [
    {
     "ename": "IndexError",
     "evalue": "list assignment index out of range",
     "output_type": "error",
     "traceback": [
      "\u001b[1;31m---------------------------------------------------------------------------\u001b[0m",
      "\u001b[1;31mIndexError\u001b[0m                                Traceback (most recent call last)",
      "\u001b[1;32m~\\AppData\\Local\\Temp/ipykernel_11156/4006253185.py\u001b[0m in \u001b[0;36m<module>\u001b[1;34m\u001b[0m\n\u001b[0;32m      1\u001b[0m \u001b[1;32mdel\u001b[0m \u001b[0mcaffe_menu\u001b[0m\u001b[1;33m[\u001b[0m\u001b[1;34m\"americano\"\u001b[0m\u001b[1;33m]\u001b[0m\u001b[1;33m[\u001b[0m\u001b[1;36m2\u001b[0m\u001b[1;33m]\u001b[0m\u001b[1;33m\u001b[0m\u001b[1;33m\u001b[0m\u001b[0m\n\u001b[0;32m      2\u001b[0m \u001b[1;32mdel\u001b[0m \u001b[0mcaffe_menu\u001b[0m\u001b[1;33m[\u001b[0m\u001b[1;34m\"latte\"\u001b[0m\u001b[1;33m]\u001b[0m\u001b[1;33m[\u001b[0m\u001b[1;36m2\u001b[0m\u001b[1;33m]\u001b[0m\u001b[1;33m\u001b[0m\u001b[1;33m\u001b[0m\u001b[0m\n\u001b[1;32m----> 3\u001b[1;33m \u001b[1;32mdel\u001b[0m \u001b[0mcaffe_menu\u001b[0m\u001b[1;33m[\u001b[0m\u001b[1;34m\"milk tea\"\u001b[0m\u001b[1;33m]\u001b[0m\u001b[1;33m[\u001b[0m\u001b[1;36m2\u001b[0m\u001b[1;33m]\u001b[0m\u001b[1;33m\u001b[0m\u001b[1;33m\u001b[0m\u001b[0m\n\u001b[0m\u001b[0;32m      4\u001b[0m \u001b[0mcaffe_menu\u001b[0m\u001b[1;33m\u001b[0m\u001b[1;33m\u001b[0m\u001b[0m\n",
      "\u001b[1;31mIndexError\u001b[0m: list assignment index out of range"
     ]
    }
   ],
   "source": [
    "del caffe_menu[\"americano\"][2]\n",
    "del caffe_menu[\"latte\"][2]\n",
    "del caffe_menu[\"milk tea\"][2]\n",
    "caffe_menu"
   ]
  },
  {
   "cell_type": "markdown",
   "metadata": {
    "id": "ayPk9FlFq3tf"
   },
   "source": [
    "**예제 15**\n",
    "\n",
    "새로운 메뉴 `vanilla latte`가 추가되었습니다. 가격은 2000원이고 판매수는 0입니다. `caffe_menu`에 추가하세요."
   ]
  },
  {
   "cell_type": "code",
   "execution_count": 50,
   "metadata": {
    "id": "9MXlfxTLq3tl"
   },
   "outputs": [
    {
     "data": {
      "text/plain": [
       "{'americano': [1000, 8],\n",
       " 'latte': [1500, 5, 5],\n",
       " 'milk tea': [2100, 4],\n",
       " 'vanilla latte': [2000, 0]}"
      ]
     },
     "execution_count": 50,
     "metadata": {},
     "output_type": "execute_result"
    }
   ],
   "source": [
    "caffe_menu[\"vanilla latte\"] = [2000, 0]\n",
    "caffe_menu"
   ]
  },
  {
   "cell_type": "markdown",
   "metadata": {
    "id": "12io9CvxpSeZ"
   },
   "source": [
    "**예제 16**\n",
    "\n",
    "아래와 같이 코드를 실행하면 메뉴를 띄우고, 사용자가 메뉴를 입력하면 메뉴에 대한 정보를 출력하는 코드를 작성하세요.\n",
    "\n",
    "* 실행 결과\n",
    "```\n",
    ">> 메뉴: americano * latte * milk tea * vanilla latte\n",
    ">> 메뉴를 선택하세요: milk tea\n",
    "milk tea 의 가격은 2100원이고 오늘 5개 팔렸습니다.\n",
    "```\n"
   ]
  },
  {
   "cell_type": "code",
   "execution_count": 51,
   "metadata": {
    "id": "rBVfpGbppTqv"
   },
   "outputs": [
    {
     "name": "stdout",
     "output_type": "stream",
     "text": [
      ">> 메뉴: americano * latte * milk tea * vanilla latte\n",
      ">> 메뉴를 선택하세요: \n"
     ]
    },
    {
     "ename": "KeyError",
     "evalue": "''",
     "output_type": "error",
     "traceback": [
      "\u001b[1;31m---------------------------------------------------------------------------\u001b[0m",
      "\u001b[1;31mKeyError\u001b[0m                                  Traceback (most recent call last)",
      "\u001b[1;32m~\\AppData\\Local\\Temp/ipykernel_11156/3750314645.py\u001b[0m in \u001b[0;36m<module>\u001b[1;34m\u001b[0m\n\u001b[0;32m      3\u001b[0m \u001b[1;33m\u001b[0m\u001b[0m\n\u001b[0;32m      4\u001b[0m \u001b[0mmenu_c\u001b[0m \u001b[1;33m=\u001b[0m \u001b[0minput\u001b[0m\u001b[1;33m(\u001b[0m\u001b[1;34m\">> 메뉴를 선택하세요: \"\u001b[0m\u001b[1;33m)\u001b[0m\u001b[1;33m\u001b[0m\u001b[1;33m\u001b[0m\u001b[0m\n\u001b[1;32m----> 5\u001b[1;33m \u001b[0mprint\u001b[0m\u001b[1;33m(\u001b[0m\u001b[1;34mf\"{menu_c} 의 가격은 {caffe_menu[menu_c][0]}이고 오늘 {caffe_menu[menu_c][1]}개 팔렸습니다.\"\u001b[0m\u001b[1;33m)\u001b[0m\u001b[1;33m\u001b[0m\u001b[1;33m\u001b[0m\u001b[0m\n\u001b[0m",
      "\u001b[1;31mKeyError\u001b[0m: ''"
     ]
    }
   ],
   "source": [
    "menu = list(caffe_menu.keys())\n",
    "print(f\">> 메뉴: {' * '.join(menu)}\")\n",
    "\n",
    "menu_c = input(\">> 메뉴를 선택하세요: \")\n",
    "print(f\"{menu_c} 의 가격은 {caffe_menu[menu_c][0]}이고 오늘 {caffe_menu[menu_c][1]}개 팔렸습니다.\")"
   ]
  },
  {
   "cell_type": "markdown",
   "metadata": {
    "id": "uS21dCdOrsr_"
   },
   "source": [
    "**예제 17**\n",
    "\n",
    "아래와 같이 사용자가 0부터 9까지 숫자를 입력하면 한국어로 변환하는 코드를 작성하세요. \n",
    "\n",
    "* 실행 결과\n",
    "```\n",
    ">> 0부터 9까지 숫자를 입력하세요: 7\n",
    "7은 한국어로 \"칠\" 이라고 읽습니다.\n",
    "```\n"
   ]
  },
  {
   "cell_type": "code",
   "execution_count": 52,
   "metadata": {
    "id": "bPbTUijmrsr_"
   },
   "outputs": [
    {
     "name": "stdout",
     "output_type": "stream",
     "text": [
      "0부터 9까지 숫자를 입력하세요: \n"
     ]
    },
    {
     "ename": "ValueError",
     "evalue": "invalid literal for int() with base 10: ''",
     "output_type": "error",
     "traceback": [
      "\u001b[1;31m---------------------------------------------------------------------------\u001b[0m",
      "\u001b[1;31mValueError\u001b[0m                                Traceback (most recent call last)",
      "\u001b[1;32m~\\AppData\\Local\\Temp/ipykernel_11156/2227534929.py\u001b[0m in \u001b[0;36m<module>\u001b[1;34m\u001b[0m\n\u001b[0;32m      1\u001b[0m \u001b[0mtrans\u001b[0m \u001b[1;33m=\u001b[0m \u001b[1;33m{\u001b[0m\u001b[1;36m1\u001b[0m\u001b[1;33m:\u001b[0m\u001b[1;34m\"일\"\u001b[0m\u001b[1;33m,\u001b[0m\u001b[1;36m2\u001b[0m\u001b[1;33m:\u001b[0m\u001b[1;34m\"이\"\u001b[0m\u001b[1;33m,\u001b[0m\u001b[1;36m3\u001b[0m\u001b[1;33m:\u001b[0m\u001b[1;34m\"삼\"\u001b[0m\u001b[1;33m,\u001b[0m\u001b[1;36m4\u001b[0m\u001b[1;33m:\u001b[0m\u001b[1;34m\"사\"\u001b[0m\u001b[1;33m,\u001b[0m\u001b[1;36m5\u001b[0m\u001b[1;33m:\u001b[0m\u001b[1;34m\"오\"\u001b[0m\u001b[1;33m,\u001b[0m\u001b[1;36m6\u001b[0m\u001b[1;33m:\u001b[0m\u001b[1;34m\"율\"\u001b[0m\u001b[1;33m,\u001b[0m\u001b[1;36m7\u001b[0m\u001b[1;33m:\u001b[0m\u001b[1;34m\"칠\"\u001b[0m\u001b[1;33m,\u001b[0m\u001b[1;36m8\u001b[0m\u001b[1;33m:\u001b[0m\u001b[1;34m\"팔\"\u001b[0m\u001b[1;33m,\u001b[0m\u001b[1;36m9\u001b[0m\u001b[1;33m:\u001b[0m\u001b[1;34m\"구\"\u001b[0m\u001b[1;33m}\u001b[0m\u001b[1;33m\u001b[0m\u001b[1;33m\u001b[0m\u001b[0m\n\u001b[1;32m----> 2\u001b[1;33m \u001b[0mnum\u001b[0m \u001b[1;33m=\u001b[0m \u001b[0mint\u001b[0m\u001b[1;33m(\u001b[0m\u001b[0minput\u001b[0m\u001b[1;33m(\u001b[0m\u001b[1;34m\"0부터 9까지 숫자를 입력하세요: \"\u001b[0m\u001b[1;33m)\u001b[0m\u001b[1;33m)\u001b[0m\u001b[1;33m\u001b[0m\u001b[1;33m\u001b[0m\u001b[0m\n\u001b[0m\u001b[0;32m      3\u001b[0m \u001b[0mprint\u001b[0m\u001b[1;33m(\u001b[0m\u001b[1;34mf\"{num}은 한국어로 '{trans[num]}' 이라고 읽습니다.\"\u001b[0m\u001b[1;33m)\u001b[0m\u001b[1;33m\u001b[0m\u001b[1;33m\u001b[0m\u001b[0m\n",
      "\u001b[1;31mValueError\u001b[0m: invalid literal for int() with base 10: ''"
     ]
    }
   ],
   "source": [
    "trans = {1:\"일\",2:\"이\",3:\"삼\",4:\"사\",5:\"오\",6:\"율\",7:\"칠\",8:\"팔\",9:\"구\"}\n",
    "num = int(input(\"0부터 9까지 숫자를 입력하세요: \"))\n",
    "print(f\"{num}은 한국어로 '{trans[num]}' 이라고 읽습니다.\")"
   ]
  },
  {
   "cell_type": "markdown",
   "metadata": {
    "id": "ll-l2MJUrtCn"
   },
   "source": [
    "**예제 18**\n",
    "\n",
    "아래와 같이 딕셔너리가 정의되어 있습니다. 알파벳을 입력하면 아래와 같은 실행 결과를 내는 코드를 작성하세요.\n",
    "\n",
    "```\n",
    "abc_dict = {'a': ['apple', 'air'], 'b': ['banana', 'book'] , 'c' : ['cherry', 'car']}\n",
    "```\n",
    "\n",
    "* 실행 결과\n",
    "```\n",
    ">> alphabet : a\n",
    "a is apple, a is air\n",
    "```\n",
    "\n",
    "* 실행 결과\n",
    "```\n",
    ">> alphabet : b\n",
    "b is banana, b is book\n",
    "```\n"
   ]
  },
  {
   "cell_type": "code",
   "execution_count": 53,
   "metadata": {
    "id": "_LNc0bKKrtCn"
   },
   "outputs": [],
   "source": [
    "abc_dict = {'a': ['apple', 'air'], 'b': ['banana', 'book'] , 'c' : ['cherry', 'car']}"
   ]
  },
  {
   "cell_type": "code",
   "execution_count": 54,
   "metadata": {},
   "outputs": [
    {
     "name": "stdout",
     "output_type": "stream",
     "text": [
      ">> alphabet : \n"
     ]
    },
    {
     "ename": "KeyError",
     "evalue": "''",
     "output_type": "error",
     "traceback": [
      "\u001b[1;31m---------------------------------------------------------------------------\u001b[0m",
      "\u001b[1;31mKeyError\u001b[0m                                  Traceback (most recent call last)",
      "\u001b[1;32m~\\AppData\\Local\\Temp/ipykernel_11156/2700562144.py\u001b[0m in \u001b[0;36m<module>\u001b[1;34m\u001b[0m\n\u001b[0;32m      1\u001b[0m \u001b[0malp\u001b[0m \u001b[1;33m=\u001b[0m \u001b[0minput\u001b[0m\u001b[1;33m(\u001b[0m\u001b[1;34m\">> alphabet : \"\u001b[0m\u001b[1;33m)\u001b[0m\u001b[1;33m\u001b[0m\u001b[1;33m\u001b[0m\u001b[0m\n\u001b[1;32m----> 2\u001b[1;33m \u001b[0mprint\u001b[0m\u001b[1;33m(\u001b[0m\u001b[1;34mf\"{alp} is {abc_dict[alp][0]}, {alp} is {abc_dict[alp][1]}\"\u001b[0m\u001b[1;33m)\u001b[0m\u001b[1;33m\u001b[0m\u001b[1;33m\u001b[0m\u001b[0m\n\u001b[0m",
      "\u001b[1;31mKeyError\u001b[0m: ''"
     ]
    }
   ],
   "source": [
    "alp = input(\">> alphabet : \")\n",
    "print(f\"{alp} is {abc_dict[alp][0]}, {alp} is {abc_dict[alp][1]}\")"
   ]
  },
  {
   "cell_type": "markdown",
   "metadata": {
    "id": "xTC4HPlzuF-i"
   },
   "source": [
    "**예제 20**\n",
    "\n",
    "아래와 같이 딕셔너리가 정의되어 있습니다. 알파벳을 입력하면 아래와 같은 실행 결과를 내는 코드를 작성하세요.\n",
    "\n",
    "```\n",
    "abc_dict = {'a': ['apple', 'air'], 'b': ['banana', 'book'] , 'c' : ['cherry', 'car']}\n",
    "```\n",
    "\n",
    "* 실행 결과\n",
    "```\n",
    ">> alphabet : a\n",
    ">> num : 0\n",
    "a is Apple\n",
    "```\n",
    "\n",
    "* 실행 결과\n",
    "```\n",
    ">> alphabet : b\n",
    ">> num : 1\n",
    "b is Book\n",
    "```\n"
   ]
  },
  {
   "cell_type": "code",
   "execution_count": 55,
   "metadata": {
    "id": "TMyWR9-buF-p"
   },
   "outputs": [],
   "source": [
    "abc_dict = {'a': ['apple', 'air'], 'b': ['banana', 'book'] , 'c' : ['cherry', 'car']}"
   ]
  },
  {
   "cell_type": "code",
   "execution_count": null,
   "metadata": {},
   "outputs": [],
   "source": [
    "alp = input(\">> alphabet : \")\n",
    "num = int(input(\">> num : \"))\n",
    "print(f\"{alp} is {abc_dict[alp][num]}\")"
   ]
  },
  {
   "cell_type": "code",
   "execution_count": null,
   "metadata": {},
   "outputs": [],
   "source": []
  }
 ],
 "metadata": {
  "colab": {
   "authorship_tag": "ABX9TyOtEhiqiwe7WEDgZ/uf3sAn",
   "collapsed_sections": [],
   "name": "2-6.파이썬의 자료형:딕셔너리.ipynb",
   "provenance": []
  },
  "kernelspec": {
   "display_name": "Python 3 (ipykernel)",
   "language": "python",
   "name": "python3"
  },
  "language_info": {
   "codemirror_mode": {
    "name": "ipython",
    "version": 3
   },
   "file_extension": ".py",
   "mimetype": "text/x-python",
   "name": "python",
   "nbconvert_exporter": "python",
   "pygments_lexer": "ipython3",
   "version": "3.9.7"
  },
  "toc": {
   "base_numbering": 1,
   "nav_menu": {},
   "number_sections": true,
   "sideBar": true,
   "skip_h1_title": false,
   "title_cell": "Table of Contents",
   "title_sidebar": "Contents",
   "toc_cell": false,
   "toc_position": {},
   "toc_section_display": true,
   "toc_window_display": false
  },
  "varInspector": {
   "cols": {
    "lenName": 16,
    "lenType": 16,
    "lenVar": 40
   },
   "kernels_config": {
    "python": {
     "delete_cmd_postfix": "",
     "delete_cmd_prefix": "del ",
     "library": "var_list.py",
     "varRefreshCmd": "print(var_dic_list())"
    },
    "r": {
     "delete_cmd_postfix": ") ",
     "delete_cmd_prefix": "rm(",
     "library": "var_list.r",
     "varRefreshCmd": "cat(var_dic_list()) "
    }
   },
   "types_to_exclude": [
    "module",
    "function",
    "builtin_function_or_method",
    "instance",
    "_Feature"
   ],
   "window_display": false
  }
 },
 "nbformat": 4,
 "nbformat_minor": 1
}
