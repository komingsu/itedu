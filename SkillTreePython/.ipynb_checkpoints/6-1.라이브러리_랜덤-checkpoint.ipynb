{
 "cells": [
  {
   "cell_type": "markdown",
   "metadata": {
    "id": "jgFAOz-Tw1VI"
   },
   "source": [
    "# 6-1.라이브러리: 랜덤\n",
    "---\n",
    "* 날짜: 2022-04-04\n",
    "* 이름: 고민수\n"
   ]
  },
  {
   "cell_type": "markdown",
   "metadata": {
    "id": "roC8A6Ro6THT"
   },
   "source": [
    "## 개념정리\n",
    "---\n",
    "\n",
    "전세계의 파이썬 사용자들이 유용한 라이브러리를 만들어 놓았습니다. 수많은 파이썬 라이브러리가 있지만 그중에서도 유용하고 기본적인 라이브러리를 알아보도록 하겠습니다. \n",
    "\n",
    "주사위를 던지거나 복권추첨 등 난수를 이용해서 코드를 짜야할 때가 종종 있습니다. 파이썬에서 난수를 만드는 방법을 알아보도록 하겠습니다. 난수를 만드는 모듈은 **random** 을 이용합니다. "
   ]
  },
  {
   "cell_type": "markdown",
   "metadata": {
    "id": "HjPXsM8C5ULZ"
   },
   "source": [
    "### **(1) 라이브러리 임포트(import)**\n",
    "\n",
    "아래와 같이 `random` 모듈을 `import` 해줍니다.\n",
    "\n",
    "```\n",
    "import random\n",
    "```\n"
   ]
  },
  {
   "cell_type": "code",
   "execution_count": 1,
   "metadata": {
    "id": "9pxx7Zy53xFz"
   },
   "outputs": [],
   "source": [
    "import random"
   ]
  },
  {
   "cell_type": "markdown",
   "metadata": {
    "id": "4hBv297VxWGr"
   },
   "source": [
    "### **(2) 기본 사용 : `random`**"
   ]
  },
  {
   "cell_type": "markdown",
   "metadata": {
    "id": "o4Y67BgLKmxO"
   },
   "source": [
    "#### **랜덤값 생성**\n",
    "\n"
   ]
  },
  {
   "cell_type": "markdown",
   "metadata": {
    "id": "zD6gfuVD3xwx"
   },
   "source": [
    "* `random.random` : 0과 1사이의 난수를 무작위로 생성합니다.\n",
    "\n",
    "```\n",
    "random.random()\n",
    "```\n",
    "\n"
   ]
  },
  {
   "cell_type": "code",
   "execution_count": 30,
   "metadata": {
    "id": "OaowHk_83leh"
   },
   "outputs": [
    {
     "data": {
      "text/plain": [
       "0.8139482137722162"
      ]
     },
     "execution_count": 30,
     "metadata": {},
     "output_type": "execute_result"
    }
   ],
   "source": [
    "random.random()"
   ]
  },
  {
   "cell_type": "markdown",
   "metadata": {
    "id": "BOwMgkiC4RqB"
   },
   "source": [
    "* `random.randint`: 특정 범위 랜덤한 정수를 무작위로 생성합니다. (a이상 b 이하)\n",
    "\n",
    "```\n",
    "random.randint(a, b)\n",
    "```\n",
    "\n"
   ]
  },
  {
   "cell_type": "code",
   "execution_count": 60,
   "metadata": {
    "id": "_zG33m-S4RqI"
   },
   "outputs": [
    {
     "data": {
      "text/plain": [
       "2"
      ]
     },
     "execution_count": 60,
     "metadata": {},
     "output_type": "execute_result"
    }
   ],
   "source": [
    "random.randint(1,6)"
   ]
  },
  {
   "cell_type": "markdown",
   "metadata": {
    "id": "CbpP-qatLAmI"
   },
   "source": [
    "#### **랜덤값 추출**"
   ]
  },
  {
   "cell_type": "markdown",
   "metadata": {
    "id": "uETLiTpC5OQd"
   },
   "source": [
    "* `random.choice`: 주어진 sequence 에서 랜덤으로 한개의 요소를 뽑습니다.\n",
    "\n",
    "```\n",
    "a = [1,2,3] # 리스트 a가 주어졌을 때 \n",
    "b = random.choice(a) # a의 요소 중 한개를 뽑아 b로 바인딩\n",
    "print(b)\n",
    "```\n",
    "\n"
   ]
  },
  {
   "cell_type": "code",
   "execution_count": 107,
   "metadata": {
    "id": "MKMHr7p651mJ"
   },
   "outputs": [
    {
     "name": "stdout",
     "output_type": "stream",
     "text": [
      "8\n",
      "7\n",
      "10\n",
      "6\n",
      "2\n",
      "4\n",
      "10\n",
      "9\n",
      "8\n",
      "5\n"
     ]
    }
   ],
   "source": [
    "a = [1,2,3,4,5,6,7,8,9,10] # 리스트 a가 주어졌을 때 \n",
    " # a의 요소 중 한개를 뽑아 b로 바인딩\n",
    "for i in range(1,11):\n",
    "    b = random.choice(a)\n",
    "    print(b)"
   ]
  },
  {
   "cell_type": "markdown",
   "metadata": {
    "id": "PbidqOm3z7sn"
   },
   "source": [
    "* `random.choices` : 주어진 sequence 에서 랜덤으로 k개의 요소를 뽑습니다. 중복이 가능합니다.\n",
    "\n",
    "```\n",
    "a = [1,2,3] # 리스트 a가 주어졌을 때 \n",
    "b = random.choices(a, k=2) # a의 요소 중 k개를 뽑아 b로 바인딩\n",
    "print(b)\n",
    "```\n",
    "\n"
   ]
  },
  {
   "cell_type": "code",
   "execution_count": 108,
   "metadata": {
    "id": "sgyxjWvLz7sv"
   },
   "outputs": [
    {
     "name": "stdout",
     "output_type": "stream",
     "text": [
      "[2, 3]\n"
     ]
    }
   ],
   "source": [
    "a = [1,2,3] # 리스트 a가 주어졌을 때 \n",
    "b = random.choices(a, k=2) # a의 요소 중 k개를 뽑아 b로 바인딩\n",
    "print(b)"
   ]
  },
  {
   "cell_type": "markdown",
   "metadata": {
    "id": "A17ZgbqfK3lr"
   },
   "source": [
    "#### **기타**"
   ]
  },
  {
   "cell_type": "markdown",
   "metadata": {
    "id": "9od_vtK84u_4"
   },
   "source": [
    "* `random.shuffle` : 특정 시퀀스를 랜덤하게 섞는 함수입니다.\n",
    "\n",
    "```\n",
    "a = [1,2,3]\n",
    "random.shuffle(a)\n",
    "print(a)\n",
    "```\n",
    "\n"
   ]
  },
  {
   "cell_type": "code",
   "execution_count": 109,
   "metadata": {
    "id": "_srXvBaG4Xmi"
   },
   "outputs": [
    {
     "name": "stdout",
     "output_type": "stream",
     "text": [
      "[3, 1, 2]\n"
     ]
    }
   ],
   "source": [
    "a = [1,2,3]\n",
    "random.shuffle(a)\n",
    "print(a)"
   ]
  },
  {
   "cell_type": "markdown",
   "metadata": {
    "id": "qgwblcg16Qb7"
   },
   "source": [
    "# 예제\n",
    "---"
   ]
  },
  {
   "cell_type": "markdown",
   "metadata": {
    "id": "wEh21CAlIF5M"
   },
   "source": [
    "####**예제 01 여러번의 주사위**\n",
    "\n",
    "\n",
    "    - 주사위를 던지면 1에서 6까지 숫자가 랜덤으로 나옵니다.\n",
    "    - 주사위를 사용하가 입력한 만큼 돌리고 각숫자가 몇번씩 나왔는지 알려주는 함수를 작성하세요\n"
   ]
  },
  {
   "cell_type": "code",
   "execution_count": 135,
   "metadata": {
    "id": "kv4kbTMuAoLN"
   },
   "outputs": [
    {
     "name": "stdout",
     "output_type": "stream",
     "text": [
      "주사위는 1: 160개, 2: 170개, 3: 175개, 4: 148개, 5: 180개, 6: 167개 씩 나왔습니다.\n",
      "나온 눈의 평균은 586.5입니다\n"
     ]
    }
   ],
   "source": [
    "a = []\n",
    "def dice_roll(input1):\n",
    "    \n",
    "    # 다이스 굴리기\n",
    "    for i in range(1,input1+1):\n",
    "        a.append(random.randint(1,6))\n",
    "    \n",
    "    # 각 숫자 count\n",
    "    ac1 = a.count(1)\n",
    "    ac2 = a.count(2)\n",
    "    ac3 = a.count(3)\n",
    "    ac4 = a.count(4)\n",
    "    ac5 = a.count(5)\n",
    "    ac6 = a.count(6)\n",
    "    \n",
    "    # print\n",
    "    print(f\"주사위는 1: {ac1}개, 2: {ac2}개, 3: {ac3}개, 4: {ac4}개, 5: {ac5}개, 6: {ac6}개 씩 나왔습니다.\")\n",
    "    print(f\"나온 눈의 평균은 {round((ac1*1+ac2*2+ac3*3+ac4*4+ac5*5+ac6*6)/6,1)}입니다\")\n",
    "    \n",
    "dice_roll(1000)"
   ]
  },
  {
   "cell_type": "markdown",
   "metadata": {
    "id": "R_v3MPkG6zci"
   },
   "source": [
    "####**예제 02 업다운게임**\n",
    "\n",
    "    - 1~100까지 값이 랜덤하게 지정됩니다.\n",
    "    - 랜덤값(정답)이 사용자가 찍은 답보다 높으면 UP\n",
    "    - 랜덤값이 낮으면 DOWN\n",
    "    - 랜덤값을 맞추면 \"CORRECT\"를 출력합니다.\n",
    "    - 사용자가 랜덤값을 맞출 때까지 진행됩니다.\n"
   ]
  },
  {
   "cell_type": "code",
   "execution_count": 137,
   "metadata": {
    "id": "rchkDnZE6y10"
   },
   "outputs": [
    {
     "name": "stdout",
     "output_type": "stream",
     "text": [
      "1~100 숫자를 찍으세요!40\n",
      "DOWN!\n",
      "1~100 숫자를 찍으세요!20\n",
      "DOWN!\n",
      "1~100 숫자를 찍으세요!10\n",
      "UP!\n",
      "1~100 숫자를 찍으세요!15\n",
      "UP!\n",
      "1~100 숫자를 찍으세요!18\n",
      "CORRECT\n"
     ]
    }
   ],
   "source": [
    "def up_down_game():\n",
    "    import random\n",
    "    answer = random.randint(1,100)\n",
    "    \n",
    "    while True:\n",
    "        a = int(input(\"1~100 숫자를 찍으세요!\"))\n",
    "        if answer > a:\n",
    "            print(\"UP!\")\n",
    "        elif answer <a:\n",
    "            print(\"DOWN!\")\n",
    "        elif answer == a:\n",
    "            print(\"CORRECT\")\n",
    "            break\n",
    "        else:\n",
    "            print(\"제대로 입력하세요\")\n",
    "            \n",
    "up_down_game()"
   ]
  },
  {
   "cell_type": "markdown",
   "metadata": {
    "id": "l3NBAKiG7sD8"
   },
   "source": [
    "####**예제 03 숫자야구**\n",
    "\n",
    "    - 0~9까지 값을 지닌 3자리 숫자가 랜덤하게 지정됩니다.\n",
    "    - 각 자리 숫자는 중복되지 않아야 합니다.\n",
    "    - 맞춰야할 랜덤값 3개중 자리수에 상관없이 맞추면 \"볼\", 자리수까지 맞추면 \"홈런\" 입니다.\n",
    "    - 사용자가 지정된 랜덤값을 맞출 때까지 진행됩니다.\n",
    "\n",
    "\n",
    "\n",
    "* 아래 표는 랜덤값이 123일 때 사용자의 입력과 그에 따른 출력을 나타낸 표입니다. \n",
    "\n",
    "입력|출력\n",
    "---|---\n",
    "123| 3볼 3홈런\n",
    "132| 3볼 1홈런\n",
    "231| 3볼 0홈런 \n",
    "125| 2볼 2홈런\n",
    "\n"
   ]
  },
  {
   "cell_type": "code",
   "execution_count": null,
   "metadata": {},
   "outputs": [],
   "source": []
  },
  {
   "cell_type": "code",
   "execution_count": 29,
   "metadata": {
    "id": "T6yhNpAT6RsJ"
   },
   "outputs": [
    {
     "name": "stdout",
     "output_type": "stream",
     "text": [
      "3개의 숫자 입력 : 183\n",
      "1볼 1홈런\n",
      "3개의 숫자 입력 : 124\n",
      "0볼 0홈런\n",
      "3개의 숫자 입력 : 637\n",
      "2볼 1홈런\n",
      "3개의 숫자 입력 : 653\n",
      "2볼 2홈런\n",
      "3개의 숫자 입력 : 693\n",
      "2볼 2홈런\n",
      "3개의 숫자 입력 : 659\n",
      "1볼 1홈런\n",
      "3개의 숫자 입력 : 632\n",
      "2볼 1홈런\n",
      "3개의 숫자 입력 : 603\n",
      "3볼 3홈런\n",
      "정답입니다.\n"
     ]
    }
   ],
   "source": [
    "def num_baseball():\n",
    "    \n",
    "    import random\n",
    "    \n",
    "    num = [] \n",
    "    \n",
    "    # 중복되지 않는 3개 숫자 담기\n",
    "    while len(num) < 3:\n",
    "        temp = random.randint(0,9)\n",
    "        if temp not in num:\n",
    "            num.append(temp)\n",
    "            \n",
    "    # 맞출때 까지\n",
    "    while True:\n",
    "        \n",
    "        # 숫자 받기\n",
    "        a_num = [] \n",
    "        a = input(\"3개의 숫자 입력 : \")\n",
    "        if len(a)==3:\n",
    "            a_num.append(int(a[0]))\n",
    "            a_num.append(int(a[1]))\n",
    "            a_num.append(int(a[2]))\n",
    "        else:\n",
    "            print(\"숫자 3개를 입력하세요\")\n",
    "\n",
    "        # 자리랑 상관없는 볼\n",
    "        ball = 0\n",
    "        for i in a_num:\n",
    "            if i in num:\n",
    "                ball+=1\n",
    "\n",
    "        # 자리랑 상관있는 홈런\n",
    "        homerun = 0\n",
    "        for i in range(0,3):\n",
    "            if a_num[i] == num[i]:\n",
    "                homerun+=1\n",
    "        \n",
    "        # 출력\n",
    "        print(f\"{ball}볼 {homerun}홈런\")\n",
    "        \n",
    "        # 모두 맞추면 break\n",
    "        if (ball==3&homerun==3):\n",
    "            print(\"정답입니다.\")\n",
    "            break\n",
    "            \n",
    "num_baseball()"
   ]
  },
  {
   "cell_type": "markdown",
   "metadata": {
    "id": "Mal9fB6ZmXXV"
   },
   "source": [
    "####**예제 04 같은 그림 맞추기**\n",
    "\n",
    "    - 숫자가 1부터 16까지 순서대로 나열됩니다. (4x4 크기).\n",
    "    - 숫자 두개를 고르면 고른 숫자카드 두개는 알파벳이 보여집니다. \n",
    "    - 두 알파벳이 동일하면 알파벳이 보여진채로 다음 숫자 두개를 고릅니다.\n",
    "    - 두 알파벳이 다르면 다시 숫자카드가 보인채로 다음 숫자 두개를 고릅니다.\n",
    "    - 알파벳이 모두 보여지면 게임이 끝납니다.\n",
    "\n",
    "* 예시\n",
    "\n",
    "```\n",
    ">> 같은그림 맞추기 시작! \n",
    "\n",
    "| 1| 2| 3| 4|\n",
    "| 5| 6| 7| 8|\n",
    "| 9|10|11|12|\n",
    "|13|14|15|16|\n",
    "\n",
    ">> 숫자1: 5\n",
    ">> 숫자2: 10\n",
    "\n",
    "| 1| 2| 3| 4|\n",
    "| A| 6| 7| 8|\n",
    "| 9| A|11|12|\n",
    "|13|14|15|16|\n",
    "\n",
    "```\n"
   ]
  },
  {
   "cell_type": "code",
   "execution_count": 12,
   "metadata": {},
   "outputs": [
    {
     "name": "stdout",
     "output_type": "stream",
     "text": [
      "| 1| 2| 3| 4|\n",
      "| 5| 6| 7| 8|\n",
      "| A|10|11|12|\n",
      "|13|14|15|16|\n"
     ]
    }
   ],
   "source": [
    "num = list(range(1,17))\n",
    "num[8] = \"A\"\n",
    "for i in range(0,4):\n",
    "    print(\"|\",end=\"\")\n",
    "    for j in range(0,4):\n",
    "        print(f'{num[4*i+j]:>2}',end=\"|\")\n",
    "    print()"
   ]
  },
  {
   "cell_type": "code",
   "execution_count": 26,
   "metadata": {
    "id": "X2p19J23nnyf"
   },
   "outputs": [
    {
     "name": "stdout",
     "output_type": "stream",
     "text": [
      "카드를 섞는 중입니다.\n",
      "게임이 시작됩니다.\n",
      "3\n",
      "2\n",
      "1\n",
      "### 카드판 ###\n",
      "| 1| 2| 3| 4|\n",
      "| 5| 6| 7| 8|\n",
      "| 9|10|11|12|\n",
      "|13|14|15|16|\n",
      "\n",
      "1번째 뽑기\n",
      "숫자를 골라주세요\n",
      "숫자1 : 1\n",
      "숫자2 : 5\n",
      "\n",
      "| D| 2| 3| 4|\n",
      "| W| 6| 7| 8|\n",
      "| 9|10|11|12|\n",
      "|13|14|15|16|\n",
      "틀렸습니다\n",
      "\n",
      "\n",
      "\n",
      "### 카드판 ###\n",
      "| 1| 2| 3| 4|\n",
      "| 5| 6| 7| 8|\n",
      "| 9|10|11|12|\n",
      "|13|14|15|16|\n",
      "\n",
      "2번째 뽑기\n",
      "숫자를 골라주세요\n",
      "숫자1 : 2\n",
      "숫자2 : 6\n",
      "\n",
      "| 1| H| 3| 4|\n",
      "| 5| S| 7| 8|\n",
      "| 9|10|11|12|\n",
      "|13|14|15|16|\n",
      "틀렸습니다\n",
      "\n",
      "\n",
      "\n",
      "### 카드판 ###\n",
      "| 1| 2| 3| 4|\n",
      "| 5| 6| 7| 8|\n",
      "| 9|10|11|12|\n",
      "|13|14|15|16|\n",
      "\n",
      "3번째 뽑기\n",
      "숫자를 골라주세요\n",
      "숫자1 : 3\n",
      "숫자2 : 7\n",
      "\n",
      "| 1| 2| C| 4|\n",
      "| 5| 6| H| 8|\n",
      "| 9|10|11|12|\n",
      "|13|14|15|16|\n",
      "틀렸습니다\n",
      "\n",
      "\n",
      "\n",
      "### 카드판 ###\n",
      "| 1| 2| 3| 4|\n",
      "| 5| 6| 7| 8|\n",
      "| 9|10|11|12|\n",
      "|13|14|15|16|\n",
      "\n",
      "4번째 뽑기\n",
      "숫자를 골라주세요\n",
      "숫자1 : 2\n",
      "숫자2 : 7\n",
      "\n",
      "| 1| H| 3| 4|\n",
      "| 5| 6| H| 8|\n",
      "| 9|10|11|12|\n",
      "|13|14|15|16|\n",
      "정답입니다\n",
      "\n",
      "\n",
      "\n",
      "### 카드판 ###\n",
      "| 1| H| 3| 4|\n",
      "| 5| 6| H| 8|\n",
      "| 9|10|11|12|\n",
      "|13|14|15|16|\n",
      "\n",
      "5번째 뽑기\n",
      "숫자를 골라주세요\n",
      "숫자1 : 4\n",
      "숫자2 : 8\n",
      "\n",
      "| 1| H| 3| D|\n",
      "| 5| 6| H| R|\n",
      "| 9|10|11|12|\n",
      "|13|14|15|16|\n",
      "틀렸습니다\n",
      "\n",
      "\n",
      "\n",
      "### 카드판 ###\n",
      "| 1| H| 3| 4|\n",
      "| 5| 6| H| 8|\n",
      "| 9|10|11|12|\n",
      "|13|14|15|16|\n",
      "\n",
      "6번째 뽑기\n",
      "숫자를 골라주세요\n",
      "숫자1 : 1\n",
      "숫자2 : 4\n",
      "\n",
      "| D| H| 3| D|\n",
      "| 5| 6| H| 8|\n",
      "| 9|10|11|12|\n",
      "|13|14|15|16|\n",
      "정답입니다\n",
      "\n",
      "\n",
      "\n",
      "### 카드판 ###\n",
      "| D| H| 3| D|\n",
      "| 5| 6| H| 8|\n",
      "| 9|10|11|12|\n",
      "|13|14|15|16|\n",
      "\n",
      "7번째 뽑기\n",
      "숫자를 골라주세요\n",
      "숫자1 : 9\n",
      "숫자2 : 13\n",
      "\n",
      "| D| H| 3| D|\n",
      "| 5| 6| H| 8|\n",
      "| C|10|11|12|\n",
      "| W|14|15|16|\n",
      "틀렸습니다\n",
      "\n",
      "\n",
      "\n",
      "### 카드판 ###\n",
      "| D| H| 3| D|\n",
      "| 5| 6| H| 8|\n",
      "| 9|10|11|12|\n",
      "|13|14|15|16|\n",
      "\n",
      "8번째 뽑기\n",
      "숫자를 골라주세요\n",
      "숫자1 : 3\n",
      "숫자2 : 9\n",
      "\n",
      "| D| H| C| D|\n",
      "| 5| 6| H| 8|\n",
      "| C|10|11|12|\n",
      "|13|14|15|16|\n",
      "정답입니다\n",
      "\n",
      "\n",
      "\n",
      "### 카드판 ###\n",
      "| D| H| C| D|\n",
      "| 5| 6| H| 8|\n",
      "| C|10|11|12|\n",
      "|13|14|15|16|\n",
      "\n",
      "9번째 뽑기\n",
      "숫자를 골라주세요\n",
      "숫자1 : 5\n",
      "숫자2 : 13\n",
      "\n",
      "| D| H| C| D|\n",
      "| W| 6| H| 8|\n",
      "| C|10|11|12|\n",
      "| W|14|15|16|\n",
      "정답입니다\n",
      "\n",
      "\n",
      "\n",
      "### 카드판 ###\n",
      "| D| H| C| D|\n",
      "| W| 6| H| 8|\n",
      "| C|10|11|12|\n",
      "| W|14|15|16|\n",
      "\n",
      "10번째 뽑기\n",
      "숫자를 골라주세요\n",
      "숫자1 : 10\n",
      "숫자2 : 14\n",
      "\n",
      "| D| H| C| D|\n",
      "| W| 6| H| 8|\n",
      "| C| Z|11|12|\n",
      "| W| B|15|16|\n",
      "틀렸습니다\n",
      "\n",
      "\n",
      "\n",
      "### 카드판 ###\n",
      "| D| H| C| D|\n",
      "| W| 6| H| 8|\n",
      "| C|10|11|12|\n",
      "| W|14|15|16|\n",
      "\n",
      "11번째 뽑기\n",
      "숫자를 골라주세요\n",
      "숫자1 : 11\n",
      "숫자2 : 15\n",
      "\n",
      "| D| H| C| D|\n",
      "| W| 6| H| 8|\n",
      "| C|10| R|12|\n",
      "| W|14| B|16|\n",
      "틀렸습니다\n",
      "\n",
      "\n",
      "\n",
      "### 카드판 ###\n",
      "| D| H| C| D|\n",
      "| W| 6| H| 8|\n",
      "| C|10|11|12|\n",
      "| W|14|15|16|\n",
      "\n",
      "12번째 뽑기\n",
      "숫자를 골라주세요\n",
      "숫자1 : 14\n",
      "숫자2 : 15\n",
      "\n",
      "| D| H| C| D|\n",
      "| W| 6| H| 8|\n",
      "| C|10|11|12|\n",
      "| W| B| B|16|\n",
      "정답입니다\n",
      "\n",
      "\n",
      "\n",
      "### 카드판 ###\n",
      "| D| H| C| D|\n",
      "| W| 6| H| 8|\n",
      "| C|10|11|12|\n",
      "| W| B| B|16|\n",
      "\n",
      "13번째 뽑기\n",
      "숫자를 골라주세요\n",
      "숫자1 : 12\n",
      "숫자2 : 16\n",
      "\n",
      "| D| H| C| D|\n",
      "| W| 6| H| 8|\n",
      "| C|10|11| Z|\n",
      "| W| B| B| S|\n",
      "틀렸습니다\n",
      "\n",
      "\n",
      "\n",
      "### 카드판 ###\n",
      "| D| H| C| D|\n",
      "| W| 6| H| 8|\n",
      "| C|10|11|12|\n",
      "| W| B| B|16|\n",
      "\n",
      "14번째 뽑기\n",
      "숫자를 골라주세요\n",
      "숫자1 : 6\n",
      "숫자2 : 16\n",
      "\n",
      "| D| H| C| D|\n",
      "| W| S| H| 8|\n",
      "| C|10|11|12|\n",
      "| W| B| B| S|\n",
      "정답입니다\n",
      "\n",
      "\n",
      "\n",
      "### 카드판 ###\n",
      "| D| H| C| D|\n",
      "| W| S| H| 8|\n",
      "| C|10|11|12|\n",
      "| W| B| B| S|\n",
      "\n",
      "15번째 뽑기\n",
      "숫자를 골라주세요\n",
      "숫자1 : 8\n",
      "숫자2 : 10\n",
      "\n",
      "| D| H| C| D|\n",
      "| W| S| H| R|\n",
      "| C| Z|11|12|\n",
      "| W| B| B| S|\n",
      "틀렸습니다\n",
      "\n",
      "\n",
      "\n",
      "### 카드판 ###\n",
      "| D| H| C| D|\n",
      "| W| S| H| 8|\n",
      "| C|10|11|12|\n",
      "| W| B| B| S|\n",
      "\n",
      "16번째 뽑기\n",
      "숫자를 골라주세요\n",
      "숫자1 : 10\n",
      "숫자2 : 11\n",
      "\n",
      "| D| H| C| D|\n",
      "| W| S| H| 8|\n",
      "| C| Z| R|12|\n",
      "| W| B| B| S|\n",
      "틀렸습니다\n",
      "\n",
      "\n",
      "\n",
      "### 카드판 ###\n",
      "| D| H| C| D|\n",
      "| W| S| H| 8|\n",
      "| C|10|11|12|\n",
      "| W| B| B| S|\n",
      "\n",
      "17번째 뽑기\n",
      "숫자를 골라주세요\n",
      "숫자1 : 10\n",
      "숫자2 : 12\n",
      "\n",
      "| D| H| C| D|\n",
      "| W| S| H| 8|\n",
      "| C| Z|11| Z|\n",
      "| W| B| B| S|\n",
      "정답입니다\n",
      "\n",
      "\n",
      "\n",
      "### 카드판 ###\n",
      "| D| H| C| D|\n",
      "| W| S| H| 8|\n",
      "| C| Z|11| Z|\n",
      "| W| B| B| S|\n",
      "\n",
      "18번째 뽑기\n",
      "숫자를 골라주세요\n",
      "숫자1 : 8\n",
      "숫자2 : 11\n",
      "\n",
      "| D| H| C| D|\n",
      "| W| S| H| R|\n",
      "| C| Z| R| Z|\n",
      "| W| B| B| S|\n",
      "정답입니다\n",
      "모두 맞추셨습니다.\n",
      "게임이 끝납니다.\n"
     ]
    }
   ],
   "source": [
    "def puzzle():\n",
    "    import random\n",
    "    import time\n",
    "   \n",
    "\n",
    "\n",
    "    ###################################\n",
    "    ##            정답지             ##\n",
    "    print(\"카드를 섞는 중입니다.\")\n",
    "    # 알파벳 8개 셔플로 고르기\n",
    "    alp = []\n",
    "    while len(alp) <8:\n",
    "        temp = chr(random.randint(65,90))\n",
    "        if temp not in alp:\n",
    "            alp.append(temp)\n",
    "\n",
    "    # 알파벳 2배 늘리기 + 셔플\n",
    "    alp = alp + alp\n",
    "    random.shuffle(alp)    \n",
    "    \n",
    "    # 숫자 16 리스트\n",
    "    num = list(range(1,17))\n",
    "    time.sleep(2)\n",
    "    ###################################   \n",
    "    \n",
    "    # 게임시작 카운트\n",
    "    print(\"게임이 시작됩니다.\")\n",
    "    print(\"3\")\n",
    "    time.sleep(1)\n",
    "    print(\"2\")\n",
    "    time.sleep(1)\n",
    "    print(\"1\")\n",
    "    time.sleep(1)\n",
    "      \n",
    "    \n",
    "    # 숫자를 한번 고를때 마다\n",
    "    # 알파벳이 모두 맞으면 멈춤\n",
    "    count = 0 # 맞은 횟수\n",
    "    count_try = 0 # 시도 횟수\n",
    "    while True:\n",
    "         \n",
    "        print(\"### 카드판 ###\")\n",
    "        # 숫자 1~16까지 나열 (4X4)\n",
    "        for i in range(0,4):\n",
    "            print(\"|\",end=\"\")\n",
    "            for j in range(0,4):\n",
    "                print(f'{num[4*i+j]:>2}',end=\"|\")\n",
    "            print()\n",
    "            \n",
    "        print()\n",
    "        # 숫자 2개를 고르면 두개의 알파벳이 보임\n",
    "\n",
    "            # 숫자 2개 받기\n",
    "        count_try+=1\n",
    "        print(f\"{count_try}번째 뽑기\")\n",
    "        print(\"숫자를 골라주세요\")\n",
    "        number1 = int(input(\"숫자1 : \"))-1\n",
    "        number2 = int(input(\"숫자2 : \"))-1\n",
    "\n",
    "            # 16숫자 리스트의 값 치환\n",
    "        num[number1] = alp[number1]\n",
    "        num[number2] = alp[number2]\n",
    "\n",
    "            # 보여주기\n",
    "        print()\n",
    "        for i in range(0,4):\n",
    "            print(\"|\",end=\"\")\n",
    "            for j in range(0,4):\n",
    "                print(f'{num[4*i+j]:>2}',end=\"|\")\n",
    "            print()\n",
    "        \n",
    "        # 두개가 틀렸을 때는 값을 되돌림\n",
    "        if num[number1] != num[number2]:\n",
    "            num[number1]=number1+1\n",
    "            num[number2]=number2+1\n",
    "            print(\"틀렸습니다\")\n",
    "\n",
    "        # 두개가 같을 때는 count+=1\n",
    "        else:\n",
    "            count+=1\n",
    "            print(\"정답입니다\")\n",
    "        \n",
    "        # 8개를 맞추면 게임이 끝남\n",
    "        if count==8:\n",
    "            print(\"모두 맞추셨습니다.\")\n",
    "            print(\"게임이 끝납니다.\")\n",
    "            break\n",
    "            \n",
    "        \n",
    "        print()\n",
    "        print()\n",
    "        print()\n",
    "        \n",
    "        time.sleep(2)\n",
    "puzzle()"
   ]
  }
 ],
 "metadata": {
  "colab": {
   "authorship_tag": "ABX9TyP7Vzv6Lc6GooJahuC9l+mY",
   "collapsed_sections": [],
   "name": "6-1.라이브러리:랜덤.ipynb",
   "provenance": []
  },
  "kernelspec": {
   "display_name": "Python 3 (ipykernel)",
   "language": "python",
   "name": "python3"
  },
  "language_info": {
   "codemirror_mode": {
    "name": "ipython",
    "version": 3
   },
   "file_extension": ".py",
   "mimetype": "text/x-python",
   "name": "python",
   "nbconvert_exporter": "python",
   "pygments_lexer": "ipython3",
   "version": "3.9.7"
  },
  "toc": {
   "base_numbering": 1,
   "nav_menu": {},
   "number_sections": true,
   "sideBar": true,
   "skip_h1_title": false,
   "title_cell": "Table of Contents",
   "title_sidebar": "Contents",
   "toc_cell": false,
   "toc_position": {},
   "toc_section_display": true,
   "toc_window_display": false
  },
  "varInspector": {
   "cols": {
    "lenName": 16,
    "lenType": 16,
    "lenVar": 40
   },
   "kernels_config": {
    "python": {
     "delete_cmd_postfix": "",
     "delete_cmd_prefix": "del ",
     "library": "var_list.py",
     "varRefreshCmd": "print(var_dic_list())"
    },
    "r": {
     "delete_cmd_postfix": ") ",
     "delete_cmd_prefix": "rm(",
     "library": "var_list.r",
     "varRefreshCmd": "cat(var_dic_list()) "
    }
   },
   "types_to_exclude": [
    "module",
    "function",
    "builtin_function_or_method",
    "instance",
    "_Feature"
   ],
   "window_display": false
  }
 },
 "nbformat": 4,
 "nbformat_minor": 1
}
