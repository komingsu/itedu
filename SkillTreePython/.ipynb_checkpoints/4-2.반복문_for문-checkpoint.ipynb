{
 "cells": [
  {
   "cell_type": "markdown",
   "metadata": {
    "id": "kB5IciXEm6o4"
   },
   "source": [
    "# 4-2. 반복문 : for 문\n",
    "---\n",
    "* 날짜: 2022-04-01\n",
    "* 이름: 고민수"
   ]
  },
  {
   "cell_type": "markdown",
   "metadata": {
    "id": "4iN8NFzHRJ2D"
   },
   "source": [
    "## 개념정리\n",
    "---\n",
    "\n",
    "반복문은 특정 조건에 따라 반복문 코드 블럭 안의 내용을 반복합니다. 반복문을 잘 사용하면 100번 써야 할 일을 한번에 끝낼 수 있습니다. 반복문에는 `for문`과 `while문` 이 있습니다. 오늘 배울 `for문`은 처음부터 반복의 횟수를 정해줍니다. \n",
    "\n"
   ]
  },
  {
   "cell_type": "markdown",
   "metadata": {
    "id": "MAM8MDnfw68b"
   },
   "source": [
    "### **(1) 기본 사용**\n",
    "\n",
    "\n",
    "for문은 몇번 반복할 것인지 조건을 주고, 그 조건에 따라 for문 아래에 있는 코드가 실행됩니다.\n",
    "\n",
    "```\n",
    "for 조건: # 조건의 횟수만큼\n",
    "  코드1 # 이 코드들을 반복합니다.\n",
    "  코드2 # 이 코드들을 반복합니다.\n",
    "  ...\n",
    "```\n",
    "\n",
    "그럼 조건을 어떻게 주는지 알아봅시다.\n",
    "\n",
    "\n"
   ]
  },
  {
   "cell_type": "markdown",
   "metadata": {
    "id": "DHtQmH-R-4tp"
   },
   "source": [
    "#### **군집자료형과 함께 쓰는 for문**\n",
    "\n",
    "군집자료형의 요소가 차례대로 `i` 에 바인딩 됩니다. `for문` 아래에서 `i`가 변수로 작동됩니다.  아래 예시에서 `i`는 모두 `1,2,3` 순으로 출력됩니다.  \n",
    "\n",
    "```\n",
    "for i in [1,2,3]:\n",
    "  print(\"i의 값은 : \", i)\n",
    "```"
   ]
  },
  {
   "cell_type": "code",
   "execution_count": 1,
   "metadata": {
    "id": "QhrqH2Yt-21m"
   },
   "outputs": [
    {
     "name": "stdout",
     "output_type": "stream",
     "text": [
      "i의 값은 :  1\n",
      "i의 값은 :  2\n",
      "i의 값은 :  3\n"
     ]
    }
   ],
   "source": [
    "for i in [1,2,3]:\n",
    "  print(\"i의 값은 : \", i)"
   ]
  },
  {
   "cell_type": "markdown",
   "metadata": {
    "id": "82JNaFiOCys3"
   },
   "source": [
    "리스트가 아닌 튜플이나 문자열 등 다른 군집자료형도 같은 결과를 얻습니다.\n",
    "\n",
    "```\n",
    "for i in (1,2,3):\n",
    "  print(\"반복\", i)\n",
    "```"
   ]
  },
  {
   "cell_type": "code",
   "execution_count": 2,
   "metadata": {
    "id": "pp-RWxgdCxTm"
   },
   "outputs": [
    {
     "name": "stdout",
     "output_type": "stream",
     "text": [
      "반복 1\n",
      "반복 2\n",
      "반복 3\n"
     ]
    }
   ],
   "source": [
    "for i in (1,2,3):\n",
    "  print(\"반복\", i)"
   ]
  },
  {
   "cell_type": "markdown",
   "metadata": {
    "id": "6UC28ghYC0lv"
   },
   "source": [
    "for문 내에서 변수가 필요 없으면 아래와 같이 언더바(_)로 표기하기도 합니다.\n",
    "\n",
    "```\n",
    "for _ in [1,2,3]:\n",
    "  print(\"i 값이 필요없는 반복\")\n",
    "```\n"
   ]
  },
  {
   "cell_type": "code",
   "execution_count": 3,
   "metadata": {
    "id": "I4yAg6bDCzmd"
   },
   "outputs": [
    {
     "name": "stdout",
     "output_type": "stream",
     "text": [
      "i 값이 필요없는 반복\n",
      "i 값이 필요없는 반복\n",
      "i 값이 필요없는 반복\n"
     ]
    }
   ],
   "source": [
    "for _ in [1,2,3]:\n",
    "  print(\"i 값이 필요없는 반복\")"
   ]
  },
  {
   "cell_type": "markdown",
   "metadata": {
    "id": "4iqQ7RMZC37L"
   },
   "source": [
    "#### **range와 함께 쓰는 for문**\n",
    "\n",
    "\n",
    "굳이 군집자료형을 만들어 놓지 않아도 반복문을 쓸 수 있습니다. 이 때는 range를 이용하는데, range도 슬라이싱 과 마찬가지로 처음, 끝, 스텝이 존재합니다. \n",
    "\n",
    "* `range(n)`: `0`부터 `n-1` 까지 총 `n` 회 반복됩니다.\n",
    "\n",
    "```\n",
    "for i in range(3):\n",
    "  print(\"i의 값은 : \", i)\n",
    "```\n"
   ]
  },
  {
   "cell_type": "code",
   "execution_count": 4,
   "metadata": {
    "id": "VIbY94-2C1pQ"
   },
   "outputs": [
    {
     "name": "stdout",
     "output_type": "stream",
     "text": [
      "i의 값은 :  0\n",
      "i의 값은 :  1\n",
      "i의 값은 :  2\n"
     ]
    }
   ],
   "source": [
    "for i in range(3):\n",
    "  print(\"i의 값은 : \", i)"
   ]
  },
  {
   "cell_type": "markdown",
   "metadata": {
    "id": "JrGY3LipC7__"
   },
   "source": [
    "\n",
    "* `range(n, m)`: `n`부터 `m-1`까지 총 `m-n`회 반복됩니다.\n",
    "\n",
    "```\n",
    "for i in range(3, 6):\n",
    "  print(i)\n",
    "```\n"
   ]
  },
  {
   "cell_type": "code",
   "execution_count": 5,
   "metadata": {
    "id": "Per7lcYxC6am"
   },
   "outputs": [
    {
     "name": "stdout",
     "output_type": "stream",
     "text": [
      "3\n",
      "4\n",
      "5\n"
     ]
    }
   ],
   "source": [
    "for i in range(3, 6):\n",
    "  print(i)"
   ]
  },
  {
   "cell_type": "markdown",
   "metadata": {
    "id": "CEn0LJkdC9tN"
   },
   "source": [
    "\n",
    "* `range(n, m, s)`: `n`부터 `m-1`까지 `s`씩 건너뛰며 반복됩니다.\n",
    "\n",
    "```\n",
    "for i in range(3, 10, 2):\n",
    "  print(i)\n",
    "```\n"
   ]
  },
  {
   "cell_type": "code",
   "execution_count": 6,
   "metadata": {
    "id": "alTQiW14C8ze"
   },
   "outputs": [
    {
     "name": "stdout",
     "output_type": "stream",
     "text": [
      "3\n",
      "5\n",
      "7\n",
      "9\n"
     ]
    }
   ],
   "source": [
    "for i in range(3, 10, 2):\n",
    "  print(i)"
   ]
  },
  {
   "cell_type": "markdown",
   "metadata": {
    "id": "uJyYo462C_rJ"
   },
   "source": [
    "### **(2) 함수와 함께 쓰는 for문**\n",
    "\n",
    "\n",
    "함수도 반복해서 실행시켜야 할 경우 for문을 통해서 작성할 수 있습니다.\n",
    "\n",
    "```\n",
    "def my_func(n):\n",
    "  print(n, \"을 출력하는 함수입니다\")\n",
    "\n",
    "for i in range(3):\n",
    "  my_func(i)\n",
    "```"
   ]
  },
  {
   "cell_type": "code",
   "execution_count": 9,
   "metadata": {
    "id": "AUXD8Wj1C-nd"
   },
   "outputs": [
    {
     "name": "stdout",
     "output_type": "stream",
     "text": [
      "0 을 출력하는 함수입니다\n",
      "1 을 출력하는 함수입니다\n",
      "2 을 출력하는 함수입니다\n"
     ]
    }
   ],
   "source": [
    "def my_func(n):\n",
    "    print(n, \"을 출력하는 함수입니다\")\n",
    "\n",
    "for i in range(3):\n",
    "    my_func(i)"
   ]
  },
  {
   "cell_type": "markdown",
   "metadata": {
    "id": "69DKCow2DDbM"
   },
   "source": [
    "### **(3) if문과 함께 쓰는 for문**\n",
    "\n",
    "for문 아래에 조건을 주어 특정 변수가 입력될 때만 코드를 실행할 수 있습니다. \n",
    "\n",
    "```\n",
    "for i in range(3): # i는 0,1,2 세번 반복\n",
    "  print('i의 값은:', i) # 세번 이 코드를 실행\n",
    "  if i>0: # 세번 반복 중에 i가 0보다 크면\n",
    "    print('if문: i가 0보다 큽니다') # 이 코드를 실행\n",
    "```\n"
   ]
  },
  {
   "cell_type": "code",
   "execution_count": 12,
   "metadata": {
    "id": "UQFMVQ6eDBxF"
   },
   "outputs": [
    {
     "name": "stdout",
     "output_type": "stream",
     "text": [
      "i의 값은: 0\n",
      "i의 값은: 1\n",
      "if문: i가 0보다 큽니다\n",
      "i의 값은: 2\n",
      "if문: i가 0보다 큽니다\n"
     ]
    }
   ],
   "source": [
    "for i in range(3): # i는 0,1,2 세번 반복\n",
    "    print('i의 값은:', i) # 세번 이 코드를 실행\n",
    "    if i>0: # 세번 반복 중에 i가 0보다 크면\n",
    "        print('if문: i가 0보다 큽니다') # 이 코드를 실행"
   ]
  },
  {
   "cell_type": "markdown",
   "metadata": {
    "id": "eM4qjvU4DHTs"
   },
   "source": [
    "#### 다음반복으로 건너뛰기\n",
    "\n",
    "* `continue`\n",
    "\n",
    "`for문` 안에서 `continue`를 만나면 즉시 다음 반복으로 넘어갑니다. `continue` 아래에 있는 `for문` 코드들은 진행되지 않습니다. \n",
    "\n",
    "```\n",
    "for i in range(5): # i는 0~4 반복\n",
    "  print(f'-----\\n{i}번째 루프 시작') # 반복해서 이 코드를 실행\n",
    "  if i>=2: # 만약 i가 2 이상이면\n",
    "    continue # 다음 반복으로 넘어간다.\n",
    "  print(f'{i}번째 루프 끝') # 반복해서 이 코드를 실행\n",
    "```\n"
   ]
  },
  {
   "cell_type": "code",
   "execution_count": 8,
   "metadata": {
    "id": "Ykl1kjbDDGKv"
   },
   "outputs": [
    {
     "name": "stdout",
     "output_type": "stream",
     "text": [
      "-----\n",
      "0번째 루프 시작\n",
      "0번째 루프 끝\n",
      "-----\n",
      "1번째 루프 시작\n",
      "1번째 루프 끝\n",
      "-----\n",
      "2번째 루프 시작\n",
      "-----\n",
      "3번째 루프 시작\n",
      "-----\n",
      "4번째 루프 시작\n"
     ]
    }
   ],
   "source": [
    "for i in range(5): # i는 0~4 반복\n",
    "    print(f'-----\\n{i}번째 루프 시작') # 반복해서 이 코드를 실행\n",
    "    if i>=2: # 만약 i가 2 이상이면\n",
    "    continue # 다음 반복으로 넘어간다.\n",
    "    print(f'{i}번째 루프 끝') # 반복해서 이 코드를 실행"
   ]
  },
  {
   "cell_type": "markdown",
   "metadata": {
    "id": "_HLQ7huuDLl3"
   },
   "source": [
    "코드에서 `i`가 2이상일때 `continue`를 만나기 때문에 if문 바깥의 `(f'{i}번째 루프 끝')` 코드가 실행되지 않습니다. 그렇기 때문에 2번째 루프 부터는 끝이라는 출력이 보이지 않네요."
   ]
  },
  {
   "cell_type": "markdown",
   "metadata": {
    "id": "UFYB6MgHDM6D"
   },
   "source": [
    "#### **for문을 즉시 종료하기**  \n",
    "\n",
    "* `break`\n",
    "\n",
    "`for문` 안에서 `break` 을 만나면 즉시 `for문`이 종료됩니다. (모든 루프가 돌아가지 않았어도)\n",
    "\n",
    "```\n",
    "for i in range(5): # i는 0~4 반복\n",
    "  print(f'-----\\n{i}번째 루프 시작') # 반복해서 이 코드를 실행\n",
    "  if i>=2: # 만약 i가 2 이상이면\n",
    "    break # 즉시 for문 종료\n",
    "  print(f'{i}번째 루프 끝') # 반복해서 이 코드를 실행\n",
    "```"
   ]
  },
  {
   "cell_type": "code",
   "execution_count": 14,
   "metadata": {
    "id": "iiI9RapDDJqQ"
   },
   "outputs": [
    {
     "name": "stdout",
     "output_type": "stream",
     "text": [
      "-----\n",
      "0번째 루프 시작\n",
      "0번째 루프 끝\n",
      "-----\n",
      "1번째 루프 시작\n",
      "1번째 루프 끝\n",
      "-----\n",
      "2번째 루프 시작\n"
     ]
    }
   ],
   "source": [
    "for i in range(5): # i는 0~4 반복\n",
    "    print(f'-----\\n{i}번째 루프 시작') # 반복해서 이 코드를 실행\n",
    "    if i>=2: # 만약 i가 2 이상이면\n",
    "        break # 즉시 for문 종료\n",
    "    print(f'{i}번째 루프 끝') # 반복해서 이 코드를 실행"
   ]
  },
  {
   "cell_type": "markdown",
   "metadata": {
    "id": "fbzgJuHCDS-G"
   },
   "source": [
    "`if문`의 조건을 만족하여 `break`을 만나는 순간 `for문`이 종료되고, 다음 루프가 실행조차 되지 않습니다. 따라서 2번째 루프가 시작된 후 다음 코드들은 보이지 않네요.\n"
   ]
  },
  {
   "cell_type": "markdown",
   "metadata": {
    "id": "haxPKRHqFCgX"
   },
   "source": [
    "### **(4) for문을 더 효율적으로 사용하기**\n",
    "\n",
    "for문은 파이썬에서 아주 유용하게 사용되는 문법입니다. 그러다 보니 좀 더 효율적으로 사용하는 방법에 대해 알고 있는것이 매우 도움이 됩니다.\n"
   ]
  },
  {
   "cell_type": "markdown",
   "metadata": {
    "id": "ALu7TgjkFEiN"
   },
   "source": [
    "\n",
    "#### **두개의 sequence를 함께 나열하기**\n",
    "\n",
    "* `zip`  \n",
    "\n",
    "`zip`을 이용해서 두개의 sequence를 순차적으로 함께 나타낼 수 있습니다. 사용 문법을 잘 숙지해 둡시다.\n",
    "\n",
    "```\n",
    "list1 = [\"A\",\"B\",\"C\"]\n",
    "list2 = [\"a\", \"b\", \"c\"]\n",
    "for i1, i2 in zip(list1,list2):\n",
    "  print(f'list1: {i1}, list2: {i2}')\n",
    "```\n"
   ]
  },
  {
   "cell_type": "code",
   "execution_count": 15,
   "metadata": {
    "id": "JXYWpAdhDRFt"
   },
   "outputs": [
    {
     "name": "stdout",
     "output_type": "stream",
     "text": [
      "list1: A, list2: a\n",
      "list1: B, list2: b\n",
      "list1: C, list2: c\n"
     ]
    }
   ],
   "source": [
    "list1 = [\"A\",\"B\",\"C\"]\n",
    "list2 = [\"a\", \"b\", \"c\"]\n",
    "for i1, i2 in zip(list1,list2):\n",
    "    print(f'list1: {i1}, list2: {i2}')"
   ]
  },
  {
   "cell_type": "markdown",
   "metadata": {
    "id": "Zz_c1lJYHP01"
   },
   "source": [
    "#### **순번을 함께 나열하기**\n",
    "\n",
    "* `enumerate`  \n",
    "\n",
    "`for문` 내에서 변수의 값은 항상 `sequence`에 의해서 정해집니다. 절대적인 순번(0, 1, 2, 등)을 같이 변수로 바인딩하고 싶다면 `enumerate`를 사용합니다. \n",
    "\n",
    "```\n",
    "list1 = [\"A\",\"B\",\"C\"]\n",
    "for idx, i in enumerate(list1):\n",
    "  print( f'idx: {idx}, i: {i}')\n",
    "```"
   ]
  },
  {
   "cell_type": "code",
   "execution_count": 17,
   "metadata": {
    "id": "APDyAy_CFIan"
   },
   "outputs": [
    {
     "name": "stdout",
     "output_type": "stream",
     "text": [
      "0 A\n",
      "1 B\n",
      "2 C\n"
     ]
    }
   ],
   "source": [
    "list1 = [\"A\",\"B\",\"C\"]\n",
    "\n",
    "for idx,i in enumerate(list1):\n",
    "    print(idx, i)\n",
    "\n",
    "# for idx, i in enumerate(list1):\n",
    "#     print( f'idx: {idx}, i: {i}')"
   ]
  },
  {
   "cell_type": "markdown",
   "metadata": {
    "id": "aeMCCH2LHXDS"
   },
   "source": [
    "### (5) 다중 for문\n",
    "\n",
    "for문 아래 for문을 또 추가 할 수 있습니다. 다만 다중 for문일 때 코드의 작동순서를 잘 파악할 필요가 있습니다. 삼중, 사중 for문도 구현은 가능합니다. 하지만 for문이 추가될때마다 계산량이 급격히 증가하기 때문에 되도록이면 이중 for문을 넘어가지 않는것이 좋습니다.\n",
    "\n",
    "```\n",
    "for i in range(3):\n",
    "  for j in range(3):\n",
    "    print(f\"i: {i}, j:{j}\")\n",
    "```"
   ]
  },
  {
   "cell_type": "code",
   "execution_count": 18,
   "metadata": {
    "id": "sYUzu5AcHgEF"
   },
   "outputs": [
    {
     "name": "stdout",
     "output_type": "stream",
     "text": [
      "i: 0, j:0\n",
      "i: 0, j:1\n",
      "i: 0, j:2\n",
      "i: 1, j:0\n",
      "i: 1, j:1\n",
      "i: 1, j:2\n",
      "i: 2, j:0\n",
      "i: 2, j:1\n",
      "i: 2, j:2\n"
     ]
    }
   ],
   "source": [
    "for i in range(3):\n",
    "    for j in range(3):\n",
    "        print(f\"i: {i}, j:{j}\")"
   ]
  },
  {
   "cell_type": "markdown",
   "metadata": {
    "id": "9t530iSZHdQ9"
   },
   "source": [
    "코드가 아직 익숙하지 않은 상태에서 다중 for문을 보면 해석하기 어려울 수 있습니다. 이것저것 변수를 건드려보고, 출력을 바꾸면서 최대한 익숙해지도록 하는 것이 좋습니다. 아래 코드가 어떻게 나올지 예상해보고 출력해 봅시다.\n"
   ]
  },
  {
   "cell_type": "markdown",
   "metadata": {
    "id": "E6O8MHx_HeH4"
   },
   "source": [
    "```\n",
    "for i in range(1, 6):\n",
    "    print(i, end=\": \")\n",
    "    for j in range(1, 11):        \n",
    "        print(j, end=\" \")\n",
    "    print()\n",
    "```"
   ]
  },
  {
   "cell_type": "code",
   "execution_count": 19,
   "metadata": {
    "id": "LHKNGIVSHWBe"
   },
   "outputs": [
    {
     "name": "stdout",
     "output_type": "stream",
     "text": [
      "1: 1 2 3 4 5 6 7 8 9 10 \n",
      "2: 1 2 3 4 5 6 7 8 9 10 \n",
      "3: 1 2 3 4 5 6 7 8 9 10 \n",
      "4: 1 2 3 4 5 6 7 8 9 10 \n",
      "5: 1 2 3 4 5 6 7 8 9 10 \n"
     ]
    }
   ],
   "source": [
    "for i in range(1, 6):\n",
    "    print(i, end=\": \")\n",
    "    for j in range(1, 11):        \n",
    "        print(j, end=\" \")\n",
    "    print()"
   ]
  },
  {
   "cell_type": "markdown",
   "metadata": {},
   "source": [
    "## (6) 리스트 안에 for문 쓰기"
   ]
  },
  {
   "cell_type": "code",
   "execution_count": 25,
   "metadata": {},
   "outputs": [
    {
     "data": {
      "text/plain": [
       "[0, 1, 2, 3, 4, 5, 6, 7, 8, 9]"
      ]
     },
     "execution_count": 25,
     "metadata": {},
     "output_type": "execute_result"
    }
   ],
   "source": [
    "list(range(10))"
   ]
  },
  {
   "cell_type": "code",
   "execution_count": 24,
   "metadata": {},
   "outputs": [
    {
     "data": {
      "text/plain": [
       "[0, 1, 2, 3, 4, 5, 6, 7, 8, 9]"
      ]
     },
     "execution_count": 24,
     "metadata": {},
     "output_type": "execute_result"
    }
   ],
   "source": [
    "l = []\n",
    "for i in range(10):\n",
    "    l.append(i)\n",
    "l"
   ]
  },
  {
   "cell_type": "code",
   "execution_count": 29,
   "metadata": {},
   "outputs": [
    {
     "data": {
      "text/plain": [
       "[10, 11, 12, 13, 14, 15, 16, 17, 18, 19]"
      ]
     },
     "execution_count": 29,
     "metadata": {},
     "output_type": "execute_result"
    }
   ],
   "source": [
    "l = [i+10 for i in range(10)]\n",
    "l"
   ]
  },
  {
   "cell_type": "code",
   "execution_count": 31,
   "metadata": {},
   "outputs": [
    {
     "data": {
      "text/plain": [
       "[0, 0, 0, 0, 1, 1, 1, 1, 2, 2, 2, 2, 3, 3, 3, 3, 4, 4, 4, 4]"
      ]
     },
     "execution_count": 31,
     "metadata": {},
     "output_type": "execute_result"
    }
   ],
   "source": [
    "l = [i for i in range(5) for j in range(4)]\n",
    "l"
   ]
  },
  {
   "cell_type": "markdown",
   "metadata": {
    "id": "8Rb4NNbKHiLD"
   },
   "source": [
    "## 문제풀이\n",
    "---"
   ]
  },
  {
   "cell_type": "markdown",
   "metadata": {
    "id": "xOsqfbd9HmQh"
   },
   "source": [
    "아래와 같이 리스트를 정의하세요.\n",
    "\n",
    "```\n",
    "my_list = [\"apple\", \"blue\", \"cup\", \"door\"]\n",
    "```\n"
   ]
  },
  {
   "cell_type": "code",
   "execution_count": 32,
   "metadata": {
    "id": "kT4FCjRCHzUP"
   },
   "outputs": [],
   "source": [
    "my_list = [\"apple\", \"blue\", \"cup\", \"door\"]"
   ]
  },
  {
   "cell_type": "markdown",
   "metadata": {
    "id": "lrpQEjSPHsq2"
   },
   "source": [
    "**예제 01**\n",
    "\n",
    "\n",
    "아래 실행 결과를 내는 코드를 `for문`과 `my_list`를 이용하여 작성하세요\n",
    "\n",
    "```{.no-highlight}\n",
    "It's apple\n",
    "It's blue\n",
    "It's cup\n",
    "It's door\n",
    "```"
   ]
  },
  {
   "cell_type": "code",
   "execution_count": 33,
   "metadata": {
    "id": "kY0jptRtHfu1"
   },
   "outputs": [
    {
     "name": "stdout",
     "output_type": "stream",
     "text": [
      "It's apple\n",
      "It's blue\n",
      "It's cup\n",
      "It's door\n"
     ]
    }
   ],
   "source": [
    "for i in my_list:\n",
    "    print(f\"It's {i}\")"
   ]
  },
  {
   "cell_type": "markdown",
   "metadata": {
    "id": "EMiIhII_H1-l"
   },
   "source": [
    "**예제 02** \n",
    "\n",
    "아래 실행 결과를 내는 코드를 `for문`과 `range`를 이용해서 작성하세요\n",
    "\n",
    "```{.no-highlight}\n",
    "It's apple\n",
    "It's blue\n",
    "It's cup\n",
    "It's door\n",
    "```\n"
   ]
  },
  {
   "cell_type": "code",
   "execution_count": 36,
   "metadata": {
    "id": "2Z5FlkORH4k6"
   },
   "outputs": [
    {
     "name": "stdout",
     "output_type": "stream",
     "text": [
      "It's apple\n",
      "It's blue\n",
      "It's cup\n",
      "It's door\n"
     ]
    }
   ],
   "source": [
    "for i in range(4):\n",
    "    print(f\"It's {my_list[i]}\")"
   ]
  },
  {
   "cell_type": "markdown",
   "metadata": {
    "id": "RupJUdtSH52T"
   },
   "source": [
    "**예제 03** \n",
    "\n",
    "아래 실행 결과를 내는 코드를 작성하세요\n",
    "\n",
    "```{.no-highlight}\n",
    "-------\n",
    "start!\n",
    "It's apple\n",
    "It's blue\n",
    "It's cup\n",
    "It's door\n",
    "-------\n",
    "```"
   ]
  },
  {
   "cell_type": "code",
   "execution_count": 37,
   "metadata": {
    "id": "MJr9wmzoH6kV"
   },
   "outputs": [
    {
     "name": "stdout",
     "output_type": "stream",
     "text": [
      "------\n",
      "start!\n",
      "It's apple\n",
      "It's blue\n",
      "It's cup\n",
      "It's door\n",
      "------\n"
     ]
    }
   ],
   "source": [
    "print(\"------\")\n",
    "print(\"start!\")\n",
    "for i in range(4):\n",
    "    print(f\"It's {my_list[i]}\")\n",
    "print(\"------\")"
   ]
  },
  {
   "cell_type": "markdown",
   "metadata": {
    "id": "_4sajqBiH7Ws"
   },
   "source": [
    "**예제 04** \n",
    "\n",
    "아래 실행 결과를 내는 코드를 작성하세요\n",
    "\n",
    "\n",
    "```{.no-highlight}\n",
    "-------\n",
    "start!\n",
    "-------\n",
    "It's apple\n",
    "-------\n",
    "It's blue\n",
    "-------\n",
    "It's cup\n",
    "-------\n",
    "It's door\n",
    "end!\n",
    "-------\n",
    "```"
   ]
  },
  {
   "cell_type": "code",
   "execution_count": 39,
   "metadata": {
    "id": "JbjKVMsxH96v"
   },
   "outputs": [
    {
     "name": "stdout",
     "output_type": "stream",
     "text": [
      "------\n",
      "start!\n",
      "------\n",
      "It's apple\n",
      "------\n",
      "It's blue\n",
      "------\n",
      "It's cup\n",
      "------\n",
      "It's door\n",
      "end!\n",
      "------\n"
     ]
    }
   ],
   "source": [
    "print(\"------\")\n",
    "print(\"start!\")\n",
    "for i in range(4):\n",
    "    print(\"------\")\n",
    "    print(f\"It's {my_list[i]}\")\n",
    "print(\"end!\")\n",
    "print(\"------\")"
   ]
  },
  {
   "cell_type": "markdown",
   "metadata": {
    "id": "pmWXw1f7H_-0"
   },
   "source": [
    "\n",
    "**예제 05** \n",
    "\n",
    "아래 실행 결과를 내는 코드를 작성하세요\n",
    "\n",
    "```{.no-highlight}\n",
    "a is apple\n",
    "-------\n",
    "b is blue\n",
    "-------\n",
    "c is cup\n",
    "-------\n",
    "d is door\n",
    "-------\n",
    "```"
   ]
  },
  {
   "cell_type": "code",
   "execution_count": 46,
   "metadata": {
    "id": "ANwJwi6QIBWc"
   },
   "outputs": [
    {
     "name": "stdout",
     "output_type": "stream",
     "text": [
      "a is apple\n",
      "------\n",
      "b is blue\n",
      "------\n",
      "c is cup\n",
      "------\n",
      "d is door\n",
      "------\n"
     ]
    }
   ],
   "source": [
    "for i in range(4):\n",
    "    print(f\"{my_list[i][0]} is {my_list[i]}\")\n",
    "    print(\"------\")"
   ]
  },
  {
   "cell_type": "markdown",
   "metadata": {
    "id": "I8ykoYNGICPR"
   },
   "source": [
    "**예제 06** \n",
    "\n",
    "아래 실행 결과를 내는 코드를 작성하세요\n",
    "\n",
    "```{.no-highlight}\n",
    "Apple\n",
    "Blue\n",
    "Cup\n",
    "Door\n",
    "```\n"
   ]
  },
  {
   "cell_type": "code",
   "execution_count": 56,
   "metadata": {
    "id": "VJrCVewYIDR2"
   },
   "outputs": [
    {
     "name": "stdout",
     "output_type": "stream",
     "text": [
      "Apple\n",
      "Blue\n",
      "Cup\n",
      "Door\n"
     ]
    }
   ],
   "source": [
    "for i in range(4):\n",
    "    print(my_list[i].capitalize())"
   ]
  },
  {
   "cell_type": "markdown",
   "metadata": {
    "id": "NxTLfkw2IEZp"
   },
   "source": [
    "\n",
    "**예제 07** \n",
    "\n",
    "아래 실행 결과를 내는 코드를 작성하세요\n",
    "\n",
    "```{.no-highlight}\n",
    "Apple len: 5 \n",
    "Blue len: 4\n",
    "Cup len: 3\n",
    "Door len: 4\n",
    "```\n"
   ]
  },
  {
   "cell_type": "code",
   "execution_count": 58,
   "metadata": {
    "id": "M1xP6KMNIFhX"
   },
   "outputs": [
    {
     "name": "stdout",
     "output_type": "stream",
     "text": [
      "Apple len: 5\n",
      "Blue len: 4\n",
      "Cup len: 3\n",
      "Door len: 4\n"
     ]
    }
   ],
   "source": [
    "for i in range(4):\n",
    "    print(my_list[i].capitalize(), \"len:\",len(my_list[i]))"
   ]
  },
  {
   "cell_type": "markdown",
   "metadata": {
    "id": "dEYLHxsyIGXV"
   },
   "source": [
    "**예제 08** \n",
    "\n",
    "아래 실행 결과를 내는 코드를 작성하세요\n",
    "\n",
    "```{.no-highlight}\n",
    "0. apple  \n",
    "1. blue \n",
    "2. cup \n",
    "3. door \n",
    "```"
   ]
  },
  {
   "cell_type": "code",
   "execution_count": 61,
   "metadata": {
    "id": "O-I1qZJbIHEs"
   },
   "outputs": [
    {
     "name": "stdout",
     "output_type": "stream",
     "text": [
      "0. apple\n",
      "1. blue\n",
      "2. cup\n",
      "3. door\n"
     ]
    }
   ],
   "source": [
    "for idx, i in enumerate(my_list):\n",
    "    print(f\"{idx}. {i}\")"
   ]
  },
  {
   "cell_type": "markdown",
   "metadata": {
    "id": "93edVmbzIIFF"
   },
   "source": [
    "**예제 09** \n",
    "\n",
    "아래 실행 결과를 내는 코드를 작성하세요\n",
    "\n",
    "```{.no-highlight}\n",
    "00. apple  \n",
    "01. blue \n",
    "02. cup \n",
    "03. door \n",
    "```"
   ]
  },
  {
   "cell_type": "code",
   "execution_count": 62,
   "metadata": {
    "id": "SM4OXF9EIIzt"
   },
   "outputs": [
    {
     "name": "stdout",
     "output_type": "stream",
     "text": [
      "00. apple\n",
      "01. blue\n",
      "02. cup\n",
      "03. door\n"
     ]
    }
   ],
   "source": [
    "for idx, i in enumerate(my_list):\n",
    "    print(f\"0{idx}. {i}\")"
   ]
  },
  {
   "cell_type": "markdown",
   "metadata": {
    "id": "LtypkJvFIJ4E"
   },
   "source": [
    "**예제 10** \n",
    "\n",
    "`my_list2`가 다음과 같이 주어졌을 때 위에서 만든 `my_list`와 `my_list2`를 이용하여 아래와 같은 결과를 내는 코드를 작성하세요\n",
    "\n",
    "```\n",
    "my_list2 = [\"red\",\"corona\",\"mug\",\"oppen\"]\n",
    "```\n",
    "\n",
    "```\n",
    "Red apple\n",
    "Corona blue\n",
    "Mug cup\n",
    "Oppen d\n",
    "```\n"
   ]
  },
  {
   "cell_type": "code",
   "execution_count": 64,
   "metadata": {
    "id": "Vmyf0AiaIKYl"
   },
   "outputs": [
    {
     "name": "stdout",
     "output_type": "stream",
     "text": [
      "Red apple\n",
      "Corona blue\n",
      "Mug cup\n",
      "Oppen door\n"
     ]
    }
   ],
   "source": [
    "my_list2 = [\"red\",\"corona\",\"mug\",\"oppen\"]\n",
    "\n",
    "for i, j in zip(my_list, my_list2):\n",
    "    print(f\"{j.capitalize()} {i}\")"
   ]
  },
  {
   "cell_type": "markdown",
   "metadata": {
    "id": "ts1p9xkqKJPL"
   },
   "source": [
    "**예제 11** \n",
    "\n",
    "구구단을 호출하는 함수를 만드세요\n",
    "\n",
    "\n",
    "```\n",
    ">> gugudan(5)\n",
    "5 * 1 = 5\n",
    "5 * 2 = 10\n",
    "5 * 3 = 15\n",
    "5 * 4 = 20\n",
    "5 * 5 = 25\n",
    "5 * 6 = 30\n",
    "5 * 7 = 35\n",
    "5 * 8 = 40\n",
    "5 * 9 = 45\n",
    "```\n"
   ]
  },
  {
   "cell_type": "code",
   "execution_count": 67,
   "metadata": {
    "id": "dOjMwO7TKNH1"
   },
   "outputs": [
    {
     "name": "stdout",
     "output_type": "stream",
     "text": [
      "5 * 1 = 5\n",
      "5 * 2 = 10\n",
      "5 * 3 = 15\n",
      "5 * 4 = 20\n",
      "5 * 5 = 25\n",
      "5 * 6 = 30\n",
      "5 * 7 = 35\n",
      "5 * 8 = 40\n",
      "5 * 9 = 45\n"
     ]
    }
   ],
   "source": [
    "def gugudan(input1):\n",
    "    for i in range(1,10):\n",
    "        print(f\"{input1} * {i} = {input1*i}\")\n",
    "        \n",
    "gugudan(5)"
   ]
  },
  {
   "cell_type": "markdown",
   "metadata": {
    "id": "T9gPPxKVKOYL"
   },
   "source": [
    "**예제 12** \n",
    "\n",
    "이중 for문을 이용하여 아래와 똑같이 출력하는 코드를 작성하세요\n",
    "\n",
    "```{.no-highlight}\n",
    "1 2 3 4 5 6 7 8 9 10\n",
    "1 2 3 4 5 6 7 8 9 10\n",
    "1 2 3 4 5 6 7 8 9 10\n",
    "1 2 3 4 5 6 7 8 9 10\n",
    "1 2 3 4 5 6 7 8 9 10 \n",
    "1 2 3 4 5 6 7 8 9 10 \n",
    "1 2 3 4 5 6 7 8 9 10\n",
    "```\n"
   ]
  },
  {
   "cell_type": "code",
   "execution_count": 69,
   "metadata": {
    "id": "25gRJZvaKPT0"
   },
   "outputs": [
    {
     "name": "stdout",
     "output_type": "stream",
     "text": [
      "1 2 3 4 5 6 7 8 9 10 \n",
      "1 2 3 4 5 6 7 8 9 10 \n",
      "1 2 3 4 5 6 7 8 9 10 \n",
      "1 2 3 4 5 6 7 8 9 10 \n",
      "1 2 3 4 5 6 7 8 9 10 \n",
      "1 2 3 4 5 6 7 8 9 10 \n",
      "1 2 3 4 5 6 7 8 9 10 \n",
      "1 2 3 4 5 6 7 8 9 10 \n",
      "1 2 3 4 5 6 7 8 9 10 \n",
      "1 2 3 4 5 6 7 8 9 10 \n"
     ]
    }
   ],
   "source": [
    "for i in range(1,11):\n",
    "    for j in range(1,11):\n",
    "        print(j, end=\" \")\n",
    "    print()"
   ]
  },
  {
   "cell_type": "markdown",
   "metadata": {
    "id": "4rEKTyo7QLUM"
   },
   "source": [
    "**예제 13** \n",
    "\n",
    "이중 for문을 이용하여 아래와 똑같이 출력하는 코드를 작성하세요\n",
    "\n",
    "```{.no-highlight}\n",
    "1 2 3 4 5 6 \n",
    "1 2 3 4 5 6 \n",
    "1 2 3 4 5 6 \n",
    "1 2 3 4 5 6 \n",
    "1 2 3 4 5 6 \n",
    "1 2 3 4 5 6 \n",
    "1 2 3 4 5 6 \n",
    "```\n"
   ]
  },
  {
   "cell_type": "code",
   "execution_count": 70,
   "metadata": {
    "id": "Tp4yC8fjQLUR"
   },
   "outputs": [
    {
     "name": "stdout",
     "output_type": "stream",
     "text": [
      "1 2 3 4 5 6 \n",
      "1 2 3 4 5 6 \n",
      "1 2 3 4 5 6 \n",
      "1 2 3 4 5 6 \n",
      "1 2 3 4 5 6 \n",
      "1 2 3 4 5 6 \n",
      "1 2 3 4 5 6 \n"
     ]
    }
   ],
   "source": [
    "for i in range(1,8):\n",
    "    for j in range(1,7):\n",
    "        print(j, end=\" \")\n",
    "    print()"
   ]
  },
  {
   "cell_type": "markdown",
   "metadata": {
    "id": "9JLqJX-qQS6N"
   },
   "source": [
    "**예제 14** \n",
    "\n",
    "아래와 똑같이 출력하는 코드를 작성하세요\n",
    "\n",
    "```{.no-highlight}\n",
    "2 4 6 8 10 \n",
    "1 3 5 7 9\n",
    "2 4 6 8 10 \n",
    "1 3 5 7 9\n",
    "2 4 6 8 10 \n",
    "1 3 5 7 9\n",
    "2 4 6 8 10 \n",
    "1 3 5 7 9\n",
    "2 4 6 8 10 \n",
    "1 3 5 7 9\n",
    "```\n"
   ]
  },
  {
   "cell_type": "code",
   "execution_count": 73,
   "metadata": {
    "id": "PlZNTmyhQS6O"
   },
   "outputs": [
    {
     "name": "stdout",
     "output_type": "stream",
     "text": [
      "2 4 6 8 10 \n",
      "1 3 5 7 9 \n",
      "2 4 6 8 10 \n",
      "1 3 5 7 9 \n",
      "2 4 6 8 10 \n",
      "1 3 5 7 9 \n",
      "2 4 6 8 10 \n",
      "1 3 5 7 9 \n",
      "2 4 6 8 10 \n",
      "1 3 5 7 9 \n"
     ]
    }
   ],
   "source": [
    "for i in range(1,6):\n",
    "    for j in range(2,11,2):\n",
    "        print(j, end=\" \")\n",
    "    print()\n",
    "    for j in range(1,11,2):\n",
    "        print(j, end=\" \")\n",
    "    print()"
   ]
  },
  {
   "cell_type": "markdown",
   "metadata": {
    "id": "WsRXZCzzKQuI"
   },
   "source": [
    "**예제 15** \n",
    "\n",
    "이중 for문을 이용하여 아래와 똑같이 출력하는 코드를 작성하세요\n",
    "\n",
    "```{.no-highlight}\n",
    "         *\n",
    "        **\n",
    "       ***\n",
    "      ****\n",
    "     *****\n",
    "    ******\n",
    "   *******\n",
    "  ********\n",
    " *********\n",
    "**********\n",
    "```\n"
   ]
  },
  {
   "cell_type": "code",
   "execution_count": 89,
   "metadata": {
    "id": "uhVOEfvjKRpA",
    "scrolled": true
   },
   "outputs": [
    {
     "name": "stdout",
     "output_type": "stream",
     "text": [
      "         *\n",
      "        **\n",
      "       ***\n",
      "      ****\n",
      "     *****\n",
      "    ******\n",
      "   *******\n",
      "  ********\n",
      " *********\n",
      "**********\n"
     ]
    }
   ],
   "source": [
    "for i in range(9,-1,-1):\n",
    "    print(f'{\" \"*i:*<10}')"
   ]
  },
  {
   "cell_type": "markdown",
   "metadata": {
    "id": "ZDNCXYGRKSoK"
   },
   "source": [
    "\n",
    "**예제 16** \n",
    "\n",
    "이중 for문을 이용하여 아래와 똑같이 출력하는 코드를 작성하세요\n",
    "\n",
    "```{.no-highlight}\n",
    "           #\n",
    "           *\n",
    "          ***\n",
    "         *****\n",
    "        *******\n",
    "       *********\n",
    "      ***********\n",
    "     *************\n",
    "    ***************\n",
    "   *****************\n",
    "  -------------------\n",
    "  *******************\n",
    "    MARRY CHRISTMAS !\n",
    "```\n"
   ]
  },
  {
   "cell_type": "code",
   "execution_count": 105,
   "metadata": {
    "id": "whjpiD-ZKTkc"
   },
   "outputs": [
    {
     "name": "stdout",
     "output_type": "stream",
     "text": [
      "         #          \n",
      "         *          \n",
      "        ***         \n",
      "       *****        \n",
      "      *******       \n",
      "     *********      \n",
      "    ***********     \n",
      "   *************    \n",
      "  ***************   \n",
      " *****************  \n",
      "------------------- \n",
      "******************* \n",
      " MARRY CHRISTMAS !  \n"
     ]
    }
   ],
   "source": [
    "print(f'{\"#\":^20}')\n",
    "for i in range(1,19,2):\n",
    "    print(f'{\"*\"*i:^20}')\n",
    "print(f'{\"-\"*19:^20}')\n",
    "print(f'{\"*\"*19:^20}')\n",
    "print(f'{\"MARRY CHRISTMAS !\":^20}')"
   ]
  },
  {
   "cell_type": "markdown",
   "metadata": {
    "id": "uS3__jM6KUcG"
   },
   "source": [
    "\n",
    "\n",
    "`apartment`가  다음과 같이 주어져 있습니다. \n",
    "```\n",
    "apartment = [ [201, 202, 203], [301, 302, 303], [401, 402, 403] ]\n",
    "```\n"
   ]
  },
  {
   "cell_type": "code",
   "execution_count": 106,
   "metadata": {
    "id": "MxQ_LG-9NiDb"
   },
   "outputs": [],
   "source": [
    "apartment = [ [201, 202, 203], [301, 302, 303], [401, 402, 403] ]"
   ]
  },
  {
   "cell_type": "markdown",
   "metadata": {
    "id": "1i9-8K7aNKeG"
   },
   "source": [
    "**예제 17** \n",
    "\n",
    "아래와 같은 결과를 출력하는 코드를 `for문`과 `range`를 이용해 작성하세요\n",
    "\n",
    "```{.no-highlight}\n",
    "201 호 \n",
    "301 호 \n",
    "401 호\n",
    "```\n"
   ]
  },
  {
   "cell_type": "code",
   "execution_count": 112,
   "metadata": {
    "id": "XWKIxb2-KWVe"
   },
   "outputs": [
    {
     "name": "stdout",
     "output_type": "stream",
     "text": [
      "201 호\n",
      "301 호\n",
      "401 호\n"
     ]
    }
   ],
   "source": [
    "for i in range(0,3):\n",
    "    print(f\"{apartment[i][0]} 호\")"
   ]
  },
  {
   "cell_type": "markdown",
   "metadata": {
    "id": "XNWuysbqNBDo"
   },
   "source": [
    "\n",
    "**예제 18** \n",
    "\n",
    "아래와 같은 결과를 출력하는 코드를 `for문`과 `range`를 이용해 작성하세요\n",
    "\n",
    "\n",
    "```{.no-highlight}\n",
    "203 호 \n",
    "303 호 \n",
    "403 호\n",
    "```\n"
   ]
  },
  {
   "cell_type": "code",
   "execution_count": 113,
   "metadata": {
    "id": "lUmfgJwkNDEc"
   },
   "outputs": [
    {
     "name": "stdout",
     "output_type": "stream",
     "text": [
      "203 호\n",
      "303 호\n",
      "403 호\n"
     ]
    }
   ],
   "source": [
    "for i in range(0,3):\n",
    "    print(f\"{apartment[i][2]} 호\")"
   ]
  },
  {
   "cell_type": "markdown",
   "metadata": {
    "id": "UR9FqS84NO7w"
   },
   "source": [
    "**예제 19** \n",
    "\n",
    "아래와 같은 결과를 출력하는 코드를 `for문`과 `range`를 이용해 작성하세요\n",
    "\n",
    "\n",
    "```{.no-highlight}\n",
    "402 호 \n",
    "302 호 \n",
    "202 호 \n",
    "```\n"
   ]
  },
  {
   "cell_type": "code",
   "execution_count": 115,
   "metadata": {
    "id": "lWTZMYfLNRxy"
   },
   "outputs": [
    {
     "name": "stdout",
     "output_type": "stream",
     "text": [
      "402 호\n",
      "302 호\n",
      "202 호\n"
     ]
    }
   ],
   "source": [
    "for i in range(2,-1,-1):\n",
    "    print(f\"{apartment[i][1]} 호\")"
   ]
  },
  {
   "cell_type": "markdown",
   "metadata": {
    "id": "DgUcIZAxNTTm"
   },
   "source": [
    "**예제 20** \n",
    "\n",
    "아래와 같은 결과를 출력하는 코드를 `for문`과 `range`를 이용해 작성하세요\n",
    "\n",
    "```{.no-highlight}\n",
    "201 호 옆집은 202 호\n",
    "301 호 옆집은 302 호\n",
    "401 호 옆집은 402 호\n",
    "```\n"
   ]
  },
  {
   "cell_type": "code",
   "execution_count": null,
   "metadata": {
    "id": "WgGC6KnONWkO"
   },
   "outputs": [],
   "source": [
    "for i in range(0,3):\n",
    "    print(f\"{apartment[i][0]} 호 옆집은 {apartment[i][0]} 호\")"
   ]
  },
  {
   "cell_type": "markdown",
   "metadata": {
    "id": "UpeuvLh8NYEi"
   },
   "source": [
    "\n",
    "**예제 21** \n",
    "\n",
    "아래와 같은 결과를 출력하는 코드를 `for문`과 `range`를 이용해 작성하세요\n",
    "\n",
    "```{.no-highlight}\n",
    "201 호 윗층은 301 호 윗층은 401호\n",
    "202 호 윗층은 302 호 윗층은 402호\n",
    "203 호 윗층은 303 호 윗층은 403호\n",
    "```\n"
   ]
  },
  {
   "cell_type": "code",
   "execution_count": 127,
   "metadata": {
    "id": "X473dVz5NbIW"
   },
   "outputs": [
    {
     "name": "stdout",
     "output_type": "stream",
     "text": [
      "201 호 윗층은 301 호 윗층은 401 호\n",
      "202 호 윗층은 302 호 윗층은 402 호\n",
      "203 호 윗층은 303 호 윗층은 403 호\n"
     ]
    }
   ],
   "source": [
    "for i in range(0,3):\n",
    "    temp = []\n",
    "    for j in range(0,3):\n",
    "         temp.append(f\"{str(apartment[j][i])} 호\") \n",
    "    print(\" 윗층은 \".join(temp))"
   ]
  },
  {
   "cell_type": "markdown",
   "metadata": {
    "id": "sEoNppGDNcdX"
   },
   "source": [
    "**예제 22** \n",
    "\n",
    "아래와 같은 결과를 출력하는 코드를 `for문`과 `range`를 이용해 작성하세요\n",
    "\n",
    "\n",
    "```{.no-highlight}\n",
    "201 호 \n",
    "202 호\n",
    "203 호\n",
    "301 호\n",
    "302 호\n",
    "303 호\n",
    "401 호 \n",
    "402 호\n",
    "403 호\n",
    "```"
   ]
  },
  {
   "cell_type": "code",
   "execution_count": 130,
   "metadata": {
    "id": "YAtaBHGkNekE"
   },
   "outputs": [
    {
     "name": "stdout",
     "output_type": "stream",
     "text": [
      "201 호\n",
      "301 호\n",
      "401 호\n",
      "202 호\n",
      "302 호\n",
      "402 호\n",
      "203 호\n",
      "303 호\n",
      "403 호\n"
     ]
    }
   ],
   "source": [
    "for i in range(0,3):\n",
    "    for j in range(0,3):\n",
    "        print(f\"{apartment[j][i]} 호\")"
   ]
  },
  {
   "cell_type": "markdown",
   "metadata": {
    "id": "viZj-9fZNfeh"
   },
   "source": [
    "**예제 23** \n",
    "\n",
    "1, 4, 7, 10, 13 ... 31 을 `for문`과 `range`를 이용해서 출력하세요\n"
   ]
  },
  {
   "cell_type": "code",
   "execution_count": 132,
   "metadata": {
    "id": "c8vZWw5kNfrU"
   },
   "outputs": [
    {
     "name": "stdout",
     "output_type": "stream",
     "text": [
      "1\n",
      "4\n",
      "7\n",
      "10\n",
      "13\n",
      "16\n",
      "19\n",
      "22\n",
      "25\n",
      "28\n",
      "31\n"
     ]
    }
   ],
   "source": [
    "for i in range(1,32,3):\n",
    "    print(i)"
   ]
  },
  {
   "cell_type": "markdown",
   "metadata": {
    "id": "j3SEY_qcNgro"
   },
   "source": [
    "**예제 24** \n",
    "\n",
    "아래와 같이 n을 인풋으로 하면 1부터 n까지 더한 값을 출력하는 함수 `add_nums(n)`를 만드세요\n",
    "\n",
    "\n",
    "```\n",
    ">> add_nums_line(5)\n",
    "1\n",
    "3\n",
    "6\n",
    "10\n",
    "15\n",
    "```\n"
   ]
  },
  {
   "cell_type": "code",
   "execution_count": 133,
   "metadata": {
    "id": "cQpQuNFTNg1s"
   },
   "outputs": [
    {
     "name": "stdout",
     "output_type": "stream",
     "text": [
      "1\n",
      "3\n",
      "6\n",
      "10\n",
      "15\n"
     ]
    }
   ],
   "source": [
    "def add_nums_line(input1):\n",
    "    sum = 0\n",
    "    for i in range (1, input1+1):\n",
    "        sum += i\n",
    "        print(sum)\n",
    "        \n",
    "add_nums_line(5)"
   ]
  },
  {
   "cell_type": "markdown",
   "metadata": {
    "id": "fcoUNSiXNqjr"
   },
   "source": [
    "`num_list`가 아래와 같이 정의되어 있습니다. \n",
    "\n",
    "```\n",
    "num_list = [0,2,3,5,6,12,15,17,18,23,25,27,45,47,48,53,57,58,59,60,63,64,68,72,75,79,86,93,96,99,100]\n",
    "```"
   ]
  },
  {
   "cell_type": "code",
   "execution_count": 134,
   "metadata": {
    "id": "VQnWtngfNqvM"
   },
   "outputs": [],
   "source": [
    "num_list = [0,2,3,5,6,12,15,17,18,23,25,27,45,47,48,53,57,58,59,60,63,64,68,72,75,79,86,93,96,99,100]"
   ]
  },
  {
   "cell_type": "markdown",
   "metadata": {
    "id": "pq1r8LqKNvCB"
   },
   "source": [
    "**예제 25**\n",
    "\n",
    "`num_list` 중 4의 배수만 출력하세요\n"
   ]
  },
  {
   "cell_type": "code",
   "execution_count": 135,
   "metadata": {
    "id": "yPjF8T57Nxd1"
   },
   "outputs": [
    {
     "name": "stdout",
     "output_type": "stream",
     "text": [
      "0\n",
      "12\n",
      "48\n",
      "60\n",
      "64\n",
      "68\n",
      "72\n",
      "96\n",
      "100\n"
     ]
    }
   ],
   "source": [
    "for i in num_list:\n",
    "    if i%4==0:\n",
    "        print(i)"
   ]
  },
  {
   "cell_type": "markdown",
   "metadata": {
    "id": "1jktkqlVNzAt"
   },
   "source": [
    "\n",
    "**예제 26** \n",
    "\n",
    "`num_list` 중 50 이하인 5의 배수만 출력하세요\n",
    "\n"
   ]
  },
  {
   "cell_type": "code",
   "execution_count": 136,
   "metadata": {
    "id": "D8iepJF8N0kc"
   },
   "outputs": [
    {
     "name": "stdout",
     "output_type": "stream",
     "text": [
      "0\n",
      "5\n",
      "15\n",
      "25\n",
      "45\n"
     ]
    }
   ],
   "source": [
    "for i in num_list:\n",
    "    if i%5==0 and i<=50:\n",
    "        print(i)"
   ]
  },
  {
   "cell_type": "markdown",
   "metadata": {
    "id": "7ZhV5ExNN1ai"
   },
   "source": [
    "**예제 27** \n",
    "\n",
    "`num_list` 중 각 자리수를 더해서 10이 넘는 숫자만 출력하세요\n"
   ]
  },
  {
   "cell_type": "code",
   "execution_count": 142,
   "metadata": {
    "id": "cQAChnLFN26k"
   },
   "outputs": [
    {
     "name": "stdout",
     "output_type": "stream",
     "text": [
      "13 11\n",
      "14 12\n",
      "16 12\n",
      "17 13\n",
      "18 14\n",
      "22 14\n",
      "24 12\n",
      "25 16\n",
      "26 14\n",
      "27 12\n",
      "28 15\n",
      "29 18\n",
      "30 11\n"
     ]
    }
   ],
   "source": [
    "def cal_num(input1):\n",
    "    a = input1//100\n",
    "    b = input1//10\n",
    "    c = input1%10\n",
    "    return a+b+c\n",
    "\n",
    "for idx, i in enumerate(num_list):\n",
    "    if cal_num(i) > 10:\n",
    "        print(idx, cal_num(i))"
   ]
  },
  {
   "cell_type": "markdown",
   "metadata": {
    "id": "uCoRYjMoN4Js"
   },
   "source": [
    "**예제 28** \n",
    "\n",
    "`num_list` 중 가장 작은 7의 배수를 찾으세요. (hint: `break`을 반드시 포함하세요)\n"
   ]
  },
  {
   "cell_type": "code",
   "execution_count": 144,
   "metadata": {
    "id": "Cwox2wbDN6B9"
   },
   "outputs": [
    {
     "name": "stdout",
     "output_type": "stream",
     "text": [
      "63\n"
     ]
    }
   ],
   "source": [
    "for i in num_list:\n",
    "    if i%7==0 and i!=0:\n",
    "        print(i)\n",
    "        break"
   ]
  },
  {
   "cell_type": "markdown",
   "metadata": {
    "id": "AYVG1GMfN7A7"
   },
   "source": [
    "**예제 29** \n",
    "\n",
    "학생들의 번호와 점수가 딕셔너리에 아래와 같이 저장되어 있습니다. 전산 실수로 인해 점수가 실제 점수보다 10점이 깍인것을 발견했습니다. 점수를 모두 10점씩 올리세요\n",
    "\n",
    "```\n",
    "st_scores = {1:80, 2:55, 3:80, 4:35, 5:75, 6: 80, 7:40, 8: 90, 9:55, 10:20}\n",
    "```\n"
   ]
  },
  {
   "cell_type": "code",
   "execution_count": 155,
   "metadata": {
    "id": "3eRFw6f7N7SD"
   },
   "outputs": [
    {
     "data": {
      "text/plain": [
       "{1: 90, 2: 65, 3: 90, 4: 45, 5: 85, 6: 90, 7: 50, 8: 100, 9: 65, 10: 30}"
      ]
     },
     "execution_count": 155,
     "metadata": {},
     "output_type": "execute_result"
    }
   ],
   "source": [
    "st_scores = {1:80, 2:55, 3:80, 4:35, 5:75, 6: 80, 7:40, 8: 90, 9:55, 10:20}\n",
    "\n",
    "for i in range(1,11):\n",
    "    st_scores[i] +=10\n",
    "    \n",
    "st_scores"
   ]
  },
  {
   "cell_type": "markdown",
   "metadata": {
    "id": "o-QPq1PEN8SL"
   },
   "source": [
    "\n",
    "**예제 30** \n",
    "\n",
    "60점 미만인 학생들에게 \"재평가가 실시될 예정입니다.\", 90점 이상인 학생들에게 \"우수장학금이 지급됩니다.\"를 출력하는 코드를 작성하세요. 단, 코드내에 continue를 반드시 포함하세요\n"
   ]
  },
  {
   "cell_type": "code",
   "execution_count": 156,
   "metadata": {
    "id": "IZESB5EJN8wb"
   },
   "outputs": [
    {
     "name": "stdout",
     "output_type": "stream",
     "text": [
      "1학생은 우수장학금이 지급됩니다.\n",
      "3학생은 우수장학금이 지급됩니다.\n",
      "4학생은 재평가가 실시될 예정입니다.\n",
      "6학생은 우수장학금이 지급됩니다.\n",
      "7학생은 재평가가 실시될 예정입니다.\n",
      "8학생은 우수장학금이 지급됩니다.\n",
      "10학생은 재평가가 실시될 예정입니다.\n"
     ]
    }
   ],
   "source": [
    "for i in range(1,11):\n",
    "    if st_scores[i]>=90:\n",
    "        print(f\"{i}학생은 우수장학금이 지급됩니다.\")\n",
    "    elif st_scores[i]>=60:\n",
    "        continue\n",
    "    else:\n",
    "        print(f\"{i}학생은 재평가가 실시될 예정입니다.\")"
   ]
  },
  {
   "cell_type": "code",
   "execution_count": 1,
   "metadata": {},
   "outputs": [
    {
     "data": {
      "text/plain": [
       "{'a': ['apple', 1000],\n",
       " 'b': ['beer', 1200],\n",
       " 'c': ['cherry', 2000],\n",
       " 'd': ['donut', 1500],\n",
       " 'e': ['egg', 500],\n",
       " 'f': ['fish', 3000]}"
      ]
     },
     "execution_count": 1,
     "metadata": {},
     "output_type": "execute_result"
    }
   ],
   "source": [
    "mart = {'a': ['apple', 1000], 'b': ['beer', 1200] , 'c' : ['cherry', 2000], 'd':['donut', 1500], 'e': ['egg', 500], 'f' : ['fish', 3000] }\n",
    "mart"
   ]
  },
  {
   "cell_type": "markdown",
   "metadata": {},
   "source": [
    "**예제 31** \n",
    "\n",
    "가장 저렴한 값을 구하는 코드를 `for`를 이용해 한줄로 작성하세요."
   ]
  },
  {
   "cell_type": "code",
   "execution_count": 2,
   "metadata": {},
   "outputs": [
    {
     "data": {
      "text/plain": [
       "['a', 'b', 'c', 'd', 'e', 'f']"
      ]
     },
     "execution_count": 2,
     "metadata": {},
     "output_type": "execute_result"
    }
   ],
   "source": [
    "key_lst = list(mart.keys())\n",
    "key_lst"
   ]
  },
  {
   "cell_type": "code",
   "execution_count": 48,
   "metadata": {},
   "outputs": [
    {
     "data": {
      "text/plain": [
       "['a', 'b', 'c', 'd', 'e', 'f']"
      ]
     },
     "execution_count": 48,
     "metadata": {},
     "output_type": "execute_result"
    }
   ],
   "source": [
    "[i for i in list(mart.keys())]"
   ]
  },
  {
   "cell_type": "code",
   "execution_count": 55,
   "metadata": {},
   "outputs": [
    {
     "data": {
      "text/plain": [
       "500"
      ]
     },
     "execution_count": 55,
     "metadata": {},
     "output_type": "execute_result"
    }
   ],
   "source": [
    "min([mart[i][1] for i in mart])"
   ]
  },
  {
   "cell_type": "markdown",
   "metadata": {},
   "source": [
    "**예제 32**\n",
    "\n",
    "가격의 평균을 구하는 코드를 `for`를 이용해 한줄로 작성하세요"
   ]
  },
  {
   "cell_type": "code",
   "execution_count": 65,
   "metadata": {},
   "outputs": [
    {
     "data": {
      "text/plain": [
       "{'a': ['apple', 1000],\n",
       " 'b': ['beer', 1200],\n",
       " 'c': ['cherry', 2000],\n",
       " 'd': ['donut', 1500],\n",
       " 'e': ['egg', 500],\n",
       " 'f': ['fish', 3000]}"
      ]
     },
     "execution_count": 65,
     "metadata": {},
     "output_type": "execute_result"
    }
   ],
   "source": [
    "mart"
   ]
  },
  {
   "cell_type": "code",
   "execution_count": 57,
   "metadata": {},
   "outputs": [
    {
     "data": {
      "text/plain": [
       "['a', 'b', 'c', 'd', 'e', 'f']"
      ]
     },
     "execution_count": 57,
     "metadata": {},
     "output_type": "execute_result"
    }
   ],
   "source": [
    "[i for i in mart]"
   ]
  },
  {
   "cell_type": "code",
   "execution_count": 60,
   "metadata": {},
   "outputs": [
    {
     "data": {
      "text/plain": [
       "1533.3333333333333"
      ]
     },
     "execution_count": 60,
     "metadata": {},
     "output_type": "execute_result"
    }
   ],
   "source": [
    "sum([mart[i][1] for i in mart])/len(mart)"
   ]
  },
  {
   "cell_type": "markdown",
   "metadata": {},
   "source": [
    "**예제 33**\n",
    "\n",
    "다음과 같은 출력을 하는 코드를 작성해보세요. 가능하다면 코드 한줄로 작성해 보세요.\n",
    "\n",
    "```\n",
    "a is apple, b is beer, c is cherry, d is donut, e is egg\n",
    "```"
   ]
  },
  {
   "cell_type": "code",
   "execution_count": 73,
   "metadata": {},
   "outputs": [
    {
     "data": {
      "text/plain": [
       "'a is apple, b is beer, c is cherry, d is donut, e is egg, f is fish'"
      ]
     },
     "execution_count": 73,
     "metadata": {},
     "output_type": "execute_result"
    }
   ],
   "source": [
    "\", \".join([f\"{i} is {mart[i][0]}\" for i in mart])"
   ]
  },
  {
   "cell_type": "code",
   "execution_count": null,
   "metadata": {},
   "outputs": [],
   "source": []
  }
 ],
 "metadata": {
  "colab": {
   "authorship_tag": "ABX9TyPNPA9OdYeE2dSlStxJCoTu",
   "collapsed_sections": [],
   "name": "4-2. 조건문 : for 문.ipynb",
   "provenance": []
  },
  "kernelspec": {
   "display_name": "Python 3 (ipykernel)",
   "language": "python",
   "name": "python3"
  },
  "language_info": {
   "codemirror_mode": {
    "name": "ipython",
    "version": 3
   },
   "file_extension": ".py",
   "mimetype": "text/x-python",
   "name": "python",
   "nbconvert_exporter": "python",
   "pygments_lexer": "ipython3",
   "version": "3.9.7"
  },
  "toc": {
   "base_numbering": 1,
   "nav_menu": {},
   "number_sections": true,
   "sideBar": true,
   "skip_h1_title": false,
   "title_cell": "Table of Contents",
   "title_sidebar": "Contents",
   "toc_cell": false,
   "toc_position": {},
   "toc_section_display": true,
   "toc_window_display": false
  },
  "varInspector": {
   "cols": {
    "lenName": 16,
    "lenType": 16,
    "lenVar": 40
   },
   "kernels_config": {
    "python": {
     "delete_cmd_postfix": "",
     "delete_cmd_prefix": "del ",
     "library": "var_list.py",
     "varRefreshCmd": "print(var_dic_list())"
    },
    "r": {
     "delete_cmd_postfix": ") ",
     "delete_cmd_prefix": "rm(",
     "library": "var_list.r",
     "varRefreshCmd": "cat(var_dic_list()) "
    }
   },
   "types_to_exclude": [
    "module",
    "function",
    "builtin_function_or_method",
    "instance",
    "_Feature"
   ],
   "window_display": false
  }
 },
 "nbformat": 4,
 "nbformat_minor": 1
}
