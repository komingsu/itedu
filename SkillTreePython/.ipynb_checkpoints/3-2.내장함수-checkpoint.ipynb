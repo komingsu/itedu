{
 "cells": [
  {
   "cell_type": "markdown",
   "metadata": {
    "colab_type": "text",
    "id": "view-in-github"
   },
   "source": [
    "<a href=\"https://colab.research.google.com/github/komingsu/SkillTreePython/blob/main/3-2.%EB%82%B4%EC%9E%A5%ED%95%A8%EC%88%98.ipynb\" target=\"_parent\"><img src=\"https://colab.research.google.com/assets/colab-badge.svg\" alt=\"Open In Colab\"/></a>"
   ]
  },
  {
   "cell_type": "markdown",
   "metadata": {
    "id": "kB5IciXEm6o4"
   },
   "source": [
    "# 3-2. 내장함수 \n",
    "---\n",
    "* 날짜: 2022-04-01\n",
    "* 이름: 고민수"
   ]
  },
  {
   "cell_type": "markdown",
   "metadata": {
    "id": "4iN8NFzHRJ2D"
   },
   "source": [
    "## 개념정리\n",
    "---\n",
    "\n",
    "자료형을 배우면서 우리는 여러가지 내장함수에 대해서도 같이 배워봤습니다. 모든 값을 더하는 `sum()`, 최대값을 구하는 `max()`등 이제는 여러분이 친숙하게 알고 있는 이 함수들이 모두 파이썬에서 이미 만들어 놓은 내장함수 입니다. 내장 함수는 이 외에도 더 많습니다. 그 중에서도 우리가 아직 배우지 않았지만 중요한 함수 몇개를 추가로 배워보도록 하겠습니다. \n",
    "\n",
    "* `dir`\n",
    "* `eval`\n",
    "* `filter`\n",
    "* `map`\n",
    "* `lambda`"
   ]
  },
  {
   "cell_type": "markdown",
   "metadata": {
    "id": "MAM8MDnfw68b"
   },
   "source": [
    "### **(1) dir**\n",
    "\n",
    "이 함수는 각 자료형이 가지고 있는 변수나 함수를 보여줍니다. 우리는 앞에서 각 자료형들에 관련된 여러가지 함수들을 배워 봤습니다. \n",
    "\n",
    "예를 들어 딕셔너리 자료형에는 key 값을 얻는 `.keys` 나 value 값을 반환하는 `.values` 가 있었습니다. \n",
    "\n",
    "아래 코드를 실행하여 이를 확인해 봅시다. \n",
    "\n",
    "\n",
    "```\n",
    "my_dict = {1:'a', 2:'b'}\n",
    "dir(my_dict)\n",
    "```"
   ]
  },
  {
   "cell_type": "code",
   "execution_count": 1,
   "metadata": {},
   "outputs": [
    {
     "data": {
      "text/plain": [
       "['__abs__',\n",
       " '__add__',\n",
       " '__and__',\n",
       " '__bool__',\n",
       " '__ceil__',\n",
       " '__class__',\n",
       " '__delattr__',\n",
       " '__dir__',\n",
       " '__divmod__',\n",
       " '__doc__',\n",
       " '__eq__',\n",
       " '__float__',\n",
       " '__floor__',\n",
       " '__floordiv__',\n",
       " '__format__',\n",
       " '__ge__',\n",
       " '__getattribute__',\n",
       " '__getnewargs__',\n",
       " '__gt__',\n",
       " '__hash__',\n",
       " '__index__',\n",
       " '__init__',\n",
       " '__init_subclass__',\n",
       " '__int__',\n",
       " '__invert__',\n",
       " '__le__',\n",
       " '__lshift__',\n",
       " '__lt__',\n",
       " '__mod__',\n",
       " '__mul__',\n",
       " '__ne__',\n",
       " '__neg__',\n",
       " '__new__',\n",
       " '__or__',\n",
       " '__pos__',\n",
       " '__pow__',\n",
       " '__radd__',\n",
       " '__rand__',\n",
       " '__rdivmod__',\n",
       " '__reduce__',\n",
       " '__reduce_ex__',\n",
       " '__repr__',\n",
       " '__rfloordiv__',\n",
       " '__rlshift__',\n",
       " '__rmod__',\n",
       " '__rmul__',\n",
       " '__ror__',\n",
       " '__round__',\n",
       " '__rpow__',\n",
       " '__rrshift__',\n",
       " '__rshift__',\n",
       " '__rsub__',\n",
       " '__rtruediv__',\n",
       " '__rxor__',\n",
       " '__setattr__',\n",
       " '__sizeof__',\n",
       " '__str__',\n",
       " '__sub__',\n",
       " '__subclasshook__',\n",
       " '__truediv__',\n",
       " '__trunc__',\n",
       " '__xor__',\n",
       " 'as_integer_ratio',\n",
       " 'bit_length',\n",
       " 'conjugate',\n",
       " 'denominator',\n",
       " 'from_bytes',\n",
       " 'imag',\n",
       " 'numerator',\n",
       " 'real',\n",
       " 'to_bytes']"
      ]
     },
     "execution_count": 1,
     "metadata": {},
     "output_type": "execute_result"
    }
   ],
   "source": [
    "a = 5\n",
    "dir(a)"
   ]
  },
  {
   "cell_type": "code",
   "execution_count": null,
   "metadata": {
    "colab": {
     "base_uri": "https://localhost:8080/"
    },
    "id": "Flo7sT5YV-7W",
    "outputId": "0c89677d-0635-4a4e-9d9a-414eae72da0a"
   },
   "outputs": [
    {
     "data": {
      "text/plain": [
       "['__class__',\n",
       " '__contains__',\n",
       " '__delattr__',\n",
       " '__delitem__',\n",
       " '__dir__',\n",
       " '__doc__',\n",
       " '__eq__',\n",
       " '__format__',\n",
       " '__ge__',\n",
       " '__getattribute__',\n",
       " '__getitem__',\n",
       " '__gt__',\n",
       " '__hash__',\n",
       " '__init__',\n",
       " '__init_subclass__',\n",
       " '__iter__',\n",
       " '__le__',\n",
       " '__len__',\n",
       " '__lt__',\n",
       " '__ne__',\n",
       " '__new__',\n",
       " '__reduce__',\n",
       " '__reduce_ex__',\n",
       " '__repr__',\n",
       " '__setattr__',\n",
       " '__setitem__',\n",
       " '__sizeof__',\n",
       " '__str__',\n",
       " '__subclasshook__',\n",
       " 'clear',\n",
       " 'copy',\n",
       " 'fromkeys',\n",
       " 'get',\n",
       " 'items',\n",
       " 'keys',\n",
       " 'pop',\n",
       " 'popitem',\n",
       " 'setdefault',\n",
       " 'update',\n",
       " 'values']"
      ]
     },
     "execution_count": 19,
     "metadata": {},
     "output_type": "execute_result"
    }
   ],
   "source": [
    "my_dict = {1:'a', 2:'b'}\n",
    "dir(my_dict)"
   ]
  },
  {
   "cell_type": "markdown",
   "metadata": {
    "id": "uZ17CgW8eJVQ"
   },
   "source": [
    "### **(2) eval**\n",
    "\n",
    "* `eval(str)`\n",
    "\n",
    "\n",
    "이 함수는 문자열을 코드로 바꿔 줍니다. 예를 들어 봅시다. 문자열 '1+2'는 연산한 값이 아니라 문자 그대로의 집합일 뿐입니다. 이를 `eval` 함수에 넣어보겠습니다. \n",
    "\n",
    "```\n",
    "s = '1+2'\n",
    "eval(s)\n",
    "```"
   ]
  },
  {
   "cell_type": "code",
   "execution_count": null,
   "metadata": {
    "colab": {
     "base_uri": "https://localhost:8080/"
    },
    "id": "zpOgScbbeuzn",
    "outputId": "1992ce65-4658-4e0d-cdaa-ab7dcbf2ea71"
   },
   "outputs": [
    {
     "data": {
      "text/plain": [
       "3"
      ]
     },
     "execution_count": 23,
     "metadata": {},
     "output_type": "execute_result"
    }
   ],
   "source": [
    "s = '1+2'\n",
    "eval(s)"
   ]
  },
  {
   "cell_type": "markdown",
   "metadata": {
    "id": "ztMwzdjbewBP"
   },
   "source": [
    "보시다 시피 문자열이 코드로 변경되어 1+2 의 결과인 3이 나오는 것을 볼수 있습니다. `eval(s)`의 타입 또한 정수 자료형이 `int`가 됩니다. \n",
    "\n",
    "이 함수는 익혀두면 유용하게 쓰일 수 있습니다. 특히 사용자의 입력을 받아서 사용할 때는 대부분 문자열로 받게 되는데 이를 바로 코드화 시키기 유용합니다.\n",
    "\n",
    "```\n",
    "a = [1,2,3]\n",
    "s = input('a 를 입력하세요: ')\n",
    "eval(s)\n",
    "```"
   ]
  },
  {
   "cell_type": "code",
   "execution_count": null,
   "metadata": {
    "colab": {
     "base_uri": "https://localhost:8080/"
    },
    "id": "lUWIDhc9fOOH",
    "outputId": "f79b17ce-e7bc-4746-ada3-c54a3036d610"
   },
   "outputs": [
    {
     "name": "stdout",
     "output_type": "stream",
     "text": [
      "a 를 입력하세요: a\n"
     ]
    },
    {
     "data": {
      "text/plain": [
       "[1, 2, 3]"
      ]
     },
     "execution_count": 24,
     "metadata": {},
     "output_type": "execute_result"
    }
   ],
   "source": [
    "a = [1,2,3]\n",
    "s = input('a 를 입력하세요: ')\n",
    "eval(s)"
   ]
  },
  {
   "cell_type": "markdown",
   "metadata": {
    "id": "Kam7Fd5xjNwI"
   },
   "source": [
    "### **(3) filter**\n",
    "\n",
    "* `filter( function, sequence)`\n",
    "\n",
    "이 때 함수는 True 혹은 False를 반환합니다. 그리고 filter는 sequence 중 True 인 값만 반환합니다. 아래 예시를 봅시다.\n",
    "\n",
    "`odd` 함수는 홀수 인지 판별 하여 홀수면 `True`를 짝수면 `False`를 반환합니다.\n",
    "\n",
    "`filter` 함수는 리스트 값들 중 `True`값에 해당하는 홀수 값들만 반환합니다.\n",
    "\n",
    "```\n",
    "def upper3(x):\n",
    "  return x>3\n",
    "\n",
    "list(filter(upper3, [1,2,3,4,5]))\n",
    "```"
   ]
  },
  {
   "cell_type": "code",
   "execution_count": null,
   "metadata": {
    "colab": {
     "base_uri": "https://localhost:8080/"
    },
    "id": "Q81qumRmjif2",
    "outputId": "3ff5dc38-a715-4340-dd7d-17836d94e929"
   },
   "outputs": [
    {
     "data": {
      "text/plain": [
       "[4, 5]"
      ]
     },
     "execution_count": 25,
     "metadata": {},
     "output_type": "execute_result"
    }
   ],
   "source": [
    "def upper3(x):\n",
    "  return x>3\n",
    "\n",
    "list(filter(upper3, [1,2,3,4,5]))"
   ]
  },
  {
   "cell_type": "markdown",
   "metadata": {
    "id": "q_kivW39k3Rx"
   },
   "source": [
    "### **(4) map**\n",
    "\n",
    "* `map( function, sequence)`\n",
    "\n",
    "군집자료형에 있는 요소들을 차례대로 함수 (def)에 넣고 반환 값을 리스트로 돌려줍니다. \n",
    "\n",
    "아래 코드를 실행해 위에서 배운 `filter`와 다른점이 무엇인지 살펴봅시다.\n",
    "\n",
    "```\n",
    "def upper3(x):\n",
    "  return x>3\n",
    "\n",
    "list(map(upper3, [1,2,3,4,5]))\n",
    "```"
   ]
  },
  {
   "cell_type": "code",
   "execution_count": null,
   "metadata": {
    "colab": {
     "base_uri": "https://localhost:8080/"
    },
    "id": "DD8a2PLuk3Ry",
    "outputId": "28698506-54b3-4bc7-92d9-2e28cbaba102"
   },
   "outputs": [
    {
     "data": {
      "text/plain": [
       "[False, False, False, True, True]"
      ]
     },
     "execution_count": 26,
     "metadata": {},
     "output_type": "execute_result"
    }
   ],
   "source": [
    "def upper3(x):\n",
    "  return x>3\n",
    "\n",
    "list(map(upper3, [1,2,3,4,5]))"
   ]
  },
  {
   "cell_type": "markdown",
   "metadata": {
    "id": "GIwOb74ZsA5h"
   },
   "source": [
    "`filter`함수는 `True`에 해당하는 **인풋**을 걸러서 반환하는 반면,\n",
    "\n",
    "`map`함수는 **아웃풋**을 모두 반환하는 것을 알 수 있습니다. \n",
    "\n",
    "`map`함수를 적절히 사용하면 복잡한 알고리즘도 간단히 표현할 수 있습니다. 아래는 리스트 각 요소들의 제곱값을 구하는 코드입니다. \n",
    "\n",
    "```\n",
    "def square(x):\n",
    "  return x**2\n",
    "\n",
    "list(map(square, [1,2,3]))\n",
    "```\n",
    "\n"
   ]
  },
  {
   "cell_type": "code",
   "execution_count": null,
   "metadata": {
    "colab": {
     "base_uri": "https://localhost:8080/"
    },
    "id": "0JLCADhnNR_M",
    "outputId": "3f70f391-682c-4e9e-983f-df6e6ecf25b0"
   },
   "outputs": [
    {
     "data": {
      "text/plain": [
       "[1, 4, 9]"
      ]
     },
     "execution_count": 27,
     "metadata": {},
     "output_type": "execute_result"
    }
   ],
   "source": [
    "def square(x):\n",
    "  return x**2\n",
    "\n",
    "list(map(square, [1,2,3]))"
   ]
  },
  {
   "cell_type": "markdown",
   "metadata": {
    "id": "GXNRWIyrwQSC"
   },
   "source": [
    "#### **lambda**\n",
    "\n",
    "`lammda` 는 원래 함수를 생성할 때 쓰이며 `def`와 동일한 역할을 합니다. 다만 `def`와 달리 보통 함수를 한줄로 간결하게 만들 때 사용합니다. `def`를 사용해야 할 정도로 복잡하지 않을 때 주로 쓰입니다. \n",
    "\n",
    "```\n",
    "def plus(a,b):\n",
    "  return a+b\n",
    "```\n",
    "\n",
    "위 함수는 아래와 완전히 동일합니다.\n",
    "\n",
    "```\n",
    "plus = lambda a, b:a+b\n",
    "```\n"
   ]
  },
  {
   "cell_type": "code",
   "execution_count": null,
   "metadata": {
    "id": "ea55YTxiwKiS"
   },
   "outputs": [],
   "source": [
    "plus = lambda a, b:a+b"
   ]
  },
  {
   "cell_type": "markdown",
   "metadata": {
    "id": "9aJBMu5HxAdy"
   },
   "source": [
    "함수를 호출 할 때는 마찬가지로 함수이름 `plus`와 괄호를 함꼐 써줍니다.\n",
    "\n",
    "```\n",
    "plus(1,2)\n",
    "```"
   ]
  },
  {
   "cell_type": "code",
   "execution_count": null,
   "metadata": {
    "colab": {
     "base_uri": "https://localhost:8080/"
    },
    "id": "w8RmnGqLw6KJ",
    "outputId": "f39235ee-1858-44e3-d4fd-7db586fa28c3"
   },
   "outputs": [
    {
     "data": {
      "text/plain": [
       "3"
      ]
     },
     "execution_count": 29,
     "metadata": {},
     "output_type": "execute_result"
    }
   ],
   "source": [
    "plus(1,2)"
   ]
  },
  {
   "cell_type": "markdown",
   "metadata": {
    "id": "yMjg-0JgxYcz"
   },
   "source": [
    "`lambda`는 특히 `map`과 함께 쓸 때 그 진가를 발휘합니다. \n",
    "`map`(`filter`도 마찬가지)의 특성상 함수를 항상 필요로 하는데 대부분의 경우 함수가 간단한 경우가 많습니다. \n",
    "\n",
    "위 예제 중 시퀀스의 제곱을 구하는 코드를 봅시다.\n",
    "\n",
    "```\n",
    "def square(x):\n",
    "  return x**2\n",
    "\n",
    "list(map(square, [1,2,3]))\n",
    "```\n",
    "\n",
    "이 코드는 `lambda`를 이용하면 아래와 같이 작성 할 수 있습니다.\n",
    "\n",
    "\n",
    "```\n",
    "square = lambda x: x**2\n",
    "list( map(square, [1,2,3]) )\n",
    "```"
   ]
  },
  {
   "cell_type": "code",
   "execution_count": null,
   "metadata": {
    "colab": {
     "base_uri": "https://localhost:8080/"
    },
    "id": "N8kM2Wr6xGp5",
    "outputId": "8fa643a5-8203-4876-94d9-4f0532a14c73"
   },
   "outputs": [
    {
     "data": {
      "text/plain": [
       "[1, 4, 9]"
      ]
     },
     "execution_count": 30,
     "metadata": {},
     "output_type": "execute_result"
    }
   ],
   "source": [
    "square = lambda x: x**2\n",
    "list( map(square, [1,2,3]) )"
   ]
  },
  {
   "cell_type": "markdown",
   "metadata": {
    "id": "kU35j4XmyUd7"
   },
   "source": [
    "함수를 바인딩 하지 않으면 아래와 같이 한줄로 작성하는 것도 가능합니다. \n",
    "\n",
    "```\n",
    "list( map(lambda x: x**2, [1,2,3]) )\n",
    "```"
   ]
  },
  {
   "cell_type": "code",
   "execution_count": null,
   "metadata": {
    "colab": {
     "base_uri": "https://localhost:8080/"
    },
    "id": "HoBGMstPyQPi",
    "outputId": "adc21021-7455-46b8-f800-6280554d8cf0"
   },
   "outputs": [
    {
     "data": {
      "text/plain": [
       "[1, 4, 9]"
      ]
     },
     "execution_count": 31,
     "metadata": {},
     "output_type": "execute_result"
    }
   ],
   "source": [
    "list( map(lambda x: x**2, [1,2,3]) )"
   ]
  },
  {
   "cell_type": "markdown",
   "metadata": {
    "id": "9HoW8Xtuv8in"
   },
   "source": [
    "`filter` 함수와도 함께 쓸 수 있습니다. 위에서 3보다 큰 숫자들만 반환하는 코드를 작성해 보았습니다.\n",
    "\n",
    "```\n",
    "def upper3(x):\n",
    "  return x>3\n",
    "\n",
    "list(filter(upper3, [1,2,3,4,5]))\n",
    "```\n",
    "\n",
    "이를 `lambda`를 사용해서 아래와 같이 한줄로 표현할 수 있습니다.\n",
    "\n",
    "```\n",
    "list(filter(lambda x: x>3, [1,2,3,4,5]))\n",
    "```"
   ]
  },
  {
   "cell_type": "code",
   "execution_count": null,
   "metadata": {
    "colab": {
     "base_uri": "https://localhost:8080/"
    },
    "id": "upgi0jxqwQx-",
    "outputId": "fd2a6480-b6fd-4924-db0d-894e61d3a558"
   },
   "outputs": [
    {
     "data": {
      "text/plain": [
       "[4, 5]"
      ]
     },
     "execution_count": 32,
     "metadata": {},
     "output_type": "execute_result"
    }
   ],
   "source": [
    "list(filter(lambda x: x>3, [1,2,3,4,5]))"
   ]
  },
  {
   "cell_type": "markdown",
   "metadata": {
    "id": "vWphXr9jTAsO"
   },
   "source": [
    "## 문제 풀이\n",
    "---"
   ]
  },
  {
   "cell_type": "markdown",
   "metadata": {
    "id": "u98zs4LITAyC"
   },
   "source": [
    "\n",
    "**예제 01**\n",
    "\n",
    "리스트 자료형에  관련된 변수 혹은 함수를 출력해 보세요.\n"
   ]
  },
  {
   "cell_type": "code",
   "execution_count": null,
   "metadata": {
    "id": "IiaxggF-TEit"
   },
   "outputs": [],
   "source": []
  },
  {
   "cell_type": "markdown",
   "metadata": {
    "id": "cLDLKc-mzgTU"
   },
   "source": [
    "**예제 02**\n",
    "\n",
    "계산기를 만듭니다. 사용자는 `input()` 을 통해 계산식을 입력합니다.\n",
    "\n",
    "* 예시\n",
    "```\n",
    ">> 계산식을 쓰세요: 1+2*5\n",
    "1+2*5 의 결과는 11 입니다.\n",
    "```\n"
   ]
  },
  {
   "cell_type": "code",
   "execution_count": null,
   "metadata": {
    "colab": {
     "base_uri": "https://localhost:8080/"
    },
    "id": "ojaYTStqyiMq",
    "outputId": "fdc7feb6-0d8b-46b9-fd79-8f13c6610bec"
   },
   "outputs": [
    {
     "name": "stdout",
     "output_type": "stream",
     "text": [
      "1+2*5의 결과는 11 입니다.\n"
     ]
    }
   ],
   "source": [
    "a = \"1+2*5\"\n",
    "print(f\"{a}의 결과는 {eval(a)} 입니다.\")"
   ]
  },
  {
   "cell_type": "markdown",
   "metadata": {
    "id": "tnlRsLpI80N1"
   },
   "source": [
    "**[정의] 03~06**\n",
    "\n",
    "아래와 같이 `long_list`를 정의하세요.\n",
    "\n",
    "```\n",
    "long_list = [5,3,2,3,4,3,4,5,6,67,7,5,3,4,32,24,42,5,6,8,5,5,5,5,3,3,3,56,3,3,6,7,5,8,8,7,34,55,682,232,7,87,8,5,4,32,12,21,2,2,5,4,5,355,2]\n",
    "```"
   ]
  },
  {
   "cell_type": "code",
   "execution_count": null,
   "metadata": {
    "id": "56zeG4e-80he"
   },
   "outputs": [],
   "source": [
    "long_list = [5,3,2,3,4,3,4,5,6,67,7,5,3,4,32,24,42,5,6,8,5,5,5,5,3,3,3,56,3,3,6,7,5,8,8,7,34,55,682,232,7,87,8,5,4,32,12,21,2,2,5,4,5,355,2]"
   ]
  },
  {
   "cell_type": "markdown",
   "metadata": {
    "id": "TichLlpb0TGr"
   },
   "source": [
    "**예제 03**\n",
    "\n",
    "`long_list`에서 짝수값들만 뽑아서 `even_list`로 정의하세요. **코드 한줄로 작성하세요**\n",
    "\n"
   ]
  },
  {
   "cell_type": "code",
   "execution_count": null,
   "metadata": {
    "id": "617Nl6Qs0TGr"
   },
   "outputs": [],
   "source": [
    "list_even = list(filter(lambda x :x%2==0, long_list))"
   ]
  },
  {
   "cell_type": "markdown",
   "metadata": {
    "id": "CmQQRzJx1bP8"
   },
   "source": [
    "**예제 04**\n",
    "\n",
    "`long_list`에서 5의 배수들만 뽑아서 `5_list`로 정의하세요. **코드 한줄로 작성하세요**\n"
   ]
  },
  {
   "cell_type": "code",
   "execution_count": null,
   "metadata": {
    "id": "Kfcpyx601bP8"
   },
   "outputs": [],
   "source": [
    "list_5 = list(filter(lambda x: x%5==0, long_list ))"
   ]
  },
  {
   "cell_type": "markdown",
   "metadata": {
    "id": "Am34nZS913FT"
   },
   "source": [
    "**예제 05**\n",
    "\n",
    "`long_list`의 모든 요소에 각각 10을 곱한 값을 구하여 리스트로 반환하세요. **코드 한줄로 작성하세요**"
   ]
  },
  {
   "cell_type": "code",
   "execution_count": null,
   "metadata": {
    "colab": {
     "base_uri": "https://localhost:8080/"
    },
    "id": "OyrK3jN113FU",
    "outputId": "71d4ae6f-a3f8-4977-9488-60ad8b239164"
   },
   "outputs": [
    {
     "data": {
      "text/plain": [
       "[50,\n",
       " 30,\n",
       " 20,\n",
       " 30,\n",
       " 40,\n",
       " 30,\n",
       " 40,\n",
       " 50,\n",
       " 60,\n",
       " 670,\n",
       " 70,\n",
       " 50,\n",
       " 30,\n",
       " 40,\n",
       " 320,\n",
       " 240,\n",
       " 420,\n",
       " 50,\n",
       " 60,\n",
       " 80,\n",
       " 50,\n",
       " 50,\n",
       " 50,\n",
       " 50,\n",
       " 30,\n",
       " 30,\n",
       " 30,\n",
       " 560,\n",
       " 30,\n",
       " 30,\n",
       " 60,\n",
       " 70,\n",
       " 50,\n",
       " 80,\n",
       " 80,\n",
       " 70,\n",
       " 340,\n",
       " 550,\n",
       " 6820,\n",
       " 2320,\n",
       " 70,\n",
       " 870,\n",
       " 80,\n",
       " 50,\n",
       " 40,\n",
       " 320,\n",
       " 120,\n",
       " 210,\n",
       " 20,\n",
       " 20,\n",
       " 50,\n",
       " 40,\n",
       " 50,\n",
       " 3550,\n",
       " 20]"
      ]
     },
     "execution_count": 54,
     "metadata": {},
     "output_type": "execute_result"
    }
   ],
   "source": [
    "list(map(lambda x: x*10, long_list))"
   ]
  },
  {
   "cell_type": "markdown",
   "metadata": {
    "id": "rrEa7yl-2M2r"
   },
   "source": [
    "**예제 06**\n",
    "\n",
    "`long_list` 모든 요소가 각각 몇자리 숫자인지 구하여 리스트로 반환하세요. **코드 한줄로 작성하세요**"
   ]
  },
  {
   "cell_type": "code",
   "execution_count": null,
   "metadata": {
    "colab": {
     "base_uri": "https://localhost:8080/"
    },
    "id": "trTV-T7E2M2r",
    "outputId": "3d1013b7-7f88-44f2-f2c0-0f86bf43ecd3"
   },
   "outputs": [
    {
     "data": {
      "text/plain": [
       "[1,\n",
       " 1,\n",
       " 1,\n",
       " 1,\n",
       " 1,\n",
       " 1,\n",
       " 1,\n",
       " 1,\n",
       " 1,\n",
       " 2,\n",
       " 1,\n",
       " 1,\n",
       " 1,\n",
       " 1,\n",
       " 2,\n",
       " 2,\n",
       " 2,\n",
       " 1,\n",
       " 1,\n",
       " 1,\n",
       " 1,\n",
       " 1,\n",
       " 1,\n",
       " 1,\n",
       " 1,\n",
       " 1,\n",
       " 1,\n",
       " 2,\n",
       " 1,\n",
       " 1,\n",
       " 1,\n",
       " 1,\n",
       " 1,\n",
       " 1,\n",
       " 1,\n",
       " 1,\n",
       " 2,\n",
       " 2,\n",
       " 3,\n",
       " 3,\n",
       " 1,\n",
       " 2,\n",
       " 1,\n",
       " 1,\n",
       " 1,\n",
       " 2,\n",
       " 2,\n",
       " 2,\n",
       " 1,\n",
       " 1,\n",
       " 1,\n",
       " 1,\n",
       " 1,\n",
       " 3,\n",
       " 1]"
      ]
     },
     "execution_count": 63,
     "metadata": {},
     "output_type": "execute_result"
    }
   ],
   "source": [
    "list(map(lambda x: len(sorted(str(x))), long_list))"
   ]
  },
  {
   "cell_type": "markdown",
   "metadata": {
    "id": "LD9mpZGw2iTt"
   },
   "source": [
    "**예제 07**\n",
    "\n",
    "`map`과 `lambda`를 이용해 한줄의 코드로 구구단 5단을 출력해 보세요. 실행 결과는 아래와 같습니다.\n",
    "\n",
    "\n",
    "```\n",
    "['5 x 1 = 5',\n",
    " '5 x 2 = 10',\n",
    " '5 x 3 = 15',\n",
    " '5 x 4 = 20',\n",
    " '5 x 5 = 25',\n",
    " '5 x 6 = 30',\n",
    " '5 x 7 = 35',\n",
    " '5 x 8 = 40',\n",
    " '5 x 9 = 45']\n",
    "```"
   ]
  },
  {
   "cell_type": "code",
   "execution_count": null,
   "metadata": {
    "colab": {
     "base_uri": "https://localhost:8080/"
    },
    "id": "vOUskhbD2iTu",
    "outputId": "42bc8292-b04d-43e6-b8ff-5803a0f784a9"
   },
   "outputs": [
    {
     "data": {
      "text/plain": [
       "['5 x 1 = 5',\n",
       " '5 x 2 = 10',\n",
       " '5 x 3 = 15',\n",
       " '5 x 4 = 20',\n",
       " '5 x 5 = 25',\n",
       " '5 x 6 = 30',\n",
       " '5 x 7 = 35',\n",
       " '5 x 8 = 40',\n",
       " '5 x 9 = 45']"
      ]
     },
     "execution_count": 66,
     "metadata": {},
     "output_type": "execute_result"
    }
   ],
   "source": [
    "a = [1,2,3,4,5,6,7,8,9]\n",
    "\n",
    "list(map(lambda x : f\"5 x {x} = {5*x}\", a))"
   ]
  },
  {
   "cell_type": "markdown",
   "metadata": {
    "id": "h_SXbGKc5PT0"
   },
   "source": [
    "**[정의] 08~10**\n",
    "\n",
    "아래와 같이 물건의 이름과 가격이 적힌 딕셔너리가 있습니다. \n",
    "```\n",
    "mart = {'a': ['apple', 1000], 'b': ['beer', 1200] , 'c' : ['cherry', 2000], 'd':['donut', 1500], 'e': ['egg', 500], 'f' : ['fish', 3000] }\n",
    "```"
   ]
  },
  {
   "cell_type": "code",
   "execution_count": null,
   "metadata": {
    "id": "YM87Yqe88TUc"
   },
   "outputs": [],
   "source": [
    "mart = {'a': ['apple', 1000], 'b': ['beer', 1200] , 'c' : ['cherry', 2000], 'd':['donut', 1500], 'e': ['egg', 500], 'f' : ['fish', 3000] }"
   ]
  },
  {
   "cell_type": "code",
   "execution_count": null,
   "metadata": {
    "colab": {
     "base_uri": "https://localhost:8080/"
    },
    "id": "ZGGucXm4H7I3",
    "outputId": "7e8e3349-af40-454f-a5cd-8bb91a1234e2"
   },
   "outputs": [
    {
     "data": {
      "text/plain": [
       "['apple', 1000]"
      ]
     },
     "execution_count": 76,
     "metadata": {},
     "output_type": "execute_result"
    }
   ],
   "source": [
    "list(mart.values())[0]"
   ]
  },
  {
   "cell_type": "code",
   "execution_count": null,
   "metadata": {
    "colab": {
     "base_uri": "https://localhost:8080/"
    },
    "id": "AsPfLJVdII0Z",
    "outputId": "0978005e-aa7c-4233-bfc8-4fbc76fd7ef0"
   },
   "outputs": [
    {
     "data": {
      "text/plain": [
       "['a', 'b', 'c', 'd', 'e', 'f']"
      ]
     },
     "execution_count": 79,
     "metadata": {},
     "output_type": "execute_result"
    }
   ],
   "source": [
    "list(mart.keys())"
   ]
  },
  {
   "cell_type": "code",
   "execution_count": null,
   "metadata": {
    "colab": {
     "base_uri": "https://localhost:8080/"
    },
    "id": "XS7Qmlr-If7J",
    "outputId": "b42c224f-8253-4526-adf3-4741f341c2b0"
   },
   "outputs": [
    {
     "data": {
      "text/plain": [
       "['apple', 1000]"
      ]
     },
     "execution_count": 83,
     "metadata": {},
     "output_type": "execute_result"
    }
   ],
   "source": [
    "mart[list(mart.keys())[0]]"
   ]
  },
  {
   "cell_type": "markdown",
   "metadata": {
    "id": "gmuKcuaw8UVN"
   },
   "source": [
    "**예제 08**\n",
    "\n",
    "가장 저렴한 값을 구하는 코드를 `map`과 `lambda`를 이용해 한줄로 작성하세요."
   ]
  },
  {
   "cell_type": "code",
   "execution_count": 1,
   "metadata": {
    "colab": {
     "base_uri": "https://localhost:8080/",
     "height": 175
    },
    "id": "mRmXH7jT56SD",
    "outputId": "8da6a569-b529-4b24-a489-00a62afe843e"
   },
   "outputs": [
    {
     "ename": "NameError",
     "evalue": "ignored",
     "output_type": "error",
     "traceback": [
      "\u001b[0;31m---------------------------------------------------------------------------\u001b[0m",
      "\u001b[0;31mNameError\u001b[0m                                 Traceback (most recent call last)",
      "\u001b[0;32m<ipython-input-1-7d9ba3d407a9>\u001b[0m in \u001b[0;36m<module>\u001b[0;34m()\u001b[0m\n\u001b[0;32m----> 1\u001b[0;31m \u001b[0mmin\u001b[0m\u001b[0;34m(\u001b[0m\u001b[0mlist\u001b[0m\u001b[0;34m(\u001b[0m\u001b[0mmap\u001b[0m\u001b[0;34m(\u001b[0m\u001b[0;32mlambda\u001b[0m \u001b[0mx\u001b[0m \u001b[0;34m:\u001b[0m \u001b[0mmart\u001b[0m\u001b[0;34m[\u001b[0m\u001b[0mx\u001b[0m\u001b[0;34m]\u001b[0m\u001b[0;34m[\u001b[0m\u001b[0;36m1\u001b[0m\u001b[0;34m]\u001b[0m\u001b[0;34m,\u001b[0m \u001b[0mlist\u001b[0m\u001b[0;34m(\u001b[0m\u001b[0mmart\u001b[0m\u001b[0;34m.\u001b[0m\u001b[0mkeys\u001b[0m\u001b[0;34m(\u001b[0m\u001b[0;34m)\u001b[0m\u001b[0;34m)\u001b[0m\u001b[0;34m)\u001b[0m\u001b[0;34m)\u001b[0m\u001b[0;34m)\u001b[0m\u001b[0;34m\u001b[0m\u001b[0;34m\u001b[0m\u001b[0m\n\u001b[0m",
      "\u001b[0;31mNameError\u001b[0m: name 'mart' is not defined"
     ]
    }
   ],
   "source": [
    "min(list(map(lambda x : mart[x][1], list(mart.keys()))))"
   ]
  },
  {
   "cell_type": "markdown",
   "metadata": {
    "id": "fotQGh2f8iIN"
   },
   "source": [
    "**예제 09**\n",
    "\n",
    "가격의 평균을 구하는 코드를 `map`과 `lambda`를 이용해 한줄로 작성하세요"
   ]
  },
  {
   "cell_type": "code",
   "execution_count": null,
   "metadata": {
    "colab": {
     "base_uri": "https://localhost:8080/"
    },
    "id": "8ATN4dmV6cc7",
    "outputId": "769d6d88-5e47-419a-f17d-bc31d2598921"
   },
   "outputs": [
    {
     "data": {
      "text/plain": [
       "1533.3333333333333"
      ]
     },
     "execution_count": 92,
     "metadata": {},
     "output_type": "execute_result"
    }
   ],
   "source": [
    "sum(list(map(lambda x : mart[x][1], list(mart.keys()))))/len(list(map(lambda x : mart[x][1], list(mart.keys()))))"
   ]
  },
  {
   "cell_type": "markdown",
   "metadata": {
    "id": "Y7uHNJEbySNT"
   },
   "source": [
    "**예제 10**\n",
    "\n",
    "다음과 같은 출력을 하는 코드를 작성해보세요. 가능하다면 코드 한줄로 작성해 보세요.\n",
    "\n",
    "```\n",
    "a is apple, b is beer, c is cherry, d is donut, e is egg\n",
    "```\n",
    "\n",
    "`hint`\n",
    "  * `print`\n",
    "  * `join`\n",
    "  * `list`\n",
    "  * `map`\n",
    "  * `lambda`\n",
    "  * `.keys()`"
   ]
  },
  {
   "cell_type": "code",
   "execution_count": null,
   "metadata": {
    "colab": {
     "base_uri": "https://localhost:8080/",
     "height": 36
    },
    "id": "b1zTm0Ze4Tpu",
    "outputId": "3e1e4b46-7370-45f7-b7ab-0ec0a938b5dc"
   },
   "outputs": [
    {
     "data": {
      "application/vnd.google.colaboratory.intrinsic+json": {
       "type": "string"
      },
      "text/plain": [
       "'a is apple, b is beer, c is cherry, d is donut, e is egg'"
      ]
     },
     "execution_count": 120,
     "metadata": {},
     "output_type": "execute_result"
    }
   ],
   "source": [
    "\", \".join(list(map(lambda x : f\"{x} is {alp[x]}\",list(alp.keys()))))"
   ]
  }
 ],
 "metadata": {
  "colab": {
   "collapsed_sections": [],
   "include_colab_link": true,
   "name": "3-2.내장함수.ipynb",
   "provenance": []
  },
  "kernelspec": {
   "display_name": "Python 3 (ipykernel)",
   "language": "python",
   "name": "python3"
  },
  "language_info": {
   "codemirror_mode": {
    "name": "ipython",
    "version": 3
   },
   "file_extension": ".py",
   "mimetype": "text/x-python",
   "name": "python",
   "nbconvert_exporter": "python",
   "pygments_lexer": "ipython3",
   "version": "3.9.7"
  },
  "toc": {
   "base_numbering": 1,
   "nav_menu": {},
   "number_sections": true,
   "sideBar": true,
   "skip_h1_title": false,
   "title_cell": "Table of Contents",
   "title_sidebar": "Contents",
   "toc_cell": false,
   "toc_position": {},
   "toc_section_display": true,
   "toc_window_display": false
  },
  "varInspector": {
   "cols": {
    "lenName": 16,
    "lenType": 16,
    "lenVar": 40
   },
   "kernels_config": {
    "python": {
     "delete_cmd_postfix": "",
     "delete_cmd_prefix": "del ",
     "library": "var_list.py",
     "varRefreshCmd": "print(var_dic_list())"
    },
    "r": {
     "delete_cmd_postfix": ") ",
     "delete_cmd_prefix": "rm(",
     "library": "var_list.r",
     "varRefreshCmd": "cat(var_dic_list()) "
    }
   },
   "types_to_exclude": [
    "module",
    "function",
    "builtin_function_or_method",
    "instance",
    "_Feature"
   ],
   "window_display": false
  }
 },
 "nbformat": 4,
 "nbformat_minor": 1
}
