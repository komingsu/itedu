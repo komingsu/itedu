{
 "cells": [
  {
   "cell_type": "markdown",
   "metadata": {
    "id": "kB5IciXEm6o4"
   },
   "source": [
    "# 3. 함수\n",
    "---\n",
    "* 날짜: 2022-03-31\n",
    "* 이름: 고민수"
   ]
  },
  {
   "cell_type": "markdown",
   "metadata": {
    "id": "4iN8NFzHRJ2D"
   },
   "source": [
    "## 개념정리\n",
    "---\n"
   ]
  },
  {
   "cell_type": "markdown",
   "metadata": {
    "id": "MAM8MDnfw68b"
   },
   "source": [
    "### **(1) 기본 사용**\n",
    "\n",
    "\n",
    "함수는 아래와 같이 정의 할 수 있습니다. 함수의 이름을 선언한 후 이름 아래에 코드를 작성합니다. 아래 코드에서 함수의 이름은`plus`이고 이 함수는 `plus`를 출력하는 함수입니다. \n",
    "\n",
    "\n",
    "```\n",
    "def plus():\n",
    "  print('plus')\n",
    "```\n",
    "\n",
    "코드를 작성하고 셸을 실행하세요. 아무런 일도 일어나지 않습니다. 우리는 함수를 `정의`만 했을 뿐 아직 실행하지 않았습니다.\n"
   ]
  },
  {
   "cell_type": "code",
   "execution_count": 2,
   "metadata": {
    "id": "mtAw3UNponv3"
   },
   "outputs": [],
   "source": [
    "def plus():\n",
    "  print('plus')"
   ]
  },
  {
   "cell_type": "markdown",
   "metadata": {
    "id": "gaTRb9qYopc_"
   },
   "source": [
    "### **(2) 실행**\n",
    "\n",
    "\n",
    "\n",
    "함수를 실행하기 위해서는 함수의 이름과 괄호를 써줍니다.\n",
    "\n",
    "```\n",
    "plus()\n",
    "```\n",
    "\n"
   ]
  },
  {
   "cell_type": "code",
   "execution_count": 3,
   "metadata": {
    "id": "aN-Mr7VMoqeN"
   },
   "outputs": [
    {
     "name": "stdout",
     "output_type": "stream",
     "text": [
      "plus\n"
     ]
    }
   ],
   "source": [
    "plus()"
   ]
  },
  {
   "cell_type": "markdown",
   "metadata": {
    "id": "D2DPCKvuopYy"
   },
   "source": [
    "### **(3) 매개변수와 인수**\n",
    "\n",
    "매개변수와 인수는 함수의 인풋이라고 볼 수 있습니다. 파이썬 함수에는 인풋과 아웃풋이 존재하지 않을 수도 있고, 하나 또는 그 이상도 가능합니다. \n"
   ]
  },
  {
   "cell_type": "markdown",
   "metadata": {
    "id": "sZpxCwOWqT7t"
   },
   "source": [
    "#### **매개변수 (parameter)**\n",
    "\n",
    "매개변수(parameter)는 함수를 정의할 때 입력하는 파라미터 입니다. 함수 정의시 괄호 안에 아래와 같이 작성합니다. 아래 함수에서 매개변수는 `input`과 `input2`에 해당합니다.\n",
    "\n",
    "```\n",
    "def plus(input1, input2):\n",
    "  print('plus', input1, input2)\n",
    "```\n"
   ]
  },
  {
   "cell_type": "code",
   "execution_count": 6,
   "metadata": {
    "id": "sUDgnWmbqWX_"
   },
   "outputs": [],
   "source": [
    "def plus(input1, input2):\n",
    "  print('plus', input1, input2, input1+input2)"
   ]
  },
  {
   "cell_type": "markdown",
   "metadata": {
    "id": "cQfhMFjbqWeT"
   },
   "source": [
    "#### **인수 (argument)**\n",
    "\n",
    "이제 이 함수는 매개변수 두개, 즉 인풋으로 두개의 값을  필요로 합니다. 인수(argument)란 이 함수를 실행할 때 필요로 하는 파라미터 입니다. 아래 코드에서는 함수를 실행하고 있고 이때 인수로 1과 2가 들어갑니다.\n",
    "\n",
    "```\n",
    "plus(1, 2)\n",
    "```"
   ]
  },
  {
   "cell_type": "code",
   "execution_count": 8,
   "metadata": {
    "id": "FdfMHSbvqZdK"
   },
   "outputs": [
    {
     "name": "stdout",
     "output_type": "stream",
     "text": [
      "plus 100 2 102\n"
     ]
    }
   ],
   "source": [
    "plus(100, 2)"
   ]
  },
  {
   "cell_type": "markdown",
   "metadata": {
    "id": "XJc026HEqbNX"
   },
   "source": [
    "### **(4) 함수의 반환**\n",
    "\n",
    "함수에는 인풋과 마찬가지로 아웃풋도 존재합니다. 만약 함수를 통해 반환하는 값을 원한다면 `return` 을 이용합니다.\n",
    "\n",
    "```\n",
    "def plus(input1, input2):\n",
    "  plus_value = input1+input2\n",
    "  return plus_value\n",
    "```\n"
   ]
  },
  {
   "cell_type": "code",
   "execution_count": 12,
   "metadata": {
    "id": "Wti0TzI2qaGf"
   },
   "outputs": [],
   "source": [
    "def plus(input1, input2):\n",
    "    plus_value = input1+input2\n",
    "    print(f\"{input1} + {input2} = {plus_value}\")\n",
    "    return plus_value"
   ]
  },
  {
   "cell_type": "markdown",
   "metadata": {
    "id": "s1II1HFdqf5X"
   },
   "source": [
    "이제 이 함수는 `plus_value` 을 반환합니다. 이 함수를 사용한 후 `plus_value`라는 값을 바인딩하려면 아래와 같이 적어줍니다.\n",
    "\n",
    "```\n",
    "a = plus(5, 5)\n",
    "print(a)\n",
    "```"
   ]
  },
  {
   "cell_type": "code",
   "execution_count": 13,
   "metadata": {
    "id": "c9HL3cwPqe0X"
   },
   "outputs": [
    {
     "name": "stdout",
     "output_type": "stream",
     "text": [
      "5 + 5 = 10\n",
      "10\n"
     ]
    }
   ],
   "source": [
    "a = plus(5, 5)\n",
    "print(a)"
   ]
  },
  {
   "cell_type": "markdown",
   "metadata": {
    "id": "rVGVIl5vqiZd"
   },
   "source": [
    "#### **여러개의 반환**\n",
    "\n",
    "여러개의 반환 값을 원한다면 아래와 같이 작성합니다.\n",
    "\n",
    "```\n",
    "def plus_minus(input1, input2):\n",
    "  plus_value = input1+input2\n",
    "  minus_value = input1-input2\n",
    "  return plus_value, minus_value\n",
    "```"
   ]
  },
  {
   "cell_type": "code",
   "execution_count": 15,
   "metadata": {
    "id": "QTeSZkH-qgsu"
   },
   "outputs": [],
   "source": [
    "def plus_minus(input1, input2):\n",
    "    plus_value = input1+input2\n",
    "    minus_value = input1-input2\n",
    "    return plus_value, minus_value"
   ]
  },
  {
   "cell_type": "markdown",
   "metadata": {
    "id": "yqITb4FcqmEf"
   },
   "source": [
    "함수를 사용할 때는 아래와 같이 써줍니다.\n",
    "\n",
    "```\n",
    "a = plus_minus(5, 5)\n",
    "print(a)\n",
    "```"
   ]
  },
  {
   "cell_type": "code",
   "execution_count": 16,
   "metadata": {
    "id": "9rJEadzxqlRw"
   },
   "outputs": [
    {
     "name": "stdout",
     "output_type": "stream",
     "text": [
      "(10, 0)\n"
     ]
    }
   ],
   "source": [
    "a = plus_minus(5, 5)\n",
    "print(a)"
   ]
  },
  {
   "cell_type": "markdown",
   "metadata": {
    "id": "cbLQp5KWqpmQ"
   },
   "source": [
    "이 때 `a` 의 값이 튜플 형식으로 지정되어 있는 것을 볼 수 있습니다. 반환값을 여러개의 변수로 바인딩 하고 싶으면 아래와 같이 작성해줍니다. \n",
    "\n",
    "```\n",
    "a_pi, a_mi = plus_minus(5,5)\n",
    "print(a_pi)\n",
    "print(a_mi)\n",
    "```\n",
    "\n"
   ]
  },
  {
   "cell_type": "code",
   "execution_count": 17,
   "metadata": {
    "id": "bVBWRHM8qn1P"
   },
   "outputs": [
    {
     "name": "stdout",
     "output_type": "stream",
     "text": [
      "10\n",
      "0\n"
     ]
    }
   ],
   "source": [
    "a_pi, a_mi = plus_minus(5,5)\n",
    "print(a_pi)\n",
    "print(a_mi)"
   ]
  },
  {
   "cell_type": "markdown",
   "metadata": {
    "id": "I2nXtSe1qvFh"
   },
   "source": [
    "### **(5) 여러가지 매개변수**\n"
   ]
  },
  {
   "cell_type": "markdown",
   "metadata": {
    "id": "2Nq7NkdLqvMF"
   },
   "source": [
    "#### **디폴트 값이 있는 매개변수**\n",
    "\n",
    "특정 인수의 디폴드 값을 아래와 같이 지정 할 수 있습니다.\n",
    "\n",
    "```\n",
    "def plus(input1, input2, bias=0):\n",
    "  print(input1+input2+bias)\n",
    "```"
   ]
  },
  {
   "cell_type": "code",
   "execution_count": 20,
   "metadata": {
    "id": "A9V9N606qreB"
   },
   "outputs": [],
   "source": [
    "def plus(input1, input2, bias=0):\n",
    "    print(input1+input2+bias)"
   ]
  },
  {
   "cell_type": "markdown",
   "metadata": {
    "id": "hhMDtFogq2PE"
   },
   "source": [
    "이 때 디폴트 값이 있는 매개변수는 항상 마지막에 작성해야 하며 그렇지 않으면 에러 메시지가 출력됩니다.\n",
    "\n",
    "\n",
    "```\n",
    "def plus(input1, bias=0, input2):\n",
    "  print(input1+input2+bias)\n",
    "```"
   ]
  },
  {
   "cell_type": "code",
   "execution_count": 19,
   "metadata": {
    "id": "rZCE2F15q1In"
   },
   "outputs": [
    {
     "ename": "SyntaxError",
     "evalue": "non-default argument follows default argument (Temp/ipykernel_10504/3120528224.py, line 1)",
     "output_type": "error",
     "traceback": [
      "\u001b[1;36m  File \u001b[1;32m\"C:\\Users\\user\\AppData\\Local\\Temp/ipykernel_10504/3120528224.py\"\u001b[1;36m, line \u001b[1;32m1\u001b[0m\n\u001b[1;33m    def plus(input1, bias=0, input2):\u001b[0m\n\u001b[1;37m                                   ^\u001b[0m\n\u001b[1;31mSyntaxError\u001b[0m\u001b[1;31m:\u001b[0m non-default argument follows default argument\n"
     ]
    }
   ],
   "source": [
    "def plus(input1, bias=0, input2):\n",
    "    print(input1+input2+bias)"
   ]
  },
  {
   "cell_type": "markdown",
   "metadata": {
    "id": "7SZm0zoPq5LZ"
   },
   "source": [
    "\n",
    "디폴트로 매개변수를 지정했다면 함수를 실행할 때 인수를 입력하지 않아도 디폴트값이 작동됩니다. 아래 함수에서 `bias`값이 디폴트값인 0으로 작동합니다. \n",
    "\n",
    "```\n",
    "plus(1, 3)\n",
    "```\n"
   ]
  },
  {
   "cell_type": "code",
   "execution_count": 21,
   "metadata": {
    "id": "JPnFtvMxq3Zp"
   },
   "outputs": [
    {
     "name": "stdout",
     "output_type": "stream",
     "text": [
      "4\n"
     ]
    }
   ],
   "source": [
    "plus(1, 3)"
   ]
  },
  {
   "cell_type": "markdown",
   "metadata": {
    "id": "o_p948MDq8hR"
   },
   "source": [
    "디폴트값을 조정 하고 싶다면 아래와 같이 함수를 작성합니다.\n",
    "\n",
    "```\n",
    "plus(1, 3, bias=1)\n",
    "```\n"
   ]
  },
  {
   "cell_type": "code",
   "execution_count": 22,
   "metadata": {
    "id": "EP_Y1x5jq7N3"
   },
   "outputs": [
    {
     "name": "stdout",
     "output_type": "stream",
     "text": [
      "5\n"
     ]
    }
   ],
   "source": [
    "plus(1, 3, bias=1)"
   ]
  },
  {
   "cell_type": "markdown",
   "metadata": {
    "id": "S7CEd14Kq-zs"
   },
   "source": [
    "#### **정해지지 않은 개수의 인풋 받기** \n",
    "\n",
    "\n",
    "인풋의 개수가 지정되어 있지 않는 함수를 만들어야 할 때가 있습니다. 이를 해결하기 위해서는 두가지 방법이 있습니다. \n",
    "\n",
    "\n",
    "* `args`\n",
    "\n",
    "`args`를 사용시에는 앞에 별 하나 `*` 를 붙입니다. 인풋을 몇개든 상관없이 받아 `args` 라는 변수로 반환합니다. \n",
    "\n",
    "\n",
    "```\n",
    "def many_input(*args):\n",
    "  print(args)\n",
    "\n",
    "many_input(1,2,3,4)\n",
    "```"
   ]
  },
  {
   "cell_type": "code",
   "execution_count": 23,
   "metadata": {
    "id": "P45CzJ6_q9vg"
   },
   "outputs": [
    {
     "name": "stdout",
     "output_type": "stream",
     "text": [
      "(1, 2, 3, 4)\n"
     ]
    }
   ],
   "source": [
    "def many_input(*args):\n",
    "    print(args)\n",
    "\n",
    "many_input(1,2,3,4)"
   ]
  },
  {
   "cell_type": "markdown",
   "metadata": {
    "id": "03ZXBFQ-rJm7"
   },
   "source": [
    "\n",
    "* `kwargs`\n",
    "\n",
    "`kwargs`를 사용시에는 앞에 별 두개 `**` 를 붙입니다. `key`와 `value`를 함께 받아 `kwargs`라는 이름의 딕셔너리를 반환합니다. . \n",
    "\n",
    "```\n",
    "def my_func(**kwargs):\n",
    "  print(kwargs)\n",
    "\n",
    "my_func(a=1, b=2, c=3)\n",
    "```\n"
   ]
  },
  {
   "cell_type": "code",
   "execution_count": 24,
   "metadata": {
    "id": "MqjVQcjMrGin"
   },
   "outputs": [
    {
     "name": "stdout",
     "output_type": "stream",
     "text": [
      "{'a': 1, 'b': 2, 'c': 3}\n"
     ]
    }
   ],
   "source": [
    "def my_func(**kwargs):\n",
    "    print(kwargs)\n",
    "\n",
    "my_func(a=1, b=2, c=3)"
   ]
  },
  {
   "cell_type": "markdown",
   "metadata": {
    "id": "yajec2TZxmGP"
   },
   "source": [
    "\n",
    "### **(6) 지역변수와 전역변수**\n",
    "\n",
    "`전역변수`는 프로그램 전체에서 사용되는 변수이고 `지역변수`는 특정 코드 블록 내에서만 사용되는 변수입니다. 함수 내에서 코드를 작성하고 변수를 지정하면 지역변수가 생성됩니다. 아래 코드에서 처음 선언된  `a`,`b`,`c`는 전역변수이고 함수내에 있는 `a`,`b`,`c`는 지역변수입니다. 함수내의 a,b,c,d는 전역변수에 영향을 미치지 않습니다. \n",
    "\n",
    "```\n",
    "a = 1\n",
    "b = 1\n",
    "c = 1\n",
    "\n",
    "def my_func(a, b):\n",
    "  c = a+b\n",
    "  d = a-b\n",
    "  return c\n",
    "\n",
    "my_out = my_func(5,5)\n",
    "print(a,b,c)\n",
    "```"
   ]
  },
  {
   "cell_type": "code",
   "execution_count": 29,
   "metadata": {
    "id": "beqPrLnUxkIf"
   },
   "outputs": [
    {
     "name": "stdout",
     "output_type": "stream",
     "text": [
      "1 1 1\n"
     ]
    }
   ],
   "source": [
    "a = 1\n",
    "b = 1\n",
    "c = 1\n",
    "d = 0\n",
    "\n",
    "def my_func(a, b):\n",
    "    c = a+b\n",
    "    d = a-b\n",
    "    return c\n",
    "\n",
    "my_out = my_func(5,5)\n",
    "print(a,b,c)"
   ]
  },
  {
   "cell_type": "markdown",
   "metadata": {
    "id": "hOeGWRv_xqJJ"
   },
   "source": [
    "함수 실행시에는 반환 값이 전역변수로 지정됩니다.\n",
    "\n",
    "```\n",
    "c = my_func(5,5)\n",
    "print(a,b,c)\n",
    "```\n"
   ]
  },
  {
   "cell_type": "code",
   "execution_count": 30,
   "metadata": {
    "id": "v1MFcQ6ZxpUH"
   },
   "outputs": [
    {
     "name": "stdout",
     "output_type": "stream",
     "text": [
      "1 1 10 0\n"
     ]
    }
   ],
   "source": [
    "c = my_func(5,5)\n",
    "print(a,b,c,d)"
   ]
  },
  {
   "cell_type": "markdown",
   "metadata": {
    "id": "KsiQATG9xr_-"
   },
   "source": [
    "함수내에서 선언했던 모든 변수들은 함수 밖에서 실행되지 않습니다.\n",
    "\n",
    "```\n",
    "print(d)\n",
    "```"
   ]
  },
  {
   "cell_type": "code",
   "execution_count": 31,
   "metadata": {
    "id": "izP8b1B5xsvR"
   },
   "outputs": [
    {
     "name": "stdout",
     "output_type": "stream",
     "text": [
      "0\n"
     ]
    }
   ],
   "source": [
    "print(d)"
   ]
  },
  {
   "cell_type": "markdown",
   "metadata": {
    "id": "P2x721rGxvix"
   },
   "source": [
    "#### **함수 내에서 전역변수 설정하기**\n",
    "\n",
    "* `global`\n",
    "\n",
    "만약 함수내 지역변수를 전역변수로 지정하고 싶다면 `global` 을 사용합니다.\n",
    "\n",
    "```\n",
    "def my_func(a, b):\n",
    "  global d\n",
    "  c = a+b\n",
    "  d = a-b\n",
    "  return c\n",
    "\n",
    "print(d)\n",
    "```\n"
   ]
  },
  {
   "cell_type": "code",
   "execution_count": 32,
   "metadata": {
    "id": "FasjPCKAxrnv"
   },
   "outputs": [
    {
     "name": "stdout",
     "output_type": "stream",
     "text": [
      "0\n"
     ]
    }
   ],
   "source": [
    "def my_func(a, b):\n",
    "    global d\n",
    "    c = a+b\n",
    "    d = a-b\n",
    "    return c\n",
    "\n",
    "print(d)"
   ]
  },
  {
   "cell_type": "markdown",
   "metadata": {
    "id": "G4l2cJGxyJdQ"
   },
   "source": [
    "여전히 에러가 뜨나요? `global`을 사용할 때는 주의사항이 있습니다. 생성한 함수를 실행을 해야 `global` 값이 적용됩니다.\n",
    "```\n",
    "my_func(1,2)\n",
    "print(d)\n",
    "```"
   ]
  },
  {
   "cell_type": "code",
   "execution_count": 33,
   "metadata": {
    "id": "RZrpTa17xttw"
   },
   "outputs": [
    {
     "name": "stdout",
     "output_type": "stream",
     "text": [
      "-1\n"
     ]
    }
   ],
   "source": [
    "my_func(1,2)\n",
    "print(d)"
   ]
  },
  {
   "cell_type": "markdown",
   "metadata": {
    "id": "QZaG85aOyhDc"
   },
   "source": [
    "## 문제 풀이\n",
    "---"
   ]
  },
  {
   "cell_type": "markdown",
   "metadata": {
    "id": "bnO7hxUJygQy"
   },
   "source": [
    "\n",
    "\n",
    "**예제 01**\n",
    "\n",
    "정수 n 을 받아서 python!을 n번 반복해서 출력하는 함수 `call_python()` 을 작성하세요\n",
    "\n",
    "```\n",
    "call_python(4)\n",
    "```"
   ]
  },
  {
   "cell_type": "code",
   "execution_count": 41,
   "metadata": {
    "id": "SqNDqJ5XyMty"
   },
   "outputs": [
    {
     "name": "stdout",
     "output_type": "stream",
     "text": [
      "\n",
      "흐미 조용한거\n",
      "\n",
      "python! python! python! python! python! python! \n",
      "아우! 시끄러\n",
      "\n",
      "흐미 조용한거\n",
      "\n"
     ]
    }
   ],
   "source": [
    "def call_python(n):\n",
    "    print(\"python! \"*n)\n",
    "    if n > 0:\n",
    "        print(\"아우! 시끄러\")\n",
    "    else:\n",
    "        print(\"흐미 조용한거\\n\")\n",
    "    \n",
    "call_python(0)\n",
    "call_python(6)\n",
    "call_python(0)"
   ]
  },
  {
   "cell_type": "markdown",
   "metadata": {
    "id": "88qQp7O9yjg-"
   },
   "source": [
    "**예제 02**\n",
    "\n",
    "아래 이차함수를 파이썬 함수로 구현하세요\n",
    "\n",
    "\n",
    "$y = x^2 + 2x -1$"
   ]
  },
  {
   "cell_type": "code",
   "execution_count": 43,
   "metadata": {
    "id": "3AjXYRf4yj-x"
   },
   "outputs": [
    {
     "data": {
      "text/plain": [
       "34"
      ]
     },
     "execution_count": 43,
     "metadata": {},
     "output_type": "execute_result"
    }
   ],
   "source": [
    "def quadric(input):\n",
    "    return input**2+2*input-1\n",
    "\n",
    "quadric(5)"
   ]
  },
  {
   "cell_type": "markdown",
   "metadata": {
    "id": "PCXgawYjykDQ"
   },
   "source": [
    "**예제 03**\n",
    "\n",
    "삼각형의 넓이를 구하는 식은 아래와 같습니다. 함수로 구현하세요\n",
    "\n",
    "$ a = width · height · 0.5$\n"
   ]
  },
  {
   "cell_type": "code",
   "execution_count": 44,
   "metadata": {
    "id": "z5UdFfWbylVS"
   },
   "outputs": [
    {
     "data": {
      "text/plain": [
       "5.0"
      ]
     },
     "execution_count": 44,
     "metadata": {},
     "output_type": "execute_result"
    }
   ],
   "source": [
    "def width_tri(width, height):\n",
    "    return width*height*0.5\n",
    "\n",
    "width_tri(2,5)"
   ]
  },
  {
   "cell_type": "markdown",
   "metadata": {
    "id": "csqMSp6Nylib"
   },
   "source": [
    "\n",
    "**예제 04**\n",
    "\n",
    "문자열 s와 정수 n 을 입력하면 문자열의 n번째와 n-1번째 문자가 출력되는 함수 `split_string()` 을 작성하세요\n",
    "\n",
    "* 예시\n",
    "```\n",
    ">> split_string(\"코스모스\", 1)\n",
    "스코\n",
    "```\n",
    "\n",
    "* 예시\n",
    "```\n",
    ">> split_string(\"충분히긴문자\", 5)\n",
    "자문\n",
    "```\n"
   ]
  },
  {
   "cell_type": "code",
   "execution_count": 54,
   "metadata": {
    "id": "8ZgkxmeSynXP"
   },
   "outputs": [
    {
     "name": "stdout",
     "output_type": "stream",
     "text": [
      "스코\n",
      "자문\n"
     ]
    }
   ],
   "source": [
    "def split_string(string,num):\n",
    "    print(f\"{string[num]}{string[num-1]}\")\n",
    "\n",
    "split_string(\"코스모스\", 1)\n",
    "split_string(\"충분히긴문자\", 5)"
   ]
  },
  {
   "cell_type": "markdown",
   "metadata": {
    "id": "kNl46OS1yncT"
   },
   "source": [
    "**예제 05**\n",
    "\n",
    "물건의 할인가는 가격의 70%입니다. 물건의 원래가격 d를 인풋으로하고 할인가를 아웃풋으로 하는 함수 `cal_sale()`을 작성하세요\n",
    "\n",
    "* 예시\n",
    "```\n",
    ">> 할인가 = cal_up_low(100)\n",
    ">> print(할인가)\n",
    "70\n",
    "```"
   ]
  },
  {
   "cell_type": "code",
   "execution_count": 60,
   "metadata": {
    "id": "9MtLyDnLy35w"
   },
   "outputs": [
    {
     "name": "stdout",
     "output_type": "stream",
     "text": [
      "초특급 할인가!, 70원!!\n"
     ]
    },
    {
     "data": {
      "text/plain": [
       "70"
      ]
     },
     "execution_count": 60,
     "metadata": {},
     "output_type": "execute_result"
    }
   ],
   "source": [
    "def cal_sale(input):\n",
    "    print(f\"초특급 할인가!, {int(input*0.7)}원!!\")\n",
    "    return int(input*0.7)\n",
    "\n",
    "cal_sale(100)"
   ]
  },
  {
   "cell_type": "markdown",
   "metadata": {
    "id": "iA6rQROhy5He"
   },
   "source": [
    "**예제 06**\n",
    "\n",
    "리스트 a가 주어지면 a의 평균이 몇인지 출력하는 함수를 구현하세요\n",
    "\n",
    "* 예시\n",
    "```\n",
    ">> cal_mean([1,2,3])\n",
    "평균은 2 입니다. \n",
    "```\n",
    "\n",
    "* 예시\n",
    "```\n",
    ">> cal_mean([1,2,3,4,5])\n",
    "평균은 3 입니다. \n",
    "```\n"
   ]
  },
  {
   "cell_type": "code",
   "execution_count": 73,
   "metadata": {
    "id": "mAzL6XCVy7on"
   },
   "outputs": [
    {
     "name": "stdout",
     "output_type": "stream",
     "text": [
      "평균은 : 2.0 입니다.\n",
      "평균은 : 3.0 입니다.\n"
     ]
    }
   ],
   "source": [
    "def cal_mean(input):\n",
    "    print(f\"평균은 : {sum(input)/len(input)} 입니다.\")\n",
    "    \n",
    "cal_mean([1,2,3])\n",
    "cal_mean([1,2,3,4,5])"
   ]
  },
  {
   "cell_type": "markdown",
   "metadata": {
    "id": "o96WO90vzJxn"
   },
   "source": [
    "**예제 07**\n",
    "\n",
    "\n",
    "리스트 a가 주어지면 a의 평균이 몇인지 출력하는 함수를 구현하세요\n",
    "\n",
    "* 예시\n",
    "```\n",
    ">> cal_mean(1,2,3)\n",
    "평균은 2 입니다. \n",
    "```\n",
    "* 예시\n",
    "```\n",
    ">> cal_mean(1,2,3,4,5)\n",
    "평균은 3 입니다. \n",
    "```\n",
    "\n"
   ]
  },
  {
   "cell_type": "code",
   "execution_count": 72,
   "metadata": {
    "id": "IVYvnDEszJxo"
   },
   "outputs": [
    {
     "name": "stdout",
     "output_type": "stream",
     "text": [
      "평균은 : 2.0 입니다.\n",
      "평균은 : 3.0 입니다.\n"
     ]
    }
   ],
   "source": [
    "def cal_mean2(*arg):\n",
    "    print(f\"평균은 : {sum(arg)/len(arg)} 입니다.\")\n",
    "    \n",
    "cal_mean2(1,2,3)\n",
    "cal_mean2(1,2,3,4,5)"
   ]
  },
  {
   "cell_type": "markdown",
   "metadata": {
    "id": "lGF7nVBezSPn"
   },
   "source": [
    "\n",
    "**예제 08**\n",
    "\n",
    "\n",
    "무작위 숫자들을 입력하면 최소값, 최대값을 반환하는 함수`numbers()`를 작성하세요. \n",
    "\n",
    "* 예시\n",
    "```\n",
    ">> mn, mx = numbers(1,3,2,1,1)\n",
    ">> print(mn, mx)\n",
    "1 3\n",
    "```\n"
   ]
  },
  {
   "cell_type": "code",
   "execution_count": 75,
   "metadata": {
    "id": "H3rAyjJQzSx4"
   },
   "outputs": [
    {
     "name": "stdout",
     "output_type": "stream",
     "text": [
      "최대값은 6, 최소값은1입니다.\n",
      "6 1\n"
     ]
    }
   ],
   "source": [
    "def numbers(*args):\n",
    "    print(f\"최대값은 {max(args)}, 최소값은{min(args)}입니다.\")\n",
    "    return max(args), min(args)\n",
    "\n",
    "mn, mx = numbers(1,2,3,4,5,6,6,3,3,3,2,1,1)\n",
    "print(mn,mx)"
   ]
  },
  {
   "cell_type": "markdown",
   "metadata": {
    "id": "dPoJjFdkzaY2"
   },
   "source": [
    "\n",
    "**예제 09**\n",
    "\n",
    "길동이는 아래와 같이 코드를 작성하였으나 실행하자 에러 메시지가 떴습니다.  코드의 문제를 설명하세요\n",
    "\n",
    "```\n",
    "def my_func():\n",
    "  aa = 1\n",
    "  bb = 2\n",
    "  cc = 3\n",
    "  return aa+bb+cc\n",
    "\n",
    "o = my_func()\n",
    "print(o,aa,bb,cc)\n",
    "```\n",
    "\n",
    "aa, bb, cc 는 지역변수이므로 my_func() 안에서만 사용된다."
   ]
  },
  {
   "cell_type": "markdown",
   "metadata": {
    "id": "hexc4vsEzcXB"
   },
   "source": [
    "**예제 10**\n",
    "\n",
    "에러가 뜨지 않도록 위의 함수 `my_func()`를 수정하세요\n",
    "\n"
   ]
  },
  {
   "cell_type": "code",
   "execution_count": 82,
   "metadata": {
    "id": "WF7PeJEIzoBq"
   },
   "outputs": [
    {
     "name": "stdout",
     "output_type": "stream",
     "text": [
      "6 1 2 3\n"
     ]
    }
   ],
   "source": [
    "aa=1\n",
    "bb=2\n",
    "cc=3\n",
    "def my_func():\n",
    "    return aa+bb+cc\n",
    "\n",
    "o = my_func()\n",
    "print(o,aa,bb,cc)"
   ]
  },
  {
   "cell_type": "code",
   "execution_count": 86,
   "metadata": {},
   "outputs": [
    {
     "name": "stdout",
     "output_type": "stream",
     "text": [
      "6 1 2 3\n"
     ]
    }
   ],
   "source": [
    "def my_func():\n",
    "    global aa\n",
    "    global bb\n",
    "    global cc\n",
    "    aa,bb,cc=1,2,3\n",
    "    return aa+bb+cc\n",
    "\n",
    "o = my_func()\n",
    "print(o,aa,bb,cc)"
   ]
  }
 ],
 "metadata": {
  "colab": {
   "authorship_tag": "ABX9TyO2dI6DVZR8Qo5trvbS7MpX",
   "collapsed_sections": [],
   "name": "3.함수.ipynb",
   "provenance": []
  },
  "kernelspec": {
   "display_name": "Python 3 (ipykernel)",
   "language": "python",
   "name": "python3"
  },
  "language_info": {
   "codemirror_mode": {
    "name": "ipython",
    "version": 3
   },
   "file_extension": ".py",
   "mimetype": "text/x-python",
   "name": "python",
   "nbconvert_exporter": "python",
   "pygments_lexer": "ipython3",
   "version": "3.9.7"
  },
  "toc": {
   "base_numbering": 1,
   "nav_menu": {},
   "number_sections": true,
   "sideBar": true,
   "skip_h1_title": false,
   "title_cell": "Table of Contents",
   "title_sidebar": "Contents",
   "toc_cell": false,
   "toc_position": {},
   "toc_section_display": true,
   "toc_window_display": false
  },
  "varInspector": {
   "cols": {
    "lenName": 16,
    "lenType": 16,
    "lenVar": 40
   },
   "kernels_config": {
    "python": {
     "delete_cmd_postfix": "",
     "delete_cmd_prefix": "del ",
     "library": "var_list.py",
     "varRefreshCmd": "print(var_dic_list())"
    },
    "r": {
     "delete_cmd_postfix": ") ",
     "delete_cmd_prefix": "rm(",
     "library": "var_list.r",
     "varRefreshCmd": "cat(var_dic_list()) "
    }
   },
   "types_to_exclude": [
    "module",
    "function",
    "builtin_function_or_method",
    "instance",
    "_Feature"
   ],
   "window_display": false
  }
 },
 "nbformat": 4,
 "nbformat_minor": 1
}
