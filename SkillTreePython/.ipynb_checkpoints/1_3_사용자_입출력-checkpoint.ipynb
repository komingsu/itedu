{
 "cells": [
  {
   "cell_type": "markdown",
   "metadata": {
    "colab_type": "text",
    "id": "view-in-github"
   },
   "source": [
    "<a href=\"https://colab.research.google.com/github/komingsu/SkillTreePython/blob/main/1_3_%EC%82%AC%EC%9A%A9%EC%9E%90_%EC%9E%85%EC%B6%9C%EB%A0%A5.ipynb\" target=\"_parent\"><img src=\"https://colab.research.google.com/assets/colab-badge.svg\" alt=\"Open In Colab\"/></a>"
   ]
  },
  {
   "cell_type": "markdown",
   "metadata": {
    "id": "kB5IciXEm6o4"
   },
   "source": [
    "# 1-3. 변수 선언하기\n",
    "---\n",
    "* 날짜: 2022-03-29\n",
    "* 이름: 고민수"
   ]
  },
  {
   "cell_type": "markdown",
   "metadata": {
    "id": "4iN8NFzHRJ2D"
   },
   "source": [
    "## 개념정리\n",
    "---\n",
    "\n",
    "\n",
    "사용자에게서 변수를 얻어서 그에 맞는 프로그램을 짜고 싶다면 입력기능이 필요합니다. 또한 원하는 기능을 실행 후 결과물을 확인하고 싶다면 출력기능이 필요합니다. 이번시간에서는 파이썬의 입출력기능을 알아보도록 합니다.\n",
    "\n"
   ]
  },
  {
   "cell_type": "markdown",
   "metadata": {
    "id": "UKlkHH0IRL5h"
   },
   "source": [
    "### **(1) 입력**\n",
    "\n",
    "\n",
    "\n"
   ]
  },
  {
   "cell_type": "markdown",
   "metadata": {
    "id": "opbfNksrAq4P"
   },
   "source": [
    "사용자의 입력을 파이썬의 `input()` 함수를 이용해서 받을 수 있습니다. 아래 코드를 실행하면 사용자의 입력을 받는 창이 나타납니다.\n",
    "\n",
    "```\n",
    "input()\n",
    "```\n",
    "\n"
   ]
  },
  {
   "cell_type": "code",
   "execution_count": 1,
   "metadata": {
    "colab": {
     "base_uri": "https://localhost:8080/",
     "height": 54
    },
    "id": "MMZ81oTLAsnC",
    "outputId": "524df2d3-3fcd-4465-96bc-2b74db161ad4"
   },
   "outputs": [
    {
     "name": "stdout",
     "output_type": "stream",
     "text": [
      "뀨잉\n"
     ]
    },
    {
     "data": {
      "application/vnd.google.colaboratory.intrinsic+json": {
       "type": "string"
      },
      "text/plain": [
       "'뀨잉'"
      ]
     },
     "execution_count": 1,
     "metadata": {},
     "output_type": "execute_result"
    }
   ],
   "source": [
    "input()"
   ]
  },
  {
   "cell_type": "markdown",
   "metadata": {
    "id": "W5qe6MfoAr0T"
   },
   "source": [
    "#### **설명 추가**\n",
    "\n",
    "입력을 받을 때 설명을 추가해주고 싶다면 아래와 같이 함수의 괄호 안에 문자열을 삽입합니다.\n",
    "```\n",
    "input(\"이름을 입력하세요:\")\n",
    "```"
   ]
  },
  {
   "cell_type": "code",
   "execution_count": 2,
   "metadata": {
    "colab": {
     "base_uri": "https://localhost:8080/",
     "height": 54
    },
    "id": "cZ-eUn5WAs-f",
    "outputId": "d6916933-a265-46f6-a9f4-f8c840d791e5"
   },
   "outputs": [
    {
     "name": "stdout",
     "output_type": "stream",
     "text": [
      "이름을 입력하세요: 밍슈밍슈\n"
     ]
    },
    {
     "data": {
      "application/vnd.google.colaboratory.intrinsic+json": {
       "type": "string"
      },
      "text/plain": [
       "'밍슈밍슈'"
      ]
     },
     "execution_count": 2,
     "metadata": {},
     "output_type": "execute_result"
    }
   ],
   "source": [
    "input(\"이름을 입력하세요: \")"
   ]
  },
  {
   "cell_type": "markdown",
   "metadata": {
    "id": "6e0WFOgKBIXo"
   },
   "source": [
    "#### **바인딩**\n",
    "\n",
    "`input()` 함수로 받은 값을 바인딩 하여 저장할 수 있습니다.\n",
    "```\n",
    "my_name = input('이름을 입력하세요:')\n",
    "```\n"
   ]
  },
  {
   "cell_type": "code",
   "execution_count": 3,
   "metadata": {
    "colab": {
     "base_uri": "https://localhost:8080/"
    },
    "id": "21s6EP4QFU6s",
    "outputId": "fdc68ff4-c04d-4f7a-dcaa-0a6947a85243"
   },
   "outputs": [
    {
     "name": "stdout",
     "output_type": "stream",
     "text": [
      "이름을 입력해주쎄용: 밍슈밍슈\n"
     ]
    }
   ],
   "source": [
    "my_name = input(\"이름을 입력해주쎄용: \")"
   ]
  },
  {
   "cell_type": "markdown",
   "metadata": {
    "id": "Fi-eRFJ_Dbog"
   },
   "source": [
    "\n",
    "위에서 선언한 `my_name`을 확인해 봅시다.\n",
    "\n",
    "```\n",
    "my_name, type(my_name)\n",
    "```\n",
    "\n"
   ]
  },
  {
   "cell_type": "code",
   "execution_count": 4,
   "metadata": {
    "colab": {
     "base_uri": "https://localhost:8080/"
    },
    "id": "XYu0SS3pFd5V",
    "outputId": "709a236b-353a-43c6-a5ca-8fc7bba78baf"
   },
   "outputs": [
    {
     "data": {
      "text/plain": [
       "('밍슈밍슈', str)"
      ]
     },
     "execution_count": 4,
     "metadata": {},
     "output_type": "execute_result"
    }
   ],
   "source": [
    "my_name, type(my_name)"
   ]
  },
  {
   "cell_type": "markdown",
   "metadata": {
    "id": "3Cr--Bt7DcZ3"
   },
   "source": [
    "\n",
    "`input()` 함수로 바인딩한 값은 모두 `문자열(str)` 임을 주의합니다. \n",
    "```\n",
    "my_age = input(\"나이를 입력하세요: \")\n",
    "type(my_age)\n",
    "```"
   ]
  },
  {
   "cell_type": "code",
   "execution_count": 5,
   "metadata": {
    "colab": {
     "base_uri": "https://localhost:8080/"
    },
    "id": "ond0nWOBRNlE",
    "outputId": "fd4a3bf2-a2fe-47be-c10b-4d12fe48e8c0"
   },
   "outputs": [
    {
     "name": "stdout",
     "output_type": "stream",
     "text": [
      "나이를 입력하세요: 3\n"
     ]
    }
   ],
   "source": [
    "my_age = input(\"나이를 입력하세요: \")"
   ]
  },
  {
   "cell_type": "code",
   "execution_count": 7,
   "metadata": {
    "colab": {
     "base_uri": "https://localhost:8080/"
    },
    "id": "lZpr3TrFPx9E",
    "outputId": "77ad8d18-5132-4693-9564-1c04955046de"
   },
   "outputs": [
    {
     "data": {
      "text/plain": [
       "('3', str)"
      ]
     },
     "execution_count": 7,
     "metadata": {},
     "output_type": "execute_result"
    }
   ],
   "source": [
    "my_age, type(my_age)"
   ]
  },
  {
   "cell_type": "markdown",
   "metadata": {
    "id": "sRuCgcK-JvNK"
   },
   "source": [
    "### **(2) 출력**\n",
    "---\n"
   ]
  },
  {
   "cell_type": "markdown",
   "metadata": {
    "id": "DTfxz37ERNu5"
   },
   "source": [
    "* `print()` : 원하는 값을 출력 할 수 있습니다. \n",
    "\n",
    "```\n",
    "print(2)\n",
    "```\n"
   ]
  },
  {
   "cell_type": "code",
   "execution_count": 8,
   "metadata": {
    "colab": {
     "base_uri": "https://localhost:8080/"
    },
    "id": "a7CnXb5sRf9R",
    "outputId": "389dbe96-c364-4402-92ed-d6c2daffb2e8"
   },
   "outputs": [
    {
     "name": "stdout",
     "output_type": "stream",
     "text": [
      "2\n"
     ]
    }
   ],
   "source": [
    "print(2)"
   ]
  },
  {
   "cell_type": "markdown",
   "metadata": {
    "id": "hP1Dg3r-RgFG"
   },
   "source": [
    "문자 또한 출력 할 수 있습니다.\n",
    "\n",
    "```\n",
    "print(\"hello\")\n",
    "print('world')\n",
    "```\n"
   ]
  },
  {
   "cell_type": "code",
   "execution_count": 9,
   "metadata": {
    "colab": {
     "base_uri": "https://localhost:8080/"
    },
    "id": "_ZNiNuDdROf4",
    "outputId": "8b7e9e1f-a5fd-4169-a026-79dfc196b68a"
   },
   "outputs": [
    {
     "name": "stdout",
     "output_type": "stream",
     "text": [
      "hello\n",
      "world\n"
     ]
    }
   ],
   "source": [
    "print(\"hello\")\n",
    "print(\"world\")"
   ]
  },
  {
   "cell_type": "markdown",
   "metadata": {
    "id": "mZpdPQfzKCY-"
   },
   "source": [
    "여러개의 인풋을 함께 쉼표(  `,`  )를 이용해 출력할 수 있습니다.\n",
    "\n",
    "```\n",
    "print(5,  \"apples\")\n",
    "```"
   ]
  },
  {
   "cell_type": "code",
   "execution_count": 10,
   "metadata": {
    "colab": {
     "base_uri": "https://localhost:8080/"
    },
    "id": "AIZD4839KB1R",
    "outputId": "156a703b-b371-4889-e42a-3bba74758d6a"
   },
   "outputs": [
    {
     "name": "stdout",
     "output_type": "stream",
     "text": [
      "5 apples\n"
     ]
    }
   ],
   "source": [
    "print(5, \"apples\")"
   ]
  },
  {
   "cell_type": "markdown",
   "metadata": {
    "id": "NBoLmg06ROrn"
   },
   "source": [
    "#### **옵션**\n",
    "\n",
    "* `sep` : 출력하는 값들 사이를 어떤 값으로 채울지 지정할 수 있습니다. 디폴트 값은 스페이스(' ') 입니다.\n",
    "\n",
    "```\n",
    "print(\"Hello\", \"world\", 1, 2, 3, sep='*')\n",
    "```\n",
    "\n"
   ]
  },
  {
   "cell_type": "code",
   "execution_count": 13,
   "metadata": {
    "colab": {
     "base_uri": "https://localhost:8080/"
    },
    "id": "W3O4k_RPKF7g",
    "outputId": "4d3b363d-cba5-4611-d929-ac4e1596c5e4"
   },
   "outputs": [
    {
     "name": "stdout",
     "output_type": "stream",
     "text": [
      "Hello\tworld\t1\t2\t3\n"
     ]
    }
   ],
   "source": [
    "print(\"Hello\", \"world\", 1,2,3, sep=\"\\t\") # 디폴트 : \" \""
   ]
  },
  {
   "cell_type": "markdown",
   "metadata": {
    "id": "-kjP5YIuKGMl"
   },
   "source": [
    "* `end` : 문장이 끝날 때 어떤 문자로 끝날 지 지정해 줍니다. 기본값은 줄바꿈(`\\`) 입니다.\n",
    "\n",
    "```\n",
    "print(\"Hello\", \"world\", 1, 2, 3, end='*')\n",
    "```"
   ]
  },
  {
   "cell_type": "code",
   "execution_count": 15,
   "metadata": {
    "colab": {
     "base_uri": "https://localhost:8080/"
    },
    "id": "FiKhVqs4RX1Q",
    "outputId": "8d75535d-436b-422b-bf38-c0b961e4b4ac"
   },
   "outputs": [
    {
     "name": "stdout",
     "output_type": "stream",
     "text": [
      "Hello world 1 2 3*"
     ]
    }
   ],
   "source": [
    "print(\"Hello\", \"world\", 1,2,3, end=\"*\") # 디폴트 : \"\\n\""
   ]
  },
  {
   "cell_type": "markdown",
   "metadata": {
    "id": "JPZeQrxgxJJF"
   },
   "source": [
    "## 문제풀이\n",
    "---"
   ]
  },
  {
   "cell_type": "markdown",
   "metadata": {
    "id": "4Hptj9hUxPr3"
   },
   "source": [
    "**예제 01**\n",
    "\n",
    "아래와 같이 직업을 입력하는 코드를 작성하세요\n",
    "\n",
    "```\n",
    ">> 직업을 입력하세요: \n",
    "```"
   ]
  },
  {
   "cell_type": "code",
   "execution_count": 16,
   "metadata": {
    "colab": {
     "base_uri": "https://localhost:8080/"
    },
    "id": "yvAcIx4L8Zwt",
    "outputId": "000386e9-154b-45ee-8071-09e4bdd20a04"
   },
   "outputs": [
    {
     "name": "stdout",
     "output_type": "stream",
     "text": [
      "직업을 입력하세요 백수..\n"
     ]
    }
   ],
   "source": [
    "job = input(\"직업을 입력하세요 \")"
   ]
  },
  {
   "cell_type": "markdown",
   "metadata": {
    "id": "S6NDuF_TxNsj"
   },
   "source": [
    "\n",
    "**예제 02**\n",
    "\n",
    "아래와 같이 직업을 입력하면 소개글을 출력하는 코드를 작성하세요\n",
    "\n",
    "\n",
    "```\n",
    ">> 직업을 입력하세요: \n",
    ">> 당신의 직업은 강사 입니다.\n",
    "```\n"
   ]
  },
  {
   "cell_type": "code",
   "execution_count": 21,
   "metadata": {
    "colab": {
     "base_uri": "https://localhost:8080/"
    },
    "id": "IUQi5TpfxLwc",
    "outputId": "4968318a-2603-4bcc-b152-d3291a209685"
   },
   "outputs": [
    {
     "name": "stdout",
     "output_type": "stream",
     "text": [
      "직업을 입력하세요: 백슈\n",
      "당신의 직업은 백슈입니다\n"
     ]
    }
   ],
   "source": [
    "job = input(\"직업을 입력하세요: \")\n",
    "print(f\"당신의 직업은 {job}입니다\")"
   ]
  },
  {
   "cell_type": "markdown",
   "metadata": {
    "id": "stz9gemAxRNI"
   },
   "source": [
    "**예제 03**\n",
    "\n",
    "아래와 같이 직업을 입력하면 소개글을 출력하는 코드를 작성하세요\n",
    "\n",
    "```\n",
    ">> 직업을 입력하세요: \n",
    ">> 당신의 직업은 '강사' 입니다.\n",
    "```"
   ]
  },
  {
   "cell_type": "code",
   "execution_count": null,
   "metadata": {
    "id": "pBWMoVPC8aJ8"
   },
   "outputs": [],
   "source": []
  },
  {
   "cell_type": "markdown",
   "metadata": {
    "id": "107E31VkzTfm"
   },
   "source": [
    "**예제 04**\n",
    "\n",
    "아래와 같이 좋아하는 숫자를 출력하는 코드를 작성하세요\n",
    "\n",
    "```\n",
    ">> 내가 좋아하는 숫자: 7 \n",
    ">> 내가 좋아하는 숫자는 7 이다.\n",
    "```"
   ]
  },
  {
   "cell_type": "code",
   "execution_count": 23,
   "metadata": {
    "colab": {
     "base_uri": "https://localhost:8080/"
    },
    "id": "Hx0Ag-aAzTfm",
    "outputId": "bf88a646-46c2-44df-8f52-04ea185484ef"
   },
   "outputs": [
    {
     "name": "stdout",
     "output_type": "stream",
     "text": [
      "내 최애 숫자는: 7\n",
      "나의 최애 숫자는 7 이다.\n"
     ]
    }
   ],
   "source": [
    "L_num = input(\"내 최애 숫자는: \")\n",
    "print(f\"나의 최애 숫자는 {L_num} 이다.\")"
   ]
  },
  {
   "cell_type": "markdown",
   "metadata": {
    "id": "optdPkAtzgjt"
   },
   "source": [
    "**예제 04**\n",
    "\n",
    "아래와 같이 코드를 작성하였는데 오류가 떴습니다. 이유를 설명하세요.\n",
    "\n",
    "```\n",
    "my_num = input(\"내가 좋아하는 숫자: \") \n",
    "print(my_num+10)\n",
    "```"
   ]
  },
  {
   "cell_type": "code",
   "execution_count": 24,
   "metadata": {
    "colab": {
     "base_uri": "https://localhost:8080/",
     "height": 207
    },
    "id": "4ioxaMK0zgjt",
    "outputId": "2be2a46a-bbbd-4bb1-872a-48525aa757c4"
   },
   "outputs": [
    {
     "name": "stdout",
     "output_type": "stream",
     "text": [
      "내가 좋아하는 숫자: 7\n"
     ]
    },
    {
     "ename": "TypeError",
     "evalue": "ignored",
     "output_type": "error",
     "traceback": [
      "\u001b[0;31m---------------------------------------------------------------------------\u001b[0m",
      "\u001b[0;31mTypeError\u001b[0m                                 Traceback (most recent call last)",
      "\u001b[0;32m<ipython-input-24-5be186080275>\u001b[0m in \u001b[0;36m<module>\u001b[0;34m()\u001b[0m\n\u001b[1;32m      1\u001b[0m \u001b[0mmy_num\u001b[0m \u001b[0;34m=\u001b[0m \u001b[0minput\u001b[0m\u001b[0;34m(\u001b[0m\u001b[0;34m\"내가 좋아하는 숫자: \"\u001b[0m\u001b[0;34m)\u001b[0m\u001b[0;34m\u001b[0m\u001b[0;34m\u001b[0m\u001b[0m\n\u001b[0;32m----> 2\u001b[0;31m \u001b[0mprint\u001b[0m\u001b[0;34m(\u001b[0m\u001b[0mmy_num\u001b[0m\u001b[0;34m+\u001b[0m\u001b[0;36m10\u001b[0m\u001b[0;34m)\u001b[0m\u001b[0;34m\u001b[0m\u001b[0;34m\u001b[0m\u001b[0m\n\u001b[0m",
      "\u001b[0;31mTypeError\u001b[0m: can only concatenate str (not \"int\") to str"
     ]
    }
   ],
   "source": [
    "my_num = input(\"내가 좋아하는 숫자: \") \n",
    "print(my_num+10)\n",
    "\n",
    "# 문자열과 숫자 조합, my_num 은 문자이기 때문"
   ]
  },
  {
   "cell_type": "markdown",
   "metadata": {
    "id": "BKug_5lN7NAS"
   },
   "source": [
    "**예제 05**\n",
    "\n",
    "화면에 아래 문장을 출력하세요.\n",
    "\n",
    "```\n",
    "nice day!\n",
    "```"
   ]
  },
  {
   "cell_type": "code",
   "execution_count": 25,
   "metadata": {
    "colab": {
     "base_uri": "https://localhost:8080/"
    },
    "id": "4kuhxl6K8aiO",
    "outputId": "2536554a-3a59-4f10-f72f-dcd48153667c"
   },
   "outputs": [
    {
     "name": "stdout",
     "output_type": "stream",
     "text": [
      "nice day!\n"
     ]
    }
   ],
   "source": [
    "print(\"nice day!\")"
   ]
  },
  {
   "cell_type": "markdown",
   "metadata": {
    "id": "gqns5it27OZk"
   },
   "source": [
    "\n",
    "**예제 06**\n",
    "\n",
    "아래 출력이 나오도록 `#코드작성` 부분을 채워 넣으세요  (코드 한줄로 완성하세요) \n",
    "\n",
    "```\n",
    ">> w1 = \"hello\"\n",
    ">> w2 = \"python\"\n",
    ">> w3 = 2\n",
    ">> #코드작성\n",
    ">> hello! python 2\n",
    "```"
   ]
  },
  {
   "cell_type": "code",
   "execution_count": 30,
   "metadata": {
    "colab": {
     "base_uri": "https://localhost:8080/"
    },
    "id": "HdB-Ptk58jNc",
    "outputId": "1e49f1d1-f512-4f46-9361-1da7a8e0e0bb"
   },
   "outputs": [
    {
     "name": "stdout",
     "output_type": "stream",
     "text": [
      "hello! python 2\n"
     ]
    }
   ],
   "source": [
    "w1 = \"hello!\"\n",
    "w2 = \"python\"\n",
    "w3 = 2\n",
    "# 코드작성\n",
    "print(w1,w2,w3)"
   ]
  },
  {
   "cell_type": "markdown",
   "metadata": {
    "id": "ImHI8rZa7Ri2"
   },
   "source": [
    "**예제 07**\n",
    "\n",
    "아래 출력이 나오도록 `#코드작성` 부분을 채워 넣으세요  (코드 한줄로 완성하세요) \n",
    "\n",
    "```\n",
    ">> w1 = '나의'\n",
    ">> w2 = '살던'\n",
    ">> w3 = '고향은'\n",
    ">> #코드작성\n",
    "나의~살던~고향은~\n",
    "```"
   ]
  },
  {
   "cell_type": "code",
   "execution_count": 31,
   "metadata": {
    "colab": {
     "base_uri": "https://localhost:8080/"
    },
    "id": "drP2EGod8jh3",
    "outputId": "5d25f5ba-85d0-4de7-9642-db81cd65f071"
   },
   "outputs": [
    {
     "name": "stdout",
     "output_type": "stream",
     "text": [
      "내가~살던~고향은\n"
     ]
    }
   ],
   "source": [
    "w1 = \"내가\"\n",
    "w2 = \"살던\"\n",
    "w3 = \"고향은\"\n",
    "\n",
    "print(w1,w2,w3, sep=\"~\")"
   ]
  },
  {
   "cell_type": "markdown",
   "metadata": {
    "id": "IrIAl7T67TuF"
   },
   "source": [
    "**예제 08**\n",
    "\n",
    "아래 출력이 나오도록 `#코드작성` 부분을 채워 넣으세요 \n",
    "\n",
    "```\n",
    ">> w1 = '나의'\n",
    ">> w2 = '살던'\n",
    ">> w3 = '고향은'\n",
    ">> print(w1, end=#코드작성)\n",
    ">> print(w2, end=#코드작성)\n",
    ">> print(w3, end=#코드작성)\n",
    "나의 살던 고향은~\n",
    "```"
   ]
  },
  {
   "cell_type": "code",
   "execution_count": 32,
   "metadata": {
    "colab": {
     "base_uri": "https://localhost:8080/"
    },
    "id": "TeaQAuiM8j3T",
    "outputId": "a162ac3a-7e6d-4fc4-bd99-7ed50ddac031"
   },
   "outputs": [
    {
     "name": "stdout",
     "output_type": "stream",
     "text": [
      "내가 살던 고향은~"
     ]
    }
   ],
   "source": [
    "w1 = \"내가\"\n",
    "w2 = \"살던\"\n",
    "w3 = \"고향은\"\n",
    "print(w1, end=\" \")\n",
    "print(w2, end=\" \")\n",
    "print(w3, end=\"~\")"
   ]
  },
  {
   "cell_type": "markdown",
   "metadata": {
    "id": "-Uw0J0yZ8WC8"
   },
   "source": [
    "**예제 09**\n",
    "\n",
    "아래 출력이 나오도록 `#코드작성` 부분을 채워 넣으세요  (코드 한줄로 완성하세요) \n",
    "\n",
    "```\n",
    ">> w1 = '나의'\n",
    ">> w2 = '살던'\n",
    ">> w3 = '고향은'\n",
    ">> #코드작성\n",
    "나의**살던**고향은\n",
    "```\n"
   ]
  },
  {
   "cell_type": "code",
   "execution_count": 33,
   "metadata": {
    "colab": {
     "base_uri": "https://localhost:8080/"
    },
    "id": "uxf3akTY8kOg",
    "outputId": "a359293d-784e-456c-ed51-5853b2a4a588"
   },
   "outputs": [
    {
     "name": "stdout",
     "output_type": "stream",
     "text": [
      "내가**살던**고향은\n"
     ]
    }
   ],
   "source": [
    "w1 = \"내가\"\n",
    "w2 = \"살던\"\n",
    "w3 = \"고향은\"\n",
    "print(w1,w2,w3, sep=\"**\")"
   ]
  },
  {
   "cell_type": "markdown",
   "metadata": {
    "id": "2mg9MMwq8W9Y"
   },
   "source": [
    "**예제 10**\n",
    "\n",
    "아래 출력이 나오도록  `#코드작성` 부분을 채워 넣으세요 (코드 한줄로 완성하세요) \n",
    "\n",
    "```\n",
    ">> w1 = '나의'\n",
    ">> w2 = '살던'\n",
    ">> w3 = '고향은'\n",
    ">> #코드작성\n",
    "나의  \n",
    "살던    \n",
    "고향은  \n",
    "```"
   ]
  },
  {
   "cell_type": "code",
   "execution_count": 34,
   "metadata": {
    "colab": {
     "base_uri": "https://localhost:8080/"
    },
    "id": "AVd52M5n8kkS",
    "outputId": "001f299a-83bf-4983-806c-4ec226d5e6f8"
   },
   "outputs": [
    {
     "name": "stdout",
     "output_type": "stream",
     "text": [
      "내가\n",
      "살던\n",
      "고향은\n"
     ]
    }
   ],
   "source": [
    "w1 = \"내가\"\n",
    "w2 = \"살던\"\n",
    "w3 = \"고향은\"\n",
    "print(w1,w2,w3, sep=\"\\n\")"
   ]
  },
  {
   "cell_type": "markdown",
   "metadata": {
    "id": "HtnfpWOF8YV_"
   },
   "source": [
    "**예제 11**\n",
    "\n",
    "아래 코드의 결과를 예측하고 그 이유를 해설하세요\n",
    "\n",
    "```\n",
    "print('hello python\")\n",
    "```\n"
   ]
  },
  {
   "cell_type": "code",
   "execution_count": 35,
   "metadata": {
    "colab": {
     "base_uri": "https://localhost:8080/"
    },
    "id": "FrRPaGaGj2qd",
    "outputId": "7e12dd7c-d943-4a59-d2f9-04dffe2f515a"
   },
   "outputs": [
    {
     "name": "stdout",
     "output_type": "stream",
     "text": [
      "hello python\n"
     ]
    }
   ],
   "source": [
    "print(\"hello python\")"
   ]
  },
  {
   "cell_type": "markdown",
   "metadata": {
    "id": "ZGtma_5Ej210"
   },
   "source": [
    "**예제 12**\n",
    "\n",
    "아래와 같이 이름과 나이를 `input()`으로 받고 소개글을 출력하는 코드를 작성하세요\n",
    "\n",
    "```\n",
    ">> 이름 : 홍길동\n",
    ">> 나이: 20\n",
    "반갑습니다. 20살 홍길동 이라고 합니다. 잘 부탁드립니다!\n",
    "```"
   ]
  },
  {
   "cell_type": "code",
   "execution_count": 37,
   "metadata": {
    "colab": {
     "base_uri": "https://localhost:8080/"
    },
    "id": "qEfBFeNRj9ho",
    "outputId": "a77d7ff3-0700-4cba-c57d-56322776fa14"
   },
   "outputs": [
    {
     "name": "stdout",
     "output_type": "stream",
     "text": [
      "이름: 밍슈밍슈\n",
      "나이: 28\n",
      "반갑습니다. 28살 밍슈밍슈라고 합니다. 잘 부탁드립니다!\n"
     ]
    }
   ],
   "source": [
    "name = input(\"이름: \")\n",
    "age = input(\"나이: \")\n",
    "print(f\"반갑습니다. {age}살 {name}라고 합니다. 잘 부탁드립니다!\")"
   ]
  },
  {
   "cell_type": "markdown",
   "metadata": {
    "id": "jXwMlnnAj9uz"
   },
   "source": [
    "**예제 13**\n",
    "\n",
    "아래와 같이 특정 메뉴를 고르는 코드를 작성하세요\n",
    "\n",
    "```\n",
    ">> 아메리카노    라떼   에스프레소\n",
    ">> 메뉴를 선택하세요 : 라떼\n",
    "라떼를 선택하였습니다.\n",
    "```\n"
   ]
  },
  {
   "cell_type": "code",
   "execution_count": 38,
   "metadata": {
    "colab": {
     "base_uri": "https://localhost:8080/"
    },
    "id": "nK_NWWQ8kAPZ",
    "outputId": "74446ad0-3eef-44dc-e289-7bb390d58556"
   },
   "outputs": [
    {
     "name": "stdout",
     "output_type": "stream",
     "text": [
      "아메리카노\t라떼\t에스프레소\n",
      "메뉴를 선택해주세요: 라떼는 말이야\n",
      "라떼는 말이야를 선택하였습니다.\n"
     ]
    }
   ],
   "source": [
    "m1 = \"아메리카노\"\n",
    "m2 = \"라떼\"\n",
    "m3 = \"에스프레소\"\n",
    "print(m1,m2,m3, sep=\"\\t\")\n",
    "choice = input(\"메뉴를 선택해주세요: \")\n",
    "print(f\"{choice}를 선택하였습니다.\")"
   ]
  },
  {
   "cell_type": "markdown",
   "metadata": {
    "id": "QnVuK29mkBfo"
   },
   "source": [
    "\n",
    "**예제 14**\n",
    "\n",
    "아래와 같이 휴대폰 번호를 입력하면 전체 번호를 출력하는 코드를 작성하세요\n",
    "\n",
    "```\n",
    ">> 휴대폰 앞자리 : 010\n",
    ">> 휴대폰 중간자리: 1111\n",
    ">> 휴대폰 뒷자리: 1111\n",
    "제 번호는 010-1111-1111 입니다.\n",
    "```\n"
   ]
  },
  {
   "cell_type": "code",
   "execution_count": 40,
   "metadata": {
    "colab": {
     "base_uri": "https://localhost:8080/"
    },
    "id": "MTF9BCKnkGFN",
    "outputId": "c1ca7213-b415-4d12-f4f0-cc6e70c47ea7"
   },
   "outputs": [
    {
     "name": "stdout",
     "output_type": "stream",
     "text": [
      "휴대폰 앞자리: 010\n",
      "휴대폰 중간자리: 4773\n",
      "휴대폰 뒷자리: 0876\n",
      "제 번호는 010-4773-0876 입니다.\n"
     ]
    }
   ],
   "source": [
    "n1 = input('휴대폰 앞자리: ')\n",
    "n2 = input(\"휴대폰 중간자리: \")\n",
    "n3 = input(\"휴대폰 뒷자리: \")\n",
    "print(f\"제 번호는 {n1}-{n2}-{n3} 입니다.\")"
   ]
  },
  {
   "cell_type": "markdown",
   "metadata": {
    "id": "2h4D1hI1kIn-"
   },
   "source": [
    "**예제 15**\n",
    "\n",
    "아래와 같이 두개의 값을 받아서 더하고 뺀 값을 알려주는 코드를 작성하세요\n",
    "\n",
    "```\n",
    ">> 첫번째 숫자를 입력하세요: 2\n",
    ">> 두번째 숫자를 입력하세요: 3\n",
    "두개의 숫자를 더한 값은 5 이고 뺀값은 -1 입니다.\n",
    "```"
   ]
  },
  {
   "cell_type": "code",
   "execution_count": 42,
   "metadata": {
    "colab": {
     "base_uri": "https://localhost:8080/"
    },
    "id": "zeG6ZZfqnuSM",
    "outputId": "e5c186f7-a430-458f-9f01-c41225da38fc"
   },
   "outputs": [
    {
     "name": "stdout",
     "output_type": "stream",
     "text": [
      "첫번째 숫자를 입력하세요: 10\n",
      "두번째 숫자를 입력하세요: 5\n",
      "두개의 숫자를 더한 값은 15이고 뺀값은 5\n"
     ]
    }
   ],
   "source": [
    "num1 = int(input(\"첫번째 숫자를 입력하세요: \"))\n",
    "num2 = int(input(\"두번째 숫자를 입력하세요: \"))\n",
    "\n",
    "print(f\"두개의 숫자를 더한 값은 {num1+num2}이고 뺀값은 {num1-num2}\")"
   ]
  },
  {
   "cell_type": "code",
   "execution_count": null,
   "metadata": {
    "id": "-heaa5huYvSw"
   },
   "outputs": [],
   "source": []
  }
 ],
 "metadata": {
  "colab": {
   "collapsed_sections": [],
   "include_colab_link": true,
   "name": "1-3.사용자 입출력.ipynb",
   "provenance": []
  },
  "kernelspec": {
   "display_name": "Python 3 (ipykernel)",
   "language": "python",
   "name": "python3"
  },
  "language_info": {
   "codemirror_mode": {
    "name": "ipython",
    "version": 3
   },
   "file_extension": ".py",
   "mimetype": "text/x-python",
   "name": "python",
   "nbconvert_exporter": "python",
   "pygments_lexer": "ipython3",
   "version": "3.9.7"
  },
  "toc": {
   "base_numbering": 1,
   "nav_menu": {},
   "number_sections": true,
   "sideBar": true,
   "skip_h1_title": false,
   "title_cell": "Table of Contents",
   "title_sidebar": "Contents",
   "toc_cell": false,
   "toc_position": {},
   "toc_section_display": true,
   "toc_window_display": false
  },
  "varInspector": {
   "cols": {
    "lenName": 16,
    "lenType": 16,
    "lenVar": 40
   },
   "kernels_config": {
    "python": {
     "delete_cmd_postfix": "",
     "delete_cmd_prefix": "del ",
     "library": "var_list.py",
     "varRefreshCmd": "print(var_dic_list())"
    },
    "r": {
     "delete_cmd_postfix": ") ",
     "delete_cmd_prefix": "rm(",
     "library": "var_list.r",
     "varRefreshCmd": "cat(var_dic_list()) "
    }
   },
   "types_to_exclude": [
    "module",
    "function",
    "builtin_function_or_method",
    "instance",
    "_Feature"
   ],
   "window_display": false
  }
 },
 "nbformat": 4,
 "nbformat_minor": 1
}
