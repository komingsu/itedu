{
 "cells": [
  {
   "cell_type": "markdown",
   "metadata": {
    "colab_type": "text",
    "id": "view-in-github"
   },
   "source": [
    "<a href=\"https://colab.research.google.com/github/komingsu/SkillTreePython/blob/main/2-3.%ED%8C%8C%EC%9D%B4%EC%8D%AC%EC%9D%98%20%EC%9E%90%EB%A3%8C%ED%98%95_%EB%A6%AC%EC%8A%A4%ED%8A%B8.ipynb\" target=\"_parent\"><img src=\"https://colab.research.google.com/assets/colab-badge.svg\" alt=\"Open In Colab\"/></a>"
   ]
  },
  {
   "cell_type": "markdown",
   "metadata": {
    "id": "kB5IciXEm6o4"
   },
   "source": [
    "# 2-3.파이썬의 자료형:리스트\n",
    "---\n",
    "* 날짜: 2022-03-30\n",
    "* 이름: 고민수"
   ]
  },
  {
   "cell_type": "markdown",
   "metadata": {
    "id": "0h9x17I0yh9y"
   },
   "source": [
    "## 필요한 내용 정리\n",
    "\n",
    "---\n",
    "```\n",
    "a = [1,2,3,4]\n",
    "temp = a\n",
    "```\n",
    "와 같은 상황에서 `temp = a` 를 해버리면 a와 temp의 메모리 할당 자체가 같아진다\n",
    "따라서 이럴경우에는\n",
    "```\n",
    "a = [1,2,3,4]\n",
    "temp = a.copy()\n",
    "```\n",
    "`copy()`를 꼭 써준다\n",
    "\n",
    "---\n",
    "* `a.insert(index, \" \")` 지정위치에 \" \" 삽입\n",
    "* `a.append(\" \")` 마지막에 \" \" 삽입\n",
    "* `a.extend(b)` a리스트와 b리스트 결합\n",
    "---\n",
    "w.join(l) : 리스트 l의 값들을 문자열로 변환합니다.\n",
    "\n",
    "변환 시 값 사이에 문자열 w를 끼어 넣습니다.\n",
    "```\n",
    "l = ['nice', 'day!']\n",
    "print(' '.join(a))\n",
    "```\n",
    "\n",
    "---"
   ]
  },
  {
   "cell_type": "markdown",
   "metadata": {
    "id": "4iN8NFzHRJ2D"
   },
   "source": [
    "## 개념정리\n",
    "---\n",
    "\n",
    "리스트 자료형은 파이썬의 다양한 군집자료형 중의 하나입니다."
   ]
  },
  {
   "cell_type": "markdown",
   "metadata": {
    "id": "MAM8MDnfw68b"
   },
   "source": [
    "### (1) 생성\n"
   ]
  },
  {
   "cell_type": "markdown",
   "metadata": {
    "id": "UKlkHH0IRL5h"
   },
   "source": [
    "* `[ ]` 기호를 통해 빈 리스트를 생성합니다.\n",
    "\n",
    "```\n",
    "a = []\n",
    "print(a, type(a) )\n",
    "```\n",
    "\n",
    "\n",
    "\n",
    "\n",
    "\n"
   ]
  },
  {
   "cell_type": "code",
   "execution_count": null,
   "metadata": {
    "id": "6UKRU-Uvw2YB",
    "outputId": "2b9f9a5e-f631-4d7b-b986-8d340139cec7"
   },
   "outputs": [
    {
     "name": "stdout",
     "output_type": "stream",
     "text": [
      "[] <class 'list'>\n"
     ]
    }
   ],
   "source": [
    "a=[]\n",
    "print(a, type(a))"
   ]
  },
  {
   "cell_type": "markdown",
   "metadata": {
    "id": "-YRAYwSTw84i"
   },
   "source": [
    "#### **리스트의 요소**\n",
    "\n",
    "리스트의 요소는 문자열 뿐만 아니라 또 다른 리스트, 수치 자료형 등 다양한 요소들을 포함할 수 있습니다. 리스트 안의 요소들은 통일 하지 않아도 유효합니다.\n",
    "\n",
    "```\n",
    "a = [1, \"a\", True, [1,2,3]]\n",
    "print(a, type(a))\n",
    "```"
   ]
  },
  {
   "cell_type": "code",
   "execution_count": null,
   "metadata": {
    "id": "bjRDe1Jjw_Lp",
    "outputId": "5388cf4f-d71e-4a96-e387-e4f498f64125"
   },
   "outputs": [
    {
     "name": "stdout",
     "output_type": "stream",
     "text": [
      "[1, 'a', True, [1, 2, 3]] <class 'list'>\n"
     ]
    }
   ],
   "source": [
    "a = [1, \"a\", True, [1,2,3]]\n",
    "print(a, type(a))"
   ]
  },
  {
   "cell_type": "markdown",
   "metadata": {
    "id": "MSdELflJxC6Z"
   },
   "source": [
    "### (2) 수정과 삭제\n",
    "\n",
    "리스트의 값을 수정하거나 삭제할 수 있습니다.\n",
    "\n"
   ]
  },
  {
   "cell_type": "markdown",
   "metadata": {
    "id": "yCHmayZ4xIhY"
   },
   "source": [
    "#### **수정**\n",
    "\n",
    "```\n",
    "a = [1,2,3,4]\n",
    "a[0] = \"a\"\n",
    "print(a)\n",
    "```"
   ]
  },
  {
   "cell_type": "code",
   "execution_count": null,
   "metadata": {
    "id": "x-m2MhD0xAoi",
    "outputId": "3a9f2d74-ab7b-4620-8835-37c2f8899c78"
   },
   "outputs": [
    {
     "name": "stdout",
     "output_type": "stream",
     "text": [
      "['a', 2, 3, 4]\n"
     ]
    }
   ],
   "source": [
    "a = [1,2,3,4]\n",
    "a[0] = \"a\"\n",
    "print(a)"
   ]
  },
  {
   "cell_type": "markdown",
   "metadata": {
    "id": "1RHkw6tVxKNi"
   },
   "source": [
    "#### **삭제**\n",
    "\n",
    "\n",
    "```\n",
    "a = [1,2,3,4]\n",
    "del a[0]\n",
    "print(a)\n",
    "```\n"
   ]
  },
  {
   "cell_type": "code",
   "execution_count": null,
   "metadata": {
    "id": "lWVjQHe7xMxu",
    "outputId": "5149234c-f855-4d1f-f437-6f27bc4d4be1",
    "scrolled": true
   },
   "outputs": [
    {
     "name": "stdout",
     "output_type": "stream",
     "text": [
      "[2, 3, 4]\n"
     ]
    }
   ],
   "source": [
    "a = [1,2,3,4]\n",
    "del a[0]\n",
    "print(a)"
   ]
  },
  {
   "cell_type": "markdown",
   "metadata": {
    "id": "FTjQm5R9xQES"
   },
   "source": [
    "\n",
    "### (3) 인덱싱과 슬라이싱\n",
    "\n",
    "앞서 문자열 자료형에서 이미 한 것과 마찬가지로 인덱싱과 슬라이싱 기능을 사용할 수 있습니다. 인덱싱과 슬라이싱에 사용되는 방식은 문자열 자료형과 동일합니다.\n"
   ]
  },
  {
   "cell_type": "markdown",
   "metadata": {
    "id": "NCTA1LtHxPb2"
   },
   "source": [
    "\n",
    "#### **인덱싱**\n",
    "\n",
    "```\n",
    "a = [1,2,3,4,5]\n",
    "print(a[0]) # 인덱싱\n",
    "```\n"
   ]
  },
  {
   "cell_type": "code",
   "execution_count": null,
   "metadata": {
    "id": "oJbf8dNCxUtz",
    "outputId": "b7ff9ccd-5f6d-471c-96dd-716734d7a1bd"
   },
   "outputs": [
    {
     "name": "stdout",
     "output_type": "stream",
     "text": [
      "1\n"
     ]
    }
   ],
   "source": [
    "a = [1,2,3,4,5]\n",
    "print(a[0])"
   ]
  },
  {
   "cell_type": "markdown",
   "metadata": {
    "id": "IZWvcVEuxT17"
   },
   "source": [
    "\n",
    "#### **슬라이싱**\n",
    "\n",
    "```\n",
    "print(a[:2]) # 슬라이싱\n",
    "```\n"
   ]
  },
  {
   "cell_type": "code",
   "execution_count": null,
   "metadata": {
    "id": "hTN9WKApxYgW",
    "outputId": "9d0953d8-de77-4c6c-b02e-c38ce55435c9"
   },
   "outputs": [
    {
     "name": "stdout",
     "output_type": "stream",
     "text": [
      "[1, 2]\n"
     ]
    }
   ],
   "source": [
    "print(a[:2])"
   ]
  },
  {
   "cell_type": "markdown",
   "metadata": {
    "id": "oAGI3wesxbPQ"
   },
   "source": [
    "### (4) 리스트의 연산\n",
    "\n",
    "리스트의 연산은 `+`(더하기)와 `*`(곱하기) 만 사용할 수 있습니다. 이 때 더하기는 리스트끼리의 덧셈만 가능하며, 곱하기는 리스트와 정수값의 곱만 가능함을 주의해야 합니다. 리스트끼리의 덧셈 결과는 두 리스트를 이어 붙인 리스트가 되고 리스트와 정수의 곱은 리스트의 정수크기만큼 이어붙인 리스트가 됩니다.\n"
   ]
  },
  {
   "cell_type": "markdown",
   "metadata": {
    "id": "6I4qd2rvxc2a"
   },
   "source": [
    "#### **더하기**\n",
    "\n",
    "```\n",
    "a = [1,2,3,4,5]\n",
    "b = [6,7,8,9,10]\n",
    "c = 2\n",
    "print(a+b) \n",
    "```"
   ]
  },
  {
   "cell_type": "code",
   "execution_count": null,
   "metadata": {
    "id": "Hne6R5ljxZCi",
    "outputId": "48398190-1e9e-424d-e49a-5bf81b433372"
   },
   "outputs": [
    {
     "name": "stdout",
     "output_type": "stream",
     "text": [
      "[1, 2, 3, 4, 5, 6, 7, 8, 9, 10]\n"
     ]
    }
   ],
   "source": [
    "a = [1,2,3,4,5]\n",
    "b = [6,7,8,9,10]\n",
    "c = 2\n",
    "print(a+b)"
   ]
  },
  {
   "cell_type": "markdown",
   "metadata": {
    "id": "f9alJe6Bxe-Y"
   },
   "source": [
    "#### **곱하기**\n",
    "\n",
    "```\n",
    "a = [1,2,3,4,5]\n",
    "b = [6,7,8,9,10]\n",
    "c = 2\n",
    "print(a*c)\n",
    "```"
   ]
  },
  {
   "cell_type": "code",
   "execution_count": null,
   "metadata": {
    "id": "317mmmOwxgPQ",
    "outputId": "d30a2900-5a76-4272-ddb6-62981a6775a0"
   },
   "outputs": [
    {
     "name": "stdout",
     "output_type": "stream",
     "text": [
      "[1, 2, 3, 4, 5, 1, 2, 3, 4, 5]\n"
     ]
    }
   ],
   "source": [
    "a = [1,2,3,4,5]\n",
    "b = [6,7,8,9,10]\n",
    "c = 2\n",
    "print(a*c)"
   ]
  },
  {
   "cell_type": "markdown",
   "metadata": {
    "id": "L8rS3TL5xki9"
   },
   "source": [
    "### (5) 리스트 메소드\n",
    "\n",
    "지난번 문자열 메소드와 마찬가지로 리스트에도 다양한 내장함수 및 메소드가 존재합니다. \n",
    "\n",
    "|| 종류|\n",
    "|--|--|\n",
    "|내장함수| `len()`, `max()`, `min()`, `sum()`, `list()`|\n",
    "|메소드| `.append()`, `.extend()`, `.count()`, `.index()`, `.insert()`, `.pop()`, `.remove()`, `.reverse()`, `.sort()`\n"
   ]
  },
  {
   "cell_type": "markdown",
   "metadata": {
    "id": "-ESG0psbxmvd"
   },
   "source": [
    "####  **내장함수**\n",
    "\n",
    "* `len()`: 길이를 구합니다.\n",
    "* `max()`: 최대값을 구합니다.\n",
    "* `min()`: 최소값을 구합니다.\n",
    "* `sum()`: 모든값을 더합니다.\n",
    "\n",
    "```\n",
    "a = [1,2,3,4]\n",
    "print(len(a))\n",
    "print(max(a))\n",
    "print(min(a))\n",
    "print(sum(a))\n",
    "```\n"
   ]
  },
  {
   "cell_type": "code",
   "execution_count": null,
   "metadata": {
    "id": "AcjAp6Ukxiyk",
    "outputId": "6079ba63-694c-4557-e11f-bbc8e1fb2e74"
   },
   "outputs": [
    {
     "name": "stdout",
     "output_type": "stream",
     "text": [
      "4\n",
      "4\n",
      "1\n",
      "10\n",
      "[1, 2, 3, 4]\n"
     ]
    }
   ],
   "source": [
    "a = [1,2,3,4]\n",
    "print(len(a))\n",
    "print(max(a))\n",
    "print(min(a))\n",
    "print(sum(a))\n",
    "print(list(a))"
   ]
  },
  {
   "cell_type": "markdown",
   "metadata": {
    "id": "dwO3tPrNxo7h"
   },
   "source": [
    "#### **메소드 : 추가**\n",
    "\n",
    "* `append(obj)` : obj 추가\n",
    "* `extend(seq)` : seq 이어붙이기\n",
    "* `insert(index, obj)` : index 위치에 obj 삽입\n",
    "\n",
    "```\n",
    "a = [1,2,3]\n",
    "b = [4]\n",
    "\n",
    "a.extend(b)\n",
    "print(a)\n",
    "a.append(5)\n",
    "print(a)\n",
    "a.insert(5,6)\n",
    "print(a)\n",
    "```"
   ]
  },
  {
   "cell_type": "markdown",
   "metadata": {
    "id": "RS5aWkKUyh99"
   },
   "source": [
    "`index()` 함수 확장, i 번째 이후에서 찾기, a 와 b 사이에서 찾기"
   ]
  },
  {
   "cell_type": "code",
   "execution_count": null,
   "metadata": {
    "id": "qOJInuV6yh99"
   },
   "outputs": [],
   "source": [
    "# alphabets list\n",
    "alphabets = ['a', 'e', 'i', 'o', 'g', 'l', 'i', 'u']\n",
    "\n",
    "# index of 'i' in alphabets\n",
    "index = alphabets.index('e')   # 1\n",
    "\n",
    "print('The index of e:', index)\n",
    "\n",
    "# 'i' after the 4th index is searched\n",
    "index = alphabets.index('i', 4)   # 6\n",
    "\n",
    "print('The index of i:', index)\n",
    "\n",
    "# 'i' between 3rd and 5th index is searched\n",
    "index = alphabets.index('i', 3, 5)   # Error!\n",
    "\n",
    "print('The index of i:', index)"
   ]
  },
  {
   "cell_type": "code",
   "execution_count": null,
   "metadata": {
    "id": "XBNxGsFixsDD",
    "outputId": "0e9b49cc-1233-419c-d84f-56065b076609",
    "scrolled": true
   },
   "outputs": [
    {
     "name": "stdout",
     "output_type": "stream",
     "text": [
      "[1, 2, 3, 4]\n",
      "[1, 2, 3, 4, 5]\n",
      "[1, 2, 3, 4, 5, 6]\n",
      "[1, 2, 3, 4, 5, 5.5, 6]\n"
     ]
    }
   ],
   "source": [
    "a = [1,2,3]\n",
    "b = [4]\n",
    "\n",
    "a.extend(b)\n",
    "print(a)\n",
    "a.append(5)\n",
    "print(a)\n",
    "a.insert(5,6)\n",
    "print(a)\n",
    "a.insert(5,5.5)\n",
    "print(a)"
   ]
  },
  {
   "cell_type": "markdown",
   "metadata": {
    "id": "wbYoRsLHx1JU"
   },
   "source": [
    "#### **메소드: 제거**\n",
    "\n",
    "* `remove(obj)` : obj 제거 (중복시 앞순서부터 제거)\n",
    "* `pop()` : 마지막 요소제거\n",
    "\n",
    "```\n",
    "a = [1,2,3,2,5]\n",
    "a.remove(1) \n",
    "print(a)\n",
    "a.remove(2)\n",
    "print(a)\n",
    "a.pop()\n",
    "print(a)\n",
    "```"
   ]
  },
  {
   "cell_type": "code",
   "execution_count": null,
   "metadata": {
    "id": "J51ImmkWxxNR",
    "outputId": "9e817d08-2fe3-44b5-c004-2ed17144ad99"
   },
   "outputs": [
    {
     "name": "stdout",
     "output_type": "stream",
     "text": [
      "[2, 3, 2, 5]\n",
      "[3, 2, 5]\n",
      "[3, 2]\n"
     ]
    }
   ],
   "source": [
    "a = [1,2,3,2,5]\n",
    "a.remove(1) \n",
    "print(a)\n",
    "a.remove(2)\n",
    "print(a)\n",
    "a.pop()\n",
    "print(a)"
   ]
  },
  {
   "cell_type": "markdown",
   "metadata": {
    "id": "6pUP1VVvx5Ai"
   },
   "source": [
    "#### **메소드: 기타**\n",
    "\n",
    "* `count(obj)` : obj 개수 카운트\n",
    "* `index(obj)` : obj 위치 인덱싱 (중복시 앞순서부터)\n",
    "* `reverse()`: 거꾸로\n",
    "* `sort()`: 정렬\n",
    "\n",
    "```\n",
    "a = [2,2,1,3,3,3]\n",
    "print(a.count(3))\n",
    "print(a.index(2))\n",
    "\n",
    "a.reverse()\n",
    "print(a)\n",
    "a.sort()\n",
    "print(a)\n",
    "```"
   ]
  },
  {
   "cell_type": "markdown",
   "metadata": {
    "id": "xQbDQJ0kyh9-"
   },
   "source": [
    "`sort()` 거꾸로 뒤집기, 반대로 정렬"
   ]
  },
  {
   "cell_type": "code",
   "execution_count": null,
   "metadata": {
    "id": "0XFr13DEyc9M",
    "outputId": "2b16a6ce-0958-4984-caf5-53a33e7b03b8"
   },
   "outputs": [
    {
     "data": {
      "text/plain": [
       "['d', 'c', 'b', 'a']"
      ]
     },
     "execution_count": 90,
     "metadata": {},
     "output_type": "execute_result"
    }
   ],
   "source": [
    "a=[\"d\",\"c\",\"a\",\"b\"]\n",
    "a.sort(reverse=True)\n",
    "a"
   ]
  },
  {
   "cell_type": "markdown",
   "metadata": {
    "id": "lPa1vAMcyh9_"
   },
   "source": [
    "`sort()` 랜덤으로 섞기, 랜덤 정렬"
   ]
  },
  {
   "cell_type": "code",
   "execution_count": null,
   "metadata": {
    "id": "v9AM9hdByh9_",
    "outputId": "0fd46fd7-cea7-4974-f1cb-6c8abafe84e1"
   },
   "outputs": [
    {
     "name": "stdout",
     "output_type": "stream",
     "text": [
      "Sorted list: [(4, 1), (2, 2), (1, 3), (3, 4)]\n"
     ]
    }
   ],
   "source": [
    "# take second element for sort\n",
    "def takeSecond(elem):\n",
    "    return elem[1]\n",
    "\n",
    "# random list\n",
    "random = [(2, 2), (3, 4), (4, 1), (1, 3)]\n",
    "\n",
    "# sort list with key\n",
    "random.sort(key=takeSecond)\n",
    "\n",
    "# print list\n",
    "print('Sorted list:', random)"
   ]
  },
  {
   "cell_type": "markdown",
   "metadata": {
    "id": "6eL4tpGdyh9_"
   },
   "source": [
    "`sort()` 특정 키값으로 정렬하기"
   ]
  },
  {
   "cell_type": "code",
   "execution_count": null,
   "metadata": {
    "id": "Qvn8qCEKyh9_",
    "outputId": "3c67fa9d-aec1-4a96-db12-649b65311d2f"
   },
   "outputs": [
    {
     "name": "stdout",
     "output_type": "stream",
     "text": [
      "[{'Name': 'Alan Turing', 'age': 25, 'salary': 10000}, {'Name': 'John Hopkins', 'age': 18, 'salary': 1000}, {'Name': 'Mikhail Tal', 'age': 40, 'salary': 15000}, {'Name': 'Sharon Lin', 'age': 30, 'salary': 8000}]\n",
      "\n",
      "[{'Name': 'John Hopkins', 'age': 18, 'salary': 1000}, {'Name': 'Alan Turing', 'age': 25, 'salary': 10000}, {'Name': 'Sharon Lin', 'age': 30, 'salary': 8000}, {'Name': 'Mikhail Tal', 'age': 40, 'salary': 15000}]\n",
      "\n",
      "[{'Name': 'Mikhail Tal', 'age': 40, 'salary': 15000}, {'Name': 'Alan Turing', 'age': 25, 'salary': 10000}, {'Name': 'Sharon Lin', 'age': 30, 'salary': 8000}, {'Name': 'John Hopkins', 'age': 18, 'salary': 1000}]\n",
      "\n"
     ]
    }
   ],
   "source": [
    "# sorting using custom key\n",
    "employees = [\n",
    "    {'Name': 'Alan Turing', 'age': 25, 'salary': 10000},\n",
    "    {'Name': 'Sharon Lin', 'age': 30, 'salary': 8000},\n",
    "    {'Name': 'John Hopkins', 'age': 18, 'salary': 1000},\n",
    "    {'Name': 'Mikhail Tal', 'age': 40, 'salary': 15000},\n",
    "]\n",
    "\n",
    "# custom functions to get employee info\n",
    "def get_name(employee):\n",
    "    return employee.get('Name')\n",
    "\n",
    "\n",
    "def get_age(employee):\n",
    "    return employee.get('age')\n",
    "\n",
    "\n",
    "def get_salary(employee):\n",
    "    return employee.get('salary')\n",
    "\n",
    "\n",
    "# sort by name (Ascending order)\n",
    "employees.sort(key=get_name)\n",
    "print(employees, end='\\n\\n')\n",
    "\n",
    "# sort by Age (Ascending order)\n",
    "employees.sort(key=get_age)\n",
    "print(employees, end='\\n\\n')\n",
    "\n",
    "# sort by salary (Descending order)\n",
    "employees.sort(key=get_salary, reverse=True)\n",
    "print(employees, end='\\n\\n')"
   ]
  },
  {
   "cell_type": "markdown",
   "metadata": {
    "id": "CXcDldBwyh9_"
   },
   "source": [
    "다른방법"
   ]
  },
  {
   "cell_type": "code",
   "execution_count": null,
   "metadata": {
    "id": "xqZOlnTeyh9_",
    "outputId": "7b2db8eb-74e2-40da-c65b-43a4953bbdcb",
    "scrolled": true
   },
   "outputs": [
    {
     "name": "stdout",
     "output_type": "stream",
     "text": [
      "[{'Name': 'Alan Turing', 'age': 25, 'salary': 10000}, {'Name': 'John Hopkins', 'age': 18, 'salary': 1000}, {'Name': 'Mikhail Tal', 'age': 40, 'salary': 15000}, {'Name': 'Sharon Lin', 'age': 30, 'salary': 8000}]\n",
      "\n",
      "[{'Name': 'John Hopkins', 'age': 18, 'salary': 1000}, {'Name': 'Alan Turing', 'age': 25, 'salary': 10000}, {'Name': 'Sharon Lin', 'age': 30, 'salary': 8000}, {'Name': 'Mikhail Tal', 'age': 40, 'salary': 15000}]\n",
      "\n",
      "[{'Name': 'Mikhail Tal', 'age': 40, 'salary': 15000}, {'Name': 'Alan Turing', 'age': 25, 'salary': 10000}, {'Name': 'Sharon Lin', 'age': 30, 'salary': 8000}, {'Name': 'John Hopkins', 'age': 18, 'salary': 1000}]\n",
      "\n"
     ]
    }
   ],
   "source": [
    "# sorting using custom key\n",
    "employees = [\n",
    "    {'Name': 'Alan Turing', 'age': 25, 'salary': 10000},\n",
    "    {'Name': 'Sharon Lin', 'age': 30, 'salary': 8000},\n",
    "    {'Name': 'John Hopkins', 'age': 18, 'salary': 1000},\n",
    "    {'Name': 'Mikhail Tal', 'age': 40, 'salary': 15000},\n",
    "]\n",
    "\n",
    "# sort by name (Ascending order)\n",
    "employees.sort(key=lambda x: x.get('Name'))\n",
    "print(employees, end='\\n\\n')\n",
    "\n",
    "# sort by Age (Ascending order)\n",
    "employees.sort(key=lambda x: x.get('age'))\n",
    "print(employees, end='\\n\\n')\n",
    "\n",
    "# sort by salary (Descending order)\n",
    "employees.sort(key=lambda x: x.get('salary'), reverse=True)\n",
    "print(employees, end='\\n\\n')"
   ]
  },
  {
   "cell_type": "code",
   "execution_count": null,
   "metadata": {
    "id": "NTtbXHSwx3YM",
    "outputId": "06300317-9484-4867-bafb-2cb6dcc7bd14"
   },
   "outputs": [
    {
     "name": "stdout",
     "output_type": "stream",
     "text": [
      "3\n",
      "0\n",
      "[3, 3, 3, 1, 2, 2]\n",
      "[1, 2, 2, 3, 3, 3]\n"
     ]
    }
   ],
   "source": [
    "a = [2,2,1,3,3,3]\n",
    "print(a.count(3))\n",
    "print(a.index(2))\n",
    "\n",
    "a.reverse()\n",
    "print(a)\n",
    "a.sort()\n",
    "print(a)"
   ]
  },
  {
   "cell_type": "markdown",
   "metadata": {
    "id": "J0IbBer2x9uS"
   },
   "source": [
    "### (6) 다중리스트\n",
    "\n",
    "리스트 안에 리스트가 존재할 수 있습니다. 복잡한 리스트 이더라도 특정 요소에 접근이 가능해야 합니다. \n",
    "\n",
    "앞서 배운대로 `a[0]`과 `a[1]`에 해당하는 요소는 무엇일까요? 생각해보고 코드를 작성해 확인해 봅시다.\n",
    "\n",
    "```\n",
    "a = [[1,2,3], [4,5,6]]\n",
    "a[0], a[1]\n",
    "```\n"
   ]
  },
  {
   "cell_type": "code",
   "execution_count": null,
   "metadata": {
    "id": "0lajZYAWyAqd",
    "outputId": "a27a5d8e-2033-4926-b541-0550b62a8d6f"
   },
   "outputs": [
    {
     "data": {
      "text/plain": [
       "([1, 2, 3], [4, 5, 6])"
      ]
     },
     "execution_count": 17,
     "metadata": {},
     "output_type": "execute_result"
    }
   ],
   "source": [
    "a = [[1,2,3], [4,5,6]]\n",
    "a[0], a[1]"
   ]
  },
  {
   "cell_type": "markdown",
   "metadata": {
    "id": "pay-DD8Bx__x"
   },
   "source": [
    "\n",
    "a[0]과 a[1] 자체가 하나의 리스트 입니다. 그렇다면 각 리스트에 다시 인덱싱을 하여 원하는 요소를 얻을 수 있겠네요. 3과 4를 아래와 같이 인덱싱 할 수 있습니다.\n",
    "\n",
    "```\n",
    "a = [[1,2,3], [4,5,6]]\n",
    "a[0][-1], a[1][0]\n",
    "```"
   ]
  },
  {
   "cell_type": "code",
   "execution_count": null,
   "metadata": {
    "id": "ZI01D1Yfx7_5",
    "outputId": "00c75ade-57f6-4d19-c9d0-482efea8a8d6"
   },
   "outputs": [
    {
     "data": {
      "text/plain": [
       "(3, 4)"
      ]
     },
     "execution_count": 18,
     "metadata": {},
     "output_type": "execute_result"
    }
   ],
   "source": [
    "a = [[1,2,3], [4,5,6]]\n",
    "a[0][-1], a[1][0]"
   ]
  },
  {
   "cell_type": "markdown",
   "metadata": {
    "id": "10dgCNxtyEOB"
   },
   "source": [
    "## 문제풀이\n",
    "---\n",
    "\n",
    "**예제 01**\n",
    "\n",
    "과일메뉴가 다음과 같습니다. 리스트로 작성하세요\n",
    "\n",
    "|과일|\n",
    "|--|\n",
    "사과\n",
    "바나나\n",
    "감자\n",
    "메론\n",
    "복숭아\n",
    "딸기\n"
   ]
  },
  {
   "cell_type": "code",
   "execution_count": null,
   "metadata": {
    "id": "WelbZYpXyC1b"
   },
   "outputs": [],
   "source": [
    "a=[\"사과\",\"바나나\",\"감자\",\"메론\",\"복숭아\",\"딸기\"]"
   ]
  },
  {
   "cell_type": "markdown",
   "metadata": {
    "id": "DNXAH9h-yKOy"
   },
   "source": [
    "**예제 02**\n",
    "\n",
    "위에서 만든 리스트에 \"포도\"를 추가하세요\n",
    "\n"
   ]
  },
  {
   "cell_type": "code",
   "execution_count": null,
   "metadata": {
    "id": "R0TMuejgyKeB"
   },
   "outputs": [],
   "source": [
    "a.append(\"포도\")"
   ]
  },
  {
   "cell_type": "code",
   "execution_count": null,
   "metadata": {
    "id": "-pI7EOVIyh-B",
    "outputId": "78e9d828-1558-4ffa-b539-c49a68340c6e"
   },
   "outputs": [
    {
     "data": {
      "text/plain": [
       "['사과', '바나나', '감자', '메론', '복숭아', '딸기', '포도']"
      ]
     },
     "execution_count": 29,
     "metadata": {},
     "output_type": "execute_result"
    }
   ],
   "source": [
    "a"
   ]
  },
  {
   "cell_type": "markdown",
   "metadata": {
    "id": "9LxnIJV_yNPZ"
   },
   "source": [
    "**예제 03**\n",
    "\n",
    "\"감자\"가 잘못 들어가 있었습니다. \"감자\"를 삭제하세요\n"
   ]
  },
  {
   "cell_type": "code",
   "execution_count": null,
   "metadata": {
    "id": "tcyCWxxHyNcR"
   },
   "outputs": [],
   "source": [
    "a.remove(\"감자\")"
   ]
  },
  {
   "cell_type": "markdown",
   "metadata": {
    "id": "NtqOdnqNyOVU"
   },
   "source": [
    "**예제 04**\n",
    "\n",
    "\"복숭아\"와 \"딸기\" 사이에 \"레몬\"을 추가하세요"
   ]
  },
  {
   "cell_type": "code",
   "execution_count": null,
   "metadata": {
    "id": "jUjMe-rCyOj5",
    "outputId": "7a4557ab-7e9e-47dd-d59c-a9af5fb23cb4"
   },
   "outputs": [
    {
     "data": {
      "text/plain": [
       "4"
      ]
     },
     "execution_count": 32,
     "metadata": {},
     "output_type": "execute_result"
    }
   ],
   "source": [
    "a.index(\"딸기\")"
   ]
  },
  {
   "cell_type": "code",
   "execution_count": null,
   "metadata": {
    "id": "65xdu3V7yh-C"
   },
   "outputs": [],
   "source": [
    "a.insert(4,\"레몬\")"
   ]
  },
  {
   "cell_type": "code",
   "execution_count": null,
   "metadata": {
    "id": "e9hSLr3kyh-C",
    "outputId": "c2a263e9-8d44-47f3-84f5-da198eac3d72"
   },
   "outputs": [
    {
     "data": {
      "text/plain": [
       "['사과', '바나나', '메론', '복숭아', '레몬', '딸기', '포도']"
      ]
     },
     "execution_count": 34,
     "metadata": {},
     "output_type": "execute_result"
    }
   ],
   "source": [
    "a"
   ]
  },
  {
   "cell_type": "markdown",
   "metadata": {
    "id": "T1ALK6vnyP0V"
   },
   "source": [
    "**예제 05**\n",
    "\n",
    "최종적으로 만든 리스트 순서는 아래와 같습니다. \n",
    "\n",
    "* 리스트 순서: 사과, 바나나, 메론, 복숭아, 레몬, 딸기, 포도\n",
    "\n",
    "사용자가 리스트 안의 과일을 입력하면 입력한 과일이 몇번째에 있는지 알려주는 코드를 작성하세요\n",
    "\n",
    "```\n",
    ">> 0\n",
    "0 번째 과일은 사과 입니다.\n",
    ">>3\n",
    "3 번째 과일은 복숭아 입니다.\n",
    "```"
   ]
  },
  {
   "cell_type": "code",
   "execution_count": null,
   "metadata": {
    "id": "_AYhewpsyQFt",
    "outputId": "e5bd4020-4b1d-44c8-9a09-35a7a26801a3"
   },
   "outputs": [
    {
     "name": "stdout",
     "output_type": "stream",
     "text": [
      "0\n",
      "0번째 과일은 사과입니다.\n"
     ]
    }
   ],
   "source": [
    "fruit = int(input())\n",
    "print(f\"{fruit}번째 과일은 {a[fruit]}입니다.\")"
   ]
  },
  {
   "cell_type": "markdown",
   "metadata": {
    "id": "YUaU-1pfyRUC"
   },
   "source": [
    "**예제 06**\n",
    "\n",
    "리스트가 아래와 같이 정의되어 있습니다. `num_list`를 정의하세요\n",
    "\n",
    "```\n",
    "num_list = [1,2,3,4,5,6,7,8,9,10]\n",
    "```\n"
   ]
  },
  {
   "cell_type": "code",
   "execution_count": null,
   "metadata": {
    "id": "Xqcfar_hySO1"
   },
   "outputs": [],
   "source": [
    "num_list = [1,2,3,4,5,6,7,8,9,10]"
   ]
  },
  {
   "cell_type": "markdown",
   "metadata": {
    "id": "bH5e_QRmySVB"
   },
   "source": [
    "**예제 07**\n",
    "\n",
    "`num_list` 의 짝수 값만 슬라이싱 해서 `num_list1` 로 바인딩 하고 출력하세요."
   ]
  },
  {
   "cell_type": "code",
   "execution_count": null,
   "metadata": {
    "id": "TEPXLwiryS7Z",
    "outputId": "1c3322e8-51a6-4a4d-f102-901f05f00a9e"
   },
   "outputs": [
    {
     "data": {
      "text/plain": [
       "[2, 4, 6, 8, 10]"
      ]
     },
     "execution_count": 52,
     "metadata": {},
     "output_type": "execute_result"
    }
   ],
   "source": [
    "num_list1 = num_list[1::2]\n",
    "num_list1"
   ]
  },
  {
   "cell_type": "markdown",
   "metadata": {
    "id": "Jqvl4MAcyTCC"
   },
   "source": [
    "**예제 08**\n",
    "\n",
    "`num_list` 의 홀수 값만 슬라이싱 해서 `num_list2` 로 바인딩 하고 출력하세요."
   ]
  },
  {
   "cell_type": "code",
   "execution_count": null,
   "metadata": {
    "id": "KdHo2kBfyUD1",
    "outputId": "c68885f1-5128-4bb6-e963-2fd499cf1954"
   },
   "outputs": [
    {
     "data": {
      "text/plain": [
       "[1, 3, 5, 7, 9]"
      ]
     },
     "execution_count": 40,
     "metadata": {},
     "output_type": "execute_result"
    }
   ],
   "source": [
    "num_list2 = num_list[0::2]\n",
    "num_list2"
   ]
  },
  {
   "cell_type": "markdown",
   "metadata": {
    "id": "XJxjxXw4yUIn"
   },
   "source": [
    "**예제 09**\n",
    "\n",
    "`num_list` 의 3의 배수만 슬라이싱 해서 `num_list3` 으로 바인딩 하고 출력하세요.\n"
   ]
  },
  {
   "cell_type": "code",
   "execution_count": null,
   "metadata": {
    "id": "5D97VwoMyVUZ",
    "outputId": "d491966f-2230-4a54-9c60-f57244080a32"
   },
   "outputs": [
    {
     "data": {
      "text/plain": [
       "[3, 6, 9]"
      ]
     },
     "execution_count": 43,
     "metadata": {},
     "output_type": "execute_result"
    }
   ],
   "source": [
    "num_list3 = num_list[2::3]\n",
    "num_list3"
   ]
  },
  {
   "cell_type": "markdown",
   "metadata": {
    "id": "B-QcwLaRyVbR"
   },
   "source": [
    "**예제 10**\n",
    "\n",
    "`num_list1` 과 `num_list2` 를 합쳐 `num_list4`으로 바인딩하세요"
   ]
  },
  {
   "cell_type": "code",
   "execution_count": null,
   "metadata": {
    "id": "uL_e6MSIyWf9",
    "outputId": "dc753046-18ea-4401-ecb9-d277bb75e360"
   },
   "outputs": [
    {
     "name": "stdout",
     "output_type": "stream",
     "text": [
      "[2, 4, 6, 8, 10] [2, 4, 6, 8, 10, 1, 3, 5, 7, 9]\n"
     ]
    }
   ],
   "source": [
    "num_list1 = num_list[1::2]\n",
    "temp = num_list1.copy()\n",
    "num_list1.extend(num_list2)\n",
    "num_list4 = num_list1\n",
    "num_list1 = temp\n",
    "print(num_list1, num_list4)"
   ]
  },
  {
   "cell_type": "markdown",
   "metadata": {
    "id": "av3wiMDXyWmp"
   },
   "source": [
    "**예제 11**\n",
    "\n",
    "`num_list4` 을 오름차순으로 정렬하세요"
   ]
  },
  {
   "cell_type": "code",
   "execution_count": null,
   "metadata": {
    "id": "tZsgqq-ZyXu5",
    "outputId": "386eb13c-e2c1-4664-f432-8e60f3a3a2bf"
   },
   "outputs": [
    {
     "data": {
      "text/plain": [
       "[1, 2, 3, 4, 5, 6, 7, 8, 9, 10]"
      ]
     },
     "execution_count": 62,
     "metadata": {},
     "output_type": "execute_result"
    }
   ],
   "source": [
    "num_list4.sort()\n",
    "num_list4"
   ]
  },
  {
   "cell_type": "markdown",
   "metadata": {
    "id": "cuUqINKNyX0l"
   },
   "source": [
    "**예제 12**\n",
    "\n",
    "리스트가 아래와 같이 정의되어 있습니다. 문자열로 바꿔 출력하는 코드를 두 줄만 써서 작성하세요\n",
    "\n",
    "```\n",
    ">> my_list = [\"a\", \"b\", \"c\", \"d\"]\n",
    ">> # 코드작성 (join 사용)\n",
    ">> # 코드작성 (print 사용)\n",
    "a and b and c and d\n",
    "```"
   ]
  },
  {
   "cell_type": "code",
   "execution_count": null,
   "metadata": {
    "id": "pBc-WbyqyY8L",
    "outputId": "5dd833ef-9b3e-4559-ba57-dedebfa93188"
   },
   "outputs": [
    {
     "data": {
      "text/plain": [
       "'a and b and c and d'"
      ]
     },
     "execution_count": 69,
     "metadata": {},
     "output_type": "execute_result"
    }
   ],
   "source": [
    "my_list = [\"a\", \"b\", \"c\", \"d\"]\n",
    "\" and \".join(my_list)"
   ]
  },
  {
   "cell_type": "markdown",
   "metadata": {
    "id": "GSJutIluyZDE"
   },
   "source": [
    "\n",
    "**예제 13**\n",
    "\n",
    "사용자가 문자열을 입력하면 리스트로 변환하는 코드를 작성하세요\n",
    "\n",
    "|예시| 결과|\n",
    "--|--\n",
    "`a,b`| `[a,b]`\n",
    "`a,c,d,f,q`| `[a,c,d,f,q]`\n",
    "`d,c,a,b`| `[d,c,a,b]`"
   ]
  },
  {
   "cell_type": "code",
   "execution_count": null,
   "metadata": {
    "id": "JUBVY2PFyad2",
    "outputId": "a330d282-3f90-42c6-dcdc-68b5d2e12fdb"
   },
   "outputs": [
    {
     "data": {
      "text/plain": [
       "['a', 'b']"
      ]
     },
     "execution_count": 74,
     "metadata": {},
     "output_type": "execute_result"
    }
   ],
   "source": [
    "a = \"a,b\"\n",
    "a.split(sep=\",\")"
   ]
  },
  {
   "cell_type": "code",
   "execution_count": null,
   "metadata": {
    "id": "CpCPXLbkyh-E",
    "outputId": "20670f68-218f-4bff-ea09-b63cb4786562"
   },
   "outputs": [
    {
     "name": "stdout",
     "output_type": "stream",
     "text": [
      "a,c,d,f,q\n"
     ]
    },
    {
     "data": {
      "text/plain": [
       "['a', 'c', 'd', 'f', 'q']"
      ]
     },
     "execution_count": 75,
     "metadata": {},
     "output_type": "execute_result"
    }
   ],
   "source": [
    "string1 = input()\n",
    "string1.split(sep=\",\")"
   ]
  },
  {
   "cell_type": "markdown",
   "metadata": {
    "id": "va1QjSuKyajf"
   },
   "source": [
    "**예제 14**\n",
    "\n",
    "사용자가 문자열을 입력하면 오름차순으로 정렬한 리스트를 출력하는 코드를 작성하세요\n",
    "\n",
    "|예시| 결과|\n",
    "--|--\n",
    "`a,b`| `[\"a\",\"b\"]`\n",
    "`a,c,d,f,e`| `[\"a\",\"c\",\"d\",\"e\",\"f\"]`\n",
    "`d,c,a,b`| `[\"a\", \"b\", \"c\", \"d\"]`"
   ]
  },
  {
   "cell_type": "code",
   "execution_count": null,
   "metadata": {
    "id": "2GqE1YNfyb6Y",
    "outputId": "0f3252c7-00d7-47ae-d690-25780a4c9b3d"
   },
   "outputs": [
    {
     "name": "stdout",
     "output_type": "stream",
     "text": [
      "d,c,a,b\n"
     ]
    },
    {
     "data": {
      "text/plain": [
       "(['a', 'b', 'c', 'd'], 'd,c,a,b')"
      ]
     },
     "execution_count": 88,
     "metadata": {},
     "output_type": "execute_result"
    }
   ],
   "source": [
    "string1 = input()\n",
    "string1_split = string1.split(sep=\",\")\n",
    "string1_split.sort()\n",
    "string1_split, string1"
   ]
  },
  {
   "cell_type": "markdown",
   "metadata": {
    "id": "yQydjxf2ycAb"
   },
   "source": [
    "\n",
    "**예제 15**\n",
    "\n",
    "사용자가 문자열을 입력하면 문자열을 뒤집은 리스트를 출력하는 코드를 작성하세요\n",
    "\n",
    "|예시| 결과|\n",
    "--|--\n",
    "`a,b`| `[\"b\",\"a\"]`\n",
    "`a,c,d,f,e`| `[\"e\",\"f\",\"d\",\"c\",\"a\"]`\n",
    "`d,c,a,b`| `[\"b\", \"a\", \"c\", \"d\"]`"
   ]
  },
  {
   "cell_type": "code",
   "execution_count": null,
   "metadata": {
    "id": "ZMaeBguoyh-F",
    "outputId": "d2d1a777-6936-4419-9123-8895c9510854"
   },
   "outputs": [
    {
     "data": {
      "text/plain": [
       "['b', 'a', 'c,', 'd']"
      ]
     },
     "execution_count": 96,
     "metadata": {},
     "output_type": "execute_result"
    }
   ],
   "source": [
    "# a=[\"d\",\"c,\",\"a\",\"b\"]\n",
    "string1 = input()\n",
    "string1.split(sep=\",\")\n",
    "b=a[::-1]\n",
    "b"
   ]
  },
  {
   "cell_type": "markdown",
   "metadata": {
    "id": "7RtmhPClydCL"
   },
   "source": [
    "**예제 16**\n",
    "\n",
    "\n",
    "사용자가 문자열을 입력하면 내림차순으로 정렬한 리스트를 출력하는 코드를 작성하세요\n",
    "\n",
    "|예시| 결과|\n",
    "--|--\n",
    "`a,b`| `[\"b\",\"a\"]`\n",
    "`a,c,d,f,e`| `[\"f\",\"e\",\"d\",\"c\",\"a\"]`\n",
    "`d,c,a.b`| `[\"d\", \"c\", \"b\", \"a\"]`"
   ]
  },
  {
   "cell_type": "code",
   "execution_count": null,
   "metadata": {
    "id": "ZPz3gvrNyeDX",
    "outputId": "78e13251-937a-4d27-ea6b-f7832845f695"
   },
   "outputs": [
    {
     "data": {
      "text/plain": [
       "['d', 'c,', 'b', 'a']"
      ]
     },
     "execution_count": 97,
     "metadata": {},
     "output_type": "execute_result"
    }
   ],
   "source": [
    "# a=[\"d\",\"c,\",\"a\",\"b\"]\n",
    "string1 = input()\n",
    "string1.split(sep=\",\")\n",
    "a.sort(reverse=True)\n",
    "a"
   ]
  },
  {
   "cell_type": "markdown",
   "metadata": {
    "id": "CDXGDE6pyeH0"
   },
   "source": [
    "**예제 17**\n",
    "\n",
    "기말고사 점수가 아래와 같습니다. score를 정의하세요\n",
    "\n",
    "```\n",
    "score = [80,20,30,50,20,20,100,90]\n",
    "```\n"
   ]
  },
  {
   "cell_type": "code",
   "execution_count": null,
   "metadata": {
    "id": "pnZC_F8KyfJv"
   },
   "outputs": [],
   "source": [
    "score = [80,20,30,50,20,20,100,90]"
   ]
  },
  {
   "cell_type": "markdown",
   "metadata": {
    "id": "eIHyjLuEyfUE"
   },
   "source": [
    "**예제 18**\n",
    "\n",
    "기말고사 점수의 최저점수와 최고점수를 구하는 코드를 작성하세요"
   ]
  },
  {
   "cell_type": "code",
   "execution_count": null,
   "metadata": {
    "id": "z5Tahx1RygUO",
    "outputId": "83c95395-dee9-431e-8b94-a410c075ae95"
   },
   "outputs": [
    {
     "data": {
      "text/plain": [
       "(20, 100)"
      ]
     },
     "execution_count": 100,
     "metadata": {},
     "output_type": "execute_result"
    }
   ],
   "source": [
    "min(score), max(score)"
   ]
  },
  {
   "cell_type": "markdown",
   "metadata": {
    "id": "Dzo9toUeygYN"
   },
   "source": [
    "**예제 19**\n",
    "\n",
    "기말고사 점수의 평균을 구하는 코드를 작성하세요"
   ]
  },
  {
   "cell_type": "code",
   "execution_count": null,
   "metadata": {
    "id": "-D_dExStyhf3",
    "outputId": "c64088e7-37a6-4f42-9c42-67e60ee6fa5c"
   },
   "outputs": [
    {
     "data": {
      "text/plain": [
       "51.25"
      ]
     },
     "execution_count": 102,
     "metadata": {},
     "output_type": "execute_result"
    }
   ],
   "source": [
    "average = sum(score)/len(score)\n",
    "average"
   ]
  },
  {
   "cell_type": "markdown",
   "metadata": {
    "id": "ZyLrkr52yhli"
   },
   "source": [
    "**예제 20**\n",
    "\n",
    "아파트 층이 다음과 같습니다. 리스트로 저장하세요 (이 리스트의 길이는 4입니다(층별) 각 층별 안에 3개의 호수가 들어갑니다.)\n",
    "\n",
    "\n",
    "```\n",
    "|401|402|403|\n",
    "|301|302|303|\n",
    "|201|202|203|\n",
    "|101|102|103|\n",
    "```\n"
   ]
  },
  {
   "cell_type": "code",
   "execution_count": null,
   "metadata": {
    "id": "ISoOLbXeyik2"
   },
   "outputs": [],
   "source": [
    "apart = [[101,102,103],[201,202,203],[301,302,303],[401,402,403]]"
   ]
  },
  {
   "cell_type": "markdown",
   "metadata": {
    "id": "dXnc8Z0dyiqf"
   },
   "source": [
    "**예제 21**\n",
    "\n",
    "이 리스트의 길이를 출력하고 길이가 4인지 확인하세요"
   ]
  },
  {
   "cell_type": "code",
   "execution_count": null,
   "metadata": {
    "id": "KaUWU20Nyjww",
    "outputId": "923f72f2-6edb-491e-85a3-130014609075"
   },
   "outputs": [
    {
     "data": {
      "text/plain": [
       "4"
      ]
     },
     "execution_count": 104,
     "metadata": {},
     "output_type": "execute_result"
    }
   ],
   "source": [
    "len(apart)"
   ]
  },
  {
   "cell_type": "markdown",
   "metadata": {
    "id": "EFGvpPuny_DM"
   },
   "source": [
    "**예제 22**\n",
    "\n",
    "`[401,402,403]` 을 출력하세요"
   ]
  },
  {
   "cell_type": "code",
   "execution_count": null,
   "metadata": {
    "id": "8bn_8vsZy-tj",
    "outputId": "464223aa-06d9-4f99-f5ac-a497874411e6"
   },
   "outputs": [
    {
     "data": {
      "text/plain": [
       "[401, 402, 403]"
      ]
     },
     "execution_count": 105,
     "metadata": {},
     "output_type": "execute_result"
    }
   ],
   "source": [
    "apart[3]"
   ]
  },
  {
   "cell_type": "markdown",
   "metadata": {
    "id": "zs6lSM8zyj3O"
   },
   "source": [
    "\n",
    "\n",
    "**예제 23**\n",
    "\n",
    "`202`를 출력하세요"
   ]
  },
  {
   "cell_type": "code",
   "execution_count": null,
   "metadata": {
    "id": "ZGY-lH56ymeE",
    "outputId": "875e8cd9-776e-490e-85cb-a62f610afde8"
   },
   "outputs": [
    {
     "data": {
      "text/plain": [
       "202"
      ]
     },
     "execution_count": 106,
     "metadata": {},
     "output_type": "execute_result"
    }
   ],
   "source": [
    "apart[1][1]"
   ]
  },
  {
   "cell_type": "markdown",
   "metadata": {
    "id": "RlXMDPe9ymlq"
   },
   "source": [
    "**예제 24**\n",
    "\n",
    "`303`호를 출력하세요"
   ]
  },
  {
   "cell_type": "code",
   "execution_count": null,
   "metadata": {
    "id": "k9RZeqdWynss",
    "outputId": "462c3eb4-1573-4223-8ace-770979840890"
   },
   "outputs": [
    {
     "data": {
      "text/plain": [
       "303"
      ]
     },
     "execution_count": 107,
     "metadata": {},
     "output_type": "execute_result"
    }
   ],
   "source": [
    "apart[2][2]"
   ]
  },
  {
   "cell_type": "code",
   "execution_count": null,
   "metadata": {
    "id": "P0yAwJivyh-H"
   },
   "outputs": [],
   "source": []
  }
 ],
 "metadata": {
  "colab": {
   "collapsed_sections": [],
   "include_colab_link": true,
   "name": "2-3.파이썬의 자료형_리스트.ipynb",
   "provenance": []
  },
  "kernelspec": {
   "display_name": "Python 3 (ipykernel)",
   "language": "python",
   "name": "python3"
  },
  "language_info": {
   "codemirror_mode": {
    "name": "ipython",
    "version": 3
   },
   "file_extension": ".py",
   "mimetype": "text/x-python",
   "name": "python",
   "nbconvert_exporter": "python",
   "pygments_lexer": "ipython3",
   "version": "3.9.7"
  },
  "toc": {
   "base_numbering": 1,
   "nav_menu": {},
   "number_sections": true,
   "sideBar": true,
   "skip_h1_title": false,
   "title_cell": "Table of Contents",
   "title_sidebar": "Contents",
   "toc_cell": false,
   "toc_position": {},
   "toc_section_display": true,
   "toc_window_display": true
  },
  "varInspector": {
   "cols": {
    "lenName": 16,
    "lenType": 16,
    "lenVar": 40
   },
   "kernels_config": {
    "python": {
     "delete_cmd_postfix": "",
     "delete_cmd_prefix": "del ",
     "library": "var_list.py",
     "varRefreshCmd": "print(var_dic_list())"
    },
    "r": {
     "delete_cmd_postfix": ") ",
     "delete_cmd_prefix": "rm(",
     "library": "var_list.r",
     "varRefreshCmd": "cat(var_dic_list()) "
    }
   },
   "types_to_exclude": [
    "module",
    "function",
    "builtin_function_or_method",
    "instance",
    "_Feature"
   ],
   "window_display": false
  }
 },
 "nbformat": 4,
 "nbformat_minor": 1
}
