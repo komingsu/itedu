{
 "cells": [
  {
   "cell_type": "markdown",
   "metadata": {
    "colab_type": "text",
    "id": "view-in-github"
   },
   "source": [
    "<a href=\"https://colab.research.google.com/github/komingsu/SkillTreePython/blob/main/2-2.%ED%8C%8C%EC%9D%B4%EC%8D%AC%EC%9D%98%20%EC%9E%90%EB%A3%8C%ED%98%95_%EB%AC%B8%EC%9E%90%EC%97%B4.ipynb\" target=\"_parent\"><img src=\"https://colab.research.google.com/assets/colab-badge.svg\" alt=\"Open In Colab\"/></a>"
   ]
  },
  {
   "cell_type": "markdown",
   "metadata": {
    "id": "kB5IciXEm6o4"
   },
   "source": [
    "# 2-2.파이썬의 자료형:문자열\n",
    "---\n",
    "* 날짜: 2022-03-29\n",
    "* 이름: 고민수"
   ]
  },
  {
   "cell_type": "markdown",
   "metadata": {
    "id": "4iN8NFzHRJ2D"
   },
   "source": [
    "## 개념정리\n",
    "---\n",
    "\n",
    "이번 시간에 다룰 자료형은 문자열 (String) 자료형 입니다. 문자열 도한 숫자와 마찬가지로 기본적인 데이터 타입이며 광범위하게 사용됩니다. 문자열 문자들의 집합으로 이루어져 있습니다."
   ]
  },
  {
   "cell_type": "markdown",
   "metadata": {
    "id": "UKlkHH0IRL5h"
   },
   "source": [
    "### (1) 문자열 생성하기\n",
    "\n",
    "\n",
    "* 작은따음표 `'` \n",
    "\n",
    "```\n",
    "a = 'hello'\n",
    "print(a), type(a)\n",
    "```\n",
    "\n",
    "\n",
    "\n",
    "\n",
    "\n"
   ]
  },
  {
   "cell_type": "code",
   "execution_count": null,
   "metadata": {
    "colab": {
     "base_uri": "https://localhost:8080/"
    },
    "id": "DwxmxrH90x6c",
    "outputId": "c1b27b54-d7cc-46bd-87a4-3f8ed5ff670d"
   },
   "outputs": [
    {
     "data": {
      "text/plain": [
       "('hello', str)"
      ]
     },
     "execution_count": 11,
     "metadata": {},
     "output_type": "execute_result"
    }
   ],
   "source": [
    "a = 'hello'\n",
    "a, type(a)"
   ]
  },
  {
   "cell_type": "markdown",
   "metadata": {
    "id": "ftvQ5Pfk0yBf"
   },
   "source": [
    "* 큰따음표 `\"`\n",
    "\n",
    "```\n",
    "a = \"hello\"\n",
    "print(a), type(a)\n",
    "```\n"
   ]
  },
  {
   "cell_type": "code",
   "execution_count": null,
   "metadata": {
    "colab": {
     "base_uri": "https://localhost:8080/"
    },
    "id": "phUxr9LP0y7Q",
    "outputId": "3f082c6c-d2b5-4c38-a4f1-63620fe59244"
   },
   "outputs": [
    {
     "data": {
      "text/plain": [
       "('hello', str)"
      ]
     },
     "execution_count": 14,
     "metadata": {},
     "output_type": "execute_result"
    }
   ],
   "source": [
    "a = \"hello\"\n",
    "a, type(a)"
   ]
  },
  {
   "cell_type": "markdown",
   "metadata": {
    "id": "RMpem26n0zBR"
   },
   "source": [
    "\n",
    "* 작은따음표 세개 `'''`\n",
    "\n",
    "```\n",
    "a = '''hello'''\n",
    "print(a), type(a)\n",
    "```\n",
    "\n"
   ]
  },
  {
   "cell_type": "code",
   "execution_count": null,
   "metadata": {
    "colab": {
     "base_uri": "https://localhost:8080/"
    },
    "id": "oLRaHKFD0zsX",
    "outputId": "1bb043a6-62fd-4abf-9fa9-cdef165ef31d"
   },
   "outputs": [
    {
     "data": {
      "text/plain": [
       "('hello', str)"
      ]
     },
     "execution_count": 13,
     "metadata": {},
     "output_type": "execute_result"
    }
   ],
   "source": [
    "a = '''hello'''\n",
    "a, type(a)"
   ]
  },
  {
   "cell_type": "markdown",
   "metadata": {
    "id": "TZkDN8560z1N"
   },
   "source": [
    "* 큰따음표 세개 `\"\"\"`\n",
    "\n",
    "```\n",
    "a = \"\"\"hello\"\"\"\n",
    "print(a), type(a)\n",
    "```\n"
   ]
  },
  {
   "cell_type": "code",
   "execution_count": null,
   "metadata": {
    "colab": {
     "base_uri": "https://localhost:8080/"
    },
    "id": "vQMs78BT00c-",
    "outputId": "bab87cc5-f4e7-4420-d659-d1224ac4a1d1"
   },
   "outputs": [
    {
     "data": {
      "text/plain": [
       "('hello', str)"
      ]
     },
     "execution_count": 12,
     "metadata": {},
     "output_type": "execute_result"
    }
   ],
   "source": [
    "a = \"\"\"hello\"\"\"\n",
    "a, type(a)"
   ]
  },
  {
   "cell_type": "markdown",
   "metadata": {
    "id": "-6nvbRvd02kK"
   },
   "source": [
    "#### **작은따음표나 큰따음표가 포함된 문자열**\n",
    "\n",
    "위에서 우리는 작은따음표나 큰따음표를 이용해서 문자열을 생성하였습니다. 그런데 언제 작은따음표를 쓰고, 큰따음표를 써야할까요? 대부분의 경우 사용자의 편의에 맞춰서 사용하시면 되지만 특정 상황에 따라 적절히 선택해서 문자열을 생성해야 합니다. \n",
    "\n",
    "* 작은따음표 포함시키기\n",
    "\n",
    "```\n",
    "a = \"It's nice day!\"\n",
    "print(a)\n",
    "```"
   ]
  },
  {
   "cell_type": "code",
   "execution_count": null,
   "metadata": {
    "colab": {
     "base_uri": "https://localhost:8080/",
     "height": 36
    },
    "id": "7AfuxTvH4tdg",
    "outputId": "3f64aeaf-b748-4da7-b46a-31af3a49839c"
   },
   "outputs": [
    {
     "data": {
      "application/vnd.google.colaboratory.intrinsic+json": {
       "type": "string"
      },
      "text/plain": [
       "\"It's nice day!\""
      ]
     },
     "execution_count": 15,
     "metadata": {},
     "output_type": "execute_result"
    }
   ],
   "source": [
    "a = \"It's nice day!\"\n",
    "a"
   ]
  },
  {
   "cell_type": "markdown",
   "metadata": {
    "id": "MHzcVeyz5IzP"
   },
   "source": [
    "* 큰따음표 포함시키기\n",
    "\n",
    "```\n",
    "a = 'he said, \"nice day!\"'\n",
    "print(a)\n",
    "```"
   ]
  },
  {
   "cell_type": "code",
   "execution_count": null,
   "metadata": {
    "colab": {
     "base_uri": "https://localhost:8080/",
     "height": 36
    },
    "id": "GZR3Ujq95QRk",
    "outputId": "ece30ba0-711a-4c58-b901-02ed108b898d"
   },
   "outputs": [
    {
     "data": {
      "application/vnd.google.colaboratory.intrinsic+json": {
       "type": "string"
      },
      "text/plain": [
       "'he said, \"nice day!\"'"
      ]
     },
     "execution_count": 16,
     "metadata": {},
     "output_type": "execute_result"
    }
   ],
   "source": [
    "a = 'he said, \"nice day!\"'\n",
    "a"
   ]
  },
  {
   "cell_type": "markdown",
   "metadata": {
    "id": "opbfNksrAq4P"
   },
   "source": [
    "#### **연속된 따옴표의 사용**\n",
    "\n",
    "연속된 따옴표는 표현의 자유도가 높습니다. 우선 여러줄의 문자열을 생성할 수 있습니다. \n",
    "\n",
    "* 작음 따옴표 / 큰 따옴표\n",
    "\n",
    "따옴표 한개를 사용할 때 줄 바꿈을 적용하면 에러 메시지가 뜹니다.\n",
    "\n",
    "```\n",
    "a = 'nice\n",
    "day !'\n",
    "```\n",
    "\n"
   ]
  },
  {
   "cell_type": "code",
   "execution_count": null,
   "metadata": {
    "id": "8wPrBcJS5i5x"
   },
   "outputs": [],
   "source": [
    "a = '''nice\n",
    "day !'''"
   ]
  },
  {
   "cell_type": "markdown",
   "metadata": {
    "id": "cWLVpy9R5oEq"
   },
   "source": [
    "* 작음 따옴표 / 큰 따옴표 세개\n",
    "\n",
    "따음표 세개를 쓰면 줄 바꿈이 가능합니다.\n",
    "\n",
    "```\n",
    "a = '''\n",
    "nice\n",
    "day !\n",
    "'''\n",
    "```\n"
   ]
  },
  {
   "cell_type": "code",
   "execution_count": null,
   "metadata": {
    "id": "ovhFYYpI5sd_"
   },
   "outputs": [],
   "source": [
    "a = '''\n",
    "nice\n",
    "day !\n",
    "'''"
   ]
  },
  {
   "cell_type": "markdown",
   "metadata": {
    "id": "II4NczMb5yYl"
   },
   "source": [
    "또한 문자열 안에 큰따음표나 작은따옴표를 자유롭게 포함할 수 있습니다.\n",
    "\n",
    "```\n",
    "a = '''\n",
    "It's\n",
    "nice\n",
    "day !\n",
    "'''\n",
    "```"
   ]
  },
  {
   "cell_type": "code",
   "execution_count": null,
   "metadata": {
    "id": "cApA3Fwn5tbJ"
   },
   "outputs": [],
   "source": [
    "a = '''\n",
    "It's\n",
    "nice\n",
    "day !\n",
    "'''"
   ]
  },
  {
   "cell_type": "markdown",
   "metadata": {
    "id": "8qoGgPDT55BR"
   },
   "source": [
    "### (2) 이스케이프 코드\n",
    "\n",
    "이스케이프 코드는 프로그래밍할 때 사용할 수 있도록 미리 만들어 둔 문자조합 입니다. 출력물을 보기 좋게 정렬하는 용도로 사용되며 주로 사용되는 이스케이프 코드를 정리하면 아래와 같습니다. \n",
    "\n",
    "* `\\n` : 문자열 내에서 줄을 바꿉니다.\n",
    "\n",
    "```\n",
    "a = 'nice\\nday!'\n",
    "print(a)\n",
    "```\n"
   ]
  },
  {
   "cell_type": "code",
   "execution_count": null,
   "metadata": {
    "colab": {
     "base_uri": "https://localhost:8080/"
    },
    "id": "4n7IDBuq5-hv",
    "outputId": "32c0c971-2054-4839-8f84-a5675f1f5f81"
   },
   "outputs": [
    {
     "name": "stdout",
     "output_type": "stream",
     "text": [
      "nice\n",
      "day!\n"
     ]
    }
   ],
   "source": [
    "a = 'nice\\nday!'\n",
    "print(a)"
   ]
  },
  {
   "cell_type": "markdown",
   "metadata": {
    "id": "LcAJr9hK6Api"
   },
   "source": [
    "* `\\t` : 문자열 내에서 탭 간격만큼 띄어쓰기 합니다.\n",
    "\n",
    "```\n",
    "a = 'nice\\tday!'\n",
    "print(a)\n",
    "```"
   ]
  },
  {
   "cell_type": "code",
   "execution_count": null,
   "metadata": {
    "colab": {
     "base_uri": "https://localhost:8080/"
    },
    "id": "esQ1Vclb6EPw",
    "outputId": "8a108af5-c3c2-4c50-fba4-74fa435b6cf5"
   },
   "outputs": [
    {
     "name": "stdout",
     "output_type": "stream",
     "text": [
      "nice\tday!\n"
     ]
    }
   ],
   "source": [
    "a = 'nice\\tday!'\n",
    "print(a)"
   ]
  },
  {
   "cell_type": "markdown",
   "metadata": {
    "id": "WUaMrp516Gpt"
   },
   "source": [
    "* `\\\\` : 문자열 내에서 `\\` 를 문자 그대로 표시합니다.\n",
    "\n",
    "```\n",
    "a = 'nice\\\\day!'\n",
    "print(a)\n",
    "```"
   ]
  },
  {
   "cell_type": "code",
   "execution_count": null,
   "metadata": {
    "colab": {
     "base_uri": "https://localhost:8080/"
    },
    "id": "-dIGYh-k6FDJ",
    "outputId": "34008d64-c867-4826-ec71-a915a566f9eb"
   },
   "outputs": [
    {
     "name": "stdout",
     "output_type": "stream",
     "text": [
      "nice\\day!\n"
     ]
    }
   ],
   "source": [
    "a = 'nice\\\\day!'\n",
    "print(a)"
   ]
  },
  {
   "cell_type": "markdown",
   "metadata": {
    "id": "4xbxgNT06Pz6"
   },
   "source": [
    "* `\\'` : 문자열 내에서 작은 따음표 `'` 를 문자 그대로 표시합니다.\n",
    "\n",
    "```\n",
    "a = 'nice\\'day!'\n",
    "print(a)\n",
    "```"
   ]
  },
  {
   "cell_type": "code",
   "execution_count": null,
   "metadata": {
    "colab": {
     "base_uri": "https://localhost:8080/"
    },
    "id": "89Fv1jo_6Pz7",
    "outputId": "7444c7bb-9027-444b-d9dd-49d554b18c8b"
   },
   "outputs": [
    {
     "name": "stdout",
     "output_type": "stream",
     "text": [
      "nice'day!\n"
     ]
    }
   ],
   "source": [
    "a = 'nice\\'day!'\n",
    "print(a)"
   ]
  },
  {
   "cell_type": "markdown",
   "metadata": {
    "id": "QSzXTGff7uw4"
   },
   "source": [
    "* `\\\"` : 문자열 내에서 큰따음표 `\"` 를 문자 그대로 표시합니다.\n",
    "\n",
    "```\n",
    "a = 'nice\\\"day!'\n",
    "print(a)\n",
    "```"
   ]
  },
  {
   "cell_type": "code",
   "execution_count": null,
   "metadata": {
    "colab": {
     "base_uri": "https://localhost:8080/"
    },
    "id": "R40_NPU47uw-",
    "outputId": "d1d462a4-906e-4193-b745-91048864c4cd"
   },
   "outputs": [
    {
     "name": "stdout",
     "output_type": "stream",
     "text": [
      "nice\"day!\n"
     ]
    }
   ],
   "source": [
    "a = 'nice\\\"day!'\n",
    "print(a)"
   ]
  },
  {
   "cell_type": "markdown",
   "metadata": {
    "id": "yKAeHMtt74ad"
   },
   "source": [
    "### (3) 문자열 포매팅(Formatting)\n",
    "\n",
    "문자열 안에 변수가 포함된 경우를 생각해 보겠습니다. \n",
    "\n",
    "```\n",
    "It's nice day!\n",
    "It's good day!\n",
    "It's happy day!\n",
    "```\n",
    "\n",
    "위 문장들의 공통 값은 `It's --- day` 이고 변하는 값들은 `nice`, `good`, `happy` 가 됩니다. \n",
    "\n",
    "이 때 변하는 값들을 문장 내에서 처리해 주는 것이 포매팅 입니다. 아직까진 어떤 의미인지 잘 이해가 안갈 수 있습니다. 여러가지 방법들을 하나씩 따라하면서 감을 잡아 봅시다.\n",
    "\n"
   ]
  },
  {
   "cell_type": "markdown",
   "metadata": {
    "id": "QgMmtjem_VIT"
   },
   "source": [
    "####  **`%`  이용하기**\n",
    "\n",
    "변수는 `a` 이고 전체 문장은 `s`입니다. 문장내에 변수를 `%s`로 두고 문장 끝에 %s에 들어갈 것이 `a`임을 표시해 줍니다.\n",
    "\n",
    "```\n",
    "a = 'nice'\n",
    "s = \"It's %s day!\"%(a)\n",
    "print(s)\n",
    "```\n",
    "\n"
   ]
  },
  {
   "cell_type": "code",
   "execution_count": null,
   "metadata": {
    "colab": {
     "base_uri": "https://localhost:8080/"
    },
    "id": "LOPlbk426N__",
    "outputId": "4bbfe26b-4559-4a0b-c242-37af0368ea0d"
   },
   "outputs": [
    {
     "name": "stdout",
     "output_type": "stream",
     "text": [
      "It's nice day!\n"
     ]
    }
   ],
   "source": [
    "a = 'nice'\n",
    "s = \"It's %s day!\"%(a)\n",
    "print(s)"
   ]
  },
  {
   "cell_type": "markdown",
   "metadata": {
    "id": "7kep77Ls__Q2"
   },
   "source": [
    "변수 `b`와 `c`를 추가하고 각각 `good`, `happy`로 바인딩 합시다. 문자 끝에 무엇을 넣어줄지 정해 다양한 변수를 지정할 수 있습니다. \n",
    "\n",
    "```\n",
    "a = 'nice'\n",
    "b = 'good'\n",
    "c = 'happy'\n",
    "s = \"It's %s day!\"%(b)\n",
    "print(s)\n",
    "```"
   ]
  },
  {
   "cell_type": "code",
   "execution_count": null,
   "metadata": {
    "colab": {
     "base_uri": "https://localhost:8080/"
    },
    "id": "9edAonWp_6SH",
    "outputId": "4455c43d-fd1a-437a-ce44-44325cdf9a58"
   },
   "outputs": [
    {
     "name": "stdout",
     "output_type": "stream",
     "text": [
      "It's good day!\n"
     ]
    }
   ],
   "source": [
    "a = 'nice'\n",
    "b = 'good'\n",
    "c = 'happy'\n",
    "s = \"It's %s day!\"%(b)\n",
    "print(s)"
   ]
  },
  {
   "cell_type": "markdown",
   "metadata": {
    "id": "CaR1T3S7Aaw3"
   },
   "source": [
    "두개 이상의 변수도 다룰 수 있습니다. \n",
    "\n",
    "```\n",
    "a = 'nice'\n",
    "b = 'good'\n",
    "c = 'happy'\n",
    "s = \"It's %s, %s, and %s day!\"%(a, b, c)\n",
    "print(s)\n",
    "```"
   ]
  },
  {
   "cell_type": "code",
   "execution_count": null,
   "metadata": {
    "colab": {
     "base_uri": "https://localhost:8080/"
    },
    "id": "2hH45AgVAV03",
    "outputId": "8c7c03cb-73bb-4724-ae13-c9a7e5913ef2"
   },
   "outputs": [
    {
     "name": "stdout",
     "output_type": "stream",
     "text": [
      "It's nice, good, and happy day!\n"
     ]
    }
   ],
   "source": [
    "a = 'nice'\n",
    "b = 'good'\n",
    "c = 'happy'\n",
    "s = \"It's %s, %s, and %s day!\"%(a, b, c)\n",
    "print(s)"
   ]
  },
  {
   "cell_type": "markdown",
   "metadata": {
    "id": "XXcIbOqRApxi"
   },
   "source": [
    "이 때 문장 내에 `%s`로 변수를 지칭하는 것을 볼 수 있습니다. `s`가 뜻하는 것은 `string`입니다. 즉, 우리가 변수로 사용할 `a`, `b`, `c`가 문자열(string) 이기 때문에 `%s`로 문장 내에 변수를 표시합니다. \n",
    "\n",
    "그렇다면 문자열이 아닌 정수일 때는 어떻게 표시할까요? 이 때는 `%d`로 표시합니다.\n",
    "\n",
    "\n",
    "\n",
    "```\n",
    "a = 2\n",
    "s = '%d apples.'%(a)\n",
    "print(s)\n",
    "```\n",
    "\n"
   ]
  },
  {
   "cell_type": "code",
   "execution_count": null,
   "metadata": {
    "colab": {
     "base_uri": "https://localhost:8080/"
    },
    "id": "cF5rP4FBAjpa",
    "outputId": "6be59ee5-ef09-46ae-cbb1-1efbe82ebc6e"
   },
   "outputs": [
    {
     "name": "stdout",
     "output_type": "stream",
     "text": [
      "2 apples.\n"
     ]
    }
   ],
   "source": [
    "a = 2\n",
    "s = '%d apples.'%(a)\n",
    "print(s)"
   ]
  },
  {
   "cell_type": "markdown",
   "metadata": {
    "id": "2dSPARaCBPIf"
   },
   "source": [
    "이 밖에 `a`의 자료형에 따라 적절한 코드를 사용합니다. \n",
    "\n",
    "| 코드 | 설명 |\n",
    "| --|-- |\n",
    "|%s|\t문자열(String)|\n",
    "|%c|\t문자 1개(character)|\n",
    "|%d|\t정수(Integer)|\n",
    "|%f\t|부동소수(floating-point)|\n",
    "|%o\t|8진수|\n",
    "|%x\t|16진수|\n",
    "|%%\t|Literal % (문자 % 자체)|\n",
    "\n",
    "이제 문자열 포매팅에 대한 기본적인 이해는 되었습니다. 더 많은 포매팅 방법을 알아보고 본인에게 가장 편리한 방법을 사용해 보도록 합시다."
   ]
  },
  {
   "cell_type": "markdown",
   "metadata": {
    "id": "WbPuzriMBSsB"
   },
   "source": [
    "#### **`.format()` 이용하기**\n",
    "\n",
    "\n",
    "이 방식에서 문자열 안의 변수는 `{}` 로 표현됩니다. 그리고 어떤 변수가 오는 지는 `.format()`을 이용합니다. 이 방식은 이전과 달리 변수의 타입에 관계없이 항상 `{}` 기호를 써서 나타냅니다. \n",
    "\n",
    "\n",
    "```\n",
    "a = 'nice'\n",
    "s = \"It's {} day!\".format(a)\n",
    "print(s)\n",
    "```\n"
   ]
  },
  {
   "cell_type": "code",
   "execution_count": null,
   "metadata": {
    "colab": {
     "base_uri": "https://localhost:8080/"
    },
    "id": "lU2dMDiNEFac",
    "outputId": "18664e68-dc20-45b1-b4ac-8345c7e32d39"
   },
   "outputs": [
    {
     "name": "stdout",
     "output_type": "stream",
     "text": [
      "It's nice day!\n"
     ]
    }
   ],
   "source": [
    "a = 'nice'\n",
    "s = \"It's {} day!\".format(a)\n",
    "print(s)"
   ]
  },
  {
   "cell_type": "markdown",
   "metadata": {
    "id": "CiYaXRPVBSt-"
   },
   "source": [
    "* 여러개의 변수\n",
    "\n",
    "```\n",
    "a = 3\n",
    "b = 'apples'\n",
    "s = 'there are {} {}'.format(a, b)\n",
    "print(s)\n",
    "```\n"
   ]
  },
  {
   "cell_type": "code",
   "execution_count": null,
   "metadata": {
    "colab": {
     "base_uri": "https://localhost:8080/"
    },
    "id": "8PiiujY3BK13",
    "outputId": "015ce146-e3d1-4e99-b71b-4975f5dff2e2"
   },
   "outputs": [
    {
     "name": "stdout",
     "output_type": "stream",
     "text": [
      "there are 3 apples\n"
     ]
    }
   ],
   "source": [
    "a = 3\n",
    "b = 'apples'\n",
    "s = 'there are {} {}'.format(a, b)\n",
    "print(s)"
   ]
  },
  {
   "cell_type": "markdown",
   "metadata": {
    "id": "jnIYWLtfEcX0"
   },
   "source": [
    "* 괄호 인덱싱 : 변수를 나타내는 괄호 `{}` 안에 번호로 인덱싱을 할 수 있습니다.  \n",
    "\n",
    "\n",
    "```\n",
    "a = '3'\n",
    "b = 'apples'\n",
    "c = 'oranges'\n",
    "s = 'there are {0} {1} and {0} {2}'.format(a, b, c)\n",
    "print(s)\n",
    "``` \n",
    "이 때 `{0}`, `{1}`, `{2}` 는 차례대로 `a`, `b`, `c` 가 됩니다.\n"
   ]
  },
  {
   "cell_type": "code",
   "execution_count": null,
   "metadata": {
    "colab": {
     "base_uri": "https://localhost:8080/"
    },
    "id": "jVLUKFNmEX--",
    "outputId": "3e786bc8-bc29-4d39-cc21-5c94249d31f9"
   },
   "outputs": [
    {
     "name": "stdout",
     "output_type": "stream",
     "text": [
      "there are 3apples and 3oranges\n"
     ]
    }
   ],
   "source": [
    "a = '3'\n",
    "b = 'apples'\n",
    "c = 'oranges'\n",
    "s = 'there are {0}{1} and {0}{2}'.format(a, b, c)\n",
    "print(s)"
   ]
  },
  {
   "cell_type": "markdown",
   "metadata": {
    "id": "9kXyc4KFEwhD"
   },
   "source": [
    "* 괄호 태그 : 변수를 나타내는 괄호 `{}` 안에 태그로 인덱싱을 할 수 있습니다.\n",
    "\n",
    "```\n",
    "a = '3'\n",
    "b = 'apples'\n",
    "c = 'oranges'\n",
    "s = 'there are {num} {fruit1} and {num} {fruit2}'.format(num=a, fruit1=b, fruit2=c)\n",
    "print(s)\n",
    "``` \n"
   ]
  },
  {
   "cell_type": "code",
   "execution_count": null,
   "metadata": {
    "id": "7t4bGJuvEnRx"
   },
   "outputs": [],
   "source": []
  },
  {
   "cell_type": "markdown",
   "metadata": {
    "id": "bYUxh00NFHWZ"
   },
   "source": [
    "#### **f-string 문법**\n",
    "\n",
    "\n",
    "Python 3.6 이상의 버전부터 f-string 문법을 사용할 수 있게 되었습니다. 문자열 앞에 접두사 `f`를 붙이고 문장내에 변수를 중괄호 `{}`로 처리합니다. 그리고 어떤 변수가 들어갈지를 중괄호 `{}` 안에 바로 작성해줍니다. \n",
    "\n",
    " \n",
    "\n",
    "```\n",
    "a = '3'\n",
    "b = 'apples'\n",
    "c = 'oranges'\n",
    "s = f'there are {a} {b} and {a} {c}'\n",
    "print(s)\n",
    "```\n"
   ]
  },
  {
   "cell_type": "code",
   "execution_count": null,
   "metadata": {
    "colab": {
     "base_uri": "https://localhost:8080/"
    },
    "id": "N1XFYDRfFHWZ",
    "outputId": "b14340d2-94f5-45c7-a53d-64ca5981bceb"
   },
   "outputs": [
    {
     "name": "stdout",
     "output_type": "stream",
     "text": [
      "there are 3 apples and 3 oranges\n"
     ]
    }
   ],
   "source": [
    "a = '3'\n",
    "b = 'apples'\n",
    "c = 'oranges'\n",
    "s = f'there are {a} {b} and {a} {c}'\n",
    "print(s)"
   ]
  },
  {
   "cell_type": "markdown",
   "metadata": {
    "id": "OW5u5aPEIGIP"
   },
   "source": [
    "### (4) 인덱싱과 슬라이싱\n",
    "\n",
    "\n"
   ]
  },
  {
   "cell_type": "markdown",
   "metadata": {
    "id": "CiCymDWPIJyd"
   },
   "source": [
    "#### **인덱싱 (indexing)**\n",
    "\n",
    "문자열의 인덱싱(indexing) 이란 주어진 문자열의 특정 값의 위치를 가리키는 것입니다. 파이썬은 `0`부터 시작함을 유의하세요. 아래 그림과 같이 첫번째 문자는 `0`번째 index를 가지고 순차적으로 증가합니다. \n",
    "\n",
    "![](https://github.com/yebiny/SkillTreePython/blob/main/imgs/2-2-1.PNG?raw=true)\n",
    "\n",
    "* 양수 인덱스 : 양수 값에 위치한 문자를 인덱싱합니다.\n",
    "\n",
    "```\n",
    "a = 'nice day!'\n",
    "print(a[5])\n",
    "```"
   ]
  },
  {
   "cell_type": "code",
   "execution_count": 41,
   "metadata": {
    "colab": {
     "base_uri": "https://localhost:8080/"
    },
    "id": "3zLNBfeRFATW",
    "outputId": "a97e5174-1d8c-4182-abd9-f4b5c7d4b787"
   },
   "outputs": [
    {
     "name": "stdout",
     "output_type": "stream",
     "text": [
      "d\n"
     ]
    }
   ],
   "source": [
    "a = 'nice day!'\n",
    "print(a[5])"
   ]
  },
  {
   "cell_type": "markdown",
   "metadata": {
    "id": "vOiUFzc3IQOj"
   },
   "source": [
    "* 음수 인덱스 : 마지막 문자는 -1 이고 마지막에서 두번째는 -2 가 됩니다. \n",
    "\n",
    "```\n",
    "a = 'nice day!'\n",
    "print(a[-1])\n",
    "print(a[-4])\n",
    "```"
   ]
  },
  {
   "cell_type": "code",
   "execution_count": 42,
   "metadata": {
    "colab": {
     "base_uri": "https://localhost:8080/"
    },
    "id": "GoQLluZSIOpI",
    "outputId": "ea7813f5-c212-46a2-9a0c-bdf7bf18a4ac"
   },
   "outputs": [
    {
     "name": "stdout",
     "output_type": "stream",
     "text": [
      "!\n",
      "d\n"
     ]
    }
   ],
   "source": [
    "a = 'nice day!'\n",
    "print(a[-1])\n",
    "print(a[-4])"
   ]
  },
  {
   "cell_type": "markdown",
   "metadata": {
    "id": "HkFYQ6riIswz"
   },
   "source": [
    "#### **슬라이싱 (Slicing)**\n",
    "\n",
    "문자열의 슬라이싱(Slicing) 은 문자열 내의 특정 구간을 잘라내는 것입니다. 슬라이싱에서의 순서는 인덱싱과 마찬가지로 0부터 시작합니다. 하지만 슬라이싱의 인덱스는 문자열의 위치를 가리키는게 아니라 문자열 사이사이의 칸막이를 가리키는 것으로 이해하셔야 헷갈리지 않습니다. 아래 그림을 참고하세요.\n",
    "\n",
    "![](https://github.com/yebiny/SkillTreePython/blob/main/imgs/2-2-2.PNG?raw=true)\n",
    "\n",
    "*  `a[start:end]` : 문자열 `a`의 `start` 부터 `end`까지 구간을 슬라이싱합니다.\n",
    "\n",
    "```\n",
    "a = 'nice day!'\n",
    "print(a[1:4])\n",
    "```"
   ]
  },
  {
   "cell_type": "code",
   "execution_count": 43,
   "metadata": {
    "colab": {
     "base_uri": "https://localhost:8080/"
    },
    "id": "CuP424IgIT5Q",
    "outputId": "d95708ca-828b-4cbe-9fab-5b1462970df7"
   },
   "outputs": [
    {
     "name": "stdout",
     "output_type": "stream",
     "text": [
      "ice\n"
     ]
    }
   ],
   "source": [
    "a = 'nice day!'\n",
    "print(a[1:4])"
   ]
  },
  {
   "cell_type": "markdown",
   "metadata": {
    "id": "CG4gOxN8Iznp"
   },
   "source": [
    "만약  `start` 나 `end` 값을 적지 않으면 어떻게 될까요?\n",
    "\n",
    "```\n",
    "a = 'nice day!'\n",
    "print(a[:4])\n",
    "```\n",
    "\n",
    "`start` 값을 적지 않았지만 자동으로 `0`으로 인식하여 슬라이싱 합니다. 반대로 `end` 값을 적지 않으면 마지막(칸막이)을 뜻하는 `-1`이 인식됩니다."
   ]
  },
  {
   "cell_type": "code",
   "execution_count": 44,
   "metadata": {
    "colab": {
     "base_uri": "https://localhost:8080/"
    },
    "id": "uaoZZQFIIyZ2",
    "outputId": "97da893a-d443-4f31-ef25-803035582fdc"
   },
   "outputs": [
    {
     "name": "stdout",
     "output_type": "stream",
     "text": [
      "nice\n"
     ]
    }
   ],
   "source": [
    "a = 'nice day!'\n",
    "print(a[:4])"
   ]
  },
  {
   "cell_type": "markdown",
   "metadata": {
    "id": "W5j566GxI4hc"
   },
   "source": [
    "\n",
    "따라서 아래 코드는 처음부터 끝까지 슬라이싱 하라는 것과 동일합니다. \n",
    "\n",
    "```\n",
    "a = 'nice day!'\n",
    "print(a[:])\n",
    "```\n",
    "\n",
    "\n"
   ]
  },
  {
   "cell_type": "code",
   "execution_count": 45,
   "metadata": {
    "colab": {
     "base_uri": "https://localhost:8080/"
    },
    "id": "L9vlbxXuI2Fd",
    "outputId": "bdee7505-a5ec-476a-b18e-1d8a55c81e37"
   },
   "outputs": [
    {
     "name": "stdout",
     "output_type": "stream",
     "text": [
      "nice day!\n"
     ]
    }
   ],
   "source": [
    "a = 'nice day!'\n",
    "print(a[:])"
   ]
  },
  {
   "cell_type": "markdown",
   "metadata": {
    "id": "I8LnkqP8KsaZ"
   },
   "source": [
    "### (5) 문자열 연산\n",
    "\n",
    "문자열도 수치자료형처럼 몇가지 연산이 가능합니다. 더하기 `+`와 곱셈 `*`을 사용할 수 있습니다.\n"
   ]
  },
  {
   "cell_type": "markdown",
   "metadata": {
    "id": "8aUbNRGiKdE9"
   },
   "source": [
    "\n",
    "#### **더하기**\n",
    "\n",
    "* `a+b` : 문자열 `a`와 문자열 `b`를 하나의 문자열로 변환합니다.\n",
    "\n",
    "```\n",
    "a = 'nice'\n",
    "b = 'day!'\n",
    "print(a+b)\n",
    "```\n"
   ]
  },
  {
   "cell_type": "code",
   "execution_count": 40,
   "metadata": {
    "colab": {
     "base_uri": "https://localhost:8080/"
    },
    "id": "--dLtQdXKSb2",
    "outputId": "f9fb696d-1b0c-4299-f5fe-64f644909832"
   },
   "outputs": [
    {
     "name": "stdout",
     "output_type": "stream",
     "text": [
      "niceday!\n"
     ]
    }
   ],
   "source": [
    "a = 'nice'\n",
    "b = 'day!'\n",
    "print(a+b)"
   ]
  },
  {
   "cell_type": "markdown",
   "metadata": {
    "id": "kPmXu9HrKkak"
   },
   "source": [
    "#### **곱하기**\n",
    "\n",
    "* `a*b` 문자열 `a`를 정수 `b`번 반복합니다. \n",
    "\n",
    "```\n",
    "a = 'nice'\n",
    "b = 'day!'\n",
    "print(a*3+b)\n",
    "```"
   ]
  },
  {
   "cell_type": "code",
   "execution_count": 46,
   "metadata": {
    "colab": {
     "base_uri": "https://localhost:8080/"
    },
    "id": "j029NDxLKjNQ",
    "outputId": "7223a995-7772-4b0a-8b47-56f95edb674a"
   },
   "outputs": [
    {
     "name": "stdout",
     "output_type": "stream",
     "text": [
      "niceniceniceday!\n"
     ]
    }
   ],
   "source": [
    "a = 'nice'\n",
    "b = 'day!'\n",
    "print(a*3+b)"
   ]
  },
  {
   "cell_type": "markdown",
   "metadata": {
    "id": "TqG0SPsMKybG"
   },
   "source": [
    "### (6) 문자열 메서드\n",
    "\n",
    "\n",
    "아래 표와 같이 문자열 메서드는 아주 다양합니다. 여기서는 자주 쓰이는 몇가지 함수만 간단히 배워보도록 합니다. 만약 코드를 작성하면서 더 다양한 문자열 메서드가 필요할 경우엔 표를 참고하고 해당 함수를 검색해보고 사용방법을 익혀가는 것도 좋습니다.\n",
    "\n",
    "|종류|함수|\n",
    "|--|--|\n",
    "|string calculation| `len()`, `min()`, `max()`, `count()`|\n",
    "|encoding/decoding| `encode()`, `decode()`|\n",
    "|string search|`startswith()`, `endswith()`, `find()`, `rfind()`, `index()`, `rindex()`|\n",
    "|number/character|`isalnum()`, `isalpha()`, `isdigit()`, `isnumeric()`, `isdecimal()`|\n",
    "|lower/upper| `islower()`, `isupper()`, `lower()`, `upper()`, `swapcase()`, `istitle()`, `title()`, `capitalize()`|\n",
    "|space/strip| `isstrip()`, `rstrip()`, `strip()`, `isspace()`, `center()`|\n",
    "|split/ join / fill | `split()`, `splitlines()`, `replace()`, `join()`, `zfill()`, `ljust()`, `rjust()`|\n"
   ]
  },
  {
   "cell_type": "markdown",
   "metadata": {
    "id": "ubTi__L8K6dR"
   },
   "source": [
    "#### **String calculation**\n",
    "\n",
    "* `len(x)` : 문자열 `x`의 **길이**를 반환합니다.\n",
    "\n",
    "```\n",
    "x  = 'abcde'\n",
    "print(len(x))\n",
    "```\n"
   ]
  },
  {
   "cell_type": "code",
   "execution_count": 47,
   "metadata": {
    "colab": {
     "base_uri": "https://localhost:8080/"
    },
    "id": "33I4_rM3Ktv1",
    "outputId": "267a5f9a-104e-42bf-ff6d-6ded1b869434"
   },
   "outputs": [
    {
     "name": "stdout",
     "output_type": "stream",
     "text": [
      "5\n"
     ]
    }
   ],
   "source": [
    "x  = 'abcde'\n",
    "print(len(x))"
   ]
  },
  {
   "cell_type": "markdown",
   "metadata": {
    "id": "0xOIdn0SK-vM"
   },
   "source": [
    "* `max(x)` : 문자열 `x`의 **최대값**을 반환합니다.\n",
    "\n",
    "\n",
    "문자열의 정렬 순서는 **기호-숫자-대문자-소문자** 입니다. 먼저 정렬 되는 문자가 최소값으로, 나중에 정렬되는 값이 최대값이 됩니다.\n",
    "\n",
    "\n",
    "```\n",
    "x  = 'abcde'\n",
    "print(max(x))\n",
    "```"
   ]
  },
  {
   "cell_type": "code",
   "execution_count": 48,
   "metadata": {
    "colab": {
     "base_uri": "https://localhost:8080/"
    },
    "id": "KbxFJGLbK9Rn",
    "outputId": "26cc0454-0a7a-44df-b0da-b4e0cf4f529f"
   },
   "outputs": [
    {
     "name": "stdout",
     "output_type": "stream",
     "text": [
      "e\n"
     ]
    }
   ],
   "source": [
    "x  = 'abcde'\n",
    "print(max(x))"
   ]
  },
  {
   "cell_type": "markdown",
   "metadata": {
    "id": "9-mHMeV2NQvv"
   },
   "source": [
    "#### **String search**\n",
    "\n",
    "* `x.startswith(w)`:  문자열 `x`가 특정 문자 `w`로 **시작되는지** 여부를 확인합니다.\n",
    "\n",
    "```\n",
    "a = 'abcde'\n",
    "print(a.startswith('abc'))\n",
    "```\n"
   ]
  },
  {
   "cell_type": "code",
   "execution_count": 49,
   "metadata": {
    "colab": {
     "base_uri": "https://localhost:8080/"
    },
    "id": "2jJJRswKNSaZ",
    "outputId": "ba42872e-4cec-46a2-bdd2-e912216724cd"
   },
   "outputs": [
    {
     "name": "stdout",
     "output_type": "stream",
     "text": [
      "True\n"
     ]
    }
   ],
   "source": [
    "a = 'abcde'\n",
    "print(a.startswith('abc'))"
   ]
  },
  {
   "cell_type": "markdown",
   "metadata": {
    "id": "BkimuFv2NSeV"
   },
   "source": [
    "* `x.startswith(w)`:  문자열 `x`가 특정 문자 `w`로 **끝나는지 **여부를 확인합니다.\n",
    "\n",
    "```\n",
    "a = 'abcde'\n",
    "print(a.endswith('abc'))\n",
    "```\n"
   ]
  },
  {
   "cell_type": "code",
   "execution_count": 50,
   "metadata": {
    "colab": {
     "base_uri": "https://localhost:8080/"
    },
    "id": "o7cggDDmNM2l",
    "outputId": "05abee8f-6cd2-4d0c-89cd-97bc56c4efa9"
   },
   "outputs": [
    {
     "name": "stdout",
     "output_type": "stream",
     "text": [
      "False\n"
     ]
    }
   ],
   "source": [
    "a = 'abcde'\n",
    "print(a.endswith('abc'))"
   ]
  },
  {
   "cell_type": "markdown",
   "metadata": {
    "id": "P9dFMBGmNc_Q"
   },
   "source": [
    "#### **Lower/upper**\n",
    "\n",
    "* `x.lower()` : 문자열 `x`의 모든 알파벳을 **소문자**로 변환합니다.\n",
    "\n",
    "```\n",
    "a = 'ABCDE'\n",
    "print(a.lower())\n",
    "```"
   ]
  },
  {
   "cell_type": "code",
   "execution_count": 51,
   "metadata": {
    "colab": {
     "base_uri": "https://localhost:8080/"
    },
    "id": "v-hdqCgUNXDe",
    "outputId": "bb1cc2e3-f4ea-491f-a07b-786466f0a9bc"
   },
   "outputs": [
    {
     "name": "stdout",
     "output_type": "stream",
     "text": [
      "abcde\n"
     ]
    }
   ],
   "source": [
    "a = 'ABCDE'\n",
    "print(a.lower())"
   ]
  },
  {
   "cell_type": "markdown",
   "metadata": {
    "id": "WVWQ5PVSNhcQ"
   },
   "source": [
    "* `x.upper()` : 문자열 `x`의 모든 알파벳을 **대문자**로 변환합니다.\n",
    "\n",
    "```\n",
    "a = 'abcde'\n",
    "print(a.upper())\n",
    "```"
   ]
  },
  {
   "cell_type": "code",
   "execution_count": 52,
   "metadata": {
    "colab": {
     "base_uri": "https://localhost:8080/"
    },
    "id": "bQPMKC2tNgbF",
    "outputId": "48f113af-399d-40b4-fdce-6cee48f2199f"
   },
   "outputs": [
    {
     "name": "stdout",
     "output_type": "stream",
     "text": [
      "ABCDE\n"
     ]
    }
   ],
   "source": [
    "a = 'abcde'\n",
    "print(a.upper())"
   ]
  },
  {
   "cell_type": "markdown",
   "metadata": {
    "id": "FMYVrryXNkfm"
   },
   "source": [
    "* `x.capitalize()` : 문자열 `x`의 **첫글자**를 **대문자**로 변환합니다.\n",
    "\n",
    "```\n",
    "a = 'abcde'\n",
    "print(a.capitalize())\n",
    "```"
   ]
  },
  {
   "cell_type": "code",
   "execution_count": 53,
   "metadata": {
    "colab": {
     "base_uri": "https://localhost:8080/"
    },
    "id": "49oaOV42NjiH",
    "outputId": "ade974b7-ba49-40ca-830a-4e8063ccf42d"
   },
   "outputs": [
    {
     "name": "stdout",
     "output_type": "stream",
     "text": [
      "Abcde\n"
     ]
    }
   ],
   "source": [
    "a = 'abcde'\n",
    "print(a.capitalize())"
   ]
  },
  {
   "cell_type": "markdown",
   "metadata": {
    "id": "9XBv4jlpNoTe"
   },
   "source": [
    "#### **split/join/replace**\n",
    "\n"
   ]
  },
  {
   "cell_type": "markdown",
   "metadata": {
    "id": "8wuaAaywN5hP"
   },
   "source": [
    "* `x.split(sep=w)` : 문자열 `x`를 문자열 `w` 를 기준으로 분할하여 리스트 형태로 반환합니다. `sep` 의 디폴트 값은 '` `' (공백) 입니다.\n",
    "\n",
    "이 때 `리스트` 라는 타입은 아직 배우지 않았습니다. 파이썬의 여러가지 자료형 중 하나이며 이에 대한 자세한 내용은 다음 시간에 배우도록 합니다. \n",
    "\n",
    "```\n",
    "a ='nice day!'\n",
    "print(a.split())\n",
    "```"
   ]
  },
  {
   "cell_type": "code",
   "execution_count": 54,
   "metadata": {
    "colab": {
     "base_uri": "https://localhost:8080/"
    },
    "id": "POE--Jr0NnaF",
    "outputId": "6aafc4eb-3d20-4d34-cc5d-4b2d9f264b6e"
   },
   "outputs": [
    {
     "name": "stdout",
     "output_type": "stream",
     "text": [
      "['nice', 'day!']\n"
     ]
    }
   ],
   "source": [
    "a ='nice day!'\n",
    "print(a.split())"
   ]
  },
  {
   "cell_type": "markdown",
   "metadata": {
    "id": "v66Jjj_AN6tG"
   },
   "source": [
    "* `w.join(l)` : 리스트 `l`의 값들을 문자열로 변환합니다. 변환 시 값 사이에 문자열 `w`를 끼어 넣습니다.\n",
    "\n",
    "```\n",
    "l = ['nice', 'day!']\n",
    "print(' '.join(a))\n",
    "```"
   ]
  },
  {
   "cell_type": "code",
   "execution_count": 57,
   "metadata": {
    "colab": {
     "base_uri": "https://localhost:8080/"
    },
    "id": "qca8pvnfN-kN",
    "outputId": "be7ad967-7c20-4b12-be14-091dfd2f7be0"
   },
   "outputs": [
    {
     "name": "stdout",
     "output_type": "stream",
     "text": [
      "n i c e   d a y !\n"
     ]
    }
   ],
   "source": [
    "l = ['nice', 'day!']\n",
    "print(' '.join(a))"
   ]
  },
  {
   "cell_type": "markdown",
   "metadata": {
    "id": "qEtziwNZN9_u"
   },
   "source": [
    "* `a.replace(w1, w2)` :  문자열 `a` 에 포함된 문자열 `w1`을 새로운 문자열 `w2`로 변경합니다. \n",
    "\n",
    "```\n",
    "a = 'nice day!'\n",
    "print(a.replace('nice', 'good'))\n",
    "```"
   ]
  },
  {
   "cell_type": "code",
   "execution_count": 58,
   "metadata": {
    "colab": {
     "base_uri": "https://localhost:8080/"
    },
    "id": "cc0zT0VJNr7H",
    "outputId": "5b924e8d-3ffd-44cf-e2bc-7b356cbb059b"
   },
   "outputs": [
    {
     "name": "stdout",
     "output_type": "stream",
     "text": [
      "good day!\n"
     ]
    }
   ],
   "source": [
    "a = 'nice day!'\n",
    "print(a.replace('nice', 'good'))"
   ]
  },
  {
   "cell_type": "markdown",
   "metadata": {
    "id": "JBwe3N40eSi9"
   },
   "source": []
  },
  {
   "cell_type": "markdown",
   "metadata": {
    "id": "S0m_rIN5eKRK"
   },
   "source": [
    "### (7) 정렬"
   ]
  },
  {
   "cell_type": "code",
   "execution_count": 92,
   "metadata": {
    "colab": {
     "base_uri": "https://localhost:8080/",
     "height": 35
    },
    "id": "7OctFdAdd9__",
    "outputId": "3a9b97d9-0272-4b87-fe17-d9ac8856a6d9"
   },
   "outputs": [
    {
     "data": {
      "application/vnd.google.colaboratory.intrinsic+json": {
       "type": "string"
      },
      "text/plain": [
       "'hi        '"
      ]
     },
     "execution_count": 92,
     "metadata": {},
     "output_type": "execute_result"
    }
   ],
   "source": [
    "f'{\"hi\":<10}'"
   ]
  },
  {
   "cell_type": "code",
   "execution_count": 93,
   "metadata": {
    "colab": {
     "base_uri": "https://localhost:8080/",
     "height": 35
    },
    "id": "2gQPfgVpO4cU",
    "outputId": "9ec62a94-f034-435e-9855-04c2a06f0af0"
   },
   "outputs": [
    {
     "data": {
      "application/vnd.google.colaboratory.intrinsic+json": {
       "type": "string"
      },
      "text/plain": [
       "'    hi    '"
      ]
     },
     "execution_count": 93,
     "metadata": {},
     "output_type": "execute_result"
    }
   ],
   "source": [
    "f'{\"hi\":^10}'"
   ]
  },
  {
   "cell_type": "markdown",
   "metadata": {
    "id": "cQuI0n7Dei0V"
   },
   "source": [
    "### (8) 공백채우기"
   ]
  },
  {
   "cell_type": "code",
   "execution_count": 94,
   "metadata": {
    "colab": {
     "base_uri": "https://localhost:8080/",
     "height": 35
    },
    "id": "RL6P9d3LeiSR",
    "outputId": "c579c85e-0f03-4a1b-c0ae-e3a7d3cd060a"
   },
   "outputs": [
    {
     "data": {
      "application/vnd.google.colaboratory.intrinsic+json": {
       "type": "string"
      },
      "text/plain": [
       "'====hi===='"
      ]
     },
     "execution_count": 94,
     "metadata": {},
     "output_type": "execute_result"
    }
   ],
   "source": [
    "f'{\"hi\":=^10}'"
   ]
  },
  {
   "cell_type": "code",
   "execution_count": 96,
   "metadata": {
    "colab": {
     "base_uri": "https://localhost:8080/",
     "height": 35
    },
    "id": "8fc8sU0Meqku",
    "outputId": "937a719f-7f23-48b1-b942-6792d49c0859"
   },
   "outputs": [
    {
     "data": {
      "application/vnd.google.colaboratory.intrinsic+json": {
       "type": "string"
      },
      "text/plain": [
       "'hi!!!!!!!!'"
      ]
     },
     "execution_count": 96,
     "metadata": {},
     "output_type": "execute_result"
    }
   ],
   "source": [
    "f'{\"hi\":!<10}'"
   ]
  },
  {
   "cell_type": "markdown",
   "metadata": {
    "id": "b_McohvleqOj"
   },
   "source": []
  },
  {
   "cell_type": "markdown",
   "metadata": {
    "id": "8x1cuwCDOE6N"
   },
   "source": [
    "## 문제풀이\n",
    "---\n"
   ]
  },
  {
   "cell_type": "markdown",
   "metadata": {
    "id": "ZRBYoVIVOFiZ"
   },
   "source": [
    "**예제 01**\n",
    "\n",
    "아래 문장을 출력하는 코드를 작성하세요\n",
    "\n",
    "```\n",
    "/menu/ \"Americano\" : 1000\n",
    "```\n"
   ]
  },
  {
   "cell_type": "code",
   "execution_count": 59,
   "metadata": {
    "colab": {
     "base_uri": "https://localhost:8080/"
    },
    "id": "MAVicogJOBj9",
    "outputId": "330f1bdc-316c-4e19-ffa1-5422cc9644da"
   },
   "outputs": [
    {
     "name": "stdout",
     "output_type": "stream",
     "text": [
      "/menu/ \"Americano\" : 1000\n"
     ]
    }
   ],
   "source": [
    "print('/menu/ \"Americano\" : 1000')"
   ]
  },
  {
   "cell_type": "markdown",
   "metadata": {
    "id": "XiTpBd3EOI29"
   },
   "source": [
    "**예제 02**\n",
    "\n",
    "아래 문장을 출력하는 코드를 **이스케이프 코드**를 사용하여 작성하세요\n",
    "\n",
    "```\n",
    "/menu/\n",
    "\"Americano\" : 1000\n",
    "\"Latte\" : 2000\n",
    "\"Ade\" : 2500\n",
    "```"
   ]
  },
  {
   "cell_type": "code",
   "execution_count": 60,
   "metadata": {
    "colab": {
     "base_uri": "https://localhost:8080/"
    },
    "id": "hQWq7giVOLDN",
    "outputId": "00bc1a42-63ea-477d-c8f2-78f900daac1b"
   },
   "outputs": [
    {
     "name": "stdout",
     "output_type": "stream",
     "text": [
      "/menu/\n",
      "\"Americano\" : 1000\n",
      "\"Latte\" : 2000\n",
      "\"Ade\" : 2500\n"
     ]
    }
   ],
   "source": [
    "print(\"/menu/\\n\\\"Americano\\\" : 1000\\n\\\"Latte\\\" : 2000\\n\\\"Ade\\\" : 2500\")"
   ]
  },
  {
   "cell_type": "markdown",
   "metadata": {
    "id": "TL9BXZKdOJ2R"
   },
   "source": [
    "**예제 03**\n",
    "\n",
    "아래 문장을 출력하는 코드를 이스케이프 코드를 **사용하지 않고** 작성하세요\n",
    "\n",
    "```\n",
    "/menu/\n",
    "\"Americano\" : 1000\n",
    "\"Latte\" : 2000\n",
    "\"Ade\" : 2500\n",
    "```"
   ]
  },
  {
   "cell_type": "code",
   "execution_count": 61,
   "metadata": {
    "colab": {
     "base_uri": "https://localhost:8080/"
    },
    "id": "20X88hqdOLYF",
    "outputId": "8d1f4853-0d62-48f6-cf6d-974f79606c33"
   },
   "outputs": [
    {
     "name": "stdout",
     "output_type": "stream",
     "text": [
      "\n",
      "/menu/\n",
      "\"Americano\" : 1000\n",
      "\"Latte\" : 2000\n",
      "\"Ade\" : 2500\n",
      "\n"
     ]
    }
   ],
   "source": [
    "print('''\n",
    "/menu/\n",
    "\"Americano\" : 1000\n",
    "\"Latte\" : 2000\n",
    "\"Ade\" : 2500\n",
    "'''\n",
    ")"
   ]
  },
  {
   "cell_type": "markdown",
   "metadata": {
    "id": "6Lhqf_OwOMll"
   },
   "source": [
    "**예제 04**\n",
    "\n",
    "변수 `num`과 `menu`가 아래와 같이 바인딩 되어 있습니다. **문자열 연산**을 이용해서 코드를 작성하세요\n",
    "\n",
    "```\n",
    ">> num = 3\n",
    ">> menu = americano\n",
    ">> # 코드작성\n",
    "3 americano please.\n",
    "```"
   ]
  },
  {
   "cell_type": "code",
   "execution_count": 65,
   "metadata": {
    "colab": {
     "base_uri": "https://localhost:8080/"
    },
    "id": "sZpNXFJ9ONMf",
    "outputId": "a780650c-11d7-4865-92f8-817293935b5c"
   },
   "outputs": [
    {
     "name": "stdout",
     "output_type": "stream",
     "text": [
      "3 agaricano please\n"
     ]
    }
   ],
   "source": [
    "num=3\n",
    "menu = \"agaricano\"\n",
    "print(str(num),menu,\"please\")"
   ]
  },
  {
   "cell_type": "markdown",
   "metadata": {
    "id": "zh2HpYNEONgY"
   },
   "source": [
    "**예제 05**\n",
    "\n",
    "변수 `num`과 `menu`가 아래와 같이 바인딩 되어 있습니다. **`%` 포맷팅**을 이용해서 코드를 작성하세요\n",
    "\n",
    "```\n",
    ">> num = 3\n",
    ">> menu = americano\n",
    ">> # 코드작성\n",
    "3 americano please.\n",
    "```"
   ]
  },
  {
   "cell_type": "code",
   "execution_count": 66,
   "metadata": {
    "colab": {
     "base_uri": "https://localhost:8080/"
    },
    "id": "NA-xF7dROPo9",
    "outputId": "0f7513c9-0b3b-4a6c-ef7b-febbb1e53df6"
   },
   "outputs": [
    {
     "name": "stdout",
     "output_type": "stream",
     "text": [
      "3 agaricano please.\n"
     ]
    }
   ],
   "source": [
    "num=3\n",
    "menu = \"agaricano\"\n",
    "print(\"%s %s please.\"%(num, menu))"
   ]
  },
  {
   "cell_type": "markdown",
   "metadata": {
    "id": "XQQ4qM7XORNP"
   },
   "source": [
    "**예제 06**\n",
    "\n",
    "`예제 05` 문제를  **`.format()` 포맷팅** 을 이용해서 코드를 작성하세요\n"
   ]
  },
  {
   "cell_type": "code",
   "execution_count": 67,
   "metadata": {
    "colab": {
     "base_uri": "https://localhost:8080/"
    },
    "id": "7swQ-a-COWWm",
    "outputId": "fc84bd03-49cd-4d86-9551-afee99530214"
   },
   "outputs": [
    {
     "name": "stdout",
     "output_type": "stream",
     "text": [
      "3 agaricano please.\n"
     ]
    }
   ],
   "source": [
    "num=3\n",
    "menu = \"agaricano\"\n",
    "print(\"{} {} please.\".format(num, menu))"
   ]
  },
  {
   "cell_type": "markdown",
   "metadata": {
    "id": "aH1WhRrtOYqP"
   },
   "source": [
    "**예제 07**\n",
    "\n",
    "`예제 05` 문제를  **`f-string` 문법** 을 이용해서 코드를 작성하세요\n"
   ]
  },
  {
   "cell_type": "code",
   "execution_count": 68,
   "metadata": {
    "colab": {
     "base_uri": "https://localhost:8080/"
    },
    "id": "Srb82g7TOYqQ",
    "outputId": "ae23a9a1-e47f-49d6-b256-244df8cc1997"
   },
   "outputs": [
    {
     "name": "stdout",
     "output_type": "stream",
     "text": [
      "3 agaricano please.\n"
     ]
    }
   ],
   "source": [
    "num=3\n",
    "menu = \"agaricano\"\n",
    "print(f\"{num} {menu} please.\")"
   ]
  },
  {
   "cell_type": "markdown",
   "metadata": {
    "id": "QR5ZQDJDOiQ9"
   },
   "source": [
    "**예제 08**\n",
    "\n",
    "다음 코드를 실행해보세요. 오류가 나는지 쓰고, 그 이유를 서술하세요.\n",
    "\n",
    "```\n",
    "color = 'red'\n",
    "w = '%i apples'%color\n",
    "print(w)\n",
    "```"
   ]
  },
  {
   "cell_type": "code",
   "execution_count": 73,
   "metadata": {
    "colab": {
     "base_uri": "https://localhost:8080/",
     "height": 236
    },
    "id": "YbRl_5dhOizV",
    "outputId": "7a0fc607-5e37-4b73-ebaa-dce029cd1d84"
   },
   "outputs": [
    {
     "name": "stdout",
     "output_type": "stream",
     "text": [
      "red apples\n"
     ]
    },
    {
     "ename": "TypeError",
     "evalue": "ignored",
     "output_type": "error",
     "traceback": [
      "\u001b[0;31m---------------------------------------------------------------------------\u001b[0m",
      "\u001b[0;31mTypeError\u001b[0m                                 Traceback (most recent call last)",
      "\u001b[0;32m<ipython-input-73-b625784b91ba>\u001b[0m in \u001b[0;36m<module>\u001b[0;34m()\u001b[0m\n\u001b[1;32m      4\u001b[0m \u001b[0;34m\u001b[0m\u001b[0m\n\u001b[1;32m      5\u001b[0m \u001b[0mcolor2\u001b[0m \u001b[0;34m=\u001b[0m \u001b[0;34m'red'\u001b[0m\u001b[0;34m\u001b[0m\u001b[0;34m\u001b[0m\u001b[0m\n\u001b[0;32m----> 6\u001b[0;31m \u001b[0mw2\u001b[0m \u001b[0;34m=\u001b[0m \u001b[0;34m'%i apples'\u001b[0m\u001b[0;34m%\u001b[0m\u001b[0mcolor2\u001b[0m\u001b[0;34m\u001b[0m\u001b[0;34m\u001b[0m\u001b[0m\n\u001b[0m\u001b[1;32m      7\u001b[0m \u001b[0mprint\u001b[0m\u001b[0;34m(\u001b[0m\u001b[0mw2\u001b[0m\u001b[0;34m)\u001b[0m\u001b[0;34m\u001b[0m\u001b[0;34m\u001b[0m\u001b[0m\n",
      "\u001b[0;31mTypeError\u001b[0m: %i format: a number is required, not str"
     ]
    }
   ],
   "source": [
    "color1 = 'red'\n",
    "w1 = '%s apples'%color1\n",
    "print(w1)\n",
    "\n",
    "color2 = 'red'\n",
    "w2 = '%i apples'%color2\n",
    "print(w2)\n",
    "\n",
    "## \"red\"라는 문자를 받을 %s 가 와야한다"
   ]
  },
  {
   "cell_type": "markdown",
   "metadata": {
    "id": "VQO77CJPOv_y"
   },
   "source": [
    "**예제 09**\n",
    "\n",
    "다음 코드를 실행해보세요. 오류가 나는지 쓰고, 그 이유를 서술하세요.\n",
    "\n",
    "```\n",
    "num = 5\n",
    "w = '%f apples'%num\n",
    "print(w)\n",
    "```"
   ]
  },
  {
   "cell_type": "code",
   "execution_count": 74,
   "metadata": {
    "colab": {
     "base_uri": "https://localhost:8080/"
    },
    "id": "feupkLYHOz9M",
    "outputId": "171759b3-75c1-44e1-ced3-c620983bb93f"
   },
   "outputs": [
    {
     "name": "stdout",
     "output_type": "stream",
     "text": [
      "5.000000 apples\n"
     ]
    }
   ],
   "source": [
    "num = 5\n",
    "w = '%f apples'%num\n",
    "print(w)\n",
    "\n",
    "# 실수는 정수를 받을수있으므로 오류X"
   ]
  },
  {
   "cell_type": "markdown",
   "metadata": {
    "id": "2GYjJcAuRn_n"
   },
   "source": [
    "\n",
    "**예제 10**\n",
    "\n",
    "`a`가 바인딩한 문자열의 첫번째와 마지막 문자를 출력하세요\n",
    "```\n",
    "a = 'Birthday'\n",
    "```\n"
   ]
  },
  {
   "cell_type": "code",
   "execution_count": 81,
   "metadata": {
    "colab": {
     "base_uri": "https://localhost:8080/"
    },
    "id": "Q5gjeqAsRocT",
    "outputId": "bd45dc5a-20cf-44cd-e946-d36329187950"
   },
   "outputs": [
    {
     "name": "stdout",
     "output_type": "stream",
     "text": [
      "B y\n"
     ]
    }
   ],
   "source": [
    "a = 'Birthday'\n",
    "print(a[0],a[-1])"
   ]
  },
  {
   "cell_type": "markdown",
   "metadata": {
    "id": "iMrG4iPURpm6"
   },
   "source": [
    "**예제 11**\n",
    "\n",
    "`a`가 바인딩한 문자열의 뒤 3자리만 출력하세요\n",
    "\n",
    "```\n",
    "a = 'Birthday'\n",
    "```\n"
   ]
  },
  {
   "cell_type": "code",
   "execution_count": 82,
   "metadata": {
    "colab": {
     "base_uri": "https://localhost:8080/"
    },
    "id": "00VaouHfRqG8",
    "outputId": "bfcfb548-7150-4ae5-8425-dcffe0109209"
   },
   "outputs": [
    {
     "name": "stdout",
     "output_type": "stream",
     "text": [
      "day\n"
     ]
    }
   ],
   "source": [
    "print(a[-3:])"
   ]
  },
  {
   "cell_type": "markdown",
   "metadata": {
    "id": "Bhh_pmZ4RrVE"
   },
   "source": [
    "**예제 12**\n",
    "\n",
    "`a`가 바인딩한 문자열에서 `2`만 출력하세요\n",
    "\n",
    "\n",
    "```\n",
    "a = '123123123'\n",
    "```"
   ]
  },
  {
   "cell_type": "code",
   "execution_count": 88,
   "metadata": {
    "colab": {
     "base_uri": "https://localhost:8080/"
    },
    "id": "i_fbxMUiRry3",
    "outputId": "44c1d631-caf2-4a22-d9b4-0a9d51a57900"
   },
   "outputs": [
    {
     "name": "stdout",
     "output_type": "stream",
     "text": [
      "222\n"
     ]
    }
   ],
   "source": [
    "a = '123123123'\n",
    "print(a[1::3])"
   ]
  },
  {
   "cell_type": "markdown",
   "metadata": {
    "id": "qmqSfVlgRr6O"
   },
   "source": [
    "**예제 13**\n",
    "\n",
    "문자열을 입력하면 거꾸로 출력하는 코드를 작성하세요\n",
    "\n",
    "```\n",
    ">> Enter sentence : hello\n",
    "he said, olleh\n",
    "```"
   ]
  },
  {
   "cell_type": "code",
   "execution_count": 98,
   "metadata": {
    "colab": {
     "base_uri": "https://localhost:8080/"
    },
    "id": "ft49uqD3Rt69",
    "outputId": "d224a10e-e491-4033-ce0d-bf1b2a3579e8"
   },
   "outputs": [
    {
     "name": "stdout",
     "output_type": "stream",
     "text": [
      "Enter sentence : hello\n",
      "he said olleh\n"
     ]
    }
   ],
   "source": [
    "a = input(\"Enter sentence : \")\n",
    "print(f\"he said {a[::-1]}\")"
   ]
  },
  {
   "cell_type": "markdown",
   "metadata": {
    "id": "zBsIZKl3O3XF"
   },
   "source": [
    "**예제 14**\n",
    "\n",
    "다음과 같이  `input()` 함수를 이용해 변수를 적용하여 문장을 출력하는 코드를 작성하세요\n",
    "\n",
    "* 예시 1\n",
    "\n",
    "```\n",
    ">> how's the day? : nice\n",
    "It's nice day!\n",
    "```\n",
    "\n",
    "* 예시 2\n",
    "\n",
    "```\n",
    ">> how's the day? : sunny\n",
    "It's sunny day!\n",
    "```"
   ]
  },
  {
   "cell_type": "code",
   "execution_count": 99,
   "metadata": {
    "colab": {
     "base_uri": "https://localhost:8080/"
    },
    "id": "PnbiCZaUe8is",
    "outputId": "50bd5bb6-1ea3-4269-f596-82f14cbb7485"
   },
   "outputs": [
    {
     "name": "stdout",
     "output_type": "stream",
     "text": [
      "how's the day? : fucking awesome\n",
      "It's fucking awesome day!\n"
     ]
    }
   ],
   "source": [
    "day = input(\"how's the day? : \")\n",
    "print(f\"It's {day} day!\")"
   ]
  },
  {
   "cell_type": "markdown",
   "metadata": {
    "id": "MbDaWjEbRxgv"
   },
   "source": [
    "**예제 15**\n",
    "\n",
    "문자열을 입력하면 끝에서 2개 문자만 출력하는 \n",
    "코드를 작성하세요\n",
    "\n",
    "* 예시 1\n",
    "\n",
    "```{.python}\n",
    ">> Enter sentence : hello\n",
    "last 2  : lo\n",
    "```\n",
    "\n",
    "* 예시 2 \n",
    "\n",
    "```\n",
    ">> Enter sentence : nice day!\n",
    "last 2 : y!\n",
    "```"
   ]
  },
  {
   "cell_type": "code",
   "execution_count": 100,
   "metadata": {
    "colab": {
     "base_uri": "https://localhost:8080/"
    },
    "id": "cc3DyfJZfttR",
    "outputId": "ef2ee75d-7c7a-435d-82ff-45f6b8cf544c"
   },
   "outputs": [
    {
     "name": "stdout",
     "output_type": "stream",
     "text": [
      "Enter sentence : fuck\n",
      "last 2 ck\n"
     ]
    }
   ],
   "source": [
    "a = input(\"Enter sentence : \")\n",
    "print(f\"last 2 {a[-2:]}\")"
   ]
  },
  {
   "cell_type": "markdown",
   "metadata": {
    "id": "WHv2vcFKR9FU"
   },
   "source": [
    "**예제 16**\n",
    "\n",
    "아래 코드 결과를 예상해보고 직접 실행해보세요.\n",
    "\n",
    "```\n",
    "a = ''\n",
    "a = a+'what'\n",
    "a = a+'?'\n",
    "print(a)\n",
    "```"
   ]
  },
  {
   "cell_type": "code",
   "execution_count": 101,
   "metadata": {
    "colab": {
     "base_uri": "https://localhost:8080/"
    },
    "id": "M-fdJu1gRx9j",
    "outputId": "ab0c6fd3-b657-4730-eade-b9ca3e8b8682"
   },
   "outputs": [
    {
     "name": "stdout",
     "output_type": "stream",
     "text": [
      "what?\n"
     ]
    }
   ],
   "source": [
    "a = ''\n",
    "a = a+'what'\n",
    "a = a+'?'\n",
    "print(a)"
   ]
  },
  {
   "cell_type": "markdown",
   "metadata": {
    "id": "49-zJvQaSABn"
   },
   "source": [
    "**예제 17**\n",
    "\n",
    "아래 바인딩된 값 `a`, `b`를 이용해 아래와 같이 출력해보세요(**문자열 연산**을 이용하세요)\n",
    "```\n",
    ">> a = 'me'\n",
    ">> b = 'you'\n",
    ">> # 코드작성\n",
    "meyouyouyouyouyou\n",
    "```\n"
   ]
  },
  {
   "cell_type": "code",
   "execution_count": 102,
   "metadata": {
    "colab": {
     "base_uri": "https://localhost:8080/"
    },
    "id": "u6XeJo7jSA49",
    "outputId": "7037aff9-71ed-4a99-f112-20dd9420c0ac"
   },
   "outputs": [
    {
     "name": "stdout",
     "output_type": "stream",
     "text": [
      "meyouyouyouyouyou\n"
     ]
    }
   ],
   "source": [
    "a=\"me\"\n",
    "b=\"you\"\n",
    "c=a+b*5\n",
    "print(c)"
   ]
  },
  {
   "cell_type": "markdown",
   "metadata": {
    "id": "-VADZMxcSCgq"
   },
   "source": [
    "\n",
    "**예제 18**\n",
    "\n",
    "아래 바인딩된 값 `a`, `b`를 이용해 아래와 같이 출력해보세요(**문자열 연산**을 이용하세요)\n",
    "```\n",
    ">> a = 'me'\n",
    ">> b = 'you'\n",
    ">> # 코드작성\n",
    "youmeyoumeyoumeyoumeyoumeyoumeyoumeyoume\n",
    "```"
   ]
  },
  {
   "cell_type": "code",
   "execution_count": 103,
   "metadata": {
    "colab": {
     "base_uri": "https://localhost:8080/"
    },
    "id": "mnrvtva0SDI0",
    "outputId": "af72f0bc-bbc3-4ae7-a660-9d61a1324477"
   },
   "outputs": [
    {
     "name": "stdout",
     "output_type": "stream",
     "text": [
      "meyoumeyoumeyoumeyoumeyoumeyoumeyoumeyou\n"
     ]
    }
   ],
   "source": [
    "a=\"me\"\n",
    "b=\"you\"\n",
    "c=(a+b)*8\n",
    "print(c)"
   ]
  },
  {
   "cell_type": "markdown",
   "metadata": {
    "id": "RAxXJ4S4SErN"
   },
   "source": [
    "**예제 19**\n",
    "\n",
    "코드번호는 숫자가 나열된 문자열의 **길이** 곱하기 **최대값**으로 만들어집니다.\n",
    "코드번호를 생성하는 코드를 작성하세요\n",
    "\n",
    "```\n",
    ">> 숫자를 입력하세요 : 123456\n",
    "코드번호는 36 입니다.\n",
    "```"
   ]
  },
  {
   "cell_type": "code",
   "execution_count": 111,
   "metadata": {
    "colab": {
     "base_uri": "https://localhost:8080/"
    },
    "id": "59mTGYRqSFd8",
    "outputId": "01343e81-0d83-43ab-d8d8-588bf7355b05"
   },
   "outputs": [
    {
     "name": "stdout",
     "output_type": "stream",
     "text": [
      "숫자를 입력하세요 : 123456\n",
      "36\n"
     ]
    }
   ],
   "source": [
    "num = input(\"숫자를 입력하세요 : \")\n",
    "code = len(num)*int(max(num))\n",
    "print(code)"
   ]
  },
  {
   "cell_type": "markdown",
   "metadata": {
    "id": "jroYBZMjSGxF"
   },
   "source": [
    "**예제 20**\n",
    "\n",
    "파일들의 이름이 아래와 같이 바인딩 되어 있습니다. 확장자가 파이썬 `.py`로 끝나는 파일인지 확인하는 코드를 작성하세요\n",
    "\n",
    "```\n",
    "a = 'test.py'\n",
    "b = 'train.py`\n",
    "c = 'img.jpg'\n",
    "```\n"
   ]
  },
  {
   "cell_type": "code",
   "execution_count": 121,
   "metadata": {
    "colab": {
     "base_uri": "https://localhost:8080/"
    },
    "id": "XMWt5kqnSHot",
    "outputId": "3241f468-ee42-4141-ab9c-0c64abe73311"
   },
   "outputs": [
    {
     "name": "stdout",
     "output_type": "stream",
     "text": [
      "1번째 단어는 확장자 py입니다\n",
      "2번째 단어는 확장자 py입니다\n"
     ]
    }
   ],
   "source": [
    "a = 'test.py'\n",
    "b = 'train.py'\n",
    "c = 'img.jpg'\n",
    "\n",
    "word = [a,b,c]\n",
    "\n",
    "for i in range(0,3):\n",
    "  if word[i][-2:]==\"py\":\n",
    "    print(f\"{i+1}번째 단어는 확장자 py입니다\")\n",
    "  "
   ]
  },
  {
   "cell_type": "markdown",
   "metadata": {
    "id": "iqBg4JWWSI7Z"
   },
   "source": [
    "**예제 21**\n",
    "\n",
    "아래 문자열을 **대문자**로 변경하세요\n",
    "\n",
    "```\n",
    "a = 'my_little_cat'\n",
    "```"
   ]
  },
  {
   "cell_type": "code",
   "execution_count": 124,
   "metadata": {
    "colab": {
     "base_uri": "https://localhost:8080/",
     "height": 35
    },
    "id": "g09gZVsSSJlE",
    "outputId": "415c2682-43aa-41fb-c97e-bfb44ecf6670"
   },
   "outputs": [
    {
     "data": {
      "application/vnd.google.colaboratory.intrinsic+json": {
       "type": "string"
      },
      "text/plain": [
       "'MY_LITTLE_CAT'"
      ]
     },
     "execution_count": 124,
     "metadata": {},
     "output_type": "execute_result"
    }
   ],
   "source": [
    "a = 'my_little_cat'\n",
    "a.upper()"
   ]
  },
  {
   "cell_type": "markdown",
   "metadata": {
    "id": "PZ880dpkS882"
   },
   "source": [
    "**예제 22**\n",
    "\n",
    "아래 문자열의 **첫글자만 대문자**로 변경하세요\n",
    "\n",
    "\n",
    "```\n",
    "a = 'my_little_cat'\n",
    "\n",
    "```"
   ]
  },
  {
   "cell_type": "code",
   "execution_count": 125,
   "metadata": {
    "colab": {
     "base_uri": "https://localhost:8080/",
     "height": 35
    },
    "id": "V5IPhBgdS9p1",
    "outputId": "89efef0f-d04c-4915-aea7-102cdf50da43"
   },
   "outputs": [
    {
     "data": {
      "application/vnd.google.colaboratory.intrinsic+json": {
       "type": "string"
      },
      "text/plain": [
       "'My_little_cat'"
      ]
     },
     "execution_count": 125,
     "metadata": {},
     "output_type": "execute_result"
    }
   ],
   "source": [
    "a = 'my_little_cat'\n",
    "a.capitalize()"
   ]
  },
  {
   "cell_type": "markdown",
   "metadata": {
    "id": "rW1cjC4KS-ph"
   },
   "source": [
    "**예제 23**\n",
    "\n",
    "금액이 아래와 같이 바인딩되어 있습니다. 쉼표`,`를 **제거 후** `int` 값으로 **변환**하세요\n",
    "\n",
    "```\n",
    "a = '542,322,000'\n",
    "```"
   ]
  },
  {
   "cell_type": "code",
   "execution_count": 128,
   "metadata": {
    "colab": {
     "base_uri": "https://localhost:8080/"
    },
    "id": "9xGbH5aoS_M1",
    "outputId": "634ec6ab-3547-4417-db17-21cff3bec361"
   },
   "outputs": [
    {
     "name": "stdout",
     "output_type": "stream",
     "text": [
      "542322000 <class 'int'>\n"
     ]
    }
   ],
   "source": [
    "a = '542,322,000'\n",
    "a = a.replace(\",\",\"\")\n",
    "a = int(a)\n",
    "print(a,type(a))"
   ]
  },
  {
   "cell_type": "markdown",
   "metadata": {
    "id": "sj2UCAFlTBBR"
   },
   "source": [
    "**예제 24**\n",
    "\n",
    "`a`가 바인딩한 문자열에서 언더바 `_` 기준으로 단어를 나누어 **리스트에 저장**하세요.\n",
    "\n",
    "```\n",
    "a = 'today_is_my_birthday'\n",
    "```\n"
   ]
  },
  {
   "cell_type": "code",
   "execution_count": 129,
   "metadata": {
    "colab": {
     "base_uri": "https://localhost:8080/"
    },
    "id": "PYVbWMYKTBh1",
    "outputId": "263a30d5-5339-45ed-b515-c86ddd6be0f7"
   },
   "outputs": [
    {
     "data": {
      "text/plain": [
       "['today', 'is', 'my', 'birthday']"
      ]
     },
     "execution_count": 129,
     "metadata": {},
     "output_type": "execute_result"
    }
   ],
   "source": [
    "a = 'today_is_my_birthday'\n",
    "\n",
    "a.split(\"_\")"
   ]
  },
  {
   "cell_type": "markdown",
   "metadata": {
    "id": "4dKNxXGsTDDu"
   },
   "source": [
    "**예제 25**\n",
    "\n",
    "휴대폰번호가 문자열로 저장이 되어있습니다. 이를 **번호 형식으로 변환**하는 코드를 작성하세요\n",
    "\n",
    "\n",
    "|번호|번호 형식 변환|\n",
    "|--|--|\n",
    "|'010,1234,5678'|'010-1234-5678'|\n",
    "|'010,3333,3333'|'010-3333-3333'|\n"
   ]
  },
  {
   "cell_type": "code",
   "execution_count": 132,
   "metadata": {
    "colab": {
     "base_uri": "https://localhost:8080/"
    },
    "id": "-FESRkNhTD0E",
    "outputId": "a37b2888-c315-4692-ac57-8174626f702e"
   },
   "outputs": [
    {
     "name": "stdout",
     "output_type": "stream",
     "text": [
      "010-1234-5678 010-3333-3333\n"
     ]
    }
   ],
   "source": [
    "a=\"010,1234,5678\"\n",
    "b=\"010,3333,3333\"\n",
    "\n",
    "ch_a=a.replace(\",\",\"-\")\n",
    "ch_b=b.replace(\",\",\"-\")\n",
    "print(ch_a,ch_b)"
   ]
  },
  {
   "cell_type": "code",
   "execution_count": null,
   "metadata": {
    "id": "X05sc0rzjReZ"
   },
   "outputs": [],
   "source": []
  }
 ],
 "metadata": {
  "colab": {
   "collapsed_sections": [],
   "include_colab_link": true,
   "name": "2-2.파이썬의 자료형_문자열.ipynb",
   "provenance": [],
   "toc_visible": true
  },
  "kernelspec": {
   "display_name": "Python 3 (ipykernel)",
   "language": "python",
   "name": "python3"
  },
  "language_info": {
   "codemirror_mode": {
    "name": "ipython",
    "version": 3
   },
   "file_extension": ".py",
   "mimetype": "text/x-python",
   "name": "python",
   "nbconvert_exporter": "python",
   "pygments_lexer": "ipython3",
   "version": "3.9.7"
  },
  "toc": {
   "base_numbering": 1,
   "nav_menu": {},
   "number_sections": true,
   "sideBar": true,
   "skip_h1_title": false,
   "title_cell": "Table of Contents",
   "title_sidebar": "Contents",
   "toc_cell": false,
   "toc_position": {},
   "toc_section_display": true,
   "toc_window_display": false
  },
  "varInspector": {
   "cols": {
    "lenName": 16,
    "lenType": 16,
    "lenVar": 40
   },
   "kernels_config": {
    "python": {
     "delete_cmd_postfix": "",
     "delete_cmd_prefix": "del ",
     "library": "var_list.py",
     "varRefreshCmd": "print(var_dic_list())"
    },
    "r": {
     "delete_cmd_postfix": ") ",
     "delete_cmd_prefix": "rm(",
     "library": "var_list.r",
     "varRefreshCmd": "cat(var_dic_list()) "
    }
   },
   "types_to_exclude": [
    "module",
    "function",
    "builtin_function_or_method",
    "instance",
    "_Feature"
   ],
   "window_display": false
  }
 },
 "nbformat": 4,
 "nbformat_minor": 1
}
