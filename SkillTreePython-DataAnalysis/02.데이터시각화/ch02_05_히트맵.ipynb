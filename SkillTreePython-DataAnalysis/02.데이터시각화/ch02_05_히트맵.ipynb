{
 "cells": [
  {
   "cell_type": "markdown",
   "metadata": {
    "colab_type": "text",
    "id": "view-in-github"
   },
   "source": [
    "<a href=\"https://colab.research.google.com/github/yebiny/SkillTreePython-DataAnalysis/blob/main/02.%EB%8D%B0%EC%9D%B4%ED%84%B0%EC%8B%9C%EA%B0%81%ED%99%94/ch02_05_%ED%9E%88%ED%8A%B8%EB%A7%B5.ipynb\" target=\"_parent\"><img src=\"https://colab.research.google.com/assets/colab-badge.svg\" alt=\"Open In Colab\"/></a>"
   ]
  },
  {
   "cell_type": "markdown",
   "metadata": {
    "id": "ylXjSLUxXHxm"
   },
   "source": [
    "# Ch02.05. 히트맵\n",
    "\n",
    "---\n",
    "* 날짜: 2022-04-18\n",
    "* 이름: 고민수\n",
    "\n",
    "```\n",
    "import numpy as np\n",
    "import pandas as pd\n",
    "import matplotlib.pyplot as plt\n",
    "import seaborn as sns\n",
    "\n",
    "plt.rcParams['figure.figsize'] = [6, 4]\n",
    "plt.style.use('seaborn-white')\n",
    "sns.set_style('white')\n",
    "\n",
    "```"
   ]
  },
  {
   "cell_type": "code",
   "execution_count": 1,
   "metadata": {
    "id": "TyVLPbux1Yu7"
   },
   "outputs": [],
   "source": [
    "import numpy as np\n",
    "import pandas as pd\n",
    "import matplotlib.pyplot as plt\n",
    "import seaborn as sns\n",
    "\n",
    "sns.set(rc = {\"figure.figsize\" : (15,8)})\n",
    "plt.style.use('ggplot')\n",
    "sns.set_style('darkgrid')\n",
    "plt.rc(\"font\", family=\"Noto Sans KR\") # 한글 폰트 설정\n",
    "plt.rc(\"axes\", unicode_minus=False) # 음수값 깨지는 폰트 설정"
   ]
  },
  {
   "cell_type": "markdown",
   "metadata": {
    "id": "PZjdmAqMd7KW"
   },
   "source": [
    "\n",
    "## **개념정리**\n",
    "---\n",
    "\n",
    "\n"
   ]
  },
  {
   "cell_type": "markdown",
   "metadata": {
    "id": "QzMXKYm0F-CE"
   },
   "source": [
    "### (1) Matplotlib 으로 그리기\n"
   ]
  },
  {
   "cell_type": "markdown",
   "metadata": {
    "id": "vgyHZoxzzMUd"
   },
   "source": [
    "#### | 기본사용\n",
    "\n",
    "```\n",
    "x = [[1,2,3],\n",
    "     [4,1,6],\n",
    "     [7,8,1]]\n",
    "plt.matshow(x, cmap='rainbow')\n",
    "plt.show()\n",
    "```"
   ]
  },
  {
   "cell_type": "code",
   "execution_count": 2,
   "metadata": {
    "id": "mpzm43NH5XOw"
   },
   "outputs": [
    {
     "data": {
      "image/png": "[encoded data removed]",
      "text/plain": [
       "<Figure size 576x576 with 1 Axes>"
      ]
     },
     "metadata": {},
     "output_type": "display_data"
    }
   ],
   "source": [
    "x = [[1,2,3],\n",
    "     [4,1,6],\n",
    "     [7,8,1]]\n",
    "plt.matshow(x, cmap='rainbow')\n",
    "plt.show()"
   ]
  },
  {
   "cell_type": "markdown",
   "metadata": {
    "id": "yBIU5OT2owwY"
   },
   "source": [
    "#### | 컬러바\n",
    "\n",
    "```\n",
    "plt.colorbar(ax, \n",
    "             cmap=None, # 컬러맵\n",
    "             alpha=None, # 투명도\n",
    "             orientation='vertical', # 위치 {'vertical', 'horizontal'}\n",
    "             extend=None,  # 초과값 {'neither', 'both', 'min', 'max'}\n",
    "             shrink = None # 길이 축소\n",
    "             aspect = None # 세로, 가로 비\n",
    "             label=''# 라벨)\n",
    "```"
   ]
  },
  {
   "cell_type": "code",
   "execution_count": null,
   "metadata": {
    "id": "fjkWi3cgo6WP"
   },
   "outputs": [],
   "source": []
  },
  {
   "cell_type": "markdown",
   "metadata": {
    "id": "ijsJi_WpeCK4"
   },
   "source": [
    "### (2) Seaborn 으로 그리기\n",
    "---\n",
    "\n"
   ]
  },
  {
   "cell_type": "markdown",
   "metadata": {
    "id": "du0MMPK9zp5J"
   },
   "source": [
    "#### | 기본사용\n",
    "\n",
    "```\n",
    "sns.heatmap(x)\n",
    "```"
   ]
  },
  {
   "cell_type": "code",
   "execution_count": 3,
   "metadata": {
    "id": "9bzyhc4x8gJ4"
   },
   "outputs": [
    {
     "data": {
      "text/plain": [
       "<AxesSubplot:>"
      ]
     },
     "execution_count": 3,
     "metadata": {},
     "output_type": "execute_result"
    },
    {
     "data": {
      "image/png": "[encoded data removed]",
      "text/plain": [
       "<Figure size 1080x576 with 2 Axes>"
      ]
     },
     "metadata": {},
     "output_type": "display_data"
    }
   ],
   "source": [
    "sns.heatmap(x)"
   ]
  },
  {
   "cell_type": "markdown",
   "metadata": {
    "id": "SworMcXl83Uw"
   },
   "source": [
    "#### | 옵션\n",
    "\n",
    "```\n",
    "seaborn.heatmap(data,\n",
    "                cmap=None, # 컬러맵\n",
    "                annot=None, # 값 표기\n",
    "                fmt='.2g', # 데이터 타입\n",
    "                linewidths=0, # 선 굵기\n",
    "                linecolor='white', # 선 색\n",
    "                cbar=True, # 컬러맵 표기\n",
    "                square=False, # 사이즈 정사각\n",
    "                xticklabels='auto', # x 눈금 라벨 \n",
    "                yticklabels='auto', # y 눈금 라벨\n",
    "                vmin = # 최소값\n",
    "                vmax = # 최대값\n",
    "                ax=None, **kwargs)\n",
    "```"
   ]
  },
  {
   "cell_type": "code",
   "execution_count": 4,
   "metadata": {
    "id": "4hBKbxFC832o"
   },
   "outputs": [
    {
     "data": {
      "text/plain": [
       "<AxesSubplot:>"
      ]
     },
     "execution_count": 4,
     "metadata": {},
     "output_type": "execute_result"
    },
    {
     "data": {
      "image/png": "[encoded data removed]",
      "text/plain": [
       "<Figure size 1080x576 with 1 Axes>"
      ]
     },
     "metadata": {},
     "output_type": "display_data"
    }
   ],
   "source": [
    "sns.heatmap(x,\n",
    "            annot=True,\n",
    "            cmap=\"Reds\",\n",
    "            cbar=False,\n",
    "            linewidth=1,\n",
    "            linecolor=\"k\",\n",
    "            square=True,\n",
    "            xticklabels=[\"a\",\"b\",\"c\"],\n",
    "            yticklabels=[\"00\",\"01\",\"02\"]\n",
    "           )"
   ]
  },
  {
   "cell_type": "markdown",
   "metadata": {
    "id": "GCPmXaIIyLcr"
   },
   "source": [
    "#### | DataFrame 사용\n",
    "---\n",
    "\n"
   ]
  },
  {
   "cell_type": "markdown",
   "metadata": {
    "id": "3cKlgwTJOzBJ"
   },
   "source": [
    "* 데이터 프레임을 만들어 줍니다.\n"
   ]
  },
  {
   "cell_type": "code",
   "execution_count": 13,
   "metadata": {
    "id": "lsCVYrrx-k2G"
   },
   "outputs": [
    {
     "data": {
      "text/html": [
       "<div>\n",
       "<style scoped>\n",
       "    .dataframe tbody tr th:only-of-type {\n",
       "        vertical-align: middle;\n",
       "    }\n",
       "\n",
       "    .dataframe tbody tr th {\n",
       "        vertical-align: top;\n",
       "    }\n",
       "\n",
       "    .dataframe thead th {\n",
       "        text-align: right;\n",
       "    }\n",
       "</style>\n",
       "<table border=\"1\" class=\"dataframe\">\n",
       "  <thead>\n",
       "    <tr style=\"text-align: right;\">\n",
       "      <th></th>\n",
       "      <th>0</th>\n",
       "      <th>1</th>\n",
       "      <th>2</th>\n",
       "    </tr>\n",
       "  </thead>\n",
       "  <tbody>\n",
       "    <tr>\n",
       "      <th>0</th>\n",
       "      <td>1</td>\n",
       "      <td>2</td>\n",
       "      <td>3</td>\n",
       "    </tr>\n",
       "    <tr>\n",
       "      <th>1</th>\n",
       "      <td>4</td>\n",
       "      <td>1</td>\n",
       "      <td>6</td>\n",
       "    </tr>\n",
       "    <tr>\n",
       "      <th>2</th>\n",
       "      <td>7</td>\n",
       "      <td>8</td>\n",
       "      <td>1</td>\n",
       "    </tr>\n",
       "  </tbody>\n",
       "</table>\n",
       "</div>"
      ],
      "text/plain": [
       "   0  1  2\n",
       "0  1  2  3\n",
       "1  4  1  6\n",
       "2  7  8  1"
      ]
     },
     "execution_count": 13,
     "metadata": {},
     "output_type": "execute_result"
    }
   ],
   "source": [
    "df = pd.DataFrame(x)\n",
    "df"
   ]
  },
  {
   "cell_type": "markdown",
   "metadata": {
    "id": "vbYPvUDd1cee"
   },
   "source": [
    "\n",
    "* 데이터프레임에서 기본적으로 플롯을 제공합니다.\n",
    "\n",
    "```\n",
    "df.style.background_gradient()\n",
    "```\n"
   ]
  },
  {
   "cell_type": "code",
   "execution_count": 6,
   "metadata": {
    "id": "g04BF7mq-9xQ"
   },
   "outputs": [
    {
     "data": {
      "text/html": [
       "<style type=\"text/css\">\n",
       "#T_0fcbf_row0_col0, #T_0fcbf_row1_col1, #T_0fcbf_row2_col2 {\n",
       "  background-color: #0b0405;\n",
       "  color: #f1f1f1;\n",
       "}\n",
       "#T_0fcbf_row0_col1 {\n",
       "  background-color: #2e1e3b;\n",
       "  color: #f1f1f1;\n",
       "}\n",
       "#T_0fcbf_row0_col2 {\n",
       "  background-color: #395d9c;\n",
       "  color: #f1f1f1;\n",
       "}\n",
       "#T_0fcbf_row1_col0 {\n",
       "  background-color: #357ba3;\n",
       "  color: #f1f1f1;\n",
       "}\n",
       "#T_0fcbf_row1_col2, #T_0fcbf_row2_col0, #T_0fcbf_row2_col1 {\n",
       "  background-color: #def5e5;\n",
       "  color: #000000;\n",
       "}\n",
       "</style>\n",
       "<table id=\"T_0fcbf_\">\n",
       "  <thead>\n",
       "    <tr>\n",
       "      <th class=\"blank level0\" >&nbsp;</th>\n",
       "      <th class=\"col_heading level0 col0\" >0</th>\n",
       "      <th class=\"col_heading level0 col1\" >1</th>\n",
       "      <th class=\"col_heading level0 col2\" >2</th>\n",
       "    </tr>\n",
       "  </thead>\n",
       "  <tbody>\n",
       "    <tr>\n",
       "      <th id=\"T_0fcbf_level0_row0\" class=\"row_heading level0 row0\" >0</th>\n",
       "      <td id=\"T_0fcbf_row0_col0\" class=\"data row0 col0\" >1</td>\n",
       "      <td id=\"T_0fcbf_row0_col1\" class=\"data row0 col1\" >2</td>\n",
       "      <td id=\"T_0fcbf_row0_col2\" class=\"data row0 col2\" >3</td>\n",
       "    </tr>\n",
       "    <tr>\n",
       "      <th id=\"T_0fcbf_level0_row1\" class=\"row_heading level0 row1\" >1</th>\n",
       "      <td id=\"T_0fcbf_row1_col0\" class=\"data row1 col0\" >4</td>\n",
       "      <td id=\"T_0fcbf_row1_col1\" class=\"data row1 col1\" >1</td>\n",
       "      <td id=\"T_0fcbf_row1_col2\" class=\"data row1 col2\" >6</td>\n",
       "    </tr>\n",
       "    <tr>\n",
       "      <th id=\"T_0fcbf_level0_row2\" class=\"row_heading level0 row2\" >2</th>\n",
       "      <td id=\"T_0fcbf_row2_col0\" class=\"data row2 col0\" >7</td>\n",
       "      <td id=\"T_0fcbf_row2_col1\" class=\"data row2 col1\" >8</td>\n",
       "      <td id=\"T_0fcbf_row2_col2\" class=\"data row2 col2\" >1</td>\n",
       "    </tr>\n",
       "  </tbody>\n",
       "</table>\n"
      ],
      "text/plain": [
       "<pandas.io.formats.style.Styler at 0x1a8fafadd00>"
      ]
     },
     "execution_count": 6,
     "metadata": {},
     "output_type": "execute_result"
    }
   ],
   "source": [
    "df.style.background_gradient(cmap=\"mako\")"
   ]
  },
  {
   "cell_type": "markdown",
   "metadata": {},
   "source": [
    "'Accent', 'Accent_r', 'Blues', 'Blues_r', 'BrBG', 'BrBG_r', 'BuGn', 'BuGn_r', 'BuPu', 'BuPu_r', 'CMRmap', 'CMRmap_r', 'Dark2', 'Dark2_r', 'GnBu', 'GnBu_r', 'Greens', 'Greens_r', 'Greys', 'Greys_r', 'OrRd', 'OrRd_r', 'Oranges', 'Oranges_r', 'PRGn', 'PRGn_r', 'Paired', 'Paired_r', 'Pastel1', 'Pastel1_r', 'Pastel2', 'Pastel2_r', 'PiYG', 'PiYG_r', 'PuBu', 'PuBuGn', 'PuBuGn_r', 'PuBu_r', 'PuOr', 'PuOr_r', 'PuRd', 'PuRd_r', 'Purples', 'Purples_r', 'RdBu', 'RdBu_r', 'RdGy', 'RdGy_r', 'RdPu', 'RdPu_r', 'RdYlBu', 'RdYlBu_r', 'RdYlGn', 'RdYlGn_r', 'Reds', 'Reds_r', 'Set1', 'Set1_r', 'Set2', 'Set2_r', 'Set3', 'Set3_r', 'Spectral', 'Spectral_r', 'Wistia', 'Wistia_r', 'YlGn', 'YlGnBu', 'YlGnBu_r', 'YlGn_r', 'YlOrBr', 'YlOrBr_r', 'YlOrRd', 'YlOrRd_r', 'afmhot', 'afmhot_r', 'autumn', 'autumn_r', 'binary', 'binary_r', 'bone', 'bone_r', 'brg', 'brg_r', 'bwr', 'bwr_r', 'cividis', 'cividis_r', 'cool', 'cool_r', 'coolwarm', 'coolwarm_r', 'copper', 'copper_r', 'crest', 'crest_r', 'cubehelix', 'cubehelix_r', 'flag', 'flag_r', 'flare', 'flare_r', 'gist_earth', 'gist_earth_r', 'gist_gray', 'gist_gray_r', 'gist_heat', 'gist_heat_r', 'gist_ncar', 'gist_ncar_r', 'gist_rainbow', 'gist_rainbow_r', 'gist_stern', 'gist_stern_r', 'gist_yarg', 'gist_yarg_r', 'gnuplot', 'gnuplot2', 'gnuplot2_r', 'gnuplot_r', 'gray', 'gray_r', 'hot', 'hot_r', 'hsv', 'hsv_r', 'icefire', 'icefire_r', 'inferno', 'inferno_r', 'jet', 'jet_r', 'magma', 'magma_r', 'mako', 'mako_r', 'nipy_spectral', 'nipy_spectral_r', 'ocean', 'ocean_r', 'pink', 'pink_r', 'plasma', 'plasma_r', 'prism', 'prism_r', 'rainbow', 'rainbow_r', 'rocket', 'rocket_r', 'seismic', 'seismic_r', 'spring', 'spring_r', 'summer', 'summer_r', 'tab10', 'tab10_r', 'tab20', 'tab20_r', 'tab20b', 'tab20b_r', 'tab20c', 'tab20c_r', 'terrain', 'terrain_r', 'turbo', 'turbo_r', 'twilight', 'twilight_r', 'twilight_shifted', 'twilight_shifted_r', 'viridis', 'viridis_r', 'vlag', 'vlag_r', 'winter', 'winter_r'"
   ]
  },
  {
   "cell_type": "markdown",
   "metadata": {
    "id": "ycx-4x4Ag94u"
   },
   "source": [
    "* 데이터프레임 기반으로 seaborn을 사용합니다.\n",
    "\n",
    "\n",
    "```\n",
    "sns.heatmap(data=df)\n",
    "```\n"
   ]
  },
  {
   "cell_type": "code",
   "execution_count": 15,
   "metadata": {
    "id": "B8MgiEHyyjUt"
   },
   "outputs": [
    {
     "data": {
      "text/plain": [
       "<AxesSubplot:>"
      ]
     },
     "execution_count": 15,
     "metadata": {},
     "output_type": "execute_result"
    },
    {
     "data": {
      "image/png": "[encoded data removed]",
      "text/plain": [
       "<Figure size 1080x576 with 6 Axes>"
      ]
     },
     "metadata": {},
     "output_type": "display_data"
    }
   ],
   "source": [
    "plt.subplot(3,1,1)\n",
    "sns.heatmap(data=df, annot=True, cmap=\"Reds\")\n",
    "plt.subplot(3,1,2)\n",
    "sns.heatmap(data=df, annot=True, cmap=\"Reds\")\n",
    "plt.subplot(3,1,3)\n",
    "sns.heatmap(data=df, annot=True, cmap=\"Reds\")"
   ]
  },
  {
   "cell_type": "markdown",
   "metadata": {
    "id": "qZ8F_TdAeIRB"
   },
   "source": [
    "\n",
    "##  **실습** \n",
    "---\n",
    "\n"
   ]
  },
  {
   "cell_type": "markdown",
   "metadata": {
    "id": "YFCwKN6HLieQ"
   },
   "source": [
    "### (1) pivot 테이블 이용한 시계열 데이터 시각화\n",
    "\n",
    "\n",
    "```\n",
    "np.random.seed(42)\n",
    "t = ['오전','오후','저녁']*5\n",
    "day=[f'2020/01/0{i+1}' for i in range(5) for j in range(3)]\n",
    "vals = np.random.randint(100,500, len(t))\n",
    "\n",
    "```"
   ]
  },
  {
   "cell_type": "code",
   "execution_count": 8,
   "metadata": {
    "id": "04EGKFOoF2cK"
   },
   "outputs": [
    {
     "data": {
      "text/html": [
       "<div>\n",
       "<style scoped>\n",
       "    .dataframe tbody tr th:only-of-type {\n",
       "        vertical-align: middle;\n",
       "    }\n",
       "\n",
       "    .dataframe tbody tr th {\n",
       "        vertical-align: top;\n",
       "    }\n",
       "\n",
       "    .dataframe thead th {\n",
       "        text-align: right;\n",
       "    }\n",
       "</style>\n",
       "<table border=\"1\" class=\"dataframe\">\n",
       "  <thead>\n",
       "    <tr style=\"text-align: right;\">\n",
       "      <th></th>\n",
       "      <th>day</th>\n",
       "      <th>time</th>\n",
       "      <th>count</th>\n",
       "    </tr>\n",
       "  </thead>\n",
       "  <tbody>\n",
       "    <tr>\n",
       "      <th>0</th>\n",
       "      <td>2020/01/01</td>\n",
       "      <td>오전</td>\n",
       "      <td>202</td>\n",
       "    </tr>\n",
       "    <tr>\n",
       "      <th>1</th>\n",
       "      <td>2020/01/01</td>\n",
       "      <td>오후</td>\n",
       "      <td>448</td>\n",
       "    </tr>\n",
       "    <tr>\n",
       "      <th>2</th>\n",
       "      <td>2020/01/01</td>\n",
       "      <td>저녁</td>\n",
       "      <td>370</td>\n",
       "    </tr>\n",
       "    <tr>\n",
       "      <th>3</th>\n",
       "      <td>2020/01/02</td>\n",
       "      <td>오전</td>\n",
       "      <td>206</td>\n",
       "    </tr>\n",
       "    <tr>\n",
       "      <th>4</th>\n",
       "      <td>2020/01/02</td>\n",
       "      <td>오후</td>\n",
       "      <td>171</td>\n",
       "    </tr>\n",
       "    <tr>\n",
       "      <th>5</th>\n",
       "      <td>2020/01/02</td>\n",
       "      <td>저녁</td>\n",
       "      <td>288</td>\n",
       "    </tr>\n",
       "    <tr>\n",
       "      <th>6</th>\n",
       "      <td>2020/01/03</td>\n",
       "      <td>오전</td>\n",
       "      <td>120</td>\n",
       "    </tr>\n",
       "    <tr>\n",
       "      <th>7</th>\n",
       "      <td>2020/01/03</td>\n",
       "      <td>오후</td>\n",
       "      <td>202</td>\n",
       "    </tr>\n",
       "    <tr>\n",
       "      <th>8</th>\n",
       "      <td>2020/01/03</td>\n",
       "      <td>저녁</td>\n",
       "      <td>221</td>\n",
       "    </tr>\n",
       "    <tr>\n",
       "      <th>9</th>\n",
       "      <td>2020/01/04</td>\n",
       "      <td>오전</td>\n",
       "      <td>314</td>\n",
       "    </tr>\n",
       "    <tr>\n",
       "      <th>10</th>\n",
       "      <td>2020/01/04</td>\n",
       "      <td>오후</td>\n",
       "      <td>430</td>\n",
       "    </tr>\n",
       "    <tr>\n",
       "      <th>11</th>\n",
       "      <td>2020/01/04</td>\n",
       "      <td>저녁</td>\n",
       "      <td>187</td>\n",
       "    </tr>\n",
       "    <tr>\n",
       "      <th>12</th>\n",
       "      <td>2020/01/05</td>\n",
       "      <td>오전</td>\n",
       "      <td>472</td>\n",
       "    </tr>\n",
       "    <tr>\n",
       "      <th>13</th>\n",
       "      <td>2020/01/05</td>\n",
       "      <td>오후</td>\n",
       "      <td>199</td>\n",
       "    </tr>\n",
       "    <tr>\n",
       "      <th>14</th>\n",
       "      <td>2020/01/05</td>\n",
       "      <td>저녁</td>\n",
       "      <td>459</td>\n",
       "    </tr>\n",
       "  </tbody>\n",
       "</table>\n",
       "</div>"
      ],
      "text/plain": [
       "           day time  count\n",
       "0   2020/01/01   오전    202\n",
       "1   2020/01/01   오후    448\n",
       "2   2020/01/01   저녁    370\n",
       "3   2020/01/02   오전    206\n",
       "4   2020/01/02   오후    171\n",
       "5   2020/01/02   저녁    288\n",
       "6   2020/01/03   오전    120\n",
       "7   2020/01/03   오후    202\n",
       "8   2020/01/03   저녁    221\n",
       "9   2020/01/04   오전    314\n",
       "10  2020/01/04   오후    430\n",
       "11  2020/01/04   저녁    187\n",
       "12  2020/01/05   오전    472\n",
       "13  2020/01/05   오후    199\n",
       "14  2020/01/05   저녁    459"
      ]
     },
     "execution_count": 8,
     "metadata": {},
     "output_type": "execute_result"
    }
   ],
   "source": [
    "np.random.seed(42)\n",
    "t = ['오전','오후','저녁']*5\n",
    "day=[f'2020/01/0{i+1}' for i in range(5) for j in range(3)]\n",
    "vals = np.random.randint(100,500, len(t))\n",
    "\n",
    "df = pd.DataFrame()\n",
    "df[\"day\"]=day\n",
    "df[\"time\"]=t\n",
    "df[\"count\"]=vals\n",
    "df"
   ]
  },
  {
   "cell_type": "code",
   "execution_count": 9,
   "metadata": {},
   "outputs": [
    {
     "data": {
      "text/html": [
       "<div>\n",
       "<style scoped>\n",
       "    .dataframe tbody tr th:only-of-type {\n",
       "        vertical-align: middle;\n",
       "    }\n",
       "\n",
       "    .dataframe tbody tr th {\n",
       "        vertical-align: top;\n",
       "    }\n",
       "\n",
       "    .dataframe thead th {\n",
       "        text-align: right;\n",
       "    }\n",
       "</style>\n",
       "<table border=\"1\" class=\"dataframe\">\n",
       "  <thead>\n",
       "    <tr style=\"text-align: right;\">\n",
       "      <th>time</th>\n",
       "      <th>오전</th>\n",
       "      <th>오후</th>\n",
       "      <th>저녁</th>\n",
       "    </tr>\n",
       "    <tr>\n",
       "      <th>day</th>\n",
       "      <th></th>\n",
       "      <th></th>\n",
       "      <th></th>\n",
       "    </tr>\n",
       "  </thead>\n",
       "  <tbody>\n",
       "    <tr>\n",
       "      <th>2020/01/01</th>\n",
       "      <td>202</td>\n",
       "      <td>448</td>\n",
       "      <td>370</td>\n",
       "    </tr>\n",
       "    <tr>\n",
       "      <th>2020/01/02</th>\n",
       "      <td>206</td>\n",
       "      <td>171</td>\n",
       "      <td>288</td>\n",
       "    </tr>\n",
       "    <tr>\n",
       "      <th>2020/01/03</th>\n",
       "      <td>120</td>\n",
       "      <td>202</td>\n",
       "      <td>221</td>\n",
       "    </tr>\n",
       "    <tr>\n",
       "      <th>2020/01/04</th>\n",
       "      <td>314</td>\n",
       "      <td>430</td>\n",
       "      <td>187</td>\n",
       "    </tr>\n",
       "    <tr>\n",
       "      <th>2020/01/05</th>\n",
       "      <td>472</td>\n",
       "      <td>199</td>\n",
       "      <td>459</td>\n",
       "    </tr>\n",
       "  </tbody>\n",
       "</table>\n",
       "</div>"
      ],
      "text/plain": [
       "time         오전   오후   저녁\n",
       "day                      \n",
       "2020/01/01  202  448  370\n",
       "2020/01/02  206  171  288\n",
       "2020/01/03  120  202  221\n",
       "2020/01/04  314  430  187\n",
       "2020/01/05  472  199  459"
      ]
     },
     "execution_count": 9,
     "metadata": {},
     "output_type": "execute_result"
    }
   ],
   "source": [
    "df_p = df.pivot('day', 'time', 'count')\n",
    "df_p"
   ]
  },
  {
   "cell_type": "code",
   "execution_count": 10,
   "metadata": {},
   "outputs": [
    {
     "data": {
      "text/html": [
       "<style type=\"text/css\">\n",
       "#T_e7abd_row0_col0 {\n",
       "  background-color: #d4d4e8;\n",
       "  color: #000000;\n",
       "}\n",
       "#T_e7abd_row0_col1, #T_e7abd_row4_col0, #T_e7abd_row4_col2 {\n",
       "  background-color: #023858;\n",
       "  color: #f1f1f1;\n",
       "}\n",
       "#T_e7abd_row0_col2 {\n",
       "  background-color: #2383ba;\n",
       "  color: #f1f1f1;\n",
       "}\n",
       "#T_e7abd_row1_col0 {\n",
       "  background-color: #d2d2e7;\n",
       "  color: #000000;\n",
       "}\n",
       "#T_e7abd_row1_col1, #T_e7abd_row2_col0, #T_e7abd_row3_col2 {\n",
       "  background-color: #fff7fb;\n",
       "  color: #000000;\n",
       "}\n",
       "#T_e7abd_row1_col2 {\n",
       "  background-color: #a7bddb;\n",
       "  color: #000000;\n",
       "}\n",
       "#T_e7abd_row2_col1 {\n",
       "  background-color: #eee9f3;\n",
       "  color: #000000;\n",
       "}\n",
       "#T_e7abd_row2_col2 {\n",
       "  background-color: #ece7f2;\n",
       "  color: #000000;\n",
       "}\n",
       "#T_e7abd_row3_col0 {\n",
       "  background-color: #5a9ec9;\n",
       "  color: #f1f1f1;\n",
       "}\n",
       "#T_e7abd_row3_col1 {\n",
       "  background-color: #034973;\n",
       "  color: #f1f1f1;\n",
       "}\n",
       "#T_e7abd_row4_col1 {\n",
       "  background-color: #f0eaf4;\n",
       "  color: #000000;\n",
       "}\n",
       "</style>\n",
       "<table id=\"T_e7abd_\">\n",
       "  <thead>\n",
       "    <tr>\n",
       "      <th class=\"index_name level0\" >time</th>\n",
       "      <th class=\"col_heading level0 col0\" >오전</th>\n",
       "      <th class=\"col_heading level0 col1\" >오후</th>\n",
       "      <th class=\"col_heading level0 col2\" >저녁</th>\n",
       "    </tr>\n",
       "    <tr>\n",
       "      <th class=\"index_name level0\" >day</th>\n",
       "      <th class=\"blank col0\" >&nbsp;</th>\n",
       "      <th class=\"blank col1\" >&nbsp;</th>\n",
       "      <th class=\"blank col2\" >&nbsp;</th>\n",
       "    </tr>\n",
       "  </thead>\n",
       "  <tbody>\n",
       "    <tr>\n",
       "      <th id=\"T_e7abd_level0_row0\" class=\"row_heading level0 row0\" >2020/01/01</th>\n",
       "      <td id=\"T_e7abd_row0_col0\" class=\"data row0 col0\" >202</td>\n",
       "      <td id=\"T_e7abd_row0_col1\" class=\"data row0 col1\" >448</td>\n",
       "      <td id=\"T_e7abd_row0_col2\" class=\"data row0 col2\" >370</td>\n",
       "    </tr>\n",
       "    <tr>\n",
       "      <th id=\"T_e7abd_level0_row1\" class=\"row_heading level0 row1\" >2020/01/02</th>\n",
       "      <td id=\"T_e7abd_row1_col0\" class=\"data row1 col0\" >206</td>\n",
       "      <td id=\"T_e7abd_row1_col1\" class=\"data row1 col1\" >171</td>\n",
       "      <td id=\"T_e7abd_row1_col2\" class=\"data row1 col2\" >288</td>\n",
       "    </tr>\n",
       "    <tr>\n",
       "      <th id=\"T_e7abd_level0_row2\" class=\"row_heading level0 row2\" >2020/01/03</th>\n",
       "      <td id=\"T_e7abd_row2_col0\" class=\"data row2 col0\" >120</td>\n",
       "      <td id=\"T_e7abd_row2_col1\" class=\"data row2 col1\" >202</td>\n",
       "      <td id=\"T_e7abd_row2_col2\" class=\"data row2 col2\" >221</td>\n",
       "    </tr>\n",
       "    <tr>\n",
       "      <th id=\"T_e7abd_level0_row3\" class=\"row_heading level0 row3\" >2020/01/04</th>\n",
       "      <td id=\"T_e7abd_row3_col0\" class=\"data row3 col0\" >314</td>\n",
       "      <td id=\"T_e7abd_row3_col1\" class=\"data row3 col1\" >430</td>\n",
       "      <td id=\"T_e7abd_row3_col2\" class=\"data row3 col2\" >187</td>\n",
       "    </tr>\n",
       "    <tr>\n",
       "      <th id=\"T_e7abd_level0_row4\" class=\"row_heading level0 row4\" >2020/01/05</th>\n",
       "      <td id=\"T_e7abd_row4_col0\" class=\"data row4 col0\" >472</td>\n",
       "      <td id=\"T_e7abd_row4_col1\" class=\"data row4 col1\" >199</td>\n",
       "      <td id=\"T_e7abd_row4_col2\" class=\"data row4 col2\" >459</td>\n",
       "    </tr>\n",
       "  </tbody>\n",
       "</table>\n"
      ],
      "text/plain": [
       "<pandas.io.formats.style.Styler at 0x1a8fb26aaf0>"
      ]
     },
     "execution_count": 10,
     "metadata": {},
     "output_type": "execute_result"
    }
   ],
   "source": [
    "df_p.style.background_gradient()"
   ]
  },
  {
   "cell_type": "markdown",
   "metadata": {
    "id": "QGviht0yPmHr"
   },
   "source": [
    "### (2) Iris 데이터 변수별 상관관계 분석\n",
    "\n",
    "\n",
    "```\n",
    "           꽃받침 길이   꽃받침 너비   꽃의 길이  꽃의 너비\n",
    " 샘플1      \n",
    " 샘플2 \n",
    " ...\n",
    " 샘플150\n",
    "```\n",
    "\n",
    "\n",
    "```\n",
    "from sklearn.datasets import load_iris\n",
    "iris = load_iris()\n",
    "```\n",
    "\n",
    "\n",
    "* `.feature_names` : 변수 이름\n",
    "* `.target_names` : 타겟 이름\n",
    "* `.data` : 데이터 \n",
    "* `.target` : 타겟\n"
   ]
  },
  {
   "cell_type": "code",
   "execution_count": 82,
   "metadata": {
    "id": "dNLpcUxfgzyZ"
   },
   "outputs": [
    {
     "name": "stdout",
     "output_type": "stream",
     "text": [
      "x names :  ['sepal length (cm)', 'sepal width (cm)', 'petal length (cm)', 'petal width (cm)']\n",
      "y names:  ['setosa' 'versicolor' 'virginica']\n",
      "x_data (150, 4)\n",
      "y_data (150,)\n"
     ]
    },
    {
     "data": {
      "image/png": "[encoded data removed]",
      "text/plain": [
       "<Figure size 1080x576 with 6 Axes>"
      ]
     },
     "metadata": {},
     "output_type": "display_data"
    }
   ],
   "source": [
    "from sklearn.datasets import load_iris\n",
    "\n",
    "# 데이터 가져오기\n",
    "iris = load_iris()\n",
    "\n",
    "x_names = iris.feature_names\n",
    "y_names = iris.target_names\n",
    "print(\"x names : \", x_names)\n",
    "print(\"y names: \", y_names)\n",
    "\n",
    "x_data = iris.data\n",
    "y_data = iris.target\n",
    "print(\"x_data\" , x_data.shape)\n",
    "print(\"y_data\" , y_data.shape)\n",
    "\n",
    "# 데이터 프레임 제작\n",
    "df_1 = pd.DataFrame(x_data)\n",
    "df_2 = pd.DataFrame(y_data)\n",
    "df = pd.concat([df_1, df_2], axis=1)\n",
    "df.columns = ['sepal length (cm)', 'sepal width (cm)', 'petal length (cm)', 'petal width (cm)',\"label\"]\n",
    "df[\"label\"] = df[\"label\"].astype(str)\n",
    "\n",
    "# 상관관계\n",
    "for i in np.arange(3):\n",
    "    temp = df[df[\"label\"]==f\"{i}\"]\n",
    "    temp = temp.corr()\n",
    "    plt.subplot(3,1,i+1)\n",
    "    sns.heatmap(data=temp, annot=True, cmap=\"Reds\")"
   ]
  },
  {
   "cell_type": "markdown",
   "metadata": {
    "id": "yC_WoKqD0n1H"
   },
   "source": [
    "### (3) Iris 데이터 종류별 크기 분석\n",
    "\n"
   ]
  },
  {
   "cell_type": "code",
   "execution_count": 85,
   "metadata": {
    "id": "3bhK6Y9Wg0at",
    "scrolled": false
   },
   "outputs": [
    {
     "ename": "AttributeError",
     "evalue": "'AxesSubplot' object has no attribute 'style'",
     "output_type": "error",
     "traceback": [
      "\u001b[1;31m---------------------------------------------------------------------------\u001b[0m",
      "\u001b[1;31mAttributeError\u001b[0m                            Traceback (most recent call last)",
      "\u001b[1;32m~\\AppData\\Local\\Temp/ipykernel_4744/3995680401.py\u001b[0m in \u001b[0;36m<module>\u001b[1;34m\u001b[0m\n\u001b[0;32m      2\u001b[0m \u001b[0mdf_iris\u001b[0m\u001b[1;33m\u001b[0m\u001b[1;33m\u001b[0m\u001b[0m\n\u001b[0;32m      3\u001b[0m \u001b[1;33m\u001b[0m\u001b[0m\n\u001b[1;32m----> 4\u001b[1;33m \u001b[0msns\u001b[0m\u001b[1;33m.\u001b[0m\u001b[0mheatmap\u001b[0m\u001b[1;33m(\u001b[0m\u001b[0mdata\u001b[0m\u001b[1;33m=\u001b[0m\u001b[0mdf_iris\u001b[0m\u001b[1;33m,\u001b[0m \u001b[0mannot\u001b[0m\u001b[1;33m=\u001b[0m\u001b[1;32mTrue\u001b[0m\u001b[1;33m)\u001b[0m\u001b[1;33m.\u001b[0m\u001b[0mstyle\u001b[0m\u001b[1;33m.\u001b[0m\u001b[0mbackground_gradient\u001b[0m\u001b[1;33m(\u001b[0m\u001b[1;33m)\u001b[0m\u001b[1;33m\u001b[0m\u001b[1;33m\u001b[0m\u001b[0m\n\u001b[0m",
      "\u001b[1;31mAttributeError\u001b[0m: 'AxesSubplot' object has no attribute 'style'"
     ]
    },
    {
     "data": {
      "image/png": "[encoded data removed]",
      "text/plain": [
       "<Figure size 1080x576 with 2 Axes>"
      ]
     },
     "metadata": {},
     "output_type": "display_data"
    }
   ],
   "source": [
    "df_iris = df.groupby('label').mean()\n",
    "df_iris\n",
    "\n",
    "sns.heatmap(data=df_iris, annot=True)"
   ]
  },
  {
   "cell_type": "markdown",
   "metadata": {
    "id": "l-oYQdjZxNDI"
   },
   "source": [
    "\n",
    "##  **과제** \n",
    "---\n"
   ]
  },
  {
   "cell_type": "markdown",
   "metadata": {
    "id": "l0C63YdjQIhk"
   },
   "source": [
    "\n",
    "### (1) 히트맵을 이용한 flight 데이터 시각화\n",
    "\n",
    "\n",
    "```\n",
    "df=sns.load_dataset('flights')\n",
    "```\n",
    "\n",
    "* `seaborn`의 `load_dataset`을 이용해 `flights` 데이터를 불러오세요.\n",
    "* `year`를 세로축, `month`를 가로축으로 하는 피벗 테이블을 그리고 히트맵으로 시각화 하세요.\n",
    "\n"
   ]
  },
  {
   "cell_type": "code",
   "execution_count": 86,
   "metadata": {},
   "outputs": [
    {
     "data": {
      "text/html": [
       "<style type=\"text/css\">\n",
       "#T_42367_row0_col0, #T_42367_row0_col1, #T_42367_row0_col2, #T_42367_row0_col3, #T_42367_row0_col4, #T_42367_row0_col5, #T_42367_row0_col6, #T_42367_row0_col7, #T_42367_row0_col8, #T_42367_row0_col9, #T_42367_row0_col10, #T_42367_row0_col11 {\n",
       "  background-color: #fff7fb;\n",
       "  color: #000000;\n",
       "}\n",
       "#T_42367_row1_col0, #T_42367_row1_col4 {\n",
       "  background-color: #fef6fa;\n",
       "  color: #000000;\n",
       "}\n",
       "#T_42367_row1_col1 {\n",
       "  background-color: #fbf3f9;\n",
       "  color: #000000;\n",
       "}\n",
       "#T_42367_row1_col2, #T_42367_row1_col5, #T_42367_row1_col10 {\n",
       "  background-color: #faf3f9;\n",
       "  color: #000000;\n",
       "}\n",
       "#T_42367_row1_col3 {\n",
       "  background-color: #fdf5fa;\n",
       "  color: #000000;\n",
       "}\n",
       "#T_42367_row1_col6, #T_42367_row1_col7 {\n",
       "  background-color: #f8f1f8;\n",
       "  color: #000000;\n",
       "}\n",
       "#T_42367_row1_col8 {\n",
       "  background-color: #f6eff7;\n",
       "  color: #000000;\n",
       "}\n",
       "#T_42367_row1_col9 {\n",
       "  background-color: #f9f2f8;\n",
       "  color: #000000;\n",
       "}\n",
       "#T_42367_row1_col11 {\n",
       "  background-color: #f5eef6;\n",
       "  color: #000000;\n",
       "}\n",
       "#T_42367_row2_col0, #T_42367_row2_col5, #T_42367_row2_col6 {\n",
       "  background-color: #efe9f3;\n",
       "  color: #000000;\n",
       "}\n",
       "#T_42367_row2_col1 {\n",
       "  background-color: #ede8f3;\n",
       "  color: #000000;\n",
       "}\n",
       "#T_42367_row2_col2 {\n",
       "  background-color: #e4e1ef;\n",
       "  color: #000000;\n",
       "}\n",
       "#T_42367_row2_col3 {\n",
       "  background-color: #f0eaf4;\n",
       "  color: #000000;\n",
       "}\n",
       "#T_42367_row2_col4, #T_42367_row2_col10 {\n",
       "  background-color: #e7e3f0;\n",
       "  color: #000000;\n",
       "}\n",
       "#T_42367_row2_col7 {\n",
       "  background-color: #eee9f3;\n",
       "  color: #000000;\n",
       "}\n",
       "#T_42367_row2_col8 {\n",
       "  background-color: #ebe6f2;\n",
       "  color: #000000;\n",
       "}\n",
       "#T_42367_row2_col9 {\n",
       "  background-color: #ece7f2;\n",
       "  color: #000000;\n",
       "}\n",
       "#T_42367_row2_col11 {\n",
       "  background-color: #e6e2ef;\n",
       "  color: #000000;\n",
       "}\n",
       "#T_42367_row3_col0 {\n",
       "  background-color: #dddbec;\n",
       "  color: #000000;\n",
       "}\n",
       "#T_42367_row3_col1 {\n",
       "  background-color: #d5d5e8;\n",
       "  color: #000000;\n",
       "}\n",
       "#T_42367_row3_col2, #T_42367_row3_col5, #T_42367_row3_col9 {\n",
       "  background-color: #d9d8ea;\n",
       "  color: #000000;\n",
       "}\n",
       "#T_42367_row3_col3 {\n",
       "  background-color: #e5e1ef;\n",
       "  color: #000000;\n",
       "}\n",
       "#T_42367_row3_col4 {\n",
       "  background-color: #e0deed;\n",
       "  color: #000000;\n",
       "}\n",
       "#T_42367_row3_col6 {\n",
       "  background-color: #e1dfed;\n",
       "  color: #000000;\n",
       "}\n",
       "#T_42367_row3_col7 {\n",
       "  background-color: #dad9ea;\n",
       "  color: #000000;\n",
       "}\n",
       "#T_42367_row3_col8 {\n",
       "  background-color: #dcdaeb;\n",
       "  color: #000000;\n",
       "}\n",
       "#T_42367_row3_col10 {\n",
       "  background-color: #d3d4e7;\n",
       "  color: #000000;\n",
       "}\n",
       "#T_42367_row3_col11 {\n",
       "  background-color: #d2d3e7;\n",
       "  color: #000000;\n",
       "}\n",
       "#T_42367_row4_col0 {\n",
       "  background-color: #c8cde4;\n",
       "  color: #000000;\n",
       "}\n",
       "#T_42367_row4_col1 {\n",
       "  background-color: #c4cbe3;\n",
       "  color: #000000;\n",
       "}\n",
       "#T_42367_row4_col2 {\n",
       "  background-color: #abbfdc;\n",
       "  color: #000000;\n",
       "}\n",
       "#T_42367_row4_col3, #T_42367_row5_col7 {\n",
       "  background-color: #b9c6e0;\n",
       "  color: #000000;\n",
       "}\n",
       "#T_42367_row4_col4 {\n",
       "  background-color: #bdc8e1;\n",
       "  color: #000000;\n",
       "}\n",
       "#T_42367_row4_col5, #T_42367_row4_col7, #T_42367_row4_col8 {\n",
       "  background-color: #c9cee4;\n",
       "  color: #000000;\n",
       "}\n",
       "#T_42367_row4_col6 {\n",
       "  background-color: #d2d2e7;\n",
       "  color: #000000;\n",
       "}\n",
       "#T_42367_row4_col9, #T_42367_row4_col10 {\n",
       "  background-color: #cacee5;\n",
       "  color: #000000;\n",
       "}\n",
       "#T_42367_row4_col11 {\n",
       "  background-color: #cccfe5;\n",
       "  color: #000000;\n",
       "}\n",
       "#T_42367_row5_col0 {\n",
       "  background-color: #bfc9e1;\n",
       "  color: #000000;\n",
       "}\n",
       "#T_42367_row5_col1 {\n",
       "  background-color: #ced0e6;\n",
       "  color: #000000;\n",
       "}\n",
       "#T_42367_row5_col2 {\n",
       "  background-color: #acc0dd;\n",
       "  color: #000000;\n",
       "}\n",
       "#T_42367_row5_col3 {\n",
       "  background-color: #c1cae2;\n",
       "  color: #000000;\n",
       "}\n",
       "#T_42367_row5_col4, #T_42367_row5_col5, #T_42367_row5_col9 {\n",
       "  background-color: #b8c6e0;\n",
       "  color: #000000;\n",
       "}\n",
       "#T_42367_row5_col6 {\n",
       "  background-color: #b7c5df;\n",
       "  color: #000000;\n",
       "}\n",
       "#T_42367_row5_col8 {\n",
       "  background-color: #b5c4df;\n",
       "  color: #000000;\n",
       "}\n",
       "#T_42367_row5_col10 {\n",
       "  background-color: #b0c2de;\n",
       "  color: #000000;\n",
       "}\n",
       "#T_42367_row5_col11 {\n",
       "  background-color: #adc1dd;\n",
       "  color: #000000;\n",
       "}\n",
       "#T_42367_row6_col0 {\n",
       "  background-color: #91b5d6;\n",
       "  color: #000000;\n",
       "}\n",
       "#T_42367_row6_col1, #T_42367_row6_col3 {\n",
       "  background-color: #94b6d7;\n",
       "  color: #000000;\n",
       "}\n",
       "#T_42367_row6_col2 {\n",
       "  background-color: #80aed2;\n",
       "  color: #f1f1f1;\n",
       "}\n",
       "#T_42367_row6_col4 {\n",
       "  background-color: #93b5d6;\n",
       "  color: #000000;\n",
       "}\n",
       "#T_42367_row6_col5 {\n",
       "  background-color: #88b1d4;\n",
       "  color: #000000;\n",
       "}\n",
       "#T_42367_row6_col6, #T_42367_row6_col9 {\n",
       "  background-color: #86b0d3;\n",
       "  color: #000000;\n",
       "}\n",
       "#T_42367_row6_col7 {\n",
       "  background-color: #8eb3d5;\n",
       "  color: #000000;\n",
       "}\n",
       "#T_42367_row6_col8 {\n",
       "  background-color: #7eadd1;\n",
       "  color: #f1f1f1;\n",
       "}\n",
       "#T_42367_row6_col10 {\n",
       "  background-color: #81aed2;\n",
       "  color: #f1f1f1;\n",
       "}\n",
       "#T_42367_row6_col11 {\n",
       "  background-color: #6fa7ce;\n",
       "  color: #f1f1f1;\n",
       "}\n",
       "#T_42367_row7_col0 {\n",
       "  background-color: #549cc7;\n",
       "  color: #f1f1f1;\n",
       "}\n",
       "#T_42367_row7_col1, #T_42367_row7_col10 {\n",
       "  background-color: #4a98c5;\n",
       "  color: #f1f1f1;\n",
       "}\n",
       "#T_42367_row7_col2 {\n",
       "  background-color: #2d8abd;\n",
       "  color: #f1f1f1;\n",
       "}\n",
       "#T_42367_row7_col3 {\n",
       "  background-color: #5a9ec9;\n",
       "  color: #f1f1f1;\n",
       "}\n",
       "#T_42367_row7_col4, #T_42367_row7_col6, #T_42367_row7_col7 {\n",
       "  background-color: #569dc8;\n",
       "  color: #f1f1f1;\n",
       "}\n",
       "#T_42367_row7_col5 {\n",
       "  background-color: #4496c3;\n",
       "  color: #f1f1f1;\n",
       "}\n",
       "#T_42367_row7_col8 {\n",
       "  background-color: #4897c4;\n",
       "  color: #f1f1f1;\n",
       "}\n",
       "#T_42367_row7_col9 {\n",
       "  background-color: #5ea0ca;\n",
       "  color: #f1f1f1;\n",
       "}\n",
       "#T_42367_row7_col11 {\n",
       "  background-color: #4295c3;\n",
       "  color: #f1f1f1;\n",
       "}\n",
       "#T_42367_row8_col0, #T_42367_row8_col4, #T_42367_row8_col9 {\n",
       "  background-color: #2685bb;\n",
       "  color: #f1f1f1;\n",
       "}\n",
       "#T_42367_row8_col1, #T_42367_row8_col6 {\n",
       "  background-color: #2484ba;\n",
       "  color: #f1f1f1;\n",
       "}\n",
       "#T_42367_row8_col2, #T_42367_row9_col7 {\n",
       "  background-color: #056ba7;\n",
       "  color: #f1f1f1;\n",
       "}\n",
       "#T_42367_row8_col3, #T_42367_row9_col3 {\n",
       "  background-color: #2987bc;\n",
       "  color: #f1f1f1;\n",
       "}\n",
       "#T_42367_row8_col5 {\n",
       "  background-color: #1278b4;\n",
       "  color: #f1f1f1;\n",
       "}\n",
       "#T_42367_row8_col7, #T_42367_row9_col11 {\n",
       "  background-color: #197db7;\n",
       "  color: #f1f1f1;\n",
       "}\n",
       "#T_42367_row8_col8, #T_42367_row9_col8, #T_42367_row9_col10 {\n",
       "  background-color: #1077b4;\n",
       "  color: #f1f1f1;\n",
       "}\n",
       "#T_42367_row8_col10, #T_42367_row9_col9 {\n",
       "  background-color: #187cb6;\n",
       "  color: #f1f1f1;\n",
       "}\n",
       "#T_42367_row8_col11 {\n",
       "  background-color: #1b7eb7;\n",
       "  color: #f1f1f1;\n",
       "}\n",
       "#T_42367_row9_col0 {\n",
       "  background-color: #0570b0;\n",
       "  color: #f1f1f1;\n",
       "}\n",
       "#T_42367_row9_col1 {\n",
       "  background-color: #0c74b2;\n",
       "  color: #f1f1f1;\n",
       "}\n",
       "#T_42367_row9_col2, #T_42367_row10_col3 {\n",
       "  background-color: #0567a1;\n",
       "  color: #f1f1f1;\n",
       "}\n",
       "#T_42367_row9_col4 {\n",
       "  background-color: #1c7fb8;\n",
       "  color: #f1f1f1;\n",
       "}\n",
       "#T_42367_row9_col5 {\n",
       "  background-color: #056faf;\n",
       "  color: #f1f1f1;\n",
       "}\n",
       "#T_42367_row9_col6 {\n",
       "  background-color: #0f76b3;\n",
       "  color: #f1f1f1;\n",
       "}\n",
       "#T_42367_row10_col0 {\n",
       "  background-color: #04649e;\n",
       "  color: #f1f1f1;\n",
       "}\n",
       "#T_42367_row10_col1 {\n",
       "  background-color: #04639b;\n",
       "  color: #f1f1f1;\n",
       "}\n",
       "#T_42367_row10_col2 {\n",
       "  background-color: #03446a;\n",
       "  color: #f1f1f1;\n",
       "}\n",
       "#T_42367_row10_col4 {\n",
       "  background-color: #045e93;\n",
       "  color: #f1f1f1;\n",
       "}\n",
       "#T_42367_row10_col5, #T_42367_row10_col9 {\n",
       "  background-color: #046096;\n",
       "  color: #f1f1f1;\n",
       "}\n",
       "#T_42367_row10_col6 {\n",
       "  background-color: #045f95;\n",
       "  color: #f1f1f1;\n",
       "}\n",
       "#T_42367_row10_col7 {\n",
       "  background-color: #045483;\n",
       "  color: #f1f1f1;\n",
       "}\n",
       "#T_42367_row10_col8 {\n",
       "  background-color: #04588a;\n",
       "  color: #f1f1f1;\n",
       "}\n",
       "#T_42367_row10_col10 {\n",
       "  background-color: #045382;\n",
       "  color: #f1f1f1;\n",
       "}\n",
       "#T_42367_row10_col11 {\n",
       "  background-color: #034f7d;\n",
       "  color: #f1f1f1;\n",
       "}\n",
       "#T_42367_row11_col0, #T_42367_row11_col1, #T_42367_row11_col2, #T_42367_row11_col3, #T_42367_row11_col4, #T_42367_row11_col5, #T_42367_row11_col6, #T_42367_row11_col7, #T_42367_row11_col8, #T_42367_row11_col9, #T_42367_row11_col10, #T_42367_row11_col11 {\n",
       "  background-color: #023858;\n",
       "  color: #f1f1f1;\n",
       "}\n",
       "</style>\n",
       "<table id=\"T_42367_\">\n",
       "  <thead>\n",
       "    <tr>\n",
       "      <th class=\"blank level0\" >&nbsp;</th>\n",
       "      <th class=\"col_heading level0 col0\" colspan=\"12\">passengers</th>\n",
       "    </tr>\n",
       "    <tr>\n",
       "      <th class=\"index_name level1\" >month</th>\n",
       "      <th class=\"col_heading level1 col0\" >Jan</th>\n",
       "      <th class=\"col_heading level1 col1\" >Feb</th>\n",
       "      <th class=\"col_heading level1 col2\" >Mar</th>\n",
       "      <th class=\"col_heading level1 col3\" >Apr</th>\n",
       "      <th class=\"col_heading level1 col4\" >May</th>\n",
       "      <th class=\"col_heading level1 col5\" >Jun</th>\n",
       "      <th class=\"col_heading level1 col6\" >Jul</th>\n",
       "      <th class=\"col_heading level1 col7\" >Aug</th>\n",
       "      <th class=\"col_heading level1 col8\" >Sep</th>\n",
       "      <th class=\"col_heading level1 col9\" >Oct</th>\n",
       "      <th class=\"col_heading level1 col10\" >Nov</th>\n",
       "      <th class=\"col_heading level1 col11\" >Dec</th>\n",
       "    </tr>\n",
       "    <tr>\n",
       "      <th class=\"index_name level0\" >year</th>\n",
       "      <th class=\"blank col0\" >&nbsp;</th>\n",
       "      <th class=\"blank col1\" >&nbsp;</th>\n",
       "      <th class=\"blank col2\" >&nbsp;</th>\n",
       "      <th class=\"blank col3\" >&nbsp;</th>\n",
       "      <th class=\"blank col4\" >&nbsp;</th>\n",
       "      <th class=\"blank col5\" >&nbsp;</th>\n",
       "      <th class=\"blank col6\" >&nbsp;</th>\n",
       "      <th class=\"blank col7\" >&nbsp;</th>\n",
       "      <th class=\"blank col8\" >&nbsp;</th>\n",
       "      <th class=\"blank col9\" >&nbsp;</th>\n",
       "      <th class=\"blank col10\" >&nbsp;</th>\n",
       "      <th class=\"blank col11\" >&nbsp;</th>\n",
       "    </tr>\n",
       "  </thead>\n",
       "  <tbody>\n",
       "    <tr>\n",
       "      <th id=\"T_42367_level0_row0\" class=\"row_heading level0 row0\" >1949</th>\n",
       "      <td id=\"T_42367_row0_col0\" class=\"data row0 col0\" >112</td>\n",
       "      <td id=\"T_42367_row0_col1\" class=\"data row0 col1\" >118</td>\n",
       "      <td id=\"T_42367_row0_col2\" class=\"data row0 col2\" >132</td>\n",
       "      <td id=\"T_42367_row0_col3\" class=\"data row0 col3\" >129</td>\n",
       "      <td id=\"T_42367_row0_col4\" class=\"data row0 col4\" >121</td>\n",
       "      <td id=\"T_42367_row0_col5\" class=\"data row0 col5\" >135</td>\n",
       "      <td id=\"T_42367_row0_col6\" class=\"data row0 col6\" >148</td>\n",
       "      <td id=\"T_42367_row0_col7\" class=\"data row0 col7\" >148</td>\n",
       "      <td id=\"T_42367_row0_col8\" class=\"data row0 col8\" >136</td>\n",
       "      <td id=\"T_42367_row0_col9\" class=\"data row0 col9\" >119</td>\n",
       "      <td id=\"T_42367_row0_col10\" class=\"data row0 col10\" >104</td>\n",
       "      <td id=\"T_42367_row0_col11\" class=\"data row0 col11\" >118</td>\n",
       "    </tr>\n",
       "    <tr>\n",
       "      <th id=\"T_42367_level0_row1\" class=\"row_heading level0 row1\" >1950</th>\n",
       "      <td id=\"T_42367_row1_col0\" class=\"data row1 col0\" >115</td>\n",
       "      <td id=\"T_42367_row1_col1\" class=\"data row1 col1\" >126</td>\n",
       "      <td id=\"T_42367_row1_col2\" class=\"data row1 col2\" >141</td>\n",
       "      <td id=\"T_42367_row1_col3\" class=\"data row1 col3\" >135</td>\n",
       "      <td id=\"T_42367_row1_col4\" class=\"data row1 col4\" >125</td>\n",
       "      <td id=\"T_42367_row1_col5\" class=\"data row1 col5\" >149</td>\n",
       "      <td id=\"T_42367_row1_col6\" class=\"data row1 col6\" >170</td>\n",
       "      <td id=\"T_42367_row1_col7\" class=\"data row1 col7\" >170</td>\n",
       "      <td id=\"T_42367_row1_col8\" class=\"data row1 col8\" >158</td>\n",
       "      <td id=\"T_42367_row1_col9\" class=\"data row1 col9\" >133</td>\n",
       "      <td id=\"T_42367_row1_col10\" class=\"data row1 col10\" >114</td>\n",
       "      <td id=\"T_42367_row1_col11\" class=\"data row1 col11\" >140</td>\n",
       "    </tr>\n",
       "    <tr>\n",
       "      <th id=\"T_42367_level0_row2\" class=\"row_heading level0 row2\" >1951</th>\n",
       "      <td id=\"T_42367_row2_col0\" class=\"data row2 col0\" >145</td>\n",
       "      <td id=\"T_42367_row2_col1\" class=\"data row2 col1\" >150</td>\n",
       "      <td id=\"T_42367_row2_col2\" class=\"data row2 col2\" >178</td>\n",
       "      <td id=\"T_42367_row2_col3\" class=\"data row2 col3\" >163</td>\n",
       "      <td id=\"T_42367_row2_col4\" class=\"data row2 col4\" >172</td>\n",
       "      <td id=\"T_42367_row2_col5\" class=\"data row2 col5\" >178</td>\n",
       "      <td id=\"T_42367_row2_col6\" class=\"data row2 col6\" >199</td>\n",
       "      <td id=\"T_42367_row2_col7\" class=\"data row2 col7\" >199</td>\n",
       "      <td id=\"T_42367_row2_col8\" class=\"data row2 col8\" >184</td>\n",
       "      <td id=\"T_42367_row2_col9\" class=\"data row2 col9\" >162</td>\n",
       "      <td id=\"T_42367_row2_col10\" class=\"data row2 col10\" >146</td>\n",
       "      <td id=\"T_42367_row2_col11\" class=\"data row2 col11\" >166</td>\n",
       "    </tr>\n",
       "    <tr>\n",
       "      <th id=\"T_42367_level0_row3\" class=\"row_heading level0 row3\" >1952</th>\n",
       "      <td id=\"T_42367_row3_col0\" class=\"data row3 col0\" >171</td>\n",
       "      <td id=\"T_42367_row3_col1\" class=\"data row3 col1\" >180</td>\n",
       "      <td id=\"T_42367_row3_col2\" class=\"data row3 col2\" >193</td>\n",
       "      <td id=\"T_42367_row3_col3\" class=\"data row3 col3\" >181</td>\n",
       "      <td id=\"T_42367_row3_col4\" class=\"data row3 col4\" >183</td>\n",
       "      <td id=\"T_42367_row3_col5\" class=\"data row3 col5\" >218</td>\n",
       "      <td id=\"T_42367_row3_col6\" class=\"data row3 col6\" >230</td>\n",
       "      <td id=\"T_42367_row3_col7\" class=\"data row3 col7\" >242</td>\n",
       "      <td id=\"T_42367_row3_col8\" class=\"data row3 col8\" >209</td>\n",
       "      <td id=\"T_42367_row3_col9\" class=\"data row3 col9\" >191</td>\n",
       "      <td id=\"T_42367_row3_col10\" class=\"data row3 col10\" >172</td>\n",
       "      <td id=\"T_42367_row3_col11\" class=\"data row3 col11\" >194</td>\n",
       "    </tr>\n",
       "    <tr>\n",
       "      <th id=\"T_42367_level0_row4\" class=\"row_heading level0 row4\" >1953</th>\n",
       "      <td id=\"T_42367_row4_col0\" class=\"data row4 col0\" >196</td>\n",
       "      <td id=\"T_42367_row4_col1\" class=\"data row4 col1\" >196</td>\n",
       "      <td id=\"T_42367_row4_col2\" class=\"data row4 col2\" >236</td>\n",
       "      <td id=\"T_42367_row4_col3\" class=\"data row4 col3\" >235</td>\n",
       "      <td id=\"T_42367_row4_col4\" class=\"data row4 col4\" >229</td>\n",
       "      <td id=\"T_42367_row4_col5\" class=\"data row4 col5\" >243</td>\n",
       "      <td id=\"T_42367_row4_col6\" class=\"data row4 col6\" >264</td>\n",
       "      <td id=\"T_42367_row4_col7\" class=\"data row4 col7\" >272</td>\n",
       "      <td id=\"T_42367_row4_col8\" class=\"data row4 col8\" >237</td>\n",
       "      <td id=\"T_42367_row4_col9\" class=\"data row4 col9\" >211</td>\n",
       "      <td id=\"T_42367_row4_col10\" class=\"data row4 col10\" >180</td>\n",
       "      <td id=\"T_42367_row4_col11\" class=\"data row4 col11\" >201</td>\n",
       "    </tr>\n",
       "    <tr>\n",
       "      <th id=\"T_42367_level0_row5\" class=\"row_heading level0 row5\" >1954</th>\n",
       "      <td id=\"T_42367_row5_col0\" class=\"data row5 col0\" >204</td>\n",
       "      <td id=\"T_42367_row5_col1\" class=\"data row5 col1\" >188</td>\n",
       "      <td id=\"T_42367_row5_col2\" class=\"data row5 col2\" >235</td>\n",
       "      <td id=\"T_42367_row5_col3\" class=\"data row5 col3\" >227</td>\n",
       "      <td id=\"T_42367_row5_col4\" class=\"data row5 col4\" >234</td>\n",
       "      <td id=\"T_42367_row5_col5\" class=\"data row5 col5\" >264</td>\n",
       "      <td id=\"T_42367_row5_col6\" class=\"data row5 col6\" >302</td>\n",
       "      <td id=\"T_42367_row5_col7\" class=\"data row5 col7\" >293</td>\n",
       "      <td id=\"T_42367_row5_col8\" class=\"data row5 col8\" >259</td>\n",
       "      <td id=\"T_42367_row5_col9\" class=\"data row5 col9\" >229</td>\n",
       "      <td id=\"T_42367_row5_col10\" class=\"data row5 col10\" >203</td>\n",
       "      <td id=\"T_42367_row5_col11\" class=\"data row5 col11\" >229</td>\n",
       "    </tr>\n",
       "    <tr>\n",
       "      <th id=\"T_42367_level0_row6\" class=\"row_heading level0 row6\" >1955</th>\n",
       "      <td id=\"T_42367_row6_col0\" class=\"data row6 col0\" >242</td>\n",
       "      <td id=\"T_42367_row6_col1\" class=\"data row6 col1\" >233</td>\n",
       "      <td id=\"T_42367_row6_col2\" class=\"data row6 col2\" >267</td>\n",
       "      <td id=\"T_42367_row6_col3\" class=\"data row6 col3\" >269</td>\n",
       "      <td id=\"T_42367_row6_col4\" class=\"data row6 col4\" >270</td>\n",
       "      <td id=\"T_42367_row6_col5\" class=\"data row6 col5\" >315</td>\n",
       "      <td id=\"T_42367_row6_col6\" class=\"data row6 col6\" >364</td>\n",
       "      <td id=\"T_42367_row6_col7\" class=\"data row6 col7\" >347</td>\n",
       "      <td id=\"T_42367_row6_col8\" class=\"data row6 col8\" >312</td>\n",
       "      <td id=\"T_42367_row6_col9\" class=\"data row6 col9\" >274</td>\n",
       "      <td id=\"T_42367_row6_col10\" class=\"data row6 col10\" >237</td>\n",
       "      <td id=\"T_42367_row6_col11\" class=\"data row6 col11\" >278</td>\n",
       "    </tr>\n",
       "    <tr>\n",
       "      <th id=\"T_42367_level0_row7\" class=\"row_heading level0 row7\" >1956</th>\n",
       "      <td id=\"T_42367_row7_col0\" class=\"data row7 col0\" >284</td>\n",
       "      <td id=\"T_42367_row7_col1\" class=\"data row7 col1\" >277</td>\n",
       "      <td id=\"T_42367_row7_col2\" class=\"data row7 col2\" >317</td>\n",
       "      <td id=\"T_42367_row7_col3\" class=\"data row7 col3\" >313</td>\n",
       "      <td id=\"T_42367_row7_col4\" class=\"data row7 col4\" >318</td>\n",
       "      <td id=\"T_42367_row7_col5\" class=\"data row7 col5\" >374</td>\n",
       "      <td id=\"T_42367_row7_col6\" class=\"data row7 col6\" >413</td>\n",
       "      <td id=\"T_42367_row7_col7\" class=\"data row7 col7\" >405</td>\n",
       "      <td id=\"T_42367_row7_col8\" class=\"data row7 col8\" >355</td>\n",
       "      <td id=\"T_42367_row7_col9\" class=\"data row7 col9\" >306</td>\n",
       "      <td id=\"T_42367_row7_col10\" class=\"data row7 col10\" >271</td>\n",
       "      <td id=\"T_42367_row7_col11\" class=\"data row7 col11\" >306</td>\n",
       "    </tr>\n",
       "    <tr>\n",
       "      <th id=\"T_42367_level0_row8\" class=\"row_heading level0 row8\" >1957</th>\n",
       "      <td id=\"T_42367_row8_col0\" class=\"data row8 col0\" >315</td>\n",
       "      <td id=\"T_42367_row8_col1\" class=\"data row8 col1\" >301</td>\n",
       "      <td id=\"T_42367_row8_col2\" class=\"data row8 col2\" >356</td>\n",
       "      <td id=\"T_42367_row8_col3\" class=\"data row8 col3\" >348</td>\n",
       "      <td id=\"T_42367_row8_col4\" class=\"data row8 col4\" >355</td>\n",
       "      <td id=\"T_42367_row8_col5\" class=\"data row8 col5\" >422</td>\n",
       "      <td id=\"T_42367_row8_col6\" class=\"data row8 col6\" >465</td>\n",
       "      <td id=\"T_42367_row8_col7\" class=\"data row8 col7\" >467</td>\n",
       "      <td id=\"T_42367_row8_col8\" class=\"data row8 col8\" >404</td>\n",
       "      <td id=\"T_42367_row8_col9\" class=\"data row8 col9\" >347</td>\n",
       "      <td id=\"T_42367_row8_col10\" class=\"data row8 col10\" >305</td>\n",
       "      <td id=\"T_42367_row8_col11\" class=\"data row8 col11\" >336</td>\n",
       "    </tr>\n",
       "    <tr>\n",
       "      <th id=\"T_42367_level0_row9\" class=\"row_heading level0 row9\" >1958</th>\n",
       "      <td id=\"T_42367_row9_col0\" class=\"data row9 col0\" >340</td>\n",
       "      <td id=\"T_42367_row9_col1\" class=\"data row9 col1\" >318</td>\n",
       "      <td id=\"T_42367_row9_col2\" class=\"data row9 col2\" >362</td>\n",
       "      <td id=\"T_42367_row9_col3\" class=\"data row9 col3\" >348</td>\n",
       "      <td id=\"T_42367_row9_col4\" class=\"data row9 col4\" >363</td>\n",
       "      <td id=\"T_42367_row9_col5\" class=\"data row9 col5\" >435</td>\n",
       "      <td id=\"T_42367_row9_col6\" class=\"data row9 col6\" >491</td>\n",
       "      <td id=\"T_42367_row9_col7\" class=\"data row9 col7\" >505</td>\n",
       "      <td id=\"T_42367_row9_col8\" class=\"data row9 col8\" >404</td>\n",
       "      <td id=\"T_42367_row9_col9\" class=\"data row9 col9\" >359</td>\n",
       "      <td id=\"T_42367_row9_col10\" class=\"data row9 col10\" >310</td>\n",
       "      <td id=\"T_42367_row9_col11\" class=\"data row9 col11\" >337</td>\n",
       "    </tr>\n",
       "    <tr>\n",
       "      <th id=\"T_42367_level0_row10\" class=\"row_heading level0 row10\" >1959</th>\n",
       "      <td id=\"T_42367_row10_col0\" class=\"data row10 col0\" >360</td>\n",
       "      <td id=\"T_42367_row10_col1\" class=\"data row10 col1\" >342</td>\n",
       "      <td id=\"T_42367_row10_col2\" class=\"data row10 col2\" >406</td>\n",
       "      <td id=\"T_42367_row10_col3\" class=\"data row10 col3\" >396</td>\n",
       "      <td id=\"T_42367_row10_col4\" class=\"data row10 col4\" >420</td>\n",
       "      <td id=\"T_42367_row10_col5\" class=\"data row10 col5\" >472</td>\n",
       "      <td id=\"T_42367_row10_col6\" class=\"data row10 col6\" >548</td>\n",
       "      <td id=\"T_42367_row10_col7\" class=\"data row10 col7\" >559</td>\n",
       "      <td id=\"T_42367_row10_col8\" class=\"data row10 col8\" >463</td>\n",
       "      <td id=\"T_42367_row10_col9\" class=\"data row10 col9\" >407</td>\n",
       "      <td id=\"T_42367_row10_col10\" class=\"data row10 col10\" >362</td>\n",
       "      <td id=\"T_42367_row10_col11\" class=\"data row10 col11\" >405</td>\n",
       "    </tr>\n",
       "    <tr>\n",
       "      <th id=\"T_42367_level0_row11\" class=\"row_heading level0 row11\" >1960</th>\n",
       "      <td id=\"T_42367_row11_col0\" class=\"data row11 col0\" >417</td>\n",
       "      <td id=\"T_42367_row11_col1\" class=\"data row11 col1\" >391</td>\n",
       "      <td id=\"T_42367_row11_col2\" class=\"data row11 col2\" >419</td>\n",
       "      <td id=\"T_42367_row11_col3\" class=\"data row11 col3\" >461</td>\n",
       "      <td id=\"T_42367_row11_col4\" class=\"data row11 col4\" >472</td>\n",
       "      <td id=\"T_42367_row11_col5\" class=\"data row11 col5\" >535</td>\n",
       "      <td id=\"T_42367_row11_col6\" class=\"data row11 col6\" >622</td>\n",
       "      <td id=\"T_42367_row11_col7\" class=\"data row11 col7\" >606</td>\n",
       "      <td id=\"T_42367_row11_col8\" class=\"data row11 col8\" >508</td>\n",
       "      <td id=\"T_42367_row11_col9\" class=\"data row11 col9\" >461</td>\n",
       "      <td id=\"T_42367_row11_col10\" class=\"data row11 col10\" >390</td>\n",
       "      <td id=\"T_42367_row11_col11\" class=\"data row11 col11\" >432</td>\n",
       "    </tr>\n",
       "  </tbody>\n",
       "</table>\n"
      ],
      "text/plain": [
       "<pandas.io.formats.style.Styler at 0x1a8864c97f0>"
      ]
     },
     "execution_count": 86,
     "metadata": {},
     "output_type": "execute_result"
    }
   ],
   "source": [
    "df=sns.load_dataset('flights')\n",
    "df.pivot_table(index=\"year\", columns=\"month\").style.background_gradient()"
   ]
  },
  {
   "cell_type": "markdown",
   "metadata": {
    "id": "LDMD8SaczBGQ"
   },
   "source": [
    "### (2) 캘리포니아 집값 데이터 변수별 상관관계 분석\n",
    "\n",
    "* /content/sample_data/california_housing_test.csv을 불러오세요.\n",
    "* 변수별 상관관계를 나타내는 히트맵을 `seaborn`을 이용해  그리세요.\n",
    "* 상관관계가 높은 변수를 찾고, 정리하기\n",
    "\n",
    "\n",
    "* 변수들 중 상관관계가 높은 변수 쌍을 각각 x축, y축으로 하는 산점도를 그리세요. (2개이상)\n",
    "* 변수들 중 `median_house_value`와 가장 상관관계가 높은 변수를 찾고 둘을 각각 x축, y축으로 하는 산점도를 그리세요."
   ]
  },
  {
   "cell_type": "code",
   "execution_count": 91,
   "metadata": {
    "id": "q6J1sL1QM4DP"
   },
   "outputs": [
    {
     "data": {
      "text/plain": [
       "<AxesSubplot:>"
      ]
     },
     "execution_count": 91,
     "metadata": {},
     "output_type": "execute_result"
    },
    {
     "data": {
      "image/png": "[encoded data removed]",
      "text/plain": [
       "<Figure size 1080x576 with 2 Axes>"
      ]
     },
     "metadata": {},
     "output_type": "display_data"
    }
   ],
   "source": [
    "housing = pd.read_csv(\"sample_data/california_housing_test.csv\")\n",
    "\n",
    "housing[\"income_cat\"] = pd.cut(housing[\"median_income\"],\n",
    "                              bins=[0.,1.5,3.0,4.5,6., np.inf ],\n",
    "                              labels=[1,2,3,4,5])\n",
    "\n",
    "# 가구당 방 개수\n",
    "housing[\"rooms_per_household\"] = housing[\"total_rooms\"]/housing[\"households\"]\n",
    "\n",
    "# 방 개수당 침실 개수\n",
    "housing[\"bedrooms_per_room\"] = housing[\"total_bedrooms\"]/housing[\"total_rooms\"]\n",
    "\n",
    "# 가구당 인원\n",
    "housing[\"population_per_household\"]=housing[\"population\"]/housing[\"households\"]\n",
    "\n",
    "temp = housing.corr()\n",
    "sns.heatmap(data=temp, annot=True, cmap=\"Reds\")"
   ]
  },
  {
   "cell_type": "markdown",
   "metadata": {},
   "source": [
    "1. median_income 은 median_house_value와 가장 연관이 크고, rooms_per_household ( 가구당 방 개수)와 0.36 의 상관관계의 상관관계를 가진다\n",
    "1. total_rooms 를 households 로 나눈 rooms_per_household가 total_rooms 보다 유의미한 상관관계를 가진다."
   ]
  },
  {
   "cell_type": "code",
   "execution_count": null,
   "metadata": {},
   "outputs": [],
   "source": []
  }
 ],
 "metadata": {
  "colab": {
   "authorship_tag": "ABX9TyNgO4OUGV91KpCVKQoMNBCx",
   "collapsed_sections": [],
   "include_colab_link": true,
   "name": "ch02_05_히트맵.ipynb",
   "provenance": [],
   "toc_visible": true
  },
  "kernelspec": {
   "display_name": "Python 3 (ipykernel)",
   "language": "python",
   "name": "python3"
  },
  "language_info": {
   "codemirror_mode": {
    "name": "ipython",
    "version": 3
   },
   "file_extension": ".py",
   "mimetype": "text/x-python",
   "name": "python",
   "nbconvert_exporter": "python",
   "pygments_lexer": "ipython3",
   "version": "3.9.7"
  },
  "toc": {
   "base_numbering": 1,
   "nav_menu": {},
   "number_sections": true,
   "sideBar": true,
   "skip_h1_title": false,
   "title_cell": "Table of Contents",
   "title_sidebar": "Contents",
   "toc_cell": false,
   "toc_position": {},
   "toc_section_display": true,
   "toc_window_display": false
  },
  "varInspector": {
   "cols": {
    "lenName": 16,
    "lenType": 16,
    "lenVar": 40
   },
   "kernels_config": {
    "python": {
     "delete_cmd_postfix": "",
     "delete_cmd_prefix": "del ",
     "library": "var_list.py",
     "varRefreshCmd": "print(var_dic_list())"
    },
    "r": {
     "delete_cmd_postfix": ") ",
     "delete_cmd_prefix": "rm(",
     "library": "var_list.r",
     "varRefreshCmd": "cat(var_dic_list()) "
    }
   },
   "types_to_exclude": [
    "module",
    "function",
    "builtin_function_or_method",
    "instance",
    "_Feature"
   ],
   "window_display": false
  }
 },
 "nbformat": 4,
 "nbformat_minor": 1
}
