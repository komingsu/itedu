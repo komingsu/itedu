{
 "cells": [
  {
   "cell_type": "code",
   "execution_count": 1,
   "id": "cde0015d",
   "metadata": {},
   "outputs": [
    {
     "name": "stdout",
     "output_type": "stream",
     "text": [
      "\n",
      "import numpy as np\n",
      "import pandas as pd\n",
      "import matplotlib.pyplot as plt\n",
      "import seaborn as sns\n",
      "\n",
      "import warnings\n",
      "warnings.filterwarnings(action='ignore')\n",
      "\n",
      "plt.rc(\"font\", family=\"Noto Sans KR\", size=9) # 한글 폰트 설정\n",
      "plt.rc(\"axes\", unicode_minus=False) # 음수값 깨지는 폰트 설정\n",
      "pd.options.display.max_columns = 50 # 칼럼수 50개까지\n",
      "\n",
      "\n"
     ]
    }
   ],
   "source": [
    "from Myfunc import *\n",
    "\n",
    "mysetting()"
   ]
  },
  {
   "cell_type": "code",
   "execution_count": 2,
   "id": "047b2c78",
   "metadata": {},
   "outputs": [],
   "source": [
    "import numpy as np\n",
    "import pandas as pd\n",
    "import matplotlib.pyplot as plt\n",
    "import seaborn as sns\n",
    "\n",
    "import warnings\n",
    "warnings.filterwarnings(action='ignore')\n",
    "\n",
    "plt.rc(\"font\", family=\"Noto Sans KR\", size=9) # 한글 폰트 설정\n",
    "plt.rc(\"axes\", unicode_minus=False) # 음수값 깨지는 폰트 설정\n",
    "pd.options.display.max_columns = 50 # 칼럼수 50개까지\n",
    "\n",
    "import glob, os"
   ]
  },
  {
   "cell_type": "code",
   "execution_count": 3,
   "id": "028fc4b1",
   "metadata": {},
   "outputs": [],
   "source": [
    "dfs = []\n",
    "for i in glob.glob(\"부동산데이터 시각화 경진대회/*\"):\n",
    "    a = i.split(\"\\\\\")\n",
    "    a = a[1].split(\".\")\n",
    "    a = a[0]\n",
    "    df = pd.read_csv(i)\n",
    "    df[\"파일\"] = a\n",
    "    dfs.append(df)"
   ]
  },
  {
   "cell_type": "code",
   "execution_count": 54,
   "id": "5e93f013",
   "metadata": {},
   "outputs": [],
   "source": [
    "dfs2 = dfs[5]"
   ]
  },
  {
   "cell_type": "code",
   "execution_count": 55,
   "id": "c6dc5e4f",
   "metadata": {},
   "outputs": [],
   "source": [
    "dfs2 = dfs2.rename({\"Unnamed: 0\" : \"date\"}, axis=1)"
   ]
  },
  {
   "cell_type": "code",
   "execution_count": 56,
   "id": "16c34492",
   "metadata": {},
   "outputs": [
    {
     "data": {
      "text/plain": [
       "[2007,\n",
       " 2007,\n",
       " 2007,\n",
       " 2007,\n",
       " 2007,\n",
       " 2007,\n",
       " 2007,\n",
       " 2007,\n",
       " 2007,\n",
       " 2007,\n",
       " 2007,\n",
       " 2007,\n",
       " 2008,\n",
       " 2008,\n",
       " 2008,\n",
       " 2008,\n",
       " 2008,\n",
       " 2008,\n",
       " 2008,\n",
       " 2008,\n",
       " 2008,\n",
       " 2008,\n",
       " 2008,\n",
       " 2008,\n",
       " 2009,\n",
       " 2009,\n",
       " 2009,\n",
       " 2009,\n",
       " 2009,\n",
       " 2009,\n",
       " 2009,\n",
       " 2009,\n",
       " 2009,\n",
       " 2009,\n",
       " 2009,\n",
       " 2009,\n",
       " 2010,\n",
       " 2010,\n",
       " 2010,\n",
       " 2010,\n",
       " 2010,\n",
       " 2010,\n",
       " 2010,\n",
       " 2010,\n",
       " 2010,\n",
       " 2010,\n",
       " 2010,\n",
       " 2010,\n",
       " 2011,\n",
       " 2011,\n",
       " 2011,\n",
       " 2011,\n",
       " 2011,\n",
       " 2011,\n",
       " 2011,\n",
       " 2011,\n",
       " 2011,\n",
       " 2011,\n",
       " 2011,\n",
       " 2011,\n",
       " 2012,\n",
       " 2012,\n",
       " 2012,\n",
       " 2012,\n",
       " 2012,\n",
       " 2012,\n",
       " 2012,\n",
       " 2012,\n",
       " 2012,\n",
       " 2012,\n",
       " 2012,\n",
       " 2012,\n",
       " 2013,\n",
       " 2013,\n",
       " 2013,\n",
       " 2013,\n",
       " 2013,\n",
       " 2013,\n",
       " 2013,\n",
       " 2013,\n",
       " 2013,\n",
       " 2013,\n",
       " 2013,\n",
       " 2013,\n",
       " 2014,\n",
       " 2014,\n",
       " 2014,\n",
       " 2014,\n",
       " 2014,\n",
       " 2014,\n",
       " 2014,\n",
       " 2014,\n",
       " 2014,\n",
       " 2014,\n",
       " 2014,\n",
       " 2014,\n",
       " 2015,\n",
       " 2015,\n",
       " 2015,\n",
       " 2015,\n",
       " 2015,\n",
       " 2015,\n",
       " 2015,\n",
       " 2015,\n",
       " 2015,\n",
       " 2015,\n",
       " 2015,\n",
       " 2015,\n",
       " 2016,\n",
       " 2016,\n",
       " 2016,\n",
       " 2016,\n",
       " 2016,\n",
       " 2016,\n",
       " 2016,\n",
       " 2016,\n",
       " 2016,\n",
       " 2016,\n",
       " 2016,\n",
       " 2016,\n",
       " 2017,\n",
       " 2017,\n",
       " 2017,\n",
       " 2017,\n",
       " 2017,\n",
       " 2017,\n",
       " 2017,\n",
       " 2017,\n",
       " 2017,\n",
       " 2017,\n",
       " 2017,\n",
       " 2017,\n",
       " 2018,\n",
       " 2018,\n",
       " 2018,\n",
       " 2018,\n",
       " 2018,\n",
       " 2018,\n",
       " 2018,\n",
       " 2018,\n",
       " 2018,\n",
       " 2018,\n",
       " 2018,\n",
       " 2018,\n",
       " 2019,\n",
       " 2019,\n",
       " 2019,\n",
       " 2019,\n",
       " 2019,\n",
       " 2019,\n",
       " 2019,\n",
       " 2019,\n",
       " 2019,\n",
       " 2019,\n",
       " 2019,\n",
       " 2019,\n",
       " 2020,\n",
       " 2020,\n",
       " 2020,\n",
       " 2020,\n",
       " 2020,\n",
       " 2020,\n",
       " 2020,\n",
       " 2020,\n",
       " 2020,\n",
       " 2020,\n",
       " 2020,\n",
       " 2020,\n",
       " 2021,\n",
       " 2021]"
      ]
     },
     "execution_count": 56,
     "metadata": {},
     "output_type": "execute_result"
    }
   ],
   "source": [
    "temp = []\n",
    "for i in dfs2[\"date\"].str.split(\"-\"):\n",
    "    temp.append(int(i[0]))\n",
    "temp"
   ]
  },
  {
   "cell_type": "code",
   "execution_count": 57,
   "id": "a9f7500c",
   "metadata": {},
   "outputs": [],
   "source": [
    "df_dae = dfs2[[\"대구[호]\"]]\n",
    "df_dae[\"year\"] = temp"
   ]
  },
  {
   "cell_type": "code",
   "execution_count": 58,
   "id": "0d020e74",
   "metadata": {},
   "outputs": [
    {
     "data": {
      "text/html": [
       "<div>\n",
       "<style scoped>\n",
       "    .dataframe tbody tr th:only-of-type {\n",
       "        vertical-align: middle;\n",
       "    }\n",
       "\n",
       "    .dataframe tbody tr th {\n",
       "        vertical-align: top;\n",
       "    }\n",
       "\n",
       "    .dataframe thead th {\n",
       "        text-align: right;\n",
       "    }\n",
       "</style>\n",
       "<table border=\"1\" class=\"dataframe\">\n",
       "  <thead>\n",
       "    <tr style=\"text-align: right;\">\n",
       "      <th></th>\n",
       "      <th>대구[호]</th>\n",
       "    </tr>\n",
       "    <tr>\n",
       "      <th>year</th>\n",
       "      <th></th>\n",
       "    </tr>\n",
       "  </thead>\n",
       "  <tbody>\n",
       "    <tr>\n",
       "      <th>2014</th>\n",
       "      <td>116258.0</td>\n",
       "    </tr>\n",
       "    <tr>\n",
       "      <th>2015</th>\n",
       "      <td>118312.0</td>\n",
       "    </tr>\n",
       "    <tr>\n",
       "      <th>2016</th>\n",
       "      <td>146391.0</td>\n",
       "    </tr>\n",
       "    <tr>\n",
       "      <th>2017</th>\n",
       "      <td>198228.0</td>\n",
       "    </tr>\n",
       "    <tr>\n",
       "      <th>2018</th>\n",
       "      <td>220267.0</td>\n",
       "    </tr>\n",
       "    <tr>\n",
       "      <th>2019</th>\n",
       "      <td>132543.0</td>\n",
       "    </tr>\n",
       "    <tr>\n",
       "      <th>2020</th>\n",
       "      <td>160384.0</td>\n",
       "    </tr>\n",
       "    <tr>\n",
       "      <th>2021</th>\n",
       "      <td>2051.0</td>\n",
       "    </tr>\n",
       "  </tbody>\n",
       "</table>\n",
       "</div>"
      ],
      "text/plain": [
       "         대구[호]\n",
       "year          \n",
       "2014  116258.0\n",
       "2015  118312.0\n",
       "2016  146391.0\n",
       "2017  198228.0\n",
       "2018  220267.0\n",
       "2019  132543.0\n",
       "2020  160384.0\n",
       "2021    2051.0"
      ]
     },
     "execution_count": 58,
     "metadata": {},
     "output_type": "execute_result"
    }
   ],
   "source": [
    "df_dae_sum = df_dae.groupby([\"year\"]).sum()\n",
    "df_dae_f = df_dae_sum[df_dae_sum.index>=2014]\n",
    "df_dae_f"
   ]
  },
  {
   "cell_type": "code",
   "execution_count": 59,
   "id": "b6533a0d",
   "metadata": {},
   "outputs": [
    {
     "data": {
      "image/png": "[encoded data removed]",
      "text/plain": [
       "<Figure size 1080x576 with 1 Axes>"
      ]
     },
     "metadata": {},
     "output_type": "display_data"
    }
   ],
   "source": [
    "palette = sns.color_palette(\"bright\")\n",
    "sns.set_palette(\"Paired\")\n",
    "sns.set(rc = {\"figure.figsize\" : (15,8)})\n",
    "wedgeprops={'width': 0.7, 'edgecolor': 'w', 'linewidth': 5}\n",
    "\n",
    "plt.pie(df_dae_f['대구[호]'], labels=df_dae_f.index, autopct='%.1f%%', wedgeprops=wedgeprops, startangle=90, counterclock=False,)\n",
    "plt.show()"
   ]
  },
  {
   "cell_type": "code",
   "execution_count": null,
   "id": "1ff34aea",
   "metadata": {},
   "outputs": [],
   "source": []
  },
  {
   "cell_type": "code",
   "execution_count": null,
   "id": "7b605c82",
   "metadata": {},
   "outputs": [],
   "source": []
  },
  {
   "cell_type": "code",
   "execution_count": null,
   "id": "48ce2598",
   "metadata": {},
   "outputs": [],
   "source": []
  },
  {
   "cell_type": "code",
   "execution_count": null,
   "id": "d570364b",
   "metadata": {},
   "outputs": [],
   "source": []
  }
 ],
 "metadata": {
  "kernelspec": {
   "display_name": "Python 3 (ipykernel)",
   "language": "python",
   "name": "python3"
  },
  "language_info": {
   "codemirror_mode": {
    "name": "ipython",
    "version": 3
   },
   "file_extension": ".py",
   "mimetype": "text/x-python",
   "name": "python",
   "nbconvert_exporter": "python",
   "pygments_lexer": "ipython3",
   "version": "3.9.7"
  },
  "toc": {
   "base_numbering": 1,
   "nav_menu": {},
   "number_sections": true,
   "sideBar": true,
   "skip_h1_title": false,
   "title_cell": "Table of Contents",
   "title_sidebar": "Contents",
   "toc_cell": false,
   "toc_position": {},
   "toc_section_display": true,
   "toc_window_display": false
  },
  "varInspector": {
   "cols": {
    "lenName": 16,
    "lenType": 16,
    "lenVar": 40
   },
   "kernels_config": {
    "python": {
     "delete_cmd_postfix": "",
     "delete_cmd_prefix": "del ",
     "library": "var_list.py",
     "varRefreshCmd": "print(var_dic_list())"
    },
    "r": {
     "delete_cmd_postfix": ") ",
     "delete_cmd_prefix": "rm(",
     "library": "var_list.r",
     "varRefreshCmd": "cat(var_dic_list()) "
    }
   },
   "types_to_exclude": [
    "module",
    "function",
    "builtin_function_or_method",
    "instance",
    "_Feature"
   ],
   "window_display": false
  }
 },
 "nbformat": 4,
 "nbformat_minor": 5
}
