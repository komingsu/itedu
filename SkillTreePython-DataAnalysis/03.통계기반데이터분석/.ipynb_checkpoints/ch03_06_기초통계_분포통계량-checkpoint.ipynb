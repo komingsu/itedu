{
 "cells": [
  {
   "cell_type": "markdown",
   "metadata": {
    "colab_type": "text",
    "id": "view-in-github"
   },
   "source": [
    "<a href=\"https://colab.research.google.com/github/yebiny/SkillTreePython-DataAnalysis/blob/main/03.%ED%86%B5%EA%B3%84%EA%B8%B0%EB%B0%98%EB%8D%B0%EC%9D%B4%ED%84%B0%EB%B6%84%EC%84%9D/ch03_06_%EA%B8%B0%EC%B4%88%ED%86%B5%EA%B3%84_%EB%B6%84%ED%8F%AC%ED%86%B5%EA%B3%84%EB%9F%89.ipynb\" target=\"_parent\"><img src=\"https://colab.research.google.com/assets/colab-badge.svg\" alt=\"Open In Colab\"/></a>"
   ]
  },
  {
   "cell_type": "markdown",
   "metadata": {
    "id": "wWpXZc2fi39U"
   },
   "source": [
    "# ch03.06. 기초통계 - 분포통계량\n",
    "---\n",
    "* 날짜: 2022-05-09\n",
    "* 이름: 고민수\n",
    "\n",
    "## 학습내용\n",
    "    - 백분위수, 사분위수\n",
    "    - 왜도\n",
    "    - 첨도"
   ]
  },
  {
   "cell_type": "code",
   "execution_count": 1,
   "metadata": {
    "id": "uYLRSgCqw4YZ"
   },
   "outputs": [],
   "source": [
    "import numpy as np\n",
    "import matplotlib.pyplot as plt\n",
    "import pandas as pd\n",
    "import seaborn as sns"
   ]
  },
  {
   "cell_type": "markdown",
   "metadata": {
    "id": "rx3G1AI_nCTw"
   },
   "source": [
    "##  분포 통계\n",
    "---\n",
    "\n",
    "* 분포통계는 데이터의 위치나 모양을 확인"
   ]
  },
  {
   "cell_type": "markdown",
   "metadata": {
    "id": "Qamnn6ffuxFL"
   },
   "source": [
    "### **| 데이터 생성**\n",
    "\n",
    "```\n",
    "# 아래의 함수는 정규분포를 따르는 랜덤한 실수를 반환합니다.\n",
    "np.random.normal(loc, scale, size)\n",
    "# loc = 평균\n",
    "# scale = 표준편차\n",
    "# size = 추출할 데이터(표본)의 크기\n",
    "```"
   ]
  },
  {
   "cell_type": "markdown",
   "metadata": {
    "id": "T8BAXON4vIxO"
   },
   "source": [
    "* 평균 0, 표준편차 1인 정규분포 데이터 1000개를 생성하기"
   ]
  },
  {
   "cell_type": "code",
   "execution_count": 2,
   "metadata": {
    "id": "QGUgicvFFpBp"
   },
   "outputs": [],
   "source": [
    "# 넘파이 랜덤 시드 0으로 설정\n",
    "np.random.seed(0)\n",
    "# 넘파이 배열 `a`로 바인딩\n",
    "a = np.random.normal(0,1,1000)"
   ]
  },
  {
   "cell_type": "markdown",
   "metadata": {
    "id": "tiM7-w9kvR7W"
   },
   "source": [
    "* `a` 분포 그리기"
   ]
  },
  {
   "cell_type": "code",
   "execution_count": 4,
   "metadata": {
    "id": "gz9cjV1FwGQH"
   },
   "outputs": [
    {
     "data": {
      "text/plain": [
       "(array([ 1.,  4.,  4.,  4.,  6., 10., 14., 27., 29., 39., 44., 63., 62.,\n",
       "        88., 67., 86., 70., 83., 56., 54., 50., 36., 28., 22., 16., 13.,\n",
       "         9.,  8.,  4.,  3.]),\n",
       " array([-3.04614305, -2.85262645, -2.65910984, -2.46559324, -2.27207663,\n",
       "        -2.07856003, -1.88504342, -1.69152682, -1.49801021, -1.3044936 ,\n",
       "        -1.110977  , -0.91746039, -0.72394379, -0.53042718, -0.33691058,\n",
       "        -0.14339397,  0.05012264,  0.24363924,  0.43715585,  0.63067245,\n",
       "         0.82418906,  1.01770566,  1.21122227,  1.40473887,  1.59825548,\n",
       "         1.79177209,  1.98528869,  2.1788053 ,  2.3723219 ,  2.56583851,\n",
       "         2.75935511]),\n",
       " <BarContainer object of 30 artists>)"
      ]
     },
     "execution_count": 4,
     "metadata": {},
     "output_type": "execute_result"
    },
    {
     "data": {
      "image/png": "[encoded data removed]",
      "text/plain": [
       "<Figure size 432x288 with 1 Axes>"
      ]
     },
     "metadata": {
      "needs_background": "light"
     },
     "output_type": "display_data"
    }
   ],
   "source": [
    "plt.hist(a, bins=30)"
   ]
  },
  {
   "cell_type": "markdown",
   "metadata": {
    "id": "WGyw7XqJF1x_"
   },
   "source": [
    "### **| 백분위수와 사분위수**\n",
    "\n",
    "<p align='center'>\n",
    "<img src=https://github.com/yebiny/SkillTreePython-DataAnalysis/blob/main/imgs/ch0306-03.png?raw=true width=800>\n",
    "</p>\n",
    "\n",
    "```\n",
    "np.percentile(x,  percent)\n",
    "np.quantile(x, percent_ratio)\n",
    "```"
   ]
  },
  {
   "cell_type": "markdown",
   "metadata": {
    "id": "AG9r8NEgJrk6"
   },
   "source": [
    "* 하위 10% 에 위치한 값 확인"
   ]
  },
  {
   "cell_type": "code",
   "execution_count": 5,
   "metadata": {
    "id": "bfHNqDlAFtt3"
   },
   "outputs": [
    {
     "name": "stdout",
     "output_type": "stream",
     "text": [
      "-1.2991423253580128\n",
      "-1.2991423253580128\n"
     ]
    }
   ],
   "source": [
    "# percentile 사용\n",
    "print(np.percentile(a,  10))\n",
    "# quantile 사용\n",
    "print(np.quantile(a,0.1))"
   ]
  },
  {
   "cell_type": "markdown",
   "metadata": {
    "id": "3L-oTyFpJzeV"
   },
   "source": [
    "* 하위 80% 에 위치한 값 확인"
   ]
  },
  {
   "cell_type": "code",
   "execution_count": 6,
   "metadata": {
    "id": "12js6oJuFtt4"
   },
   "outputs": [
    {
     "name": "stdout",
     "output_type": "stream",
     "text": [
      "0.7883967913601156\n",
      "0.7883967913601156\n"
     ]
    }
   ],
   "source": [
    "# percentile 사용\n",
    "print(np.percentile(a,  80))\n",
    "# quantile 사용\n",
    "print(np.quantile(a,0.8))"
   ]
  },
  {
   "cell_type": "markdown",
   "metadata": {
    "id": "nc2SspMDFtt5"
   },
   "source": [
    "### **| 왜도 (skew)**\n",
    "\n",
    "<p align='center'>\n",
    "<img src=https://github.com/yebiny/SkillTreePython-DataAnalysis/blob/main/imgs/ch0306-01.png?raw=true width=800>\n",
    "</p>\n",
    "\n",
    "\n",
    "\n",
    "\\begin{align}\n",
    "\\text{skew} = \n",
    "\\frac{\\tfrac{1}{N} \\sum_{i=1}^N (x_i-\\overline{x})^3}{ \\sqrt{\\tfrac{1}{N-1} \\sum_{i=1}^N (x_i-\\overline{x})^2}^{\\,3}}\n",
    "\\end{align}\n",
    "\n",
    "```\n",
    "from scipy.stats import skew\n",
    "skew(a)\n",
    "```"
   ]
  },
  {
   "cell_type": "markdown",
   "metadata": {
    "id": "JC81wNfOLdPz"
   },
   "source": [
    "* `a`의 왜도 구하기"
   ]
  },
  {
   "cell_type": "code",
   "execution_count": 7,
   "metadata": {
    "id": "woGfKcmlLUAw"
   },
   "outputs": [
    {
     "data": {
      "text/plain": [
       "0.03385895323565712"
      ]
     },
     "execution_count": 7,
     "metadata": {},
     "output_type": "execute_result"
    }
   ],
   "source": [
    "from scipy.stats import skew\n",
    "skew(a)"
   ]
  },
  {
   "cell_type": "markdown",
   "metadata": {
    "id": "y3fMGZC_WYJA"
   },
   "source": [
    "* 세개의 데이터의 분포를 그리고 각각의 왜도도 구해봅니다.\n",
    "\n",
    "```\n",
    "x1 = [1,2,3,4,5,2,3,4]\n",
    "x2 = [1,2,3,4,5,1,2]\n",
    "x3 = [1,2,3,4,5,4,5]\n",
    "```"
   ]
  },
  {
   "cell_type": "code",
   "execution_count": 13,
   "metadata": {},
   "outputs": [
    {
     "data": {
      "text/plain": [
       "0.0"
      ]
     },
     "execution_count": 13,
     "metadata": {},
     "output_type": "execute_result"
    },
    {
     "data": {
      "image/png": "[encoded data removed]",
      "text/plain": [
       "<Figure size 432x288 with 1 Axes>"
      ]
     },
     "metadata": {
      "needs_background": "light"
     },
     "output_type": "display_data"
    }
   ],
   "source": [
    "x1 = [1,2,3,4,5,2,3,4]\n",
    "plt.hist(x1, bins=20)\n",
    "skew(x1)"
   ]
  },
  {
   "cell_type": "code",
   "execution_count": 14,
   "metadata": {},
   "outputs": [
    {
     "data": {
      "text/plain": [
       "0.478415965387339"
      ]
     },
     "execution_count": 14,
     "metadata": {},
     "output_type": "execute_result"
    },
    {
     "data": {
      "image/png": "[encoded data removed]",
      "text/plain": [
       "<Figure size 432x288 with 1 Axes>"
      ]
     },
     "metadata": {
      "needs_background": "light"
     },
     "output_type": "display_data"
    }
   ],
   "source": [
    "x2 = [1,2,3,4,5,1,2]\n",
    "plt.hist(x2, bins=20)\n",
    "skew(x2)"
   ]
  },
  {
   "cell_type": "code",
   "execution_count": 15,
   "metadata": {},
   "outputs": [
    {
     "data": {
      "text/plain": [
       "-0.4784159653873392"
      ]
     },
     "execution_count": 15,
     "metadata": {},
     "output_type": "execute_result"
    },
    {
     "data": {
      "image/png": "[encoded data removed]",
      "text/plain": [
       "<Figure size 432x288 with 1 Axes>"
      ]
     },
     "metadata": {
      "needs_background": "light"
     },
     "output_type": "display_data"
    }
   ],
   "source": [
    "x3 = [1,2,3,4,5,4,5]\n",
    "plt.hist(x3, bins=20)\n",
    "skew(x3)"
   ]
  },
  {
   "cell_type": "markdown",
   "metadata": {
    "id": "6hJXW79CFtt8"
   },
   "source": [
    "### **| 첨도(kurtosis)**\n",
    "\n",
    "\n",
    "<p align='center'>\n",
    "<img src=https://github.com/yebiny/SkillTreePython-DataAnalysis/blob/main/imgs/ch0306-02.png?raw=true width=300>\n",
    "</p>\n",
    "\n",
    "\n",
    "\\begin{align}\n",
    "\\text{kurtosis} = \n",
    "\\frac{\\tfrac{1}{N} \\sum_{i=1}^N (x_i - \\overline{x})^4}{\\left(\\tfrac{1}{N} \\sum_{i=1}^N (x_i - \\overline{x})^2\\right)^2} - 3\n",
    "\\end{align}\n",
    "\n",
    "```\n",
    "from scipy.stats import kurtosis\n",
    "kurtosis(a)\n",
    "```"
   ]
  },
  {
   "cell_type": "code",
   "execution_count": 16,
   "metadata": {
    "id": "Pod4__SoM3yd"
   },
   "outputs": [
    {
     "data": {
      "text/plain": [
       "-0.0467663244783294"
      ]
     },
     "execution_count": 16,
     "metadata": {},
     "output_type": "execute_result"
    }
   ],
   "source": [
    "from scipy.stats import kurtosis\n",
    "kurtosis(a)"
   ]
  },
  {
   "cell_type": "markdown",
   "metadata": {
    "id": "QtKwSOfDX3GI"
   },
   "source": [
    "* 세개의 데이터의 분포를 그리고 각각의 첨도도 구해봅니다.\n",
    "\n",
    "```\n",
    "x1 = [1,2,3,4,5,]\n",
    "x2 = [1,2,3,4,5,1]\n",
    "x3 = [1,2,3,4,5,1,1,1]\n",
    "```"
   ]
  },
  {
   "cell_type": "code",
   "execution_count": 17,
   "metadata": {
    "id": "cvwL-aAQX3GN"
   },
   "outputs": [
    {
     "data": {
      "text/plain": [
       "-1.0"
      ]
     },
     "execution_count": 17,
     "metadata": {},
     "output_type": "execute_result"
    },
    {
     "data": {
      "image/png": "[encoded data removed]",
      "text/plain": [
       "<Figure size 432x288 with 1 Axes>"
      ]
     },
     "metadata": {
      "needs_background": "light"
     },
     "output_type": "display_data"
    }
   ],
   "source": [
    "x1 = [1,2,3,4,5,2,3,4]\n",
    "plt.hist(x1, bins=20)\n",
    "kurtosis(x1)"
   ]
  },
  {
   "cell_type": "code",
   "execution_count": 18,
   "metadata": {},
   "outputs": [
    {
     "data": {
      "text/plain": [
       "-1.087239583333334"
      ]
     },
     "execution_count": 18,
     "metadata": {},
     "output_type": "execute_result"
    },
    {
     "data": {
      "image/png": "[encoded data removed]",
      "text/plain": [
       "<Figure size 432x288 with 1 Axes>"
      ]
     },
     "metadata": {
      "needs_background": "light"
     },
     "output_type": "display_data"
    }
   ],
   "source": [
    "x2 = [1,2,3,4,5,1,2]\n",
    "plt.hist(x2, bins=20)\n",
    "kurtosis(x2)"
   ]
  },
  {
   "cell_type": "code",
   "execution_count": 19,
   "metadata": {},
   "outputs": [
    {
     "data": {
      "text/plain": [
       "-1.0872395833333337"
      ]
     },
     "execution_count": 19,
     "metadata": {},
     "output_type": "execute_result"
    },
    {
     "data": {
      "image/png": "[encoded data removed]",
      "text/plain": [
       "<Figure size 432x288 with 1 Axes>"
      ]
     },
     "metadata": {
      "needs_background": "light"
     },
     "output_type": "display_data"
    }
   ],
   "source": [
    "x3 = [1,2,3,4,5,4,5]\n",
    "plt.hist(x3, bins=20)\n",
    "kurtosis(x3)"
   ]
  },
  {
   "cell_type": "markdown",
   "metadata": {
    "id": "z6JYAMB_4Xq7"
   },
   "source": [
    "## 예제\n",
    "---"
   ]
  },
  {
   "cell_type": "markdown",
   "metadata": {
    "id": "zrSXtss0NZZB"
   },
   "source": [
    "#### **예제 01**\n",
    "\n",
    "1. 지난 시간에 배운 scipy 라이브러리의 gamma 함수를 사용합니다. \n",
    "\n",
    "2. a값이 4인 감마함수로 부터 표본을 1000개 추출하고 `x3`로 바인딩합니다.\n",
    "\n",
    "4. a값이 12인 감마함수로 부터 표본을 1000개 추출하고 `x4`로 바인딩합니다.\n",
    "\n",
    "6. `x3`의 모든 요소에 -1을 곱한 후 `x2`로 바인딩합니다.\n",
    "\n",
    "6. `x4`의 모든 요소에 -1을 곱한 후 `x1`로 바인딩합니다.\n",
    "\n",
    "7. `x1, x2, x3, x4`의 분포를 각각 그립니다.\n",
    "\n",
    "7. `x1, x2, x3, x4`의 왜도를 각각 구합니다.\n",
    "\n",
    "7. `x1, x2, x3, x4`의 첨도를 각각 구합니다.\n"
   ]
  },
  {
   "cell_type": "code",
   "execution_count": 26,
   "metadata": {
    "id": "QoPSm3Y8Yhmk"
   },
   "outputs": [],
   "source": [
    "# 지난 시간에 배운 scipy 라이브러리의 gamma 함수를 사용합니다.\n",
    "import scipy as sp\n",
    "from scipy.stats import *"
   ]
  },
  {
   "cell_type": "code",
   "execution_count": 22,
   "metadata": {
    "id": "AnLfGPNqGDBt"
   },
   "outputs": [],
   "source": [
    "# a값이 4인 감마함수로 부터 표본을 1000개 추출하고 x3로 바인딩합니다.\n",
    "# a값이 12인 감마함수로 부터 표본을 1000개 추출하고 x4로 바인딩합니다.\n",
    "x3 = gamma.rvs(4, loc=0, scale=100, size=1000, random_state=0)\n",
    "x4 = gamma.rvs(12, loc=0, scale=100, size=1000, random_state=0)"
   ]
  },
  {
   "cell_type": "code",
   "execution_count": 25,
   "metadata": {
    "id": "-4D8rxL9SbY0"
   },
   "outputs": [],
   "source": [
    "# x3의 모든 요소에 -1을 곱한 후 x2로 바인딩합니다.\n",
    "# x4의 모든 요소에 -1을 곱한 후 x1로 바인딩합니다.\n",
    "x2= x3*-1\n",
    "x1= x4*-1"
   ]
  },
  {
   "cell_type": "code",
   "execution_count": 27,
   "metadata": {},
   "outputs": [
    {
     "data": {
      "image/png": "[encoded data removed]",
      "text/plain": [
       "<Figure size 576x360 with 1 Axes>"
      ]
     },
     "metadata": {
      "needs_background": "light"
     },
     "output_type": "display_data"
    }
   ],
   "source": [
    "# x1, x2, x3, x4의 분포를 각각 그립니다.\n",
    "plt.figure(figsize=(8,5))\n",
    "plt.hist(x1,bins=30,alpha=0.5, label=\"x1\")\n",
    "plt.hist(x2, bins=30,alpha=0.5, label=\"x2\")\n",
    "plt.hist(x3,bins=30,alpha=0.5, label=\"x3\")\n",
    "plt.hist(x4, bins=30,alpha=0.5, label=\"x4\")\n",
    "plt.legend()\n",
    "plt.show()"
   ]
  },
  {
   "cell_type": "code",
   "execution_count": 28,
   "metadata": {},
   "outputs": [
    {
     "name": "stdout",
     "output_type": "stream",
     "text": [
      "skew(x1) :\t -0.5583272638164033\n",
      "skew(x2) :\t -0.9516556121881171\n",
      "skew(x3) :\t 0.9516556121881171\n",
      "skew(x4) :\t 0.5583272638164033\n"
     ]
    }
   ],
   "source": [
    "# x1, x2, x3, x4의 왜도를 각각 구합니다.\n",
    "print(\"skew(x1) :\\t\",skew(x1))\n",
    "print(\"skew(x2) :\\t\",skew(x2))\n",
    "print(\"skew(x3) :\\t\",skew(x3))\n",
    "print(\"skew(x4) :\\t\",skew(x4))"
   ]
  },
  {
   "cell_type": "code",
   "execution_count": 29,
   "metadata": {},
   "outputs": [
    {
     "name": "stdout",
     "output_type": "stream",
     "text": [
      "kurtosis(x1) :\t 0.3277659042967258\n",
      "kurtosis(x2) :\t 1.127474671947959\n",
      "kurtosis(x3) :\t 1.127474671947959\n",
      "kurtosis(x4) :\t 0.3277659042967258\n"
     ]
    }
   ],
   "source": [
    "print(\"kurtosis(x1) :\\t\",kurtosis(x1))\n",
    "print(\"kurtosis(x2) :\\t\",kurtosis(x2))\n",
    "print(\"kurtosis(x3) :\\t\",kurtosis(x3))\n",
    "print(\"kurtosis(x4) :\\t\",kurtosis(x4))"
   ]
  },
  {
   "cell_type": "markdown",
   "metadata": {
    "id": "vC9QE_7R5njn"
   },
   "source": [
    "#### **예제 02**\n",
    "\n",
    "타이타닉 데이터셋을 가져오고, 수치자료형 변수들의 **산포통계**와 **분포통계**를 정리하세요."
   ]
  },
  {
   "cell_type": "code",
   "execution_count": 30,
   "metadata": {},
   "outputs": [],
   "source": [
    "df = sns.load_dataset('titanic')"
   ]
  },
  {
   "cell_type": "code",
   "execution_count": 31,
   "metadata": {
    "id": "mOw2b43-51ZF"
   },
   "outputs": [],
   "source": [
    "df[\"deck\"] = df[\"deck\"].astype(object)\n",
    "df[\"sex\"]=df[\"sex\"].replace({\"male\" : 1, \"female\":0})\n",
    "df[\"embarked\"]=df[\"embarked\"].replace({\"S\" : 0, \"C\":1, \"Q\":2})\n",
    "df[\"class\"]=df[\"class\"].replace({\"First\" : 1, \"Second\":2, \"Third\":3})\n",
    "df[\"who\"]=df[\"who\"].replace({\"man\" : 1, \"woman\":0, \"child\":2})\n",
    "df[\"adult_male\"]=df[\"adult_male\"].replace({True : 1, False:0})\n",
    "df[\"deck\"]=df[\"deck\"].replace({\"A\" : 1, \"B\":2,\"C\" : 3, \"D\":4,\"E\" : 5, \"F\":6,\"G\" : 7, np.nan:0})\n",
    "df[\"alive\"]=df[\"alive\"].replace({\"yes\" : 1, \"no\":0})\n",
    "df[\"alone\"]=df[\"alone\"].replace({True : 1, False:0})\n",
    "df['deck'] = df['deck'].replace(np.nan,0)\n",
    "df = df.drop(\"embark_town\", axis=1)\n",
    "df[\"deck\"] = df[\"deck\"].astype(int)\n",
    "df[\"class\"] = df[\"class\"].astype(int)"
   ]
  },
  {
   "cell_type": "code",
   "execution_count": 32,
   "metadata": {},
   "outputs": [
    {
     "data": {
      "text/html": [
       "<div>\n",
       "<style scoped>\n",
       "    .dataframe tbody tr th:only-of-type {\n",
       "        vertical-align: middle;\n",
       "    }\n",
       "\n",
       "    .dataframe tbody tr th {\n",
       "        vertical-align: top;\n",
       "    }\n",
       "\n",
       "    .dataframe thead th {\n",
       "        text-align: right;\n",
       "    }\n",
       "</style>\n",
       "<table border=\"1\" class=\"dataframe\">\n",
       "  <thead>\n",
       "    <tr style=\"text-align: right;\">\n",
       "      <th></th>\n",
       "      <th>survived</th>\n",
       "      <th>pclass</th>\n",
       "      <th>sex</th>\n",
       "      <th>age</th>\n",
       "      <th>sibsp</th>\n",
       "      <th>parch</th>\n",
       "      <th>fare</th>\n",
       "      <th>embarked</th>\n",
       "      <th>class</th>\n",
       "      <th>who</th>\n",
       "      <th>adult_male</th>\n",
       "      <th>deck</th>\n",
       "      <th>alive</th>\n",
       "      <th>alone</th>\n",
       "    </tr>\n",
       "  </thead>\n",
       "  <tbody>\n",
       "    <tr>\n",
       "      <th>0</th>\n",
       "      <td>0</td>\n",
       "      <td>3</td>\n",
       "      <td>1</td>\n",
       "      <td>22.0</td>\n",
       "      <td>1</td>\n",
       "      <td>0</td>\n",
       "      <td>7.2500</td>\n",
       "      <td>0.0</td>\n",
       "      <td>3</td>\n",
       "      <td>1</td>\n",
       "      <td>1</td>\n",
       "      <td>0</td>\n",
       "      <td>0</td>\n",
       "      <td>0</td>\n",
       "    </tr>\n",
       "    <tr>\n",
       "      <th>1</th>\n",
       "      <td>1</td>\n",
       "      <td>1</td>\n",
       "      <td>0</td>\n",
       "      <td>38.0</td>\n",
       "      <td>1</td>\n",
       "      <td>0</td>\n",
       "      <td>71.2833</td>\n",
       "      <td>1.0</td>\n",
       "      <td>1</td>\n",
       "      <td>0</td>\n",
       "      <td>0</td>\n",
       "      <td>3</td>\n",
       "      <td>1</td>\n",
       "      <td>0</td>\n",
       "    </tr>\n",
       "    <tr>\n",
       "      <th>2</th>\n",
       "      <td>1</td>\n",
       "      <td>3</td>\n",
       "      <td>0</td>\n",
       "      <td>26.0</td>\n",
       "      <td>0</td>\n",
       "      <td>0</td>\n",
       "      <td>7.9250</td>\n",
       "      <td>0.0</td>\n",
       "      <td>3</td>\n",
       "      <td>0</td>\n",
       "      <td>0</td>\n",
       "      <td>0</td>\n",
       "      <td>1</td>\n",
       "      <td>1</td>\n",
       "    </tr>\n",
       "    <tr>\n",
       "      <th>3</th>\n",
       "      <td>1</td>\n",
       "      <td>1</td>\n",
       "      <td>0</td>\n",
       "      <td>35.0</td>\n",
       "      <td>1</td>\n",
       "      <td>0</td>\n",
       "      <td>53.1000</td>\n",
       "      <td>0.0</td>\n",
       "      <td>1</td>\n",
       "      <td>0</td>\n",
       "      <td>0</td>\n",
       "      <td>3</td>\n",
       "      <td>1</td>\n",
       "      <td>0</td>\n",
       "    </tr>\n",
       "    <tr>\n",
       "      <th>4</th>\n",
       "      <td>0</td>\n",
       "      <td>3</td>\n",
       "      <td>1</td>\n",
       "      <td>35.0</td>\n",
       "      <td>0</td>\n",
       "      <td>0</td>\n",
       "      <td>8.0500</td>\n",
       "      <td>0.0</td>\n",
       "      <td>3</td>\n",
       "      <td>1</td>\n",
       "      <td>1</td>\n",
       "      <td>0</td>\n",
       "      <td>0</td>\n",
       "      <td>1</td>\n",
       "    </tr>\n",
       "    <tr>\n",
       "      <th>...</th>\n",
       "      <td>...</td>\n",
       "      <td>...</td>\n",
       "      <td>...</td>\n",
       "      <td>...</td>\n",
       "      <td>...</td>\n",
       "      <td>...</td>\n",
       "      <td>...</td>\n",
       "      <td>...</td>\n",
       "      <td>...</td>\n",
       "      <td>...</td>\n",
       "      <td>...</td>\n",
       "      <td>...</td>\n",
       "      <td>...</td>\n",
       "      <td>...</td>\n",
       "    </tr>\n",
       "    <tr>\n",
       "      <th>886</th>\n",
       "      <td>0</td>\n",
       "      <td>2</td>\n",
       "      <td>1</td>\n",
       "      <td>27.0</td>\n",
       "      <td>0</td>\n",
       "      <td>0</td>\n",
       "      <td>13.0000</td>\n",
       "      <td>0.0</td>\n",
       "      <td>2</td>\n",
       "      <td>1</td>\n",
       "      <td>1</td>\n",
       "      <td>0</td>\n",
       "      <td>0</td>\n",
       "      <td>1</td>\n",
       "    </tr>\n",
       "    <tr>\n",
       "      <th>887</th>\n",
       "      <td>1</td>\n",
       "      <td>1</td>\n",
       "      <td>0</td>\n",
       "      <td>19.0</td>\n",
       "      <td>0</td>\n",
       "      <td>0</td>\n",
       "      <td>30.0000</td>\n",
       "      <td>0.0</td>\n",
       "      <td>1</td>\n",
       "      <td>0</td>\n",
       "      <td>0</td>\n",
       "      <td>2</td>\n",
       "      <td>1</td>\n",
       "      <td>1</td>\n",
       "    </tr>\n",
       "    <tr>\n",
       "      <th>888</th>\n",
       "      <td>0</td>\n",
       "      <td>3</td>\n",
       "      <td>0</td>\n",
       "      <td>NaN</td>\n",
       "      <td>1</td>\n",
       "      <td>2</td>\n",
       "      <td>23.4500</td>\n",
       "      <td>0.0</td>\n",
       "      <td>3</td>\n",
       "      <td>0</td>\n",
       "      <td>0</td>\n",
       "      <td>0</td>\n",
       "      <td>0</td>\n",
       "      <td>0</td>\n",
       "    </tr>\n",
       "    <tr>\n",
       "      <th>889</th>\n",
       "      <td>1</td>\n",
       "      <td>1</td>\n",
       "      <td>1</td>\n",
       "      <td>26.0</td>\n",
       "      <td>0</td>\n",
       "      <td>0</td>\n",
       "      <td>30.0000</td>\n",
       "      <td>1.0</td>\n",
       "      <td>1</td>\n",
       "      <td>1</td>\n",
       "      <td>1</td>\n",
       "      <td>3</td>\n",
       "      <td>1</td>\n",
       "      <td>1</td>\n",
       "    </tr>\n",
       "    <tr>\n",
       "      <th>890</th>\n",
       "      <td>0</td>\n",
       "      <td>3</td>\n",
       "      <td>1</td>\n",
       "      <td>32.0</td>\n",
       "      <td>0</td>\n",
       "      <td>0</td>\n",
       "      <td>7.7500</td>\n",
       "      <td>2.0</td>\n",
       "      <td>3</td>\n",
       "      <td>1</td>\n",
       "      <td>1</td>\n",
       "      <td>0</td>\n",
       "      <td>0</td>\n",
       "      <td>1</td>\n",
       "    </tr>\n",
       "  </tbody>\n",
       "</table>\n",
       "<p>891 rows × 14 columns</p>\n",
       "</div>"
      ],
      "text/plain": [
       "     survived  pclass  sex   age  sibsp  parch     fare  embarked  class  who  \\\n",
       "0           0       3    1  22.0      1      0   7.2500       0.0      3    1   \n",
       "1           1       1    0  38.0      1      0  71.2833       1.0      1    0   \n",
       "2           1       3    0  26.0      0      0   7.9250       0.0      3    0   \n",
       "3           1       1    0  35.0      1      0  53.1000       0.0      1    0   \n",
       "4           0       3    1  35.0      0      0   8.0500       0.0      3    1   \n",
       "..        ...     ...  ...   ...    ...    ...      ...       ...    ...  ...   \n",
       "886         0       2    1  27.0      0      0  13.0000       0.0      2    1   \n",
       "887         1       1    0  19.0      0      0  30.0000       0.0      1    0   \n",
       "888         0       3    0   NaN      1      2  23.4500       0.0      3    0   \n",
       "889         1       1    1  26.0      0      0  30.0000       1.0      1    1   \n",
       "890         0       3    1  32.0      0      0   7.7500       2.0      3    1   \n",
       "\n",
       "     adult_male  deck  alive  alone  \n",
       "0             1     0      0      0  \n",
       "1             0     3      1      0  \n",
       "2             0     0      1      1  \n",
       "3             0     3      1      0  \n",
       "4             1     0      0      1  \n",
       "..          ...   ...    ...    ...  \n",
       "886           1     0      0      1  \n",
       "887           0     2      1      1  \n",
       "888           0     0      0      0  \n",
       "889           1     3      1      1  \n",
       "890           1     0      0      1  \n",
       "\n",
       "[891 rows x 14 columns]"
      ]
     },
     "execution_count": 32,
     "metadata": {},
     "output_type": "execute_result"
    }
   ],
   "source": [
    "df"
   ]
  },
  {
   "cell_type": "code",
   "execution_count": 47,
   "metadata": {},
   "outputs": [
    {
     "data": {
      "text/plain": [
       "[7.25,\n",
       " 71.2833,\n",
       " 7.925,\n",
       " 53.1,\n",
       " 8.05,\n",
       " 8.4583,\n",
       " 51.8625,\n",
       " 21.075,\n",
       " 11.1333,\n",
       " 30.0708,\n",
       " 16.7,\n",
       " 26.55,\n",
       " 8.05,\n",
       " 31.275,\n",
       " 7.8542,\n",
       " 16.0,\n",
       " 29.125,\n",
       " 13.0,\n",
       " 18.0,\n",
       " 7.225,\n",
       " 26.0,\n",
       " 13.0,\n",
       " 8.0292,\n",
       " 35.5,\n",
       " 21.075,\n",
       " 31.3875,\n",
       " 7.225,\n",
       " 263.0,\n",
       " 7.8792,\n",
       " 7.8958,\n",
       " 27.7208,\n",
       " 146.5208,\n",
       " 7.75,\n",
       " 10.5,\n",
       " 82.1708,\n",
       " 52.0,\n",
       " 7.2292,\n",
       " 8.05,\n",
       " 18.0,\n",
       " 11.2417,\n",
       " 9.475,\n",
       " 21.0,\n",
       " 7.8958,\n",
       " 41.5792,\n",
       " 7.8792,\n",
       " 8.05,\n",
       " 15.5,\n",
       " 7.75,\n",
       " 21.6792,\n",
       " 17.8,\n",
       " 39.6875,\n",
       " 7.8,\n",
       " 76.7292,\n",
       " 26.0,\n",
       " 61.9792,\n",
       " 35.5,\n",
       " 10.5,\n",
       " 7.2292,\n",
       " 27.75,\n",
       " 46.9,\n",
       " 7.2292,\n",
       " 80.0,\n",
       " 83.475,\n",
       " 27.9,\n",
       " 27.7208,\n",
       " 15.2458,\n",
       " 10.5,\n",
       " 8.1583,\n",
       " 7.925,\n",
       " 8.6625,\n",
       " 10.5,\n",
       " 46.9,\n",
       " 73.5,\n",
       " 14.4542,\n",
       " 56.4958,\n",
       " 7.65,\n",
       " 7.8958,\n",
       " 8.05,\n",
       " 29.0,\n",
       " 12.475,\n",
       " 9.0,\n",
       " 9.5,\n",
       " 7.7875,\n",
       " 47.1,\n",
       " 10.5,\n",
       " 15.85,\n",
       " 34.375,\n",
       " 8.05,\n",
       " 263.0,\n",
       " 8.05,\n",
       " 8.05,\n",
       " 7.8542,\n",
       " 61.175,\n",
       " 20.575,\n",
       " 7.25,\n",
       " 8.05,\n",
       " 34.6542,\n",
       " 63.3583,\n",
       " 23.0,\n",
       " 26.0,\n",
       " 7.8958,\n",
       " 7.8958,\n",
       " 77.2875,\n",
       " 8.6542,\n",
       " 7.925,\n",
       " 7.8958,\n",
       " 7.65,\n",
       " 7.775,\n",
       " 7.8958,\n",
       " 24.15,\n",
       " 52.0,\n",
       " 14.4542,\n",
       " 8.05,\n",
       " 9.825,\n",
       " 14.4583,\n",
       " 7.925,\n",
       " 7.75,\n",
       " 21.0,\n",
       " 247.5208,\n",
       " 31.275,\n",
       " 73.5,\n",
       " 8.05,\n",
       " 30.0708,\n",
       " 13.0,\n",
       " 77.2875,\n",
       " 11.2417,\n",
       " 7.75,\n",
       " 7.1417,\n",
       " 22.3583,\n",
       " 6.975,\n",
       " 7.8958,\n",
       " 7.05,\n",
       " 14.5,\n",
       " 26.0,\n",
       " 13.0,\n",
       " 15.0458,\n",
       " 26.2833,\n",
       " 53.1,\n",
       " 9.2167,\n",
       " 79.2,\n",
       " 15.2458,\n",
       " 7.75,\n",
       " 15.85,\n",
       " 6.75,\n",
       " 11.5,\n",
       " 36.75,\n",
       " 7.7958,\n",
       " 34.375,\n",
       " 26.0,\n",
       " 13.0,\n",
       " 12.525,\n",
       " 66.6,\n",
       " 8.05,\n",
       " 14.5,\n",
       " 7.3125,\n",
       " 61.3792,\n",
       " 7.7333,\n",
       " 8.05,\n",
       " 8.6625,\n",
       " 69.55,\n",
       " 16.1,\n",
       " 15.75,\n",
       " 7.775,\n",
       " 8.6625,\n",
       " 39.6875,\n",
       " 20.525,\n",
       " 55.0,\n",
       " 27.9,\n",
       " 25.925,\n",
       " 56.4958,\n",
       " 33.5,\n",
       " 29.125,\n",
       " 11.1333,\n",
       " 7.925,\n",
       " 30.6958,\n",
       " 7.8542,\n",
       " 25.4667,\n",
       " 28.7125,\n",
       " 13.0,\n",
       " 0.0,\n",
       " 69.55,\n",
       " 15.05,\n",
       " 31.3875,\n",
       " 39.0,\n",
       " 22.025,\n",
       " 50.0,\n",
       " 15.5,\n",
       " 26.55,\n",
       " 15.5,\n",
       " 7.8958,\n",
       " 13.0,\n",
       " 13.0,\n",
       " 7.8542,\n",
       " 26.0,\n",
       " 27.7208,\n",
       " 146.5208,\n",
       " 7.75,\n",
       " 8.4042,\n",
       " 7.75,\n",
       " 13.0,\n",
       " 9.5,\n",
       " 69.55,\n",
       " 6.4958,\n",
       " 7.225,\n",
       " 8.05,\n",
       " 10.4625,\n",
       " 15.85,\n",
       " 18.7875,\n",
       " 7.75,\n",
       " 31.0,\n",
       " 7.05,\n",
       " 21.0,\n",
       " 7.25,\n",
       " 13.0,\n",
       " 7.75,\n",
       " 113.275,\n",
       " 7.925,\n",
       " 27.0,\n",
       " 76.2917,\n",
       " 10.5,\n",
       " 8.05,\n",
       " 13.0,\n",
       " 8.05,\n",
       " 7.8958,\n",
       " 90.0,\n",
       " 9.35,\n",
       " 10.5,\n",
       " 7.25,\n",
       " 13.0,\n",
       " 25.4667,\n",
       " 83.475,\n",
       " 7.775,\n",
       " 13.5,\n",
       " 31.3875,\n",
       " 10.5,\n",
       " 7.55,\n",
       " 26.0,\n",
       " 26.25,\n",
       " 10.5,\n",
       " 12.275,\n",
       " 14.4542,\n",
       " 15.5,\n",
       " 10.5,\n",
       " 7.125,\n",
       " 7.225,\n",
       " 90.0,\n",
       " 7.775,\n",
       " 14.5,\n",
       " 52.5542,\n",
       " 26.0,\n",
       " 7.25,\n",
       " 10.4625,\n",
       " 26.55,\n",
       " 16.1,\n",
       " 20.2125,\n",
       " 15.2458,\n",
       " 79.2,\n",
       " 86.5,\n",
       " 512.3292,\n",
       " 26.0,\n",
       " 7.75,\n",
       " 31.3875,\n",
       " 79.65,\n",
       " 0.0,\n",
       " 7.75,\n",
       " 10.5,\n",
       " 39.6875,\n",
       " 7.775,\n",
       " 153.4625,\n",
       " 135.6333,\n",
       " 31.0,\n",
       " 0.0,\n",
       " 19.5,\n",
       " 29.7,\n",
       " 7.75,\n",
       " 77.9583,\n",
       " 7.75,\n",
       " 0.0,\n",
       " 29.125,\n",
       " 20.25,\n",
       " 7.75,\n",
       " 7.8542,\n",
       " 9.5,\n",
       " 8.05,\n",
       " 26.0,\n",
       " 8.6625,\n",
       " 9.5,\n",
       " 7.8958,\n",
       " 13.0,\n",
       " 7.75,\n",
       " 78.85,\n",
       " 91.0792,\n",
       " 12.875,\n",
       " 8.85,\n",
       " 7.8958,\n",
       " 27.7208,\n",
       " 7.2292,\n",
       " 151.55,\n",
       " 30.5,\n",
       " 247.5208,\n",
       " 7.75,\n",
       " 23.25,\n",
       " 0.0,\n",
       " 12.35,\n",
       " 8.05,\n",
       " 151.55,\n",
       " 110.8833,\n",
       " 108.9,\n",
       " 24.0,\n",
       " 56.9292,\n",
       " 83.1583,\n",
       " 262.375,\n",
       " 26.0,\n",
       " 7.8958,\n",
       " 26.25,\n",
       " 7.8542,\n",
       " 26.0,\n",
       " 14.0,\n",
       " 164.8667,\n",
       " 134.5,\n",
       " 7.25,\n",
       " 7.8958,\n",
       " 12.35,\n",
       " 29.0,\n",
       " 69.55,\n",
       " 135.6333,\n",
       " 6.2375,\n",
       " 13.0,\n",
       " 20.525,\n",
       " 57.9792,\n",
       " 23.25,\n",
       " 28.5,\n",
       " 153.4625,\n",
       " 18.0,\n",
       " 133.65,\n",
       " 7.8958,\n",
       " 66.6,\n",
       " 134.5,\n",
       " 8.05,\n",
       " 35.5,\n",
       " 26.0,\n",
       " 263.0,\n",
       " 13.0,\n",
       " 13.0,\n",
       " 13.0,\n",
       " 13.0,\n",
       " 13.0,\n",
       " 16.1,\n",
       " 15.9,\n",
       " 8.6625,\n",
       " 9.225,\n",
       " 35.0,\n",
       " 7.2292,\n",
       " 17.8,\n",
       " 7.225,\n",
       " 9.5,\n",
       " 55.0,\n",
       " 13.0,\n",
       " 7.8792,\n",
       " 7.8792,\n",
       " 27.9,\n",
       " 27.7208,\n",
       " 14.4542,\n",
       " 7.05,\n",
       " 15.5,\n",
       " 7.25,\n",
       " 75.25,\n",
       " 7.2292,\n",
       " 7.75,\n",
       " 69.3,\n",
       " 55.4417,\n",
       " 6.4958,\n",
       " 8.05,\n",
       " 135.6333,\n",
       " 21.075,\n",
       " 82.1708,\n",
       " 7.25,\n",
       " 211.5,\n",
       " 4.0125,\n",
       " 7.775,\n",
       " 227.525,\n",
       " 15.7417,\n",
       " 7.925,\n",
       " 52.0,\n",
       " 7.8958,\n",
       " 73.5,\n",
       " 46.9,\n",
       " 13.0,\n",
       " 7.7292,\n",
       " 12.0,\n",
       " 120.0,\n",
       " 7.7958,\n",
       " 7.925,\n",
       " 113.275,\n",
       " 16.7,\n",
       " 7.7958,\n",
       " 7.8542,\n",
       " 26.0,\n",
       " 10.5,\n",
       " 12.65,\n",
       " 7.925,\n",
       " 8.05,\n",
       " 9.825,\n",
       " 15.85,\n",
       " 8.6625,\n",
       " 21.0,\n",
       " 7.75,\n",
       " 18.75,\n",
       " 7.775,\n",
       " 25.4667,\n",
       " 7.8958,\n",
       " 6.8583,\n",
       " 90.0,\n",
       " 0.0,\n",
       " 7.925,\n",
       " 8.05,\n",
       " 32.5,\n",
       " 13.0,\n",
       " 13.0,\n",
       " 24.15,\n",
       " 7.8958,\n",
       " 7.7333,\n",
       " 7.875,\n",
       " 14.4,\n",
       " 20.2125,\n",
       " 7.25,\n",
       " 26.0,\n",
       " 26.0,\n",
       " 7.75,\n",
       " 8.05,\n",
       " 26.55,\n",
       " 16.1,\n",
       " 26.0,\n",
       " 7.125,\n",
       " 55.9,\n",
       " 120.0,\n",
       " 34.375,\n",
       " 18.75,\n",
       " 263.0,\n",
       " 10.5,\n",
       " 26.25,\n",
       " 9.5,\n",
       " 7.775,\n",
       " 13.0,\n",
       " 8.1125,\n",
       " 81.8583,\n",
       " 19.5,\n",
       " 26.55,\n",
       " 19.2583,\n",
       " 30.5,\n",
       " 27.75,\n",
       " 19.9667,\n",
       " 27.75,\n",
       " 89.1042,\n",
       " 8.05,\n",
       " 7.8958,\n",
       " 26.55,\n",
       " 51.8625,\n",
       " 10.5,\n",
       " 7.75,\n",
       " 26.55,\n",
       " 8.05,\n",
       " 38.5,\n",
       " 13.0,\n",
       " 8.05,\n",
       " 7.05,\n",
       " 0.0,\n",
       " 26.55,\n",
       " 7.725,\n",
       " 19.2583,\n",
       " 7.25,\n",
       " 8.6625,\n",
       " 27.75,\n",
       " 13.7917,\n",
       " 9.8375,\n",
       " 52.0,\n",
       " 21.0,\n",
       " 7.0458,\n",
       " 7.5208,\n",
       " 12.2875,\n",
       " 46.9,\n",
       " 0.0,\n",
       " 8.05,\n",
       " 9.5875,\n",
       " 91.0792,\n",
       " 25.4667,\n",
       " 90.0,\n",
       " 29.7,\n",
       " 8.05,\n",
       " 15.9,\n",
       " 19.9667,\n",
       " 7.25,\n",
       " 30.5,\n",
       " 49.5042,\n",
       " 8.05,\n",
       " 14.4583,\n",
       " 78.2667,\n",
       " 15.1,\n",
       " 151.55,\n",
       " 7.7958,\n",
       " 8.6625,\n",
       " 7.75,\n",
       " 7.6292,\n",
       " 9.5875,\n",
       " 86.5,\n",
       " 108.9,\n",
       " 26.0,\n",
       " 26.55,\n",
       " 22.525,\n",
       " 56.4958,\n",
       " 7.75,\n",
       " 8.05,\n",
       " 26.2875,\n",
       " 59.4,\n",
       " 7.4958,\n",
       " 34.0208,\n",
       " 10.5,\n",
       " 24.15,\n",
       " 26.0,\n",
       " 7.8958,\n",
       " 93.5,\n",
       " 7.8958,\n",
       " 7.225,\n",
       " 57.9792,\n",
       " 7.2292,\n",
       " 7.75,\n",
       " 10.5,\n",
       " 221.7792,\n",
       " 7.925,\n",
       " 11.5,\n",
       " 26.0,\n",
       " 7.2292,\n",
       " 7.2292,\n",
       " 22.3583,\n",
       " 8.6625,\n",
       " 26.25,\n",
       " 26.55,\n",
       " 106.425,\n",
       " 14.5,\n",
       " 49.5,\n",
       " 71.0,\n",
       " 31.275,\n",
       " 31.275,\n",
       " 26.0,\n",
       " 106.425,\n",
       " 26.0,\n",
       " 26.0,\n",
       " 13.8625,\n",
       " 20.525,\n",
       " 36.75,\n",
       " 110.8833,\n",
       " 26.0,\n",
       " 7.8292,\n",
       " 7.225,\n",
       " 7.775,\n",
       " 26.55,\n",
       " 39.6,\n",
       " 227.525,\n",
       " 79.65,\n",
       " 17.4,\n",
       " 7.75,\n",
       " 7.8958,\n",
       " 13.5,\n",
       " 8.05,\n",
       " 8.05,\n",
       " 24.15,\n",
       " 7.8958,\n",
       " 21.075,\n",
       " 7.2292,\n",
       " 7.8542,\n",
       " 10.5,\n",
       " 51.4792,\n",
       " 26.3875,\n",
       " 7.75,\n",
       " 8.05,\n",
       " 14.5,\n",
       " 13.0,\n",
       " 55.9,\n",
       " 14.4583,\n",
       " 7.925,\n",
       " 30.0,\n",
       " 110.8833,\n",
       " 26.0,\n",
       " 40.125,\n",
       " 8.7125,\n",
       " 79.65,\n",
       " 15.0,\n",
       " 79.2,\n",
       " 8.05,\n",
       " 8.05,\n",
       " 7.125,\n",
       " 78.2667,\n",
       " 7.25,\n",
       " 7.75,\n",
       " 26.0,\n",
       " 24.15,\n",
       " 33.0,\n",
       " 0.0,\n",
       " 7.225,\n",
       " 56.9292,\n",
       " 27.0,\n",
       " 7.8958,\n",
       " 42.4,\n",
       " 8.05,\n",
       " 26.55,\n",
       " 15.55,\n",
       " 7.8958,\n",
       " 30.5,\n",
       " 41.5792,\n",
       " 153.4625,\n",
       " 31.275,\n",
       " 7.05,\n",
       " 15.5,\n",
       " 7.75,\n",
       " 8.05,\n",
       " 65.0,\n",
       " 14.4,\n",
       " 16.1,\n",
       " 39.0,\n",
       " 10.5,\n",
       " 14.4542,\n",
       " 52.5542,\n",
       " 15.7417,\n",
       " 7.8542,\n",
       " 16.1,\n",
       " 32.3208,\n",
       " 12.35,\n",
       " 77.9583,\n",
       " 7.8958,\n",
       " 7.7333,\n",
       " 30.0,\n",
       " 7.0542,\n",
       " 30.5,\n",
       " 0.0,\n",
       " 27.9,\n",
       " 13.0,\n",
       " 7.925,\n",
       " 26.25,\n",
       " 39.6875,\n",
       " 16.1,\n",
       " 7.8542,\n",
       " 69.3,\n",
       " 27.9,\n",
       " 56.4958,\n",
       " 19.2583,\n",
       " 76.7292,\n",
       " 7.8958,\n",
       " 35.5,\n",
       " 7.55,\n",
       " 7.55,\n",
       " 7.8958,\n",
       " 23.0,\n",
       " 8.4333,\n",
       " 7.8292,\n",
       " 6.75,\n",
       " 73.5,\n",
       " 7.8958,\n",
       " 15.5,\n",
       " 13.0,\n",
       " 113.275,\n",
       " 133.65,\n",
       " 7.225,\n",
       " 25.5875,\n",
       " 7.4958,\n",
       " 7.925,\n",
       " 73.5,\n",
       " 13.0,\n",
       " 7.775,\n",
       " 8.05,\n",
       " 52.0,\n",
       " 39.0,\n",
       " 52.0,\n",
       " 10.5,\n",
       " 13.0,\n",
       " 0.0,\n",
       " 7.775,\n",
       " 8.05,\n",
       " 9.8417,\n",
       " 46.9,\n",
       " 512.3292,\n",
       " 8.1375,\n",
       " 76.7292,\n",
       " 9.225,\n",
       " 46.9,\n",
       " 39.0,\n",
       " 41.5792,\n",
       " 39.6875,\n",
       " 10.1708,\n",
       " 7.7958,\n",
       " 211.3375,\n",
       " 57.0,\n",
       " 13.4167,\n",
       " 56.4958,\n",
       " 7.225,\n",
       " 26.55,\n",
       " 13.5,\n",
       " 8.05,\n",
       " 7.7333,\n",
       " 110.8833,\n",
       " 7.65,\n",
       " 227.525,\n",
       " 26.2875,\n",
       " 14.4542,\n",
       " 7.7417,\n",
       " 7.8542,\n",
       " 26.0,\n",
       " 13.5,\n",
       " 26.2875,\n",
       " 151.55,\n",
       " 15.2458,\n",
       " 49.5042,\n",
       " 26.55,\n",
       " 52.0,\n",
       " 9.4833,\n",
       " 13.0,\n",
       " 7.65,\n",
       " 227.525,\n",
       " 10.5,\n",
       " 15.5,\n",
       " 7.775,\n",
       " 33.0,\n",
       " 7.0542,\n",
       " 13.0,\n",
       " 13.0,\n",
       " 53.1,\n",
       " 8.6625,\n",
       " 21.0,\n",
       " 7.7375,\n",
       " 26.0,\n",
       " 7.925,\n",
       " 211.3375,\n",
       " 18.7875,\n",
       " 0.0,\n",
       " 13.0,\n",
       " 13.0,\n",
       " 16.1,\n",
       " 34.375,\n",
       " 512.3292,\n",
       " 7.8958,\n",
       " 7.8958,\n",
       " 30.0,\n",
       " 78.85,\n",
       " 262.375,\n",
       " 16.1,\n",
       " 7.925,\n",
       " 71.0,\n",
       " 20.25,\n",
       " 13.0,\n",
       " 53.1,\n",
       " 7.75,\n",
       " 23.0,\n",
       " 12.475,\n",
       " 9.5,\n",
       " 7.8958,\n",
       " 65.0,\n",
       " 14.5,\n",
       " 7.7958,\n",
       " 11.5,\n",
       " 8.05,\n",
       " 86.5,\n",
       " 14.5,\n",
       " 7.125,\n",
       " 7.2292,\n",
       " 120.0,\n",
       " 7.775,\n",
       " 77.9583,\n",
       " 39.6,\n",
       " 7.75,\n",
       " 24.15,\n",
       " 8.3625,\n",
       " 9.5,\n",
       " 7.8542,\n",
       " 10.5,\n",
       " 7.225,\n",
       " 23.0,\n",
       " 7.75,\n",
       " 7.75,\n",
       " 12.475,\n",
       " 7.7375,\n",
       " 211.3375,\n",
       " 7.2292,\n",
       " 57.0,\n",
       " 30.0,\n",
       " 23.45,\n",
       " 7.05,\n",
       " 7.25,\n",
       " 7.4958,\n",
       " 29.125,\n",
       " 20.575,\n",
       " 79.2,\n",
       " 7.75,\n",
       " 26.0,\n",
       " 69.55,\n",
       " 30.6958,\n",
       " 7.8958,\n",
       " 13.0,\n",
       " 25.9292,\n",
       " 8.6833,\n",
       " 7.2292,\n",
       " 24.15,\n",
       " 13.0,\n",
       " 26.25,\n",
       " 120.0,\n",
       " 8.5167,\n",
       " 6.975,\n",
       " 7.775,\n",
       " 0.0,\n",
       " 7.775,\n",
       " 13.0,\n",
       " 53.1,\n",
       " 7.8875,\n",
       " 24.15,\n",
       " 10.5,\n",
       " 31.275,\n",
       " 8.05,\n",
       " 0.0,\n",
       " 7.925,\n",
       " 37.0042,\n",
       " 6.45,\n",
       " 27.9,\n",
       " 93.5,\n",
       " 8.6625,\n",
       " 0.0,\n",
       " 12.475,\n",
       " 39.6875,\n",
       " 6.95,\n",
       " 56.4958,\n",
       " 37.0042,\n",
       " 7.75,\n",
       " 80.0,\n",
       " 14.4542,\n",
       " 18.75,\n",
       " 7.2292,\n",
       " 7.8542,\n",
       " 8.3,\n",
       " 83.1583,\n",
       " 8.6625,\n",
       " 8.05,\n",
       " 56.4958,\n",
       " 29.7,\n",
       " 7.925,\n",
       " 10.5,\n",
       " 31.0,\n",
       " 6.4375,\n",
       " 8.6625,\n",
       " 7.55,\n",
       " 69.55,\n",
       " 7.8958,\n",
       " 33.0,\n",
       " 89.1042,\n",
       " 31.275,\n",
       " 7.775,\n",
       " 15.2458,\n",
       " 39.4,\n",
       " 26.0,\n",
       " 9.35,\n",
       " 164.8667,\n",
       " 26.55,\n",
       " 19.2583,\n",
       " 7.2292,\n",
       " 14.1083,\n",
       " 11.5,\n",
       " 25.9292,\n",
       " 69.55,\n",
       " 13.0,\n",
       " 13.0,\n",
       " 13.8583,\n",
       " 50.4958,\n",
       " 9.5,\n",
       " 11.1333,\n",
       " 7.8958,\n",
       " 52.5542,\n",
       " 5.0,\n",
       " 9.0,\n",
       " 24.0,\n",
       " 7.225,\n",
       " 9.8458,\n",
       " 7.8958,\n",
       " 7.8958,\n",
       " 83.1583,\n",
       " 26.0,\n",
       " 7.8958,\n",
       " 10.5167,\n",
       " 10.5,\n",
       " 7.05,\n",
       " 29.125,\n",
       " 13.0,\n",
       " 30.0,\n",
       " 23.45,\n",
       " 30.0,\n",
       " 7.75]"
      ]
     },
     "execution_count": 47,
     "metadata": {},
     "output_type": "execute_result"
    }
   ],
   "source": [
    "list(df[\"fare\"])"
   ]
  },
  {
   "cell_type": "code",
   "execution_count": 51,
   "metadata": {},
   "outputs": [],
   "source": [
    "def stat_describe(arr):\n",
    "    print(\"var\\t\", np.var(arr))\n",
    "    print(\"std\\t\", np.std(arr))\n",
    "    print(\"ptp\\t\", np.ptp(arr))\n",
    "    print(\"최소값\\t\",np.percentile(arr,  0))\n",
    "    print(\"25%\\t\", np.percentile(arr,  25))\n",
    "    print(\"50%\\t\", np.percentile(arr,  50))\n",
    "    print(\"75%\\t\", np.percentile(arr, 75))\n",
    "    print(\"75%\\t\", np.percentile(arr,  100))\n",
    "    print(\"왜도\\t\", skew(list(arr)))\n",
    "    print(\"첨도\\t\", kurtosis(list(arr)))"
   ]
  },
  {
   "cell_type": "code",
   "execution_count": 55,
   "metadata": {},
   "outputs": [
    {
     "data": {
      "text/plain": [
       "Index(['survived', 'pclass', 'sex', 'age', 'sibsp', 'parch', 'fare',\n",
       "       'embarked', 'class', 'who', 'adult_male', 'deck', 'alive', 'alone'],\n",
       "      dtype='object')"
      ]
     },
     "execution_count": 55,
     "metadata": {},
     "output_type": "execute_result"
    }
   ],
   "source": [
    "df.columns"
   ]
  },
  {
   "cell_type": "code",
   "execution_count": 57,
   "metadata": {},
   "outputs": [
    {
     "name": "stdout",
     "output_type": "stream",
     "text": [
      "var\t 0.23650647893072133\n",
      "std\t 0.48631931786709987\n",
      "ptp\t 1\n",
      "최소값\t 0.0\n",
      "25%\t 0.0\n",
      "50%\t 0.0\n",
      "75%\t 1.0\n",
      "75%\t 1.0\n",
      "왜도\t 0.4777174662568536\n",
      "첨도\t -1.7717860224331319\n",
      "\n",
      "var\t 0.6982305912347064\n",
      "std\t 0.8356019334795166\n",
      "ptp\t 2\n",
      "최소값\t 1.0\n",
      "25%\t 2.0\n",
      "50%\t 3.0\n",
      "75%\t 3.0\n",
      "75%\t 3.0\n",
      "왜도\t -0.6294858816096934\n",
      "첨도\t -1.2795696818700388\n",
      "\n",
      "var\t 0.22821808306282676\n",
      "std\t 0.47772176322921145\n",
      "ptp\t 1\n",
      "최소값\t 0.0\n",
      "25%\t 0.0\n",
      "50%\t 1.0\n",
      "75%\t 1.0\n",
      "75%\t 1.0\n",
      "왜도\t -0.6178784065548295\n",
      "첨도\t -1.6182262747132647\n",
      "\n",
      "var\t 210.72357975366614\n",
      "std\t 14.516321150817316\n",
      "ptp\t nan\n",
      "최소값\t nan\n",
      "25%\t nan\n",
      "50%\t nan\n",
      "75%\t nan\n",
      "75%\t nan\n",
      "왜도\t nan\n",
      "첨도\t nan\n",
      "\n",
      "var\t 1.2146782704208816\n",
      "std\t 1.1021244350892878\n",
      "ptp\t 8\n",
      "최소값\t 0.0\n",
      "25%\t 0.0\n",
      "50%\t 0.0\n",
      "75%\t 1.0\n",
      "75%\t 8.0\n",
      "왜도\t 3.6891276847759507\n",
      "첨도\t 17.77351174692092\n",
      "\n",
      "var\t 0.6489990313409693\n",
      "std\t 0.8056047612452208\n",
      "ptp\t 6\n",
      "최소값\t 0.0\n",
      "25%\t 0.0\n",
      "50%\t 0.0\n",
      "75%\t 0.0\n",
      "75%\t 6.0\n",
      "왜도\t 2.7444867379203735\n",
      "첨도\t 9.716613236667277\n",
      "\n",
      "var\t 2466.665311685043\n",
      "std\t 49.6655344447741\n",
      "ptp\t 512.3292\n",
      "최소값\t 0.0\n",
      "25%\t 7.9104\n",
      "50%\t 14.4542\n",
      "75%\t 31.0\n",
      "75%\t 512.3292\n",
      "왜도\t 4.7792532923723545\n",
      "첨도\t 33.20428925264474\n",
      "\n",
      "var\t 0.404240808481617\n",
      "std\t 0.6357993460846094\n",
      "ptp\t nan\n",
      "최소값\t nan\n",
      "25%\t nan\n",
      "50%\t nan\n",
      "75%\t nan\n",
      "75%\t nan\n",
      "왜도\t nan\n",
      "첨도\t nan\n",
      "\n",
      "var\t 0.6982305912347064\n",
      "std\t 0.8356019334795166\n",
      "ptp\t 2\n",
      "최소값\t 1.0\n",
      "25%\t 2.0\n",
      "50%\t 3.0\n",
      "75%\t 3.0\n",
      "75%\t 3.0\n",
      "왜도\t -0.6294858816096934\n",
      "첨도\t -1.2795696818700388\n",
      "\n",
      "var\t 0.35278587093027797\n",
      "std\t 0.5939578023145061\n",
      "ptp\t 2\n",
      "최소값\t 0.0\n",
      "25%\t 0.0\n",
      "50%\t 1.0\n",
      "75%\t 1.0\n",
      "75%\t 2.0\n",
      "왜도\t 0.10359444558300428\n",
      "첨도\t -0.43360706903340995\n",
      "\n",
      "var\t 0.23945402396580848\n",
      "std\t 0.4893403968259809\n",
      "ptp\t 1\n",
      "최소값\t 0.0\n",
      "25%\t 0.0\n",
      "50%\t 1.0\n",
      "75%\t 1.0\n",
      "75%\t 1.0\n",
      "왜도\t -0.41972256269748615\n",
      "첨도\t -1.8238329703626546\n",
      "\n",
      "var\t 2.470156106519743\n",
      "std\t 1.5716730278654474\n",
      "ptp\t 7\n",
      "최소값\t 0.0\n",
      "25%\t 0.0\n",
      "50%\t 0.0\n",
      "75%\t 0.0\n",
      "75%\t 7.0\n",
      "왜도\t 1.9670206063663376\n",
      "첨도\t 2.7868436701374337\n",
      "\n",
      "var\t 0.23650647893072133\n",
      "std\t 0.48631931786709987\n",
      "ptp\t 1\n",
      "최소값\t 0.0\n",
      "25%\t 0.0\n",
      "50%\t 0.0\n",
      "75%\t 1.0\n",
      "75%\t 1.0\n",
      "왜도\t 0.4777174662568536\n",
      "첨도\t -1.7717860224331319\n",
      "\n",
      "var\t 0.23945402396580845\n",
      "std\t 0.4893403968259809\n",
      "ptp\t 1\n",
      "최소값\t 0.0\n",
      "25%\t 0.0\n",
      "50%\t 1.0\n",
      "75%\t 1.0\n",
      "75%\t 1.0\n",
      "왜도\t -0.4197225626974862\n",
      "첨도\t -1.8238329703626543\n",
      "\n"
     ]
    }
   ],
   "source": [
    "for i in df.columns:\n",
    "    stat_describe(df[i])\n",
    "    print()"
   ]
  },
  {
   "cell_type": "code",
   "execution_count": null,
   "metadata": {},
   "outputs": [],
   "source": []
  }
 ],
 "metadata": {
  "colab": {
   "authorship_tag": "ABX9TyMtSQsWj9NgfKpBtRH/ywps",
   "collapsed_sections": [],
   "include_colab_link": true,
   "name": "ch03_06_기초통계-분포통계량.ipynb",
   "provenance": []
  },
  "kernelspec": {
   "display_name": "Python 3 (ipykernel)",
   "language": "python",
   "name": "python3"
  },
  "language_info": {
   "codemirror_mode": {
    "name": "ipython",
    "version": 3
   },
   "file_extension": ".py",
   "mimetype": "text/x-python",
   "name": "python",
   "nbconvert_exporter": "python",
   "pygments_lexer": "ipython3",
   "version": "3.9.7"
  },
  "toc": {
   "base_numbering": 1,
   "nav_menu": {},
   "number_sections": true,
   "sideBar": true,
   "skip_h1_title": false,
   "title_cell": "Table of Contents",
   "title_sidebar": "Contents",
   "toc_cell": false,
   "toc_position": {
    "height": "calc(100% - 180px)",
    "left": "10px",
    "top": "150px",
    "width": "279.273px"
   },
   "toc_section_display": true,
   "toc_window_display": true
  },
  "varInspector": {
   "cols": {
    "lenName": 16,
    "lenType": 16,
    "lenVar": 40
   },
   "kernels_config": {
    "python": {
     "delete_cmd_postfix": "",
     "delete_cmd_prefix": "del ",
     "library": "var_list.py",
     "varRefreshCmd": "print(var_dic_list())"
    },
    "r": {
     "delete_cmd_postfix": ") ",
     "delete_cmd_prefix": "rm(",
     "library": "var_list.r",
     "varRefreshCmd": "cat(var_dic_list()) "
    }
   },
   "types_to_exclude": [
    "module",
    "function",
    "builtin_function_or_method",
    "instance",
    "_Feature"
   ],
   "window_display": false
  }
 },
 "nbformat": 4,
 "nbformat_minor": 1
}
