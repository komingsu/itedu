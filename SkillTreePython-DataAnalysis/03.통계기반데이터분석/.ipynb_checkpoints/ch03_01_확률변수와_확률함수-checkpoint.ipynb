{
 "cells": [
  {
   "cell_type": "markdown",
   "metadata": {
    "colab_type": "text",
    "id": "view-in-github"
   },
   "source": [
    "<a href=\"https://colab.research.google.com/github/yebiny/SkillTreePython-DataAnalysis/blob/main/03.%ED%86%B5%EA%B3%84%EA%B8%B0%EB%B0%98%EB%8D%B0%EC%9D%B4%ED%84%B0%EB%B6%84%EC%84%9D/ch03_01_%ED%99%95%EB%A5%A0%EB%B3%80%EC%88%98%EC%99%80_%ED%99%95%EB%A5%A0%ED%95%A8%EC%88%98.ipynb\" target=\"_parent\"><img src=\"https://colab.research.google.com/assets/colab-badge.svg\" alt=\"Open In Colab\"/></a>"
   ]
  },
  {
   "cell_type": "markdown",
   "metadata": {
    "id": "wWpXZc2fi39U"
   },
   "source": [
    "# ch03.01. 확률 변수와 확률 함수\n",
    "---\n",
    "* 날짜: 2022-05-04\n",
    "* 이름: 고민수\n",
    "\n",
    "## 학습내용\n",
    "    - 실험 (Experiment) : 데이터셋을 생성하는 모든 프로세스 \n",
    "    - 표본 공간 (Sample space): 실험에서 도출되는 모든 결과를 포함하는 공간\n",
    "    - 사건 (Event) : 표본 공간 S의 부분집합\n",
    "    - 확률 변수 (Random variable) : 표본공간의 모든 요소를 실수로 매핑하는 함수\n",
    "    - 확률 함수 (Probability function) : 확률을 매핑하는 함수"
   ]
  },
  {
   "cell_type": "code",
   "execution_count": 5,
   "metadata": {
    "id": "ASwbQ96XXSib"
   },
   "outputs": [],
   "source": [
    "import numpy as np\n",
    "import seaborn as sns\n",
    "import matplotlib.pyplot as plt\n",
    "\n",
    "plt.rc(\"font\", family=\"Noto Sans KR\") # 한글 폰트 설정\n",
    "plt.rc(\"axes\", unicode_minus=False) # 음수값 깨지는 폰트 설정"
   ]
  },
  {
   "cell_type": "markdown",
   "metadata": {
    "id": "82a3GtBCNjto"
   },
   "source": [
    "#### **예제 01. 공정한 주사위**\n",
    "\n"
   ]
  },
  {
   "cell_type": "markdown",
   "metadata": {
    "id": "1ACJgMN1N3Jn"
   },
   "source": [
    "* 확률변수가 '주사위를 굴려 나온 눈의 값' 일 때, 확률변수 $X$를 정의하세요."
   ]
  },
  {
   "cell_type": "code",
   "execution_count": 1,
   "metadata": {
    "id": "i0hS4O76OIFP"
   },
   "outputs": [
    {
     "data": {
      "text/plain": [
       "[1, 2, 3, 4, 5, 6]"
      ]
     },
     "execution_count": 1,
     "metadata": {},
     "output_type": "execute_result"
    }
   ],
   "source": [
    "X = [1,2,3,4,5,6]\n",
    "X"
   ]
  },
  {
   "cell_type": "markdown",
   "metadata": {
    "id": "uP4JqP4lOMnW"
   },
   "source": [
    "* 주사위의 모든 면이 '공정' 할 때, 확률 질량 함수 $P$를 정의하세요."
   ]
  },
  {
   "cell_type": "code",
   "execution_count": 2,
   "metadata": {},
   "outputs": [],
   "source": [
    "def P(x):\n",
    "    if 1<= x <=6: return 1/6\n",
    "    else: 0"
   ]
  },
  {
   "cell_type": "code",
   "execution_count": 3,
   "metadata": {
    "id": "pWiNfRAoi2oU"
   },
   "outputs": [
    {
     "name": "stdout",
     "output_type": "stream",
     "text": [
      "[0.16666666666666666, 0.16666666666666666, 0.16666666666666666, 0.16666666666666666, 0.16666666666666666, 0.16666666666666666]\n"
     ]
    }
   ],
   "source": [
    "P_X = list(map(P,X))\n",
    "print(P_X)"
   ]
  },
  {
   "cell_type": "markdown",
   "metadata": {
    "id": "YT_NwyHEOZpQ"
   },
   "source": [
    "* 확률 분포를 그리세요."
   ]
  },
  {
   "cell_type": "code",
   "execution_count": 6,
   "metadata": {
    "id": "PPNa5Kpim7Bx"
   },
   "outputs": [
    {
     "ename": "NameError",
     "evalue": "name 'X' is not defined",
     "output_type": "error",
     "traceback": [
      "\u001b[1;31m---------------------------------------------------------------------------\u001b[0m",
      "\u001b[1;31mNameError\u001b[0m                                 Traceback (most recent call last)",
      "\u001b[1;32m~\\AppData\\Local\\Temp/ipykernel_11432/74392316.py\u001b[0m in \u001b[0;36m<module>\u001b[1;34m\u001b[0m\n\u001b[0;32m      2\u001b[0m \u001b[1;33m\u001b[0m\u001b[0m\n\u001b[0;32m      3\u001b[0m \u001b[0mplt\u001b[0m\u001b[1;33m.\u001b[0m\u001b[0mtitle\u001b[0m\u001b[1;33m(\u001b[0m\u001b[1;34m\"P.M.F\"\u001b[0m\u001b[1;33m)\u001b[0m\u001b[1;33m\u001b[0m\u001b[1;33m\u001b[0m\u001b[0m\n\u001b[1;32m----> 4\u001b[1;33m \u001b[0mplt\u001b[0m\u001b[1;33m.\u001b[0m\u001b[0mbar\u001b[0m\u001b[1;33m(\u001b[0m\u001b[0mX\u001b[0m\u001b[1;33m,\u001b[0m\u001b[0mP_X\u001b[0m\u001b[1;33m)\u001b[0m\u001b[1;33m\u001b[0m\u001b[1;33m\u001b[0m\u001b[0m\n\u001b[0m",
      "\u001b[1;31mNameError\u001b[0m: name 'X' is not defined"
     ]
    },
    {
     "data": {
      "image/png": "[encoded data removed]",
      "text/plain": [
       "<Figure size 432x288 with 1 Axes>"
      ]
     },
     "metadata": {
      "needs_background": "light"
     },
     "output_type": "display_data"
    }
   ],
   "source": [
    "import matplotlib.pyplot as plt\n",
    "\n",
    "plt.title(\"P.M.F\")\n",
    "plt.bar(X,P_X)"
   ]
  },
  {
   "cell_type": "markdown",
   "metadata": {
    "id": "u5_TJcvKOmjn"
   },
   "source": [
    "* 누적 확률 분포를 그리세요."
   ]
  },
  {
   "cell_type": "code",
   "execution_count": 13,
   "metadata": {
    "id": "JjzXLhk9rpyv"
   },
   "outputs": [
    {
     "data": {
      "text/plain": [
       "<BarContainer object of 6 artists>"
      ]
     },
     "execution_count": 13,
     "metadata": {},
     "output_type": "execute_result"
    },
    {
     "data": {
      "image/png": "[encoded data removed]",
      "text/plain": [
       "<Figure size 432x288 with 1 Axes>"
      ]
     },
     "metadata": {
      "needs_background": "light"
     },
     "output_type": "display_data"
    }
   ],
   "source": [
    "F_X = np.cumsum(P_X)\n",
    "F_X\n",
    "plt.title(\"C.D.F\")\n",
    "plt.bar(X,F_X)"
   ]
  },
  {
   "cell_type": "markdown",
   "metadata": {
    "id": "aaiN5uQHVCe7"
   },
   "source": [
    "#### **예제 02. 동전 두번 던지기**\n"
   ]
  },
  {
   "cell_type": "markdown",
   "metadata": {
    "id": "EmhyKeQ1VCe8"
   },
   "source": [
    "* 확률변수가 '앞면이 나온 횟수' 일 때, 확률변수 $X$를 정의하세요."
   ]
  },
  {
   "cell_type": "code",
   "execution_count": 67,
   "metadata": {
    "id": "scnOXxGQVCe8"
   },
   "outputs": [
    {
     "data": {
      "text/plain": [
       "{0: 1, 1: 2, 2: 1}"
      ]
     },
     "execution_count": 67,
     "metadata": {},
     "output_type": "execute_result"
    }
   ],
   "source": [
    "X={0:1,1:2,2:1}\n",
    "X"
   ]
  },
  {
   "cell_type": "markdown",
   "metadata": {
    "id": "0DKjpoFLVCe8"
   },
   "source": [
    "* 확률 질량 함수를 정의하세요."
   ]
  },
  {
   "cell_type": "code",
   "execution_count": 68,
   "metadata": {},
   "outputs": [
    {
     "data": {
      "text/plain": [
       "{0: 0.25, 1: 0.5, 2: 0.25}"
      ]
     },
     "execution_count": 68,
     "metadata": {},
     "output_type": "execute_result"
    }
   ],
   "source": [
    "def F2_X(X):\n",
    "    for x in X.keys():\n",
    "        X[x] /= 4\n",
    "    return X\n",
    "P2 = F2_X(X)\n",
    "P2"
   ]
  },
  {
   "cell_type": "markdown",
   "metadata": {
    "id": "9R9x4M08VCe9"
   },
   "source": [
    "* 확률 분포를 그리세요."
   ]
  },
  {
   "cell_type": "code",
   "execution_count": 78,
   "metadata": {
    "id": "1WUTddGpVCe9"
   },
   "outputs": [
    {
     "data": {
      "text/plain": [
       "<BarContainer object of 3 artists>"
      ]
     },
     "execution_count": 78,
     "metadata": {},
     "output_type": "execute_result"
    },
    {
     "data": {
      "image/png": "[encoded data removed]",
      "text/plain": [
       "<Figure size 432x288 with 1 Axes>"
      ]
     },
     "metadata": {
      "needs_background": "light"
     },
     "output_type": "display_data"
    }
   ],
   "source": [
    "plt.bar(X.keys(), P2.values())"
   ]
  },
  {
   "cell_type": "markdown",
   "metadata": {
    "id": "uWoDJPIlVCe9"
   },
   "source": [
    "* 누적 확률 분포를 그리세요."
   ]
  },
  {
   "cell_type": "code",
   "execution_count": 79,
   "metadata": {
    "id": "kkEvt6eNrlnX"
   },
   "outputs": [
    {
     "data": {
      "text/plain": [
       "<BarContainer object of 3 artists>"
      ]
     },
     "execution_count": 79,
     "metadata": {},
     "output_type": "execute_result"
    },
    {
     "data": {
      "image/png": "[encoded data removed]",
      "text/plain": [
       "<Figure size 432x288 with 1 Axes>"
      ]
     },
     "metadata": {
      "needs_background": "light"
     },
     "output_type": "display_data"
    }
   ],
   "source": [
    "F2_X = np.cumsum(list(P2.values()))\n",
    "plt.bar(X.keys(), F2_X)"
   ]
  },
  {
   "cell_type": "markdown",
   "metadata": {
    "id": "csb8tewGVmvb"
   },
   "source": [
    "#### **예제 03. 화재 발생**\n"
   ]
  },
  {
   "cell_type": "markdown",
   "metadata": {
    "id": "fFwyEMxkVmvh"
   },
   "source": [
    "*  확률변수가 '1년간 발생한 화재건수' 일 때 $X$를 정의하세요."
   ]
  },
  {
   "cell_type": "code",
   "execution_count": 85,
   "metadata": {
    "id": "o-ZY6qYBVmvh"
   },
   "outputs": [
    {
     "data": {
      "text/plain": [
       "[0, 1, 2, 3, 4, 5, 6, 7, 8, 9, 10]"
      ]
     },
     "execution_count": 85,
     "metadata": {},
     "output_type": "execute_result"
    }
   ],
   "source": [
    "X = [i for i in range(11)]\n",
    "X"
   ]
  },
  {
   "cell_type": "code",
   "execution_count": 86,
   "metadata": {},
   "outputs": [
    {
     "data": {
      "text/plain": [
       "array([ 0,  1,  2,  3,  4,  5,  6,  7,  8,  9, 10])"
      ]
     },
     "execution_count": 86,
     "metadata": {},
     "output_type": "execute_result"
    }
   ],
   "source": [
    "X_arr = np.arange(11)\n",
    "X_arr"
   ]
  },
  {
   "cell_type": "markdown",
   "metadata": {
    "id": "YQa-1CopVmvh"
   },
   "source": [
    "* 화재발생 확률이 다음과 같이 주어졌을 때 함수 $f$ 를 정의하세요.\n",
    "\n",
    "\\begin{align}\n",
    "f(X=x)=\\frac{1}{2^{(x+1)}}\n",
    "\\end{align}"
   ]
  },
  {
   "cell_type": "code",
   "execution_count": 87,
   "metadata": {
    "id": "Ez1kBPTTVmvh"
   },
   "outputs": [],
   "source": [
    "def f(x):\n",
    "    return 1/( 2**(x+1) )"
   ]
  },
  {
   "cell_type": "markdown",
   "metadata": {
    "id": "9HAIHU1HVmvh"
   },
   "source": [
    "* 확률 분포를 그리세요."
   ]
  },
  {
   "cell_type": "code",
   "execution_count": 88,
   "metadata": {
    "id": "NcO2LheUVmvi"
   },
   "outputs": [
    {
     "data": {
      "text/plain": [
       "[0.5,\n",
       " 0.25,\n",
       " 0.125,\n",
       " 0.0625,\n",
       " 0.03125,\n",
       " 0.015625,\n",
       " 0.0078125,\n",
       " 0.00390625,\n",
       " 0.001953125,\n",
       " 0.0009765625,\n",
       " 0.00048828125]"
      ]
     },
     "execution_count": 88,
     "metadata": {},
     "output_type": "execute_result"
    }
   ],
   "source": [
    "p_X = list(map(f, X))\n",
    "p_X"
   ]
  },
  {
   "cell_type": "code",
   "execution_count": 89,
   "metadata": {},
   "outputs": [
    {
     "data": {
      "text/plain": [
       "[0.5,\n",
       " 0.25,\n",
       " 0.125,\n",
       " 0.0625,\n",
       " 0.03125,\n",
       " 0.015625,\n",
       " 0.0078125,\n",
       " 0.00390625,\n",
       " 0.001953125,\n",
       " 0.0009765625,\n",
       " 0.00048828125]"
      ]
     },
     "execution_count": 89,
     "metadata": {},
     "output_type": "execute_result"
    }
   ],
   "source": [
    "p_X_arr = list(map(f, X_arr))\n",
    "p_X_arr"
   ]
  },
  {
   "cell_type": "code",
   "execution_count": 90,
   "metadata": {},
   "outputs": [
    {
     "data": {
      "text/plain": [
       "array([5.0000000e-01, 2.5000000e-01, 1.2500000e-01, 6.2500000e-02,\n",
       "       3.1250000e-02, 1.5625000e-02, 7.8125000e-03, 3.9062500e-03,\n",
       "       1.9531250e-03, 9.7656250e-04, 4.8828125e-04])"
      ]
     },
     "execution_count": 90,
     "metadata": {},
     "output_type": "execute_result"
    }
   ],
   "source": [
    "# Numpy 의 브로드캐스팅\n",
    "# 조건문 통과는 Numpy 브로드캐스팅이 되지않고 연산만 가능하다.\n",
    "p_X_arr = f(X_arr)\n",
    "p_X_arr"
   ]
  },
  {
   "cell_type": "markdown",
   "metadata": {
    "id": "deIDtmURVmvi"
   },
   "source": [
    "* 누적 확률 분포를 그리세요."
   ]
  },
  {
   "cell_type": "code",
   "execution_count": 93,
   "metadata": {
    "id": "L1lhlFfNVmvi"
   },
   "outputs": [
    {
     "data": {
      "text/plain": [
       "[<matplotlib.lines.Line2D at 0x1b071052790>]"
      ]
     },
     "execution_count": 93,
     "metadata": {},
     "output_type": "execute_result"
    },
    {
     "data": {
      "image/png": "[encoded data removed]",
      "text/plain": [
       "<Figure size 432x288 with 1 Axes>"
      ]
     },
     "metadata": {
      "needs_background": "light"
     },
     "output_type": "display_data"
    }
   ],
   "source": [
    "f_X_arr = np.cumsum(p_X_arr)\n",
    "plt.plot(X,f_X_arr)"
   ]
  },
  {
   "cell_type": "markdown",
   "metadata": {
    "id": "JbMCXAgaOrw_"
   },
   "source": [
    "#### **예제 04. 공정하지 않은 주사위**\n"
   ]
  },
  {
   "cell_type": "markdown",
   "metadata": {
    "id": "TFXEpuObOrxA"
   },
   "source": [
    "* 확률변수가 '주사위를 굴려 나온 눈의 값' 일 때, 확률변수 $X$를 정의하세요."
   ]
  },
  {
   "cell_type": "code",
   "execution_count": 108,
   "metadata": {
    "id": "k0267EHiOrxA"
   },
   "outputs": [],
   "source": [
    "X4 = [1,2,3,4,5,6]"
   ]
  },
  {
   "cell_type": "markdown",
   "metadata": {
    "id": "TWicXFFdOrxA"
   },
   "source": [
    "* 주사위의 짝수 면이 나올 확률이 홀수 면이 나올 확률의 2배일 때, 확률 질량 함수 $P$를 정의하세요."
   ]
  },
  {
   "cell_type": "code",
   "execution_count": 109,
   "metadata": {
    "id": "ir4IqIO9OrxA"
   },
   "outputs": [
    {
     "data": {
      "text/plain": [
       "[0.1111111111111111,\n",
       " 0.2222222222222222,\n",
       " 0.1111111111111111,\n",
       " 0.2222222222222222,\n",
       " 0.1111111111111111,\n",
       " 0.2222222222222222]"
      ]
     },
     "execution_count": 109,
     "metadata": {},
     "output_type": "execute_result"
    }
   ],
   "source": [
    "def f4(X):\n",
    "    if X%2==0:\n",
    "        return 2/9\n",
    "    else:\n",
    "        return 1/9\n",
    "P4 = list(map(f4,X4))\n",
    "P4"
   ]
  },
  {
   "cell_type": "markdown",
   "metadata": {
    "id": "JOWFqozBOrxA"
   },
   "source": [
    "* 확률분포 를 그리세요."
   ]
  },
  {
   "cell_type": "code",
   "execution_count": 110,
   "metadata": {
    "id": "WfgOLsxbOrxA"
   },
   "outputs": [
    {
     "data": {
      "text/plain": [
       "<BarContainer object of 6 artists>"
      ]
     },
     "execution_count": 110,
     "metadata": {},
     "output_type": "execute_result"
    },
    {
     "data": {
      "image/png": "[encoded data removed]",
      "text/plain": [
       "<Figure size 432x288 with 1 Axes>"
      ]
     },
     "metadata": {
      "needs_background": "light"
     },
     "output_type": "display_data"
    }
   ],
   "source": [
    "plt.bar(X4, P4)"
   ]
  },
  {
   "cell_type": "markdown",
   "metadata": {
    "id": "DivVdhyrOrxB"
   },
   "source": [
    "* 누적 확률 분포를 그리세요."
   ]
  },
  {
   "cell_type": "code",
   "execution_count": 111,
   "metadata": {
    "id": "KHe2uMwmOrxB"
   },
   "outputs": [
    {
     "data": {
      "text/plain": [
       "[<matplotlib.lines.Line2D at 0x1b071260a60>]"
      ]
     },
     "execution_count": 111,
     "metadata": {},
     "output_type": "execute_result"
    },
    {
     "data": {
      "image/png": "[encoded data removed]",
      "text/plain": [
       "<Figure size 432x288 with 1 Axes>"
      ]
     },
     "metadata": {
      "needs_background": "light"
     },
     "output_type": "display_data"
    }
   ],
   "source": [
    "F4 = np.cumsum(P4)\n",
    "plt.plot(X4, F4)"
   ]
  },
  {
   "cell_type": "markdown",
   "metadata": {
    "id": "MkZcbqe2Xhmh"
   },
   "source": [
    "#### **예제 05. 주사위 두번 굴리기**\n"
   ]
  },
  {
   "cell_type": "markdown",
   "metadata": {
    "id": "D_JC-aFkXhmi"
   },
   "source": [
    "* 확률변수가 '주사위를 두번 굴려 나온 눈의 합' 일 때, 확률변수 $X$를 정의하세요."
   ]
  },
  {
   "cell_type": "code",
   "execution_count": 131,
   "metadata": {
    "id": "lg4_wfZNXhmi"
   },
   "outputs": [
    {
     "data": {
      "text/plain": [
       "[2, 3, 4, 5, 6, 7, 8, 9, 10, 11, 12]"
      ]
     },
     "execution_count": 131,
     "metadata": {},
     "output_type": "execute_result"
    }
   ],
   "source": [
    "X5_1 = [1,2,3,4,5,6]\n",
    "X5_2 = [1,2,3,4,5,6]\n",
    "X5_a = []\n",
    "for i in X5_1:\n",
    "    for j in X5_2:\n",
    "        X5_a.append(i+j)\n",
    "X5 =  list(set(X5_a))\n",
    "X5"
   ]
  },
  {
   "cell_type": "markdown",
   "metadata": {
    "id": "9vdwsNYgXhmi"
   },
   "source": [
    "*  확률 질량 함수 $P$ 를 정의하세요."
   ]
  },
  {
   "cell_type": "code",
   "execution_count": 130,
   "metadata": {
    "id": "QbV0gd4tXhmi"
   },
   "outputs": [
    {
     "data": {
      "text/plain": [
       "[0.027777777777777776,\n",
       " 0.05555555555555555,\n",
       " 0.08333333333333333,\n",
       " 0.1111111111111111,\n",
       " 0.1388888888888889,\n",
       " 0.16666666666666666,\n",
       " 0.1388888888888889,\n",
       " 0.1111111111111111,\n",
       " 0.08333333333333333,\n",
       " 0.05555555555555555,\n",
       " 0.027777777777777776]"
      ]
     },
     "execution_count": 130,
     "metadata": {},
     "output_type": "execute_result"
    }
   ],
   "source": [
    "def f5(X):\n",
    "    return X5_a.count(X)/36\n",
    "P5 = list(map(f5, X5))\n",
    "P5"
   ]
  },
  {
   "cell_type": "markdown",
   "metadata": {
    "id": "dENmsSwIXhmi"
   },
   "source": [
    "* 확률 분포를 그리세요."
   ]
  },
  {
   "cell_type": "code",
   "execution_count": 132,
   "metadata": {
    "id": "Y91VYdLFXhmi"
   },
   "outputs": [
    {
     "data": {
      "text/plain": [
       "<BarContainer object of 11 artists>"
      ]
     },
     "execution_count": 132,
     "metadata": {},
     "output_type": "execute_result"
    },
    {
     "data": {
      "image/png": "[encoded data removed]",
      "text/plain": [
       "<Figure size 432x288 with 1 Axes>"
      ]
     },
     "metadata": {
      "needs_background": "light"
     },
     "output_type": "display_data"
    }
   ],
   "source": [
    "plt.bar(X5,P5)"
   ]
  },
  {
   "cell_type": "markdown",
   "metadata": {
    "id": "VWD3Q1jRXhmi"
   },
   "source": [
    "* 누적 확률 분포를 그리세요."
   ]
  },
  {
   "cell_type": "code",
   "execution_count": 133,
   "metadata": {
    "id": "4zuqckh3Xhmj"
   },
   "outputs": [
    {
     "data": {
      "text/plain": [
       "[<matplotlib.lines.Line2D at 0x1b06fb279d0>]"
      ]
     },
     "execution_count": 133,
     "metadata": {},
     "output_type": "execute_result"
    },
    {
     "data": {
      "image/png": "[encoded data removed]",
      "text/plain": [
       "<Figure size 432x288 with 1 Axes>"
      ]
     },
     "metadata": {
      "needs_background": "light"
     },
     "output_type": "display_data"
    }
   ],
   "source": [
    "F5= np.cumsum(P5)\n",
    "plt.plot(X5, F5)"
   ]
  },
  {
   "cell_type": "markdown",
   "metadata": {
    "id": "PkwoNqyoiQ8i"
   },
   "source": [
    "#### **예제 06. 손의 길이**\n"
   ]
  },
  {
   "cell_type": "markdown",
   "metadata": {
    "id": "ZOyUQpNtiQ8o"
   },
   "source": [
    "* 확률변수가 '성인의 손 길이(cm)' 입니다. $X$를 10부터 20까지 1000개의 값으로 정의하세요."
   ]
  },
  {
   "cell_type": "code",
   "execution_count": 7,
   "metadata": {
    "id": "NIdnQlEaiQ8o"
   },
   "outputs": [],
   "source": [
    "X6 = np.linspace(10,20,1000)"
   ]
  },
  {
   "cell_type": "markdown",
   "metadata": {
    "id": "gj2dFgBJiQ8o"
   },
   "source": [
    "* 손 길이에 대한 확률이 다음과 같이 주어졌을 때 함수 $f$ 를 정의하세요. ($\\sigma$ = 1)\n",
    "\n",
    "\n",
    "\n",
    "\\begin{align}\n",
    " f(x)=\\frac{1}{\\sqrt{2\\pi}\\sigma}\\exp^{-\\frac{(x-15.2)^2}{2*\\sigma^2}}\n",
    "\\end{align}"
   ]
  },
  {
   "cell_type": "code",
   "execution_count": 8,
   "metadata": {
    "id": "P4ytpN5giQ8o"
   },
   "outputs": [],
   "source": [
    "def f6(X,sigma):\n",
    "    return np.exp(-((X-15.2)**2)/(2*sigma**2))/np.sqrt(2*np.pi)*sigma"
   ]
  },
  {
   "cell_type": "markdown",
   "metadata": {
    "id": "y-d1Q_EdiQ8o"
   },
   "source": [
    "* 확률 분포를 그리세요."
   ]
  },
  {
   "cell_type": "code",
   "execution_count": 9,
   "metadata": {
    "id": "F6y785cJiQ8o"
   },
   "outputs": [
    {
     "data": {
      "text/plain": [
       "<BarContainer object of 1000 artists>"
      ]
     },
     "execution_count": 9,
     "metadata": {},
     "output_type": "execute_result"
    },
    {
     "data": {
      "image/png": "[encoded data removed]",
      "text/plain": [
       "<Figure size 432x288 with 1 Axes>"
      ]
     },
     "metadata": {
      "needs_background": "light"
     },
     "output_type": "display_data"
    }
   ],
   "source": [
    "P6 = f6(X6,1)\n",
    "\n",
    "plt.bar(X6,P6)"
   ]
  },
  {
   "cell_type": "markdown",
   "metadata": {
    "id": "TKCRdDB4iQ8p"
   },
   "source": [
    "* 누적 확률 분포를 그리세요."
   ]
  },
  {
   "cell_type": "code",
   "execution_count": 10,
   "metadata": {
    "id": "vOPgzT8SiQ8p"
   },
   "outputs": [
    {
     "data": {
      "text/plain": [
       "[<matplotlib.lines.Line2D at 0x22d4ef2f190>]"
      ]
     },
     "execution_count": 10,
     "metadata": {},
     "output_type": "execute_result"
    },
    {
     "data": {
      "image/png": "[encoded data removed]",
      "text/plain": [
       "<Figure size 432x288 with 1 Axes>"
      ]
     },
     "metadata": {
      "needs_background": "light"
     },
     "output_type": "display_data"
    }
   ],
   "source": [
    "F6 = np.cumsum(P6)\n",
    "plt.plot(X6, P6)"
   ]
  },
  {
   "cell_type": "markdown",
   "metadata": {
    "id": "fIC9ftgHuQdj"
   },
   "source": [
    "#### **예제 07. 파라미터 변경**\n",
    "\n",
    "예제 06 에서 정의한 함수 $f$의 파라미터 $\\sigma$를 각각 `0.5, 1, 2, 4`로 정의한 후 확률분포와 누적확률 분포를 그리세요.\n",
    "\n",
    "\\begin{align}\n",
    " f(x)=\\frac{1}{\\sqrt{2\\pi}\\sigma}\\exp^{-\\frac{(x-15.2)^2}{2*\\sigma^2}}\n",
    "\\end{align}"
   ]
  },
  {
   "cell_type": "code",
   "execution_count": 22,
   "metadata": {
    "id": "DbFc1_8BtM5i"
   },
   "outputs": [
    {
     "data": {
      "image/png": "[encoded data removed]",
      "text/plain": [
       "<Figure size 432x288 with 2 Axes>"
      ]
     },
     "metadata": {
      "needs_background": "light"
     },
     "output_type": "display_data"
    }
   ],
   "source": [
    "X7 = np.linspace(10,20,1000)\n",
    "def f7(X, sigma):\n",
    "    P7 = f6(X,sigma)\n",
    "    F7 = np.cumsum(P7)\n",
    "    \n",
    "    plt.subplot(1, 2, 1)\n",
    "    plt.bar(X7,P7)\n",
    "    plt.title(f'{sigma} 확률분포')\n",
    "\n",
    "    plt.subplot(1, 2, 2)\n",
    "    plt.plot(X7, F7)\n",
    "    plt.title(f'{sigma} 누적확률분포')\n",
    "    \n",
    "    plt.tight_layout()\n",
    "    plt.show()\n",
    "    \n",
    "f7(X7,0.5)"
   ]
  },
  {
   "cell_type": "code",
   "execution_count": 23,
   "metadata": {},
   "outputs": [
    {
     "data": {
      "image/png": "[encoded data removed]",
      "text/plain": [
       "<Figure size 432x288 with 2 Axes>"
      ]
     },
     "metadata": {
      "needs_background": "light"
     },
     "output_type": "display_data"
    }
   ],
   "source": [
    "f7(X7,1)"
   ]
  },
  {
   "cell_type": "code",
   "execution_count": 24,
   "metadata": {},
   "outputs": [
    {
     "data": {
      "image/png": "[encoded data removed]",
      "text/plain": [
       "<Figure size 432x288 with 2 Axes>"
      ]
     },
     "metadata": {
      "needs_background": "light"
     },
     "output_type": "display_data"
    }
   ],
   "source": [
    "f7(X7,2)"
   ]
  },
  {
   "cell_type": "code",
   "execution_count": 25,
   "metadata": {},
   "outputs": [
    {
     "data": {
      "image/png": "[encoded data removed]",
      "text/plain": [
       "<Figure size 432x288 with 2 Axes>"
      ]
     },
     "metadata": {
      "needs_background": "light"
     },
     "output_type": "display_data"
    }
   ],
   "source": [
    "f7(X7,4)"
   ]
  },
  {
   "cell_type": "code",
   "execution_count": null,
   "metadata": {},
   "outputs": [],
   "source": []
  },
  {
   "cell_type": "code",
   "execution_count": null,
   "metadata": {},
   "outputs": [],
   "source": []
  }
 ],
 "metadata": {
  "colab": {
   "authorship_tag": "ABX9TyPA8GjJCHtFCXlj5L9b8UFt",
   "collapsed_sections": [],
   "include_colab_link": true,
   "name": "ch03_01_확률변수와_확률함수.ipynb",
   "provenance": []
  },
  "kernelspec": {
   "display_name": "Python 3 (ipykernel)",
   "language": "python",
   "name": "python3"
  },
  "language_info": {
   "codemirror_mode": {
    "name": "ipython",
    "version": 3
   },
   "file_extension": ".py",
   "mimetype": "text/x-python",
   "name": "python",
   "nbconvert_exporter": "python",
   "pygments_lexer": "ipython3",
   "version": "3.9.7"
  },
  "toc": {
   "base_numbering": 1,
   "nav_menu": {},
   "number_sections": true,
   "sideBar": true,
   "skip_h1_title": false,
   "title_cell": "Table of Contents",
   "title_sidebar": "Contents",
   "toc_cell": false,
   "toc_position": {},
   "toc_section_display": true,
   "toc_window_display": false
  },
  "varInspector": {
   "cols": {
    "lenName": 16,
    "lenType": 16,
    "lenVar": 40
   },
   "kernels_config": {
    "python": {
     "delete_cmd_postfix": "",
     "delete_cmd_prefix": "del ",
     "library": "var_list.py",
     "varRefreshCmd": "print(var_dic_list())"
    },
    "r": {
     "delete_cmd_postfix": ") ",
     "delete_cmd_prefix": "rm(",
     "library": "var_list.r",
     "varRefreshCmd": "cat(var_dic_list()) "
    }
   },
   "types_to_exclude": [
    "module",
    "function",
    "builtin_function_or_method",
    "instance",
    "_Feature"
   ],
   "window_display": false
  }
 },
 "nbformat": 4,
 "nbformat_minor": 1
}
