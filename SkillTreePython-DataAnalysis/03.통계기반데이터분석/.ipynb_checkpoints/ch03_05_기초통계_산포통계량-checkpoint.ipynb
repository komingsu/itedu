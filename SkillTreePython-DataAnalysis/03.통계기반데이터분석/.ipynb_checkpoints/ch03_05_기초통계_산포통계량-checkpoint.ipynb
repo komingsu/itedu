{
 "cells": [
  {
   "cell_type": "markdown",
   "metadata": {
    "colab_type": "text",
    "id": "view-in-github"
   },
   "source": [
    "<a href=\"https://colab.research.google.com/github/yebiny/SkillTreePython-DataAnalysis/blob/main/03.%ED%86%B5%EA%B3%84%EA%B8%B0%EB%B0%98%EB%8D%B0%EC%9D%B4%ED%84%B0%EB%B6%84%EC%84%9D/ch03_05_%EA%B8%B0%EC%B4%88%ED%86%B5%EA%B3%84_%EC%82%B0%ED%8F%AC%ED%86%B5%EA%B3%84%EB%9F%89.ipynb\" target=\"_parent\"><img src=\"https://colab.research.google.com/assets/colab-badge.svg\" alt=\"Open In Colab\"/></a>"
   ]
  },
  {
   "cell_type": "markdown",
   "metadata": {
    "id": "wWpXZc2fi39U"
   },
   "source": [
    "# ch03.05. 기초통계 - 산포통계량\n",
    "---\n",
    "* 날짜:\n",
    "* 이름:\n",
    "\n",
    "## 학습내용\n",
    "    * 산포 통계량\n",
    "      - 분산\n",
    "      - 표준편차\n",
    "      - 변동계수\n",
    "      - 스케일링\n",
    "      - 범위와 사분위 범위"
   ]
  },
  {
   "cell_type": "code",
   "execution_count": 1,
   "metadata": {
    "id": "uYLRSgCqw4YZ"
   },
   "outputs": [],
   "source": [
    "import numpy as np\n",
    "import matplotlib.pyplot as plt\n",
    "import pandas as pd\n",
    "import seaborn as sns"
   ]
  },
  {
   "cell_type": "markdown",
   "metadata": {
    "id": "rx3G1AI_nCTw"
   },
   "source": [
    "##  산포 통계\n",
    "---\n",
    "\n",
    "* 산포란 데이터가 얼마나 퍼져있는지를 의미\n",
    "\n",
    "* 따라서 산포 통계량이란 데이터의 산포를 나타내는 통계량이라 할 수 있다."
   ]
  },
  {
   "cell_type": "markdown",
   "metadata": {
    "id": "Qamnn6ffuxFL"
   },
   "source": [
    "### **| 데이터 생성**\n",
    "\n",
    "```\n",
    "# 아래의 함수는 정규분포를 따르는 랜덤한 실수를 반환합니다.\n",
    "np.random.normal(loc, scale, size)\n",
    "# loc = 평균\n",
    "# scale = 표준편차\n",
    "# size = 추출할 데이터(표본)의 크기\n",
    "```\n"
   ]
  },
  {
   "cell_type": "markdown",
   "metadata": {
    "id": "T8BAXON4vIxO"
   },
   "source": [
    "* 평균 0, 표준편차 1인 정규분포 데이터 1000개를 생성하기"
   ]
  },
  {
   "cell_type": "code",
   "execution_count": 43,
   "metadata": {
    "id": "QGUgicvFFpBp"
   },
   "outputs": [],
   "source": [
    "# 넘파이 랜덤 시드 0으로 설정\n",
    "np.random.seed(0)\n",
    "# 넘파이 배열 `a1`로 바인딩\n",
    "a1 = np.random.normal(0, 1, 1000)\n",
    "# 판다스 시리즈 `s1`로 바인딩\n",
    "np.random.seed(0)\n",
    "s1 = pd.Series(np.random.normal(0, 1, 1000))"
   ]
  },
  {
   "cell_type": "markdown",
   "metadata": {
    "id": "AS6fAssFvJdi"
   },
   "source": [
    "* 평균 0, 표준편차 3인 정규분포 데이터 1000개를 생성하기"
   ]
  },
  {
   "cell_type": "code",
   "execution_count": 44,
   "metadata": {
    "id": "4L4smlIDvPA5"
   },
   "outputs": [],
   "source": [
    "# 넘파이 랜덤 시드 0으로 설정\n",
    "np.random.seed(0)\n",
    "# 넘파이 배열 `a3`로 바인딩\n",
    "a3 = np.random.normal(0, 3, 1000)\n",
    "# 판다스 시리즈 `s3`로 바인딩\n",
    "np.random.seed(0)\n",
    "s3 = pd.Series(np.random.normal(0, 3, 1000))"
   ]
  },
  {
   "cell_type": "markdown",
   "metadata": {
    "id": "tiM7-w9kvR7W"
   },
   "source": [
    "* `a1`와 `a3`의 분포 그리기"
   ]
  },
  {
   "cell_type": "code",
   "execution_count": 45,
   "metadata": {
    "id": "gz9cjV1FwGQH"
   },
   "outputs": [
    {
     "data": {
      "image/png": "[encoded data removed]",
      "text/plain": [
       "<Figure size 576x360 with 1 Axes>"
      ]
     },
     "metadata": {
      "needs_background": "light"
     },
     "output_type": "display_data"
    }
   ],
   "source": [
    "plt.figure(figsize=(8,5))\n",
    "s1.hist(bins=30, label=\"1\")\n",
    "s3.hist(bins=30,alpha=0.5, label=\"3\")\n",
    "plt.legend()\n",
    "plt.show()"
   ]
  },
  {
   "cell_type": "markdown",
   "metadata": {
    "id": "YUHtaUMySASi"
   },
   "source": [
    "### **| 분산**\n",
    "\n",
    "\\begin{align}\n",
    "var(x) = \\frac{\\sum^{n}_{i=1}(x_i-\\mu)^2}{n-1} \n",
    "\\end{align}\n",
    "\\begin{align}\n",
    " & \\\\\n",
    " & x_i :? \\\\\n",
    " & \\mu : ?\\\\\n",
    " & n : ?\\\\ \n",
    "\\end{align}\n",
    "\n",
    "\n",
    "```\n",
    "np.var(a, ddof) \n",
    "a.var(ddof)\n",
    "s.var(ddof)\n",
    "```"
   ]
  },
  {
   "cell_type": "markdown",
   "metadata": {
    "id": "XsFgISoBwYFX"
   },
   "source": [
    "* `a1`과 `a3`의 분산을 계산"
   ]
  },
  {
   "cell_type": "code",
   "execution_count": 52,
   "metadata": {
    "id": "SXfmaEFfSASj"
   },
   "outputs": [
    {
     "name": "stdout",
     "output_type": "stream",
     "text": [
      "a1, ddof=1\t 0.9752096659781323\n",
      "a3, ddof=1\t 8.776886993803192\n",
      "a1, ddof=0\t 0.9742344563121542\n",
      "a3, ddof=0\t 8.768110106809388\n"
     ]
    }
   ],
   "source": [
    "print(\"a1, ddof=1\\t\",np.var(a1, ddof=1))\n",
    "print(\"a3, ddof=1\\t\",np.var(a3,ddof=1))\n",
    "print(\"a1, ddof=0\\t\",np.var(a1))\n",
    "print(\"a3, ddof=0\\t\",np.var(a3))"
   ]
  },
  {
   "cell_type": "markdown",
   "metadata": {
    "id": "Nx5x3UnTSASk"
   },
   "source": [
    "### **| 표준편차**\n",
    "\n",
    "\n",
    "\\begin{align}\n",
    "std(x)= \\sqrt{var(x)} = \n",
    "\\sqrt{\\frac{\\sum^{n}_{i=1}(x_i-\\mu)^2}{n-1}} \n",
    "\\end{align}\n",
    "\\begin{align}\n",
    " & \\\\\n",
    " & x_i : ? \\\\\n",
    " & \\mu : ?\\\\\n",
    " & n : ?\\\\ \n",
    "\\end{align}\n",
    "\n",
    "\n",
    "```\n",
    "np.std(a, ddof) \n",
    "a.std(ddof)\n",
    "s.std(ddof)\n",
    "```"
   ]
  },
  {
   "cell_type": "markdown",
   "metadata": {
    "id": "JS7Nh7HIwx3l"
   },
   "source": [
    "* `a1`과 `a3`의 표준편차 계산"
   ]
  },
  {
   "cell_type": "code",
   "execution_count": 53,
   "metadata": {
    "id": "dXnFgMtnwx3m"
   },
   "outputs": [
    {
     "name": "stdout",
     "output_type": "stream",
     "text": [
      "a1, ddof=1\t 0.9875270456945128\n",
      "a3, ddof=1\t 2.9625811370835384\n",
      "a1, ddof=0\t 0.9870331586690257\n",
      "a3, ddof=0\t 2.9610994760070772\n"
     ]
    }
   ],
   "source": [
    "print(\"a1, ddof=1\\t\",np.std(a1, ddof=1))\n",
    "print(\"a3, ddof=1\\t\",np.std(a3,ddof=1))\n",
    "print(\"a1, ddof=0\\t\",np.std(a1))\n",
    "print(\"a3, ddof=0\\t\",np.std(a3))"
   ]
  },
  {
   "cell_type": "markdown",
   "metadata": {
    "id": "KTIXQnIkw9iQ"
   },
   "source": [
    "* `a1`의 분산과 `a1`의 표준편차제곱을 비교"
   ]
  },
  {
   "cell_type": "code",
   "execution_count": 55,
   "metadata": {
    "id": "R7gkCYF1xC06"
   },
   "outputs": [
    {
     "data": {
      "text/plain": [
       "True"
      ]
     },
     "execution_count": 55,
     "metadata": {},
     "output_type": "execute_result"
    }
   ],
   "source": [
    "np.var(a1,ddof=1)==np.std(a1, ddof=1)**2"
   ]
  },
  {
   "cell_type": "markdown",
   "metadata": {
    "id": "G6ilAY14xkFc"
   },
   "source": [
    "### **| 변동계수**\n",
    "\n",
    "분산 혹은 표준편차를 스케일에 영향을 받지 않도록 데이터를 스케일링 한 후 분산 혹은 표준편차를 계산\n",
    "\n",
    "\n",
    "\\begin{align}\n",
    "변동계수 = \\frac{var(x) \\ or \\ std(x) }{Scale(x)} \n",
    "\\end{align}\n"
   ]
  },
  {
   "cell_type": "markdown",
   "metadata": {
    "id": "KY2wlX1ASASl"
   },
   "source": [
    "#### **변동계수의 필요성**"
   ]
  },
  {
   "cell_type": "markdown",
   "metadata": {
    "id": "QFH6d7L9xSK9"
   },
   "source": [
    "* `a1`의 모든 요소에 10을 곱한 배열 `a10`을 생성"
   ]
  },
  {
   "cell_type": "code",
   "execution_count": 56,
   "metadata": {
    "id": "m5lYDjtESASm",
    "scrolled": true
   },
   "outputs": [],
   "source": [
    "a10 = a1*10"
   ]
  },
  {
   "cell_type": "markdown",
   "metadata": {
    "id": "2MWKjJX0xki1"
   },
   "source": [
    "* `a1`과 `a10`의 분산 계산"
   ]
  },
  {
   "cell_type": "code",
   "execution_count": 57,
   "metadata": {
    "id": "sgoJOUH3xopo"
   },
   "outputs": [
    {
     "name": "stdout",
     "output_type": "stream",
     "text": [
      "a1:\t 0.9742344563121542\n",
      "a10:\t 97.42344563121542\n"
     ]
    }
   ],
   "source": [
    "print(\"a1:\\t\", np.var(a1))\n",
    "print(\"a10:\\t\", np.var(a10))"
   ]
  },
  {
   "cell_type": "markdown",
   "metadata": {
    "id": "MdTQTl-ZSASo"
   },
   "source": [
    "#### **스케일링: min-max**\n",
    "\n",
    "**min-max scaling** : 최대값을 1로, 최소값을 0으로 스켕일링 하는  기법.\n",
    "\n",
    "\\begin{align}\n",
    "minmax(x)=\\frac{x-min(x)}{max(x)-min(x)}\n",
    "\\end{align}\n",
    "\n",
    "\\begin{align}\n",
    " & \\\\\n",
    " & x : ? \\\\\n",
    " & min(x) : ?\\\\\n",
    " & max(x) : ?\\\\ \n",
    "\\end{align}\n",
    "\n"
   ]
  },
  {
   "cell_type": "markdown",
   "metadata": {
    "id": "ZtfohRLysjzk"
   },
   "source": [
    "* min-max 함수 생성"
   ]
  },
  {
   "cell_type": "code",
   "execution_count": 61,
   "metadata": {},
   "outputs": [
    {
     "data": {
      "text/plain": [
       "(2.759355114021582, -3.0461430547999266)"
      ]
     },
     "execution_count": 61,
     "metadata": {},
     "output_type": "execute_result"
    }
   ],
   "source": [
    "a1.max(), a1.min()"
   ]
  },
  {
   "cell_type": "code",
   "execution_count": 65,
   "metadata": {
    "id": "59mzhjd5r4j2"
   },
   "outputs": [],
   "source": [
    "def minmax(arr):\n",
    "    arr1 = (arr-arr.min())/(arr.max()-arr.min())\n",
    "    return arr1"
   ]
  },
  {
   "cell_type": "markdown",
   "metadata": {
    "id": "y2-9KhEksc2A"
   },
   "source": [
    "* `a1`을 min-max scaling 하여 `a1_minmax` 로 바인딩"
   ]
  },
  {
   "cell_type": "code",
   "execution_count": 67,
   "metadata": {
    "id": "xTMzYDPHSASo"
   },
   "outputs": [],
   "source": [
    "a1_minmax = minmax(a1)"
   ]
  },
  {
   "cell_type": "markdown",
   "metadata": {
    "id": "k_Ci-tvAyC1W"
   },
   "source": [
    "* `a10`을 min-max scaling 하여 `a10_minmax` 로 바인딩"
   ]
  },
  {
   "cell_type": "code",
   "execution_count": 68,
   "metadata": {
    "id": "ceA7GBikyC1W"
   },
   "outputs": [],
   "source": [
    "a10_minmax = minmax(a10)"
   ]
  },
  {
   "cell_type": "markdown",
   "metadata": {
    "id": "hpHAqKBZyIee"
   },
   "source": [
    "* `a1`과 `a1_minmax`의 분포를 (1x2) 플롯에 그려 비교하기"
   ]
  },
  {
   "cell_type": "code",
   "execution_count": 71,
   "metadata": {
    "id": "ZHJYrPCSyO4a"
   },
   "outputs": [
    {
     "data": {
      "image/png": "[encoded data removed]",
      "text/plain": [
       "<Figure size 576x360 with 1 Axes>"
      ]
     },
     "metadata": {
      "needs_background": "light"
     },
     "output_type": "display_data"
    }
   ],
   "source": [
    "plt.figure(figsize=(8,5))\n",
    "plt.hist(a1,bins=30,alpha=0.5, label=\"a1\")\n",
    "plt.hist(a1_minmax, bins=30, label=\"a1_minmax\")\n",
    "plt.legend()\n",
    "plt.show()"
   ]
  },
  {
   "cell_type": "markdown",
   "metadata": {
    "id": "ZfJ52b-iysv1"
   },
   "source": [
    "* `a10`과 `a10_minmax`의 분포를 (1x2) 플롯에 그려 비교하기"
   ]
  },
  {
   "cell_type": "code",
   "execution_count": 72,
   "metadata": {
    "id": "vrBzYymhysv1"
   },
   "outputs": [
    {
     "data": {
      "image/png": "[encoded data removed]",
      "text/plain": [
       "<Figure size 576x360 with 1 Axes>"
      ]
     },
     "metadata": {
      "needs_background": "light"
     },
     "output_type": "display_data"
    }
   ],
   "source": [
    "plt.figure(figsize=(8,5))\n",
    "plt.hist(a10,bins=30,alpha=0.5, label=\"a1\")\n",
    "plt.hist(a10_minmax, bins=30, label=\"a1_minmax\")\n",
    "plt.legend()\n",
    "plt.show()"
   ]
  },
  {
   "cell_type": "markdown",
   "metadata": {},
   "source": [
    "* a1_minmax와 a10_minmax의 분포를 (1x2) 플롯에 그려 비교하기"
   ]
  },
  {
   "cell_type": "code",
   "execution_count": 77,
   "metadata": {},
   "outputs": [
    {
     "data": {
      "image/png": "[encoded data removed]",
      "text/plain": [
       "<Figure size 576x360 with 1 Axes>"
      ]
     },
     "metadata": {
      "needs_background": "light"
     },
     "output_type": "display_data"
    }
   ],
   "source": [
    "plt.figure(figsize=(8,5))\n",
    "plt.hist(a1_minmax,bins=30,alpha=0.3, label=\"a1_minmax\")\n",
    "plt.hist(a10_minmax, bins=30,alpha=0.3, label=\"a10_minmax\")\n",
    "plt.legend()\n",
    "plt.show()"
   ]
  },
  {
   "cell_type": "code",
   "execution_count": 100,
   "metadata": {},
   "outputs": [
    {
     "data": {
      "text/plain": [
       "(0.828558594093, True)"
      ]
     },
     "execution_count": 100,
     "metadata": {},
     "output_type": "execute_result"
    }
   ],
   "source": [
    "lst1 = list(map(lambda x : round(x,12),a1_minmax))\n",
    "lst10 = list(map(lambda x : round(x, 12),a10_minmax))\n",
    "\n",
    "lst1[0], lst1==lst10"
   ]
  },
  {
   "cell_type": "markdown",
   "metadata": {
    "id": "GxWolaowzd7X"
   },
   "source": [
    "* `a1`과 `a10` 두 데이터의 스케일링 전, 후 데이터가 가지는 값의 범위를 요약하기"
   ]
  },
  {
   "cell_type": "code",
   "execution_count": 106,
   "metadata": {
    "id": "dLdhab_DznRS"
   },
   "outputs": [
    {
     "name": "stdout",
     "output_type": "stream",
     "text": [
      "a1 min -3.0461430547999266 a1 max 2.759355114021582 a1 mean -0.045256707490195384\n",
      "a10 min -30.461430547999267 a10 max 27.593551140215823 a10 mean -0.4525670749019539\n",
      "a1_minmax min 0.0 a1_minmax max 1.0 a1_minmax mean 0.516904193239785\n",
      "a10_minmax min 0.0 a10_minmax max 1.0 a10_minmax mean 0.516904193239785\n"
     ]
    }
   ],
   "source": [
    "print(\"a1 min\", a1.min(), \"a1 max\", a1.max(), \"a1 mean\", a1.mean())\n",
    "print(\"a10 min\", a10.min(), \"a10 max\", a10.max(), \"a10 mean\", a10.mean())\n",
    "print(\"a1_minmax min\", a1_minmax.min(), \"a1_minmax max\", a1_minmax.max(), \"a1_minmax mean\", a1_minmax.mean())\n",
    "print(\"a10_minmax min\", a10_minmax.min(), \"a10_minmax max\", a10_minmax.max(), \"a10_minmax mean\", a10_minmax.mean())"
   ]
  },
  {
   "cell_type": "markdown",
   "metadata": {
    "id": "hBPs1JzyzuM9"
   },
   "source": [
    "* 스케일링 후 `a1_minmax`, `a10_minmax`의 분산 구하기"
   ]
  },
  {
   "cell_type": "code",
   "execution_count": 108,
   "metadata": {
    "id": "11gRv_kUzztl"
   },
   "outputs": [
    {
     "data": {
      "text/plain": [
       "(0.028905767198405808, 0.028905767198405805)"
      ]
     },
     "execution_count": 108,
     "metadata": {},
     "output_type": "execute_result"
    }
   ],
   "source": [
    "np.var(a1_minmax),np.var(a10_minmax)"
   ]
  },
  {
   "cell_type": "markdown",
   "metadata": {
    "id": "URGjKjGdsoqV"
   },
   "source": [
    "#### **스케일링: z-score**\n",
    "\n",
    "**standard(z-socre) scaling** : 최대값을 1로, 최소값을 0으로 스켕일링 하는  기법.\n",
    "\n",
    "\\begin{align}\n",
    "\\\\\n",
    "standard(x)=\\frac{x-\\mu}{\\sigma}\n",
    "\\end{align}\n",
    "\\begin{align}\n",
    " & \\\\\n",
    " & x : ? \\\\\n",
    " & \\mu : ?\\\\\n",
    " & \\sigma : ?\\\\ \n",
    "\\end{align}\n"
   ]
  },
  {
   "cell_type": "markdown",
   "metadata": {
    "id": "-m5HGk_QsoqV"
   },
   "source": [
    "* standard 함수 생성"
   ]
  },
  {
   "cell_type": "code",
   "execution_count": 109,
   "metadata": {
    "id": "jLIfy5MYsoqW"
   },
   "outputs": [],
   "source": [
    "def standard(arr):\n",
    "    arr1 = arr-np.mean(arr)/np.std(arr)\n",
    "    return arr1"
   ]
  },
  {
   "cell_type": "markdown",
   "metadata": {
    "id": "MLhSVJcJz_Ie"
   },
   "source": [
    "* `a1`을 standard 하여 `a1_standard` 로 바인딩"
   ]
  },
  {
   "cell_type": "code",
   "execution_count": 117,
   "metadata": {
    "id": "phcra2xpz_If"
   },
   "outputs": [],
   "source": [
    "a1_standard = standard(a1)"
   ]
  },
  {
   "cell_type": "markdown",
   "metadata": {
    "id": "CXVTHP-2z_If"
   },
   "source": [
    "* `a10`을 standard 하여 `a10_standard` 로 바인딩"
   ]
  },
  {
   "cell_type": "code",
   "execution_count": 118,
   "metadata": {
    "id": "7xBnlZmIz_If"
   },
   "outputs": [],
   "source": [
    "a10_standard = standard(a10)"
   ]
  },
  {
   "cell_type": "markdown",
   "metadata": {
    "id": "G-zv1Y9Wz_If"
   },
   "source": [
    "* `a1`과 `a10_standard`의 분포를 (1x2) 플롯에 그려 비교하기"
   ]
  },
  {
   "cell_type": "code",
   "execution_count": 121,
   "metadata": {
    "id": "vl70HGvqz_If"
   },
   "outputs": [
    {
     "data": {
      "image/png": "[encoded data removed]",
      "text/plain": [
       "<Figure size 576x360 with 1 Axes>"
      ]
     },
     "metadata": {
      "needs_background": "light"
     },
     "output_type": "display_data"
    }
   ],
   "source": [
    "plt.figure(figsize=(8,5))\n",
    "plt.hist(a1,bins=30,alpha=0.5, label=\"a1\")\n",
    "plt.hist(a1_standard, bins=30,alpha=0.5, label=\"a1_standard\")\n",
    "plt.legend()\n",
    "plt.show()"
   ]
  },
  {
   "cell_type": "markdown",
   "metadata": {
    "id": "PE9kVQfkz_If"
   },
   "source": [
    "* `a10`과 `a10_standard`의 분포를 (1x2) 플롯에 그려 비교하기"
   ]
  },
  {
   "cell_type": "code",
   "execution_count": 122,
   "metadata": {
    "id": "t5G7ewP2z_Ig"
   },
   "outputs": [
    {
     "data": {
      "image/png": "[encoded data removed]",
      "text/plain": [
       "<Figure size 576x360 with 1 Axes>"
      ]
     },
     "metadata": {
      "needs_background": "light"
     },
     "output_type": "display_data"
    }
   ],
   "source": [
    "plt.figure(figsize=(8,5))\n",
    "plt.hist(a10,bins=30,alpha=0.5, label=\"a10\")\n",
    "plt.hist(a10_standard, bins=30,alpha=0.5, label=\"a10_standard\")\n",
    "plt.legend()\n",
    "plt.show()"
   ]
  },
  {
   "cell_type": "markdown",
   "metadata": {
    "id": "UhZ-Wploz_Ig"
   },
   "source": [
    "* `a1`과 `a10` 두 데이터의 스케일링 전, 후 데이터가 가지는 값의 범위를 요약하기"
   ]
  },
  {
   "cell_type": "code",
   "execution_count": 123,
   "metadata": {
    "id": "wHVML9Zpz_Ig"
   },
   "outputs": [
    {
     "name": "stdout",
     "output_type": "stream",
     "text": [
      "a1 min -3.0461430547999266 a1 max 2.759355114021582 a1 mean -0.045256707490195384\n",
      "a10 min -30.461430547999267 a10 max 27.593551140215823 a10 mean -0.4525670749019539\n",
      "a1_standard min -3.0002918013818327 a1_standard max 2.805206367439676 a1_standard mean 0.0005945459278987411\n",
      "a10_standard min -30.415579294581175 a10_standard max 27.639402393633915 a10_standard mean -0.40671582148385976\n"
     ]
    }
   ],
   "source": [
    "print(\"a1 min\", a1.min(), \"a1 max\", a1.max(), \"a1 mean\", a1.mean())\n",
    "print(\"a10 min\", a10.min(), \"a10 max\", a10.max(), \"a10 mean\", a10.mean())\n",
    "print(\"a1_standard min\", a1_standard.min(), \"a1_standard max\", a1_standard.max(), \"a1_standard mean\", a1_standard.mean())\n",
    "print(\"a10_standard min\", a10_standard.min(), \"a10_standard max\", a10_standard.max(), \"a10_standard mean\", a10_standard.mean())"
   ]
  },
  {
   "cell_type": "markdown",
   "metadata": {
    "id": "Za5xe-lDz_Ig"
   },
   "source": [
    "* 스케일링 후 `a1_standard`, `a10_standard`의 분산 구하기"
   ]
  },
  {
   "cell_type": "code",
   "execution_count": 124,
   "metadata": {
    "id": "xjgMc74tz_Ig"
   },
   "outputs": [
    {
     "data": {
      "text/plain": [
       "(0.9742344563121542, 97.42344563121542)"
      ]
     },
     "execution_count": 124,
     "metadata": {},
     "output_type": "execute_result"
    }
   ],
   "source": [
    "np.var(a1_standard), np.var(a10_standard)"
   ]
  },
  {
   "cell_type": "markdown",
   "metadata": {
    "id": "Af9cq1EnSASr"
   },
   "source": [
    "### **| 범위와 사분위 범위**\n",
    "\n",
    "<p align='center'>\n",
    "<img src=https://github.com/yebiny/SkillTreePython-DataAnalysis/blob/main/imgs/ch0305-01.png?raw=true?raw=true width=800>\n",
    "</p>\n"
   ]
  },
  {
   "cell_type": "markdown",
   "metadata": {
    "id": "h-PX4Us32keF"
   },
   "source": [
    "* `a10` 의 분포 그리기"
   ]
  },
  {
   "cell_type": "code",
   "execution_count": 126,
   "metadata": {
    "id": "zwnSE67dSASr"
   },
   "outputs": [
    {
     "data": {
      "image/png": "[encoded data removed]",
      "text/plain": [
       "<Figure size 576x360 with 1 Axes>"
      ]
     },
     "metadata": {
      "needs_background": "light"
     },
     "output_type": "display_data"
    }
   ],
   "source": [
    "plt.figure(figsize=(8,5))\n",
    "plt.hist(a10_standard, bins=30,alpha=0.5, label=\"a10_standard\")\n",
    "plt.legend()\n",
    "plt.show()"
   ]
  },
  {
   "cell_type": "markdown",
   "metadata": {
    "id": "_RZq1F5xzdbT"
   },
   "source": [
    "#### **범위**\n",
    "\n",
    "\\begin{align}\n",
    "\\\\\n",
    "범위 = max(x)-min(x)\n",
    "\\end{align}\n",
    "\n",
    "```\n",
    "np.ptp(x)\n",
    "```"
   ]
  },
  {
   "cell_type": "markdown",
   "metadata": {
    "id": "E21v3wDg3nZy"
   },
   "source": [
    "* `a10`의 범위 구하기"
   ]
  },
  {
   "cell_type": "code",
   "execution_count": 128,
   "metadata": {
    "id": "XC2V_offSASr"
   },
   "outputs": [
    {
     "name": "stdout",
     "output_type": "stream",
     "text": [
      "58.05498168821509\n",
      "58.05498168821509\n"
     ]
    }
   ],
   "source": [
    "# np.ptp 사용\n",
    "print(np.ptp(a10))\n",
    "# max-min 사용\n",
    "print(np.max(a10)-np.min(a10))"
   ]
  },
  {
   "cell_type": "markdown",
   "metadata": {
    "id": "LgpC0EN1zjmc"
   },
   "source": [
    "\n",
    "#### **사분위 범위**\n",
    "\n",
    "\\begin{align}\n",
    "\\\\\n",
    "사분위 범위 = 3사분위수 - 1사분위수 = 하위 75 \\% 수 - 하위 25\\% 수\n",
    "\\end{align}\n",
    "\n",
    "```\n",
    "np.quantile(x, percent)\n",
    "```"
   ]
  },
  {
   "cell_type": "markdown",
   "metadata": {
    "id": "x3nqHdR54ILX"
   },
   "source": [
    "* `a10`의 사분위 범위 구하기"
   ]
  },
  {
   "cell_type": "code",
   "execution_count": 134,
   "metadata": {
    "id": "Y857hyZ3SASr"
   },
   "outputs": [
    {
     "name": "stdout",
     "output_type": "stream",
     "text": [
      "최소값\t -30.461430547999267\n",
      "1사분위\t -6.984200593598706\n",
      "2사분위\t -0.5802803479962775\n",
      "3사분위\t 6.069506018883983\n",
      "최대값\t 27.593551140215823\n"
     ]
    }
   ],
   "source": [
    "print(\"최소값\\t\",np.quantile(a10, 0))\n",
    "print(\"1사분위\\t\",np.quantile(a10, 0.25))\n",
    "print(\"2사분위\\t\",np.quantile(a10, 0.5))\n",
    "print(\"3사분위\\t\",np.quantile(a10, 0.75))\n",
    "print(\"최대값\\t\",np.quantile(a10, 1))"
   ]
  }
 ],
 "metadata": {
  "colab": {
   "authorship_tag": "ABX9TyPPSo3/4oCdJVXW6a2UuD8P",
   "collapsed_sections": [],
   "include_colab_link": true,
   "name": "ch03_05_기초통계-산포통계량.ipynb",
   "provenance": []
  },
  "kernelspec": {
   "display_name": "Python 3 (ipykernel)",
   "language": "python",
   "name": "python3"
  },
  "language_info": {
   "codemirror_mode": {
    "name": "ipython",
    "version": 3
   },
   "file_extension": ".py",
   "mimetype": "text/x-python",
   "name": "python",
   "nbconvert_exporter": "python",
   "pygments_lexer": "ipython3",
   "version": "3.9.7"
  },
  "toc": {
   "base_numbering": 1,
   "nav_menu": {},
   "number_sections": true,
   "sideBar": true,
   "skip_h1_title": false,
   "title_cell": "Table of Contents",
   "title_sidebar": "Contents",
   "toc_cell": false,
   "toc_position": {},
   "toc_section_display": true,
   "toc_window_display": false
  },
  "varInspector": {
   "cols": {
    "lenName": 16,
    "lenType": 16,
    "lenVar": 40
   },
   "kernels_config": {
    "python": {
     "delete_cmd_postfix": "",
     "delete_cmd_prefix": "del ",
     "library": "var_list.py",
     "varRefreshCmd": "print(var_dic_list())"
    },
    "r": {
     "delete_cmd_postfix": ") ",
     "delete_cmd_prefix": "rm(",
     "library": "var_list.r",
     "varRefreshCmd": "cat(var_dic_list()) "
    }
   },
   "types_to_exclude": [
    "module",
    "function",
    "builtin_function_or_method",
    "instance",
    "_Feature"
   ],
   "window_display": false
  }
 },
 "nbformat": 4,
 "nbformat_minor": 1
}
