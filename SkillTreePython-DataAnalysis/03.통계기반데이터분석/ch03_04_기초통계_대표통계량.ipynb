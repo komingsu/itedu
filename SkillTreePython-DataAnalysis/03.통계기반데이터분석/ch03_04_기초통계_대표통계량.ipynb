{
 "cells": [
  {
   "cell_type": "markdown",
   "metadata": {
    "colab_type": "text",
    "id": "view-in-github"
   },
   "source": [
    "<a href=\"https://colab.research.google.com/github/yebiny/SkillTreePython-DataAnalysis/blob/main/03.%ED%86%B5%EA%B3%84%EA%B8%B0%EB%B0%98%EB%8D%B0%EC%9D%B4%ED%84%B0%EB%B6%84%EC%84%9D/ch03_04_%EA%B8%B0%EC%B4%88%ED%86%B5%EA%B3%84_%EB%8C%80%ED%91%9C%ED%86%B5%EA%B3%84%EB%9F%89.ipynb\" target=\"_parent\"><img src=\"https://colab.research.google.com/assets/colab-badge.svg\" alt=\"Open In Colab\"/></a>"
   ]
  },
  {
   "cell_type": "markdown",
   "metadata": {
    "id": "wWpXZc2fi39U"
   },
   "source": [
    "# ch03.04. 기초통계 - 대표통계량\n",
    "---\n",
    "* 날짜: 2022-05-09\n",
    "* 이름: 고민수\n",
    "\n",
    "## 학습내용\n",
    "    - 최빈값\n",
    "    - 중앙값\n",
    "    - 산술 평균\n",
    "    - 조화 평균\n",
    "    - 절사 평균\n"
   ]
  },
  {
   "cell_type": "code",
   "execution_count": 1,
   "metadata": {
    "id": "uYLRSgCqw4YZ"
   },
   "outputs": [],
   "source": [
    "import numpy as np\n",
    "import pandas as pd\n",
    "import matplotlib.pyplot as plt\n",
    "import seaborn as sns"
   ]
  },
  {
   "cell_type": "markdown",
   "metadata": {
    "id": "HFfrNCQzwC8p"
   },
   "source": [
    "## 대표 통계 - 수치자료형\n",
    "---"
   ]
  },
  {
   "cell_type": "markdown",
   "metadata": {
    "id": "FyMW-z9A5Dym"
   },
   "source": [
    "### **| 데이터 생성**\n",
    "\n",
    "```\n",
    "# 아래 함수는 랜덤한 정수를 반환합니다.\n",
    "np.random.randint(low, hight, shape)\n",
    "# low = 최소값\n",
    "# hight = 최대값\n",
    "# shape = 추출할 데이터의 크기\n",
    "```"
   ]
  },
  {
   "cell_type": "markdown",
   "metadata": {
    "id": "C61Z7FkB5dhN"
   },
   "source": [
    "* 최소값 1, 최대값 100인 데이터 1000개 생성하기"
   ]
  },
  {
   "cell_type": "code",
   "execution_count": 4,
   "metadata": {},
   "outputs": [],
   "source": [
    "# 넘파이 랜덤 시드 0으로 설정\n",
    "np.random.seed(0)"
   ]
  },
  {
   "cell_type": "code",
   "execution_count": 6,
   "metadata": {},
   "outputs": [],
   "source": [
    "# 넘파이 배열 `a`로 바인딩\n",
    "a = np.random.randint(1, 100, 1000)"
   ]
  },
  {
   "cell_type": "code",
   "execution_count": 10,
   "metadata": {
    "id": "QGUgicvFFpBp"
   },
   "outputs": [],
   "source": [
    "# 판다스 시리즈 `s`로 바인딩\n",
    "s= pd.Series(a)"
   ]
  },
  {
   "cell_type": "markdown",
   "metadata": {
    "id": "MNH_qxNE7ihh"
   },
   "source": [
    "* 데이터 분포 그리기"
   ]
  },
  {
   "cell_type": "code",
   "execution_count": 12,
   "metadata": {
    "id": "gz9cjV1FwGQH"
   },
   "outputs": [
    {
     "data": {
      "text/plain": [
       "<AxesSubplot:>"
      ]
     },
     "execution_count": 12,
     "metadata": {},
     "output_type": "execute_result"
    },
    {
     "data": {
      "image/png": "[encoded data removed]",
      "text/plain": [
       "<Figure size 432x288 with 1 Axes>"
      ]
     },
     "metadata": {
      "needs_background": "light"
     },
     "output_type": "display_data"
    }
   ],
   "source": [
    "s.hist(bins=50)"
   ]
  },
  {
   "cell_type": "markdown",
   "metadata": {
    "id": "B7iX0zzqFl7P"
   },
   "source": [
    "### **| 중앙값**\n",
    "```\n",
    "np.median(a)\n",
    "s.median()\n",
    "```"
   ]
  },
  {
   "cell_type": "markdown",
   "metadata": {
    "id": "qp29xCkV72Xv"
   },
   "source": [
    "* 중앙값 계산"
   ]
  },
  {
   "cell_type": "code",
   "execution_count": 14,
   "metadata": {
    "id": "4axJO9zWFpEm"
   },
   "outputs": [
    {
     "data": {
      "text/plain": [
       "50.0"
      ]
     },
     "execution_count": 14,
     "metadata": {},
     "output_type": "execute_result"
    }
   ],
   "source": [
    "np.median(a)"
   ]
  },
  {
   "cell_type": "code",
   "execution_count": 15,
   "metadata": {},
   "outputs": [
    {
     "data": {
      "text/plain": [
       "50.0"
      ]
     },
     "execution_count": 15,
     "metadata": {},
     "output_type": "execute_result"
    }
   ],
   "source": [
    "s.median()"
   ]
  },
  {
   "cell_type": "markdown",
   "metadata": {
    "id": "DgEXAIV-Dezx"
   },
   "source": [
    "### **| 산술평균**\n",
    "\n",
    "가장 보편적으로 사용되는 평균\n",
    "\n",
    "\\begin{align}\n",
    "\\mu = \\frac{\\sum^n_{i=1}x_i}{n}\n",
    "\\end{align}\n",
    "\n",
    "\\begin{align}\n",
    " & \\\\\n",
    " & x_i :? \\\\\n",
    " & n : ?\\\\ \n",
    "\\end{align}\n",
    "\n",
    "```\n",
    "np.mean(a)\n",
    "s.mean()\n",
    "```"
   ]
  },
  {
   "cell_type": "markdown",
   "metadata": {
    "id": "Eyj9kkzd8Yve"
   },
   "source": [
    "* 평균 계산"
   ]
  },
  {
   "cell_type": "code",
   "execution_count": 16,
   "metadata": {},
   "outputs": [
    {
     "data": {
      "text/plain": [
       "50.39"
      ]
     },
     "execution_count": 16,
     "metadata": {},
     "output_type": "execute_result"
    }
   ],
   "source": [
    "np.mean(a)"
   ]
  },
  {
   "cell_type": "code",
   "execution_count": 17,
   "metadata": {
    "id": "JOkkVco_Dj7Q"
   },
   "outputs": [
    {
     "data": {
      "text/plain": [
       "50.39"
      ]
     },
     "execution_count": 17,
     "metadata": {},
     "output_type": "execute_result"
    }
   ],
   "source": [
    "s.mean()"
   ]
  },
  {
   "cell_type": "markdown",
   "metadata": {
    "id": "3sVibZeXD7XB"
   },
   "source": [
    "### **| 조화 평균**\n",
    "\n",
    "비율 및 변화율에 등에 대한 평균을 계산할 때 사용\n",
    "\n",
    "\\begin{align}\n",
    "\\mu_{harmonic} = \\frac{n}{\\sum^n_{i=1}\\frac{1}{x_i}}\n",
    "\\end{align}\n",
    "\n",
    "\\begin{align}\n",
    " & \\\\\n",
    " & x_i :? \\\\\n",
    " & n : ?\\\\ \n",
    "\\end{align}"
   ]
  },
  {
   "cell_type": "markdown",
   "metadata": {
    "id": "I_bo0Xpn8lvJ"
   },
   "source": [
    "* 함수 `harmonic` 생성"
   ]
  },
  {
   "cell_type": "code",
   "execution_count": 27,
   "metadata": {
    "id": "bbvOee7xD7XB",
    "scrolled": false
   },
   "outputs": [],
   "source": [
    "def harmonic(array):\n",
    "    temp = [1/i for i in array]\n",
    "    temp = np.sum(temp)\n",
    "    return 1/temp"
   ]
  },
  {
   "cell_type": "markdown",
   "metadata": {
    "id": "98ULxx_-8xJL"
   },
   "source": [
    "* 조화 평균 계산"
   ]
  },
  {
   "cell_type": "code",
   "execution_count": 28,
   "metadata": {
    "id": "e2eFFgrY8ylD"
   },
   "outputs": [
    {
     "data": {
      "text/plain": [
       "0.020614144326912345"
      ]
     },
     "execution_count": 28,
     "metadata": {},
     "output_type": "execute_result"
    }
   ],
   "source": [
    "harmonic(a)"
   ]
  },
  {
   "cell_type": "code",
   "execution_count": 29,
   "metadata": {},
   "outputs": [
    {
     "data": {
      "text/plain": [
       "0.020614144326912345"
      ]
     },
     "execution_count": 29,
     "metadata": {},
     "output_type": "execute_result"
    }
   ],
   "source": [
    "harmonic(s)"
   ]
  },
  {
   "cell_type": "markdown",
   "metadata": {
    "id": "pfvnB5ljFiPP"
   },
   "source": [
    "### **| 절사 평균**\n",
    "\n",
    "데이터에서 $\\alpha$ 개를 제거한 후 평균을 내는 방법\n",
    "\n",
    "\\begin{align}\n",
    "\\mu_{cut}=\\frac{\\sum^{|n(1-\\alpha)|}_{i=|n\\alpha|} x_i}{ |n(1-\\alpha)|-|n\\alpha| }\n",
    "\\end{align}\n",
    "\n",
    "\\begin{align}\n",
    " & \\\\\n",
    " & x_i :? \\\\\n",
    " & n : ?\\\\ \n",
    " & \\alpha : ?\n",
    "\\end{align}\n",
    "\n",
    "```\n",
    "from scipy.stats import trim_mean\n",
    "trim_mean(x, alpha) \n",
    "```\n"
   ]
  },
  {
   "cell_type": "markdown",
   "metadata": {
    "id": "HJvDmFFs88l1"
   },
   "source": [
    "* alpha 비율 0.1일 때 절사 평균 계산"
   ]
  },
  {
   "cell_type": "code",
   "execution_count": 30,
   "metadata": {
    "id": "byF7axwMyb1J"
   },
   "outputs": [
    {
     "data": {
      "text/plain": [
       "50.435"
      ]
     },
     "execution_count": 30,
     "metadata": {},
     "output_type": "execute_result"
    }
   ],
   "source": [
    "from scipy.stats import trim_mean\n",
    "trim_mean(a, 0.1) "
   ]
  },
  {
   "cell_type": "code",
   "execution_count": 31,
   "metadata": {},
   "outputs": [
    {
     "data": {
      "text/plain": [
       "50.435"
      ]
     },
     "execution_count": 31,
     "metadata": {},
     "output_type": "execute_result"
    }
   ],
   "source": [
    "from scipy.stats import trim_mean\n",
    "trim_mean(s, 0.1) "
   ]
  },
  {
   "cell_type": "markdown",
   "metadata": {
    "id": "JPdOBwZwwkcF"
   },
   "source": [
    "## 대표 통계 - 범주자료형\n",
    "---"
   ]
  },
  {
   "cell_type": "markdown",
   "metadata": {
    "id": "ns3PTnjU9WXN"
   },
   "source": [
    "### **| 데이터 생성**\n",
    "\n",
    "```\n",
    "# 아래 함수는 리스트 안의 요소를 랜덤하게 반환합니다.\n",
    "np.random.choice(list, shape)\n",
    "# list = 카테고리가 들어있는 리스트\n",
    "# shape = 추출할 데이터의 크기\n",
    "```"
   ]
  },
  {
   "cell_type": "markdown",
   "metadata": {
    "id": "s-N5kc3F9WXT"
   },
   "source": [
    "* `A, B, C` 세개의 카테고리에서 데이터 1000개 생성하기"
   ]
  },
  {
   "cell_type": "code",
   "execution_count": 61,
   "metadata": {
    "id": "KmNsIamiD7XG"
   },
   "outputs": [],
   "source": [
    "# 넘파이 랜덤 시드 0으로 설정\n",
    "np.random.seed(seed=0)\n",
    "# 넘파이 배열 `a`로 바인딩\n",
    "a = np.random.choice([\"A\",\"B\",\"C\"], 1000)\n",
    "# 판다스 시리즈 `s`로 바인딩\n",
    "s = pd.Series(np.random.choice([\"A\",\"B\",\"C\"], 1000))"
   ]
  },
  {
   "cell_type": "markdown",
   "metadata": {
    "id": "VNsc3MM0GTpR"
   },
   "source": [
    "* 데이터 분포 그리기"
   ]
  },
  {
   "cell_type": "code",
   "execution_count": 64,
   "metadata": {},
   "outputs": [
    {
     "data": {
      "text/plain": [
       "(array([337.,   0.,   0.,   0.,   0., 335.,   0.,   0.,   0., 328.]),\n",
       " array([0. , 0.2, 0.4, 0.6, 0.8, 1. , 1.2, 1.4, 1.6, 1.8, 2. ]),\n",
       " <BarContainer object of 10 artists>)"
      ]
     },
     "execution_count": 64,
     "metadata": {},
     "output_type": "execute_result"
    },
    {
     "data": {
      "image/png": "[encoded data removed]",
      "text/plain": [
       "<Figure size 432x288 with 1 Axes>"
      ]
     },
     "metadata": {
      "needs_background": "light"
     },
     "output_type": "display_data"
    }
   ],
   "source": [
    "plt.hist(a)"
   ]
  },
  {
   "cell_type": "code",
   "execution_count": 62,
   "metadata": {
    "id": "ZKn5mFBdwPfr"
   },
   "outputs": [
    {
     "data": {
      "text/plain": [
       "<AxesSubplot:>"
      ]
     },
     "execution_count": 62,
     "metadata": {},
     "output_type": "execute_result"
    },
    {
     "data": {
      "image/png": "[encoded data removed]",
      "text/plain": [
       "<Figure size 432x288 with 1 Axes>"
      ]
     },
     "metadata": {
      "needs_background": "light"
     },
     "output_type": "display_data"
    }
   ],
   "source": [
    "s.hist()"
   ]
  },
  {
   "cell_type": "markdown",
   "metadata": {
    "id": "6xsxy1RoD7XG"
   },
   "source": [
    "### **| 최빈값**\n",
    "\n",
    "```\n",
    "s.value_counts()\n",
    "\n",
    "from scipy.stats import mode\n",
    "mode(a)\n",
    "```"
   ]
  },
  {
   "cell_type": "markdown",
   "metadata": {
    "id": "OV3eC4UtGl38"
   },
   "source": [
    "* `value_counts()` 사용하기"
   ]
  },
  {
   "cell_type": "code",
   "execution_count": 65,
   "metadata": {
    "id": "Ilz_bakbD7XH"
   },
   "outputs": [
    {
     "data": {
      "text/plain": [
       "B    344\n",
       "A    332\n",
       "C    324\n",
       "dtype: int64"
      ]
     },
     "execution_count": 65,
     "metadata": {},
     "output_type": "execute_result"
    }
   ],
   "source": [
    "s.value_counts()"
   ]
  },
  {
   "cell_type": "markdown",
   "metadata": {
    "id": "nxipy7_cGqAn"
   },
   "source": [
    "* 사이파이 함수 `mode` 사용하기"
   ]
  },
  {
   "cell_type": "code",
   "execution_count": 68,
   "metadata": {
    "id": "F3JjvNqAtcUk"
   },
   "outputs": [
    {
     "data": {
      "text/plain": [
       "ModeResult(mode=array(['A'], dtype='<U1'), count=array([337]))"
      ]
     },
     "execution_count": 68,
     "metadata": {},
     "output_type": "execute_result"
    }
   ],
   "source": [
    "from scipy.stats import mode\n",
    "mode(a)"
   ]
  },
  {
   "cell_type": "markdown",
   "metadata": {
    "id": "z6JYAMB_4Xq7"
   },
   "source": [
    "## 예제\n",
    "---"
   ]
  },
  {
   "cell_type": "markdown",
   "metadata": {
    "id": "S0gYqvK22tij"
   },
   "source": [
    "#### **예제 01**\n",
    "\n",
    "1. 평균이 200만원이고 표준편차가 50만원인 정규분포를 따르는 데이터를 아래 넘파이 함수를 이용해 100개 생성하세요.\n",
    "```\n",
    "np.random.normal(mu, std, n)\n",
    "```\n",
    "\n",
    "2. 위에서 생성한 데이터의 히스토그램을 그리세요\n",
    "\n",
    "3. 10억원의 소득을 가지는 데이터 한개를 위 데이터에 추가하세요.\n",
    "\n",
    "4. 데이터의 히스토그램을 그리세요\n",
    "\n",
    "5. 10억원의 소득을 추가하기 전과 후의 데이터의 산술평균을 비교하세요.\n",
    "\n",
    "5. 10억원의 소득을 추가하기 전과 후의 데이터의 절사평균(alpha=0.1)을 비교하세요."
   ]
  },
  {
   "cell_type": "code",
   "execution_count": 103,
   "metadata": {
    "id": "to3bS7CBD7XD"
   },
   "outputs": [],
   "source": [
    "# 평균이 200만원이고 표준편차가 50만원인 정규분포를 따르는 데이터를 아래 넘파이 함수를 이용해 100개 생성하세요.\n",
    "\n",
    "arr1 = np.random.normal(200, 50, 100)"
   ]
  },
  {
   "cell_type": "code",
   "execution_count": 104,
   "metadata": {},
   "outputs": [
    {
     "data": {
      "image/png": "[encoded data removed]",
      "text/plain": [
       "<Figure size 432x288 with 1 Axes>"
      ]
     },
     "metadata": {
      "needs_background": "light"
     },
     "output_type": "display_data"
    }
   ],
   "source": [
    "# 위에서 생성한 데이터의 히스토그램을 그리세요\n",
    "plt.hist(arr1, bins=20)\n",
    "plt.show()"
   ]
  },
  {
   "cell_type": "code",
   "execution_count": 106,
   "metadata": {},
   "outputs": [],
   "source": [
    "# 10억원의 소득을 가지는 데이터 한개를 위 데이터에 추가하세요.\n",
    "arr2 = np.append(arr,[10000])"
   ]
  },
  {
   "cell_type": "code",
   "execution_count": 107,
   "metadata": {},
   "outputs": [
    {
     "data": {
      "image/png": "[encoded data removed]",
      "text/plain": [
       "<Figure size 432x288 with 1 Axes>"
      ]
     },
     "metadata": {
      "needs_background": "light"
     },
     "output_type": "display_data"
    }
   ],
   "source": [
    "# 위에서 생성한 데이터의 히스토그램을 그리세요\n",
    "plt.hist(arr2, bins=20)\n",
    "plt.show()"
   ]
  },
  {
   "cell_type": "code",
   "execution_count": 108,
   "metadata": {},
   "outputs": [
    {
     "data": {
      "text/plain": [
       "199.3563807217519"
      ]
     },
     "execution_count": 108,
     "metadata": {},
     "output_type": "execute_result"
    }
   ],
   "source": [
    "# 10억원의 소득을 추가하기 전과 후의 데이터의 산술평균을 비교하세요.\n",
    "np.mean(arr1)"
   ]
  },
  {
   "cell_type": "code",
   "execution_count": 109,
   "metadata": {},
   "outputs": [
    {
     "data": {
      "text/plain": [
       "297.1869681075893"
      ]
     },
     "execution_count": 109,
     "metadata": {},
     "output_type": "execute_result"
    }
   ],
   "source": [
    "np.mean(arr2)"
   ]
  },
  {
   "cell_type": "code",
   "execution_count": 110,
   "metadata": {},
   "outputs": [
    {
     "data": {
      "text/plain": [
       "199.17725251347778"
      ]
     },
     "execution_count": 110,
     "metadata": {},
     "output_type": "execute_result"
    }
   ],
   "source": [
    "# 10억원의 소득을 추가하기 전과 후의 데이터의 절사평균(alpha=0.1)을 비교하세요.\n",
    "from scipy.stats import trim_mean\n",
    "trim_mean(arr1, 0.1)"
   ]
  },
  {
   "cell_type": "code",
   "execution_count": 111,
   "metadata": {},
   "outputs": [
    {
     "data": {
      "text/plain": [
       "202.3067009743536"
      ]
     },
     "execution_count": 111,
     "metadata": {},
     "output_type": "execute_result"
    }
   ],
   "source": [
    "trim_mean(arr2, 0.1)"
   ]
  },
  {
   "cell_type": "markdown",
   "metadata": {
    "id": "vC9QE_7R5njn"
   },
   "source": [
    "#### **예제 02**\n",
    "\n",
    "타이타닉 데이터셋을 가져오고, 각 변수들의 대표값을 정리하세요."
   ]
  },
  {
   "cell_type": "code",
   "execution_count": 252,
   "metadata": {},
   "outputs": [],
   "source": [
    "df = sns.load_dataset('titanic')"
   ]
  },
  {
   "cell_type": "code",
   "execution_count": 253,
   "metadata": {},
   "outputs": [],
   "source": [
    "df[\"deck\"] = df[\"deck\"].astype(object)\n",
    "df[\"sex\"]=df[\"sex\"].replace({\"male\" : 1, \"female\":0})\n",
    "df[\"embarked\"]=df[\"embarked\"].replace({\"S\" : 0, \"C\":1, \"Q\":2})\n",
    "df[\"class\"]=df[\"class\"].replace({\"First\" : 1, \"Second\":2, \"Third\":3})\n",
    "df[\"who\"]=df[\"who\"].replace({\"man\" : 1, \"woman\":0, \"child\":2})\n",
    "df[\"adult_male\"]=df[\"adult_male\"].replace({True : 1, False:0})\n",
    "df[\"deck\"]=df[\"deck\"].replace({\"A\" : 1, \"B\":2,\"C\" : 3, \"D\":4,\"E\" : 5, \"F\":6,\"G\" : 7, np.nan:0})\n",
    "df[\"alive\"]=df[\"alive\"].replace({\"yes\" : 1, \"no\":0})\n",
    "df[\"alone\"]=df[\"alone\"].replace({True : 1, False:0})\n",
    "df['deck'] = df['deck'].replace(np.nan,0)\n",
    "df = df.drop(\"embark_town\", axis=1)\n",
    "df[\"deck\"] = df[\"deck\"].astype(int)\n",
    "df[\"class\"] = df[\"class\"].astype(int)"
   ]
  },
  {
   "cell_type": "code",
   "execution_count": 260,
   "metadata": {},
   "outputs": [
    {
     "name": "stdout",
     "output_type": "stream",
     "text": [
      "<class 'pandas.core.frame.DataFrame'>\n",
      "RangeIndex: 891 entries, 0 to 890\n",
      "Data columns (total 14 columns):\n",
      " #   Column      Non-Null Count  Dtype  \n",
      "---  ------      --------------  -----  \n",
      " 0   survived    891 non-null    int64  \n",
      " 1   pclass      891 non-null    int64  \n",
      " 2   sex         891 non-null    int64  \n",
      " 3   age         714 non-null    float64\n",
      " 4   sibsp       891 non-null    int64  \n",
      " 5   parch       891 non-null    int64  \n",
      " 6   fare        891 non-null    float64\n",
      " 7   embarked    889 non-null    float64\n",
      " 8   class       891 non-null    int32  \n",
      " 9   who         891 non-null    int64  \n",
      " 10  adult_male  891 non-null    int64  \n",
      " 11  deck        891 non-null    int32  \n",
      " 12  alive       891 non-null    int64  \n",
      " 13  alone       891 non-null    int64  \n",
      "dtypes: float64(3), int32(2), int64(9)\n",
      "memory usage: 90.6 KB\n"
     ]
    }
   ],
   "source": [
    "df.info()"
   ]
  },
  {
   "cell_type": "code",
   "execution_count": 256,
   "metadata": {},
   "outputs": [],
   "source": [
    "def print1(feature):\n",
    "    a= df[feature].mean()\n",
    "    b = df[feature].median()\n",
    "    c = df[feature].mode()\n",
    "    print(f\"{feature}.mean : {a}\\n{feature}.median : {b}\\n{feature}.mode : {c}\")"
   ]
  },
  {
   "cell_type": "code",
   "execution_count": 258,
   "metadata": {},
   "outputs": [
    {
     "name": "stdout",
     "output_type": "stream",
     "text": [
      "survived.mean : 0.3838383838383838\n",
      "survived.median : 0.0\n",
      "survived.mode : 0    0\n",
      "Name: survived, dtype: int64\n",
      "\n",
      "pclass.mean : 2.308641975308642\n",
      "pclass.median : 3.0\n",
      "pclass.mode : 0    3\n",
      "Name: pclass, dtype: int64\n",
      "\n",
      "sex.mean : 0.6475869809203143\n",
      "sex.median : 1.0\n",
      "sex.mode : 0    1\n",
      "Name: sex, dtype: int64\n",
      "\n",
      "age.mean : 29.69911764705882\n",
      "age.median : 28.0\n",
      "age.mode : 0    24.0\n",
      "Name: age, dtype: float64\n",
      "\n",
      "sibsp.mean : 0.5230078563411896\n",
      "sibsp.median : 0.0\n",
      "sibsp.mode : 0    0\n",
      "Name: sibsp, dtype: int64\n",
      "\n",
      "parch.mean : 0.38159371492704824\n",
      "parch.median : 0.0\n",
      "parch.mode : 0    0\n",
      "Name: parch, dtype: int64\n",
      "\n",
      "fare.mean : 32.204207968574636\n",
      "fare.median : 14.4542\n",
      "fare.mode : 0    8.05\n",
      "Name: fare, dtype: float64\n",
      "\n",
      "embarked.mean : 0.36220472440944884\n",
      "embarked.median : 0.0\n",
      "embarked.mode : 0    0.0\n",
      "Name: embarked, dtype: float64\n",
      "\n",
      "class.mean : 2.308641975308642\n",
      "class.median : 3.0\n",
      "class.mode : 0    3\n",
      "Name: class, dtype: int32\n",
      "\n",
      "who.mean : 0.7890011223344556\n",
      "who.median : 1.0\n",
      "who.mode : 0    1\n",
      "Name: who, dtype: int64\n",
      "\n",
      "adult_male.mean : 0.6026936026936027\n",
      "adult_male.median : 1.0\n",
      "adult_male.mode : 0    1\n",
      "Name: adult_male, dtype: int64\n",
      "\n",
      "deck.mean : 0.7676767676767676\n",
      "deck.median : 0.0\n",
      "deck.mode : 0    0\n",
      "Name: deck, dtype: int32\n",
      "\n",
      "alive.mean : 0.3838383838383838\n",
      "alive.median : 0.0\n",
      "alive.mode : 0    0\n",
      "Name: alive, dtype: int64\n",
      "\n",
      "alone.mean : 0.6026936026936027\n",
      "alone.median : 1.0\n",
      "alone.mode : 0    1\n",
      "Name: alone, dtype: int64\n",
      "\n"
     ]
    }
   ],
   "source": [
    "for i in df.columns:\n",
    "    print1(i)\n",
    "    print()"
   ]
  },
  {
   "cell_type": "code",
   "execution_count": null,
   "metadata": {},
   "outputs": [],
   "source": []
  },
  {
   "cell_type": "code",
   "execution_count": null,
   "metadata": {},
   "outputs": [],
   "source": []
  }
 ],
 "metadata": {
  "colab": {
   "authorship_tag": "ABX9TyPlDwtxGQJmyN1ikDZUWVL0",
   "collapsed_sections": [],
   "include_colab_link": true,
   "name": "ch03_04_기초통계-대표통계량.ipynb",
   "provenance": []
  },
  "kernelspec": {
   "display_name": "Python 3 (ipykernel)",
   "language": "python",
   "name": "python3"
  },
  "language_info": {
   "codemirror_mode": {
    "name": "ipython",
    "version": 3
   },
   "file_extension": ".py",
   "mimetype": "text/x-python",
   "name": "python",
   "nbconvert_exporter": "python",
   "pygments_lexer": "ipython3",
   "version": "3.9.7"
  },
  "toc": {
   "base_numbering": 1,
   "nav_menu": {},
   "number_sections": true,
   "sideBar": true,
   "skip_h1_title": false,
   "title_cell": "Table of Contents",
   "title_sidebar": "Contents",
   "toc_cell": false,
   "toc_position": {},
   "toc_section_display": true,
   "toc_window_display": false
  },
  "varInspector": {
   "cols": {
    "lenName": 16,
    "lenType": 16,
    "lenVar": 40
   },
   "kernels_config": {
    "python": {
     "delete_cmd_postfix": "",
     "delete_cmd_prefix": "del ",
     "library": "var_list.py",
     "varRefreshCmd": "print(var_dic_list())"
    },
    "r": {
     "delete_cmd_postfix": ") ",
     "delete_cmd_prefix": "rm(",
     "library": "var_list.r",
     "varRefreshCmd": "cat(var_dic_list()) "
    }
   },
   "types_to_exclude": [
    "module",
    "function",
    "builtin_function_or_method",
    "instance",
    "_Feature"
   ],
   "window_display": false
  }
 },
 "nbformat": 4,
 "nbformat_minor": 1
}
