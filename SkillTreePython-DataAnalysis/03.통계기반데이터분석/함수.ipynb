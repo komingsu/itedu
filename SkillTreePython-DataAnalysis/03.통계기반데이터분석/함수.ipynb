{
 "cells": [
  {
   "cell_type": "markdown",
   "id": "db3c44e5",
   "metadata": {},
   "source": [
    "# 내장함수"
   ]
  },
  {
   "cell_type": "markdown",
   "id": "d5d8d6b0",
   "metadata": {},
   "source": [
    "## all\n",
    "\n",
    "* 하나라도 False 가 있다면 False"
   ]
  },
  {
   "cell_type": "code",
   "execution_count": 32,
   "id": "71852b77",
   "metadata": {},
   "outputs": [
    {
     "data": {
      "text/plain": [
       "False"
      ]
     },
     "execution_count": 32,
     "metadata": {},
     "output_type": "execute_result"
    }
   ],
   "source": [
    "all([1,2,3,0])"
   ]
  },
  {
   "cell_type": "code",
   "execution_count": 35,
   "id": "8631b955",
   "metadata": {},
   "outputs": [
    {
     "data": {
      "text/plain": [
       "(True, False)"
      ]
     },
     "execution_count": 35,
     "metadata": {},
     "output_type": "execute_result"
    }
   ],
   "source": [
    "all([]), all([\"\"])"
   ]
  },
  {
   "cell_type": "markdown",
   "id": "8c19bc16",
   "metadata": {},
   "source": [
    "## any\n",
    "* 하나라도 True이면 True"
   ]
  },
  {
   "cell_type": "markdown",
   "id": "5e7d765b",
   "metadata": {},
   "source": [
    "## chr\n",
    "* 유니코드 값을 입력받아 문자 출력\n",
    "* ord 는 역으로 유니코드 값으로 return"
   ]
  },
  {
   "cell_type": "code",
   "execution_count": 36,
   "id": "6d5462a4",
   "metadata": {},
   "outputs": [
    {
     "data": {
      "text/plain": [
       "('a', '가')"
      ]
     },
     "execution_count": 36,
     "metadata": {},
     "output_type": "execute_result"
    }
   ],
   "source": [
    "chr(97), chr(44032)"
   ]
  },
  {
   "cell_type": "code",
   "execution_count": 48,
   "id": "fc2427eb",
   "metadata": {},
   "outputs": [
    {
     "data": {
      "text/plain": [
       "(97, 54632)"
      ]
     },
     "execution_count": 48,
     "metadata": {},
     "output_type": "execute_result"
    }
   ],
   "source": [
    "ord(\"a\"), ord(\"함\")"
   ]
  },
  {
   "cell_type": "markdown",
   "id": "8a35689f",
   "metadata": {},
   "source": [
    "## divmod(나눠지는 값, 나누는 값)\n",
    "* 몫과 나머지 return"
   ]
  },
  {
   "cell_type": "code",
   "execution_count": 38,
   "id": "29d6e859",
   "metadata": {},
   "outputs": [
    {
     "data": {
      "text/plain": [
       "(2, 1)"
      ]
     },
     "execution_count": 38,
     "metadata": {},
     "output_type": "execute_result"
    }
   ],
   "source": [
    "divmod(7, 3)"
   ]
  },
  {
   "cell_type": "markdown",
   "id": "7f596db4",
   "metadata": {},
   "source": [
    "## eval\n",
    "* 문자열을 실행한 결과값으로 돌려주는 함수"
   ]
  },
  {
   "cell_type": "code",
   "execution_count": 42,
   "id": "9fc2ea0c",
   "metadata": {},
   "outputs": [
    {
     "data": {
      "text/plain": [
       "22"
      ]
     },
     "execution_count": 42,
     "metadata": {},
     "output_type": "execute_result"
    }
   ],
   "source": [
    "a,b = 10,12\n",
    "eval('a+b')"
   ]
  },
  {
   "cell_type": "markdown",
   "id": "895f8e50",
   "metadata": {},
   "source": [
    "## filter\n",
    "\n",
    "* 참인 값만 묶어서 return"
   ]
  },
  {
   "cell_type": "code",
   "execution_count": 44,
   "id": "1a058259",
   "metadata": {},
   "outputs": [
    {
     "data": {
      "text/plain": [
       "[1, 2, 5]"
      ]
     },
     "execution_count": 44,
     "metadata": {},
     "output_type": "execute_result"
    }
   ],
   "source": [
    "a = list(filter(lambda x: x>0, [1,-3,0,2,-4,5]))\n",
    "a"
   ]
  },
  {
   "cell_type": "markdown",
   "id": "492a4ef8",
   "metadata": {},
   "source": [
    "## int\n",
    "* 정수로 치환, 10진법 치환"
   ]
  },
  {
   "cell_type": "code",
   "execution_count": 47,
   "id": "01a94ee0",
   "metadata": {},
   "outputs": [
    {
     "data": {
      "text/plain": [
       "(7, 26)"
      ]
     },
     "execution_count": 47,
     "metadata": {},
     "output_type": "execute_result"
    }
   ],
   "source": [
    "n16 = \"1A\" # 16진수\n",
    "n2 = \"111\" # 2진수\n",
    "int(n2,2), int(n16,16)"
   ]
  },
  {
   "cell_type": "markdown",
   "id": "614fafe9",
   "metadata": {},
   "source": [
    "## zip\n",
    "* 동일한 개수로 이루어진 자료형을 묶어준다."
   ]
  },
  {
   "cell_type": "code",
   "execution_count": 52,
   "id": "519ecce5",
   "metadata": {},
   "outputs": [
    {
     "data": {
      "text/plain": [
       "[(1, 'a'), (2, 'b'), (3, 'c')]"
      ]
     },
     "execution_count": 52,
     "metadata": {},
     "output_type": "execute_result"
    }
   ],
   "source": [
    "lst1 = [1,2,3]\n",
    "lst2 = [\"a\",\"b\",\"c\"]\n",
    "list(zip(lst1,lst2))"
   ]
  },
  {
   "cell_type": "code",
   "execution_count": 53,
   "id": "a323c1ec",
   "metadata": {},
   "outputs": [
    {
     "data": {
      "text/plain": [
       "[('a', '가'), ('b', '나'), ('c', '다'), ('d', '라')]"
      ]
     },
     "execution_count": 53,
     "metadata": {},
     "output_type": "execute_result"
    }
   ],
   "source": [
    "list(zip(\"abcd\",\"가나다라\"))"
   ]
  },
  {
   "cell_type": "markdown",
   "id": "d08780c3",
   "metadata": {},
   "source": [
    "# 라이브러리"
   ]
  },
  {
   "cell_type": "markdown",
   "id": "ea49fe34",
   "metadata": {},
   "source": [
    "## 날짜\n",
    "\n",
    "* import datetime"
   ]
  },
  {
   "cell_type": "markdown",
   "id": "6151df21",
   "metadata": {},
   "source": [
    "### 날짜의 차이 구하기"
   ]
  },
  {
   "cell_type": "code",
   "execution_count": 56,
   "id": "3078b51e",
   "metadata": {},
   "outputs": [],
   "source": [
    "day_1 = datetime.date(2022,5,9)\n",
    "day_2 = datetime.date(2014,12,5)"
   ]
  },
  {
   "cell_type": "code",
   "execution_count": 68,
   "id": "4149c4af",
   "metadata": {},
   "outputs": [
    {
     "data": {
      "text/plain": [
       "datetime.timedelta(days=2712)"
      ]
     },
     "execution_count": 68,
     "metadata": {},
     "output_type": "execute_result"
    }
   ],
   "source": [
    "# timedelta 객체\n",
    "diff = day_1-day_2\n",
    "diff"
   ]
  },
  {
   "cell_type": "code",
   "execution_count": 70,
   "id": "dd1adf7f",
   "metadata": {},
   "outputs": [
    {
     "data": {
      "text/plain": [
       "2712"
      ]
     },
     "execution_count": 70,
     "metadata": {},
     "output_type": "execute_result"
    }
   ],
   "source": [
    "# 이 객체에서 필요한 데이터 들을 불러 올 수 있다.\n",
    "# days, seconds, minutes, hours, weeks, 등\n",
    "diff.days"
   ]
  },
  {
   "cell_type": "code",
   "execution_count": 75,
   "id": "f35c5e7e",
   "metadata": {},
   "outputs": [
    {
     "data": {
      "text/plain": [
       "datetime.date(2014, 12, 5)"
      ]
     },
     "execution_count": 75,
     "metadata": {},
     "output_type": "execute_result"
    }
   ],
   "source": [
    "datetime.date.today()-diff"
   ]
  },
  {
   "cell_type": "markdown",
   "id": "7543cab0",
   "metadata": {},
   "source": [
    "### 요일"
   ]
  },
  {
   "cell_type": "code",
   "execution_count": 78,
   "id": "a090f25b",
   "metadata": {},
   "outputs": [
    {
     "data": {
      "text/plain": [
       "(0, 4)"
      ]
     },
     "execution_count": 78,
     "metadata": {},
     "output_type": "execute_result"
    }
   ],
   "source": [
    "# 0 이 월요일, 6이 일요일이다.\n",
    "day_1.weekday(), day_2.weekday()"
   ]
  },
  {
   "cell_type": "code",
   "execution_count": 79,
   "id": "a13fdc68",
   "metadata": {},
   "outputs": [
    {
     "data": {
      "text/plain": [
       "(1, 5)"
      ]
     },
     "execution_count": 79,
     "metadata": {},
     "output_type": "execute_result"
    }
   ],
   "source": [
    "# 1이 월요일, 7이 일요일이다.\n",
    "day_1.isoweekday(), day_2.isoweekday()"
   ]
  },
  {
   "cell_type": "markdown",
   "id": "4d09e3fe",
   "metadata": {},
   "source": [
    "### 윤년확인"
   ]
  },
  {
   "cell_type": "code",
   "execution_count": 86,
   "id": "bd358b03",
   "metadata": {},
   "outputs": [
    {
     "data": {
      "text/plain": [
       "False"
      ]
     },
     "execution_count": 86,
     "metadata": {},
     "output_type": "execute_result"
    }
   ],
   "source": [
    "import calendar\n",
    "calendar.isleap(2022)"
   ]
  },
  {
   "cell_type": "markdown",
   "id": "0fd24bf0",
   "metadata": {},
   "source": [
    "## collections.deque\n",
    "* 데크 자료형, 앞과 뒤에서 데이터를 처리할 수 있다."
   ]
  },
  {
   "cell_type": "markdown",
   "id": "3b414696",
   "metadata": {},
   "source": [
    "### 회전"
   ]
  },
  {
   "cell_type": "code",
   "execution_count": 92,
   "id": "11910745",
   "metadata": {},
   "outputs": [
    {
     "data": {
      "text/plain": [
       "deque([5, 6, 1, 2, 3, 4])"
      ]
     },
     "execution_count": 92,
     "metadata": {},
     "output_type": "execute_result"
    }
   ],
   "source": [
    "from collections import deque\n",
    "a = [1,2,3,4,5,6]\n",
    "q = deque(a)\n",
    "q.rotate(2)\n",
    "q"
   ]
  },
  {
   "cell_type": "markdown",
   "id": "02a95d45",
   "metadata": {},
   "source": [
    "### 양방향 append"
   ]
  },
  {
   "cell_type": "code",
   "execution_count": 93,
   "id": "36586ccd",
   "metadata": {},
   "outputs": [
    {
     "data": {
      "text/plain": [
       "deque([100, 5, 6, 1, 2, 3, 4])"
      ]
     },
     "execution_count": 93,
     "metadata": {},
     "output_type": "execute_result"
    }
   ],
   "source": [
    "q.appendleft(100)\n",
    "q"
   ]
  },
  {
   "cell_type": "code",
   "execution_count": 95,
   "id": "5142e891",
   "metadata": {},
   "outputs": [
    {
     "data": {
      "text/plain": [
       "deque([100, 5, 6, 1, 2, 3, 4, 100])"
      ]
     },
     "execution_count": 95,
     "metadata": {},
     "output_type": "execute_result"
    }
   ],
   "source": [
    "q.append(100)\n",
    "q"
   ]
  },
  {
   "cell_type": "markdown",
   "id": "b61bfe70",
   "metadata": {},
   "source": [
    "### 양방향 pop"
   ]
  },
  {
   "cell_type": "code",
   "execution_count": 96,
   "id": "5fe7473d",
   "metadata": {},
   "outputs": [
    {
     "data": {
      "text/plain": [
       "100"
      ]
     },
     "execution_count": 96,
     "metadata": {},
     "output_type": "execute_result"
    }
   ],
   "source": [
    "q.pop()"
   ]
  },
  {
   "cell_type": "code",
   "execution_count": 97,
   "id": "c49955b5",
   "metadata": {},
   "outputs": [
    {
     "data": {
      "text/plain": [
       "100"
      ]
     },
     "execution_count": 97,
     "metadata": {},
     "output_type": "execute_result"
    }
   ],
   "source": [
    "q.popleft()"
   ]
  },
  {
   "cell_type": "markdown",
   "id": "dbf2addb",
   "metadata": {},
   "source": [
    "## collections.counter 동일한 요소 개수"
   ]
  },
  {
   "cell_type": "code",
   "execution_count": 98,
   "id": "cab18b15",
   "metadata": {},
   "outputs": [
    {
     "data": {
      "text/plain": [
       "Counter({'h': 1, 'e': 1, 'l': 3, 'o': 2, ' ': 1, 'w': 1, 'r': 1, 'd': 1})"
      ]
     },
     "execution_count": 98,
     "metadata": {},
     "output_type": "execute_result"
    }
   ],
   "source": [
    "from collections import Counter\n",
    "\n",
    "# 각 요소를 딕셔너리로 개수를 출력\n",
    "Counter('hello world')"
   ]
  },
  {
   "cell_type": "code",
   "execution_count": 120,
   "id": "9f8f877f",
   "metadata": {},
   "outputs": [
    {
     "data": {
      "text/plain": [
       "Counter({'고민수': 2, '이승원': 3, '이주비': 2, '이민영': 1})"
      ]
     },
     "execution_count": 120,
     "metadata": {},
     "output_type": "execute_result"
    }
   ],
   "source": [
    "word = [\"고민수\", \"고민수\",\"이승원\",\"이승원\",\"이주비\",\"이주비\",\"이민영\",\"이승원\"]\n",
    "Counter(word)"
   ]
  },
  {
   "cell_type": "code",
   "execution_count": 121,
   "id": "c4abe2d2",
   "metadata": {},
   "outputs": [
    {
     "data": {
      "text/plain": [
       "[('이승원', 3), ('고민수', 2), ('이주비', 2), ('이민영', 1)]"
      ]
     },
     "execution_count": 121,
     "metadata": {},
     "output_type": "execute_result"
    }
   ],
   "source": [
    "# 가장 많은 순서로\n",
    "Counter(word).most_common()"
   ]
  },
  {
   "cell_type": "markdown",
   "id": "bae82fd0",
   "metadata": {},
   "source": [
    "## 딕셔너리 초기값 defaultdict"
   ]
  },
  {
   "cell_type": "code",
   "execution_count": 127,
   "id": "9742b4cc",
   "metadata": {},
   "outputs": [
    {
     "data": {
      "text/plain": [
       "defaultdict(int,\n",
       "            {'L': 1,\n",
       "             'i': 2,\n",
       "             'f': 1,\n",
       "             'e': 3,\n",
       "             ' ': 6,\n",
       "             's': 2,\n",
       "             't': 3,\n",
       "             'o': 5,\n",
       "             'h': 2,\n",
       "             'r': 1,\n",
       "             ',': 1,\n",
       "             'Y': 1,\n",
       "             'u': 1,\n",
       "             'n': 2,\n",
       "             'd': 1,\n",
       "             'p': 1,\n",
       "             'y': 1,\n",
       "             '.': 1})"
      ]
     },
     "execution_count": 127,
     "metadata": {},
     "output_type": "execute_result"
    }
   ],
   "source": [
    "from collections import defaultdict\n",
    "\n",
    "# 초기값 int\n",
    "text = \"Life is too short, You need python.\"\n",
    "d = defaultdict(int)\n",
    "for i in text:\n",
    "    d[i]+=1\n",
    "d"
   ]
  },
  {
   "cell_type": "code",
   "execution_count": 131,
   "id": "fca4fcba",
   "metadata": {},
   "outputs": [
    {
     "data": {
      "text/plain": [
       "{'L': ['뀨'],\n",
       " 'i': ['뀨', '뀨'],\n",
       " 'f': ['뀨'],\n",
       " 'e': ['뀨', '뀨', '뀨'],\n",
       " ' ': ['뀨', '뀨', '뀨', '뀨', '뀨', '뀨'],\n",
       " 's': ['뀨', '뀨'],\n",
       " 't': ['뀨', '뀨', '뀨'],\n",
       " 'o': ['뀨', '뀨', '뀨', '뀨', '뀨'],\n",
       " 'h': ['뀨', '뀨'],\n",
       " 'r': ['뀨'],\n",
       " ',': ['뀨'],\n",
       " 'Y': ['뀨'],\n",
       " 'u': ['뀨'],\n",
       " 'n': ['뀨', '뀨'],\n",
       " 'd': ['뀨'],\n",
       " 'p': ['뀨'],\n",
       " 'y': ['뀨'],\n",
       " '.': ['뀨']}"
      ]
     },
     "execution_count": 131,
     "metadata": {},
     "output_type": "execute_result"
    }
   ],
   "source": [
    "# 초기값 list\n",
    "text = \"Life is too short, You need python.\"\n",
    "d = defaultdict(list)\n",
    "for i in text:\n",
    "    d[i].append(\"뀨\")\n",
    "dict(d)"
   ]
  },
  {
   "cell_type": "markdown",
   "id": "1d78f354",
   "metadata": {},
   "source": [
    "## 우선순위 큐 headq"
   ]
  },
  {
   "cell_type": "code",
   "execution_count": 183,
   "id": "168f55f1",
   "metadata": {},
   "outputs": [
    {
     "data": {
      "text/plain": [
       "[(10.517241379310345, 0),\n",
       " (14.310344827586206, 1),\n",
       " (13.275862068965518, 2),\n",
       " (11.379310344827587, 3),\n",
       " (12.758620689655173, 4),\n",
       " (10.0, 5),\n",
       " (14.482758620689655, 6),\n",
       " (11.206896551724139, 7),\n",
       " (11.89655172413793, 8),\n",
       " (11.724137931034482, 9)]"
      ]
     },
     "execution_count": 183,
     "metadata": {},
     "output_type": "execute_result"
    }
   ],
   "source": [
    "import numpy as np\n",
    "\n",
    "# 데이터 생성\n",
    "speed = random.sample( list(np.linspace(10,15,30)), 10)\n",
    "idx = range(10)\n",
    "\n",
    "data = list(zip(speed,idx))\n",
    "data"
   ]
  },
  {
   "cell_type": "code",
   "execution_count": 181,
   "id": "634f24dc",
   "metadata": {},
   "outputs": [
    {
     "data": {
      "text/plain": [
       "[(10.0, 7), (10.344827586206897, 3), (11.551724137931036, 6)]"
      ]
     },
     "execution_count": 181,
     "metadata": {},
     "output_type": "execute_result"
    }
   ],
   "source": [
    "import heapq\n",
    "# 데이터를 가장 작은 데이터 3개 출력\n",
    "heapq.nsmallest(3,data)"
   ]
  },
  {
   "cell_type": "code",
   "execution_count": 182,
   "id": "e5b5470f",
   "metadata": {},
   "outputs": [
    {
     "data": {
      "text/plain": [
       "[(15.0, 0), (14.655172413793103, 2), (13.620689655172415, 5)]"
      ]
     },
     "execution_count": 182,
     "metadata": {},
     "output_type": "execute_result"
    }
   ],
   "source": [
    "# 데이터를 가장 큰 데이터 3개 출력\n",
    "heapq.nlargest(3,data)"
   ]
  },
  {
   "cell_type": "markdown",
   "id": "0f02a04b",
   "metadata": {},
   "source": [
    "## 이진 탐색"
   ]
  },
  {
   "cell_type": "code",
   "execution_count": 186,
   "id": "1ead9c16",
   "metadata": {},
   "outputs": [
    {
     "data": {
      "text/plain": [
       "[10.517241379310345,\n",
       " 14.310344827586206,\n",
       " 13.275862068965518,\n",
       " 11.379310344827587,\n",
       " 12.758620689655173,\n",
       " 10.0,\n",
       " 14.482758620689655,\n",
       " 11.206896551724139,\n",
       " 11.89655172413793,\n",
       " 11.724137931034482]"
      ]
     },
     "execution_count": 186,
     "metadata": {},
     "output_type": "execute_result"
    }
   ],
   "source": [
    "import bisect\n",
    "speed"
   ]
  },
  {
   "cell_type": "code",
   "execution_count": 192,
   "id": "f4660d98",
   "metadata": {},
   "outputs": [
    {
     "data": {
      "text/plain": [
       "['A', 'E', 'D', 'B', 'C', 'A', 'E', 'B', 'B', 'B']"
      ]
     },
     "execution_count": 192,
     "metadata": {},
     "output_type": "execute_result"
    }
   ],
   "source": [
    "# 지정한 기준점으로 분류해줌\n",
    "result = []\n",
    "for i in speed:\n",
    "    pos = bisect.bisect_left([11,12,13,14], i)\n",
    "    grade = \"ABCDE\"[pos]\n",
    "    result.append(grade)\n",
    "result"
   ]
  },
  {
   "cell_type": "code",
   "execution_count": 195,
   "id": "5ae65daa",
   "metadata": {},
   "outputs": [
    {
     "data": {
      "text/plain": [
       "['A등급', 'E등급', 'D등급', 'B등급', 'C등급', 'A등급', 'E등급', 'B등급', 'B등급', 'B등급']"
      ]
     },
     "execution_count": 195,
     "metadata": {},
     "output_type": "execute_result"
    }
   ],
   "source": [
    "result = []\n",
    "for i in speed:\n",
    "    pos = bisect.bisect_left([11,12,13,14], i)\n",
    "    grade = [\"A등급\",\"B등급\",\"C등급\",\"D등급\",\"E등급\"][pos]\n",
    "    result.append(grade)\n",
    "result"
   ]
  },
  {
   "cell_type": "markdown",
   "id": "17079c72",
   "metadata": {},
   "source": [
    "## 상수집합 생성 intEnum"
   ]
  },
  {
   "cell_type": "code",
   "execution_count": 201,
   "id": "98cb9b14",
   "metadata": {},
   "outputs": [],
   "source": [
    "from enum import IntEnum\n",
    "\n",
    "# 집합 객체 지정\n",
    "class Week(IntEnum):\n",
    "    a = 1\n",
    "    b = 2\n",
    "    c = 3\n",
    "    d = 4\n",
    "    e = 5"
   ]
  },
  {
   "cell_type": "code",
   "execution_count": 202,
   "id": "e9081105",
   "metadata": {},
   "outputs": [
    {
     "name": "stdout",
     "output_type": "stream",
     "text": [
      "1\n",
      "a\n"
     ]
    }
   ],
   "source": [
    "print(Week.a.value)\n",
    "print(Week.a.name)"
   ]
  },
  {
   "cell_type": "code",
   "execution_count": 204,
   "id": "1e2a4161",
   "metadata": {},
   "outputs": [
    {
     "name": "stdout",
     "output_type": "stream",
     "text": [
      "a 1\n",
      "b 2\n",
      "c 3\n",
      "d 4\n",
      "e 5\n"
     ]
    }
   ],
   "source": [
    "# 반복 또한 가능하다.\n",
    "for week in Week:\n",
    "    print(week.name, week.value)"
   ]
  },
  {
   "cell_type": "markdown",
   "id": "6f0f1bfb",
   "metadata": {},
   "source": [
    "# 함수형 모듈"
   ]
  },
  {
   "cell_type": "code",
   "execution_count": 1,
   "id": "6a1e3691",
   "metadata": {},
   "outputs": [],
   "source": [
    "import itertools"
   ]
  },
  {
   "cell_type": "markdown",
   "id": "b5f22733",
   "metadata": {},
   "source": [
    "## 무한반복자 cycle"
   ]
  },
  {
   "cell_type": "code",
   "execution_count": 2,
   "id": "4054fd70",
   "metadata": {},
   "outputs": [
    {
     "name": "stdout",
     "output_type": "stream",
     "text": [
      "1\n",
      "2\n",
      "3\n",
      "1\n",
      "2\n",
      "3\n",
      "1\n",
      "2\n",
      "3\n",
      "1\n"
     ]
    }
   ],
   "source": [
    "pool = itertools.cycle([1,2,3])\n",
    "for i in range(10):\n",
    "    print(next(pool))"
   ]
  },
  {
   "cell_type": "markdown",
   "id": "0272ee37",
   "metadata": {},
   "source": [
    "## 누적합 계산 accumulate"
   ]
  },
  {
   "cell_type": "code",
   "execution_count": 4,
   "id": "9202b333",
   "metadata": {},
   "outputs": [
    {
     "data": {
      "text/plain": [
       "[1, 3, 6, 10, 15, 21, 28, 36, 45, 55]"
      ]
     },
     "execution_count": 4,
     "metadata": {},
     "output_type": "execute_result"
    }
   ],
   "source": [
    "lst = [1,2,3,4,5,6,7,8,9,10]\n",
    "list(itertools.accumulate(lst))"
   ]
  },
  {
   "cell_type": "markdown",
   "id": "69fe357a",
   "metadata": {},
   "source": [
    "## 누적 계산 functools.reduce\n",
    "\n",
    "old_x 와 y 를 계산하여 new_x 를 만든다."
   ]
  },
  {
   "cell_type": "code",
   "execution_count": 5,
   "id": "56cc6148",
   "metadata": {},
   "outputs": [
    {
     "data": {
      "text/plain": [
       "15"
      ]
     },
     "execution_count": 5,
     "metadata": {},
     "output_type": "execute_result"
    }
   ],
   "source": [
    "import functools\n",
    "\n",
    "data = [1,2,3,4,5]\n",
    "functools.reduce(lambda x,y: x+y, data)"
   ]
  },
  {
   "cell_type": "markdown",
   "id": "623e7965",
   "metadata": {},
   "source": [
    "((((1+2)+3)+4)+5)"
   ]
  },
  {
   "cell_type": "markdown",
   "id": "76790175",
   "metadata": {},
   "source": [
    "## 다중 수준 정렬 operator.itemgetter"
   ]
  },
  {
   "cell_type": "code",
   "execution_count": 1,
   "id": "ed83794f",
   "metadata": {},
   "outputs": [],
   "source": [
    "from operator import itemgetter\n",
    "\n",
    "data = [\n",
    "    [\"가\", 20, 'C'],\n",
    "    [\"나\", 10, 'B'],\n",
    "    [\"다\", 30, 'A'],\n",
    "]"
   ]
  },
  {
   "cell_type": "code",
   "execution_count": 2,
   "id": "657cbd8b",
   "metadata": {},
   "outputs": [
    {
     "data": {
      "text/plain": [
       "[['가', 20, 'C'], ['나', 10, 'B'], ['다', 30, 'A']]"
      ]
     },
     "execution_count": 2,
     "metadata": {},
     "output_type": "execute_result"
    }
   ],
   "source": [
    "sorted(data, key=itemgetter(0))"
   ]
  },
  {
   "cell_type": "code",
   "execution_count": 5,
   "id": "de50602c",
   "metadata": {},
   "outputs": [
    {
     "data": {
      "text/plain": [
       "[['다', 30, 'A'], ['가', 20, 'C'], ['나', 10, 'B']]"
      ]
     },
     "execution_count": 5,
     "metadata": {},
     "output_type": "execute_result"
    }
   ],
   "source": [
    "sorted(data, key=itemgetter(1),reverse=True)"
   ]
  },
  {
   "cell_type": "code",
   "execution_count": 4,
   "id": "222b0f1b",
   "metadata": {},
   "outputs": [
    {
     "data": {
      "text/plain": [
       "[['다', 30, 'A'], ['나', 10, 'B'], ['가', 20, 'C']]"
      ]
     },
     "execution_count": 4,
     "metadata": {},
     "output_type": "execute_result"
    }
   ],
   "source": [
    "sorted(data, key=itemgetter(2))"
   ]
  },
  {
   "cell_type": "markdown",
   "id": "1fbde4ca",
   "metadata": {},
   "source": [
    "# 디렉토리 관리"
   ]
  },
  {
   "cell_type": "markdown",
   "id": "9ee2bfcd",
   "metadata": {},
   "source": [
    "## os.listdir(path)\n",
    "\n",
    "* path 내 파일을 리스트로 리턴"
   ]
  },
  {
   "cell_type": "code",
   "execution_count": 27,
   "id": "79a661bd",
   "metadata": {},
   "outputs": [
    {
     "data": {
      "text/plain": [
       "['sheet1.xlsx', 'sheet2.xlsx']"
      ]
     },
     "execution_count": 27,
     "metadata": {},
     "output_type": "execute_result"
    }
   ],
   "source": [
    "import os\n",
    "os.listdir(\"data\")"
   ]
  },
  {
   "cell_type": "markdown",
   "id": "ed63aa74",
   "metadata": {},
   "source": [
    "## glob"
   ]
  },
  {
   "cell_type": "code",
   "execution_count": 38,
   "id": "75608ad1",
   "metadata": {},
   "outputs": [
    {
     "name": "stdout",
     "output_type": "stream",
     "text": [
      "data\\sheet1.xlsx\n",
      "data\\sheet2.xlsx\n"
     ]
    }
   ],
   "source": [
    "import glob\n",
    "\n",
    "# 해당 경로의 데이터\n",
    "for file in glob.glob(\"data/*.xlsx\"):\n",
    "    print(file)"
   ]
  },
  {
   "cell_type": "code",
   "execution_count": 40,
   "id": "6e920d9c",
   "metadata": {},
   "outputs": [
    {
     "name": "stdout",
     "output_type": "stream",
     "text": [
      "data\\sheet1.xlsx\n",
      "data\\sheet2.xlsx\n",
      "data2\\sheet3.xlsx\n"
     ]
    }
   ],
   "source": [
    "# 하위 폴더를 포함한 데이터\n",
    "for file in glob.glob(\"**/*.xlsx\"):\n",
    "    print(file)"
   ]
  },
  {
   "cell_type": "code",
   "execution_count": null,
   "id": "a6a12726",
   "metadata": {},
   "outputs": [],
   "source": []
  }
 ],
 "metadata": {
  "kernelspec": {
   "display_name": "Python 3 (ipykernel)",
   "language": "python",
   "name": "python3"
  },
  "language_info": {
   "codemirror_mode": {
    "name": "ipython",
    "version": 3
   },
   "file_extension": ".py",
   "mimetype": "text/x-python",
   "name": "python",
   "nbconvert_exporter": "python",
   "pygments_lexer": "ipython3",
   "version": "3.9.12"
  },
  "toc": {
   "base_numbering": 1,
   "nav_menu": {},
   "number_sections": true,
   "sideBar": true,
   "skip_h1_title": false,
   "title_cell": "Table of Contents",
   "title_sidebar": "Contents",
   "toc_cell": false,
   "toc_position": {
    "height": "calc(100% - 180px)",
    "left": "10px",
    "top": "150px",
    "width": "279.273px"
   },
   "toc_section_display": true,
   "toc_window_display": true
  },
  "varInspector": {
   "cols": {
    "lenName": 16,
    "lenType": 16,
    "lenVar": 40
   },
   "kernels_config": {
    "python": {
     "delete_cmd_postfix": "",
     "delete_cmd_prefix": "del ",
     "library": "var_list.py",
     "varRefreshCmd": "print(var_dic_list())"
    },
    "r": {
     "delete_cmd_postfix": ") ",
     "delete_cmd_prefix": "rm(",
     "library": "var_list.r",
     "varRefreshCmd": "cat(var_dic_list()) "
    }
   },
   "types_to_exclude": [
    "module",
    "function",
    "builtin_function_or_method",
    "instance",
    "_Feature"
   ],
   "window_display": false
  }
 },
 "nbformat": 4,
 "nbformat_minor": 5
}
