{
 "cells": [
  {
   "cell_type": "markdown",
   "metadata": {
    "id": "wWpXZc2fi39U"
   },
   "source": [
    "# ch04.03. 기대값과 분산\n",
    "---\n",
    "* 날짜: 2022-05-06\n",
    "* 이름: 고민수\n",
    "\n",
    "## 학습내용\n",
    "    - 기대값\n",
    "    - 분산\n",
    "    - 공분산\n",
    "    - 상관계수"
   ]
  },
  {
   "cell_type": "code",
   "execution_count": 1,
   "metadata": {
    "id": "uYLRSgCqw4YZ"
   },
   "outputs": [],
   "source": [
    "import numpy as np\n",
    "import matplotlib.pyplot as plt\n",
    "import pandas as pd"
   ]
  },
  {
   "cell_type": "markdown",
   "metadata": {
    "id": "PHt4dICKZZhS"
   },
   "source": [
    "### **| 기댓값**\n",
    "\n",
    "\\begin{align}\n",
    "\\mu_X = \\text{E}[X] = \\sum_{x_i \\in \\Omega} x_ip(x_i) \n",
    "\\end{align}\n",
    "\n",
    "X 에 대한 가중 평균이며 가중치는 각 변수의 확률로 계산된다."
   ]
  },
  {
   "cell_type": "code",
   "execution_count": 2,
   "metadata": {
    "id": "RQXXbHF7od0n"
   },
   "outputs": [],
   "source": [
    "def E(x, p=[]):\n",
    "    # X  : input\n",
    "    # P : 확률 벡터\n",
    "    \n",
    "    # 확률을 주지 않았을 경우\n",
    "    if not len(p):\n",
    "        P = np.array([1/len(x)]*len(x))\n",
    "        X = np.array(x)\n",
    "        \n",
    "    #  확률이 주어진 경우\n",
    "    else:\n",
    "        X = np.array(x)\n",
    "        P = np.array(p)\n",
    "    \n",
    "    return np.sum(X*P)"
   ]
  },
  {
   "cell_type": "markdown",
   "metadata": {
    "id": "82a3GtBCNjto"
   },
   "source": [
    "#### **예제 01. 공정한 주사위**\n",
    "\n"
   ]
  },
  {
   "cell_type": "code",
   "execution_count": 49,
   "metadata": {},
   "outputs": [
    {
     "data": {
      "text/plain": [
       "16.666666499999998"
      ]
     },
     "execution_count": 49,
     "metadata": {},
     "output_type": "execute_result"
    }
   ],
   "source": [
    "0.66666666*25"
   ]
  },
  {
   "cell_type": "code",
   "execution_count": 5,
   "metadata": {
    "id": "i0hS4O76OIFP"
   },
   "outputs": [
    {
     "name": "stdout",
     "output_type": "stream",
     "text": [
      "기대값은 :  3.5\n"
     ]
    }
   ],
   "source": [
    "x=[1,2,3,4,5,6]\n",
    "p=[1/6 for i in range(6)]\n",
    "print(\"기대값은 : \",E(x,p))"
   ]
  },
  {
   "cell_type": "markdown",
   "metadata": {
    "id": "PhvhttZg2JyB"
   },
   "source": [
    "#### **예제 02. 공정하지 않은 주사위**\n",
    "\n",
    "짝수가 나올 확률이 홀수가 나올 확률의 두배인 주사위의 기대값을 구하세요."
   ]
  },
  {
   "cell_type": "code",
   "execution_count": 7,
   "metadata": {
    "id": "tdyZ-8JGaCVY"
   },
   "outputs": [
    {
     "name": "stdout",
     "output_type": "stream",
     "text": [
      "기대값은 :  3.666666666666666\n"
     ]
    }
   ],
   "source": [
    "x=[1,2,3,4,5,6]\n",
    "p=[1/9, 2/9,1/9, 2/9,1/9, 2/9]\n",
    "print(\"기대값은 : \",E(x,p))"
   ]
  },
  {
   "cell_type": "markdown",
   "metadata": {
    "id": "2EgD8eUs5A9g"
   },
   "source": [
    "#### **예제 03. 기대값의 성질**\n",
    "\n",
    "X, Y, c 가 아래와 같이 주어졌을 때,\n",
    "```\n",
    "X = np.array([1,2,3,4])\n",
    "Y = np.array([10,20,30,40])\n",
    "c = np.array([4])\n",
    "```\n",
    "\n",
    "다음을 구하세요\n",
    "```\n",
    "E(X)\n",
    "E(Y)\n",
    "E(c)\n",
    "E(X+Y)\n",
    "E(X)+E(Y)\n",
    "E(4X+3)\n",
    "4E(X)+3\n",
    "```"
   ]
  },
  {
   "cell_type": "code",
   "execution_count": 8,
   "metadata": {
    "id": "mnLuZkE_5Jln"
   },
   "outputs": [
    {
     "name": "stdout",
     "output_type": "stream",
     "text": [
      "E(X) :  2.5\n",
      "E(Y) :  25.0\n",
      "E(c) :  4.0\n",
      "E(X+Y) :  27.5\n",
      "E(X)+E(Y) :  27.5\n",
      "E(4X+3) :  13.0\n",
      "4E(X)+3 :  13.0\n"
     ]
    }
   ],
   "source": [
    "X = np.array([1,2,3,4])\n",
    "Y = np.array([10,20,30,40])\n",
    "c = np.array([4])\n",
    "\n",
    "print(\"E(X) : \", E(X))\n",
    "print(\"E(Y) : \", E(Y))\n",
    "print(\"E(c) : \", E(c))\n",
    "print(\"E(X+Y) : \", E(X+Y))\n",
    "print(\"E(X)+E(Y) : \", E(X)+E(Y))\n",
    "print(\"E(4X+3) : \", E(4*X+3))\n",
    "print(\"4E(X)+3 : \", 4*E(X)+3)"
   ]
  },
  {
   "cell_type": "markdown",
   "metadata": {
    "id": "T7VzCEPR6nGn"
   },
   "source": [
    "#### **예제 04. 시험 성적**\n",
    "\n",
    "학생 네명의 시험 성적이 다음과 같을 때 총합점수의 평균(국어+수학) 을 두가지 방법으로 구하세요.\n",
    "\n",
    "```\n",
    "X_국어 = np.array([60,70,90,100])\n",
    "X_수학 = np.array([70,30,50,50])\n",
    "```"
   ]
  },
  {
   "cell_type": "code",
   "execution_count": 10,
   "metadata": {
    "id": "GNTcSS3x6nGs"
   },
   "outputs": [
    {
     "name": "stdout",
     "output_type": "stream",
     "text": [
      "E(X_국어)+E(X_수학) :  130.0\n",
      "E(X_국어+X_수학) :  130.0\n"
     ]
    }
   ],
   "source": [
    "X_국어 = np.array([60,70,90,100])\n",
    "X_수학 = np.array([70,30,50,50])\n",
    "print(\"E(X_국어)+E(X_수학) : \",E(X_국어)+E(X_수학))\n",
    "print(\"E(X_국어+X_수학) : \",E(X_국어+X_수학))"
   ]
  },
  {
   "cell_type": "markdown",
   "metadata": {
    "id": "NGufv-OobGkx"
   },
   "source": [
    "### **| 분산**\n",
    "\n",
    "\\begin{align}\n",
    "V(X) = E[(X-E[X])^2]\n",
    "\\end{align}\n",
    "\n",
    "- 분포가 평균과 얼마나 떨어져 있는지 나타낸다.\n",
    "- 항상 0보다 같거나 크다.\n",
    "- V(c) = 0\n",
    "- V(cX) = C^2 * V(x)\n",
    "- V(CX+d) = V(cX)"
   ]
  },
  {
   "cell_type": "code",
   "execution_count": 12,
   "metadata": {},
   "outputs": [],
   "source": [
    "def V(x, p=[]):\n",
    "    \n",
    "    if not len(p):\n",
    "        P = np.array([1/len(x)]*len(x))\n",
    "        X = np.array(x)\n",
    "    \n",
    "    else:\n",
    "        X = np.array(x)\n",
    "        P = np.array(p)\n",
    "        \n",
    "    return E( ( X - E(X, P))**2 )"
   ]
  },
  {
   "cell_type": "markdown",
   "metadata": {
    "id": "bJgbzis26zAO"
   },
   "source": [
    "#### **예제 01. 동전 던지기**\n",
    "\n",
    "두개의 동전을 던졌을 때 앞면이 나온 횟수를 확률 변수 X라 정의합니다.\n",
    "\n",
    "다음을 구하세요.\n",
    "\n",
    "```\n",
    "X\n",
    "P\n",
    "E(X)\n",
    "V(X)\n",
    "```\n"
   ]
  },
  {
   "cell_type": "code",
   "execution_count": 13,
   "metadata": {
    "id": "LS31msHr6zAO"
   },
   "outputs": [
    {
     "name": "stdout",
     "output_type": "stream",
     "text": [
      "E(X,P) :  1.0\n",
      "V(X,P) :  0.6666666666666666\n"
     ]
    }
   ],
   "source": [
    "X = [0,1,2]\n",
    "P = [1/4,2/4,1/4]\n",
    "print(\"E(X,P) : \", E(X,P))\n",
    "print(\"V(X,P) : \", V(X,P))"
   ]
  },
  {
   "cell_type": "markdown",
   "metadata": {
    "id": "JRcCsinm-aiD"
   },
   "source": [
    "#### **예제 02. 분산의 성질**\n",
    "\n",
    "\n",
    "X,Y 가 아래와 같이 주어졌을 때\n",
    "\n",
    "```\n",
    "X = np.array([1,2,3,4,5,6,7,8,9])\n",
    "c = np.array([10])\n",
    "```\n",
    "\n",
    "다음을 구하세요.\n",
    "\n",
    "```\n",
    "V(X)\n",
    "V(c)\n",
    "V(2X)\n",
    "V(2X-2)\n",
    "4 x V(X)\n",
    "```"
   ]
  },
  {
   "cell_type": "code",
   "execution_count": 15,
   "metadata": {
    "id": "FFP0aEUY-aiI"
   },
   "outputs": [
    {
     "name": "stdout",
     "output_type": "stream",
     "text": [
      "V(X) :\t6.666666666666666\n",
      "V(c):\t0.0\n",
      "V(2X):\t26.666666666666664\n",
      "V(2X-2):\t26.666666666666664\n",
      "4 x V(X):\t26.666666666666664\n"
     ]
    }
   ],
   "source": [
    "X = np.array([1,2,3,4,5,6,7,8,9])\n",
    "c = np.array([10])\n",
    "\n",
    "print(\"V(X) :\", V(X), sep=\"\\t\")\n",
    "print(\"V(c):\",V(c), sep=\"\\t\")\n",
    "print(\"V(2X):\",V(2*X), sep=\"\\t\")\n",
    "print(\"V(2X-2):\",V(2*X-2), sep=\"\\t\")\n",
    "print(\"4 x V(X):\",4*V(X), sep=\"\\t\")"
   ]
  },
  {
   "cell_type": "markdown",
   "metadata": {
    "id": "0VQG51pJ3Ega"
   },
   "source": [
    "#### **예제 03. 시험 성적**\n",
    "\n",
    "학생 네명의 시험 성적이 다음과 같습니다.\n",
    "```\n",
    "X_국어 = np.array([60,70,90,100])\n",
    "X_수학 = np.array([70,30,50,50])\n",
    "```\n",
    "\n",
    "다음을 구하세요.\n",
    "```\n",
    "V(X_국어)\n",
    "V(X_수학)\n",
    "V(5*X_국어)\n",
    "5*5*V(X_국어)\n",
    "```\n"
   ]
  },
  {
   "cell_type": "code",
   "execution_count": 18,
   "metadata": {
    "id": "Yjxcmy1B3Egb"
   },
   "outputs": [
    {
     "name": "stdout",
     "output_type": "stream",
     "text": [
      "V(X_국어) :\t250.0\n",
      "V(X_수학) :\t200.0\n",
      "V(5*X_국어) :\t6250.0\n",
      "25V(X_국어) :\t6250.0\n"
     ]
    }
   ],
   "source": [
    "X_국어 = np.array([60,70,90,100])\n",
    "X_수학 = np.array([70,30,50,50])\n",
    "\n",
    "print(\"V(X_국어) :\", V(X_국어), sep=\"\\t\")\n",
    "print(\"V(X_수학) :\", V(X_수학), sep=\"\\t\")\n",
    "print(\"V(5*X_국어) :\", V(5*X_국어), sep=\"\\t\")\n",
    "print(\"25V(X_국어) :\", 5*5*V(X_국어), sep=\"\\t\")"
   ]
  },
  {
   "cell_type": "markdown",
   "metadata": {
    "id": "uu3r4i3_fs62"
   },
   "source": [
    "### **| 공분산**\n",
    "\n",
    "\n",
    "\\begin{align}\n",
    "\\text{Cov}(X, Y) = \\text{E}[(X - \\text{E}[X])(Y - \\text{E}[Y])]\n",
    "\\end{align}\n",
    "\n",
    "- X 의 편차, Y 의 편차 곱의 평균\n",
    "- 두 확률 변수 X, Y의 관계정보를 제공"
   ]
  },
  {
   "cell_type": "code",
   "execution_count": 25,
   "metadata": {
    "id": "3h694jZJfvGt"
   },
   "outputs": [],
   "source": [
    "def Cov(x,y,px=[],py=[]):\n",
    "    X = np.array(x)\n",
    "    Y = np.array(y)\n",
    "    return E( (X-E(x,px))*(Y-E(y,py)) )"
   ]
  },
  {
   "cell_type": "code",
   "execution_count": 26,
   "metadata": {
    "id": "0RjM7m0Okpj_"
   },
   "outputs": [
    {
     "data": {
      "text/plain": [
       "-50.0"
      ]
     },
     "execution_count": 26,
     "metadata": {},
     "output_type": "execute_result"
    }
   ],
   "source": [
    "x = np.array([60,70,90,100])\n",
    "y = np.array([70,30,50,50])\n",
    "Cov(x,y)"
   ]
  },
  {
   "cell_type": "markdown",
   "metadata": {
    "id": "Vn_-yEAmfwjD"
   },
   "source": [
    "### **| 상관계수**\n",
    "\n",
    "\n",
    "* 피어슨(Pearson) 상관계수\n",
    "\n",
    "\\begin{align}\n",
    "\\rho[X,Y] =  \\dfrac{\\text{Cov}[X, Y]}{\\sqrt{\\text{V}[X] \\cdot \\text{V}[Y]}}\n",
    "\\end{align}\n",
    "\n",
    "\\begin{align}\n",
    "-1 \\leq \\rho \\leq 1\n",
    "\\end{align}\n",
    "\n",
    "- 공분산을 스케일링 한 값"
   ]
  },
  {
   "cell_type": "code",
   "execution_count": 27,
   "metadata": {
    "id": "cDkhhX-hjRVl"
   },
   "outputs": [],
   "source": [
    "def Pearson(x,y,px=[],py=[]):\n",
    "    return Cov(x,y,px,py)/np.sqrt(V(x,px)*V(y,py))"
   ]
  },
  {
   "cell_type": "markdown",
   "metadata": {
    "id": "k2fH0nowszcq"
   },
   "source": [
    "#### **예제 01. 두 뽑기의 확률**\n",
    "\n",
    "두 뽑기 A, B에서 나오는 숫자들의 확률이 아래와 같을 때 X와Y의 공분산과 상관계수를 구하세요.\n",
    "```\n",
    "X = [0,1,2]\n",
    "P(X) = [1/5, 2/5, 2/5]\n",
    "Y = [0, 1, 2]\n",
    "P(Y) = [1/5, 3/5, 1/5]\n",
    "```"
   ]
  },
  {
   "cell_type": "code",
   "execution_count": 29,
   "metadata": {
    "id": "eN3AX__Ru_4u"
   },
   "outputs": [
    {
     "name": "stdout",
     "output_type": "stream",
     "text": [
      "Cov(X,Y) :  0.6666666666666666\n",
      "Pearson(X,Y) :  0.9712858623572641\n"
     ]
    }
   ],
   "source": [
    "x = [0,1,2]\n",
    "px = [1/5, 2/5, 2/5]\n",
    "y = [0, 1, 2]\n",
    "py = [1/5, 3/5, 1/5]\n",
    "\n",
    "print(\"Cov(X,Y) : \", Cov(x,y,px,py))\n",
    "print(\"Pearson(X,Y) : \", Pearson(x,y,px,py))"
   ]
  },
  {
   "cell_type": "markdown",
   "metadata": {
    "id": "SzWRwbA2ob00"
   },
   "source": [
    "#### **예제 02. 표본 그리기 1**\n",
    "\n",
    "아래 코드는 표본을 10000개 추출 합니다.\n",
    "\n",
    "\n",
    "\n",
    "```\n",
    "x, y = np.random.multivariate_normal([0, 0], [[1, a], [a, 1]], 10000).T\n",
    "x.shape, y.shape\n",
    "```\n",
    "\n",
    "1. a 값이 `-1,0.7,0.3,0.01,-0.3,-0.7,-1` 일 때 x, y의 표본쌍 7개의 스캐터 플롯을 그리고, \n",
    "2. 각 경우에 x, y의 상관계수를 구하세요.\n"
   ]
  },
  {
   "cell_type": "code",
   "execution_count": 44,
   "metadata": {
    "id": "G3rJmkC5n_Eo"
   },
   "outputs": [
    {
     "name": "stdout",
     "output_type": "stream",
     "text": [
      "a = 1 일때 상관계수 : \t1.0\n"
     ]
    },
    {
     "data": {
      "image/png": "[encoded data removed]",
      "text/plain": [
       "<Figure size 432x288 with 1 Axes>"
      ]
     },
     "metadata": {
      "needs_background": "light"
     },
     "output_type": "display_data"
    },
    {
     "name": "stdout",
     "output_type": "stream",
     "text": [
      "a = 0.7 일때 상관계수 : \t0.7064790982496317\n"
     ]
    },
    {
     "data": {
      "image/png": "[encoded data removed]",
      "text/plain": [
       "<Figure size 432x288 with 1 Axes>"
      ]
     },
     "metadata": {
      "needs_background": "light"
     },
     "output_type": "display_data"
    },
    {
     "name": "stdout",
     "output_type": "stream",
     "text": [
      "a = 0.3 일때 상관계수 : \t0.3038180401760577\n"
     ]
    },
    {
     "data": {
      "image/png": "[encoded data removed]",
      "text/plain": [
       "<Figure size 432x288 with 1 Axes>"
      ]
     },
     "metadata": {
      "needs_background": "light"
     },
     "output_type": "display_data"
    },
    {
     "name": "stdout",
     "output_type": "stream",
     "text": [
      "a = 0.01 일때 상관계수 : \t0.01173617593555061\n"
     ]
    },
    {
     "data": {
      "image/png": "[encoded data removed]",
      "text/plain": [
       "<Figure size 432x288 with 1 Axes>"
      ]
     },
     "metadata": {
      "needs_background": "light"
     },
     "output_type": "display_data"
    },
    {
     "name": "stdout",
     "output_type": "stream",
     "text": [
      "a = -0.3 일때 상관계수 : \t-0.30192207786100317\n"
     ]
    },
    {
     "data": {
      "image/png": "[encoded data removed]",
      "text/plain": [
       "<Figure size 432x288 with 1 Axes>"
      ]
     },
     "metadata": {
      "needs_background": "light"
     },
     "output_type": "display_data"
    },
    {
     "name": "stdout",
     "output_type": "stream",
     "text": [
      "a = -0.7 일때 상관계수 : \t-0.7151342838441379\n"
     ]
    },
    {
     "data": {
      "image/png": "[encoded data removed]",
      "text/plain": [
       "<Figure size 432x288 with 1 Axes>"
      ]
     },
     "metadata": {
      "needs_background": "light"
     },
     "output_type": "display_data"
    },
    {
     "name": "stdout",
     "output_type": "stream",
     "text": [
      "a = -1 일때 상관계수 : \t-1.0\n"
     ]
    },
    {
     "data": {
      "image/png": "[encoded data removed]",
      "text/plain": [
       "<Figure size 432x288 with 1 Axes>"
      ]
     },
     "metadata": {
      "needs_background": "light"
     },
     "output_type": "display_data"
    }
   ],
   "source": [
    "a = [1,0.7,0.3,0.01,-0.3,-0.7,-1]\n",
    "for i in a:\n",
    "    x, y = np.random.multivariate_normal([0, 0], [[1, i], [i, 1]], 10000).T\n",
    "    plt.scatter(x,y)\n",
    "    print(f\"a = {i} 일때 상관계수 : \",Pearson(x,y), sep=\"\\t\")\n",
    "    plt.show()"
   ]
  },
  {
   "cell_type": "markdown",
   "metadata": {
    "id": "HsCNgtJzq2x6"
   },
   "source": [
    "#### **예제 03. 표본 그리기 2**\n",
    "\n",
    "아래 코드는 표본을 10000개 추출 합니다.\n",
    "\n",
    "\n",
    "\n",
    "```\n",
    "x, y = np.random.multivariate_normal([0, 0], [[1, 1], [1, 1]], 10000).T\n",
    "x.shape, y.shape\n",
    "```\n",
    "\n",
    "\n",
    "1. x 표본은 그대로 두고, y 표본에 `1, 0.7, 0.3, 0.01, -0.3, -0.7, -1`을 각각 곱해서 각 표본쌍의 스캐터 플롯 7개를 그리세요.\n",
    "2. 7가지 경우에 대한 x, y 상관계수를 구하세요.\n"
   ]
  },
  {
   "cell_type": "code",
   "execution_count": 45,
   "metadata": {},
   "outputs": [
    {
     "name": "stdout",
     "output_type": "stream",
     "text": [
      "a = 1 일때 상관계수 : \t1.0\n"
     ]
    },
    {
     "data": {
      "image/png": "[encoded data removed]",
      "text/plain": [
       "<Figure size 432x288 with 1 Axes>"
      ]
     },
     "metadata": {
      "needs_background": "light"
     },
     "output_type": "display_data"
    },
    {
     "name": "stdout",
     "output_type": "stream",
     "text": [
      "a = 0.7 일때 상관계수 : \t1.0\n"
     ]
    },
    {
     "data": {
      "image/png": "[encoded data removed]",
      "text/plain": [
       "<Figure size 432x288 with 1 Axes>"
      ]
     },
     "metadata": {
      "needs_background": "light"
     },
     "output_type": "display_data"
    },
    {
     "name": "stdout",
     "output_type": "stream",
     "text": [
      "a = 0.3 일때 상관계수 : \t1.0\n"
     ]
    },
    {
     "data": {
      "image/png": "[encoded data removed]",
      "text/plain": [
       "<Figure size 432x288 with 1 Axes>"
      ]
     },
     "metadata": {
      "needs_background": "light"
     },
     "output_type": "display_data"
    },
    {
     "name": "stdout",
     "output_type": "stream",
     "text": [
      "a = 0.01 일때 상관계수 : \t1.0\n"
     ]
    },
    {
     "data": {
      "image/png": "[encoded data removed]",
      "text/plain": [
       "<Figure size 432x288 with 1 Axes>"
      ]
     },
     "metadata": {
      "needs_background": "light"
     },
     "output_type": "display_data"
    },
    {
     "name": "stdout",
     "output_type": "stream",
     "text": [
      "a = -0.3 일때 상관계수 : \t-1.0000000000000002\n"
     ]
    },
    {
     "data": {
      "image/png": "[encoded data removed]",
      "text/plain": [
       "<Figure size 432x288 with 1 Axes>"
      ]
     },
     "metadata": {
      "needs_background": "light"
     },
     "output_type": "display_data"
    },
    {
     "name": "stdout",
     "output_type": "stream",
     "text": [
      "a = -0.7 일때 상관계수 : \t-1.0\n"
     ]
    },
    {
     "data": {
      "image/png": "[encoded data removed]",
      "text/plain": [
       "<Figure size 432x288 with 1 Axes>"
      ]
     },
     "metadata": {
      "needs_background": "light"
     },
     "output_type": "display_data"
    },
    {
     "name": "stdout",
     "output_type": "stream",
     "text": [
      "a = -1 일때 상관계수 : \t-1.0\n"
     ]
    },
    {
     "data": {
      "image/png": "[encoded data removed]",
      "text/plain": [
       "<Figure size 432x288 with 1 Axes>"
      ]
     },
     "metadata": {
      "needs_background": "light"
     },
     "output_type": "display_data"
    }
   ],
   "source": [
    "a = [1,0.7,0.3,0.01,-0.3,-0.7,-1]\n",
    "for i in a:\n",
    "    x, y = np.random.multivariate_normal([0, 0], [[1, 1], [1, 1]], 10000).T\n",
    "    plt.scatter(x,y*i)\n",
    "    print(f\"a = {i} 일때 상관계수 : \",Pearson(x,y*i), sep=\"\\t\")\n",
    "    plt.show()"
   ]
  }
 ],
 "metadata": {
  "colab": {
   "collapsed_sections": [],
   "name": "ch03_03_기대값과_분산.ipynb",
   "provenance": []
  },
  "kernelspec": {
   "display_name": "Python 3 (ipykernel)",
   "language": "python",
   "name": "python3"
  },
  "language_info": {
   "codemirror_mode": {
    "name": "ipython",
    "version": 3
   },
   "file_extension": ".py",
   "mimetype": "text/x-python",
   "name": "python",
   "nbconvert_exporter": "python",
   "pygments_lexer": "ipython3",
   "version": "3.9.7"
  },
  "toc": {
   "base_numbering": 1,
   "nav_menu": {},
   "number_sections": true,
   "sideBar": true,
   "skip_h1_title": false,
   "title_cell": "Table of Contents",
   "title_sidebar": "Contents",
   "toc_cell": false,
   "toc_position": {},
   "toc_section_display": true,
   "toc_window_display": false
  },
  "varInspector": {
   "cols": {
    "lenName": 16,
    "lenType": 16,
    "lenVar": 40
   },
   "kernels_config": {
    "python": {
     "delete_cmd_postfix": "",
     "delete_cmd_prefix": "del ",
     "library": "var_list.py",
     "varRefreshCmd": "print(var_dic_list())"
    },
    "r": {
     "delete_cmd_postfix": ") ",
     "delete_cmd_prefix": "rm(",
     "library": "var_list.r",
     "varRefreshCmd": "cat(var_dic_list()) "
    }
   },
   "types_to_exclude": [
    "module",
    "function",
    "builtin_function_or_method",
    "instance",
    "_Feature"
   ],
   "window_display": false
  }
 },
 "nbformat": 4,
 "nbformat_minor": 1
}
