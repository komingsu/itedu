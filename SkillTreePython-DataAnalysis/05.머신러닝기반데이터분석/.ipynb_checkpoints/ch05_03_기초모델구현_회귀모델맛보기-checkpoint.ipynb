{
 "cells": [
  {
   "cell_type": "markdown",
   "metadata": {
    "id": "wWpXZc2fi39U"
   },
   "source": [
    "# ch05.03. 기초모델 구현 - 회귀모델 맛보기\n",
    "---\n",
    "* 날짜: 2022-05-13\n",
    "* 이름: 고민수\n",
    "\n",
    "## 학습내용\n",
    "    - 회귀 분석의 개념에 대해 이해한다\n",
    "    - 단순 회귀 문제일 때의 프로세스에 대해 이해한다.\n",
    "    - 다중 회귀 문제일 때의 프로세스에 대해 이해한다.\n",
    "    - 모델링에 대한 전체적인 프로세스 과정을 이해한다. "
   ]
  },
  {
   "cell_type": "markdown",
   "metadata": {
    "id": "kByKdJPApy6P"
   },
   "source": [
    "```\n",
    "import numpy as np\n",
    "import matplotlib.pyplot as plt\n",
    "plt.style.use(\"ggplot\")\n",
    "```"
   ]
  },
  {
   "cell_type": "code",
   "execution_count": 34,
   "metadata": {},
   "outputs": [
    {
     "data": {
      "text/plain": [
       "<module 'os' from 'C:\\\\Users\\\\user\\\\anaconda3\\\\envs\\\\tf\\\\lib\\\\os.py'>"
      ]
     },
     "execution_count": 34,
     "metadata": {},
     "output_type": "execute_result"
    }
   ],
   "source": [
    "import os"
   ]
  },
  {
   "cell_type": "code",
   "execution_count": 4,
   "metadata": {
    "id": "rJvcz-JikHbE"
   },
   "outputs": [],
   "source": [
    "import numpy as np\n",
    "import matplotlib.pyplot as plt\n",
    "plt.style.use(\"ggplot\")"
   ]
  },
  {
   "cell_type": "markdown",
   "metadata": {
    "id": "0XIixAG202GE"
   },
   "source": [
    "## 단순 회귀 문제\n",
    "---\n",
    "\n"
   ]
  },
  {
   "cell_type": "markdown",
   "metadata": {
    "id": "J7YFAQAl-i-v"
   },
   "source": [
    "\n",
    "|공부시간(x)|종합점수(y)|\n",
    "|------|---|\n",
    "|3|20|\n",
    "|5|50|\n",
    "|5|60|\n",
    "|7|90|\n",
    "|8|100|"
   ]
  },
  {
   "cell_type": "markdown",
   "metadata": {
    "id": "bxnIJBzukmUi"
   },
   "source": [
    "* 데이터 정의"
   ]
  },
  {
   "cell_type": "code",
   "execution_count": 5,
   "metadata": {
    "id": "6-4N0_z4ZQrm"
   },
   "outputs": [],
   "source": [
    "xx = np.array([3,5,5,7,8])\n",
    "yy = np.array([20,50,60,90,100])"
   ]
  },
  {
   "cell_type": "markdown",
   "metadata": {
    "id": "24xjAjtnknyQ"
   },
   "source": [
    "* 데이터 시각화"
   ]
  },
  {
   "cell_type": "code",
   "execution_count": null,
   "metadata": {
    "id": "XJiw7pyIZZUs"
   },
   "outputs": [],
   "source": [
    "\n",
    "plt.scatter(xx, yy, c=\"k\", label=\"data\")\n",
    "plt.title(\"sample space( y according to x)\")"
   ]
  },
  {
   "cell_type": "markdown",
   "metadata": {
    "id": "T78Jn-w51W8b"
   },
   "source": [
    "### **| step 1. 모델 구현**\n",
    "\n",
    "$model(x;w) = wx$"
   ]
  },
  {
   "cell_type": "markdown",
   "metadata": {
    "id": "1oRII_2Unt4j"
   },
   "source": [
    "* 모델 정의"
   ]
  },
  {
   "cell_type": "code",
   "execution_count": 23,
   "metadata": {
    "id": "CiPKoWjG1Vzi"
   },
   "outputs": [],
   "source": [
    "def model_simple(x, w=1):\n",
    "    return w*x"
   ]
  },
  {
   "cell_type": "markdown",
   "metadata": {
    "id": "tw0Gic-hHsr-"
   },
   "source": [
    "* 초기 모델 사용\n",
    "\n",
    "\n",
    "|공부시간(x)|종합점수(y)| 예측값 ($\\hat{y})$|\n",
    "|------|---|--|\n",
    "|3|20|3|\n",
    "|5|50|5|\n",
    "|5|60|5|\n",
    "|7|90|7|\n",
    "|8|100|8|"
   ]
  },
  {
   "cell_type": "code",
   "execution_count": null,
   "metadata": {
    "id": "Lx2tRC8uHssE"
   },
   "outputs": [],
   "source": []
  },
  {
   "cell_type": "markdown",
   "metadata": {
    "id": "wXlz0IPRa2Ww"
   },
   "source": [
    "### **| step 2. 손실 (loss) 계산**\n",
    "\n",
    "$loss = |(\\hat{y}-y)|$"
   ]
  },
  {
   "cell_type": "markdown",
   "metadata": {
    "id": "Qz5lqzyYnvML"
   },
   "source": [
    "* 손실 계산 과정 정의"
   ]
  },
  {
   "cell_type": "code",
   "execution_count": 27,
   "metadata": {
    "id": "Cf0XkrL7-jFw"
   },
   "outputs": [
    {
     "name": "stdout",
     "output_type": "stream",
     "text": [
      "total loss : 180\n"
     ]
    }
   ],
   "source": [
    "def propagation(xx, yy, w):\n",
    "    total_loss = 0\n",
    "    for x, y in zip(xx, yy):\n",
    "        y_preds = model_simple(x, w=w) # 예측값 구하기\n",
    "        loss = np.abs(y_preds-y) # 손실 구하기\n",
    "        total_loss += loss # 전체 샘플의 손실 구하기\n",
    "    return total_loss\n",
    "\n",
    "print(\"total loss :\", propagation(xx,yy, 5))"
   ]
  },
  {
   "cell_type": "markdown",
   "metadata": {
    "id": "d6llwXUYUils"
   },
   "source": [
    "### **| step 3. 최적화 (Optimizer)**\n"
   ]
  },
  {
   "cell_type": "markdown",
   "metadata": {
    "id": "h6Z4rnEieM9B"
   },
   "source": [
    "*  학습 파라미터 $w$를 5부터 20까지 바꿔가며 손실 계산하기\n"
   ]
  },
  {
   "cell_type": "code",
   "execution_count": 30,
   "metadata": {
    "id": "CVcY1IrX6oMQ"
   },
   "outputs": [],
   "source": [
    "ws = np.arange(5,20)\n",
    "total_losses = propagation(xx, yy, ws)"
   ]
  },
  {
   "cell_type": "code",
   "execution_count": 31,
   "metadata": {},
   "outputs": [
    {
     "data": {
      "text/plain": [
       "Text(0.5, 1.0, 'sample space( y according to x)')"
      ]
     },
     "execution_count": 31,
     "metadata": {},
     "output_type": "execute_result"
    },
    {
     "data": {
      "image/png": "[encoded data removed]",
      "text/plain": [
       "<Figure size 432x288 with 1 Axes>"
      ]
     },
     "metadata": {
      "needs_background": "light"
     },
     "output_type": "display_data"
    }
   ],
   "source": [
    "plt.plot(ws,total_losses, marker=\"o\")\n",
    "plt.title(\"sample space( y according to x)\")"
   ]
  },
  {
   "cell_type": "markdown",
   "metadata": {
    "id": "oGdLxsS6i-Dx"
   },
   "source": [
    "### **| step 4. 예측 (Prediction)**"
   ]
  },
  {
   "cell_type": "markdown",
   "metadata": {
    "id": "4IZWpxblmXf4"
   },
   "source": [
    "* 학습 완료된 모델의 최종 손실 계산"
   ]
  },
  {
   "cell_type": "code",
   "execution_count": 35,
   "metadata": {
    "id": "BYPyHmrZma6L"
   },
   "outputs": [
    {
     "data": {
      "text/plain": [
       "36"
      ]
     },
     "execution_count": 35,
     "metadata": {},
     "output_type": "execute_result"
    }
   ],
   "source": [
    "w_ = 12\n",
    "propagation(xx, yy, w_ )"
   ]
  },
  {
   "cell_type": "markdown",
   "metadata": {
    "id": "JAeFNWivlDOY"
   },
   "source": [
    "* 학습 완료된 모델에 대한 예측 시각화"
   ]
  },
  {
   "cell_type": "code",
   "execution_count": 40,
   "metadata": {
    "id": "M3oAlKRdUi0Q"
   },
   "outputs": [
    {
     "name": "stdout",
     "output_type": "stream",
     "text": [
      "[ 0  1  2  3  4  5  6  7  8  9 10]\n"
     ]
    },
    {
     "data": {
      "image/png": "[encoded data removed]",
      "text/plain": [
       "<Figure size 432x288 with 1 Axes>"
      ]
     },
     "metadata": {
      "needs_background": "light"
     },
     "output_type": "display_data"
    }
   ],
   "source": [
    "x_every = np.arange(11)\n",
    "print(x_every)\n",
    "y_preds = model_simple(x_every, w_)\n",
    "\n",
    "plt.scatter(xx,yy,c=\"k\", label=\"data\")\n",
    "plt.plot(x_every, y_preds, label=\"model\")\n",
    "\n",
    "plt.title(\"sample space( y according to x)\")\n",
    "plt.xlabel(\"x\")\n",
    "plt.ylabel(\"y\")\n",
    "plt.legend()\n",
    "plt.show()"
   ]
  },
  {
   "cell_type": "markdown",
   "metadata": {
    "id": "K93m-5wlj9di"
   },
   "source": [
    "* 공부시간이 6시간일 때 예상 점수는?\n"
   ]
  },
  {
   "cell_type": "code",
   "execution_count": 43,
   "metadata": {
    "id": "VTwDTwh5kCFu"
   },
   "outputs": [
    {
     "data": {
      "text/plain": [
       "72"
      ]
     },
     "execution_count": 43,
     "metadata": {},
     "output_type": "execute_result"
    }
   ],
   "source": [
    "6*w_"
   ]
  },
  {
   "cell_type": "markdown",
   "metadata": {
    "id": "HuPZDUrGkiaa"
   },
   "source": [
    "### **| step 5. 평가 (Evaluation)**\n",
    "\n",
    "* 훈련 데이터셋\n",
    "\n",
    "|공부시간(x)|종합점수(y)|\n",
    "|------|---|\n",
    "|3|20|\n",
    "|5|50|\n",
    "|5|60|\n",
    "|7|90|\n",
    "|8|100|\n",
    "\n",
    "* 테스트 데이터셋\n",
    "\n",
    "|공부시간(x)|종합점수(y)|\n",
    "|------|---|\n",
    "|1|5|\n",
    "|2|15|\n",
    "|5|55|\n",
    "|6|80|\n",
    "|7|85|"
   ]
  },
  {
   "cell_type": "markdown",
   "metadata": {
    "id": "4NmJ0xmannN-"
   },
   "source": [
    "* 테스트 데이터셋 정의"
   ]
  },
  {
   "cell_type": "code",
   "execution_count": 41,
   "metadata": {
    "id": "AOTA_VP4lzEC"
   },
   "outputs": [
    {
     "data": {
      "text/plain": [
       "((5,), (5,))"
      ]
     },
     "execution_count": 41,
     "metadata": {},
     "output_type": "execute_result"
    }
   ],
   "source": [
    "x_tests= np.array([1,2,5,6,7])\n",
    "y_tests= np.array([5,15,55,80,85])\n",
    "x_tests.shape, y_tests.shape"
   ]
  },
  {
   "cell_type": "markdown",
   "metadata": {
    "id": "8XCx9jv2mldX"
   },
   "source": [
    "* 학습 완료된 모델에 테스트 데이터로 최종 손실 계산 (평가)"
   ]
  },
  {
   "cell_type": "code",
   "execution_count": 42,
   "metadata": {
    "id": "yA9-cxT1mldY"
   },
   "outputs": [
    {
     "data": {
      "text/plain": [
       "30"
      ]
     },
     "execution_count": 42,
     "metadata": {},
     "output_type": "execute_result"
    }
   ],
   "source": [
    "propagation(x_tests, y_tests, w_)"
   ]
  },
  {
   "cell_type": "markdown",
   "metadata": {
    "id": "hQ6ImEhomldY"
   },
   "source": [
    "* 학습 완료된 모델에 테스트 데이터 예측 시각화"
   ]
  },
  {
   "cell_type": "code",
   "execution_count": 45,
   "metadata": {
    "id": "orzg2SatmldY"
   },
   "outputs": [
    {
     "data": {
      "image/png": "[encoded data removed]",
      "text/plain": [
       "<Figure size 432x288 with 1 Axes>"
      ]
     },
     "metadata": {
      "needs_background": "light"
     },
     "output_type": "display_data"
    }
   ],
   "source": [
    "plt.plot(x_every, y_preds, label=\"model\")\n",
    "plt.scatter(xx,yy,c=\"k\", label=\"data\")\n",
    "plt.scatter(x_tests, y_tests, c=\"b\", label=\"test data\")\n",
    "\n",
    "plt.title(\"sample space( y according to x)\")\n",
    "plt.xlabel(\"x\")\n",
    "plt.ylabel(\"y\")\n",
    "plt.legend()\n",
    "plt.show()"
   ]
  },
  {
   "cell_type": "markdown",
   "metadata": {
    "id": "ihClk4zZoAI4"
   },
   "source": [
    "## 다중 회귀 문제\n",
    "---\n",
    "\n",
    "\n",
    "\n",
    "|공부시간|수면시간|종합점수|\n",
    "|------|---|--|\n",
    "|2|9|20|\n",
    "|6|8|50|\n",
    "|4|7|60|\n",
    "|7|6|90|\n",
    "|8|6|100|\n"
   ]
  },
  {
   "cell_type": "markdown",
   "metadata": {
    "id": "wIoEOBxAoAI-"
   },
   "source": [
    "* 데이터 정의"
   ]
  },
  {
   "cell_type": "code",
   "execution_count": 54,
   "metadata": {
    "id": "e99JIH2IoAI-"
   },
   "outputs": [
    {
     "data": {
      "text/plain": [
       "((5, 2), (5,))"
      ]
     },
     "execution_count": 54,
     "metadata": {},
     "output_type": "execute_result"
    }
   ],
   "source": [
    "X = np.array([2,9,6,8,4,7,7,6,8,6]).reshape(5,2)\n",
    "yy = np.array([20, 50, 60, 90, 100])\n",
    "X.shape, yy.shape"
   ]
  },
  {
   "cell_type": "markdown",
   "metadata": {
    "id": "WwIRwRKsoAI-"
   },
   "source": [
    "* 데이터 시각화"
   ]
  },
  {
   "cell_type": "code",
   "execution_count": 57,
   "metadata": {
    "id": "kmz_RHY7oAI-"
   },
   "outputs": [
    {
     "data": {
      "image/png": "[encoded data removed]",
      "text/plain": [
       "<Figure size 576x432 with 1 Axes>"
      ]
     },
     "metadata": {
      "needs_background": "light"
     },
     "output_type": "display_data"
    }
   ],
   "source": [
    "fig = plt.figure(figsize=(8,6))\n",
    "ax = plt.axes(projection=\"3d\")\n",
    "\n",
    "x1 = X[:,0]\n",
    "x2 = X[:, 1]\n",
    "ax.scatter3D(x1,x2, yy, label=\"data\")\n",
    "\n",
    "ax.set(title=\"sample space\", xlabel=\"$feature_1$\", ylabel=\"$feature_2$\", zlabel=\"z\")\n",
    "plt.legend()\n",
    "plt.show()"
   ]
  },
  {
   "cell_type": "code",
   "execution_count": null,
   "metadata": {},
   "outputs": [],
   "source": []
  },
  {
   "cell_type": "markdown",
   "metadata": {
    "id": "P1XJIM3QoAI_"
   },
   "source": [
    "### **| step 1. 모델 구현**\n",
    "\n",
    "$model(\\vec{x};\\vec{w}) = w_1x_1+w_2x_2$"
   ]
  },
  {
   "cell_type": "markdown",
   "metadata": {
    "id": "1rbeL7DdoAI_"
   },
   "source": [
    "* 모델 정의"
   ]
  },
  {
   "cell_type": "code",
   "execution_count": 58,
   "metadata": {
    "id": "tIXh_8b3oAI_"
   },
   "outputs": [],
   "source": [
    "def model_multi (x1, x2 , w1=1, w2=1):\n",
    "    return w1*x1+w2*x2"
   ]
  },
  {
   "cell_type": "markdown",
   "metadata": {
    "id": "Ctd2sTIitUlD"
   },
   "source": [
    "* 초기 모델 사용\n",
    "\n",
    "\n",
    "|공부시간|수면시간|종합점수|예측값 ($\\hat{y}$)|\n",
    "|------|---|--|--|\n",
    "|2|9|20|\n",
    "|6|8|50|\n",
    "|4|7|60|\n",
    "|7|6|90|\n",
    "|8|6|100|"
   ]
  },
  {
   "cell_type": "code",
   "execution_count": null,
   "metadata": {
    "id": "X8EkETtStdMY"
   },
   "outputs": [],
   "source": []
  },
  {
   "cell_type": "markdown",
   "metadata": {
    "id": "a8BipUgAoAI_"
   },
   "source": [
    "### **| step 2. 손실 (loss) 계산**\n",
    "\n",
    "$loss = |(\\hat{y}-y)|$"
   ]
  },
  {
   "cell_type": "markdown",
   "metadata": {
    "id": "ismq5JEWoAI_"
   },
   "source": [
    "* 손실 계산 과정 정의"
   ]
  },
  {
   "cell_type": "code",
   "execution_count": null,
   "metadata": {
    "id": "pF8gP8tRoAI_"
   },
   "outputs": [],
   "source": []
  },
  {
   "cell_type": "markdown",
   "metadata": {
    "id": "j0ygQOChoAI_"
   },
   "source": [
    "### **| step 3. 최적화 (Optimizer)**\n"
   ]
  },
  {
   "cell_type": "markdown",
   "metadata": {
    "id": "TrXTChVioAI_"
   },
   "source": [
    "*  학습 파라미터 $w_1$를 0부터 30, $w_2$를 -10부터 10까지 바꿔가며 손실 계산하기\n"
   ]
  },
  {
   "cell_type": "code",
   "execution_count": null,
   "metadata": {
    "id": "B0wL8d4DoAJA"
   },
   "outputs": [],
   "source": []
  },
  {
   "cell_type": "markdown",
   "metadata": {
    "id": "jiwFG-NhqTkN"
   },
   "source": [
    "* 3d플롯으로 시각화"
   ]
  },
  {
   "cell_type": "code",
   "execution_count": null,
   "metadata": {
    "id": "5quWOXGDchhe"
   },
   "outputs": [],
   "source": []
  },
  {
   "cell_type": "markdown",
   "metadata": {
    "id": "QtHMuaycoAJA"
   },
   "source": [
    "### **| step 4. 예측 (Prediction)**"
   ]
  },
  {
   "cell_type": "markdown",
   "metadata": {
    "id": "i7E_v8Ga8LQU"
   },
   "source": [
    "* 최적화된 파라미터 정의"
   ]
  },
  {
   "cell_type": "code",
   "execution_count": null,
   "metadata": {
    "id": "QUu5sE-K8NP6"
   },
   "outputs": [],
   "source": []
  },
  {
   "cell_type": "markdown",
   "metadata": {
    "id": "Y3GtsybBoAJA"
   },
   "source": [
    "* 학습 완료된 모델의 최종 손실 계산"
   ]
  },
  {
   "cell_type": "code",
   "execution_count": null,
   "metadata": {
    "id": "HeXT9GDnoAJA"
   },
   "outputs": [],
   "source": []
  },
  {
   "cell_type": "markdown",
   "metadata": {
    "id": "Uuqeagt3oAJA"
   },
   "source": [
    "* 학습 완료된 모델에 대한 예측 시각화"
   ]
  },
  {
   "cell_type": "code",
   "execution_count": null,
   "metadata": {
    "id": "Wm2udvPSAsia"
   },
   "outputs": [],
   "source": []
  },
  {
   "cell_type": "markdown",
   "metadata": {
    "id": "24tBE1IfoAJA"
   },
   "source": [
    "* 공부시간이 6시간이고 수면시간 5시간 일 때 예상 점수는?\n"
   ]
  },
  {
   "cell_type": "code",
   "execution_count": null,
   "metadata": {
    "id": "NlzSUkM3oAJA"
   },
   "outputs": [],
   "source": []
  },
  {
   "cell_type": "markdown",
   "metadata": {
    "id": "ryN0xOv4oAJB"
   },
   "source": [
    "### **| step 5. 평가 (Evaluation)**\n",
    "\n",
    "* 훈련 데이터셋\n",
    "\n",
    "\n",
    "|공부시간|수면시간|종합점수|\n",
    "|------|---|--|\n",
    "|2|9|20|\n",
    "|6|8|50|\n",
    "|4|7|60|\n",
    "|7|6|90|\n",
    "|8|6|100|\n",
    "\n",
    "* 테스트 데이터셋\n",
    "\n",
    "|공부시간|수면시간|종합점수|\n",
    "|------|---|--|\n",
    "|1|7|15|\n",
    "|3|8|25|\n",
    "|5|7|60|\n",
    "|5|6|90|\n",
    "|10|7|95|"
   ]
  },
  {
   "cell_type": "markdown",
   "metadata": {
    "id": "Ypl_S_QfoAJB"
   },
   "source": [
    "* 테스트 데이터셋 정의"
   ]
  },
  {
   "cell_type": "code",
   "execution_count": null,
   "metadata": {
    "id": "l8LvKjByoAJB"
   },
   "outputs": [],
   "source": []
  },
  {
   "cell_type": "markdown",
   "metadata": {
    "id": "DqHAYcIioAJB"
   },
   "source": [
    "* 학습 완료된 모델에 테스트 데이터로 최종 손실 계산"
   ]
  },
  {
   "cell_type": "code",
   "execution_count": null,
   "metadata": {
    "id": "BfEWvhS8oAJB"
   },
   "outputs": [],
   "source": []
  },
  {
   "cell_type": "markdown",
   "metadata": {
    "id": "qFRMUCJZoAJB"
   },
   "source": [
    "* 학습 완료된 모델에 테스트 데이터 예측 시각화"
   ]
  },
  {
   "cell_type": "code",
   "execution_count": null,
   "metadata": {
    "id": "R6TVPbqHoAJB"
   },
   "outputs": [],
   "source": []
  },
  {
   "cell_type": "code",
   "execution_count": null,
   "metadata": {
    "id": "Lt5FOTA2I_wJ"
   },
   "outputs": [],
   "source": []
  },
  {
   "cell_type": "markdown",
   "metadata": {
    "id": "YE4y3XQfJAO8"
   },
   "source": [
    "## 클래스 작성하기\n",
    "---\n",
    "\n",
    "```\n",
    "단순 선형회귀 분석 클래스를 작성합니다.\n",
    "\n",
    "model = Model() # 모델 클래스가 생성됩니다.\n",
    "model.fit(xs, ys) # 최적화가 진행됩니다.\n",
    "model.predict(xs) # 예측을 진행합니다.\n",
    "model.validation(xs, ys) # 평가를 진행합니다.\n",
    "```"
   ]
  },
  {
   "cell_type": "code",
   "execution_count": null,
   "metadata": {
    "id": "UxHpUFznJhwr"
   },
   "outputs": [],
   "source": []
  }
 ],
 "metadata": {
  "colab": {
   "collapsed_sections": [],
   "name": "ch05_03_기초모델구현-회귀모델맛보기.ipynb",
   "provenance": []
  },
  "kernelspec": {
   "display_name": "Python 3 (ipykernel)",
   "language": "python",
   "name": "python3"
  },
  "language_info": {
   "codemirror_mode": {
    "name": "ipython",
    "version": 3
   },
   "file_extension": ".py",
   "mimetype": "text/x-python",
   "name": "python",
   "nbconvert_exporter": "python",
   "pygments_lexer": "ipython3",
   "version": "3.9.12"
  },
  "toc": {
   "base_numbering": 1,
   "nav_menu": {},
   "number_sections": true,
   "sideBar": true,
   "skip_h1_title": false,
   "title_cell": "Table of Contents",
   "title_sidebar": "Contents",
   "toc_cell": false,
   "toc_position": {},
   "toc_section_display": true,
   "toc_window_display": false
  },
  "varInspector": {
   "cols": {
    "lenName": 16,
    "lenType": 16,
    "lenVar": 40
   },
   "kernels_config": {
    "python": {
     "delete_cmd_postfix": "",
     "delete_cmd_prefix": "del ",
     "library": "var_list.py",
     "varRefreshCmd": "print(var_dic_list())"
    },
    "r": {
     "delete_cmd_postfix": ") ",
     "delete_cmd_prefix": "rm(",
     "library": "var_list.r",
     "varRefreshCmd": "cat(var_dic_list()) "
    }
   },
   "types_to_exclude": [
    "module",
    "function",
    "builtin_function_or_method",
    "instance",
    "_Feature"
   ],
   "window_display": false
  }
 },
 "nbformat": 4,
 "nbformat_minor": 1
}
