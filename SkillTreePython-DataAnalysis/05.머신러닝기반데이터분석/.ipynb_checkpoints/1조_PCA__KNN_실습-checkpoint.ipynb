{
 "cells": [
  {
   "cell_type": "markdown",
   "metadata": {
    "id": "y4qzEwGusPFx"
   },
   "source": [
    "## 알고리즘 정해서 발표하기\n",
    "\n",
    "1. PCA, KNN\n",
    "2. 앙상블(Ensemble), 배깅(Bagging)\n",
    "3. 부스팅(Bossting)\n",
    "\n",
    "포함되어야 할 내용\n",
    "- 개념 설명\n",
    "- (앙상블, 배깅, 부스팅)의 경우 관련 모델\n",
    "- 사이킷런 구현시 함수의 각 파라미터"
   ]
  },
  {
   "cell_type": "markdown",
   "metadata": {
    "id": "5wOHBjrdadYj"
   },
   "source": [
    "```\n",
    "import numpy as np\n",
    "import pandas as pd\n",
    "import matplotlib.pyplot as plt\n",
    "import seaborn as sns\n",
    "```"
   ]
  },
  {
   "cell_type": "code",
   "execution_count": null,
   "metadata": {
    "id": "r-6d-c4I26dq"
   },
   "outputs": [],
   "source": [
    "import numpy as np\n",
    "import pandas as pd\n",
    "import matplotlib.pyplot as plt\n",
    "import seaborn as sns"
   ]
  },
  {
   "cell_type": "code",
   "execution_count": null,
   "metadata": {
    "id": "uaw6hKD1Nzv7"
   },
   "outputs": [],
   "source": [
    "from matplotlib.colors import ListedColormap\n",
    "\n",
    "def draw_decision_region(model, X, y, \n",
    "                         X_test=[], y_test=[], \n",
    "                         features=[], labels=[], title=''): # 결정경계\n",
    "\n",
    "  colors = ('orangered', 'dodgerblue', 'limegreen', 'fuchsia', 'blueviolet')\n",
    "  cmap = ListedColormap(colors[:len(np.unique( y))])\n",
    "\n",
    "  x0mn, x0mx = X[:,0].min() -1, X[:,0].max() +1\n",
    "  x1mn, x1mx = X[:,1].min() -1, X[:,1].max() +1\n",
    "  x0 = np.arange(x0mn, x0mx, 0.02)\n",
    "  x1 = np.arange(x1mn, x1mx, 0.02)\n",
    "  #print('* arange', x0.shape, x1.shape)\n",
    "  X0, X1 = np.meshgrid(x0, x1)\n",
    "  #print('* meshgrid', x0.shape, x1.shape)\n",
    "  x0, x1 = X0.ravel(), X1.ravel()\n",
    "  #print('* ravel', x0.shape, x1.shape)\n",
    "  x_every = np.array([x0, x1]).T\n",
    "  #print('* concat', x_set.shape)\n",
    "  y_pred = model.predict(x_every)\n",
    "  #print('* y_pred', y_pred.shape)\n",
    "  Y_pred = y_pred.reshape(X0.shape)\n",
    "  #print('* y_pred', y_pred.shape)\n",
    "\n",
    "  if not len(labels): labels=[i for i in range(len(np.unique(y)))]\n",
    "  plt.contourf(X0, X1, Y_pred, alpha=0.4, cmap=cmap )\n",
    "  for idx, c in enumerate(np.unique(y)):\n",
    "    plt.scatter(x = X[y == c, 0], \n",
    "                y = X[y == c, 1],\n",
    "                alpha=0.8,\n",
    "                c=colors[idx],\n",
    "                label=labels[idx],\n",
    "                marker='x',\n",
    "                linewidth=2)\n",
    "  if len(X_test):\n",
    "    for idx, c in enumerate(np.unique(y_test)):\n",
    "      plt.scatter(x = X_test[y_test == c, 0], \n",
    "                  y = X_test[y_test == c, 1],\n",
    "                  alpha=0.8,\n",
    "                  c=colors[idx],\n",
    "                  marker='o',\n",
    "                  edgecolor='k',\n",
    "                  linewidth=2)\n",
    "  \n",
    "  if features:\n",
    "    plt.xlabel(features[0])\n",
    "    plt.ylabel(features[1])\n",
    "  if title:\n",
    "    plt.title(title)\n",
    "  plt.legend()"
   ]
  },
  {
   "cell_type": "markdown",
   "metadata": {
    "id": "JlU3-2s3as9w"
   },
   "source": [
    "## 데이터 소개 : 와인 데이터셋\n",
    "---\n",
    "\n",
    "\n",
    "```\n",
    "df_wine = pd.read_csv('https://archive.ics.uci.edu/ml/'\n",
    "                      'machine-learning-databases/wine/wine.data',\n",
    "                      header=None)\n",
    "df_wine.columns = ['Class label', 'Alcohol', 'Malic acid', 'Ash',\n",
    "                   'Alcalinity of ash', 'Magnesium', 'Total phenols',\n",
    "                   'Flavanoids', 'Nonflavanoid phenols', 'Proanthocyanins',\n",
    "                   'Color intensity', 'Hue', 'OD280/OD315 of diluted wines',\n",
    "                   'Proline']\n",
    "```"
   ]
  },
  {
   "cell_type": "markdown",
   "metadata": {
    "id": "Bolf_EdCfHie"
   },
   "source": [
    "### 데이터 가져오기"
   ]
  },
  {
   "cell_type": "code",
   "execution_count": null,
   "metadata": {
    "id": "6fvpM0djI89V"
   },
   "outputs": [],
   "source": [
    "df_wine = pd.read_csv('https://archive.ics.uci.edu/ml/'\n",
    "                      'machine-learning-databases/wine/wine.data',\n",
    "                      header=None)\n",
    "df_wine.columns = ['Class label', 'Alcohol', 'Malic acid', 'Ash',\n",
    "                   'Alcalinity of ash', 'Magnesium', 'Total phenols',\n",
    "                   'Flavanoids', 'Nonflavanoid phenols', 'Proanthocyanins',\n",
    "                   'Color intensity', 'Hue', 'OD280/OD315 of diluted wines',\n",
    "                   'Proline']\n",
    "\n",
    "print(df_wine.shape)\n",
    "df_wine.head()"
   ]
  },
  {
   "cell_type": "code",
   "execution_count": null,
   "metadata": {
    "id": "9VLdlmwRemzJ"
   },
   "outputs": [],
   "source": [
    "# X, y로 구분 + 넘파이로 변환\n",
    "X = df_wine.drop('Class label', axis = 1).values\n",
    "y = df_wine['Class label'].values\n",
    "X.shape, y.shape"
   ]
  },
  {
   "cell_type": "markdown",
   "metadata": {
    "id": "uJHdTvhAzY5c"
   },
   "source": [
    "* df_wine.isnull().sum() -> 누락데이터 없음\n",
    "* df_wine.info() -> 전부 수치데이터"
   ]
  },
  {
   "cell_type": "code",
   "execution_count": null,
   "metadata": {
    "id": "sMgchLz6z40M"
   },
   "outputs": [],
   "source": [
    "features = [ 'Alcohol', 'Malic acid', 'Ash',\n",
    "                   'Alcalinity of ash', 'Magnesium', 'Total phenols',\n",
    "                   'Flavanoids', 'Nonflavanoid phenols', 'Proanthocyanins',\n",
    "                   'Color intensity', 'Hue', 'OD280/OD315 of diluted wines',\n",
    "                   'Proline']\n",
    "fig, axes = plt.subplots(2, 7, figsize =(18,8))\n",
    "axes = axes.flatten()\n",
    "for feature,ax in zip(features, axes):\n",
    "    sns.histplot(data = df_wine, x = feature, ax = ax)\n",
    "plt.show()"
   ]
  },
  {
   "cell_type": "code",
   "execution_count": null,
   "metadata": {
    "id": "ZiPPqE7daZlL"
   },
   "outputs": [],
   "source": [
    "# 클래스(y)별 개수(countplot)\n",
    "sns.countplot(data = df_wine, x = 'Class label')\n",
    "plt.show()"
   ]
  },
  {
   "cell_type": "markdown",
   "metadata": {
    "id": "GbTUQ5MKe8qy"
   },
   "source": [
    "### 전처리"
   ]
  },
  {
   "cell_type": "code",
   "execution_count": null,
   "metadata": {
    "id": "L2E2OJA22Ey8"
   },
   "outputs": [],
   "source": [
    "# 라벨 인코딩 {1,2,3} -> {0,1,2}\n",
    "from sklearn.preprocessing import LabelEncoder\n",
    "le = LabelEncoder()\n",
    "y = le.fit_transform(y)\n",
    "\n",
    "# 훈련-테스트 데이터 분리\n",
    "from sklearn.model_selection import train_test_split\n",
    "X_train, X_test, y_train, y_test = train_test_split(X,y,\n",
    "                                                    test_size=0.2,\n",
    "                                                    stratify=y,\n",
    "                                                    random_state=1)"
   ]
  },
  {
   "cell_type": "markdown",
   "metadata": {
    "id": "Sw1SvGn4h9NA"
   },
   "source": [
    "### 모델 파이프라인 제작\n",
    "### 모델링 (파이프라인 없애면)"
   ]
  },
  {
   "cell_type": "markdown",
   "metadata": {
    "id": "njMXgtFKhOg_"
   },
   "source": [
    "#### PCA \n",
    "\n",
    "```\n",
    "sklearn.decomposition.PCA( n_components=None,\n",
    "                           copy=True, \n",
    "                           whiten=False, \n",
    "                           svd_solver='auto', \n",
    "                           tol=0.0, \n",
    "                           iterated_power='auto', \n",
    "                           n_oversamples=10\n",
    "                           power_iteration_normalizer='auto'\n",
    "                           random_state=None)\n",
    "\n",
    "* n_components=None {int,float,'mle'}\n",
    "\n",
    "* copy=True, \n",
    "\n",
    "* whiten=False,\n",
    "\n",
    "* svd_solver='auto' {'full', 'arpack', 'randomized'}\n",
    "\n",
    "    - 'full' : LAPACK solver를 호출. \n",
    "    - 'arpack' :  ARPACK solver를 호출. \n",
    "    - 'randomized' : 랜덤 PCA라는 확률적 알고리즘을 사용할 때 호출.\n",
    "    - 'auto' : 원본 데이터의 크기나 차원 수가 500보다 크고, 축소할 차원이 이것들의 80%보다 작으면 sklearn은 자동으로 랜덤 PCA 알고리즘을 사용\n",
    "\n",
    "* tol=0.0 {float}\n",
    "    svd_solver ==\"arpack\"을 사용할 때, 특이값의 허용오차\n",
    "    \n",
    "* iterated_power='auto' {int}\n",
    "    svd_solver == \"randomized\" 일 때 거듭제곱식 반복 횟수\n",
    "    \n",
    "* n_oversamples=10 {int}\n",
    "\n",
    "* power_iteration_normalizer='auto' {'QR', 'LU', 'none'}\n",
    "\n",
    "* random_state=None {int} \n",
    "\n",
    "```"
   ]
  },
  {
   "cell_type": "markdown",
   "metadata": {
    "id": "khP9TT0ufBaQ"
   },
   "source": [
    "#### KNN \n",
    "```\n",
    "sklearn.neighbors.KNeighborsClassifier(n_neighbors=5,\n",
    "                                       weights='uniform', \n",
    "                                       algorithm='auto', \n",
    "                                       leaf_size=30, \n",
    "                                       p=2, \n",
    "                                       metric='minkowski',\n",
    "                                       metric_params=None, \n",
    "                                       n_jobs=None)\n",
    "\n",
    "\n",
    "* n_neighbors=5 {int}\n",
    "\n",
    "* weights='uniform' {‘uniform’, ‘distance’} or callable \n",
    "\n",
    "    - 'uniform': 각 이웃에 동일한 가중치를 준다.\n",
    "    - ‘distance’: 가까운 이웃이 멀리 있는 이웃보다 더욱 큰 영향을 미친다.\n",
    "\n",
    "* algorithm='auto' {'auto', 'ball_tree', 'kd_tree', 'brute'}\n",
    "    - 'auto': \n",
    "\n",
    "* leaf_size=30 {int}\n",
    "\n",
    "* p=2: {int}\n",
    "    minkowski 의 매개변수\n",
    "    - p = 1: 맨허튼 거리 공식 사용\n",
    "    - p = 2: 유클리디안 거리 공식 사용\n",
    "\n",
    "* metric='minkowski' {str or callable}\n",
    "\n",
    "* metric_params=None {dict}\n",
    "\n",
    "* n_jobs=None {int}\n",
    "```"
   ]
  },
  {
   "cell_type": "markdown",
   "metadata": {
    "id": "g2Jj5bpkcCpO"
   },
   "source": [
    "#### GridSearchCV를 이용한 하이퍼파라미터 튜닝"
   ]
  },
  {
   "cell_type": "code",
   "execution_count": null,
   "metadata": {
    "id": "zlWU1qS1imQw"
   },
   "outputs": [],
   "source": [
    "from sklearn.pipeline import *\n",
    "from sklearn.preprocessing import StandardScaler\n",
    "from sklearn.decomposition import PCA \n",
    "from sklearn.neighbors import KNeighborsClassifier\n",
    "\n"
   ]
  },
  {
   "cell_type": "code",
   "execution_count": null,
   "metadata": {
    "colab": {
     "background_save": true
    },
    "id": "XqgRULRl2Qgk"
   },
   "outputs": [],
   "source": [
    "from sklearn.model_selection import GridSearchCV\n",
    "\n",
    "param_grid = [ {'pca__svd_solver' : ,\n",
    "                'knn__n_neighbors': ,\n",
    "                'knn__weights': ,\n",
    "                'knn__leaf_size': ,\n",
    "                'knn__p' :\n",
    "                } ]\n",
    "\n"
   ]
  },
  {
   "cell_type": "markdown",
   "metadata": {
    "id": "ZKu28S_XbA0t"
   },
   "source": [
    "* 결과 \n",
    "```\n",
    "최적의 하이퍼파라미터 세트: \n",
    "```"
   ]
  },
  {
   "cell_type": "code",
   "execution_count": null,
   "metadata": {
    "id": "_zPlNVEZfquD"
   },
   "outputs": [],
   "source": [
    "from sklearn.pipeline import make_pipeline\n",
    "from sklearn.preprocessing import StandardScaler\n",
    "from sklearn.decomposition import PCA \n",
    "from sklearn.neighbors import KNeighborsClassifier\n",
    "\n",
    "pipe = Pipeline([\n",
    "\n",
    "\n",
    "                     ])\n",
    "\n",
    "pipe.fit(X_train, y_train)\n",
    "y_pred = pipe.predict(X_test)"
   ]
  },
  {
   "cell_type": "markdown",
   "metadata": {
    "id": "oj0fv-p-jglD"
   },
   "source": [
    "### 모델 성능 평가"
   ]
  },
  {
   "cell_type": "markdown",
   "metadata": {
    "id": "JCi1W1IdPxlk"
   },
   "source": [
    "#### 오차행렬(confusion matrix)"
   ]
  },
  {
   "cell_type": "code",
   "execution_count": null,
   "metadata": {
    "id": "oUUhITS0Xtvh"
   },
   "outputs": [],
   "source": [
    "from sklearn.metrics import confusion_matrix\n"
   ]
  },
  {
   "cell_type": "markdown",
   "metadata": {
    "id": "6JN0NHdh_0Xq"
   },
   "source": [
    "#### k-겹 교차검증 "
   ]
  },
  {
   "cell_type": "code",
   "execution_count": null,
   "metadata": {
    "id": "Uur3DoBMVS8A"
   },
   "outputs": [],
   "source": [
    "from sklearn.model_selection import cross_val_score\n",
    "\n",
    "print('10-겹 교차검증: ')\n",
    "\n",
    "print(f'Acc : {scores.mean(): .3f} (+/- {scores.std(): .3f})')"
   ]
  },
  {
   "cell_type": "markdown",
   "metadata": {
    "id": "ve9fFQcwVOSy"
   },
   "source": [
    "#### 스코어 계산"
   ]
  },
  {
   "cell_type": "code",
   "execution_count": null,
   "metadata": {
    "id": "NGLRlQ8s7iwt"
   },
   "outputs": [],
   "source": [
    "from sklearn.metrics import accuracy_score\n"
   ]
  },
  {
   "cell_type": "markdown",
   "metadata": {
    "id": "AkYxnDPeb1SJ"
   },
   "source": [
    "#### 결정경계 시각화 "
   ]
  },
  {
   "cell_type": "code",
   "execution_count": null,
   "metadata": {
    "id": "9JvoV8jOgw3w"
   },
   "outputs": [],
   "source": []
  },
  {
   "cell_type": "code",
   "execution_count": null,
   "metadata": {
    "id": "as9kxofKoAps"
   },
   "outputs": [],
   "source": []
  }
 ],
 "metadata": {
  "colab": {
   "collapsed_sections": [],
   "name": "1조_PCA__KNN_실습.ipynb",
   "provenance": []
  },
  "kernelspec": {
   "display_name": "Python 3 (ipykernel)",
   "language": "python",
   "name": "python3"
  },
  "language_info": {
   "codemirror_mode": {
    "name": "ipython",
    "version": 3
   },
   "file_extension": ".py",
   "mimetype": "text/x-python",
   "name": "python",
   "nbconvert_exporter": "python",
   "pygments_lexer": "ipython3",
   "version": "3.7.10"
  },
  "toc": {
   "base_numbering": 1,
   "nav_menu": {},
   "number_sections": true,
   "sideBar": true,
   "skip_h1_title": false,
   "title_cell": "Table of Contents",
   "title_sidebar": "Contents",
   "toc_cell": false,
   "toc_position": {},
   "toc_section_display": true,
   "toc_window_display": false
  }
 },
 "nbformat": 4,
 "nbformat_minor": 1
}
