{
 "cells": [
  {
   "cell_type": "markdown",
   "metadata": {
    "id": "Cg-BfYz7WdCf"
   },
   "source": [
    "# 준비"
   ]
  },
  {
   "cell_type": "code",
   "execution_count": null,
   "metadata": {
    "ExecuteTime": {
     "end_time": "2022-05-31T02:18:17.775797Z",
     "start_time": "2022-05-31T02:18:17.184245Z"
    },
    "id": "K0NWoZY6HZPj"
   },
   "outputs": [],
   "source": [
    "import numpy as np\n",
    "import pandas as pd"
   ]
  },
  {
   "cell_type": "code",
   "execution_count": null,
   "metadata": {
    "ExecuteTime": {
     "end_time": "2022-05-31T02:18:18.743354Z",
     "start_time": "2022-05-31T02:18:17.775797Z"
    },
    "colab": {
     "base_uri": "https://localhost:8080/",
     "height": 250
    },
    "id": "kt1AJTX9HVP2",
    "outputId": "312b2828-8a91-4a13-f746-66cca3688ebb"
   },
   "outputs": [
    {
     "data": {
      "text/html": [
       "\n",
       "  <div id=\"df-b1c7e87f-4651-418a-8822-02aa13dbd633\">\n",
       "    <div class=\"colab-df-container\">\n",
       "      <div>\n",
       "<style scoped>\n",
       "    .dataframe tbody tr th:only-of-type {\n",
       "        vertical-align: middle;\n",
       "    }\n",
       "\n",
       "    .dataframe tbody tr th {\n",
       "        vertical-align: top;\n",
       "    }\n",
       "\n",
       "    .dataframe thead th {\n",
       "        text-align: right;\n",
       "    }\n",
       "</style>\n",
       "<table border=\"1\" class=\"dataframe\">\n",
       "  <thead>\n",
       "    <tr style=\"text-align: right;\">\n",
       "      <th></th>\n",
       "      <th>Class label</th>\n",
       "      <th>Alcohol</th>\n",
       "      <th>Malic acid</th>\n",
       "      <th>Ash</th>\n",
       "      <th>Alcalinity of ash</th>\n",
       "      <th>Magnesium</th>\n",
       "      <th>Total phenols</th>\n",
       "      <th>Flavanoids</th>\n",
       "      <th>Nonflavanoid phenols</th>\n",
       "      <th>Proanthocyanins</th>\n",
       "      <th>Color intensity</th>\n",
       "      <th>Hue</th>\n",
       "      <th>OD280/OD315 of diluted wines</th>\n",
       "      <th>Proline</th>\n",
       "    </tr>\n",
       "  </thead>\n",
       "  <tbody>\n",
       "    <tr>\n",
       "      <th>0</th>\n",
       "      <td>1</td>\n",
       "      <td>14.23</td>\n",
       "      <td>1.71</td>\n",
       "      <td>2.43</td>\n",
       "      <td>15.6</td>\n",
       "      <td>127</td>\n",
       "      <td>2.80</td>\n",
       "      <td>3.06</td>\n",
       "      <td>0.28</td>\n",
       "      <td>2.29</td>\n",
       "      <td>5.64</td>\n",
       "      <td>1.04</td>\n",
       "      <td>3.92</td>\n",
       "      <td>1065</td>\n",
       "    </tr>\n",
       "    <tr>\n",
       "      <th>1</th>\n",
       "      <td>1</td>\n",
       "      <td>13.20</td>\n",
       "      <td>1.78</td>\n",
       "      <td>2.14</td>\n",
       "      <td>11.2</td>\n",
       "      <td>100</td>\n",
       "      <td>2.65</td>\n",
       "      <td>2.76</td>\n",
       "      <td>0.26</td>\n",
       "      <td>1.28</td>\n",
       "      <td>4.38</td>\n",
       "      <td>1.05</td>\n",
       "      <td>3.40</td>\n",
       "      <td>1050</td>\n",
       "    </tr>\n",
       "    <tr>\n",
       "      <th>2</th>\n",
       "      <td>1</td>\n",
       "      <td>13.16</td>\n",
       "      <td>2.36</td>\n",
       "      <td>2.67</td>\n",
       "      <td>18.6</td>\n",
       "      <td>101</td>\n",
       "      <td>2.80</td>\n",
       "      <td>3.24</td>\n",
       "      <td>0.30</td>\n",
       "      <td>2.81</td>\n",
       "      <td>5.68</td>\n",
       "      <td>1.03</td>\n",
       "      <td>3.17</td>\n",
       "      <td>1185</td>\n",
       "    </tr>\n",
       "    <tr>\n",
       "      <th>3</th>\n",
       "      <td>1</td>\n",
       "      <td>14.37</td>\n",
       "      <td>1.95</td>\n",
       "      <td>2.50</td>\n",
       "      <td>16.8</td>\n",
       "      <td>113</td>\n",
       "      <td>3.85</td>\n",
       "      <td>3.49</td>\n",
       "      <td>0.24</td>\n",
       "      <td>2.18</td>\n",
       "      <td>7.80</td>\n",
       "      <td>0.86</td>\n",
       "      <td>3.45</td>\n",
       "      <td>1480</td>\n",
       "    </tr>\n",
       "    <tr>\n",
       "      <th>4</th>\n",
       "      <td>1</td>\n",
       "      <td>13.24</td>\n",
       "      <td>2.59</td>\n",
       "      <td>2.87</td>\n",
       "      <td>21.0</td>\n",
       "      <td>118</td>\n",
       "      <td>2.80</td>\n",
       "      <td>2.69</td>\n",
       "      <td>0.39</td>\n",
       "      <td>1.82</td>\n",
       "      <td>4.32</td>\n",
       "      <td>1.04</td>\n",
       "      <td>2.93</td>\n",
       "      <td>735</td>\n",
       "    </tr>\n",
       "  </tbody>\n",
       "</table>\n",
       "</div>\n",
       "      <button class=\"colab-df-convert\" onclick=\"convertToInteractive('df-b1c7e87f-4651-418a-8822-02aa13dbd633')\"\n",
       "              title=\"Convert this dataframe to an interactive table.\"\n",
       "              style=\"display:none;\">\n",
       "        \n",
       "  <svg xmlns=\"http://www.w3.org/2000/svg\" height=\"24px\"viewBox=\"0 0 24 24\"\n",
       "       width=\"24px\">\n",
       "    <path d=\"M0 0h24v24H0V0z\" fill=\"none\"/>\n",
       "    <path d=\"M18.56 5.44l.94 2.06.94-2.06 2.06-.94-2.06-.94-.94-2.06-.94 2.06-2.06.94zm-11 1L8.5 8.5l.94-2.06 2.06-.94-2.06-.94L8.5 2.5l-.94 2.06-2.06.94zm10 10l.94 2.06.94-2.06 2.06-.94-2.06-.94-.94-2.06-.94 2.06-2.06.94z\"/><path d=\"M17.41 7.96l-1.37-1.37c-.4-.4-.92-.59-1.43-.59-.52 0-1.04.2-1.43.59L10.3 9.45l-7.72 7.72c-.78.78-.78 2.05 0 2.83L4 21.41c.39.39.9.59 1.41.59.51 0 1.02-.2 1.41-.59l7.78-7.78 2.81-2.81c.8-.78.8-2.07 0-2.86zM5.41 20L4 18.59l7.72-7.72 1.47 1.35L5.41 20z\"/>\n",
       "  </svg>\n",
       "      </button>\n",
       "      \n",
       "  <style>\n",
       "    .colab-df-container {\n",
       "      display:flex;\n",
       "      flex-wrap:wrap;\n",
       "      gap: 12px;\n",
       "    }\n",
       "\n",
       "    .colab-df-convert {\n",
       "      background-color: #E8F0FE;\n",
       "      border: none;\n",
       "      border-radius: 50%;\n",
       "      cursor: pointer;\n",
       "      display: none;\n",
       "      fill: #1967D2;\n",
       "      height: 32px;\n",
       "      padding: 0 0 0 0;\n",
       "      width: 32px;\n",
       "    }\n",
       "\n",
       "    .colab-df-convert:hover {\n",
       "      background-color: #E2EBFA;\n",
       "      box-shadow: 0px 1px 2px rgba(60, 64, 67, 0.3), 0px 1px 3px 1px rgba(60, 64, 67, 0.15);\n",
       "      fill: #174EA6;\n",
       "    }\n",
       "\n",
       "    [theme=dark] .colab-df-convert {\n",
       "      background-color: #3B4455;\n",
       "      fill: #D2E3FC;\n",
       "    }\n",
       "\n",
       "    [theme=dark] .colab-df-convert:hover {\n",
       "      background-color: #434B5C;\n",
       "      box-shadow: 0px 1px 3px 1px rgba(0, 0, 0, 0.15);\n",
       "      filter: drop-shadow(0px 1px 2px rgba(0, 0, 0, 0.3));\n",
       "      fill: #FFFFFF;\n",
       "    }\n",
       "  </style>\n",
       "\n",
       "      <script>\n",
       "        const buttonEl =\n",
       "          document.querySelector('#df-b1c7e87f-4651-418a-8822-02aa13dbd633 button.colab-df-convert');\n",
       "        buttonEl.style.display =\n",
       "          google.colab.kernel.accessAllowed ? 'block' : 'none';\n",
       "\n",
       "        async function convertToInteractive(key) {\n",
       "          const element = document.querySelector('#df-b1c7e87f-4651-418a-8822-02aa13dbd633');\n",
       "          const dataTable =\n",
       "            await google.colab.kernel.invokeFunction('convertToInteractive',\n",
       "                                                     [key], {});\n",
       "          if (!dataTable) return;\n",
       "\n",
       "          const docLinkHtml = 'Like what you see? Visit the ' +\n",
       "            '<a target=\"_blank\" href=https://colab.research.google.com/notebooks/data_table.ipynb>data table notebook</a>'\n",
       "            + ' to learn more about interactive tables.';\n",
       "          element.innerHTML = '';\n",
       "          dataTable['output_type'] = 'display_data';\n",
       "          await google.colab.output.renderOutput(dataTable, element);\n",
       "          const docLink = document.createElement('div');\n",
       "          docLink.innerHTML = docLinkHtml;\n",
       "          element.appendChild(docLink);\n",
       "        }\n",
       "      </script>\n",
       "    </div>\n",
       "  </div>\n",
       "  "
      ],
      "text/plain": [
       "   Class label  Alcohol  Malic acid   Ash  Alcalinity of ash  Magnesium  \\\n",
       "0            1    14.23        1.71  2.43               15.6        127   \n",
       "1            1    13.20        1.78  2.14               11.2        100   \n",
       "2            1    13.16        2.36  2.67               18.6        101   \n",
       "3            1    14.37        1.95  2.50               16.8        113   \n",
       "4            1    13.24        2.59  2.87               21.0        118   \n",
       "\n",
       "   Total phenols  Flavanoids  Nonflavanoid phenols  Proanthocyanins  \\\n",
       "0           2.80        3.06                  0.28             2.29   \n",
       "1           2.65        2.76                  0.26             1.28   \n",
       "2           2.80        3.24                  0.30             2.81   \n",
       "3           3.85        3.49                  0.24             2.18   \n",
       "4           2.80        2.69                  0.39             1.82   \n",
       "\n",
       "   Color intensity   Hue  OD280/OD315 of diluted wines  Proline  \n",
       "0             5.64  1.04                          3.92     1065  \n",
       "1             4.38  1.05                          3.40     1050  \n",
       "2             5.68  1.03                          3.17     1185  \n",
       "3             7.80  0.86                          3.45     1480  \n",
       "4             4.32  1.04                          2.93      735  "
      ]
     },
     "execution_count": 2,
     "metadata": {},
     "output_type": "execute_result"
    }
   ],
   "source": [
    "df = pd.read_csv('https://archive.ics.uci.edu/ml/'\n",
    "                      'machine-learning-databases/wine/wine.data',\n",
    "                      header=None)\n",
    "df.columns = ['Class label', 'Alcohol', 'Malic acid', 'Ash',\n",
    "                   'Alcalinity of ash', 'Magnesium', 'Total phenols',\n",
    "                   'Flavanoids', 'Nonflavanoid phenols', 'Proanthocyanins',\n",
    "                   'Color intensity', 'Hue', 'OD280/OD315 of diluted wines',\n",
    "                   'Proline']\n",
    "df.head()"
   ]
  },
  {
   "cell_type": "code",
   "execution_count": null,
   "metadata": {
    "ExecuteTime": {
     "end_time": "2022-05-31T02:18:19.417495Z",
     "start_time": "2022-05-31T02:18:18.743354Z"
    },
    "id": "a_6avTytHWEq"
   },
   "outputs": [],
   "source": [
    "from sklearn.preprocessing import LabelEncoder\n",
    "from sklearn.model_selection import train_test_split\n",
    "\n",
    "# 0으로 채워진 넘파이 X 배열 생성\n",
    "\n",
    "# X값에 데이터 적용\n",
    "\n",
    "# y값 설정\n"
   ]
  },
  {
   "cell_type": "code",
   "execution_count": null,
   "metadata": {
    "ExecuteTime": {
     "end_time": "2022-05-31T02:18:19.439909Z",
     "start_time": "2022-05-31T02:18:19.417495Z"
    },
    "id": "ODwv1w2BHksK"
   },
   "outputs": [],
   "source": []
  },
  {
   "cell_type": "markdown",
   "metadata": {
    "id": "lpFRc0e2WdCl"
   },
   "source": [
    "# LGBM"
   ]
  },
  {
   "cell_type": "code",
   "execution_count": null,
   "metadata": {
    "ExecuteTime": {
     "end_time": "2022-05-31T02:18:19.711953Z",
     "start_time": "2022-05-31T02:18:19.455911Z"
    },
    "id": "sIGvF7UgHyb7"
   },
   "outputs": [],
   "source": [
    "# LGBM\n",
    "from lightgbm import LGBMClassifier\n",
    "\n",
    "\n",
    "model = LGBMClassifier(max_depth = 10,\n",
    "                       learning_rate = 0.01,\n",
    "                       n_estimators  = 400,\n",
    "                       min_child_samples = 20, \n",
    "                       num_leaves = 31,     \n",
    "                       objective = 'multiclass',                    \n",
    "                       boosting = 'gbdt',                          \n",
    "                       metric = 'multi_logloss',                     \n",
    "                       scale_pos_weight = 1)     "
   ]
  },
  {
   "cell_type": "code",
   "execution_count": null,
   "metadata": {
    "ExecuteTime": {
     "end_time": "2022-05-31T02:18:21.352569Z",
     "start_time": "2022-05-31T02:18:19.711953Z"
    },
    "id": "8KBDVSwtHmRS"
   },
   "outputs": [],
   "source": [
    "# K-겹 교차검증\n",
    "from sklearn.model_selection import cross_val_score\n",
    "\n",
    "\n",
    "print(f'K-겹 교차검증 Acc : {scores.mean() : .3f} (+/- {scores.std():.3f})')"
   ]
  },
  {
   "cell_type": "code",
   "execution_count": null,
   "metadata": {
    "ExecuteTime": {
     "end_time": "2022-05-31T02:18:21.374009Z",
     "start_time": "2022-05-31T02:18:21.352569Z"
    },
    "id": "JFMBmwYLHn77"
   },
   "outputs": [],
   "source": [
    "# 스코어\n",
    "\n",
    "print(f'스코어 Acc : {train_score : .3f} {test_score : .3f}')"
   ]
  },
  {
   "cell_type": "markdown",
   "metadata": {
    "ExecuteTime": {
     "end_time": "2022-05-30T06:43:05.052486Z",
     "start_time": "2022-05-30T06:43:05.035479Z"
    },
    "id": "yxteAzPrWdCo"
   },
   "source": [
    "# xgbm"
   ]
  },
  {
   "cell_type": "markdown",
   "metadata": {
    "id": "TyKWpspVWdCo"
   },
   "source": [
    "* `핵심 파라미터`\n",
    "    * General parameters - \n",
    "    * Booster parameters - .\n",
    "    * Learning task parameters - \n",
    "\n",
    "* `General parameters`\n",
    "    * booster - boost 타입\n",
    "        - [gbtree*, gblinear, dart]\n",
    "    * verbose - 출력메세지\n",
    "        - 0 (silent), 1 (warning), 2 (info), 3 (debug)\n",
    "\n",
    "* `Tree Boost parameters`\n",
    "    * eta - 학습률\n",
    "        - default = 0.3, [0~1] \n",
    "    * gamma - min-split-loss : gamma 가 커질수록 가중치 변동이 적음\n",
    "        - default = 0, [0~무한)\n",
    "    *  max_depth - 트리 최대 깊이\n",
    "        - default = 6, [0~무한)\n",
    "        - .\n",
    "    * min_child_weight - child 노드의 최소 가중치\n",
    "        - default = 1, [0~무한)\n",
    "        - .\n",
    "    * max_delta_step - 최대 가중치 변동량\n",
    "        - default = 0, [0~무한)\n",
    "        - .\n",
    "    * subsample - train instances 의 비율\n",
    "        - default = 1, (0~1]\n",
    "        - .\n",
    "        - .\n",
    "    * lambda - 가중치의 L2 정규화 텀\n",
    "        - default = 1\n",
    "        - .\n",
    "    * alpha - 가중치의 L1 정규화 텀\n",
    "        - default = 0\n",
    "        - .\n",
    "    * max_leaves - 최대 노드 수\n",
    "        - default = 0\n",
    "        - .\n",
    "        \n",
    "* `Linear Boost parameters`\n",
    "    * lambda - default = 0\n",
    "    * alpha - default = 0\n",
    "    * feature_selector\n",
    "        - default = cyclic, [cyclic, shuffle, random, greedy]\n",
    "\n",
    "* `Learning Task parameters`\n",
    "    * objective - 목적\n",
    "        - default = reg:squarederror - 제곱오차 회귀\n",
    "        - reg:logistic - 로지스틱 회귀\n",
    "        - binary:logistic - 로지스틱 이진분류\n",
    "        - binary:logitraw - 로지스틱 이진분류(회귀)\n",
    "        - multi:softmax - 소프트맥스 다중 분류\n",
    "        - multi:softprob - 소프트맥스와 같지만 output 이 matrix 임\n",
    "    * eval_metric - 평가 지표\n",
    "        - rmse : root mean square error\n",
    "        - rmsle : root mean square log error\n",
    "        - mae : mean absolute error\n",
    "        - mape : mean absolute percentage error\n",
    "        - mphe : mean Pseudo Huber error\n",
    "        - logloss \n",
    "        - error : 분류 #(wrong cases)/#(all cases)\n",
    "        - merror : 다중 분류 error\n",
    "        - auc : 분류\n",
    "        - logloss\n",
    "        - mlogloss - 다중 클래스 logloss.\n",
    "        - 직접제작한 함수 가능"
   ]
  },
  {
   "cell_type": "code",
   "execution_count": null,
   "metadata": {
    "ExecuteTime": {
     "end_time": "2022-05-31T02:18:21.584403Z",
     "start_time": "2022-05-31T02:18:21.374009Z"
    },
    "id": "wP5JmSSYWdCp"
   },
   "outputs": [],
   "source": [
    "from xgboost import XGBClassifier\n"
   ]
  },
  {
   "cell_type": "code",
   "execution_count": null,
   "metadata": {
    "ExecuteTime": {
     "end_time": "2022-05-31T02:18:21.606084Z",
     "start_time": "2022-05-31T02:18:21.584403Z"
    },
    "id": "M30pJQj4WdCp"
   },
   "outputs": [],
   "source": []
  },
  {
   "cell_type": "code",
   "execution_count": null,
   "metadata": {
    "ExecuteTime": {
     "end_time": "2022-05-31T02:18:21.622073Z",
     "start_time": "2022-05-31T02:18:21.606084Z"
    },
    "id": "Gmq5ED7TWdCp"
   },
   "outputs": [],
   "source": []
  },
  {
   "cell_type": "code",
   "execution_count": null,
   "metadata": {
    "ExecuteTime": {
     "end_time": "2022-05-31T02:18:22.973020Z",
     "start_time": "2022-05-31T02:18:21.622073Z"
    },
    "id": "e5Q_waOzWdCq"
   },
   "outputs": [],
   "source": []
  },
  {
   "cell_type": "code",
   "execution_count": null,
   "metadata": {
    "ExecuteTime": {
     "end_time": "2022-05-31T02:18:46.363732Z",
     "start_time": "2022-05-31T02:18:45.655671Z"
    },
    "id": "GhtBwvuOWdCq"
   },
   "outputs": [],
   "source": [
    "# K-겹 교차검증\n",
    "\n",
    "\n",
    "print(f'K-겹 교차검증 Acc : {scores.mean() : .3f} (+/- {scores.std():.3f})')"
   ]
  },
  {
   "cell_type": "code",
   "execution_count": null,
   "metadata": {
    "ExecuteTime": {
     "end_time": "2022-05-31T02:19:11.187259Z",
     "start_time": "2022-05-31T02:19:11.167602Z"
    },
    "id": "PPnTMszkWdCq"
   },
   "outputs": [],
   "source": [
    "# 스코어\n",
    "\n",
    "print(f'스코어 Acc : {train_score : .3f} {test_score : .3f}')"
   ]
  }
 ],
 "metadata": {
  "colab": {
   "collapsed_sections": [],
   "name": "2조_boosting_실습.ipynb",
   "provenance": []
  },
  "kernelspec": {
   "display_name": "Python 3 (ipykernel)",
   "language": "python",
   "name": "python3"
  },
  "language_info": {
   "codemirror_mode": {
    "name": "ipython",
    "version": 3
   },
   "file_extension": ".py",
   "mimetype": "text/x-python",
   "name": "python",
   "nbconvert_exporter": "python",
   "pygments_lexer": "ipython3",
   "version": "3.7.10"
  },
  "toc": {
   "base_numbering": 1,
   "nav_menu": {},
   "number_sections": true,
   "sideBar": true,
   "skip_h1_title": false,
   "title_cell": "Table of Contents",
   "title_sidebar": "Contents",
   "toc_cell": false,
   "toc_position": {},
   "toc_section_display": true,
   "toc_window_display": false
  }
 },
 "nbformat": 4,
 "nbformat_minor": 1
}
