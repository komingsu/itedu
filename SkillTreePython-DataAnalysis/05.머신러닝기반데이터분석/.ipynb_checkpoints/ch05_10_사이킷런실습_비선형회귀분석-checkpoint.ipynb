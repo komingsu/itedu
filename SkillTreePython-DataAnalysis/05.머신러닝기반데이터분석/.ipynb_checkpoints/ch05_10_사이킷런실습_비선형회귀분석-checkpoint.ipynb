{
 "cells": [
  {
   "cell_type": "markdown",
   "metadata": {
    "id": "wWpXZc2fi39U"
   },
   "source": [
    "# ch05.10. 사이킷런 실습 - 비선형회귀분석\n",
    "\n",
    "---\n",
    "* 날짜: 2022-05-23\n",
    "* 이름: 고민수\n",
    "\n",
    "## 학습내용\n",
    "    - 다항식을 이용한 회귀 분석을 진행한다.\n",
    "    - 랜덤 포레스트를 이용해 비선형 회귀를 진행한다.\n",
    "    - 앙상블 학습에 대해 이해한다."
   ]
  },
  {
   "cell_type": "markdown",
   "metadata": {
    "id": "kByKdJPApy6P"
   },
   "source": [
    "```\n",
    "import numpy as np\n",
    "import pandas as pd\n",
    "import seaborn as sns\n",
    "import matplotlib.pyplot as plt\n",
    "```"
   ]
  },
  {
   "cell_type": "code",
   "execution_count": 6,
   "metadata": {
    "id": "YW4q7CsxPlQh"
   },
   "outputs": [],
   "source": [
    "import numpy as np\n",
    "import pandas as pd\n",
    "import seaborn as sns\n",
    "import matplotlib.pyplot as plt\n",
    "%matplotlib inline"
   ]
  },
  {
   "cell_type": "code",
   "execution_count": 3,
   "metadata": {
    "id": "YIUkCYsGEVIh"
   },
   "outputs": [],
   "source": [
    "from Data_loader import *\n",
    "from Metrics import *"
   ]
  },
  {
   "cell_type": "markdown",
   "metadata": {
    "id": "GYfR9QxDOEIy"
   },
   "source": [
    "## **선형 회귀 모델을 다항 회귀로 변환**\n",
    "---"
   ]
  },
  {
   "cell_type": "markdown",
   "metadata": {
    "id": "_dvcAIL3C3vE"
   },
   "source": [
    "### **| 간단한 데이터에 대한 다항 회귀**"
   ]
  },
  {
   "cell_type": "markdown",
   "metadata": {
    "id": "OhR4fxMkCt-3"
   },
   "source": [
    "#### **데이터**\n",
    "```\n",
    "X = np.array([258.0, 270.0, 294.0, \n",
    "              320.0, 342.0, 368.0, \n",
    "              396.0, 446.0, 480.0, 586.0]).reshape(-1, 1)\n",
    "\n",
    "y = np.array([236.4, 234.4, 252.8, \n",
    "              298.6, 314.2, 342.2, \n",
    "              360.8, 368.0, 391.2,\n",
    "              390.8])\n",
    "```"
   ]
  },
  {
   "cell_type": "markdown",
   "metadata": {
    "id": "GMZTe-AcDRFw"
   },
   "source": [
    "* 데이터 생성"
   ]
  },
  {
   "cell_type": "code",
   "execution_count": 7,
   "metadata": {
    "id": "3Ycs4pI60zPo"
   },
   "outputs": [
    {
     "data": {
      "text/plain": [
       "((10, 1), (10,))"
      ]
     },
     "execution_count": 7,
     "metadata": {},
     "output_type": "execute_result"
    }
   ],
   "source": [
    "X = np.array([258.0, 270.0, 294.0, \n",
    "              320.0, 342.0, 368.0, \n",
    "              396.0, 446.0, 480.0, 586.0]).reshape(-1, 1)\n",
    "\n",
    "y = np.array([236.4, 234.4, 252.8, \n",
    "              298.6, 314.2, 342.2, \n",
    "              360.8, 368.0, 391.2,\n",
    "              390.8])\n",
    "\n",
    "X.shape, y.shape"
   ]
  },
  {
   "cell_type": "markdown",
   "metadata": {
    "id": "kJKrGZF0C1du"
   },
   "source": [
    "* 시각화"
   ]
  },
  {
   "cell_type": "code",
   "execution_count": 8,
   "metadata": {
    "id": "TaZLcFNu3gRm"
   },
   "outputs": [
    {
     "data": {
      "text/plain": [
       "<matplotlib.collections.PathCollection at 0x2699f4ea148>"
      ]
     },
     "execution_count": 8,
     "metadata": {},
     "output_type": "execute_result"
    },
    {
     "data": {
      "image/png": "[encoded data removed]",
      "text/plain": [
       "<Figure size 432x288 with 1 Axes>"
      ]
     },
     "metadata": {
      "needs_background": "light"
     },
     "output_type": "display_data"
    }
   ],
   "source": [
    "plt.scatter(X, y)"
   ]
  },
  {
   "cell_type": "markdown",
   "metadata": {
    "id": "sjMo6aNaDCIU"
   },
   "source": [
    "#### **선형 특성 학습**"
   ]
  },
  {
   "cell_type": "code",
   "execution_count": 26,
   "metadata": {
    "id": "QK57ELPT0-9M"
   },
   "outputs": [
    {
     "data": {
      "text/plain": [
       "LinearRegression()"
      ]
     },
     "execution_count": 26,
     "metadata": {},
     "output_type": "execute_result"
    }
   ],
   "source": [
    "from sklearn.linear_model import LinearRegression\n",
    "lr1 = LinearRegression()\n",
    "lr1.fit(X,y)"
   ]
  },
  {
   "cell_type": "markdown",
   "metadata": {
    "id": "rvuZSvRvzmhT"
   },
   "source": [
    "#### **이차항 특성 학습**\n"
   ]
  },
  {
   "cell_type": "code",
   "execution_count": 10,
   "metadata": {
    "id": "zaVfSiPW1DyA"
   },
   "outputs": [
    {
     "data": {
      "text/plain": [
       "[<matplotlib.lines.Line2D at 0x269a071b7c8>]"
      ]
     },
     "execution_count": 10,
     "metadata": {},
     "output_type": "execute_result"
    },
    {
     "data": {
      "image/png": "[encoded data removed]",
      "text/plain": [
       "<Figure size 432x288 with 1 Axes>"
      ]
     },
     "metadata": {
      "needs_background": "light"
     },
     "output_type": "display_data"
    }
   ],
   "source": [
    "plt.scatter(X, y)\n",
    "y_pred = lr1.predict(X)\n",
    "plt.plot(X, y_pred)"
   ]
  },
  {
   "cell_type": "markdown",
   "metadata": {
    "id": "Tlyc4sYWH3Zg"
   },
   "source": [
    "* X 데이터 변환"
   ]
  },
  {
   "cell_type": "code",
   "execution_count": 13,
   "metadata": {
    "id": "7TE8lUHfz86X"
   },
   "outputs": [
    {
     "data": {
      "text/plain": [
       "((10, 1), (10, 3))"
      ]
     },
     "execution_count": 13,
     "metadata": {},
     "output_type": "execute_result"
    }
   ],
   "source": [
    "from sklearn.preprocessing import PolynomialFeatures\n",
    "\n",
    "quad = PolynomialFeatures(degree= 2)\n",
    "\n",
    "X_quad = quad.fit_transform(X)\n",
    "X.shape, X_quad.shape"
   ]
  },
  {
   "cell_type": "code",
   "execution_count": 22,
   "metadata": {},
   "outputs": [
    {
     "data": {
      "text/html": [
       "<div>\n",
       "<style scoped>\n",
       "    .dataframe tbody tr th:only-of-type {\n",
       "        vertical-align: middle;\n",
       "    }\n",
       "\n",
       "    .dataframe tbody tr th {\n",
       "        vertical-align: top;\n",
       "    }\n",
       "\n",
       "    .dataframe thead th {\n",
       "        text-align: right;\n",
       "    }\n",
       "</style>\n",
       "<table border=\"1\" class=\"dataframe\">\n",
       "  <thead>\n",
       "    <tr style=\"text-align: right;\">\n",
       "      <th></th>\n",
       "      <th>1</th>\n",
       "      <th>x0</th>\n",
       "      <th>x0^2</th>\n",
       "    </tr>\n",
       "  </thead>\n",
       "  <tbody>\n",
       "    <tr>\n",
       "      <th>0</th>\n",
       "      <td>1.0</td>\n",
       "      <td>258.0</td>\n",
       "      <td>66564.0</td>\n",
       "    </tr>\n",
       "    <tr>\n",
       "      <th>1</th>\n",
       "      <td>1.0</td>\n",
       "      <td>270.0</td>\n",
       "      <td>72900.0</td>\n",
       "    </tr>\n",
       "    <tr>\n",
       "      <th>2</th>\n",
       "      <td>1.0</td>\n",
       "      <td>294.0</td>\n",
       "      <td>86436.0</td>\n",
       "    </tr>\n",
       "    <tr>\n",
       "      <th>3</th>\n",
       "      <td>1.0</td>\n",
       "      <td>320.0</td>\n",
       "      <td>102400.0</td>\n",
       "    </tr>\n",
       "    <tr>\n",
       "      <th>4</th>\n",
       "      <td>1.0</td>\n",
       "      <td>342.0</td>\n",
       "      <td>116964.0</td>\n",
       "    </tr>\n",
       "    <tr>\n",
       "      <th>5</th>\n",
       "      <td>1.0</td>\n",
       "      <td>368.0</td>\n",
       "      <td>135424.0</td>\n",
       "    </tr>\n",
       "    <tr>\n",
       "      <th>6</th>\n",
       "      <td>1.0</td>\n",
       "      <td>396.0</td>\n",
       "      <td>156816.0</td>\n",
       "    </tr>\n",
       "    <tr>\n",
       "      <th>7</th>\n",
       "      <td>1.0</td>\n",
       "      <td>446.0</td>\n",
       "      <td>198916.0</td>\n",
       "    </tr>\n",
       "    <tr>\n",
       "      <th>8</th>\n",
       "      <td>1.0</td>\n",
       "      <td>480.0</td>\n",
       "      <td>230400.0</td>\n",
       "    </tr>\n",
       "    <tr>\n",
       "      <th>9</th>\n",
       "      <td>1.0</td>\n",
       "      <td>586.0</td>\n",
       "      <td>343396.0</td>\n",
       "    </tr>\n",
       "  </tbody>\n",
       "</table>\n",
       "</div>"
      ],
      "text/plain": [
       "     1     x0      x0^2\n",
       "0  1.0  258.0   66564.0\n",
       "1  1.0  270.0   72900.0\n",
       "2  1.0  294.0   86436.0\n",
       "3  1.0  320.0  102400.0\n",
       "4  1.0  342.0  116964.0\n",
       "5  1.0  368.0  135424.0\n",
       "6  1.0  396.0  156816.0\n",
       "7  1.0  446.0  198916.0\n",
       "8  1.0  480.0  230400.0\n",
       "9  1.0  586.0  343396.0"
      ]
     },
     "execution_count": 22,
     "metadata": {},
     "output_type": "execute_result"
    }
   ],
   "source": [
    "quad.get_feature_names_out()\n",
    "pd.DataFrame(X_quad, columns=quad.get_feature_names_out())"
   ]
  },
  {
   "cell_type": "markdown",
   "metadata": {
    "id": "DR79eUEsH8gM"
   },
   "source": [
    "* 학습"
   ]
  },
  {
   "cell_type": "code",
   "execution_count": 23,
   "metadata": {
    "id": "831zjGBc6kGX"
   },
   "outputs": [
    {
     "data": {
      "text/plain": [
       "LinearRegression()"
      ]
     },
     "execution_count": 23,
     "metadata": {},
     "output_type": "execute_result"
    }
   ],
   "source": [
    "lr2 = LinearRegression()\n",
    "lr2.fit(X_quad, y)"
   ]
  },
  {
   "cell_type": "markdown",
   "metadata": {
    "id": "tyHcbw-9HzF8"
   },
   "source": [
    "#### **테스트셋 성능 비교**"
   ]
  },
  {
   "cell_type": "code",
   "execution_count": 25,
   "metadata": {
    "id": "pKQsac_KAQz0"
   },
   "outputs": [
    {
     "data": {
      "text/html": [
       "<div>\n",
       "<style scoped>\n",
       "    .dataframe tbody tr th:only-of-type {\n",
       "        vertical-align: middle;\n",
       "    }\n",
       "\n",
       "    .dataframe tbody tr th {\n",
       "        vertical-align: top;\n",
       "    }\n",
       "\n",
       "    .dataframe thead th {\n",
       "        text-align: right;\n",
       "    }\n",
       "</style>\n",
       "<table border=\"1\" class=\"dataframe\">\n",
       "  <thead>\n",
       "    <tr style=\"text-align: right;\">\n",
       "      <th></th>\n",
       "      <th>mse</th>\n",
       "      <th>rmse</th>\n",
       "      <th>mae</th>\n",
       "      <th>nmae</th>\n",
       "      <th>mape</th>\n",
       "      <th>r2</th>\n",
       "    </tr>\n",
       "  </thead>\n",
       "  <tbody>\n",
       "    <tr>\n",
       "      <th>linear</th>\n",
       "      <td>569.78</td>\n",
       "      <td>23.870</td>\n",
       "      <td>21.898</td>\n",
       "      <td>0.069</td>\n",
       "      <td>7.035</td>\n",
       "      <td>0.832</td>\n",
       "    </tr>\n",
       "    <tr>\n",
       "      <th>quad</th>\n",
       "      <td>61.33</td>\n",
       "      <td>7.831</td>\n",
       "      <td>6.379</td>\n",
       "      <td>0.020</td>\n",
       "      <td>2.213</td>\n",
       "      <td>0.982</td>\n",
       "    </tr>\n",
       "  </tbody>\n",
       "</table>\n",
       "</div>"
      ],
      "text/plain": [
       "           mse    rmse     mae   nmae   mape     r2\n",
       "linear  569.78  23.870  21.898  0.069  7.035  0.832\n",
       "quad     61.33   7.831   6.379  0.020  2.213  0.982"
      ]
     },
     "execution_count": 25,
     "metadata": {},
     "output_type": "execute_result"
    }
   ],
   "source": [
    "y_pred1 = lr1.predict(X)\n",
    "lr1_scores = regression_scores(y, y_pred1)\n",
    "\n",
    "y_pred2 = lr2.predict(X_quad)\n",
    "lr2_scores = regression_scores(y, y_pred2)\n",
    "\n",
    "pd.DataFrame([lr1_scores, lr2_scores], index=[\"linear\", \"quad\"])"
   ]
  },
  {
   "cell_type": "markdown",
   "metadata": {
    "id": "4Ef6kxh6H1hs"
   },
   "source": [
    "#### **그래프 시각화**"
   ]
  },
  {
   "cell_type": "code",
   "execution_count": 85,
   "metadata": {
    "id": "p4WIs-nQ1VKG"
   },
   "outputs": [
    {
     "ename": "ValueError",
     "evalue": "X has 3 features, but LinearRegression is expecting 1 features as input.",
     "output_type": "error",
     "traceback": [
      "\u001b[1;31m---------------------------------------------------------------------------\u001b[0m",
      "\u001b[1;31mValueError\u001b[0m                                Traceback (most recent call last)",
      "\u001b[1;32m<ipython-input-85-d5bfdc04acfc>\u001b[0m in \u001b[0;36m<module>\u001b[1;34m\u001b[0m\n\u001b[0;32m      2\u001b[0m \u001b[0mplt\u001b[0m\u001b[1;33m.\u001b[0m\u001b[0mscatter\u001b[0m\u001b[1;33m(\u001b[0m\u001b[0mX\u001b[0m\u001b[1;33m,\u001b[0m \u001b[0my\u001b[0m\u001b[1;33m,\u001b[0m \u001b[0mlabel\u001b[0m\u001b[1;33m=\u001b[0m\u001b[1;34m\"trainset\"\u001b[0m\u001b[1;33m,\u001b[0m \u001b[0mc\u001b[0m\u001b[1;33m=\u001b[0m\u001b[1;34m\"k\"\u001b[0m\u001b[1;33m)\u001b[0m\u001b[1;33m\u001b[0m\u001b[1;33m\u001b[0m\u001b[0m\n\u001b[0;32m      3\u001b[0m \u001b[0mplt\u001b[0m\u001b[1;33m.\u001b[0m\u001b[0mplot\u001b[0m\u001b[1;33m(\u001b[0m\u001b[0mX\u001b[0m\u001b[1;33m,\u001b[0m \u001b[0mlr1\u001b[0m\u001b[1;33m.\u001b[0m\u001b[0mpredict\u001b[0m\u001b[1;33m(\u001b[0m\u001b[0mX\u001b[0m\u001b[1;33m)\u001b[0m\u001b[1;33m,\u001b[0m \u001b[0mlabel\u001b[0m\u001b[1;33m=\u001b[0m\u001b[1;34m\"linear\"\u001b[0m\u001b[1;33m)\u001b[0m\u001b[1;33m\u001b[0m\u001b[1;33m\u001b[0m\u001b[0m\n\u001b[1;32m----> 4\u001b[1;33m \u001b[0mplt\u001b[0m\u001b[1;33m.\u001b[0m\u001b[0mplot\u001b[0m\u001b[1;33m(\u001b[0m\u001b[0mX_every\u001b[0m\u001b[1;33m,\u001b[0m \u001b[0mlr2\u001b[0m\u001b[1;33m.\u001b[0m\u001b[0mpredict\u001b[0m\u001b[1;33m(\u001b[0m\u001b[0mquad\u001b[0m\u001b[1;33m.\u001b[0m\u001b[0mfit_transform\u001b[0m\u001b[1;33m(\u001b[0m\u001b[0mX_every\u001b[0m\u001b[1;33m)\u001b[0m\u001b[1;33m)\u001b[0m\u001b[1;33m,\u001b[0m \u001b[0mlabel\u001b[0m\u001b[1;33m=\u001b[0m\u001b[1;34m\"quad\"\u001b[0m\u001b[1;33m)\u001b[0m\u001b[1;33m\u001b[0m\u001b[1;33m\u001b[0m\u001b[0m\n\u001b[0m\u001b[0;32m      5\u001b[0m \u001b[0mplt\u001b[0m\u001b[1;33m.\u001b[0m\u001b[0mlegend\u001b[0m\u001b[1;33m(\u001b[0m\u001b[1;33m)\u001b[0m\u001b[1;33m\u001b[0m\u001b[1;33m\u001b[0m\u001b[0m\n\u001b[0;32m      6\u001b[0m \u001b[0mplt\u001b[0m\u001b[1;33m.\u001b[0m\u001b[0mshow\u001b[0m\u001b[1;33m(\u001b[0m\u001b[1;33m)\u001b[0m\u001b[1;33m\u001b[0m\u001b[1;33m\u001b[0m\u001b[0m\n",
      "\u001b[1;32m~\\anaconda3\\envs\\deep_tf\\lib\\site-packages\\sklearn\\linear_model\\_base.py\u001b[0m in \u001b[0;36mpredict\u001b[1;34m(self, X)\u001b[0m\n\u001b[0;32m    360\u001b[0m             \u001b[0mReturns\u001b[0m \u001b[0mpredicted\u001b[0m \u001b[0mvalues\u001b[0m\u001b[1;33m.\u001b[0m\u001b[1;33m\u001b[0m\u001b[1;33m\u001b[0m\u001b[0m\n\u001b[0;32m    361\u001b[0m         \"\"\"\n\u001b[1;32m--> 362\u001b[1;33m         \u001b[1;32mreturn\u001b[0m \u001b[0mself\u001b[0m\u001b[1;33m.\u001b[0m\u001b[0m_decision_function\u001b[0m\u001b[1;33m(\u001b[0m\u001b[0mX\u001b[0m\u001b[1;33m)\u001b[0m\u001b[1;33m\u001b[0m\u001b[1;33m\u001b[0m\u001b[0m\n\u001b[0m\u001b[0;32m    363\u001b[0m \u001b[1;33m\u001b[0m\u001b[0m\n\u001b[0;32m    364\u001b[0m     \u001b[0m_preprocess_data\u001b[0m \u001b[1;33m=\u001b[0m \u001b[0mstaticmethod\u001b[0m\u001b[1;33m(\u001b[0m\u001b[0m_preprocess_data\u001b[0m\u001b[1;33m)\u001b[0m\u001b[1;33m\u001b[0m\u001b[1;33m\u001b[0m\u001b[0m\n",
      "\u001b[1;32m~\\anaconda3\\envs\\deep_tf\\lib\\site-packages\\sklearn\\linear_model\\_base.py\u001b[0m in \u001b[0;36m_decision_function\u001b[1;34m(self, X)\u001b[0m\n\u001b[0;32m    343\u001b[0m         \u001b[0mcheck_is_fitted\u001b[0m\u001b[1;33m(\u001b[0m\u001b[0mself\u001b[0m\u001b[1;33m)\u001b[0m\u001b[1;33m\u001b[0m\u001b[1;33m\u001b[0m\u001b[0m\n\u001b[0;32m    344\u001b[0m \u001b[1;33m\u001b[0m\u001b[0m\n\u001b[1;32m--> 345\u001b[1;33m         \u001b[0mX\u001b[0m \u001b[1;33m=\u001b[0m \u001b[0mself\u001b[0m\u001b[1;33m.\u001b[0m\u001b[0m_validate_data\u001b[0m\u001b[1;33m(\u001b[0m\u001b[0mX\u001b[0m\u001b[1;33m,\u001b[0m \u001b[0maccept_sparse\u001b[0m\u001b[1;33m=\u001b[0m\u001b[1;33m[\u001b[0m\u001b[1;34m\"csr\"\u001b[0m\u001b[1;33m,\u001b[0m \u001b[1;34m\"csc\"\u001b[0m\u001b[1;33m,\u001b[0m \u001b[1;34m\"coo\"\u001b[0m\u001b[1;33m]\u001b[0m\u001b[1;33m,\u001b[0m \u001b[0mreset\u001b[0m\u001b[1;33m=\u001b[0m\u001b[1;32mFalse\u001b[0m\u001b[1;33m)\u001b[0m\u001b[1;33m\u001b[0m\u001b[1;33m\u001b[0m\u001b[0m\n\u001b[0m\u001b[0;32m    346\u001b[0m         \u001b[1;32mreturn\u001b[0m \u001b[0msafe_sparse_dot\u001b[0m\u001b[1;33m(\u001b[0m\u001b[0mX\u001b[0m\u001b[1;33m,\u001b[0m \u001b[0mself\u001b[0m\u001b[1;33m.\u001b[0m\u001b[0mcoef_\u001b[0m\u001b[1;33m.\u001b[0m\u001b[0mT\u001b[0m\u001b[1;33m,\u001b[0m \u001b[0mdense_output\u001b[0m\u001b[1;33m=\u001b[0m\u001b[1;32mTrue\u001b[0m\u001b[1;33m)\u001b[0m \u001b[1;33m+\u001b[0m \u001b[0mself\u001b[0m\u001b[1;33m.\u001b[0m\u001b[0mintercept_\u001b[0m\u001b[1;33m\u001b[0m\u001b[1;33m\u001b[0m\u001b[0m\n\u001b[0;32m    347\u001b[0m \u001b[1;33m\u001b[0m\u001b[0m\n",
      "\u001b[1;32m~\\anaconda3\\envs\\deep_tf\\lib\\site-packages\\sklearn\\base.py\u001b[0m in \u001b[0;36m_validate_data\u001b[1;34m(self, X, y, reset, validate_separately, **check_params)\u001b[0m\n\u001b[0;32m    583\u001b[0m \u001b[1;33m\u001b[0m\u001b[0m\n\u001b[0;32m    584\u001b[0m         \u001b[1;32mif\u001b[0m \u001b[1;32mnot\u001b[0m \u001b[0mno_val_X\u001b[0m \u001b[1;32mand\u001b[0m \u001b[0mcheck_params\u001b[0m\u001b[1;33m.\u001b[0m\u001b[0mget\u001b[0m\u001b[1;33m(\u001b[0m\u001b[1;34m\"ensure_2d\"\u001b[0m\u001b[1;33m,\u001b[0m \u001b[1;32mTrue\u001b[0m\u001b[1;33m)\u001b[0m\u001b[1;33m:\u001b[0m\u001b[1;33m\u001b[0m\u001b[1;33m\u001b[0m\u001b[0m\n\u001b[1;32m--> 585\u001b[1;33m             \u001b[0mself\u001b[0m\u001b[1;33m.\u001b[0m\u001b[0m_check_n_features\u001b[0m\u001b[1;33m(\u001b[0m\u001b[0mX\u001b[0m\u001b[1;33m,\u001b[0m \u001b[0mreset\u001b[0m\u001b[1;33m=\u001b[0m\u001b[0mreset\u001b[0m\u001b[1;33m)\u001b[0m\u001b[1;33m\u001b[0m\u001b[1;33m\u001b[0m\u001b[0m\n\u001b[0m\u001b[0;32m    586\u001b[0m \u001b[1;33m\u001b[0m\u001b[0m\n\u001b[0;32m    587\u001b[0m         \u001b[1;32mreturn\u001b[0m \u001b[0mout\u001b[0m\u001b[1;33m\u001b[0m\u001b[1;33m\u001b[0m\u001b[0m\n",
      "\u001b[1;32m~\\anaconda3\\envs\\deep_tf\\lib\\site-packages\\sklearn\\base.py\u001b[0m in \u001b[0;36m_check_n_features\u001b[1;34m(self, X, reset)\u001b[0m\n\u001b[0;32m    399\u001b[0m         \u001b[1;32mif\u001b[0m \u001b[0mn_features\u001b[0m \u001b[1;33m!=\u001b[0m \u001b[0mself\u001b[0m\u001b[1;33m.\u001b[0m\u001b[0mn_features_in_\u001b[0m\u001b[1;33m:\u001b[0m\u001b[1;33m\u001b[0m\u001b[1;33m\u001b[0m\u001b[0m\n\u001b[0;32m    400\u001b[0m             raise ValueError(\n\u001b[1;32m--> 401\u001b[1;33m                 \u001b[1;34mf\"X has {n_features} features, but {self.__class__.__name__} \"\u001b[0m\u001b[1;33m\u001b[0m\u001b[1;33m\u001b[0m\u001b[0m\n\u001b[0m\u001b[0;32m    402\u001b[0m                 \u001b[1;34mf\"is expecting {self.n_features_in_} features as input.\"\u001b[0m\u001b[1;33m\u001b[0m\u001b[1;33m\u001b[0m\u001b[0m\n\u001b[0;32m    403\u001b[0m             )\n",
      "\u001b[1;31mValueError\u001b[0m: X has 3 features, but LinearRegression is expecting 1 features as input."
     ]
    },
    {
     "data": {
      "image/png": "[encoded data removed]",
      "text/plain": [
       "<Figure size 432x288 with 1 Axes>"
      ]
     },
     "metadata": {
      "needs_background": "light"
     },
     "output_type": "display_data"
    }
   ],
   "source": [
    "X_every = np.arange(250, 600, 0.1).reshape(-1,1)\n",
    "plt.scatter(X, y, label=\"trainset\", c=\"k\")\n",
    "plt.plot(X, lr1.predict(X), label=\"linear\")\n",
    "plt.plot(X_every, lr2.predict(quad.fit_transform(X_every)), label=\"quad\")\n",
    "plt.legend()\n",
    "plt.show()"
   ]
  },
  {
   "cell_type": "markdown",
   "metadata": {
    "id": "B4BejB3gxzqR"
   },
   "source": [
    "### **| 주택 데이터를 이용한 비선형 회귀 분석**\n"
   ]
  },
  {
   "cell_type": "markdown",
   "metadata": {
    "id": "SwHpIs02xtKM"
   },
   "source": [
    "\n",
    "#### **주택 데이터셋**\n",
    "\n",
    "[https://archive.ics.uci.edu/ml/datasets/Housing](https://archive.ics.uci.edu/ml/datasets/Housing)\n",
    "\n",
    "    \n",
    "<pre>\n",
    "01. CRIM     도시의 인당 범죄율\n",
    "02. ZN       2만 5,0000평방 피트가 넘는 주택 비율\n",
    "03. INDUS    도시에서 소매 업종이 아닌 지역 비율\n",
    "04. CHAS     찰스 강 인접 여부(강 주변=1, 그외=0)\n",
    "05. NOX      일산화질소 농도(10ppm당)\n",
    "06. RM       주택의 평균 방 개수\n",
    "07. AGE      1940년 이전에 지어진 자가 주택 비율\n",
    "08. DIS      다섯 개의 보스턴 고용 센터까지 가중치가 적용된 거리\n",
    "09. RAD      방사형으로 뻗은 고속도로까지 접근성 지수\n",
    "10. TAX      10만 달러당 재산세율\n",
    "11. PTRATIO  도시의 학생-교사 비율\n",
    "12. B        1000(Bk - 0.63)^2 도시의 아프리카계 미국인 비율\n",
    "13. LSTAT    저소득층 비율\n",
    "14. MEDV     자가 주택의 중간가격 (단위 $1000s)\n",
    "</pre>\n",
    "\n"
   ]
  },
  {
   "cell_type": "markdown",
   "metadata": {
    "id": "an_F7hczTA6u"
   },
   "source": [
    "* 데이터 불러오기\n"
   ]
  },
  {
   "cell_type": "code",
   "execution_count": 109,
   "metadata": {
    "id": "hyZDJJVdJ9--"
   },
   "outputs": [
    {
     "name": "stdout",
     "output_type": "stream",
     "text": [
      "(506, 14)\n"
     ]
    },
    {
     "data": {
      "text/plain": [
       "((404, 1), (102, 1), (404,), (102,))"
      ]
     },
     "execution_count": 109,
     "metadata": {},
     "output_type": "execute_result"
    }
   ],
   "source": [
    "X_train, X_test, y_train, y_test = housing_loader([\"LSTAT\"])\n",
    "X_train.shape, X_test.shape, y_train.shape, y_test.shape"
   ]
  },
  {
   "cell_type": "markdown",
   "metadata": {
    "id": "Edjyi6Ba-t5F"
   },
   "source": [
    "* 시각화"
   ]
  },
  {
   "cell_type": "code",
   "execution_count": 110,
   "metadata": {
    "colab": {
     "base_uri": "https://localhost:8080/",
     "height": 279
    },
    "id": "VTkitF4MNXWp",
    "outputId": "2c0f908f-a3b8-4ac7-9ae6-5c41a4d53649"
   },
   "outputs": [
    {
     "data": {
      "image/png": "[encoded data removed]",
      "text/plain": [
       "<Figure size 432x288 with 1 Axes>"
      ]
     },
     "metadata": {
      "needs_background": "light"
     },
     "output_type": "display_data"
    }
   ],
   "source": [
    "def draw_data():\n",
    "    plt.scatter(X_train,y_train , label='Train', color='lightgray')\n",
    "    plt.scatter(X_test,y_test , label='Test', color='lightgreen')\n",
    "    plt.xlabel('% lower status of the population [LSTAT]')\n",
    "    plt.ylabel('Price in $1000s [MEDV]')\n",
    "    plt.legend()\n",
    "draw_data()"
   ]
  },
  {
   "cell_type": "markdown",
   "metadata": {
    "id": "-lSaVrzH-0fd"
   },
   "source": [
    "#### **선형 모델 학습**"
   ]
  },
  {
   "cell_type": "code",
   "execution_count": 111,
   "metadata": {
    "id": "TgFDjdHP-yBz"
   },
   "outputs": [
    {
     "data": {
      "text/plain": [
       "LinearRegression()"
      ]
     },
     "execution_count": 111,
     "metadata": {},
     "output_type": "execute_result"
    }
   ],
   "source": [
    "from sklearn.linear_model import LinearRegression\n",
    "lr1 = LinearRegression()\n",
    "lr1.fit(X_train, y_train)"
   ]
  },
  {
   "cell_type": "markdown",
   "metadata": {
    "id": "1RTFnTJE-29P"
   },
   "source": [
    "#### **이차 다항 모델 학습**"
   ]
  },
  {
   "cell_type": "code",
   "execution_count": 116,
   "metadata": {
    "id": "XGz31zmn-yD9"
   },
   "outputs": [
    {
     "data": {
      "text/plain": [
       "(404, 3)"
      ]
     },
     "execution_count": 116,
     "metadata": {},
     "output_type": "execute_result"
    }
   ],
   "source": [
    "from sklearn.linear_model import PoissonRegressor\n",
    "quad = PolynomialFeatures(degree=2)\n",
    "X_quad = quad.fit_transform(X_train)\n",
    "lr2.fit(X_quad, y_train)\n",
    "X_quad.shape"
   ]
  },
  {
   "cell_type": "markdown",
   "metadata": {
    "id": "sUOLczvE-9vM"
   },
   "source": [
    "#### **삼차 다항 모델 학습**"
   ]
  },
  {
   "cell_type": "code",
   "execution_count": 113,
   "metadata": {
    "id": "69sIWqRt-yF8"
   },
   "outputs": [
    {
     "data": {
      "text/plain": [
       "(404, 4)"
      ]
     },
     "execution_count": 113,
     "metadata": {},
     "output_type": "execute_result"
    }
   ],
   "source": [
    "lr3 = LinearRegression()\n",
    "cubic = PolynomialFeatures(degree=3)\n",
    "X_cubic = cubic.fit_transform(X_train)\n",
    "lr3.fit(X_cubic, y_train)\n",
    "X_cubic.shape"
   ]
  },
  {
   "cell_type": "markdown",
   "metadata": {
    "id": "V3fvA5AZCci0"
   },
   "source": [
    "#### **테스트셋 성능 비교**"
   ]
  },
  {
   "cell_type": "code",
   "execution_count": 140,
   "metadata": {
    "id": "ljOPV5DGRBoR"
   },
   "outputs": [
    {
     "name": "stdout",
     "output_type": "stream",
     "text": [
      "(102,) (102,) (102,)\n"
     ]
    },
    {
     "data": {
      "text/html": [
       "<div>\n",
       "<style scoped>\n",
       "    .dataframe tbody tr th:only-of-type {\n",
       "        vertical-align: middle;\n",
       "    }\n",
       "\n",
       "    .dataframe tbody tr th {\n",
       "        vertical-align: top;\n",
       "    }\n",
       "\n",
       "    .dataframe thead th {\n",
       "        text-align: right;\n",
       "    }\n",
       "</style>\n",
       "<table border=\"1\" class=\"dataframe\">\n",
       "  <thead>\n",
       "    <tr style=\"text-align: right;\">\n",
       "      <th></th>\n",
       "      <th>mse</th>\n",
       "      <th>rmse</th>\n",
       "      <th>mae</th>\n",
       "      <th>nmae</th>\n",
       "      <th>mape</th>\n",
       "      <th>r2</th>\n",
       "    </tr>\n",
       "  </thead>\n",
       "  <tbody>\n",
       "    <tr>\n",
       "      <th>linear</th>\n",
       "      <td>0.463</td>\n",
       "      <td>0.680</td>\n",
       "      <td>0.501</td>\n",
       "      <td>0.721</td>\n",
       "      <td>671.832</td>\n",
       "      <td>0.537</td>\n",
       "    </tr>\n",
       "    <tr>\n",
       "      <th>quad</th>\n",
       "      <td>0.343</td>\n",
       "      <td>0.586</td>\n",
       "      <td>0.445</td>\n",
       "      <td>0.640</td>\n",
       "      <td>713.233</td>\n",
       "      <td>0.657</td>\n",
       "    </tr>\n",
       "    <tr>\n",
       "      <th>cubic</th>\n",
       "      <td>0.315</td>\n",
       "      <td>0.562</td>\n",
       "      <td>0.422</td>\n",
       "      <td>0.606</td>\n",
       "      <td>652.893</td>\n",
       "      <td>0.685</td>\n",
       "    </tr>\n",
       "  </tbody>\n",
       "</table>\n",
       "</div>"
      ],
      "text/plain": [
       "          mse   rmse    mae   nmae     mape     r2\n",
       "linear  0.463  0.680  0.501  0.721  671.832  0.537\n",
       "quad    0.343  0.586  0.445  0.640  713.233  0.657\n",
       "cubic   0.315  0.562  0.422  0.606  652.893  0.685"
      ]
     },
     "execution_count": 140,
     "metadata": {},
     "output_type": "execute_result"
    }
   ],
   "source": [
    "y_pred1 = lr1.predict(X_test)\n",
    "y_pred2 = lr2.predict( quad.fit_transform(X_test) )\n",
    "y_pred3 = lr3.predict( cubic.fit_transform(X_test) )\n",
    "\n",
    "print(y_pred1.shape, y_pred2.shape, y_pred3.shape)\n",
    "\n",
    "score1 = regression_scores(y_test, y_pred1)\n",
    "score2 = regression_scores(y_test, y_pred2)\n",
    "score3 = regression_scores(y_test, y_pred3)\n",
    "\n",
    "df_scores = pd.DataFrame([score1, score2,score3], index=[\"linear\", \"quad\",\"cubic\"])\n",
    "df_scores"
   ]
  },
  {
   "cell_type": "markdown",
   "metadata": {
    "id": "aNIjJ9smCf9F"
   },
   "source": [
    "#### **그래프 시각화**"
   ]
  },
  {
   "cell_type": "code",
   "execution_count": 134,
   "metadata": {
    "id": "irw_FWuHRPra"
   },
   "outputs": [
    {
     "data": {
      "image/png": "[encoded data removed]",
      "text/plain": [
       "<Figure size 432x288 with 1 Axes>"
      ]
     },
     "metadata": {
      "needs_background": "light"
     },
     "output_type": "display_data"
    }
   ],
   "source": [
    "draw_data()\n",
    "X_every = np.arange(-2, 4, 0.1).reshape(-1,1)\n",
    "plt.plot(X_every, lr1.predict(X_every), label=\"linear\",  linestyle=\":\")\n",
    "plt.plot(X_every, lr2.predict(quad.fit_transform(X_every)), label=\"quad\")\n",
    "plt.plot(X_every, lr3.predict(cubic.fit_transform(X_every)), label=\"cubic\")\n",
    "plt.legend()\n",
    "plt.show()"
   ]
  },
  {
   "cell_type": "markdown",
   "metadata": {
    "id": "o_Z_UJB-bM6R"
   },
   "source": [
    "## **랜덤 포레스트를 사용하여 비선형 관계 다루기**\n",
    "---\n",
    "\n",
    "![](https://img1.daumcdn.net/thumb/R1280x0/?scode=mtistory2&fname=https%3A%2F%2Fblog.kakaocdn.net%2Fdn%2F96F6N%2FbtqwVglgV2S%2FYTCytd7Z2egbnbJM29MJv1%2Fimg.png)\n",
    "\n",
    "*출처:  ratsgo's blog"
   ]
  },
  {
   "cell_type": "markdown",
   "metadata": {
    "id": "JmqniPTaf0sE"
   },
   "source": [
    "### **| 결정트리 회귀**"
   ]
  },
  {
   "cell_type": "markdown",
   "metadata": {
    "id": "U9AXb-Z5EV9C"
   },
   "source": [
    "#### **모델 학습**"
   ]
  },
  {
   "cell_type": "code",
   "execution_count": 136,
   "metadata": {
    "id": "jBKTe-_bgNDi"
   },
   "outputs": [
    {
     "data": {
      "text/plain": [
       "DecisionTreeRegressor(max_depth=3, random_state=1)"
      ]
     },
     "execution_count": 136,
     "metadata": {},
     "output_type": "execute_result"
    }
   ],
   "source": [
    "from sklearn.tree import DecisionTreeRegressor\n",
    "\n",
    "tree = DecisionTreeRegressor(random_state=1,\n",
    "                            max_depth=3)\n",
    "tree.fit(X_train, y_train)"
   ]
  },
  {
   "cell_type": "markdown",
   "metadata": {
    "id": "p0j-4TSyEY0a"
   },
   "source": [
    "#### **테스트셋 성능비교**"
   ]
  },
  {
   "cell_type": "code",
   "execution_count": 142,
   "metadata": {
    "id": "22aKQ3OJ9v8n"
   },
   "outputs": [
    {
     "data": {
      "text/html": [
       "<div>\n",
       "<style scoped>\n",
       "    .dataframe tbody tr th:only-of-type {\n",
       "        vertical-align: middle;\n",
       "    }\n",
       "\n",
       "    .dataframe tbody tr th {\n",
       "        vertical-align: top;\n",
       "    }\n",
       "\n",
       "    .dataframe thead th {\n",
       "        text-align: right;\n",
       "    }\n",
       "</style>\n",
       "<table border=\"1\" class=\"dataframe\">\n",
       "  <thead>\n",
       "    <tr style=\"text-align: right;\">\n",
       "      <th></th>\n",
       "      <th>mse</th>\n",
       "      <th>rmse</th>\n",
       "      <th>mae</th>\n",
       "      <th>nmae</th>\n",
       "      <th>mape</th>\n",
       "      <th>r2</th>\n",
       "    </tr>\n",
       "  </thead>\n",
       "  <tbody>\n",
       "    <tr>\n",
       "      <th>linear</th>\n",
       "      <td>0.463</td>\n",
       "      <td>0.680</td>\n",
       "      <td>0.501</td>\n",
       "      <td>0.721</td>\n",
       "      <td>671.832</td>\n",
       "      <td>0.537</td>\n",
       "    </tr>\n",
       "    <tr>\n",
       "      <th>quad</th>\n",
       "      <td>0.343</td>\n",
       "      <td>0.586</td>\n",
       "      <td>0.445</td>\n",
       "      <td>0.640</td>\n",
       "      <td>713.233</td>\n",
       "      <td>0.657</td>\n",
       "    </tr>\n",
       "    <tr>\n",
       "      <th>cubic</th>\n",
       "      <td>0.315</td>\n",
       "      <td>0.562</td>\n",
       "      <td>0.422</td>\n",
       "      <td>0.606</td>\n",
       "      <td>652.893</td>\n",
       "      <td>0.685</td>\n",
       "    </tr>\n",
       "    <tr>\n",
       "      <th>tree</th>\n",
       "      <td>0.307</td>\n",
       "      <td>0.554</td>\n",
       "      <td>0.402</td>\n",
       "      <td>0.578</td>\n",
       "      <td>580.727</td>\n",
       "      <td>0.693</td>\n",
       "    </tr>\n",
       "  </tbody>\n",
       "</table>\n",
       "</div>"
      ],
      "text/plain": [
       "          mse   rmse    mae   nmae     mape     r2\n",
       "linear  0.463  0.680  0.501  0.721  671.832  0.537\n",
       "quad    0.343  0.586  0.445  0.640  713.233  0.657\n",
       "cubic   0.315  0.562  0.422  0.606  652.893  0.685\n",
       "tree    0.307  0.554  0.402  0.578  580.727  0.693"
      ]
     },
     "execution_count": 142,
     "metadata": {},
     "output_type": "execute_result"
    }
   ],
   "source": [
    "y_pred = tree.predict(X_test)\n",
    "score = regression_scores(y_test, y_pred)\n",
    "df_scores.loc[\"tree\"] = score\n",
    "df_scores"
   ]
  },
  {
   "cell_type": "markdown",
   "metadata": {
    "id": "J1EfnMS-Eb0T"
   },
   "source": [
    "#### **그래프 시각화**"
   ]
  },
  {
   "cell_type": "code",
   "execution_count": 144,
   "metadata": {},
   "outputs": [
    {
     "data": {
      "image/png": "[encoded data removed]",
      "text/plain": [
       "<Figure size 432x288 with 1 Axes>"
      ]
     },
     "metadata": {
      "needs_background": "light"
     },
     "output_type": "display_data"
    }
   ],
   "source": [
    "draw_data()\n",
    "plt.plot(X_every, tree.predict(X_every), lw=3)\n",
    "plt.show()"
   ]
  },
  {
   "cell_type": "markdown",
   "metadata": {
    "id": "l1XVbkXFD7Rm"
   },
   "source": [
    "### **| 랜덤 포레스트 회귀 (Random Forest Regressor)**"
   ]
  },
  {
   "cell_type": "markdown",
   "metadata": {
    "id": "vPA4opI3EAza"
   },
   "source": [
    "#### **모델 학습**"
   ]
  },
  {
   "cell_type": "code",
   "execution_count": 147,
   "metadata": {
    "id": "M_wdfRw0bQhp"
   },
   "outputs": [
    {
     "data": {
      "text/plain": [
       "RandomForestRegressor(bootstrap=500, max_depth=3, random_state=1)"
      ]
     },
     "execution_count": 147,
     "metadata": {},
     "output_type": "execute_result"
    }
   ],
   "source": [
    "from sklearn.ensemble import RandomForestRegressor\n",
    "\n",
    "forest = RandomForestRegressor(random_state=1,bootstrap=500,max_depth=3,)\n",
    "forest.fit(X_train, y_train)"
   ]
  },
  {
   "cell_type": "markdown",
   "metadata": {
    "id": "uLPJ4OV6EFyT"
   },
   "source": [
    "#### **테스트셋 성능 비교**"
   ]
  },
  {
   "cell_type": "code",
   "execution_count": 148,
   "metadata": {
    "id": "thihkhhg91d0"
   },
   "outputs": [
    {
     "data": {
      "text/html": [
       "<div>\n",
       "<style scoped>\n",
       "    .dataframe tbody tr th:only-of-type {\n",
       "        vertical-align: middle;\n",
       "    }\n",
       "\n",
       "    .dataframe tbody tr th {\n",
       "        vertical-align: top;\n",
       "    }\n",
       "\n",
       "    .dataframe thead th {\n",
       "        text-align: right;\n",
       "    }\n",
       "</style>\n",
       "<table border=\"1\" class=\"dataframe\">\n",
       "  <thead>\n",
       "    <tr style=\"text-align: right;\">\n",
       "      <th></th>\n",
       "      <th>mse</th>\n",
       "      <th>rmse</th>\n",
       "      <th>mae</th>\n",
       "      <th>nmae</th>\n",
       "      <th>mape</th>\n",
       "      <th>r2</th>\n",
       "    </tr>\n",
       "  </thead>\n",
       "  <tbody>\n",
       "    <tr>\n",
       "      <th>linear</th>\n",
       "      <td>0.463</td>\n",
       "      <td>0.680</td>\n",
       "      <td>0.501</td>\n",
       "      <td>0.721</td>\n",
       "      <td>671.832</td>\n",
       "      <td>0.537</td>\n",
       "    </tr>\n",
       "    <tr>\n",
       "      <th>quad</th>\n",
       "      <td>0.343</td>\n",
       "      <td>0.586</td>\n",
       "      <td>0.445</td>\n",
       "      <td>0.640</td>\n",
       "      <td>713.233</td>\n",
       "      <td>0.657</td>\n",
       "    </tr>\n",
       "    <tr>\n",
       "      <th>cubic</th>\n",
       "      <td>0.315</td>\n",
       "      <td>0.562</td>\n",
       "      <td>0.422</td>\n",
       "      <td>0.606</td>\n",
       "      <td>652.893</td>\n",
       "      <td>0.685</td>\n",
       "    </tr>\n",
       "    <tr>\n",
       "      <th>tree</th>\n",
       "      <td>0.307</td>\n",
       "      <td>0.554</td>\n",
       "      <td>0.402</td>\n",
       "      <td>0.578</td>\n",
       "      <td>580.727</td>\n",
       "      <td>0.693</td>\n",
       "    </tr>\n",
       "    <tr>\n",
       "      <th>forest</th>\n",
       "      <td>0.292</td>\n",
       "      <td>0.541</td>\n",
       "      <td>0.393</td>\n",
       "      <td>0.565</td>\n",
       "      <td>566.099</td>\n",
       "      <td>0.708</td>\n",
       "    </tr>\n",
       "  </tbody>\n",
       "</table>\n",
       "</div>"
      ],
      "text/plain": [
       "          mse   rmse    mae   nmae     mape     r2\n",
       "linear  0.463  0.680  0.501  0.721  671.832  0.537\n",
       "quad    0.343  0.586  0.445  0.640  713.233  0.657\n",
       "cubic   0.315  0.562  0.422  0.606  652.893  0.685\n",
       "tree    0.307  0.554  0.402  0.578  580.727  0.693\n",
       "forest  0.292  0.541  0.393  0.565  566.099  0.708"
      ]
     },
     "execution_count": 148,
     "metadata": {},
     "output_type": "execute_result"
    }
   ],
   "source": [
    "y_pred = forest.predict(X_test)\n",
    "score = regression_scores(y_test, y_pred)\n",
    "df_scores.loc[\"forest\"] = score\n",
    "df_scores"
   ]
  },
  {
   "cell_type": "markdown",
   "metadata": {
    "id": "9yj-SJ85ESGc"
   },
   "source": [
    "#### **그래프 시각화**"
   ]
  },
  {
   "cell_type": "code",
   "execution_count": 158,
   "metadata": {
    "id": "Zipzp2MBf400"
   },
   "outputs": [
    {
     "data": {
      "image/png": "[encoded data removed]",
      "text/plain": [
       "<Figure size 432x288 with 1 Axes>"
      ]
     },
     "metadata": {
      "needs_background": "light"
     },
     "output_type": "display_data"
    }
   ],
   "source": [
    "draw_data()\n",
    "plt.plot(X_every, forest.predict(X_every), lw=3)\n",
    "plt.show()"
   ]
  },
  {
   "cell_type": "markdown",
   "metadata": {
    "id": "J6xmuPP6LZjz"
   },
   "source": [
    "### **| 엑스트라 트리 (Extra Tree Regressor)**"
   ]
  },
  {
   "cell_type": "markdown",
   "metadata": {
    "id": "hC2KVu-XLZj5"
   },
   "source": [
    "#### **모델 학습**"
   ]
  },
  {
   "cell_type": "code",
   "execution_count": 149,
   "metadata": {
    "id": "w63LEOBVLZj5"
   },
   "outputs": [
    {
     "data": {
      "text/plain": [
       "ExtraTreesRegressor(bootstrap=500, max_depth=3, random_state=1)"
      ]
     },
     "execution_count": 149,
     "metadata": {},
     "output_type": "execute_result"
    }
   ],
   "source": [
    "from sklearn.ensemble import ExtraTreesRegressor\n",
    "\n",
    "extra_tree = ExtraTreesRegressor(random_state=1,bootstrap=500,max_depth=3)\n",
    "extra_tree.fit(X_train, y_train)"
   ]
  },
  {
   "cell_type": "markdown",
   "metadata": {
    "id": "exSV_oihLZj5"
   },
   "source": [
    "#### **테스트셋 성능 비교**"
   ]
  },
  {
   "cell_type": "code",
   "execution_count": 150,
   "metadata": {
    "id": "iF7cDoxQLZj5"
   },
   "outputs": [
    {
     "data": {
      "text/html": [
       "<div>\n",
       "<style scoped>\n",
       "    .dataframe tbody tr th:only-of-type {\n",
       "        vertical-align: middle;\n",
       "    }\n",
       "\n",
       "    .dataframe tbody tr th {\n",
       "        vertical-align: top;\n",
       "    }\n",
       "\n",
       "    .dataframe thead th {\n",
       "        text-align: right;\n",
       "    }\n",
       "</style>\n",
       "<table border=\"1\" class=\"dataframe\">\n",
       "  <thead>\n",
       "    <tr style=\"text-align: right;\">\n",
       "      <th></th>\n",
       "      <th>mse</th>\n",
       "      <th>rmse</th>\n",
       "      <th>mae</th>\n",
       "      <th>nmae</th>\n",
       "      <th>mape</th>\n",
       "      <th>r2</th>\n",
       "    </tr>\n",
       "  </thead>\n",
       "  <tbody>\n",
       "    <tr>\n",
       "      <th>linear</th>\n",
       "      <td>0.463</td>\n",
       "      <td>0.680</td>\n",
       "      <td>0.501</td>\n",
       "      <td>0.721</td>\n",
       "      <td>671.832</td>\n",
       "      <td>0.537</td>\n",
       "    </tr>\n",
       "    <tr>\n",
       "      <th>quad</th>\n",
       "      <td>0.343</td>\n",
       "      <td>0.586</td>\n",
       "      <td>0.445</td>\n",
       "      <td>0.640</td>\n",
       "      <td>713.233</td>\n",
       "      <td>0.657</td>\n",
       "    </tr>\n",
       "    <tr>\n",
       "      <th>cubic</th>\n",
       "      <td>0.315</td>\n",
       "      <td>0.562</td>\n",
       "      <td>0.422</td>\n",
       "      <td>0.606</td>\n",
       "      <td>652.893</td>\n",
       "      <td>0.685</td>\n",
       "    </tr>\n",
       "    <tr>\n",
       "      <th>tree</th>\n",
       "      <td>0.307</td>\n",
       "      <td>0.554</td>\n",
       "      <td>0.402</td>\n",
       "      <td>0.578</td>\n",
       "      <td>580.727</td>\n",
       "      <td>0.693</td>\n",
       "    </tr>\n",
       "    <tr>\n",
       "      <th>forest</th>\n",
       "      <td>0.292</td>\n",
       "      <td>0.541</td>\n",
       "      <td>0.393</td>\n",
       "      <td>0.565</td>\n",
       "      <td>566.099</td>\n",
       "      <td>0.708</td>\n",
       "    </tr>\n",
       "    <tr>\n",
       "      <th>Extra_tree</th>\n",
       "      <td>0.359</td>\n",
       "      <td>0.599</td>\n",
       "      <td>0.424</td>\n",
       "      <td>0.610</td>\n",
       "      <td>451.050</td>\n",
       "      <td>0.641</td>\n",
       "    </tr>\n",
       "  </tbody>\n",
       "</table>\n",
       "</div>"
      ],
      "text/plain": [
       "              mse   rmse    mae   nmae     mape     r2\n",
       "linear      0.463  0.680  0.501  0.721  671.832  0.537\n",
       "quad        0.343  0.586  0.445  0.640  713.233  0.657\n",
       "cubic       0.315  0.562  0.422  0.606  652.893  0.685\n",
       "tree        0.307  0.554  0.402  0.578  580.727  0.693\n",
       "forest      0.292  0.541  0.393  0.565  566.099  0.708\n",
       "Extra_tree  0.359  0.599  0.424  0.610  451.050  0.641"
      ]
     },
     "execution_count": 150,
     "metadata": {},
     "output_type": "execute_result"
    }
   ],
   "source": [
    "y_pred = extra_tree.predict(X_test)\n",
    "score = regression_scores(y_test, y_pred)\n",
    "df_scores.loc[\"Extra_tree\"] = score\n",
    "df_scores"
   ]
  },
  {
   "cell_type": "markdown",
   "metadata": {
    "id": "RWMOqMszLZj5"
   },
   "source": [
    "#### **그래프 시각화**"
   ]
  },
  {
   "cell_type": "code",
   "execution_count": 159,
   "metadata": {
    "id": "SAm2hvuYLZj5"
   },
   "outputs": [
    {
     "data": {
      "image/png": "[encoded data removed]",
      "text/plain": [
       "<Figure size 432x288 with 1 Axes>"
      ]
     },
     "metadata": {
      "needs_background": "light"
     },
     "output_type": "display_data"
    }
   ],
   "source": [
    "draw_data()\n",
    "plt.plot(X_every, extra_tree.predict(X_every), lw=3)\n",
    "plt.show()"
   ]
  },
  {
   "cell_type": "markdown",
   "metadata": {
    "id": "k8XiGE3NMED_"
   },
   "source": [
    "### **| Gradient Boosting Regressor**"
   ]
  },
  {
   "cell_type": "markdown",
   "metadata": {
    "id": "OuQDDlYoMEEE"
   },
   "source": [
    "#### **모델 학습**"
   ]
  },
  {
   "cell_type": "code",
   "execution_count": 151,
   "metadata": {
    "id": "JuqxOkcjMEEF"
   },
   "outputs": [
    {
     "data": {
      "text/plain": [
       "GradientBoostingRegressor(random_state=1)"
      ]
     },
     "execution_count": 151,
     "metadata": {},
     "output_type": "execute_result"
    }
   ],
   "source": [
    "from sklearn.ensemble import GradientBoostingRegressor\n",
    "\n",
    "gb = GradientBoostingRegressor(random_state=1,max_depth=3)\n",
    "gb.fit(X_train, y_train)"
   ]
  },
  {
   "cell_type": "markdown",
   "metadata": {
    "id": "gCjS_nhuMEEF"
   },
   "source": [
    "#### **테스트셋 성능 비교**"
   ]
  },
  {
   "cell_type": "code",
   "execution_count": 152,
   "metadata": {
    "id": "m2EaO6yuMEEF"
   },
   "outputs": [
    {
     "data": {
      "text/html": [
       "<div>\n",
       "<style scoped>\n",
       "    .dataframe tbody tr th:only-of-type {\n",
       "        vertical-align: middle;\n",
       "    }\n",
       "\n",
       "    .dataframe tbody tr th {\n",
       "        vertical-align: top;\n",
       "    }\n",
       "\n",
       "    .dataframe thead th {\n",
       "        text-align: right;\n",
       "    }\n",
       "</style>\n",
       "<table border=\"1\" class=\"dataframe\">\n",
       "  <thead>\n",
       "    <tr style=\"text-align: right;\">\n",
       "      <th></th>\n",
       "      <th>mse</th>\n",
       "      <th>rmse</th>\n",
       "      <th>mae</th>\n",
       "      <th>nmae</th>\n",
       "      <th>mape</th>\n",
       "      <th>r2</th>\n",
       "    </tr>\n",
       "  </thead>\n",
       "  <tbody>\n",
       "    <tr>\n",
       "      <th>linear</th>\n",
       "      <td>0.463</td>\n",
       "      <td>0.680</td>\n",
       "      <td>0.501</td>\n",
       "      <td>0.721</td>\n",
       "      <td>671.832</td>\n",
       "      <td>0.537</td>\n",
       "    </tr>\n",
       "    <tr>\n",
       "      <th>quad</th>\n",
       "      <td>0.343</td>\n",
       "      <td>0.586</td>\n",
       "      <td>0.445</td>\n",
       "      <td>0.640</td>\n",
       "      <td>713.233</td>\n",
       "      <td>0.657</td>\n",
       "    </tr>\n",
       "    <tr>\n",
       "      <th>cubic</th>\n",
       "      <td>0.315</td>\n",
       "      <td>0.562</td>\n",
       "      <td>0.422</td>\n",
       "      <td>0.606</td>\n",
       "      <td>652.893</td>\n",
       "      <td>0.685</td>\n",
       "    </tr>\n",
       "    <tr>\n",
       "      <th>tree</th>\n",
       "      <td>0.307</td>\n",
       "      <td>0.554</td>\n",
       "      <td>0.402</td>\n",
       "      <td>0.578</td>\n",
       "      <td>580.727</td>\n",
       "      <td>0.693</td>\n",
       "    </tr>\n",
       "    <tr>\n",
       "      <th>forest</th>\n",
       "      <td>0.292</td>\n",
       "      <td>0.541</td>\n",
       "      <td>0.393</td>\n",
       "      <td>0.565</td>\n",
       "      <td>566.099</td>\n",
       "      <td>0.708</td>\n",
       "    </tr>\n",
       "    <tr>\n",
       "      <th>Extra_tree</th>\n",
       "      <td>0.359</td>\n",
       "      <td>0.599</td>\n",
       "      <td>0.424</td>\n",
       "      <td>0.610</td>\n",
       "      <td>451.050</td>\n",
       "      <td>0.641</td>\n",
       "    </tr>\n",
       "    <tr>\n",
       "      <th>gradient_Boost</th>\n",
       "      <td>0.336</td>\n",
       "      <td>0.580</td>\n",
       "      <td>0.409</td>\n",
       "      <td>0.588</td>\n",
       "      <td>410.178</td>\n",
       "      <td>0.664</td>\n",
       "    </tr>\n",
       "  </tbody>\n",
       "</table>\n",
       "</div>"
      ],
      "text/plain": [
       "                  mse   rmse    mae   nmae     mape     r2\n",
       "linear          0.463  0.680  0.501  0.721  671.832  0.537\n",
       "quad            0.343  0.586  0.445  0.640  713.233  0.657\n",
       "cubic           0.315  0.562  0.422  0.606  652.893  0.685\n",
       "tree            0.307  0.554  0.402  0.578  580.727  0.693\n",
       "forest          0.292  0.541  0.393  0.565  566.099  0.708\n",
       "Extra_tree      0.359  0.599  0.424  0.610  451.050  0.641\n",
       "gradient_Boost  0.336  0.580  0.409  0.588  410.178  0.664"
      ]
     },
     "execution_count": 152,
     "metadata": {},
     "output_type": "execute_result"
    }
   ],
   "source": [
    "y_pred = gb.predict(X_test)\n",
    "score = regression_scores(y_test, y_pred)\n",
    "df_scores.loc[\"gradient_Boost\"] = score\n",
    "df_scores"
   ]
  },
  {
   "cell_type": "markdown",
   "metadata": {
    "id": "VizJqzEyMEEF"
   },
   "source": [
    "#### **그래프 시각화**"
   ]
  },
  {
   "cell_type": "code",
   "execution_count": 160,
   "metadata": {
    "id": "HT2r-hT9MEEF"
   },
   "outputs": [
    {
     "data": {
      "image/png": "[encoded data removed]",
      "text/plain": [
       "<Figure size 432x288 with 1 Axes>"
      ]
     },
     "metadata": {
      "needs_background": "light"
     },
     "output_type": "display_data"
    }
   ],
   "source": [
    "draw_data()\n",
    "plt.plot(X_every, gb.predict(X_every), lw=3)\n",
    "plt.show()"
   ]
  },
  {
   "cell_type": "markdown",
   "metadata": {
    "id": "kNc2FzbdMbBX"
   },
   "source": [
    "### **| XGBoost Regressor**"
   ]
  },
  {
   "cell_type": "markdown",
   "metadata": {
    "id": "o4GP5G89MbBX"
   },
   "source": [
    "#### **모델 학습**"
   ]
  },
  {
   "cell_type": "code",
   "execution_count": 174,
   "metadata": {
    "id": "e-Z4OxoFMbBX"
   },
   "outputs": [
    {
     "data": {
      "text/plain": [
       "XGBRegressor(base_score=0.5, booster='gbtree', colsample_bylevel=1,\n",
       "             colsample_bynode=1, colsample_bytree=1, enable_categorical=False,\n",
       "             gamma=0, gpu_id=-1, importance_type=None,\n",
       "             interaction_constraints='', learning_rate=0.300000012,\n",
       "             max_delta_step=0, max_depth=3, min_child_weight=1, missing=nan,\n",
       "             monotone_constraints='()', n_estimators=500, n_jobs=16,\n",
       "             num_parallel_tree=1, predictor='auto', random_state=1, reg_alpha=0,\n",
       "             reg_lambda=1, scale_pos_weight=1, subsample=1, tree_method='exact',\n",
       "             validate_parameters=1, verbosity=None)"
      ]
     },
     "execution_count": 174,
     "metadata": {},
     "output_type": "execute_result"
    }
   ],
   "source": [
    "from xgboost import XGBRegressor\n",
    "\n",
    "xgb = XGBRegressor(random_state=1,max_depth=3, n_estimators=500)\n",
    "xgb.fit(X_train, y_train)"
   ]
  },
  {
   "cell_type": "markdown",
   "metadata": {
    "id": "JlCj1bdxMbBY"
   },
   "source": [
    "#### **테스트셋 성능 비교**"
   ]
  },
  {
   "cell_type": "code",
   "execution_count": 175,
   "metadata": {
    "id": "dJDy8n18MbBY"
   },
   "outputs": [
    {
     "data": {
      "text/html": [
       "<div>\n",
       "<style scoped>\n",
       "    .dataframe tbody tr th:only-of-type {\n",
       "        vertical-align: middle;\n",
       "    }\n",
       "\n",
       "    .dataframe tbody tr th {\n",
       "        vertical-align: top;\n",
       "    }\n",
       "\n",
       "    .dataframe thead th {\n",
       "        text-align: right;\n",
       "    }\n",
       "</style>\n",
       "<table border=\"1\" class=\"dataframe\">\n",
       "  <thead>\n",
       "    <tr style=\"text-align: right;\">\n",
       "      <th></th>\n",
       "      <th>mse</th>\n",
       "      <th>rmse</th>\n",
       "      <th>mae</th>\n",
       "      <th>nmae</th>\n",
       "      <th>mape</th>\n",
       "      <th>r2</th>\n",
       "    </tr>\n",
       "  </thead>\n",
       "  <tbody>\n",
       "    <tr>\n",
       "      <th>linear</th>\n",
       "      <td>0.463</td>\n",
       "      <td>0.680</td>\n",
       "      <td>0.501</td>\n",
       "      <td>0.721</td>\n",
       "      <td>671.832</td>\n",
       "      <td>0.537</td>\n",
       "    </tr>\n",
       "    <tr>\n",
       "      <th>quad</th>\n",
       "      <td>0.343</td>\n",
       "      <td>0.586</td>\n",
       "      <td>0.445</td>\n",
       "      <td>0.640</td>\n",
       "      <td>713.233</td>\n",
       "      <td>0.657</td>\n",
       "    </tr>\n",
       "    <tr>\n",
       "      <th>cubic</th>\n",
       "      <td>0.315</td>\n",
       "      <td>0.562</td>\n",
       "      <td>0.422</td>\n",
       "      <td>0.606</td>\n",
       "      <td>652.893</td>\n",
       "      <td>0.685</td>\n",
       "    </tr>\n",
       "    <tr>\n",
       "      <th>tree</th>\n",
       "      <td>0.307</td>\n",
       "      <td>0.554</td>\n",
       "      <td>0.402</td>\n",
       "      <td>0.578</td>\n",
       "      <td>580.727</td>\n",
       "      <td>0.693</td>\n",
       "    </tr>\n",
       "    <tr>\n",
       "      <th>forest</th>\n",
       "      <td>0.292</td>\n",
       "      <td>0.541</td>\n",
       "      <td>0.393</td>\n",
       "      <td>0.565</td>\n",
       "      <td>566.099</td>\n",
       "      <td>0.708</td>\n",
       "    </tr>\n",
       "    <tr>\n",
       "      <th>Extra_tree</th>\n",
       "      <td>0.359</td>\n",
       "      <td>0.599</td>\n",
       "      <td>0.424</td>\n",
       "      <td>0.610</td>\n",
       "      <td>451.050</td>\n",
       "      <td>0.641</td>\n",
       "    </tr>\n",
       "    <tr>\n",
       "      <th>gradient_Boost</th>\n",
       "      <td>0.336</td>\n",
       "      <td>0.580</td>\n",
       "      <td>0.409</td>\n",
       "      <td>0.588</td>\n",
       "      <td>410.178</td>\n",
       "      <td>0.664</td>\n",
       "    </tr>\n",
       "    <tr>\n",
       "      <th>XGB</th>\n",
       "      <td>0.528</td>\n",
       "      <td>0.727</td>\n",
       "      <td>0.501</td>\n",
       "      <td>0.721</td>\n",
       "      <td>494.392</td>\n",
       "      <td>0.472</td>\n",
       "    </tr>\n",
       "  </tbody>\n",
       "</table>\n",
       "</div>"
      ],
      "text/plain": [
       "                  mse   rmse    mae   nmae     mape     r2\n",
       "linear          0.463  0.680  0.501  0.721  671.832  0.537\n",
       "quad            0.343  0.586  0.445  0.640  713.233  0.657\n",
       "cubic           0.315  0.562  0.422  0.606  652.893  0.685\n",
       "tree            0.307  0.554  0.402  0.578  580.727  0.693\n",
       "forest          0.292  0.541  0.393  0.565  566.099  0.708\n",
       "Extra_tree      0.359  0.599  0.424  0.610  451.050  0.641\n",
       "gradient_Boost  0.336  0.580  0.409  0.588  410.178  0.664\n",
       "XGB             0.528  0.727  0.501  0.721  494.392  0.472"
      ]
     },
     "execution_count": 175,
     "metadata": {},
     "output_type": "execute_result"
    }
   ],
   "source": [
    "y_pred = xgb.predict(X_test)\n",
    "score = regression_scores(y_test, y_pred)\n",
    "df_scores.loc[\"XGB\"] = score\n",
    "df_scores"
   ]
  },
  {
   "cell_type": "markdown",
   "metadata": {
    "id": "YFFUEVtXMbBY"
   },
   "source": [
    "#### **그래프 시각화**"
   ]
  },
  {
   "cell_type": "code",
   "execution_count": 176,
   "metadata": {
    "id": "ChvPJh-nMbBY"
   },
   "outputs": [
    {
     "data": {
      "image/png": "[encoded data removed]",
      "text/plain": [
       "<Figure size 432x288 with 1 Axes>"
      ]
     },
     "metadata": {
      "needs_background": "light"
     },
     "output_type": "display_data"
    }
   ],
   "source": [
    "draw_data()\n",
    "plt.plot(X_every, xgb.predict(X_every), lw=3)\n",
    "plt.show()"
   ]
  },
  {
   "cell_type": "markdown",
   "metadata": {
    "id": "5JWTBCG-EkR1"
   },
   "source": [
    "## **과제1: 주택 데이터셋 다중 회귀 분석**\n",
    "---\n",
    "\n",
    "* 주택 데이터셋의 X의 모든 속성을 이용해 y를 예측합니다.\n",
    "* 지난시간과 이번시간에 배운 회귀 분석 모델을 모두 사용해보고, 성능을 비교해 봅니다.\n",
    "* 단, 다항회귀는 사용하지 마세요.\n",
    "* 사용 모델 : \n",
    "```\n",
    "'linear', 'ridge', 'lasso', 'elastic', 'bayes_ridge', 'tree', 'forest', 'et', 'gb', 'xgb'\n",
    "```"
   ]
  },
  {
   "cell_type": "code",
   "execution_count": 184,
   "metadata": {},
   "outputs": [],
   "source": [
    "from sklearn.linear_model import Ridge, Lasso, ElasticNet, BayesianRidge"
   ]
  },
  {
   "cell_type": "markdown",
   "metadata": {
    "id": "hc-YysUvFJWS"
   },
   "source": [
    "#### **데이터 불러오기**"
   ]
  },
  {
   "cell_type": "code",
   "execution_count": 180,
   "metadata": {
    "id": "qpeyED8xf9gT"
   },
   "outputs": [
    {
     "name": "stdout",
     "output_type": "stream",
     "text": [
      "(506, 14)\n",
      "(404, 13) (102, 13) (404,) (102,)\n"
     ]
    }
   ],
   "source": [
    "X_train, X_test, y_train, y_test = housing_loader()\n",
    "print(X_train.shape, X_test.shape, y_train.shape, y_test.shape)"
   ]
  },
  {
   "cell_type": "markdown",
   "metadata": {
    "id": "bOGoI8O3GieY"
   },
   "source": [
    "* 분석 예시"
   ]
  },
  {
   "cell_type": "code",
   "execution_count": 195,
   "metadata": {},
   "outputs": [],
   "source": [
    "import functools"
   ]
  },
  {
   "cell_type": "code",
   "execution_count": 221,
   "metadata": {
    "id": "T0rcVkSyoQWp"
   },
   "outputs": [
    {
     "name": "stdout",
     "output_type": "stream",
     "text": [
      "{'mse': 0.222, 'rmse': 0.471, 'mae': 0.362, 'nmae': 0.521, 'mape': 579.145, 'r2': 0.778, 'name': 'lr'}\n",
      "{'mse': 0.222, 'rmse': 0.471, 'mae': 0.362, 'nmae': 0.52, 'mape': 579.405, 'r2': 0.778, 'name': 'ridge'}\n",
      "{'mse': 0.315, 'rmse': 0.561, 'mae': 0.421, 'nmae': 0.606, 'mape': 549.237, 'r2': 0.685, 'name': 'lasso'}\n",
      "{'mse': 0.28, 'rmse': 0.529, 'mae': 0.399, 'nmae': 0.573, 'mape': 583.659, 'r2': 0.72, 'name': 'elastic'}\n",
      "{'mse': 0.22, 'rmse': 0.469, 'mae': 0.359, 'nmae': 0.516, 'mape': 590.402, 'r2': 0.78, 'name': 'bayes_ridge'}\n",
      "{'mse': 0.211, 'rmse': 0.459, 'mae': 0.342, 'nmae': 0.491, 'mape': 360.76, 'r2': 0.789, 'name': 'tree'}\n",
      "{'mse': 0.088, 'rmse': 0.297, 'mae': 0.223, 'nmae': 0.321, 'mape': 260.019, 'r2': 0.912, 'name': 'forest'}\n",
      "{'mse': 0.078, 'rmse': 0.279, 'mae': 0.214, 'nmae': 0.308, 'mape': 282.308, 'r2': 0.922, 'name': 'et'}\n",
      "{'mse': 0.099, 'rmse': 0.315, 'mae': 0.241, 'nmae': 0.346, 'mape': 201.915, 'r2': 0.901, 'name': 'gb'}\n",
      "{'mse': 0.119, 'rmse': 0.346, 'mae': 0.251, 'nmae': 0.361, 'mape': 172.817, 'r2': 0.881, 'name': 'xgb'}\n"
     ]
    }
   ],
   "source": [
    "'linear', 'ridge', 'lasso', 'elastic', 'bayes_ridge', 'tree', 'forest', 'et', 'gb', 'xgb'\n",
    "lr = LinearRegression()\n",
    "ridge = Ridge(alpha=0.1)\n",
    "lasso = Lasso(alpha=0.1)\n",
    "elastic = ElasticNet(alpha =0.1)\n",
    "bayes_ridge = BayesianRidge()\n",
    "tree = DecisionTreeRegressor()\n",
    "forest = RandomForestRegressor()\n",
    "et = ExtraTreesRegressor()\n",
    "gb = GradientBoostingRegressor()\n",
    "xgb = XGBRegressor()\n",
    "\n",
    "model_lst = [\"lr\", \"ridge\", \"lasso\", \"elastic\", \"bayes_ridge\", \"tree\", \"forest\", \"et\", \"gb\", \"xgb\"]\n",
    "\n",
    "for idx, model in enumerate(model_lst):\n",
    "    eval(model).fit(X_train, y_train)\n",
    "    y_pred = eval(model).predict(X_test)\n",
    "    score=regression_scores(y_test, y_pred)\n",
    "    score[\"name\"] = model\n",
    "    print(score)"
   ]
  },
  {
   "cell_type": "markdown",
   "metadata": {
    "id": "ZFUD38WPFP4Y"
   },
   "source": [
    "## **과제2: 해외 축구 선수 이적료 예측 미션**\n",
    "---\n",
    "\n",
    "* https://dacon.io/competitions/open/235538/overview/description\n",
    "* 수업 시간에 배운 내용들을 적용하여 이적료 예측을 진행하고 리더보드에 결과를 제출합니다."
   ]
  },
  {
   "cell_type": "code",
   "execution_count": null,
   "metadata": {
    "id": "KKEbLngkFdwk"
   },
   "outputs": [],
   "source": []
  }
 ],
 "metadata": {
  "colab": {
   "collapsed_sections": [],
   "name": "ch05_10_사이킷런실습-비선형회귀분석.ipynb",
   "provenance": []
  },
  "kernelspec": {
   "display_name": "Python 3",
   "language": "python",
   "name": "python3"
  },
  "language_info": {
   "codemirror_mode": {
    "name": "ipython",
    "version": 3
   },
   "file_extension": ".py",
   "mimetype": "text/x-python",
   "name": "python",
   "nbconvert_exporter": "python",
   "pygments_lexer": "ipython3",
   "version": "3.7.10"
  },
  "toc": {
   "base_numbering": 1,
   "nav_menu": {},
   "number_sections": true,
   "sideBar": true,
   "skip_h1_title": false,
   "title_cell": "Table of Contents",
   "title_sidebar": "Contents",
   "toc_cell": false,
   "toc_position": {
    "height": "calc(100% - 180px)",
    "left": "10px",
    "top": "150px",
    "width": "245.76px"
   },
   "toc_section_display": true,
   "toc_window_display": true
  },
  "varInspector": {
   "cols": {
    "lenName": 16,
    "lenType": 16,
    "lenVar": 40
   },
   "kernels_config": {
    "python": {
     "delete_cmd_postfix": "",
     "delete_cmd_prefix": "del ",
     "library": "var_list.py",
     "varRefreshCmd": "print(var_dic_list())"
    },
    "r": {
     "delete_cmd_postfix": ") ",
     "delete_cmd_prefix": "rm(",
     "library": "var_list.r",
     "varRefreshCmd": "cat(var_dic_list()) "
    }
   },
   "types_to_exclude": [
    "module",
    "function",
    "builtin_function_or_method",
    "instance",
    "_Feature"
   ],
   "window_display": false
  }
 },
 "nbformat": 4,
 "nbformat_minor": 1
}
