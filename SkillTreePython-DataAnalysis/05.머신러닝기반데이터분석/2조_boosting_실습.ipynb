{
 "cells": [
  {
   "cell_type": "markdown",
   "metadata": {},
   "source": [
    "# 준비"
   ]
  },
  {
   "cell_type": "code",
   "execution_count": 24,
   "metadata": {
    "ExecuteTime": {
     "end_time": "2022-05-31T04:27:52.707505Z",
     "start_time": "2022-05-31T04:27:52.694502Z"
    },
    "id": "K0NWoZY6HZPj"
   },
   "outputs": [],
   "source": [
    "import numpy as np\n",
    "import pandas as pd"
   ]
  },
  {
   "cell_type": "code",
   "execution_count": 25,
   "metadata": {
    "ExecuteTime": {
     "end_time": "2022-05-31T04:27:53.335821Z",
     "start_time": "2022-05-31T04:27:52.708505Z"
    },
    "colab": {
     "base_uri": "https://localhost:8080/",
     "height": 285
    },
    "id": "kt1AJTX9HVP2",
    "outputId": "fa5d5892-96ee-41b8-f742-0de59afa9c35"
   },
   "outputs": [
    {
     "data": {
      "text/html": [
       "<div>\n",
       "<style scoped>\n",
       "    .dataframe tbody tr th:only-of-type {\n",
       "        vertical-align: middle;\n",
       "    }\n",
       "\n",
       "    .dataframe tbody tr th {\n",
       "        vertical-align: top;\n",
       "    }\n",
       "\n",
       "    .dataframe thead th {\n",
       "        text-align: right;\n",
       "    }\n",
       "</style>\n",
       "<table border=\"1\" class=\"dataframe\">\n",
       "  <thead>\n",
       "    <tr style=\"text-align: right;\">\n",
       "      <th></th>\n",
       "      <th>Class label</th>\n",
       "      <th>Alcohol</th>\n",
       "      <th>Malic acid</th>\n",
       "      <th>Ash</th>\n",
       "      <th>Alcalinity of ash</th>\n",
       "      <th>Magnesium</th>\n",
       "      <th>Total phenols</th>\n",
       "      <th>Flavanoids</th>\n",
       "      <th>Nonflavanoid phenols</th>\n",
       "      <th>Proanthocyanins</th>\n",
       "      <th>Color intensity</th>\n",
       "      <th>Hue</th>\n",
       "      <th>OD280/OD315 of diluted wines</th>\n",
       "      <th>Proline</th>\n",
       "    </tr>\n",
       "  </thead>\n",
       "  <tbody>\n",
       "    <tr>\n",
       "      <th>0</th>\n",
       "      <td>1</td>\n",
       "      <td>14.23</td>\n",
       "      <td>1.71</td>\n",
       "      <td>2.43</td>\n",
       "      <td>15.6</td>\n",
       "      <td>127</td>\n",
       "      <td>2.80</td>\n",
       "      <td>3.06</td>\n",
       "      <td>0.28</td>\n",
       "      <td>2.29</td>\n",
       "      <td>5.64</td>\n",
       "      <td>1.04</td>\n",
       "      <td>3.92</td>\n",
       "      <td>1065</td>\n",
       "    </tr>\n",
       "    <tr>\n",
       "      <th>1</th>\n",
       "      <td>1</td>\n",
       "      <td>13.20</td>\n",
       "      <td>1.78</td>\n",
       "      <td>2.14</td>\n",
       "      <td>11.2</td>\n",
       "      <td>100</td>\n",
       "      <td>2.65</td>\n",
       "      <td>2.76</td>\n",
       "      <td>0.26</td>\n",
       "      <td>1.28</td>\n",
       "      <td>4.38</td>\n",
       "      <td>1.05</td>\n",
       "      <td>3.40</td>\n",
       "      <td>1050</td>\n",
       "    </tr>\n",
       "    <tr>\n",
       "      <th>2</th>\n",
       "      <td>1</td>\n",
       "      <td>13.16</td>\n",
       "      <td>2.36</td>\n",
       "      <td>2.67</td>\n",
       "      <td>18.6</td>\n",
       "      <td>101</td>\n",
       "      <td>2.80</td>\n",
       "      <td>3.24</td>\n",
       "      <td>0.30</td>\n",
       "      <td>2.81</td>\n",
       "      <td>5.68</td>\n",
       "      <td>1.03</td>\n",
       "      <td>3.17</td>\n",
       "      <td>1185</td>\n",
       "    </tr>\n",
       "    <tr>\n",
       "      <th>3</th>\n",
       "      <td>1</td>\n",
       "      <td>14.37</td>\n",
       "      <td>1.95</td>\n",
       "      <td>2.50</td>\n",
       "      <td>16.8</td>\n",
       "      <td>113</td>\n",
       "      <td>3.85</td>\n",
       "      <td>3.49</td>\n",
       "      <td>0.24</td>\n",
       "      <td>2.18</td>\n",
       "      <td>7.80</td>\n",
       "      <td>0.86</td>\n",
       "      <td>3.45</td>\n",
       "      <td>1480</td>\n",
       "    </tr>\n",
       "    <tr>\n",
       "      <th>4</th>\n",
       "      <td>1</td>\n",
       "      <td>13.24</td>\n",
       "      <td>2.59</td>\n",
       "      <td>2.87</td>\n",
       "      <td>21.0</td>\n",
       "      <td>118</td>\n",
       "      <td>2.80</td>\n",
       "      <td>2.69</td>\n",
       "      <td>0.39</td>\n",
       "      <td>1.82</td>\n",
       "      <td>4.32</td>\n",
       "      <td>1.04</td>\n",
       "      <td>2.93</td>\n",
       "      <td>735</td>\n",
       "    </tr>\n",
       "  </tbody>\n",
       "</table>\n",
       "</div>"
      ],
      "text/plain": [
       "   Class label  Alcohol  Malic acid   Ash  Alcalinity of ash  Magnesium  \\\n",
       "0            1    14.23        1.71  2.43               15.6        127   \n",
       "1            1    13.20        1.78  2.14               11.2        100   \n",
       "2            1    13.16        2.36  2.67               18.6        101   \n",
       "3            1    14.37        1.95  2.50               16.8        113   \n",
       "4            1    13.24        2.59  2.87               21.0        118   \n",
       "\n",
       "   Total phenols  Flavanoids  Nonflavanoid phenols  Proanthocyanins  \\\n",
       "0           2.80        3.06                  0.28             2.29   \n",
       "1           2.65        2.76                  0.26             1.28   \n",
       "2           2.80        3.24                  0.30             2.81   \n",
       "3           3.85        3.49                  0.24             2.18   \n",
       "4           2.80        2.69                  0.39             1.82   \n",
       "\n",
       "   Color intensity   Hue  OD280/OD315 of diluted wines  Proline  \n",
       "0             5.64  1.04                          3.92     1065  \n",
       "1             4.38  1.05                          3.40     1050  \n",
       "2             5.68  1.03                          3.17     1185  \n",
       "3             7.80  0.86                          3.45     1480  \n",
       "4             4.32  1.04                          2.93      735  "
      ]
     },
     "execution_count": 25,
     "metadata": {},
     "output_type": "execute_result"
    }
   ],
   "source": [
    "df = pd.read_csv('https://archive.ics.uci.edu/ml/'\n",
    "                      'machine-learning-databases/wine/wine.data',\n",
    "                      header=None)\n",
    "df.columns = ['Class label', 'Alcohol', 'Malic acid', 'Ash',\n",
    "                   'Alcalinity of ash', 'Magnesium', 'Total phenols',\n",
    "                   'Flavanoids', 'Nonflavanoid phenols', 'Proanthocyanins',\n",
    "                   'Color intensity', 'Hue', 'OD280/OD315 of diluted wines',\n",
    "                   'Proline']\n",
    "df.head()"
   ]
  },
  {
   "cell_type": "code",
   "execution_count": 26,
   "metadata": {
    "ExecuteTime": {
     "end_time": "2022-05-31T04:27:53.345889Z",
     "start_time": "2022-05-31T04:27:53.336821Z"
    },
    "colab": {
     "base_uri": "https://localhost:8080/"
    },
    "id": "a_6avTytHWEq",
    "outputId": "85fd0930-1ec7-4ec4-fc75-4d56b51c27bd"
   },
   "outputs": [
    {
     "data": {
      "text/plain": [
       "((178, 13), (178,))"
      ]
     },
     "execution_count": 26,
     "metadata": {},
     "output_type": "execute_result"
    }
   ],
   "source": [
    "from sklearn.preprocessing import LabelEncoder\n",
    "from sklearn.model_selection import train_test_split\n",
    "\n",
    "# 0으로 채워진 넘파이 X 배열 생성\n",
    "X = np.zeros(len(df)*(len(df.columns)-1)).reshape(len(df),len(df.columns)-1)\n",
    "\n",
    "# X값에 데이터 적용\n",
    "for i,col in enumerate(df.columns[1:]) :\n",
    "    X[:,i] = df[col].values\n",
    "# y값 설정\n",
    "y = df['Class label'].values\n",
    "\n",
    "X.shape, y.shape"
   ]
  },
  {
   "cell_type": "code",
   "execution_count": 27,
   "metadata": {
    "ExecuteTime": {
     "end_time": "2022-05-31T04:27:53.359168Z",
     "start_time": "2022-05-31T04:27:53.345889Z"
    },
    "colab": {
     "base_uri": "https://localhost:8080/"
    },
    "id": "ODwv1w2BHksK",
    "outputId": "0a6fcf56-df05-4d1e-ff1d-c91c952edf0f"
   },
   "outputs": [
    {
     "data": {
      "text/plain": [
       "((142, 13), (36, 13), (142,), (36,))"
      ]
     },
     "execution_count": 27,
     "metadata": {},
     "output_type": "execute_result"
    }
   ],
   "source": [
    "X_train, X_test, y_train, y_test = train_test_split(X, y,\n",
    "                                                    test_size=0.2,\n",
    "                                                    stratify = y,\n",
    "                                                    random_state = 1)\n",
    "X_train.shape, X_test.shape, y_train.shape, y_test.shape"
   ]
  },
  {
   "cell_type": "markdown",
   "metadata": {},
   "source": [
    "# LGBM"
   ]
  },
  {
   "cell_type": "code",
   "execution_count": 28,
   "metadata": {
    "ExecuteTime": {
     "end_time": "2022-05-31T04:27:53.364781Z",
     "start_time": "2022-05-31T04:27:53.359168Z"
    },
    "id": "sIGvF7UgHyb7"
   },
   "outputs": [],
   "source": [
    "# LGBM\n",
    "from lightgbm import LGBMClassifier\n",
    "\n",
    "# wine 데이터셋은 데이터 양이 적어 LGBM이 적합하지는 않음.\n",
    "\n",
    "model = LGBMClassifier(max_depth = 10, # 트리의 최대 깊이. 과적합을 다룰 때 사용.\n",
    "                                       # feature가 많으면 크게 설정.\n",
    "                       learning_rate = 0.01,\n",
    "                       n_estimators  = 400,\n",
    "\n",
    "                       min_child_samples = 20, # = min_data_in_leaf 과적합을 다룰 때 사용. \n",
    "                                               # 이 값을  크게 설정하면 트리가 깊어지는것을 방지\n",
    "                       \n",
    "                       num_leaves = 31,      # 트리의 leave 수 조절. 과적합을 다룰 때 사용.\n",
    "                       \n",
    "                       objective = 'multiclass', # 회귀문제인지 분류문제인지를 정함.\n",
    "                                               # regression, binary, multiclass        \n",
    "                       \n",
    "                       boosting = 'gbdt',      # 실행하고자 하는 알고리즘 타입을 정의\n",
    "                                               # gbdt, rf, dart, goss\n",
    "                       \n",
    "                       metric = 'multi_logloss', # 모델의 손실을 정함\n",
    "                                                  # mae, mse, binary_logloss, multi_logloss\n",
    "                      \n",
    "                       scale_pos_weight = 1)      # 불균형 데이터셋에서 가중치를 증가시킴.\n",
    "                                                  # 1이 디폴트값, 불균형 정도에 따라 조절   \n",
    "\n",
    "# num_leaves의 개수를 중심으로 min_child_samples, max_depth를 \n",
    "# 함께 조정하면서 모델의 복잡도를 줄이는 것이 기본 튜닝"
   ]
  },
  {
   "cell_type": "code",
   "execution_count": 29,
   "metadata": {
    "ExecuteTime": {
     "end_time": "2022-05-31T04:27:54.373691Z",
     "start_time": "2022-05-31T04:27:53.364781Z"
    },
    "colab": {
     "base_uri": "https://localhost:8080/"
    },
    "id": "8KBDVSwtHmRS",
    "outputId": "f532ef0b-fc34-41bb-9c40-e9a52ead6d76"
   },
   "outputs": [
    {
     "name": "stdout",
     "output_type": "stream",
     "text": [
      "[LightGBM] [Warning] boosting is set=gbdt, boosting_type=gbdt will be ignored. Current value: boosting=gbdt\n",
      "[LightGBM] [Warning] boosting is set=gbdt, boosting_type=gbdt will be ignored. Current value: boosting=gbdt\n",
      "[LightGBM] [Warning] boosting is set=gbdt, boosting_type=gbdt will be ignored. Current value: boosting=gbdt\n",
      "[LightGBM] [Warning] boosting is set=gbdt, boosting_type=gbdt will be ignored. Current value: boosting=gbdt\n",
      "[LightGBM] [Warning] boosting is set=gbdt, boosting_type=gbdt will be ignored. Current value: boosting=gbdt\n",
      "[LightGBM] [Warning] boosting is set=gbdt, boosting_type=gbdt will be ignored. Current value: boosting=gbdt\n",
      "[LightGBM] [Warning] boosting is set=gbdt, boosting_type=gbdt will be ignored. Current value: boosting=gbdt\n",
      "[LightGBM] [Warning] boosting is set=gbdt, boosting_type=gbdt will be ignored. Current value: boosting=gbdt\n",
      "[LightGBM] [Warning] boosting is set=gbdt, boosting_type=gbdt will be ignored. Current value: boosting=gbdt\n",
      "[LightGBM] [Warning] boosting is set=gbdt, boosting_type=gbdt will be ignored. Current value: boosting=gbdt\n",
      "K-겹 교차검증 Acc :  0.965 (+/- 0.048)\n"
     ]
    }
   ],
   "source": [
    "# K-겹 교차검증\n",
    "from sklearn.model_selection import cross_val_score\n",
    "lgbm = model.fit(X_train,y_train)\n",
    "\n",
    "scores = cross_val_score(estimator= lgbm,\n",
    "                           X = X_train, y = y_train, cv = 10, \n",
    "                           scoring = 'accuracy')\n",
    "print(f'K-겹 교차검증 Acc : {scores.mean() : .3f} (+/- {scores.std():.3f})')"
   ]
  },
  {
   "cell_type": "code",
   "execution_count": 30,
   "metadata": {
    "ExecuteTime": {
     "end_time": "2022-05-31T04:27:54.389694Z",
     "start_time": "2022-05-31T04:27:54.374691Z"
    },
    "colab": {
     "base_uri": "https://localhost:8080/"
    },
    "id": "JFMBmwYLHn77",
    "outputId": "f431a75b-ef94-4980-c529-66c7b2011c43"
   },
   "outputs": [
    {
     "name": "stdout",
     "output_type": "stream",
     "text": [
      "스코어 Acc :  1.000  1.000\n"
     ]
    }
   ],
   "source": [
    "# 스코어\n",
    "train_score = lgbm.score(X_train, y_train)\n",
    "test_score = lgbm.score(X_test, y_test)\n",
    "print(f'스코어 Acc : {train_score : .3f} {test_score : .3f}')"
   ]
  },
  {
   "cell_type": "markdown",
   "metadata": {
    "ExecuteTime": {
     "end_time": "2022-05-30T06:43:05.052486Z",
     "start_time": "2022-05-30T06:43:05.035479Z"
    }
   },
   "source": [
    "# xgbm"
   ]
  },
  {
   "cell_type": "markdown",
   "metadata": {},
   "source": [
    "* `핵심 파라미터`\n",
    "    * General parameters - 어떤 모델을 부스팅할 것인가. (트리 or 선형)\n",
    "    * Booster parameters - 어떤 부스팅을 쓸것인지.\n",
    "    * Learning task parameters - 회귀/분류/랭킹 등에 따라 달라짐\n",
    "\n",
    "* `General parameters`\n",
    "    * booster - boost 타입\n",
    "        - [gbtree*, gblinear, dart]\n",
    "    * verbose - 출력메세지\n",
    "        - 0 (silent), 1 (warning), 2 (info), 3 (debug)\n",
    "\n",
    "* `Tree Boost parameters`\n",
    "    * eta - 학습률\n",
    "        - default = 0.3, [0~1] \n",
    "    * gamma - min-split-loss : gamma 가 커질수록 가중치 변동이 적음\n",
    "        - default = 0, [0~무한)\n",
    "    *  max_depth - 트리 최대 깊이\n",
    "        - default = 6, [0~무한)\n",
    "        - 0은 제한없음, Tree 모델에서는 항상 제한을 둬야함\n",
    "    * min_child_weight - child 노드의 최소 가중치\n",
    "        - default = 1, [0~무한)\n",
    "        - 값이 커질수록 가중치 변동이 적음\n",
    "    * max_delta_step - 최대 가중치 변동량\n",
    "        - default = 0, [0~무한)\n",
    "        - 잘 사용하지 않는 파라미터이지만, 로지스틱 회기에 1~10 사이 값을 주어 사용하면 효과가 있음\n",
    "    * subsample - train instances 의 비율\n",
    "        - default = 1, (0~1]\n",
    "        - 비율로 추출하며 표본을 만들어서 fit 을 함\n",
    "        - 과적합을 막음\n",
    "    * lambda - 가중치의 L2 정규화 텀\n",
    "        - default = 1\n",
    "        - 값이 커지면 가중치 변동이 적음\n",
    "    * alpha - 가중치의 L1 정규화 텀\n",
    "        - default = 0\n",
    "        - 값이 커지면 가중치 변동이 적음\n",
    "    * max_leaves - 최대 노드 수\n",
    "        - default = 0\n",
    "        - tree method 가 exact 일때는 사용하지 않음\n",
    "        \n",
    "* `Linear Boost parameters`\n",
    "    * lambda - default = 0\n",
    "    * alpha - default = 0\n",
    "    * feature_selector\n",
    "        - default = cyclic, [cyclic, shuffle, random, greedy]\n",
    "\n",
    "* `Learning Task parameters`\n",
    "    * objective - 목적\n",
    "        - default = reg:squarederror - 제곱오차 회귀\n",
    "        - reg:logistic - 로지스틱 회귀\n",
    "        - binary:logistic - 로지스틱 이진분류\n",
    "        - binary:logitraw - 로지스틱 이진분류(회귀)\n",
    "        - multi:softmax - 소프트맥스 다중 분류\n",
    "        - multi:softprob - 소프트맥스와 같지만 output 이 matrix 임\n",
    "    * eval_metric - 평가 지표\n",
    "        - rmse : root mean square error\n",
    "        - rmsle : root mean square log error\n",
    "        - mae : mean absolute error\n",
    "        - mape : mean absolute percentage error\n",
    "        - mphe : mean Pseudo Huber error\n",
    "        - logloss \n",
    "        - error : 분류 #(wrong cases)/#(all cases)\n",
    "        - merror : 다중 분류 error\n",
    "        - auc : 분류\n",
    "        - logloss\n",
    "        - mlogloss - 다중 클래스 logloss.\n",
    "        - 직접제작한 함수 가능"
   ]
  },
  {
   "cell_type": "code",
   "execution_count": 31,
   "metadata": {
    "ExecuteTime": {
     "end_time": "2022-05-31T04:27:54.405699Z",
     "start_time": "2022-05-31T04:27:54.390695Z"
    }
   },
   "outputs": [
    {
     "data": {
      "text/plain": [
       "array([3, 1, 3, 2, 3, 1, 2, 1, 2, 2, 2, 1, 3, 2, 1, 1, 1, 2, 3, 2, 3, 3,\n",
       "       2, 3, 3, 2, 2, 1, 2, 2, 3, 3, 1, 2, 3, 2, 1, 2, 3, 3, 2, 2, 1, 1,\n",
       "       1, 3, 2, 3, 1, 2, 2, 3, 1, 2, 2, 2, 3, 1, 1, 3, 2, 2, 3, 1, 1, 2,\n",
       "       3, 1, 2, 1, 2, 3, 2, 2, 1, 2, 3, 3, 1, 1, 1, 1, 1, 1, 1, 1, 3, 3,\n",
       "       2, 1, 2, 2, 3, 3, 2, 3, 1, 2, 2, 2, 1, 2, 2, 3, 1, 2, 2, 2, 2, 1,\n",
       "       1, 2, 3, 1, 2, 2, 1, 1, 1, 2, 2, 3, 2, 3, 3, 1, 1, 2, 1, 2, 3, 2,\n",
       "       1, 1, 2, 2, 2, 3, 1, 3, 1, 3], dtype=int64)"
      ]
     },
     "execution_count": 31,
     "metadata": {},
     "output_type": "execute_result"
    }
   ],
   "source": [
    "from xgboost import XGBClassifier\n",
    "y_train"
   ]
  },
  {
   "cell_type": "code",
   "execution_count": 32,
   "metadata": {
    "ExecuteTime": {
     "end_time": "2022-05-31T04:27:54.421702Z",
     "start_time": "2022-05-31T04:27:54.406699Z"
    }
   },
   "outputs": [
    {
     "data": {
      "text/plain": [
       "array([2, 0, 2, 1, 2, 0, 1, 0, 1, 1, 1, 0, 2, 1, 0, 0, 0, 1, 2, 1, 2, 2,\n",
       "       1, 2, 2, 1, 1, 0, 1, 1, 2, 2, 0, 1, 2, 1, 0, 1, 2, 2, 1, 1, 0, 0,\n",
       "       0, 2, 1, 2, 0, 1, 1, 2, 0, 1, 1, 1, 2, 0, 0, 2, 1, 1, 2, 0, 0, 1,\n",
       "       2, 0, 1, 0, 1, 2, 1, 1, 0, 1, 2, 2, 0, 0, 0, 0, 0, 0, 0, 0, 2, 2,\n",
       "       1, 0, 1, 1, 2, 2, 1, 2, 0, 1, 1, 1, 0, 1, 1, 2, 0, 1, 1, 1, 1, 0,\n",
       "       0, 1, 2, 0, 1, 1, 0, 0, 0, 1, 1, 2, 1, 2, 2, 0, 0, 1, 0, 1, 2, 1,\n",
       "       0, 0, 1, 1, 1, 2, 0, 2, 0, 2], dtype=int64)"
      ]
     },
     "execution_count": 32,
     "metadata": {},
     "output_type": "execute_result"
    }
   ],
   "source": [
    "y_train = y_train-1\n",
    "y_train"
   ]
  },
  {
   "cell_type": "code",
   "execution_count": 33,
   "metadata": {
    "ExecuteTime": {
     "end_time": "2022-05-31T04:27:54.430428Z",
     "start_time": "2022-05-31T04:27:54.423702Z"
    }
   },
   "outputs": [],
   "source": [
    "xgbm = XGBClassifier(use_label_encoder=False, eval_metric='mlogloss')"
   ]
  },
  {
   "cell_type": "code",
   "execution_count": 34,
   "metadata": {
    "ExecuteTime": {
     "end_time": "2022-05-31T04:27:54.487471Z",
     "start_time": "2022-05-31T04:27:54.430428Z"
    },
    "scrolled": true
   },
   "outputs": [
    {
     "data": {
      "text/plain": [
       "XGBClassifier(base_score=0.5, booster='gbtree', colsample_bylevel=1,\n",
       "              colsample_bynode=1, colsample_bytree=1, eval_metric='mlogloss',\n",
       "              gamma=0, gpu_id=-1, importance_type='gain',\n",
       "              interaction_constraints='', learning_rate=0.300000012,\n",
       "              max_delta_step=0, max_depth=6, min_child_weight=1, missing=nan,\n",
       "              monotone_constraints='()', n_estimators=100, n_jobs=16,\n",
       "              num_parallel_tree=1, objective='multi:softprob', random_state=0,\n",
       "              reg_alpha=0, reg_lambda=1, scale_pos_weight=None, subsample=1,\n",
       "              tree_method='exact', use_label_encoder=False,\n",
       "              validate_parameters=1, verbosity=None)"
      ]
     },
     "execution_count": 34,
     "metadata": {},
     "output_type": "execute_result"
    }
   ],
   "source": [
    "xgbm.fit(X_train, y_train)"
   ]
  },
  {
   "cell_type": "code",
   "execution_count": 39,
   "metadata": {
    "ExecuteTime": {
     "end_time": "2022-05-31T04:29:24.994324Z",
     "start_time": "2022-05-31T04:29:24.554950Z"
    }
   },
   "outputs": [
    {
     "name": "stdout",
     "output_type": "stream",
     "text": [
      "K-겹 교차검증 Acc :  0.972 (+/- 0.034)\n"
     ]
    }
   ],
   "source": [
    "# K-겹 교차검증\n",
    "scores = cross_val_score(estimator= xgbm,\n",
    "                           X = X_train, y = y_train, cv = 10, \n",
    "                           scoring = 'accuracy')\n",
    "print(f'K-겹 교차검증 Acc : {scores.mean() : .3f} (+/- {scores.std():.3f})')"
   ]
  },
  {
   "cell_type": "code",
   "execution_count": 41,
   "metadata": {
    "ExecuteTime": {
     "end_time": "2022-05-31T04:29:40.130269Z",
     "start_time": "2022-05-31T04:29:40.113929Z"
    }
   },
   "outputs": [
    {
     "name": "stdout",
     "output_type": "stream",
     "text": [
      "스코어 Acc :  1.000  0.972\n"
     ]
    }
   ],
   "source": [
    "# 스코어\n",
    "train_score = xgbm.score(X_train, y_train)\n",
    "test_score = xgbm.score(X_test, y_test-1)\n",
    "\n",
    "print(f'스코어 Acc : {train_score : .3f} {test_score : .3f}')"
   ]
  },
  {
   "cell_type": "code",
   "execution_count": 44,
   "metadata": {
    "ExecuteTime": {
     "end_time": "2022-05-31T04:30:13.985304Z",
     "start_time": "2022-05-31T04:30:13.971444Z"
    }
   },
   "outputs": [
    {
     "data": {
      "text/plain": [
       "1.0"
      ]
     },
     "execution_count": 44,
     "metadata": {},
     "output_type": "execute_result"
    }
   ],
   "source": [
    "from sklearn.metrics import accuracy_score\n",
    "accuracy = accuracy_score(y_test, y_pred)\n",
    "accuracy"
   ]
  },
  {
   "cell_type": "code",
   "execution_count": null,
   "metadata": {},
   "outputs": [],
   "source": []
  }
 ],
 "metadata": {
  "colab": {
   "collapsed_sections": [],
   "name": "Untitled0.ipynb",
   "provenance": []
  },
  "kernelspec": {
   "display_name": "Python 3 (ipykernel)",
   "language": "python",
   "name": "python3"
  },
  "language_info": {
   "codemirror_mode": {
    "name": "ipython",
    "version": 3
   },
   "file_extension": ".py",
   "mimetype": "text/x-python",
   "name": "python",
   "nbconvert_exporter": "python",
   "pygments_lexer": "ipython3",
   "version": "3.8.13"
  },
  "toc": {
   "base_numbering": 1,
   "nav_menu": {},
   "number_sections": true,
   "sideBar": true,
   "skip_h1_title": false,
   "title_cell": "Table of Contents",
   "title_sidebar": "Contents",
   "toc_cell": false,
   "toc_position": {},
   "toc_section_display": true,
   "toc_window_display": false
  }
 },
 "nbformat": 4,
 "nbformat_minor": 1
}
