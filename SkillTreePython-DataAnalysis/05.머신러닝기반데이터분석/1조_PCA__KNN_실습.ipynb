{
 "cells": [
  {
   "cell_type": "markdown",
   "metadata": {
    "id": "y4qzEwGusPFx"
   },
   "source": [
    "## 알고리즘 정해서 발표하기\n",
    "\n",
    "1. PCA, KNN\n",
    "2. 앙상블(Ensemble), 배깅(Bagging)\n",
    "3. 부스팅(Bossting)\n",
    "\n",
    "포함되어야 할 내용\n",
    "- 개념 설명\n",
    "- (앙상블, 배깅, 부스팅)의 경우 관련 모델\n",
    "- 사이킷런 구현시 함수의 각 파라미터"
   ]
  },
  {
   "cell_type": "markdown",
   "metadata": {
    "id": "5wOHBjrdadYj"
   },
   "source": [
    "```\n",
    "import numpy as np\n",
    "import pandas as pd\n",
    "import matplotlib.pyplot as plt\n",
    "import seaborn as sns\n",
    "```"
   ]
  },
  {
   "cell_type": "code",
   "execution_count": 4,
   "metadata": {
    "ExecuteTime": {
     "end_time": "2022-06-02T00:32:59.827315Z",
     "start_time": "2022-06-02T00:32:58.425657Z"
    },
    "id": "r-6d-c4I26dq"
   },
   "outputs": [],
   "source": [
    "import numpy as np\n",
    "import pandas as pd\n",
    "import matplotlib.pyplot as plt\n",
    "import seaborn as sns"
   ]
  },
  {
   "cell_type": "code",
   "execution_count": 5,
   "metadata": {
    "ExecuteTime": {
     "end_time": "2022-06-02T00:32:59.863752Z",
     "start_time": "2022-06-02T00:32:59.827315Z"
    },
    "id": "uaw6hKD1Nzv7"
   },
   "outputs": [],
   "source": [
    "from matplotlib.colors import ListedColormap\n",
    "\n",
    "def draw_decision_region(model, X, y, \n",
    "                         X_test=[], y_test=[], \n",
    "                         features=[], labels=[], title=''): # 결정경계\n",
    "\n",
    "  colors = ('orangered', 'dodgerblue', 'limegreen', 'fuchsia', 'blueviolet')\n",
    "  cmap = ListedColormap(colors[:len(np.unique( y))])\n",
    "\n",
    "  x0mn, x0mx = X[:,0].min() -1, X[:,0].max() +1\n",
    "  x1mn, x1mx = X[:,1].min() -1, X[:,1].max() +1\n",
    "  x0 = np.arange(x0mn, x0mx, 0.02)\n",
    "  x1 = np.arange(x1mn, x1mx, 0.02)\n",
    "  #print('* arange', x0.shape, x1.shape)\n",
    "  X0, X1 = np.meshgrid(x0, x1)\n",
    "  #print('* meshgrid', x0.shape, x1.shape)\n",
    "  x0, x1 = X0.ravel(), X1.ravel()\n",
    "  #print('* ravel', x0.shape, x1.shape)\n",
    "  x_every = np.array([x0, x1]).T\n",
    "  #print('* concat', x_set.shape)\n",
    "  y_pred = model.predict(x_every)\n",
    "  #print('* y_pred', y_pred.shape)\n",
    "  Y_pred = y_pred.reshape(X0.shape)\n",
    "  #print('* y_pred', y_pred.shape)\n",
    "\n",
    "  if not len(labels): labels=[i for i in range(len(np.unique(y)))]\n",
    "  plt.contourf(X0, X1, Y_pred, alpha=0.4, cmap=cmap )\n",
    "  for idx, c in enumerate(np.unique(y)):\n",
    "    plt.scatter(x = X[y == c, 0], \n",
    "                y = X[y == c, 1],\n",
    "                alpha=0.8,\n",
    "                c=colors[idx],\n",
    "                label=labels[idx],\n",
    "                marker='x',\n",
    "                linewidth=2)\n",
    "  if len(X_test):\n",
    "    for idx, c in enumerate(np.unique(y_test)):\n",
    "      plt.scatter(x = X_test[y_test == c, 0], \n",
    "                  y = X_test[y_test == c, 1],\n",
    "                  alpha=0.8,\n",
    "                  c=colors[idx],\n",
    "                  marker='o',\n",
    "                  edgecolor='k',\n",
    "                  linewidth=2)\n",
    "  \n",
    "  if features:\n",
    "    plt.xlabel(features[0])\n",
    "    plt.ylabel(features[1])\n",
    "  if title:\n",
    "    plt.title(title)\n",
    "  plt.legend()"
   ]
  },
  {
   "cell_type": "markdown",
   "metadata": {
    "id": "JlU3-2s3as9w"
   },
   "source": [
    "## 데이터 소개 : 와인 데이터셋\n",
    "---\n",
    "\n",
    "\n",
    "```\n",
    "df_wine = pd.read_csv('https://archive.ics.uci.edu/ml/'\n",
    "                      'machine-learning-databases/wine/wine.data',\n",
    "                      header=None)\n",
    "df_wine.columns = ['Class label', 'Alcohol', 'Malic acid', 'Ash',\n",
    "                   'Alcalinity of ash', 'Magnesium', 'Total phenols',\n",
    "                   'Flavanoids', 'Nonflavanoid phenols', 'Proanthocyanins',\n",
    "                   'Color intensity', 'Hue', 'OD280/OD315 of diluted wines',\n",
    "                   'Proline']\n",
    "```"
   ]
  },
  {
   "cell_type": "markdown",
   "metadata": {
    "id": "Bolf_EdCfHie"
   },
   "source": [
    "### 데이터 가져오기"
   ]
  },
  {
   "cell_type": "code",
   "execution_count": 6,
   "metadata": {
    "ExecuteTime": {
     "end_time": "2022-06-02T00:33:01.186949Z",
     "start_time": "2022-06-02T00:32:59.881346Z"
    },
    "id": "6fvpM0djI89V"
   },
   "outputs": [
    {
     "name": "stdout",
     "output_type": "stream",
     "text": [
      "(178, 14)\n"
     ]
    },
    {
     "data": {
      "text/html": [
       "<div>\n",
       "<style scoped>\n",
       "    .dataframe tbody tr th:only-of-type {\n",
       "        vertical-align: middle;\n",
       "    }\n",
       "\n",
       "    .dataframe tbody tr th {\n",
       "        vertical-align: top;\n",
       "    }\n",
       "\n",
       "    .dataframe thead th {\n",
       "        text-align: right;\n",
       "    }\n",
       "</style>\n",
       "<table border=\"1\" class=\"dataframe\">\n",
       "  <thead>\n",
       "    <tr style=\"text-align: right;\">\n",
       "      <th></th>\n",
       "      <th>Class label</th>\n",
       "      <th>Alcohol</th>\n",
       "      <th>Malic acid</th>\n",
       "      <th>Ash</th>\n",
       "      <th>Alcalinity of ash</th>\n",
       "      <th>Magnesium</th>\n",
       "      <th>Total phenols</th>\n",
       "      <th>Flavanoids</th>\n",
       "      <th>Nonflavanoid phenols</th>\n",
       "      <th>Proanthocyanins</th>\n",
       "      <th>Color intensity</th>\n",
       "      <th>Hue</th>\n",
       "      <th>OD280/OD315 of diluted wines</th>\n",
       "      <th>Proline</th>\n",
       "    </tr>\n",
       "  </thead>\n",
       "  <tbody>\n",
       "    <tr>\n",
       "      <th>0</th>\n",
       "      <td>1</td>\n",
       "      <td>14.23</td>\n",
       "      <td>1.71</td>\n",
       "      <td>2.43</td>\n",
       "      <td>15.6</td>\n",
       "      <td>127</td>\n",
       "      <td>2.80</td>\n",
       "      <td>3.06</td>\n",
       "      <td>0.28</td>\n",
       "      <td>2.29</td>\n",
       "      <td>5.64</td>\n",
       "      <td>1.04</td>\n",
       "      <td>3.92</td>\n",
       "      <td>1065</td>\n",
       "    </tr>\n",
       "    <tr>\n",
       "      <th>1</th>\n",
       "      <td>1</td>\n",
       "      <td>13.20</td>\n",
       "      <td>1.78</td>\n",
       "      <td>2.14</td>\n",
       "      <td>11.2</td>\n",
       "      <td>100</td>\n",
       "      <td>2.65</td>\n",
       "      <td>2.76</td>\n",
       "      <td>0.26</td>\n",
       "      <td>1.28</td>\n",
       "      <td>4.38</td>\n",
       "      <td>1.05</td>\n",
       "      <td>3.40</td>\n",
       "      <td>1050</td>\n",
       "    </tr>\n",
       "    <tr>\n",
       "      <th>2</th>\n",
       "      <td>1</td>\n",
       "      <td>13.16</td>\n",
       "      <td>2.36</td>\n",
       "      <td>2.67</td>\n",
       "      <td>18.6</td>\n",
       "      <td>101</td>\n",
       "      <td>2.80</td>\n",
       "      <td>3.24</td>\n",
       "      <td>0.30</td>\n",
       "      <td>2.81</td>\n",
       "      <td>5.68</td>\n",
       "      <td>1.03</td>\n",
       "      <td>3.17</td>\n",
       "      <td>1185</td>\n",
       "    </tr>\n",
       "    <tr>\n",
       "      <th>3</th>\n",
       "      <td>1</td>\n",
       "      <td>14.37</td>\n",
       "      <td>1.95</td>\n",
       "      <td>2.50</td>\n",
       "      <td>16.8</td>\n",
       "      <td>113</td>\n",
       "      <td>3.85</td>\n",
       "      <td>3.49</td>\n",
       "      <td>0.24</td>\n",
       "      <td>2.18</td>\n",
       "      <td>7.80</td>\n",
       "      <td>0.86</td>\n",
       "      <td>3.45</td>\n",
       "      <td>1480</td>\n",
       "    </tr>\n",
       "    <tr>\n",
       "      <th>4</th>\n",
       "      <td>1</td>\n",
       "      <td>13.24</td>\n",
       "      <td>2.59</td>\n",
       "      <td>2.87</td>\n",
       "      <td>21.0</td>\n",
       "      <td>118</td>\n",
       "      <td>2.80</td>\n",
       "      <td>2.69</td>\n",
       "      <td>0.39</td>\n",
       "      <td>1.82</td>\n",
       "      <td>4.32</td>\n",
       "      <td>1.04</td>\n",
       "      <td>2.93</td>\n",
       "      <td>735</td>\n",
       "    </tr>\n",
       "  </tbody>\n",
       "</table>\n",
       "</div>"
      ],
      "text/plain": [
       "   Class label  Alcohol  Malic acid   Ash  Alcalinity of ash  Magnesium  \\\n",
       "0            1    14.23        1.71  2.43               15.6        127   \n",
       "1            1    13.20        1.78  2.14               11.2        100   \n",
       "2            1    13.16        2.36  2.67               18.6        101   \n",
       "3            1    14.37        1.95  2.50               16.8        113   \n",
       "4            1    13.24        2.59  2.87               21.0        118   \n",
       "\n",
       "   Total phenols  Flavanoids  Nonflavanoid phenols  Proanthocyanins  \\\n",
       "0           2.80        3.06                  0.28             2.29   \n",
       "1           2.65        2.76                  0.26             1.28   \n",
       "2           2.80        3.24                  0.30             2.81   \n",
       "3           3.85        3.49                  0.24             2.18   \n",
       "4           2.80        2.69                  0.39             1.82   \n",
       "\n",
       "   Color intensity   Hue  OD280/OD315 of diluted wines  Proline  \n",
       "0             5.64  1.04                          3.92     1065  \n",
       "1             4.38  1.05                          3.40     1050  \n",
       "2             5.68  1.03                          3.17     1185  \n",
       "3             7.80  0.86                          3.45     1480  \n",
       "4             4.32  1.04                          2.93      735  "
      ]
     },
     "execution_count": 6,
     "metadata": {},
     "output_type": "execute_result"
    }
   ],
   "source": [
    "df_wine = pd.read_csv('https://archive.ics.uci.edu/ml/'\n",
    "                      'machine-learning-databases/wine/wine.data',\n",
    "                      header=None)\n",
    "df_wine.columns = ['Class label', 'Alcohol', 'Malic acid', 'Ash',\n",
    "                   'Alcalinity of ash', 'Magnesium', 'Total phenols',\n",
    "                   'Flavanoids', 'Nonflavanoid phenols', 'Proanthocyanins',\n",
    "                   'Color intensity', 'Hue', 'OD280/OD315 of diluted wines',\n",
    "                   'Proline']\n",
    "\n",
    "print(df_wine.shape)\n",
    "df_wine.head()"
   ]
  },
  {
   "cell_type": "code",
   "execution_count": 7,
   "metadata": {
    "ExecuteTime": {
     "end_time": "2022-06-02T00:33:01.203371Z",
     "start_time": "2022-06-02T00:33:01.186949Z"
    },
    "id": "9VLdlmwRemzJ"
   },
   "outputs": [
    {
     "data": {
      "text/plain": [
       "((178, 13), (178,))"
      ]
     },
     "execution_count": 7,
     "metadata": {},
     "output_type": "execute_result"
    }
   ],
   "source": [
    "# X, y로 구분 + 넘파이로 변환\n",
    "X = df_wine.drop('Class label', axis = 1).values\n",
    "y = df_wine['Class label'].values\n",
    "X.shape, y.shape"
   ]
  },
  {
   "cell_type": "markdown",
   "metadata": {
    "id": "uJHdTvhAzY5c"
   },
   "source": [
    "* df_wine.isnull().sum() -> 누락데이터 없음\n",
    "* df_wine.info() -> 전부 수치데이터"
   ]
  },
  {
   "cell_type": "code",
   "execution_count": 8,
   "metadata": {
    "ExecuteTime": {
     "end_time": "2022-06-02T00:33:09.767201Z",
     "start_time": "2022-06-02T00:33:07.992431Z"
    },
    "id": "sMgchLz6z40M"
   },
   "outputs": [
    {
     "data": {
      "image/png": "[encoded data removed]",
      "text/plain": [
       "<Figure size 1296x576 with 14 Axes>"
      ]
     },
     "metadata": {
      "needs_background": "light"
     },
     "output_type": "display_data"
    }
   ],
   "source": [
    "features = [ 'Alcohol', 'Malic acid', 'Ash',\n",
    "                   'Alcalinity of ash', 'Magnesium', 'Total phenols',\n",
    "                   'Flavanoids', 'Nonflavanoid phenols', 'Proanthocyanins',\n",
    "                   'Color intensity', 'Hue', 'OD280/OD315 of diluted wines',\n",
    "                   'Proline']\n",
    "fig, axes = plt.subplots(2, 7, figsize =(18,8))\n",
    "axes = axes.flatten()\n",
    "for feature,ax in zip(features, axes):\n",
    "    sns.histplot(data = df_wine, x = feature, ax = ax)\n",
    "plt.show()"
   ]
  },
  {
   "cell_type": "code",
   "execution_count": 9,
   "metadata": {
    "ExecuteTime": {
     "end_time": "2022-06-02T00:33:09.937107Z",
     "start_time": "2022-06-02T00:33:09.768195Z"
    },
    "id": "ZiPPqE7daZlL"
   },
   "outputs": [
    {
     "data": {
      "image/png": "[encoded data removed]",
      "text/plain": [
       "<Figure size 432x288 with 1 Axes>"
      ]
     },
     "metadata": {
      "needs_background": "light"
     },
     "output_type": "display_data"
    }
   ],
   "source": [
    "# 클래스(y)별 개수(countplot)\n",
    "sns.countplot(data = df_wine, x = 'Class label')\n",
    "plt.show()"
   ]
  },
  {
   "cell_type": "markdown",
   "metadata": {
    "id": "GbTUQ5MKe8qy"
   },
   "source": [
    "### 전처리"
   ]
  },
  {
   "cell_type": "code",
   "execution_count": 10,
   "metadata": {
    "ExecuteTime": {
     "end_time": "2022-06-02T00:33:09.954191Z",
     "start_time": "2022-06-02T00:33:09.939020Z"
    },
    "id": "L2E2OJA22Ey8"
   },
   "outputs": [],
   "source": [
    "# 라벨 인코딩 {1,2,3} -> {0,1,2}\n",
    "from sklearn.preprocessing import LabelEncoder\n",
    "le = LabelEncoder()\n",
    "y = le.fit_transform(y)\n",
    "\n",
    "# 훈련-테스트 데이터 분리\n",
    "from sklearn.model_selection import train_test_split\n",
    "X_train, X_test, y_train, y_test = train_test_split(X,y,\n",
    "                                                    test_size=0.2,\n",
    "                                                    stratify=y,\n",
    "                                                    random_state=1)"
   ]
  },
  {
   "cell_type": "markdown",
   "metadata": {
    "id": "Sw1SvGn4h9NA"
   },
   "source": [
    "### 모델 파이프라인 제작\n",
    "### 모델링 (파이프라인 없애면)"
   ]
  },
  {
   "cell_type": "markdown",
   "metadata": {
    "id": "njMXgtFKhOg_"
   },
   "source": [
    "#### PCA \n",
    "\n",
    "```\n",
    "sklearn.decomposition.PCA( n_components=None,\n",
    "                           copy=True, \n",
    "                           whiten=False, \n",
    "                           svd_solver='auto', \n",
    "                           tol=0.0, \n",
    "                           iterated_power='auto', \n",
    "                           n_oversamples=10\n",
    "                           power_iteration_normalizer='auto'\n",
    "                           random_state=None)\n",
    "\n",
    "* n_components=None {int,float,'mle'}\n",
    "\n",
    "* copy=True, \n",
    "\n",
    "* whiten=False,\n",
    "\n",
    "* svd_solver='auto' {'full', 'arpack', 'randomized'}\n",
    "\n",
    "    - 'full' : LAPACK solver를 호출. \n",
    "    - 'arpack' :  ARPACK solver를 호출. \n",
    "    - 'randomized' : 랜덤 PCA라는 확률적 알고리즘을 사용할 때 호출.\n",
    "    - 'auto' : 원본 데이터의 크기나 차원 수가 500보다 크고, 축소할 차원이 이것들의 80%보다 작으면 sklearn은 자동으로 랜덤 PCA 알고리즘을 사용\n",
    "\n",
    "* tol=0.0 {float}\n",
    "    svd_solver ==\"arpack\"을 사용할 때, 특이값의 허용오차\n",
    "    \n",
    "* iterated_power='auto' {int}\n",
    "    svd_solver == \"randomized\" 일 때 거듭제곱식 반복 횟수\n",
    "    \n",
    "* n_oversamples=10 {int}\n",
    "    svd_solver == \"randomized\" 일 때 사용\n",
    "    \n",
    "* power_iteration_normalizer='auto' {'QR', 'LU', 'none'}\n",
    "    svd_solver == \"randomized 일때 사용\n",
    "* random_state=None {int} \n",
    "    난수 값\n",
    "```"
   ]
  },
  {
   "cell_type": "markdown",
   "metadata": {
    "id": "khP9TT0ufBaQ"
   },
   "source": [
    "#### KNN \n",
    "```\n",
    "sklearn.neighbors.KNeighborsClassifier(n_neighbors=5,\n",
    "                                       weights='uniform', \n",
    "                                       algorithm='auto', \n",
    "                                       leaf_size=30, \n",
    "                                       p=2, \n",
    "                                       metric='minkowski',\n",
    "                                       metric_params=None, \n",
    "                                       n_jobs=None)\n",
    "\n",
    "\n",
    "* n_neighbors=5 {int}\n",
    "\n",
    "* weights='uniform' {‘uniform’, ‘distance’} or callable \n",
    "\n",
    "    - 'uniform': 각 이웃에 동일한 가중치를 준다.\n",
    "    - ‘distance’: 가까운 이웃이 멀리 있는 이웃보다 더욱 큰 영향을 미친다.\n",
    "\n",
    "* algorithm='auto' {'auto', 'ball_tree', 'kd_tree', 'brute'}\n",
    "\n",
    "* leaf_size=30 {int}\n",
    "    - 트리 알고리즘에서 총 가지 수\n",
    "    \n",
    "* p=2: {int}\n",
    "    minkowski 의 매개변수\n",
    "    - p = 1: 맨허튼 거리 공식 사용\n",
    "    - p = 2: 유클리디안 거리 공식 사용\n",
    "\n",
    "* metric='minkowski' {str or callable}\n",
    "\n",
    "* metric_params=None {dict}\n",
    "\n",
    "* n_jobs=None {int}\n",
    "```"
   ]
  },
  {
   "cell_type": "markdown",
   "metadata": {
    "id": "g2Jj5bpkcCpO"
   },
   "source": [
    "#### GridSearchCV를 이용한 하이퍼파라미터 튜닝"
   ]
  },
  {
   "cell_type": "code",
   "execution_count": 14,
   "metadata": {
    "ExecuteTime": {
     "end_time": "2022-06-02T00:39:00.929243Z",
     "start_time": "2022-06-02T00:39:00.913333Z"
    },
    "id": "zlWU1qS1imQw"
   },
   "outputs": [],
   "source": [
    "from sklearn.pipeline import *\n",
    "from sklearn.preprocessing import StandardScaler\n",
    "from sklearn.decomposition import PCA\n",
    "from sklearn.neighbors import KNeighborsClassifier\n",
    "from sklearn.model_selection import GridSearchCV\n",
    "\n",
    "pipe = Pipeline([(\"scaler\", StandardScaler()),\n",
    "                 (\"pca\", PCA(random_state=1, n_components=2)),\n",
    "                 (\"knn\", KNeighborsClassifier())])"
   ]
  },
  {
   "cell_type": "code",
   "execution_count": null,
   "metadata": {},
   "outputs": [],
   "source": [
    "model = KNeighborsClassifier()"
   ]
  },
  {
   "cell_type": "code",
   "execution_count": 40,
   "metadata": {
    "ExecuteTime": {
     "end_time": "2022-06-02T00:54:41.049379Z",
     "start_time": "2022-06-02T00:54:02.595379Z"
    },
    "colab": {
     "background_save": true
    },
    "id": "XqgRULRl2Qgk"
   },
   "outputs": [
    {
     "name": "stdout",
     "output_type": "stream",
     "text": [
      "최적의 하이퍼 파라미터 세트 : {'knn__leaf_size': 10, 'knn__n_neighbors': 5, 'knn__p': 1, 'knn__weights': 'distance', 'pca__svd_solver': 'full'}\n",
      "훈련데이터 성능: 0.9580952380952381\n",
      "테스트데이터 평가 : 1.0\n"
     ]
    }
   ],
   "source": [
    "from sklearn.model_selection import GridSearchCV\n",
    "\n",
    "param_grid = [ {'pca__svd_solver' :  [\"full\",\"arpack\",\"randomized\"],\n",
    "                'knn__n_neighbors':  np.arange(1,11),\n",
    "                'knn__weights': [\"uniform\",\"distance\"],\n",
    "                'knn__leaf_size': [10,20,30,40,50],\n",
    "                'knn__p' : [1,2]\n",
    "                } ]\n",
    "\n",
    "gs = GridSearchCV(estimator=pipe, # classifier, regressor, pipeline 등 가능\n",
    "                  scoring=\"accuracy\", #예측성능을 측정할 평가방법\n",
    "                  cv=10,\n",
    "                  param_grid=param_grid, # 튜닝을 위해 사용할 파라미터를 딕셔너리 형태로 만들어 사용\n",
    "                  refit=True, #최적의 하이퍼파라미터를 찾은뒤 재학습\n",
    "                  return_train_score=True)\n",
    "\n",
    "gs.fit(X_train, y_train)\n",
    "\n",
    "print(\"최적의 하이퍼 파라미터 세트 :\", gs.best_params_)\n",
    "print(\"훈련데이터 성능:\", gs.best_score_)\n",
    "print(\"테스트데이터 평가 :\", gs.score(X_test,y_test))"
   ]
  },
  {
   "cell_type": "markdown",
   "metadata": {
    "id": "ZKu28S_XbA0t"
   },
   "source": [
    "* 결과 \n",
    "```\n",
    "최적의 하이퍼파라미터 세트: \n",
    "{'knn__leaf_size': 10, 'knn__n_neighbors': 5, 'knn__p': 1, 'knn__weights': 'distance', 'pca__svd_solver': 'full'}\n",
    "```"
   ]
  },
  {
   "cell_type": "code",
   "execution_count": 36,
   "metadata": {
    "ExecuteTime": {
     "end_time": "2022-06-02T00:53:53.747496Z",
     "start_time": "2022-06-02T00:53:53.736472Z"
    },
    "id": "_zPlNVEZfquD"
   },
   "outputs": [],
   "source": [
    "from sklearn.pipeline import make_pipeline\n",
    "from sklearn.preprocessing import StandardScaler\n",
    "from sklearn.decomposition import PCA \n",
    "from sklearn.neighbors import KNeighborsClassifier\n",
    "\n",
    "pipe = Pipeline([\n",
    "                      ('scaler',StandardScaler()), \n",
    "                      ('pca', PCA(random_state = 1, \n",
    "                                  n_components= 2, \n",
    "                                  svd_solver='full')),\n",
    "                      ('knn', KNeighborsClassifier(leaf_size=10,\n",
    "                                                   n_neighbors=5,\n",
    "                                                   p=1,\n",
    "                                                   weights = 'distance'))\n",
    "                     ])\n",
    "\n",
    "pipe.fit(X_train, y_train)\n",
    "y_pred = pipe.predict(X_test)"
   ]
  },
  {
   "cell_type": "markdown",
   "metadata": {
    "id": "oj0fv-p-jglD"
   },
   "source": [
    "### 모델 성능 평가"
   ]
  },
  {
   "cell_type": "markdown",
   "metadata": {
    "id": "JCi1W1IdPxlk"
   },
   "source": [
    "#### 오차행렬(confusion matrix)"
   ]
  },
  {
   "cell_type": "code",
   "execution_count": 37,
   "metadata": {
    "ExecuteTime": {
     "end_time": "2022-06-02T00:53:54.739189Z",
     "start_time": "2022-06-02T00:53:54.723853Z"
    },
    "id": "oUUhITS0Xtvh"
   },
   "outputs": [],
   "source": [
    "from sklearn.metrics import confusion_matrix\n"
   ]
  },
  {
   "cell_type": "markdown",
   "metadata": {
    "id": "6JN0NHdh_0Xq"
   },
   "source": [
    "#### k-겹 교차검증 "
   ]
  },
  {
   "cell_type": "code",
   "execution_count": 38,
   "metadata": {
    "ExecuteTime": {
     "end_time": "2022-06-02T00:53:57.055439Z",
     "start_time": "2022-06-02T00:53:56.999334Z"
    },
    "id": "Uur3DoBMVS8A"
   },
   "outputs": [
    {
     "name": "stdout",
     "output_type": "stream",
     "text": [
      "10-겹 교차검증: \n",
      "Acc :  0.958 (+/-  0.047)\n"
     ]
    }
   ],
   "source": [
    "from sklearn.model_selection import cross_val_score\n",
    "\n",
    "print('10-겹 교차검증: ')\n",
    "\n",
    "scores = cross_val_score(estimator=pipe, X=X_train, y=y_train, cv=10, scoring=\"accuracy\")\n",
    "print(f'Acc : {scores.mean(): .3f} (+/- {scores.std(): .3f})')"
   ]
  },
  {
   "cell_type": "markdown",
   "metadata": {
    "id": "ve9fFQcwVOSy"
   },
   "source": [
    "#### 스코어 계산"
   ]
  },
  {
   "cell_type": "code",
   "execution_count": 43,
   "metadata": {
    "ExecuteTime": {
     "end_time": "2022-06-02T00:54:50.130309Z",
     "start_time": "2022-06-02T00:54:50.115999Z"
    },
    "id": "NGLRlQ8s7iwt"
   },
   "outputs": [
    {
     "name": "stdout",
     "output_type": "stream",
     "text": [
      "Accuracy_score : 1.0\n"
     ]
    }
   ],
   "source": [
    "from sklearn.metrics import accuracy_score\n",
    "print(f\"Accuracy_score : {accuracy_score(y_test, y_pred)}\")"
   ]
  },
  {
   "cell_type": "markdown",
   "metadata": {
    "id": "AkYxnDPeb1SJ"
   },
   "source": [
    "#### 결정경계 시각화 "
   ]
  },
  {
   "cell_type": "code",
   "execution_count": 44,
   "metadata": {
    "ExecuteTime": {
     "end_time": "2022-06-02T00:54:51.291124Z",
     "start_time": "2022-06-02T00:54:51.279397Z"
    },
    "id": "9JvoV8jOgw3w"
   },
   "outputs": [],
   "source": [
    "Xtrain_int1 = pipe.named_steps[\"scaler\"].transform(X_train)\n",
    "Xtest_int1 = pipe.named_steps[\"scaler\"].transform(X_test)\n",
    "\n",
    "Xtrain_int2 = pipe.named_steps[\"pca\"].transform(Xtrain_int1)\n",
    "Xtest_int2 = pipe.named_steps[\"pca\"].transform(Xtest_int1)"
   ]
  },
  {
   "cell_type": "code",
   "execution_count": 46,
   "metadata": {
    "ExecuteTime": {
     "end_time": "2022-06-02T00:55:03.164230Z",
     "start_time": "2022-06-02T00:55:02.657166Z"
    },
    "id": "as9kxofKoAps"
   },
   "outputs": [
    {
     "data": {
      "image/png": "[encoded data removed]",
      "text/plain": [
       "<Figure size 432x288 with 1 Axes>"
      ]
     },
     "metadata": {
      "needs_background": "light"
     },
     "output_type": "display_data"
    }
   ],
   "source": [
    "draw_decision_region(pipe.named_steps[\"knn\"],\n",
    "                     Xtrain_int2,\n",
    "                     y_train,\n",
    "                     Xtest_int2,\n",
    "                     y_test,\n",
    "                     title=\"PCA_KNN\")"
   ]
  },
  {
   "cell_type": "code",
   "execution_count": null,
   "metadata": {},
   "outputs": [],
   "source": []
  }
 ],
 "metadata": {
  "colab": {
   "collapsed_sections": [],
   "name": "1조_PCA__KNN_실습.ipynb",
   "provenance": []
  },
  "kernelspec": {
   "display_name": "Python 3 (ipykernel)",
   "language": "python",
   "name": "python3"
  },
  "language_info": {
   "codemirror_mode": {
    "name": "ipython",
    "version": 3
   },
   "file_extension": ".py",
   "mimetype": "text/x-python",
   "name": "python",
   "nbconvert_exporter": "python",
   "pygments_lexer": "ipython3",
   "version": "3.8.13"
  },
  "toc": {
   "base_numbering": 1,
   "nav_menu": {},
   "number_sections": true,
   "sideBar": true,
   "skip_h1_title": false,
   "title_cell": "Table of Contents",
   "title_sidebar": "Contents",
   "toc_cell": false,
   "toc_position": {},
   "toc_section_display": true,
   "toc_window_display": false
  }
 },
 "nbformat": 4,
 "nbformat_minor": 1
}
