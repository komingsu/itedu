{
 "cells": [
  {
   "cell_type": "markdown",
   "metadata": {
    "id": "wWpXZc2fi39U"
   },
   "source": [
    "# ch05.08. 기초모델 구현 - Softmax Regression\n",
    "---\n",
    "* 날짜: 2022-05-17\n",
    "* 이름: 고민수\n",
    "\n",
    "## 학습내용\n",
    "    - 소프트맥스 회귀 프로세스를 이해한다.\n",
    "        -소프트맥스 회귀 최적화 이해\n",
    "    - 소프트맥스 함수를 구현한다."
   ]
  },
  {
   "cell_type": "markdown",
   "metadata": {
    "id": "kByKdJPApy6P"
   },
   "source": [
    "```\n",
    "import numpy as np\n",
    "import matplotlib.pyplot as plt\n",
    "```"
   ]
  },
  {
   "cell_type": "code",
   "execution_count": null,
   "metadata": {
    "id": "rJvcz-JikHbE"
   },
   "outputs": [],
   "source": [
    "import numpy as np\n",
    "import matplotlib.pyplot as plt"
   ]
  },
  {
   "cell_type": "markdown",
   "metadata": {
    "id": "uwMdGM259v98"
   },
   "source": [
    "## 클래스 작성\n",
    "---"
   ]
  },
  {
   "cell_type": "code",
   "execution_count": 7,
   "metadata": {},
   "outputs": [
    {
     "name": "stdout",
     "output_type": "stream",
     "text": [
      "[[1 2 3]\n",
      " [2 3 4]]\n"
     ]
    },
    {
     "data": {
      "text/plain": [
       "array([[6],\n",
       "       [9]])"
      ]
     },
     "execution_count": 7,
     "metadata": {},
     "output_type": "execute_result"
    }
   ],
   "source": [
    "a = np.array([[1,2,3],[2,3,4]])\n",
    "print(a)\n",
    "np.sum(a, axis=1, keepdims=True)"
   ]
  },
  {
   "cell_type": "code",
   "execution_count": 44,
   "metadata": {},
   "outputs": [],
   "source": [
    "a = np.array([[1,2,3,4],[2,3,4,5],[0,1,2,3]])\n",
    "N = a.shape[0]"
   ]
  },
  {
   "cell_type": "code",
   "execution_count": 45,
   "metadata": {},
   "outputs": [],
   "source": [
    "t = np.array([0,0,0])"
   ]
  },
  {
   "cell_type": "code",
   "execution_count": 46,
   "metadata": {},
   "outputs": [
    {
     "data": {
      "text/plain": [
       "array([1, 2, 0])"
      ]
     },
     "execution_count": 46,
     "metadata": {},
     "output_type": "execute_result"
    }
   ],
   "source": [
    "a[np.arange(N), t.data]"
   ]
  },
  {
   "cell_type": "code",
   "execution_count": 54,
   "metadata": {},
   "outputs": [
    {
     "data": {
      "text/plain": [
       "3.4401896985611953"
      ]
     },
     "execution_count": 54,
     "metadata": {},
     "output_type": "execute_result"
    }
   ],
   "source": [
    "SG = SoftmaxRegressionGD()\n",
    "SG.init_weights(a)\n",
    "y = SG.model(a)\n",
    "loss = SG.loss(a,t)\n",
    "loss"
   ]
  },
  {
   "cell_type": "code",
   "execution_count": 80,
   "metadata": {},
   "outputs": [
    {
     "data": {
      "text/plain": [
       "array([[1, 0, 0],\n",
       "       [0, 1, 0],\n",
       "       [0, 0, 1]])"
      ]
     },
     "execution_count": 80,
     "metadata": {},
     "output_type": "execute_result"
    }
   ],
   "source": [
    "encoding = [1,0,0]\n",
    "encoding = np.vstack([encoding, [0,1,0]])\n",
    "encoding = np.vstack([encoding, [0,0,1]])\n",
    "encoding"
   ]
  },
  {
   "cell_type": "code",
   "execution_count": 83,
   "metadata": {},
   "outputs": [
    {
     "name": "stdout",
     "output_type": "stream",
     "text": [
      "0\n",
      "1\n",
      "2\n"
     ]
    }
   ],
   "source": [
    "for i in encoding:\n",
    "    print(np.argmax(i))"
   ]
  },
  {
   "cell_type": "code",
   "execution_count": 111,
   "metadata": {},
   "outputs": [],
   "source": [
    "size= 3\n",
    "y_size = 4\n",
    "w_seed = np.random.RandomState()\n",
    "w = w_seed.normal( 0,0.01, size = (size, y_size))"
   ]
  },
  {
   "cell_type": "code",
   "execution_count": 112,
   "metadata": {},
   "outputs": [
    {
     "data": {
      "text/plain": [
       "array([[ 0.00552953,  0.02281419, -0.00227899,  0.00507338],\n",
       "       [ 0.00088692,  0.00524381, -0.01129773, -0.00286402],\n",
       "       [-0.00996943,  0.00148783, -0.00289326, -0.02009641]])"
      ]
     },
     "execution_count": 112,
     "metadata": {},
     "output_type": "execute_result"
    }
   ],
   "source": [
    "w"
   ]
  },
  {
   "cell_type": "code",
   "execution_count": 131,
   "metadata": {},
   "outputs": [
    {
     "name": "stdout",
     "output_type": "stream",
     "text": [
      "[[2.30258509 2.99573227 3.40119738]\n",
      " [2.30258509 2.39789527 2.48490665]]\n"
     ]
    },
    {
     "data": {
      "text/plain": [
       "array([[2.30258509, 2.30258509, 2.99573227],\n",
       "       [2.30258509, 2.30258509, 2.39789527]])"
      ]
     },
     "execution_count": 131,
     "metadata": {},
     "output_type": "execute_result"
    }
   ],
   "source": [
    "a = [[10,20,30],[10,11,12]]\n",
    "hot_d = np.array([0,0,1])\n",
    "print(np.log(a))\n",
    "np.log(a)[:, hot_d.data]\n",
    "# np.log(p)[np.arange(N), hot_y.data]"
   ]
  },
  {
   "cell_type": "code",
   "execution_count": 151,
   "metadata": {
    "id": "5mAt5khrW_Km"
   },
   "outputs": [],
   "source": [
    "class SoftmaxRegressionGD():\n",
    "\n",
    "    def __init__(self, lr=0.001, random_state=1):\n",
    "        self.lr=lr\n",
    "        self.seed = np.random.RandomState(random_state)\n",
    "\n",
    "    def init_weights(self, X, y):\n",
    "        size = X.shape[1]\n",
    "        y_size = len(np.unique(y))\n",
    "        self.w = self.seed.normal( 0,0.01, size = (size+1, y_size) )\n",
    "        \n",
    "    def one_hot_encoding(self,y):\n",
    "        encoding = [0,0,0]\n",
    "        for i in y:\n",
    "            if i == 0:\n",
    "                encoding = np.vstack([encoding, [1,0,0]])\n",
    "            elif i==1:\n",
    "                encoding = np.vstack([encoding, [0,1,0]])\n",
    "            elif i==2:\n",
    "                encoding = np.vstack([encoding, [0,0,1]])\n",
    "            else:\n",
    "                pass\n",
    "        return encoding[1:]\n",
    "        \n",
    "    def model(self, X):\n",
    "        z =  np.dot(X, self.w[:-1,:]) + self.w[-1,:]\n",
    "        y = np.exp(z)\n",
    "        sum_y = np.sum(y, axis=1, keepdims=True)\n",
    "        return y /sum_y\n",
    "\n",
    "    # 예측\n",
    "    def predict(self, X):\n",
    "        y_hat = self.model(X) # 예측값\n",
    "        y_pred = np.argmax(y_hat)\n",
    "        return y_pred\n",
    "    \n",
    "     # 평가\n",
    "    def evaluate(self, X, y):\n",
    "        y_pred = self.predict(X)\n",
    "        loss = self.loss(X,y) # loss 값\n",
    "        acc = self.accuracy(y,y_pred) # accuarcy 값\n",
    "        return loss, acc\n",
    "\n",
    "    def accuracy(self, y, y_pred):\n",
    "        return np.count_nonzero(y-y_pred)/len(y)\n",
    "        # y-y_pred!=0 의 개수를 count 후 len(y)를 나누어 백분율\n",
    "    \n",
    "    def loss(self, X, y):\n",
    "        N = X.shape[0] # 데이터 개수\n",
    "        hot_y =self.one_hot_encoding(y)\n",
    "        y_hat = self.model(X)\n",
    "        y_hat = np.clip(y_hat, 1e-15, 1.0) # log(0) 방지\n",
    "        log_y_hat = np.log(y_hat)\n",
    "        \n",
    "        loss = 0\n",
    "        for idx, log_y_hat_i, hot_y_i in zip(y, log_y_hat, hot_y):\n",
    "            loss += log_y_hat_i[idx]*hot_y_i[idx]\n",
    "        return -loss/N\n",
    "    \n",
    "    def fit(self, X,y, epochs=10, show_params=False):\n",
    "        self.init_weights(X,y) # 가중치 설정\n",
    "        self.history=dict(loss=[], acc=[]) # loss, acc 값 history.dict 설정\n",
    "        N = X.shape[0] # N = X의 데이터 개수\n",
    "        hot_y =self.one_hot_encoding(y)\n",
    "        \n",
    "        for epoch in range(epochs):\n",
    "            # 최적화\n",
    "            y_hat = self.model(X) # 예측값\n",
    "            \n",
    "            self.w[:-1,:] += self.lr*np.dot(X.T , (y_hat-hot_y))/N # 경사하강법에 따른 가중치 설정\n",
    "            self.w[-1,:] += self.lr*np.sum(y_hat-hot_y)/N  # 편차_bias(b) 값\n",
    "            \n",
    "        # 평가 및 결과 저장\n",
    "        loss, acc = self.evaluate(X, y)\n",
    "        self.history['loss'].append(loss)\n",
    "        self.history['acc'].append(acc)\n",
    "        print(f'[Epoch {epoch}] loss: {np.round(loss,2)}  acc: {np.round(acc,2)}')\n",
    "        if show_params: print(self.w)\n",
    "            \n",
    "        \n",
    "    def draw_dflow(self, X, y, title='', figsize=(8,4)):\n",
    "        plt.figure(figsize=figsize)\n",
    "        plt.title(title)\n",
    "\n",
    "        y_hat = self.model(X)\n",
    "        y_pred = self.predict(X)\n",
    "        \n",
    "        plt.plot(y, label='y', marker='o')\n",
    "        plt.plot(y_hat, label='$\\hat{y}$', marker='.', linestyle='--')\n",
    "        plt.plot(y_pred, label='$\\logt$', marker='.', linestyle='--')\n",
    "        plt.legend()\n",
    "        plt.show()\n",
    "\n",
    "    # 학습 곡선 시각화\n",
    "    def draw_lcurve(self, title='', figsize=(8,4)):\n",
    "        plt.figure(figsize=figsize)\n",
    "        plt.title(title)\n",
    "        plt.plot(self.history['acc'], label='acc', marker='o')\n",
    "        plt.plot(self.history['loss'], label='loss', marker='o')\n",
    "        plt.xlabel('epoch')\n",
    "        plt.legend()\n",
    "        plt.show()"
   ]
  },
  {
   "cell_type": "markdown",
   "metadata": {
    "id": "p8-pUaTb04zO"
   },
   "source": [
    "## iris 데이터로 분류 진행\n",
    "---"
   ]
  },
  {
   "cell_type": "markdown",
   "metadata": {
    "id": "yh-ww3jO9392"
   },
   "source": [
    "### **데이터 로드**"
   ]
  },
  {
   "cell_type": "code",
   "execution_count": 152,
   "metadata": {
    "id": "Oq9lGiY203kw"
   },
   "outputs": [],
   "source": [
    "from sklearn.datasets import load_iris\n",
    "from sklearn.model_selection import train_test_split\n",
    "\n",
    "iris = load_iris()\n",
    "X = iris.data\n",
    "y = iris.target\n",
    "X_train, X_test, y_train, y_test = train_test_split(X,y)"
   ]
  },
  {
   "cell_type": "markdown",
   "metadata": {
    "id": "3LqoB51790s0"
   },
   "source": [
    "### **학습전 성능 평가**"
   ]
  },
  {
   "cell_type": "code",
   "execution_count": 153,
   "metadata": {
    "id": "TBW5bD_H8qqk"
   },
   "outputs": [
    {
     "data": {
      "image/png": "[encoded data removed]",
      "text/plain": [
       "<Figure size 1152x288 with 1 Axes>"
      ]
     },
     "metadata": {
      "needs_background": "light"
     },
     "output_type": "display_data"
    }
   ],
   "source": [
    "import matplotlib.pyplot as plt\n",
    "\n",
    "model = SoftmaxRegressionGD(lr=0.01)\n",
    "\n",
    "model.init_weights(X_train, y_train)\n",
    "model.draw_dflow(X_train, y_train, figsize=(16,4))"
   ]
  },
  {
   "cell_type": "markdown",
   "metadata": {
    "id": "s0Z1FRSQ-CVf"
   },
   "source": [
    "### **학습**"
   ]
  },
  {
   "cell_type": "code",
   "execution_count": 154,
   "metadata": {
    "id": "IUKelQQChXTK"
   },
   "outputs": [
    {
     "name": "stdout",
     "output_type": "stream",
     "text": [
      "[Epoch 9] loss: 2.14  acc: 1.0\n",
      "[[ 0.12770078 -0.03852357 -0.11067899]\n",
      " [ 0.04427943 -0.00108226 -0.04795307]\n",
      " [ 0.16484896 -0.03171915 -0.10764171]\n",
      " [ 0.06553849 -0.01915189 -0.04544423]\n",
      " [-0.00935769 -0.00267888  0.00530355]]\n"
     ]
    }
   ],
   "source": [
    "model = SoftmaxRegressionGD(lr=0.01)\n",
    "model.init_weights(X_train, y_train)\n",
    "history = model.fit(X_train, y_train, epochs=10, show_params=True)"
   ]
  },
  {
   "cell_type": "markdown",
   "metadata": {
    "id": "rcyTrA6o-ERb"
   },
   "source": [
    "### **학습 후 성능평가**"
   ]
  },
  {
   "cell_type": "code",
   "execution_count": null,
   "metadata": {
    "id": "Ub6XY-t0KWx2"
   },
   "outputs": [],
   "source": []
  },
  {
   "cell_type": "markdown",
   "metadata": {
    "id": "rJtmb1t_-GIF"
   },
   "source": [
    "### **테스트셋 성능평가**"
   ]
  },
  {
   "cell_type": "code",
   "execution_count": null,
   "metadata": {
    "id": "h0H_AlEIDw59"
   },
   "outputs": [],
   "source": []
  }
 ],
 "metadata": {
  "colab": {
   "collapsed_sections": [],
   "name": "ch05_08_기초모델구현-SoftmaxRegression.ipynb",
   "provenance": []
  },
  "kernelspec": {
   "display_name": "Python 3 (ipykernel)",
   "language": "python",
   "name": "python3"
  },
  "language_info": {
   "codemirror_mode": {
    "name": "ipython",
    "version": 3
   },
   "file_extension": ".py",
   "mimetype": "text/x-python",
   "name": "python",
   "nbconvert_exporter": "python",
   "pygments_lexer": "ipython3",
   "version": "3.9.12"
  },
  "toc": {
   "base_numbering": 1,
   "nav_menu": {},
   "number_sections": true,
   "sideBar": true,
   "skip_h1_title": false,
   "title_cell": "Table of Contents",
   "title_sidebar": "Contents",
   "toc_cell": false,
   "toc_position": {},
   "toc_section_display": true,
   "toc_window_display": false
  },
  "varInspector": {
   "cols": {
    "lenName": 16,
    "lenType": 16,
    "lenVar": 40
   },
   "kernels_config": {
    "python": {
     "delete_cmd_postfix": "",
     "delete_cmd_prefix": "del ",
     "library": "var_list.py",
     "varRefreshCmd": "print(var_dic_list())"
    },
    "r": {
     "delete_cmd_postfix": ") ",
     "delete_cmd_prefix": "rm(",
     "library": "var_list.r",
     "varRefreshCmd": "cat(var_dic_list()) "
    }
   },
   "types_to_exclude": [
    "module",
    "function",
    "builtin_function_or_method",
    "instance",
    "_Feature"
   ],
   "window_display": false
  }
 },
 "nbformat": 4,
 "nbformat_minor": 1
}
