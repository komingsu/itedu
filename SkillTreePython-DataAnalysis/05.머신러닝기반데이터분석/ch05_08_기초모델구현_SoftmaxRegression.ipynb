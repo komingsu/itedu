{
 "cells": [
  {
   "cell_type": "markdown",
   "metadata": {
    "id": "wWpXZc2fi39U"
   },
   "source": [
    "# ch05.08. 기초모델 구현 - Softmax Regression\n",
    "---\n",
    "* 날짜:\n",
    "* 이름:\n",
    "\n",
    "## 학습내용\n",
    "    - 소프트맥스 회귀 프로세스를 이해한다.\n",
    "    - 소프트맥스 함수를 구현한다."
   ]
  },
  {
   "cell_type": "markdown",
   "metadata": {
    "id": "kByKdJPApy6P"
   },
   "source": [
    "```\n",
    "import numpy as np\n",
    "import matplotlib.pyplot as plt\n",
    "```"
   ]
  },
  {
   "cell_type": "code",
   "execution_count": null,
   "metadata": {
    "id": "rJvcz-JikHbE"
   },
   "outputs": [],
   "source": [
    "import numpy as np\n",
    "import matplotlib.pyplot as plt"
   ]
  },
  {
   "cell_type": "markdown",
   "metadata": {
    "id": "uwMdGM259v98"
   },
   "source": [
    "## 클래스 작성\n",
    "---"
   ]
  },
  {
   "cell_type": "code",
   "execution_count": 7,
   "metadata": {},
   "outputs": [
    {
     "name": "stdout",
     "output_type": "stream",
     "text": [
      "[[1 2 3]\n",
      " [2 3 4]]\n"
     ]
    },
    {
     "data": {
      "text/plain": [
       "array([[6],\n",
       "       [9]])"
      ]
     },
     "execution_count": 7,
     "metadata": {},
     "output_type": "execute_result"
    }
   ],
   "source": [
    "a = np.array([[1,2,3],[2,3,4]])\n",
    "print(a)\n",
    "np.sum(a, axis=1, keepdims=True)"
   ]
  },
  {
   "cell_type": "code",
   "execution_count": 44,
   "metadata": {},
   "outputs": [],
   "source": [
    "a = np.array([[1,2,3,4],[2,3,4,5],[0,1,2,3]])\n",
    "N = a.shape[0]"
   ]
  },
  {
   "cell_type": "code",
   "execution_count": 45,
   "metadata": {},
   "outputs": [],
   "source": [
    "t = np.array([0,0,0])"
   ]
  },
  {
   "cell_type": "code",
   "execution_count": 46,
   "metadata": {},
   "outputs": [
    {
     "data": {
      "text/plain": [
       "array([1, 2, 0])"
      ]
     },
     "execution_count": 46,
     "metadata": {},
     "output_type": "execute_result"
    }
   ],
   "source": [
    "a[np.arange(N), t.data]"
   ]
  },
  {
   "cell_type": "code",
   "execution_count": 54,
   "metadata": {},
   "outputs": [
    {
     "data": {
      "text/plain": [
       "3.4401896985611953"
      ]
     },
     "execution_count": 54,
     "metadata": {},
     "output_type": "execute_result"
    }
   ],
   "source": [
    "SG = SoftmaxRegressionGD()\n",
    "SG.init_weights(a)\n",
    "y = SG.model(a)\n",
    "loss = SG.loss(a,t)\n",
    "loss"
   ]
  },
  {
   "cell_type": "code",
   "execution_count": 52,
   "metadata": {
    "id": "5mAt5khrW_Km"
   },
   "outputs": [],
   "source": [
    "class SoftmaxRegressionGD():\n",
    "\n",
    "    def __init__(self, lr=0.001, random_state=1):\n",
    "        self.lr=lr\n",
    "        self.seed = np.random.RandomState(random_state)\n",
    "\n",
    "    def init_weights(self, X):\n",
    "        size = X.shape[1]\n",
    "        self.w = self.seed.normal(0,0.01, size = size+1)   # np.random.normal(location(위치), 편차, size = size)\n",
    "        \n",
    "    def model(self, X):\n",
    "        return np.dot(X, self.w[:-1]) + self.w[-1]\n",
    "    \n",
    "    def softmax(self, X):\n",
    "        y = np.exp(X)\n",
    "        sum_y = np.sum(y, axis=1, keepdims=True)\n",
    "        return y /sum_y\n",
    "    \n",
    "    def loss(self, X, t):\n",
    "        N = X.shape[0] # 데이터 개수\n",
    "        p = self.softmax(X)\n",
    "        p = np.clip(p, 1e-15, 1.0) # log(0) 방지\n",
    "        log_p = np.log(p)\n",
    "        tlog_p = log_p[np.arange(N), t.data]\n",
    "        loss =-1 * np.sum(tlog_p) / N\n",
    "        return loss\n",
    "    \n",
    "    def fit(self, X)"
   ]
  },
  {
   "cell_type": "markdown",
   "metadata": {
    "id": "p8-pUaTb04zO"
   },
   "source": [
    "## iris 데이터로 분류 진행\n",
    "---"
   ]
  },
  {
   "cell_type": "markdown",
   "metadata": {
    "id": "yh-ww3jO9392"
   },
   "source": [
    "### **데이터 로드**"
   ]
  },
  {
   "cell_type": "code",
   "execution_count": null,
   "metadata": {
    "id": "Oq9lGiY203kw"
   },
   "outputs": [],
   "source": []
  },
  {
   "cell_type": "markdown",
   "metadata": {
    "id": "3LqoB51790s0"
   },
   "source": [
    "### **학습전 성능 평가**"
   ]
  },
  {
   "cell_type": "code",
   "execution_count": null,
   "metadata": {
    "id": "TBW5bD_H8qqk"
   },
   "outputs": [],
   "source": []
  },
  {
   "cell_type": "markdown",
   "metadata": {
    "id": "s0Z1FRSQ-CVf"
   },
   "source": [
    "### **학습**"
   ]
  },
  {
   "cell_type": "code",
   "execution_count": null,
   "metadata": {
    "id": "IUKelQQChXTK"
   },
   "outputs": [],
   "source": []
  },
  {
   "cell_type": "markdown",
   "metadata": {
    "id": "rcyTrA6o-ERb"
   },
   "source": [
    "### **학습 후 성능평가**"
   ]
  },
  {
   "cell_type": "code",
   "execution_count": null,
   "metadata": {
    "id": "Ub6XY-t0KWx2"
   },
   "outputs": [],
   "source": []
  },
  {
   "cell_type": "markdown",
   "metadata": {
    "id": "rJtmb1t_-GIF"
   },
   "source": [
    "### **테스트셋 성능평가**"
   ]
  },
  {
   "cell_type": "code",
   "execution_count": null,
   "metadata": {
    "id": "h0H_AlEIDw59"
   },
   "outputs": [],
   "source": []
  }
 ],
 "metadata": {
  "colab": {
   "collapsed_sections": [],
   "name": "ch05_08_기초모델구현-SoftmaxRegression.ipynb",
   "provenance": []
  },
  "kernelspec": {
   "display_name": "Python 3 (ipykernel)",
   "language": "python",
   "name": "python3"
  },
  "language_info": {
   "codemirror_mode": {
    "name": "ipython",
    "version": 3
   },
   "file_extension": ".py",
   "mimetype": "text/x-python",
   "name": "python",
   "nbconvert_exporter": "python",
   "pygments_lexer": "ipython3",
   "version": "3.9.12"
  },
  "toc": {
   "base_numbering": 1,
   "nav_menu": {},
   "number_sections": true,
   "sideBar": true,
   "skip_h1_title": false,
   "title_cell": "Table of Contents",
   "title_sidebar": "Contents",
   "toc_cell": false,
   "toc_position": {},
   "toc_section_display": true,
   "toc_window_display": false
  },
  "varInspector": {
   "cols": {
    "lenName": 16,
    "lenType": 16,
    "lenVar": 40
   },
   "kernels_config": {
    "python": {
     "delete_cmd_postfix": "",
     "delete_cmd_prefix": "del ",
     "library": "var_list.py",
     "varRefreshCmd": "print(var_dic_list())"
    },
    "r": {
     "delete_cmd_postfix": ") ",
     "delete_cmd_prefix": "rm(",
     "library": "var_list.r",
     "varRefreshCmd": "cat(var_dic_list()) "
    }
   },
   "types_to_exclude": [
    "module",
    "function",
    "builtin_function_or_method",
    "instance",
    "_Feature"
   ],
   "window_display": false
  }
 },
 "nbformat": 4,
 "nbformat_minor": 1
}
