{
 "cells": [
  {
   "cell_type": "code",
   "execution_count": 5,
   "id": "07d7a6e9",
   "metadata": {
    "ExecuteTime": {
     "end_time": "2022-06-12T10:32:08.518766Z",
     "start_time": "2022-06-12T10:32:05.177677Z"
    }
   },
   "outputs": [
    {
     "name": "stdout",
     "output_type": "stream",
     "text": [
      "\n",
      "import numpy as np\n",
      "import pandas as pd\n",
      "import matplotlib.pyplot as plt\n",
      "import seaborn as sns\n",
      "\n",
      "import warnings\n",
      "warnings.filterwarnings(action='ignore')\n",
      "\n",
      "plt.rc(\"font\", family=\"Noto Sans KR\", size=9) # 한글 폰트 설정\n",
      "plt.rc(\"axes\", unicode_minus=False) # 음수값 깨지는 폰트 설정\n",
      "pd.options.display.max_columns = 50 # 칼럼수 50개까지\n",
      "\n",
      "\n"
     ]
    }
   ],
   "source": [
    "from Myfunc import * \n",
    "mysetting()"
   ]
  },
  {
   "cell_type": "code",
   "execution_count": 7,
   "id": "2f89e8d4",
   "metadata": {
    "ExecuteTime": {
     "end_time": "2022-06-12T10:32:48.031368Z",
     "start_time": "2022-06-12T10:32:48.020366Z"
    }
   },
   "outputs": [],
   "source": [
    "import numpy as np\n",
    "import pandas as pd\n",
    "import matplotlib.pyplot as plt\n",
    "import seaborn as sns\n",
    "\n",
    "\n",
    "\n",
    "plt.rc(\"font\", family=\"NanumGothic\", size=9) # 한글 폰트 설정\n",
    "plt.rc(\"axes\", unicode_minus=False) # 음수값 깨지는 폰트 설정\n",
    "pd.options.display.max_columns = 50 # 칼럼수 50개까지"
   ]
  },
  {
   "cell_type": "code",
   "execution_count": 38,
   "id": "d9f5d511",
   "metadata": {
    "ExecuteTime": {
     "end_time": "2022-06-12T11:01:42.865901Z",
     "start_time": "2022-06-12T11:01:42.848899Z"
    }
   },
   "outputs": [],
   "source": [
    "import warnings\n",
    "warnings.filterwarnings(action='ignore')"
   ]
  },
  {
   "cell_type": "code",
   "execution_count": 253,
   "id": "9576a370",
   "metadata": {
    "ExecuteTime": {
     "end_time": "2022-06-12T13:35:12.087729Z",
     "start_time": "2022-06-12T13:35:12.035361Z"
    }
   },
   "outputs": [],
   "source": [
    "df = pd.read_csv(\"data/cardio_train.csv\", sep=\";\")"
   ]
  },
  {
   "cell_type": "code",
   "execution_count": 254,
   "id": "11f8ff70",
   "metadata": {
    "ExecuteTime": {
     "end_time": "2022-06-12T13:35:18.975073Z",
     "start_time": "2022-06-12T13:35:18.955059Z"
    }
   },
   "outputs": [],
   "source": [
    "X = df.drop(\"cardio\", axis=1)\n",
    "y = df.cardio"
   ]
  },
  {
   "cell_type": "code",
   "execution_count": 159,
   "id": "5623b6cd",
   "metadata": {
    "ExecuteTime": {
     "end_time": "2022-06-12T13:08:23.353074Z",
     "start_time": "2022-06-12T13:08:23.336076Z"
    }
   },
   "outputs": [],
   "source": [
    "from sklearn.model_selection import train_test_split"
   ]
  },
  {
   "cell_type": "code",
   "execution_count": 357,
   "id": "86d54c2f",
   "metadata": {
    "ExecuteTime": {
     "end_time": "2022-06-12T14:05:22.447782Z",
     "start_time": "2022-06-12T14:05:22.417964Z"
    }
   },
   "outputs": [],
   "source": [
    "X_train, X_test, y_train, y_test = train_test_split(X, y, test_size=0.1,  stratify=y)"
   ]
  },
  {
   "cell_type": "code",
   "execution_count": 358,
   "id": "9badbff6",
   "metadata": {
    "ExecuteTime": {
     "end_time": "2022-06-12T14:05:23.306832Z",
     "start_time": "2022-06-12T14:05:23.288482Z"
    }
   },
   "outputs": [
    {
     "data": {
      "text/plain": [
       "((63000, 12), (7000, 12), (63000,), (7000,))"
      ]
     },
     "execution_count": 358,
     "metadata": {},
     "output_type": "execute_result"
    }
   ],
   "source": [
    "X_train.shape, X_test.shape, y_train.shape, y_test.shape"
   ]
  },
  {
   "cell_type": "code",
   "execution_count": 359,
   "id": "a1ec0840",
   "metadata": {
    "ExecuteTime": {
     "end_time": "2022-06-12T14:05:26.528976Z",
     "start_time": "2022-06-12T14:05:26.508732Z"
    }
   },
   "outputs": [],
   "source": [
    "df = pd.concat([X_train, y_train], axis=1)"
   ]
  },
  {
   "cell_type": "code",
   "execution_count": 360,
   "id": "3558b01a",
   "metadata": {
    "ExecuteTime": {
     "end_time": "2022-06-12T14:05:40.771441Z",
     "start_time": "2022-06-12T14:05:40.591707Z"
    }
   },
   "outputs": [
    {
     "name": "stdout",
     "output_type": "stream",
     "text": [
      "데이터 셋 형상 : (63000, 13)\n"
     ]
    },
    {
     "data": {
      "text/html": [
       "<div>\n",
       "<style scoped>\n",
       "    .dataframe tbody tr th:only-of-type {\n",
       "        vertical-align: middle;\n",
       "    }\n",
       "\n",
       "    .dataframe tbody tr th {\n",
       "        vertical-align: top;\n",
       "    }\n",
       "\n",
       "    .dataframe thead th {\n",
       "        text-align: right;\n",
       "    }\n",
       "</style>\n",
       "<table border=\"1\" class=\"dataframe\">\n",
       "  <thead>\n",
       "    <tr style=\"text-align: right;\">\n",
       "      <th></th>\n",
       "      <th>피처</th>\n",
       "      <th>데이터 타입</th>\n",
       "      <th>결측값 개수</th>\n",
       "      <th>고윳값 개수</th>\n",
       "      <th>1번째</th>\n",
       "      <th>2번째</th>\n",
       "      <th>3번째</th>\n",
       "      <th>4번째</th>\n",
       "      <th>5번째</th>\n",
       "    </tr>\n",
       "  </thead>\n",
       "  <tbody>\n",
       "    <tr>\n",
       "      <th>0</th>\n",
       "      <td>id</td>\n",
       "      <td>int64</td>\n",
       "      <td>0</td>\n",
       "      <td>63000</td>\n",
       "      <td>[49914, 1]</td>\n",
       "      <td>[18592, 1]</td>\n",
       "      <td>[41689, 1]</td>\n",
       "      <td>[37806, 1]</td>\n",
       "      <td>[84399, 1]</td>\n",
       "    </tr>\n",
       "    <tr>\n",
       "      <th>1</th>\n",
       "      <td>age</td>\n",
       "      <td>int64</td>\n",
       "      <td>0</td>\n",
       "      <td>8009</td>\n",
       "      <td>[21664, 7]</td>\n",
       "      <td>[19633, 23]</td>\n",
       "      <td>[14613, 11]</td>\n",
       "      <td>[19674, 18]</td>\n",
       "      <td>[15134, 6]</td>\n",
       "    </tr>\n",
       "    <tr>\n",
       "      <th>2</th>\n",
       "      <td>gender</td>\n",
       "      <td>int64</td>\n",
       "      <td>0</td>\n",
       "      <td>2</td>\n",
       "      <td>[1, 41025]</td>\n",
       "      <td>[2, 21975]</td>\n",
       "      <td>[NaN, NaN]</td>\n",
       "      <td>[NaN, NaN]</td>\n",
       "      <td>[NaN, NaN]</td>\n",
       "    </tr>\n",
       "    <tr>\n",
       "      <th>3</th>\n",
       "      <td>height</td>\n",
       "      <td>int64</td>\n",
       "      <td>0</td>\n",
       "      <td>103</td>\n",
       "      <td>[169, 2516]</td>\n",
       "      <td>[177, 410]</td>\n",
       "      <td>[166, 1779]</td>\n",
       "      <td>[158, 2945]</td>\n",
       "      <td>[152, 1036]</td>\n",
       "    </tr>\n",
       "    <tr>\n",
       "      <th>4</th>\n",
       "      <td>weight</td>\n",
       "      <td>float64</td>\n",
       "      <td>0</td>\n",
       "      <td>276</td>\n",
       "      <td>[68.0, 2576]</td>\n",
       "      <td>[101.0, 151]</td>\n",
       "      <td>[50.0, 440]</td>\n",
       "      <td>[67.0, 1419]</td>\n",
       "      <td>[84.0, 996]</td>\n",
       "    </tr>\n",
       "    <tr>\n",
       "      <th>5</th>\n",
       "      <td>ap_hi</td>\n",
       "      <td>int64</td>\n",
       "      <td>0</td>\n",
       "      <td>148</td>\n",
       "      <td>[140, 8557]</td>\n",
       "      <td>[170, 637]</td>\n",
       "      <td>[100, 2315]</td>\n",
       "      <td>[110, 7752]</td>\n",
       "      <td>[160, 2712]</td>\n",
       "    </tr>\n",
       "    <tr>\n",
       "      <th>6</th>\n",
       "      <td>ap_lo</td>\n",
       "      <td>int64</td>\n",
       "      <td>0</td>\n",
       "      <td>152</td>\n",
       "      <td>[80, 31404]</td>\n",
       "      <td>[100, 3684]</td>\n",
       "      <td>[70, 9253]</td>\n",
       "      <td>[90, 12825]</td>\n",
       "      <td>[75, 183]</td>\n",
       "    </tr>\n",
       "    <tr>\n",
       "      <th>7</th>\n",
       "      <td>cholesterol</td>\n",
       "      <td>int64</td>\n",
       "      <td>0</td>\n",
       "      <td>3</td>\n",
       "      <td>[1, 47199]</td>\n",
       "      <td>[3, 7231]</td>\n",
       "      <td>[2, 8570]</td>\n",
       "      <td>[NaN, NaN]</td>\n",
       "      <td>[NaN, NaN]</td>\n",
       "    </tr>\n",
       "    <tr>\n",
       "      <th>8</th>\n",
       "      <td>gluc</td>\n",
       "      <td>int64</td>\n",
       "      <td>0</td>\n",
       "      <td>3</td>\n",
       "      <td>[1, 53513]</td>\n",
       "      <td>[2, 4681]</td>\n",
       "      <td>[3, 4806]</td>\n",
       "      <td>[NaN, NaN]</td>\n",
       "      <td>[NaN, NaN]</td>\n",
       "    </tr>\n",
       "    <tr>\n",
       "      <th>9</th>\n",
       "      <td>smoke</td>\n",
       "      <td>int64</td>\n",
       "      <td>0</td>\n",
       "      <td>2</td>\n",
       "      <td>[0, 57459]</td>\n",
       "      <td>[1, 5541]</td>\n",
       "      <td>[NaN, NaN]</td>\n",
       "      <td>[NaN, NaN]</td>\n",
       "      <td>[NaN, NaN]</td>\n",
       "    </tr>\n",
       "    <tr>\n",
       "      <th>10</th>\n",
       "      <td>alco</td>\n",
       "      <td>int64</td>\n",
       "      <td>0</td>\n",
       "      <td>2</td>\n",
       "      <td>[0, 59615]</td>\n",
       "      <td>[1, 3385]</td>\n",
       "      <td>[NaN, NaN]</td>\n",
       "      <td>[NaN, NaN]</td>\n",
       "      <td>[NaN, NaN]</td>\n",
       "    </tr>\n",
       "    <tr>\n",
       "      <th>11</th>\n",
       "      <td>active</td>\n",
       "      <td>int64</td>\n",
       "      <td>0</td>\n",
       "      <td>2</td>\n",
       "      <td>[1, 50551]</td>\n",
       "      <td>[0, 12449]</td>\n",
       "      <td>[NaN, NaN]</td>\n",
       "      <td>[NaN, NaN]</td>\n",
       "      <td>[NaN, NaN]</td>\n",
       "    </tr>\n",
       "    <tr>\n",
       "      <th>12</th>\n",
       "      <td>cardio</td>\n",
       "      <td>int64</td>\n",
       "      <td>0</td>\n",
       "      <td>2</td>\n",
       "      <td>[1, 31481]</td>\n",
       "      <td>[0, 31519]</td>\n",
       "      <td>[NaN, NaN]</td>\n",
       "      <td>[NaN, NaN]</td>\n",
       "      <td>[NaN, NaN]</td>\n",
       "    </tr>\n",
       "  </tbody>\n",
       "</table>\n",
       "</div>"
      ],
      "text/plain": [
       "             피처   데이터 타입  결측값 개수  고윳값 개수           1번째           2번째  \\\n",
       "0            id    int64       0   63000    [49914, 1]    [18592, 1]   \n",
       "1           age    int64       0    8009    [21664, 7]   [19633, 23]   \n",
       "2        gender    int64       0       2    [1, 41025]    [2, 21975]   \n",
       "3        height    int64       0     103   [169, 2516]    [177, 410]   \n",
       "4        weight  float64       0     276  [68.0, 2576]  [101.0, 151]   \n",
       "5         ap_hi    int64       0     148   [140, 8557]    [170, 637]   \n",
       "6         ap_lo    int64       0     152   [80, 31404]   [100, 3684]   \n",
       "7   cholesterol    int64       0       3    [1, 47199]     [3, 7231]   \n",
       "8          gluc    int64       0       3    [1, 53513]     [2, 4681]   \n",
       "9         smoke    int64       0       2    [0, 57459]     [1, 5541]   \n",
       "10         alco    int64       0       2    [0, 59615]     [1, 3385]   \n",
       "11       active    int64       0       2    [1, 50551]    [0, 12449]   \n",
       "12       cardio    int64       0       2    [1, 31481]    [0, 31519]   \n",
       "\n",
       "            3번째           4번째          5번째  \n",
       "0    [41689, 1]    [37806, 1]   [84399, 1]  \n",
       "1   [14613, 11]   [19674, 18]   [15134, 6]  \n",
       "2    [NaN, NaN]    [NaN, NaN]   [NaN, NaN]  \n",
       "3   [166, 1779]   [158, 2945]  [152, 1036]  \n",
       "4   [50.0, 440]  [67.0, 1419]  [84.0, 996]  \n",
       "5   [100, 2315]   [110, 7752]  [160, 2712]  \n",
       "6    [70, 9253]   [90, 12825]    [75, 183]  \n",
       "7     [2, 8570]    [NaN, NaN]   [NaN, NaN]  \n",
       "8     [3, 4806]    [NaN, NaN]   [NaN, NaN]  \n",
       "9    [NaN, NaN]    [NaN, NaN]   [NaN, NaN]  \n",
       "10   [NaN, NaN]    [NaN, NaN]   [NaN, NaN]  \n",
       "11   [NaN, NaN]    [NaN, NaN]   [NaN, NaN]  \n",
       "12   [NaN, NaN]    [NaN, NaN]   [NaN, NaN]  "
      ]
     },
     "execution_count": 360,
     "metadata": {},
     "output_type": "execute_result"
    }
   ],
   "source": [
    "resumetable(df)"
   ]
  },
  {
   "cell_type": "code",
   "execution_count": 361,
   "id": "e3361920",
   "metadata": {
    "ExecuteTime": {
     "end_time": "2022-06-12T14:05:41.056829Z",
     "start_time": "2022-06-12T14:05:40.788441Z"
    }
   },
   "outputs": [
    {
     "data": {
      "image/png": "[encoded data removed]",
      "text/plain": [
       "<Figure size 792x504 with 1 Axes>"
      ]
     },
     "metadata": {},
     "output_type": "display_data"
    }
   ],
   "source": [
    "plt.figure(figsize=(11,7))\n",
    "df['years'] = (df['age'] / 365).round().astype('int')\n",
    "sns.countplot(x='years', hue='cardio', data = df, palette=\"Set2\");"
   ]
  },
  {
   "cell_type": "code",
   "execution_count": 362,
   "id": "2f9cc63f",
   "metadata": {
    "ExecuteTime": {
     "end_time": "2022-06-12T14:05:41.625771Z",
     "start_time": "2022-06-12T14:05:41.058829Z"
    }
   },
   "outputs": [
    {
     "data": {
      "image/png": "[encoded data removed]",
      "text/plain": [
       "<Figure size 761.625x360 with 2 Axes>"
      ]
     },
     "metadata": {},
     "output_type": "display_data"
    }
   ],
   "source": [
    "df_long = pd.melt(df, id_vars=['cardio'], value_vars=['cholesterol','gluc', 'smoke', 'alco', 'active'])\n",
    "ax = sns.catplot(x=\"variable\", hue=\"value\", col=\"cardio\", data=df_long, kind=\"count\")"
   ]
  },
  {
   "cell_type": "code",
   "execution_count": 363,
   "id": "ccba58ba",
   "metadata": {
    "ExecuteTime": {
     "end_time": "2022-06-12T14:05:41.654078Z",
     "start_time": "2022-06-12T14:05:41.626820Z"
    }
   },
   "outputs": [
    {
     "data": {
      "text/plain": [
       "gender\n",
       "1    0.496648\n",
       "2    0.505392\n",
       "Name: cardio, dtype: float64"
      ]
     },
     "execution_count": 363,
     "metadata": {},
     "output_type": "execute_result"
    }
   ],
   "source": [
    "df.groupby('gender')[\"cardio\"].mean()"
   ]
  },
  {
   "cell_type": "code",
   "execution_count": 364,
   "id": "e5a8ec90",
   "metadata": {
    "ExecuteTime": {
     "end_time": "2022-06-12T14:05:41.669291Z",
     "start_time": "2022-06-12T14:05:41.654078Z"
    }
   },
   "outputs": [
    {
     "data": {
      "text/plain": [
       "1    41025\n",
       "2    21975\n",
       "Name: gender, dtype: int64"
      ]
     },
     "execution_count": 364,
     "metadata": {},
     "output_type": "execute_result"
    }
   ],
   "source": [
    "df['gender'].value_counts()"
   ]
  },
  {
   "cell_type": "code",
   "execution_count": 365,
   "id": "a7681ef7",
   "metadata": {
    "ExecuteTime": {
     "end_time": "2022-06-12T14:05:41.685295Z",
     "start_time": "2022-06-12T14:05:41.671292Z"
    }
   },
   "outputs": [
    {
     "data": {
      "text/plain": [
       "gender\n",
       "1    0.025277\n",
       "2    0.106849\n",
       "Name: alco, dtype: float64"
      ]
     },
     "execution_count": 365,
     "metadata": {},
     "output_type": "execute_result"
    }
   ],
   "source": [
    "df.groupby('gender')['alco'].mean()"
   ]
  },
  {
   "cell_type": "code",
   "execution_count": 366,
   "id": "cf628ecf",
   "metadata": {
    "ExecuteTime": {
     "end_time": "2022-06-12T14:05:41.700298Z",
     "start_time": "2022-06-12T14:05:41.686295Z"
    }
   },
   "outputs": [
    {
     "data": {
      "text/plain": [
       "0    59615\n",
       "1     3385\n",
       "Name: alco, dtype: int64"
      ]
     },
     "execution_count": 366,
     "metadata": {},
     "output_type": "execute_result"
    }
   ],
   "source": [
    "df[\"alco\"].value_counts()"
   ]
  },
  {
   "cell_type": "code",
   "execution_count": 367,
   "id": "073d1d8a",
   "metadata": {
    "ExecuteTime": {
     "end_time": "2022-06-12T14:05:43.155077Z",
     "start_time": "2022-06-12T14:05:43.126064Z"
    }
   },
   "outputs": [
    {
     "data": {
      "text/html": [
       "<div>\n",
       "<style scoped>\n",
       "    .dataframe tbody tr th:only-of-type {\n",
       "        vertical-align: middle;\n",
       "    }\n",
       "\n",
       "    .dataframe tbody tr th {\n",
       "        vertical-align: top;\n",
       "    }\n",
       "\n",
       "    .dataframe thead th {\n",
       "        text-align: right;\n",
       "    }\n",
       "</style>\n",
       "<table border=\"1\" class=\"dataframe\">\n",
       "  <thead>\n",
       "    <tr style=\"text-align: right;\">\n",
       "      <th>gender</th>\n",
       "      <th>1</th>\n",
       "      <th>2</th>\n",
       "    </tr>\n",
       "    <tr>\n",
       "      <th>cardio</th>\n",
       "      <th></th>\n",
       "      <th></th>\n",
       "    </tr>\n",
       "  </thead>\n",
       "  <tbody>\n",
       "    <tr>\n",
       "      <th>0</th>\n",
       "      <td>0.327778</td>\n",
       "      <td>0.172524</td>\n",
       "    </tr>\n",
       "    <tr>\n",
       "      <th>1</th>\n",
       "      <td>0.323413</td>\n",
       "      <td>0.176286</td>\n",
       "    </tr>\n",
       "  </tbody>\n",
       "</table>\n",
       "</div>"
      ],
      "text/plain": [
       "gender         1         2\n",
       "cardio                    \n",
       "0       0.327778  0.172524\n",
       "1       0.323413  0.176286"
      ]
     },
     "execution_count": 367,
     "metadata": {},
     "output_type": "execute_result"
    }
   ],
   "source": [
    "pd.crosstab(df['cardio'],df['gender'],normalize=True)"
   ]
  },
  {
   "cell_type": "code",
   "execution_count": 368,
   "id": "7deb0f99",
   "metadata": {
    "ExecuteTime": {
     "end_time": "2022-06-12T14:05:43.420688Z",
     "start_time": "2022-06-12T14:05:43.290578Z"
    },
    "scrolled": false
   },
   "outputs": [
    {
     "data": {
      "image/png": "[encoded data removed]",
      "text/plain": [
       "<Figure size 864x576 with 1 Axes>"
      ]
     },
     "metadata": {},
     "output_type": "display_data"
    }
   ],
   "source": [
    "df_melt = pd.melt(frame=df, value_vars=['height'], id_vars=['gender'])\n",
    "plt.figure(figsize=(12, 8))\n",
    "ax = sns.boxplot(x=\"variable\", y=\"value\", hue=\"gender\", data=df_melt, palette=\"Set2\",)"
   ]
  },
  {
   "cell_type": "code",
   "execution_count": 369,
   "id": "15a92283",
   "metadata": {
    "ExecuteTime": {
     "end_time": "2022-06-12T14:05:43.580407Z",
     "start_time": "2022-06-12T14:05:43.450713Z"
    }
   },
   "outputs": [
    {
     "data": {
      "image/png": "[encoded data removed]",
      "text/plain": [
       "<Figure size 864x576 with 1 Axes>"
      ]
     },
     "metadata": {},
     "output_type": "display_data"
    }
   ],
   "source": [
    "df_melt = pd.melt(frame=df, value_vars=['weight'], id_vars=['gender'])\n",
    "plt.figure(figsize=(12, 8))\n",
    "ax = sns.boxplot(x=\"variable\", y=\"value\", hue=\"gender\", data=df_melt, palette=\"Set2\",)"
   ]
  },
  {
   "cell_type": "code",
   "execution_count": 370,
   "id": "a423257b",
   "metadata": {
    "ExecuteTime": {
     "end_time": "2022-06-12T14:05:43.628447Z",
     "start_time": "2022-06-12T14:05:43.624446Z"
    }
   },
   "outputs": [],
   "source": [
    "df[\"outlier\"] = 0"
   ]
  },
  {
   "cell_type": "code",
   "execution_count": 371,
   "id": "f37f6e74",
   "metadata": {
    "ExecuteTime": {
     "end_time": "2022-06-12T14:05:43.836527Z",
     "start_time": "2022-06-12T14:05:43.823525Z"
    }
   },
   "outputs": [],
   "source": [
    "df.loc[(df['height'] > df['height'].quantile(0.975)) | (df['height'] < df['height'].quantile(0.025)), \"outlier\"] = 1\n",
    "df.loc[(df['weight'] > df['weight'].quantile(0.975)) | (df['weight'] < df['weight'].quantile(0.025)), \"outlier\"] = 2"
   ]
  },
  {
   "cell_type": "code",
   "execution_count": 372,
   "id": "f2a071b7",
   "metadata": {
    "ExecuteTime": {
     "end_time": "2022-06-12T14:05:44.122975Z",
     "start_time": "2022-06-12T14:05:44.107616Z"
    }
   },
   "outputs": [
    {
     "data": {
      "text/plain": [
       "outlier\n",
       "0    0.498300\n",
       "1    0.524019\n",
       "2    0.508986\n",
       "Name: cardio, dtype: float64"
      ]
     },
     "execution_count": 372,
     "metadata": {},
     "output_type": "execute_result"
    }
   ],
   "source": [
    "df.groupby(\"outlier\")[\"cardio\"].mean()"
   ]
  },
  {
   "cell_type": "code",
   "execution_count": 373,
   "id": "e73a2cf1",
   "metadata": {
    "ExecuteTime": {
     "end_time": "2022-06-12T14:05:44.309868Z",
     "start_time": "2022-06-12T14:05:44.283862Z"
    }
   },
   "outputs": [],
   "source": [
    "df.drop(df[(df['height'] > df['height'].quantile(0.999)) | (df['height'] < df['height'].quantile(0.001))].index,inplace=True)\n",
    "df.drop(df[(df['weight'] > df['weight'].quantile(0.999)) | (df['weight'] < df['weight'].quantile(0.001))].index,inplace=True)"
   ]
  },
  {
   "cell_type": "code",
   "execution_count": 374,
   "id": "fc895c57",
   "metadata": {
    "ExecuteTime": {
     "end_time": "2022-06-12T14:05:44.466929Z",
     "start_time": "2022-06-12T14:05:44.449925Z"
    }
   },
   "outputs": [
    {
     "data": {
      "text/plain": [
       "(62789, 15)"
      ]
     },
     "execution_count": 374,
     "metadata": {},
     "output_type": "execute_result"
    }
   ],
   "source": [
    "df.shape"
   ]
  },
  {
   "cell_type": "code",
   "execution_count": 375,
   "id": "24e58ff3",
   "metadata": {
    "ExecuteTime": {
     "end_time": "2022-06-12T14:05:46.686508Z",
     "start_time": "2022-06-12T14:05:46.442760Z"
    }
   },
   "outputs": [
    {
     "data": {
      "image/png": "[encoded data removed]",
      "text/plain": [
       "<Figure size 864x720 with 1 Axes>"
      ]
     },
     "metadata": {},
     "output_type": "display_data"
    }
   ],
   "source": [
    "df_melt = pd.melt(frame=df, value_vars=['height'], id_vars=['gender'])\n",
    "plt.figure(figsize=(12, 10))\n",
    "ax = sns.violinplot(x='variable',\n",
    "                    y='value',\n",
    "                    hue='gender',\n",
    "                    split=True,\n",
    "                    data=df_melt,\n",
    "                    scale='count',\n",
    "                    scale_hue=False,\n",
    "                    palette=\"Set2\")"
   ]
  },
  {
   "cell_type": "code",
   "execution_count": 396,
   "id": "28412203",
   "metadata": {
    "ExecuteTime": {
     "end_time": "2022-06-12T14:07:58.877358Z",
     "start_time": "2022-06-12T14:07:58.551807Z"
    }
   },
   "outputs": [
    {
     "data": {
      "image/png": "[encoded data removed]",
      "text/plain": [
       "<Figure size 761.625x360 with 2 Axes>"
      ]
     },
     "metadata": {},
     "output_type": "display_data"
    }
   ],
   "source": [
    "df['BMI'] = df['weight']/((df['height']/100)**2)\n",
    "sns.catplot(x=\"gender\", y=\"BMI\", hue=\"alco\", col=\"cardio\", data=df, color = \"yellow\",kind=\"box\", height=5, aspect=1);"
   ]
  },
  {
   "cell_type": "code",
   "execution_count": 377,
   "id": "4e4133af",
   "metadata": {
    "ExecuteTime": {
     "end_time": "2022-06-12T14:05:48.274210Z",
     "start_time": "2022-06-12T14:05:48.258390Z"
    }
   },
   "outputs": [],
   "source": [
    "df = pd.concat([X_train, y_train], axis=1)"
   ]
  },
  {
   "cell_type": "code",
   "execution_count": 378,
   "id": "29887c6b",
   "metadata": {
    "ExecuteTime": {
     "end_time": "2022-06-12T14:05:48.927833Z",
     "start_time": "2022-06-12T14:05:48.787384Z"
    }
   },
   "outputs": [
    {
     "data": {
      "image/png": "[encoded data removed]",
      "text/plain": [
       "<Figure size 576x396 with 2 Axes>"
      ]
     },
     "metadata": {},
     "output_type": "display_data"
    }
   ],
   "source": [
    "f, axes = plt.subplots(1,2)\n",
    "sns.boxplot(y=\"ap_lo\", data=df, ax = axes[0])\n",
    "sns.boxplot(y=\"ap_hi\", data=df, ax = axes[1])\n",
    "plt.show()"
   ]
  },
  {
   "cell_type": "code",
   "execution_count": null,
   "id": "506791bf",
   "metadata": {},
   "outputs": [],
   "source": []
  },
  {
   "cell_type": "code",
   "execution_count": 379,
   "id": "8c081c80",
   "metadata": {
    "ExecuteTime": {
     "end_time": "2022-06-12T14:05:51.200810Z",
     "start_time": "2022-06-12T14:05:51.173840Z"
    }
   },
   "outputs": [],
   "source": [
    "df[\"bp_out\"] = 0"
   ]
  },
  {
   "cell_type": "code",
   "execution_count": 380,
   "id": "173ec2d8",
   "metadata": {
    "ExecuteTime": {
     "end_time": "2022-06-12T14:05:51.389820Z",
     "start_time": "2022-06-12T14:05:51.371825Z"
    }
   },
   "outputs": [],
   "source": [
    "a= df['ap_lo'].quantile(0.975)\n",
    "b= df['ap_lo'].quantile(0.025)\n",
    "c= df['ap_hi'].quantile(0.975)\n",
    "d= df['ap_hi'].quantile(0.025)"
   ]
  },
  {
   "cell_type": "code",
   "execution_count": 381,
   "id": "2b51046f",
   "metadata": {
    "ExecuteTime": {
     "end_time": "2022-06-12T14:05:51.624559Z",
     "start_time": "2022-06-12T14:05:51.617556Z"
    }
   },
   "outputs": [],
   "source": [
    "df.loc[df['ap_lo'] > a, \"ap_lo\"] = a\n",
    "df.loc[df['ap_lo'] < b, \"ap_lo\"] = b\n",
    "df.loc[df['ap_hi'] > c, \"ap_hi\"] = c\n",
    "df.loc[df['ap_hi'] < d, \"ap_hi\"] = d"
   ]
  },
  {
   "cell_type": "code",
   "execution_count": 238,
   "id": "1560c1b4",
   "metadata": {
    "ExecuteTime": {
     "end_time": "2022-06-12T13:25:36.615820Z",
     "start_time": "2022-06-12T13:25:36.601822Z"
    }
   },
   "outputs": [],
   "source": [
    "df.loc[(df['ap_lo'] > df['ap_lo'].quantile(0.975)) | (df['ap_lo'] < df['ap_lo'].quantile(0.025)), \"bp_out\"] = 1\n",
    "df.loc[(df['ap_hi'] > df['ap_hi'].quantile(0.975)) | (df['ap_hi'] < df['ap_hi'].quantile(0.025)), \"bp_out\"] = 2"
   ]
  },
  {
   "cell_type": "code",
   "execution_count": 252,
   "id": "c5f00ec9",
   "metadata": {
    "ExecuteTime": {
     "end_time": "2022-06-12T13:34:39.872292Z",
     "start_time": "2022-06-12T13:34:39.750854Z"
    }
   },
   "outputs": [
    {
     "data": {
      "image/png": "[encoded data removed]",
      "text/plain": [
       "<Figure size 792x360 with 2 Axes>"
      ]
     },
     "metadata": {
      "needs_background": "light"
     },
     "output_type": "display_data"
    }
   ],
   "source": [
    "f, axes = plt.subplots(1,2)\n",
    "sns.boxplot(y=\"ap_lo\", data=df, ax = axes[0])\n",
    "sns.boxplot(y=\"ap_hi\", data=df, ax = axes[1])\n",
    "plt.show()"
   ]
  },
  {
   "cell_type": "code",
   "execution_count": 241,
   "id": "fbdc196b",
   "metadata": {
    "ExecuteTime": {
     "end_time": "2022-06-12T13:25:54.552385Z",
     "start_time": "2022-06-12T13:25:54.041330Z"
    }
   },
   "outputs": [
    {
     "data": {
      "text/plain": [
       "<AxesSubplot:xlabel='bp_out', ylabel='cardio'>"
      ]
     },
     "execution_count": 241,
     "metadata": {},
     "output_type": "execute_result"
    },
    {
     "data": {
      "image/png": "[encoded data removed]",
      "text/plain": [
       "<Figure size 792x360 with 1 Axes>"
      ]
     },
     "metadata": {
      "needs_background": "light"
     },
     "output_type": "display_data"
    }
   ],
   "source": [
    "sns.barplot(data=df, x=\"bp_out\", y=\"cardio\")"
   ]
  },
  {
   "cell_type": "code",
   "execution_count": 266,
   "id": "9c22736a",
   "metadata": {
    "ExecuteTime": {
     "end_time": "2022-06-12T13:36:13.397507Z",
     "start_time": "2022-06-12T13:36:13.296115Z"
    }
   },
   "outputs": [
    {
     "data": {
      "text/plain": [
       "<AxesSubplot:>"
      ]
     },
     "execution_count": 266,
     "metadata": {},
     "output_type": "execute_result"
    },
    {
     "data": {
      "image/png": "[encoded data removed]",
      "text/plain": [
       "<Figure size 792x360 with 1 Axes>"
      ]
     },
     "metadata": {
      "needs_background": "light"
     },
     "output_type": "display_data"
    }
   ],
   "source": [
    "df[\"ap_lo\"].hist()"
   ]
  },
  {
   "cell_type": "code",
   "execution_count": 267,
   "id": "6988c6b4",
   "metadata": {
    "ExecuteTime": {
     "end_time": "2022-06-12T13:36:33.386622Z",
     "start_time": "2022-06-12T13:36:33.287149Z"
    }
   },
   "outputs": [
    {
     "data": {
      "text/plain": [
       "<AxesSubplot:>"
      ]
     },
     "execution_count": 267,
     "metadata": {},
     "output_type": "execute_result"
    },
    {
     "data": {
      "image/png": "[encoded data removed]",
      "text/plain": [
       "<Figure size 792x360 with 1 Axes>"
      ]
     },
     "metadata": {
      "needs_background": "light"
     },
     "output_type": "display_data"
    }
   ],
   "source": [
    "df[\"ap_hi\"].hist()"
   ]
  },
  {
   "cell_type": "code",
   "execution_count": 397,
   "id": "730bccb7",
   "metadata": {
    "ExecuteTime": {
     "end_time": "2022-06-12T14:08:08.449276Z",
     "start_time": "2022-06-12T14:08:08.426135Z"
    }
   },
   "outputs": [
    {
     "data": {
      "text/html": [
       "<div>\n",
       "<style scoped>\n",
       "    .dataframe tbody tr th:only-of-type {\n",
       "        vertical-align: middle;\n",
       "    }\n",
       "\n",
       "    .dataframe tbody tr th {\n",
       "        vertical-align: top;\n",
       "    }\n",
       "\n",
       "    .dataframe thead th {\n",
       "        text-align: right;\n",
       "    }\n",
       "</style>\n",
       "<table border=\"1\" class=\"dataframe\">\n",
       "  <thead>\n",
       "    <tr style=\"text-align: right;\">\n",
       "      <th></th>\n",
       "      <th>age</th>\n",
       "      <th>gender</th>\n",
       "      <th>height</th>\n",
       "      <th>weight</th>\n",
       "      <th>ap_hi</th>\n",
       "      <th>ap_lo</th>\n",
       "      <th>cholesterol</th>\n",
       "      <th>gluc</th>\n",
       "      <th>smoke</th>\n",
       "      <th>alco</th>\n",
       "      <th>active</th>\n",
       "      <th>cardio</th>\n",
       "      <th>BMI</th>\n",
       "    </tr>\n",
       "  </thead>\n",
       "  <tbody>\n",
       "    <tr>\n",
       "      <th>34944</th>\n",
       "      <td>21664</td>\n",
       "      <td>1</td>\n",
       "      <td>169</td>\n",
       "      <td>68.0</td>\n",
       "      <td>140</td>\n",
       "      <td>80</td>\n",
       "      <td>1</td>\n",
       "      <td>1</td>\n",
       "      <td>0</td>\n",
       "      <td>0</td>\n",
       "      <td>1</td>\n",
       "      <td>1</td>\n",
       "      <td>23.808690</td>\n",
       "    </tr>\n",
       "    <tr>\n",
       "      <th>13034</th>\n",
       "      <td>19633</td>\n",
       "      <td>2</td>\n",
       "      <td>177</td>\n",
       "      <td>101.0</td>\n",
       "      <td>170</td>\n",
       "      <td>100</td>\n",
       "      <td>1</td>\n",
       "      <td>1</td>\n",
       "      <td>1</td>\n",
       "      <td>0</td>\n",
       "      <td>1</td>\n",
       "      <td>1</td>\n",
       "      <td>32.238501</td>\n",
       "    </tr>\n",
       "    <tr>\n",
       "      <th>29180</th>\n",
       "      <td>14613</td>\n",
       "      <td>1</td>\n",
       "      <td>166</td>\n",
       "      <td>50.0</td>\n",
       "      <td>100</td>\n",
       "      <td>70</td>\n",
       "      <td>1</td>\n",
       "      <td>1</td>\n",
       "      <td>0</td>\n",
       "      <td>0</td>\n",
       "      <td>1</td>\n",
       "      <td>0</td>\n",
       "      <td>18.144869</td>\n",
       "    </tr>\n",
       "  </tbody>\n",
       "</table>\n",
       "</div>"
      ],
      "text/plain": [
       "         age  gender  height  weight  ap_hi  ap_lo  cholesterol  gluc  smoke  \\\n",
       "34944  21664       1     169    68.0    140     80            1     1      0   \n",
       "13034  19633       2     177   101.0    170    100            1     1      1   \n",
       "29180  14613       1     166    50.0    100     70            1     1      0   \n",
       "\n",
       "       alco  active  cardio        BMI  \n",
       "34944     0       1       1  23.808690  \n",
       "13034     0       1       1  32.238501  \n",
       "29180     0       1       0  18.144869  "
      ]
     },
     "execution_count": 397,
     "metadata": {},
     "output_type": "execute_result"
    }
   ],
   "source": [
    "df.head(3)"
   ]
  },
  {
   "cell_type": "code",
   "execution_count": 382,
   "id": "1c0cc75a",
   "metadata": {
    "ExecuteTime": {
     "end_time": "2022-06-12T14:05:56.748355Z",
     "start_time": "2022-06-12T14:05:56.736904Z"
    }
   },
   "outputs": [
    {
     "data": {
      "text/plain": [
       "['id',\n",
       " 'age',\n",
       " 'gender',\n",
       " 'height',\n",
       " 'weight',\n",
       " 'ap_hi',\n",
       " 'ap_lo',\n",
       " 'cholesterol',\n",
       " 'gluc',\n",
       " 'smoke',\n",
       " 'alco',\n",
       " 'active',\n",
       " 'cardio',\n",
       " 'bp_out']"
      ]
     },
     "execution_count": 382,
     "metadata": {},
     "output_type": "execute_result"
    }
   ],
   "source": [
    "list(df)"
   ]
  },
  {
   "cell_type": "code",
   "execution_count": 389,
   "id": "321ef230",
   "metadata": {
    "ExecuteTime": {
     "end_time": "2022-06-12T14:06:53.669401Z",
     "start_time": "2022-06-12T14:06:53.659409Z"
    }
   },
   "outputs": [],
   "source": [
    "df.drop([\"bp_out\"],axis=1, inplace=True)"
   ]
  },
  {
   "cell_type": "code",
   "execution_count": 390,
   "id": "f67c4e92",
   "metadata": {
    "ExecuteTime": {
     "end_time": "2022-06-12T14:06:54.796749Z",
     "start_time": "2022-06-12T14:06:54.783304Z"
    }
   },
   "outputs": [
    {
     "data": {
      "text/plain": [
       "(63000, 12)"
      ]
     },
     "execution_count": 390,
     "metadata": {},
     "output_type": "execute_result"
    }
   ],
   "source": [
    "df.shape"
   ]
  },
  {
   "cell_type": "code",
   "execution_count": 393,
   "id": "6190c5bd",
   "metadata": {
    "ExecuteTime": {
     "end_time": "2022-06-12T14:07:42.547823Z",
     "start_time": "2022-06-12T14:07:42.538819Z"
    }
   },
   "outputs": [],
   "source": [
    "df[\"cardio\"] = y_train"
   ]
  },
  {
   "cell_type": "code",
   "execution_count": 279,
   "id": "8f5a3fdc",
   "metadata": {
    "ExecuteTime": {
     "end_time": "2022-06-12T13:40:59.183773Z",
     "start_time": "2022-06-12T13:40:57.079863Z"
    }
   },
   "outputs": [],
   "source": [
    "from pycaret.regression import *"
   ]
  },
  {
   "cell_type": "code",
   "execution_count": 398,
   "id": "b77a66b3",
   "metadata": {
    "ExecuteTime": {
     "end_time": "2022-06-12T14:08:16.331494Z",
     "start_time": "2022-06-12T14:08:11.890018Z"
    }
   },
   "outputs": [
    {
     "data": {
      "text/html": [
       "<style type=\"text/css\">\n",
       "#T_a7c2f_row27_col1 {\n",
       "  background-color: lightgreen;\n",
       "}\n",
       "</style>\n",
       "<table id=\"T_a7c2f\">\n",
       "  <thead>\n",
       "    <tr>\n",
       "      <th class=\"blank level0\" >&nbsp;</th>\n",
       "      <th id=\"T_a7c2f_level0_col0\" class=\"col_heading level0 col0\" >Description</th>\n",
       "      <th id=\"T_a7c2f_level0_col1\" class=\"col_heading level0 col1\" >Value</th>\n",
       "    </tr>\n",
       "  </thead>\n",
       "  <tbody>\n",
       "    <tr>\n",
       "      <th id=\"T_a7c2f_level0_row0\" class=\"row_heading level0 row0\" >0</th>\n",
       "      <td id=\"T_a7c2f_row0_col0\" class=\"data row0 col0\" >session_id</td>\n",
       "      <td id=\"T_a7c2f_row0_col1\" class=\"data row0 col1\" >950</td>\n",
       "    </tr>\n",
       "    <tr>\n",
       "      <th id=\"T_a7c2f_level0_row1\" class=\"row_heading level0 row1\" >1</th>\n",
       "      <td id=\"T_a7c2f_row1_col0\" class=\"data row1 col0\" >Target</td>\n",
       "      <td id=\"T_a7c2f_row1_col1\" class=\"data row1 col1\" >cardio</td>\n",
       "    </tr>\n",
       "    <tr>\n",
       "      <th id=\"T_a7c2f_level0_row2\" class=\"row_heading level0 row2\" >2</th>\n",
       "      <td id=\"T_a7c2f_row2_col0\" class=\"data row2 col0\" >Original Data</td>\n",
       "      <td id=\"T_a7c2f_row2_col1\" class=\"data row2 col1\" >(63000, 13)</td>\n",
       "    </tr>\n",
       "    <tr>\n",
       "      <th id=\"T_a7c2f_level0_row3\" class=\"row_heading level0 row3\" >3</th>\n",
       "      <td id=\"T_a7c2f_row3_col0\" class=\"data row3 col0\" >Missing Values</td>\n",
       "      <td id=\"T_a7c2f_row3_col1\" class=\"data row3 col1\" >False</td>\n",
       "    </tr>\n",
       "    <tr>\n",
       "      <th id=\"T_a7c2f_level0_row4\" class=\"row_heading level0 row4\" >4</th>\n",
       "      <td id=\"T_a7c2f_row4_col0\" class=\"data row4 col0\" >Numeric Features</td>\n",
       "      <td id=\"T_a7c2f_row4_col1\" class=\"data row4 col1\" >6</td>\n",
       "    </tr>\n",
       "    <tr>\n",
       "      <th id=\"T_a7c2f_level0_row5\" class=\"row_heading level0 row5\" >5</th>\n",
       "      <td id=\"T_a7c2f_row5_col0\" class=\"data row5 col0\" >Categorical Features</td>\n",
       "      <td id=\"T_a7c2f_row5_col1\" class=\"data row5 col1\" >6</td>\n",
       "    </tr>\n",
       "    <tr>\n",
       "      <th id=\"T_a7c2f_level0_row6\" class=\"row_heading level0 row6\" >6</th>\n",
       "      <td id=\"T_a7c2f_row6_col0\" class=\"data row6 col0\" >Ordinal Features</td>\n",
       "      <td id=\"T_a7c2f_row6_col1\" class=\"data row6 col1\" >False</td>\n",
       "    </tr>\n",
       "    <tr>\n",
       "      <th id=\"T_a7c2f_level0_row7\" class=\"row_heading level0 row7\" >7</th>\n",
       "      <td id=\"T_a7c2f_row7_col0\" class=\"data row7 col0\" >High Cardinality Features</td>\n",
       "      <td id=\"T_a7c2f_row7_col1\" class=\"data row7 col1\" >False</td>\n",
       "    </tr>\n",
       "    <tr>\n",
       "      <th id=\"T_a7c2f_level0_row8\" class=\"row_heading level0 row8\" >8</th>\n",
       "      <td id=\"T_a7c2f_row8_col0\" class=\"data row8 col0\" >High Cardinality Method</td>\n",
       "      <td id=\"T_a7c2f_row8_col1\" class=\"data row8 col1\" >None</td>\n",
       "    </tr>\n",
       "    <tr>\n",
       "      <th id=\"T_a7c2f_level0_row9\" class=\"row_heading level0 row9\" >9</th>\n",
       "      <td id=\"T_a7c2f_row9_col0\" class=\"data row9 col0\" >Transformed Train Set</td>\n",
       "      <td id=\"T_a7c2f_row9_col1\" class=\"data row9 col1\" >(53549, 20)</td>\n",
       "    </tr>\n",
       "    <tr>\n",
       "      <th id=\"T_a7c2f_level0_row10\" class=\"row_heading level0 row10\" >10</th>\n",
       "      <td id=\"T_a7c2f_row10_col0\" class=\"data row10 col0\" >Transformed Test Set</td>\n",
       "      <td id=\"T_a7c2f_row10_col1\" class=\"data row10 col1\" >(9451, 20)</td>\n",
       "    </tr>\n",
       "    <tr>\n",
       "      <th id=\"T_a7c2f_level0_row11\" class=\"row_heading level0 row11\" >11</th>\n",
       "      <td id=\"T_a7c2f_row11_col0\" class=\"data row11 col0\" >Shuffle Train-Test</td>\n",
       "      <td id=\"T_a7c2f_row11_col1\" class=\"data row11 col1\" >True</td>\n",
       "    </tr>\n",
       "    <tr>\n",
       "      <th id=\"T_a7c2f_level0_row12\" class=\"row_heading level0 row12\" >12</th>\n",
       "      <td id=\"T_a7c2f_row12_col0\" class=\"data row12 col0\" >Stratify Train-Test</td>\n",
       "      <td id=\"T_a7c2f_row12_col1\" class=\"data row12 col1\" >False</td>\n",
       "    </tr>\n",
       "    <tr>\n",
       "      <th id=\"T_a7c2f_level0_row13\" class=\"row_heading level0 row13\" >13</th>\n",
       "      <td id=\"T_a7c2f_row13_col0\" class=\"data row13 col0\" >Fold Generator</td>\n",
       "      <td id=\"T_a7c2f_row13_col1\" class=\"data row13 col1\" >KFold</td>\n",
       "    </tr>\n",
       "    <tr>\n",
       "      <th id=\"T_a7c2f_level0_row14\" class=\"row_heading level0 row14\" >14</th>\n",
       "      <td id=\"T_a7c2f_row14_col0\" class=\"data row14 col0\" >Fold Number</td>\n",
       "      <td id=\"T_a7c2f_row14_col1\" class=\"data row14 col1\" >10</td>\n",
       "    </tr>\n",
       "    <tr>\n",
       "      <th id=\"T_a7c2f_level0_row15\" class=\"row_heading level0 row15\" >15</th>\n",
       "      <td id=\"T_a7c2f_row15_col0\" class=\"data row15 col0\" >CPU Jobs</td>\n",
       "      <td id=\"T_a7c2f_row15_col1\" class=\"data row15 col1\" >-1</td>\n",
       "    </tr>\n",
       "    <tr>\n",
       "      <th id=\"T_a7c2f_level0_row16\" class=\"row_heading level0 row16\" >16</th>\n",
       "      <td id=\"T_a7c2f_row16_col0\" class=\"data row16 col0\" >Use GPU</td>\n",
       "      <td id=\"T_a7c2f_row16_col1\" class=\"data row16 col1\" >False</td>\n",
       "    </tr>\n",
       "    <tr>\n",
       "      <th id=\"T_a7c2f_level0_row17\" class=\"row_heading level0 row17\" >17</th>\n",
       "      <td id=\"T_a7c2f_row17_col0\" class=\"data row17 col0\" >Log Experiment</td>\n",
       "      <td id=\"T_a7c2f_row17_col1\" class=\"data row17 col1\" >False</td>\n",
       "    </tr>\n",
       "    <tr>\n",
       "      <th id=\"T_a7c2f_level0_row18\" class=\"row_heading level0 row18\" >18</th>\n",
       "      <td id=\"T_a7c2f_row18_col0\" class=\"data row18 col0\" >Experiment Name</td>\n",
       "      <td id=\"T_a7c2f_row18_col1\" class=\"data row18 col1\" >reg-default-name</td>\n",
       "    </tr>\n",
       "    <tr>\n",
       "      <th id=\"T_a7c2f_level0_row19\" class=\"row_heading level0 row19\" >19</th>\n",
       "      <td id=\"T_a7c2f_row19_col0\" class=\"data row19 col0\" >USI</td>\n",
       "      <td id=\"T_a7c2f_row19_col1\" class=\"data row19 col1\" >60a6</td>\n",
       "    </tr>\n",
       "    <tr>\n",
       "      <th id=\"T_a7c2f_level0_row20\" class=\"row_heading level0 row20\" >20</th>\n",
       "      <td id=\"T_a7c2f_row20_col0\" class=\"data row20 col0\" >Imputation Type</td>\n",
       "      <td id=\"T_a7c2f_row20_col1\" class=\"data row20 col1\" >simple</td>\n",
       "    </tr>\n",
       "    <tr>\n",
       "      <th id=\"T_a7c2f_level0_row21\" class=\"row_heading level0 row21\" >21</th>\n",
       "      <td id=\"T_a7c2f_row21_col0\" class=\"data row21 col0\" >Iterative Imputation Iteration</td>\n",
       "      <td id=\"T_a7c2f_row21_col1\" class=\"data row21 col1\" >None</td>\n",
       "    </tr>\n",
       "    <tr>\n",
       "      <th id=\"T_a7c2f_level0_row22\" class=\"row_heading level0 row22\" >22</th>\n",
       "      <td id=\"T_a7c2f_row22_col0\" class=\"data row22 col0\" >Numeric Imputer</td>\n",
       "      <td id=\"T_a7c2f_row22_col1\" class=\"data row22 col1\" >mean</td>\n",
       "    </tr>\n",
       "    <tr>\n",
       "      <th id=\"T_a7c2f_level0_row23\" class=\"row_heading level0 row23\" >23</th>\n",
       "      <td id=\"T_a7c2f_row23_col0\" class=\"data row23 col0\" >Iterative Imputation Numeric Model</td>\n",
       "      <td id=\"T_a7c2f_row23_col1\" class=\"data row23 col1\" >None</td>\n",
       "    </tr>\n",
       "    <tr>\n",
       "      <th id=\"T_a7c2f_level0_row24\" class=\"row_heading level0 row24\" >24</th>\n",
       "      <td id=\"T_a7c2f_row24_col0\" class=\"data row24 col0\" >Categorical Imputer</td>\n",
       "      <td id=\"T_a7c2f_row24_col1\" class=\"data row24 col1\" >constant</td>\n",
       "    </tr>\n",
       "    <tr>\n",
       "      <th id=\"T_a7c2f_level0_row25\" class=\"row_heading level0 row25\" >25</th>\n",
       "      <td id=\"T_a7c2f_row25_col0\" class=\"data row25 col0\" >Iterative Imputation Categorical Model</td>\n",
       "      <td id=\"T_a7c2f_row25_col1\" class=\"data row25 col1\" >None</td>\n",
       "    </tr>\n",
       "    <tr>\n",
       "      <th id=\"T_a7c2f_level0_row26\" class=\"row_heading level0 row26\" >26</th>\n",
       "      <td id=\"T_a7c2f_row26_col0\" class=\"data row26 col0\" >Unknown Categoricals Handling</td>\n",
       "      <td id=\"T_a7c2f_row26_col1\" class=\"data row26 col1\" >least_frequent</td>\n",
       "    </tr>\n",
       "    <tr>\n",
       "      <th id=\"T_a7c2f_level0_row27\" class=\"row_heading level0 row27\" >27</th>\n",
       "      <td id=\"T_a7c2f_row27_col0\" class=\"data row27 col0\" >Normalize</td>\n",
       "      <td id=\"T_a7c2f_row27_col1\" class=\"data row27 col1\" >True</td>\n",
       "    </tr>\n",
       "    <tr>\n",
       "      <th id=\"T_a7c2f_level0_row28\" class=\"row_heading level0 row28\" >28</th>\n",
       "      <td id=\"T_a7c2f_row28_col0\" class=\"data row28 col0\" >Normalize Method</td>\n",
       "      <td id=\"T_a7c2f_row28_col1\" class=\"data row28 col1\" >minmax</td>\n",
       "    </tr>\n",
       "    <tr>\n",
       "      <th id=\"T_a7c2f_level0_row29\" class=\"row_heading level0 row29\" >29</th>\n",
       "      <td id=\"T_a7c2f_row29_col0\" class=\"data row29 col0\" >Transformation</td>\n",
       "      <td id=\"T_a7c2f_row29_col1\" class=\"data row29 col1\" >False</td>\n",
       "    </tr>\n",
       "    <tr>\n",
       "      <th id=\"T_a7c2f_level0_row30\" class=\"row_heading level0 row30\" >30</th>\n",
       "      <td id=\"T_a7c2f_row30_col0\" class=\"data row30 col0\" >Transformation Method</td>\n",
       "      <td id=\"T_a7c2f_row30_col1\" class=\"data row30 col1\" >None</td>\n",
       "    </tr>\n",
       "    <tr>\n",
       "      <th id=\"T_a7c2f_level0_row31\" class=\"row_heading level0 row31\" >31</th>\n",
       "      <td id=\"T_a7c2f_row31_col0\" class=\"data row31 col0\" >PCA</td>\n",
       "      <td id=\"T_a7c2f_row31_col1\" class=\"data row31 col1\" >False</td>\n",
       "    </tr>\n",
       "    <tr>\n",
       "      <th id=\"T_a7c2f_level0_row32\" class=\"row_heading level0 row32\" >32</th>\n",
       "      <td id=\"T_a7c2f_row32_col0\" class=\"data row32 col0\" >PCA Method</td>\n",
       "      <td id=\"T_a7c2f_row32_col1\" class=\"data row32 col1\" >None</td>\n",
       "    </tr>\n",
       "    <tr>\n",
       "      <th id=\"T_a7c2f_level0_row33\" class=\"row_heading level0 row33\" >33</th>\n",
       "      <td id=\"T_a7c2f_row33_col0\" class=\"data row33 col0\" >PCA Components</td>\n",
       "      <td id=\"T_a7c2f_row33_col1\" class=\"data row33 col1\" >None</td>\n",
       "    </tr>\n",
       "    <tr>\n",
       "      <th id=\"T_a7c2f_level0_row34\" class=\"row_heading level0 row34\" >34</th>\n",
       "      <td id=\"T_a7c2f_row34_col0\" class=\"data row34 col0\" >Ignore Low Variance</td>\n",
       "      <td id=\"T_a7c2f_row34_col1\" class=\"data row34 col1\" >False</td>\n",
       "    </tr>\n",
       "    <tr>\n",
       "      <th id=\"T_a7c2f_level0_row35\" class=\"row_heading level0 row35\" >35</th>\n",
       "      <td id=\"T_a7c2f_row35_col0\" class=\"data row35 col0\" >Combine Rare Levels</td>\n",
       "      <td id=\"T_a7c2f_row35_col1\" class=\"data row35 col1\" >False</td>\n",
       "    </tr>\n",
       "    <tr>\n",
       "      <th id=\"T_a7c2f_level0_row36\" class=\"row_heading level0 row36\" >36</th>\n",
       "      <td id=\"T_a7c2f_row36_col0\" class=\"data row36 col0\" >Rare Level Threshold</td>\n",
       "      <td id=\"T_a7c2f_row36_col1\" class=\"data row36 col1\" >None</td>\n",
       "    </tr>\n",
       "    <tr>\n",
       "      <th id=\"T_a7c2f_level0_row37\" class=\"row_heading level0 row37\" >37</th>\n",
       "      <td id=\"T_a7c2f_row37_col0\" class=\"data row37 col0\" >Numeric Binning</td>\n",
       "      <td id=\"T_a7c2f_row37_col1\" class=\"data row37 col1\" >False</td>\n",
       "    </tr>\n",
       "    <tr>\n",
       "      <th id=\"T_a7c2f_level0_row38\" class=\"row_heading level0 row38\" >38</th>\n",
       "      <td id=\"T_a7c2f_row38_col0\" class=\"data row38 col0\" >Remove Outliers</td>\n",
       "      <td id=\"T_a7c2f_row38_col1\" class=\"data row38 col1\" >False</td>\n",
       "    </tr>\n",
       "    <tr>\n",
       "      <th id=\"T_a7c2f_level0_row39\" class=\"row_heading level0 row39\" >39</th>\n",
       "      <td id=\"T_a7c2f_row39_col0\" class=\"data row39 col0\" >Outliers Threshold</td>\n",
       "      <td id=\"T_a7c2f_row39_col1\" class=\"data row39 col1\" >None</td>\n",
       "    </tr>\n",
       "    <tr>\n",
       "      <th id=\"T_a7c2f_level0_row40\" class=\"row_heading level0 row40\" >40</th>\n",
       "      <td id=\"T_a7c2f_row40_col0\" class=\"data row40 col0\" >Remove Multicollinearity</td>\n",
       "      <td id=\"T_a7c2f_row40_col1\" class=\"data row40 col1\" >False</td>\n",
       "    </tr>\n",
       "    <tr>\n",
       "      <th id=\"T_a7c2f_level0_row41\" class=\"row_heading level0 row41\" >41</th>\n",
       "      <td id=\"T_a7c2f_row41_col0\" class=\"data row41 col0\" >Multicollinearity Threshold</td>\n",
       "      <td id=\"T_a7c2f_row41_col1\" class=\"data row41 col1\" >None</td>\n",
       "    </tr>\n",
       "    <tr>\n",
       "      <th id=\"T_a7c2f_level0_row42\" class=\"row_heading level0 row42\" >42</th>\n",
       "      <td id=\"T_a7c2f_row42_col0\" class=\"data row42 col0\" >Remove Perfect Collinearity</td>\n",
       "      <td id=\"T_a7c2f_row42_col1\" class=\"data row42 col1\" >False</td>\n",
       "    </tr>\n",
       "    <tr>\n",
       "      <th id=\"T_a7c2f_level0_row43\" class=\"row_heading level0 row43\" >43</th>\n",
       "      <td id=\"T_a7c2f_row43_col0\" class=\"data row43 col0\" >Clustering</td>\n",
       "      <td id=\"T_a7c2f_row43_col1\" class=\"data row43 col1\" >False</td>\n",
       "    </tr>\n",
       "    <tr>\n",
       "      <th id=\"T_a7c2f_level0_row44\" class=\"row_heading level0 row44\" >44</th>\n",
       "      <td id=\"T_a7c2f_row44_col0\" class=\"data row44 col0\" >Clustering Iteration</td>\n",
       "      <td id=\"T_a7c2f_row44_col1\" class=\"data row44 col1\" >None</td>\n",
       "    </tr>\n",
       "    <tr>\n",
       "      <th id=\"T_a7c2f_level0_row45\" class=\"row_heading level0 row45\" >45</th>\n",
       "      <td id=\"T_a7c2f_row45_col0\" class=\"data row45 col0\" >Polynomial Features</td>\n",
       "      <td id=\"T_a7c2f_row45_col1\" class=\"data row45 col1\" >False</td>\n",
       "    </tr>\n",
       "    <tr>\n",
       "      <th id=\"T_a7c2f_level0_row46\" class=\"row_heading level0 row46\" >46</th>\n",
       "      <td id=\"T_a7c2f_row46_col0\" class=\"data row46 col0\" >Polynomial Degree</td>\n",
       "      <td id=\"T_a7c2f_row46_col1\" class=\"data row46 col1\" >None</td>\n",
       "    </tr>\n",
       "    <tr>\n",
       "      <th id=\"T_a7c2f_level0_row47\" class=\"row_heading level0 row47\" >47</th>\n",
       "      <td id=\"T_a7c2f_row47_col0\" class=\"data row47 col0\" >Trignometry Features</td>\n",
       "      <td id=\"T_a7c2f_row47_col1\" class=\"data row47 col1\" >False</td>\n",
       "    </tr>\n",
       "    <tr>\n",
       "      <th id=\"T_a7c2f_level0_row48\" class=\"row_heading level0 row48\" >48</th>\n",
       "      <td id=\"T_a7c2f_row48_col0\" class=\"data row48 col0\" >Polynomial Threshold</td>\n",
       "      <td id=\"T_a7c2f_row48_col1\" class=\"data row48 col1\" >None</td>\n",
       "    </tr>\n",
       "    <tr>\n",
       "      <th id=\"T_a7c2f_level0_row49\" class=\"row_heading level0 row49\" >49</th>\n",
       "      <td id=\"T_a7c2f_row49_col0\" class=\"data row49 col0\" >Group Features</td>\n",
       "      <td id=\"T_a7c2f_row49_col1\" class=\"data row49 col1\" >False</td>\n",
       "    </tr>\n",
       "    <tr>\n",
       "      <th id=\"T_a7c2f_level0_row50\" class=\"row_heading level0 row50\" >50</th>\n",
       "      <td id=\"T_a7c2f_row50_col0\" class=\"data row50 col0\" >Feature Selection</td>\n",
       "      <td id=\"T_a7c2f_row50_col1\" class=\"data row50 col1\" >False</td>\n",
       "    </tr>\n",
       "    <tr>\n",
       "      <th id=\"T_a7c2f_level0_row51\" class=\"row_heading level0 row51\" >51</th>\n",
       "      <td id=\"T_a7c2f_row51_col0\" class=\"data row51 col0\" >Feature Selection Method</td>\n",
       "      <td id=\"T_a7c2f_row51_col1\" class=\"data row51 col1\" >classic</td>\n",
       "    </tr>\n",
       "    <tr>\n",
       "      <th id=\"T_a7c2f_level0_row52\" class=\"row_heading level0 row52\" >52</th>\n",
       "      <td id=\"T_a7c2f_row52_col0\" class=\"data row52 col0\" >Features Selection Threshold</td>\n",
       "      <td id=\"T_a7c2f_row52_col1\" class=\"data row52 col1\" >None</td>\n",
       "    </tr>\n",
       "    <tr>\n",
       "      <th id=\"T_a7c2f_level0_row53\" class=\"row_heading level0 row53\" >53</th>\n",
       "      <td id=\"T_a7c2f_row53_col0\" class=\"data row53 col0\" >Feature Interaction</td>\n",
       "      <td id=\"T_a7c2f_row53_col1\" class=\"data row53 col1\" >False</td>\n",
       "    </tr>\n",
       "    <tr>\n",
       "      <th id=\"T_a7c2f_level0_row54\" class=\"row_heading level0 row54\" >54</th>\n",
       "      <td id=\"T_a7c2f_row54_col0\" class=\"data row54 col0\" >Feature Ratio</td>\n",
       "      <td id=\"T_a7c2f_row54_col1\" class=\"data row54 col1\" >False</td>\n",
       "    </tr>\n",
       "    <tr>\n",
       "      <th id=\"T_a7c2f_level0_row55\" class=\"row_heading level0 row55\" >55</th>\n",
       "      <td id=\"T_a7c2f_row55_col0\" class=\"data row55 col0\" >Interaction Threshold</td>\n",
       "      <td id=\"T_a7c2f_row55_col1\" class=\"data row55 col1\" >None</td>\n",
       "    </tr>\n",
       "    <tr>\n",
       "      <th id=\"T_a7c2f_level0_row56\" class=\"row_heading level0 row56\" >56</th>\n",
       "      <td id=\"T_a7c2f_row56_col0\" class=\"data row56 col0\" >Transform Target</td>\n",
       "      <td id=\"T_a7c2f_row56_col1\" class=\"data row56 col1\" >False</td>\n",
       "    </tr>\n",
       "    <tr>\n",
       "      <th id=\"T_a7c2f_level0_row57\" class=\"row_heading level0 row57\" >57</th>\n",
       "      <td id=\"T_a7c2f_row57_col0\" class=\"data row57 col0\" >Transform Target Method</td>\n",
       "      <td id=\"T_a7c2f_row57_col1\" class=\"data row57 col1\" >box-cox</td>\n",
       "    </tr>\n",
       "  </tbody>\n",
       "</table>\n"
      ],
      "text/plain": [
       "<pandas.io.formats.style.Styler at 0x25b69faf820>"
      ]
     },
     "metadata": {},
     "output_type": "display_data"
    }
   ],
   "source": [
    "data = setup(\n",
    "    data=df,\n",
    "    target='cardio',\n",
    "    train_size=0.85,\n",
    "    normalize=True,\n",
    "    normalize_method='minmax',\n",
    "    remove_perfect_collinearity=False,\n",
    "    fold=10,\n",
    "    numeric_features=[\"age\",\"height\",\"weight\",\"ap_hi\",\"ap_lo\",\"BMI\"]\n",
    ")"
   ]
  },
  {
   "cell_type": "code",
   "execution_count": 399,
   "id": "7d34146a",
   "metadata": {
    "ExecuteTime": {
     "end_time": "2022-06-12T14:17:04.178797Z",
     "start_time": "2022-06-12T14:15:43.675646Z"
    }
   },
   "outputs": [
    {
     "data": {
      "text/html": [
       "<style type=\"text/css\">\n",
       "#T_d0850 th {\n",
       "  text-align: left;\n",
       "}\n",
       "#T_d0850_row0_col0, #T_d0850_row0_col1, #T_d0850_row0_col4, #T_d0850_row0_col5, #T_d0850_row0_col6, #T_d0850_row1_col0, #T_d0850_row1_col1, #T_d0850_row1_col6, #T_d0850_row2_col0, #T_d0850_row2_col2, #T_d0850_row2_col3, #T_d0850_row2_col4, #T_d0850_row2_col5, #T_d0850_row2_col6, #T_d0850_row3_col0, #T_d0850_row3_col1, #T_d0850_row3_col2, #T_d0850_row3_col3, #T_d0850_row3_col4, #T_d0850_row3_col5, #T_d0850_row3_col6, #T_d0850_row4_col0, #T_d0850_row4_col1, #T_d0850_row4_col2, #T_d0850_row4_col3, #T_d0850_row4_col4, #T_d0850_row4_col5, #T_d0850_row4_col6, #T_d0850_row5_col0, #T_d0850_row5_col1, #T_d0850_row5_col2, #T_d0850_row5_col3, #T_d0850_row5_col4, #T_d0850_row5_col5, #T_d0850_row5_col6, #T_d0850_row6_col0, #T_d0850_row6_col1, #T_d0850_row6_col2, #T_d0850_row6_col3, #T_d0850_row6_col4, #T_d0850_row6_col5, #T_d0850_row6_col6, #T_d0850_row7_col0, #T_d0850_row7_col1, #T_d0850_row7_col2, #T_d0850_row7_col3, #T_d0850_row7_col4, #T_d0850_row7_col5, #T_d0850_row7_col6, #T_d0850_row8_col0, #T_d0850_row8_col1, #T_d0850_row8_col2, #T_d0850_row8_col3, #T_d0850_row8_col4, #T_d0850_row8_col5, #T_d0850_row8_col6, #T_d0850_row9_col0, #T_d0850_row9_col1, #T_d0850_row9_col2, #T_d0850_row9_col3, #T_d0850_row9_col4, #T_d0850_row9_col5, #T_d0850_row9_col6, #T_d0850_row10_col0, #T_d0850_row10_col1, #T_d0850_row10_col2, #T_d0850_row10_col3, #T_d0850_row10_col4, #T_d0850_row10_col5, #T_d0850_row10_col6, #T_d0850_row11_col0, #T_d0850_row11_col1, #T_d0850_row11_col2, #T_d0850_row11_col3, #T_d0850_row11_col4, #T_d0850_row11_col5, #T_d0850_row11_col6, #T_d0850_row12_col0, #T_d0850_row12_col1, #T_d0850_row12_col2, #T_d0850_row12_col3, #T_d0850_row12_col4, #T_d0850_row12_col5, #T_d0850_row13_col0, #T_d0850_row13_col1, #T_d0850_row13_col2, #T_d0850_row13_col3, #T_d0850_row13_col4, #T_d0850_row13_col5, #T_d0850_row13_col6, #T_d0850_row14_col0, #T_d0850_row14_col1, #T_d0850_row14_col2, #T_d0850_row14_col3, #T_d0850_row14_col4, #T_d0850_row14_col5, #T_d0850_row14_col6, #T_d0850_row15_col0, #T_d0850_row15_col1, #T_d0850_row15_col2, #T_d0850_row15_col3, #T_d0850_row15_col4, #T_d0850_row15_col5, #T_d0850_row15_col6, #T_d0850_row16_col0, #T_d0850_row16_col1, #T_d0850_row16_col2, #T_d0850_row16_col3, #T_d0850_row16_col4, #T_d0850_row16_col5, #T_d0850_row16_col6, #T_d0850_row17_col0, #T_d0850_row17_col1, #T_d0850_row17_col2, #T_d0850_row17_col3, #T_d0850_row17_col4, #T_d0850_row17_col5, #T_d0850_row17_col6, #T_d0850_row18_col0, #T_d0850_row18_col1, #T_d0850_row18_col2, #T_d0850_row18_col3, #T_d0850_row18_col4, #T_d0850_row18_col5, #T_d0850_row18_col6 {\n",
       "  text-align: left;\n",
       "}\n",
       "#T_d0850_row0_col2, #T_d0850_row0_col3, #T_d0850_row1_col2, #T_d0850_row1_col3, #T_d0850_row1_col4, #T_d0850_row1_col5, #T_d0850_row2_col1, #T_d0850_row12_col6 {\n",
       "  text-align: left;\n",
       "  background-color: yellow;\n",
       "}\n",
       "#T_d0850_row0_col7, #T_d0850_row1_col7, #T_d0850_row2_col7, #T_d0850_row3_col7, #T_d0850_row4_col7, #T_d0850_row6_col7, #T_d0850_row7_col7, #T_d0850_row8_col7, #T_d0850_row9_col7, #T_d0850_row10_col7, #T_d0850_row11_col7, #T_d0850_row12_col7, #T_d0850_row13_col7, #T_d0850_row14_col7, #T_d0850_row15_col7, #T_d0850_row16_col7, #T_d0850_row17_col7, #T_d0850_row18_col7 {\n",
       "  text-align: left;\n",
       "  background-color: lightgrey;\n",
       "}\n",
       "#T_d0850_row5_col7 {\n",
       "  text-align: left;\n",
       "  background-color: yellow;\n",
       "  background-color: lightgrey;\n",
       "}\n",
       "</style>\n",
       "<table id=\"T_d0850\">\n",
       "  <thead>\n",
       "    <tr>\n",
       "      <th class=\"blank level0\" >&nbsp;</th>\n",
       "      <th id=\"T_d0850_level0_col0\" class=\"col_heading level0 col0\" >Model</th>\n",
       "      <th id=\"T_d0850_level0_col1\" class=\"col_heading level0 col1\" >MAE</th>\n",
       "      <th id=\"T_d0850_level0_col2\" class=\"col_heading level0 col2\" >MSE</th>\n",
       "      <th id=\"T_d0850_level0_col3\" class=\"col_heading level0 col3\" >RMSE</th>\n",
       "      <th id=\"T_d0850_level0_col4\" class=\"col_heading level0 col4\" >R2</th>\n",
       "      <th id=\"T_d0850_level0_col5\" class=\"col_heading level0 col5\" >RMSLE</th>\n",
       "      <th id=\"T_d0850_level0_col6\" class=\"col_heading level0 col6\" >MAPE</th>\n",
       "      <th id=\"T_d0850_level0_col7\" class=\"col_heading level0 col7\" >TT (Sec)</th>\n",
       "    </tr>\n",
       "  </thead>\n",
       "  <tbody>\n",
       "    <tr>\n",
       "      <th id=\"T_d0850_level0_row0\" class=\"row_heading level0 row0\" >gbr</th>\n",
       "      <td id=\"T_d0850_row0_col0\" class=\"data row0 col0\" >Gradient Boosting Regressor</td>\n",
       "      <td id=\"T_d0850_row0_col1\" class=\"data row0 col1\" >0.3632</td>\n",
       "      <td id=\"T_d0850_row0_col2\" class=\"data row0 col2\" >0.1807</td>\n",
       "      <td id=\"T_d0850_row0_col3\" class=\"data row0 col3\" >0.4251</td>\n",
       "      <td id=\"T_d0850_row0_col4\" class=\"data row0 col4\" >0.2769</td>\n",
       "      <td id=\"T_d0850_row0_col5\" class=\"data row0 col5\" >0.2982</td>\n",
       "      <td id=\"T_d0850_row0_col6\" class=\"data row0 col6\" >0.3628</td>\n",
       "      <td id=\"T_d0850_row0_col7\" class=\"data row0 col7\" >0.6710</td>\n",
       "    </tr>\n",
       "    <tr>\n",
       "      <th id=\"T_d0850_level0_row1\" class=\"row_heading level0 row1\" >lightgbm</th>\n",
       "      <td id=\"T_d0850_row1_col0\" class=\"data row1 col0\" >Light Gradient Boosting Machine</td>\n",
       "      <td id=\"T_d0850_row1_col1\" class=\"data row1 col1\" >0.3602</td>\n",
       "      <td id=\"T_d0850_row1_col2\" class=\"data row1 col2\" >0.1807</td>\n",
       "      <td id=\"T_d0850_row1_col3\" class=\"data row1 col3\" >0.4251</td>\n",
       "      <td id=\"T_d0850_row1_col4\" class=\"data row1 col4\" >0.2770</td>\n",
       "      <td id=\"T_d0850_row1_col5\" class=\"data row1 col5\" >0.2981</td>\n",
       "      <td id=\"T_d0850_row1_col6\" class=\"data row1 col6\" >0.3598</td>\n",
       "      <td id=\"T_d0850_row1_col7\" class=\"data row1 col7\" >0.0700</td>\n",
       "    </tr>\n",
       "    <tr>\n",
       "      <th id=\"T_d0850_level0_row2\" class=\"row_heading level0 row2\" >xgboost</th>\n",
       "      <td id=\"T_d0850_row2_col0\" class=\"data row2 col0\" >Extreme Gradient Boosting</td>\n",
       "      <td id=\"T_d0850_row2_col1\" class=\"data row2 col1\" >0.3598</td>\n",
       "      <td id=\"T_d0850_row2_col2\" class=\"data row2 col2\" >0.1850</td>\n",
       "      <td id=\"T_d0850_row2_col3\" class=\"data row2 col3\" >0.4302</td>\n",
       "      <td id=\"T_d0850_row2_col4\" class=\"data row2 col4\" >0.2596</td>\n",
       "      <td id=\"T_d0850_row2_col5\" class=\"data row2 col5\" >0.3010</td>\n",
       "      <td id=\"T_d0850_row2_col6\" class=\"data row2 col6\" >0.3598</td>\n",
       "      <td id=\"T_d0850_row2_col7\" class=\"data row2 col7\" >0.5970</td>\n",
       "    </tr>\n",
       "    <tr>\n",
       "      <th id=\"T_d0850_level0_row3\" class=\"row_heading level0 row3\" >ada</th>\n",
       "      <td id=\"T_d0850_row3_col0\" class=\"data row3 col0\" >AdaBoost Regressor</td>\n",
       "      <td id=\"T_d0850_row3_col1\" class=\"data row3 col1\" >0.3745</td>\n",
       "      <td id=\"T_d0850_row3_col2\" class=\"data row3 col2\" >0.1872</td>\n",
       "      <td id=\"T_d0850_row3_col3\" class=\"data row3 col3\" >0.4326</td>\n",
       "      <td id=\"T_d0850_row3_col4\" class=\"data row3 col4\" >0.2511</td>\n",
       "      <td id=\"T_d0850_row3_col5\" class=\"data row3 col5\" >0.3035</td>\n",
       "      <td id=\"T_d0850_row3_col6\" class=\"data row3 col6\" >0.3741</td>\n",
       "      <td id=\"T_d0850_row3_col7\" class=\"data row3 col7\" >0.0850</td>\n",
       "    </tr>\n",
       "    <tr>\n",
       "      <th id=\"T_d0850_level0_row4\" class=\"row_heading level0 row4\" >lr</th>\n",
       "      <td id=\"T_d0850_row4_col0\" class=\"data row4 col0\" >Linear Regression</td>\n",
       "      <td id=\"T_d0850_row4_col1\" class=\"data row4 col1\" >0.3876</td>\n",
       "      <td id=\"T_d0850_row4_col2\" class=\"data row4 col2\" >0.1911</td>\n",
       "      <td id=\"T_d0850_row4_col3\" class=\"data row4 col3\" >0.4371</td>\n",
       "      <td id=\"T_d0850_row4_col4\" class=\"data row4 col4\" >0.2354</td>\n",
       "      <td id=\"T_d0850_row4_col5\" class=\"data row4 col5\" >0.3058</td>\n",
       "      <td id=\"T_d0850_row4_col6\" class=\"data row4 col6\" >0.3922</td>\n",
       "      <td id=\"T_d0850_row4_col7\" class=\"data row4 col7\" >0.3990</td>\n",
       "    </tr>\n",
       "    <tr>\n",
       "      <th id=\"T_d0850_level0_row5\" class=\"row_heading level0 row5\" >ridge</th>\n",
       "      <td id=\"T_d0850_row5_col0\" class=\"data row5 col0\" >Ridge Regression</td>\n",
       "      <td id=\"T_d0850_row5_col1\" class=\"data row5 col1\" >0.3876</td>\n",
       "      <td id=\"T_d0850_row5_col2\" class=\"data row5 col2\" >0.1911</td>\n",
       "      <td id=\"T_d0850_row5_col3\" class=\"data row5 col3\" >0.4371</td>\n",
       "      <td id=\"T_d0850_row5_col4\" class=\"data row5 col4\" >0.2355</td>\n",
       "      <td id=\"T_d0850_row5_col5\" class=\"data row5 col5\" >0.3058</td>\n",
       "      <td id=\"T_d0850_row5_col6\" class=\"data row5 col6\" >0.3922</td>\n",
       "      <td id=\"T_d0850_row5_col7\" class=\"data row5 col7\" >0.0220</td>\n",
       "    </tr>\n",
       "    <tr>\n",
       "      <th id=\"T_d0850_level0_row6\" class=\"row_heading level0 row6\" >br</th>\n",
       "      <td id=\"T_d0850_row6_col0\" class=\"data row6 col0\" >Bayesian Ridge</td>\n",
       "      <td id=\"T_d0850_row6_col1\" class=\"data row6 col1\" >0.3876</td>\n",
       "      <td id=\"T_d0850_row6_col2\" class=\"data row6 col2\" >0.1911</td>\n",
       "      <td id=\"T_d0850_row6_col3\" class=\"data row6 col3\" >0.4371</td>\n",
       "      <td id=\"T_d0850_row6_col4\" class=\"data row6 col4\" >0.2355</td>\n",
       "      <td id=\"T_d0850_row6_col5\" class=\"data row6 col5\" >0.3058</td>\n",
       "      <td id=\"T_d0850_row6_col6\" class=\"data row6 col6\" >0.3922</td>\n",
       "      <td id=\"T_d0850_row6_col7\" class=\"data row6 col7\" >0.0380</td>\n",
       "    </tr>\n",
       "    <tr>\n",
       "      <th id=\"T_d0850_level0_row7\" class=\"row_heading level0 row7\" >lar</th>\n",
       "      <td id=\"T_d0850_row7_col0\" class=\"data row7 col0\" >Least Angle Regression</td>\n",
       "      <td id=\"T_d0850_row7_col1\" class=\"data row7 col1\" >0.3895</td>\n",
       "      <td id=\"T_d0850_row7_col2\" class=\"data row7 col2\" >0.1938</td>\n",
       "      <td id=\"T_d0850_row7_col3\" class=\"data row7 col3\" >0.4401</td>\n",
       "      <td id=\"T_d0850_row7_col4\" class=\"data row7 col4\" >0.2247</td>\n",
       "      <td id=\"T_d0850_row7_col5\" class=\"data row7 col5\" >0.3074</td>\n",
       "      <td id=\"T_d0850_row7_col6\" class=\"data row7 col6\" >0.3942</td>\n",
       "      <td id=\"T_d0850_row7_col7\" class=\"data row7 col7\" >0.0250</td>\n",
       "    </tr>\n",
       "    <tr>\n",
       "      <th id=\"T_d0850_level0_row8\" class=\"row_heading level0 row8\" >huber</th>\n",
       "      <td id=\"T_d0850_row8_col0\" class=\"data row8 col0\" >Huber Regressor</td>\n",
       "      <td id=\"T_d0850_row8_col1\" class=\"data row8 col1\" >0.3744</td>\n",
       "      <td id=\"T_d0850_row8_col2\" class=\"data row8 col2\" >0.1941</td>\n",
       "      <td id=\"T_d0850_row8_col3\" class=\"data row8 col3\" >0.4405</td>\n",
       "      <td id=\"T_d0850_row8_col4\" class=\"data row8 col4\" >0.2235</td>\n",
       "      <td id=\"T_d0850_row8_col5\" class=\"data row8 col5\" >0.3044</td>\n",
       "      <td id=\"T_d0850_row8_col6\" class=\"data row8 col6\" >0.3958</td>\n",
       "      <td id=\"T_d0850_row8_col7\" class=\"data row8 col7\" >0.4000</td>\n",
       "    </tr>\n",
       "    <tr>\n",
       "      <th id=\"T_d0850_level0_row9\" class=\"row_heading level0 row9\" >omp</th>\n",
       "      <td id=\"T_d0850_row9_col0\" class=\"data row9 col0\" >Orthogonal Matching Pursuit</td>\n",
       "      <td id=\"T_d0850_row9_col1\" class=\"data row9 col1\" >0.3969</td>\n",
       "      <td id=\"T_d0850_row9_col2\" class=\"data row9 col2\" >0.1964</td>\n",
       "      <td id=\"T_d0850_row9_col3\" class=\"data row9 col3\" >0.4431</td>\n",
       "      <td id=\"T_d0850_row9_col4\" class=\"data row9 col4\" >0.2143</td>\n",
       "      <td id=\"T_d0850_row9_col5\" class=\"data row9 col5\" >0.3104</td>\n",
       "      <td id=\"T_d0850_row9_col6\" class=\"data row9 col6\" >0.4008</td>\n",
       "      <td id=\"T_d0850_row9_col7\" class=\"data row9 col7\" >0.0230</td>\n",
       "    </tr>\n",
       "    <tr>\n",
       "      <th id=\"T_d0850_level0_row10\" class=\"row_heading level0 row10\" >rf</th>\n",
       "      <td id=\"T_d0850_row10_col0\" class=\"data row10 col0\" >Random Forest Regressor</td>\n",
       "      <td id=\"T_d0850_row10_col1\" class=\"data row10 col1\" >0.3669</td>\n",
       "      <td id=\"T_d0850_row10_col2\" class=\"data row10 col2\" >0.1975</td>\n",
       "      <td id=\"T_d0850_row10_col3\" class=\"data row10 col3\" >0.4443</td>\n",
       "      <td id=\"T_d0850_row10_col4\" class=\"data row10 col4\" >0.2100</td>\n",
       "      <td id=\"T_d0850_row10_col5\" class=\"data row10 col5\" >0.3112</td>\n",
       "      <td id=\"T_d0850_row10_col6\" class=\"data row10 col6\" >0.3665</td>\n",
       "      <td id=\"T_d0850_row10_col7\" class=\"data row10 col7\" >1.8340</td>\n",
       "    </tr>\n",
       "    <tr>\n",
       "      <th id=\"T_d0850_level0_row11\" class=\"row_heading level0 row11\" >et</th>\n",
       "      <td id=\"T_d0850_row11_col0\" class=\"data row11 col0\" >Extra Trees Regressor</td>\n",
       "      <td id=\"T_d0850_row11_col1\" class=\"data row11 col1\" >0.3669</td>\n",
       "      <td id=\"T_d0850_row11_col2\" class=\"data row11 col2\" >0.2129</td>\n",
       "      <td id=\"T_d0850_row11_col3\" class=\"data row11 col3\" >0.4614</td>\n",
       "      <td id=\"T_d0850_row11_col4\" class=\"data row11 col4\" >0.1480</td>\n",
       "      <td id=\"T_d0850_row11_col5\" class=\"data row11 col5\" >0.3223</td>\n",
       "      <td id=\"T_d0850_row11_col6\" class=\"data row11 col6\" >0.3659</td>\n",
       "      <td id=\"T_d0850_row11_col7\" class=\"data row11 col7\" >1.2680</td>\n",
       "    </tr>\n",
       "    <tr>\n",
       "      <th id=\"T_d0850_level0_row12\" class=\"row_heading level0 row12\" >knn</th>\n",
       "      <td id=\"T_d0850_row12_col0\" class=\"data row12 col0\" >K Neighbors Regressor</td>\n",
       "      <td id=\"T_d0850_row12_col1\" class=\"data row12 col1\" >0.3599</td>\n",
       "      <td id=\"T_d0850_row12_col2\" class=\"data row12 col2\" >0.2163</td>\n",
       "      <td id=\"T_d0850_row12_col3\" class=\"data row12 col3\" >0.4651</td>\n",
       "      <td id=\"T_d0850_row12_col4\" class=\"data row12 col4\" >0.1346</td>\n",
       "      <td id=\"T_d0850_row12_col5\" class=\"data row12 col5\" >0.3249</td>\n",
       "      <td id=\"T_d0850_row12_col6\" class=\"data row12 col6\" >0.3586</td>\n",
       "      <td id=\"T_d0850_row12_col7\" class=\"data row12 col7\" >0.2550</td>\n",
       "    </tr>\n",
       "    <tr>\n",
       "      <th id=\"T_d0850_level0_row13\" class=\"row_heading level0 row13\" >lasso</th>\n",
       "      <td id=\"T_d0850_row13_col0\" class=\"data row13 col0\" >Lasso Regression</td>\n",
       "      <td id=\"T_d0850_row13_col1\" class=\"data row13 col1\" >0.5000</td>\n",
       "      <td id=\"T_d0850_row13_col2\" class=\"data row13 col2\" >0.2500</td>\n",
       "      <td id=\"T_d0850_row13_col3\" class=\"data row13 col3\" >0.5000</td>\n",
       "      <td id=\"T_d0850_row13_col4\" class=\"data row13 col4\" >-0.0003</td>\n",
       "      <td id=\"T_d0850_row13_col5\" class=\"data row13 col5\" >0.3515</td>\n",
       "      <td id=\"T_d0850_row13_col6\" class=\"data row13 col6\" >0.4996</td>\n",
       "      <td id=\"T_d0850_row13_col7\" class=\"data row13 col7\" >0.2250</td>\n",
       "    </tr>\n",
       "    <tr>\n",
       "      <th id=\"T_d0850_level0_row14\" class=\"row_heading level0 row14\" >en</th>\n",
       "      <td id=\"T_d0850_row14_col0\" class=\"data row14 col0\" >Elastic Net</td>\n",
       "      <td id=\"T_d0850_row14_col1\" class=\"data row14 col1\" >0.5000</td>\n",
       "      <td id=\"T_d0850_row14_col2\" class=\"data row14 col2\" >0.2500</td>\n",
       "      <td id=\"T_d0850_row14_col3\" class=\"data row14 col3\" >0.5000</td>\n",
       "      <td id=\"T_d0850_row14_col4\" class=\"data row14 col4\" >-0.0003</td>\n",
       "      <td id=\"T_d0850_row14_col5\" class=\"data row14 col5\" >0.3515</td>\n",
       "      <td id=\"T_d0850_row14_col6\" class=\"data row14 col6\" >0.4996</td>\n",
       "      <td id=\"T_d0850_row14_col7\" class=\"data row14 col7\" >0.0230</td>\n",
       "    </tr>\n",
       "    <tr>\n",
       "      <th id=\"T_d0850_level0_row15\" class=\"row_heading level0 row15\" >llar</th>\n",
       "      <td id=\"T_d0850_row15_col0\" class=\"data row15 col0\" >Lasso Least Angle Regression</td>\n",
       "      <td id=\"T_d0850_row15_col1\" class=\"data row15 col1\" >0.5000</td>\n",
       "      <td id=\"T_d0850_row15_col2\" class=\"data row15 col2\" >0.2500</td>\n",
       "      <td id=\"T_d0850_row15_col3\" class=\"data row15 col3\" >0.5000</td>\n",
       "      <td id=\"T_d0850_row15_col4\" class=\"data row15 col4\" >-0.0003</td>\n",
       "      <td id=\"T_d0850_row15_col5\" class=\"data row15 col5\" >0.3515</td>\n",
       "      <td id=\"T_d0850_row15_col6\" class=\"data row15 col6\" >0.4996</td>\n",
       "      <td id=\"T_d0850_row15_col7\" class=\"data row15 col7\" >0.0230</td>\n",
       "    </tr>\n",
       "    <tr>\n",
       "      <th id=\"T_d0850_level0_row16\" class=\"row_heading level0 row16\" >dummy</th>\n",
       "      <td id=\"T_d0850_row16_col0\" class=\"data row16 col0\" >Dummy Regressor</td>\n",
       "      <td id=\"T_d0850_row16_col1\" class=\"data row16 col1\" >0.5000</td>\n",
       "      <td id=\"T_d0850_row16_col2\" class=\"data row16 col2\" >0.2500</td>\n",
       "      <td id=\"T_d0850_row16_col3\" class=\"data row16 col3\" >0.5000</td>\n",
       "      <td id=\"T_d0850_row16_col4\" class=\"data row16 col4\" >-0.0003</td>\n",
       "      <td id=\"T_d0850_row16_col5\" class=\"data row16 col5\" >0.3515</td>\n",
       "      <td id=\"T_d0850_row16_col6\" class=\"data row16 col6\" >0.4996</td>\n",
       "      <td id=\"T_d0850_row16_col7\" class=\"data row16 col7\" >0.0310</td>\n",
       "    </tr>\n",
       "    <tr>\n",
       "      <th id=\"T_d0850_level0_row17\" class=\"row_heading level0 row17\" >par</th>\n",
       "      <td id=\"T_d0850_row17_col0\" class=\"data row17 col0\" >Passive Aggressive Regressor</td>\n",
       "      <td id=\"T_d0850_row17_col1\" class=\"data row17 col1\" >0.4512</td>\n",
       "      <td id=\"T_d0850_row17_col2\" class=\"data row17 col2\" >0.3118</td>\n",
       "      <td id=\"T_d0850_row17_col3\" class=\"data row17 col3\" >0.5563</td>\n",
       "      <td id=\"T_d0850_row17_col4\" class=\"data row17 col4\" >-0.2475</td>\n",
       "      <td id=\"T_d0850_row17_col5\" class=\"data row17 col5\" >0.3581</td>\n",
       "      <td id=\"T_d0850_row17_col6\" class=\"data row17 col6\" >0.5686</td>\n",
       "      <td id=\"T_d0850_row17_col7\" class=\"data row17 col7\" >0.0330</td>\n",
       "    </tr>\n",
       "    <tr>\n",
       "      <th id=\"T_d0850_level0_row18\" class=\"row_heading level0 row18\" >dt</th>\n",
       "      <td id=\"T_d0850_row18_col0\" class=\"data row18 col0\" >Decision Tree Regressor</td>\n",
       "      <td id=\"T_d0850_row18_col1\" class=\"data row18 col1\" >0.3651</td>\n",
       "      <td id=\"T_d0850_row18_col2\" class=\"data row18 col2\" >0.3651</td>\n",
       "      <td id=\"T_d0850_row18_col3\" class=\"data row18 col3\" >0.6042</td>\n",
       "      <td id=\"T_d0850_row18_col4\" class=\"data row18 col4\" >-0.4608</td>\n",
       "      <td id=\"T_d0850_row18_col5\" class=\"data row18 col5\" >0.4188</td>\n",
       "      <td id=\"T_d0850_row18_col6\" class=\"data row18 col6\" >0.3621</td>\n",
       "      <td id=\"T_d0850_row18_col7\" class=\"data row18 col7\" >0.0650</td>\n",
       "    </tr>\n",
       "  </tbody>\n",
       "</table>\n"
      ],
      "text/plain": [
       "<pandas.io.formats.style.Styler at 0x25b396733a0>"
      ]
     },
     "metadata": {},
     "output_type": "display_data"
    },
    {
     "data": {
      "text/plain": [
       "GradientBoostingRegressor(alpha=0.9, ccp_alpha=0.0, criterion='friedman_mse',\n",
       "                          init=None, learning_rate=0.1, loss='ls', max_depth=3,\n",
       "                          max_features=None, max_leaf_nodes=None,\n",
       "                          min_impurity_decrease=0.0, min_impurity_split=None,\n",
       "                          min_samples_leaf=1, min_samples_split=2,\n",
       "                          min_weight_fraction_leaf=0.0, n_estimators=100,\n",
       "                          n_iter_no_change=None, presort='deprecated',\n",
       "                          random_state=950, subsample=1.0, tol=0.0001,\n",
       "                          validation_fraction=0.1, verbose=0, warm_start=False)"
      ]
     },
     "execution_count": 399,
     "metadata": {},
     "output_type": "execute_result"
    }
   ],
   "source": [
    "compare_models(sort=\"MSE\")"
   ]
  },
  {
   "cell_type": "code",
   "execution_count": 400,
   "id": "4046db19",
   "metadata": {
    "ExecuteTime": {
     "end_time": "2022-06-12T14:18:48.749497Z",
     "start_time": "2022-06-12T14:17:19.986793Z"
    }
   },
   "outputs": [
    {
     "data": {
      "text/html": [
       "<style type=\"text/css\">\n",
       "#T_8a5e4_row10_col0, #T_8a5e4_row10_col1, #T_8a5e4_row10_col2, #T_8a5e4_row10_col3, #T_8a5e4_row10_col4, #T_8a5e4_row10_col5 {\n",
       "  background: yellow;\n",
       "}\n",
       "</style>\n",
       "<table id=\"T_8a5e4\">\n",
       "  <thead>\n",
       "    <tr>\n",
       "      <th class=\"blank level0\" >&nbsp;</th>\n",
       "      <th id=\"T_8a5e4_level0_col0\" class=\"col_heading level0 col0\" >MAE</th>\n",
       "      <th id=\"T_8a5e4_level0_col1\" class=\"col_heading level0 col1\" >MSE</th>\n",
       "      <th id=\"T_8a5e4_level0_col2\" class=\"col_heading level0 col2\" >RMSE</th>\n",
       "      <th id=\"T_8a5e4_level0_col3\" class=\"col_heading level0 col3\" >R2</th>\n",
       "      <th id=\"T_8a5e4_level0_col4\" class=\"col_heading level0 col4\" >RMSLE</th>\n",
       "      <th id=\"T_8a5e4_level0_col5\" class=\"col_heading level0 col5\" >MAPE</th>\n",
       "    </tr>\n",
       "    <tr>\n",
       "      <th class=\"index_name level0\" >Fold</th>\n",
       "      <th class=\"blank col0\" >&nbsp;</th>\n",
       "      <th class=\"blank col1\" >&nbsp;</th>\n",
       "      <th class=\"blank col2\" >&nbsp;</th>\n",
       "      <th class=\"blank col3\" >&nbsp;</th>\n",
       "      <th class=\"blank col4\" >&nbsp;</th>\n",
       "      <th class=\"blank col5\" >&nbsp;</th>\n",
       "    </tr>\n",
       "  </thead>\n",
       "  <tbody>\n",
       "    <tr>\n",
       "      <th id=\"T_8a5e4_level0_row0\" class=\"row_heading level0 row0\" >0</th>\n",
       "      <td id=\"T_8a5e4_row0_col0\" class=\"data row0 col0\" >0.3665</td>\n",
       "      <td id=\"T_8a5e4_row0_col1\" class=\"data row0 col1\" >0.1847</td>\n",
       "      <td id=\"T_8a5e4_row0_col2\" class=\"data row0 col2\" >0.4298</td>\n",
       "      <td id=\"T_8a5e4_row0_col3\" class=\"data row0 col3\" >0.2609</td>\n",
       "      <td id=\"T_8a5e4_row0_col4\" class=\"data row0 col4\" >0.3006</td>\n",
       "      <td id=\"T_8a5e4_row0_col5\" class=\"data row0 col5\" >0.3666</td>\n",
       "    </tr>\n",
       "    <tr>\n",
       "      <th id=\"T_8a5e4_level0_row1\" class=\"row_heading level0 row1\" >1</th>\n",
       "      <td id=\"T_8a5e4_row1_col0\" class=\"data row1 col0\" >0.3619</td>\n",
       "      <td id=\"T_8a5e4_row1_col1\" class=\"data row1 col1\" >0.1804</td>\n",
       "      <td id=\"T_8a5e4_row1_col2\" class=\"data row1 col2\" >0.4247</td>\n",
       "      <td id=\"T_8a5e4_row1_col3\" class=\"data row1 col3\" >0.2784</td>\n",
       "      <td id=\"T_8a5e4_row1_col4\" class=\"data row1 col4\" >0.2977</td>\n",
       "      <td id=\"T_8a5e4_row1_col5\" class=\"data row1 col5\" >0.3613</td>\n",
       "    </tr>\n",
       "    <tr>\n",
       "      <th id=\"T_8a5e4_level0_row2\" class=\"row_heading level0 row2\" >2</th>\n",
       "      <td id=\"T_8a5e4_row2_col0\" class=\"data row2 col0\" >0.3627</td>\n",
       "      <td id=\"T_8a5e4_row2_col1\" class=\"data row2 col1\" >0.1825</td>\n",
       "      <td id=\"T_8a5e4_row2_col2\" class=\"data row2 col2\" >0.4271</td>\n",
       "      <td id=\"T_8a5e4_row2_col3\" class=\"data row2 col3\" >0.2698</td>\n",
       "      <td id=\"T_8a5e4_row2_col4\" class=\"data row2 col4\" >0.2988</td>\n",
       "      <td id=\"T_8a5e4_row2_col5\" class=\"data row2 col5\" >0.3609</td>\n",
       "    </tr>\n",
       "    <tr>\n",
       "      <th id=\"T_8a5e4_level0_row3\" class=\"row_heading level0 row3\" >3</th>\n",
       "      <td id=\"T_8a5e4_row3_col0\" class=\"data row3 col0\" >0.3628</td>\n",
       "      <td id=\"T_8a5e4_row3_col1\" class=\"data row3 col1\" >0.1812</td>\n",
       "      <td id=\"T_8a5e4_row3_col2\" class=\"data row3 col2\" >0.4257</td>\n",
       "      <td id=\"T_8a5e4_row3_col3\" class=\"data row3 col3\" >0.2742</td>\n",
       "      <td id=\"T_8a5e4_row3_col4\" class=\"data row3 col4\" >0.3004</td>\n",
       "      <td id=\"T_8a5e4_row3_col5\" class=\"data row3 col5\" >0.3604</td>\n",
       "    </tr>\n",
       "    <tr>\n",
       "      <th id=\"T_8a5e4_level0_row4\" class=\"row_heading level0 row4\" >4</th>\n",
       "      <td id=\"T_8a5e4_row4_col0\" class=\"data row4 col0\" >0.3593</td>\n",
       "      <td id=\"T_8a5e4_row4_col1\" class=\"data row4 col1\" >0.1787</td>\n",
       "      <td id=\"T_8a5e4_row4_col2\" class=\"data row4 col2\" >0.4227</td>\n",
       "      <td id=\"T_8a5e4_row4_col3\" class=\"data row4 col3\" >0.2852</td>\n",
       "      <td id=\"T_8a5e4_row4_col4\" class=\"data row4 col4\" >0.2970</td>\n",
       "      <td id=\"T_8a5e4_row4_col5\" class=\"data row4 col5\" >0.3574</td>\n",
       "    </tr>\n",
       "    <tr>\n",
       "      <th id=\"T_8a5e4_level0_row5\" class=\"row_heading level0 row5\" >5</th>\n",
       "      <td id=\"T_8a5e4_row5_col0\" class=\"data row5 col0\" >0.3609</td>\n",
       "      <td id=\"T_8a5e4_row5_col1\" class=\"data row5 col1\" >0.1793</td>\n",
       "      <td id=\"T_8a5e4_row5_col2\" class=\"data row5 col2\" >0.4234</td>\n",
       "      <td id=\"T_8a5e4_row5_col3\" class=\"data row5 col3\" >0.2828</td>\n",
       "      <td id=\"T_8a5e4_row5_col4\" class=\"data row5 col4\" >0.2972</td>\n",
       "      <td id=\"T_8a5e4_row5_col5\" class=\"data row5 col5\" >0.3604</td>\n",
       "    </tr>\n",
       "    <tr>\n",
       "      <th id=\"T_8a5e4_level0_row6\" class=\"row_heading level0 row6\" >6</th>\n",
       "      <td id=\"T_8a5e4_row6_col0\" class=\"data row6 col0\" >0.3643</td>\n",
       "      <td id=\"T_8a5e4_row6_col1\" class=\"data row6 col1\" >0.1833</td>\n",
       "      <td id=\"T_8a5e4_row6_col2\" class=\"data row6 col2\" >0.4281</td>\n",
       "      <td id=\"T_8a5e4_row6_col3\" class=\"data row6 col3\" >0.2669</td>\n",
       "      <td id=\"T_8a5e4_row6_col4\" class=\"data row6 col4\" >0.2998</td>\n",
       "      <td id=\"T_8a5e4_row6_col5\" class=\"data row6 col5\" >0.3708</td>\n",
       "    </tr>\n",
       "    <tr>\n",
       "      <th id=\"T_8a5e4_level0_row7\" class=\"row_heading level0 row7\" >7</th>\n",
       "      <td id=\"T_8a5e4_row7_col0\" class=\"data row7 col0\" >0.3566</td>\n",
       "      <td id=\"T_8a5e4_row7_col1\" class=\"data row7 col1\" >0.1747</td>\n",
       "      <td id=\"T_8a5e4_row7_col2\" class=\"data row7 col2\" >0.4180</td>\n",
       "      <td id=\"T_8a5e4_row7_col3\" class=\"data row7 col3\" >0.3012</td>\n",
       "      <td id=\"T_8a5e4_row7_col4\" class=\"data row7 col4\" >0.2946</td>\n",
       "      <td id=\"T_8a5e4_row7_col5\" class=\"data row7 col5\" >0.3495</td>\n",
       "    </tr>\n",
       "    <tr>\n",
       "      <th id=\"T_8a5e4_level0_row8\" class=\"row_heading level0 row8\" >8</th>\n",
       "      <td id=\"T_8a5e4_row8_col0\" class=\"data row8 col0\" >0.3633</td>\n",
       "      <td id=\"T_8a5e4_row8_col1\" class=\"data row8 col1\" >0.1819</td>\n",
       "      <td id=\"T_8a5e4_row8_col2\" class=\"data row8 col2\" >0.4265</td>\n",
       "      <td id=\"T_8a5e4_row8_col3\" class=\"data row8 col3\" >0.2725</td>\n",
       "      <td id=\"T_8a5e4_row8_col4\" class=\"data row8 col4\" >0.2987</td>\n",
       "      <td id=\"T_8a5e4_row8_col5\" class=\"data row8 col5\" >0.3657</td>\n",
       "    </tr>\n",
       "    <tr>\n",
       "      <th id=\"T_8a5e4_level0_row9\" class=\"row_heading level0 row9\" >9</th>\n",
       "      <td id=\"T_8a5e4_row9_col0\" class=\"data row9 col0\" >0.3583</td>\n",
       "      <td id=\"T_8a5e4_row9_col1\" class=\"data row9 col1\" >0.1764</td>\n",
       "      <td id=\"T_8a5e4_row9_col2\" class=\"data row9 col2\" >0.4200</td>\n",
       "      <td id=\"T_8a5e4_row9_col3\" class=\"data row9 col3\" >0.2943</td>\n",
       "      <td id=\"T_8a5e4_row9_col4\" class=\"data row9 col4\" >0.2937</td>\n",
       "      <td id=\"T_8a5e4_row9_col5\" class=\"data row9 col5\" >0.3604</td>\n",
       "    </tr>\n",
       "    <tr>\n",
       "      <th id=\"T_8a5e4_level0_row10\" class=\"row_heading level0 row10\" >Mean</th>\n",
       "      <td id=\"T_8a5e4_row10_col0\" class=\"data row10 col0\" >0.3616</td>\n",
       "      <td id=\"T_8a5e4_row10_col1\" class=\"data row10 col1\" >0.1803</td>\n",
       "      <td id=\"T_8a5e4_row10_col2\" class=\"data row10 col2\" >0.4246</td>\n",
       "      <td id=\"T_8a5e4_row10_col3\" class=\"data row10 col3\" >0.2786</td>\n",
       "      <td id=\"T_8a5e4_row10_col4\" class=\"data row10 col4\" >0.2978</td>\n",
       "      <td id=\"T_8a5e4_row10_col5\" class=\"data row10 col5\" >0.3613</td>\n",
       "    </tr>\n",
       "    <tr>\n",
       "      <th id=\"T_8a5e4_level0_row11\" class=\"row_heading level0 row11\" >Std</th>\n",
       "      <td id=\"T_8a5e4_row11_col0\" class=\"data row11 col0\" >0.0028</td>\n",
       "      <td id=\"T_8a5e4_row11_col1\" class=\"data row11 col1\" >0.0029</td>\n",
       "      <td id=\"T_8a5e4_row11_col2\" class=\"data row11 col2\" >0.0035</td>\n",
       "      <td id=\"T_8a5e4_row11_col3\" class=\"data row11 col3\" >0.0118</td>\n",
       "      <td id=\"T_8a5e4_row11_col4\" class=\"data row11 col4\" >0.0022</td>\n",
       "      <td id=\"T_8a5e4_row11_col5\" class=\"data row11 col5\" >0.0054</td>\n",
       "    </tr>\n",
       "  </tbody>\n",
       "</table>\n"
      ],
      "text/plain": [
       "<pandas.io.formats.style.Styler at 0x25b53351fa0>"
      ]
     },
     "metadata": {},
     "output_type": "display_data"
    }
   ],
   "source": [
    "blender = blend_models(estimator_list=compare_models(n_select=2, sort=\"MSE\"))"
   ]
  },
  {
   "cell_type": "code",
   "execution_count": 401,
   "id": "0a341797",
   "metadata": {
    "ExecuteTime": {
     "end_time": "2022-06-12T14:19:22.837593Z",
     "start_time": "2022-06-12T14:19:07.095228Z"
    }
   },
   "outputs": [],
   "source": [
    "final = finalize_model(blender)"
   ]
  },
  {
   "cell_type": "code",
   "execution_count": 402,
   "id": "2a23ec38",
   "metadata": {
    "ExecuteTime": {
     "end_time": "2022-06-12T14:19:46.475855Z",
     "start_time": "2022-06-12T14:19:46.459933Z"
    }
   },
   "outputs": [
    {
     "data": {
      "text/html": [
       "<div>\n",
       "<style scoped>\n",
       "    .dataframe tbody tr th:only-of-type {\n",
       "        vertical-align: middle;\n",
       "    }\n",
       "\n",
       "    .dataframe tbody tr th {\n",
       "        vertical-align: top;\n",
       "    }\n",
       "\n",
       "    .dataframe thead th {\n",
       "        text-align: right;\n",
       "    }\n",
       "</style>\n",
       "<table border=\"1\" class=\"dataframe\">\n",
       "  <thead>\n",
       "    <tr style=\"text-align: right;\">\n",
       "      <th></th>\n",
       "      <th>age</th>\n",
       "      <th>gender</th>\n",
       "      <th>height</th>\n",
       "      <th>weight</th>\n",
       "      <th>ap_hi</th>\n",
       "      <th>ap_lo</th>\n",
       "      <th>cholesterol</th>\n",
       "      <th>gluc</th>\n",
       "      <th>smoke</th>\n",
       "      <th>alco</th>\n",
       "      <th>active</th>\n",
       "      <th>cardio</th>\n",
       "      <th>BMI</th>\n",
       "    </tr>\n",
       "  </thead>\n",
       "  <tbody>\n",
       "    <tr>\n",
       "      <th>34944</th>\n",
       "      <td>21664</td>\n",
       "      <td>1</td>\n",
       "      <td>169</td>\n",
       "      <td>68.0</td>\n",
       "      <td>140</td>\n",
       "      <td>80</td>\n",
       "      <td>1</td>\n",
       "      <td>1</td>\n",
       "      <td>0</td>\n",
       "      <td>0</td>\n",
       "      <td>1</td>\n",
       "      <td>1</td>\n",
       "      <td>23.808690</td>\n",
       "    </tr>\n",
       "    <tr>\n",
       "      <th>13034</th>\n",
       "      <td>19633</td>\n",
       "      <td>2</td>\n",
       "      <td>177</td>\n",
       "      <td>101.0</td>\n",
       "      <td>170</td>\n",
       "      <td>100</td>\n",
       "      <td>1</td>\n",
       "      <td>1</td>\n",
       "      <td>1</td>\n",
       "      <td>0</td>\n",
       "      <td>1</td>\n",
       "      <td>1</td>\n",
       "      <td>32.238501</td>\n",
       "    </tr>\n",
       "    <tr>\n",
       "      <th>29180</th>\n",
       "      <td>14613</td>\n",
       "      <td>1</td>\n",
       "      <td>166</td>\n",
       "      <td>50.0</td>\n",
       "      <td>100</td>\n",
       "      <td>70</td>\n",
       "      <td>1</td>\n",
       "      <td>1</td>\n",
       "      <td>0</td>\n",
       "      <td>0</td>\n",
       "      <td>1</td>\n",
       "      <td>0</td>\n",
       "      <td>18.144869</td>\n",
       "    </tr>\n",
       "    <tr>\n",
       "      <th>26462</th>\n",
       "      <td>19674</td>\n",
       "      <td>1</td>\n",
       "      <td>158</td>\n",
       "      <td>67.0</td>\n",
       "      <td>110</td>\n",
       "      <td>70</td>\n",
       "      <td>1</td>\n",
       "      <td>1</td>\n",
       "      <td>0</td>\n",
       "      <td>0</td>\n",
       "      <td>1</td>\n",
       "      <td>0</td>\n",
       "      <td>26.838648</td>\n",
       "    </tr>\n",
       "    <tr>\n",
       "      <th>59116</th>\n",
       "      <td>15134</td>\n",
       "      <td>1</td>\n",
       "      <td>152</td>\n",
       "      <td>84.0</td>\n",
       "      <td>160</td>\n",
       "      <td>80</td>\n",
       "      <td>1</td>\n",
       "      <td>2</td>\n",
       "      <td>0</td>\n",
       "      <td>0</td>\n",
       "      <td>1</td>\n",
       "      <td>1</td>\n",
       "      <td>36.357341</td>\n",
       "    </tr>\n",
       "    <tr>\n",
       "      <th>...</th>\n",
       "      <td>...</td>\n",
       "      <td>...</td>\n",
       "      <td>...</td>\n",
       "      <td>...</td>\n",
       "      <td>...</td>\n",
       "      <td>...</td>\n",
       "      <td>...</td>\n",
       "      <td>...</td>\n",
       "      <td>...</td>\n",
       "      <td>...</td>\n",
       "      <td>...</td>\n",
       "      <td>...</td>\n",
       "      <td>...</td>\n",
       "    </tr>\n",
       "    <tr>\n",
       "      <th>10391</th>\n",
       "      <td>20323</td>\n",
       "      <td>1</td>\n",
       "      <td>154</td>\n",
       "      <td>83.0</td>\n",
       "      <td>150</td>\n",
       "      <td>80</td>\n",
       "      <td>2</td>\n",
       "      <td>1</td>\n",
       "      <td>0</td>\n",
       "      <td>0</td>\n",
       "      <td>1</td>\n",
       "      <td>1</td>\n",
       "      <td>34.997470</td>\n",
       "    </tr>\n",
       "    <tr>\n",
       "      <th>34438</th>\n",
       "      <td>23343</td>\n",
       "      <td>1</td>\n",
       "      <td>164</td>\n",
       "      <td>82.0</td>\n",
       "      <td>130</td>\n",
       "      <td>70</td>\n",
       "      <td>3</td>\n",
       "      <td>1</td>\n",
       "      <td>0</td>\n",
       "      <td>0</td>\n",
       "      <td>1</td>\n",
       "      <td>0</td>\n",
       "      <td>30.487805</td>\n",
       "    </tr>\n",
       "    <tr>\n",
       "      <th>52507</th>\n",
       "      <td>17439</td>\n",
       "      <td>1</td>\n",
       "      <td>153</td>\n",
       "      <td>94.0</td>\n",
       "      <td>100</td>\n",
       "      <td>70</td>\n",
       "      <td>1</td>\n",
       "      <td>1</td>\n",
       "      <td>0</td>\n",
       "      <td>0</td>\n",
       "      <td>0</td>\n",
       "      <td>0</td>\n",
       "      <td>40.155496</td>\n",
       "    </tr>\n",
       "    <tr>\n",
       "      <th>47674</th>\n",
       "      <td>16686</td>\n",
       "      <td>2</td>\n",
       "      <td>172</td>\n",
       "      <td>79.0</td>\n",
       "      <td>170</td>\n",
       "      <td>100</td>\n",
       "      <td>1</td>\n",
       "      <td>1</td>\n",
       "      <td>0</td>\n",
       "      <td>0</td>\n",
       "      <td>1</td>\n",
       "      <td>1</td>\n",
       "      <td>26.703624</td>\n",
       "    </tr>\n",
       "    <tr>\n",
       "      <th>61788</th>\n",
       "      <td>18956</td>\n",
       "      <td>2</td>\n",
       "      <td>165</td>\n",
       "      <td>178.0</td>\n",
       "      <td>120</td>\n",
       "      <td>80</td>\n",
       "      <td>1</td>\n",
       "      <td>1</td>\n",
       "      <td>0</td>\n",
       "      <td>0</td>\n",
       "      <td>1</td>\n",
       "      <td>0</td>\n",
       "      <td>65.381084</td>\n",
       "    </tr>\n",
       "  </tbody>\n",
       "</table>\n",
       "<p>63000 rows × 13 columns</p>\n",
       "</div>"
      ],
      "text/plain": [
       "         age  gender  height  weight  ap_hi  ap_lo  cholesterol  gluc  smoke  \\\n",
       "34944  21664       1     169    68.0    140     80            1     1      0   \n",
       "13034  19633       2     177   101.0    170    100            1     1      1   \n",
       "29180  14613       1     166    50.0    100     70            1     1      0   \n",
       "26462  19674       1     158    67.0    110     70            1     1      0   \n",
       "59116  15134       1     152    84.0    160     80            1     2      0   \n",
       "...      ...     ...     ...     ...    ...    ...          ...   ...    ...   \n",
       "10391  20323       1     154    83.0    150     80            2     1      0   \n",
       "34438  23343       1     164    82.0    130     70            3     1      0   \n",
       "52507  17439       1     153    94.0    100     70            1     1      0   \n",
       "47674  16686       2     172    79.0    170    100            1     1      0   \n",
       "61788  18956       2     165   178.0    120     80            1     1      0   \n",
       "\n",
       "       alco  active  cardio        BMI  \n",
       "34944     0       1       1  23.808690  \n",
       "13034     0       1       1  32.238501  \n",
       "29180     0       1       0  18.144869  \n",
       "26462     0       1       0  26.838648  \n",
       "59116     0       1       1  36.357341  \n",
       "...     ...     ...     ...        ...  \n",
       "10391     0       1       1  34.997470  \n",
       "34438     0       1       0  30.487805  \n",
       "52507     0       0       0  40.155496  \n",
       "47674     0       1       1  26.703624  \n",
       "61788     0       1       0  65.381084  \n",
       "\n",
       "[63000 rows x 13 columns]"
      ]
     },
     "execution_count": 402,
     "metadata": {},
     "output_type": "execute_result"
    }
   ],
   "source": [
    "df"
   ]
  },
  {
   "cell_type": "code",
   "execution_count": 403,
   "id": "a796f48d",
   "metadata": {
    "ExecuteTime": {
     "end_time": "2022-06-12T14:19:50.104802Z",
     "start_time": "2022-06-12T14:19:50.076271Z"
    }
   },
   "outputs": [],
   "source": [
    "X_test['BMI'] = X_test['weight']/((X_test['height']/100)**2)"
   ]
  },
  {
   "cell_type": "code",
   "execution_count": 404,
   "id": "9be1a804",
   "metadata": {
    "ExecuteTime": {
     "end_time": "2022-06-12T14:19:50.511823Z",
     "start_time": "2022-06-12T14:19:50.494508Z"
    }
   },
   "outputs": [],
   "source": [
    "X_test = X_test.drop(\"id\", axis=1)"
   ]
  },
  {
   "cell_type": "code",
   "execution_count": 405,
   "id": "1e86c7d0",
   "metadata": {
    "ExecuteTime": {
     "end_time": "2022-06-12T14:19:51.624938Z",
     "start_time": "2022-06-12T14:19:50.859937Z"
    }
   },
   "outputs": [],
   "source": [
    "y_pred = predict_model(final, data=X_test)"
   ]
  },
  {
   "cell_type": "code",
   "execution_count": null,
   "id": "fdccdc62",
   "metadata": {
    "ExecuteTime": {
     "end_time": "2022-06-12T13:55:14.663907Z",
     "start_time": "2022-06-12T13:55:14.647927Z"
    }
   },
   "outputs": [],
   "source": []
  },
  {
   "cell_type": "code",
   "execution_count": 406,
   "id": "d93eb832",
   "metadata": {
    "ExecuteTime": {
     "end_time": "2022-06-12T14:19:51.646089Z",
     "start_time": "2022-06-12T14:19:51.631562Z"
    }
   },
   "outputs": [],
   "source": [
    "y_crosstable = pd.DataFrame()"
   ]
  },
  {
   "cell_type": "code",
   "execution_count": 407,
   "id": "c59485db",
   "metadata": {
    "ExecuteTime": {
     "end_time": "2022-06-12T14:19:51.958501Z",
     "start_time": "2022-06-12T14:19:51.941491Z"
    }
   },
   "outputs": [],
   "source": [
    "y_crosstable[\"real\"] = y_test"
   ]
  },
  {
   "cell_type": "code",
   "execution_count": 408,
   "id": "6717ba0a",
   "metadata": {
    "ExecuteTime": {
     "end_time": "2022-06-12T14:19:52.210687Z",
     "start_time": "2022-06-12T14:19:52.206687Z"
    }
   },
   "outputs": [],
   "source": [
    "y_crosstable[\"pred\"] = y_pred[\"Label\"]"
   ]
  },
  {
   "cell_type": "code",
   "execution_count": 409,
   "id": "482391f9",
   "metadata": {
    "ExecuteTime": {
     "end_time": "2022-06-12T14:19:52.977140Z",
     "start_time": "2022-06-12T14:19:52.962662Z"
    }
   },
   "outputs": [],
   "source": [
    "y_crosstable = y_crosstable.reset_index()"
   ]
  },
  {
   "cell_type": "code",
   "execution_count": 410,
   "id": "a0cdede8",
   "metadata": {
    "ExecuteTime": {
     "end_time": "2022-06-12T14:19:55.163802Z",
     "start_time": "2022-06-12T14:19:55.155756Z"
    }
   },
   "outputs": [],
   "source": [
    "y_crosstable.drop(\"index\", axis=1, inplace=True)"
   ]
  },
  {
   "cell_type": "code",
   "execution_count": 411,
   "id": "d1ced8e5",
   "metadata": {
    "ExecuteTime": {
     "end_time": "2022-06-12T14:19:55.494761Z",
     "start_time": "2022-06-12T14:19:55.477393Z"
    }
   },
   "outputs": [],
   "source": [
    "def binx(x):\n",
    "    if x>0.5:\n",
    "        return 1\n",
    "    else:\n",
    "        return 0"
   ]
  },
  {
   "cell_type": "code",
   "execution_count": 412,
   "id": "1691a38c",
   "metadata": {
    "ExecuteTime": {
     "end_time": "2022-06-12T14:19:55.883021Z",
     "start_time": "2022-06-12T14:19:55.862010Z"
    }
   },
   "outputs": [],
   "source": [
    "y_crosstable[\"pred_bin\"] = y_crosstable[\"pred\"].map(lambda x: binx(x))"
   ]
  },
  {
   "cell_type": "code",
   "execution_count": 413,
   "id": "e5d004e2",
   "metadata": {
    "ExecuteTime": {
     "end_time": "2022-06-12T14:19:56.828645Z",
     "start_time": "2022-06-12T14:19:56.819211Z"
    }
   },
   "outputs": [
    {
     "data": {
      "text/html": [
       "<div>\n",
       "<style scoped>\n",
       "    .dataframe tbody tr th:only-of-type {\n",
       "        vertical-align: middle;\n",
       "    }\n",
       "\n",
       "    .dataframe tbody tr th {\n",
       "        vertical-align: top;\n",
       "    }\n",
       "\n",
       "    .dataframe thead th {\n",
       "        text-align: right;\n",
       "    }\n",
       "</style>\n",
       "<table border=\"1\" class=\"dataframe\">\n",
       "  <thead>\n",
       "    <tr style=\"text-align: right;\">\n",
       "      <th></th>\n",
       "      <th>real</th>\n",
       "      <th>pred</th>\n",
       "      <th>pred_bin</th>\n",
       "    </tr>\n",
       "  </thead>\n",
       "  <tbody>\n",
       "    <tr>\n",
       "      <th>0</th>\n",
       "      <td>0</td>\n",
       "      <td>0.626656</td>\n",
       "      <td>1</td>\n",
       "    </tr>\n",
       "    <tr>\n",
       "      <th>1</th>\n",
       "      <td>1</td>\n",
       "      <td>0.139035</td>\n",
       "      <td>0</td>\n",
       "    </tr>\n",
       "    <tr>\n",
       "      <th>2</th>\n",
       "      <td>1</td>\n",
       "      <td>0.688476</td>\n",
       "      <td>1</td>\n",
       "    </tr>\n",
       "    <tr>\n",
       "      <th>3</th>\n",
       "      <td>0</td>\n",
       "      <td>0.306998</td>\n",
       "      <td>0</td>\n",
       "    </tr>\n",
       "    <tr>\n",
       "      <th>4</th>\n",
       "      <td>0</td>\n",
       "      <td>0.225774</td>\n",
       "      <td>0</td>\n",
       "    </tr>\n",
       "    <tr>\n",
       "      <th>...</th>\n",
       "      <td>...</td>\n",
       "      <td>...</td>\n",
       "      <td>...</td>\n",
       "    </tr>\n",
       "    <tr>\n",
       "      <th>6995</th>\n",
       "      <td>1</td>\n",
       "      <td>0.891647</td>\n",
       "      <td>1</td>\n",
       "    </tr>\n",
       "    <tr>\n",
       "      <th>6996</th>\n",
       "      <td>1</td>\n",
       "      <td>0.496386</td>\n",
       "      <td>0</td>\n",
       "    </tr>\n",
       "    <tr>\n",
       "      <th>6997</th>\n",
       "      <td>0</td>\n",
       "      <td>0.635751</td>\n",
       "      <td>1</td>\n",
       "    </tr>\n",
       "    <tr>\n",
       "      <th>6998</th>\n",
       "      <td>1</td>\n",
       "      <td>0.819123</td>\n",
       "      <td>1</td>\n",
       "    </tr>\n",
       "    <tr>\n",
       "      <th>6999</th>\n",
       "      <td>0</td>\n",
       "      <td>0.252162</td>\n",
       "      <td>0</td>\n",
       "    </tr>\n",
       "  </tbody>\n",
       "</table>\n",
       "<p>7000 rows × 3 columns</p>\n",
       "</div>"
      ],
      "text/plain": [
       "      real      pred  pred_bin\n",
       "0        0  0.626656         1\n",
       "1        1  0.139035         0\n",
       "2        1  0.688476         1\n",
       "3        0  0.306998         0\n",
       "4        0  0.225774         0\n",
       "...    ...       ...       ...\n",
       "6995     1  0.891647         1\n",
       "6996     1  0.496386         0\n",
       "6997     0  0.635751         1\n",
       "6998     1  0.819123         1\n",
       "6999     0  0.252162         0\n",
       "\n",
       "[7000 rows x 3 columns]"
      ]
     },
     "execution_count": 413,
     "metadata": {},
     "output_type": "execute_result"
    }
   ],
   "source": [
    "y_crosstable"
   ]
  },
  {
   "cell_type": "code",
   "execution_count": 414,
   "id": "e07577f9",
   "metadata": {
    "ExecuteTime": {
     "end_time": "2022-06-12T14:20:03.129489Z",
     "start_time": "2022-06-12T14:20:03.116154Z"
    }
   },
   "outputs": [
    {
     "data": {
      "text/plain": [
       "2684"
      ]
     },
     "execution_count": 414,
     "metadata": {},
     "output_type": "execute_result"
    }
   ],
   "source": [
    "sum((y_crosstable[\"real\"]==0) & (y_crosstable[\"pred_bin\"]==0))"
   ]
  },
  {
   "cell_type": "code",
   "execution_count": 415,
   "id": "2fcabf63",
   "metadata": {
    "ExecuteTime": {
     "end_time": "2022-06-12T14:20:03.719661Z",
     "start_time": "2022-06-12T14:20:03.712658Z"
    }
   },
   "outputs": [],
   "source": [
    "from sklearn.metrics import confusion_matrix"
   ]
  },
  {
   "cell_type": "code",
   "execution_count": 416,
   "id": "7c916c0d",
   "metadata": {
    "ExecuteTime": {
     "end_time": "2022-06-12T14:20:04.108521Z",
     "start_time": "2022-06-12T14:20:04.092513Z"
    }
   },
   "outputs": [
    {
     "data": {
      "text/plain": [
       "0.738"
      ]
     },
     "execution_count": 416,
     "metadata": {},
     "output_type": "execute_result"
    }
   ],
   "source": [
    "accuracy_score(y_crosstable[\"real\"], y_crosstable[\"pred_bin\"])"
   ]
  },
  {
   "cell_type": "code",
   "execution_count": 417,
   "id": "be2de056",
   "metadata": {
    "ExecuteTime": {
     "end_time": "2022-06-12T14:20:04.500025Z",
     "start_time": "2022-06-12T14:20:04.481953Z"
    }
   },
   "outputs": [
    {
     "data": {
      "text/plain": [
       "array([[2684,  818],\n",
       "       [1016, 2482]], dtype=int64)"
      ]
     },
     "execution_count": 417,
     "metadata": {},
     "output_type": "execute_result"
    }
   ],
   "source": [
    "confusion_matrix(y_crosstable[\"real\"], y_crosstable[\"pred_bin\"])"
   ]
  },
  {
   "cell_type": "code",
   "execution_count": null,
   "id": "6ca11f90",
   "metadata": {},
   "outputs": [],
   "source": []
  }
 ],
 "metadata": {
  "kernelspec": {
   "display_name": "Python 3 (ipykernel)",
   "language": "python",
   "name": "python3"
  },
  "language_info": {
   "codemirror_mode": {
    "name": "ipython",
    "version": 3
   },
   "file_extension": ".py",
   "mimetype": "text/x-python",
   "name": "python",
   "nbconvert_exporter": "python",
   "pygments_lexer": "ipython3",
   "version": "3.8.13"
  },
  "toc": {
   "base_numbering": 1,
   "nav_menu": {},
   "number_sections": true,
   "sideBar": true,
   "skip_h1_title": false,
   "title_cell": "Table of Contents",
   "title_sidebar": "Contents",
   "toc_cell": false,
   "toc_position": {},
   "toc_section_display": true,
   "toc_window_display": false
  }
 },
 "nbformat": 4,
 "nbformat_minor": 5
}
