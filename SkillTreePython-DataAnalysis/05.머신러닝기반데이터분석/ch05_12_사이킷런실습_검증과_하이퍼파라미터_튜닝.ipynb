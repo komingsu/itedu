{
  "nbformat": 4,
  "nbformat_minor": 0,
  "metadata": {
    "colab": {
      "name": "ch05_12_사이킷런실습-검증과_하이퍼파라미터_튜닝.ipynb",
      "provenance": [],
      "collapsed_sections": [],
      "authorship_tag": "ABX9TyOJ+n3bj5FvQdlg25q1HU24",
      "include_colab_link": true
    },
    "kernelspec": {
      "name": "python3",
      "display_name": "Python 3"
    },
    "language_info": {
      "name": "python"
    }
  },
  "cells": [
    {
      "cell_type": "markdown",
      "metadata": {
        "id": "view-in-github",
        "colab_type": "text"
      },
      "source": [
        "<a href=\"https://colab.research.google.com/github/yebiny/SkillTreePython-DataAnalysis/blob/main/05.%EB%A8%B8%EC%8B%A0%EB%9F%AC%EB%8B%9D%EA%B8%B0%EB%B0%98%EB%8D%B0%EC%9D%B4%ED%84%B0%EB%B6%84%EC%84%9D/%ED%95%B4%EC%84%A4/ch05_12_%EC%82%AC%EC%9D%B4%ED%82%B7%EB%9F%B0%EC%8B%A4%EC%8A%B5_%EA%B2%80%EC%A6%9D%EA%B3%BC_%ED%95%98%EC%9D%B4%ED%8D%BC%ED%8C%8C%EB%9D%BC%EB%AF%B8%ED%84%B0_%ED%8A%9C%EB%8B%9D.ipynb\" target=\"_parent\"><img src=\"https://colab.research.google.com/assets/colab-badge.svg\" alt=\"Open In Colab\"/></a>"
      ]
    },
    {
      "cell_type": "markdown",
      "metadata": {
        "id": "wWpXZc2fi39U"
      },
      "source": [
        "# ch05.12. 사이킷런 실습 - 검증과 하이퍼파라미터 튜닝\n",
        "\n",
        "\n",
        "---\n",
        "* 날짜:\n",
        "* 이름:\n",
        "\n",
        "## 학습내용\n",
        "    - 머신러닝 모델 성능 평가하기\n",
        "    - 머신러닝 알고리즘에서 일반적으로 발생하는 문제 분석하기\n",
        "    - 머신러닝 모델 세부 튜닝\n",
        "    - 여러가지 성능 지표를 사용해 모델의 예측 성능 평가하기\n",
        "\n",
        "\n",
        "## 학습자료\n",
        "- [머신러닝 교과서 with파이썬, 사이킷런, 텐서플로](http://www.kyobobook.co.kr/product/detailViewKor.laf?mallGb=KOR&ejkGb=KOR&barcode=9791165215187)\n",
        "- 6장. 모델 평가와 하이퍼파라미터 튜닝의 모범 사례"
      ]
    },
    {
      "cell_type": "markdown",
      "metadata": {
        "id": "kByKdJPApy6P"
      },
      "source": [
        "```\n",
        "import numpy as np\n",
        "import matplotlib.pyplot as plt\n",
        "import seaborn as sns\n",
        "```"
      ]
    },
    {
      "cell_type": "code",
      "source": [
        "import numpy as np\n",
        "import matplotlib.pyplot as plt\n",
        "import seaborn as sns"
      ],
      "metadata": {
        "id": "YW4q7CsxPlQh"
      },
      "execution_count": 1,
      "outputs": []
    },
    {
      "cell_type": "markdown",
      "source": [
        "## 데이터 소개 : 위스콘신 유방암 데이터셋\n",
        "---\n",
        "\n",
        "* 악성과 양성인 종양 세포 샘플 569개\n",
        "* 열0 : 샘플의 고유 ID\n",
        "* 열1 : 진단 결과 {M: 악성, B: 양성}\n",
        "* 열2 - 열 31 : 디지털 이미지에서 계산된 30개의 실수 값 특성\n",
        "\n"
      ],
      "metadata": {
        "id": "lUVNDZ9puEQN"
      }
    },
    {
      "cell_type": "markdown",
      "source": [
        "### | 데이터 준비\n",
        "\n",
        "```\n",
        "df = pd.read_csv('https://archive.ics.uci.edu/ml/'\n",
        "                 'machine-learning-databases'\n",
        "                 '/breast-cancer-wisconsin/wdbc.data', header=None)\n",
        "```"
      ],
      "metadata": {
        "id": "0omO0XTuuu3t"
      }
    },
    {
      "cell_type": "markdown",
      "source": [
        "* 데이터 로드 및 헤드 확인"
      ],
      "metadata": {
        "id": "hJC6gAfqugeu"
      }
    },
    {
      "cell_type": "code",
      "source": [
        "import pandas as pd\n",
        "df = pd.read_csv('https://archive.ics.uci.edu/ml/'\n",
        "                 'machine-learning-databases'\n",
        "                 '/breast-cancer-wisconsin/wdbc.data', header=None)\n",
        "print(df.shape)\n",
        "df.head(3)"
      ],
      "metadata": {
        "id": "JxtlJvM5uJYS",
        "colab": {
          "base_uri": "https://localhost:8080/",
          "height": 255
        },
        "outputId": "5236e3b8-3104-4d20-ae1a-7edff9691881"
      },
      "execution_count": 3,
      "outputs": [
        {
          "output_type": "stream",
          "name": "stdout",
          "text": [
            "(569, 32)\n"
          ]
        },
        {
          "output_type": "execute_result",
          "data": {
            "text/plain": [
              "         0  1      2      3      4       5        6        7       8   \\\n",
              "0    842302  M  17.99  10.38  122.8  1001.0  0.11840  0.27760  0.3001   \n",
              "1    842517  M  20.57  17.77  132.9  1326.0  0.08474  0.07864  0.0869   \n",
              "2  84300903  M  19.69  21.25  130.0  1203.0  0.10960  0.15990  0.1974   \n",
              "\n",
              "        9   ...     22     23     24      25      26      27      28      29  \\\n",
              "0  0.14710  ...  25.38  17.33  184.6  2019.0  0.1622  0.6656  0.7119  0.2654   \n",
              "1  0.07017  ...  24.99  23.41  158.8  1956.0  0.1238  0.1866  0.2416  0.1860   \n",
              "2  0.12790  ...  23.57  25.53  152.5  1709.0  0.1444  0.4245  0.4504  0.2430   \n",
              "\n",
              "       30       31  \n",
              "0  0.4601  0.11890  \n",
              "1  0.2750  0.08902  \n",
              "2  0.3613  0.08758  \n",
              "\n",
              "[3 rows x 32 columns]"
            ],
            "text/html": [
              "\n",
              "  <div id=\"df-55caf832-f9ac-4051-9878-09c9e92078b4\">\n",
              "    <div class=\"colab-df-container\">\n",
              "      <div>\n",
              "<style scoped>\n",
              "    .dataframe tbody tr th:only-of-type {\n",
              "        vertical-align: middle;\n",
              "    }\n",
              "\n",
              "    .dataframe tbody tr th {\n",
              "        vertical-align: top;\n",
              "    }\n",
              "\n",
              "    .dataframe thead th {\n",
              "        text-align: right;\n",
              "    }\n",
              "</style>\n",
              "<table border=\"1\" class=\"dataframe\">\n",
              "  <thead>\n",
              "    <tr style=\"text-align: right;\">\n",
              "      <th></th>\n",
              "      <th>0</th>\n",
              "      <th>1</th>\n",
              "      <th>2</th>\n",
              "      <th>3</th>\n",
              "      <th>4</th>\n",
              "      <th>5</th>\n",
              "      <th>6</th>\n",
              "      <th>7</th>\n",
              "      <th>8</th>\n",
              "      <th>9</th>\n",
              "      <th>...</th>\n",
              "      <th>22</th>\n",
              "      <th>23</th>\n",
              "      <th>24</th>\n",
              "      <th>25</th>\n",
              "      <th>26</th>\n",
              "      <th>27</th>\n",
              "      <th>28</th>\n",
              "      <th>29</th>\n",
              "      <th>30</th>\n",
              "      <th>31</th>\n",
              "    </tr>\n",
              "  </thead>\n",
              "  <tbody>\n",
              "    <tr>\n",
              "      <th>0</th>\n",
              "      <td>842302</td>\n",
              "      <td>M</td>\n",
              "      <td>17.99</td>\n",
              "      <td>10.38</td>\n",
              "      <td>122.8</td>\n",
              "      <td>1001.0</td>\n",
              "      <td>0.11840</td>\n",
              "      <td>0.27760</td>\n",
              "      <td>0.3001</td>\n",
              "      <td>0.14710</td>\n",
              "      <td>...</td>\n",
              "      <td>25.38</td>\n",
              "      <td>17.33</td>\n",
              "      <td>184.6</td>\n",
              "      <td>2019.0</td>\n",
              "      <td>0.1622</td>\n",
              "      <td>0.6656</td>\n",
              "      <td>0.7119</td>\n",
              "      <td>0.2654</td>\n",
              "      <td>0.4601</td>\n",
              "      <td>0.11890</td>\n",
              "    </tr>\n",
              "    <tr>\n",
              "      <th>1</th>\n",
              "      <td>842517</td>\n",
              "      <td>M</td>\n",
              "      <td>20.57</td>\n",
              "      <td>17.77</td>\n",
              "      <td>132.9</td>\n",
              "      <td>1326.0</td>\n",
              "      <td>0.08474</td>\n",
              "      <td>0.07864</td>\n",
              "      <td>0.0869</td>\n",
              "      <td>0.07017</td>\n",
              "      <td>...</td>\n",
              "      <td>24.99</td>\n",
              "      <td>23.41</td>\n",
              "      <td>158.8</td>\n",
              "      <td>1956.0</td>\n",
              "      <td>0.1238</td>\n",
              "      <td>0.1866</td>\n",
              "      <td>0.2416</td>\n",
              "      <td>0.1860</td>\n",
              "      <td>0.2750</td>\n",
              "      <td>0.08902</td>\n",
              "    </tr>\n",
              "    <tr>\n",
              "      <th>2</th>\n",
              "      <td>84300903</td>\n",
              "      <td>M</td>\n",
              "      <td>19.69</td>\n",
              "      <td>21.25</td>\n",
              "      <td>130.0</td>\n",
              "      <td>1203.0</td>\n",
              "      <td>0.10960</td>\n",
              "      <td>0.15990</td>\n",
              "      <td>0.1974</td>\n",
              "      <td>0.12790</td>\n",
              "      <td>...</td>\n",
              "      <td>23.57</td>\n",
              "      <td>25.53</td>\n",
              "      <td>152.5</td>\n",
              "      <td>1709.0</td>\n",
              "      <td>0.1444</td>\n",
              "      <td>0.4245</td>\n",
              "      <td>0.4504</td>\n",
              "      <td>0.2430</td>\n",
              "      <td>0.3613</td>\n",
              "      <td>0.08758</td>\n",
              "    </tr>\n",
              "  </tbody>\n",
              "</table>\n",
              "<p>3 rows × 32 columns</p>\n",
              "</div>\n",
              "      <button class=\"colab-df-convert\" onclick=\"convertToInteractive('df-55caf832-f9ac-4051-9878-09c9e92078b4')\"\n",
              "              title=\"Convert this dataframe to an interactive table.\"\n",
              "              style=\"display:none;\">\n",
              "        \n",
              "  <svg xmlns=\"http://www.w3.org/2000/svg\" height=\"24px\"viewBox=\"0 0 24 24\"\n",
              "       width=\"24px\">\n",
              "    <path d=\"M0 0h24v24H0V0z\" fill=\"none\"/>\n",
              "    <path d=\"M18.56 5.44l.94 2.06.94-2.06 2.06-.94-2.06-.94-.94-2.06-.94 2.06-2.06.94zm-11 1L8.5 8.5l.94-2.06 2.06-.94-2.06-.94L8.5 2.5l-.94 2.06-2.06.94zm10 10l.94 2.06.94-2.06 2.06-.94-2.06-.94-.94-2.06-.94 2.06-2.06.94z\"/><path d=\"M17.41 7.96l-1.37-1.37c-.4-.4-.92-.59-1.43-.59-.52 0-1.04.2-1.43.59L10.3 9.45l-7.72 7.72c-.78.78-.78 2.05 0 2.83L4 21.41c.39.39.9.59 1.41.59.51 0 1.02-.2 1.41-.59l7.78-7.78 2.81-2.81c.8-.78.8-2.07 0-2.86zM5.41 20L4 18.59l7.72-7.72 1.47 1.35L5.41 20z\"/>\n",
              "  </svg>\n",
              "      </button>\n",
              "      \n",
              "  <style>\n",
              "    .colab-df-container {\n",
              "      display:flex;\n",
              "      flex-wrap:wrap;\n",
              "      gap: 12px;\n",
              "    }\n",
              "\n",
              "    .colab-df-convert {\n",
              "      background-color: #E8F0FE;\n",
              "      border: none;\n",
              "      border-radius: 50%;\n",
              "      cursor: pointer;\n",
              "      display: none;\n",
              "      fill: #1967D2;\n",
              "      height: 32px;\n",
              "      padding: 0 0 0 0;\n",
              "      width: 32px;\n",
              "    }\n",
              "\n",
              "    .colab-df-convert:hover {\n",
              "      background-color: #E2EBFA;\n",
              "      box-shadow: 0px 1px 2px rgba(60, 64, 67, 0.3), 0px 1px 3px 1px rgba(60, 64, 67, 0.15);\n",
              "      fill: #174EA6;\n",
              "    }\n",
              "\n",
              "    [theme=dark] .colab-df-convert {\n",
              "      background-color: #3B4455;\n",
              "      fill: #D2E3FC;\n",
              "    }\n",
              "\n",
              "    [theme=dark] .colab-df-convert:hover {\n",
              "      background-color: #434B5C;\n",
              "      box-shadow: 0px 1px 3px 1px rgba(0, 0, 0, 0.15);\n",
              "      filter: drop-shadow(0px 1px 2px rgba(0, 0, 0, 0.3));\n",
              "      fill: #FFFFFF;\n",
              "    }\n",
              "  </style>\n",
              "\n",
              "      <script>\n",
              "        const buttonEl =\n",
              "          document.querySelector('#df-55caf832-f9ac-4051-9878-09c9e92078b4 button.colab-df-convert');\n",
              "        buttonEl.style.display =\n",
              "          google.colab.kernel.accessAllowed ? 'block' : 'none';\n",
              "\n",
              "        async function convertToInteractive(key) {\n",
              "          const element = document.querySelector('#df-55caf832-f9ac-4051-9878-09c9e92078b4');\n",
              "          const dataTable =\n",
              "            await google.colab.kernel.invokeFunction('convertToInteractive',\n",
              "                                                     [key], {});\n",
              "          if (!dataTable) return;\n",
              "\n",
              "          const docLinkHtml = 'Like what you see? Visit the ' +\n",
              "            '<a target=\"_blank\" href=https://colab.research.google.com/notebooks/data_table.ipynb>data table notebook</a>'\n",
              "            + ' to learn more about interactive tables.';\n",
              "          element.innerHTML = '';\n",
              "          dataTable['output_type'] = 'display_data';\n",
              "          await google.colab.output.renderOutput(dataTable, element);\n",
              "          const docLink = document.createElement('div');\n",
              "          docLink.innerHTML = docLinkHtml;\n",
              "          element.appendChild(docLink);\n",
              "        }\n",
              "      </script>\n",
              "    </div>\n",
              "  </div>\n",
              "  "
            ]
          },
          "metadata": {},
          "execution_count": 3
        }
      ]
    },
    {
      "cell_type": "markdown",
      "source": [
        "* y 클래스별 개수 시각화"
      ],
      "metadata": {
        "id": "xDOKD0BZui_E"
      }
    },
    {
      "cell_type": "code",
      "source": [
        "_=sns.countplot(data = df, x=1) # 불균형 클래스"
      ],
      "metadata": {
        "id": "iOJ3cG3EuKt0",
        "colab": {
          "base_uri": "https://localhost:8080/",
          "height": 279
        },
        "outputId": "4fdf33d4-fac5-4508-bf56-ae645b657b26"
      },
      "execution_count": 4,
      "outputs": [
        {
          "output_type": "display_data",
          "data": {
            "text/plain": [
              "<Figure size 432x288 with 1 Axes>"
            ],
            "image/png": "[encoded data removed]"
          },
          "metadata": {
            "needs_background": "light"
          }
        }
      ]
    },
    {
      "cell_type": "markdown",
      "source": [
        "### | 데이터 전처리"
      ],
      "metadata": {
        "id": "er6DYjlBuziU"
      }
    },
    {
      "cell_type": "markdown",
      "source": [
        "* 판다스에서 정수 인코딩 하기"
      ],
      "metadata": {
        "id": "MD1_RBZ-vPx9"
      }
    },
    {
      "cell_type": "code",
      "source": [
        "# y값 (열1)을 B: 0(정상), M: 1(종양)\n",
        "df[1].map({'B':0, 'M': 1})"
      ],
      "metadata": {
        "id": "vmK_tYxxvToE",
        "colab": {
          "base_uri": "https://localhost:8080/"
        },
        "outputId": "14b45303-bf2f-4b1a-b0c2-8ee2217c0470"
      },
      "execution_count": 5,
      "outputs": [
        {
          "output_type": "execute_result",
          "data": {
            "text/plain": [
              "0      1\n",
              "1      1\n",
              "2      1\n",
              "3      1\n",
              "4      1\n",
              "      ..\n",
              "564    1\n",
              "565    1\n",
              "566    1\n",
              "567    1\n",
              "568    0\n",
              "Name: 1, Length: 569, dtype: int64"
            ]
          },
          "metadata": {},
          "execution_count": 5
        }
      ]
    },
    {
      "cell_type": "code",
      "source": [
        ""
      ],
      "metadata": {
        "id": "f_jhMw7-v-ED"
      },
      "execution_count": null,
      "outputs": []
    },
    {
      "cell_type": "markdown",
      "source": [
        "* 사이킷런으로 정수 인코딩 하기\n",
        "\n",
        "```\n",
        "from sklearn.preprocessing import LabelEncoder\n",
        "```\n"
      ],
      "metadata": {
        "id": "y07T34b5wHYj"
      }
    },
    {
      "cell_type": "code",
      "source": [
        "from sklearn.preprocessing import LabelEncoder\n",
        "\n",
        "# 넘파이 변환\n",
        "X = df.loc[:, 2:].values # 열 2~끝까지\n",
        "y = df.loc[:, 1].values # 열1\n",
        "print(X.shape, y.shape)\n",
        "print(X[:2], y[:2])\n",
        "\n",
        "# 정수 인코딩\n",
        "le = LabelEncoder()\n",
        "y = le.fit_transform(y) # 학습과 변환 \n",
        "print(X.shape, y.shape)\n",
        "print(X[:2], y[:2])\n",
        "print('인코딩된 클래스 순서:', le.classes_)"
      ],
      "metadata": {
        "id": "lAOvrrRPuZu1",
        "colab": {
          "base_uri": "https://localhost:8080/"
        },
        "outputId": "2ce08180-df20-4941-8b8f-3b615aca814e"
      },
      "execution_count": 10,
      "outputs": [
        {
          "output_type": "stream",
          "name": "stdout",
          "text": [
            "(569, 30) (569,)\n",
            "[[1.799e+01 1.038e+01 1.228e+02 1.001e+03 1.184e-01 2.776e-01 3.001e-01\n",
            "  1.471e-01 2.419e-01 7.871e-02 1.095e+00 9.053e-01 8.589e+00 1.534e+02\n",
            "  6.399e-03 4.904e-02 5.373e-02 1.587e-02 3.003e-02 6.193e-03 2.538e+01\n",
            "  1.733e+01 1.846e+02 2.019e+03 1.622e-01 6.656e-01 7.119e-01 2.654e-01\n",
            "  4.601e-01 1.189e-01]\n",
            " [2.057e+01 1.777e+01 1.329e+02 1.326e+03 8.474e-02 7.864e-02 8.690e-02\n",
            "  7.017e-02 1.812e-01 5.667e-02 5.435e-01 7.339e-01 3.398e+00 7.408e+01\n",
            "  5.225e-03 1.308e-02 1.860e-02 1.340e-02 1.389e-02 3.532e-03 2.499e+01\n",
            "  2.341e+01 1.588e+02 1.956e+03 1.238e-01 1.866e-01 2.416e-01 1.860e-01\n",
            "  2.750e-01 8.902e-02]] ['M' 'M']\n",
            "(569, 30) (569,)\n",
            "[[1.799e+01 1.038e+01 1.228e+02 1.001e+03 1.184e-01 2.776e-01 3.001e-01\n",
            "  1.471e-01 2.419e-01 7.871e-02 1.095e+00 9.053e-01 8.589e+00 1.534e+02\n",
            "  6.399e-03 4.904e-02 5.373e-02 1.587e-02 3.003e-02 6.193e-03 2.538e+01\n",
            "  1.733e+01 1.846e+02 2.019e+03 1.622e-01 6.656e-01 7.119e-01 2.654e-01\n",
            "  4.601e-01 1.189e-01]\n",
            " [2.057e+01 1.777e+01 1.329e+02 1.326e+03 8.474e-02 7.864e-02 8.690e-02\n",
            "  7.017e-02 1.812e-01 5.667e-02 5.435e-01 7.339e-01 3.398e+00 7.408e+01\n",
            "  5.225e-03 1.308e-02 1.860e-02 1.340e-02 1.389e-02 3.532e-03 2.499e+01\n",
            "  2.341e+01 1.588e+02 1.956e+03 1.238e-01 1.866e-01 2.416e-01 1.860e-01\n",
            "  2.750e-01 8.902e-02]] [1 1]\n",
            "인코딩된 클래스 순서: ['B' 'M']\n"
          ]
        }
      ]
    },
    {
      "cell_type": "markdown",
      "source": [
        "* 샘플에 인코딩 적용"
      ],
      "metadata": {
        "id": "t6MGYF8jxgtr"
      }
    },
    {
      "cell_type": "code",
      "source": [
        "sample = ['M', 'B', 'B', 'M']\n",
        "le.transform(sample)"
      ],
      "metadata": {
        "id": "chYZsvc8xWga",
        "colab": {
          "base_uri": "https://localhost:8080/"
        },
        "outputId": "df30f3e3-b3d5-4e35-9b59-332190949003"
      },
      "execution_count": 11,
      "outputs": [
        {
          "output_type": "execute_result",
          "data": {
            "text/plain": [
              "array([1, 0, 0, 1])"
            ]
          },
          "metadata": {},
          "execution_count": 11
        }
      ]
    },
    {
      "cell_type": "markdown",
      "source": [
        "* 데이터 분할"
      ],
      "metadata": {
        "id": "FREnQO2XPq9C"
      }
    },
    {
      "cell_type": "code",
      "source": [
        "from sklearn.model_selection import train_test_split\n",
        "\n",
        "X_train, X_test, y_train, y_test = train_test_split(X, y,\n",
        "                                                    test_size = 0.2,\n",
        "                                                    stratify = y, # 분리시 y분포가 유사하도록\n",
        "                                                    random_state=1 \n",
        "                                                    )\n",
        "X_train.shape, X_test.shape, y_train.shape, y_test.shape"
      ],
      "metadata": {
        "id": "Cm4JuXeFPr7Z",
        "colab": {
          "base_uri": "https://localhost:8080/"
        },
        "outputId": "4d38471c-d99a-4a9e-b377-fe5ceddeb464"
      },
      "execution_count": 13,
      "outputs": [
        {
          "output_type": "execute_result",
          "data": {
            "text/plain": [
              "((455, 30), (114, 30), (455,), (114,))"
            ]
          },
          "metadata": {},
          "execution_count": 13
        }
      ]
    },
    {
      "cell_type": "code",
      "source": [
        ""
      ],
      "metadata": {
        "id": "jFuioMWixqBj"
      },
      "execution_count": null,
      "outputs": []
    },
    {
      "cell_type": "markdown",
      "source": [
        "## 효과적인 모델 구상과 평가\n",
        "---"
      ],
      "metadata": {
        "id": "oz72dz7QZXub"
      }
    },
    {
      "cell_type": "markdown",
      "source": [
        "### **| 모델 파이프라인 제작**\n",
        "\n",
        "```\n",
        "sklearn.pipeline.make_pipeline(*steps, \n",
        "                               memory=None, \n",
        "                               verbose=False)\n",
        "\n",
        "```"
      ],
      "metadata": {
        "id": "0lSjpmR1xuPD"
      }
    },
    {
      "cell_type": "markdown",
      "source": [
        "* z-score 스케일링 -> 로지스틱 회귀"
      ],
      "metadata": {
        "id": "0Rb7a6PmZoLi"
      }
    },
    {
      "cell_type": "code",
      "source": [
        "from sklearn.pipeline import make_pipeline\n",
        "from sklearn.preprocessing import StandardScaler\n",
        "from sklearn.linear_model import LogisticRegression\n",
        "from sklearn import set_config\n",
        "set_config(display='diagram')\n",
        "pipe_lr = make_pipeline(StandardScaler(),\n",
        "                        LogisticRegression(random_state=1)\n",
        "                        )\n",
        "pipe_lr.fit(X_train, y_train)\n",
        "pipe_lr"
      ],
      "metadata": {
        "id": "grcfaQDIxx1i"
      },
      "execution_count": null,
      "outputs": []
    },
    {
      "cell_type": "markdown",
      "source": [
        "* z-score 스케일링 -> SVC"
      ],
      "metadata": {
        "id": "ER2pHNXQZucC"
      }
    },
    {
      "cell_type": "code",
      "source": [
        "from sklearn.pipeline import make_pipeline\n",
        "from sklearn.preprocessing import StandardScaler\n",
        "from sklearn.svm import SVC\n",
        "from sklearn import set_config\n",
        "set_config(display='diagram')\n",
        "pipe_svc = make_pipeline(StandardScaler(),\n",
        "                         SVC(random_state=1)\n",
        "                        )\n",
        "pipe_svc.fit(X_train, y_train)\n",
        "pipe_svc"
      ],
      "metadata": {
        "id": "eO1NQBHUzAM5",
        "colab": {
          "base_uri": "https://localhost:8080/",
          "height": 126
        },
        "outputId": "1d5221d8-f767-4ff3-cd3f-49247b1e8b46"
      },
      "execution_count": 17,
      "outputs": [
        {
          "output_type": "execute_result",
          "data": {
            "text/plain": [
              "Pipeline(steps=[('standardscaler', StandardScaler()),\n",
              "                ('svc', SVC(random_state=1))])"
            ],
            "text/html": [
              "<style>#sk-42fa3d94-7216-497f-a777-85a2fe9f883a {color: black;background-color: white;}#sk-42fa3d94-7216-497f-a777-85a2fe9f883a pre{padding: 0;}#sk-42fa3d94-7216-497f-a777-85a2fe9f883a div.sk-toggleable {background-color: white;}#sk-42fa3d94-7216-497f-a777-85a2fe9f883a label.sk-toggleable__label {cursor: pointer;display: block;width: 100%;margin-bottom: 0;padding: 0.3em;box-sizing: border-box;text-align: center;}#sk-42fa3d94-7216-497f-a777-85a2fe9f883a label.sk-toggleable__label-arrow:before {content: \"▸\";float: left;margin-right: 0.25em;color: #696969;}#sk-42fa3d94-7216-497f-a777-85a2fe9f883a label.sk-toggleable__label-arrow:hover:before {color: black;}#sk-42fa3d94-7216-497f-a777-85a2fe9f883a div.sk-estimator:hover label.sk-toggleable__label-arrow:before {color: black;}#sk-42fa3d94-7216-497f-a777-85a2fe9f883a div.sk-toggleable__content {max-height: 0;max-width: 0;overflow: hidden;text-align: left;background-color: #f0f8ff;}#sk-42fa3d94-7216-497f-a777-85a2fe9f883a div.sk-toggleable__content pre {margin: 0.2em;color: black;border-radius: 0.25em;background-color: #f0f8ff;}#sk-42fa3d94-7216-497f-a777-85a2fe9f883a input.sk-toggleable__control:checked~div.sk-toggleable__content {max-height: 200px;max-width: 100%;overflow: auto;}#sk-42fa3d94-7216-497f-a777-85a2fe9f883a input.sk-toggleable__control:checked~label.sk-toggleable__label-arrow:before {content: \"▾\";}#sk-42fa3d94-7216-497f-a777-85a2fe9f883a div.sk-estimator input.sk-toggleable__control:checked~label.sk-toggleable__label {background-color: #d4ebff;}#sk-42fa3d94-7216-497f-a777-85a2fe9f883a div.sk-label input.sk-toggleable__control:checked~label.sk-toggleable__label {background-color: #d4ebff;}#sk-42fa3d94-7216-497f-a777-85a2fe9f883a input.sk-hidden--visually {border: 0;clip: rect(1px 1px 1px 1px);clip: rect(1px, 1px, 1px, 1px);height: 1px;margin: -1px;overflow: hidden;padding: 0;position: absolute;width: 1px;}#sk-42fa3d94-7216-497f-a777-85a2fe9f883a div.sk-estimator {font-family: monospace;background-color: #f0f8ff;border: 1px dotted black;border-radius: 0.25em;box-sizing: border-box;margin-bottom: 0.5em;}#sk-42fa3d94-7216-497f-a777-85a2fe9f883a div.sk-estimator:hover {background-color: #d4ebff;}#sk-42fa3d94-7216-497f-a777-85a2fe9f883a div.sk-parallel-item::after {content: \"\";width: 100%;border-bottom: 1px solid gray;flex-grow: 1;}#sk-42fa3d94-7216-497f-a777-85a2fe9f883a div.sk-label:hover label.sk-toggleable__label {background-color: #d4ebff;}#sk-42fa3d94-7216-497f-a777-85a2fe9f883a div.sk-serial::before {content: \"\";position: absolute;border-left: 1px solid gray;box-sizing: border-box;top: 2em;bottom: 0;left: 50%;}#sk-42fa3d94-7216-497f-a777-85a2fe9f883a div.sk-serial {display: flex;flex-direction: column;align-items: center;background-color: white;padding-right: 0.2em;padding-left: 0.2em;}#sk-42fa3d94-7216-497f-a777-85a2fe9f883a div.sk-item {z-index: 1;}#sk-42fa3d94-7216-497f-a777-85a2fe9f883a div.sk-parallel {display: flex;align-items: stretch;justify-content: center;background-color: white;}#sk-42fa3d94-7216-497f-a777-85a2fe9f883a div.sk-parallel::before {content: \"\";position: absolute;border-left: 1px solid gray;box-sizing: border-box;top: 2em;bottom: 0;left: 50%;}#sk-42fa3d94-7216-497f-a777-85a2fe9f883a div.sk-parallel-item {display: flex;flex-direction: column;position: relative;background-color: white;}#sk-42fa3d94-7216-497f-a777-85a2fe9f883a div.sk-parallel-item:first-child::after {align-self: flex-end;width: 50%;}#sk-42fa3d94-7216-497f-a777-85a2fe9f883a div.sk-parallel-item:last-child::after {align-self: flex-start;width: 50%;}#sk-42fa3d94-7216-497f-a777-85a2fe9f883a div.sk-parallel-item:only-child::after {width: 0;}#sk-42fa3d94-7216-497f-a777-85a2fe9f883a div.sk-dashed-wrapped {border: 1px dashed gray;margin: 0 0.4em 0.5em 0.4em;box-sizing: border-box;padding-bottom: 0.4em;background-color: white;position: relative;}#sk-42fa3d94-7216-497f-a777-85a2fe9f883a div.sk-label label {font-family: monospace;font-weight: bold;background-color: white;display: inline-block;line-height: 1.2em;}#sk-42fa3d94-7216-497f-a777-85a2fe9f883a div.sk-label-container {position: relative;z-index: 2;text-align: center;}#sk-42fa3d94-7216-497f-a777-85a2fe9f883a div.sk-container {/* jupyter's `normalize.less` sets `[hidden] { display: none; }` but bootstrap.min.css set `[hidden] { display: none !important; }` so we also need the `!important` here to be able to override the default hidden behavior on the sphinx rendered scikit-learn.org. See: https://github.com/scikit-learn/scikit-learn/issues/21755 */display: inline-block !important;position: relative;}#sk-42fa3d94-7216-497f-a777-85a2fe9f883a div.sk-text-repr-fallback {display: none;}</style><div id=\"sk-42fa3d94-7216-497f-a777-85a2fe9f883a\" class=\"sk-top-container\"><div class=\"sk-text-repr-fallback\"><pre>Pipeline(steps=[(&#x27;standardscaler&#x27;, StandardScaler()),\n",
              "                (&#x27;svc&#x27;, SVC(random_state=1))])</pre><b>Please rerun this cell to show the HTML repr or trust the notebook.</b></div><div class=\"sk-container\" hidden><div class=\"sk-item sk-dashed-wrapped\"><div class=\"sk-label-container\"><div class=\"sk-label sk-toggleable\"><input class=\"sk-toggleable__control sk-hidden--visually\" id=\"92aa3cfb-d238-44dd-b36f-2d06b07e23cb\" type=\"checkbox\" ><label for=\"92aa3cfb-d238-44dd-b36f-2d06b07e23cb\" class=\"sk-toggleable__label sk-toggleable__label-arrow\">Pipeline</label><div class=\"sk-toggleable__content\"><pre>Pipeline(steps=[(&#x27;standardscaler&#x27;, StandardScaler()),\n",
              "                (&#x27;svc&#x27;, SVC(random_state=1))])</pre></div></div></div><div class=\"sk-serial\"><div class=\"sk-item\"><div class=\"sk-estimator sk-toggleable\"><input class=\"sk-toggleable__control sk-hidden--visually\" id=\"7513d3ac-9cf5-4299-8df4-618744b78f97\" type=\"checkbox\" ><label for=\"7513d3ac-9cf5-4299-8df4-618744b78f97\" class=\"sk-toggleable__label sk-toggleable__label-arrow\">StandardScaler</label><div class=\"sk-toggleable__content\"><pre>StandardScaler()</pre></div></div></div><div class=\"sk-item\"><div class=\"sk-estimator sk-toggleable\"><input class=\"sk-toggleable__control sk-hidden--visually\" id=\"7d1ac656-bc48-4a07-bb24-b69103d2210e\" type=\"checkbox\" ><label for=\"7d1ac656-bc48-4a07-bb24-b69103d2210e\" class=\"sk-toggleable__label sk-toggleable__label-arrow\">SVC</label><div class=\"sk-toggleable__content\"><pre>SVC(random_state=1)</pre></div></div></div></div></div></div></div>"
            ]
          },
          "metadata": {},
          "execution_count": 17
        }
      ]
    },
    {
      "cell_type": "markdown",
      "source": [
        "* z-score 스케일링 -> PCA -> SVC"
      ],
      "metadata": {
        "id": "-a5GbBiQZ0GT"
      }
    },
    {
      "cell_type": "code",
      "source": [
        "from sklearn.pipeline import make_pipeline\n",
        "from sklearn.preprocessing import StandardScaler\n",
        "from sklearn.svm import SVC\n",
        "from sklearn.decomposition import PCA\n",
        "from sklearn import set_config\n",
        "set_config(display='diagram')\n",
        "pipe_pca_svc = make_pipeline(StandardScaler(),\n",
        "                             PCA(n_components=2, random_state=1),\n",
        "                             SVC(random_state=1)\n",
        "                             )\n",
        "pipe_pca_svc.fit(X_train, y_train)\n",
        "pipe_pca_svc"
      ],
      "metadata": {
        "id": "eSAbw1Sy0j0W",
        "colab": {
          "base_uri": "https://localhost:8080/",
          "height": 230
        },
        "outputId": "9abf2ce1-220c-4fec-aa6d-8646307a6592"
      },
      "execution_count": 18,
      "outputs": [
        {
          "output_type": "execute_result",
          "data": {
            "text/plain": [
              "Pipeline(steps=[('standardscaler', StandardScaler()),\n",
              "                ('pca', PCA(n_components=2, random_state=1)),\n",
              "                ('svc', SVC(random_state=1))])"
            ],
            "text/html": [
              "<style>#sk-28b8807c-c870-493a-a56a-edf45c2c64e7 {color: black;background-color: white;}#sk-28b8807c-c870-493a-a56a-edf45c2c64e7 pre{padding: 0;}#sk-28b8807c-c870-493a-a56a-edf45c2c64e7 div.sk-toggleable {background-color: white;}#sk-28b8807c-c870-493a-a56a-edf45c2c64e7 label.sk-toggleable__label {cursor: pointer;display: block;width: 100%;margin-bottom: 0;padding: 0.3em;box-sizing: border-box;text-align: center;}#sk-28b8807c-c870-493a-a56a-edf45c2c64e7 label.sk-toggleable__label-arrow:before {content: \"▸\";float: left;margin-right: 0.25em;color: #696969;}#sk-28b8807c-c870-493a-a56a-edf45c2c64e7 label.sk-toggleable__label-arrow:hover:before {color: black;}#sk-28b8807c-c870-493a-a56a-edf45c2c64e7 div.sk-estimator:hover label.sk-toggleable__label-arrow:before {color: black;}#sk-28b8807c-c870-493a-a56a-edf45c2c64e7 div.sk-toggleable__content {max-height: 0;max-width: 0;overflow: hidden;text-align: left;background-color: #f0f8ff;}#sk-28b8807c-c870-493a-a56a-edf45c2c64e7 div.sk-toggleable__content pre {margin: 0.2em;color: black;border-radius: 0.25em;background-color: #f0f8ff;}#sk-28b8807c-c870-493a-a56a-edf45c2c64e7 input.sk-toggleable__control:checked~div.sk-toggleable__content {max-height: 200px;max-width: 100%;overflow: auto;}#sk-28b8807c-c870-493a-a56a-edf45c2c64e7 input.sk-toggleable__control:checked~label.sk-toggleable__label-arrow:before {content: \"▾\";}#sk-28b8807c-c870-493a-a56a-edf45c2c64e7 div.sk-estimator input.sk-toggleable__control:checked~label.sk-toggleable__label {background-color: #d4ebff;}#sk-28b8807c-c870-493a-a56a-edf45c2c64e7 div.sk-label input.sk-toggleable__control:checked~label.sk-toggleable__label {background-color: #d4ebff;}#sk-28b8807c-c870-493a-a56a-edf45c2c64e7 input.sk-hidden--visually {border: 0;clip: rect(1px 1px 1px 1px);clip: rect(1px, 1px, 1px, 1px);height: 1px;margin: -1px;overflow: hidden;padding: 0;position: absolute;width: 1px;}#sk-28b8807c-c870-493a-a56a-edf45c2c64e7 div.sk-estimator {font-family: monospace;background-color: #f0f8ff;border: 1px dotted black;border-radius: 0.25em;box-sizing: border-box;margin-bottom: 0.5em;}#sk-28b8807c-c870-493a-a56a-edf45c2c64e7 div.sk-estimator:hover {background-color: #d4ebff;}#sk-28b8807c-c870-493a-a56a-edf45c2c64e7 div.sk-parallel-item::after {content: \"\";width: 100%;border-bottom: 1px solid gray;flex-grow: 1;}#sk-28b8807c-c870-493a-a56a-edf45c2c64e7 div.sk-label:hover label.sk-toggleable__label {background-color: #d4ebff;}#sk-28b8807c-c870-493a-a56a-edf45c2c64e7 div.sk-serial::before {content: \"\";position: absolute;border-left: 1px solid gray;box-sizing: border-box;top: 2em;bottom: 0;left: 50%;}#sk-28b8807c-c870-493a-a56a-edf45c2c64e7 div.sk-serial {display: flex;flex-direction: column;align-items: center;background-color: white;padding-right: 0.2em;padding-left: 0.2em;}#sk-28b8807c-c870-493a-a56a-edf45c2c64e7 div.sk-item {z-index: 1;}#sk-28b8807c-c870-493a-a56a-edf45c2c64e7 div.sk-parallel {display: flex;align-items: stretch;justify-content: center;background-color: white;}#sk-28b8807c-c870-493a-a56a-edf45c2c64e7 div.sk-parallel::before {content: \"\";position: absolute;border-left: 1px solid gray;box-sizing: border-box;top: 2em;bottom: 0;left: 50%;}#sk-28b8807c-c870-493a-a56a-edf45c2c64e7 div.sk-parallel-item {display: flex;flex-direction: column;position: relative;background-color: white;}#sk-28b8807c-c870-493a-a56a-edf45c2c64e7 div.sk-parallel-item:first-child::after {align-self: flex-end;width: 50%;}#sk-28b8807c-c870-493a-a56a-edf45c2c64e7 div.sk-parallel-item:last-child::after {align-self: flex-start;width: 50%;}#sk-28b8807c-c870-493a-a56a-edf45c2c64e7 div.sk-parallel-item:only-child::after {width: 0;}#sk-28b8807c-c870-493a-a56a-edf45c2c64e7 div.sk-dashed-wrapped {border: 1px dashed gray;margin: 0 0.4em 0.5em 0.4em;box-sizing: border-box;padding-bottom: 0.4em;background-color: white;position: relative;}#sk-28b8807c-c870-493a-a56a-edf45c2c64e7 div.sk-label label {font-family: monospace;font-weight: bold;background-color: white;display: inline-block;line-height: 1.2em;}#sk-28b8807c-c870-493a-a56a-edf45c2c64e7 div.sk-label-container {position: relative;z-index: 2;text-align: center;}#sk-28b8807c-c870-493a-a56a-edf45c2c64e7 div.sk-container {/* jupyter's `normalize.less` sets `[hidden] { display: none; }` but bootstrap.min.css set `[hidden] { display: none !important; }` so we also need the `!important` here to be able to override the default hidden behavior on the sphinx rendered scikit-learn.org. See: https://github.com/scikit-learn/scikit-learn/issues/21755 */display: inline-block !important;position: relative;}#sk-28b8807c-c870-493a-a56a-edf45c2c64e7 div.sk-text-repr-fallback {display: none;}</style><div id=\"sk-28b8807c-c870-493a-a56a-edf45c2c64e7\" class=\"sk-top-container\"><div class=\"sk-text-repr-fallback\"><pre>Pipeline(steps=[(&#x27;standardscaler&#x27;, StandardScaler()),\n",
              "                (&#x27;pca&#x27;, PCA(n_components=2, random_state=1)),\n",
              "                (&#x27;svc&#x27;, SVC(random_state=1))])</pre><b>Please rerun this cell to show the HTML repr or trust the notebook.</b></div><div class=\"sk-container\" hidden><div class=\"sk-item sk-dashed-wrapped\"><div class=\"sk-label-container\"><div class=\"sk-label sk-toggleable\"><input class=\"sk-toggleable__control sk-hidden--visually\" id=\"6b275d4f-21e0-4d21-923b-0acfa3762995\" type=\"checkbox\" ><label for=\"6b275d4f-21e0-4d21-923b-0acfa3762995\" class=\"sk-toggleable__label sk-toggleable__label-arrow\">Pipeline</label><div class=\"sk-toggleable__content\"><pre>Pipeline(steps=[(&#x27;standardscaler&#x27;, StandardScaler()),\n",
              "                (&#x27;pca&#x27;, PCA(n_components=2, random_state=1)),\n",
              "                (&#x27;svc&#x27;, SVC(random_state=1))])</pre></div></div></div><div class=\"sk-serial\"><div class=\"sk-item\"><div class=\"sk-estimator sk-toggleable\"><input class=\"sk-toggleable__control sk-hidden--visually\" id=\"3fcc414e-94e9-4df1-be8c-d64b6abf8ee1\" type=\"checkbox\" ><label for=\"3fcc414e-94e9-4df1-be8c-d64b6abf8ee1\" class=\"sk-toggleable__label sk-toggleable__label-arrow\">StandardScaler</label><div class=\"sk-toggleable__content\"><pre>StandardScaler()</pre></div></div></div><div class=\"sk-item\"><div class=\"sk-estimator sk-toggleable\"><input class=\"sk-toggleable__control sk-hidden--visually\" id=\"9171dac0-65f1-4d52-ab32-2eabb49a3e93\" type=\"checkbox\" ><label for=\"9171dac0-65f1-4d52-ab32-2eabb49a3e93\" class=\"sk-toggleable__label sk-toggleable__label-arrow\">PCA</label><div class=\"sk-toggleable__content\"><pre>PCA(n_components=2, random_state=1)</pre></div></div></div><div class=\"sk-item\"><div class=\"sk-estimator sk-toggleable\"><input class=\"sk-toggleable__control sk-hidden--visually\" id=\"7c26daa0-366e-41e1-934e-840a99449a53\" type=\"checkbox\" ><label for=\"7c26daa0-366e-41e1-934e-840a99449a53\" class=\"sk-toggleable__label sk-toggleable__label-arrow\">SVC</label><div class=\"sk-toggleable__content\"><pre>SVC(random_state=1)</pre></div></div></div></div></div></div></div>"
            ]
          },
          "metadata": {},
          "execution_count": 18
        }
      ]
    },
    {
      "cell_type": "markdown",
      "source": [
        "### **| k-겹 교차 검증을 사용한 모델 성능 평가**"
      ],
      "metadata": {
        "id": "8mVKy1E8UlPP"
      }
    },
    {
      "cell_type": "markdown",
      "source": [
        "#### **홀드아웃(holdout cross-validation)**\n",
        "\n",
        "<p align='center'>\n",
        "<img src=https://git.io/JtsTo?raw=true width=600>\n",
        "</p>\n",
        "\n",
        "* 초기 데이터셋을 별도의 훈련 데이터셋과 테스트 데이터셋으로 분리\n",
        "* 성능 향상을 위해 하이퍼파라미터를 튜닝하고 비교하는 과정을 모델 선택이라고 한다.\n",
        "* 하이퍼파라미터 튜닝의 기준은 테스트셋이고 따라서 하이퍼파라미터를 튜닝하는 과정에서 테스트셋도 모델 선택의 일부가 되버린다.\n",
        "* 홀드아웃 방법은 데이터를 훈련 데이터, 검증 데이터, 테스트 데이터셋 세가지로 나누는 것. \n",
        "* 훈련 데이터셋 : 학습 파라미터 조정\n",
        "* 검증 데이터셋 : 하이퍼 파라미터 조정\n",
        "* 테스트 데이터셋 : 최종 성능 평가"
      ],
      "metadata": {
        "id": "5ricSHxSUxM2"
      }
    },
    {
      "cell_type": "markdown",
      "source": [
        "#### **k-겹 교차검증(k-fold cross-validation)**\n",
        "\n",
        "<p align='center'>\n",
        "<img src=https://git.io/JtsT6?raw=true width=600>\n",
        "</p>\n",
        "\n",
        "\n",
        "* 중복을 허용하지 않고 훈련 데이터셋을 k개의 폴드로 랜덤하게 나눈다.\n",
        "* k-1개의 폴드로 모델 훈련을 k번 하여 k개의 모델 확보\n",
        "* k개 모델에 대한 k번의 성능 평가 진행\n",
        "* 일반적으로 최적의 하이퍼파라미터 값을 찾기 위해 사용\n",
        "* 최적의 하이퍼파라미터를 찾은 후에는 전체 훈련 데이터셋을 사용해 모델을 재훈련\n",
        "* 최종 성능 추정은 독립적인 테스트셋(이제껏 사용하지 않은 데이터)을 사용하여 추정.\n"
      ],
      "metadata": {
        "id": "ymoHxEVYVruW"
      }
    },
    {
      "cell_type": "markdown",
      "source": [
        "```\n",
        "sklearn.model_selection.cross_validate(estimator, # 모델\n",
        "                                       X, y=None, 데이터\n",
        "                                       groups=None,\n",
        "                                       scoring=None, \n",
        "                                       cv=None, # corss-validation 교차검증, k \n",
        "                                       n_jobs=None,\n",
        "                                       verbose=0,\n",
        "                                       fit_params=None,\n",
        "                                       pre_dispatch='2*n_jobs', \n",
        "                                       return_train_score=False, \n",
        "                                       return_estimator=False, \n",
        "                                       error_score=nan)\n",
        "```"
      ],
      "metadata": {
        "id": "uskpiAzQ1hgh"
      }
    },
    {
      "cell_type": "code",
      "source": [
        "train.csv -> 정답이 있다.\n",
        "train.csv -> train : 모델 학습\n",
        "          -> valid : 파라미터 튜닝 및 평가\n",
        "\n",
        "test.csv -> 정답이 없고 : 최종성능 (리더보드 제출)\n",
        "\n",
        "# 지금 데이터에서, \n",
        "x_train, x_valid,  y_train, y_valid = train_test_split(x_train, y_train) -> 홀드아웃방식\n",
        "cross_validate(x_train, y_train) -> k겹 교차방식."
      ],
      "metadata": {
        "id": "ov_LrXWZ3iZW"
      },
      "execution_count": null,
      "outputs": []
    },
    {
      "cell_type": "code",
      "source": [
        "from sklearn.model_selection import cross_validate\n",
        "\n",
        "df = pd.DataFrame()\n",
        "for pipe in ['pipe_lr', 'pipe_svc', 'pipe_pca_svc']:\n",
        "  scores = cross_validate(estimator = eval(pipe),\n",
        "                          X = X_train, \n",
        "                          y = y_train,\n",
        "                          scoring=['accuracy'],\n",
        "                          cv = 10\n",
        "                          )\n",
        "  df[pipe] = scores['test_accuracy']\n",
        "  mean_score = np.mean(scores['test_accuracy']).round(3)\n",
        "  print(f'{pipe} 평균성능 : {mean_score}')"
      ],
      "metadata": {
        "id": "b58_hb5D-xq7",
        "colab": {
          "base_uri": "https://localhost:8080/"
        },
        "outputId": "185e498b-68ba-4afd-fb4c-b66970c5c10e"
      },
      "execution_count": 24,
      "outputs": [
        {
          "output_type": "stream",
          "name": "stdout",
          "text": [
            "pipe_lr 평균성능 : 0.98\n",
            "pipe_svc 평균성능 : 0.978\n",
            "pipe_pca_svc 평균성능 : 0.932\n"
          ]
        }
      ]
    },
    {
      "cell_type": "code",
      "source": [
        "_=sns.lineplot(data=df)"
      ],
      "metadata": {
        "colab": {
          "base_uri": "https://localhost:8080/",
          "height": 265
        },
        "id": "TJfz61j8IbHg",
        "outputId": "2b0a7385-29c8-4b69-8b6e-4e7a7e974cf2"
      },
      "execution_count": 28,
      "outputs": [
        {
          "output_type": "display_data",
          "data": {
            "text/plain": [
              "<Figure size 432x288 with 1 Axes>"
            ],
            "image/png": "[encoded data removed]"
          },
          "metadata": {
            "needs_background": "light"
          }
        }
      ]
    },
    {
      "cell_type": "markdown",
      "source": [
        "## 머신러닝 성능향상을 위한 디버깅과 튜닝\n",
        "---"
      ],
      "metadata": {
        "id": "t0rPOASjgsSA"
      }
    },
    {
      "cell_type": "markdown",
      "source": [
        "### **| 알고리즘 디버깅**\n",
        "\n"
      ],
      "metadata": {
        "id": "Qu1b38gU0mQ7"
      }
    },
    {
      "cell_type": "markdown",
      "source": [
        "#### **학습 곡선**\n",
        "\n",
        "    - 주어진 훈련 데이터셋에 비해 모델이 너무 복잡하면 모델이 과대적합되고 처음 본 데이터에 잘 일반화 되지 못하는 경향이 생긴다.\n",
        "    - 이를 해결하는 가장 효과적인 방법은 훈련 샘플을 더 모으기\n",
        "    - 하지만 데이터를 모으는 비용과 시간이 소요되기 때문에 훈련 정확도와 검증 정확도를 훈련 데이터 셋 크기 함수로 그래프를 그린다.\n",
        "    - x축 : 데이터의 개수\n",
        "    - y축 : 성능\n",
        "\n",
        "\n",
        "\n",
        "<p align='center'>\n",
        "<img src=https://git.io/JtsTi?=true width=600>\n",
        "</p>\n",
        "\n",
        "\n",
        "    과소 적합 \n",
        "      - 훈련 정확도와 테스트 정확도가 모두 낮다\n",
        "      - 일반적으로 모델이 훈련 데이터에 대해서도 학습을 못한 상태\n",
        "      - 이를 해결하기 위한 일반적인 방법\n",
        "\n",
        "\n",
        "    과대 적합\n",
        "      - 훈련 정확도와 테스트 정확도의 차이가 큼\n",
        "      - 모델이 테스트 데이터에 대해 일반화(generaliztion)을 하지 못하는 상태\n",
        "      - 이를 해결하기 위한 일반적인 방법\n",
        "\n",
        "\n",
        "\n",
        "\n",
        "\n",
        "```\n",
        "sklearn.model_selection.learning_curve(estimator, \n",
        "                                      X, y, \n",
        "                                      groups=None\n",
        "                                      train_sizes=array([0.1, 0.33, 0.55, 0.78, 1.]), \n",
        "                                      cv=None, \n",
        "                                      scoring=None,\n",
        "                                      exploit_incremental_learning=False, \n",
        "                                      n_jobs=None, pre_dispatch='all', \n",
        "                                      verbose=0, \n",
        "                                      shuffle=False, \n",
        "                                      random_state=None, \n",
        "                                      error_score=nan, \n",
        "                                      return_times=False, \n",
        "                                      fit_params=None)[source]\n",
        "```"
      ],
      "metadata": {
        "id": "g-kf_SRABCvi"
      }
    },
    {
      "cell_type": "code",
      "source": [
        "from sklearn.model_selection import learning_curve\n",
        "train_sizes, train_scores, valid_scores = learning_curve(estimator=pipe_lr,\n",
        "                                                         X = X_train,\n",
        "                                                         y = y_train,\n",
        "                                                         train_sizes= np.linspace(0.1, 1, 10),\n",
        "                                                         cv = 5, # 교차검증 (k=5)\n",
        "                                                         shuffle=True\n",
        "                                                         )\n",
        "print(train_sizes)\n",
        "print(train_scores.shape)\n",
        "print(valid_scores.shape)\n",
        "\n",
        "pd.DataFrame(train_scores)"
      ],
      "metadata": {
        "id": "a-kJLsRfA9C6",
        "colab": {
          "base_uri": "https://localhost:8080/",
          "height": 417
        },
        "outputId": "766dc656-53a6-41a9-dea5-c24719062712"
      },
      "execution_count": 40,
      "outputs": [
        {
          "output_type": "stream",
          "name": "stdout",
          "text": [
            "[ 36  72 109 145 182 218 254 291 327 364]\n",
            "(10, 5)\n",
            "(10, 5)\n"
          ]
        },
        {
          "output_type": "execute_result",
          "data": {
            "text/plain": [
              "          0         1         2         3         4\n",
              "0  0.972222  1.000000  1.000000  0.944444  1.000000\n",
              "1  0.986111  1.000000  1.000000  0.972222  1.000000\n",
              "2  0.981651  1.000000  1.000000  0.972477  0.990826\n",
              "3  0.986207  1.000000  1.000000  0.986207  0.993103\n",
              "4  0.967033  0.989011  1.000000  0.989011  0.989011\n",
              "5  0.977064  0.986239  0.995413  0.990826  0.986239\n",
              "6  0.976378  0.988189  0.996063  0.988189  0.988189\n",
              "7  0.979381  0.989691  0.996564  0.989691  0.989691\n",
              "8  0.981651  0.987768  0.996942  0.987768  0.984709\n",
              "9  0.983516  0.989011  0.994505  0.989011  0.989011"
            ],
            "text/html": [
              "\n",
              "  <div id=\"df-f1a59867-184a-4e35-a9dc-fcae0cb2ea19\">\n",
              "    <div class=\"colab-df-container\">\n",
              "      <div>\n",
              "<style scoped>\n",
              "    .dataframe tbody tr th:only-of-type {\n",
              "        vertical-align: middle;\n",
              "    }\n",
              "\n",
              "    .dataframe tbody tr th {\n",
              "        vertical-align: top;\n",
              "    }\n",
              "\n",
              "    .dataframe thead th {\n",
              "        text-align: right;\n",
              "    }\n",
              "</style>\n",
              "<table border=\"1\" class=\"dataframe\">\n",
              "  <thead>\n",
              "    <tr style=\"text-align: right;\">\n",
              "      <th></th>\n",
              "      <th>0</th>\n",
              "      <th>1</th>\n",
              "      <th>2</th>\n",
              "      <th>3</th>\n",
              "      <th>4</th>\n",
              "    </tr>\n",
              "  </thead>\n",
              "  <tbody>\n",
              "    <tr>\n",
              "      <th>0</th>\n",
              "      <td>0.972222</td>\n",
              "      <td>1.000000</td>\n",
              "      <td>1.000000</td>\n",
              "      <td>0.944444</td>\n",
              "      <td>1.000000</td>\n",
              "    </tr>\n",
              "    <tr>\n",
              "      <th>1</th>\n",
              "      <td>0.986111</td>\n",
              "      <td>1.000000</td>\n",
              "      <td>1.000000</td>\n",
              "      <td>0.972222</td>\n",
              "      <td>1.000000</td>\n",
              "    </tr>\n",
              "    <tr>\n",
              "      <th>2</th>\n",
              "      <td>0.981651</td>\n",
              "      <td>1.000000</td>\n",
              "      <td>1.000000</td>\n",
              "      <td>0.972477</td>\n",
              "      <td>0.990826</td>\n",
              "    </tr>\n",
              "    <tr>\n",
              "      <th>3</th>\n",
              "      <td>0.986207</td>\n",
              "      <td>1.000000</td>\n",
              "      <td>1.000000</td>\n",
              "      <td>0.986207</td>\n",
              "      <td>0.993103</td>\n",
              "    </tr>\n",
              "    <tr>\n",
              "      <th>4</th>\n",
              "      <td>0.967033</td>\n",
              "      <td>0.989011</td>\n",
              "      <td>1.000000</td>\n",
              "      <td>0.989011</td>\n",
              "      <td>0.989011</td>\n",
              "    </tr>\n",
              "    <tr>\n",
              "      <th>5</th>\n",
              "      <td>0.977064</td>\n",
              "      <td>0.986239</td>\n",
              "      <td>0.995413</td>\n",
              "      <td>0.990826</td>\n",
              "      <td>0.986239</td>\n",
              "    </tr>\n",
              "    <tr>\n",
              "      <th>6</th>\n",
              "      <td>0.976378</td>\n",
              "      <td>0.988189</td>\n",
              "      <td>0.996063</td>\n",
              "      <td>0.988189</td>\n",
              "      <td>0.988189</td>\n",
              "    </tr>\n",
              "    <tr>\n",
              "      <th>7</th>\n",
              "      <td>0.979381</td>\n",
              "      <td>0.989691</td>\n",
              "      <td>0.996564</td>\n",
              "      <td>0.989691</td>\n",
              "      <td>0.989691</td>\n",
              "    </tr>\n",
              "    <tr>\n",
              "      <th>8</th>\n",
              "      <td>0.981651</td>\n",
              "      <td>0.987768</td>\n",
              "      <td>0.996942</td>\n",
              "      <td>0.987768</td>\n",
              "      <td>0.984709</td>\n",
              "    </tr>\n",
              "    <tr>\n",
              "      <th>9</th>\n",
              "      <td>0.983516</td>\n",
              "      <td>0.989011</td>\n",
              "      <td>0.994505</td>\n",
              "      <td>0.989011</td>\n",
              "      <td>0.989011</td>\n",
              "    </tr>\n",
              "  </tbody>\n",
              "</table>\n",
              "</div>\n",
              "      <button class=\"colab-df-convert\" onclick=\"convertToInteractive('df-f1a59867-184a-4e35-a9dc-fcae0cb2ea19')\"\n",
              "              title=\"Convert this dataframe to an interactive table.\"\n",
              "              style=\"display:none;\">\n",
              "        \n",
              "  <svg xmlns=\"http://www.w3.org/2000/svg\" height=\"24px\"viewBox=\"0 0 24 24\"\n",
              "       width=\"24px\">\n",
              "    <path d=\"M0 0h24v24H0V0z\" fill=\"none\"/>\n",
              "    <path d=\"M18.56 5.44l.94 2.06.94-2.06 2.06-.94-2.06-.94-.94-2.06-.94 2.06-2.06.94zm-11 1L8.5 8.5l.94-2.06 2.06-.94-2.06-.94L8.5 2.5l-.94 2.06-2.06.94zm10 10l.94 2.06.94-2.06 2.06-.94-2.06-.94-.94-2.06-.94 2.06-2.06.94z\"/><path d=\"M17.41 7.96l-1.37-1.37c-.4-.4-.92-.59-1.43-.59-.52 0-1.04.2-1.43.59L10.3 9.45l-7.72 7.72c-.78.78-.78 2.05 0 2.83L4 21.41c.39.39.9.59 1.41.59.51 0 1.02-.2 1.41-.59l7.78-7.78 2.81-2.81c.8-.78.8-2.07 0-2.86zM5.41 20L4 18.59l7.72-7.72 1.47 1.35L5.41 20z\"/>\n",
              "  </svg>\n",
              "      </button>\n",
              "      \n",
              "  <style>\n",
              "    .colab-df-container {\n",
              "      display:flex;\n",
              "      flex-wrap:wrap;\n",
              "      gap: 12px;\n",
              "    }\n",
              "\n",
              "    .colab-df-convert {\n",
              "      background-color: #E8F0FE;\n",
              "      border: none;\n",
              "      border-radius: 50%;\n",
              "      cursor: pointer;\n",
              "      display: none;\n",
              "      fill: #1967D2;\n",
              "      height: 32px;\n",
              "      padding: 0 0 0 0;\n",
              "      width: 32px;\n",
              "    }\n",
              "\n",
              "    .colab-df-convert:hover {\n",
              "      background-color: #E2EBFA;\n",
              "      box-shadow: 0px 1px 2px rgba(60, 64, 67, 0.3), 0px 1px 3px 1px rgba(60, 64, 67, 0.15);\n",
              "      fill: #174EA6;\n",
              "    }\n",
              "\n",
              "    [theme=dark] .colab-df-convert {\n",
              "      background-color: #3B4455;\n",
              "      fill: #D2E3FC;\n",
              "    }\n",
              "\n",
              "    [theme=dark] .colab-df-convert:hover {\n",
              "      background-color: #434B5C;\n",
              "      box-shadow: 0px 1px 3px 1px rgba(0, 0, 0, 0.15);\n",
              "      filter: drop-shadow(0px 1px 2px rgba(0, 0, 0, 0.3));\n",
              "      fill: #FFFFFF;\n",
              "    }\n",
              "  </style>\n",
              "\n",
              "      <script>\n",
              "        const buttonEl =\n",
              "          document.querySelector('#df-f1a59867-184a-4e35-a9dc-fcae0cb2ea19 button.colab-df-convert');\n",
              "        buttonEl.style.display =\n",
              "          google.colab.kernel.accessAllowed ? 'block' : 'none';\n",
              "\n",
              "        async function convertToInteractive(key) {\n",
              "          const element = document.querySelector('#df-f1a59867-184a-4e35-a9dc-fcae0cb2ea19');\n",
              "          const dataTable =\n",
              "            await google.colab.kernel.invokeFunction('convertToInteractive',\n",
              "                                                     [key], {});\n",
              "          if (!dataTable) return;\n",
              "\n",
              "          const docLinkHtml = 'Like what you see? Visit the ' +\n",
              "            '<a target=\"_blank\" href=https://colab.research.google.com/notebooks/data_table.ipynb>data table notebook</a>'\n",
              "            + ' to learn more about interactive tables.';\n",
              "          element.innerHTML = '';\n",
              "          dataTable['output_type'] = 'display_data';\n",
              "          await google.colab.output.renderOutput(dataTable, element);\n",
              "          const docLink = document.createElement('div');\n",
              "          docLink.innerHTML = docLinkHtml;\n",
              "          element.appendChild(docLink);\n",
              "        }\n",
              "      </script>\n",
              "    </div>\n",
              "  </div>\n",
              "  "
            ]
          },
          "metadata": {},
          "execution_count": 40
        }
      ]
    },
    {
      "cell_type": "markdown",
      "source": [
        "* 시각화"
      ],
      "metadata": {
        "id": "Wk4u3xNmIItn"
      }
    },
    {
      "cell_type": "code",
      "source": [
        "def draw_learning_curve(train_sizes, train_scores, valid_scores):\n",
        "\n",
        "  train_mean= np.mean(train_scores, axis=1)\n",
        "  valid_mean= np.mean(valid_scores, axis=1)\n",
        "  # 학습곡선: 샘플개수에 따른 데이터 성능\n",
        "  plt.plot(train_sizes, train_mean,\n",
        "          color='blue', marker='o',\n",
        "          markersize=5, label='Training accuracy')\n",
        "\n",
        "  plt.plot(train_sizes, valid_mean,\n",
        "          color='green', linestyle='--', marker='s', \n",
        "          markersize=5, label='Validation Accuracy')\n",
        " \n",
        "  # 오차범위 시각화\n",
        "  train_std = np.std(train_scores, axis=1)\n",
        "  valid_std = np.std(valid_scores, axis=1)\n",
        "  plt.fill_between(train_sizes, train_mean+train_std, train_mean-train_std,\n",
        "                  alpha=0.15, color='blue')\n",
        "  \n",
        "  plt.fill_between(train_sizes, valid_mean+valid_std, valid_mean-valid_std,\n",
        "                  alpha=0.15, color='green')\n",
        "\n",
        "  plt.grid()\n",
        "  plt.xlabel('Number of training dataset')\n",
        "  plt.ylabel('Accuracy')\n",
        "  plt.legend(loc='lower right')\n",
        "  plt.ylim([0.8, 1.03])\n",
        "  plt.tight_layout()\n",
        "  plt.title('Accuracy according to # of training dataset')\n",
        "  plt.show()\n",
        "\n",
        "draw_learning_curve(train_sizes, train_scores, valid_scores)"
      ],
      "metadata": {
        "id": "QvUDlb4Z1SMZ",
        "colab": {
          "base_uri": "https://localhost:8080/",
          "height": 313
        },
        "outputId": "51bf453c-a07c-46f6-bc4c-7c5523c86713"
      },
      "execution_count": 47,
      "outputs": [
        {
          "output_type": "display_data",
          "data": {
            "text/plain": [
              "<Figure size 432x288 with 1 Axes>"
            ],
            "image/png": "[encoded data removed]"
          },
          "metadata": {
            "needs_background": "light"
          }
        }
      ]
    },
    {
      "cell_type": "markdown",
      "source": [
        "* 생성한 파이프라인에 대한 학습 곡선 시각화"
      ],
      "metadata": {
        "id": "ByxO9njX0V8M"
      }
    },
    {
      "cell_type": "code",
      "source": [
        "from sklearn.model_selection import learning_curve\n",
        "for pipe in ['pipe_lr', 'pipe_svc', 'pipe_pca_svc']:\n",
        "  train_sizes, train_scores, valid_scores = learning_curve(estimator=eval(pipe),\n",
        "                                                          X = X_train,\n",
        "                                                          y = y_train,\n",
        "                                                          train_sizes= np.linspace(0.1, 1, 10),\n",
        "                                                          cv = 5, # 교차검증 (k=5)\n",
        "                                                          shuffle=True\n",
        "                                                          )\n",
        "  draw_learning_curve(train_sizes, train_scores, valid_scores)"
      ],
      "metadata": {
        "id": "bHBcFTbkaStz",
        "colab": {
          "base_uri": "https://localhost:8080/",
          "height": 905
        },
        "outputId": "1f306d90-91d0-4d68-abfa-e29711b1f98c"
      },
      "execution_count": 48,
      "outputs": [
        {
          "output_type": "display_data",
          "data": {
            "text/plain": [
              "<Figure size 432x288 with 1 Axes>"
            ],
            "image/png": "[encoded data removed]"
          },
          "metadata": {
            "needs_background": "light"
          }
        },
        {
          "output_type": "display_data",
          "data": {
            "text/plain": [
              "<Figure size 432x288 with 1 Axes>"
            ],
            "image/png": "[encoded data removed]"
          },
          "metadata": {
            "needs_background": "light"
          }
        },
        {
          "output_type": "display_data",
          "data": {
            "text/plain": [
              "<Figure size 432x288 with 1 Axes>"
            ],
            "image/png": "[encoded data removed]"
          },
          "metadata": {
            "needs_background": "light"
          }
        }
      ]
    },
    {
      "cell_type": "markdown",
      "source": [
        "#### **검증 곡선**\n",
        "\n",
        "\n",
        "* x축 : 특정 하이퍼파라미터의 값\n",
        "* y축 : 성능\n",
        "\n",
        "\n",
        "```\n",
        "sklearn.model_selection.validation_curve(estimator, \n",
        "                                        X, y, *, \n",
        "                                        param_name, \n",
        "                                        param_range,\n",
        "                                        groups=None, \n",
        "                                        cv=None, \n",
        "                                        scoring=None,\n",
        "                                        n_jobs=None,\n",
        "                                        pre_dispatch='all', \n",
        "                                        verbose=0, \n",
        "                                        error_score=nan, \n",
        "                                        fit_params=None)[source]\n",
        "```"
      ],
      "metadata": {
        "id": "ID6Kfj7sJW4V"
      }
    },
    {
      "cell_type": "code",
      "source": [
        "from sklearn.model_selection import validation_curve\n",
        "\n",
        "pr = [0.001, 0.01, 0.1, 1, 10, 100, 1000]\n",
        "train_scores, valid_scores = validation_curve(estimator = pipe_pca_svc,\n",
        "                                              X = X_train,\n",
        "                                              y = y_train,\n",
        "                                              cv = 5,\n",
        "                                              param_name='svc__C',\n",
        "                                              param_range=pr\n",
        "                                              )\n",
        "print(train_scores.shape)\n",
        "print(valid_scores.shape)"
      ],
      "metadata": {
        "id": "nO6FbPQOJcWk",
        "colab": {
          "base_uri": "https://localhost:8080/"
        },
        "outputId": "33d34888-f957-4bba-cb32-a8f0cb3805f7"
      },
      "execution_count": 49,
      "outputs": [
        {
          "output_type": "stream",
          "name": "stdout",
          "text": [
            "(7, 5)\n",
            "(7, 5)\n"
          ]
        }
      ]
    },
    {
      "cell_type": "markdown",
      "source": [
        "* 시각화\n"
      ],
      "metadata": {
        "id": "FZC55CWzL1qU"
      }
    },
    {
      "cell_type": "code",
      "source": [
        "def draw_validation_curve(param_range, \n",
        "                          train_scores, \n",
        "                          valid_scores):\n",
        "  \n",
        "  train_mean= np.mean(train_scores, axis=1)\n",
        "  valid_mean= np.mean(valid_scores, axis=1)\n",
        "  # 검증곡선: 파라미터 값에 따른 데이터 성능\n",
        "  plt.plot(param_range, train_mean,\n",
        "          color='blue', marker='o',\n",
        "          markersize=5, label='Training accuracy')\n",
        "\n",
        "  plt.plot(param_range, valid_mean,\n",
        "          color='green', linestyle='--', marker='s', \n",
        "          markersize=5, label='Validation Accuracy')\n",
        " \n",
        "  # 오차범위 시각화\n",
        "  train_std = np.std(train_scores, axis=1)\n",
        "  valid_std = np.std(valid_scores, axis=1)\n",
        "  plt.fill_between(param_range, train_mean+train_std, train_mean-train_std,\n",
        "                  alpha=0.15, color='blue')\n",
        "  \n",
        "  plt.fill_between(param_range, valid_mean+valid_std, valid_mean-valid_std,\n",
        "                  alpha=0.15, color='green')\n",
        "\n",
        "  plt.grid()\n",
        "  plt.xlabel('Prameter range')\n",
        "  plt.ylabel('Accuracy')\n",
        "  plt.legend(loc='lower right')\n",
        "  plt.ylim([0.5, 1.03])\n",
        "  plt.xscale('log') # 로그스케일\n",
        "  plt.tight_layout()\n",
        "  plt.title('Accuracy according to parameter range')\n",
        "  plt.show()"
      ],
      "metadata": {
        "id": "wihgarxu2kdh"
      },
      "execution_count": 54,
      "outputs": []
    },
    {
      "cell_type": "code",
      "source": [
        "draw_validation_curve(pr, train_scores, valid_scores)"
      ],
      "metadata": {
        "id": "ZFXgdZieavSM",
        "colab": {
          "base_uri": "https://localhost:8080/",
          "height": 313
        },
        "outputId": "dfa7b178-5c24-49fa-cd0b-954ea335af5b"
      },
      "execution_count": 55,
      "outputs": [
        {
          "output_type": "display_data",
          "data": {
            "text/plain": [
              "<Figure size 432x288 with 1 Axes>"
            ],
            "image/png": "[encoded data removed]"
          },
          "metadata": {
            "needs_background": "light"
          }
        }
      ]
    },
    {
      "cell_type": "markdown",
      "source": [
        "### **| 하이퍼파라미터 튜닝**\n",
        "\n",
        "\n",
        "    - 머신 러닝에는 두가지 파라미터가 존재\n",
        "    * 학습 파라미터 \n",
        "      * 훈련 데이터를 통해 모델 알고리즘이 자동으로 학습되는 데이터\n",
        "      * 로지스틱 회귀의 가중치 \n",
        "\n",
        "    * 하이퍼파라미터 \n",
        "      * 로지스틱 회귀의 규제 매개변수\n",
        "      * 결정트리의 깊이\n"
      ],
      "metadata": {
        "id": "3bJgSIIw4aFR"
      }
    },
    {
      "cell_type": "markdown",
      "source": [
        "#### **그리드 서치를 사용한 하이퍼파라미터 튜닝**\n",
        "\n",
        "```\n",
        "class sklearn.model_selection.GridSearchCV(estimator,\n",
        "                                           param_grid,\n",
        "                                           scoring=None,\n",
        "                                           n_jobs=None,\n",
        "                                           refit=True,\n",
        "                                           cv=None, \n",
        "                                           verbose=0,\n",
        "                                           pre_dispatch='2*n_jobs', \n",
        "                                           error_score=nan, \n",
        "                                           return_train_score=False)\n",
        "```"
      ],
      "metadata": {
        "id": "vuh69TPJvAb_"
      }
    },
    {
      "cell_type": "markdown",
      "source": [
        "* pipe_pcasvc 그리드 서치 진행하기"
      ],
      "metadata": {
        "id": "nHXdAIVTWJW1"
      }
    },
    {
      "cell_type": "code",
      "source": [
        "from sklearn.model_selection import GridSearchCV\n",
        "\n",
        "param_grid = [{'svc__C' : [0.1, 1, 10, 100],\n",
        "               'svc__gamma' : [0.001, 0.01, 0.1, 1],\n",
        "               'pca__n_components' : [10, 15, 20],\n",
        "               'svc__kernel': ['linear', 'rbf'],\n",
        "}]\n",
        "gs = GridSearchCV(estimator = pipe_pca_svc, \n",
        "                  scoring = 'accuracy',\n",
        "                  cv=10, # k=10 교차검증\n",
        "                  param_grid = param_grid, \n",
        "                  refit = True, # 훈련후 바로 사용가능\n",
        "                  return_train_score=True, # 훈련 성능 리턴\n",
        "                  )\n",
        "# gs는 하나의 모델, fit을 통해 최적의 하이퍼파라미터로 튜닝\n",
        "gs.fit(X_train, y_train)\n",
        "print(f'최적의 하이퍼파라미터 세트:{gs.best_params_}')\n",
        "print(f'훈련데이터 성능: {gs.best_score_}')\n",
        "print(f'테스트데이터 평가: {gs.score(X_test, y_test)}')"
      ],
      "metadata": {
        "id": "DrPL8V79MrRr",
        "colab": {
          "base_uri": "https://localhost:8080/"
        },
        "outputId": "e11d7e84-c4f3-4442-941d-e10ead68a50d"
      },
      "execution_count": 58,
      "outputs": [
        {
          "output_type": "stream",
          "name": "stdout",
          "text": [
            "최적의 하이퍼파라미터 세트:{'pca__n_components': 15, 'svc__C': 100, 'svc__gamma': 0.001, 'svc__kernel': 'rbf'}\n",
            "훈련데이터 성능: 0.9846859903381642\n",
            "테스트데이터 평가: 0.9736842105263158\n"
          ]
        }
      ]
    },
    {
      "cell_type": "code",
      "source": [
        "print(pipe_lr.score(X_test, y_test))\n",
        "print(pipe_svc.score(X_test, y_test))\n",
        "print(pipe_pca_svc.score(X_test, y_test))"
      ],
      "metadata": {
        "colab": {
          "base_uri": "https://localhost:8080/"
        },
        "id": "i9-fPe6mkL4W",
        "outputId": "0c651533-c89b-48c6-ae41-2230e406cc28"
      },
      "execution_count": 63,
      "outputs": [
        {
          "output_type": "stream",
          "name": "stdout",
          "text": [
            "0.9824561403508771\n",
            "0.9736842105263158\n",
            "0.956140350877193\n"
          ]
        }
      ]
    },
    {
      "cell_type": "code",
      "source": [
        "# 파이프라인 : z-score -> DecisionTree\n",
        "# 그리드서치 : max_depth, criterion : gini / entorpy\n",
        "# 최적 성능 평가"
      ],
      "metadata": {
        "id": "GSBIDQf2k0Eu"
      },
      "execution_count": null,
      "outputs": []
    },
    {
      "cell_type": "code",
      "source": [
        "from sklearn.pipeline import make_pipeline\n",
        "from sklearn.preprocessing import StandardScaler\n",
        "from sklearn.tree import DecisionTreeClassifier\n",
        "from sklearn import set_config\n",
        "set_config(display='diagram')\n",
        "pipe_dt = make_pipeline(StandardScaler(),\n",
        "                        DecisionTreeClassifier(random_state=1)\n",
        "                        )\n",
        "pipe_dt.fit(X_train, y_train)\n",
        "print(pipe_dt.score(X_test, y_test))\n",
        "pipe_dt"
      ],
      "metadata": {
        "colab": {
          "base_uri": "https://localhost:8080/",
          "height": 144
        },
        "id": "QpWiprm5mjOD",
        "outputId": "c7304009-d244-4f54-e568-3bee5631e451"
      },
      "execution_count": 74,
      "outputs": [
        {
          "output_type": "stream",
          "name": "stdout",
          "text": [
            "0.9298245614035088\n"
          ]
        },
        {
          "output_type": "execute_result",
          "data": {
            "text/plain": [
              "Pipeline(steps=[('standardscaler', StandardScaler()),\n",
              "                ('decisiontreeclassifier',\n",
              "                 DecisionTreeClassifier(random_state=1))])"
            ],
            "text/html": [
              "<style>#sk-39b51dd7-f905-40f3-909e-1367c1ed8430 {color: black;background-color: white;}#sk-39b51dd7-f905-40f3-909e-1367c1ed8430 pre{padding: 0;}#sk-39b51dd7-f905-40f3-909e-1367c1ed8430 div.sk-toggleable {background-color: white;}#sk-39b51dd7-f905-40f3-909e-1367c1ed8430 label.sk-toggleable__label {cursor: pointer;display: block;width: 100%;margin-bottom: 0;padding: 0.3em;box-sizing: border-box;text-align: center;}#sk-39b51dd7-f905-40f3-909e-1367c1ed8430 label.sk-toggleable__label-arrow:before {content: \"▸\";float: left;margin-right: 0.25em;color: #696969;}#sk-39b51dd7-f905-40f3-909e-1367c1ed8430 label.sk-toggleable__label-arrow:hover:before {color: black;}#sk-39b51dd7-f905-40f3-909e-1367c1ed8430 div.sk-estimator:hover label.sk-toggleable__label-arrow:before {color: black;}#sk-39b51dd7-f905-40f3-909e-1367c1ed8430 div.sk-toggleable__content {max-height: 0;max-width: 0;overflow: hidden;text-align: left;background-color: #f0f8ff;}#sk-39b51dd7-f905-40f3-909e-1367c1ed8430 div.sk-toggleable__content pre {margin: 0.2em;color: black;border-radius: 0.25em;background-color: #f0f8ff;}#sk-39b51dd7-f905-40f3-909e-1367c1ed8430 input.sk-toggleable__control:checked~div.sk-toggleable__content {max-height: 200px;max-width: 100%;overflow: auto;}#sk-39b51dd7-f905-40f3-909e-1367c1ed8430 input.sk-toggleable__control:checked~label.sk-toggleable__label-arrow:before {content: \"▾\";}#sk-39b51dd7-f905-40f3-909e-1367c1ed8430 div.sk-estimator input.sk-toggleable__control:checked~label.sk-toggleable__label {background-color: #d4ebff;}#sk-39b51dd7-f905-40f3-909e-1367c1ed8430 div.sk-label input.sk-toggleable__control:checked~label.sk-toggleable__label {background-color: #d4ebff;}#sk-39b51dd7-f905-40f3-909e-1367c1ed8430 input.sk-hidden--visually {border: 0;clip: rect(1px 1px 1px 1px);clip: rect(1px, 1px, 1px, 1px);height: 1px;margin: -1px;overflow: hidden;padding: 0;position: absolute;width: 1px;}#sk-39b51dd7-f905-40f3-909e-1367c1ed8430 div.sk-estimator {font-family: monospace;background-color: #f0f8ff;border: 1px dotted black;border-radius: 0.25em;box-sizing: border-box;margin-bottom: 0.5em;}#sk-39b51dd7-f905-40f3-909e-1367c1ed8430 div.sk-estimator:hover {background-color: #d4ebff;}#sk-39b51dd7-f905-40f3-909e-1367c1ed8430 div.sk-parallel-item::after {content: \"\";width: 100%;border-bottom: 1px solid gray;flex-grow: 1;}#sk-39b51dd7-f905-40f3-909e-1367c1ed8430 div.sk-label:hover label.sk-toggleable__label {background-color: #d4ebff;}#sk-39b51dd7-f905-40f3-909e-1367c1ed8430 div.sk-serial::before {content: \"\";position: absolute;border-left: 1px solid gray;box-sizing: border-box;top: 2em;bottom: 0;left: 50%;}#sk-39b51dd7-f905-40f3-909e-1367c1ed8430 div.sk-serial {display: flex;flex-direction: column;align-items: center;background-color: white;padding-right: 0.2em;padding-left: 0.2em;}#sk-39b51dd7-f905-40f3-909e-1367c1ed8430 div.sk-item {z-index: 1;}#sk-39b51dd7-f905-40f3-909e-1367c1ed8430 div.sk-parallel {display: flex;align-items: stretch;justify-content: center;background-color: white;}#sk-39b51dd7-f905-40f3-909e-1367c1ed8430 div.sk-parallel::before {content: \"\";position: absolute;border-left: 1px solid gray;box-sizing: border-box;top: 2em;bottom: 0;left: 50%;}#sk-39b51dd7-f905-40f3-909e-1367c1ed8430 div.sk-parallel-item {display: flex;flex-direction: column;position: relative;background-color: white;}#sk-39b51dd7-f905-40f3-909e-1367c1ed8430 div.sk-parallel-item:first-child::after {align-self: flex-end;width: 50%;}#sk-39b51dd7-f905-40f3-909e-1367c1ed8430 div.sk-parallel-item:last-child::after {align-self: flex-start;width: 50%;}#sk-39b51dd7-f905-40f3-909e-1367c1ed8430 div.sk-parallel-item:only-child::after {width: 0;}#sk-39b51dd7-f905-40f3-909e-1367c1ed8430 div.sk-dashed-wrapped {border: 1px dashed gray;margin: 0 0.4em 0.5em 0.4em;box-sizing: border-box;padding-bottom: 0.4em;background-color: white;position: relative;}#sk-39b51dd7-f905-40f3-909e-1367c1ed8430 div.sk-label label {font-family: monospace;font-weight: bold;background-color: white;display: inline-block;line-height: 1.2em;}#sk-39b51dd7-f905-40f3-909e-1367c1ed8430 div.sk-label-container {position: relative;z-index: 2;text-align: center;}#sk-39b51dd7-f905-40f3-909e-1367c1ed8430 div.sk-container {/* jupyter's `normalize.less` sets `[hidden] { display: none; }` but bootstrap.min.css set `[hidden] { display: none !important; }` so we also need the `!important` here to be able to override the default hidden behavior on the sphinx rendered scikit-learn.org. See: https://github.com/scikit-learn/scikit-learn/issues/21755 */display: inline-block !important;position: relative;}#sk-39b51dd7-f905-40f3-909e-1367c1ed8430 div.sk-text-repr-fallback {display: none;}</style><div id=\"sk-39b51dd7-f905-40f3-909e-1367c1ed8430\" class=\"sk-top-container\"><div class=\"sk-text-repr-fallback\"><pre>Pipeline(steps=[(&#x27;standardscaler&#x27;, StandardScaler()),\n",
              "                (&#x27;decisiontreeclassifier&#x27;,\n",
              "                 DecisionTreeClassifier(random_state=1))])</pre><b>Please rerun this cell to show the HTML repr or trust the notebook.</b></div><div class=\"sk-container\" hidden><div class=\"sk-item sk-dashed-wrapped\"><div class=\"sk-label-container\"><div class=\"sk-label sk-toggleable\"><input class=\"sk-toggleable__control sk-hidden--visually\" id=\"99ed1108-45af-42d4-a1fc-d1c20c82496f\" type=\"checkbox\" ><label for=\"99ed1108-45af-42d4-a1fc-d1c20c82496f\" class=\"sk-toggleable__label sk-toggleable__label-arrow\">Pipeline</label><div class=\"sk-toggleable__content\"><pre>Pipeline(steps=[(&#x27;standardscaler&#x27;, StandardScaler()),\n",
              "                (&#x27;decisiontreeclassifier&#x27;,\n",
              "                 DecisionTreeClassifier(random_state=1))])</pre></div></div></div><div class=\"sk-serial\"><div class=\"sk-item\"><div class=\"sk-estimator sk-toggleable\"><input class=\"sk-toggleable__control sk-hidden--visually\" id=\"f0d23c98-0085-4d58-b51e-ba5f2582c5f8\" type=\"checkbox\" ><label for=\"f0d23c98-0085-4d58-b51e-ba5f2582c5f8\" class=\"sk-toggleable__label sk-toggleable__label-arrow\">StandardScaler</label><div class=\"sk-toggleable__content\"><pre>StandardScaler()</pre></div></div></div><div class=\"sk-item\"><div class=\"sk-estimator sk-toggleable\"><input class=\"sk-toggleable__control sk-hidden--visually\" id=\"0cf82d2c-7af7-4360-815b-3f72fb6df535\" type=\"checkbox\" ><label for=\"0cf82d2c-7af7-4360-815b-3f72fb6df535\" class=\"sk-toggleable__label sk-toggleable__label-arrow\">DecisionTreeClassifier</label><div class=\"sk-toggleable__content\"><pre>DecisionTreeClassifier(random_state=1)</pre></div></div></div></div></div></div></div>"
            ]
          },
          "metadata": {},
          "execution_count": 74
        }
      ]
    },
    {
      "cell_type": "code",
      "source": [
        "from sklearn.model_selection import GridSearchCV\n",
        "\n",
        "param_grid = [{'decisiontreeclassifier__max_depth' : [2,3,4,5,6,7,8,9,10,11,12],\n",
        "               'decisiontreeclassifier__criterion' : ['gini', 'entropy'],\n",
        "}]\n",
        "dt_gs = GridSearchCV(estimator = pipe_dt, \n",
        "                  scoring = 'accuracy',\n",
        "                  cv=10, # k=10 교차검증\n",
        "                  param_grid = param_grid, \n",
        "                  refit = True, # 훈련후 바로 사용가능\n",
        "                  return_train_score=True, # 훈련 성능 리턴\n",
        "                  )\n",
        "# gs는 하나의 모델, fit을 통해 최적의 하이퍼파라미터로 튜닝\n",
        "dt_gs.fit(X_train, y_train)\n",
        "print(f'최적의 하이퍼파라미터 세트:{dt_gs.best_params_}')\n",
        "print(f'훈련데이터 성능: {dt_gs.best_score_}')\n",
        "print(f'테스트데이터 평가: {dt_gs.score(X_test, y_test)}')"
      ],
      "metadata": {
        "colab": {
          "base_uri": "https://localhost:8080/"
        },
        "id": "X9e0iP-1nDqN",
        "outputId": "defc94bf-982d-48bd-9a75-f03f81627f54"
      },
      "execution_count": 76,
      "outputs": [
        {
          "output_type": "stream",
          "name": "stdout",
          "text": [
            "최적의 하이퍼파라미터 세트:{'decisiontreeclassifier__criterion': 'gini', 'decisiontreeclassifier__max_depth': 7}\n",
            "훈련데이터 성능: 0.9583091787439614\n",
            "테스트데이터 평가: 0.9298245614035088\n"
          ]
        }
      ]
    },
    {
      "cell_type": "markdown",
      "source": [
        "## 여러가지 성능 평가 지표\n",
        "---\n"
      ],
      "metadata": {
        "id": "cH8EMf98wWf9"
      }
    },
    {
      "cell_type": "markdown",
      "source": [
        "### | 오차행렬 (confusion matrix)\n",
        "\n",
        "<p align='center'>\n",
        "<img src=https://git.io/JtsT1?=true width=400>\n",
        "</p>"
      ],
      "metadata": {
        "id": "oc2vVBLTwls_"
      }
    },
    {
      "cell_type": "markdown",
      "source": [
        "* 함수구현"
      ],
      "metadata": {
        "id": "-I69M31SRvyw"
      }
    },
    {
      "cell_type": "code",
      "source": [
        "from sklearn.metrics import confusion_matrix, ConfusionMatrixDisplay\n",
        "def draw_cm(model, X, y, title='', labels='', cmap='Blues'):\n",
        "  y_pred = model.predict(X) # 예측\n",
        "  cm = confusion_matrix(y, y_pred) # 혼돈 행렬 구하기\n",
        "  if not labels: labels=np.arange(len(y))\n",
        "  ConfusionMatrixDisplay(cm, display_labels=labels).plot(cmap=cmap) # 시각화\n",
        "  if title: plt.title(title)"
      ],
      "metadata": {
        "id": "geRbJPUkwoMw"
      },
      "execution_count": 79,
      "outputs": []
    },
    {
      "cell_type": "markdown",
      "source": [
        "* 시각화"
      ],
      "metadata": {
        "id": "EDQ39LbhRwul"
      }
    },
    {
      "cell_type": "code",
      "source": [
        "draw_cm(pipe_lr, X_test, y_test, labels=['False', 'True'])"
      ],
      "metadata": {
        "id": "JrT0QdXHw8xN",
        "colab": {
          "base_uri": "https://localhost:8080/",
          "height": 280
        },
        "outputId": "ee379ba1-201f-409c-a19f-0fb969f2f55a"
      },
      "execution_count": 87,
      "outputs": [
        {
          "output_type": "display_data",
          "data": {
            "text/plain": [
              "<Figure size 432x288 with 2 Axes>"
            ],
            "image/png": "[encoded data removed]"
          },
          "metadata": {
            "needs_background": "light"
          }
        }
      ]
    },
    {
      "cell_type": "markdown",
      "source": [
        "#### **예측 오차와 예측 정확도**\n",
        "\n",
        "* 예측 오차\n",
        "\\begin{split}\n",
        "ERR = \\frac{잘못된 예측 개수}{전체 샘플 개수}\n",
        "\\end{split}\n",
        "\n",
        "* 예측 정확도\n",
        "\n",
        "\\begin{split}\n",
        "ACC = \\frac{잘된 예측 개수}{전체 샘플 개수} = 1-ERR\n",
        "\\end{split}"
      ],
      "metadata": {
        "id": "qJODnUJswXCJ"
      }
    },
    {
      "cell_type": "code",
      "source": [
        "from sklearn.metrics import accuracy_score\n",
        "\n",
        "ERR =  2/114\n",
        "ACC = 112/114\n",
        "print(f'예측 오차 : {ERR:.3f}')\n",
        "print(f'예측 정확도 : {ACC:.3f}')\n",
        "\n",
        "ERR = 1- accuracy_score(y_test, pipe_lr.predict(X_test))\n",
        "ACC = accuracy_score(y_test, pipe_lr.predict(X_test))\n",
        "print(f'예측 오차 : {ERR:.3f}')\n",
        "print(f'예측 정확도 : {ACC:.3f}')"
      ],
      "metadata": {
        "id": "0yAMmB4v0Wnh",
        "colab": {
          "base_uri": "https://localhost:8080/"
        },
        "outputId": "c3b9d542-6537-452d-87ca-a783545eee6e"
      },
      "execution_count": 86,
      "outputs": [
        {
          "output_type": "stream",
          "name": "stdout",
          "text": [
            "예측 오차 : 0.018\n",
            "예측 정확도 : 0.982\n",
            "예측 오차 : 0.018\n",
            "예측 정확도 : 0.982\n"
          ]
        }
      ]
    },
    {
      "cell_type": "markdown",
      "source": [
        "### **| 분류 모델의 성능 최적화**"
      ],
      "metadata": {
        "id": "P2L6OOYyWnLU"
      }
    },
    {
      "cell_type": "markdown",
      "source": [
        "\n",
        "#### **TPR (True Positive Rate), FPR (False Positive Rate)**\n",
        "\n",
        "* TPR\n",
        "\n",
        "\\begin{split}\n",
        "TPR = \\frac{TP}{P} = \\frac{TP}{FN+TP} = \\frac{모델이 True로 예측한 샘플}{실제 True인 샘플}\n",
        "\\end{split}\n",
        "\n",
        "* FPR\n",
        "\n",
        "\\begin{split}\n",
        "FPR = \\frac{FP}{N} = \\frac{FP}{FP+TN} = \\frac{모델이 True로 예측한 샘플}{실제 False인 샘플}\n",
        "\\end{split}\n",
        "\n",
        "\\begin{split}\n",
        "\\end{split}\n",
        "\n",
        "    - TPR과 FPR은 클래스 비율이 다른 경우 유용한 성능 지표\n",
        "    - 종양진단 문제에서 환자가 적절한 치료를 받을 수 있도록 악성 종양을 감지하는데 관심이 있다.(악성을 악성으로 구분, TN)\n",
        "    - 불필요하게 환자에게 걱정을 끼치지 않도록 양성 샘플을 악성 샘플로 분류되는 경우(FP)를 줄이는것이 중요\n"
      ],
      "metadata": {
        "id": "IgmEh4pyyxm8"
      }
    },
    {
      "cell_type": "code",
      "source": [
        "TPR = 41/42\n",
        "FPR = 2/72\n",
        "print(f'TPR : {TPR:.3f}') # 제대로 종양을 진단한 정도 = 높을 수록 좋다\n",
        "# 모두 종양으로 분류해도 TPR은 1\n",
        "print(f'FPR : {FPR:.3f}') # 잘못 종양이라고 진단한 정도 = 낮을 수록 좋다\n",
        "# 모두 정상으로 분류해도 FPR은 0"
      ],
      "metadata": {
        "id": "csb093Elyxm8",
        "colab": {
          "base_uri": "https://localhost:8080/"
        },
        "outputId": "4515966d-65b1-4a53-c1bc-50f5fece3e48"
      },
      "execution_count": 88,
      "outputs": [
        {
          "output_type": "stream",
          "name": "stdout",
          "text": [
            "TPR : 0.976\n",
            "FPR : 0.028\n"
          ]
        }
      ]
    },
    {
      "cell_type": "markdown",
      "source": [
        "#### **정밀도 (Precisison)와 재현율(Recall)**\n",
        "\n",
        "* 정밀도\n",
        "\n",
        "\\begin{split}\n",
        "PRE =  \\frac{TP}{TP+FP} = \\frac{실제로  True인 샘플}{모델이 True로 예측한 샘플}\n",
        "\\end{split}\n",
        "\n",
        "* 재현율\n",
        "\n",
        "\\begin{split}\n",
        "REC = TPR = \\frac{모델이 True로 예측한 샘플}{실제 True인 샘플}\n",
        "\\end{split}\n",
        "\n",
        "\\begin{split}\n",
        "\\end{split}\n",
        "\n",
        "\n",
        "    - 정밀도로 모델을 최적화 하면 생기는 일\n",
        "      * 모델이 정상군을 정상이라고 판단하도록 한다.\n",
        "      * 정상군을 감지하는데 효과적\n",
        "      * 악성 종양을 정상으로 잘못 판단 할 수 있다. \n",
        "\n",
        "    - 재현율로 모델을 최적화 하면 생기는 일\n",
        "      * 모델이 악성 종양을 정상이라고 판단하는 경우를 최소화 하게 된다. \n",
        "      * 악성 종양을 감지하는데 효과적\n",
        "      * 정상군도 악성 종양으로 잘못 판단 할 수 있다. \n",
        "\n"
      ],
      "metadata": {
        "id": "cGmcAlJm1GCM"
      }
    },
    {
      "cell_type": "code",
      "source": [
        ""
      ],
      "metadata": {
        "id": "nSWqPgIa8D-1"
      },
      "execution_count": null,
      "outputs": []
    },
    {
      "cell_type": "code",
      "source": [
        "from sklearn.metrics import precision_score, recall_score\n",
        "\n",
        "REC = TPR\n",
        "PRE = 41/42\n",
        "print(f'REC : {REC:.3f}') \n",
        "print(f'PRE : {PRE:.3f}') \n",
        "\n",
        "REC = recall_score(y_test, pipe_lr.predict(X_test))\n",
        "PRE = precision_score(y_test, pipe_lr.predict(X_test))\n",
        "print(f'REC : {REC:.3f}')\n",
        "print(f'PRE : {PRE:.3f}') "
      ],
      "metadata": {
        "id": "Cyv4SlbGPizB",
        "colab": {
          "base_uri": "https://localhost:8080/"
        },
        "outputId": "8f70e9a7-878f-4e7b-e1b8-d24c9b244ed8"
      },
      "execution_count": 92,
      "outputs": [
        {
          "output_type": "stream",
          "name": "stdout",
          "text": [
            "REC : 0.976\n",
            "PRE : 0.976\n",
            "REC : 0.976\n",
            "PRE : 0.976\n"
          ]
        }
      ]
    },
    {
      "cell_type": "markdown",
      "source": [
        "#### **F1-score**\n",
        "\n",
        "\\begin{split}\n",
        "F1 = 2\\frac{PRE \\times REC}{PRE+REC}\n",
        "\\end{split}\n"
      ],
      "metadata": {
        "id": "XShhbRwo3zpF"
      }
    },
    {
      "cell_type": "code",
      "source": [
        "from sklearn.metrics import f1_score\n",
        "F1 = 2*(PRE*REC)/(PRE+REC)\n",
        "print(f'F1-score: {F1:.3f}')\n",
        "F1 = f1_score(y_test, pipe_lr.predict(X_test))\n",
        "print(f'F1-score: {F1:.3f}')"
      ],
      "metadata": {
        "id": "Be58lAgY4sHc",
        "colab": {
          "base_uri": "https://localhost:8080/"
        },
        "outputId": "0c31f7fc-6236-4c62-8d7e-96451f2ca886"
      },
      "execution_count": 95,
      "outputs": [
        {
          "output_type": "stream",
          "name": "stdout",
          "text": [
            "F1-score: 0.976\n",
            "F1-score: 0.976\n"
          ]
        }
      ]
    },
    {
      "cell_type": "markdown",
      "source": [
        "#### **AUC** \n",
        "\n",
        "* ROC 곡선 아래의 면적"
      ],
      "metadata": {
        "id": "drwN42K_AsI7"
      }
    },
    {
      "cell_type": "code",
      "source": [
        "from sklearn.metrics import roc_auc_score\n",
        "print(f'AUC: {roc_auc_score(y_test, pipe_lr.predict(X_test)):.3f}')"
      ],
      "metadata": {
        "id": "0UXuXDx4AsI7",
        "colab": {
          "base_uri": "https://localhost:8080/"
        },
        "outputId": "89fe07e6-7f21-4006-8947-904d0f5f65a7"
      },
      "execution_count": 96,
      "outputs": [
        {
          "output_type": "stream",
          "name": "stdout",
          "text": [
            "AUC: 0.981\n"
          ]
        }
      ]
    },
    {
      "cell_type": "markdown",
      "source": [
        "### **| 성능 평가 기준 바꿔서 검증하기**"
      ],
      "metadata": {
        "id": "soPAPsaHXCPV"
      }
    },
    {
      "cell_type": "markdown",
      "source": [
        "* pipe_pcasvc 그리드 서치 진행하기, 성능은 AUC"
      ],
      "metadata": {
        "id": "gNij21ieXBmc"
      }
    },
    {
      "cell_type": "code",
      "source": [
        "from sklearn.model_selection import GridSearchCV\n",
        "from sklearn.metrics import make_scorer\n",
        "auc_score = make_scorer(score_func = roc_auc_score,\n",
        "                        greater_is_better = True)\n",
        "\n",
        "param_grid = [{'svc__C' : [0.1, 1, 10, 100],\n",
        "               'svc__gamma' : [0.001, 0.01, 0.1, 1],\n",
        "               'pca__n_components' : [10, 15, 20],\n",
        "               'svc__kernel': ['linear', 'rbf'],\n",
        "}]\n",
        "gs = GridSearchCV(estimator = pipe_pca_svc, \n",
        "                  scoring = auc_score,\n",
        "                  cv=10, # k=10 교차검증\n",
        "                  param_grid = param_grid, \n",
        "                  refit = True, # 훈련후 바로 사용가능\n",
        "                  return_train_score=True, # 훈련 성능 리턴\n",
        "                  )\n",
        "# gs는 하나의 모델, fit을 통해 최적의 하이퍼파라미터로 튜닝\n",
        "gs.fit(X_train, y_train)\n",
        "print(f'최적의 하이퍼파라미터 세트:{gs.best_params_}')\n",
        "print(f'훈련데이터 성능: {gs.best_score_}')\n",
        "print(f'테스트데이터 평가: {gs.score(X_test, y_test)}')"
      ],
      "metadata": {
        "id": "0oWR9XTzXBmc",
        "colab": {
          "base_uri": "https://localhost:8080/"
        },
        "outputId": "e4f091c0-e7b9-4bed-c40e-9b88b2d57225"
      },
      "execution_count": 99,
      "outputs": [
        {
          "output_type": "stream",
          "name": "stdout",
          "text": [
            "최적의 하이퍼파라미터 세트:{'pca__n_components': 15, 'svc__C': 100, 'svc__gamma': 0.001, 'svc__kernel': 'rbf'}\n",
            "훈련데이터 성능: 0.9806288032454361\n",
            "테스트데이터 평가: 0.9692460317460317\n"
          ]
        }
      ]
    },
    {
      "cell_type": "markdown",
      "source": [
        "### | ROC (Receiver Operating Characteristic)\n",
        "\n",
        "    - 분류기의 임계값을 바꾸어 가며 계산된 fPR과 TPR 점수를 시각화한 플롯\n",
        "\n",
        "    - ROC그래프의 대각선은 랜덤 추측인 경우이며 완벽한 분류기라면 왼쪽 위를 향하는 그래프가 그려진다.\n",
        "\n",
        "    - ROC곡선의 아래 면적을 ROC AUC (ROC Area Under the Curve) 라 하며 성능 지표로 사용된다.\n",
        "\n"
      ],
      "metadata": {
        "id": "w4RWpL3kAMqt"
      }
    },
    {
      "cell_type": "code",
      "source": [
        "모델의 아웃풋 (y_pred) : 0~1 확률값  - > 0.5 기준으로 나누면 0 / 1"
      ],
      "metadata": {
        "id": "vbB_EBxYCRWc"
      },
      "execution_count": null,
      "outputs": []
    },
    {
      "cell_type": "code",
      "source": [
        "from sklearn.metrics import plot_roc_curve\n",
        "\n",
        "fig, ax = plt.subplots(1)\n",
        "roc_test = plot_roc_curve(pipe_lr, \n",
        "                          X_test, y_test, \n",
        "                          ax=ax, name='Logistic Regression Testset')\n",
        "roc_train = plot_roc_curve(pipe_lr,\n",
        "                          X_train, y_train,\n",
        "                          ax=ax, name='Logistic Regression Trainset')\n",
        "\n",
        "plt.plot([0, 0, 1], [0, 1, 1],\n",
        "         linestyle=':', color='b', alpha=.5,\n",
        "         label='Perfect performance')\n",
        "plt.plot([0, 1], [0, 1],\n",
        "         linestyle=':', color='k', alpha=.5,\n",
        "         label='Random guessing')\n",
        "plt.xlim([-0.1, .2])\n",
        "plt.ylim([0.8, 1.05])\n",
        "plt.legend()\n",
        "\n",
        "plt.show()"
      ],
      "metadata": {
        "id": "dqGFjAqd8_gg",
        "colab": {
          "base_uri": "https://localhost:8080/",
          "height": 375
        },
        "outputId": "590374c2-2f9d-4f70-e161-83b9397454f6"
      },
      "execution_count": 106,
      "outputs": [
        {
          "output_type": "stream",
          "name": "stderr",
          "text": [
            "/usr/local/lib/python3.7/dist-packages/sklearn/utils/deprecation.py:87: FutureWarning: Function plot_roc_curve is deprecated; Function :func:`plot_roc_curve` is deprecated in 1.0 and will be removed in 1.2. Use one of the class methods: :meth:`sklearn.metric.RocCurveDisplay.from_predictions` or :meth:`sklearn.metric.RocCurveDisplay.from_estimator`.\n",
            "  warnings.warn(msg, category=FutureWarning)\n",
            "/usr/local/lib/python3.7/dist-packages/sklearn/utils/deprecation.py:87: FutureWarning: Function plot_roc_curve is deprecated; Function :func:`plot_roc_curve` is deprecated in 1.0 and will be removed in 1.2. Use one of the class methods: :meth:`sklearn.metric.RocCurveDisplay.from_predictions` or :meth:`sklearn.metric.RocCurveDisplay.from_estimator`.\n",
            "  warnings.warn(msg, category=FutureWarning)\n"
          ]
        },
        {
          "output_type": "display_data",
          "data": {
            "text/plain": [
              "<Figure size 432x288 with 1 Axes>"
            ],
            "image/png": "[encoded data removed]"
          },
          "metadata": {
            "needs_background": "light"
          }
        }
      ]
    },
    {
      "cell_type": "markdown",
      "source": [
        "### **| 다중 분류의 성능 지표**\n",
        "\n",
        "\n",
        "\\begin{split}\n",
        "\\end{split}\n",
        "\n",
        "* 마크로 평균 \n",
        "\n",
        "\\begin{split}\n",
        "PRE_{macro} = \\frac{PRE_1 + ... PRE_k}{k}\n",
        "\\end{split}\n",
        "\n",
        "\n",
        "* 마이크로 평균 \n",
        "\n",
        "\\begin{split}\n",
        "PRE_{micro} = \\frac{TP_1 + ... TP_k}{TP_1 + ...+ TP_k + FP_1 +  ... + FP_k}\n",
        "\\end{split}\n",
        "\n",
        "\\begin{split}\n",
        "\\end{split}\n",
        "\n",
        "\n",
        "    - 마크로 평균 방식에서는 가장 빈도 높은 클래스 레이블의 성능이 영향을 미치게 된다.\n",
        "\n",
        "    - 마이크로 평균은 각 샘플이나 예측에 동일한 가중치를 부여\n",
        "\n",
        "    - 사이킷런에서 다중 분류 모델을 평가하면 정규화 또는 가중치가 적용된 마크로 평균이 기본적으로 적용된다.\n",
        "\n",
        "    - 마크로 평균은 샘플 개수에 가중치가 부여되므로 레이블마다 샘플 개수가 다른 불균형한 클래스를 다룰 때 유용\n"
      ],
      "metadata": {
        "id": "nFurBOdnC3Am"
      }
    },
    {
      "cell_type": "code",
      "source": [
        "from sklearn.metrics import make_scorer\n",
        "\n",
        "macro = make_scorer(score_func = precision_score, \n",
        "                    pos_label = 1, \n",
        "                    greater_is_better=True) # 이진분류의 precision 동일\n",
        "\n",
        "micro = make_scorer(score_func = precision_score, \n",
        "                    pos_label = 1, \n",
        "                    greater_is_better=True,\n",
        "                    average = 'micro')"
      ],
      "metadata": {
        "id": "vUs-aXDrE0JU"
      },
      "execution_count": 107,
      "outputs": []
    },
    {
      "cell_type": "code",
      "source": [
        ""
      ],
      "metadata": {
        "id": "eSah1t2yF9iX"
      },
      "execution_count": null,
      "outputs": []
    },
    {
      "cell_type": "code",
      "source": [
        ""
      ],
      "metadata": {
        "id": "med8G0IOF4Xg"
      },
      "execution_count": null,
      "outputs": []
    }
  ]
}