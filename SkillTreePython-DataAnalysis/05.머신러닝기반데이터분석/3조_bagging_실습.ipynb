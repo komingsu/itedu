{
 "cells": [
  {
   "cell_type": "code",
   "execution_count": 1,
   "metadata": {
    "ExecuteTime": {
     "end_time": "2022-05-31T05:22:30.816904Z",
     "start_time": "2022-05-31T05:22:29.890085Z"
    },
    "id": "r-6d-c4I26dq"
   },
   "outputs": [],
   "source": [
    "import numpy as np\n",
    "import pandas as pd\n",
    "import matplotlib.pyplot as plt\n",
    "import seaborn as sns"
   ]
  },
  {
   "cell_type": "markdown",
   "metadata": {
    "id": "Bolf_EdCfHie"
   },
   "source": [
    "#### 데이터 가져오기"
   ]
  },
  {
   "cell_type": "code",
   "execution_count": 2,
   "metadata": {
    "ExecuteTime": {
     "end_time": "2022-05-31T05:22:31.438336Z",
     "start_time": "2022-05-31T05:22:30.851232Z"
    },
    "id": "6fvpM0djI89V"
   },
   "outputs": [
    {
     "name": "stdout",
     "output_type": "stream",
     "text": [
      "(178, 14)\n"
     ]
    },
    {
     "data": {
      "text/html": [
       "<div>\n",
       "<style scoped>\n",
       "    .dataframe tbody tr th:only-of-type {\n",
       "        vertical-align: middle;\n",
       "    }\n",
       "\n",
       "    .dataframe tbody tr th {\n",
       "        vertical-align: top;\n",
       "    }\n",
       "\n",
       "    .dataframe thead th {\n",
       "        text-align: right;\n",
       "    }\n",
       "</style>\n",
       "<table border=\"1\" class=\"dataframe\">\n",
       "  <thead>\n",
       "    <tr style=\"text-align: right;\">\n",
       "      <th></th>\n",
       "      <th>Class label</th>\n",
       "      <th>Alcohol</th>\n",
       "      <th>Malic acid</th>\n",
       "      <th>Ash</th>\n",
       "      <th>Alcalinity of ash</th>\n",
       "      <th>Magnesium</th>\n",
       "      <th>Total phenols</th>\n",
       "      <th>Flavanoids</th>\n",
       "      <th>Nonflavanoid phenols</th>\n",
       "      <th>Proanthocyanins</th>\n",
       "      <th>Color intensity</th>\n",
       "      <th>Hue</th>\n",
       "      <th>OD280/OD315 of diluted wines</th>\n",
       "      <th>Proline</th>\n",
       "    </tr>\n",
       "  </thead>\n",
       "  <tbody>\n",
       "    <tr>\n",
       "      <th>0</th>\n",
       "      <td>1</td>\n",
       "      <td>14.23</td>\n",
       "      <td>1.71</td>\n",
       "      <td>2.43</td>\n",
       "      <td>15.6</td>\n",
       "      <td>127</td>\n",
       "      <td>2.80</td>\n",
       "      <td>3.06</td>\n",
       "      <td>0.28</td>\n",
       "      <td>2.29</td>\n",
       "      <td>5.64</td>\n",
       "      <td>1.04</td>\n",
       "      <td>3.92</td>\n",
       "      <td>1065</td>\n",
       "    </tr>\n",
       "    <tr>\n",
       "      <th>1</th>\n",
       "      <td>1</td>\n",
       "      <td>13.20</td>\n",
       "      <td>1.78</td>\n",
       "      <td>2.14</td>\n",
       "      <td>11.2</td>\n",
       "      <td>100</td>\n",
       "      <td>2.65</td>\n",
       "      <td>2.76</td>\n",
       "      <td>0.26</td>\n",
       "      <td>1.28</td>\n",
       "      <td>4.38</td>\n",
       "      <td>1.05</td>\n",
       "      <td>3.40</td>\n",
       "      <td>1050</td>\n",
       "    </tr>\n",
       "    <tr>\n",
       "      <th>2</th>\n",
       "      <td>1</td>\n",
       "      <td>13.16</td>\n",
       "      <td>2.36</td>\n",
       "      <td>2.67</td>\n",
       "      <td>18.6</td>\n",
       "      <td>101</td>\n",
       "      <td>2.80</td>\n",
       "      <td>3.24</td>\n",
       "      <td>0.30</td>\n",
       "      <td>2.81</td>\n",
       "      <td>5.68</td>\n",
       "      <td>1.03</td>\n",
       "      <td>3.17</td>\n",
       "      <td>1185</td>\n",
       "    </tr>\n",
       "    <tr>\n",
       "      <th>3</th>\n",
       "      <td>1</td>\n",
       "      <td>14.37</td>\n",
       "      <td>1.95</td>\n",
       "      <td>2.50</td>\n",
       "      <td>16.8</td>\n",
       "      <td>113</td>\n",
       "      <td>3.85</td>\n",
       "      <td>3.49</td>\n",
       "      <td>0.24</td>\n",
       "      <td>2.18</td>\n",
       "      <td>7.80</td>\n",
       "      <td>0.86</td>\n",
       "      <td>3.45</td>\n",
       "      <td>1480</td>\n",
       "    </tr>\n",
       "    <tr>\n",
       "      <th>4</th>\n",
       "      <td>1</td>\n",
       "      <td>13.24</td>\n",
       "      <td>2.59</td>\n",
       "      <td>2.87</td>\n",
       "      <td>21.0</td>\n",
       "      <td>118</td>\n",
       "      <td>2.80</td>\n",
       "      <td>2.69</td>\n",
       "      <td>0.39</td>\n",
       "      <td>1.82</td>\n",
       "      <td>4.32</td>\n",
       "      <td>1.04</td>\n",
       "      <td>2.93</td>\n",
       "      <td>735</td>\n",
       "    </tr>\n",
       "  </tbody>\n",
       "</table>\n",
       "</div>"
      ],
      "text/plain": [
       "   Class label  Alcohol  Malic acid   Ash  Alcalinity of ash  Magnesium  \\\n",
       "0            1    14.23        1.71  2.43               15.6        127   \n",
       "1            1    13.20        1.78  2.14               11.2        100   \n",
       "2            1    13.16        2.36  2.67               18.6        101   \n",
       "3            1    14.37        1.95  2.50               16.8        113   \n",
       "4            1    13.24        2.59  2.87               21.0        118   \n",
       "\n",
       "   Total phenols  Flavanoids  Nonflavanoid phenols  Proanthocyanins  \\\n",
       "0           2.80        3.06                  0.28             2.29   \n",
       "1           2.65        2.76                  0.26             1.28   \n",
       "2           2.80        3.24                  0.30             2.81   \n",
       "3           3.85        3.49                  0.24             2.18   \n",
       "4           2.80        2.69                  0.39             1.82   \n",
       "\n",
       "   Color intensity   Hue  OD280/OD315 of diluted wines  Proline  \n",
       "0             5.64  1.04                          3.92     1065  \n",
       "1             4.38  1.05                          3.40     1050  \n",
       "2             5.68  1.03                          3.17     1185  \n",
       "3             7.80  0.86                          3.45     1480  \n",
       "4             4.32  1.04                          2.93      735  "
      ]
     },
     "execution_count": 2,
     "metadata": {},
     "output_type": "execute_result"
    }
   ],
   "source": [
    "df_wine = pd.read_csv('https://archive.ics.uci.edu/ml/'\n",
    "                      'machine-learning-databases/wine/wine.data',\n",
    "                      header=None)\n",
    "df_wine.columns = ['Class label', 'Alcohol', 'Malic acid', 'Ash',\n",
    "                   'Alcalinity of ash', 'Magnesium', 'Total phenols',\n",
    "                   'Flavanoids', 'Nonflavanoid phenols', 'Proanthocyanins',\n",
    "                   'Color intensity', 'Hue', 'OD280/OD315 of diluted wines',\n",
    "                   'Proline']\n",
    "\n",
    "print(df_wine.shape)\n",
    "df_wine.head()"
   ]
  },
  {
   "cell_type": "markdown",
   "metadata": {
    "id": "kuSG3RGgeu33"
   },
   "source": [
    "#### 학습을 위한 데이터 처리\n",
    "* 와인 클래스 2와 클래스 3만 사용 (1은 제거)"
   ]
  },
  {
   "cell_type": "code",
   "execution_count": 3,
   "metadata": {
    "ExecuteTime": {
     "end_time": "2022-05-31T05:22:53.335533Z",
     "start_time": "2022-05-31T05:22:53.320889Z"
    },
    "id": "9VLdlmwRemzJ"
   },
   "outputs": [],
   "source": [
    "# 클레스 라벨이 1인 데이터 제거\n",
    "df_wine = df_wine[df_wine[\"Class label\"]!=1]"
   ]
  },
  {
   "cell_type": "markdown",
   "metadata": {
    "id": "GbTUQ5MKe8qy"
   },
   "source": [
    "#### 전처리"
   ]
  },
  {
   "cell_type": "code",
   "execution_count": 7,
   "metadata": {
    "ExecuteTime": {
     "end_time": "2022-05-31T05:37:33.017978Z",
     "start_time": "2022-05-31T05:37:33.006975Z"
    },
    "id": "L2E2OJA22Ey8"
   },
   "outputs": [
    {
     "name": "stdout",
     "output_type": "stream",
     "text": [
      "(119, 13) (119,)\n"
     ]
    },
    {
     "data": {
      "text/plain": [
       "((95, 13), (24, 13), (95,), (24,))"
      ]
     },
     "execution_count": 7,
     "metadata": {},
     "output_type": "execute_result"
    }
   ],
   "source": [
    "from sklearn.preprocessing import LabelEncoder\n",
    "from sklearn.model_selection import train_test_split\n",
    "\n",
    "X = df_wine.drop([\"Class label\"], axis=1)\n",
    "y = df_wine[\"Class label\"]\n",
    "print(X.shape, y.shape)\n",
    "\n",
    "# 라벨 인코딩 {1, 2} -> {0, 1}\n",
    "le = LabelEncoder()\n",
    "y = le.fit_transform(y)\n",
    "\n",
    "# 훈련 테스트데이터 분리\n",
    "X_train, X_test, y_train, y_test = train_test_split(X,\n",
    "                                                    y,\n",
    "                                                    test_size=0.2,\n",
    "                                                    random_state=1,\n",
    "                                                    stratify=y)\n",
    "X_train.shape, X_test.shape, y_train.shape, y_test.shape"
   ]
  },
  {
   "cell_type": "code",
   "execution_count": 8,
   "metadata": {
    "ExecuteTime": {
     "end_time": "2022-05-31T05:37:33.416382Z",
     "start_time": "2022-05-31T05:37:33.285541Z"
    },
    "id": "0xo3GRogIdPU"
   },
   "outputs": [],
   "source": [
    "from sklearn.ensemble import RandomForestClassifier\n",
    "\n",
    "rf = RandomForestClassifier(n_estimators=10,  #  트리의 개수\n",
    "                            criterion=\"gini\", \n",
    "                            max_depth=None, # 최대 분할 개수\n",
    "                            min_samples_split=20,  # 노드를 분할하기 위한 최소한의 샘플 데이터 수, 과적합을 제어하는데 사용한다. Default = 2 → 작게 설정할 수록 분할 노드가 많아져 과적합 가능성 증가한다.\n",
    "                            min_samples_leaf=2,  #  분할하기위한 최소한의 샘플 데이터수  , 불균형 데이터의 경우 특정 클래스의 데이터가 극도로 작을 수 있으므로 작게 설정 필요\n",
    "                            min_weight_fraction_leaf=0, # min_sample_leaf와 같지만 가중치가 부여된 샘플 수에서의 비율\n",
    "                            max_features=\"auto\", # 최적의 분할을 위해 고려할 최대 피처 개수\n",
    "                                                  #int형으로 지정 →피처 갯수 / float형으로 지정 →비중\n",
    "                            max_leaf_nodes=None,  # 리프노드의 최대 개수\n",
    "                            min_impurity_decrease=0,  #최소 불순도\n",
    "                            bootstrap=True, # 복원추출 여부\n",
    "                            oob_score=False, # out_of_bag 데이터를 test 데이터로 사용할것인가.\n",
    "                            n_jobs=None,  # 적합성과 예측성을 위해 병렬로 실행할 작업 수\n",
    "                            random_state=1, \n",
    "                            verbose=0,  # 실행 과정 출력 여부\n",
    "                            warm_start=False, # 이전 호출의 솔루션을 재사용하여 합계에 더 많은 견적가를 추가\n",
    "                            class_weight=None, # 클래스 가중치\n",
    "                            ccp_alpha=0, \n",
    "                            max_samples=None # Train set의 크기\n",
    "                            )"
   ]
  },
  {
   "cell_type": "code",
   "execution_count": 17,
   "metadata": {
    "ExecuteTime": {
     "end_time": "2022-05-31T05:42:39.717182Z",
     "start_time": "2022-05-31T05:42:39.710687Z"
    },
    "id": "TRW3lIk6cRCB"
   },
   "outputs": [],
   "source": [
    "from sklearn.ensemble import BaggingClassifier\n",
    "bagging = BaggingClassifier(base_estimator=lr, # 분류모델\n",
    "                            n_estimators=10, # \n",
    "                            max_samples=1.0, # \n",
    "                            max_features=1.0, # \n",
    "                                              #int형으로 지정 → 갯수 / float형으로 지정 → 비율\n",
    "                            bootstrap=True, #\n",
    "                            bootstrap_features=True, # 각 분류모델에 들어가는 샘플에 대해서 feature 중복 사용여부\n",
    "                            oob_score=False, # 일반화 정확도를 줄이기 위해 밖의 샘플 사용 여부\n",
    "                            warm_start=False, # 이전 호출의 솔루션을 재사용하여 합계에 더 많은 견적가를 추가\n",
    "                            n_jobs=None, # 적합성과 예측성을 위해 병렬로 실행할 작업 수\n",
    "                            random_state=1, # seed 고정\n",
    "                            verbose=0  # 실행 과정 출력 여부\n",
    "                            )"
   ]
  },
  {
   "cell_type": "code",
   "execution_count": 16,
   "metadata": {
    "ExecuteTime": {
     "end_time": "2022-05-31T05:42:39.050712Z",
     "start_time": "2022-05-31T05:42:39.046090Z"
    },
    "id": "hAsWgeqBce1W"
   },
   "outputs": [],
   "source": [
    "from sklearn.linear_model import LogisticRegression\n",
    "\n",
    "lr = LogisticRegression(solver=\"liblinear\")"
   ]
  },
  {
   "cell_type": "markdown",
   "metadata": {
    "id": "CX0I3Zw6kkaQ"
   },
   "source": [
    "#### k-겹 교차검증"
   ]
  },
  {
   "cell_type": "code",
   "execution_count": 18,
   "metadata": {
    "ExecuteTime": {
     "end_time": "2022-05-31T05:42:41.010277Z",
     "start_time": "2022-05-31T05:42:40.854439Z"
    },
    "id": "5jq0Z5DekkaW"
   },
   "outputs": [
    {
     "name": "stdout",
     "output_type": "stream",
     "text": [
      "10-겹 교차검증:\n",
      "rf Acc : 0.97 (+/- 0.07)\n",
      "lr Acc : 0.96 (+/- 0.05)\n"
     ]
    }
   ],
   "source": [
    "from sklearn.model_selection import cross_val_score\n",
    "\n",
    "models = [\"rf\", \"lr\"]\n",
    "\n",
    "print('10-겹 교차검증:')\n",
    "for model in models:\n",
    "    scores = cross_val_score(estimator=eval(model),\n",
    "                             X= X_train, y=y_train, cv=10, scoring=\"accuracy\")\n",
    "    print(f'{model} Acc : {scores.mean():.2f} (+/- {scores.std():.2f})')"
   ]
  },
  {
   "cell_type": "markdown",
   "metadata": {
    "id": "Z765JfzgkkaW"
   },
   "source": [
    "#### 스코어 계산"
   ]
  },
  {
   "cell_type": "code",
   "execution_count": 21,
   "metadata": {
    "ExecuteTime": {
     "end_time": "2022-05-31T05:44:37.551103Z",
     "start_time": "2022-05-31T05:44:37.525665Z"
    },
    "id": "diKO1WZNkkaW"
   },
   "outputs": [
    {
     "name": "stdout",
     "output_type": "stream",
     "text": [
      "rf train Acc : 1.00, test Acc :1.00)\n",
      "lr train Acc : 0.99, test Acc :0.99)\n"
     ]
    }
   ],
   "source": [
    "for model in models:\n",
    "    eval(model).fit(X_train, y_train)\n",
    "    train_score = eval(model).score(X_train, y_train)\n",
    "    test_score = eval(model).score(X_train, y_train)\n",
    "    \n",
    "    print(f'{model} train Acc : {train_score:.2f}, test Acc :{test_score:.2f})')"
   ]
  },
  {
   "cell_type": "code",
   "execution_count": null,
   "metadata": {
    "id": "XNJOKXDBdLOl"
   },
   "outputs": [],
   "source": []
  }
 ],
 "metadata": {
  "colab": {
   "collapsed_sections": [],
   "name": "3조_bagging_실습.ipynb",
   "provenance": []
  },
  "kernelspec": {
   "display_name": "Python 3 (ipykernel)",
   "language": "python",
   "name": "python3"
  },
  "language_info": {
   "codemirror_mode": {
    "name": "ipython",
    "version": 3
   },
   "file_extension": ".py",
   "mimetype": "text/x-python",
   "name": "python",
   "nbconvert_exporter": "python",
   "pygments_lexer": "ipython3",
   "version": "3.7.10"
  },
  "toc": {
   "base_numbering": 1,
   "nav_menu": {},
   "number_sections": true,
   "sideBar": true,
   "skip_h1_title": false,
   "title_cell": "Table of Contents",
   "title_sidebar": "Contents",
   "toc_cell": false,
   "toc_position": {},
   "toc_section_display": true,
   "toc_window_display": false
  }
 },
 "nbformat": 4,
 "nbformat_minor": 1
}
