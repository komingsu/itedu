{
 "cells": [
  {
   "cell_type": "markdown",
   "metadata": {
    "colab_type": "text",
    "id": "view-in-github"
   },
   "source": [
    "<a href=\"https://colab.research.google.com/github/yebiny/SkillTreePython-DataAnalysis/blob/main/05.%EB%A8%B8%EC%8B%A0%EB%9F%AC%EB%8B%9D%EA%B8%B0%EB%B0%98%EB%8D%B0%EC%9D%B4%ED%84%B0%EB%B6%84%EC%84%9D/ch05_01_%EA%B8%B0%EC%B4%88%EC%88%98%ED%95%99_%EB%B2%A1%ED%84%B0%EC%99%80%ED%96%89%EB%A0%AC.ipynb\" target=\"_parent\"><img src=\"https://colab.research.google.com/assets/colab-badge.svg\" alt=\"Open In Colab\"/></a>"
   ]
  },
  {
   "cell_type": "markdown",
   "metadata": {
    "id": "wWpXZc2fi39U"
   },
   "source": [
    "# ch05.01. 기초수학 - 벡터와 행렬\n",
    "---\n",
    "* 날짜: 2022-05-12\n",
    "* 이름: 고민수\n",
    "\n",
    "## 학습내용\n",
    "    - 스칼라, 벡터, 행렬에 대한 기본 개념을 배운다\n",
    "    - 벡터의 연산에 대해 이해한다\n",
    "    - 행렬의 연산에 대해 이해한다.\n",
    "\n",
    "\n",
    "**라이브러리 임포트**\n",
    "```\n",
    "import numpy as np\n",
    "import matplotlib.pyplot as plt\n",
    "```\n"
   ]
  },
  {
   "cell_type": "code",
   "execution_count": 1,
   "metadata": {
    "id": "Yy0fwqVsVbYr"
   },
   "outputs": [],
   "source": [
    "import numpy as np\n",
    "import matplotlib.pyplot as plt"
   ]
  },
  {
   "cell_type": "markdown",
   "metadata": {
    "id": "ezw1TJA2kO_a"
   },
   "source": [
    "## 스칼라\n",
    "---\n",
    "\n",
    "* Zeros-order Tensor Operations\n",
    "\n",
    "\n",
    "\\begin{split}\n",
    "\\begin{align}\n",
    "\\ \\ a, b ∈ℝ\n",
    "\\\\\n",
    "\\end{align}\n",
    "\\end{split}\n",
    "\n",
    "\\begin{align}\n",
    "\\\\\n",
    "\\end{align}\n",
    "### **| 스칼라 연산**\n",
    "\n",
    "\\begin{split}\n",
    "\\begin{align}\n",
    "\\\\ a+b ∈ℝ \n",
    "\\\\ a-b ∈ℝ\n",
    "\\\\ a×b ∈ℝ\n",
    "\\end{align}\n",
    "\\end{split}"
   ]
  },
  {
   "cell_type": "markdown",
   "metadata": {
    "id": "UUCK0XLTkciq"
   },
   "source": [
    "## 벡터\n",
    "---\n",
    "* First-order Tensor Operation\n",
    "\n",
    "\n",
    "\\begin{split}\n",
    "\\begin{align}\n",
    "𝐱 =\n",
    "\\begin{bmatrix}\n",
    "x_1 \\\\\n",
    "x_2 \\\\\n",
    "... \\\\\n",
    "x_N \\\\\n",
    "\\end{bmatrix}\n",
    ", \\ \\ \\ \n",
    "𝐱^T =[ x_1, x_2, ..., x_N]\n",
    "\\ \\ \\, ∈ℝ^N \\ (ℝ^{N\\times 1})\n",
    "\\end{align}\n",
    "\\end{split}\n"
   ]
  },
  {
   "cell_type": "markdown",
   "metadata": {
    "id": "AHjhQ01OpmpX"
   },
   "source": [
    "\n",
    "### **| 벡터와 벡터의 연산**\n",
    "\n",
    "\\begin{split}\n",
    "\\begin{align}\n",
    "𝐱 + 𝐲 =\n",
    "\\begin{bmatrix}\n",
    "x_1 \\\\\n",
    "x_2 \\\\\n",
    "... \\\\\n",
    "x_N \\\\\n",
    "\\end{bmatrix}\n",
    "+\n",
    "\\begin{bmatrix}\n",
    "y_1 \\\\\n",
    "y_2 \\\\\n",
    "... \\\\\n",
    "y_N \\\\\n",
    "\\end{bmatrix}\n",
    "=\n",
    "\\begin{bmatrix}\n",
    "x_1 + y_1 \\\\\n",
    "x_2 + y_2  \\\\\n",
    "... \\\\\n",
    "x_N + y_N \\\\\n",
    "\\end{bmatrix}\n",
    "\\end{align}\n",
    "\\end{split}\n",
    "\n",
    "\\\\\n",
    "\n",
    "\\begin{split}\n",
    "\\begin{align}\n",
    "𝐱 - 𝐲 =\n",
    "\\begin{bmatrix}\n",
    "x_1 \\\\\n",
    "x_2 \\\\\n",
    "... \\\\\n",
    "x_N \\\\\n",
    "\\end{bmatrix}\n",
    "-\n",
    "\\begin{bmatrix}\n",
    "y_1 \\\\\n",
    "y_2 \\\\\n",
    "... \\\\\n",
    "y_N \\\\\n",
    "\\end{bmatrix}\n",
    "=\n",
    "\\begin{bmatrix}\n",
    "x_1 - y_1 \\\\\n",
    "x_2 - y_2  \\\\\n",
    "... \\\\\n",
    "x_N - y_N \\\\\n",
    "\\end{bmatrix}\n",
    "\\end{align}\n",
    "\\end{split}\n",
    "\n",
    "\\\\\n",
    "\n",
    "\\begin{split}\n",
    "\\begin{align}\n",
    "𝐱^T𝐲 = 𝐱^T ⋅ 𝐲 = <𝐱,𝐲> = \n",
    "\\begin{bmatrix}\n",
    "x_{1} & x_{2} & \\cdots & x_{N} \n",
    "\\end{bmatrix}\n",
    "\\begin{bmatrix}\n",
    "y_{1} \\\\\n",
    "y_{2} \\\\\n",
    "\\vdots \\\\\n",
    "y_{N} \\\\\n",
    "\\end{bmatrix} \n",
    "= x_1 y_1 + \\cdots + x_N y_N \n",
    "=\\sum_{i=1}^N x_i y_i\n",
    "\\end{align}\n",
    "\\end{split}\n",
    "\\\\\n",
    "\n"
   ]
  },
  {
   "cell_type": "markdown",
   "metadata": {
    "id": "QWNt0MEpeoqr"
   },
   "source": [
    "#### **예제 01**\n",
    "\n",
    "\\begin{split}\n",
    "\\begin{align}\n",
    "𝐱=\n",
    "\\begin{bmatrix}\n",
    "2 \\\\\n",
    "1 \\\\\n",
    "2 \\\\\n",
    "0 \\\\\n",
    "\\end{bmatrix}\n",
    ",\\;\\;\n",
    "𝐲=\n",
    "\\begin{bmatrix}\n",
    "1 \\\\\n",
    "1 \\\\\n",
    "2 \\\\\n",
    "4 \\\\\n",
    "\\end{bmatrix}\n",
    "\\end{align}\n",
    "\\end{split}"
   ]
  },
  {
   "cell_type": "code",
   "execution_count": 28,
   "metadata": {
    "id": "1MBfp-kcehla"
   },
   "outputs": [],
   "source": [
    "# 정확한 표현\n",
    "x = np.array([2,3])\n",
    "y = np.array([1,4])\n",
    "# 편의상 표현"
   ]
  },
  {
   "cell_type": "markdown",
   "metadata": {
    "id": "PHx6e1fVhtDh"
   },
   "source": [
    "#### **예제 02**\n",
    "\n",
    "**예제 01**의 𝐱, 𝐲 에 대해 다음 연산을 진행하세요.\n",
    "\n",
    "* 𝐱 + 𝐲\n",
    "* 𝐱 - 𝐲\n",
    "* 𝐱 ⋅ 𝐲\n",
    "* 𝐱𝐲 (넘파이 브로드 케스팅 연산)"
   ]
  },
  {
   "cell_type": "code",
   "execution_count": 29,
   "metadata": {
    "id": "tBSVL92Jd1v7"
   },
   "outputs": [
    {
     "data": {
      "text/plain": [
       "array([3, 7])"
      ]
     },
     "execution_count": 29,
     "metadata": {},
     "output_type": "execute_result"
    }
   ],
   "source": [
    "x+y"
   ]
  },
  {
   "cell_type": "code",
   "execution_count": 30,
   "metadata": {},
   "outputs": [
    {
     "data": {
      "text/plain": [
       "array([ 1, -1])"
      ]
     },
     "execution_count": 30,
     "metadata": {},
     "output_type": "execute_result"
    }
   ],
   "source": [
    "x-y"
   ]
  },
  {
   "cell_type": "code",
   "execution_count": 31,
   "metadata": {},
   "outputs": [
    {
     "data": {
      "text/plain": [
       "array([ 2, 12])"
      ]
     },
     "execution_count": 31,
     "metadata": {},
     "output_type": "execute_result"
    }
   ],
   "source": [
    "# 넘파이 브로드캐스팅\n",
    "x*y"
   ]
  },
  {
   "cell_type": "code",
   "execution_count": 32,
   "metadata": {},
   "outputs": [
    {
     "data": {
      "text/plain": [
       "14"
      ]
     },
     "execution_count": 32,
     "metadata": {},
     "output_type": "execute_result"
    }
   ],
   "source": [
    "# x*y\n",
    "np.dot(x,y)"
   ]
  },
  {
   "cell_type": "code",
   "execution_count": 33,
   "metadata": {},
   "outputs": [
    {
     "data": {
      "text/plain": [
       "array(5)"
      ]
     },
     "execution_count": 33,
     "metadata": {},
     "output_type": "execute_result"
    }
   ],
   "source": [
    "# x X y\n",
    "np.cross(x,y)"
   ]
  },
  {
   "cell_type": "code",
   "execution_count": 34,
   "metadata": {},
   "outputs": [
    {
     "data": {
      "text/plain": [
       "5.0"
      ]
     },
     "execution_count": 34,
     "metadata": {},
     "output_type": "execute_result"
    }
   ],
   "source": [
    "# 벡터의 크기\n",
    "np.linalg.norm( np.cross(x,y) ) # 평형사변형의 면적"
   ]
  },
  {
   "cell_type": "markdown",
   "metadata": {
    "id": "i7AO2yCypuOf"
   },
   "source": [
    "\n",
    "### **| 벡터와 스칼라의 연산**\n",
    "\n",
    "\\begin{split}\n",
    "\\begin{align}\n",
    "c𝐱 =\n",
    "c\n",
    "\\begin{bmatrix}\n",
    "x_1 \\\\\n",
    "x_2 \\\\\n",
    "... \\\\\n",
    "x_N \\\\\n",
    "\\end{bmatrix}\n",
    "=\n",
    "\\begin{bmatrix}\n",
    "cx_1  \\\\\n",
    "cx_2  \\\\\n",
    "... \\\\\n",
    "cx_N  \\\\\n",
    "\\end{bmatrix}\n",
    "\\end{align}\n",
    "\\end{split}\n",
    "\n",
    "\n",
    "* 브로드 캐스팅\n",
    "\n",
    "원래 덧셈과 뺄셈은 크기가 같은 두 벡터에 대해서만 할 수 있지만 벡터와 스칼라의 경우에는 관례적으로 다음과 같이 스칼라 값을 벡터로 변환하여 연산을 수행합니다.  이를 브로드 캐스팅(broad casting) 이라고 합니다.\n",
    "\n",
    "\\begin{split}\n",
    "\\begin{align}\n",
    "c+𝐱 =\n",
    "\\begin{bmatrix}\n",
    "c \\\\\n",
    "c \\\\\n",
    "... \\\\\n",
    "c \\\\\n",
    "\\end{bmatrix}\n",
    "+\n",
    "\\begin{bmatrix}\n",
    "x_1 \\\\\n",
    "x_2 \\\\\n",
    "... \\\\\n",
    "x_N \\\\\n",
    "\\end{bmatrix}\n",
    "=\n",
    "\\begin{bmatrix}\n",
    "c+x_1  \\\\\n",
    "c+x_2  \\\\\n",
    "... \\\\\n",
    "c+x_N  \\\\\n",
    "\\end{bmatrix}\n",
    "\\end{align}\n",
    "\\end{split}\n",
    "\n",
    "\\\\\n",
    "\n",
    "\\begin{split}\n",
    "\\begin{align}\n",
    "c-𝐱 =\n",
    "\\begin{bmatrix}\n",
    "c \\\\\n",
    "c \\\\\n",
    "... \\\\\n",
    "c \\\\\n",
    "\\end{bmatrix}\n",
    "-\n",
    "\\begin{bmatrix}\n",
    "x_1 \\\\\n",
    "x_2 \\\\\n",
    "... \\\\\n",
    "x_N \\\\\n",
    "\\end{bmatrix}\n",
    "=\n",
    "\\begin{bmatrix}\n",
    "c-x_1  \\\\\n",
    "c-x_2  \\\\\n",
    "... \\\\\n",
    "c-x_N  \\\\\n",
    "\\end{bmatrix}\n",
    "\\end{align}\n",
    "\\end{split}"
   ]
  },
  {
   "cell_type": "markdown",
   "metadata": {
    "id": "gn41v88LmJZ6"
   },
   "source": [
    "#### **예제 03**\n",
    "\n",
    "\\begin{split}\n",
    "\\begin{align}\n",
    "𝐱=\n",
    "\\begin{bmatrix}\n",
    "10 \\\\\n",
    "11 \\\\\n",
    "12 \\\\\n",
    "\\end{bmatrix}\n",
    ",\\;\\;\n",
    "𝐲=\n",
    "\\begin{bmatrix}\n",
    "0 \\\\\n",
    "1 \\\\\n",
    "2 \\\\\n",
    "\\end{bmatrix}\n",
    ", \\; c = 2\n",
    "\\end{align}\n",
    "\\end{split}\n",
    "\n",
    "\n"
   ]
  },
  {
   "cell_type": "markdown",
   "metadata": {
    "id": "qHbUVtFiq-JG"
   },
   "source": [
    "* 𝐱, 𝐲, c 정의하기"
   ]
  },
  {
   "cell_type": "code",
   "execution_count": 52,
   "metadata": {
    "id": "3bzsd-1Jkciq"
   },
   "outputs": [],
   "source": [
    "x = np.array([10,11,12])\n",
    "y = np.array([0,1,2])\n",
    "c = np.array([2])"
   ]
  },
  {
   "cell_type": "markdown",
   "metadata": {
    "id": "jJVfzPRFrDUu"
   },
   "source": [
    "* $c𝐱-𝐲$ "
   ]
  },
  {
   "cell_type": "code",
   "execution_count": 53,
   "metadata": {
    "id": "q9gQ6Ri8rFRO"
   },
   "outputs": [
    {
     "data": {
      "text/plain": [
       "array([20, 21, 22])"
      ]
     },
     "execution_count": 53,
     "metadata": {},
     "output_type": "execute_result"
    }
   ],
   "source": [
    "c*x-y"
   ]
  },
  {
   "cell_type": "markdown",
   "metadata": {
    "id": "J-446sswrFWZ"
   },
   "source": [
    "* $𝐱^T𝐲$"
   ]
  },
  {
   "cell_type": "code",
   "execution_count": 54,
   "metadata": {
    "id": "IUGkyIhvrL_u"
   },
   "outputs": [
    {
     "data": {
      "text/plain": [
       "35"
      ]
     },
     "execution_count": 54,
     "metadata": {},
     "output_type": "execute_result"
    }
   ],
   "source": [
    "np.dot(x,y)"
   ]
  },
  {
   "cell_type": "markdown",
   "metadata": {
    "id": "oASdmAl5rd0Y"
   },
   "source": [
    "* $2c𝐱+𝐲$"
   ]
  },
  {
   "cell_type": "code",
   "execution_count": 55,
   "metadata": {
    "id": "1cXlopvwrlRm"
   },
   "outputs": [
    {
     "data": {
      "text/plain": [
       "array([40, 45, 50])"
      ]
     },
     "execution_count": 55,
     "metadata": {},
     "output_type": "execute_result"
    }
   ],
   "source": [
    "2*c*x+y"
   ]
  },
  {
   "cell_type": "markdown",
   "metadata": {
    "id": "kDj3EemGsDkA"
   },
   "source": [
    "#### **예제 04**\n",
    "\n",
    "도매로 A, B, C 세개의 물건을 사려 하는데 한 박스당 각각 10만원, 12만원, 20만원입니다. 각각 총 5박스, 8박스, 4박스를 사려고 합니다. \n",
    "\n",
    "(1) 박스가격과 구매 수량을 각각 p 벡터, n 벡터로 표시하고 넘파이로 코딩합니다.\n",
    "\n",
    "(2) 물건을 구입할 때 드는 총 비용을 계산하세요."
   ]
  },
  {
   "cell_type": "code",
   "execution_count": 58,
   "metadata": {
    "id": "R3NDw23HsDry"
   },
   "outputs": [
    {
     "data": {
      "text/plain": [
       "2260000"
      ]
     },
     "execution_count": 58,
     "metadata": {},
     "output_type": "execute_result"
    }
   ],
   "source": [
    "p = np.array([10, 12, 20])\n",
    "n = np.array([5, 8, 4])\n",
    "(p*n).sum()*10000"
   ]
  },
  {
   "cell_type": "markdown",
   "metadata": {
    "id": "xazFR86esvwl"
   },
   "source": [
    "#### **예제 05**\n",
    "\n",
    "(1) 국어, 수학, 사회, 과학, 영어 의 시험 성적이 각각 70, 100, 90, 70, 50 입니다. 성적을 벡터 x 로 표시하고 넘파이로 코딩합니다.\n",
    "\n",
    "(2) 문과에서 과목별 가중치는 각각 0.25, 0.2, 0.2, 0.1, 0.25 입니다. 가중치를 벡터 w1 로 표시하고 넘파이로 코딩합니다.\n",
    "\n",
    "(3) 이과에서 과목별 가중치는 각각 0.15, 0.4, 0.1, 0.2, 0.15 입니다. 가중치를 벡터 w2 로 표시하고 넘파이로 코딩합니다.\n",
    "\n",
    "(4) 문과 가중치와 이과 가중치를 적용해서 성적의 총합을 계산하고 어떤 과를 가는게 유리한지 적으세요."
   ]
  },
  {
   "cell_type": "code",
   "execution_count": 61,
   "metadata": {
    "id": "w7qzzN3Hsvwr"
   },
   "outputs": [
    {
     "name": "stdout",
     "output_type": "stream",
     "text": [
      "75.0\n",
      "81.0\n",
      "삐빅 이과\n"
     ]
    }
   ],
   "source": [
    "score = np.array([70, 100, 90, 70, 50])\n",
    "w1 = np.array([0.25, 0.2, 0.2, 0.1, 0.25])\n",
    "w2 = np.array([0.15, 0.4, 0.1, 0.2, 0.15])\n",
    "\n",
    "sw1 = (score*w1).sum()\n",
    "print(sw1)\n",
    "sw2 = (score*w2).sum()\n",
    "print(sw2)\n",
    "\n",
    "if sw1>sw2:\n",
    "    print(\"삐빅 문과\")\n",
    "elif sw1<sw2:\n",
    "    print(\"삐빅 이과\")\n",
    "else:\n",
    "    print(\"황금밸런스\")"
   ]
  },
  {
   "cell_type": "markdown",
   "metadata": {
    "id": "mXAe-U8okcwj"
   },
   "source": [
    "## 행렬\n",
    "---\n",
    "\n",
    "* Second-order Tensor Operation\n",
    "\n",
    "\\begin{split}\n",
    "\\begin{align}\n",
    "A=\n",
    "\\begin{bmatrix}\n",
    "a_{11} \\ \\ \\ a_{12} \\ \\ \\ ... \\ \\ \\ a_{1M} \\\\\n",
    "a_{21} \\ \\ \\ a_{22} \\ \\ \\ ... \\ \\ \\ a_{2M} \\\\\n",
    "... \\ \\ \\ ... \\ \\ \\ ... \\ \\ \\ ... \\\\\n",
    "... \\ \\ \\ ... \\ \\ \\ a_{ij} \\ \\ \\ ... \\\\\n",
    "... \\ \\ \\ ... \\ \\ \\ ... \\ \\ \\ ... \\\\\n",
    "a_{N1} \\ \\ \\ a_{N2} \\ \\ \\ ... \\ \\ \\ a_{NM} \\\\\n",
    "\\end{bmatrix}\n",
    "\\ \\ , \\ \\ A∈ℝ^{N\\times M}\n",
    "\\end{align}\n",
    "\\end{split}\n",
    "\n"
   ]
  },
  {
   "cell_type": "markdown",
   "metadata": {
    "id": "0EBcIIAAxMdY"
   },
   "source": [
    "\n",
    "### **| 행렬과 행렬의 연산**\n",
    "\n",
    "\n",
    "* 덧셈, 뺄셈\n",
    "\n",
    "\\begin{align}\n",
    "A+(-)B=\n",
    "\\begin{bmatrix}\n",
    "a_{11} \\ \\ \\ a_{12} \\ \\ \\ ... \\ \\ \\ a_{1M} \\\\\n",
    "a_{21} \\ \\ \\ a_{22} \\ \\ \\ ... \\ \\ \\ a_{2M} \\\\\n",
    "... \\ \\ \\ ... \\ \\ \\ ... \\ \\ \\ ... \\\\\n",
    "... \\ \\ \\ ... \\ \\ \\ a_{ij} \\ \\ \\ ... \\\\\n",
    "... \\ \\ \\ ... \\ \\ \\ ... \\ \\ \\ ... \\\\\n",
    "a_{N1} \\ \\ \\ a_{N2} \\ \\ \\ ... \\ \\ \\ a_{NM} \\\\\n",
    "\\end{bmatrix}\n",
    "+(-)\n",
    "\\begin{bmatrix}\n",
    "b_{11} \\ \\ \\ b_{12} \\ \\ \\ ... \\ \\ \\ b_{1M} \\\\\n",
    "b_{21} \\ \\ \\ b_{22} \\ \\ \\ ... \\ \\ \\ b_{2M} \\\\\n",
    "... \\ \\ \\ ... \\ \\ \\ ... \\ \\ \\ ... \\\\\n",
    "... \\ \\ \\ ... \\ \\ \\ b_{ij} \\ \\ \\ ... \\\\\n",
    "... \\ \\ \\ ... \\ \\ \\ ... \\ \\ \\ ... \\\\\n",
    "b_{N1} \\ \\ \\ b_{N2} \\ \\ \\ ... \\ \\ \\ b_{NM} \\\\\n",
    "\\end{bmatrix}\n",
    "\\end{align}\n",
    "\\begin{align}\n",
    "\\\\\n",
    "\\\\\n",
    "A∈ℝ^{N\\times M} \\ \\ \\ \\ B∈ℝ^{N\\times M}\n",
    "\\\\\n",
    "\\\\\n",
    "\\end{align}\n",
    "\n",
    "\n",
    "\n",
    "\n",
    "* 곱셈\n",
    "\n",
    "\\begin{align}\n",
    "\\\\\n",
    "\\\\\n",
    "A \\ \\ \\ \\ \\ \\ \\times \\ \\ \\ \\ \\ \\ B \\ \\ \\ \\ \\ \\ =  \\ \\ \\ \\ \\ C \\\\\n",
    "\\\\\n",
    "ℝ^{N\\times M} \\ \\ \\ \\ \\ \\ \\ \\ \\ ℝ^{M\\times K} \\  \\ \\ \\ \\ \\ \\ \\ ℝ^{N\\times K}\n",
    "\\end{align}"
   ]
  },
  {
   "cell_type": "markdown",
   "metadata": {
    "id": "HZhNDpognJu2"
   },
   "source": [
    "\n",
    "\n",
    "\n",
    "### **| 행렬과 벡터의 연산**\n",
    "\n",
    "* 곱셈\n",
    "\n",
    "\\begin{align}\n",
    "\\\\\n",
    "\\\\\n",
    "A \\ \\ \\ \\ \\ \\ \\times \\ \\ \\ \\ \\ \\ 𝐱 \\ \\ \\ \\ \\ \\ =  \\ \\ \\ \\ \\ A𝐱 \\\\\n",
    "\\\\\n",
    "ℝ^{N\\times M} \\ \\ \\ \\ \\ \\ \\ \\ \\ ℝ^{M\\times 1} \\  \\ \\ \\ \\ \\ \\ \\ ℝ^{N\\times 1}\n",
    "\\end{align}\n"
   ]
  },
  {
   "cell_type": "markdown",
   "metadata": {
    "id": "V2gm-pdInTRF"
   },
   "source": [
    "#### **예제 06**\n",
    "\n",
    "\\begin{split}\n",
    "\\begin{align}\n",
    "A=\n",
    "\\begin{bmatrix}\n",
    "1 \\ \\ \\ 1 \\ \\ \\ 0 \\ \\ \\ 0 \\\\\n",
    "2 \\ \\ \\ 0 \\ \\ \\ 0 \\ \\ \\ 1 \\\\\n",
    "0 \\ \\ \\ 1 \\ \\ \\ 0 \\ \\ \\ 1 \\\\\n",
    "\\end{bmatrix}\n",
    "\\end{align}\n",
    "\\end{split}"
   ]
  },
  {
   "cell_type": "markdown",
   "metadata": {
    "id": "x6YrqquVnwod"
   },
   "source": [
    "* $A$를 정의하세요."
   ]
  },
  {
   "cell_type": "code",
   "execution_count": 62,
   "metadata": {
    "id": "rff6Ypwanwr1"
   },
   "outputs": [],
   "source": [
    "A = np.array([\n",
    "    [1,1,0,0],\n",
    "    [2,0,0,1],\n",
    "    [0,1,0,1]\n",
    "])"
   ]
  },
  {
   "cell_type": "markdown",
   "metadata": {
    "id": "oG7p3s9Hnrrl"
   },
   "source": [
    "* $A∈ℝ^{N\\times M}$ 에서 N과 M을 구하세요."
   ]
  },
  {
   "cell_type": "code",
   "execution_count": 68,
   "metadata": {
    "id": "0TxxpqptnUnv"
   },
   "outputs": [
    {
     "name": "stdout",
     "output_type": "stream",
     "text": [
      "3 4\n"
     ]
    }
   ],
   "source": [
    "N,M = A.shape\n",
    "print(N, M)"
   ]
  },
  {
   "cell_type": "markdown",
   "metadata": {
    "id": "9Y90HqUy4dvT"
   },
   "source": [
    "#### **예제 07**\n",
    "\n",
    "\\begin{split}\n",
    "\\begin{align}\n",
    "A =\n",
    "\\begin{bmatrix}\n",
    "1 \\ \\ 2 \\ \\ 3 \\\\\n",
    "4 \\ \\ 5 \\ \\ 6 \\\\\n",
    "\\end{bmatrix}\n",
    "B =\n",
    "\\begin{bmatrix}\n",
    "1 \\ \\ 0 \\ \\ 0 \\\\\n",
    "0 \\ \\ 1 \\ \\ 0 \\\\\n",
    "0 \\ \\ 0 \\ \\ 1 \\\\\n",
    "\\end{bmatrix}\n",
    ",\\;\\;\n",
    "𝐱=\n",
    "\\begin{bmatrix}\n",
    "0 \\\\\n",
    "1 \\\\\n",
    "2 \\\\\n",
    "\\end{bmatrix}\n",
    ", \\; c = 2\n",
    "\\end{align}\n",
    "\\end{split}\n",
    "\n",
    "\n"
   ]
  },
  {
   "cell_type": "markdown",
   "metadata": {
    "id": "797vmDbR4dvZ"
   },
   "source": [
    "* $A, B, 𝐱, c$ 정의하기"
   ]
  },
  {
   "cell_type": "code",
   "execution_count": 84,
   "metadata": {
    "id": "RSNbZr6_4dvZ"
   },
   "outputs": [],
   "source": [
    "A = np.array([\n",
    "    [1,2,3],\n",
    "    [4,5,6]\n",
    "])\n",
    "\n",
    "B = np.identity(3)\n",
    "\n",
    "x = np.array([0,1,2]).reshape(3,1)\n",
    "\n",
    "c = 2"
   ]
  },
  {
   "cell_type": "markdown",
   "metadata": {
    "id": "20HvJyEI4dvZ"
   },
   "source": [
    "* $cAB$ 을 계산하고 ℝ 의 변화를 쓰세요."
   ]
  },
  {
   "cell_type": "code",
   "execution_count": 85,
   "metadata": {
    "id": "5R7wMXjE4dvZ"
   },
   "outputs": [
    {
     "data": {
      "text/plain": [
       "array([[ 2.,  4.,  6.],\n",
       "       [ 8., 10., 12.]])"
      ]
     },
     "execution_count": 85,
     "metadata": {},
     "output_type": "execute_result"
    }
   ],
   "source": [
    "c*A@B"
   ]
  },
  {
   "cell_type": "markdown",
   "metadata": {
    "id": "4r79slHG4dva"
   },
   "source": [
    "* $AB𝐱$"
   ]
  },
  {
   "cell_type": "code",
   "execution_count": 86,
   "metadata": {
    "id": "OZZvs-7t4dva"
   },
   "outputs": [
    {
     "data": {
      "text/plain": [
       "array([[ 8.],\n",
       "       [17.]])"
      ]
     },
     "execution_count": 86,
     "metadata": {},
     "output_type": "execute_result"
    }
   ],
   "source": [
    "A@B@x"
   ]
  },
  {
   "cell_type": "markdown",
   "metadata": {
    "id": "R7TcJH964dva"
   },
   "source": [
    "* $𝐱^TBA^T$ 을 계산하고 ℝ 의 변화를 쓰세요."
   ]
  },
  {
   "cell_type": "code",
   "execution_count": 88,
   "metadata": {
    "id": "BJQtGchi4dva"
   },
   "outputs": [
    {
     "data": {
      "text/plain": [
       "array([[ 8., 17.]])"
      ]
     },
     "execution_count": 88,
     "metadata": {},
     "output_type": "execute_result"
    }
   ],
   "source": [
    "x.T@B@A.T"
   ]
  },
  {
   "cell_type": "markdown",
   "metadata": {
    "id": "flJGa8_N6b3c"
   },
   "source": [
    "#### **예제 08**\n",
    "\n",
    "행렬 $A$가 다음과 같이 주어졌을 때 $AB$ 행렬이 각 shape를 만족하도록 $B$를 정의하세요. 단 $B$의 값은 1부터 5까지 랜덤 정수 입니다.\n",
    "\n",
    "\\begin{split}\n",
    "\\begin{align}\n",
    "A =\n",
    "\\begin{bmatrix}\n",
    "1 \\ \\ 1 \\ \\ 1 \\ \\ 1 \\\\\n",
    "2 \\ \\ 2 \\ \\ 2 \\ \\ 2 \\\\\n",
    "\\end{bmatrix}\n",
    "\\end{align}\n",
    "\\end{split}\n",
    "\n",
    "\n",
    "\n",
    "\n"
   ]
  },
  {
   "cell_type": "markdown",
   "metadata": {
    "id": "9z6pk6Ks6b3c"
   },
   "source": [
    "* $A$ 정의하기"
   ]
  },
  {
   "cell_type": "code",
   "execution_count": 89,
   "metadata": {
    "id": "Y1rLUk0W7K91"
   },
   "outputs": [],
   "source": [
    "A = np.array([1,1,1,1,2,2,2,2]).reshape(2,4)"
   ]
  },
  {
   "cell_type": "markdown",
   "metadata": {
    "id": "axa7c9zM7LBW"
   },
   "source": [
    "* $AB \\in ℝ^{2\\times5}$ 일 때 $B$를 정의하고 $AB$를 계산하세요."
   ]
  },
  {
   "cell_type": "code",
   "execution_count": 119,
   "metadata": {},
   "outputs": [
    {
     "data": {
      "text/plain": [
       "(2, 4)"
      ]
     },
     "execution_count": 119,
     "metadata": {},
     "output_type": "execute_result"
    }
   ],
   "source": [
    "A.shape"
   ]
  },
  {
   "cell_type": "code",
   "execution_count": 114,
   "metadata": {
    "id": "MNLM4rsJ7SC3"
   },
   "outputs": [
    {
     "data": {
      "text/plain": [
       "array([[14,  9,  9, 11,  4],\n",
       "       [28, 18, 18, 22,  8]])"
      ]
     },
     "execution_count": 114,
     "metadata": {},
     "output_type": "execute_result"
    }
   ],
   "source": [
    "B = np.random.randint(1,6,20).reshape(4,5)\n",
    "A@B"
   ]
  },
  {
   "cell_type": "markdown",
   "metadata": {
    "id": "K5lR-8Gq7Zbr"
   },
   "source": [
    "* $AB \\in ℝ^{2\\times3}$ 일 때 $B$를 정의하고 $AB$를 계산하세요."
   ]
  },
  {
   "cell_type": "code",
   "execution_count": 115,
   "metadata": {
    "id": "kTv6QWNf7Zbs"
   },
   "outputs": [
    {
     "data": {
      "text/plain": [
       "array([[10,  9,  9],\n",
       "       [20, 18, 18]])"
      ]
     },
     "execution_count": 115,
     "metadata": {},
     "output_type": "execute_result"
    }
   ],
   "source": [
    "B = np.random.randint(1,6,12).reshape(4,3)\n",
    "A@B"
   ]
  },
  {
   "cell_type": "markdown",
   "metadata": {
    "id": "6T1Z7a2o7dtb"
   },
   "source": [
    "* $AB \\in ℝ^{2\\times1}$ 일 때 $B$를 정의하고 $AB$를 계산하세요."
   ]
  },
  {
   "cell_type": "code",
   "execution_count": 116,
   "metadata": {
    "id": "B8CfyOpY7dtc"
   },
   "outputs": [
    {
     "data": {
      "text/plain": [
       "array([[17],\n",
       "       [34]])"
      ]
     },
     "execution_count": 116,
     "metadata": {},
     "output_type": "execute_result"
    }
   ],
   "source": [
    "B = np.random.randint(1,6,4).reshape(4,1)\n",
    "A@B"
   ]
  },
  {
   "cell_type": "markdown",
   "metadata": {
    "id": "VdV80fUjrbRi"
   },
   "source": [
    "* $A$와 $M$ 두개의 값을 인풋으로 하면 $AB \\in ℝ^{N\\times M}$를 만족하는 랜덤행렬 $B$를 반환하도록 함수 `random_weights`를 생성하세요."
   ]
  },
  {
   "cell_type": "code",
   "execution_count": 122,
   "metadata": {
    "id": "B6Qflg8WsON9"
   },
   "outputs": [],
   "source": [
    "def random_weights(Vec, M):\n",
    "    n, m = A.shape\n",
    "    return np.random.randint(1,6,(m,M))"
   ]
  },
  {
   "cell_type": "markdown",
   "metadata": {
    "id": "qsmTEg4vwabg"
   },
   "source": [
    "* 함수 사용 예시"
   ]
  },
  {
   "cell_type": "code",
   "execution_count": 126,
   "metadata": {},
   "outputs": [
    {
     "data": {
      "text/plain": [
       "array([[2, 4, 1],\n",
       "       [3, 4, 2],\n",
       "       [4, 5, 4],\n",
       "       [1, 1, 2]])"
      ]
     },
     "execution_count": 126,
     "metadata": {},
     "output_type": "execute_result"
    }
   ],
   "source": [
    "random_weights(A,3)"
   ]
  },
  {
   "cell_type": "code",
   "execution_count": 127,
   "metadata": {
    "colab": {
     "base_uri": "https://localhost:8080/"
    },
    "id": "7_HakKX_u41-",
    "outputId": "5cc7f1f7-12da-4d35-d0f5-3ae3df4089ed"
   },
   "outputs": [
    {
     "name": "stdout",
     "output_type": "stream",
     "text": [
      "(2, 4) (4, 5) (2, 5)\n"
     ]
    }
   ],
   "source": [
    "B = random_weights(A, 5)\n",
    "print(A.shape, B.shape, (A@B).shape)"
   ]
  },
  {
   "cell_type": "code",
   "execution_count": 1,
   "metadata": {},
   "outputs": [],
   "source": [
    "###"
   ]
  },
  {
   "cell_type": "code",
   "execution_count": null,
   "metadata": {},
   "outputs": [],
   "source": []
  }
 ],
 "metadata": {
  "colab": {
   "authorship_tag": "ABX9TyPG54PV3GQZkxTS9s4xVlDd",
   "collapsed_sections": [],
   "include_colab_link": true,
   "name": "ch05_01_기초수학-벡터와행렬.ipynb",
   "provenance": []
  },
  "kernelspec": {
   "display_name": "Python 3 (ipykernel)",
   "language": "python",
   "name": "python3"
  },
  "language_info": {
   "codemirror_mode": {
    "name": "ipython",
    "version": 3
   },
   "file_extension": ".py",
   "mimetype": "text/x-python",
   "name": "python",
   "nbconvert_exporter": "python",
   "pygments_lexer": "ipython3",
   "version": "3.9.7"
  },
  "toc": {
   "base_numbering": 1,
   "nav_menu": {},
   "number_sections": true,
   "sideBar": true,
   "skip_h1_title": false,
   "title_cell": "Table of Contents",
   "title_sidebar": "Contents",
   "toc_cell": false,
   "toc_position": {},
   "toc_section_display": true,
   "toc_window_display": false
  },
  "varInspector": {
   "cols": {
    "lenName": 16,
    "lenType": 16,
    "lenVar": 40
   },
   "kernels_config": {
    "python": {
     "delete_cmd_postfix": "",
     "delete_cmd_prefix": "del ",
     "library": "var_list.py",
     "varRefreshCmd": "print(var_dic_list())"
    },
    "r": {
     "delete_cmd_postfix": ") ",
     "delete_cmd_prefix": "rm(",
     "library": "var_list.r",
     "varRefreshCmd": "cat(var_dic_list()) "
    }
   },
   "types_to_exclude": [
    "module",
    "function",
    "builtin_function_or_method",
    "instance",
    "_Feature"
   ],
   "window_display": false
  }
 },
 "nbformat": 4,
 "nbformat_minor": 1
}
