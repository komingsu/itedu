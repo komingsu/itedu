{
 "cells": [
  {
   "cell_type": "code",
   "execution_count": 1,
   "id": "df6c8bb5",
   "metadata": {
    "ExecuteTime": {
     "end_time": "2022-06-02T02:47:26.757781Z",
     "start_time": "2022-06-02T02:47:26.404477Z"
    }
   },
   "outputs": [],
   "source": [
    "import matplotlib as mpl\n",
    "import matplotlib.pyplot as plt\n",
    "import matplotlib.font_manager as fm"
   ]
  },
  {
   "cell_type": "code",
   "execution_count": 2,
   "id": "8dc636d8",
   "metadata": {
    "ExecuteTime": {
     "end_time": "2022-06-02T02:47:36.165533Z",
     "start_time": "2022-06-02T02:47:36.156531Z"
    }
   },
   "outputs": [
    {
     "data": {
      "text/plain": [
       "array([  67,   23,  -57,   36,   -3,   63,  133,  166,  264,  191,  104,\n",
       "         56,  -15,  -67, -125,  -49,   -1,   45,  113,  202,  114,  130,\n",
       "        209,  183,  106,   63,  146,  137,  225,  267,  314,  240,  165,\n",
       "        199,  164,  181,   96,  139,  237,  271,  212,  253,  265,  331,\n",
       "        401,  462,  451,  512,  538,  530], dtype=int32)"
      ]
     },
     "execution_count": 2,
     "metadata": {},
     "output_type": "execute_result"
    }
   ],
   "source": [
    "import numpy as np\n",
    "\n",
    "data = np.random.randint(-100, 100, 50).cumsum()\n",
    "data"
   ]
  },
  {
   "cell_type": "code",
   "execution_count": 3,
   "id": "0ec0d42a",
   "metadata": {
    "ExecuteTime": {
     "end_time": "2022-06-02T02:47:40.268200Z",
     "start_time": "2022-06-02T02:47:40.171471Z"
    }
   },
   "outputs": [
    {
     "data": {
      "text/plain": [
       "Text(0.5, 0, '시간(분)')"
      ]
     },
     "execution_count": 3,
     "metadata": {},
     "output_type": "execute_result"
    },
    {
     "name": "stderr",
     "output_type": "stream",
     "text": [
      "C:\\Users\\user\\miniconda3\\envs\\deep_tf\\lib\\site-packages\\matplotlib\\backends\\backend_agg.py:240: RuntimeWarning: Glyph 49884 missing from current font.\n",
      "  font.set_text(s, 0.0, flags=flags)\n",
      "C:\\Users\\user\\miniconda3\\envs\\deep_tf\\lib\\site-packages\\matplotlib\\backends\\backend_agg.py:240: RuntimeWarning: Glyph 44036 missing from current font.\n",
      "  font.set_text(s, 0.0, flags=flags)\n",
      "C:\\Users\\user\\miniconda3\\envs\\deep_tf\\lib\\site-packages\\matplotlib\\backends\\backend_agg.py:240: RuntimeWarning: Glyph 48324 missing from current font.\n",
      "  font.set_text(s, 0.0, flags=flags)\n",
      "C:\\Users\\user\\miniconda3\\envs\\deep_tf\\lib\\site-packages\\matplotlib\\backends\\backend_agg.py:240: RuntimeWarning: Glyph 44032 missing from current font.\n",
      "  font.set_text(s, 0.0, flags=flags)\n",
      "C:\\Users\\user\\miniconda3\\envs\\deep_tf\\lib\\site-packages\\matplotlib\\backends\\backend_agg.py:240: RuntimeWarning: Glyph 44201 missing from current font.\n",
      "  font.set_text(s, 0.0, flags=flags)\n",
      "C:\\Users\\user\\miniconda3\\envs\\deep_tf\\lib\\site-packages\\matplotlib\\backends\\backend_agg.py:240: RuntimeWarning: Glyph 52628 missing from current font.\n",
      "  font.set_text(s, 0.0, flags=flags)\n",
      "C:\\Users\\user\\miniconda3\\envs\\deep_tf\\lib\\site-packages\\matplotlib\\backends\\backend_agg.py:240: RuntimeWarning: Glyph 51060 missing from current font.\n",
      "  font.set_text(s, 0.0, flags=flags)\n",
      "C:\\Users\\user\\miniconda3\\envs\\deep_tf\\lib\\site-packages\\matplotlib\\backends\\backend_agg.py:240: RuntimeWarning: Glyph 48516 missing from current font.\n",
      "  font.set_text(s, 0.0, flags=flags)\n",
      "C:\\Users\\user\\miniconda3\\envs\\deep_tf\\lib\\site-packages\\matplotlib\\backends\\backend_agg.py:240: RuntimeWarning: Glyph 51452 missing from current font.\n",
      "  font.set_text(s, 0.0, flags=flags)\n",
      "C:\\Users\\user\\miniconda3\\envs\\deep_tf\\lib\\site-packages\\matplotlib\\backends\\backend_agg.py:240: RuntimeWarning: Glyph 49885 missing from current font.\n",
      "  font.set_text(s, 0.0, flags=flags)\n",
      "C:\\Users\\user\\miniconda3\\envs\\deep_tf\\lib\\site-packages\\matplotlib\\backends\\backend_agg.py:203: RuntimeWarning: Glyph 49884 missing from current font.\n",
      "  font.set_text(s, 0, flags=flags)\n",
      "C:\\Users\\user\\miniconda3\\envs\\deep_tf\\lib\\site-packages\\matplotlib\\backends\\backend_agg.py:203: RuntimeWarning: Glyph 44036 missing from current font.\n",
      "  font.set_text(s, 0, flags=flags)\n",
      "C:\\Users\\user\\miniconda3\\envs\\deep_tf\\lib\\site-packages\\matplotlib\\backends\\backend_agg.py:203: RuntimeWarning: Glyph 48516 missing from current font.\n",
      "  font.set_text(s, 0, flags=flags)\n",
      "C:\\Users\\user\\miniconda3\\envs\\deep_tf\\lib\\site-packages\\matplotlib\\backends\\backend_agg.py:203: RuntimeWarning: Glyph 51452 missing from current font.\n",
      "  font.set_text(s, 0, flags=flags)\n",
      "C:\\Users\\user\\miniconda3\\envs\\deep_tf\\lib\\site-packages\\matplotlib\\backends\\backend_agg.py:203: RuntimeWarning: Glyph 49885 missing from current font.\n",
      "  font.set_text(s, 0, flags=flags)\n",
      "C:\\Users\\user\\miniconda3\\envs\\deep_tf\\lib\\site-packages\\matplotlib\\backends\\backend_agg.py:203: RuntimeWarning: Glyph 44032 missing from current font.\n",
      "  font.set_text(s, 0, flags=flags)\n",
      "C:\\Users\\user\\miniconda3\\envs\\deep_tf\\lib\\site-packages\\matplotlib\\backends\\backend_agg.py:203: RuntimeWarning: Glyph 44201 missing from current font.\n",
      "  font.set_text(s, 0, flags=flags)\n",
      "C:\\Users\\user\\miniconda3\\envs\\deep_tf\\lib\\site-packages\\matplotlib\\backends\\backend_agg.py:203: RuntimeWarning: Glyph 48324 missing from current font.\n",
      "  font.set_text(s, 0, flags=flags)\n",
      "C:\\Users\\user\\miniconda3\\envs\\deep_tf\\lib\\site-packages\\matplotlib\\backends\\backend_agg.py:203: RuntimeWarning: Glyph 52628 missing from current font.\n",
      "  font.set_text(s, 0, flags=flags)\n",
      "C:\\Users\\user\\miniconda3\\envs\\deep_tf\\lib\\site-packages\\matplotlib\\backends\\backend_agg.py:203: RuntimeWarning: Glyph 51060 missing from current font.\n",
      "  font.set_text(s, 0, flags=flags)\n"
     ]
    },
    {
     "data": {
      "image/png": "[encoded data removed]",
      "text/plain": [
       "<Figure size 432x288 with 1 Axes>"
      ]
     },
     "metadata": {
      "needs_background": "light"
     },
     "output_type": "display_data"
    }
   ],
   "source": [
    "plt.plot(range(50), data, 'r')\n",
    "mpl.rcParams['axes.unicode_minus'] = False\n",
    "plt.title('시간별 가격 추이')\n",
    "plt.ylabel('주식 가격')\n",
    "plt.xlabel('시간(분)')"
   ]
  },
  {
   "cell_type": "code",
   "execution_count": 4,
   "id": "defbbe09",
   "metadata": {
    "ExecuteTime": {
     "end_time": "2022-06-02T02:47:54.996958Z",
     "start_time": "2022-06-02T02:47:54.981142Z"
    }
   },
   "outputs": [
    {
     "name": "stdout",
     "output_type": "stream",
     "text": [
      "버전:  3.4.2\n",
      "설치 위치:  C:\\Users\\user\\miniconda3\\envs\\deep_tf\\lib\\site-packages\\matplotlib\\__init__.py\n",
      "설정 위치:  C:\\Users\\user\\.matplotlib\n",
      "캐시 위치:  C:\\Users\\user\\.matplotlib\n"
     ]
    }
   ],
   "source": [
    "print ('버전: ', mpl.__version__)\n",
    "print ('설치 위치: ', mpl.__file__)\n",
    "print ('설정 위치: ', mpl.get_configdir())\n",
    "print ('캐시 위치: ', mpl.get_cachedir())"
   ]
  },
  {
   "cell_type": "code",
   "execution_count": 5,
   "id": "6e6ad9c8",
   "metadata": {
    "ExecuteTime": {
     "end_time": "2022-06-02T02:48:23.803642Z",
     "start_time": "2022-06-02T02:48:23.797632Z"
    }
   },
   "outputs": [
    {
     "name": "stdout",
     "output_type": "stream",
     "text": [
      "설정파일 위치:  C:\\Users\\user\\miniconda3\\envs\\deep_tf\\lib\\site-packages\\matplotlib\\mpl-data\\matplotlibrc\n"
     ]
    }
   ],
   "source": [
    "print ('설정파일 위치: ', mpl.matplotlib_fname())"
   ]
  },
  {
   "cell_type": "code",
   "execution_count": 7,
   "id": "a83c0da6",
   "metadata": {
    "ExecuteTime": {
     "end_time": "2022-06-02T02:51:11.023677Z",
     "start_time": "2022-06-02T02:51:10.989654Z"
    }
   },
   "outputs": [
    {
     "name": "stdout",
     "output_type": "stream",
     "text": [
      "178\n"
     ]
    }
   ],
   "source": [
    "font_list = fm.findSystemFonts(fontpaths=None, fontext='ttf')\n",
    "# ttf 폰트 전체갯수\n",
    "print(len(font_list)) "
   ]
  },
  {
   "cell_type": "code",
   "execution_count": 17,
   "id": "9e189214",
   "metadata": {
    "ExecuteTime": {
     "end_time": "2022-06-02T02:54:10.097263Z",
     "start_time": "2022-06-02T02:54:10.078275Z"
    }
   },
   "outputs": [
    {
     "data": {
      "text/plain": [
       "['C:\\\\Windows\\\\Fonts\\\\msyh.ttc',\n",
       " 'C:\\\\Windows\\\\Fonts\\\\SCDream5.otf',\n",
       " 'C:\\\\Windows\\\\Fonts\\\\SitkaB.ttc',\n",
       " 'C:\\\\Windows\\\\Fonts\\\\NotoSansKR-Bold.otf',\n",
       " 'C:\\\\Windows\\\\Fonts\\\\seguisb.ttf',\n",
       " 'C:\\\\Windows\\\\Fonts\\\\cambriai.ttf',\n",
       " 'C:\\\\Windows\\\\Fonts\\\\constanb.ttf',\n",
       " 'C:\\\\Windows\\\\Fonts\\\\ebrima.ttf',\n",
       " 'C:\\\\Windows\\\\Fonts\\\\batang.ttc',\n",
       " 'C:\\\\Windows\\\\Fonts\\\\consolai.ttf',\n",
       " 'C:\\\\Windows\\\\Fonts\\\\trebucit.ttf',\n",
       " 'C:\\\\Windows\\\\Fonts\\\\mmrtextb.ttf',\n",
       " 'C:\\\\Windows\\\\Fonts\\\\LeelaUIb.ttf',\n",
       " 'C:\\\\Windows\\\\Fonts\\\\calibrili.ttf',\n",
       " 'C:\\\\Windows\\\\Fonts\\\\SCDream4.otf',\n",
       " 'C:\\\\Windows\\\\Fonts\\\\georgia.ttf',\n",
       " 'C:\\\\Windows\\\\Fonts\\\\NirmalaB.ttf',\n",
       " 'C:\\\\Windows\\\\Fonts\\\\taileb.ttf',\n",
       " 'C:\\\\Windows\\\\Fonts\\\\SCDream2.otf',\n",
       " 'C:\\\\Windows\\\\Fonts\\\\framdit.ttf',\n",
       " 'C:\\\\Windows\\\\Fonts\\\\l_10646.ttf',\n",
       " 'C:\\\\Windows\\\\Fonts\\\\trebuc.ttf',\n",
       " 'C:\\\\Windows\\\\Fonts\\\\msyhbd.ttc',\n",
       " 'C:\\\\Windows\\\\Fonts\\\\Sitka.ttc',\n",
       " 'C:\\\\Windows\\\\Fonts\\\\NirmalaS.ttf',\n",
       " 'C:\\\\Windows\\\\Fonts\\\\arialbd.ttf',\n",
       " 'C:\\\\Windows\\\\Fonts\\\\marlett.ttf',\n",
       " 'C:\\\\Windows\\\\Fonts\\\\taile.ttf',\n",
       " 'C:\\\\Windows\\\\Fonts\\\\NanumMyeongjoBold.ttf',\n",
       " 'C:\\\\Windows\\\\Fonts\\\\monbaiti.ttf',\n",
       " 'C:\\\\Windows\\\\Fonts\\\\seguibl.ttf',\n",
       " 'C:\\\\Windows\\\\Fonts\\\\NanumSquareEB.ttf',\n",
       " 'C:\\\\Windows\\\\Fonts\\\\NanumMyeongjo.ttf',\n",
       " 'C:\\\\Windows\\\\Fonts\\\\constani.ttf',\n",
       " 'C:\\\\Windows\\\\Fonts\\\\courbi.ttf',\n",
       " 'C:\\\\Windows\\\\Fonts\\\\segoeuii.ttf',\n",
       " 'C:\\\\Windows\\\\Fonts\\\\SCDream1.otf',\n",
       " 'C:\\\\Windows\\\\Fonts\\\\msgothic.ttc',\n",
       " 'C:\\\\Windows\\\\Fonts\\\\SCDream8.otf',\n",
       " 'C:\\\\Windows\\\\Fonts\\\\YuGothB.ttc',\n",
       " 'C:\\\\Windows\\\\Fonts\\\\verdanai.ttf',\n",
       " 'C:\\\\Windows\\\\Fonts\\\\constanz.ttf',\n",
       " 'C:\\\\Windows\\\\Fonts\\\\NotoSansKR-Medium.otf',\n",
       " 'C:\\\\Windows\\\\Fonts\\\\Candarai.ttf',\n",
       " 'C:\\\\Windows\\\\Fonts\\\\NanumBarunGothicLight.ttf',\n",
       " 'C:\\\\Windows\\\\Fonts\\\\seguisym.ttf',\n",
       " 'C:\\\\Windows\\\\Fonts\\\\SCDream3.otf',\n",
       " 'C:\\\\Windows\\\\Fonts\\\\palai.ttf',\n",
       " 'C:\\\\Windows\\\\Fonts\\\\NotoSansKR-Black.otf',\n",
       " 'C:\\\\Windows\\\\Fonts\\\\segoeuil.ttf',\n",
       " 'C:\\\\Windows\\\\Fonts\\\\NanumGothicLight.ttf',\n",
       " 'C:\\\\Windows\\\\Fonts\\\\trebucbi.ttf',\n",
       " 'C:\\\\Windows\\\\Fonts\\\\ntailub.ttf',\n",
       " 'C:\\\\Windows\\\\Fonts\\\\msyhl.ttc',\n",
       " 'C:\\\\Windows\\\\Fonts\\\\SCDream6.otf',\n",
       " 'C:\\\\Windows\\\\Fonts\\\\corbeli.ttf',\n",
       " 'C:\\\\Windows\\\\Fonts\\\\Gabriola.ttf',\n",
       " 'C:\\\\Windows\\\\Fonts\\\\YuGothL.ttc',\n",
       " 'C:\\\\Windows\\\\Fonts\\\\NanumGothicBold.ttf',\n",
       " 'C:\\\\Windows\\\\Fonts\\\\malgunbd.ttf',\n",
       " 'C:\\\\Windows\\\\Fonts\\\\NanumBarunGothicBold.ttf',\n",
       " 'C:\\\\Windows\\\\Fonts\\\\segoeuisl.ttf',\n",
       " 'C:\\\\Windows\\\\Fonts\\\\tahomabd.ttf',\n",
       " 'C:\\\\Windows\\\\Fonts\\\\corbelli.ttf',\n",
       " 'C:\\\\Windows\\\\Fonts\\\\simsunb.ttf',\n",
       " 'C:\\\\Windows\\\\Fonts\\\\NanumGothicExtraBold.ttf',\n",
       " 'C:\\\\Windows\\\\Fonts\\\\consolaz.ttf',\n",
       " 'C:\\\\Windows\\\\Fonts\\\\comic.ttf',\n",
       " 'C:\\\\Windows\\\\Fonts\\\\SitkaI.ttc',\n",
       " 'C:\\\\Windows\\\\Fonts\\\\impact.ttf',\n",
       " 'C:\\\\Windows\\\\Fonts\\\\segoepr.ttf',\n",
       " 'C:\\\\Windows\\\\Fonts\\\\comicz.ttf',\n",
       " 'C:\\\\Windows\\\\Fonts\\\\segmdl2.ttf',\n",
       " 'C:\\\\Windows\\\\Fonts\\\\NanumMyeongjoExtraBold.ttf',\n",
       " 'C:\\\\Windows\\\\Fonts\\\\corbel.ttf',\n",
       " 'C:\\\\Windows\\\\Fonts\\\\SCDream7.otf',\n",
       " 'C:\\\\Windows\\\\Fonts\\\\cambriab.ttf',\n",
       " 'C:\\\\Windows\\\\Fonts\\\\LeelUIsl.ttf',\n",
       " 'C:\\\\Windows\\\\Fonts\\\\calibrib.ttf',\n",
       " 'C:\\\\Windows\\\\Fonts\\\\NanumBrush.ttf',\n",
       " 'C:\\\\Windows\\\\Fonts\\\\consola.ttf',\n",
       " 'C:\\\\Windows\\\\Fonts\\\\palabi.ttf',\n",
       " 'C:\\\\Windows\\\\Fonts\\\\lucon.ttf',\n",
       " 'C:\\\\Windows\\\\Fonts\\\\msyi.ttf',\n",
       " 'C:\\\\Windows\\\\Fonts\\\\consolab.ttf',\n",
       " 'C:\\\\Windows\\\\Fonts\\\\msjhl.ttc',\n",
       " 'C:\\\\Windows\\\\Fonts\\\\ebrimabd.ttf',\n",
       " 'C:\\\\Windows\\\\Fonts\\\\segoeprb.ttf',\n",
       " 'C:\\\\Windows\\\\Fonts\\\\NotoSansKR-Thin.otf',\n",
       " 'C:\\\\Windows\\\\Fonts\\\\times.ttf',\n",
       " 'C:\\\\Windows\\\\Fonts\\\\malgunsl.ttf',\n",
       " 'C:\\\\Windows\\\\Fonts\\\\seguili.ttf',\n",
       " 'C:\\\\Windows\\\\Fonts\\\\msjhbd.ttc',\n",
       " 'C:\\\\Windows\\\\Fonts\\\\comicbd.ttf',\n",
       " 'C:\\\\Windows\\\\Fonts\\\\cambriaz.ttf',\n",
       " 'C:\\\\Windows\\\\Fonts\\\\YuGothM.ttc',\n",
       " 'C:\\\\Windows\\\\Fonts\\\\cour.ttf',\n",
       " 'C:\\\\Windows\\\\Fonts\\\\palab.ttf',\n",
       " 'C:\\\\Windows\\\\Fonts\\\\comici.ttf',\n",
       " 'C:\\\\Windows\\\\Fonts\\\\verdanaz.ttf',\n",
       " 'C:\\\\Windows\\\\Fonts\\\\segoeui.ttf',\n",
       " 'C:\\\\Windows\\\\Fonts\\\\verdana.ttf',\n",
       " 'C:\\\\Windows\\\\Fonts\\\\SitkaZ.ttc',\n",
       " 'C:\\\\Windows\\\\Fonts\\\\calibriz.ttf',\n",
       " 'C:\\\\Windows\\\\Fonts\\\\ariblk.ttf',\n",
       " 'C:\\\\Windows\\\\Fonts\\\\ariali.ttf',\n",
       " 'C:\\\\Windows\\\\Fonts\\\\himalaya.ttf',\n",
       " 'C:\\\\Windows\\\\Fonts\\\\seguihis.ttf',\n",
       " 'C:\\\\Windows\\\\Fonts\\\\cambria.ttc',\n",
       " 'C:\\\\Windows\\\\Fonts\\\\corbelb.ttf',\n",
       " 'C:\\\\Windows\\\\Fonts\\\\NanumGothic.ttf',\n",
       " 'C:\\\\Windows\\\\Fonts\\\\gulim.ttc',\n",
       " 'C:\\\\Windows\\\\Fonts\\\\timesbi.ttf',\n",
       " 'C:\\\\Windows\\\\Fonts\\\\tahoma.ttf',\n",
       " 'C:\\\\Windows\\\\Fonts\\\\pala.ttf',\n",
       " 'C:\\\\Windows\\\\Fonts\\\\LeelawUI.ttf',\n",
       " 'C:\\\\Windows\\\\Fonts\\\\NanumBarunGothicUltraLight.ttf',\n",
       " 'C:\\\\Windows\\\\Fonts\\\\Candarali.ttf',\n",
       " 'C:\\\\Windows\\\\Fonts\\\\mingliub.ttc',\n",
       " 'C:\\\\Windows\\\\Fonts\\\\holomdl2.ttf',\n",
       " 'C:\\\\Windows\\\\Fonts\\\\phagspab.ttf',\n",
       " 'C:\\\\Windows\\\\Fonts\\\\mmrtext.ttf',\n",
       " 'C:\\\\Windows\\\\Fonts\\\\NanumSquareR.ttf',\n",
       " 'C:\\\\Windows\\\\Fonts\\\\symbol.ttf',\n",
       " 'C:\\\\Windows\\\\Fonts\\\\YuGothR.ttc',\n",
       " 'C:\\\\Windows\\\\Fonts\\\\corbelz.ttf',\n",
       " 'C:\\\\Windows\\\\Fonts\\\\constan.ttf',\n",
       " 'C:\\\\Windows\\\\Fonts\\\\msjh.ttc',\n",
       " 'C:\\\\Windows\\\\Fonts\\\\micross.ttf',\n",
       " 'C:\\\\Windows\\\\Fonts\\\\NotoSansKR-Regular.otf',\n",
       " 'C:\\\\Windows\\\\Fonts\\\\gadugib.ttf',\n",
       " 'C:\\\\Windows\\\\Fonts\\\\Candaral.ttf',\n",
       " 'C:\\\\Windows\\\\Fonts\\\\NanumSquareB.ttf',\n",
       " 'C:\\\\Windows\\\\Fonts\\\\javatext.ttf',\n",
       " 'C:\\\\Windows\\\\Fonts\\\\segoesc.ttf',\n",
       " 'C:\\\\Windows\\\\Fonts\\\\Inkfree.ttf',\n",
       " 'C:\\\\Windows\\\\Fonts\\\\georgiaz.ttf',\n",
       " 'C:\\\\Windows\\\\Fonts\\\\NanumSquareL.ttf',\n",
       " 'C:\\\\Windows\\\\Fonts\\\\seguisli.ttf',\n",
       " 'C:\\\\Windows\\\\Fonts\\\\phagspa.ttf',\n",
       " 'C:\\\\Windows\\\\Fonts\\\\Candaraz.ttf',\n",
       " 'C:\\\\Windows\\\\Fonts\\\\wingding.ttf',\n",
       " 'C:\\\\Windows\\\\Fonts\\\\trebucbd.ttf',\n",
       " 'C:\\\\Windows\\\\Fonts\\\\georgiai.ttf',\n",
       " 'C:\\\\Windows\\\\Fonts\\\\couri.ttf',\n",
       " 'C:\\\\Windows\\\\Fonts\\\\malgun.ttf',\n",
       " 'C:\\\\Windows\\\\Fonts\\\\gadugi.ttf',\n",
       " 'C:\\\\Windows\\\\Fonts\\\\webdings.ttf',\n",
       " 'C:\\\\Windows\\\\Fonts\\\\segoescb.ttf',\n",
       " 'C:\\\\Windows\\\\Fonts\\\\seguibli.ttf',\n",
       " 'C:\\\\Windows\\\\Fonts\\\\segoeuib.ttf',\n",
       " 'C:\\\\Windows\\\\Fonts\\\\calibril.ttf',\n",
       " 'C:\\\\Windows\\\\Fonts\\\\arial.ttf',\n",
       " 'C:\\\\Windows\\\\Fonts\\\\simsun.ttc',\n",
       " 'C:\\\\Windows\\\\Fonts\\\\seguisbi.ttf',\n",
       " 'C:\\\\Windows\\\\Fonts\\\\timesi.ttf',\n",
       " 'C:\\\\Windows\\\\Fonts\\\\segoeuiz.ttf',\n",
       " 'C:\\\\Windows\\\\Fonts\\\\bahnschrift.ttf',\n",
       " 'C:\\\\Windows\\\\Fonts\\\\sylfaen.ttf',\n",
       " 'C:\\\\Windows\\\\Fonts\\\\NanumBarunGothic.ttf',\n",
       " 'C:\\\\Windows\\\\Fonts\\\\ntailu.ttf',\n",
       " 'C:\\\\Windows\\\\Fonts\\\\seguiemj.ttf',\n",
       " 'C:\\\\Windows\\\\Fonts\\\\timesbd.ttf',\n",
       " 'C:\\\\Windows\\\\Fonts\\\\Candara.ttf',\n",
       " 'C:\\\\Windows\\\\Fonts\\\\calibri.ttf',\n",
       " 'C:\\\\Windows\\\\Fonts\\\\verdanab.ttf',\n",
       " 'C:\\\\Windows\\\\Fonts\\\\Candarab.ttf',\n",
       " 'C:\\\\Windows\\\\Fonts\\\\mvboli.ttf',\n",
       " 'C:\\\\Windows\\\\Fonts\\\\georgiab.ttf',\n",
       " 'C:\\\\Windows\\\\Fonts\\\\Nirmala.ttf',\n",
       " 'C:\\\\Windows\\\\Fonts\\\\framd.ttf',\n",
       " 'C:\\\\Windows\\\\Fonts\\\\calibrii.ttf',\n",
       " 'C:\\\\Windows\\\\Fonts\\\\arialbi.ttf',\n",
       " 'C:\\\\Windows\\\\Fonts\\\\SCDream9.otf',\n",
       " 'C:\\\\Windows\\\\Fonts\\\\NanumPen.ttf',\n",
       " 'C:\\\\Windows\\\\Fonts\\\\NotoSansKR-Light.otf',\n",
       " 'C:\\\\Windows\\\\Fonts\\\\courbd.ttf',\n",
       " 'C:\\\\Windows\\\\Fonts\\\\corbell.ttf']"
      ]
     },
     "execution_count": 17,
     "metadata": {},
     "output_type": "execute_result"
    }
   ],
   "source": [
    "font_list"
   ]
  },
  {
   "cell_type": "code",
   "execution_count": 19,
   "id": "99a1f821",
   "metadata": {
    "ExecuteTime": {
     "end_time": "2022-06-02T02:54:45.544220Z",
     "start_time": "2022-06-02T02:54:45.533095Z"
    }
   },
   "outputs": [
    {
     "data": {
      "text/plain": [
       "[('NanumBarunGothic', 'C:\\\\Windows\\\\Fonts\\\\NanumBarunGothicUltraLight.ttf'),\n",
       " ('Nanum Pen Script', 'C:\\\\Windows\\\\Fonts\\\\NanumPen.ttf'),\n",
       " ('NanumGothic', 'C:\\\\Windows\\\\Fonts\\\\NanumGothic.ttf'),\n",
       " ('NanumBarunGothic', 'C:\\\\Windows\\\\Fonts\\\\NanumBarunGothic.ttf'),\n",
       " ('NanumSquare', 'C:\\\\Windows\\\\Fonts\\\\NanumSquareB.ttf'),\n",
       " ('NanumGothic', 'C:\\\\Windows\\\\Fonts\\\\NanumGothicBold.ttf'),\n",
       " ('NanumSquare', 'C:\\\\Windows\\\\Fonts\\\\NanumSquareL.ttf'),\n",
       " ('NanumMyeongjo', 'C:\\\\Windows\\\\Fonts\\\\NanumMyeongjo.ttf'),\n",
       " ('NanumSquare', 'C:\\\\Windows\\\\Fonts\\\\NanumSquareR.ttf'),\n",
       " ('NanumGothic', 'C:\\\\Windows\\\\Fonts\\\\NanumGothicLight.ttf'),\n",
       " ('NanumBarunGothic', 'C:\\\\Windows\\\\Fonts\\\\NanumBarunGothicLight.ttf'),\n",
       " ('NanumMyeongjo', 'C:\\\\Windows\\\\Fonts\\\\NanumMyeongjoBold.ttf'),\n",
       " ('Nanum Brush Script', 'C:\\\\Windows\\\\Fonts\\\\NanumBrush.ttf'),\n",
       " ('NanumMyeongjo', 'C:\\\\Windows\\\\Fonts\\\\NanumMyeongjoExtraBold.ttf'),\n",
       " ('NanumSquare', 'C:\\\\Windows\\\\Fonts\\\\NanumSquareEB.ttf'),\n",
       " ('NanumGothic', 'C:\\\\Windows\\\\Fonts\\\\NanumGothicExtraBold.ttf'),\n",
       " ('NanumBarunGothic', 'C:\\\\Windows\\\\Fonts\\\\NanumBarunGothicBold.ttf')]"
      ]
     },
     "execution_count": 19,
     "metadata": {},
     "output_type": "execute_result"
    }
   ],
   "source": [
    "[(f.name, f.fname) for f in fm.fontManager.ttflist if 'Nanum' in f.name]"
   ]
  },
  {
   "cell_type": "code",
   "execution_count": null,
   "id": "4a30b567",
   "metadata": {},
   "outputs": [],
   "source": []
  }
 ],
 "metadata": {
  "kernelspec": {
   "display_name": "Python 3 (ipykernel)",
   "language": "python",
   "name": "python3"
  },
  "language_info": {
   "codemirror_mode": {
    "name": "ipython",
    "version": 3
   },
   "file_extension": ".py",
   "mimetype": "text/x-python",
   "name": "python",
   "nbconvert_exporter": "python",
   "pygments_lexer": "ipython3",
   "version": "3.8.13"
  },
  "toc": {
   "base_numbering": 1,
   "nav_menu": {},
   "number_sections": true,
   "sideBar": true,
   "skip_h1_title": false,
   "title_cell": "Table of Contents",
   "title_sidebar": "Contents",
   "toc_cell": false,
   "toc_position": {},
   "toc_section_display": true,
   "toc_window_display": false
  }
 },
 "nbformat": 4,
 "nbformat_minor": 5
}
