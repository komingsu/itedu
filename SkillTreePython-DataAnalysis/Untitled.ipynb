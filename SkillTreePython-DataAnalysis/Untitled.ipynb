{
 "cells": [
  {
   "cell_type": "code",
   "execution_count": 17,
   "id": "2e18c355",
   "metadata": {},
   "outputs": [
    {
     "data": {
      "text/plain": [
       "['.', '.', '1', '2', '3']"
      ]
     },
     "execution_count": 17,
     "metadata": {},
     "output_type": "execute_result"
    }
   ],
   "source": [
    "from collections import deque\n",
    "n = 5\n",
    "s = \"123456\"\n",
    "s = \".\"*n+s\n",
    "qs = deque(s)\n",
    "t=3\n",
    "qs.rotate(-t)\n",
    "sqs=list(qs)\n",
    "sqs[:n]"
   ]
  },
  {
   "cell_type": "code",
   "execution_count": 22,
   "id": "31d05244",
   "metadata": {},
   "outputs": [],
   "source": [
    "def solution(n, s, t):\n",
    "    from collections import deque\n",
    "\n",
    "    s = \".\"*n+s\n",
    "\n",
    "    qs = deque(s)\n",
    "\n",
    "    qs.rotate(-t)\n",
    "    sqs=list(qs)[:n]\n",
    "    answer = \"\".join(sqs)\n",
    "    return answer"
   ]
  },
  {
   "cell_type": "code",
   "execution_count": 23,
   "id": "d2bc9782",
   "metadata": {},
   "outputs": [
    {
     "name": "stdout",
     "output_type": "stream",
     "text": [
      "첫번째  3 1234567 3\n",
      "...1234567\n",
      "deque(['.', '.', '.', '1', '2', '3', '4', '5', '6', '7'])\n"
     ]
    },
    {
     "data": {
      "text/plain": [
       "'123'"
      ]
     },
     "execution_count": 23,
     "metadata": {},
     "output_type": "execute_result"
    }
   ],
   "source": [
    "solution(3,\"1234567\",3)"
   ]
  },
  {
   "cell_type": "code",
   "execution_count": 40,
   "id": "03c725c9",
   "metadata": {},
   "outputs": [
    {
     "data": {
      "text/plain": [
       "0    1\n",
       "1    1\n",
       "2    1\n",
       "Name: 0, dtype: int64"
      ]
     },
     "execution_count": 40,
     "metadata": {},
     "output_type": "execute_result"
    }
   ],
   "source": [
    "import pandas as pd\n",
    "a = pd.DataFrame([[1, 0, 1], [1, 1, 1], [1, 1, 1]])\n",
    "a[0]"
   ]
  },
  {
   "cell_type": "code",
   "execution_count": 47,
   "id": "5c3968cc",
   "metadata": {},
   "outputs": [
    {
     "name": "stdout",
     "output_type": "stream",
     "text": [
      "hi\n"
     ]
    }
   ],
   "source": [
    "a = [[1, 0, 1], [1, 1, 1], [1, 1, 1]]\n",
    "if a[0][1]==0:\n",
    "    print(\"hi\")"
   ]
  },
  {
   "cell_type": "code",
   "execution_count": 407,
   "id": "a86b0efc",
   "metadata": {},
   "outputs": [
    {
     "name": "stdout",
     "output_type": "stream",
     "text": [
      "[[0, 1], [2, 0]]\n"
     ]
    },
    {
     "data": {
      "text/plain": [
       "[[3, 2, 3], [2, 2, 4], [2, 2, 4]]"
      ]
     },
     "execution_count": 407,
     "metadata": {},
     "output_type": "execute_result"
    }
   ],
   "source": [
    "city = [[1, 0, 1], [1, 1, 1], [0, 1, 1]]\n",
    "h = len(city)\n",
    "w = len(city[0])\n",
    "bus = []\n",
    "h_s = 0\n",
    "w_s = 0\n",
    "for i in range(h):\n",
    "    for j in range(w):\n",
    "        if city[i][j]==0:\n",
    "            bus.append([i,j])\n",
    "        else:\n",
    "            city[i][j]=0\n",
    "print(bus)\n",
    "for bus_h, bus_w in bus:\n",
    "    for i in range(h):\n",
    "        for j in range(w):\n",
    "            h_s = abs(bus_h-i)\n",
    "            w_s = abs(bus_w-j)\n",
    "            if city[i][j]<=h_s:\n",
    "                city[i][j]+=h_s\n",
    "            if city[i][j]<=w_s:\n",
    "                city[i][j]+=w_s\n",
    "city"
   ]
  },
  {
   "cell_type": "code",
   "execution_count": 396,
   "id": "02d3f2b4",
   "metadata": {},
   "outputs": [
    {
     "data": {
      "text/plain": [
       "[[0, 0, 1], [0, 0, 1], [0, 1, 1]]"
      ]
     },
     "execution_count": 396,
     "metadata": {},
     "output_type": "execute_result"
    }
   ],
   "source": [
    "city"
   ]
  },
  {
   "cell_type": "code",
   "execution_count": 109,
   "id": "8463c663",
   "metadata": {},
   "outputs": [],
   "source": [
    "def solution(area):\n",
    "    n = 2\n",
    "    data = []\n",
    "    while n <= area:\n",
    "        if area % n == 0:\n",
    "                area /= n\n",
    "                data.append(n)\n",
    "        else:\n",
    "            n += 1\n",
    "    \n",
    "    input1 = area\n",
    "    lst=[]\n",
    "    t = 1\n",
    "    \n",
    "    lst.append([t,input1])\n",
    "    for i in data:\n",
    "        t=t*i\n",
    "        input1=int(input1/i)\n",
    "        lst.append([t,input1])\n",
    "\n",
    "    flag = 10000\n",
    "    flag_c = 0\n",
    "    for i in range(len(lst)):\n",
    "        temp = abs(lst[i][0]-lst[i][1])\n",
    "        if temp<= flag:\n",
    "            flag = temp\n",
    "            flag_c = i\n",
    "    return lst[flag_c]"
   ]
  },
  {
   "cell_type": "code",
   "execution_count": 110,
   "id": "d590b9a4",
   "metadata": {},
   "outputs": [
    {
     "data": {
      "text/plain": [
       "[1, 1.0]"
      ]
     },
     "execution_count": 110,
     "metadata": {},
     "output_type": "execute_result"
    }
   ],
   "source": [
    "solution(54)"
   ]
  },
  {
   "cell_type": "code",
   "execution_count": 103,
   "id": "f6655fc8",
   "metadata": {},
   "outputs": [
    {
     "data": {
      "text/plain": [
       "[2, 3, 3, 3]"
      ]
     },
     "execution_count": 103,
     "metadata": {},
     "output_type": "execute_result"
    }
   ],
   "source": [
    "input1 = 54\n",
    "data = solution(input1)\n",
    "data"
   ]
  },
  {
   "cell_type": "code",
   "execution_count": 104,
   "id": "b4e2f5f3",
   "metadata": {},
   "outputs": [],
   "source": [
    "lst=[]\n",
    "t = 1\n",
    "lst.append([t,input1])\n",
    "for i in data:\n",
    "    t=t*i\n",
    "    input1=int(input1/i)\n",
    "    lst.append([t,input1])"
   ]
  },
  {
   "cell_type": "code",
   "execution_count": 105,
   "id": "edcd0d92",
   "metadata": {},
   "outputs": [
    {
     "data": {
      "text/plain": [
       "[[1, 54], [2, 27], [6, 9], [18, 3], [54, 1]]"
      ]
     },
     "execution_count": 105,
     "metadata": {},
     "output_type": "execute_result"
    }
   ],
   "source": [
    "lst"
   ]
  },
  {
   "cell_type": "code",
   "execution_count": 106,
   "id": "49fda118",
   "metadata": {},
   "outputs": [],
   "source": [
    "flag = 10000\n",
    "flag_c = 0\n",
    "for i in range(len(lst)):\n",
    "    temp = abs(lst[i][0]-lst[i][1])\n",
    "    if temp<= flag:\n",
    "        flag = temp\n",
    "        flag_c = i"
   ]
  },
  {
   "cell_type": "code",
   "execution_count": 107,
   "id": "add0ed7c",
   "metadata": {},
   "outputs": [
    {
     "data": {
      "text/plain": [
       "2"
      ]
     },
     "execution_count": 107,
     "metadata": {},
     "output_type": "execute_result"
    }
   ],
   "source": [
    "flag_c"
   ]
  },
  {
   "cell_type": "code",
   "execution_count": 108,
   "id": "2ae29d68",
   "metadata": {},
   "outputs": [
    {
     "data": {
      "text/plain": [
       "[6, 9]"
      ]
     },
     "execution_count": 108,
     "metadata": {},
     "output_type": "execute_result"
    }
   ],
   "source": [
    "lst[2]"
   ]
  },
  {
   "cell_type": "code",
   "execution_count": 143,
   "id": "01fd55e5",
   "metadata": {},
   "outputs": [
    {
     "name": "stdout",
     "output_type": "stream",
     "text": [
      "[[1, 58742], [2, 29371], [46, 1277], [1, 58742]]\n",
      "58741\n",
      "29369\n",
      "1231\n",
      "58741\n"
     ]
    }
   ],
   "source": [
    "area = 58742\n",
    "save = area\n",
    "n = 2\n",
    "data = []\n",
    "while n <= area:\n",
    "    if area % n == 0:\n",
    "            area /= n\n",
    "            data.append(n)\n",
    "    else:\n",
    "        n += 1\n",
    "\n",
    "lst=[]\n",
    "t = 1\n",
    "lst.append([t,save])\n",
    "for i in data:\n",
    "    t=t*i\n",
    "    save=int(save/i)\n",
    "    if t>=save:\n",
    "        lst.append([save,t])\n",
    "    else:\n",
    "        lst.append([t,save])\n",
    "\n",
    "print(lst)\n",
    "flag = 1000000\n",
    "flag_c = 0\n",
    "for i in range(len(lst)):\n",
    "    temp = abs(lst[i][0]-lst[i][1])\n",
    "    print(temp)\n",
    "    if temp< flag:\n",
    "        flag = temp\n",
    "        flag_c = i"
   ]
  },
  {
   "cell_type": "code",
   "execution_count": 144,
   "id": "c0f1d6fb",
   "metadata": {},
   "outputs": [
    {
     "data": {
      "text/plain": [
       "[46, 1277]"
      ]
     },
     "execution_count": 144,
     "metadata": {},
     "output_type": "execute_result"
    }
   ],
   "source": [
    "lst[flag_c]"
   ]
  },
  {
   "cell_type": "code",
   "execution_count": 149,
   "id": "41551260",
   "metadata": {},
   "outputs": [
    {
     "data": {
      "text/plain": [
       "[1]"
      ]
     },
     "execution_count": 149,
     "metadata": {},
     "output_type": "execute_result"
    }
   ],
   "source": [
    "n=40\n",
    "lst = []\n",
    "flag2 = 1\n",
    "while n >= 1:\n",
    "    if n % 2 == 0:\n",
    "        lst.append(1)\n",
    "    else:\n",
    "        lst.append(0)\n",
    "    \n",
    "\n",
    "    lst"
   ]
  },
  {
   "cell_type": "code",
   "execution_count": 176,
   "id": "d8a23dca",
   "metadata": {},
   "outputs": [
    {
     "name": "stdout",
     "output_type": "stream",
     "text": [
      "1001000011000\n"
     ]
    },
    {
     "data": {
      "text/plain": [
       "5"
      ]
     },
     "execution_count": 176,
     "metadata": {},
     "output_type": "execute_result"
    }
   ],
   "source": [
    "dNum = 4632\n",
    "a = f\"{dNum:b}\"\n",
    "print(a)\n",
    "lst = []\n",
    "flag=1\n",
    "for i in a:\n",
    "    if i == \"0\":\n",
    "        flag +=1\n",
    "        continue\n",
    "    else:\n",
    "        lst.append(flag)\n",
    "        flag = 1\n",
    "lst.sort(reverse=True)\n",
    "lst[0]"
   ]
  },
  {
   "cell_type": "code",
   "execution_count": 179,
   "id": "6b02178b",
   "metadata": {},
   "outputs": [
    {
     "data": {
      "text/plain": [
       "4"
      ]
     },
     "execution_count": 179,
     "metadata": {},
     "output_type": "execute_result"
    }
   ],
   "source": [
    "lst = [1,3,4]\n",
    "lst.pop(2)"
   ]
  },
  {
   "cell_type": "code",
   "execution_count": 264,
   "id": "93fd9299",
   "metadata": {},
   "outputs": [
    {
     "data": {
      "text/plain": [
       "8"
      ]
     },
     "execution_count": 264,
     "metadata": {},
     "output_type": "execute_result"
    }
   ],
   "source": []
  },
  {
   "cell_type": "code",
   "execution_count": null,
   "id": "2f33364d",
   "metadata": {},
   "outputs": [],
   "source": [
    "his = [3, 2, -3, 1, -1, -2, 4, -4, 1, -1,4,5,-4,-5]"
   ]
  },
  {
   "cell_type": "code",
   "execution_count": 332,
   "id": "4eb95a9b",
   "metadata": {},
   "outputs": [],
   "source": [
    "# his 누적 list\n",
    "lst = []\n",
    "now = []\n",
    "for i in his:\n",
    "    now.append(i)\n",
    "    temp = now.copy()\n",
    "    lst.append(temp)"
   ]
  },
  {
   "cell_type": "code",
   "execution_count": 339,
   "id": "00b07438",
   "metadata": {},
   "outputs": [
    {
     "data": {
      "text/plain": [
       "[[3], [3, 2], [2], [2, 1], [2], [], [4], [], [1], [], [4], [4, 5], [5], []]"
      ]
     },
     "execution_count": 339,
     "metadata": {},
     "output_type": "execute_result"
    }
   ],
   "source": [
    "# 안에 있는 사람\n",
    "for j in range(len(lst)):\n",
    "    f_in = []\n",
    "    for i in lst[j]:\n",
    "        if i >0:\n",
    "            f_in.append(i)\n",
    "        if i <0:\n",
    "            f_in.remove(-i)\n",
    "        lst[j] = f_in\n",
    "lst"
   ]
  },
  {
   "cell_type": "code",
   "execution_count": 351,
   "id": "f2bd9f15",
   "metadata": {},
   "outputs": [
    {
     "data": {
      "text/plain": [
       "[1, 3]"
      ]
     },
     "execution_count": 351,
     "metadata": {},
     "output_type": "execute_result"
    }
   ],
   "source": [
    "target = 2\n",
    "answer = []\n",
    "for i in lst:\n",
    "    if target in i:\n",
    "        for j in i:\n",
    "            answer.append(j)\n",
    "answer = set(answer)\n",
    "answer = list(answer)\n",
    "answer.remove(target)\n",
    "answer"
   ]
  },
  {
   "cell_type": "code",
   "execution_count": null,
   "id": "69d59a83",
   "metadata": {},
   "outputs": [],
   "source": [
    "def solution(lineUp, level):\n",
    "\n",
    "    print(a)\n",
    "    lst = []\n",
    "    flag=1\n",
    "    for i in a:\n",
    "        if i == 0:\n",
    "            flag +=1\n",
    "            continue\n",
    "        else:\n",
    "            lst.append(flag)\n",
    "            flag = 1\n",
    "    lst.sort(reverse=True)\n",
    "    return lst[0]"
   ]
  },
  {
   "cell_type": "code",
   "execution_count": 389,
   "id": "90059243",
   "metadata": {},
   "outputs": [
    {
     "name": "stdout",
     "output_type": "stream",
     "text": [
      "[1, 0, 0, 0, 1, 0, 0, 1]\n"
     ]
    },
    {
     "data": {
      "text/plain": [
       "[3, 2]"
      ]
     },
     "execution_count": 389,
     "metadata": {},
     "output_type": "execute_result"
    }
   ],
   "source": [
    "a= [1, 0, 0, 0, 1, 0, 0, 1]\n",
    "print(a)\n",
    "lst = []\n",
    "flag=0\n",
    "for i in a:\n",
    "    if i == 0:\n",
    "        flag +=1\n",
    "        continue\n",
    "    else:\n",
    "        lst.append(flag)\n",
    "    flag = 0\n",
    "lst = lst[1:]\n",
    "lst"
   ]
  },
  {
   "cell_type": "code",
   "execution_count": 386,
   "id": "73784d89",
   "metadata": {},
   "outputs": [
    {
     "data": {
      "text/plain": [
       "True"
      ]
     },
     "execution_count": 386,
     "metadata": {},
     "output_type": "execute_result"
    }
   ],
   "source": [
    "flag2 = True\n",
    "level = 0\n",
    "for i in lst:\n",
    "    if i >= level:\n",
    "        pass\n",
    "    else:\n",
    "        flag2 = False\n",
    "flag2"
   ]
  },
  {
   "cell_type": "code",
   "execution_count": null,
   "id": "aa20e795",
   "metadata": {},
   "outputs": [],
   "source": []
  },
  {
   "cell_type": "code",
   "execution_count": null,
   "id": "796d9537",
   "metadata": {},
   "outputs": [],
   "source": []
  },
  {
   "cell_type": "code",
   "execution_count": null,
   "id": "3e23255f",
   "metadata": {},
   "outputs": [],
   "source": []
  },
  {
   "cell_type": "code",
   "execution_count": null,
   "id": "b4002666",
   "metadata": {},
   "outputs": [],
   "source": []
  },
  {
   "cell_type": "code",
   "execution_count": 267,
   "id": "e9680e2b",
   "metadata": {},
   "outputs": [
    {
     "data": {
      "text/plain": [
       "[1, 2, 3, 4, 5]"
      ]
     },
     "execution_count": 267,
     "metadata": {},
     "output_type": "execute_result"
    }
   ],
   "source": [
    "\n",
    "\n",
    "his_out = []\n",
    "his_in = []\n",
    "for i in his:\n",
    "    if i <0:\n",
    "        his_out.append(i)\n",
    "    if i >0:\n",
    "        his_in.append(i)\n",
    "his_out.sort(reverse=True)\n",
    "his_in = set(his_in)\n",
    "his_in = list(his_in)\n",
    "his_in"
   ]
  },
  {
   "cell_type": "code",
   "execution_count": 268,
   "id": "b9aef7c7",
   "metadata": {},
   "outputs": [],
   "source": [
    "dic_in = {}\n",
    "dic_out={}\n",
    "flag_remain = []\n",
    "for target in his_in:\n",
    "    flag_in = []\n",
    "    flag_out = []\n",
    "    for idx, i in enumerate(his):\n",
    "        if i == target:\n",
    "            flag_in.append(idx)\n",
    "        if i == -target:\n",
    "            flag_out.append(idx)\n",
    "    dic_in[target] = flag_in\n",
    "    dic_out[target] = flag_out\n",
    "# flag_in, flag_out\n",
    "# for x, y in zip(flag_in, flag_out):\n",
    "#     print(his[x:y+1])"
   ]
  },
  {
   "cell_type": "code",
   "execution_count": 270,
   "id": "baa4a6d3",
   "metadata": {},
   "outputs": [
    {
     "data": {
      "text/plain": [
       "({1: [3, 8], 2: [1], 3: [0], 4: [6, 10], 5: [11]},\n",
       " {1: [4, 9], 2: [5], 3: [2], 4: [7, 12], 5: [13]})"
      ]
     },
     "execution_count": 270,
     "metadata": {},
     "output_type": "execute_result"
    }
   ],
   "source": [
    "dic_in, dic_out"
   ]
  },
  {
   "cell_type": "code",
   "execution_count": null,
   "id": "bc725098",
   "metadata": {},
   "outputs": [],
   "source": []
  },
  {
   "cell_type": "code",
   "execution_count": null,
   "id": "c52b8943",
   "metadata": {},
   "outputs": [],
   "source": []
  },
  {
   "cell_type": "code",
   "execution_count": null,
   "id": "01850fc1",
   "metadata": {},
   "outputs": [],
   "source": []
  },
  {
   "cell_type": "code",
   "execution_count": null,
   "id": "40bc0f90",
   "metadata": {},
   "outputs": [],
   "source": []
  },
  {
   "cell_type": "code",
   "execution_count": 232,
   "id": "66c3a2e4",
   "metadata": {},
   "outputs": [
    {
     "data": {
      "text/plain": [
       "[3, 2, -3, 1, -1]"
      ]
     },
     "execution_count": 232,
     "metadata": {},
     "output_type": "execute_result"
    }
   ],
   "source": [
    "inf = 2\n",
    "inf = -inf\n",
    "his.index(inf)\n",
    "his[:5]"
   ]
  },
  {
   "cell_type": "code",
   "execution_count": 203,
   "id": "bd641cb5",
   "metadata": {},
   "outputs": [],
   "source": [
    "his.sort()"
   ]
  },
  {
   "cell_type": "code",
   "execution_count": 204,
   "id": "9a772be8",
   "metadata": {},
   "outputs": [
    {
     "data": {
      "text/plain": [
       "[-4, -3, -2, -1, -1, 1, 1, 2, 3, 4, 4, 5]"
      ]
     },
     "execution_count": 204,
     "metadata": {},
     "output_type": "execute_result"
    }
   ],
   "source": [
    "his"
   ]
  },
  {
   "cell_type": "code",
   "execution_count": 205,
   "id": "010af04a",
   "metadata": {},
   "outputs": [
    {
     "data": {
      "text/plain": [
       "([-1, -1, -2, -3, -4], [1, 1, 2, 3, 4, 4, 5])"
      ]
     },
     "execution_count": 205,
     "metadata": {},
     "output_type": "execute_result"
    }
   ],
   "source": [
    "his_out = []\n",
    "his_in = []\n",
    "for i in his:\n",
    "    if i <0:\n",
    "        his_out.append(i)\n",
    "    if i >0:\n",
    "        his_in.append(i)\n",
    "his_out.sort(reverse=True)\n",
    "his_out, his_in"
   ]
  },
  {
   "cell_type": "code",
   "execution_count": 206,
   "id": "6b2a8d3c",
   "metadata": {},
   "outputs": [],
   "source": [
    "his_out = list(map(lambda x: x*(-1), his_out))"
   ]
  },
  {
   "cell_type": "code",
   "execution_count": 210,
   "id": "9835e8a4",
   "metadata": {},
   "outputs": [
    {
     "data": {
      "text/plain": [
       "[1, 1, 2, 3, 4, 1, 1, 2, 3, 4, 4, 5]"
      ]
     },
     "execution_count": 210,
     "metadata": {},
     "output_type": "execute_result"
    }
   ],
   "source": [
    "his = his_out+his_in\n",
    "his"
   ]
  },
  {
   "cell_type": "code",
   "execution_count": 227,
   "id": "6e8b0304",
   "metadata": {},
   "outputs": [
    {
     "data": {
      "text/plain": [
       "[4, 5]"
      ]
     },
     "execution_count": 227,
     "metadata": {},
     "output_type": "execute_result"
    }
   ],
   "source": [
    "from collections import Counter\n",
    "lst = []\n",
    "dic=Counter(his)\n",
    "for i in dic.keys():\n",
    "    if dic[i] % 2 == 1:\n",
    "        lst.append(i)\n",
    "lst"
   ]
  },
  {
   "cell_type": "code",
   "execution_count": null,
   "id": "23f1e31c",
   "metadata": {},
   "outputs": [],
   "source": [
    "a = [3,15,14,13,2,20]\n",
    "min_len = 0\n",
    "max_width = 1\n",
    "index = 0\n",
    "for idx, i in enumerate(a):\n",
    "    if a>=min_len:\n",
    "        min_len=a\n",
    "        index=idx\n",
    "    else:\n",
    "        pass\n",
    "    \n",
    "    if min_len*(idx-index)>=max_width:\n",
    "        max_width=min_len*(idx-index)\n",
    "    "
   ]
  },
  {
   "cell_type": "code",
   "execution_count": null,
   "id": "3d54935a",
   "metadata": {},
   "outputs": [],
   "source": []
  }
 ],
 "metadata": {
  "kernelspec": {
   "display_name": "Python 3 (ipykernel)",
   "language": "python",
   "name": "python3"
  },
  "language_info": {
   "codemirror_mode": {
    "name": "ipython",
    "version": 3
   },
   "file_extension": ".py",
   "mimetype": "text/x-python",
   "name": "python",
   "nbconvert_exporter": "python",
   "pygments_lexer": "ipython3",
   "version": "3.9.7"
  },
  "toc": {
   "base_numbering": 1,
   "nav_menu": {},
   "number_sections": true,
   "sideBar": true,
   "skip_h1_title": false,
   "title_cell": "Table of Contents",
   "title_sidebar": "Contents",
   "toc_cell": false,
   "toc_position": {},
   "toc_section_display": true,
   "toc_window_display": false
  },
  "varInspector": {
   "cols": {
    "lenName": 16,
    "lenType": 16,
    "lenVar": 40
   },
   "kernels_config": {
    "python": {
     "delete_cmd_postfix": "",
     "delete_cmd_prefix": "del ",
     "library": "var_list.py",
     "varRefreshCmd": "print(var_dic_list())"
    },
    "r": {
     "delete_cmd_postfix": ") ",
     "delete_cmd_prefix": "rm(",
     "library": "var_list.r",
     "varRefreshCmd": "cat(var_dic_list()) "
    }
   },
   "types_to_exclude": [
    "module",
    "function",
    "builtin_function_or_method",
    "instance",
    "_Feature"
   ],
   "window_display": false
  }
 },
 "nbformat": 4,
 "nbformat_minor": 5
}
