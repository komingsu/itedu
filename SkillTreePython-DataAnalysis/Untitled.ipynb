{
 "cells": [
  {
   "cell_type": "code",
   "execution_count": 17,
   "id": "2e18c355",
   "metadata": {},
   "outputs": [
    {
     "data": {
      "text/plain": [
       "['.', '.', '1', '2', '3']"
      ]
     },
     "execution_count": 17,
     "metadata": {},
     "output_type": "execute_result"
    }
   ],
   "source": [
    "from collections import deque\n",
    "n = 5\n",
    "s = \"123456\"\n",
    "s = \".\"*n+s\n",
    "qs = deque(s)\n",
    "t=3\n",
    "qs.rotate(-t)\n",
    "sqs=list(qs)\n",
    "sqs[:n]"
   ]
  },
  {
   "cell_type": "code",
   "execution_count": 22,
   "id": "31d05244",
   "metadata": {},
   "outputs": [],
   "source": [
    "def solution(n, s, t):\n",
    "    from collections import deque\n",
    "\n",
    "    s = \".\"*n+s\n",
    "\n",
    "    qs = deque(s)\n",
    "\n",
    "    qs.rotate(-t)\n",
    "    sqs=list(qs)[:n]\n",
    "    answer = \"\".join(sqs)\n",
    "    return answer"
   ]
  },
  {
   "cell_type": "code",
   "execution_count": 23,
   "id": "d2bc9782",
   "metadata": {},
   "outputs": [
    {
     "name": "stdout",
     "output_type": "stream",
     "text": [
      "첫번째  3 1234567 3\n",
      "...1234567\n",
      "deque(['.', '.', '.', '1', '2', '3', '4', '5', '6', '7'])\n"
     ]
    },
    {
     "data": {
      "text/plain": [
       "'123'"
      ]
     },
     "execution_count": 23,
     "metadata": {},
     "output_type": "execute_result"
    }
   ],
   "source": [
    "solution(3,\"1234567\",3)"
   ]
  },
  {
   "cell_type": "code",
   "execution_count": 40,
   "id": "03c725c9",
   "metadata": {},
   "outputs": [
    {
     "data": {
      "text/plain": [
       "0    1\n",
       "1    1\n",
       "2    1\n",
       "Name: 0, dtype: int64"
      ]
     },
     "execution_count": 40,
     "metadata": {},
     "output_type": "execute_result"
    }
   ],
   "source": [
    "import pandas as pd\n",
    "a = pd.DataFrame([[1, 0, 1], [1, 1, 1], [1, 1, 1]])\n",
    "a[0]"
   ]
  },
  {
   "cell_type": "code",
   "execution_count": 47,
   "id": "5c3968cc",
   "metadata": {},
   "outputs": [
    {
     "name": "stdout",
     "output_type": "stream",
     "text": [
      "hi\n"
     ]
    }
   ],
   "source": [
    "a = [[1, 0, 1], [1, 1, 1], [1, 1, 1]]\n",
    "if a[0][1]==0:\n",
    "    print(\"hi\")"
   ]
  },
  {
   "cell_type": "code",
   "execution_count": 407,
   "id": "a86b0efc",
   "metadata": {},
   "outputs": [
    {
     "name": "stdout",
     "output_type": "stream",
     "text": [
      "[[0, 1], [2, 0]]\n"
     ]
    },
    {
     "data": {
      "text/plain": [
       "[[3, 2, 3], [2, 2, 4], [2, 2, 4]]"
      ]
     },
     "execution_count": 407,
     "metadata": {},
     "output_type": "execute_result"
    }
   ],
   "source": [
    "city = [[1, 0, 1], [1, 1, 1], [0, 1, 1]]\n",
    "h = len(city)\n",
    "w = len(city[0])\n",
    "bus = []\n",
    "h_s = 0\n",
    "w_s = 0\n",
    "for i in range(h):\n",
    "    for j in range(w):\n",
    "        if city[i][j]==0:\n",
    "            bus.append([i,j])\n",
    "        else:\n",
    "            city[i][j]=0\n",
    "print(bus)\n",
    "for bus_h, bus_w in bus:\n",
    "    for i in range(h):\n",
    "        for j in range(w):\n",
    "            h_s = abs(bus_h-i)\n",
    "            w_s = abs(bus_w-j)\n",
    "            if city[i][j]<=h_s:\n",
    "                city[i][j]+=h_s\n",
    "            if city[i][j]<=w_s:\n",
    "                city[i][j]+=w_s\n",
    "city"
   ]
  },
  {
   "cell_type": "code",
   "execution_count": 396,
   "id": "02d3f2b4",
   "metadata": {},
   "outputs": [
    {
     "data": {
      "text/plain": [
       "[[0, 0, 1], [0, 0, 1], [0, 1, 1]]"
      ]
     },
     "execution_count": 396,
     "metadata": {},
     "output_type": "execute_result"
    }
   ],
   "source": [
    "city"
   ]
  },
  {
   "cell_type": "code",
   "execution_count": 109,
   "id": "8463c663",
   "metadata": {},
   "outputs": [],
   "source": [
    "def solution(area):\n",
    "    n = 2\n",
    "    data = []\n",
    "    while n <= area:\n",
    "        if area % n == 0:\n",
    "                area /= n\n",
    "                data.append(n)\n",
    "        else:\n",
    "            n += 1\n",
    "    \n",
    "    input1 = area\n",
    "    lst=[]\n",
    "    t = 1\n",
    "    \n",
    "    lst.append([t,input1])\n",
    "    for i in data:\n",
    "        t=t*i\n",
    "        input1=int(input1/i)\n",
    "        lst.append([t,input1])\n",
    "\n",
    "    flag = 10000\n",
    "    flag_c = 0\n",
    "    for i in range(len(lst)):\n",
    "        temp = abs(lst[i][0]-lst[i][1])\n",
    "        if temp<= flag:\n",
    "            flag = temp\n",
    "            flag_c = i\n",
    "    return lst[flag_c]"
   ]
  },
  {
   "cell_type": "code",
   "execution_count": 110,
   "id": "d590b9a4",
   "metadata": {},
   "outputs": [
    {
     "data": {
      "text/plain": [
       "[1, 1.0]"
      ]
     },
     "execution_count": 110,
     "metadata": {},
     "output_type": "execute_result"
    }
   ],
   "source": [
    "solution(54)"
   ]
  },
  {
   "cell_type": "code",
   "execution_count": 103,
   "id": "f6655fc8",
   "metadata": {},
   "outputs": [
    {
     "data": {
      "text/plain": [
       "[2, 3, 3, 3]"
      ]
     },
     "execution_count": 103,
     "metadata": {},
     "output_type": "execute_result"
    }
   ],
   "source": [
    "input1 = 54\n",
    "data = solution(input1)\n",
    "data"
   ]
  },
  {
   "cell_type": "code",
   "execution_count": 104,
   "id": "b4e2f5f3",
   "metadata": {},
   "outputs": [],
   "source": [
    "lst=[]\n",
    "t = 1\n",
    "lst.append([t,input1])\n",
    "for i in data:\n",
    "    t=t*i\n",
    "    input1=int(input1/i)\n",
    "    lst.append([t,input1])"
   ]
  },
  {
   "cell_type": "code",
   "execution_count": 105,
   "id": "edcd0d92",
   "metadata": {},
   "outputs": [
    {
     "data": {
      "text/plain": [
       "[[1, 54], [2, 27], [6, 9], [18, 3], [54, 1]]"
      ]
     },
     "execution_count": 105,
     "metadata": {},
     "output_type": "execute_result"
    }
   ],
   "source": [
    "lst"
   ]
  },
  {
   "cell_type": "code",
   "execution_count": 106,
   "id": "49fda118",
   "metadata": {},
   "outputs": [],
   "source": [
    "flag = 10000\n",
    "flag_c = 0\n",
    "for i in range(len(lst)):\n",
    "    temp = abs(lst[i][0]-lst[i][1])\n",
    "    if temp<= flag:\n",
    "        flag = temp\n",
    "        flag_c = i"
   ]
  },
  {
   "cell_type": "code",
   "execution_count": 107,
   "id": "add0ed7c",
   "metadata": {},
   "outputs": [
    {
     "data": {
      "text/plain": [
       "2"
      ]
     },
     "execution_count": 107,
     "metadata": {},
     "output_type": "execute_result"
    }
   ],
   "source": [
    "flag_c"
   ]
  },
  {
   "cell_type": "code",
   "execution_count": 108,
   "id": "2ae29d68",
   "metadata": {},
   "outputs": [
    {
     "data": {
      "text/plain": [
       "[6, 9]"
      ]
     },
     "execution_count": 108,
     "metadata": {},
     "output_type": "execute_result"
    }
   ],
   "source": [
    "lst[2]"
   ]
  },
  {
   "cell_type": "code",
   "execution_count": 143,
   "id": "01fd55e5",
   "metadata": {},
   "outputs": [
    {
     "name": "stdout",
     "output_type": "stream",
     "text": [
      "[[1, 58742], [2, 29371], [46, 1277], [1, 58742]]\n",
      "58741\n",
      "29369\n",
      "1231\n",
      "58741\n"
     ]
    }
   ],
   "source": [
    "area = 58742\n",
    "save = area\n",
    "n = 2\n",
    "data = []\n",
    "while n <= area:\n",
    "    if area % n == 0:\n",
    "            area /= n\n",
    "            data.append(n)\n",
    "    else:\n",
    "        n += 1\n",
    "\n",
    "lst=[]\n",
    "t = 1\n",
    "lst.append([t,save])\n",
    "for i in data:\n",
    "    t=t*i\n",
    "    save=int(save/i)\n",
    "    if t>=save:\n",
    "        lst.append([save,t])\n",
    "    else:\n",
    "        lst.append([t,save])\n",
    "\n",
    "print(lst)\n",
    "flag = 1000000\n",
    "flag_c = 0\n",
    "for i in range(len(lst)):\n",
    "    temp = abs(lst[i][0]-lst[i][1])\n",
    "    print(temp)\n",
    "    if temp< flag:\n",
    "        flag = temp\n",
    "        flag_c = i"
   ]
  },
  {
   "cell_type": "code",
   "execution_count": 144,
   "id": "c0f1d6fb",
   "metadata": {},
   "outputs": [
    {
     "data": {
      "text/plain": [
       "[46, 1277]"
      ]
     },
     "execution_count": 144,
     "metadata": {},
     "output_type": "execute_result"
    }
   ],
   "source": [
    "lst[flag_c]"
   ]
  },
  {
   "cell_type": "code",
   "execution_count": 149,
   "id": "41551260",
   "metadata": {},
   "outputs": [
    {
     "data": {
      "text/plain": [
       "[1]"
      ]
     },
     "execution_count": 149,
     "metadata": {},
     "output_type": "execute_result"
    }
   ],
   "source": [
    "n=40\n",
    "lst = []\n",
    "flag2 = 1\n",
    "while n >= 1:\n",
    "    if n % 2 == 0:\n",
    "        lst.append(1)\n",
    "    else:\n",
    "        lst.append(0)\n",
    "    \n",
    "\n",
    "    lst"
   ]
  },
  {
   "cell_type": "code",
   "execution_count": 176,
   "id": "d8a23dca",
   "metadata": {},
   "outputs": [
    {
     "name": "stdout",
     "output_type": "stream",
     "text": [
      "1001000011000\n"
     ]
    },
    {
     "data": {
      "text/plain": [
       "5"
      ]
     },
     "execution_count": 176,
     "metadata": {},
     "output_type": "execute_result"
    }
   ],
   "source": [
    "dNum = 4632\n",
    "a = f\"{dNum:b}\"\n",
    "print(a)\n",
    "lst = []\n",
    "flag=1\n",
    "for i in a:\n",
    "    if i == \"0\":\n",
    "        flag +=1\n",
    "        continue\n",
    "    else:\n",
    "        lst.append(flag)\n",
    "        flag = 1\n",
    "lst.sort(reverse=True)\n",
    "lst[0]"
   ]
  },
  {
   "cell_type": "code",
   "execution_count": 179,
   "id": "6b02178b",
   "metadata": {},
   "outputs": [
    {
     "data": {
      "text/plain": [
       "4"
      ]
     },
     "execution_count": 179,
     "metadata": {},
     "output_type": "execute_result"
    }
   ],
   "source": [
    "lst = [1,3,4]\n",
    "lst.pop(2)"
   ]
  },
  {
   "cell_type": "code",
   "execution_count": 264,
   "id": "93fd9299",
   "metadata": {},
   "outputs": [
    {
     "data": {
      "text/plain": [
       "8"
      ]
     },
     "execution_count": 264,
     "metadata": {},
     "output_type": "execute_result"
    }
   ],
   "source": []
  },
  {
   "cell_type": "code",
   "execution_count": null,
   "id": "2f33364d",
   "metadata": {},
   "outputs": [],
   "source": [
    "his = [3, 2, -3, 1, -1, -2, 4, -4, 1, -1,4,5,-4,-5]"
   ]
  },
  {
   "cell_type": "code",
   "execution_count": 332,
   "id": "4eb95a9b",
   "metadata": {},
   "outputs": [],
   "source": [
    "# his 누적 list\n",
    "lst = []\n",
    "now = []\n",
    "for i in his:\n",
    "    now.append(i)\n",
    "    temp = now.copy()\n",
    "    lst.append(temp)"
   ]
  },
  {
   "cell_type": "code",
   "execution_count": 339,
   "id": "00b07438",
   "metadata": {},
   "outputs": [
    {
     "data": {
      "text/plain": [
       "[[3], [3, 2], [2], [2, 1], [2], [], [4], [], [1], [], [4], [4, 5], [5], []]"
      ]
     },
     "execution_count": 339,
     "metadata": {},
     "output_type": "execute_result"
    }
   ],
   "source": [
    "# 안에 있는 사람\n",
    "for j in range(len(lst)):\n",
    "    f_in = []\n",
    "    for i in lst[j]:\n",
    "        if i >0:\n",
    "            f_in.append(i)\n",
    "        if i <0:\n",
    "            f_in.remove(-i)\n",
    "        lst[j] = f_in\n",
    "lst"
   ]
  },
  {
   "cell_type": "code",
   "execution_count": 351,
   "id": "f2bd9f15",
   "metadata": {},
   "outputs": [
    {
     "data": {
      "text/plain": [
       "[1, 3]"
      ]
     },
     "execution_count": 351,
     "metadata": {},
     "output_type": "execute_result"
    }
   ],
   "source": [
    "target = 2\n",
    "answer = []\n",
    "for i in lst:\n",
    "    if target in i:\n",
    "        for j in i:\n",
    "            answer.append(j)\n",
    "answer = set(answer)\n",
    "answer = list(answer)\n",
    "answer.remove(target)\n",
    "answer"
   ]
  },
  {
   "cell_type": "code",
   "execution_count": null,
   "id": "69d59a83",
   "metadata": {},
   "outputs": [],
   "source": [
    "def solution(lineUp, level):\n",
    "\n",
    "    print(a)\n",
    "    lst = []\n",
    "    flag=1\n",
    "    for i in a:\n",
    "        if i == 0:\n",
    "            flag +=1\n",
    "            continue\n",
    "        else:\n",
    "            lst.append(flag)\n",
    "            flag = 1\n",
    "    lst.sort(reverse=True)\n",
    "    return lst[0]"
   ]
  },
  {
   "cell_type": "code",
   "execution_count": 389,
   "id": "90059243",
   "metadata": {},
   "outputs": [
    {
     "name": "stdout",
     "output_type": "stream",
     "text": [
      "[1, 0, 0, 0, 1, 0, 0, 1]\n"
     ]
    },
    {
     "data": {
      "text/plain": [
       "[3, 2]"
      ]
     },
     "execution_count": 389,
     "metadata": {},
     "output_type": "execute_result"
    }
   ],
   "source": [
    "a= [1, 0, 0, 0, 1, 0, 0, 1]\n",
    "print(a)\n",
    "lst = []\n",
    "flag=0\n",
    "for i in a:\n",
    "    if i == 0:\n",
    "        flag +=1\n",
    "        continue\n",
    "    else:\n",
    "        lst.append(flag)\n",
    "    flag = 0\n",
    "lst = lst[1:]\n",
    "lst"
   ]
  },
  {
   "cell_type": "code",
   "execution_count": 386,
   "id": "73784d89",
   "metadata": {},
   "outputs": [
    {
     "data": {
      "text/plain": [
       "True"
      ]
     },
     "execution_count": 386,
     "metadata": {},
     "output_type": "execute_result"
    }
   ],
   "source": [
    "flag2 = True\n",
    "level = 0\n",
    "for i in lst:\n",
    "    if i >= level:\n",
    "        pass\n",
    "    else:\n",
    "        flag2 = False\n",
    "flag2"
   ]
  },
  {
   "cell_type": "code",
   "execution_count": null,
   "id": "aa20e795",
   "metadata": {},
   "outputs": [],
   "source": []
  },
  {
   "cell_type": "code",
   "execution_count": null,
   "id": "796d9537",
   "metadata": {},
   "outputs": [],
   "source": []
  },
  {
   "cell_type": "code",
   "execution_count": null,
   "id": "3e23255f",
   "metadata": {},
   "outputs": [],
   "source": []
  },
  {
   "cell_type": "code",
   "execution_count": null,
   "id": "b4002666",
   "metadata": {},
   "outputs": [],
   "source": []
  },
  {
   "cell_type": "code",
   "execution_count": 267,
   "id": "e9680e2b",
   "metadata": {},
   "outputs": [
    {
     "data": {
      "text/plain": [
       "[1, 2, 3, 4, 5]"
      ]
     },
     "execution_count": 267,
     "metadata": {},
     "output_type": "execute_result"
    }
   ],
   "source": [
    "\n",
    "\n",
    "his_out = []\n",
    "his_in = []\n",
    "for i in his:\n",
    "    if i <0:\n",
    "        his_out.append(i)\n",
    "    if i >0:\n",
    "        his_in.append(i)\n",
    "his_out.sort(reverse=True)\n",
    "his_in = set(his_in)\n",
    "his_in = list(his_in)\n",
    "his_in"
   ]
  },
  {
   "cell_type": "code",
   "execution_count": 268,
   "id": "b9aef7c7",
   "metadata": {},
   "outputs": [],
   "source": [
    "dic_in = {}\n",
    "dic_out={}\n",
    "flag_remain = []\n",
    "for target in his_in:\n",
    "    flag_in = []\n",
    "    flag_out = []\n",
    "    for idx, i in enumerate(his):\n",
    "        if i == target:\n",
    "            flag_in.append(idx)\n",
    "        if i == -target:\n",
    "            flag_out.append(idx)\n",
    "    dic_in[target] = flag_in\n",
    "    dic_out[target] = flag_out\n",
    "# flag_in, flag_out\n",
    "# for x, y in zip(flag_in, flag_out):\n",
    "#     print(his[x:y+1])"
   ]
  },
  {
   "cell_type": "code",
   "execution_count": 270,
   "id": "baa4a6d3",
   "metadata": {},
   "outputs": [
    {
     "data": {
      "text/plain": [
       "({1: [3, 8], 2: [1], 3: [0], 4: [6, 10], 5: [11]},\n",
       " {1: [4, 9], 2: [5], 3: [2], 4: [7, 12], 5: [13]})"
      ]
     },
     "execution_count": 270,
     "metadata": {},
     "output_type": "execute_result"
    }
   ],
   "source": [
    "dic_in, dic_out"
   ]
  },
  {
   "cell_type": "code",
   "execution_count": null,
   "id": "bc725098",
   "metadata": {},
   "outputs": [],
   "source": []
  },
  {
   "cell_type": "code",
   "execution_count": null,
   "id": "c52b8943",
   "metadata": {},
   "outputs": [],
   "source": []
  },
  {
   "cell_type": "code",
   "execution_count": null,
   "id": "01850fc1",
   "metadata": {},
   "outputs": [],
   "source": []
  },
  {
   "cell_type": "code",
   "execution_count": null,
   "id": "40bc0f90",
   "metadata": {},
   "outputs": [],
   "source": []
  },
  {
   "cell_type": "code",
   "execution_count": 232,
   "id": "66c3a2e4",
   "metadata": {},
   "outputs": [
    {
     "data": {
      "text/plain": [
       "[3, 2, -3, 1, -1]"
      ]
     },
     "execution_count": 232,
     "metadata": {},
     "output_type": "execute_result"
    }
   ],
   "source": [
    "inf = 2\n",
    "inf = -inf\n",
    "his.index(inf)\n",
    "his[:5]"
   ]
  },
  {
   "cell_type": "code",
   "execution_count": 203,
   "id": "bd641cb5",
   "metadata": {},
   "outputs": [],
   "source": [
    "his.sort()"
   ]
  },
  {
   "cell_type": "code",
   "execution_count": 204,
   "id": "9a772be8",
   "metadata": {},
   "outputs": [
    {
     "data": {
      "text/plain": [
       "[-4, -3, -2, -1, -1, 1, 1, 2, 3, 4, 4, 5]"
      ]
     },
     "execution_count": 204,
     "metadata": {},
     "output_type": "execute_result"
    }
   ],
   "source": [
    "his"
   ]
  },
  {
   "cell_type": "code",
   "execution_count": 205,
   "id": "010af04a",
   "metadata": {},
   "outputs": [
    {
     "data": {
      "text/plain": [
       "([-1, -1, -2, -3, -4], [1, 1, 2, 3, 4, 4, 5])"
      ]
     },
     "execution_count": 205,
     "metadata": {},
     "output_type": "execute_result"
    }
   ],
   "source": [
    "his_out = []\n",
    "his_in = []\n",
    "for i in his:\n",
    "    if i <0:\n",
    "        his_out.append(i)\n",
    "    if i >0:\n",
    "        his_in.append(i)\n",
    "his_out.sort(reverse=True)\n",
    "his_out, his_in"
   ]
  },
  {
   "cell_type": "code",
   "execution_count": 206,
   "id": "6b2a8d3c",
   "metadata": {},
   "outputs": [],
   "source": [
    "his_out = list(map(lambda x: x*(-1), his_out))"
   ]
  },
  {
   "cell_type": "code",
   "execution_count": 210,
   "id": "9835e8a4",
   "metadata": {},
   "outputs": [
    {
     "data": {
      "text/plain": [
       "[1, 1, 2, 3, 4, 1, 1, 2, 3, 4, 4, 5]"
      ]
     },
     "execution_count": 210,
     "metadata": {},
     "output_type": "execute_result"
    }
   ],
   "source": [
    "his = his_out+his_in\n",
    "his"
   ]
  },
  {
   "cell_type": "code",
   "execution_count": 227,
   "id": "6e8b0304",
   "metadata": {},
   "outputs": [
    {
     "data": {
      "text/plain": [
       "[4, 5]"
      ]
     },
     "execution_count": 227,
     "metadata": {},
     "output_type": "execute_result"
    }
   ],
   "source": [
    "from collections import Counter\n",
    "lst = []\n",
    "dic=Counter(his)\n",
    "for i in dic.keys():\n",
    "    if dic[i] % 2 == 1:\n",
    "        lst.append(i)\n",
    "lst"
   ]
  },
  {
   "cell_type": "code",
   "execution_count": null,
   "id": "23f1e31c",
   "metadata": {},
   "outputs": [],
   "source": [
    "a = [3,15,14,13,2,20]\n",
    "min_len = 0\n",
    "max_width = 1\n",
    "index = 0\n",
    "for idx, i in enumerate(a):\n",
    "    if a>=min_len:\n",
    "        min_len=a\n",
    "        index=idx\n",
    "    else:\n",
    "        pass\n",
    "    \n",
    "    if min_len*(idx-index)>=max_width:\n",
    "        max_width=min_len*(idx-index)\n",
    "    "
   ]
  },
  {
   "cell_type": "markdown",
   "id": "efd3944c",
   "metadata": {},
   "source": [
    "## 문제 8번"
   ]
  },
  {
   "cell_type": "code",
   "execution_count": 135,
   "id": "3d54935a",
   "metadata": {},
   "outputs": [
    {
     "data": {
      "text/plain": [
       "array([0, 4, 2, 4, 0, 1, 0, 3])"
      ]
     },
     "execution_count": 135,
     "metadata": {},
     "output_type": "execute_result"
    }
   ],
   "source": [
    "board = [[0, 0, 0, 0, 0], [0, 0, 1, 0, 3], [0, 2, 5, 0, 1], [4, 2, 4, 4, 2], [3, 5, 1, 3, 1]]\n",
    "moves = [1, 5, 3, 5, 1, 2, 1, 4]\n",
    "l_ = len(board)\n",
    "board = np.array(board).T\n",
    "moves = np.array(moves)-1\n",
    "box = []\n",
    "\n",
    "moves"
   ]
  },
  {
   "cell_type": "code",
   "execution_count": 136,
   "id": "40c57c81",
   "metadata": {},
   "outputs": [
    {
     "data": {
      "text/plain": [
       "array([[0, 0, 0, 4, 3],\n",
       "       [0, 0, 2, 2, 5],\n",
       "       [0, 1, 5, 4, 1],\n",
       "       [0, 0, 0, 4, 3],\n",
       "       [0, 3, 1, 2, 1]])"
      ]
     },
     "execution_count": 136,
     "metadata": {},
     "output_type": "execute_result"
    }
   ],
   "source": [
    "board"
   ]
  },
  {
   "cell_type": "code",
   "execution_count": 137,
   "id": "182bf2da",
   "metadata": {},
   "outputs": [
    {
     "data": {
      "text/plain": [
       "['4', '3', '1', '1', '3', '2', '4']"
      ]
     },
     "execution_count": 137,
     "metadata": {},
     "output_type": "execute_result"
    }
   ],
   "source": [
    "for line_idx in moves:\n",
    "    for idx, number in enumerate(board[line_idx]):\n",
    "        if number !=0:\n",
    "            box.append(f\"{number}\")\n",
    "            board[line_idx][idx]=0\n",
    "            break\n",
    "box"
   ]
  },
  {
   "cell_type": "code",
   "execution_count": 139,
   "id": "18576899",
   "metadata": {},
   "outputs": [
    {
     "data": {
      "text/plain": [
       "['44', '22', '11', '33']"
      ]
     },
     "execution_count": 139,
     "metadata": {},
     "output_type": "execute_result"
    }
   ],
   "source": [
    "remove_list = []\n",
    "for i in set(box):\n",
    "    remove_list.append(i*2)\n",
    "remove_list"
   ]
  },
  {
   "cell_type": "code",
   "execution_count": 140,
   "id": "b471f252",
   "metadata": {},
   "outputs": [],
   "source": [
    "box = \"\".join(box)"
   ]
  },
  {
   "cell_type": "code",
   "execution_count": 141,
   "id": "2d7b2854",
   "metadata": {},
   "outputs": [],
   "source": [
    "result = 0\n",
    "flag = 0\n",
    "while True:\n",
    "    for i in remove_list:\n",
    "        if i in box:\n",
    "            box = box.replace(i,\"\")\n",
    "            result +=2\n",
    "            flag=0\n",
    "    flag+=1\n",
    "    if flag==2:\n",
    "        break"
   ]
  },
  {
   "cell_type": "code",
   "execution_count": 142,
   "id": "873c4eb4",
   "metadata": {},
   "outputs": [
    {
     "data": {
      "text/plain": [
       "1"
      ]
     },
     "execution_count": 142,
     "metadata": {},
     "output_type": "execute_result"
    }
   ],
   "source": [
    "result"
   ]
  },
  {
   "cell_type": "code",
   "execution_count": 1,
   "id": "6eda0a89",
   "metadata": {
    "ExecuteTime": {
     "end_time": "2022-06-02T01:55:19.634231Z",
     "start_time": "2022-06-02T01:55:19.097207Z"
    }
   },
   "outputs": [],
   "source": [
    "import pandas as pd\n",
    "from pandas import DataFrame\n",
    "from matplotlib import font_manager"
   ]
  },
  {
   "cell_type": "code",
   "execution_count": 2,
   "id": "3deb3ec3",
   "metadata": {
    "ExecuteTime": {
     "end_time": "2022-06-02T01:55:24.936988Z",
     "start_time": "2022-06-02T01:55:24.893979Z"
    }
   },
   "outputs": [
    {
     "data": {
      "text/plain": [
       "['C:\\\\Windows\\\\Fonts\\\\msyh.ttc',\n",
       " 'C:\\\\Windows\\\\Fonts\\\\NanumMyeongjoExtraBold.ttf',\n",
       " 'C:\\\\Windows\\\\Fonts\\\\verdanai.ttf',\n",
       " 'C:\\\\Windows\\\\Fonts\\\\NirmalaS.ttf',\n",
       " 'C:\\\\Windows\\\\Fonts\\\\SCDream2.otf',\n",
       " 'C:\\\\Windows\\\\Fonts\\\\NanumGothicLight.ttf',\n",
       " 'C:\\\\Windows\\\\Fonts\\\\calibriz.ttf',\n",
       " 'C:\\\\Windows\\\\Fonts\\\\calibrii.ttf',\n",
       " 'C:\\\\Windows\\\\Fonts\\\\seguili.ttf',\n",
       " 'C:\\\\Windows\\\\Fonts\\\\YuGothL.ttc',\n",
       " 'C:\\\\Windows\\\\Fonts\\\\NanumBarunGothicBold.ttf',\n",
       " 'C:\\\\Windows\\\\Fonts\\\\YuGothR.ttc',\n",
       " 'C:\\\\Windows\\\\Fonts\\\\l_10646.ttf',\n",
       " 'C:\\\\Windows\\\\Fonts\\\\NirmalaB.ttf',\n",
       " 'C:\\\\Windows\\\\Fonts\\\\seguiemj.ttf',\n",
       " 'C:\\\\Windows\\\\Fonts\\\\timesi.ttf',\n",
       " 'C:\\\\Windows\\\\Fonts\\\\LeelaUIb.ttf',\n",
       " 'C:\\\\Windows\\\\Fonts\\\\comicz.ttf',\n",
       " 'C:\\\\Windows\\\\Fonts\\\\NanumBarunGothic.ttf',\n",
       " 'C:\\\\Windows\\\\Fonts\\\\ariblk.ttf',\n",
       " 'C:\\\\Windows\\\\Fonts\\\\mmrtext.ttf',\n",
       " 'C:\\\\Windows\\\\Fonts\\\\tahoma.ttf',\n",
       " 'C:\\\\Windows\\\\Fonts\\\\trebucit.ttf',\n",
       " 'C:\\\\Windows\\\\Fonts\\\\corbell.ttf',\n",
       " 'C:\\\\Windows\\\\Fonts\\\\framd.ttf',\n",
       " 'C:\\\\Windows\\\\Fonts\\\\impact.ttf',\n",
       " 'C:\\\\Windows\\\\Fonts\\\\Candarab.ttf',\n",
       " 'C:\\\\Windows\\\\Fonts\\\\SCDream4.otf',\n",
       " 'C:\\\\Windows\\\\Fonts\\\\timesbi.ttf',\n",
       " 'C:\\\\Windows\\\\Fonts\\\\timesbd.ttf',\n",
       " 'C:\\\\Windows\\\\Fonts\\\\phagspa.ttf',\n",
       " 'C:\\\\Windows\\\\Fonts\\\\simsun.ttc',\n",
       " 'C:\\\\Windows\\\\Fonts\\\\simsunb.ttf',\n",
       " 'C:\\\\Windows\\\\Fonts\\\\LeelUIsl.ttf',\n",
       " 'C:\\\\Windows\\\\Fonts\\\\NanumBrush.ttf',\n",
       " 'C:\\\\Windows\\\\Fonts\\\\arial.ttf',\n",
       " 'C:\\\\Windows\\\\Fonts\\\\segoeui.ttf',\n",
       " 'C:\\\\Windows\\\\Fonts\\\\SCDream7.otf',\n",
       " 'C:\\\\Windows\\\\Fonts\\\\Candarai.ttf',\n",
       " 'C:\\\\Windows\\\\Fonts\\\\mvboli.ttf',\n",
       " 'C:\\\\Windows\\\\Fonts\\\\seguibli.ttf',\n",
       " 'C:\\\\Windows\\\\Fonts\\\\cour.ttf',\n",
       " 'C:\\\\Windows\\\\Fonts\\\\palai.ttf',\n",
       " 'C:\\\\Windows\\\\Fonts\\\\arialbd.ttf',\n",
       " 'C:\\\\Windows\\\\Fonts\\\\calibrili.ttf',\n",
       " 'C:\\\\Windows\\\\Fonts\\\\cambriaz.ttf',\n",
       " 'C:\\\\Windows\\\\Fonts\\\\lucon.ttf',\n",
       " 'C:\\\\Windows\\\\Fonts\\\\wingding.ttf',\n",
       " 'C:\\\\Windows\\\\Fonts\\\\gadugib.ttf',\n",
       " 'C:\\\\Windows\\\\Fonts\\\\NotoSansKR-Bold.otf',\n",
       " 'C:\\\\Windows\\\\Fonts\\\\NotoSansKR-Black.otf',\n",
       " 'C:\\\\Windows\\\\Fonts\\\\Candaraz.ttf',\n",
       " 'C:\\\\Windows\\\\Fonts\\\\segoeuib.ttf',\n",
       " 'C:\\\\Windows\\\\Fonts\\\\NanumGothicBold.ttf',\n",
       " 'C:\\\\Windows\\\\Fonts\\\\comic.ttf',\n",
       " 'C:\\\\Windows\\\\Fonts\\\\verdana.ttf',\n",
       " 'C:\\\\Windows\\\\Fonts\\\\Inkfree.ttf',\n",
       " 'C:\\\\Windows\\\\Fonts\\\\SCDream1.otf',\n",
       " 'C:\\\\Windows\\\\Fonts\\\\SitkaI.ttc',\n",
       " 'C:\\\\Windows\\\\Fonts\\\\calibrib.ttf',\n",
       " 'C:\\\\Windows\\\\Fonts\\\\segoesc.ttf',\n",
       " 'C:\\\\Windows\\\\Fonts\\\\NanumGothicExtraBold.ttf',\n",
       " 'C:\\\\Windows\\\\Fonts\\\\consola.ttf',\n",
       " 'C:\\\\Windows\\\\Fonts\\\\NanumPen.ttf',\n",
       " 'C:\\\\Windows\\\\Fonts\\\\georgiaz.ttf',\n",
       " 'C:\\\\Windows\\\\Fonts\\\\consolab.ttf',\n",
       " 'C:\\\\Windows\\\\Fonts\\\\ntailub.ttf',\n",
       " 'C:\\\\Windows\\\\Fonts\\\\SCDream3.otf',\n",
       " 'C:\\\\Windows\\\\Fonts\\\\corbelli.ttf',\n",
       " 'C:\\\\Windows\\\\Fonts\\\\framdit.ttf',\n",
       " 'C:\\\\Windows\\\\Fonts\\\\verdanaz.ttf',\n",
       " 'C:\\\\Windows\\\\Fonts\\\\georgiab.ttf',\n",
       " 'C:\\\\Windows\\\\Fonts\\\\segoepr.ttf',\n",
       " 'C:\\\\Windows\\\\Fonts\\\\segoeprb.ttf',\n",
       " 'C:\\\\Windows\\\\Fonts\\\\couri.ttf',\n",
       " 'C:\\\\Windows\\\\Fonts\\\\calibril.ttf',\n",
       " 'C:\\\\Windows\\\\Fonts\\\\segmdl2.ttf',\n",
       " 'C:\\\\Windows\\\\Fonts\\\\constanb.ttf',\n",
       " 'C:\\\\Windows\\\\Fonts\\\\taileb.ttf',\n",
       " 'C:\\\\Windows\\\\Fonts\\\\ariali.ttf',\n",
       " 'C:\\\\Windows\\\\Fonts\\\\seguisbi.ttf',\n",
       " 'C:\\\\Windows\\\\Fonts\\\\holomdl2.ttf',\n",
       " 'C:\\\\Windows\\\\Fonts\\\\NanumSquareR.ttf',\n",
       " 'C:\\\\Windows\\\\Fonts\\\\seguisli.ttf',\n",
       " 'C:\\\\Windows\\\\Fonts\\\\Candaral.ttf',\n",
       " 'C:\\\\Windows\\\\Fonts\\\\segoescb.ttf',\n",
       " 'C:\\\\Windows\\\\Fonts\\\\cambriai.ttf',\n",
       " 'C:\\\\Windows\\\\Fonts\\\\Sitka.ttc',\n",
       " 'C:\\\\Windows\\\\Fonts\\\\consolaz.ttf',\n",
       " 'C:\\\\Windows\\\\Fonts\\\\trebuc.ttf',\n",
       " 'C:\\\\Windows\\\\Fonts\\\\himalaya.ttf',\n",
       " 'C:\\\\Windows\\\\Fonts\\\\NanumBarunGothicUltraLight.ttf',\n",
       " 'C:\\\\Windows\\\\Fonts\\\\corbelz.ttf',\n",
       " 'C:\\\\Windows\\\\Fonts\\\\courbi.ttf',\n",
       " 'C:\\\\Windows\\\\Fonts\\\\monbaiti.ttf',\n",
       " 'C:\\\\Windows\\\\Fonts\\\\verdanab.ttf',\n",
       " 'C:\\\\Windows\\\\Fonts\\\\segoeuiz.ttf',\n",
       " 'C:\\\\Windows\\\\Fonts\\\\seguisym.ttf',\n",
       " 'C:\\\\Windows\\\\Fonts\\\\seguibl.ttf',\n",
       " 'C:\\\\Windows\\\\Fonts\\\\msyi.ttf',\n",
       " 'C:\\\\Windows\\\\Fonts\\\\taile.ttf',\n",
       " 'C:\\\\Windows\\\\Fonts\\\\times.ttf',\n",
       " 'C:\\\\Windows\\\\Fonts\\\\arialbi.ttf',\n",
       " 'C:\\\\Windows\\\\Fonts\\\\courbd.ttf',\n",
       " 'C:\\\\Windows\\\\Fonts\\\\ebrima.ttf',\n",
       " 'C:\\\\Windows\\\\Fonts\\\\NanumMyeongjoBold.ttf',\n",
       " 'C:\\\\Windows\\\\Fonts\\\\palab.ttf',\n",
       " 'C:\\\\Windows\\\\Fonts\\\\segoeuii.ttf',\n",
       " 'C:\\\\Windows\\\\Fonts\\\\cambriab.ttf',\n",
       " 'C:\\\\Windows\\\\Fonts\\\\javatext.ttf',\n",
       " 'C:\\\\Windows\\\\Fonts\\\\georgia.ttf',\n",
       " 'C:\\\\Windows\\\\Fonts\\\\NanumMyeongjo.ttf',\n",
       " 'C:\\\\Windows\\\\Fonts\\\\ebrimabd.ttf',\n",
       " 'C:\\\\Windows\\\\Fonts\\\\webdings.ttf',\n",
       " 'C:\\\\Windows\\\\Fonts\\\\malgunsl.ttf',\n",
       " 'C:\\\\Windows\\\\Fonts\\\\NanumGothic.ttf',\n",
       " 'C:\\\\Windows\\\\Fonts\\\\seguisb.ttf',\n",
       " 'C:\\\\Windows\\\\Fonts\\\\tahomabd.ttf',\n",
       " 'C:\\\\Windows\\\\Fonts\\\\sylfaen.ttf',\n",
       " 'C:\\\\Windows\\\\Fonts\\\\LeelawUI.ttf',\n",
       " 'C:\\\\Windows\\\\Fonts\\\\mingliub.ttc',\n",
       " 'C:\\\\Windows\\\\Fonts\\\\corbel.ttf',\n",
       " 'C:\\\\Windows\\\\Fonts\\\\segoeuil.ttf',\n",
       " 'C:\\\\Windows\\\\Fonts\\\\SCDream6.otf',\n",
       " 'C:\\\\Windows\\\\Fonts\\\\NotoSansKR-Medium.otf',\n",
       " 'C:\\\\Windows\\\\Fonts\\\\NotoSansKR-Light.otf',\n",
       " 'C:\\\\Windows\\\\Fonts\\\\Candarali.ttf',\n",
       " 'C:\\\\Windows\\\\Fonts\\\\palabi.ttf',\n",
       " 'C:\\\\Windows\\\\Fonts\\\\mmrtextb.ttf',\n",
       " 'C:\\\\Windows\\\\Fonts\\\\msyhbd.ttc',\n",
       " 'C:\\\\Windows\\\\Fonts\\\\calibri.ttf',\n",
       " 'C:\\\\Windows\\\\Fonts\\\\NanumSquareEB.ttf',\n",
       " 'C:\\\\Windows\\\\Fonts\\\\Nirmala.ttf',\n",
       " 'C:\\\\Windows\\\\Fonts\\\\malgun.ttf',\n",
       " 'C:\\\\Windows\\\\Fonts\\\\NanumSquareB.ttf',\n",
       " 'C:\\\\Windows\\\\Fonts\\\\constani.ttf',\n",
       " 'C:\\\\Windows\\\\Fonts\\\\comicbd.ttf',\n",
       " 'C:\\\\Windows\\\\Fonts\\\\bahnschrift.ttf',\n",
       " 'C:\\\\Windows\\\\Fonts\\\\ntailu.ttf',\n",
       " 'C:\\\\Windows\\\\Fonts\\\\gadugi.ttf',\n",
       " 'C:\\\\Windows\\\\Fonts\\\\NanumSquareL.ttf',\n",
       " 'C:\\\\Windows\\\\Fonts\\\\batang.ttc',\n",
       " 'C:\\\\Windows\\\\Fonts\\\\gulim.ttc',\n",
       " 'C:\\\\Windows\\\\Fonts\\\\trebucbd.ttf',\n",
       " 'C:\\\\Windows\\\\Fonts\\\\cambria.ttc',\n",
       " 'C:\\\\Windows\\\\Fonts\\\\seguihis.ttf',\n",
       " 'C:\\\\Windows\\\\Fonts\\\\NanumBarunGothicLight.ttf',\n",
       " 'C:\\\\Windows\\\\Fonts\\\\micross.ttf',\n",
       " 'C:\\\\Windows\\\\Fonts\\\\phagspab.ttf',\n",
       " 'C:\\\\Windows\\\\Fonts\\\\segoeuisl.ttf',\n",
       " 'C:\\\\Windows\\\\Fonts\\\\Candara.ttf',\n",
       " 'C:\\\\Windows\\\\Fonts\\\\SCDream9.otf',\n",
       " 'C:\\\\Windows\\\\Fonts\\\\YuGothB.ttc',\n",
       " 'C:\\\\Windows\\\\Fonts\\\\msjh.ttc',\n",
       " 'C:\\\\Windows\\\\Fonts\\\\YuGothM.ttc',\n",
       " 'C:\\\\Windows\\\\Fonts\\\\constanz.ttf',\n",
       " 'C:\\\\Windows\\\\Fonts\\\\comici.ttf',\n",
       " 'C:\\\\Windows\\\\Fonts\\\\trebucbi.ttf',\n",
       " 'C:\\\\Windows\\\\Fonts\\\\symbol.ttf',\n",
       " 'C:\\\\Windows\\\\Fonts\\\\Gabriola.ttf',\n",
       " 'C:\\\\Windows\\\\Fonts\\\\SCDream8.otf',\n",
       " 'C:\\\\Windows\\\\Fonts\\\\NotoSansKR-Thin.otf',\n",
       " 'C:\\\\Windows\\\\Fonts\\\\consolai.ttf',\n",
       " 'C:\\\\Windows\\\\Fonts\\\\msyhl.ttc',\n",
       " 'C:\\\\Windows\\\\Fonts\\\\corbeli.ttf',\n",
       " 'C:\\\\Windows\\\\Fonts\\\\SitkaZ.ttc',\n",
       " 'C:\\\\Windows\\\\Fonts\\\\marlett.ttf',\n",
       " 'C:\\\\Windows\\\\Fonts\\\\msgothic.ttc',\n",
       " 'C:\\\\Windows\\\\Fonts\\\\pala.ttf',\n",
       " 'C:\\\\Windows\\\\Fonts\\\\malgunbd.ttf',\n",
       " 'C:\\\\Windows\\\\Fonts\\\\corbelb.ttf',\n",
       " 'C:\\\\Windows\\\\Fonts\\\\msjhbd.ttc',\n",
       " 'C:\\\\Windows\\\\Fonts\\\\msjhl.ttc',\n",
       " 'C:\\\\Windows\\\\Fonts\\\\NotoSansKR-Regular.otf',\n",
       " 'C:\\\\Windows\\\\Fonts\\\\SitkaB.ttc',\n",
       " 'C:\\\\Windows\\\\Fonts\\\\SCDream5.otf',\n",
       " 'C:\\\\Windows\\\\Fonts\\\\constan.ttf',\n",
       " 'C:\\\\Windows\\\\Fonts\\\\georgiai.ttf']"
      ]
     },
     "execution_count": 2,
     "metadata": {},
     "output_type": "execute_result"
    }
   ],
   "source": [
    "flist = font_manager.findSystemFonts()\n",
    "flist"
   ]
  },
  {
   "cell_type": "code",
   "execution_count": null,
   "id": "a33e86d9",
   "metadata": {},
   "outputs": [],
   "source": [
    "from Myfun"
   ]
  },
  {
   "cell_type": "code",
   "execution_count": 4,
   "id": "4e0d971b",
   "metadata": {
    "ExecuteTime": {
     "end_time": "2022-06-02T01:56:57.193310Z",
     "start_time": "2022-06-02T01:56:56.296350Z"
    }
   },
   "outputs": [],
   "source": [
    "import seaborn as sns\n",
    "import matplotlib as mpl\n",
    "import matplotlib.pyplot as plt"
   ]
  },
  {
   "cell_type": "code",
   "execution_count": null,
   "id": "d058b137",
   "metadata": {
    "ExecuteTime": {
     "start_time": "2022-06-02T02:14:27.565Z"
    }
   },
   "outputs": [],
   "source": [
    "sns.set(rc = {\"figure.figsize\" : (15,9)})\n",
    "plt.style.use('ggplot')\n",
    "sns.set_style('darkgrid')\n",
    "plt.rc(\"font\", family=\"Noto Sans KR\") # 한글 폰트 설정\n",
    "plt.rc(\"axes\", unicode_minus=False) # 음수값 깨지는 폰트 설정"
   ]
  },
  {
   "cell_type": "code",
   "execution_count": 12,
   "id": "ed7861f6",
   "metadata": {
    "ExecuteTime": {
     "end_time": "2022-06-02T01:58:37.099112Z",
     "start_time": "2022-06-02T01:58:37.088109Z"
    }
   },
   "outputs": [
    {
     "data": {
      "text/plain": [
       "'C:\\\\Users\\\\user\\\\miniconda3\\\\envs\\\\ds_study\\\\lib\\\\site-packages\\\\matplotlib\\\\mpl-data\\\\matplotlibrc'"
      ]
     },
     "execution_count": 12,
     "metadata": {},
     "output_type": "execute_result"
    }
   ],
   "source": [
    "import matplotlib\n",
    "matplotlib.matplotlib_fname()"
   ]
  },
  {
   "cell_type": "code",
   "execution_count": null,
   "id": "0c05c324",
   "metadata": {
    "ExecuteTime": {
     "start_time": "2022-06-02T02:14:39.717Z"
    }
   },
   "outputs": [],
   "source": [
    "fig , axes = plt.subplot()"
   ]
  },
  {
   "cell_type": "code",
   "execution_count": null,
   "id": "0c734a5a",
   "metadata": {},
   "outputs": [],
   "source": []
  }
 ],
 "metadata": {
  "kernelspec": {
   "display_name": "Python 3 (ipykernel)",
   "language": "python",
   "name": "python3"
  },
  "language_info": {
   "codemirror_mode": {
    "name": "ipython",
    "version": 3
   },
   "file_extension": ".py",
   "mimetype": "text/x-python",
   "name": "python",
   "nbconvert_exporter": "python",
   "pygments_lexer": "ipython3",
   "version": "3.8.13"
  },
  "toc": {
   "base_numbering": 1,
   "nav_menu": {},
   "number_sections": true,
   "sideBar": true,
   "skip_h1_title": false,
   "title_cell": "Table of Contents",
   "title_sidebar": "Contents",
   "toc_cell": false,
   "toc_position": {},
   "toc_section_display": true,
   "toc_window_display": false
  },
  "varInspector": {
   "cols": {
    "lenName": 16,
    "lenType": 16,
    "lenVar": 40
   },
   "kernels_config": {
    "python": {
     "delete_cmd_postfix": "",
     "delete_cmd_prefix": "del ",
     "library": "var_list.py",
     "varRefreshCmd": "print(var_dic_list())"
    },
    "r": {
     "delete_cmd_postfix": ") ",
     "delete_cmd_prefix": "rm(",
     "library": "var_list.r",
     "varRefreshCmd": "cat(var_dic_list()) "
    }
   },
   "types_to_exclude": [
    "module",
    "function",
    "builtin_function_or_method",
    "instance",
    "_Feature"
   ],
   "window_display": false
  }
 },
 "nbformat": 4,
 "nbformat_minor": 5
}
