{
 "cells": [
  {
   "cell_type": "markdown",
   "metadata": {
    "id": "jgFAOz-Tw1VI"
   },
   "source": [
    "# CH07.Pandas - 자료형 다루기\n",
    "\n",
    "---\n",
    "* 날짜: 2022-04-13\n",
    "* 이름: 고민수\n"
   ]
  },
  {
   "cell_type": "markdown",
   "metadata": {
    "id": "i1Rco0Orob6Z"
   },
   "source": [
    "## 개념정리"
   ]
  },
  {
   "cell_type": "markdown",
   "metadata": {
    "id": "_3uSBF40BdCd"
   },
   "source": [
    "pandas는 데이타 분석(Data Analysis)을 위해 널리 사용되는 파이썬 라이브러리 패키지입니다. 이번 시간에는 pandas의 기본 자료형을 알아보고 간단하게 다루는 방법을 알아보도록 합니다. \n",
    "```\n",
    "import pandas as pd\n",
    "```\n",
    "\n"
   ]
  },
  {
   "cell_type": "code",
   "execution_count": 1,
   "metadata": {
    "id": "u7VD5dy9BeVa"
   },
   "outputs": [],
   "source": [
    "import pandas as pd"
   ]
  },
  {
   "cell_type": "markdown",
   "metadata": {
    "id": "mYhgpGCW6PDM"
   },
   "source": [
    "---\n",
    "### **(1) 판다스 자료형 : Series**\n",
    "---\n",
    "\n",
    "Series 는 1차원 배열 자료형으로 인덱스와 값의 쌍으로 구성되어 있습니다. \n",
    "\n",
    "| index | data |\n",
    "|--|--|\n",
    "|a|1|\n",
    "|b|2|\n",
    "|c|3|"
   ]
  },
  {
   "cell_type": "markdown",
   "metadata": {
    "id": "M9UiL_9hCveI"
   },
   "source": [
    "#### **| 딕셔너리를 이용해 생성하기**\n",
    "\n",
    "*  `pd.Series(dictionary)` : `dictionary` 자료형을 이용해 데이터를 생성합니다. \n",
    "\n",
    "```\n",
    "s = pd.Series({\"a\": 1, \"b\": 2, \"c\":3})\n",
    "```"
   ]
  },
  {
   "cell_type": "code",
   "execution_count": 3,
   "metadata": {
    "id": "Wx1BuGfVDIaB"
   },
   "outputs": [
    {
     "data": {
      "text/plain": [
       "a    1\n",
       "b    2\n",
       "c    3\n",
       "dtype: int64"
      ]
     },
     "execution_count": 3,
     "metadata": {},
     "output_type": "execute_result"
    }
   ],
   "source": [
    "s = pd.Series({\"a\": 1, \"b\": 2, \"c\":3})\n",
    "s"
   ]
  },
  {
   "cell_type": "markdown",
   "metadata": {
    "id": "TakAPn677Wfo"
   },
   "source": [
    "#### **| 리스트를 이용해 생성하기**\n",
    "\n",
    "*  `pd.Series(list)` : `list` 자료형을 이용해 데이터를 생성합니다. (튜플, 넘파이어레이 도 가능합니다)\n",
    "\n",
    "```\n",
    "s = pd.Series([1, 2, 3])\n",
    "```"
   ]
  },
  {
   "cell_type": "code",
   "execution_count": 4,
   "metadata": {
    "id": "W5VzcSCf6PDP"
   },
   "outputs": [
    {
     "data": {
      "text/plain": [
       "0    1\n",
       "1    2\n",
       "2    3\n",
       "dtype: int64"
      ]
     },
     "execution_count": 4,
     "metadata": {},
     "output_type": "execute_result"
    }
   ],
   "source": [
    "s = pd.Series([1, 2, 3])\n",
    "s"
   ]
  },
  {
   "cell_type": "markdown",
   "metadata": {
    "id": "pYljh3mc7eir"
   },
   "source": [
    "\n",
    "위에서와 같이 `index` 없이 `list`만 작성하면 index 값은 자동적으로 0,1,2, .... 값으로 적용됩니다. \n",
    "\n",
    "원하는 `index`를 주려면 아래와 같이 작성합니다. \n",
    "\n",
    "* `pad.Series(list, index)` : `list` 자료형을 이용해 데이터 생성 시 `index`를 부여합니다. \n",
    "\n",
    "\n",
    "\n",
    "```\n",
    "s = pd.Series([1,2,3], index=['a','b','c'])\n",
    "```"
   ]
  },
  {
   "cell_type": "code",
   "execution_count": 6,
   "metadata": {
    "id": "RKykLF4M6PDQ"
   },
   "outputs": [
    {
     "data": {
      "text/plain": [
       "a    1\n",
       "b    2\n",
       "c    3\n",
       "dtype: int64"
      ]
     },
     "execution_count": 6,
     "metadata": {},
     "output_type": "execute_result"
    }
   ],
   "source": [
    "s = pd.Series([1,2,3], index=['a','b','c'])\n",
    "s"
   ]
  },
  {
   "cell_type": "markdown",
   "metadata": {
    "id": "Ma36Ihj0EgTS"
   },
   "source": [
    "#### **| 값 확인**\n",
    "\n",
    "\n",
    "* `.values` : `series`의 `data` 값을 반환 합니다. \n",
    "* `.index`: `series`의 `index` 값을 반환합니다. \n",
    "\n",
    "`values`와 `index` 값을 출력하고 두 값의 데이터 타입을 확인해 봅시다. \n",
    "\n",
    "```\n",
    "print(s.values, type(s.values))\n",
    "print(s.index, type(s.index))\n",
    "```"
   ]
  },
  {
   "cell_type": "code",
   "execution_count": null,
   "metadata": {
    "id": "iXA8uA_5EPIv"
   },
   "outputs": [],
   "source": []
  },
  {
   "cell_type": "markdown",
   "metadata": {
    "id": "gElIOmyZFW-c"
   },
   "source": [
    "#### | **브로드 캐스팅**\n",
    "\n",
    "`values` 값은 `ndarray` 타입임을 확인할 수 있습니다. \n",
    "\n",
    "이는 우리가 앞서 넘파이 어레이에서 사용한 것처럼 브로드 캐스팅이 가능함을 뜻합니다.\n",
    "\n",
    "```\n",
    "s ** 2\n",
    "```"
   ]
  },
  {
   "cell_type": "code",
   "execution_count": 8,
   "metadata": {
    "id": "0fkWQuk-E-Ie"
   },
   "outputs": [
    {
     "data": {
      "text/plain": [
       "(array([1, 2, 3], dtype=int64),\n",
       " a    1\n",
       " b    4\n",
       " c    9\n",
       " dtype: int64)"
      ]
     },
     "execution_count": 8,
     "metadata": {},
     "output_type": "execute_result"
    }
   ],
   "source": [
    "s.values, s ** 2"
   ]
  },
  {
   "cell_type": "markdown",
   "metadata": {
    "id": "VvFdaeT86PDT"
   },
   "source": [
    "---\n",
    "### **(2) 판다스 자료형 : DataFrame**\n",
    "---\n",
    "\n",
    "`DataFrame`은 2차원 배열 자료형으로 앞서 배운 `Series`의 두가지 요소, 값(`value`) 행 인덱스(`index`) 에 추가로  열(`column`) 이 추가됩니다. \n",
    "\n",
    "| index | c1 | c2 |\n",
    "|--|--|--|\n",
    "|0|1|4|\n",
    "|1|2|5|\n",
    "|2|3|6|"
   ]
  },
  {
   "cell_type": "markdown",
   "metadata": {
    "id": "43Qh3JSu9Xjr"
   },
   "source": [
    "#### **| 딕셔너리를 이용해 생성하기**\n",
    "\n",
    "*  `pd.DataFrame(dictionary, index=0,1,..)` : `dictionary` 자료형을 이용해 데이터를 생성합니다.\n",
    "\n",
    "```\n",
    "df = pd.DataFrame({\"c1\": [1, 2, 3],\n",
    "                  \"c2\": [4, 5, 6]}, \n",
    "                  )\n",
    "```"
   ]
  },
  {
   "cell_type": "code",
   "execution_count": 10,
   "metadata": {
    "id": "LTqvhAfF9Xjx"
   },
   "outputs": [
    {
     "data": {
      "text/html": [
       "<div>\n",
       "<style scoped>\n",
       "    .dataframe tbody tr th:only-of-type {\n",
       "        vertical-align: middle;\n",
       "    }\n",
       "\n",
       "    .dataframe tbody tr th {\n",
       "        vertical-align: top;\n",
       "    }\n",
       "\n",
       "    .dataframe thead th {\n",
       "        text-align: right;\n",
       "    }\n",
       "</style>\n",
       "<table border=\"1\" class=\"dataframe\">\n",
       "  <thead>\n",
       "    <tr style=\"text-align: right;\">\n",
       "      <th></th>\n",
       "      <th>c1</th>\n",
       "      <th>c2</th>\n",
       "    </tr>\n",
       "  </thead>\n",
       "  <tbody>\n",
       "    <tr>\n",
       "      <th>0</th>\n",
       "      <td>1</td>\n",
       "      <td>4</td>\n",
       "    </tr>\n",
       "    <tr>\n",
       "      <th>1</th>\n",
       "      <td>2</td>\n",
       "      <td>5</td>\n",
       "    </tr>\n",
       "    <tr>\n",
       "      <th>2</th>\n",
       "      <td>3</td>\n",
       "      <td>6</td>\n",
       "    </tr>\n",
       "  </tbody>\n",
       "</table>\n",
       "</div>"
      ],
      "text/plain": [
       "   c1  c2\n",
       "0   1   4\n",
       "1   2   5\n",
       "2   3   6"
      ]
     },
     "execution_count": 10,
     "metadata": {},
     "output_type": "execute_result"
    }
   ],
   "source": [
    "df = pd.DataFrame({\"c1\": [1, 2, 3],\n",
    "                  \"c2\": [4, 5, 6]}, \n",
    "                  )\n",
    "df"
   ]
  },
  {
   "cell_type": "markdown",
   "metadata": {
    "id": "pbpeFCBrGvi0"
   },
   "source": [
    "#### **| 리스트를 이용해 생성하기**\n",
    "\n",
    "\n",
    "*  `pd.DataFrame(list, index=[0,1,..], columns=[0,1,...])` : `list` 자료형을 이용해 데이터를 생성합니다.\n",
    "\n",
    "이번에는 넘파이 배열을 활용해서 생성해 보겠습니다. \n",
    "\n",
    "```\n",
    "import numpy as np\n",
    "\n",
    "d = np.array([[1,2,3],\n",
    "              [4,5,6]])\n",
    "df = pd.DataFrame(d)\n",
    "df\n",
    "```"
   ]
  },
  {
   "cell_type": "code",
   "execution_count": 12,
   "metadata": {
    "id": "ONn1cu3BGvi7"
   },
   "outputs": [
    {
     "data": {
      "text/html": [
       "<div>\n",
       "<style scoped>\n",
       "    .dataframe tbody tr th:only-of-type {\n",
       "        vertical-align: middle;\n",
       "    }\n",
       "\n",
       "    .dataframe tbody tr th {\n",
       "        vertical-align: top;\n",
       "    }\n",
       "\n",
       "    .dataframe thead th {\n",
       "        text-align: right;\n",
       "    }\n",
       "</style>\n",
       "<table border=\"1\" class=\"dataframe\">\n",
       "  <thead>\n",
       "    <tr style=\"text-align: right;\">\n",
       "      <th></th>\n",
       "      <th>0</th>\n",
       "      <th>1</th>\n",
       "      <th>2</th>\n",
       "    </tr>\n",
       "  </thead>\n",
       "  <tbody>\n",
       "    <tr>\n",
       "      <th>0</th>\n",
       "      <td>1</td>\n",
       "      <td>2</td>\n",
       "      <td>3</td>\n",
       "    </tr>\n",
       "    <tr>\n",
       "      <th>1</th>\n",
       "      <td>4</td>\n",
       "      <td>5</td>\n",
       "      <td>6</td>\n",
       "    </tr>\n",
       "  </tbody>\n",
       "</table>\n",
       "</div>"
      ],
      "text/plain": [
       "   0  1  2\n",
       "0  1  2  3\n",
       "1  4  5  6"
      ]
     },
     "execution_count": 12,
     "metadata": {},
     "output_type": "execute_result"
    }
   ],
   "source": [
    "import numpy as np\n",
    "\n",
    "d = np.array([[1,2,3],\n",
    "              [4,5,6]])\n",
    "df = pd.DataFrame(d)\n",
    "df"
   ]
  },
  {
   "cell_type": "markdown",
   "metadata": {
    "id": "kFjmNHF8IxSn"
   },
   "source": [
    "리스트를 이용해 데이터프레임을 만들 경우 넘파이 배열과 같은 차원개념으로 생성됩니다. \n",
    "\n",
    "따라서 위에서 만든 것과 같은 데이터프레임를 만들기 위해선 아래와 같이 작성해야 합니다. \n",
    "\n",
    "또한 열 인덱스를 부여하기 위해서는 `columns`를 추가로 적어줍니다.\n",
    "\n",
    "```\n",
    "import numpy as np\n",
    "\n",
    "d = np.array([[1,2],\n",
    "              [3,4],\n",
    "              [5,6]])\n",
    "df = pd.DataFrame(d, columns=['c1', 'c2'])\n",
    "```"
   ]
  },
  {
   "cell_type": "code",
   "execution_count": 17,
   "metadata": {
    "id": "QjJdHtHeFvx-"
   },
   "outputs": [
    {
     "data": {
      "text/html": [
       "<div>\n",
       "<style scoped>\n",
       "    .dataframe tbody tr th:only-of-type {\n",
       "        vertical-align: middle;\n",
       "    }\n",
       "\n",
       "    .dataframe tbody tr th {\n",
       "        vertical-align: top;\n",
       "    }\n",
       "\n",
       "    .dataframe thead th {\n",
       "        text-align: right;\n",
       "    }\n",
       "</style>\n",
       "<table border=\"1\" class=\"dataframe\">\n",
       "  <thead>\n",
       "    <tr style=\"text-align: right;\">\n",
       "      <th></th>\n",
       "      <th>c1</th>\n",
       "      <th>c2</th>\n",
       "    </tr>\n",
       "  </thead>\n",
       "  <tbody>\n",
       "    <tr>\n",
       "      <th>0</th>\n",
       "      <td>1</td>\n",
       "      <td>4</td>\n",
       "    </tr>\n",
       "    <tr>\n",
       "      <th>1</th>\n",
       "      <td>2</td>\n",
       "      <td>5</td>\n",
       "    </tr>\n",
       "    <tr>\n",
       "      <th>2</th>\n",
       "      <td>3</td>\n",
       "      <td>6</td>\n",
       "    </tr>\n",
       "  </tbody>\n",
       "</table>\n",
       "</div>"
      ],
      "text/plain": [
       "   c1  c2\n",
       "0   1   4\n",
       "1   2   5\n",
       "2   3   6"
      ]
     },
     "execution_count": 17,
     "metadata": {},
     "output_type": "execute_result"
    }
   ],
   "source": [
    "import numpy as np\n",
    "\n",
    "d = np.array([[1,4],\n",
    "              [2,5],\n",
    "              [3,6]])\n",
    "df = pd.DataFrame(d, columns=['c1', 'c2'])\n",
    "df"
   ]
  },
  {
   "cell_type": "markdown",
   "metadata": {
    "id": "zYlkz4U6JhRX"
   },
   "source": [
    "#### **| 값 확인**\n",
    "\n",
    "\n",
    "* `.values` : `DataFrame`의 `data` 값을 반환 합니다. \n",
    "* `.index`: `DataFrame`의 `index` 값을 반환합니다. \n",
    "* `.columns`: `DataFrame`의 `columns` 값을 반환합니다.\n",
    "\n",
    "`values`, `index`, `columns` 값을 출력하고 데이터 타입을 확인해 봅시다. "
   ]
  },
  {
   "cell_type": "code",
   "execution_count": 18,
   "metadata": {
    "id": "OgjmVuxDJZ3O"
   },
   "outputs": [
    {
     "data": {
      "text/plain": [
       "array([[1, 4],\n",
       "       [2, 5],\n",
       "       [3, 6]])"
      ]
     },
     "execution_count": 18,
     "metadata": {},
     "output_type": "execute_result"
    }
   ],
   "source": [
    "df.columns, type(df.columns)\n",
    "df.values"
   ]
  },
  {
   "cell_type": "markdown",
   "metadata": {
    "id": "j-b8EYa1KcIY"
   },
   "source": [
    "#### | **브로드 캐스팅**\n",
    "\n",
    "`Series`와 마찬가지로 `DataFrame` 자료형도 브로드 캐스팅이 가능합니다. \n",
    "\n",
    "```\n",
    "df ** 2\n",
    "\n",
    "```"
   ]
  },
  {
   "cell_type": "code",
   "execution_count": 19,
   "metadata": {
    "id": "YUYnlwpCKcIZ"
   },
   "outputs": [
    {
     "data": {
      "text/html": [
       "<div>\n",
       "<style scoped>\n",
       "    .dataframe tbody tr th:only-of-type {\n",
       "        vertical-align: middle;\n",
       "    }\n",
       "\n",
       "    .dataframe tbody tr th {\n",
       "        vertical-align: top;\n",
       "    }\n",
       "\n",
       "    .dataframe thead th {\n",
       "        text-align: right;\n",
       "    }\n",
       "</style>\n",
       "<table border=\"1\" class=\"dataframe\">\n",
       "  <thead>\n",
       "    <tr style=\"text-align: right;\">\n",
       "      <th></th>\n",
       "      <th>c1</th>\n",
       "      <th>c2</th>\n",
       "    </tr>\n",
       "  </thead>\n",
       "  <tbody>\n",
       "    <tr>\n",
       "      <th>0</th>\n",
       "      <td>1</td>\n",
       "      <td>16</td>\n",
       "    </tr>\n",
       "    <tr>\n",
       "      <th>1</th>\n",
       "      <td>4</td>\n",
       "      <td>25</td>\n",
       "    </tr>\n",
       "    <tr>\n",
       "      <th>2</th>\n",
       "      <td>9</td>\n",
       "      <td>36</td>\n",
       "    </tr>\n",
       "  </tbody>\n",
       "</table>\n",
       "</div>"
      ],
      "text/plain": [
       "   c1  c2\n",
       "0   1  16\n",
       "1   4  25\n",
       "2   9  36"
      ]
     },
     "execution_count": 19,
     "metadata": {},
     "output_type": "execute_result"
    }
   ],
   "source": [
    "df ** 2"
   ]
  },
  {
   "cell_type": "markdown",
   "metadata": {
    "id": "rBdAgxDEkVJn"
   },
   "source": [
    "`DataFrame`과 리스트의 연산을 하면 `DataFrame`의 각 열(`column`) 별로 연산이 진행됩니다. \n",
    "\n",
    "```\n",
    "df ** [1,2]\n",
    "```"
   ]
  },
  {
   "cell_type": "code",
   "execution_count": 21,
   "metadata": {
    "id": "QeK0CU9Ckh-c"
   },
   "outputs": [
    {
     "data": {
      "text/html": [
       "<div>\n",
       "<style scoped>\n",
       "    .dataframe tbody tr th:only-of-type {\n",
       "        vertical-align: middle;\n",
       "    }\n",
       "\n",
       "    .dataframe tbody tr th {\n",
       "        vertical-align: top;\n",
       "    }\n",
       "\n",
       "    .dataframe thead th {\n",
       "        text-align: right;\n",
       "    }\n",
       "</style>\n",
       "<table border=\"1\" class=\"dataframe\">\n",
       "  <thead>\n",
       "    <tr style=\"text-align: right;\">\n",
       "      <th></th>\n",
       "      <th>c1</th>\n",
       "      <th>c2</th>\n",
       "    </tr>\n",
       "  </thead>\n",
       "  <tbody>\n",
       "    <tr>\n",
       "      <th>0</th>\n",
       "      <td>1</td>\n",
       "      <td>16</td>\n",
       "    </tr>\n",
       "    <tr>\n",
       "      <th>1</th>\n",
       "      <td>2</td>\n",
       "      <td>25</td>\n",
       "    </tr>\n",
       "    <tr>\n",
       "      <th>2</th>\n",
       "      <td>3</td>\n",
       "      <td>36</td>\n",
       "    </tr>\n",
       "  </tbody>\n",
       "</table>\n",
       "</div>"
      ],
      "text/plain": [
       "   c1  c2\n",
       "0   1  16\n",
       "1   2  25\n",
       "2   3  36"
      ]
     },
     "execution_count": 21,
     "metadata": {},
     "output_type": "execute_result"
    }
   ],
   "source": [
    "df ** [1,2]"
   ]
  },
  {
   "cell_type": "markdown",
   "metadata": {
    "id": "sTuFV_uJ6PDW"
   },
   "source": [
    "---\n",
    "### **(3) 인덱싱**\n",
    "---\n",
    "\n",
    "\n",
    "\n",
    "아래와 같은 데이터프레임을 우선 생성해 봅시다. \n",
    "\n",
    "| index | c1 | c2 | c3|\n",
    "|--|--|--|--|\n",
    "|a|1|2|3|\n",
    "|b|4|5|6|\n",
    "|c|7|8|9|\n",
    "|d|10|11|12|\n",
    "\n",
    "```\n",
    "df = pd.DataFrame({'c1': [1,4,7,10],\n",
    "                   'c2': [2,5,8,11],\n",
    "                   'c3': [3,6,9,12]},\n",
    "                   index=['a','b','c','d']\n",
    "                   )\n",
    "\n",
    "```\n"
   ]
  },
  {
   "cell_type": "code",
   "execution_count": 31,
   "metadata": {
    "id": "U8z9IJj3MYkf"
   },
   "outputs": [
    {
     "data": {
      "text/plain": [
       "a     1\n",
       "b     4\n",
       "c     7\n",
       "d    10\n",
       "Name: c1, dtype: int64"
      ]
     },
     "execution_count": 31,
     "metadata": {},
     "output_type": "execute_result"
    }
   ],
   "source": [
    "df = pd.DataFrame({'c1': [1,4,7,10],\n",
    "                   'c2': [2,5,8,11],\n",
    "                   'c3': [3,6,9,12]},\n",
    "                   index=['a','b','c','d']\n",
    "                   )\n",
    "df[\"c1\"]"
   ]
  },
  {
   "cell_type": "code",
   "execution_count": 30,
   "metadata": {},
   "outputs": [
    {
     "data": {
      "text/html": [
       "<div>\n",
       "<style scoped>\n",
       "    .dataframe tbody tr th:only-of-type {\n",
       "        vertical-align: middle;\n",
       "    }\n",
       "\n",
       "    .dataframe tbody tr th {\n",
       "        vertical-align: top;\n",
       "    }\n",
       "\n",
       "    .dataframe thead th {\n",
       "        text-align: right;\n",
       "    }\n",
       "</style>\n",
       "<table border=\"1\" class=\"dataframe\">\n",
       "  <thead>\n",
       "    <tr style=\"text-align: right;\">\n",
       "      <th></th>\n",
       "      <th>c1</th>\n",
       "      <th>c3</th>\n",
       "      <th>c2</th>\n",
       "    </tr>\n",
       "  </thead>\n",
       "  <tbody>\n",
       "    <tr>\n",
       "      <th>a</th>\n",
       "      <td>1</td>\n",
       "      <td>3</td>\n",
       "      <td>2</td>\n",
       "    </tr>\n",
       "    <tr>\n",
       "      <th>b</th>\n",
       "      <td>4</td>\n",
       "      <td>6</td>\n",
       "      <td>5</td>\n",
       "    </tr>\n",
       "    <tr>\n",
       "      <th>c</th>\n",
       "      <td>7</td>\n",
       "      <td>9</td>\n",
       "      <td>8</td>\n",
       "    </tr>\n",
       "    <tr>\n",
       "      <th>d</th>\n",
       "      <td>10</td>\n",
       "      <td>12</td>\n",
       "      <td>11</td>\n",
       "    </tr>\n",
       "  </tbody>\n",
       "</table>\n",
       "</div>"
      ],
      "text/plain": [
       "   c1  c3  c2\n",
       "a   1   3   2\n",
       "b   4   6   5\n",
       "c   7   9   8\n",
       "d  10  12  11"
      ]
     },
     "execution_count": 30,
     "metadata": {},
     "output_type": "execute_result"
    }
   ],
   "source": [
    "# [  [ ]  ] 를 통해 칼럼 지정 가능\n",
    "\n",
    "df[ [\"c1\",\"c3\",\"c2\"] ]"
   ]
  },
  {
   "cell_type": "markdown",
   "metadata": {
    "id": "r3MTRML2MZHd"
   },
   "source": [
    "\n",
    "판다스의 객체에 대한 인덱싱은 `암묵적 인덱스`와 `명시적 인덱스` 두가지 방법으로 가능합니다. \n",
    "\n",
    "\n",
    "| 실제 인덱스 | loc (명시적 인덱스) | iloc(암묵적 인덱스) |\n",
    "|--|--|--|\n",
    "|a|a|0|\n",
    "|b|b|1|\n",
    "|c|c|2|\n"
   ]
  },
  {
   "cell_type": "markdown",
   "metadata": {
    "id": "UUhCmw0NP8QN"
   },
   "source": [
    "#### | **명시적 인덱스**\n",
    "\n",
    "* `.loc[index]` :  인덱스의 정확한 이름을 필요로 합니다. \n",
    "\n",
    "```\n",
    "s_loc = df.loc['a']\n",
    "```"
   ]
  },
  {
   "cell_type": "code",
   "execution_count": 34,
   "metadata": {
    "id": "8vGZajZ4MW9M"
   },
   "outputs": [
    {
     "name": "stdout",
     "output_type": "stream",
     "text": [
      "   c1  c2  c3\n",
      "a   1   2   3\n",
      "b   4   5   6\n",
      "c   7   8   9\n",
      "d  10  11  12\n"
     ]
    },
    {
     "data": {
      "text/plain": [
       "c1    4\n",
       "c2    5\n",
       "c3    6\n",
       "Name: b, dtype: int64"
      ]
     },
     "execution_count": 34,
     "metadata": {},
     "output_type": "execute_result"
    }
   ],
   "source": [
    "print(df)\n",
    "s_loc = df.loc['b']\n",
    "s_loc"
   ]
  },
  {
   "cell_type": "markdown",
   "metadata": {
    "id": "hHLzqa2PQQdO"
   },
   "source": [
    "#### | **암묵적 인덱스**\n",
    "\n",
    "* `.iloc[index]` : 인덱스의 정확한 이름과 별개로 0부터 인덱스를 부여합니다. \n",
    "\n",
    "```\n",
    "s_iloc = df.iloc[0]\n",
    "```"
   ]
  },
  {
   "cell_type": "code",
   "execution_count": 39,
   "metadata": {
    "id": "wPHAppmKQQdU"
   },
   "outputs": [
    {
     "data": {
      "text/plain": [
       "c1    1\n",
       "c2    2\n",
       "c3    3\n",
       "Name: a, dtype: int64"
      ]
     },
     "execution_count": 39,
     "metadata": {},
     "output_type": "execute_result"
    }
   ],
   "source": [
    "s_iloc = df.iloc[0]\n",
    "s_iloc"
   ]
  },
  {
   "cell_type": "markdown",
   "metadata": {
    "id": "-wO9MsEQSMXc"
   },
   "source": [
    "이 때 인덱싱의 반환 값은 모두  `Series` 임을 명심합니다.\n",
    "\n",
    "```\n",
    "type(s_loc), type(s_iloc)\n",
    "```"
   ]
  },
  {
   "cell_type": "code",
   "execution_count": 40,
   "metadata": {
    "id": "BIe2dY0DRd-d"
   },
   "outputs": [
    {
     "data": {
      "text/plain": [
       "(pandas.core.series.Series, pandas.core.series.Series)"
      ]
     },
     "execution_count": 40,
     "metadata": {},
     "output_type": "execute_result"
    }
   ],
   "source": [
    "type(s_loc), type(s_iloc)"
   ]
  },
  {
   "cell_type": "markdown",
   "metadata": {
    "id": "8qlUEwXDShtJ"
   },
   "source": [
    "#### | **행, 열 인덱싱**\n",
    "\n",
    "* `.loc[index,column]`\n",
    "* `.iloc[index,column]` \n",
    "\n",
    "콤마(,) 기준 왼쪽은 행 인덱스(`index`)를 적고 오른쪽은 열 인덱스(`column`)를 입력합니다. \n",
    "\n",
    "\n",
    "\n",
    "| index | c1 | c2 | c3|\n",
    "|--|--|--|--|\n",
    "|a|1|2|3|\n",
    "|b|4|5|6|\n",
    "|c|7|8|9|\n",
    "|d|10|11|12|\n",
    "\n",
    "\n",
    "* 현재 정의된 `df`에서 값 5를 출력해 봅시다.\n",
    "\n",
    "```\n",
    "print(df.loc['b','c2'])\n",
    "print(df.iloc[1,1])\n",
    "```\n"
   ]
  },
  {
   "cell_type": "code",
   "execution_count": 41,
   "metadata": {
    "id": "u8Pp-oFdShtJ"
   },
   "outputs": [
    {
     "name": "stdout",
     "output_type": "stream",
     "text": [
      "5\n",
      "5\n"
     ]
    }
   ],
   "source": [
    "print(df.loc['b','c2'])\n",
    "print(df.iloc[1,1])"
   ]
  },
  {
   "cell_type": "markdown",
   "metadata": {
    "id": "hzWZ5G7mo2PR"
   },
   "source": [
    "#### **| 연습문제**\n"
   ]
  },
  {
   "cell_type": "markdown",
   "metadata": {
    "id": "ey_R7ZgXnHdp"
   },
   "source": [
    "**연습 01**\n",
    "\n",
    "현재 정의된 `df`에서 값 `12`를 출력해 봅시다.\n"
   ]
  },
  {
   "cell_type": "code",
   "execution_count": 42,
   "metadata": {
    "id": "NpR4u4TgVeAO"
   },
   "outputs": [
    {
     "data": {
      "text/plain": [
       "12"
      ]
     },
     "execution_count": 42,
     "metadata": {},
     "output_type": "execute_result"
    }
   ],
   "source": [
    "df.iloc[-1,-1]"
   ]
  },
  {
   "cell_type": "markdown",
   "metadata": {
    "id": "j6e7q-qEUdJR"
   },
   "source": [
    "**연습 02**\n",
    "\n",
    "행 `c`을 출력해 봅시다.\n",
    "\n",
    "\n"
   ]
  },
  {
   "cell_type": "code",
   "execution_count": 43,
   "metadata": {
    "id": "1nezJ5uuST-c"
   },
   "outputs": [
    {
     "data": {
      "text/plain": [
       "c1    7\n",
       "c2    8\n",
       "c3    9\n",
       "Name: c, dtype: int64"
      ]
     },
     "execution_count": 43,
     "metadata": {},
     "output_type": "execute_result"
    }
   ],
   "source": [
    "df.loc[\"c\"]"
   ]
  },
  {
   "cell_type": "markdown",
   "metadata": {
    "id": "dYIrtAEjUvQQ"
   },
   "source": [
    "**연습 03**\n",
    "\n",
    "행 `d`의 열 `c1`과 `c3`을 출력해 봅시다.\n"
   ]
  },
  {
   "cell_type": "code",
   "execution_count": 48,
   "metadata": {
    "id": "Fa6d0h-KUkhp"
   },
   "outputs": [
    {
     "data": {
      "text/html": [
       "<div>\n",
       "<style scoped>\n",
       "    .dataframe tbody tr th:only-of-type {\n",
       "        vertical-align: middle;\n",
       "    }\n",
       "\n",
       "    .dataframe tbody tr th {\n",
       "        vertical-align: top;\n",
       "    }\n",
       "\n",
       "    .dataframe thead th {\n",
       "        text-align: right;\n",
       "    }\n",
       "</style>\n",
       "<table border=\"1\" class=\"dataframe\">\n",
       "  <thead>\n",
       "    <tr style=\"text-align: right;\">\n",
       "      <th></th>\n",
       "      <th>c1</th>\n",
       "      <th>c3</th>\n",
       "    </tr>\n",
       "  </thead>\n",
       "  <tbody>\n",
       "    <tr>\n",
       "      <th>a</th>\n",
       "      <td>1</td>\n",
       "      <td>3</td>\n",
       "    </tr>\n",
       "    <tr>\n",
       "      <th>b</th>\n",
       "      <td>4</td>\n",
       "      <td>6</td>\n",
       "    </tr>\n",
       "    <tr>\n",
       "      <th>c</th>\n",
       "      <td>7</td>\n",
       "      <td>9</td>\n",
       "    </tr>\n",
       "    <tr>\n",
       "      <th>d</th>\n",
       "      <td>10</td>\n",
       "      <td>12</td>\n",
       "    </tr>\n",
       "  </tbody>\n",
       "</table>\n",
       "</div>"
      ],
      "text/plain": [
       "   c1  c3\n",
       "a   1   3\n",
       "b   4   6\n",
       "c   7   9\n",
       "d  10  12"
      ]
     },
     "execution_count": 48,
     "metadata": {},
     "output_type": "execute_result"
    }
   ],
   "source": [
    "df[[\"c1,\"c3\"]]"
   ]
  },
  {
   "cell_type": "markdown",
   "metadata": {
    "id": "2X4Hpzy7Vnni"
   },
   "source": [
    "---\n",
    "### **(4) 슬라이싱**\n",
    "---\n",
    "\n",
    "인덱스를 앞에서 배웠으니 이번엔 인덱스와 인덱스 까지의 값을 찾는 슬라이싱을 배워보도록 하겠습니다. \n",
    "\n",
    "시작하기전 `df`의 형태를 다시한번 확인해보겠습니다.\n",
    "\n",
    "```\n",
    "df\n",
    "```\n",
    "\n"
   ]
  },
  {
   "cell_type": "code",
   "execution_count": 49,
   "metadata": {
    "id": "BT5ZuouxWHmJ"
   },
   "outputs": [
    {
     "data": {
      "text/html": [
       "<div>\n",
       "<style scoped>\n",
       "    .dataframe tbody tr th:only-of-type {\n",
       "        vertical-align: middle;\n",
       "    }\n",
       "\n",
       "    .dataframe tbody tr th {\n",
       "        vertical-align: top;\n",
       "    }\n",
       "\n",
       "    .dataframe thead th {\n",
       "        text-align: right;\n",
       "    }\n",
       "</style>\n",
       "<table border=\"1\" class=\"dataframe\">\n",
       "  <thead>\n",
       "    <tr style=\"text-align: right;\">\n",
       "      <th></th>\n",
       "      <th>c1</th>\n",
       "      <th>c2</th>\n",
       "      <th>c3</th>\n",
       "    </tr>\n",
       "  </thead>\n",
       "  <tbody>\n",
       "    <tr>\n",
       "      <th>a</th>\n",
       "      <td>1</td>\n",
       "      <td>2</td>\n",
       "      <td>3</td>\n",
       "    </tr>\n",
       "    <tr>\n",
       "      <th>b</th>\n",
       "      <td>4</td>\n",
       "      <td>5</td>\n",
       "      <td>6</td>\n",
       "    </tr>\n",
       "    <tr>\n",
       "      <th>c</th>\n",
       "      <td>7</td>\n",
       "      <td>8</td>\n",
       "      <td>9</td>\n",
       "    </tr>\n",
       "    <tr>\n",
       "      <th>d</th>\n",
       "      <td>10</td>\n",
       "      <td>11</td>\n",
       "      <td>12</td>\n",
       "    </tr>\n",
       "  </tbody>\n",
       "</table>\n",
       "</div>"
      ],
      "text/plain": [
       "   c1  c2  c3\n",
       "a   1   2   3\n",
       "b   4   5   6\n",
       "c   7   8   9\n",
       "d  10  11  12"
      ]
     },
     "execution_count": 49,
     "metadata": {},
     "output_type": "execute_result"
    }
   ],
   "source": [
    "df"
   ]
  },
  {
   "cell_type": "markdown",
   "metadata": {
    "id": "SLHCQN8FWSDn"
   },
   "source": [
    "#### | **명시적 인덱스 슬라이싱**\n",
    "\n",
    "* `.loc[index1:index1]` : `index1` 부터 `index2`까지 슬라이싱 합니다. \n",
    "인덱스의 정확한 이름을 필요로 합니다. \n",
    "\n",
    "\n",
    "\n",
    "|||||\n",
    "|--|--|--|--|\n",
    "|b|4|5|6|\n",
    "|c|7|8|9|\n",
    "\n",
    "`df` 에서 위에 해당하는 행만 출력해 봅시다. \n",
    "\n",
    "```\n",
    "df.loc['b':'c']\n",
    "```"
   ]
  },
  {
   "cell_type": "code",
   "execution_count": 50,
   "metadata": {
    "id": "Glsnt1D4WSDo"
   },
   "outputs": [
    {
     "data": {
      "text/html": [
       "<div>\n",
       "<style scoped>\n",
       "    .dataframe tbody tr th:only-of-type {\n",
       "        vertical-align: middle;\n",
       "    }\n",
       "\n",
       "    .dataframe tbody tr th {\n",
       "        vertical-align: top;\n",
       "    }\n",
       "\n",
       "    .dataframe thead th {\n",
       "        text-align: right;\n",
       "    }\n",
       "</style>\n",
       "<table border=\"1\" class=\"dataframe\">\n",
       "  <thead>\n",
       "    <tr style=\"text-align: right;\">\n",
       "      <th></th>\n",
       "      <th>c1</th>\n",
       "      <th>c2</th>\n",
       "      <th>c3</th>\n",
       "    </tr>\n",
       "  </thead>\n",
       "  <tbody>\n",
       "    <tr>\n",
       "      <th>b</th>\n",
       "      <td>4</td>\n",
       "      <td>5</td>\n",
       "      <td>6</td>\n",
       "    </tr>\n",
       "    <tr>\n",
       "      <th>c</th>\n",
       "      <td>7</td>\n",
       "      <td>8</td>\n",
       "      <td>9</td>\n",
       "    </tr>\n",
       "  </tbody>\n",
       "</table>\n",
       "</div>"
      ],
      "text/plain": [
       "   c1  c2  c3\n",
       "b   4   5   6\n",
       "c   7   8   9"
      ]
     },
     "execution_count": 50,
     "metadata": {},
     "output_type": "execute_result"
    }
   ],
   "source": [
    "df.loc['b':'c']"
   ]
  },
  {
   "cell_type": "markdown",
   "metadata": {
    "id": "LxGQkxd8XJaf"
   },
   "source": [
    "#### | **암묵적 인덱스 슬라이싱**\n",
    "\n",
    "* `.iloc[index1:index2]` : `index1` 부터 `index2` 전 까지 슬라이싱 합니다.  인덱스의 정확한 이름과 별개로 0부터 인덱스를 부여합니다. \n",
    "\n",
    "\n",
    "\n",
    "|||||\n",
    "|--|--|--|--|\n",
    "|b|4|5|6|\n",
    "|c|7|8|9|\n",
    "\n",
    "`df` 에서 위에 해당하는 행만 출력해 봅시다. \n",
    "\n",
    "```\n",
    "df.iloc[1:3]\n",
    "```\n",
    "`iloc`의 경우 기본적으로 슬라이싱 방법이 파이썬이나 넘파이의 슬라이싱 방법과 같습니다. 이에 유의하여 슬라이싱을 해야 합니다. "
   ]
  },
  {
   "cell_type": "code",
   "execution_count": 51,
   "metadata": {
    "id": "ENURinyGXJag"
   },
   "outputs": [
    {
     "data": {
      "text/html": [
       "<div>\n",
       "<style scoped>\n",
       "    .dataframe tbody tr th:only-of-type {\n",
       "        vertical-align: middle;\n",
       "    }\n",
       "\n",
       "    .dataframe tbody tr th {\n",
       "        vertical-align: top;\n",
       "    }\n",
       "\n",
       "    .dataframe thead th {\n",
       "        text-align: right;\n",
       "    }\n",
       "</style>\n",
       "<table border=\"1\" class=\"dataframe\">\n",
       "  <thead>\n",
       "    <tr style=\"text-align: right;\">\n",
       "      <th></th>\n",
       "      <th>c1</th>\n",
       "      <th>c2</th>\n",
       "      <th>c3</th>\n",
       "    </tr>\n",
       "  </thead>\n",
       "  <tbody>\n",
       "    <tr>\n",
       "      <th>b</th>\n",
       "      <td>4</td>\n",
       "      <td>5</td>\n",
       "      <td>6</td>\n",
       "    </tr>\n",
       "    <tr>\n",
       "      <th>c</th>\n",
       "      <td>7</td>\n",
       "      <td>8</td>\n",
       "      <td>9</td>\n",
       "    </tr>\n",
       "  </tbody>\n",
       "</table>\n",
       "</div>"
      ],
      "text/plain": [
       "   c1  c2  c3\n",
       "b   4   5   6\n",
       "c   7   8   9"
      ]
     },
     "execution_count": 51,
     "metadata": {},
     "output_type": "execute_result"
    }
   ],
   "source": [
    "df.iloc[1:3]"
   ]
  },
  {
   "cell_type": "markdown",
   "metadata": {
    "id": "2tORg6IoXwq-"
   },
   "source": [
    "#### | **행, 열 슬라이싱**\n",
    "\n",
    "* `.loc[index1:index2 , column1:column2]`\n",
    "* `.iloc[index1:index2 , column1:column2]`\n",
    "\n",
    "콤마(,) 기준 왼쪽은 행 인덱스의 범위(`index1, index2`)를 적고 오른쪽은 열 인덱스의 범위 (`column1`, `column2`)를 입력합니다. \n",
    "\n",
    "\n",
    "\n",
    "| index | c1 | c2 | c3|\n",
    "|--|--|--|--|\n",
    "|a|1|2|3|\n",
    "|b|4|5|6|\n",
    "|c|7|8|9|\n",
    "|d|10|11|12|\n",
    "\n",
    "\n",
    "* 현재 정의된 `df`에서 다음을 출력해 봅시다.\n",
    "\n",
    "|||||\n",
    "|--|--|--|--|\n",
    "|b|4|5|\n",
    "|c|7|8|\n",
    "\n",
    "\n",
    "```\n",
    "print(df.loc['b':'c','c1':'c2'])\n",
    "print(df.iloc[1:3, 0:1])\n",
    "```\n"
   ]
  },
  {
   "cell_type": "code",
   "execution_count": 52,
   "metadata": {
    "id": "42Xgv5EhXwrF"
   },
   "outputs": [
    {
     "name": "stdout",
     "output_type": "stream",
     "text": [
      "   c1  c2\n",
      "b   4   5\n",
      "c   7   8\n",
      "   c1\n",
      "b   4\n",
      "c   7\n"
     ]
    }
   ],
   "source": [
    "print(df.loc['b':'c','c1':'c2'])\n",
    "print(df.iloc[1:3, 0:1])"
   ]
  },
  {
   "cell_type": "markdown",
   "metadata": {
    "id": "NxnsNtm0cym5"
   },
   "source": [
    "#### **| 연습문제**\n"
   ]
  },
  {
   "cell_type": "markdown",
   "metadata": {
    "id": "PTFUimyWcym5"
   },
   "source": [
    "**연습 04**\n",
    "\n",
    "\n",
    "현재 정의된 `df`에서 다음을 출력해 봅시다.\n",
    "\n",
    "|||||\n",
    "|--|--|--|--|\n",
    "|a|2|3|\n",
    "|b|5|6|\n",
    "|c|8|9|\n",
    "\n",
    "\n",
    "\n"
   ]
  },
  {
   "cell_type": "code",
   "execution_count": null,
   "metadata": {
    "id": "cEZ0sQivYgiu"
   },
   "outputs": [],
   "source": [
    "df"
   ]
  },
  {
   "cell_type": "markdown",
   "metadata": {
    "id": "wqMzwwRDGSXR"
   },
   "source": [
    "## 문제풀이\n",
    "---"
   ]
  },
  {
   "cell_type": "markdown",
   "metadata": {
    "id": "zBTQxIkVdpGA"
   },
   "source": [
    "**예제 01**\n",
    "\n",
    "딕셔너리를 사용해 다음과 같은 데이터 프레임을 작성한 후 `df01`으로 정의하세요.\n",
    "\n",
    "| index | A | B | C | \n",
    "|--|--|--|--|\n",
    "|00|1|0|1|\n",
    "|01|2|2|1|\n",
    "|02|3|3|0|"
   ]
  },
  {
   "cell_type": "code",
   "execution_count": 57,
   "metadata": {
    "id": "f0unqNbTdpGB"
   },
   "outputs": [
    {
     "data": {
      "text/html": [
       "<div>\n",
       "<style scoped>\n",
       "    .dataframe tbody tr th:only-of-type {\n",
       "        vertical-align: middle;\n",
       "    }\n",
       "\n",
       "    .dataframe tbody tr th {\n",
       "        vertical-align: top;\n",
       "    }\n",
       "\n",
       "    .dataframe thead th {\n",
       "        text-align: right;\n",
       "    }\n",
       "</style>\n",
       "<table border=\"1\" class=\"dataframe\">\n",
       "  <thead>\n",
       "    <tr style=\"text-align: right;\">\n",
       "      <th></th>\n",
       "      <th>A</th>\n",
       "      <th>B</th>\n",
       "      <th>C</th>\n",
       "    </tr>\n",
       "  </thead>\n",
       "  <tbody>\n",
       "    <tr>\n",
       "      <th>00</th>\n",
       "      <td>1</td>\n",
       "      <td>2</td>\n",
       "      <td>3</td>\n",
       "    </tr>\n",
       "    <tr>\n",
       "      <th>01</th>\n",
       "      <td>0</td>\n",
       "      <td>2</td>\n",
       "      <td>3</td>\n",
       "    </tr>\n",
       "    <tr>\n",
       "      <th>02</th>\n",
       "      <td>1</td>\n",
       "      <td>1</td>\n",
       "      <td>0</td>\n",
       "    </tr>\n",
       "  </tbody>\n",
       "</table>\n",
       "</div>"
      ],
      "text/plain": [
       "    A  B  C\n",
       "00  1  2  3\n",
       "01  0  2  3\n",
       "02  1  1  0"
      ]
     },
     "execution_count": 57,
     "metadata": {},
     "output_type": "execute_result"
    }
   ],
   "source": [
    "df01 = pd.DataFrame({\"A\":[1,0,1],\n",
    "                    \"B\":[2,2,1],\n",
    "                    \"C\":[3,3,0]},\n",
    "                   index=[\"00\",\"01\",\"02\"])\n",
    "df01"
   ]
  },
  {
   "cell_type": "markdown",
   "metadata": {
    "id": "wqHmaCDwd6HR"
   },
   "source": [
    "**예제 02**\n",
    "\n",
    "딕셔너리를 사용하지 않고 다음과 같은 데이터 프레임을 작성한 후 `df02`으로 정의하세요.\n",
    "\n",
    "\n",
    "| index | A | B | C | \n",
    "|--|--|--|--|\n",
    "|00|1|0|1|\n",
    "|01|2|2|1|\n",
    "|02|3|3|0|"
   ]
  },
  {
   "cell_type": "code",
   "execution_count": 63,
   "metadata": {
    "id": "X-2NYhKTd6HR"
   },
   "outputs": [
    {
     "data": {
      "text/html": [
       "<div>\n",
       "<style scoped>\n",
       "    .dataframe tbody tr th:only-of-type {\n",
       "        vertical-align: middle;\n",
       "    }\n",
       "\n",
       "    .dataframe tbody tr th {\n",
       "        vertical-align: top;\n",
       "    }\n",
       "\n",
       "    .dataframe thead th {\n",
       "        text-align: right;\n",
       "    }\n",
       "</style>\n",
       "<table border=\"1\" class=\"dataframe\">\n",
       "  <thead>\n",
       "    <tr style=\"text-align: right;\">\n",
       "      <th></th>\n",
       "      <th>A</th>\n",
       "      <th>B</th>\n",
       "      <th>C</th>\n",
       "    </tr>\n",
       "  </thead>\n",
       "  <tbody>\n",
       "    <tr>\n",
       "      <th>00</th>\n",
       "      <td>1</td>\n",
       "      <td>0</td>\n",
       "      <td>1</td>\n",
       "    </tr>\n",
       "    <tr>\n",
       "      <th>01</th>\n",
       "      <td>2</td>\n",
       "      <td>2</td>\n",
       "      <td>1</td>\n",
       "    </tr>\n",
       "    <tr>\n",
       "      <th>02</th>\n",
       "      <td>3</td>\n",
       "      <td>3</td>\n",
       "      <td>0</td>\n",
       "    </tr>\n",
       "  </tbody>\n",
       "</table>\n",
       "</div>"
      ],
      "text/plain": [
       "    A  B  C\n",
       "00  1  0  1\n",
       "01  2  2  1\n",
       "02  3  3  0"
      ]
     },
     "execution_count": 63,
     "metadata": {},
     "output_type": "execute_result"
    }
   ],
   "source": [
    "import numpy as np\n",
    "\n",
    "lst = np.array([[1,0,1],[2,2,1],[3,3,0]])\n",
    "df02 = pd.DataFrame(lst, columns=[\"A\",\"B\",\"C\"], index=[\"00\",\"01\",\"02\"])\n",
    "df02"
   ]
  },
  {
   "cell_type": "markdown",
   "metadata": {
    "id": "a5P6C-B7dpbI"
   },
   "source": [
    "**예제 03**\n",
    "\n",
    "`df01`의 행 인덱스(index)와 열 인덱스 (columns)을 출력하세요.\n",
    "\n"
   ]
  },
  {
   "cell_type": "code",
   "execution_count": 65,
   "metadata": {
    "id": "F40VQ_SXdpbI"
   },
   "outputs": [
    {
     "data": {
      "text/plain": [
       "(Index(['00', '01', '02'], dtype='object'),\n",
       " Index(['A', 'B', 'C'], dtype='object'))"
      ]
     },
     "execution_count": 65,
     "metadata": {},
     "output_type": "execute_result"
    }
   ],
   "source": [
    "df01.index, df01.columns"
   ]
  },
  {
   "cell_type": "markdown",
   "metadata": {
    "id": "iD7uO7OKZJDq"
   },
   "source": [
    "**예제 04**\n",
    "\n",
    "`df01` 값에 모두 5를 더한것을 출력하세요 (바인딩 하지 마세요.)\n"
   ]
  },
  {
   "cell_type": "code",
   "execution_count": 66,
   "metadata": {
    "id": "J21Jda37ZJDr"
   },
   "outputs": [
    {
     "data": {
      "text/html": [
       "<div>\n",
       "<style scoped>\n",
       "    .dataframe tbody tr th:only-of-type {\n",
       "        vertical-align: middle;\n",
       "    }\n",
       "\n",
       "    .dataframe tbody tr th {\n",
       "        vertical-align: top;\n",
       "    }\n",
       "\n",
       "    .dataframe thead th {\n",
       "        text-align: right;\n",
       "    }\n",
       "</style>\n",
       "<table border=\"1\" class=\"dataframe\">\n",
       "  <thead>\n",
       "    <tr style=\"text-align: right;\">\n",
       "      <th></th>\n",
       "      <th>A</th>\n",
       "      <th>B</th>\n",
       "      <th>C</th>\n",
       "    </tr>\n",
       "  </thead>\n",
       "  <tbody>\n",
       "    <tr>\n",
       "      <th>00</th>\n",
       "      <td>6</td>\n",
       "      <td>7</td>\n",
       "      <td>8</td>\n",
       "    </tr>\n",
       "    <tr>\n",
       "      <th>01</th>\n",
       "      <td>5</td>\n",
       "      <td>7</td>\n",
       "      <td>8</td>\n",
       "    </tr>\n",
       "    <tr>\n",
       "      <th>02</th>\n",
       "      <td>6</td>\n",
       "      <td>6</td>\n",
       "      <td>5</td>\n",
       "    </tr>\n",
       "  </tbody>\n",
       "</table>\n",
       "</div>"
      ],
      "text/plain": [
       "    A  B  C\n",
       "00  6  7  8\n",
       "01  5  7  8\n",
       "02  6  6  5"
      ]
     },
     "execution_count": 66,
     "metadata": {},
     "output_type": "execute_result"
    }
   ],
   "source": [
    "df01 + 5"
   ]
  },
  {
   "cell_type": "markdown",
   "metadata": {
    "id": "RaDpWMUseyRB"
   },
   "source": [
    "**예제 05**\n",
    "\n",
    "`df01`에서 `0`에 해당하는 값둘을 명시적 인덱싱을 이용해서 하나씩 출력하세요. "
   ]
  },
  {
   "cell_type": "code",
   "execution_count": 70,
   "metadata": {
    "id": "Nu-iM3hAeyRB"
   },
   "outputs": [
    {
     "data": {
      "text/plain": [
       "(0, 0)"
      ]
     },
     "execution_count": 70,
     "metadata": {},
     "output_type": "execute_result"
    }
   ],
   "source": [
    "df01.loc[\"01\",\"A\"], df01.loc[\"02\",\"C\"]"
   ]
  },
  {
   "cell_type": "markdown",
   "metadata": {
    "id": "zrtfeefmiyIq"
   },
   "source": [
    "**예제 06**\n",
    "\n",
    "`df01`에서 `1`에 해당하는 값들을 암묵적 인덱싱을 이용해서 하나씩 출력하세요. "
   ]
  },
  {
   "cell_type": "code",
   "execution_count": 74,
   "metadata": {
    "id": "M_Di6_NmiyIw"
   },
   "outputs": [
    {
     "data": {
      "text/plain": [
       "(1, 1, 1)"
      ]
     },
     "execution_count": 74,
     "metadata": {},
     "output_type": "execute_result"
    }
   ],
   "source": [
    "df01.iloc[0,0], df01.iloc[2,0], df01.iloc[2,1]"
   ]
  },
  {
   "cell_type": "markdown",
   "metadata": {
    "id": "a0IKgkGxi_Rw"
   },
   "source": [
    "**예제 07**\n",
    "\n",
    "`df01`에서 아래 데이터를 명시적 인덱스를 사용한 슬라이싱을 이용해 출력하세요.\n",
    "\n",
    "| index | A | B | \n",
    "|--|--|--|\n",
    "|01|2|2|\n",
    "|02|3|3|\n",
    "\n"
   ]
  },
  {
   "cell_type": "code",
   "execution_count": 76,
   "metadata": {
    "id": "wLIyzcLhi_Rx"
   },
   "outputs": [
    {
     "data": {
      "text/html": [
       "<div>\n",
       "<style scoped>\n",
       "    .dataframe tbody tr th:only-of-type {\n",
       "        vertical-align: middle;\n",
       "    }\n",
       "\n",
       "    .dataframe tbody tr th {\n",
       "        vertical-align: top;\n",
       "    }\n",
       "\n",
       "    .dataframe thead th {\n",
       "        text-align: right;\n",
       "    }\n",
       "</style>\n",
       "<table border=\"1\" class=\"dataframe\">\n",
       "  <thead>\n",
       "    <tr style=\"text-align: right;\">\n",
       "      <th></th>\n",
       "      <th>A</th>\n",
       "      <th>B</th>\n",
       "    </tr>\n",
       "  </thead>\n",
       "  <tbody>\n",
       "    <tr>\n",
       "      <th>01</th>\n",
       "      <td>0</td>\n",
       "      <td>2</td>\n",
       "    </tr>\n",
       "    <tr>\n",
       "      <th>02</th>\n",
       "      <td>1</td>\n",
       "      <td>1</td>\n",
       "    </tr>\n",
       "  </tbody>\n",
       "</table>\n",
       "</div>"
      ],
      "text/plain": [
       "    A  B\n",
       "01  0  2\n",
       "02  1  1"
      ]
     },
     "execution_count": 76,
     "metadata": {},
     "output_type": "execute_result"
    }
   ],
   "source": [
    "df01.loc[\"01\":\"02\",\"A\":\"B\"]"
   ]
  },
  {
   "cell_type": "markdown",
   "metadata": {
    "id": "7xiy39f5ZfZ5"
   },
   "source": [
    "**예제 08**\n",
    "\n",
    "`df01`에서 아래 데이터를 암묵적 인덱스를 사용한 슬라이싱을 이용해 출력하세요.\n",
    "\n",
    "| index | A | B | \n",
    "|--|--|--|\n",
    "|01|2|2|\n",
    "|02|3|3|\n",
    "\n"
   ]
  },
  {
   "cell_type": "code",
   "execution_count": 78,
   "metadata": {
    "id": "kCkQQvktZfZ6"
   },
   "outputs": [
    {
     "data": {
      "text/html": [
       "<div>\n",
       "<style scoped>\n",
       "    .dataframe tbody tr th:only-of-type {\n",
       "        vertical-align: middle;\n",
       "    }\n",
       "\n",
       "    .dataframe tbody tr th {\n",
       "        vertical-align: top;\n",
       "    }\n",
       "\n",
       "    .dataframe thead th {\n",
       "        text-align: right;\n",
       "    }\n",
       "</style>\n",
       "<table border=\"1\" class=\"dataframe\">\n",
       "  <thead>\n",
       "    <tr style=\"text-align: right;\">\n",
       "      <th></th>\n",
       "      <th>A</th>\n",
       "      <th>B</th>\n",
       "    </tr>\n",
       "  </thead>\n",
       "  <tbody>\n",
       "    <tr>\n",
       "      <th>00</th>\n",
       "      <td>1</td>\n",
       "      <td>2</td>\n",
       "    </tr>\n",
       "    <tr>\n",
       "      <th>01</th>\n",
       "      <td>0</td>\n",
       "      <td>2</td>\n",
       "    </tr>\n",
       "  </tbody>\n",
       "</table>\n",
       "</div>"
      ],
      "text/plain": [
       "    A  B\n",
       "00  1  2\n",
       "01  0  2"
      ]
     },
     "execution_count": 78,
     "metadata": {},
     "output_type": "execute_result"
    }
   ],
   "source": [
    "df01.iloc[:2,:2]"
   ]
  },
  {
   "cell_type": "markdown",
   "metadata": {
    "id": "Dsq_Kls1jg-G"
   },
   "source": [
    "**예제 09**\n",
    "\n",
    "`df01`에서 아래 데이터를 암묵적 인덱스를 사용한 슬라이싱을 이용해 출력하세요.\n",
    "\n",
    "| index | B | C | \n",
    "|--|--|--|\n",
    "|00|0|1|\n",
    "|01|2|1|\n",
    "|02|3|0|\n",
    "\n"
   ]
  },
  {
   "cell_type": "code",
   "execution_count": 79,
   "metadata": {
    "id": "m5kYtmHRjg-G"
   },
   "outputs": [
    {
     "data": {
      "text/html": [
       "<div>\n",
       "<style scoped>\n",
       "    .dataframe tbody tr th:only-of-type {\n",
       "        vertical-align: middle;\n",
       "    }\n",
       "\n",
       "    .dataframe tbody tr th {\n",
       "        vertical-align: top;\n",
       "    }\n",
       "\n",
       "    .dataframe thead th {\n",
       "        text-align: right;\n",
       "    }\n",
       "</style>\n",
       "<table border=\"1\" class=\"dataframe\">\n",
       "  <thead>\n",
       "    <tr style=\"text-align: right;\">\n",
       "      <th></th>\n",
       "      <th>B</th>\n",
       "      <th>C</th>\n",
       "    </tr>\n",
       "  </thead>\n",
       "  <tbody>\n",
       "    <tr>\n",
       "      <th>00</th>\n",
       "      <td>2</td>\n",
       "      <td>3</td>\n",
       "    </tr>\n",
       "    <tr>\n",
       "      <th>01</th>\n",
       "      <td>2</td>\n",
       "      <td>3</td>\n",
       "    </tr>\n",
       "    <tr>\n",
       "      <th>02</th>\n",
       "      <td>1</td>\n",
       "      <td>0</td>\n",
       "    </tr>\n",
       "  </tbody>\n",
       "</table>\n",
       "</div>"
      ],
      "text/plain": [
       "    B  C\n",
       "00  2  3\n",
       "01  2  3\n",
       "02  1  0"
      ]
     },
     "execution_count": 79,
     "metadata": {},
     "output_type": "execute_result"
    }
   ],
   "source": [
    "df01.loc[:\"02\", \"B\":\"C\"]"
   ]
  },
  {
   "cell_type": "markdown",
   "metadata": {
    "id": "unUPBAMhZivZ"
   },
   "source": [
    "**예제 10**\n",
    "\n",
    "`df01`에서 아래 데이터를 암묵적 인덱스를 사용한 슬라이싱을 이용해 출력하세요.\n",
    "\n",
    "| index | B | C | \n",
    "|--|--|--|\n",
    "|00|0|1|\n",
    "|01|2|1|\n",
    "|02|3|0|\n",
    "\n"
   ]
  },
  {
   "cell_type": "code",
   "execution_count": 82,
   "metadata": {
    "id": "XRAaTIJIZivZ"
   },
   "outputs": [
    {
     "data": {
      "text/html": [
       "<div>\n",
       "<style scoped>\n",
       "    .dataframe tbody tr th:only-of-type {\n",
       "        vertical-align: middle;\n",
       "    }\n",
       "\n",
       "    .dataframe tbody tr th {\n",
       "        vertical-align: top;\n",
       "    }\n",
       "\n",
       "    .dataframe thead th {\n",
       "        text-align: right;\n",
       "    }\n",
       "</style>\n",
       "<table border=\"1\" class=\"dataframe\">\n",
       "  <thead>\n",
       "    <tr style=\"text-align: right;\">\n",
       "      <th></th>\n",
       "      <th>B</th>\n",
       "      <th>C</th>\n",
       "    </tr>\n",
       "  </thead>\n",
       "  <tbody>\n",
       "    <tr>\n",
       "      <th>00</th>\n",
       "      <td>2</td>\n",
       "      <td>3</td>\n",
       "    </tr>\n",
       "    <tr>\n",
       "      <th>01</th>\n",
       "      <td>2</td>\n",
       "      <td>3</td>\n",
       "    </tr>\n",
       "    <tr>\n",
       "      <th>02</th>\n",
       "      <td>1</td>\n",
       "      <td>0</td>\n",
       "    </tr>\n",
       "  </tbody>\n",
       "</table>\n",
       "</div>"
      ],
      "text/plain": [
       "    B  C\n",
       "00  2  3\n",
       "01  2  3\n",
       "02  1  0"
      ]
     },
     "execution_count": 82,
     "metadata": {},
     "output_type": "execute_result"
    }
   ],
   "source": [
    "df01.iloc[:3,1:]"
   ]
  },
  {
   "cell_type": "code",
   "execution_count": null,
   "metadata": {},
   "outputs": [],
   "source": []
  }
 ],
 "metadata": {
  "colab": {
   "authorship_tag": "ABX9TyOVhkwh6Wpc/1PuyaZXN3SU",
   "collapsed_sections": [],
   "name": "06_Pandas-자료형다루기.ipynb",
   "provenance": []
  },
  "kernelspec": {
   "display_name": "Python 3 (ipykernel)",
   "language": "python",
   "name": "python3"
  },
  "language_info": {
   "codemirror_mode": {
    "name": "ipython",
    "version": 3
   },
   "file_extension": ".py",
   "mimetype": "text/x-python",
   "name": "python",
   "nbconvert_exporter": "python",
   "pygments_lexer": "ipython3",
   "version": "3.9.7"
  },
  "toc": {
   "base_numbering": 1,
   "nav_menu": {},
   "number_sections": true,
   "sideBar": true,
   "skip_h1_title": false,
   "title_cell": "Table of Contents",
   "title_sidebar": "Contents",
   "toc_cell": false,
   "toc_position": {},
   "toc_section_display": true,
   "toc_window_display": true
  },
  "varInspector": {
   "cols": {
    "lenName": 16,
    "lenType": 16,
    "lenVar": 40
   },
   "kernels_config": {
    "python": {
     "delete_cmd_postfix": "",
     "delete_cmd_prefix": "del ",
     "library": "var_list.py",
     "varRefreshCmd": "print(var_dic_list())"
    },
    "r": {
     "delete_cmd_postfix": ") ",
     "delete_cmd_prefix": "rm(",
     "library": "var_list.r",
     "varRefreshCmd": "cat(var_dic_list()) "
    }
   },
   "types_to_exclude": [
    "module",
    "function",
    "builtin_function_or_method",
    "instance",
    "_Feature"
   ],
   "window_display": false
  }
 },
 "nbformat": 4,
 "nbformat_minor": 1
}
