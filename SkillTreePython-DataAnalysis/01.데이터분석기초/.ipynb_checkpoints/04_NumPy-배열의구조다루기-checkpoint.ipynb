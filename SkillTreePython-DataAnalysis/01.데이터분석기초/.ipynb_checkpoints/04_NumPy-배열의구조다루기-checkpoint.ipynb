{
 "cells": [
  {
   "cell_type": "markdown",
   "metadata": {
    "id": "jgFAOz-Tw1VI"
   },
   "source": [
    "# CH04 Numpy  - 배열의 구조 다루기\n",
    "\n",
    "---\n",
    "* 날짜: 2022-04-12\n",
    "* 이름: 고민수"
   ]
  },
  {
   "cell_type": "markdown",
   "metadata": {
    "id": "_3uSBF40BdCd"
   },
   "source": [
    "## 개념정리\n",
    "\n",
    "데이터 분석에 있어서 배열에 담긴 데이터만큼 중요한 것이 배열의 구조입니다. 특히 머신러닝, 딥러닝에서는 데이터의 선형변환이 주가 되기 때문에 이 과정에서 데이터의 형태 변형이 많이 이루어 집니다. 이번 시간에는 배열의 형태를 변경하고 연결하고, 분할 하는 여러 방법들을 알아보도록 합니다. \n",
    "\n",
    "```\n",
    "import numpy as np\n",
    "```\n",
    "\n",
    "\n"
   ]
  },
  {
   "cell_type": "code",
   "execution_count": 1,
   "metadata": {
    "id": "zPOE7GIhJcdU"
   },
   "outputs": [],
   "source": [
    "import numpy as np"
   ]
  },
  {
   "cell_type": "markdown",
   "metadata": {
    "id": "HjPXsM8C5ULZ"
   },
   "source": [
    "---\n",
    "### **(1) 형태 변경**\n",
    "---\n"
   ]
  },
  {
   "cell_type": "markdown",
   "metadata": {
    "id": "NQ_GbYiXLN2i"
   },
   "source": [
    "#### **| 형태 직접 변경**\n",
    "\n",
    "* `a.reshape(shape)` : `shape` 형태로 변경한 배열을 반환합니다.\n",
    "* `a.resize(shape)` : 배열 `a`를 `shape` 형태로 변경합니다. 사이즈가 기존보다 크면 값을 0으로 채우고, 작으면 값이 삭제됩니다.\n",
    "\n",
    "`.reshape`는 기존 배열과 변경할 배열의 총 크기가 같아야 하지만 `.resize`는 같을 필요가 없습니다. 다만 `..resize`는 값이 임의로 변경되니 사용에 주의해야 합니다.\n",
    "\n",
    "또한 `reshape`는 기존배열을 보존하고 `resize`는 기존배열을 바로 변경합니다.\n",
    "\n",
    "```\n",
    "a = np.arange(15)\n",
    "a.resize((5,3))\n",
    "print(a)\n",
    "a1=a.reshape((3,5))\n",
    "print(a1)\n",
    "```"
   ]
  },
  {
   "cell_type": "code",
   "execution_count": 3,
   "metadata": {
    "id": "XzFGRGdoj7jD"
   },
   "outputs": [
    {
     "name": "stdout",
     "output_type": "stream",
     "text": [
      "[[0 1 2]\n",
      " [3 4 5]\n",
      " [6 7 8]\n",
      " [9 0 0]\n",
      " [0 0 0]]\n",
      "[[0 1 2 3 4]\n",
      " [5 6 7 8 9]\n",
      " [0 0 0 0 0]]\n"
     ]
    }
   ],
   "source": [
    "a = np.arange(10)\n",
    "a.resize((5,3))\n",
    "print(a)\n",
    "a1=a.reshape((3,5))\n",
    "print(a1)"
   ]
  },
  {
   "cell_type": "markdown",
   "metadata": {
    "id": "JskG776k15sC"
   },
   "source": [
    "#### **| 형태 간접 변경**\n",
    "\n",
    "* `np.swapaxes(a, axis1, axis2 )` : 배열 `a`의 두 축 (`axis1`, `axis2`)를 교환합니다.\n",
    "* `.T` : 배열의 차원을 전치(transpose) 합니다.\n"
   ]
  },
  {
   "cell_type": "markdown",
   "metadata": {
    "id": "SiDTaaoh3nu9"
   },
   "source": [
    "\n",
    "`swapaxes`로 데이터의 성질을 그대로 보존하면서 형태를 변경할 수 있습니다. \n",
    "\n",
    "```\n",
    "a = np.arange(24).reshape(2,3,4)\n",
    "print(a, a.shape)\n",
    "\n",
    "a=np.swapaxes(a, 0,1)\n",
    "print(a, a.shape)\n",
    "```"
   ]
  },
  {
   "cell_type": "code",
   "execution_count": 5,
   "metadata": {
    "id": "29oYbC1S15sI"
   },
   "outputs": [
    {
     "name": "stdout",
     "output_type": "stream",
     "text": [
      "[[[ 0  1  2  3]\n",
      "  [ 4  5  6  7]\n",
      "  [ 8  9 10 11]]\n",
      "\n",
      " [[12 13 14 15]\n",
      "  [16 17 18 19]\n",
      "  [20 21 22 23]]] (2, 3, 4)\n",
      "[[[ 0  1  2  3]\n",
      "  [12 13 14 15]]\n",
      "\n",
      " [[ 4  5  6  7]\n",
      "  [16 17 18 19]]\n",
      "\n",
      " [[ 8  9 10 11]\n",
      "  [20 21 22 23]]] (3, 2, 4)\n"
     ]
    }
   ],
   "source": [
    "a = np.arange(24).reshape(2,3,4)\n",
    "print(a, a.shape)\n",
    "\n",
    "a = np.swapaxes(a, 0,1)\n",
    "print(a, a.shape)"
   ]
  },
  {
   "cell_type": "markdown",
   "metadata": {
    "id": "MTxzssAI30Qc"
   },
   "source": [
    "여기서 데이터의 성질을 보존한다는 것은 무엇을 뜻할까요? \n",
    "\n",
    "안과에 방문한 어린이들의 나이와 시력을 정리한 데이터가 아래와 같이 저장되어 있다고 합시다.\n",
    "\n",
    "\n",
    "<p align='center'>\n",
    "<img src=https://github.com/yebiny/SkillTreePython-DataAnalysis/blob/main/imgs/ch0104-01.png?raw=true width=200>\n",
    "</p>\n",
    "\n",
    "\n",
    "```\n",
    "ds = np.array([[10, 0.5],\n",
    "               [8, 0.8],\n",
    "               [12, 0.4],\n",
    "               [7, 0.7]])\n",
    "print(ds, ds.shape)\n",
    "```\n",
    "\n",
    "\n"
   ]
  },
  {
   "cell_type": "code",
   "execution_count": 6,
   "metadata": {
    "id": "DBu3qV0f6qNy"
   },
   "outputs": [
    {
     "name": "stdout",
     "output_type": "stream",
     "text": [
      "[[10.   0.5]\n",
      " [ 8.   0.8]\n",
      " [12.   0.4]\n",
      " [ 7.   0.7]] (4, 2)\n"
     ]
    }
   ],
   "source": [
    "ds = np.array([[10, 0.5],\n",
    "               [8, 0.8],\n",
    "               [12, 0.4],\n",
    "               [7, 0.7]])\n",
    "print(ds, ds.shape)"
   ]
  },
  {
   "cell_type": "markdown",
   "metadata": {
    "id": "A4lHxurW6qq7"
   },
   "source": [
    "\n",
    "이 데이터의 형태를 데이터 성질을 유지하면서 변환하려면 아래와 같은 결과가 되어야 하겠지요\n",
    "\n",
    "<p align='center'>\n",
    "<img src=https://github.com/yebiny/SkillTreePython-DataAnalysis/blob/main/imgs/ch0104-02.png?raw=true width=320>\n",
    "</p>\n",
    "\n",
    "\n",
    "이를 `swapaxes`와 `reshape`로 번형하고 결과를 비교해 보겠습니다.\n",
    "\n",
    "```\n",
    "ds1 = np.reshape(ds, (2,4))\n",
    "print(ds1, ds1.shape)\n",
    "\n",
    "ds2 = np.swapaxes(ds, 0,1)\n",
    "print(ds2, ds2.shape)\n",
    "```"
   ]
  },
  {
   "cell_type": "code",
   "execution_count": 7,
   "metadata": {
    "id": "Yl0CbgAa30Qd"
   },
   "outputs": [
    {
     "name": "stdout",
     "output_type": "stream",
     "text": [
      "[[10.   0.5  8.   0.8]\n",
      " [12.   0.4  7.   0.7]] (2, 4)\n",
      "[[10.   8.  12.   7. ]\n",
      " [ 0.5  0.8  0.4  0.7]] (2, 4)\n"
     ]
    }
   ],
   "source": [
    "ds1 = np.reshape(ds, (2,4))\n",
    "print(ds1, ds1.shape)\n",
    "\n",
    "ds2 = np.swapaxes(ds, 0,1)\n",
    "print(ds2, ds2.shape)"
   ]
  },
  {
   "cell_type": "markdown",
   "metadata": {
    "id": "DT2Z0P377EHZ"
   },
   "source": [
    "`reshape`를 사용한 결과는 데이터의 성질이 엉망이 되어버린 반면, `swapaxes`를 사용한 결과는 우리가 원하는대로 데이터의 성질이 잘 보존된 것을 볼 수 있습니다. \n",
    "\n",
    "2차원 배열에서는 전치(transpose)도 같은 결과가 나옵니다. \n",
    "\n",
    "```\n",
    "a.T, a.T.shape\n",
    "```"
   ]
  },
  {
   "cell_type": "code",
   "execution_count": null,
   "metadata": {
    "id": "_qw-3gFY4pHP"
   },
   "outputs": [],
   "source": []
  },
  {
   "cell_type": "markdown",
   "metadata": {
    "id": "7mr1oVEv789t"
   },
   "source": [
    "이제 데이터의 성질을 보존한다는 것이 무엇인지 감이 오셨나요? 우리가 다루게 될 데이터는 각 차원에 따라 데이터의 값이 유의미하게 담겨져 있기 때문에 데이터 형태 변환 시 주의해서 때에 따라 적절한 함수를 사용해야 합니다. "
   ]
  },
  {
   "cell_type": "markdown",
   "metadata": {
    "id": "yoXcKhYAK6Yx"
   },
   "source": [
    "* `np.expand_dims(a, axis)` : 축 axis에 차원을 추가합니다.\n",
    "\n",
    "데이터 분석에서 유용히 쓰이는 함수가 바로 `np.expand_dim` 입니다. 개수와 값이 똑같은 데이터라도 1차원, 2차원, 3차원까지 변경할 수 있습니다. \n",
    "\n",
    "```\n",
    "a = np.arange(5)\n",
    "print(a, a.shape)\n",
    "a = np.expand_dims(a,1) \n",
    "print(a, a.shape)\n",
    "a = np.expand_dims(a,2)\n",
    "print(a, a.shape)\n",
    "```"
   ]
  },
  {
   "cell_type": "code",
   "execution_count": 8,
   "metadata": {
    "id": "fw50dt30LYCP"
   },
   "outputs": [
    {
     "name": "stdout",
     "output_type": "stream",
     "text": [
      "[0 1 2 3 4] (5,)\n",
      "[[0]\n",
      " [1]\n",
      " [2]\n",
      " [3]\n",
      " [4]] (5, 1)\n",
      "[[[0]]\n",
      "\n",
      " [[1]]\n",
      "\n",
      " [[2]]\n",
      "\n",
      " [[3]]\n",
      "\n",
      " [[4]]] (5, 1, 1)\n"
     ]
    }
   ],
   "source": [
    "a = np.arange(5)\n",
    "print(a, a.shape)\n",
    "a = np.expand_dims(a,1) \n",
    "print(a, a.shape)\n",
    "a = np.expand_dims(a,2)\n",
    "print(a, a.shape)"
   ]
  },
  {
   "cell_type": "markdown",
   "metadata": {
    "id": "kPCJJesPK2kU"
   },
   "source": [
    "---\n",
    "### **(2) 배열 쌓기**\n",
    "---\n",
    "\n",
    "| 함수 | 설명 |\n",
    "|--|--|\n",
    "| `np.append(a1,a2)` | `a1`에 `a2`를 결합|\n",
    "| `np.concatenate([a1, a2, a3 ...])` | 배열 리스트를 모두 결합|\n",
    "| `np.stack([a1, a2, a3 ...])` | 배열을 쌓습니다. |\n",
    "| `np.hstack([a1, a2, a3 ...])` | 배열을 수평으로 쌓습니다. |\n",
    "| `np.vstack([a1, a2, a3 ...])` | 배열을 수직으로 쌓습니다. |\n",
    "| `np.dtack([a1, a2, a3 ...])` | 배열을 새로운 방향으로 쌓습니다. |\n",
    "\n",
    "배열과 배열을 결합하는 함수는 여러개가 있습니다. 사실 어떻게 사용하냐에 각 함수가 똑같은 결과를 도출할 수도 있습니다. 이번 수업에서는 `concatenate`를 사용해 배열을 쌓아보도록 하겠습니다.\n",
    "\n",
    "아래 그림을 보고 `concatenate` 코드를 작성해 봅시다.\n",
    "\n",
    "<p align='center'>\n",
    "<img src=https://github.com/yebiny/SkillTreePython-DataAnalysis/blob/main/imgs/ch0104-03.png?raw=true width=680>\n",
    "</p>\n",
    "\n",
    "```\n",
    "a = np.arange(1, 7).reshape(2,3)\n",
    "print(a,a.shape)\n",
    "a1 = np.concatenate([a,a], axis=0)\n",
    "print(a1,a1.shape)\n",
    "a2 = np.concatenate([a,a], axis=1)\n",
    "print(a2,a2.shape)\n",
    "```"
   ]
  },
  {
   "cell_type": "code",
   "execution_count": 9,
   "metadata": {
    "id": "jhM_gLNyK2kU"
   },
   "outputs": [
    {
     "name": "stdout",
     "output_type": "stream",
     "text": [
      "[[1 2 3]\n",
      " [4 5 6]] (2, 3)\n",
      "[[1 2 3]\n",
      " [4 5 6]\n",
      " [1 2 3]\n",
      " [4 5 6]] (4, 3)\n",
      "[[1 2 3 1 2 3]\n",
      " [4 5 6 4 5 6]] (2, 6)\n"
     ]
    }
   ],
   "source": [
    "a = np.arange(1, 7).reshape(2,3)\n",
    "print(a,a.shape)\n",
    "a1 = np.concatenate([a,a], axis=0)\n",
    "print(a1,a1.shape)\n",
    "a2 = np.concatenate([a,a], axis=1)\n",
    "print(a2,a2.shape)"
   ]
  },
  {
   "cell_type": "markdown",
   "metadata": {
    "id": "hzWZ5G7mo2PR"
   },
   "source": [
    "#### **| 연습문제**\n",
    "\n",
    "연습을 위해 아래와 같이 3차원 배열을 생성하세요 \n",
    "\n",
    "```\n",
    "a = np.arange(12).reshape(2,2,3)\n",
    "b = np.arange(100,106).reshape(1,2,3)\n",
    "print(a, a.shape)\n",
    "print(b, b.shape)\n",
    "```"
   ]
  },
  {
   "cell_type": "code",
   "execution_count": 10,
   "metadata": {
    "id": "peNsBPQcrggt"
   },
   "outputs": [
    {
     "name": "stdout",
     "output_type": "stream",
     "text": [
      "[[[ 0  1  2]\n",
      "  [ 3  4  5]]\n",
      "\n",
      " [[ 6  7  8]\n",
      "  [ 9 10 11]]] (2, 2, 3)\n",
      "[[[100 101 102]\n",
      "  [103 104 105]]] (1, 2, 3)\n"
     ]
    }
   ],
   "source": [
    "a = np.arange(12).reshape(2,2,3)\n",
    "b = np.arange(100,106).reshape(1,2,3)\n",
    "print(a, a.shape)\n",
    "print(b, b.shape)"
   ]
  },
  {
   "cell_type": "markdown",
   "metadata": {
    "id": "ey_R7ZgXnHdp"
   },
   "source": [
    "**연습 01**\n",
    "\n",
    "`concatenate`를 이용해 아래와 같은 배열을 출력하세요.\n",
    "\n",
    "```\n",
    "array([[[ 0,  1,  2,  0,  1,  2],\n",
    "        [ 3,  4,  5,  3,  4,  5]],\n",
    "\n",
    "       [[ 6,  7,  8,  6,  7,  8],\n",
    "        [ 9, 10, 11,  9, 10, 11]]])\n",
    "```"
   ]
  },
  {
   "cell_type": "code",
   "execution_count": 22,
   "metadata": {
    "id": "XUKKRTSJAsMa"
   },
   "outputs": [
    {
     "data": {
      "text/plain": [
       "array([[[ 0,  1,  2,  0,  1,  2],\n",
       "        [ 3,  4,  5,  3,  4,  5]],\n",
       "\n",
       "       [[ 6,  7,  8,  6,  7,  8],\n",
       "        [ 9, 10, 11,  9, 10, 11]]])"
      ]
     },
     "execution_count": 22,
     "metadata": {},
     "output_type": "execute_result"
    }
   ],
   "source": [
    "aa = np.concatenate([a,a], axis=2)\n",
    "aa"
   ]
  },
  {
   "cell_type": "markdown",
   "metadata": {
    "id": "bAPBtnKmEhVb"
   },
   "source": [
    "**연습 02**\n",
    "\n",
    "`concatenate`를 이용해 아래와 같은 배열을 출력하세요.\n",
    "\n",
    "```\n",
    "array([[[100, 101, 102],\n",
    "        [103, 104, 105],\n",
    "        [100, 101, 102],\n",
    "        [103, 104, 105]]])\n",
    "```"
   ]
  },
  {
   "cell_type": "code",
   "execution_count": 33,
   "metadata": {
    "id": "MaS05VHtEhVb"
   },
   "outputs": [
    {
     "data": {
      "text/plain": [
       "(1, 4, 3)"
      ]
     },
     "execution_count": 33,
     "metadata": {},
     "output_type": "execute_result"
    }
   ],
   "source": [
    "bb= np.concatenate([b,b],axis = 1)\n",
    "bb.shape"
   ]
  },
  {
   "cell_type": "markdown",
   "metadata": {
    "id": "ibj-2c6dE2XM"
   },
   "source": [
    "**연습 03**\n",
    "\n",
    "`concatenate`를 이용해 아래와 같은 배열을 출력하세요.\n",
    "\n",
    "```\n",
    "array([[[100, 101, 102],\n",
    "        [103, 104, 105]],\n",
    "\n",
    "       [[  0,   1,   2],\n",
    "        [  3,   4,   5]],\n",
    "\n",
    "       [[  6,   7,   8],\n",
    "        [  9,  10,  11]],\n",
    "\n",
    "       [[100, 101, 102],\n",
    "        [103, 104, 105]]])\n",
    "```"
   ]
  },
  {
   "cell_type": "code",
   "execution_count": 31,
   "metadata": {
    "id": "PsVk-FDYBuEK"
   },
   "outputs": [
    {
     "data": {
      "text/plain": [
       "array([[[100, 101, 102],\n",
       "        [103, 104, 105]],\n",
       "\n",
       "       [[  0,   1,   2],\n",
       "        [  3,   4,   5]],\n",
       "\n",
       "       [[  6,   7,   8],\n",
       "        [  9,  10,  11]],\n",
       "\n",
       "       [[100, 101, 102],\n",
       "        [103, 104, 105]]])"
      ]
     },
     "execution_count": 31,
     "metadata": {},
     "output_type": "execute_result"
    }
   ],
   "source": [
    "np.concatenate([b,a,b], axis=0)"
   ]
  },
  {
   "cell_type": "markdown",
   "metadata": {
    "id": "aYhpkL3KLGkS"
   },
   "source": [
    "---\n",
    "### **(3) 배열 분할**\n",
    "---\n",
    "\n",
    "분할은 `split`함수를 이용합니다. `split`함수의 `axis`를 이용해서 어느 축으로 분할 할지 정의할 수 있습니다. 한쪽 방향으로만 분할하는 `vsplit`과 `hsplit`이 존재하며 상황에 따라 적절히 사용할 수 있습니다.\n",
    "\n",
    "* `np.split(a, [n1, n2, ...], axis=axis)` : `axis` 방향으로 배열 `a`를 `n1`.. 기점에서 분할 합니다 .\n",
    "\n",
    "* `np.vsplit(a, [n1, n2, ...])`: 수직 방향으로 배열 `a`를 `n1`.. 기점에서 분할 합니다 .\n",
    "\n",
    "* `np.split(a, [n1, n2, ...])` : 수평 방향으로 배열 `a`를 `n1`.. 기점에서 분할 합니다 .\n",
    "\n",
    "아래 그림을 보고 `split` 코드를 작성해 봅시다.\n",
    "\n",
    "<p align='center'>\n",
    "<img src=https://github.com/yebiny/SkillTreePython-DataAnalysis/blob/main/imgs/ch0104-04.png?raw=true width=380>\n",
    "</p>\n",
    "\n"
   ]
  },
  {
   "cell_type": "markdown",
   "metadata": {
    "id": "0ERT5QnFJAY3"
   },
   "source": [
    "* 배열 `a`를 생성합니다.\n",
    "\n",
    "```\n",
    "a =np.arange(1,13).reshape(4,3)\n",
    "a, a.shape\n",
    "```"
   ]
  },
  {
   "cell_type": "code",
   "execution_count": 34,
   "metadata": {
    "id": "LhaIghGQLGkT"
   },
   "outputs": [
    {
     "data": {
      "text/plain": [
       "(array([[ 1,  2,  3],\n",
       "        [ 4,  5,  6],\n",
       "        [ 7,  8,  9],\n",
       "        [10, 11, 12]]),\n",
       " (4, 3))"
      ]
     },
     "execution_count": 34,
     "metadata": {},
     "output_type": "execute_result"
    }
   ],
   "source": [
    "a =np.arange(1,13).reshape(4,3)\n",
    "a, a.shape"
   ]
  },
  {
   "cell_type": "markdown",
   "metadata": {
    "id": "3Up5CYbXGXMP"
   },
   "source": [
    "* 수직방향으로 분할해 봅니다.\n",
    "\n",
    "```\n",
    "a1, a2 = np.split(a, [1], axis=0)\n",
    "print(a1)\n",
    "print(a2)\n",
    "a1, a2 = np.vsplit(a, [1])\n",
    "print(a1)\n",
    "print(a2)\n",
    "```"
   ]
  },
  {
   "cell_type": "code",
   "execution_count": 35,
   "metadata": {
    "id": "eYN6dZWJGBsb"
   },
   "outputs": [
    {
     "name": "stdout",
     "output_type": "stream",
     "text": [
      "[[1 2 3]]\n",
      "[[ 4  5  6]\n",
      " [ 7  8  9]\n",
      " [10 11 12]]\n",
      "[[1 2 3]]\n",
      "[[ 4  5  6]\n",
      " [ 7  8  9]\n",
      " [10 11 12]]\n"
     ]
    }
   ],
   "source": [
    "a1, a2 = np.split(a, [1], axis=0)\n",
    "print(a1)\n",
    "print(a2)\n",
    "a1, a2 = np.vsplit(a, [1])\n",
    "print(a1)\n",
    "print(a2)"
   ]
  },
  {
   "cell_type": "markdown",
   "metadata": {
    "id": "GrsFQtvuJI7i"
   },
   "source": [
    "* 수평 방향으로 분할해 봅니다.\n",
    "\n",
    "```\n",
    "a1, a2 = np.split(a, [2], axis=1)\n",
    "print(a1)\n",
    "print(a2)\n",
    "a1, a2 = np.hsplit(a, [2])\n",
    "print(a1)\n",
    "print(a2)\n",
    "```"
   ]
  },
  {
   "cell_type": "code",
   "execution_count": 36,
   "metadata": {
    "id": "OsMberzGGJUy"
   },
   "outputs": [
    {
     "name": "stdout",
     "output_type": "stream",
     "text": [
      "[[ 1  2]\n",
      " [ 4  5]\n",
      " [ 7  8]\n",
      " [10 11]]\n",
      "[[ 3]\n",
      " [ 6]\n",
      " [ 9]\n",
      " [12]]\n",
      "[[ 1  2]\n",
      " [ 4  5]\n",
      " [ 7  8]\n",
      " [10 11]]\n",
      "[[ 3]\n",
      " [ 6]\n",
      " [ 9]\n",
      " [12]]\n"
     ]
    }
   ],
   "source": [
    "a1, a2 = np.split(a, [2], axis=1)\n",
    "print(a1)\n",
    "print(a2)\n",
    "a1, a2 = np.hsplit(a, [2])\n",
    "print(a1)\n",
    "print(a2)"
   ]
  },
  {
   "cell_type": "markdown",
   "metadata": {
    "id": "1Zo86GIRD8iE"
   },
   "source": [
    "## 문제풀이\n",
    "---\n"
   ]
  },
  {
   "cell_type": "markdown",
   "metadata": {
    "id": "d9o7kBXoNlE3"
   },
   "source": [
    "**예제 01**\n",
    "\n",
    "모든 요소가 1이고 `(3,3,2)`  `shape`를 가지는 3차원 배열을 생성하고 `a01`로 바인딩하세요. 이 배열과 배열의 형태를 출력하세요.\n",
    "\n"
   ]
  },
  {
   "cell_type": "code",
   "execution_count": 69,
   "metadata": {
    "id": "Gwir0bafNlE9"
   },
   "outputs": [
    {
     "name": "stdout",
     "output_type": "stream",
     "text": [
      "[[[1. 1.]\n",
      "  [1. 1.]\n",
      "  [1. 1.]]\n",
      "\n",
      " [[1. 1.]\n",
      "  [1. 1.]\n",
      "  [1. 1.]]\n",
      "\n",
      " [[1. 1.]\n",
      "  [1. 1.]\n",
      "  [1. 1.]]] (3, 3, 2)\n"
     ]
    }
   ],
   "source": [
    "a01 = np.ones(3*3*2).reshape(3,3,2)\n",
    "print(a01, a01.shape)"
   ]
  },
  {
   "cell_type": "markdown",
   "metadata": {
    "id": "SACkvDRySMNc"
   },
   "source": [
    "**예제 02**\n",
    "\n",
    "`a01`을  `shape`가 `(3,6)`인 2차원 배열로 바꾸고 배열과 배열의  `shape`를 출력하세요."
   ]
  },
  {
   "cell_type": "code",
   "execution_count": 70,
   "metadata": {
    "id": "YJVWViH7SMNc"
   },
   "outputs": [
    {
     "name": "stdout",
     "output_type": "stream",
     "text": [
      "[[1. 1. 1. 1. 1. 1.]\n",
      " [1. 1. 1. 1. 1. 1.]\n",
      " [1. 1. 1. 1. 1. 1.]] (3, 6)\n"
     ]
    }
   ],
   "source": [
    "a01 = a01.reshape(3,6)\n",
    "print(a01, a01.shape)"
   ]
  },
  {
   "cell_type": "markdown",
   "metadata": {
    "id": "cTtCSNxFmxsL"
   },
   "source": [
    "**예제 03**\n",
    "\n",
    "`a01`을 transpose 하고 배열과 배열의  `shape`를 출력하세요."
   ]
  },
  {
   "cell_type": "code",
   "execution_count": 71,
   "metadata": {
    "id": "X2FslwXL_hSE"
   },
   "outputs": [
    {
     "name": "stdout",
     "output_type": "stream",
     "text": [
      "[[1. 1. 1.]\n",
      " [1. 1. 1.]\n",
      " [1. 1. 1.]\n",
      " [1. 1. 1.]\n",
      " [1. 1. 1.]\n",
      " [1. 1. 1.]] (6, 3)\n"
     ]
    }
   ],
   "source": [
    "a01 = a01.T\n",
    "print(a01, a01.shape)"
   ]
  },
  {
   "cell_type": "markdown",
   "metadata": {
    "id": "nKLke2__XUlc"
   },
   "source": [
    "**예제 04**\n",
    "\n",
    "`a01`의 `shape`를 늘려 `(3,8)`인 2차원 배열로 변경하고 배열과 배열의  `shape`를 출력하세요. 어떤 일이 일어나는지 간단히 설명하세요."
   ]
  },
  {
   "cell_type": "code",
   "execution_count": 72,
   "metadata": {
    "id": "ZpgAgpL_XUln"
   },
   "outputs": [
    {
     "data": {
      "text/plain": [
       "array([[1., 1., 1., 1., 1., 1., 1., 1.],\n",
       "       [1., 1., 1., 1., 1., 1., 1., 1.],\n",
       "       [1., 1., 1., 1., 1., 1., 1., 1.]])"
      ]
     },
     "execution_count": 72,
     "metadata": {},
     "output_type": "execute_result"
    }
   ],
   "source": [
    "a01 = np.resize(a01,(3,8))\n",
    "a01\n",
    "# 모자라는 6개의 숫자가 0부터 5까지로 채워짐"
   ]
  },
  {
   "cell_type": "markdown",
   "metadata": {
    "id": "R8o5gYtyXgNs"
   },
   "source": [
    "**예제 05**\n",
    "\n",
    "`a01`의 `shape`를 `expand_dims`를 이용해 `(1,3,8)`인 3차원 배열로 변경하고  배열과 배열의  `shape`를 출력하세요."
   ]
  },
  {
   "cell_type": "code",
   "execution_count": 73,
   "metadata": {
    "id": "3E5DjaJJXgNt"
   },
   "outputs": [
    {
     "data": {
      "text/plain": [
       "(1, 3, 8)"
      ]
     },
     "execution_count": 73,
     "metadata": {},
     "output_type": "execute_result"
    }
   ],
   "source": [
    "np.expand_dims(a01, axis=0).shape"
   ]
  },
  {
   "cell_type": "markdown",
   "metadata": {
    "id": "G7NVMtnXXl40"
   },
   "source": [
    "아래 그림과 같은 2차원 배열 `a`, `b`, `c`를  생성하세요\n",
    "\n",
    "<p align='center'>\n",
    "<img src=https://github.com/yebiny/SkillTreePython-DataAnalysis/blob/main/imgs/ch0104-05.png?raw=true width=360>\n",
    "</p>\n"
   ]
  },
  {
   "cell_type": "code",
   "execution_count": 80,
   "metadata": {
    "id": "v5NNZzWHXl40"
   },
   "outputs": [
    {
     "name": "stdout",
     "output_type": "stream",
     "text": [
      "[[1. 1.]\n",
      " [1. 1.]\n",
      " [1. 1.]] (3, 2) \n",
      "\n",
      "[[2]\n",
      " [2]\n",
      " [2]] (3, 1) \n",
      "\n",
      "[[3 3]\n",
      " [3 3]] (2, 2) \n",
      "\n"
     ]
    }
   ],
   "source": [
    "a = np.ones((3,2))\n",
    "b = np.full((3,1), 2)\n",
    "c = np.full((2,2), 3)\n",
    "\n",
    "print(a, a.shape,\"\\n\")\n",
    "print(b, b.shape,\"\\n\")\n",
    "print(c, c.shape,\"\\n\")"
   ]
  },
  {
   "cell_type": "markdown",
   "metadata": {
    "id": "6whR9VwAYZ4G"
   },
   "source": [
    "**예제 06**\n",
    "\n",
    "`a`와 `b`를 합쳐 `shape`가 `(3,3)`인 배열을 만드세요."
   ]
  },
  {
   "cell_type": "code",
   "execution_count": 83,
   "metadata": {
    "id": "MLveMkxzYZ4G"
   },
   "outputs": [
    {
     "data": {
      "text/plain": [
       "(array([[1., 1., 2.],\n",
       "        [1., 1., 2.],\n",
       "        [1., 1., 2.]]),\n",
       " (3, 3))"
      ]
     },
     "execution_count": 83,
     "metadata": {},
     "output_type": "execute_result"
    }
   ],
   "source": [
    "a06 = np.concatenate([a,b], axis=1)\n",
    "a06, a06.shape"
   ]
  },
  {
   "cell_type": "markdown",
   "metadata": {
    "id": "9u_P0i8VYmIg"
   },
   "source": [
    "**예제 07**\n",
    "\n",
    "\n",
    "`a`와 `c`를 합쳐 `shape`가 `(5,2)`인 배열을 만드세요."
   ]
  },
  {
   "cell_type": "code",
   "execution_count": 84,
   "metadata": {
    "id": "l_kU8G1hYmIh"
   },
   "outputs": [
    {
     "data": {
      "text/plain": [
       "(array([[1., 1.],\n",
       "        [1., 1.],\n",
       "        [1., 1.],\n",
       "        [3., 3.],\n",
       "        [3., 3.]]),\n",
       " (5, 2))"
      ]
     },
     "execution_count": 84,
     "metadata": {},
     "output_type": "execute_result"
    }
   ],
   "source": [
    "a07 = np.concatenate([a,c], axis=0)\n",
    "a07, a07.shape"
   ]
  },
  {
   "cell_type": "markdown",
   "metadata": {
    "id": "PAe1brWaMick"
   },
   "source": [
    "**예제 08**\n",
    "\n",
    "\n",
    "`a`,`b`, `a` 를 합쳐 `shape`가 `(3,5)`인 배열을 만들고 `a08`로 바인딩하세요."
   ]
  },
  {
   "cell_type": "code",
   "execution_count": 86,
   "metadata": {
    "id": "NDWaTP0AMicp"
   },
   "outputs": [
    {
     "data": {
      "text/plain": [
       "(array([[1., 1., 2., 1., 1.],\n",
       "        [1., 1., 2., 1., 1.],\n",
       "        [1., 1., 2., 1., 1.]]),\n",
       " (3, 5))"
      ]
     },
     "execution_count": 86,
     "metadata": {},
     "output_type": "execute_result"
    }
   ],
   "source": [
    "a08 = np.concatenate([a,b,a], axis=1)\n",
    "a08, a08.shape"
   ]
  },
  {
   "cell_type": "markdown",
   "metadata": {
    "id": "eW1GNomvYyw8"
   },
   "source": [
    "**예제 09**\n",
    "\n",
    "`a08`을 세개의 배열 `[1,1,2,1,1]`가 나오도록 분할하세요."
   ]
  },
  {
   "cell_type": "code",
   "execution_count": 90,
   "metadata": {
    "id": "1jkXdrfoYyw8"
   },
   "outputs": [
    {
     "name": "stdout",
     "output_type": "stream",
     "text": [
      "[[1. 1. 2. 1. 1.]]\n"
     ]
    }
   ],
   "source": [
    "a08_1,a08_2,a08_3 = np.split(a08,[1,2],axis=0)\n",
    "\n",
    "print(a08_1)"
   ]
  },
  {
   "cell_type": "markdown",
   "metadata": {
    "id": "mtnrRAfiRSsZ"
   },
   "source": [
    "**예제 10**\n",
    "\n",
    "아래 그림을 설명하는 코드를 차례대로 작성하세요.\n",
    "\n",
    "<p align='center'>\n",
    "<img src=https://github.com/yebiny/SkillTreePython-DataAnalysis/blob/main/imgs/ch0104-06.png?raw=true width=300>\n",
    "</p>\n"
   ]
  },
  {
   "cell_type": "code",
   "execution_count": 91,
   "metadata": {
    "id": "CKT2UkrIXjMO"
   },
   "outputs": [
    {
     "data": {
      "text/plain": [
       "array([[0, 3],\n",
       "       [1, 4],\n",
       "       [2, 5]])"
      ]
     },
     "execution_count": 91,
     "metadata": {},
     "output_type": "execute_result"
    }
   ],
   "source": [
    "np.arange(6).reshape(2,3).T"
   ]
  },
  {
   "cell_type": "markdown",
   "metadata": {
    "id": "y6MXM4bwQRHf"
   },
   "source": [
    "**예제 11**\n",
    "\n",
    "\n",
    "아래 그림을 설명하는 코드를 차례대로 작성하세요.\n",
    "\n",
    "<p align='center'>\n",
    "<img src=https://github.com/yebiny/SkillTreePython-DataAnalysis/blob/main/imgs/ch0104-07.png?raw=true width=300>\n",
    "</p>\n"
   ]
  },
  {
   "cell_type": "code",
   "execution_count": 99,
   "metadata": {
    "id": "Q3DiVbMKQRHh"
   },
   "outputs": [
    {
     "data": {
      "text/plain": [
       "array([[ 0,  1,  2],\n",
       "       [ 3,  4,  5],\n",
       "       [ 9, 10, 11],\n",
       "       [ 6,  7,  8]])"
      ]
     },
     "execution_count": 99,
     "metadata": {},
     "output_type": "execute_result"
    }
   ],
   "source": [
    "a11 = np.arange(4*3).reshape(4,3)\n",
    "a11_s=np.split(a11, [2,3], axis=0)\n",
    "np.concatenate([a11_s[0],a11_s[2],a11_s[1]], axis=0)"
   ]
  },
  {
   "cell_type": "markdown",
   "metadata": {
    "id": "7A3h9vPqRAuh"
   },
   "source": [
    "**예제 12**\n",
    "\n",
    "\n",
    "아래 그림을 설명하는 코드를 차례대로 작성하세요.\n",
    "\n",
    "<p align='center'>\n",
    "<img src=https://github.com/yebiny/SkillTreePython-DataAnalysis/blob/main/imgs/ch0104-08.png?raw=true width=560>\n",
    "</p>\n"
   ]
  },
  {
   "cell_type": "code",
   "execution_count": 108,
   "metadata": {
    "id": "EjHswZepRAuh"
   },
   "outputs": [
    {
     "name": "stdout",
     "output_type": "stream",
     "text": [
      "[[ 0  1  2  6  7  8]\n",
      " [ 3  4  5  9 10 11]] \n",
      "\n",
      "[[ 0  3  6  9]\n",
      " [ 1  4  7 10]\n",
      " [ 2  5  8 11]] \n",
      "\n"
     ]
    }
   ],
   "source": [
    "a = np.arange(0,6).reshape(2,3)\n",
    "b = np.arange(6,12).reshape(2,3)\n",
    "\n",
    "answer1 = np.concatenate([a,b], axis=1)\n",
    "answer2 = np.concatenate([a.T, b.T], axis=1)\n",
    "\n",
    "print(answer1, \"\\n\")\n",
    "print(answer2, \"\\n\")"
   ]
  },
  {
   "cell_type": "markdown",
   "metadata": {
    "id": "O-AZHlQMQ5jI"
   },
   "source": [
    "**예제 13**\n",
    "\n",
    "아래 그림을 설명하는 코드를 차례대로 작성하세요.\n",
    "\n",
    "<p align='center'>\n",
    "<img src=https://github.com/yebiny/SkillTreePython-DataAnalysis/blob/main/imgs/ch0104-09.png?raw=true width=440>\n",
    "</p>"
   ]
  },
  {
   "cell_type": "code",
   "execution_count": 127,
   "metadata": {
    "id": "-Y2ZsVFdQ5jJ"
   },
   "outputs": [
    {
     "name": "stdout",
     "output_type": "stream",
     "text": [
      "[[[0 1]\n",
      "  [2 3]]\n",
      "\n",
      " [[4 5]\n",
      "  [6 7]]] (2, 2, 2)\n"
     ]
    }
   ],
   "source": [
    "a = np.arange(0,4).reshape(2,2)\n",
    "b = np.arange(4,8).reshape(2,2)\n",
    "\n",
    "a = a.reshape(1,2,2)\n",
    "b = b.reshape(1,2,2)\n",
    "\n",
    "answer = np.concatenate([a,b], axis=0)\n",
    "\n",
    "print(answer, answer.shape)"
   ]
  },
  {
   "cell_type": "markdown",
   "metadata": {
    "id": "dAc67rCtUMdH"
   },
   "source": [
    "**예제 14**\n",
    "\n",
    "아래 그림을 설명하는 코드를 차례대로 작성하세요.\n",
    "\n",
    "<p align='center'>\n",
    "<img src=https://github.com/yebiny/SkillTreePython-DataAnalysis/blob/main/imgs/ch0104-10.png?raw=true width=440>\n",
    "</p>"
   ]
  },
  {
   "cell_type": "code",
   "execution_count": 126,
   "metadata": {
    "id": "hQRgmmV4UMdJ"
   },
   "outputs": [
    {
     "name": "stdout",
     "output_type": "stream",
     "text": [
      "[[[0 1]\n",
      "  [4 5]]\n",
      "\n",
      " [[2 3]\n",
      "  [6 7]]] (2, 2, 2)\n"
     ]
    }
   ],
   "source": [
    "a = np.arange(0,4).reshape(2,2)\n",
    "b = np.arange(4,8).reshape(2,2)\n",
    "\n",
    "a = a.reshape(2,1,2)\n",
    "b = b.reshape(2,1,2)\n",
    "\n",
    "answer = np.concatenate([a,b], axis=1)\n",
    "\n",
    "print(answer, answer.shape)"
   ]
  },
  {
   "cell_type": "markdown",
   "metadata": {
    "id": "jx_t_a6dYl22"
   },
   "source": [
    "**예제 15**\n",
    "\n",
    "\n",
    "아래 그림을 설명하는 코드를 차례대로 작성하세요. 여기서 알수 있는 사실을 간단히 정리하세요.\n",
    "\n",
    "<p align='center'>\n",
    "<img src=https://github.com/yebiny/SkillTreePython-DataAnalysis/blob/main/imgs/ch0104-11.png?raw=true width=240>\n",
    "</p>"
   ]
  },
  {
   "cell_type": "code",
   "execution_count": 129,
   "metadata": {
    "id": "xZYEuN8hYl22"
   },
   "outputs": [
    {
     "name": "stdout",
     "output_type": "stream",
     "text": [
      "[[0 3]\n",
      " [1 4]\n",
      " [2 5]] (3, 2)\n"
     ]
    }
   ],
   "source": [
    "a = np.arange(0,3)\n",
    "b = np.arange(3,6)\n",
    "\n",
    "answer = np.stack([a,b], axis=1)\n",
    "\n",
    "print(answer, answer.shape)"
   ]
  },
  {
   "cell_type": "code",
   "execution_count": null,
   "metadata": {},
   "outputs": [],
   "source": []
  }
 ],
 "metadata": {
  "colab": {
   "authorship_tag": "ABX9TyNJhDzazFWuxyeOx9oWGuew",
   "collapsed_sections": [],
   "name": "04_NumPy-배열의구조다루기.ipynb",
   "provenance": []
  },
  "kernelspec": {
   "display_name": "Python 3 (ipykernel)",
   "language": "python",
   "name": "python3"
  },
  "language_info": {
   "codemirror_mode": {
    "name": "ipython",
    "version": 3
   },
   "file_extension": ".py",
   "mimetype": "text/x-python",
   "name": "python",
   "nbconvert_exporter": "python",
   "pygments_lexer": "ipython3",
   "version": "3.9.7"
  },
  "toc": {
   "base_numbering": 1,
   "nav_menu": {
    "height": "208px",
    "width": "339px"
   },
   "number_sections": true,
   "sideBar": true,
   "skip_h1_title": false,
   "title_cell": "Table of Contents",
   "title_sidebar": "Contents",
   "toc_cell": false,
   "toc_position": {},
   "toc_section_display": true,
   "toc_window_display": false
  },
  "varInspector": {
   "cols": {
    "lenName": 16,
    "lenType": 16,
    "lenVar": 40
   },
   "kernels_config": {
    "python": {
     "delete_cmd_postfix": "",
     "delete_cmd_prefix": "del ",
     "library": "var_list.py",
     "varRefreshCmd": "print(var_dic_list())"
    },
    "r": {
     "delete_cmd_postfix": ") ",
     "delete_cmd_prefix": "rm(",
     "library": "var_list.r",
     "varRefreshCmd": "cat(var_dic_list()) "
    }
   },
   "types_to_exclude": [
    "module",
    "function",
    "builtin_function_or_method",
    "instance",
    "_Feature"
   ],
   "window_display": false
  }
 },
 "nbformat": 4,
 "nbformat_minor": 1
}
