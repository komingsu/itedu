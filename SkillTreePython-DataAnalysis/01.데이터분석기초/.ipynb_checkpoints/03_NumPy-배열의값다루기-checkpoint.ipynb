{
 "cells": [
  {
   "cell_type": "markdown",
   "metadata": {
    "id": "jgFAOz-Tw1VI"
   },
   "source": [
    "# CH03. Numpy  - 배열의 값 다루기\n",
    "\n",
    "---\n",
    "* 날짜: 2022-04-11\n",
    "* 이름: 고민수\n"
   ]
  },
  {
   "cell_type": "markdown",
   "metadata": {
    "id": "_3uSBF40BdCd"
   },
   "source": [
    "## 개념정리\n",
    "\n",
    "앞서 우리는 배열을 생성하는 다양한 방법을 배웠습니다. 이번시간에 이렇게 생성한 배열의 값을 조회(인덱싱, 슬리아싱) 하고 값을 변경(수정, 삭제) 하는 방법에 대해 알아보도록 합니다. \n",
    "\n",
    "\n",
    "```\n",
    "import numpy as np\n",
    "```\n",
    "\n",
    "\n"
   ]
  },
  {
   "cell_type": "code",
   "execution_count": 1,
   "metadata": {
    "id": "3IDspyuAtqd7"
   },
   "outputs": [],
   "source": [
    "import numpy as np"
   ]
  },
  {
   "cell_type": "markdown",
   "metadata": {
    "id": "HjPXsM8C5ULZ"
   },
   "source": [
    "---\n",
    "### **(1) 배열 조회**\n",
    "---\n",
    "\n",
    "기본적인 배열의 정보를 아래 메서드를 이용해 확인할 수 있습니다. \n",
    "\n",
    "\n",
    "* `.ndim`: 차원의 수\n",
    "* `.shape`: 형태\n",
    "* `.dtype`: element 타입\n",
    "* `.size`: element 총 개수\n",
    "* `.itemsize`: 메모리 사이즈 (byte)\n",
    "* `.nbytes`: `size`*`itemsize`\n",
    "\n",
    "```\n",
    "a = np.arange(10)\n",
    "print(a)\n",
    "print(a.ndim) # 차원의 수\n",
    "print(a.shape) # 형태\n",
    "print(a.dtype) # element 타입\n",
    "print(a.size) # element 총 개수\n",
    "print(a.itemsize) # 메모리 사이즈\n",
    "print(a.nbytes) # 메모리 사이즈 * element 총 개수\n",
    "```"
   ]
  },
  {
   "cell_type": "code",
   "execution_count": 4,
   "metadata": {
    "id": "_dSqxyxUk44g"
   },
   "outputs": [
    {
     "name": "stdout",
     "output_type": "stream",
     "text": [
      "[[0.]\n",
      " [0.]\n",
      " [0.]\n",
      " [0.]\n",
      " [0.]\n",
      " [0.]\n",
      " [0.]\n",
      " [0.]\n",
      " [0.]\n",
      " [0.]]\n",
      "2\n",
      "(10, 1)\n",
      "float64\n",
      "10\n",
      "8\n",
      "80\n"
     ]
    }
   ],
   "source": [
    "a = np.zeros([10,1])\n",
    "print(a)\n",
    "print(a.ndim) # 차원의 수\n",
    "print(a.shape) # 형태\n",
    "print(a.dtype) # element 타입\n",
    "print(a.size) # element 총 개수\n",
    "print(a.itemsize) # 메모리 사이즈\n",
    "print(a.nbytes) # 메모리 사이즈 * element 총 개수"
   ]
  },
  {
   "cell_type": "markdown",
   "metadata": {
    "id": "NQ_GbYiXLN2i"
   },
   "source": [
    "#### **| 인덱싱**\n",
    "\n",
    "배열의 인덱싱은 기본적으로 파이썬 리스트와 동일합니다. 다만 넘파이 배열에서는 차원에 대한 인덱싱을 콤마(,)를 이용합니다.\n",
    "\n",
    "아래와 같이 리스트 `l`과 배열 `a`가 주어 졌을 때 데이터 `2`를 출력해 봅시다.\n",
    "\n",
    "배열을 사용할 땐 보통 `a[0,1]` 과 같이 각 차원에 대해 콤마(`,`)로 구분합니다. \n",
    "\n",
    "```\n",
    "l = [[1,2,3],[4,5,6]]\n",
    "a = np.array(l)\n",
    "print(a)\n",
    "\n",
    "l[0][1], a[0][1], a[0,1]\n",
    "```"
   ]
  },
  {
   "cell_type": "code",
   "execution_count": 22,
   "metadata": {
    "id": "XzFGRGdoj7jD"
   },
   "outputs": [
    {
     "name": "stdout",
     "output_type": "stream",
     "text": [
      "[[1 2 3]\n",
      " [4 5 6]]\n"
     ]
    },
    {
     "data": {
      "text/plain": [
       "(2, 2, 2)"
      ]
     },
     "execution_count": 22,
     "metadata": {},
     "output_type": "execute_result"
    }
   ],
   "source": [
    "l = [[1,2,3],[4,5,6]]\n",
    "a = np.array(l)\n",
    "print(a)\n",
    "\n",
    "l[0][1], a[0][1], a[0,1]"
   ]
  },
  {
   "cell_type": "markdown",
   "metadata": {
    "id": "hoFFULJRj8mU"
   },
   "source": [
    "#### **| 슬라이싱**\n",
    "\n",
    "슬라이싱 또한 기본적으로 파이썬 리스트와 동일하며 다른점은 콤마(,)를 이용한다는 것입니다. \n",
    "\n",
    "우선 슬라이싱을 이용해 리스트 `l`에서 리스트 `[[1,2],[4,5]]`을 출력해 봅시다.\n",
    "\n",
    "```\n",
    "?\n",
    "```\n",
    "\n"
   ]
  },
  {
   "cell_type": "code",
   "execution_count": 24,
   "metadata": {
    "id": "dYLhCvEqj8mV"
   },
   "outputs": [
    {
     "data": {
      "text/plain": [
       "[[1, 2], [4, 5]]"
      ]
     },
     "execution_count": 24,
     "metadata": {},
     "output_type": "execute_result"
    }
   ],
   "source": [
    "[a[:2] for a in l]"
   ]
  },
  {
   "cell_type": "markdown",
   "metadata": {
    "id": "oVZRxzcyoWsD"
   },
   "source": [
    "이번엔 배열 `a`에서 배열 `[[1,2],[4,5]]`을 출력해 봅시다. "
   ]
  },
  {
   "cell_type": "code",
   "execution_count": 26,
   "metadata": {
    "id": "S64FExzsoBBg"
   },
   "outputs": [
    {
     "data": {
      "text/plain": [
       "array([[1, 2],\n",
       "       [4, 5]])"
      ]
     },
     "execution_count": 26,
     "metadata": {},
     "output_type": "execute_result"
    }
   ],
   "source": [
    "a[:,:2]"
   ]
  },
  {
   "cell_type": "markdown",
   "metadata": {
    "id": "BJPqOH9FooVQ"
   },
   "source": [
    "이처럼 리스트에서는 제한적인 슬라이싱을 넘파이 배열을 통해서는 자유롭게 슬라이싱이 가능합니다. "
   ]
  },
  {
   "cell_type": "markdown",
   "metadata": {
    "id": "hzWZ5G7mo2PR"
   },
   "source": [
    "#### **| 연습문제**\n",
    "\n",
    "연습을 위해 아래 그림과 같은 2차원 배열을 생성하고 `a2`로 바인딩 하세요.\n",
    "\n",
    "<p align='center'>\n",
    "<img src=https://github.com/yebiny/SkillTreePython-DataAnalysis/blob/main/imgs/ch0103-01.png?raw=true width=240>\n",
    "</p>\n",
    "\n",
    "```\n",
    "a2 = np.arange(1, 26).reshape(5,5)\n",
    "```"
   ]
  },
  {
   "cell_type": "code",
   "execution_count": 27,
   "metadata": {
    "id": "peNsBPQcrggt"
   },
   "outputs": [],
   "source": [
    "a2 = np.arange(1, 26).reshape(5,5)"
   ]
  },
  {
   "cell_type": "markdown",
   "metadata": {
    "id": "ey_R7ZgXnHdp"
   },
   "source": [
    "**연습 01**\n",
    "\n",
    "인덱싱을 이용해 `a2`의 4, 13, 25를 각각 출력하세요. \n"
   ]
  },
  {
   "cell_type": "code",
   "execution_count": 34,
   "metadata": {
    "id": "XUKKRTSJAsMa"
   },
   "outputs": [
    {
     "name": "stdout",
     "output_type": "stream",
     "text": [
      "4 13 25\n"
     ]
    }
   ],
   "source": [
    "print(\n",
    "    a2[0,3],\n",
    "    a2[2,2],\n",
    "    a2[4,4]\n",
    ")\n"
   ]
  },
  {
   "cell_type": "markdown",
   "metadata": {
    "id": "osSECfAyqBln"
   },
   "source": [
    "**연습 02**\n",
    "\n",
    "슬라이싱을 이용해 파란색 값으로 이루어진 배열을 출력하세요.\n",
    "\n",
    "<p align='center'>\n",
    "<img src=https://github.com/yebiny/SkillTreePython-DataAnalysis/blob/main/imgs/ch0103-02.png?raw=true width=240>\n",
    "</p>\n"
   ]
  },
  {
   "cell_type": "code",
   "execution_count": 35,
   "metadata": {
    "id": "4f6g4MUhqBlu"
   },
   "outputs": [
    {
     "data": {
      "text/plain": [
       "array([ 7, 12, 17, 22])"
      ]
     },
     "execution_count": 35,
     "metadata": {},
     "output_type": "execute_result"
    }
   ],
   "source": [
    "a2[1:,1]"
   ]
  },
  {
   "cell_type": "markdown",
   "metadata": {
    "id": "5frFtw8dqJth"
   },
   "source": [
    "**연습 03**\n",
    "\n",
    "슬라이싱을 이용해 파란색 값으로 이루어진 배열을 출력하세요.\n",
    "\n",
    "<p align='center'>\n",
    "<img src=https://github.com/yebiny/SkillTreePython-DataAnalysis/blob/main/imgs/ch0103-03.png?raw=true width=240>\n",
    "</p>\n"
   ]
  },
  {
   "cell_type": "code",
   "execution_count": 36,
   "metadata": {
    "id": "VrPumy5wqJth"
   },
   "outputs": [
    {
     "data": {
      "text/plain": [
       "array([[ 7,  8,  9],\n",
       "       [12, 13, 14],\n",
       "       [17, 18, 19]])"
      ]
     },
     "execution_count": 36,
     "metadata": {},
     "output_type": "execute_result"
    }
   ],
   "source": [
    "a2[1:4,1:4]"
   ]
  },
  {
   "cell_type": "markdown",
   "metadata": {
    "id": "CrNPIU4P7gb4"
   },
   "source": [
    "---\n",
    "### **(2) 다양한 인덱싱**\n",
    "---\n"
   ]
  },
  {
   "cell_type": "markdown",
   "metadata": {
    "id": "2DTdJiChrkHg"
   },
   "source": [
    "#### **| 팬시 인덱싱(Fancy indexing)**\n",
    "\n",
    "아래그림과 같이 `a2`의 대각선 값인 `[1,7,13,19,25]`만 슬라이싱 하려면 어떻게 할까요? 이 경우 인덱스가 이어져 있지 않기 때문에 위에서 배운 방법만으로는 어렵습니다. \n",
    "\n",
    "<p align='center'>\n",
    "<img src=https://github.com/yebiny/SkillTreePython-DataAnalysis/blob/main/imgs/ch0103-04.png?raw=true width=240>\n",
    "</p>\n",
    "\n",
    "\n",
    "이럴 때 유용하게 사용할 수 있는게 팬시 인덱싱 입니다. 팬시 인덱싱은 배열 값의 선택 여부를 인덱스로 지정합니다. \n",
    "\n",
    "\n",
    "```\n",
    "a2[(0,1,2,3,4),(0,1,2,3,4)]\n",
    "```\n",
    "위 코드는 행, 열로 바꿔 생각하면 `(0,0)`, `(1,1)`, `(2,2)`, `(3,3)`, `(4,4)` 위치에 있는 값들을 인덱싱 한것과 동일합니다. \n"
   ]
  },
  {
   "cell_type": "code",
   "execution_count": 37,
   "metadata": {
    "id": "R6XxUzsPrkHh"
   },
   "outputs": [
    {
     "data": {
      "text/plain": [
       "array([ 1,  7, 13, 19, 25])"
      ]
     },
     "execution_count": 37,
     "metadata": {},
     "output_type": "execute_result"
    }
   ],
   "source": [
    "a2[(0,1,2,3,4),(0,1,2,3,4)]"
   ]
  },
  {
   "cell_type": "markdown",
   "metadata": {
    "id": "fl73JgeJrrwQ"
   },
   "source": [
    "#### **| 불리언 인덱싱(boolean indexing)**\n",
    "\n",
    "불리언 인덱싱은 배열 값의 선택 여부를 불리언(boolian) 을 이용해 지정합니다. 불리언 인덱싱을 사용하기 위해서는 인덱스 할 배열과 똑같은 크기에 `True`혹은 `False` 값만 들어있는 배열이 필요합니다. \n",
    "\n",
    "따라서 위에서 처럼 대각값을 슬라이싱 하기 위해서는 아래와 같은 작업이 필요합니다. \n",
    "\n",
    "```\n",
    "mask  = np.array([[True, False, False, False, False,],\n",
    "                [False, True, False, False, False,],\n",
    "                [False, False, True, False, False,],\n",
    "                [False, False, False, True, False,],\n",
    "                [False, False, False, False, True,]])\n",
    "\n",
    "mask  = np.array([[1,0,0,0,0],\n",
    "                 [0,1,0,0,0],\n",
    "                 [0,0,1,0,0],\n",
    "                 [0,0,0,1,0],\n",
    "                 [0,0,0,0,1]], dtype=bool)\n",
    "print(mask)\n",
    "\n",
    "a2[mask]\n",
    "```\n"
   ]
  },
  {
   "cell_type": "code",
   "execution_count": 38,
   "metadata": {
    "id": "nfRZ8261rrwR"
   },
   "outputs": [
    {
     "name": "stdout",
     "output_type": "stream",
     "text": [
      "[[ True False False False False]\n",
      " [False  True False False False]\n",
      " [False False  True False False]\n",
      " [False False False  True False]\n",
      " [False False False False  True]]\n"
     ]
    },
    {
     "data": {
      "text/plain": [
       "array([ 1,  7, 13, 19, 25])"
      ]
     },
     "execution_count": 38,
     "metadata": {},
     "output_type": "execute_result"
    }
   ],
   "source": [
    "mask  = np.array([[True, False, False, False, False,],\n",
    "                [False, True, False, False, False,],\n",
    "                [False, False, True, False, False,],\n",
    "                [False, False, False, True, False,],\n",
    "                [False, False, False, False, True,]])\n",
    "\n",
    "mask  = np.array([[1,0,0,0,0],\n",
    "                 [0,1,0,0,0],\n",
    "                 [0,0,1,0,0],\n",
    "                 [0,0,0,1,0],\n",
    "                 [0,0,0,0,1]], dtype=bool)\n",
    "print(mask)\n",
    "\n",
    "a2[mask]"
   ]
  },
  {
   "cell_type": "markdown",
   "metadata": {
    "id": "yDnEg3ZHtHEO"
   },
   "source": [
    "불리언 인덱싱이 불필요해 보이지만 유용하게 사용될 때가 있습니다. 아직 연산에 대해 배우지 않았지만 예시를 들어보겠습니다. \n",
    "\n",
    "`a2`에서 `15`보다 큰값만 슬라이싱 하려 합니다. 이 때 불리언 인덱싱을 이용해 `mask`를 다음과 같이 정의할 수 있습니다. \n",
    "\n",
    "```\n",
    "mask = a2>15\n",
    "print(mask)\n",
    "a2[mask]\n",
    "```"
   ]
  },
  {
   "cell_type": "code",
   "execution_count": 39,
   "metadata": {
    "id": "Pd6HybTdtlsO"
   },
   "outputs": [
    {
     "name": "stdout",
     "output_type": "stream",
     "text": [
      "[[False False False False False]\n",
      " [False False False False False]\n",
      " [False False False False False]\n",
      " [ True  True  True  True  True]\n",
      " [ True  True  True  True  True]]\n"
     ]
    },
    {
     "data": {
      "text/plain": [
       "array([16, 17, 18, 19, 20, 21, 22, 23, 24, 25])"
      ]
     },
     "execution_count": 39,
     "metadata": {},
     "output_type": "execute_result"
    }
   ],
   "source": [
    "mask = a2>15\n",
    "print(mask)\n",
    "a2[mask]"
   ]
  },
  {
   "cell_type": "markdown",
   "metadata": {
    "id": "3OohVJBBt5XQ"
   },
   "source": [
    "#### **| 연습문제**\n",
    "\n",
    "**연습 04**\n",
    "\n",
    "아래 그림에서 색깔별로 해당하는 값들을 인덱싱 하여 각각 새로운 배열로 만드세요.\n",
    "\n",
    "\n",
    "<p align='center'>\n",
    "<img src=https://github.com/yebiny/SkillTreePython-DataAnalysis/blob/main/imgs/ch0103-05.png?raw=true width=240>\n",
    "</p>\n",
    "\n"
   ]
  },
  {
   "cell_type": "code",
   "execution_count": 46,
   "metadata": {
    "id": "i0Mc-XWQvJ_d"
   },
   "outputs": [
    {
     "name": "stdout",
     "output_type": "stream",
     "text": [
      "[ 1 12 19]\n",
      "[ 3  5  8 10 13 15]\n",
      "[21 22 23 24 25]\n"
     ]
    }
   ],
   "source": [
    "print(a2[(0,2,3),(0,1,3)])\n",
    "\n",
    "mask  = np.array([[0,0,1,0,1],\n",
    "                 [0,0,1,0,1],\n",
    "                 [0,0,1,0,1],\n",
    "                 [0,0,0,0,0],\n",
    "                 [0,0,0,0,0]], dtype=bool)\n",
    "print(a2[mask])\n",
    "\n",
    "print(a2[a2>=21])"
   ]
  },
  {
   "cell_type": "markdown",
   "metadata": {
    "id": "20us_Tx577JL"
   },
   "source": [
    "---\n",
    "### **(3) 배열 값 변경**\n",
    "---\n"
   ]
  },
  {
   "cell_type": "markdown",
   "metadata": {
    "id": "xW7UPAFY77JR"
   },
   "source": [
    "#### **| 수정**\n",
    "\n",
    "배열 값의 수정은 기본적으로 인덱싱을 이용합니다. 리스트의 수정과 마찬가지로 인덱싱으로 특정값에 접근하고 바인딩을 이용해 값을 수정합니다. \n",
    "\n",
    "\n",
    "```\n",
    "a = np.arange(10)\n",
    "print(a)\n",
    "a[0]=100\n",
    "print(a)\n",
    "```"
   ]
  },
  {
   "cell_type": "code",
   "execution_count": 47,
   "metadata": {
    "id": "VwBnNgLT77xV"
   },
   "outputs": [
    {
     "name": "stdout",
     "output_type": "stream",
     "text": [
      "[0 1 2 3 4 5 6 7 8 9]\n",
      "[100   1   2   3   4   5   6   7   8   9]\n"
     ]
    }
   ],
   "source": [
    "a = np.arange(10)\n",
    "print(a)\n",
    "a[0]=100\n",
    "print(a)"
   ]
  },
  {
   "cell_type": "markdown",
   "metadata": {
    "id": "eKawM5an8mZx"
   },
   "source": [
    "#### **| 삽입**\n",
    "\n",
    "* `b = np.insert(a, index, element, axis=n)` : \n",
    "값을 추가한 새로운 배열을 반환합니다. 원본 배열은 변경되지 않습니다. \n",
    "\n",
    "`insert` 메서드를 이용하여 배열의 특정 위치에 값을 추가할 수 있습니다. 이 때 값을 추가할 차원 축 (axis)를 지정해야 하며, 지정하지 않으면 1차원 배열을 반환합니다. \n",
    "\n",
    "```\n",
    "a = np.zeros((3,3))\n",
    "print(a)\n",
    "\n",
    "print(np.insert(a, 0, 1, axis=0))\n",
    "print(np.insert(a, 0, 1, axis=1))\n",
    "print(np.insert(a, 0, 1))\n",
    "```"
   ]
  },
  {
   "cell_type": "code",
   "execution_count": 48,
   "metadata": {
    "id": "IkvNkInb8mZx"
   },
   "outputs": [
    {
     "name": "stdout",
     "output_type": "stream",
     "text": [
      "[[0. 0. 0.]\n",
      " [0. 0. 0.]\n",
      " [0. 0. 0.]]\n",
      "[[1. 1. 1.]\n",
      " [0. 0. 0.]\n",
      " [0. 0. 0.]\n",
      " [0. 0. 0.]]\n",
      "[[1. 0. 0. 0.]\n",
      " [1. 0. 0. 0.]\n",
      " [1. 0. 0. 0.]]\n",
      "[1. 0. 0. 0. 0. 0. 0. 0. 0. 0.]\n"
     ]
    }
   ],
   "source": [
    "a = np.zeros((3,3))\n",
    "print(a)\n",
    "\n",
    "print(np.insert(a, 0, 1, axis=0))\n",
    "print(np.insert(a, 0, 1, axis=1))\n",
    "print(np.insert(a, 0, 1))"
   ]
  },
  {
   "cell_type": "markdown",
   "metadata": {
    "id": "h_cUD4FQ-oAo"
   },
   "source": [
    "#### **| 연습문제**\n",
    "\n"
   ]
  },
  {
   "cell_type": "markdown",
   "metadata": {
    "id": "Rw32D58m-t1t"
   },
   "source": [
    "**연습 05**\n",
    "\n",
    "위에서 정의한 `a`에 `insert`를 사용하여 아래 그림과 같은 배열을 출력하세요.\n",
    "\n",
    "<p align='center'>\n",
    "<img src=https://github.com/yebiny/SkillTreePython-DataAnalysis/blob/main/imgs/ch0103-06.png?raw=true width=150>\n",
    "</p>"
   ]
  },
  {
   "cell_type": "code",
   "execution_count": 49,
   "metadata": {
    "id": "nK3awP18-oAp"
   },
   "outputs": [
    {
     "data": {
      "text/plain": [
       "array([[0., 0., 0.],\n",
       "       [0., 0., 0.],\n",
       "       [1., 1., 1.],\n",
       "       [0., 0., 0.]])"
      ]
     },
     "execution_count": 49,
     "metadata": {},
     "output_type": "execute_result"
    }
   ],
   "source": [
    "np.insert(a,2,1,axis=0)"
   ]
  },
  {
   "cell_type": "markdown",
   "metadata": {
    "id": "Bza20EHW_lXI"
   },
   "source": [
    "**연습 06**\n",
    "\n",
    "위에서 정의한 `a`에 `insert`를 사용하여 아래 그림과 같은 배열을 출력하세요.\n",
    "\n",
    "<p align='center'>\n",
    "<img src=https://github.com/yebiny/SkillTreePython-DataAnalysis/blob/main/imgs/ch0103-07.png?raw=true width=210>\n",
    "</p>"
   ]
  },
  {
   "cell_type": "code",
   "execution_count": 52,
   "metadata": {
    "id": "hSvLOhwAZA_r"
   },
   "outputs": [
    {
     "data": {
      "text/plain": [
       "array([[0., 1., 0., 0.],\n",
       "       [0., 2., 0., 0.],\n",
       "       [0., 3., 0., 0.]])"
      ]
     },
     "execution_count": 52,
     "metadata": {},
     "output_type": "execute_result"
    }
   ],
   "source": [
    "np.insert(a,1,[1,2,3],axis=1)"
   ]
  },
  {
   "cell_type": "markdown",
   "metadata": {
    "id": "I1w7yFZkPcI5"
   },
   "source": [
    "#### **| 삭제**\n",
    "\n",
    "* `b = np.delete(a, index, axis=n)` : \n",
    "값을 추가한 새로운 배열을 반환합니다. 원본 배열은 변경되지 않습니다. \n",
    "\n",
    "`delete` 메서드는 배열의 특정 위치 값을 삭제합니다. 이 때 값을 추가할 차원 축 (axis)를 지정해야 하며, 지정하지 않으면 1차원 배열을 반환합니다. \n",
    "\n",
    "```\n",
    "a = np.zeros((3,3))\n",
    "print(a)\n",
    "\n",
    "print(np.delete(a, 0, axis=0))\n",
    "print(np.delete(a, 0, axis=1))\n",
    "print(np.delete(a, 0))\n",
    "``` "
   ]
  },
  {
   "cell_type": "code",
   "execution_count": 56,
   "metadata": {
    "id": "m7oidORKPcI9"
   },
   "outputs": [
    {
     "name": "stdout",
     "output_type": "stream",
     "text": [
      "[[0 1 2]\n",
      " [3 4 5]\n",
      " [6 7 8]]\n",
      "\n",
      "[[3 4 5]\n",
      " [6 7 8]]\n",
      "\n",
      "[[1 2]\n",
      " [4 5]\n",
      " [7 8]]\n",
      "\n",
      "[1 2 3 4 5 6 7 8]\n"
     ]
    }
   ],
   "source": [
    "a = np.arange(9).reshape(3,3)\n",
    "print(a)\n",
    "print()\n",
    "print(np.delete(a, 0, axis=0))\n",
    "print()\n",
    "print(np.delete(a, 0, axis=1))\n",
    "print()\n",
    "print(np.delete(a, 0))"
   ]
  },
  {
   "cell_type": "markdown",
   "metadata": {
    "id": "3TdSoq9shmbV"
   },
   "source": [
    "#### **| 복사**\n",
    "\n",
    "* `b = np.copy(a)` : 배열 `a`를 복사하여 `b`로 반환합니다. \n",
    "\n",
    "\n",
    "\n",
    "\n",
    "\n",
    "\n"
   ]
  },
  {
   "cell_type": "code",
   "execution_count": 57,
   "metadata": {
    "id": "VeCwYgn4Bhpk"
   },
   "outputs": [],
   "source": [
    "b = np.copy(a)"
   ]
  },
  {
   "cell_type": "markdown",
   "metadata": {
    "id": "LOw4Y58XByIA"
   },
   "source": [
    "`np.copy`를 이용해 배열을 복사하면 `b` 값이 변경되더라도 원본 배열 `a`는 보존됩니다.\n",
    "```\n",
    "b[1,1]=1\n",
    "print(a)\n",
    "print(b)\n",
    "```"
   ]
  },
  {
   "cell_type": "code",
   "execution_count": 58,
   "metadata": {
    "id": "U4yvdZKABraW"
   },
   "outputs": [
    {
     "name": "stdout",
     "output_type": "stream",
     "text": [
      "[[0 1 2]\n",
      " [3 4 5]\n",
      " [6 7 8]]\n",
      "[[0 1 2]\n",
      " [3 1 5]\n",
      " [6 7 8]]\n"
     ]
    }
   ],
   "source": [
    "b[1,1]=1\n",
    "print(a)\n",
    "print(b)"
   ]
  },
  {
   "cell_type": "markdown",
   "metadata": {
    "id": "1mSHucaqhkFu"
   },
   "source": [
    "만약 슬라이싱으로 배열을 복사하게 되면 원본 배열 `a`가 보존되지 않습니다.\n",
    "\n",
    "```\n",
    "b = a[:]\n",
    "print(a)\n",
    "print(b)\n",
    "print('b값을 변경')\n",
    "b[1,1]=1\n",
    "print(a)\n",
    "print(b)\n",
    "```\n"
   ]
  },
  {
   "cell_type": "code",
   "execution_count": 61,
   "metadata": {
    "id": "2DxXadB1VgBQ"
   },
   "outputs": [
    {
     "name": "stdout",
     "output_type": "stream",
     "text": [
      "[[0 1 2]\n",
      " [3 4 5]\n",
      " [6 7 8]]\n",
      "[[0 1 2]\n",
      " [3 4 5]\n",
      " [6 7 8]]\n",
      "b값을 변경\n",
      "[[0 1 2]\n",
      " [3 1 5]\n",
      " [6 7 8]]\n",
      "[[0 1 2]\n",
      " [3 1 5]\n",
      " [6 7 8]]\n"
     ]
    }
   ],
   "source": [
    "a = np.arange(9).reshape(3,3)\n",
    "b = a[:]\n",
    "print(a)\n",
    "print(b)\n",
    "print('b값을 변경')\n",
    "b[1,1]=1\n",
    "print(a)\n",
    "print(b)"
   ]
  },
  {
   "cell_type": "markdown",
   "metadata": {
    "id": "1Zo86GIRD8iE"
   },
   "source": [
    "## 문제풀이\n",
    "---\n"
   ]
  },
  {
   "cell_type": "markdown",
   "metadata": {
    "id": "BJNPI5t15M4P"
   },
   "source": [
    "아래 그림과 같은 배열을 각각 `a1`, `a2`, `a3` 로 정의하세요. `a3` 그림에서 뒤쪽에 있는 숫자들은 앞에 값과 동일합니다.\n",
    "\n",
    "<p align='center'>\n",
    "<img src=https://github.com/yebiny/SkillTreePython-DataAnalysis/blob/main/imgs/ch0103-08.png?raw=true width=620>\n",
    "</p>"
   ]
  },
  {
   "cell_type": "code",
   "execution_count": 73,
   "metadata": {
    "id": "0VcVNdbm5M1J"
   },
   "outputs": [
    {
     "name": "stdout",
     "output_type": "stream",
     "text": [
      "[2 4 1 3]\n",
      "\n",
      "[[ 0.  1.  2.]\n",
      " [10. 11. 12.]\n",
      " [20. 21. 22.]\n",
      " [30. 31. 32.]\n",
      " [40. 41. 42.]]\n",
      "\n",
      "[[[ 0  1]\n",
      "  [10 11]]\n",
      "\n",
      " [[ 0  1]\n",
      "  [10 11]]\n",
      "\n",
      " [[ 0  1]\n",
      "  [10 11]]]\n"
     ]
    }
   ],
   "source": [
    "a1 = np.array([2,4,1,3])\n",
    "a2_0 = np.linspace(0,40,5).reshape(5,1)\n",
    "a2_1 = np.linspace(1,41,5).reshape(5,1)\n",
    "a2_2 = np.linspace(2,42,5).reshape(5,1)\n",
    "a2 = np.hstack((a2_0,a2_1,a2_2))\n",
    "a3 = np.array([0,1,10,11,0,1,10,11,0,1,10,11]).reshape(3,2,2)\n",
    "print(a1)\n",
    "print()\n",
    "print(a2)\n",
    "print()\n",
    "print(a3)"
   ]
  },
  {
   "cell_type": "markdown",
   "metadata": {
    "id": "cTtCSNxFmxsL"
   },
   "source": [
    "**예제 01**\n",
    "\n",
    "`a1`의 3을 인덱싱 하세요"
   ]
  },
  {
   "cell_type": "code",
   "execution_count": 74,
   "metadata": {
    "id": "X2FslwXL_hSE"
   },
   "outputs": [
    {
     "data": {
      "text/plain": [
       "3"
      ]
     },
     "execution_count": 74,
     "metadata": {},
     "output_type": "execute_result"
    }
   ],
   "source": [
    "a1[3]"
   ]
  },
  {
   "cell_type": "markdown",
   "metadata": {
    "id": "mQqp_GvL_nqZ"
   },
   "source": [
    "**예제 02**\n",
    "\n",
    "`a2`의 2와 30을 인덱싱 하세요."
   ]
  },
  {
   "cell_type": "code",
   "execution_count": 76,
   "metadata": {
    "id": "afH2M561_nqa"
   },
   "outputs": [
    {
     "data": {
      "text/plain": [
       "array([ 2., 30.])"
      ]
     },
     "execution_count": 76,
     "metadata": {},
     "output_type": "execute_result"
    }
   ],
   "source": [
    "a2\n",
    "a2[(0,3),(2,0)]"
   ]
  },
  {
   "cell_type": "markdown",
   "metadata": {
    "id": "t_ryizEe_rvF"
   },
   "source": [
    "**예제 03**\n",
    "\n",
    "`a3`의 10을 모두 인덱싱 하세요."
   ]
  },
  {
   "cell_type": "code",
   "execution_count": 78,
   "metadata": {
    "id": "EM_B1GhA_rvG"
   },
   "outputs": [
    {
     "data": {
      "text/plain": [
       "array([10, 10, 10])"
      ]
     },
     "execution_count": 78,
     "metadata": {},
     "output_type": "execute_result"
    }
   ],
   "source": [
    "a3\n",
    "a3[:,1,0]"
   ]
  },
  {
   "cell_type": "markdown",
   "metadata": {
    "id": "joLrAHQjAO-u"
   },
   "source": [
    "**예제 04**\n",
    "\n",
    "`a2`에서 아래 그림에 해당하는 값을 펜시 인덱싱과 불리언 인덱싱을 각각 이용하여 새로운 배열로 만드세요.\n",
    "\n",
    "<p align='center'>\n",
    "<img src=https://github.com/yebiny/SkillTreePython-DataAnalysis/blob/main/imgs/ch0103-09.png?raw=true width=150>\n",
    "</p>"
   ]
  },
  {
   "cell_type": "code",
   "execution_count": 107,
   "metadata": {
    "id": "2XxmQEyRAO-v"
   },
   "outputs": [
    {
     "name": "stdout",
     "output_type": "stream",
     "text": [
      "[20. 22. 40. 42.] [20. 22. 40. 42.]\n"
     ]
    }
   ],
   "source": [
    "ex4_pency=a2[(2,2,4,4),(0,2,0,2)]\n",
    "\n",
    "mask = np.zeros_like(a2, dtype=bool)\n",
    "mask[(2,2,4,4),(0,2,0,2)]=1\n",
    "ex4_bool=a2[mask]\n",
    "print(ex4_pency, ex4_bool)"
   ]
  },
  {
   "cell_type": "markdown",
   "metadata": {
    "id": "SfR9Wjh-6wpK"
   },
   "source": [
    "**예제 05**\n",
    "\n",
    "`a2`에서 아래 그림에 해당하는 값을 펜시 인덱싱과 불리언 인덱싱을 각각 이용하여 새로운 배열로 만드세요.\n",
    "\n",
    "\n",
    "<p align='center'>\n",
    "<img src=https://github.com/yebiny/SkillTreePython-DataAnalysis/blob/main/imgs/ch0103-10.png?raw=true width=150>\n",
    "</p>"
   ]
  },
  {
   "cell_type": "code",
   "execution_count": 108,
   "metadata": {
    "id": "gCQwBtin6wpP"
   },
   "outputs": [
    {
     "name": "stdout",
     "output_type": "stream",
     "text": [
      "[[ 0.  2.]\n",
      " [10. 12.]\n",
      " [20. 22.]] [ 0.  2. 10. 12. 20. 22.]\n"
     ]
    }
   ],
   "source": [
    "ex5_pency = a2[:3,(0,2)]\n",
    "\n",
    "mask = np.zeros_like(a2, dtype=bool)\n",
    "mask[:3,(0,2)]=1\n",
    "ex5_bool=a2[mask]\n",
    "print(ex5_pency, ex5_bool)"
   ]
  },
  {
   "cell_type": "markdown",
   "metadata": {
    "id": "xiltaKm27A0k"
   },
   "source": [
    "**예제 06**\n",
    "\n",
    "`a2`에서 아래 그림에 해당하는 값을 펜시 인덱싱과 불리언 인덱싱을 각각 이용하여 새로운 배열로 만드세요.\n",
    "\n",
    "\n",
    "<p align='center'>\n",
    "<img src=https://github.com/yebiny/SkillTreePython-DataAnalysis/blob/main/imgs/ch0103-11.png?raw=true width=150>\n",
    "</p>"
   ]
  },
  {
   "cell_type": "code",
   "execution_count": 114,
   "metadata": {
    "id": "vddom3tb7A0l"
   },
   "outputs": [
    {
     "name": "stdout",
     "output_type": "stream",
     "text": [
      "[20. 21. 22. 31. 41.] [20. 21. 22. 31. 41.]\n"
     ]
    }
   ],
   "source": [
    "ex6_pency = a2[(2,2,2,3,4),(0,1,2,1,1)]\n",
    "\n",
    "mask = np.zeros_like(a2, dtype=bool)\n",
    "mask[(2,2,2,3,4),(0,1,2,1,1)]=1\n",
    "ex6_bool=a2[mask]\n",
    "print(ex6_pency, ex6_bool)"
   ]
  },
  {
   "cell_type": "markdown",
   "metadata": {
    "id": "V8tbSZZN62na"
   },
   "source": [
    "**예제 07**\n",
    "\n",
    "`a3`에서 1에 해당하는 값만 모아 새로운 배열로 만드세요."
   ]
  },
  {
   "cell_type": "code",
   "execution_count": 126,
   "metadata": {
    "id": "5meyjfby62nb"
   },
   "outputs": [
    {
     "name": "stdout",
     "output_type": "stream",
     "text": [
      "[1 1 1] [1 1 1]\n"
     ]
    }
   ],
   "source": [
    "mask= a3==1\n",
    "ex7_bool = a3[mask]\n",
    "\n",
    "ex7_pency =a3[:,0,1]\n",
    "\n",
    "print(ex7_pency, ex7_bool)"
   ]
  },
  {
   "cell_type": "markdown",
   "metadata": {
    "id": "KrDsXKO0BvN9"
   },
   "source": [
    "**예제 08**\n",
    "\n",
    "`a2`를 복사하여 `b2`로 바인딩하세요.\n"
   ]
  },
  {
   "cell_type": "code",
   "execution_count": 137,
   "metadata": {
    "id": "Cw7MAmI8BvN-"
   },
   "outputs": [],
   "source": [
    "b2 = a2.copy()"
   ]
  },
  {
   "cell_type": "markdown",
   "metadata": {
    "id": "Kxa9RJw8N1k4"
   },
   "source": [
    "**예제 09**\n",
    "\n",
    "`b2`를 아래 그림과 같이 수정하세요.\n",
    "\n",
    "\n",
    "<p align='center'>\n",
    "<img src=https://github.com/yebiny/SkillTreePython-DataAnalysis/blob/main/imgs/ch0103-12.png?raw=true width=150>\n",
    "</p>"
   ]
  },
  {
   "cell_type": "code",
   "execution_count": 138,
   "metadata": {
    "id": "TuKu3G0COHTx"
   },
   "outputs": [
    {
     "data": {
      "text/plain": [
       "array([[  0.,   1.,   2.],\n",
       "       [100., 100., 100.],\n",
       "       [ 20.,  21.,  22.],\n",
       "       [100., 100., 100.],\n",
       "       [ 40.,  41.,  42.]])"
      ]
     },
     "execution_count": 138,
     "metadata": {},
     "output_type": "execute_result"
    }
   ],
   "source": [
    "b2[(1,3),:]=100\n",
    "b2"
   ]
  },
  {
   "cell_type": "markdown",
   "metadata": {
    "id": "uDYC2aemC4FW"
   },
   "source": [
    "**예제 10**\n",
    "\n",
    "이어서 `b2`를 아래 그림과 같이 수정하세요.\n",
    "\n",
    "\n",
    "<p align='center'>\n",
    "<img src=https://github.com/yebiny/SkillTreePython-DataAnalysis/blob/main/imgs/ch0103-13.png?raw=true width=150>\n",
    "</p>"
   ]
  },
  {
   "cell_type": "code",
   "execution_count": 139,
   "metadata": {
    "id": "9qhPnPtoC4FX"
   },
   "outputs": [
    {
     "data": {
      "text/plain": [
       "array([[  0.,   1., 200.],\n",
       "       [100., 100., 100.],\n",
       "       [ 20.,  21., 200.],\n",
       "       [100., 100., 100.],\n",
       "       [ 40.,  41., 200.]])"
      ]
     },
     "execution_count": 139,
     "metadata": {},
     "output_type": "execute_result"
    }
   ],
   "source": [
    "b2[(0,2,4),2]=200\n",
    "b2"
   ]
  },
  {
   "cell_type": "markdown",
   "metadata": {
    "id": "1fpupocGOYlz"
   },
   "source": [
    "**예제 11**\n",
    "\n",
    "이어서 `b2`에 값을 아래와 같이 삽입하세요.\n",
    "\n",
    "\n",
    "<p align='center'>\n",
    "<img src=https://github.com/yebiny/SkillTreePython-DataAnalysis/blob/main/imgs/ch0103-14.png?raw=true width=180>\n",
    "</p>"
   ]
  },
  {
   "cell_type": "code",
   "execution_count": 140,
   "metadata": {
    "id": "F3AcVlSCOYl0"
   },
   "outputs": [
    {
     "data": {
      "text/plain": [
       "array([[  0.,   1.,   0., 200.],\n",
       "       [100., 100.,   0., 100.],\n",
       "       [ 20.,  21.,   0., 200.],\n",
       "       [100., 100.,   0., 100.],\n",
       "       [ 40.,  41.,   0., 200.]])"
      ]
     },
     "execution_count": 140,
     "metadata": {},
     "output_type": "execute_result"
    }
   ],
   "source": [
    "b2 = np.insert(b2, 2,0,axis=1)\n",
    "b2"
   ]
  },
  {
   "cell_type": "markdown",
   "metadata": {
    "id": "RV92_ziYDFAG"
   },
   "source": [
    "**예제 12**\n",
    "\n",
    "이어서 `b2`의 값을 아래와 같이 삭제하세요.\n",
    "\n",
    "\n",
    "<p align='center'>\n",
    "<img src=https://github.com/yebiny/SkillTreePython-DataAnalysis/blob/main/imgs/ch0103-15.png?raw=true width=180>\n",
    "</p>"
   ]
  },
  {
   "cell_type": "code",
   "execution_count": 141,
   "metadata": {
    "id": "oGk3Z4NCDFAH"
   },
   "outputs": [
    {
     "data": {
      "text/plain": [
       "array([[  0.,   1.,   0., 200.],\n",
       "       [100., 100.,   0., 100.],\n",
       "       [100., 100.,   0., 100.]])"
      ]
     },
     "execution_count": 141,
     "metadata": {},
     "output_type": "execute_result"
    }
   ],
   "source": [
    "np.delete(b2,(2,4),axis=0)"
   ]
  },
  {
   "cell_type": "code",
   "execution_count": null,
   "metadata": {},
   "outputs": [],
   "source": []
  }
 ],
 "metadata": {
  "colab": {
   "authorship_tag": "ABX9TyOH5+0OfDJtdC61I0XI1RQp",
   "collapsed_sections": [],
   "name": "03_NumPy-배열의값다루기.ipynb",
   "provenance": []
  },
  "kernelspec": {
   "display_name": "Python 3 (ipykernel)",
   "language": "python",
   "name": "python3"
  },
  "language_info": {
   "codemirror_mode": {
    "name": "ipython",
    "version": 3
   },
   "file_extension": ".py",
   "mimetype": "text/x-python",
   "name": "python",
   "nbconvert_exporter": "python",
   "pygments_lexer": "ipython3",
   "version": "3.9.7"
  },
  "toc": {
   "base_numbering": 1,
   "nav_menu": {},
   "number_sections": true,
   "sideBar": true,
   "skip_h1_title": false,
   "title_cell": "Table of Contents",
   "title_sidebar": "Contents",
   "toc_cell": false,
   "toc_position": {},
   "toc_section_display": true,
   "toc_window_display": false
  },
  "varInspector": {
   "cols": {
    "lenName": 16,
    "lenType": 16,
    "lenVar": 40
   },
   "kernels_config": {
    "python": {
     "delete_cmd_postfix": "",
     "delete_cmd_prefix": "del ",
     "library": "var_list.py",
     "varRefreshCmd": "print(var_dic_list())"
    },
    "r": {
     "delete_cmd_postfix": ") ",
     "delete_cmd_prefix": "rm(",
     "library": "var_list.r",
     "varRefreshCmd": "cat(var_dic_list()) "
    }
   },
   "types_to_exclude": [
    "module",
    "function",
    "builtin_function_or_method",
    "instance",
    "_Feature"
   ],
   "window_display": false
  }
 },
 "nbformat": 4,
 "nbformat_minor": 1
}
