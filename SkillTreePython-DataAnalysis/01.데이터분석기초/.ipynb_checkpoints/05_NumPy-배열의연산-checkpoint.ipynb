{
 "cells": [
  {
   "cell_type": "markdown",
   "metadata": {
    "id": "jgFAOz-Tw1VI"
   },
   "source": [
    "# CH05 Numpy  - 배열의 연산\n",
    "\n",
    "---\n",
    "* 날짜: 2022-04-12\n",
    "* 이름: 고민수"
   ]
  },
  {
   "cell_type": "markdown",
   "metadata": {
    "id": "_3uSBF40BdCd"
   },
   "source": [
    "```\n",
    "import numpy as np\n",
    "```"
   ]
  },
  {
   "cell_type": "code",
   "execution_count": 1,
   "metadata": {
    "executionInfo": {
     "elapsed": 2,
     "status": "ok",
     "timestamp": 1649609879363,
     "user": {
      "displayName": "yebin Youn",
      "userId": "13210325080650205285"
     },
     "user_tz": -540
    },
    "id": "zPOE7GIhJcdU"
   },
   "outputs": [],
   "source": [
    "import numpy as np"
   ]
  },
  {
   "cell_type": "markdown",
   "metadata": {
    "id": "_ilCtKbjYZzk"
   },
   "source": [
    "---\n",
    "### **(1) 산술 연산(Arithmetic Operators)**\n",
    "---\n",
    "\n",
    "|연산자|범용함수|설명|\n",
    "|--|--|--|\n",
    "|+|`np.add`|덧셈|\n",
    "|-|`np.substract`|뺄셈|\n",
    "|-|`np.negative`|단항음수|\n",
    "|*|`np.multiply`|곱셈|\n",
    "|/|`np.divide`|나눗셈|\n",
    "|//|`np.floor_divide`|나눗셈 내림|\n",
    "|**|`np.power`|지수 연산|\n",
    "|%|`np.mod`|나머지 연산|\n",
    "\n",
    "파이썬의 수치자료형에서 사용하는 모든 연산을 넘파이 배열에서 사용할 수 있습니다. \n",
    "\n",
    "리스트에서는 불가능했던 배열간의 덧셈도 아래와 같이 사용 가능합니다.\n",
    "\n",
    "```\n",
    "a = np.array([1,2,3])\n",
    "b = np.array([-1,2,-3])\n",
    "a*b\n",
    "```\n",
    "\n"
   ]
  },
  {
   "cell_type": "code",
   "execution_count": 8,
   "metadata": {
    "id": "lGmuZNP4YZzu"
   },
   "outputs": [],
   "source": [
    "a = np.array([1,2,3])\n",
    "b = np.array([-1,2,-3])"
   ]
  },
  {
   "cell_type": "markdown",
   "metadata": {
    "id": "HjPXsM8C5ULZ"
   },
   "source": [
    "\n",
    "#### **|  브로드캐스팅 (Broadcasting)**\n",
    "\n",
    "NumPy의 배열 연산은 벡터화(vectorized) 연산을 사용합니다. 브로드 캐스팅은 배열 각 요소에 대한 반복적인 계산을 효율적으로 수행합니다.\n",
    "\n",
    "\n",
    "<p align='center'>\n",
    "<img src=https://github.com/yebiny/SkillTreePython-DataAnalysis/blob/main/imgs/ch0105-01.png?raw=true width=560>\n",
    "</p>"
   ]
  },
  {
   "cell_type": "code",
   "execution_count": 10,
   "metadata": {
    "id": "ZhsYhSsaLhoh"
   },
   "outputs": [
    {
     "name": "stdout",
     "output_type": "stream",
     "text": [
      "[[ 0  2  4]\n",
      " [ 6  8 10]\n",
      " [12 14 16]]\n",
      "[[ 0  2  4]\n",
      " [ 6  8 10]\n",
      " [12 14 16]]\n"
     ]
    }
   ],
   "source": [
    "c = np.arange(9).reshape(3,3)\n",
    "print(c*2)\n",
    "print(c*[2,2,2])"
   ]
  },
  {
   "cell_type": "markdown",
   "metadata": {
    "id": "bSey8YjkL5BT"
   },
   "source": [
    "---\n",
    "### **(2) 수학 관련 함수**\n",
    "---\n",
    "\n",
    "\n",
    "\n"
   ]
  },
  {
   "cell_type": "markdown",
   "metadata": {
    "id": "aNlW6SlrO9nr"
   },
   "source": [
    "#### **| 절대값 함수 (Absolute Function)**\n",
    "\n",
    "\n",
    "\n",
    "\n",
    "\n",
    "* `np.absolute(n)` = `np.abs(n)` : `n`의 절대값 반환\n",
    "\n",
    "```\n",
    "print(b)\n",
    "np.abs(b)\n",
    "```\n"
   ]
  },
  {
   "cell_type": "code",
   "execution_count": 11,
   "metadata": {
    "id": "zaMa3LVuO9ns"
   },
   "outputs": [
    {
     "name": "stdout",
     "output_type": "stream",
     "text": [
      "[-1  2 -3]\n"
     ]
    },
    {
     "data": {
      "text/plain": [
       "array([1, 2, 3])"
      ]
     },
     "execution_count": 11,
     "metadata": {},
     "output_type": "execute_result"
    }
   ],
   "source": [
    "print(b)\n",
    "np.abs(b)"
   ]
  },
  {
   "cell_type": "markdown",
   "metadata": {
    "id": "U5uE3sVtzRvA"
   },
   "source": [
    "#### **| 제곱/제곱근 함수**\n",
    "\n",
    "* `np.square(n)`: `n`의 제곱을 반환\n",
    "* `np.sqrt(n)` : `n`의 제곱근을 반환\n",
    "\n",
    "```\n",
    "n = 25\n",
    "print(np.square(n), np.sqrt(n))\n",
    "```"
   ]
  },
  {
   "cell_type": "code",
   "execution_count": 15,
   "metadata": {
    "id": "ggnIxDGzzTfX"
   },
   "outputs": [
    {
     "name": "stdout",
     "output_type": "stream",
     "text": [
      "625 5.0\n"
     ]
    }
   ],
   "source": [
    "n = 25\n",
    "print(np.square(n), np.sqrt(n))"
   ]
  },
  {
   "cell_type": "markdown",
   "metadata": {
    "id": "tWh1aQ50vRhB"
   },
   "source": [
    "#### **| 지수/로그 함수**\n",
    "\n",
    "* `np.exp(n)` : 자연상수 `e`(=~2.71..)의 `n` 제곱을 반환\n",
    "* `np.exp2(n)` : 상수 `2`의 `n` 제곱을 반환\n",
    "\n",
    "\n",
    "```\n",
    "[np.exp2(n) for n in range(10)]\n",
    "```\n",
    "\n",
    "\n",
    "\n",
    "\n",
    "\n"
   ]
  },
  {
   "cell_type": "code",
   "execution_count": 19,
   "metadata": {
    "id": "Dygt3AyHvTZz"
   },
   "outputs": [
    {
     "data": {
      "text/plain": [
       "[1.0,\n",
       " 2.718281828459045,\n",
       " 7.38905609893065,\n",
       " 20.085536923187668,\n",
       " 54.598150033144236,\n",
       " 148.4131591025766,\n",
       " 403.4287934927351,\n",
       " 1096.6331584284585,\n",
       " 2980.9579870417283,\n",
       " 8103.083927575384]"
      ]
     },
     "execution_count": 19,
     "metadata": {},
     "output_type": "execute_result"
    }
   ],
   "source": [
    "[np.exp(n) for n in range(10)]"
   ]
  },
  {
   "cell_type": "markdown",
   "metadata": {
    "id": "0g8jrMErbtEA"
   },
   "source": [
    "\n",
    "* `np.log(n)` : 밑이 `e`인 로그값을 반환합니다. \n",
    "* `np.log2(n)` : 밑이 `2`인 로그값을 반환합니다.\n",
    "* `np.log10(n)` : 밑이 `10`인 로그값을 반환합니다.\n",
    "\n",
    "```\n",
    "n = [10,100,1000,10000]\n",
    "np.log10(n)\n",
    "```"
   ]
  },
  {
   "cell_type": "code",
   "execution_count": 20,
   "metadata": {
    "id": "YB0BzwxDvnkT"
   },
   "outputs": [
    {
     "data": {
      "text/plain": [
       "array([1., 2., 3., 4.])"
      ]
     },
     "execution_count": 20,
     "metadata": {},
     "output_type": "execute_result"
    }
   ],
   "source": [
    "n = [10,100,1000,10000]\n",
    "np.log10(n)"
   ]
  },
  {
   "cell_type": "markdown",
   "metadata": {
    "id": "wE_p9AxjtdJ9"
   },
   "source": [
    "#### **| 삼각 함수(Trigonometrical Function)**\n",
    "\n",
    "|함수|설명|\n",
    "|--|--|\n",
    "|`np.sin`|사인|\n",
    "|`np.cos`|코사인|\n",
    "|`np.tan`|탄젠트|\n",
    "|`np.arcsin`|아크 사인|\n",
    "|`np.argcos`|아크 코사인|\n",
    "|`np.argtan`|아크 탄젠트|\n",
    "|`np.sinh`|하이퍼볼릭 사인|\n",
    "|`np.cosh`|하이퍼볼릭 코사인|\n",
    "|`np.tanh`|하이퍼볼릭 탄젠트|\n",
    "|`np.arcsinh`|하이퍼볼릭 아크 사인|\n",
    "|`np.arccosh`|하이퍼볼릭 아크 코사인|\n",
    "|`np.arctanh`|하이퍼볼릭 아크 탄젠트|\n",
    "|`np.deg2rad`|각도를 라디안으로 변환|\n",
    "|`np.rad2deg`|라디안을 각도로 변환|\n",
    "|`np.hypot`|유클리드 거리계산|\n",
    "\n",
    "학창시절 아래 삼각함수 표를 외워본 경험이 있을 겁니다. 더이상 이를 외울 필요는 없습니다. 코드가 알아서 해줄테니까요. 값이 똑같이 나오는지 확인해 봅시다.\n",
    "\n",
    "<p align='center'>\n",
    "<img src=https://github.com/yebiny/SkillTreePython-DataAnalysis/blob/main/imgs/ch0105-02.png?raw=true width=500>\n",
    "</p>\n",
    "\n",
    "```\n",
    "n = 0\n",
    "np.sin(n), np.cos(n), np.tan(n)\n",
    "```"
   ]
  },
  {
   "cell_type": "code",
   "execution_count": 22,
   "metadata": {
    "id": "v7m-AQW9uJ9u"
   },
   "outputs": [
    {
     "data": {
      "text/plain": [
       "(0.49999999999999994, 0.8660254037844387, 0.5773502691896257)"
      ]
     },
     "execution_count": 22,
     "metadata": {},
     "output_type": "execute_result"
    }
   ],
   "source": [
    "n = 0\n",
    "n = np.pi/6\n",
    "np.sin(n), np.cos(n), np.tan(n)"
   ]
  },
  {
   "cell_type": "markdown",
   "metadata": {
    "id": "EHGOV5FuPII3"
   },
   "source": [
    "#### **| 집계 함수(Aggregate Functions)**\n",
    "\n",
    "|함수|설명|\n",
    "|--|--|\n",
    "|`np.sum()`|배열 내 합을 반환|\n",
    "|`np.cumsum()`|배열 내 누적합 반환|\n",
    "|`np.prod()`|배열 내 곱 반환|\n",
    "|`np.diff()`|배열 내 차 반환|\n",
    "|`np.min()`|최소값 반환|\n",
    "|`np.max()`|최대값 반환|\n",
    "|`np.mean()`|평균 반환|\n",
    "|`np.std()`|표준편차 반환|\n",
    "|`np.var()`|분산 반환|\n",
    "|`np.median()`|중앙값 반환|\n",
    "|`np.argmin()`|최소값 인덱스 반환|\n",
    "|`np.argmax()`|최대값 인덱스 반환|\n",
    "\n",
    "\n",
    "```\n",
    "print(a)\n",
    "print('누적합: ',np.cumsum(a))\n",
    "print('곱: ',np.prod(a))\n",
    "print('차: ',np.diff(a))\n",
    "print('중앙값: ',np.median(a))\n",
    "```"
   ]
  },
  {
   "cell_type": "code",
   "execution_count": 27,
   "metadata": {
    "id": "OIENQ0LlVMyd"
   },
   "outputs": [
    {
     "name": "stdout",
     "output_type": "stream",
     "text": [
      "[0.0, 1.5, 3.0, 4.5, 6.0, 7.5, 9.0, 10.5, 12.0, 13.5]\n",
      "누적합:  [ 0.   1.5  4.5  9.  15.  22.5 31.5 42.  54.  67.5]\n",
      "곱:  0.0\n",
      "차:  [1.5 1.5 1.5 1.5 1.5 1.5 1.5 1.5 1.5]\n",
      "중앙값:  6.75\n"
     ]
    }
   ],
   "source": [
    "a = [n*1.5 for n in range(10)]\n",
    "print(a)\n",
    "print('누적합: ',np.cumsum(a))\n",
    "print('곱: ',np.prod(a))\n",
    "print('차: ',np.diff(a))\n",
    "print('중앙값: ',np.median(a))"
   ]
  },
  {
   "cell_type": "markdown",
   "metadata": {
    "id": "VAVV6_8OarUE"
   },
   "source": [
    "머신러닝에서 자주 사용되는 함수는 `np.argmax`입니다. `np.argmax`는 최대값의 인덱스를 반환하는데요, 최대값 자체가 아닌 인덱스가 언제 필요할까요?\n",
    "\n",
    "예시를 들어 봅시다. `y`에 카드 이름이, `x`에는 각 카드가 뽑힐 확률이 들어 있습니다. 뽑힐 확률이 가장 높은 카드를 아래와 같이 구할 수 있습니다.\n",
    "\n",
    "```\n",
    "x = [0.1, 0.2, 0.6, 0.1]\n",
    "y = ['a', 'b', 'c', 'd']\n",
    "idx = np.argmax(x)\n",
    "print(y[idx]) # 팬시 인덱싱\n",
    "```"
   ]
  },
  {
   "cell_type": "code",
   "execution_count": 28,
   "metadata": {
    "id": "X5ltEzDsap-m"
   },
   "outputs": [
    {
     "name": "stdout",
     "output_type": "stream",
     "text": [
      "c\n"
     ]
    }
   ],
   "source": [
    "x = [0.1, 0.2, 0.6, 0.1]\n",
    "y = ['a', 'b', 'c', 'd']\n",
    "idx = np.argmax(x)\n",
    "print(y[idx]) # 팬시 인덱싱"
   ]
  },
  {
   "cell_type": "markdown",
   "metadata": {
    "id": "ohtLbHoEVMU2"
   },
   "source": [
    "---\n",
    "### **(3) 벡터/행렬 연산**\n",
    "---\n",
    "\n",
    "|함수|설명|\n",
    "|--|--|\n",
    "|`np.matmul()`|=`@`, 행렬곱|\n",
    "|`np.dot()`|내적|\n",
    "|`np.prod()`|외적|\n",
    "\n"
   ]
  },
  {
   "cell_type": "markdown",
   "metadata": {
    "id": "i6ll7q_HWTKA"
   },
   "source": [
    "\n",
    "* `np.matmul(a1, a2)` : 배열 `a1`과 `a2`의 행렬곱을 수행합니다. \n",
    "\n",
    "일반적인 행렬곱을 `matmul`을 통해서 할 수 있습니다. \n",
    "\n",
    "```\n",
    "A = np.array([[1,2],\n",
    "              [0,1]])\n",
    "B = np.array([[1,0],\n",
    "              [0,1]])\n",
    "print(np.matmul(A,B))\n",
    "print(A@B)\n",
    "```\n"
   ]
  },
  {
   "cell_type": "code",
   "execution_count": 80,
   "metadata": {
    "id": "9Gds9RSHWTx8"
   },
   "outputs": [
    {
     "name": "stdout",
     "output_type": "stream",
     "text": [
      "[[1 2]\n",
      " [0 1]]\n",
      "[[1 2]\n",
      " [0 1]]\n"
     ]
    }
   ],
   "source": [
    "a = np.array([[1,2],\n",
    "             [0,1]])\n",
    "b = np.array([[1,0],\n",
    "              [0,1]])\n",
    "print(np.matmul(a,b))\n",
    "print(a@b)"
   ]
  },
  {
   "cell_type": "markdown",
   "metadata": {
    "id": "WJrKcbetWT5E"
   },
   "source": [
    "* `np.dot(a1, a2)`: 배열 `a1`과 `a2`의 벡터 내적을 수행합니다.\n",
    "\n",
    "벡터 내적은 벡터 내 같은 인덱스의 값을 곱하고 모두 더한 것입니다.\n",
    "\n",
    "```\n",
    "print(a, b)\n",
    "print(sum(a*b))\n",
    "print(np.dot(a,b))\n",
    "```\n",
    "\n",
    "\n"
   ]
  },
  {
   "cell_type": "code",
   "execution_count": 81,
   "metadata": {
    "id": "xX2V5x3SWSpk"
   },
   "outputs": [
    {
     "name": "stdout",
     "output_type": "stream",
     "text": [
      "[[1 2]\n",
      " [0 1]] [[1 0]\n",
      " [0 1]]\n",
      "[1 1]\n",
      "[[1 2]\n",
      " [0 1]]\n"
     ]
    }
   ],
   "source": [
    "print(a, b)\n",
    "print(sum(a*b))\n",
    "print(np.dot(a,b))"
   ]
  },
  {
   "cell_type": "markdown",
   "metadata": {
    "id": "_oy400wHYLHN"
   },
   "source": [
    "---\n",
    "### **(4) 비교 연산**\n",
    "---\n",
    "\n",
    "비교 연산자를 이용하면 `boolean` 값으로 이루어진 배열을 반환합니다.\n",
    "\n",
    "\n"
   ]
  },
  {
   "cell_type": "markdown",
   "metadata": {
    "id": "Hhi5eYZu9Uw4"
   },
   "source": [
    "\n",
    "#### **| 값 비교**\n",
    "\n",
    "\n",
    "|연산자|비교 범용 함수|\n",
    "|--|--|\n",
    "|`==`|`np.equal`|\n",
    "|`!=`|`np.not_equal`|\n",
    "|`<`| `np.less`|\n",
    "|`<=`|`np.less_equal`|\n",
    "|`>`| `np.greater`|\n",
    "|`>=`|`np.greater_equal`|\n",
    "\n",
    "```\n",
    "print(a)\n",
    "print(b)\n",
    "a==b, a<b, a>b\n",
    "```"
   ]
  },
  {
   "cell_type": "code",
   "execution_count": 82,
   "metadata": {
    "id": "gXL4qh9G0Euw"
   },
   "outputs": [
    {
     "name": "stdout",
     "output_type": "stream",
     "text": [
      "[[1 2]\n",
      " [0 1]]\n",
      "[[1 0]\n",
      " [0 1]]\n"
     ]
    },
    {
     "data": {
      "text/plain": [
       "(array([[ True, False],\n",
       "        [ True,  True]]),\n",
       " array([[False, False],\n",
       "        [False, False]]),\n",
       " array([[False,  True],\n",
       "        [False, False]]))"
      ]
     },
     "execution_count": 82,
     "metadata": {},
     "output_type": "execute_result"
    }
   ],
   "source": [
    "print(a)\n",
    "print(b)\n",
    "a==b, a<b, a>b"
   ]
  },
  {
   "cell_type": "markdown",
   "metadata": {
    "id": "OLsYDXJ88jyd"
   },
   "source": [
    "\n",
    "#### **| 예외값 비교**\n",
    "\n",
    "\n",
    "\n",
    "|함수|설명|\n",
    "|--|--|\n",
    "|`np.isinf`|`inf` 값이면 `True`, 아니면 `False`|\n",
    "|`np.isfinite`|`inf, nan` 값이면 `False`, 아니면 `True`|\n",
    "|`np.isnan`|`nan` 값이면 `True`, 아니면 `False`|\n",
    "\n",
    "```\n",
    "a = [np.inf, np.nan, 0]\n",
    "print(np.isinf(a))\n",
    "print(np.isfinite(a))\n",
    "print(np.isnan(a))\n",
    "```"
   ]
  },
  {
   "cell_type": "code",
   "execution_count": 32,
   "metadata": {
    "id": "pt_d1IfE0F0g"
   },
   "outputs": [
    {
     "name": "stdout",
     "output_type": "stream",
     "text": [
      "[ True False False]\n",
      "[False False  True]\n",
      "[False  True False]\n"
     ]
    }
   ],
   "source": [
    "a = [np.inf, np.nan, 0]\n",
    "print(np.isinf(a))\n",
    "print(np.isfinite(a))\n",
    "print(np.isnan(a))"
   ]
  },
  {
   "cell_type": "markdown",
   "metadata": {
    "id": "rnvGTkHatKIn"
   },
   "source": [
    "#### **| 논리 연산자**\n",
    "\n",
    "|함수|설명|\n",
    "|--|--|\n",
    "|`np.all()`|모두 `True`일때 `True` 반환|\n",
    "|`np.any()`|모두 `False`일때 `False` 반환|\n",
    "\n",
    "파이썬의 논리 연산자와 동일 합니다. 아래와 같이 숫자 자료형을 바로 넣으면 0 일 때는 `False`, 그 외에는 `True`로 인식하여 연산이 진행됩니다.\n",
    "\n",
    "```\n",
    "a = [1,0,1,1,0]\n",
    "np.all(a), np.any(a)\n",
    "```"
   ]
  },
  {
   "cell_type": "code",
   "execution_count": 33,
   "metadata": {
    "id": "PlyGLDBntSCt"
   },
   "outputs": [
    {
     "name": "stdout",
     "output_type": "stream",
     "text": [
      "[ True False False]\n",
      "[False False  True]\n",
      "[False  True False]\n"
     ]
    }
   ],
   "source": [
    "a = [np.inf, np.nan, 0]\n",
    "print(np.isinf(a))\n",
    "print(np.isfinite(a))\n",
    "print(np.isnan(a))"
   ]
  },
  {
   "cell_type": "markdown",
   "metadata": {
    "id": "3SiCZqJsap3_"
   },
   "source": [
    "---\n",
    "### **(5) 정렬**\n",
    "---\n",
    "\n",
    "\n",
    "|함수|설명|\n",
    "|--|--|\n",
    "|`np.sort()`|오름차순 정렬|\n",
    "|`np.argsort()`|index 정렬|\n",
    "|`np.partition()`|`k`개의 작은값 반환|\n"
   ]
  },
  {
   "cell_type": "markdown",
   "metadata": {
    "id": "kTcud6R1-ptC"
   },
   "source": [
    "* `np.sort(a, axis=axis)` : 배열 `a`를 오름차순으로 정렬합니다. \n",
    "\n",
    "```\n",
    "np.random.seed(42);a = np.random.randint(0,12,(3,4))\n",
    "print(a)\n",
    "print('axis=0: 위에서 아래로 정렬')\n",
    "print(np.sort(a, axis=0))\n",
    "print('axis=1: 좌에서 우로 정렬')\n",
    "print(np.sort(a, axis=1))\n",
    "```\n"
   ]
  },
  {
   "cell_type": "code",
   "execution_count": 34,
   "metadata": {
    "id": "-4A0yrwM0I4M"
   },
   "outputs": [
    {
     "name": "stdout",
     "output_type": "stream",
     "text": [
      "[[ 6  3 10  7]\n",
      " [ 4  6  9  2]\n",
      " [ 6 10 10  7]]\n",
      "axis=0: 위에서 아래로 정렬\n",
      "[[ 4  3  9  2]\n",
      " [ 6  6 10  7]\n",
      " [ 6 10 10  7]]\n",
      "axis=1: 좌에서 우로 정렬\n",
      "[[ 3  6  7 10]\n",
      " [ 2  4  6  9]\n",
      " [ 6  7 10 10]]\n"
     ]
    }
   ],
   "source": [
    "np.random.seed(42);a = np.random.randint(0,12,(3,4))\n",
    "print(a)\n",
    "print('axis=0: 위에서 아래로 정렬')\n",
    "print(np.sort(a, axis=0))\n",
    "print('axis=1: 좌에서 우로 정렬')\n",
    "print(np.sort(a, axis=1))"
   ]
  },
  {
   "cell_type": "markdown",
   "metadata": {
    "id": "vtT3s-bP_dOo"
   },
   "source": [
    "* `np.argsort(a, axis=axis)` : 배열 `a`를 오름차순 정렬하는  인덱스를 반환\n",
    "\n",
    "위에서 배웠던 `np.argmax`와 마찬가지로 팬시 인덱싱에서 유용하게 사용됩니다. \n",
    "\n",
    "아래와 같이 월별(x) 판매수(y)가 주어졌을 때 판매수 순으로 정렬하고자 합니다. \n",
    "\n",
    "```\n",
    "x = np.array(['1월', '2월', '3월'])\n",
    "y = np.array([500,230,350])\n",
    "sort_idx = np.argsort(y)\n",
    "print(sort_idx)\n",
    "x[sort_idx][::-1] # 팬시 인덱싱\n",
    "```"
   ]
  },
  {
   "cell_type": "code",
   "execution_count": 35,
   "metadata": {
    "id": "Mt4Bjvj-0KTE"
   },
   "outputs": [
    {
     "name": "stdout",
     "output_type": "stream",
     "text": [
      "[1 2 0]\n"
     ]
    },
    {
     "data": {
      "text/plain": [
       "array(['1월', '3월', '2월'], dtype='<U2')"
      ]
     },
     "execution_count": 35,
     "metadata": {},
     "output_type": "execute_result"
    }
   ],
   "source": [
    "x = np.array(['1월', '2월', '3월'])\n",
    "y = np.array([500,230,350])\n",
    "sort_idx = np.argsort(y)\n",
    "print(sort_idx)\n",
    "x[sort_idx][::-1] # 팬시 인덱싱"
   ]
  },
  {
   "cell_type": "markdown",
   "metadata": {
    "id": "a3jBnhpAdMVe"
   },
   "source": [
    "## 문제풀이\n",
    "---"
   ]
  },
  {
   "cell_type": "markdown",
   "metadata": {
    "id": "d9o7kBXoNlE3"
   },
   "source": [
    "**예제 01**\n",
    "\n",
    "아래 그림에 있는 산술연산을 각각 코드로 구현하세요\n",
    "\n",
    "<p align='center'>\n",
    "<img src=https://github.com/yebiny/SkillTreePython-DataAnalysis/blob/main/imgs/ch0105-03.png?raw=true width=400>\n",
    "</p>\n"
   ]
  },
  {
   "cell_type": "code",
   "execution_count": 48,
   "metadata": {
    "id": "Gwir0bafNlE9"
   },
   "outputs": [
    {
     "data": {
      "text/plain": [
       "(array([[3, 4, 5]]),\n",
       " array([[-1,  0,  1]]),\n",
       " array([[1, 0, 1]], dtype=int32),\n",
       " array([[1, 4, 9]]))"
      ]
     },
     "execution_count": 48,
     "metadata": {},
     "output_type": "execute_result"
    }
   ],
   "source": [
    "a = np.array([[1,2,3]])\n",
    "a+2,a-2,a%2,a**2"
   ]
  },
  {
   "cell_type": "markdown",
   "metadata": {
    "id": "9K2SFvwvDWS0"
   },
   "source": [
    "**예제 02**\n",
    "\n",
    "\n",
    "아래는 `sum`의 용례를 그림으로 표현한 것입니다. 각 경우에 대해 코드로 구현하세요.\n",
    "\n",
    "<p align='center'>\n",
    "<img src=https://github.com/yebiny/SkillTreePython-DataAnalysis/blob/main/imgs/ch0105-04.png?raw=true width=460>\n",
    "</p>\n"
   ]
  },
  {
   "cell_type": "code",
   "execution_count": 65,
   "metadata": {
    "id": "fRmgVemQeXB5"
   },
   "outputs": [
    {
     "name": "stdout",
     "output_type": "stream",
     "text": [
      "[[ 0  1  2  3]\n",
      " [ 4  5  6  7]\n",
      " [ 8  9 10 11]]\n"
     ]
    },
    {
     "data": {
      "text/plain": [
       "(66, array([12, 15, 18, 21]), array([ 6, 22, 38]))"
      ]
     },
     "execution_count": 65,
     "metadata": {},
     "output_type": "execute_result"
    }
   ],
   "source": [
    "a1 = np.arange(12).reshape(3,4)\n",
    "print(a1)\n",
    "a1.sum(), a1.sum(axis=0), a1.sum(axis=1)"
   ]
  },
  {
   "cell_type": "markdown",
   "metadata": {
    "id": "0keO4-KjEApG"
   },
   "source": [
    "**예제 03**\n",
    "\n",
    "위와 똑같은 방법으로 3가지 경우에 대해 `min()`을 수행하세요"
   ]
  },
  {
   "cell_type": "code",
   "execution_count": 62,
   "metadata": {
    "id": "UNDxcRJxsQJn"
   },
   "outputs": [
    {
     "data": {
      "text/plain": [
       "(0, array([0, 1, 2, 3]), array([0, 4, 8]))"
      ]
     },
     "execution_count": 62,
     "metadata": {},
     "output_type": "execute_result"
    }
   ],
   "source": [
    "a1.min(), a1.min(axis=0), a1.min(axis=1)"
   ]
  },
  {
   "cell_type": "markdown",
   "metadata": {
    "id": "4UCGzsZdESAT"
   },
   "source": [
    "**예제 04**\n",
    "\n",
    "위와 똑같은 방법으로 3가지 경우에 대해 `argmax()`을 수행하세요"
   ]
  },
  {
   "cell_type": "code",
   "execution_count": 63,
   "metadata": {
    "id": "-wPr1XR4ESAU"
   },
   "outputs": [
    {
     "data": {
      "text/plain": [
       "(11, array([2, 2, 2, 2], dtype=int64), array([3, 3, 3], dtype=int64))"
      ]
     },
     "execution_count": 63,
     "metadata": {},
     "output_type": "execute_result"
    }
   ],
   "source": [
    "a1.argmax(), a1.argmax(axis=0), a1.argmax(axis=1)"
   ]
  },
  {
   "cell_type": "markdown",
   "metadata": {
    "id": "yMPwhGuUEY1v"
   },
   "source": [
    "**예제 05**\n",
    "\n",
    "위와 똑같은 방법으로 3가지 경우에 대해 `std()`을 수행하세요"
   ]
  },
  {
   "cell_type": "code",
   "execution_count": 64,
   "metadata": {
    "id": "KKmFZ_BYEY1v"
   },
   "outputs": [
    {
     "data": {
      "text/plain": [
       "(3.452052529534663,\n",
       " array([3.26598632, 3.26598632, 3.26598632, 3.26598632]),\n",
       " array([1.11803399, 1.11803399, 1.11803399]))"
      ]
     },
     "execution_count": 64,
     "metadata": {},
     "output_type": "execute_result"
    }
   ],
   "source": [
    "a1.std(), a1.std(axis=0), a1.std(axis=1)"
   ]
  },
  {
   "cell_type": "markdown",
   "metadata": {
    "id": "jWsyyY-4DduJ"
   },
   "source": [
    "**예제 06**\n",
    "\n",
    "아래는 `any`의 용례를 그림으로 표현한 것입니다. 각 경우에 대해 코드로 구현하고, 왜 이런 결과가 나오는지 정리하세요.\n",
    "\n",
    "\n",
    "<p align='center'>\n",
    "<img src=https://github.com/yebiny/SkillTreePython-DataAnalysis/blob/main/imgs/ch0105-05.png?raw=true width=580>\n",
    "</p>\n"
   ]
  },
  {
   "cell_type": "code",
   "execution_count": 71,
   "metadata": {
    "id": "sWBmKlwmvzoN"
   },
   "outputs": [
    {
     "name": "stdout",
     "output_type": "stream",
     "text": [
      "[[ 0  1  2  3]\n",
      " [ 4  5  6  7]\n",
      " [ 8  9 10 11]]\n"
     ]
    },
    {
     "data": {
      "text/plain": [
       "(True, array([False,  True,  True,  True]), array([False, False,  True]))"
      ]
     },
     "execution_count": 71,
     "metadata": {},
     "output_type": "execute_result"
    }
   ],
   "source": [
    "a1 = np.arange(12).reshape(3,4) # 0~11\n",
    "print(a1) \n",
    "np.any(a1>8), np.any(a1>8, axis=0), np.any(a1>8, axis=1) # 조건을 만족하는 게 하나라도 있는지"
   ]
  },
  {
   "cell_type": "markdown",
   "metadata": {
    "id": "mwnQPVUNE1h1"
   },
   "source": [
    "**예제 07**\n",
    "\n",
    "위와 똑같은 방법으로 3가지 경우에 대해 `all()`을 수행하고, 왜 이런 결과가 나오는지 정리하세요."
   ]
  },
  {
   "cell_type": "code",
   "execution_count": 73,
   "metadata": {
    "id": "VKgUxqoFE1h2"
   },
   "outputs": [
    {
     "name": "stdout",
     "output_type": "stream",
     "text": [
      "[[ 0  1  2  3]\n",
      " [ 4  5  6  7]\n",
      " [ 8  9 10 11]]\n"
     ]
    },
    {
     "data": {
      "text/plain": [
       "(False, array([False, False, False, False]), array([False, False, False]))"
      ]
     },
     "execution_count": 73,
     "metadata": {},
     "output_type": "execute_result"
    }
   ],
   "source": [
    "a1 = np.arange(12).reshape(3,4) # 0~11\n",
    "print(a1) \n",
    "np.all(a1>9), np.all(a1>9, axis=0), np.all(a1>9, axis=1)"
   ]
  },
  {
   "cell_type": "markdown",
   "metadata": {
    "id": "2IBubqt7Dk7s"
   },
   "source": [
    "**예제 08**\n",
    "\n",
    "\n",
    "1에서 100까지의 랜덤값을 가지고 형태가 `(40)` 인 1차원 배열을 `a08`로 바인딩하세요"
   ]
  },
  {
   "cell_type": "code",
   "execution_count": 86,
   "metadata": {
    "id": "xiwGmZftDk7t"
   },
   "outputs": [
    {
     "data": {
      "text/plain": [
       "(40,)"
      ]
     },
     "execution_count": 86,
     "metadata": {},
     "output_type": "execute_result"
    }
   ],
   "source": [
    "np.random.seed(42)\n",
    "a08=np.random.randint(0,100,(40))\n",
    "a08.shape"
   ]
  },
  {
   "cell_type": "markdown",
   "metadata": {
    "id": "AV6YotDEFht1"
   },
   "source": [
    "**예제 09**\n",
    "\n",
    "`a08`에서 50보다 큰 수만 가지는 배열을 불리언 연산자를 이용해서 생성하세요."
   ]
  },
  {
   "cell_type": "code",
   "execution_count": 88,
   "metadata": {
    "id": "QfmEyuClFht1"
   },
   "outputs": [
    {
     "data": {
      "text/plain": [
       "(array([ True,  True, False,  True,  True, False,  True,  True,  True,\n",
       "         True,  True,  True, False, False, False,  True, False,  True,\n",
       "        False, False, False,  True,  True, False, False,  True,  True,\n",
       "        False,  True, False,  True,  True, False,  True,  True,  True,\n",
       "        False,  True,  True, False]),\n",
       " array([51, 92, 71, 60, 82, 86, 74, 74, 87, 99, 52, 87, 63, 59, 75, 57, 88,\n",
       "        90, 58, 91, 59, 79, 61, 61]))"
      ]
     },
     "execution_count": 88,
     "metadata": {},
     "output_type": "execute_result"
    }
   ],
   "source": [
    "a08>50, a08[a08>50]"
   ]
  },
  {
   "cell_type": "markdown",
   "metadata": {
    "id": "15JxLUfIFvhb"
   },
   "source": [
    "**예제 10**\n",
    "\n",
    "`a08`에서 50 이하이며 3의 배수만 가지는 배열을 불리언 연산자를 이용해 생성하세요"
   ]
  },
  {
   "cell_type": "code",
   "execution_count": 93,
   "metadata": {
    "id": "dohpkasaFvhc"
   },
   "outputs": [
    {
     "name": "stdout",
     "output_type": "stream",
     "text": [
      "[51 92 14 71 60 20 82 86 74 74 87 99 23  2 21 52  1 87 29 37  1 63 59 20\n",
      " 32 75 57 21 88 48 90 58 41 91 59 79 14 61 61 46]\n",
      "[False False False False False False False False False False False False\n",
      " False False  True False False False False False False False False False\n",
      " False False False  True False  True False False False False False False\n",
      " False False False False]\n",
      "[21 21 48]\n"
     ]
    }
   ],
   "source": [
    "print(a08)\n",
    "print((a08<=50) & (a08%3==0))\n",
    "print(a08[(a08<=50) & (a08%3==0)])"
   ]
  },
  {
   "cell_type": "markdown",
   "metadata": {
    "id": "cfPWmy9QGPon"
   },
   "source": [
    "**예제 11**\n",
    "\n",
    "`a08`에서 90이상이거나 10이하인 수만 가지는 배열을 불리언 연산자를 이용해 생성하세요"
   ]
  },
  {
   "cell_type": "code",
   "execution_count": 95,
   "metadata": {
    "id": "BV55x0xiGPoo"
   },
   "outputs": [
    {
     "name": "stdout",
     "output_type": "stream",
     "text": [
      "[51 92 14 71 60 20 82 86 74 74 87 99 23  2 21 52  1 87 29 37  1 63 59 20\n",
      " 32 75 57 21 88 48 90 58 41 91 59 79 14 61 61 46]\n",
      "[False False False False False False False False False False False False\n",
      " False False False False False False False False False False False False\n",
      " False False False False False False False False False False False False\n",
      " False False False False]\n",
      "[]\n"
     ]
    }
   ],
   "source": [
    "print(a08)\n",
    "print(  (a08>=90) & (a08<=10)   )\n",
    "print(a08[(a08>=90) & (a08<=10) ])"
   ]
  },
  {
   "cell_type": "markdown",
   "metadata": {
    "id": "K0xYrJgYGbDf"
   },
   "source": [
    "**예제 12**\n",
    "\n",
    "\n",
    "`a08`을 shape가 `(8,5)`인 2차원 배열로 변환하고 `a12`로 바인딩 하세요."
   ]
  },
  {
   "cell_type": "code",
   "execution_count": 96,
   "metadata": {
    "id": "ITvXZBHaGbDf"
   },
   "outputs": [],
   "source": [
    "a12 = a08.reshape(8,5)"
   ]
  },
  {
   "cell_type": "markdown",
   "metadata": {
    "id": "1tuYynxRGoiU"
   },
   "source": [
    "**예제 13**\n",
    "\n",
    "\n",
    "`a12`를 복사하여 `a13`으로 바인딩하고 이를 각 행 별로 정렬하세요"
   ]
  },
  {
   "cell_type": "code",
   "execution_count": 106,
   "metadata": {
    "id": "v33_n2dtGoiV"
   },
   "outputs": [
    {
     "name": "stdout",
     "output_type": "stream",
     "text": [
      "[[51 92 14 71 60]\n",
      " [20 82 86 74 74]\n",
      " [87 99 23  2 21]\n",
      " [52  1 87 29 37]\n",
      " [ 1 63 59 20 32]\n",
      " [75 57 21 88 48]\n",
      " [90 58 41 91 59]\n",
      " [79 14 61 61 46]]\n",
      "\n",
      "[[14 51 60 71 92]\n",
      " [20 74 74 82 86]\n",
      " [ 2 21 23 87 99]\n",
      " [ 1 29 37 52 87]\n",
      " [ 1 20 32 59 63]\n",
      " [21 48 57 75 88]\n",
      " [41 58 59 90 91]\n",
      " [14 46 61 61 79]]\n"
     ]
    }
   ],
   "source": [
    "a13 = a12.copy()\n",
    "print(a13)\n",
    "print()\n",
    "a13.sort(axis=1)\n",
    "print(a13)"
   ]
  },
  {
   "cell_type": "markdown",
   "metadata": {
    "id": "3U84dpF0GtvC"
   },
   "source": [
    "**예제 14**\n",
    "\n",
    "\n",
    "`a12`를 복사하여 `a14`로 바인딩하고 각 열 별로 가장 작은수 3개를 찾으세요"
   ]
  },
  {
   "cell_type": "code",
   "execution_count": 165,
   "metadata": {
    "id": "IFBK4giEGtvC"
   },
   "outputs": [
    {
     "name": "stdout",
     "output_type": "stream",
     "text": [
      "[[ 1  1 14  2 21]\n",
      " [20 14 21 20 32]\n",
      " [51 57 23 29 37]\n",
      " [52 58 41 61 46]\n",
      " [75 63 59 71 48]\n",
      " [79 82 61 74 59]\n",
      " [87 92 86 88 60]\n",
      " [90 99 87 91 74]]\n"
     ]
    },
    {
     "data": {
      "text/plain": [
       "array([[ 1,  1, 14,  2, 21],\n",
       "       [20, 14, 21, 20, 32],\n",
       "       [51, 57, 23, 29, 37]])"
      ]
     },
     "execution_count": 165,
     "metadata": {},
     "output_type": "execute_result"
    }
   ],
   "source": [
    "a14 = a12.copy()\n",
    "a14.sort(axis=0)\n",
    "print(a14)\n",
    "a14[:3,:]"
   ]
  },
  {
   "cell_type": "markdown",
   "metadata": {
    "id": "tEodss9KIfy_"
   },
   "source": [
    "$A$, $B$, $C$를 아래와 같이 정의하세요.\n",
    "\n",
    "\\begin{align*}\n",
    " A&= \n",
    "\\begin{pmatrix}\n",
    "1 &2  &1 \\\\ \n",
    "2 &1 & 1\\\\ \n",
    "-1 & 0 & 1\n",
    "\\end{pmatrix}\n",
    "\\end{align*}\n",
    "\n",
    "\\begin{align*}\n",
    " B&= \n",
    "\\begin{pmatrix}\n",
    "1 &0 \\\\ \n",
    "0 &1 \\\\ \n",
    "1 & 0 \n",
    "\\end{pmatrix}\n",
    "\\end{align*}\n",
    "\n",
    "\\begin{align*}\n",
    " C&= \n",
    "\\begin{pmatrix}\n",
    "1 \\\\ \n",
    "0  \\\\ \n",
    "-1  \n",
    "\\end{pmatrix}\n",
    "\\end{align*}\n",
    "\n"
   ]
  },
  {
   "cell_type": "code",
   "execution_count": 115,
   "metadata": {
    "id": "lfugPiWZoN60"
   },
   "outputs": [],
   "source": [
    "A = np.array([ [1,2,1],[2,1,1],[-1,0,1] ])\n",
    "B = np.array([ [1,0], [0,1], [1,0] ])\n",
    "C = np.array([ [1], [0], [-1] ])"
   ]
  },
  {
   "cell_type": "markdown",
   "metadata": {
    "id": "uLmADn5RJpM-"
   },
   "source": [
    "**예제 15**\n",
    "\n",
    "\n",
    "$A$, $B$ 의 행렬곱"
   ]
  },
  {
   "cell_type": "code",
   "execution_count": 116,
   "metadata": {
    "id": "6y-Dpcf1JpNI"
   },
   "outputs": [
    {
     "data": {
      "text/plain": [
       "array([[2, 2],\n",
       "       [3, 1],\n",
       "       [0, 0]])"
      ]
     },
     "execution_count": 116,
     "metadata": {},
     "output_type": "execute_result"
    }
   ],
   "source": [
    "A@B"
   ]
  },
  {
   "cell_type": "markdown",
   "metadata": {
    "id": "OeS66T5ZJ4He"
   },
   "source": [
    "**예제 16**\n",
    "\n",
    "\n",
    "$A$, $C$ 의 행렬곱"
   ]
  },
  {
   "cell_type": "code",
   "execution_count": 117,
   "metadata": {
    "id": "S_sKPQnNJ4Hf"
   },
   "outputs": [
    {
     "data": {
      "text/plain": [
       "array([[ 0],\n",
       "       [ 1],\n",
       "       [-2]])"
      ]
     },
     "execution_count": 117,
     "metadata": {},
     "output_type": "execute_result"
    }
   ],
   "source": [
    "A@C"
   ]
  },
  {
   "cell_type": "markdown",
   "metadata": {
    "id": "QAJw9V1JKSk5"
   },
   "source": [
    "**예제 17**\n",
    "\n",
    "\n",
    "$A * C$"
   ]
  },
  {
   "cell_type": "code",
   "execution_count": 120,
   "metadata": {
    "id": "PvIutUcLKSk6"
   },
   "outputs": [
    {
     "data": {
      "text/plain": [
       "('A',\n",
       " array([[ 1,  2,  1],\n",
       "        [ 2,  1,  1],\n",
       "        [-1,  0,  1]]),\n",
       " 'C',\n",
       " array([[ 1],\n",
       "        [ 0],\n",
       "        [-1]]),\n",
       " 'A*C',\n",
       " array([[ 1,  2,  1],\n",
       "        [ 0,  0,  0],\n",
       "        [ 1,  0, -1]]))"
      ]
     },
     "execution_count": 120,
     "metadata": {},
     "output_type": "execute_result"
    }
   ],
   "source": [
    "\"A\",A,\"C\", C,\"A*C\", A*C"
   ]
  },
  {
   "cell_type": "markdown",
   "metadata": {
    "id": "OVD8v-qCJ-rv"
   },
   "source": [
    "**예제 18**\n",
    "\n",
    "\n",
    "$B$와 $B^T$의 내적"
   ]
  },
  {
   "cell_type": "code",
   "execution_count": 121,
   "metadata": {
    "id": "9trfMVWJJ-rv"
   },
   "outputs": [
    {
     "data": {
      "text/plain": [
       "array([[1, 0, 1],\n",
       "       [0, 1, 0],\n",
       "       [1, 0, 1]])"
      ]
     },
     "execution_count": 121,
     "metadata": {},
     "output_type": "execute_result"
    }
   ],
   "source": [
    "np.dot(B, B.T)"
   ]
  },
  {
   "cell_type": "markdown",
   "metadata": {
    "id": "iMnix5w9psKz"
   },
   "source": [
    "\n",
    "20명의 학생의 번호와, 키와, 수행평가 점수가 아래와 같이 정의 되어 있습니다. \n",
    "\n",
    "```\n",
    "idx = [1,2,3,4,5,6,7,8,9,10,11,12,13,14,15,16,17,18,19,20]\n",
    "tall = [178, 171, 179, 173, 152, 157, 175, 180, 182, 165, 160, 164, 174, 163, 158, 159, 172, 155, 177, 162]\n",
    "score = [57, 64, 85, 30, 58, 72, 84, 63, 49, 94, 70, 54, 60, 68, 74, 78, 92, 86, 51, 37]\n",
    "```\n"
   ]
  },
  {
   "cell_type": "code",
   "execution_count": 153,
   "metadata": {
    "id": "D0i699xups-x"
   },
   "outputs": [],
   "source": [
    "idx = [1,2,3,4,5,6,7,8,9,10,11,12,13,14,15,16,17,18,19,20]\n",
    "tall = [178, 171, 179, 173, 152, 157, 175, 180, 182, 165, 160, 164, 174, 163, 158, 159, 172, 155, 177, 162]\n",
    "score = [57, 64, 85, 30, 58, 72, 84, 63, 49, 94, 70, 54, 60, 68, 74, 78, 92, 86, 51, 37]"
   ]
  },
  {
   "cell_type": "markdown",
   "metadata": {
    "id": "c5tYq2nKol3P"
   },
   "source": [
    "**예제 19**\n",
    "\n",
    "키가 큰 순으로 학생들의 번호(idx)를 정렬하세요.\n",
    "\n"
   ]
  },
  {
   "cell_type": "code",
   "execution_count": 158,
   "metadata": {
    "id": "9kJ5nVO0ol3W"
   },
   "outputs": [
    {
     "name": "stdout",
     "output_type": "stream",
     "text": [
      "[152 155 157 158 159 160 162 163 164 165 171 172 173 174 175 177 178 179\n",
      " 180 182]\n",
      "[ 5 18  6 15 16 11 20 14 12 10  2 17  4 13  7 19  1  3  8  9]\n"
     ]
    }
   ],
   "source": [
    "idx = np.array(idx)\n",
    "tall = np.array(tall)\n",
    "score = np.array(score)\n",
    "\n",
    "sorted_tall = np.argsort(tall)\n",
    "print(tall[sorted_tall])\n",
    "print(idx[sorted_tall])"
   ]
  },
  {
   "cell_type": "markdown",
   "metadata": {
    "id": "zUs8t2AipxEp"
   },
   "source": [
    "**예제 20**\n",
    "\n",
    "수행평가 점수가 낮은 순으로 학생들의 번호(idx)를 정렬하세요.\n"
   ]
  },
  {
   "cell_type": "code",
   "execution_count": 159,
   "metadata": {
    "id": "9Kl8UyflpxEq"
   },
   "outputs": [
    {
     "name": "stdout",
     "output_type": "stream",
     "text": [
      "[30 37 49 51 54 57 58 60 63 64 68 70 72 74 78 84 85 86 92 94]\n",
      "[ 4 20  9 19 12  1  5 13  8  2 14 11  6 15 16  7  3 18 17 10]\n"
     ]
    }
   ],
   "source": [
    "sorted_score = np.argsort(score)\n",
    "print(score[sorted_score])\n",
    "print(idx[sorted_score])"
   ]
  },
  {
   "cell_type": "code",
   "execution_count": null,
   "metadata": {},
   "outputs": [],
   "source": []
  }
 ],
 "metadata": {
  "colab": {
   "authorship_tag": "ABX9TyPY7pkL6elO6bMBjS6wq7vP",
   "collapsed_sections": [],
   "name": "05_NumPy-배열의연산.ipynb",
   "provenance": []
  },
  "kernelspec": {
   "display_name": "Python 3 (ipykernel)",
   "language": "python",
   "name": "python3"
  },
  "language_info": {
   "codemirror_mode": {
    "name": "ipython",
    "version": 3
   },
   "file_extension": ".py",
   "mimetype": "text/x-python",
   "name": "python",
   "nbconvert_exporter": "python",
   "pygments_lexer": "ipython3",
   "version": "3.9.7"
  },
  "toc": {
   "base_numbering": 1,
   "nav_menu": {},
   "number_sections": true,
   "sideBar": true,
   "skip_h1_title": false,
   "title_cell": "Table of Contents",
   "title_sidebar": "Contents",
   "toc_cell": false,
   "toc_position": {},
   "toc_section_display": true,
   "toc_window_display": false
  },
  "varInspector": {
   "cols": {
    "lenName": 16,
    "lenType": 16,
    "lenVar": 40
   },
   "kernels_config": {
    "python": {
     "delete_cmd_postfix": "",
     "delete_cmd_prefix": "del ",
     "library": "var_list.py",
     "varRefreshCmd": "print(var_dic_list())"
    },
    "r": {
     "delete_cmd_postfix": ") ",
     "delete_cmd_prefix": "rm(",
     "library": "var_list.r",
     "varRefreshCmd": "cat(var_dic_list()) "
    }
   },
   "types_to_exclude": [
    "module",
    "function",
    "builtin_function_or_method",
    "instance",
    "_Feature"
   ],
   "window_display": false
  }
 },
 "nbformat": 4,
 "nbformat_minor": 1
}
