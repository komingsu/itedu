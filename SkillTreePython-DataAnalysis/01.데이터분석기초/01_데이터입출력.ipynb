{
 "cells": [
  {
   "cell_type": "markdown",
   "metadata": {
    "id": "jgFAOz-Tw1VI"
   },
   "source": [
    "# CH01.데이터 입출력\n",
    "---\n",
    "* 날짜: 2022-04-08\n",
    "* 이름: 고민수\n"
   ]
  },
  {
   "cell_type": "code",
   "execution_count": null,
   "metadata": {},
   "outputs": [],
   "source": [
    "git clone "
   ]
  },
  {
   "cell_type": "markdown",
   "metadata": {
    "id": "i1Rco0Orob6Z"
   },
   "source": [
    "## 개념정리"
   ]
  },
  {
   "cell_type": "markdown",
   "metadata": {
    "id": "Y2tOvkYAAVNt"
   },
   "source": [
    "---\n",
    "### **(1) 데이터 경로 다루기**\n",
    "---\n",
    "\n",
    "데이터를 다루기 위한 첫번째 단계는 데이터가 어디있는지 경로를 확보하는 것입니다. 현재 내가 스크립트를 작성하는 경로와 데이터가 존재하는 경로를 각각 이해 하여야 그에 맞게 데이터를 가져오고, 저장 할 수 있습니다. 데이터 경로를 확인하는 몇가지 방법을 배워보도록 하겠습니다. \n"
   ]
  },
  {
   "cell_type": "markdown",
   "metadata": {
    "id": "B6wqha4OBu1T"
   },
   "source": [
    "#### **| 콘솔창 이용하기**\n",
    "\n",
    "코랩에서 코드창을 콘솔창처럼 쓰고 싶을 때 느낌표 '!' 를 이용하면 됩니다. \n",
    "\n",
    "* `pwd` : 현재 위치한 경로를 출력합니다.\n",
    "\n",
    "```\n",
    "! pwd\n",
    "```"
   ]
  },
  {
   "cell_type": "code",
   "execution_count": null,
   "metadata": {
    "colab": {
     "base_uri": "https://localhost:8080/",
     "height": 35
    },
    "id": "HN5AG9WgBtyL",
    "outputId": "e8b7dcf5-0f85-45b0-9203-ed91c73bcaba"
   },
   "outputs": [
    {
     "data": {
      "application/vnd.google.colaboratory.intrinsic+json": {
       "type": "string"
      },
      "text/plain": [
       "'/content'"
      ]
     },
     "execution_count": 1,
     "metadata": {},
     "output_type": "execute_result"
    }
   ],
   "source": [
    "pwd"
   ]
  },
  {
   "cell_type": "markdown",
   "metadata": {
    "id": "wGYqJelgBsrr"
   },
   "source": [
    "* `ls` : 현재 위치의 파일이나 폴더를 보여줍니다.\n",
    "\n",
    "```\n",
    "! ls\n",
    "```"
   ]
  },
  {
   "cell_type": "code",
   "execution_count": null,
   "metadata": {
    "colab": {
     "base_uri": "https://localhost:8080/"
    },
    "id": "yuWqpKlACbBf",
    "outputId": "21fdb030-a1b9-482a-9679-ab45369e38dd"
   },
   "outputs": [
    {
     "name": "stdout",
     "output_type": "stream",
     "text": [
      "\u001b[0m\u001b[01;34msample_data\u001b[0m/\n"
     ]
    }
   ],
   "source": [
    "ls"
   ]
  },
  {
   "cell_type": "markdown",
   "metadata": {
    "id": "f9Vhn7MRD_gA"
   },
   "source": [
    "#### **| `os` 라이브러리 이용하기**\n",
    "\n",
    "\n",
    "```\n",
    "import os\n",
    "```\n"
   ]
  },
  {
   "cell_type": "code",
   "execution_count": null,
   "metadata": {
    "id": "VdTio7ThAkg1"
   },
   "outputs": [],
   "source": [
    "import os"
   ]
  },
  {
   "cell_type": "markdown",
   "metadata": {
    "id": "z64fqZohAlwH"
   },
   "source": [
    "* `os.getcwd()` : 현재 위치한 경로를 출력합니다.\n",
    "\n",
    "```\n",
    "os.getcwd()\n",
    "```"
   ]
  },
  {
   "cell_type": "code",
   "execution_count": null,
   "metadata": {
    "colab": {
     "base_uri": "https://localhost:8080/",
     "height": 35
    },
    "id": "rDz3mQqBAVNu",
    "outputId": "8186feb5-a76e-43cd-ab0b-9f580942d532"
   },
   "outputs": [
    {
     "data": {
      "application/vnd.google.colaboratory.intrinsic+json": {
       "type": "string"
      },
      "text/plain": [
       "'/content'"
      ]
     },
     "execution_count": 5,
     "metadata": {},
     "output_type": "execute_result"
    }
   ],
   "source": [
    "os.getcwd()"
   ]
  },
  {
   "cell_type": "markdown",
   "metadata": {
    "id": "NOr6KLM2EnB3"
   },
   "source": [
    "* `os.listdir()`: 현재 위치의 파일이나 폴더를 리스트로 반환합니다.\n",
    "\n",
    "```\n",
    "os.listdir()\n",
    "```"
   ]
  },
  {
   "cell_type": "code",
   "execution_count": null,
   "metadata": {
    "colab": {
     "base_uri": "https://localhost:8080/"
    },
    "id": "nM74Br7EES9b",
    "outputId": "64253efb-6bb6-4a9f-8531-d655ccaa7f72"
   },
   "outputs": [
    {
     "data": {
      "text/plain": [
       "['.config', 'sample_data']"
      ]
     },
     "execution_count": 6,
     "metadata": {},
     "output_type": "execute_result"
    }
   ],
   "source": [
    "os.listdir()"
   ]
  },
  {
   "cell_type": "markdown",
   "metadata": {
    "id": "0oaPrldnIFf8"
   },
   "source": [
    "* `os.listdir(path)` : `path` 위치의 파일이나 폴더를 리스트로 반환합니다.\n",
    "\n",
    "```\n",
    "os.listdir('/content/sample_data')\n",
    "```"
   ]
  },
  {
   "cell_type": "code",
   "execution_count": null,
   "metadata": {
    "colab": {
     "base_uri": "https://localhost:8080/"
    },
    "id": "dkXWyVviITMD",
    "outputId": "5974be92-d6f7-4c09-9b2a-5a89ababc4f3"
   },
   "outputs": [
    {
     "data": {
      "text/plain": [
       "['README.md',\n",
       " 'anscombe.json',\n",
       " 'mnist_test.csv',\n",
       " 'mnist_train_small.csv',\n",
       " 'california_housing_test.csv',\n",
       " 'california_housing_train.csv']"
      ]
     },
     "execution_count": 7,
     "metadata": {},
     "output_type": "execute_result"
    }
   ],
   "source": [
    "os.listdir('/content/sample_data')"
   ]
  },
  {
   "cell_type": "markdown",
   "metadata": {
    "id": "uiVOhdtUAoBa"
   },
   "source": [
    "* `os.chdir(path)` : `path` 로 이동합니다. \n",
    "\n",
    "```\n",
    "os.chdir('/content/sample_data')\n",
    "print('현재위치:', os.getcwd())\n",
    "os.listdir()\n",
    "```"
   ]
  },
  {
   "cell_type": "code",
   "execution_count": null,
   "metadata": {
    "colab": {
     "base_uri": "https://localhost:8080/"
    },
    "id": "-fU4jSgI1cjn",
    "outputId": "ae359d49-98fa-43ad-9bf4-ad7693e0b061"
   },
   "outputs": [
    {
     "name": "stdout",
     "output_type": "stream",
     "text": [
      "현재위치: /content/sample_data\n"
     ]
    },
    {
     "data": {
      "text/plain": [
       "['README.md',\n",
       " 'anscombe.json',\n",
       " 'mnist_test.csv',\n",
       " 'mnist_train_small.csv',\n",
       " 'california_housing_test.csv',\n",
       " 'california_housing_train.csv']"
      ]
     },
     "execution_count": 8,
     "metadata": {},
     "output_type": "execute_result"
    }
   ],
   "source": [
    "os.chdir('/content/sample_data')\n",
    "print('현재위치:', os.getcwd())\n",
    "os.listdir()"
   ]
  },
  {
   "cell_type": "markdown",
   "metadata": {
    "id": "LnjFzKGuE0iR"
   },
   "source": [
    "* `.` : 현재 경로를 나타냅니다.\n",
    "* `..` : 상위 폴더의 경로를 나타냅니다.\n",
    "\n",
    "```\n",
    "os.chdir('..')\n",
    "print('현재위치:', os.getcwd())\n",
    "os.listdir()\n",
    "```"
   ]
  },
  {
   "cell_type": "code",
   "execution_count": null,
   "metadata": {
    "colab": {
     "base_uri": "https://localhost:8080/"
    },
    "id": "LbpNhNFv1cjo",
    "outputId": "6d26fa40-77fd-49d9-c237-d5bbdff8b0ba"
   },
   "outputs": [
    {
     "name": "stdout",
     "output_type": "stream",
     "text": [
      "현재위치: /content\n"
     ]
    },
    {
     "data": {
      "text/plain": [
       "['.config', 'sample_data']"
      ]
     },
     "execution_count": 9,
     "metadata": {},
     "output_type": "execute_result"
    }
   ],
   "source": [
    "os.chdir('..')\n",
    "print('현재위치:', os.getcwd())\n",
    "os.listdir()"
   ]
  },
  {
   "cell_type": "markdown",
   "metadata": {
    "id": "b9-uHyseGHzY"
   },
   "source": [
    "#### **| glob** 라이브러리 이용하기\n",
    "\n",
    "\n",
    "```\n",
    "import glob\n",
    "```"
   ]
  },
  {
   "cell_type": "code",
   "execution_count": null,
   "metadata": {
    "id": "k-AdAJ1XGn-5"
   },
   "outputs": [],
   "source": [
    "import glob"
   ]
  },
  {
   "cell_type": "markdown",
   "metadata": {
    "id": "EalTfNfRGiFT"
   },
   "source": [
    "* `glob.glob(path)` : `path` 에 `해당하는` 폴더와 파일들의 `절대` 경로를 리스트로 반환합니다.\n",
    "\n",
    "```\n",
    "glob.glob('/content/sample_data/*')\n",
    "```"
   ]
  },
  {
   "cell_type": "code",
   "execution_count": null,
   "metadata": {
    "colab": {
     "base_uri": "https://localhost:8080/"
    },
    "id": "D0dlfvgWGjqZ",
    "outputId": "64c35e13-d229-4f50-f869-2974df1de2f0"
   },
   "outputs": [
    {
     "data": {
      "text/plain": [
       "['/content/sample_data/README.md',\n",
       " '/content/sample_data/anscombe.json',\n",
       " '/content/sample_data/mnist_test.csv',\n",
       " '/content/sample_data/mnist_train_small.csv',\n",
       " '/content/sample_data/california_housing_test.csv',\n",
       " '/content/sample_data/california_housing_train.csv']"
      ]
     },
     "execution_count": 11,
     "metadata": {},
     "output_type": "execute_result"
    }
   ],
   "source": [
    "glob.glob('/content/sample_data/*')"
   ]
  },
  {
   "cell_type": "markdown",
   "metadata": {
    "id": "Yi2u428IIdjP"
   },
   "source": [
    "다음과 같이 `csv` 파일만 불러 올 수도 있습니다.\n",
    "```\n",
    "glob.glob('/content/sample_data/*csv')\n",
    "```"
   ]
  },
  {
   "cell_type": "code",
   "execution_count": null,
   "metadata": {
    "colab": {
     "base_uri": "https://localhost:8080/"
    },
    "id": "zrwry8cUHpo5",
    "outputId": "81ab57ce-f226-4eaa-dde2-9ed927f59759"
   },
   "outputs": [
    {
     "data": {
      "text/plain": [
       "['/content/sample_data/mnist_test.csv',\n",
       " '/content/sample_data/mnist_train_small.csv',\n",
       " '/content/sample_data/california_housing_test.csv',\n",
       " '/content/sample_data/california_housing_train.csv']"
      ]
     },
     "execution_count": 12,
     "metadata": {},
     "output_type": "execute_result"
    }
   ],
   "source": [
    "glob.glob('/content/sample_data/*csv')"
   ]
  },
  {
   "cell_type": "markdown",
   "metadata": {
    "id": "ApqU4CXDoza5"
   },
   "source": [
    "---\n",
    "### (2) 파일 읽기\n",
    "---\n",
    "\n",
    "파이썬 내장함수 중에는 파일을 여는 함수가 존재합니다. 또한 이렇게 가져온 파일을 열어서 읽고 닫는 메서드도 있습니다. 이를 사용해 보도록 합니다.\n",
    "\n",
    "우선 오늘 사용할 파일은 `smaple_data` 폴더에 있는 `california_housing_test.csv` 입니다. 이 파일의 경로를 미리 지정해 놓읍시다..\n",
    "\n",
    "```\n",
    "file_path = '/content/sample_data/california_housing_test.csv'\n",
    "```\n",
    "\n"
   ]
  },
  {
   "cell_type": "code",
   "execution_count": null,
   "metadata": {
    "id": "s9XSsxO1u6qJ"
   },
   "outputs": [],
   "source": [
    "file_path = '/content/sample_data/california_housing_test.csv'"
   ]
  },
  {
   "cell_type": "markdown",
   "metadata": {
    "id": "yyndUntlu6xB"
   },
   "source": [
    "\n",
    "* `open(file_path)` : 해당 `file`을 엽니다.\n",
    "  * `'r'` : 읽기 모드로 엽니다.\n",
    "  * `'w'` : 쓰기 모드로 엽니다.\n",
    "* `.close()`: 파일을 닫습니다.\n",
    "\n",
    "```\n",
    "f = open(file_path, \"r\") # 읽기모드로 열기\n",
    "f.close()\n",
    "```"
   ]
  },
  {
   "cell_type": "code",
   "execution_count": null,
   "metadata": {
    "id": "T0b9pix31cjo"
   },
   "outputs": [],
   "source": [
    "f = open(file_path, \"r\")\n",
    "f.close()"
   ]
  },
  {
   "cell_type": "markdown",
   "metadata": {
    "id": "EPUY-fB0lNpZ"
   },
   "source": [
    "#### **| 데이터 한번에 읽기**\n",
    "\n",
    "* `.read()`: 파일을 읽어 문자열로 반환합니다.\n",
    "\n",
    "```\n",
    "f = open(file_path, \"r\") # 읽기모드로 열기\n",
    "contents = f.read() \n",
    "f.close()\n",
    "\n",
    "print(type(contents))\n",
    "contents\n",
    "```"
   ]
  },
  {
   "cell_type": "code",
   "execution_count": null,
   "metadata": {
    "colab": {
     "base_uri": "https://localhost:8080/"
    },
    "id": "oBVXfZYLlPAI",
    "outputId": "7ef5f267-1fea-4f60-ee51-bb6fae3dad24"
   },
   "outputs": [
    {
     "name": "stdout",
     "output_type": "stream",
     "text": [
      "<class 'str'>\n"
     ]
    }
   ],
   "source": [
    "f = open(file_path, \"r\")\n",
    "contents = f.read() \n",
    "f.close()\n",
    "print(type(contents))"
   ]
  },
  {
   "cell_type": "markdown",
   "metadata": {
    "id": "X_CmRz3BvaeJ"
   },
   "source": [
    "#### **| 데이터 리스트로 읽기**\n",
    "\n",
    "가장 많이 사용되는 메서드는 `readlines()` 입니다.  이 메서드는 한줄씩 리스트로 반환해 줍니다.\n",
    "\n",
    "* `.readlines()`: 파일을 읽어 리스트로 반환합니다.\n",
    "\n",
    "```\n",
    "f = open(file_path, \"r\")\n",
    "lines = f.readlines() \n",
    "f.close()\n",
    "\n",
    "print(type(lines))\n",
    "lines\n",
    "```"
   ]
  },
  {
   "cell_type": "code",
   "execution_count": null,
   "metadata": {
    "colab": {
     "base_uri": "https://localhost:8080/"
    },
    "id": "TJfTBQdXuquR",
    "outputId": "ca9a7cc3-784c-4f95-811b-54af51dee3ec"
   },
   "outputs": [
    {
     "data": {
      "text/plain": [
       "['longitude,latitude,housing_median_age,total_rooms,total_bedrooms,population,households,median_income,median_house_value',\n",
       " '-122.050000,37.370000,27.000000,3885.000000,661.000000,1537.000000,606.000000,6.608500,344700.000000',\n",
       " '-118.300000,34.260000,43.000000,1510.000000,310.000000,809.000000,277.000000,3.599000,176500.000000',\n",
       " '-117.810000,33.780000,27.000000,3589.000000,507.000000,1484.000000,495.000000,5.793400,270500.000000',\n",
       " '-118.360000,33.820000,28.000000,67.000000,15.000000,49.000000,11.000000,6.135900,330000.000000',\n",
       " '-119.670000,36.330000,19.000000,1241.000000,244.000000,850.000000,237.000000,2.937500,81700.000000',\n",
       " '-119.560000,36.510000,37.000000,1018.000000,213.000000,663.000000,204.000000,1.663500,67000.000000',\n",
       " '-121.430000,38.630000,43.000000,1009.000000,225.000000,604.000000,218.000000,1.664100,67000.000000',\n",
       " '-120.650000,35.480000,19.000000,2310.000000,471.000000,1341.000000,441.000000,3.225000,166900.000000',\n",
       " '-122.840000,38.400000,15.000000,3080.000000,617.000000,1446.000000,599.000000,3.669600,194400.000000']"
      ]
     },
     "execution_count": 18,
     "metadata": {},
     "output_type": "execute_result"
    }
   ],
   "source": [
    "f = open(file_path, \"r\")\n",
    "lines = f.readlines() \n",
    "\n",
    "line = list(map(lambda x: x[:-1], lines))\n",
    "line = list(map(lambda x: x.replace('\"',\"\"), line))\n",
    "f.close()\n",
    "\n",
    "line[:10]"
   ]
  },
  {
   "cell_type": "markdown",
   "metadata": {
    "id": "TBSkrG5pzTDg"
   },
   "source": [
    "이 메서드가 가장 자주 사용되는 이유는 리스트를 아래와 같이 for문을 이용해 데이터를 처리하기가 편하기 때문입니다. \n",
    "\n",
    "```\n",
    "f = open(file_path, \"r\")\n",
    "lines = f.readlines() \n",
    "for line in lines:\n",
    "  print(type(line), line)\n",
    "\n",
    "f.close()\n",
    "```"
   ]
  },
  {
   "cell_type": "code",
   "execution_count": null,
   "metadata": {
    "colab": {
     "base_uri": "https://localhost:8080/"
    },
    "id": "L2xu_T3AzJDY",
    "outputId": "166f1f5b-599d-43ba-e50d-ab3e20778507"
   },
   "outputs": [
    {
     "name": "stdout",
     "output_type": "stream",
     "text": [
      "<class 'str'> \"longitude\",\"latitude\",\"housing_median_age\",\"total_rooms\",\"total_bedrooms\",\"population\",\"households\",\"median_income\",\"median_house_value\"\n",
      "\n",
      "<class 'str'> -122.050000,37.370000,27.000000,3885.000000,661.000000,1537.000000,606.000000,6.608500,344700.000000\n",
      "\n",
      "<class 'str'> -118.300000,34.260000,43.000000,1510.000000,310.000000,809.000000,277.000000,3.599000,176500.000000\n",
      "\n",
      "<class 'str'> -117.810000,33.780000,27.000000,3589.000000,507.000000,1484.000000,495.000000,5.793400,270500.000000\n",
      "\n",
      "<class 'str'> -118.360000,33.820000,28.000000,67.000000,15.000000,49.000000,11.000000,6.135900,330000.000000\n",
      "\n",
      "<class 'str'> -119.670000,36.330000,19.000000,1241.000000,244.000000,850.000000,237.000000,2.937500,81700.000000\n",
      "\n",
      "<class 'str'> -119.560000,36.510000,37.000000,1018.000000,213.000000,663.000000,204.000000,1.663500,67000.000000\n",
      "\n",
      "<class 'str'> -121.430000,38.630000,43.000000,1009.000000,225.000000,604.000000,218.000000,1.664100,67000.000000\n",
      "\n",
      "<class 'str'> -120.650000,35.480000,19.000000,2310.000000,471.000000,1341.000000,441.000000,3.225000,166900.000000\n",
      "\n",
      "<class 'str'> -122.840000,38.400000,15.000000,3080.000000,617.000000,1446.000000,599.000000,3.669600,194400.000000\n",
      "\n"
     ]
    }
   ],
   "source": [
    "f = open(file_path, \"r\")\n",
    "lines = f.readlines() \n",
    "for line in lines[:10]:\n",
    "  print(type(line), line)\n",
    "\n",
    "f.close()"
   ]
  },
  {
   "cell_type": "markdown",
   "metadata": {
    "id": "Rb0hO9iHKa2_"
   },
   "source": [
    "#### **| 데이터 한줄씩 읽기**\n",
    "\n",
    "* `readline()`: 한줄씩 파일을 읽어 문자열로 반환합니다.\n",
    "\n",
    "```\n",
    "f = open(file_path, \"r\") \n",
    "\n",
    "line = f.readline()\n",
    "print(type(line), line)\n",
    "line = f.readline()\n",
    "print(type(line), line)\n",
    "line = f.readline()\n",
    "print(type(line), line)\n",
    "\n",
    "\n",
    "f.close()\n",
    "```\n",
    "\n"
   ]
  },
  {
   "cell_type": "code",
   "execution_count": null,
   "metadata": {
    "colab": {
     "base_uri": "https://localhost:8080/"
    },
    "id": "4PTUnJ9RJwBT",
    "outputId": "40a2a61b-293f-4036-e93d-582373605049"
   },
   "outputs": [
    {
     "name": "stdout",
     "output_type": "stream",
     "text": [
      "<class 'str'> \"longitude\",\"latitude\",\"housing_median_age\",\"total_rooms\",\"total_bedrooms\",\"population\",\"households\",\"median_income\",\"median_house_value\"\n",
      "\n",
      "<class 'str'> -122.050000,37.370000,27.000000,3885.000000,661.000000,1537.000000,606.000000,6.608500,344700.000000\n",
      "\n",
      "<class 'str'> -118.300000,34.260000,43.000000,1510.000000,310.000000,809.000000,277.000000,3.599000,176500.000000\n",
      "\n"
     ]
    }
   ],
   "source": [
    "f = open(file_path, \"r\") \n",
    "\n",
    "line = f.readline()\n",
    "print(type(line), line)\n",
    "line = f.readline()\n",
    "print(type(line), line)\n",
    "line = f.readline()\n",
    "print(type(line), line)\n",
    "\n",
    "\n",
    "f.close()"
   ]
  },
  {
   "cell_type": "markdown",
   "metadata": {
    "id": "NQ_GbYiXLN2i"
   },
   "source": [
    "#### **| 연습문제**\n",
    "\n",
    "한번 실행 할 때마다 차례대로 한줄씩 문자열을 반환하는 `.readline()`을 이용해 데이터를 처리해 보도록 하겠습니다. \n",
    "\n"
   ]
  },
  {
   "cell_type": "markdown",
   "metadata": {
    "id": "ey_R7ZgXnHdp"
   },
   "source": [
    "**연습 01**\n",
    "\n",
    "첫번째 줄은 각 열에 대한 정보가 됩니다. 이를 `headers`라는 리스트로 담아 보도록 합시다. \n",
    "\n",
    "```\n",
    "f = open(file_path, \"r\") \n",
    "headers = f.readline()\n",
    "# 코드작성\n",
    "\n",
    "print(type(headers))\n",
    "headers\n",
    "```\n",
    "\n",
    "* 코드 결과\n",
    "\n",
    "```\n",
    "<class 'str'>\n",
    "\"longitude\",\"latitude\",\"housing_median_age\",\"total_rooms\",\"total_bedrooms\",\"population\",\"households\",\"median_income\",\"median_house_value\"\\n\n",
    "```\n",
    "\n",
    "* 변환 결과\n",
    "\n",
    "```\n",
    "<class 'list'>\n",
    "['longitude',\n",
    " 'latitude',\n",
    " 'housing_median_age',\n",
    " 'total_rooms',\n",
    " 'total_bedrooms',\n",
    " 'population',\n",
    " 'households',\n",
    " 'median_income',\n",
    " 'median_house_value']\n",
    "```"
   ]
  },
  {
   "cell_type": "code",
   "execution_count": null,
   "metadata": {
    "colab": {
     "base_uri": "https://localhost:8080/"
    },
    "id": "O7zikq2uiNOw",
    "outputId": "f9666581-6e93-4db3-b1c4-c603cd64b964"
   },
   "outputs": [
    {
     "name": "stdout",
     "output_type": "stream",
     "text": [
      "<class 'str'>\n"
     ]
    },
    {
     "data": {
      "text/plain": [
       "['longitude',\n",
       " 'latitude',\n",
       " 'housing_median_age',\n",
       " 'total_rooms',\n",
       " 'total_bedrooms',\n",
       " 'population',\n",
       " 'households',\n",
       " 'median_income',\n",
       " 'median_house_value']"
      ]
     },
     "execution_count": 21,
     "metadata": {},
     "output_type": "execute_result"
    }
   ],
   "source": [
    "f = open(file_path, \"r\") \n",
    "headers = f.readline()\n",
    "\n",
    "print(type(headers))\n",
    "headers\n",
    "headers = headers[:-2] #이스케이프 문자제거+ 뒷 \" 제거\n",
    "headers = headers[1:] # 앞 \"제거\n",
    "headers = headers.split('\",\"')\n",
    "headers"
   ]
  },
  {
   "cell_type": "markdown",
   "metadata": {
    "id": "xjNUbzmwkQS5"
   },
   "source": [
    "**연습 02**\n",
    "\n",
    "이번엔 두번째 줄 이후부터를 처리해 봅시다. 두번째 줄 부터는 각 header에 대한 수치값들이 들어 있습니다. \n",
    "\n",
    "\n",
    "```\n",
    "line = f.readline()\n",
    "# 코드 작성\n",
    "\n",
    "print(type(line))\n",
    "line\n",
    "```\n",
    "\n",
    "* 결과\n",
    "\n",
    "```\n",
    "<class 'str'>\n",
    "-120.650000,35.480000,19.000000,2310.000000,471.000000,1341.000000,441.000000,3.225000,166900.000000\\n\n",
    "```\n",
    "\n",
    "* 변환 결과\n",
    "\n",
    "```\n",
    "<class 'list'>\n",
    "[-121.43, 38.63, 43.0, 1009.0, 225.0, 604.0, 218.0, 1.6641, 67000.0]\n",
    "```"
   ]
  },
  {
   "cell_type": "code",
   "execution_count": null,
   "metadata": {
    "colab": {
     "base_uri": "https://localhost:8080/"
    },
    "id": "EutQPz_DLe8t",
    "outputId": "e72ead36-0b81-4e51-8ea7-53087787c5d8"
   },
   "outputs": [
    {
     "name": "stdout",
     "output_type": "stream",
     "text": [
      "<class 'list'>\n"
     ]
    },
    {
     "data": {
      "text/plain": [
       "[-122.05, 37.37, 27.0, 3885.0, 661.0, 1537.0, 606.0, 6.6085, 344700.0]"
      ]
     },
     "execution_count": 22,
     "metadata": {},
     "output_type": "execute_result"
    }
   ],
   "source": [
    "line = f.readline()\n",
    "# 코드 작성\n",
    "line = line[:-1]\n",
    "line = line.split(\",\")\n",
    "\n",
    "line = list(map(lambda x: float(x), line))\n",
    "print(type(line))\n",
    "line"
   ]
  },
  {
   "cell_type": "markdown",
   "metadata": {
    "id": "aZn3xeJAn2Y5"
   },
   "source": [
    "**연습 03**\n",
    "\n",
    "이제 반복문을 이용해 `line` 을 `lines`리스트에 넣어보도록 하겠습니다.\n",
    "그런데 우리는 `.readline()`를 통해 나오는 데이터가 몇줄까지 있는지 모르는 상태죠. 이럴 때는 `while`문을 사용해서 처리해 줍시다. \n",
    "\n"
   ]
  },
  {
   "cell_type": "code",
   "execution_count": null,
   "metadata": {
    "colab": {
     "base_uri": "https://localhost:8080/"
    },
    "id": "HmotMPotii95",
    "outputId": "19eb49ca-d5a1-41fe-805f-eabc9aec4324"
   },
   "outputs": [
    {
     "name": "stdout",
     "output_type": "stream",
     "text": [
      "<class 'list'> 2999\n"
     ]
    },
    {
     "data": {
      "text/plain": [
       "[[-118.3, 34.26, 43.0, 1510.0, 310.0, 809.0, 277.0, 3.599, 176500.0],\n",
       " [-117.81, 33.78, 27.0, 3589.0, 507.0, 1484.0, 495.0, 5.7934, 270500.0],\n",
       " [-118.36, 33.82, 28.0, 67.0, 15.0, 49.0, 11.0, 6.1359, 330000.0],\n",
       " [-119.67, 36.33, 19.0, 1241.0, 244.0, 850.0, 237.0, 2.9375, 81700.0],\n",
       " [-119.56, 36.51, 37.0, 1018.0, 213.0, 663.0, 204.0, 1.6635, 67000.0],\n",
       " [-121.43, 38.63, 43.0, 1009.0, 225.0, 604.0, 218.0, 1.6641, 67000.0],\n",
       " [-120.65, 35.48, 19.0, 2310.0, 471.0, 1341.0, 441.0, 3.225, 166900.0],\n",
       " [-122.84, 38.4, 15.0, 3080.0, 617.0, 1446.0, 599.0, 3.6696, 194400.0],\n",
       " [-118.02, 34.08, 31.0, 2402.0, 632.0, 2830.0, 603.0, 2.3333, 164200.0],\n",
       " [-118.24, 33.98, 45.0, 972.0, 249.0, 1288.0, 261.0, 2.2054, 125000.0]]"
      ]
     },
     "execution_count": 23,
     "metadata": {},
     "output_type": "execute_result"
    }
   ],
   "source": [
    "lines = []\n",
    "\n",
    "while True:\n",
    "    line = f.readline()\n",
    "    if not line: break\n",
    "    # 코드 작성\n",
    "    line = line[:-1]\n",
    "    line = line.split(\",\")\n",
    "    line = list(map(lambda x: float(x), line))\n",
    "    lines.append(line)\n",
    "\n",
    "print(type(lines), len(lines))\n",
    "lines[:10]"
   ]
  },
  {
   "cell_type": "markdown",
   "metadata": {
    "id": "1Lmc1st0rF_4"
   },
   "source": [
    "파일을 모두 읽고 처리를 했으면 파일을 닫아주는 것을 잊지마세요\n",
    "```\n",
    "f.close()\n",
    "```"
   ]
  },
  {
   "cell_type": "code",
   "execution_count": null,
   "metadata": {
    "id": "MQsVafZGm60Q"
   },
   "outputs": [],
   "source": [
    "f.close()"
   ]
  },
  {
   "cell_type": "markdown",
   "metadata": {
    "id": "sbxRlP8Eyo9Y"
   },
   "source": [
    "**연습 04**\n",
    "\n",
    "전체 데이터 처리 코드를 정리합시다."
   ]
  },
  {
   "cell_type": "code",
   "execution_count": null,
   "metadata": {
    "colab": {
     "base_uri": "https://localhost:8080/"
    },
    "id": "_Jma0_G0uE4r",
    "outputId": "7544b60b-33a5-418a-e6a7-983c614ca841"
   },
   "outputs": [
    {
     "name": "stdout",
     "output_type": "stream",
     "text": [
      "<class 'str'>\n",
      "['longitude', 'latitude', 'housing_median_age', 'total_rooms', 'total_bedrooms', 'population', 'households', 'median_income', 'median_house_value']\n",
      "<class 'list'> 3000\n"
     ]
    }
   ],
   "source": [
    "# f = open(file_path, \"r\") \n",
    "\n",
    "with open(file_path,\"r\") as f:\n",
    "\n",
    "    headers = f.readline()\n",
    "\n",
    "    print(type(headers))\n",
    "    headers\n",
    "    headers = headers[:-2] #이스케이프 문자제거+ 뒷 \" 제거\n",
    "    headers = headers[1:] # 앞 \"제거\n",
    "    headers = headers.split('\",\"')\n",
    "    print(headers)\n",
    "\n",
    "\n",
    "    lines = []\n",
    "    while True:\n",
    "        line = f.readline()\n",
    "        if not line: break\n",
    "        # 코드 작성\n",
    "        line = line[:-1]\n",
    "        line = line.split(\",\")\n",
    "        line = list(map(lambda x: float(x), line))\n",
    "        lines.append(line)\n",
    "\n",
    "# f.close\n",
    "print(type(lines), len(lines))"
   ]
  },
  {
   "cell_type": "markdown",
   "metadata": {
    "id": "XTyxly3irkgB"
   },
   "source": [
    "`headers`와 `lines`를 이용해 데이터의 컬럼이 총 몇개인지, 데이터의 개수는 총 몇개인지 알아보세요.\n",
    "\n",
    "* 컬럼의 개수:\n",
    "* 데이터의 개수: "
   ]
  },
  {
   "cell_type": "code",
   "execution_count": null,
   "metadata": {
    "colab": {
     "base_uri": "https://localhost:8080/"
    },
    "id": "_tFJhRaNpcsn",
    "outputId": "35c31014-4caa-4246-9d63-e8c987745f9a"
   },
   "outputs": [
    {
     "name": "stdout",
     "output_type": "stream",
     "text": [
      "9\n",
      "3000\n"
     ]
    }
   ],
   "source": [
    "print(len(headers))\n",
    "print(len(lines))"
   ]
  },
  {
   "cell_type": "markdown",
   "metadata": {
    "id": "4mgbs3-trWdg"
   },
   "source": [
    "---\n",
    "### (3) 파일 쓰기\n",
    "---\n",
    "\n"
   ]
  },
  {
   "cell_type": "markdown",
   "metadata": {
    "id": "HCy4QIBs02_A"
   },
   "source": [
    "#### **| 파일 만들기**\n",
    "\n",
    "파일 읽기와 마찬가지로 파일 쓰기도 `open()` 함수를 사용합니다. 모드는 쓰기 모드인 `'w'`을 사용합니다. 기존에 있는 파일을 쓰기 모드로 열면 기존 파일의 데이터가 모두 날아가게 되니 주의하셔야 합니다.  \n",
    "\n",
    "\n",
    "```\n",
    "save_path = 'smaple_data/test1.txt'\n",
    "f = open(save_path, 'w')\n",
    "f.close()\n",
    "````\n",
    "`save_path`를 지정 할 때는 파일을 저장할 폴더와 파일명을 함께 써줍니다.\n"
   ]
  },
  {
   "cell_type": "code",
   "execution_count": null,
   "metadata": {
    "id": "yZ98pahX0NSq"
   },
   "outputs": [],
   "source": [
    "save_path = 'sample_data/test1.txt'\n",
    "f = open(save_path, 'w')\n",
    "f.close()"
   ]
  },
  {
   "cell_type": "markdown",
   "metadata": {
    "id": "V4r3xLmi0vh5"
   },
   "source": [
    "#### | 데이터 작성하기\n",
    "\n",
    "위에서 만든 파일을 열어보면 아무것도 적혀 있지 않은 빈 파일임을 볼 수 있습니다. 이제 이 파일에 글을 작성해 보도록 하겠습니다. \n",
    "\n",
    "* `.write(str)`: 파일에 문자열을 입력합니다. \n",
    "\n",
    "```\n",
    "f = open(save_path, 'w')\n",
    "w = '안녕하세요'\n",
    "f.write(w)\n",
    "f.close()\n",
    "```"
   ]
  },
  {
   "cell_type": "code",
   "execution_count": null,
   "metadata": {
    "id": "wXbHnWez0WqQ"
   },
   "outputs": [],
   "source": [
    "f = open(save_path, 'w')\n",
    "w = '안녕하세요'\n",
    "f.write(w)\n",
    "f.close()"
   ]
  },
  {
   "cell_type": "markdown",
   "metadata": {
    "id": "fnXXYKUr1XKg"
   },
   "source": [
    "아래와 같이 for문을 이용해 여러줄을 입력할 수 있습니다.\n",
    "\n",
    "```\n",
    "f = open(save_path, 'w')\n",
    "for i in range(10):\n",
    "  w = f'{i}. 안녕하세요\\n'\n",
    "  f.write(w)\n",
    "f.close()\n",
    "```"
   ]
  },
  {
   "cell_type": "code",
   "execution_count": null,
   "metadata": {
    "id": "EDwqn3e91iVB"
   },
   "outputs": [],
   "source": [
    "f = open(save_path, 'w')\n",
    "for i in range(10):\n",
    "  w = f'{i}. 안녕하세요\\n'\n",
    "  f.write(w)\n",
    "f.close()"
   ]
  },
  {
   "cell_type": "markdown",
   "metadata": {
    "id": "kwjbk2mk15EI"
   },
   "source": [
    "#### | 기존 파일에 데이터 작성하기\n",
    "\n",
    "`'w'` 모드를 사용하면 불러오는 파일의 데이터가 모두 날아가게 된다고 하였습니다. 따라서 기존 파일에 데이터를 추가로 입력할 때는 모드 `'a'` 를 이용해 파일을 열어줍니다.\n",
    "\n",
    "```\n",
    "f = open(save_path, 'a')\n",
    "for i in range(10):\n",
    "  w = f'{i}. 안녕하세요\\n'\n",
    "  f.write(w)\n",
    "f.close()\n",
    "```"
   ]
  },
  {
   "cell_type": "code",
   "execution_count": null,
   "metadata": {
    "id": "SrYOEOZw2N4A"
   },
   "outputs": [],
   "source": [
    "f = open(save_path, 'a')\n",
    "for i in range(10):\n",
    "  w = f'{i}. 안녕하세요\\n'\n",
    "  f.write(w)\n",
    "f.close()"
   ]
  },
  {
   "cell_type": "markdown",
   "metadata": {
    "id": "jKvwT4LbkHNv"
   },
   "source": [
    "## 문제풀이\n",
    "---\n",
    "\n"
   ]
  },
  {
   "cell_type": "markdown",
   "metadata": {
    "id": "TtahL9hvkJNg"
   },
   "source": [
    "**예제 01**\n",
    "\n",
    "현재 경로를 문자열 `this_dir` 로 지정하세요\n"
   ]
  },
  {
   "cell_type": "code",
   "execution_count": null,
   "metadata": {
    "colab": {
     "base_uri": "https://localhost:8080/",
     "height": 35
    },
    "id": "VI7b0SUM6i_Z",
    "outputId": "4e6f8714-bc7f-4e1f-d4e8-2895c7e92e1e"
   },
   "outputs": [
    {
     "data": {
      "application/vnd.google.colaboratory.intrinsic+json": {
       "type": "string"
      },
      "text/plain": [
       "'/content'"
      ]
     },
     "execution_count": 30,
     "metadata": {},
     "output_type": "execute_result"
    }
   ],
   "source": [
    "import os\n",
    "this_dir = os.getcwd()\n",
    "this_dir"
   ]
  },
  {
   "cell_type": "markdown",
   "metadata": {
    "id": "5IFfmiZx8-cw"
   },
   "source": [
    "**예제 02**\n",
    "\n",
    "데이터가 있는 폴더 `/content/sample_data` 를 `ds_dir`로 지정하세요\n"
   ]
  },
  {
   "cell_type": "code",
   "execution_count": null,
   "metadata": {
    "colab": {
     "base_uri": "https://localhost:8080/",
     "height": 35
    },
    "id": "kg7hhOxs8-cw",
    "outputId": "d62526ca-f888-4d36-8d45-8b4bfd7ff548"
   },
   "outputs": [
    {
     "data": {
      "application/vnd.google.colaboratory.intrinsic+json": {
       "type": "string"
      },
      "text/plain": [
       "'/content/sample_data'"
      ]
     },
     "execution_count": 33,
     "metadata": {},
     "output_type": "execute_result"
    }
   ],
   "source": [
    "ds_dir = \"/content/sample_data\"\n",
    "ds_dir"
   ]
  },
  {
   "cell_type": "markdown",
   "metadata": {
    "id": "vOup0fDy94Uw"
   },
   "source": [
    "**예제 03**\n",
    "\n",
    "`ds_dir`에 있는 파일들을 모두 출력하세요.\n"
   ]
  },
  {
   "cell_type": "code",
   "execution_count": null,
   "metadata": {
    "colab": {
     "base_uri": "https://localhost:8080/"
    },
    "id": "_WGnm-MX94Uw",
    "outputId": "4fd6e759-0727-4872-a6d4-2b0b56ec9edd"
   },
   "outputs": [
    {
     "data": {
      "text/plain": [
       "['/content/sample_data/README.md',\n",
       " '/content/sample_data/anscombe.json',\n",
       " '/content/sample_data/test1.txt',\n",
       " '/content/sample_data/mnist_test.csv',\n",
       " '/content/sample_data/mnist_train_small.csv',\n",
       " '/content/sample_data/california_housing_test.csv',\n",
       " '/content/sample_data/california_housing_train.csv']"
      ]
     },
     "execution_count": 34,
     "metadata": {},
     "output_type": "execute_result"
    }
   ],
   "source": [
    "import glob\n",
    "glob.glob(ds_dir+\"/*\")"
   ]
  },
  {
   "cell_type": "markdown",
   "metadata": {
    "id": "chSVvX55-Coo"
   },
   "source": [
    "**예제 04**\n",
    "\n",
    "`ds_dir`에 있는 파일들 중 `california`로 시작하는 파일만 `ds_paths`로 바인딩하세요. \n"
   ]
  },
  {
   "cell_type": "code",
   "execution_count": null,
   "metadata": {
    "id": "CUwbqdpy-Coo"
   },
   "outputs": [],
   "source": [
    "ds_paths = glob.glob(ds_dir+\"/california*\")"
   ]
  },
  {
   "cell_type": "markdown",
   "metadata": {
    "id": "Il7QIp2W-u-I"
   },
   "source": [
    "**예제 05**\n",
    "\n",
    "`ds_paths`에 해당하는 파일들의 경로를 for문을 이용해 하나씩 출력하세요."
   ]
  },
  {
   "cell_type": "code",
   "execution_count": null,
   "metadata": {
    "colab": {
     "base_uri": "https://localhost:8080/"
    },
    "id": "tl-amHy9-u-M",
    "outputId": "30b6fbc1-da4f-4849-d21c-86f5354242ae"
   },
   "outputs": [
    {
     "name": "stdout",
     "output_type": "stream",
     "text": [
      "/content/sample_data/california_housing_test.csv\n",
      "/content/sample_data/california_housing_train.csv\n"
     ]
    }
   ],
   "source": [
    "for i in ds_paths:\n",
    "    print(i)"
   ]
  },
  {
   "cell_type": "markdown",
   "metadata": {
    "id": "Cy0SxfiE-_yZ"
   },
   "source": [
    "**예제 06**\n",
    "\n",
    "`ds_paths`에 해당하는 파일들을 for문을 이용해 하나씩 열고 각 파일의 첫번재 줄만 출력하세요."
   ]
  },
  {
   "cell_type": "code",
   "execution_count": null,
   "metadata": {
    "colab": {
     "base_uri": "https://localhost:8080/"
    },
    "id": "b4WTJROP-_ya",
    "outputId": "da2810b2-5140-4095-a9d4-43b8c7f9dfd8"
   },
   "outputs": [
    {
     "name": "stdout",
     "output_type": "stream",
     "text": [
      "\"longitude\",\"latitude\",\"housing_median_age\",\"total_rooms\",\"total_bedrooms\",\"population\",\"households\",\"median_income\",\"median_house_value\"\n",
      "\n",
      "\"longitude\",\"latitude\",\"housing_median_age\",\"total_rooms\",\"total_bedrooms\",\"population\",\"households\",\"median_income\",\"median_house_value\"\n",
      "\n"
     ]
    }
   ],
   "source": [
    "for i in ds_paths:\n",
    "    with open(i,\"r\") as f:\n",
    "        headers = f.readline()\n",
    "        print(headers)"
   ]
  },
  {
   "cell_type": "markdown",
   "metadata": {
    "id": "Pc5n2Ks2_v5X"
   },
   "source": [
    "**예제 07**\n",
    "\n",
    "`연습문제 04` 의 코드를 함수 `preprocess1()`로 바꿉니다. 이 함수의 인풋은 데이터의 경로 `path` 이고 아웃풋은 `header`와 `lines` 입니다. \n",
    "\n",
    "```\n",
    "header, lines = preprocess1('/content/sample_data/california_housing_test.csv')\n",
    "```\n"
   ]
  },
  {
   "cell_type": "code",
   "execution_count": null,
   "metadata": {
    "id": "ImqjXN3L_v5X"
   },
   "outputs": [],
   "source": [
    "def preprocess1(path):\n",
    "    with open(path,\"r\") as f:\n",
    "\n",
    "        headers = f.readline()\n",
    "        headers\n",
    "        headers = headers[:-2] #이스케이프 문자제거+ 뒷 \" 제거\n",
    "        headers = headers[1:] # 앞 \"제거\n",
    "        headers = headers.split('\",\"')\n",
    "\n",
    "        lines = []\n",
    "        while True:\n",
    "            line = f.readline()\n",
    "            if not line: break\n",
    "            # 코드 작성\n",
    "            line = line[:-1]\n",
    "            line = line.split(\",\")\n",
    "            line = list(map(lambda x: float(x), line))\n",
    "            lines.append(line)\n",
    "\n",
    "    return headers, lines"
   ]
  },
  {
   "cell_type": "code",
   "execution_count": null,
   "metadata": {
    "colab": {
     "base_uri": "https://localhost:8080/"
    },
    "id": "Vg5hjlvX2tJv",
    "outputId": "d57a720e-fcf8-42a1-e9ea-cb78b7ce385d"
   },
   "outputs": [
    {
     "name": "stdout",
     "output_type": "stream",
     "text": [
      "9\n",
      "3000\n"
     ]
    }
   ],
   "source": [
    "header, lines = preprocess1('/content/sample_data/california_housing_test.csv')\n",
    "print(len(header))\n",
    "print(len(lines))"
   ]
  },
  {
   "cell_type": "markdown",
   "metadata": {
    "id": "yqkm6FzrAgf3"
   },
   "source": [
    "**예제 08**\n",
    "\n",
    "함수 `preprocess2()`를 만들어보세요. `preprocess1()`과 똑같은 기능을 합니다. \n",
    "다만 함수 내에서 데이터를 가져올 때 `.readline()` 메서드가 아닌 `.readlines()`를 사용하여 데이터를 처리해 주세요.\n",
    "\n",
    "```\n",
    "header, lines = preprocess2('/content/sample_data/california_housing_test.csv')\n",
    "```\n"
   ]
  },
  {
   "cell_type": "code",
   "execution_count": null,
   "metadata": {
    "id": "a66LLLnJAgf3"
   },
   "outputs": [],
   "source": [
    "def preprocess1(path):\n",
    "    with open(path,\"r\") as f:\n",
    "\n",
    "        lines = f.readlines() \n",
    "\n",
    "        line = list(map(lambda x: x[:-1], lines))\n",
    "\n",
    "        header = line[0]\n",
    "        header = header.replace('\"','')\n",
    "        header = header.split(\",\")\n",
    "\n",
    "        lines_arr = line[1:]\n",
    "\n",
    "        lines = []\n",
    "        for i in lines_arr:\n",
    "            line = i.split(\",\")\n",
    "            line = list(map(lambda x: float(x), line))\n",
    "            lines.append(line)\n",
    "\n",
    "    return headers, lines"
   ]
  },
  {
   "cell_type": "code",
   "execution_count": null,
   "metadata": {
    "colab": {
     "base_uri": "https://localhost:8080/"
    },
    "id": "HwqKJ8B98cMt",
    "outputId": "3e63eb26-d743-439c-a9a5-c11dd5723ddd"
   },
   "outputs": [
    {
     "name": "stdout",
     "output_type": "stream",
     "text": [
      "138\n",
      "3000\n"
     ]
    }
   ],
   "source": [
    "print(len(headers))\n",
    "print(len(lines))"
   ]
  },
  {
   "cell_type": "markdown",
   "metadata": {
    "id": "2F-LUVbNA7-I"
   },
   "source": [
    "**예제 09**\n",
    "\n",
    "먼저 텍스트 파일을 저장할 폴더 `results`를 만들어주세요. \n",
    "\n",
    "아래와 같이 구구단 2단부터 9단까지 적힌 텍스트파일 `01_gugudan.txt`를 작성하세요. \n",
    "\n",
    "이때 `01_gugudan.txt` 파일은 `results`폴더에 저장되어야 합니다. \n",
    "\n",
    "* `01_gugudan.txt`\n",
    "\n",
    "```\n",
    "---2단---\n",
    "2 x 1 = 2\n",
    "2 x 2 = 4\n",
    "2 x 3 = 6\n",
    "2 x 4 = 8\n",
    "2 x 5 = 10\n",
    "2 x 6 = 12\n",
    "2 x 7 = 14\n",
    "2 x 8 = 16\n",
    "2 x 9 = 18\n",
    "---3단---\n",
    "3 x 1 = 3\n",
    "3 x 2 = 6\n",
    "3 x 3 = 9\n",
    "...\n",
    "\n",
    "```\n"
   ]
  },
  {
   "cell_type": "code",
   "execution_count": 1,
   "metadata": {
    "colab": {
     "base_uri": "https://localhost:8080/"
    },
    "id": "urOwJodyB_PJ",
    "outputId": "0058e710-79d3-425f-8ca8-aeeedc911d58"
   },
   "outputs": [
    {
     "ename": "FileNotFoundError",
     "evalue": "[WinError 2] 지정된 파일을 찾을 수 없습니다: '/content'",
     "output_type": "error",
     "traceback": [
      "\u001b[1;31m---------------------------------------------------------------------------\u001b[0m",
      "\u001b[1;31mFileNotFoundError\u001b[0m                         Traceback (most recent call last)",
      "\u001b[1;32m~\\AppData\\Local\\Temp/ipykernel_6520/3888211371.py\u001b[0m in \u001b[0;36m<module>\u001b[1;34m\u001b[0m\n\u001b[0;32m      1\u001b[0m \u001b[1;32mimport\u001b[0m \u001b[0mos\u001b[0m\u001b[1;33m\u001b[0m\u001b[1;33m\u001b[0m\u001b[0m\n\u001b[1;32m----> 2\u001b[1;33m \u001b[0mos\u001b[0m\u001b[1;33m.\u001b[0m\u001b[0mchdir\u001b[0m\u001b[1;33m(\u001b[0m\u001b[1;34m'/content'\u001b[0m\u001b[1;33m)\u001b[0m\u001b[1;33m\u001b[0m\u001b[1;33m\u001b[0m\u001b[0m\n\u001b[0m\u001b[0;32m      3\u001b[0m \u001b[0mos\u001b[0m\u001b[1;33m.\u001b[0m\u001b[0mmkdir\u001b[0m\u001b[1;33m(\u001b[0m\u001b[1;34m\"results\"\u001b[0m\u001b[1;33m)\u001b[0m\u001b[1;33m\u001b[0m\u001b[1;33m\u001b[0m\u001b[0m\n\u001b[0;32m      4\u001b[0m \u001b[0mos\u001b[0m\u001b[1;33m.\u001b[0m\u001b[0mlistdir\u001b[0m\u001b[1;33m(\u001b[0m\u001b[1;33m)\u001b[0m\u001b[1;33m\u001b[0m\u001b[1;33m\u001b[0m\u001b[0m\n",
      "\u001b[1;31mFileNotFoundError\u001b[0m: [WinError 2] 지정된 파일을 찾을 수 없습니다: '/content'"
     ]
    }
   ],
   "source": [
    "import os\n",
    "os.chdir('/content')\n",
    "os.mkdir(\"results\")\n",
    "os.listdir()"
   ]
  },
  {
   "cell_type": "code",
   "execution_count": 3,
   "metadata": {
    "id": "O3zUdbcPA7-J"
   },
   "outputs": [],
   "source": [
    "save_path = 'results/ch01_gugudan.txt'\n",
    "f = open(save_path, 'w')\n",
    "\n",
    "for i in range(2,10):\n",
    "    w = f\"---{i}단---\\n\"\n",
    "    f.write(w)\n",
    "    for j in range(1,10):\n",
    "        w = f\"{i} X {j} = {i*j}\\n\"\n",
    "        f.write(w)\n",
    "    \n",
    "f.close()"
   ]
  },
  {
   "cell_type": "markdown",
   "metadata": {
    "id": "wTCLvsjBBemU"
   },
   "source": [
    "**예제 10**\n",
    "\n",
    "위에서 작성한 `01_gugudan.txt`에 구구단 12단을 이어서 작성해 주세요. \n",
    "\n",
    "작성이 끝난 후에는 `results`폴더를 다운받아 깃허브 레포지토리에 업로드 해주세요.\n"
   ]
  },
  {
   "cell_type": "code",
   "execution_count": 4,
   "metadata": {
    "id": "qCQHAhFMBemU"
   },
   "outputs": [],
   "source": [
    "save_path = 'results/ch01_gugudan.txt'\n",
    "f = open(save_path, 'a')\n",
    "\n",
    "for i in range(10,13):\n",
    "    w = f\"---{i}단---\\n\"\n",
    "    f.write(w)\n",
    "    for j in range(1,10):\n",
    "        w = f\"{i} X {j} = {i*j}\\n\"\n",
    "        f.write(w)\n",
    "    \n",
    "f.close()"
   ]
  },
  {
   "cell_type": "code",
   "execution_count": null,
   "metadata": {
    "id": "sHamghe6DJ_J"
   },
   "outputs": [],
   "source": []
  }
 ],
 "metadata": {
  "colab": {
   "collapsed_sections": [],
   "name": "01_데이터입출력.ipynb",
   "provenance": []
  },
  "kernelspec": {
   "display_name": "Python 3 (ipykernel)",
   "language": "python",
   "name": "python3"
  },
  "language_info": {
   "codemirror_mode": {
    "name": "ipython",
    "version": 3
   },
   "file_extension": ".py",
   "mimetype": "text/x-python",
   "name": "python",
   "nbconvert_exporter": "python",
   "pygments_lexer": "ipython3",
   "version": "3.7.13"
  },
  "toc": {
   "base_numbering": 1,
   "nav_menu": {},
   "number_sections": true,
   "sideBar": true,
   "skip_h1_title": false,
   "title_cell": "Table of Contents",
   "title_sidebar": "Contents",
   "toc_cell": false,
   "toc_position": {
    "height": "calc(100% - 180px)",
    "left": "10px",
    "top": "150px",
    "width": "245.76px"
   },
   "toc_section_display": true,
   "toc_window_display": false
  },
  "varInspector": {
   "cols": {
    "lenName": 16,
    "lenType": 16,
    "lenVar": 40
   },
   "kernels_config": {
    "python": {
     "delete_cmd_postfix": "",
     "delete_cmd_prefix": "del ",
     "library": "var_list.py",
     "varRefreshCmd": "print(var_dic_list())"
    },
    "r": {
     "delete_cmd_postfix": ") ",
     "delete_cmd_prefix": "rm(",
     "library": "var_list.r",
     "varRefreshCmd": "cat(var_dic_list()) "
    }
   },
   "types_to_exclude": [
    "module",
    "function",
    "builtin_function_or_method",
    "instance",
    "_Feature"
   ],
   "window_display": false
  }
 },
 "nbformat": 4,
 "nbformat_minor": 1
}
