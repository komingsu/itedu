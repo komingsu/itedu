{
 "cells": [
  {
   "cell_type": "markdown",
   "id": "d8280c7b",
   "metadata": {},
   "source": [
    "- 3장 HTML"
   ]
  },
  {
   "cell_type": "markdown",
   "id": "2feb2730",
   "metadata": {
    "ExecuteTime": {
     "end_time": "2022-08-01T00:32:27.172227Z",
     "start_time": "2022-08-01T00:32:27.167226Z"
    }
   },
   "source": [
    "- 제목 표시하기"
   ]
  },
  {
   "cell_type": "markdown",
   "id": "d80e458c",
   "metadata": {},
   "source": [
    "<!DOCTYPE html>\n",
    "<html lang=\"ko\">\n",
    "  <head>\n",
    "    <meta charset=\"utf-8\">\n",
    "    <title> </title>\n",
    "  </head>\n",
    "  <body>\n",
    "    <h1>숫자가 1일 때의 제목 텍스트</h1>\n",
    "    <h2>숫자가 2일 때의 제목 텍스트</h2>\n",
    "    <h3>숫자가 3일 때의 제목 텍스트</h3>\n",
    "    <h4>숫자가 4일 때의 제목 텍스트</h4>\n",
    "    <h5>숫자가 5일 때의 제목 텍스트</h5>\n",
    "    <h6>숫자가 6일 때의 제목 텍스트</h6>\n",
    "  </body>\n",
    "</html>"
   ]
  },
  {
   "cell_type": "markdown",
   "id": "0d98393a",
   "metadata": {},
   "source": [
    "문단 표시하기"
   ]
  },
  {
   "cell_type": "markdown",
   "id": "848dc62f",
   "metadata": {},
   "source": [
    "```\n",
    "<!DOCTYPE html>\n",
    "<html lang=\"ko\">\n",
    "  <head>\n",
    "    <meta charset=\"utf-8\">\n",
    "    <title>여기에는 문서의 제목을 입력해주세요</title>\n",
    "  </head>\n",
    "  <body>\n",
    "    <p>p 태그는 문단을 나타낼 때 사용하는 태그입니다.</p>\n",
    "    <p>하나의 문단에는 일정한 여백이 형성되어 화면 상에서 구분하기가 용이합니다.</p>\n",
    "  </body>\n",
    "</html>\n",
    "```\n",
    "\n",
    "<!DOCTYPE html>\n",
    "<html lang=\"ko\">\n",
    "  <head>\n",
    "    <meta charset=\"utf-8\">\n",
    "    <title>여기에는 문서의 제목을 입력해주세요</title>\n",
    "  </head>\n",
    "  <body>\n",
    "    <p>p 태그는 문단을 나타낼 때 사용하는 태그입니다.</p>\n",
    "    <p>하나의 문단에는 일정한 여백이 형성되어 화면 상에서 구분하기가 용이합니다.</p>\n",
    "  </body>\n",
    "</html>"
   ]
  },
  {
   "cell_type": "markdown",
   "id": "0ff3cb4b",
   "metadata": {},
   "source": [
    "- 인용구 표시하기"
   ]
  },
  {
   "cell_type": "markdown",
   "id": "5123d321",
   "metadata": {},
   "source": [
    "```\n",
    "<body>\n",
    "  <p>p 태그는 문단을 나타낼 때 사용하는 태그입니다.</p>\n",
    "  <blockquote cite=\"https://wikidocs.net/book/7596\">웹 개발 입문자들을 대상으로 하는 HTML 교재입니다.</blockquote>\n",
    "</body>\n",
    "```\n",
    "\n",
    "<body>\n",
    "  <p>p 태그는 문단을 나타낼 때 사용하는 태그입니다.</p>\n",
    "  <blockquote cite=\"https://wikidocs.net/book/7596\">웹 개발 입문자들을 대상으로 하는 HTML 교재입니다.</blockquote>\n",
    "</body>"
   ]
  },
  {
   "cell_type": "markdown",
   "id": "a39ba44a",
   "metadata": {
    "ExecuteTime": {
     "end_time": "2022-08-01T00:35:52.374550Z",
     "start_time": "2022-08-01T00:35:52.368546Z"
    }
   },
   "source": [
    "- 수평선 표시하기"
   ]
  },
  {
   "cell_type": "markdown",
   "id": "2ea424c7",
   "metadata": {},
   "source": [
    "```\n",
    "<body>\n",
    "  <p>지금까지 스포츠 뉴스였습니다.</p>\n",
    "  <hr>\n",
    "  <p>날씨 예보입니다. 오늘은 하루 종일 맑았지만, 내일은 비가 올 예정입니다.</p>\n",
    "</body>\n",
    "```\n",
    "<body>\n",
    "  <p>지금까지 스포츠 뉴스였습니다.</p>\n",
    "  <hr>\n",
    "  <p>날씨 예보입니다. 오늘은 하루 종일 맑았지만, 내일은 비가 올 예정입니다.</p>\n",
    "</body>"
   ]
  },
  {
   "cell_type": "markdown",
   "id": "85c2ed97",
   "metadata": {},
   "source": [
    "```\n",
    "<body>\n",
    "  <p>지금까지 스포츠 뉴스였습니다.</p>\n",
    "  <hr color=\"purple\" size=\"10\">\n",
    "  <p>날씨 예보입니다. 오늘은 하루 종일 맑았지만, 내일은 비가 올 예정입니다.</p>\n",
    "</body>\n",
    "```\n",
    "<body>\n",
    "  <p>지금까지 스포츠 뉴스였습니다.</p>\n",
    "  <hr color=\"purple\" size=\"10\">\n",
    "  <p>날씨 예보입니다. 오늘은 하루 종일 맑았지만, 내일은 비가 올 예정입니다.</p>\n",
    "</body>"
   ]
  },
  {
   "cell_type": "markdown",
   "id": "f0de9c9a",
   "metadata": {},
   "source": [
    "* HTML 특징\n",
    "\n",
    "    - 여러 스페이스는 1개의 스페이스로 취급\n",
    "    - 엔터를 통한 줄바꿈은 줄바꿈으로 치지 않음"
   ]
  },
  {
   "cell_type": "markdown",
   "id": "2bdf1bd3",
   "metadata": {},
   "source": [
    "```\n",
    "<body>\n",
    "  <p>구워먹고 볶아먹는 참 좋은 표고버섯, 나오셔서 구경하세요.</p>\n",
    "  <p>구워먹고 볶아먹는 참 좋은 표고\n",
    "\n",
    "\n",
    "\n",
    "\n",
    "    버섯, 나오셔서 \n",
    "\n",
    "    구경하세요.</p>\n",
    "</body>\n",
    "```\n",
    "---\n",
    "<body>\n",
    "  <p>구워먹고 볶아먹는 참 좋은 표고버섯, 나오셔서 구경하세요.</p>\n",
    "  <p>구워먹고 볶아먹는 참 좋은 표고\n",
    "\n",
    "\n",
    "\n",
    "\n",
    "    버섯, 나오셔서 \n",
    "\n",
    "    구경하세요.</p>\n",
    "</body>"
   ]
  },
  {
   "cell_type": "markdown",
   "id": "94a681b1",
   "metadata": {},
   "source": [
    "<hr>"
   ]
  },
  {
   "cell_type": "markdown",
   "id": "5c31ca76",
   "metadata": {},
   "source": [
    "- 따라서 보통 개행은 `<br>`을 통해 함"
   ]
  },
  {
   "cell_type": "markdown",
   "id": "09d462e8",
   "metadata": {},
   "source": [
    "```\n",
    "<body>\n",
    "  <p>\n",
    "    비가 오나 <br>\n",
    "    눈이 오나 <br>\n",
    "    바람이 부나\n",
    "  </p>\n",
    "  <p>\n",
    "    비가 오나\n",
    "    눈이 오나 \n",
    "    바람이 부나\n",
    "  </p>\n",
    "</body>\n",
    "```\n",
    "---\n",
    "<body>\n",
    "  <p>\n",
    "    비가 오나 <br>\n",
    "    눈이 오나 <br>\n",
    "    바람이 부나\n",
    "  </p>\n",
    "  <p>\n",
    "    비가 오나\n",
    "    눈이 오나 \n",
    "    바람이 부나\n",
    "  </p>\n",
    "</body>"
   ]
  },
  {
   "cell_type": "code",
   "execution_count": null,
   "id": "26983db6",
   "metadata": {},
   "outputs": [],
   "source": []
  }
 ],
 "metadata": {
  "kernelspec": {
   "display_name": "Python 3 (ipykernel)",
   "language": "python",
   "name": "python3"
  },
  "language_info": {
   "codemirror_mode": {
    "name": "ipython",
    "version": 3
   },
   "file_extension": ".py",
   "mimetype": "text/x-python",
   "name": "python",
   "nbconvert_exporter": "python",
   "pygments_lexer": "ipython3",
   "version": "3.7.10"
  },
  "toc": {
   "base_numbering": 1,
   "nav_menu": {},
   "number_sections": true,
   "sideBar": true,
   "skip_h1_title": false,
   "title_cell": "Table of Contents",
   "title_sidebar": "Contents",
   "toc_cell": false,
   "toc_position": {},
   "toc_section_display": true,
   "toc_window_display": false
  }
 },
 "nbformat": 4,
 "nbformat_minor": 5
}
